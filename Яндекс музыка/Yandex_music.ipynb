{
 "cells": [
  {
   "cell_type": "markdown",
   "metadata": {
    "id": "E0vqbgi9ay0H"
   },
   "source": [
    "# Яндекс.Музыка"
   ]
  },
  {
   "cell_type": "markdown",
   "metadata": {
    "id": "VUC88oWjTJw2"
   },
   "source": [
    "Сравнение Москвы и Петербурга окружено мифами. Например:\n",
    " * Москва — мегаполис, подчинённый жёсткому ритму рабочей недели;\n",
    " * Петербург — культурная столица, со своими вкусами.\n",
    "\n",
    "На данных Яндекс.Музыки вы сравните поведение пользователей двух столиц.\n",
    "\n",
    "**Цель исследования** — проверьте три гипотезы:\n",
    "1. Активность пользователей зависит от дня недели. Причём в Москве и Петербурге это проявляется по-разному.\n",
    "2. В понедельник утром в Москве преобладают одни жанры, а в Петербурге — другие. Так же и вечером пятницы преобладают разные жанры — в зависимости от города. \n",
    "3. Москва и Петербург предпочитают разные жанры музыки. В Москве чаще слушают поп-музыку, в Петербурге — русский рэп.\n",
    "\n",
    "**Ход исследования**\n",
    "\n",
    "Данные о поведении пользователей вы получите из файла `yandex_music_project.csv`. О качестве данных ничего не известно. Поэтому перед проверкой гипотез понадобится обзор данных. \n",
    "\n",
    "Вы проверите данные на ошибки и оцените их влияние на исследование. Затем, на этапе предобработки вы поищете возможность исправить самые критичные ошибки данных.\n",
    " \n",
    "Таким образом, исследование пройдёт в три этапа:\n",
    " 1. Обзор данных.\n",
    " 2. Предобработка данных.\n",
    " 3. Проверка гипотез.\n",
    "\n"
   ]
  },
  {
   "cell_type": "markdown",
   "metadata": {
    "id": "Ml1hmfXC_Zcs"
   },
   "source": [
    "## Обзор данных"
   ]
  },
  {
   "cell_type": "code",
   "execution_count": 1,
   "metadata": {
    "id": "AXN7PHPN_Zcs"
   },
   "outputs": [],
   "source": [
    "import pandas as pd # импорт библиотеки pandas"
   ]
  },
  {
   "cell_type": "code",
   "execution_count": 2,
   "metadata": {
    "id": "fFVu7vqh_Zct"
   },
   "outputs": [],
   "source": [
    "df = pd.read_csv('/datasets/yandex_music_project.csv') # Читам csv файл и сохраняем его в переменную df"
   ]
  },
  {
   "cell_type": "code",
   "execution_count": 3,
   "metadata": {
    "id": "oWTVX3gW_Zct"
   },
   "outputs": [
    {
     "data": {
      "text/html": [
       "<div>\n",
       "<style scoped>\n",
       "    .dataframe tbody tr th:only-of-type {\n",
       "        vertical-align: middle;\n",
       "    }\n",
       "\n",
       "    .dataframe tbody tr th {\n",
       "        vertical-align: top;\n",
       "    }\n",
       "\n",
       "    .dataframe thead th {\n",
       "        text-align: right;\n",
       "    }\n",
       "</style>\n",
       "<table border=\"1\" class=\"dataframe\">\n",
       "  <thead>\n",
       "    <tr style=\"text-align: right;\">\n",
       "      <th></th>\n",
       "      <th>userID</th>\n",
       "      <th>Track</th>\n",
       "      <th>artist</th>\n",
       "      <th>genre</th>\n",
       "      <th>City</th>\n",
       "      <th>time</th>\n",
       "      <th>Day</th>\n",
       "    </tr>\n",
       "  </thead>\n",
       "  <tbody>\n",
       "    <tr>\n",
       "      <th>0</th>\n",
       "      <td>FFB692EC</td>\n",
       "      <td>Kamigata To Boots</td>\n",
       "      <td>The Mass Missile</td>\n",
       "      <td>rock</td>\n",
       "      <td>Saint-Petersburg</td>\n",
       "      <td>20:28:33</td>\n",
       "      <td>Wednesday</td>\n",
       "    </tr>\n",
       "    <tr>\n",
       "      <th>1</th>\n",
       "      <td>55204538</td>\n",
       "      <td>Delayed Because of Accident</td>\n",
       "      <td>Andreas Rönnberg</td>\n",
       "      <td>rock</td>\n",
       "      <td>Moscow</td>\n",
       "      <td>14:07:09</td>\n",
       "      <td>Friday</td>\n",
       "    </tr>\n",
       "    <tr>\n",
       "      <th>2</th>\n",
       "      <td>20EC38</td>\n",
       "      <td>Funiculì funiculà</td>\n",
       "      <td>Mario Lanza</td>\n",
       "      <td>pop</td>\n",
       "      <td>Saint-Petersburg</td>\n",
       "      <td>20:58:07</td>\n",
       "      <td>Wednesday</td>\n",
       "    </tr>\n",
       "    <tr>\n",
       "      <th>3</th>\n",
       "      <td>A3DD03C9</td>\n",
       "      <td>Dragons in the Sunset</td>\n",
       "      <td>Fire + Ice</td>\n",
       "      <td>folk</td>\n",
       "      <td>Saint-Petersburg</td>\n",
       "      <td>08:37:09</td>\n",
       "      <td>Monday</td>\n",
       "    </tr>\n",
       "    <tr>\n",
       "      <th>4</th>\n",
       "      <td>E2DC1FAE</td>\n",
       "      <td>Soul People</td>\n",
       "      <td>Space Echo</td>\n",
       "      <td>dance</td>\n",
       "      <td>Moscow</td>\n",
       "      <td>08:34:34</td>\n",
       "      <td>Monday</td>\n",
       "    </tr>\n",
       "    <tr>\n",
       "      <th>5</th>\n",
       "      <td>842029A1</td>\n",
       "      <td>Преданная</td>\n",
       "      <td>IMPERVTOR</td>\n",
       "      <td>rusrap</td>\n",
       "      <td>Saint-Petersburg</td>\n",
       "      <td>13:09:41</td>\n",
       "      <td>Friday</td>\n",
       "    </tr>\n",
       "    <tr>\n",
       "      <th>6</th>\n",
       "      <td>4CB90AA5</td>\n",
       "      <td>True</td>\n",
       "      <td>Roman Messer</td>\n",
       "      <td>dance</td>\n",
       "      <td>Moscow</td>\n",
       "      <td>13:00:07</td>\n",
       "      <td>Wednesday</td>\n",
       "    </tr>\n",
       "    <tr>\n",
       "      <th>7</th>\n",
       "      <td>F03E1C1F</td>\n",
       "      <td>Feeling This Way</td>\n",
       "      <td>Polina Griffith</td>\n",
       "      <td>dance</td>\n",
       "      <td>Moscow</td>\n",
       "      <td>20:47:49</td>\n",
       "      <td>Wednesday</td>\n",
       "    </tr>\n",
       "    <tr>\n",
       "      <th>8</th>\n",
       "      <td>8FA1D3BE</td>\n",
       "      <td>И вновь продолжается бой</td>\n",
       "      <td>NaN</td>\n",
       "      <td>ruspop</td>\n",
       "      <td>Moscow</td>\n",
       "      <td>09:17:40</td>\n",
       "      <td>Friday</td>\n",
       "    </tr>\n",
       "    <tr>\n",
       "      <th>9</th>\n",
       "      <td>E772D5C0</td>\n",
       "      <td>Pessimist</td>\n",
       "      <td>NaN</td>\n",
       "      <td>dance</td>\n",
       "      <td>Saint-Petersburg</td>\n",
       "      <td>21:20:49</td>\n",
       "      <td>Wednesday</td>\n",
       "    </tr>\n",
       "  </tbody>\n",
       "</table>\n",
       "</div>"
      ],
      "text/plain": [
       "     userID                        Track            artist   genre  \\\n",
       "0  FFB692EC            Kamigata To Boots  The Mass Missile    rock   \n",
       "1  55204538  Delayed Because of Accident  Andreas Rönnberg    rock   \n",
       "2    20EC38            Funiculì funiculà       Mario Lanza     pop   \n",
       "3  A3DD03C9        Dragons in the Sunset        Fire + Ice    folk   \n",
       "4  E2DC1FAE                  Soul People        Space Echo   dance   \n",
       "5  842029A1                    Преданная         IMPERVTOR  rusrap   \n",
       "6  4CB90AA5                         True      Roman Messer   dance   \n",
       "7  F03E1C1F             Feeling This Way   Polina Griffith   dance   \n",
       "8  8FA1D3BE     И вновь продолжается бой               NaN  ruspop   \n",
       "9  E772D5C0                    Pessimist               NaN   dance   \n",
       "\n",
       "             City        time        Day  \n",
       "0  Saint-Petersburg  20:28:33  Wednesday  \n",
       "1            Moscow  14:07:09     Friday  \n",
       "2  Saint-Petersburg  20:58:07  Wednesday  \n",
       "3  Saint-Petersburg  08:37:09     Monday  \n",
       "4            Moscow  08:34:34     Monday  \n",
       "5  Saint-Petersburg  13:09:41     Friday  \n",
       "6            Moscow  13:00:07  Wednesday  \n",
       "7            Moscow  20:47:49  Wednesday  \n",
       "8            Moscow  09:17:40     Friday  \n",
       "9  Saint-Petersburg  21:20:49  Wednesday  "
      ]
     },
     "execution_count": 3,
     "metadata": {},
     "output_type": "execute_result"
    }
   ],
   "source": [
    "df.head(10) # получение первых 10 строк таблицы df"
   ]
  },
  {
   "cell_type": "markdown",
   "metadata": {
    "id": "EO73Kwic_Zct"
   },
   "source": [
    "Одной командой получить общую информацию о таблице:"
   ]
  },
  {
   "cell_type": "code",
   "execution_count": 4,
   "metadata": {
    "id": "DSf2kIb-_Zct",
    "scrolled": true
   },
   "outputs": [
    {
     "name": "stdout",
     "output_type": "stream",
     "text": [
      "<class 'pandas.core.frame.DataFrame'>\n",
      "RangeIndex: 65079 entries, 0 to 65078\n",
      "Data columns (total 7 columns):\n",
      " #   Column    Non-Null Count  Dtype \n",
      "---  ------    --------------  ----- \n",
      " 0     userID  65079 non-null  object\n",
      " 1   Track     63848 non-null  object\n",
      " 2   artist    57876 non-null  object\n",
      " 3   genre     63881 non-null  object\n",
      " 4     City    65079 non-null  object\n",
      " 5   time      65079 non-null  object\n",
      " 6   Day       65079 non-null  object\n",
      "dtypes: object(7)\n",
      "memory usage: 3.5+ MB\n"
     ]
    }
   ],
   "source": [
    "df.info() #получение общей информации о данных в таблице df"
   ]
  },
  {
   "cell_type": "markdown",
   "metadata": {
    "id": "TaQ2Iwbr_Zct"
   },
   "source": [
    "Итак, в таблице семь столбцов. Тип данных во всех столбцах — `object`.\n",
    "\n",
    "Согласно документации к данным:\n",
    "* `userID` — идентификатор пользователя;\n",
    "* `Track` — название трека;  \n",
    "* `artist` — имя исполнителя;\n",
    "* `genre` — название жанра;\n",
    "* `City` — город пользователя;\n",
    "* `time` — время начала прослушивания;\n",
    "* `Day` — день недели.\n",
    "\n",
    "В названиях колонок видны три нарушения стиля:\n",
    "1. Строчные буквы сочетаются с прописными.\n",
    "2. Встречаются пробелы.\n",
    "3. В названии колонки artist присутствует символ \"/\" после пробела. Названия колонок \"съехали\" относительно значений под ними.\n",
    "4.user_id\n",
    "\n",
    "\n",
    "\n",
    "Количество значений в столбцах различается. Значит, в данных есть пропущенные значения.\n"
   ]
  },
  {
   "cell_type": "markdown",
   "metadata": {
    "id": "MCB6-dXG_Zct"
   },
   "source": [
    "**Выводы**\n",
    "\n",
    "В каждой строке таблицы — данные о прослушанном треке. Часть колонок описывает саму композицию: название, исполнителя и жанр. Остальные данные рассказывают о пользователе: из какого он города, когда он слушал музыку. \n",
    "\n",
    "Предварительно можно утверждать, что, данных достаточно для проверки гипотез. Но встречаются пропуски в данных, а в названиях колонок — расхождения с хорошим стилем.\n",
    "\n",
    "Чтобы двигаться дальше, нужно устранить проблемы в данных."
   ]
  },
  {
   "cell_type": "markdown",
   "metadata": {
    "id": "SjYF6Ub9_Zct"
   },
   "source": [
    "## Предобработка данных\n",
    "Исправьте стиль в заголовках столбцов, исключите пропуски. Затем проверьте данные на дубликаты."
   ]
  },
  {
   "cell_type": "markdown",
   "metadata": {
    "id": "dIaKXr29_Zct"
   },
   "source": [
    "### Стиль заголовков\n",
    "Выведите на экран названия столбцов:"
   ]
  },
  {
   "cell_type": "code",
   "execution_count": 5,
   "metadata": {
    "id": "oKOTdF_Q_Zct"
   },
   "outputs": [
    {
     "data": {
      "text/plain": [
       "Index(['  userID', 'Track', 'artist', 'genre', '  City  ', 'time', 'Day'], dtype='object')"
      ]
     },
     "execution_count": 5,
     "metadata": {},
     "output_type": "execute_result"
    }
   ],
   "source": [
    "df.columns #выводим названия столбцов на экран"
   ]
  },
  {
   "cell_type": "markdown",
   "metadata": {
    "id": "zj5534cv_Zct"
   },
   "source": [
    "Приведите названия в соответствие с хорошим стилем:\n",
    "* несколько слов в названии запишите в «змеином_регистре»,\n",
    "* все символы сделайте строчными,\n",
    "* устраните пробелы.\n",
    "\n",
    "Для этого переименуйте колонки так:\n",
    "* `'  userID'` → `'user_id'`;\n",
    "* `'Track'` → `'track'`;\n",
    "* `'  City  '` → `'city'`;\n",
    "* `'Day'` → `'day'`."
   ]
  },
  {
   "cell_type": "code",
   "execution_count": 6,
   "metadata": {
    "id": "ISlFqs5y_Zct"
   },
   "outputs": [],
   "source": [
    "df = df.rename(columns ={ '  userID' : 'user_id', 'Track' : 'track',\n",
    "'  City  ' : 'city','Day' :'day' }) #переименование столбцов"
   ]
  },
  {
   "cell_type": "markdown",
   "metadata": {
    "id": "1dqbh00J_Zct"
   },
   "source": [
    "Проверьте результат. Для этого ещё раз выведите на экран названия столбцов:"
   ]
  },
  {
   "cell_type": "code",
   "execution_count": 7,
   "metadata": {
    "id": "d4NOAmTW_Zct"
   },
   "outputs": [
    {
     "data": {
      "text/plain": [
       "Index(['user_id', 'track', 'artist', 'genre', 'city', 'time', 'day'], dtype='object')"
      ]
     },
     "execution_count": 7,
     "metadata": {},
     "output_type": "execute_result"
    }
   ],
   "source": [
    "df.columns #выводим названия столбцов на экран после их редактирования"
   ]
  },
  {
   "cell_type": "markdown",
   "metadata": {
    "id": "5ISfbcfY_Zct"
   },
   "source": [
    "### Пропуски значений\n",
    "Сначала посчитайте, сколько в таблице пропущенных значений. Для этого достаточно двух методов `pandas`:"
   ]
  },
  {
   "cell_type": "code",
   "execution_count": 8,
   "metadata": {
    "id": "RskX29qr_Zct"
   },
   "outputs": [
    {
     "data": {
      "text/plain": [
       "user_id       0\n",
       "track      1231\n",
       "artist     7203\n",
       "genre      1198\n",
       "city          0\n",
       "time          0\n",
       "day           0\n",
       "dtype: int64"
      ]
     },
     "execution_count": 8,
     "metadata": {},
     "output_type": "execute_result"
    }
   ],
   "source": [
    "df.isna().sum()\n",
    "# подсчёт пропусков"
   ]
  },
  {
   "cell_type": "markdown",
   "metadata": {
    "id": "qubhgnlO_Zct"
   },
   "source": [
    "Не все пропущенные значения влияют на исследование. Так в `track` и `artist` пропуски не важны для вашей работы. Достаточно заменить их явными обозначениями.\n",
    "\n",
    "Но пропуски в `genre` могут помешать сравнению музыкальных вкусов в Москве и Санкт-Петербурге. На практике было бы правильно установить причину пропусков и восстановить данные. Такой возможности нет в учебном проекте. Придётся:\n",
    "* заполнить и эти пропуски явными обозначениями,\n",
    "* оценить, насколько они повредят расчётам. \n",
    "\n",
    "Замените пропущенные значения в столбцах `track`, `artist` и `genre` на строку `'unknown'`. Для этого создайте список `columns_to_replace`, переберите его элементы циклом `for` и для каждого столбца выполните замену пропущенных значений:"
   ]
  },
  {
   "cell_type": "code",
   "execution_count": 9,
   "metadata": {
    "id": "KplB5qWs_Zct"
   },
   "outputs": [],
   "source": [
    "columns_to_replace = ['track','artist','genre']\n",
    "for column in columns_to_replace:\n",
    "    df[column] = df[column].fillna('unknowm')    # перебор названий столбцов в цикле и замена пропущенных значений на 'unknown'"
   ]
  },
  {
   "cell_type": "markdown",
   "metadata": {
    "id": "Ilsm-MZo_Zct"
   },
   "source": [
    "Убедитесь, что в таблице не осталось пропусков. Для этого ещё раз посчитайте пропущенные значения."
   ]
  },
  {
   "cell_type": "code",
   "execution_count": 10,
   "metadata": {
    "id": "Tq4nYRX4_Zct"
   },
   "outputs": [
    {
     "data": {
      "text/plain": [
       "user_id    0\n",
       "track      0\n",
       "artist     0\n",
       "genre      0\n",
       "city       0\n",
       "time       0\n",
       "day        0\n",
       "dtype: int64"
      ]
     },
     "execution_count": 10,
     "metadata": {},
     "output_type": "execute_result"
    }
   ],
   "source": [
    "df.isna().sum() # подсчёт пропусков, после замены пропусков в собцах 'track','artist','genre' на 'unknown'"
   ]
  },
  {
   "cell_type": "markdown",
   "metadata": {
    "id": "BWKRtBJ3_Zct"
   },
   "source": [
    "### Дубликаты\n",
    "Посчитайте явные дубликаты в таблице одной командой:"
   ]
  },
  {
   "cell_type": "code",
   "execution_count": 11,
   "metadata": {
    "id": "36eES_S0_Zct"
   },
   "outputs": [
    {
     "data": {
      "text/plain": [
       "3826"
      ]
     },
     "execution_count": 11,
     "metadata": {},
     "output_type": "execute_result"
    }
   ],
   "source": [
    "df.duplicated().sum() # подсчёт явных дубликатов"
   ]
  },
  {
   "cell_type": "markdown",
   "metadata": {
    "id": "Ot25h6XR_Zct"
   },
   "source": [
    "Вызовите специальный метод `pandas`, чтобы удалить явные дубликаты:"
   ]
  },
  {
   "cell_type": "code",
   "execution_count": 12,
   "metadata": {
    "id": "exFHq6tt_Zct"
   },
   "outputs": [],
   "source": [
    "df=df.drop_duplicates().reset_index(drop=True) # удаление явных дубликатов (с удалением старых индексов и формированием новых)"
   ]
  },
  {
   "cell_type": "markdown",
   "metadata": {
    "id": "Im2YwBEG_Zct"
   },
   "source": [
    "Ещё раз посчитайте явные дубликаты в таблице — убедитесь, что полностью от них избавились:"
   ]
  },
  {
   "cell_type": "code",
   "execution_count": 13,
   "metadata": {
    "id": "-8PuNWQ0_Zct"
   },
   "outputs": [
    {
     "data": {
      "text/plain": [
       "0"
      ]
     },
     "execution_count": 13,
     "metadata": {},
     "output_type": "execute_result"
    }
   ],
   "source": [
    "df.duplicated().sum() # проверка на отсутствие дубликатов после удаления их через команду Pandas"
   ]
  },
  {
   "cell_type": "markdown",
   "metadata": {
    "id": "QlFBsxAr_Zct"
   },
   "source": [
    "Теперь избавьтесь от неявных дубликатов в колонке `genre`. Например, название одного и того же жанра может быть записано немного по-разному. Такие ошибки тоже повлияют на результат исследования."
   ]
  },
  {
   "cell_type": "markdown",
   "metadata": {
    "id": "eSjWwsOh_Zct"
   },
   "source": [
    "Выведите на экран список уникальных названий жанров, отсортированный в алфавитном порядке. Для этого:\n",
    "* извлеките нужный столбец датафрейма, \n",
    "* примените к нему метод сортировки,\n",
    "* для отсортированного столбца вызовите метод, который вернёт уникальные значения из столбца."
   ]
  },
  {
   "cell_type": "code",
   "execution_count": 14,
   "metadata": {
    "id": "JIUcqzZN_Zct"
   },
   "outputs": [
    {
     "data": {
      "text/plain": [
       "array(['acid', 'acoustic', 'action', 'adult', 'africa', 'afrikaans',\n",
       "       'alternative', 'alternativepunk', 'ambient', 'americana',\n",
       "       'animated', 'anime', 'arabesk', 'arabic', 'arena',\n",
       "       'argentinetango', 'art', 'audiobook', 'author', 'avantgarde',\n",
       "       'axé', 'baile', 'balkan', 'beats', 'bigroom', 'black', 'bluegrass',\n",
       "       'blues', 'bollywood', 'bossa', 'brazilian', 'breakbeat', 'breaks',\n",
       "       'broadway', 'cantautori', 'cantopop', 'canzone', 'caribbean',\n",
       "       'caucasian', 'celtic', 'chamber', 'chanson', 'children', 'chill',\n",
       "       'chinese', 'choral', 'christian', 'christmas', 'classical',\n",
       "       'classicmetal', 'club', 'colombian', 'comedy', 'conjazz',\n",
       "       'contemporary', 'country', 'cuban', 'dance', 'dancehall',\n",
       "       'dancepop', 'dark', 'death', 'deep', 'deutschrock', 'deutschspr',\n",
       "       'dirty', 'disco', 'dnb', 'documentary', 'downbeat', 'downtempo',\n",
       "       'drum', 'dub', 'dubstep', 'eastern', 'easy', 'electronic',\n",
       "       'electropop', 'emo', 'entehno', 'epicmetal', 'estrada', 'ethnic',\n",
       "       'eurofolk', 'european', 'experimental', 'extrememetal', 'fado',\n",
       "       'fairytail', 'film', 'fitness', 'flamenco', 'folk', 'folklore',\n",
       "       'folkmetal', 'folkrock', 'folktronica', 'forró', 'frankreich',\n",
       "       'französisch', 'french', 'funk', 'future', 'gangsta', 'garage',\n",
       "       'german', 'ghazal', 'gitarre', 'glitch', 'gospel', 'gothic',\n",
       "       'grime', 'grunge', 'gypsy', 'handsup', \"hard'n'heavy\", 'hardcore',\n",
       "       'hardstyle', 'hardtechno', 'hip', 'hip-hop', 'hiphop',\n",
       "       'historisch', 'holiday', 'hop', 'horror', 'house', 'hymn', 'idm',\n",
       "       'independent', 'indian', 'indie', 'indipop', 'industrial',\n",
       "       'inspirational', 'instrumental', 'international', 'irish', 'jam',\n",
       "       'japanese', 'jazz', 'jewish', 'jpop', 'jungle', 'k-pop',\n",
       "       'karadeniz', 'karaoke', 'kayokyoku', 'korean', 'laiko', 'latin',\n",
       "       'latino', 'leftfield', 'local', 'lounge', 'loungeelectronic',\n",
       "       'lovers', 'malaysian', 'mandopop', 'marschmusik', 'meditative',\n",
       "       'mediterranean', 'melodic', 'metal', 'metalcore', 'mexican',\n",
       "       'middle', 'minimal', 'miscellaneous', 'modern', 'mood', 'mpb',\n",
       "       'muslim', 'native', 'neoklassik', 'neue', 'new', 'newage',\n",
       "       'newwave', 'nu', 'nujazz', 'numetal', 'oceania', 'old', 'opera',\n",
       "       'orchestral', 'other', 'piano', 'podcasts', 'pop', 'popdance',\n",
       "       'popelectronic', 'popeurodance', 'poprussian', 'post',\n",
       "       'posthardcore', 'postrock', 'power', 'progmetal', 'progressive',\n",
       "       'psychedelic', 'punjabi', 'punk', 'quebecois', 'ragga', 'ram',\n",
       "       'rancheras', 'rap', 'rave', 'reggae', 'reggaeton', 'regional',\n",
       "       'relax', 'religious', 'retro', 'rhythm', 'rnb', 'rnr', 'rock',\n",
       "       'rockabilly', 'rockalternative', 'rockindie', 'rockother',\n",
       "       'romance', 'roots', 'ruspop', 'rusrap', 'rusrock', 'russian',\n",
       "       'salsa', 'samba', 'scenic', 'schlager', 'self', 'sertanejo',\n",
       "       'shanson', 'shoegazing', 'showtunes', 'singer', 'ska', 'skarock',\n",
       "       'slow', 'smooth', 'soft', 'soul', 'soulful', 'sound', 'soundtrack',\n",
       "       'southern', 'specialty', 'speech', 'spiritual', 'sport',\n",
       "       'stonerrock', 'surf', 'swing', 'synthpop', 'synthrock',\n",
       "       'sängerportrait', 'tango', 'tanzorchester', 'taraftar', 'tatar',\n",
       "       'tech', 'techno', 'teen', 'thrash', 'top', 'traditional',\n",
       "       'tradjazz', 'trance', 'tribal', 'trip', 'triphop', 'tropical',\n",
       "       'türk', 'türkçe', 'ukrrock', 'unknowm', 'urban', 'uzbek',\n",
       "       'variété', 'vi', 'videogame', 'vocal', 'western', 'world',\n",
       "       'worldbeat', 'ïîï', 'электроника'], dtype=object)"
      ]
     },
     "execution_count": 14,
     "metadata": {},
     "output_type": "execute_result"
    }
   ],
   "source": [
    "df1= df.sort_values(by = 'genre')\n",
    "df1['genre'].unique() # Просмотр уникальных названий жанров"
   ]
  },
  {
   "cell_type": "markdown",
   "metadata": {
    "id": "qej-Qmuo_Zct"
   },
   "source": [
    "Просмотрите список и найдите неявные дубликаты названия `hiphop`. Это могут быть названия с ошибками или альтернативные названия того же жанра.\n",
    "\n",
    "Вы увидите следующие неявные дубликаты:\n",
    "* *hip*,\n",
    "* *hop*,\n",
    "* *hip-hop*.\n",
    "\n",
    "Чтобы очистить от них таблицу, напишите функцию `replace_wrong_genres()` с двумя параметрами: \n",
    "* `wrong_genres` — список дубликатов,\n",
    "* `correct_genre` — строка с правильным значением.\n",
    "\n",
    "Функция должна исправить колонку `genre` в таблице `df`: заменить каждое значение из списка `wrong_genres` на значение из `correct_genre`."
   ]
  },
  {
   "cell_type": "code",
   "execution_count": 15,
   "metadata": {
    "id": "ErNDkmns_Zct"
   },
   "outputs": [],
   "source": [
    "def replace_wrong_genres(wrong_genres,correct_genre):# на вход функции подаются список неправильных значений и строка с правильным значением\n",
    "\n",
    "    for wrong in wrong_genres: # перебираем неявные дубликаты \n",
    "        df['genre']= df['genre'].replace(wrong, correct_genre) # Функция для замены неявных дубликатов"
   ]
  },
  {
   "cell_type": "markdown",
   "metadata": {
    "id": "aDoBJxbA_Zct"
   },
   "source": [
    "Вызовите `replace_wrong_genres()` и передайте ей такие аргументы, чтобы она устранила неявные дубликаты: вместо `hip`, `hop` и `hip-hop` в таблице должно быть значение `hiphop`:"
   ]
  },
  {
   "cell_type": "code",
   "execution_count": 16,
   "metadata": {
    "id": "YN5i2hpmSo09"
   },
   "outputs": [],
   "source": [
    "duplicates = ['hip', 'hop', 'hip-hop'] # Список неправильных названий жанров\n",
    "correct = 'hiphop' # Список правильного названия жанров\n",
    "replace_wrong_genres(duplicates, correct) #Вызовите replace_wrong_genres()\n",
    "\n"
   ]
  },
  {
   "cell_type": "markdown",
   "metadata": {
    "id": "zQKF16_RG15m"
   },
   "source": [
    "Проверьте, что заменили неправильные названия:\n",
    "\n",
    "*   hip\n",
    "*   hop\n",
    "*   hip-hop\n",
    "\n",
    "Выведите отсортированный список уникальных значений столбца `genre`:"
   ]
  },
  {
   "cell_type": "code",
   "execution_count": 17,
   "metadata": {
    "id": "wvixALnFG15m"
   },
   "outputs": [
    {
     "data": {
      "text/plain": [
       "array(['acid', 'acoustic', 'action', 'adult', 'africa', 'afrikaans',\n",
       "       'alternative', 'alternativepunk', 'ambient', 'americana',\n",
       "       'animated', 'anime', 'arabesk', 'arabic', 'arena',\n",
       "       'argentinetango', 'art', 'audiobook', 'author', 'avantgarde',\n",
       "       'axé', 'baile', 'balkan', 'beats', 'bigroom', 'black', 'bluegrass',\n",
       "       'blues', 'bollywood', 'bossa', 'brazilian', 'breakbeat', 'breaks',\n",
       "       'broadway', 'cantautori', 'cantopop', 'canzone', 'caribbean',\n",
       "       'caucasian', 'celtic', 'chamber', 'chanson', 'children', 'chill',\n",
       "       'chinese', 'choral', 'christian', 'christmas', 'classical',\n",
       "       'classicmetal', 'club', 'colombian', 'comedy', 'conjazz',\n",
       "       'contemporary', 'country', 'cuban', 'dance', 'dancehall',\n",
       "       'dancepop', 'dark', 'death', 'deep', 'deutschrock', 'deutschspr',\n",
       "       'dirty', 'disco', 'dnb', 'documentary', 'downbeat', 'downtempo',\n",
       "       'drum', 'dub', 'dubstep', 'eastern', 'easy', 'electronic',\n",
       "       'electropop', 'emo', 'entehno', 'epicmetal', 'estrada', 'ethnic',\n",
       "       'eurofolk', 'european', 'experimental', 'extrememetal', 'fado',\n",
       "       'fairytail', 'film', 'fitness', 'flamenco', 'folk', 'folklore',\n",
       "       'folkmetal', 'folkrock', 'folktronica', 'forró', 'frankreich',\n",
       "       'französisch', 'french', 'funk', 'future', 'gangsta', 'garage',\n",
       "       'german', 'ghazal', 'gitarre', 'glitch', 'gospel', 'gothic',\n",
       "       'grime', 'grunge', 'gypsy', 'handsup', \"hard'n'heavy\", 'hardcore',\n",
       "       'hardstyle', 'hardtechno', 'hiphop', 'historisch', 'holiday',\n",
       "       'horror', 'house', 'hymn', 'idm', 'independent', 'indian', 'indie',\n",
       "       'indipop', 'industrial', 'inspirational', 'instrumental',\n",
       "       'international', 'irish', 'jam', 'japanese', 'jazz', 'jewish',\n",
       "       'jpop', 'jungle', 'k-pop', 'karadeniz', 'karaoke', 'kayokyoku',\n",
       "       'korean', 'laiko', 'latin', 'latino', 'leftfield', 'local',\n",
       "       'lounge', 'loungeelectronic', 'lovers', 'malaysian', 'mandopop',\n",
       "       'marschmusik', 'meditative', 'mediterranean', 'melodic', 'metal',\n",
       "       'metalcore', 'mexican', 'middle', 'minimal', 'miscellaneous',\n",
       "       'modern', 'mood', 'mpb', 'muslim', 'native', 'neoklassik', 'neue',\n",
       "       'new', 'newage', 'newwave', 'nu', 'nujazz', 'numetal', 'oceania',\n",
       "       'old', 'opera', 'orchestral', 'other', 'piano', 'podcasts', 'pop',\n",
       "       'popdance', 'popelectronic', 'popeurodance', 'poprussian', 'post',\n",
       "       'posthardcore', 'postrock', 'power', 'progmetal', 'progressive',\n",
       "       'psychedelic', 'punjabi', 'punk', 'quebecois', 'ragga', 'ram',\n",
       "       'rancheras', 'rap', 'rave', 'reggae', 'reggaeton', 'regional',\n",
       "       'relax', 'religious', 'retro', 'rhythm', 'rnb', 'rnr', 'rock',\n",
       "       'rockabilly', 'rockalternative', 'rockindie', 'rockother',\n",
       "       'romance', 'roots', 'ruspop', 'rusrap', 'rusrock', 'russian',\n",
       "       'salsa', 'samba', 'scenic', 'schlager', 'self', 'sertanejo',\n",
       "       'shanson', 'shoegazing', 'showtunes', 'singer', 'ska', 'skarock',\n",
       "       'slow', 'smooth', 'soft', 'soul', 'soulful', 'sound', 'soundtrack',\n",
       "       'southern', 'specialty', 'speech', 'spiritual', 'sport',\n",
       "       'stonerrock', 'surf', 'swing', 'synthpop', 'synthrock',\n",
       "       'sängerportrait', 'tango', 'tanzorchester', 'taraftar', 'tatar',\n",
       "       'tech', 'techno', 'teen', 'thrash', 'top', 'traditional',\n",
       "       'tradjazz', 'trance', 'tribal', 'trip', 'triphop', 'tropical',\n",
       "       'türk', 'türkçe', 'ukrrock', 'unknowm', 'urban', 'uzbek',\n",
       "       'variété', 'vi', 'videogame', 'vocal', 'western', 'world',\n",
       "       'worldbeat', 'ïîï', 'электроника'], dtype=object)"
      ]
     },
     "execution_count": 17,
     "metadata": {},
     "output_type": "execute_result"
    }
   ],
   "source": [
    "df2= df.sort_values(by = 'genre')# сортируем значение в стобце genre по возрастанию. До этого сортировали через функция For\n",
    "df2['genre'].unique()# Проверка на неявные дубликаты"
   ]
  },
  {
   "cell_type": "markdown",
   "metadata": {
    "id": "jz6a9-7HQUDd"
   },
   "source": [
    "**Выводы**\n",
    "\n",
    "Предобработка обнаружила три проблемы в данных:\n",
    "\n",
    "- нарушения в стиле заголовков,\n",
    "- пропущенные значения,\n",
    "- дубликаты — явные и неявные.\n",
    "\n",
    "Вы исправили заголовки, чтобы упростить работу с таблицей. Без дубликатов исследование станет более точным.\n",
    "\n",
    "Пропущенные значения вы заменили на `'unknown'`. Ещё предстоит увидеть, не повредят ли исследованию пропуски в колонке `genre`.\n",
    "\n",
    "Теперь можно перейти к проверке гипотез. "
   ]
  },
  {
   "cell_type": "markdown",
   "metadata": {
    "id": "WttZHXH0SqKk"
   },
   "source": [
    "## Проверка гипотез"
   ]
  },
  {
   "cell_type": "markdown",
   "metadata": {
    "id": "Im936VVi_Zcu"
   },
   "source": [
    "### Сравнение поведения пользователей двух столиц"
   ]
  },
  {
   "cell_type": "markdown",
   "metadata": {
    "id": "nwt_MuaL_Zcu"
   },
   "source": [
    "Первая гипотеза утверждает, что пользователи по-разному слушают музыку в Москве и Санкт-Петербурге. Проверьте это предположение по данным о трёх днях недели — понедельнике, среде и пятнице. Для этого:\n",
    "\n",
    "* Разделите пользователей Москвы и Санкт-Петербурга\n",
    "* Сравните, сколько треков послушала каждая группа пользователей в понедельник, среду и пятницу.\n"
   ]
  },
  {
   "cell_type": "markdown",
   "metadata": {
    "id": "8Dw_YMmT_Zcu"
   },
   "source": [
    "Для тренировки сначала выполните каждый из расчётов по отдельности. \n",
    "\n",
    "Оцените активность пользователей в каждом городе. Сгруппируйте данные по городу и посчитайте прослушивания в каждой группе.\n",
    "\n"
   ]
  },
  {
   "cell_type": "code",
   "execution_count": 18,
   "metadata": {
    "id": "0_Qs96oh_Zcu"
   },
   "outputs": [
    {
     "data": {
      "text/plain": [
       "city\n",
       "Moscow              42741\n",
       "Saint-Petersburg    18512\n",
       "Name: time, dtype: int64"
      ]
     },
     "metadata": {},
     "output_type": "display_data"
    }
   ],
   "source": [
    "display (df.groupby ('city')['time'].count()) # Подсчёт прослушиваний в каждом городе"
   ]
  },
  {
   "cell_type": "markdown",
   "metadata": {
    "id": "dzli3w8o_Zcu"
   },
   "source": [
    "В Москве прослушиваний больше, чем в Петербурге. Из этого не следует, что московские пользователи чаще слушают музыку. Просто самих пользователей в Москве больше.\n",
    "\n",
    "Теперь сгруппируйте данные по дню недели и подсчитайте прослушивания в понедельник, среду и пятницу. Учтите, что в данных есть информация только о прослушиваниях только за эти дни.\n"
   ]
  },
  {
   "cell_type": "code",
   "execution_count": 19,
   "metadata": {
    "id": "uZMKjiJz_Zcu"
   },
   "outputs": [
    {
     "data": {
      "text/plain": [
       "day\n",
       "Friday       21840\n",
       "Monday       21354\n",
       "Wednesday    18059\n",
       "Name: time, dtype: int64"
      ]
     },
     "metadata": {},
     "output_type": "display_data"
    }
   ],
   "source": [
    "display (df.groupby ('day')['time'].count())# Подсчёт прослушиваний в каждый из трёх дней"
   ]
  },
  {
   "cell_type": "markdown",
   "metadata": {
    "id": "cC2tNrlL_Zcu"
   },
   "source": [
    "В среднем пользователи из двух городов менее активны по средам. Но картина может измениться, если рассмотреть каждый город в отдельности."
   ]
  },
  {
   "cell_type": "markdown",
   "metadata": {
    "id": "POzs8bGa_Zcu"
   },
   "source": [
    "Вы видели, как работает группировка по городу и по дням недели. Теперь напишите функцию, которая объединит два эти расчёта.\n",
    "\n",
    "Создайте функцию `number_tracks()`, которая посчитает прослушивания для заданного дня и города. Ей понадобятся два параметра:\n",
    "* день недели,\n",
    "* название города.\n",
    "\n",
    "В функции сохраните в переменную строки исходной таблицы, у которых значение:\n",
    "  * в колонке `day` равно параметру `day`,\n",
    "  * в колонке `city` равно параметру `city`.\n",
    "\n",
    "Для этого примените последовательную фильтрацию с логической индексацией.\n",
    "\n",
    "Затем посчитайте значения в столбце `user_id` получившейся таблицы. Результат сохраните в новую переменную. Верните эту переменную из функции."
   ]
  },
  {
   "cell_type": "code",
   "execution_count": 20,
   "metadata": {
    "id": "Nz3GdQB1_Zcu"
   },
   "outputs": [],
   "source": [
    "def number_tracks(day, city):\n",
    "    track_list = df[df['day'] == day]\n",
    "    track_list = track_list[track_list['city'] == city]\n",
    "    \n",
    "       # <создание функции number_tracks()> # Объявляется функция с двумя параметрами: day, city.# В переменной track_list сохраняются те строки таблицы df, для которых \n",
    "# значение в столбце 'day' равно параметру day и одновременно значение\n",
    "# в столбце 'city' равно параметру city (используйте последовательную фильтрацию\n",
    "# с помощью логической индексации).\n",
    "               \n",
    "    track_list_count = track_list['user_id'].count()\n",
    "    return track_list_count                  \n",
    "\n",
    "# В переменной track_list_count сохраняется число значений столбца 'user_id',\n",
    "# рассчитанное методом count() для таблицы track_list.\n",
    "# Функция возвращает число - значение track_list_count.\n",
    "\n",
    "                          \n",
    "                          \n",
    "                          \n",
    "                          \n",
    "                          \n",
    "                          \n",
    "# Функция для подсчёта прослушиваний для конкретного города и дня.\n",
    "# С помощью последовательной фильтрации с логической индексацией она \n",
    "# сначала получит из исходной таблицы строки с нужным днём,\n",
    "# затем из результата отфильтрует строки с нужным городом,\n",
    "# методом count() посчитает количество значений в колонке user_id. \n",
    "# Это количество функция вернёт в качестве результата"
   ]
  },
  {
   "cell_type": "markdown",
   "metadata": {
    "id": "ytf7xFrFJQ2r"
   },
   "source": [
    "Вызовите `number_tracks()` шесть раз, меняя значение параметров — так, чтобы получить данные для каждого города в каждый из трёх дней."
   ]
  },
  {
   "cell_type": "code",
   "execution_count": 21,
   "metadata": {
    "id": "rJcRATNQ_Zcu",
    "scrolled": true
   },
   "outputs": [
    {
     "data": {
      "text/plain": [
       "15740"
      ]
     },
     "execution_count": 21,
     "metadata": {},
     "output_type": "execute_result"
    }
   ],
   "source": [
    "number_tracks('Monday','Moscow')\n",
    "# количество прослушиваний в Москве по понедельникам"
   ]
  },
  {
   "cell_type": "code",
   "execution_count": 22,
   "metadata": {
    "id": "hq_ncZ5T_Zcu"
   },
   "outputs": [
    {
     "data": {
      "text/plain": [
       "5614"
      ]
     },
     "execution_count": 22,
     "metadata": {},
     "output_type": "execute_result"
    }
   ],
   "source": [
    "number_tracks('Monday', 'Saint-Petersburg')                            \n",
    "# количество прослушиваний в Санкт-Петербурге по понедельникам"
   ]
  },
  {
   "cell_type": "code",
   "execution_count": 23,
   "metadata": {
    "id": "_NTy2VPU_Zcu"
   },
   "outputs": [
    {
     "data": {
      "text/plain": [
       "11056"
      ]
     },
     "execution_count": 23,
     "metadata": {},
     "output_type": "execute_result"
    }
   ],
   "source": [
    "number_tracks('Wednesday', 'Moscow')              \n",
    "# количество прослушиваний в Москве по средам"
   ]
  },
  {
   "cell_type": "code",
   "execution_count": 24,
   "metadata": {
    "id": "j2y3TAwo_Zcu"
   },
   "outputs": [
    {
     "data": {
      "text/plain": [
       "7003"
      ]
     },
     "execution_count": 24,
     "metadata": {},
     "output_type": "execute_result"
    }
   ],
   "source": [
    "number_tracks('Wednesday', 'Saint-Petersburg') # количество прослушиваний в Санкт-Петербурге по средам"
   ]
  },
  {
   "cell_type": "code",
   "execution_count": 25,
   "metadata": {
    "id": "vYDw5u_K_Zcu"
   },
   "outputs": [
    {
     "data": {
      "text/plain": [
       "15945"
      ]
     },
     "execution_count": 25,
     "metadata": {},
     "output_type": "execute_result"
    }
   ],
   "source": [
    "number_tracks('Friday', 'Moscow')   # количество прослушиваний в Москве по пятницам"
   ]
  },
  {
   "cell_type": "code",
   "execution_count": 26,
   "metadata": {
    "id": "8_yzFtW3_Zcu"
   },
   "outputs": [
    {
     "data": {
      "text/plain": [
       "5895"
      ]
     },
     "execution_count": 26,
     "metadata": {},
     "output_type": "execute_result"
    }
   ],
   "source": [
    "number_tracks('Friday', 'Saint-Petersburg')# количество прослушиваний в Санкт-Петербурге по пятницам"
   ]
  },
  {
   "cell_type": "markdown",
   "metadata": {
    "id": "7QXffbO-_Zcu"
   },
   "source": [
    "Создайте c помощью конструктора `pd.DataFrame` таблицу, где\n",
    "* названия колонок — `['city', 'monday', 'wednesday', 'friday']`;\n",
    "* данные — результаты, которые вы получили с помощью `number_tracks`."
   ]
  },
  {
   "cell_type": "code",
   "execution_count": 27,
   "metadata": {
    "id": "APAcLpOr_Zcu"
   },
   "outputs": [
    {
     "data": {
      "text/html": [
       "<div>\n",
       "<style scoped>\n",
       "    .dataframe tbody tr th:only-of-type {\n",
       "        vertical-align: middle;\n",
       "    }\n",
       "\n",
       "    .dataframe tbody tr th {\n",
       "        vertical-align: top;\n",
       "    }\n",
       "\n",
       "    .dataframe thead th {\n",
       "        text-align: right;\n",
       "    }\n",
       "</style>\n",
       "<table border=\"1\" class=\"dataframe\">\n",
       "  <thead>\n",
       "    <tr style=\"text-align: right;\">\n",
       "      <th></th>\n",
       "      <th>city</th>\n",
       "      <th>Monday</th>\n",
       "      <th>Wednesday</th>\n",
       "      <th>Friday</th>\n",
       "    </tr>\n",
       "  </thead>\n",
       "  <tbody>\n",
       "    <tr>\n",
       "      <th>0</th>\n",
       "      <td>Moscow</td>\n",
       "      <td>15740</td>\n",
       "      <td>11056</td>\n",
       "      <td>15945</td>\n",
       "    </tr>\n",
       "    <tr>\n",
       "      <th>1</th>\n",
       "      <td>Saint-Petersburg</td>\n",
       "      <td>5614</td>\n",
       "      <td>7003</td>\n",
       "      <td>5895</td>\n",
       "    </tr>\n",
       "  </tbody>\n",
       "</table>\n",
       "</div>"
      ],
      "text/plain": [
       "               city  Monday  Wednesday  Friday\n",
       "0            Moscow   15740      11056   15945\n",
       "1  Saint-Petersburg    5614       7003    5895"
      ]
     },
     "execution_count": 27,
     "metadata": {},
     "output_type": "execute_result"
    }
   ],
   "source": [
    "import pandas as pd                        \n",
    "data = [\n",
    "[ 'Moscow', number_tracks('Monday', 'Moscow'),\n",
    "number_tracks('Wednesday', 'Moscow'),   \n",
    "number_tracks('Friday', 'Moscow')],    \n",
    "['Saint-Petersburg', number_tracks('Monday', 'Saint-Petersburg'),                            \n",
    "number_tracks('Wednesday', 'Saint-Petersburg'),              \n",
    "number_tracks('Friday', 'Saint-Petersburg')]\n",
    "] \n",
    "columns = ['city','Monday','Wednesday','Friday']\n",
    "table = pd.DataFrame(data = data, columns = columns)\n",
    "table "
   ]
  },
  {
   "cell_type": "markdown",
   "metadata": {
    "id": "-EgPIHYu_Zcu"
   },
   "source": [
    "**Выводы**\n",
    "\n",
    "Данные показывают разницу поведения пользователей:\n",
    "\n",
    "- В Москве пик прослушиваний приходится на понедельник и пятницу, а в среду заметен спад.\n",
    "- В Петербурге, наоборот, больше слушают музыку по средам. Активность в понедельник и пятницу здесь почти в равной мере уступает среде.\n",
    "\n",
    "Значит, данные говорят в пользу первой гипотезы."
   ]
  },
  {
   "cell_type": "markdown",
   "metadata": {
    "id": "atZAxtq4_Zcu"
   },
   "source": [
    "### Музыка в начале и в конце недели"
   ]
  },
  {
   "cell_type": "markdown",
   "metadata": {
    "id": "eXrQqXFH_Zcu"
   },
   "source": [
    "Согласно второй гипотезе, утром в понедельник в Москве преобладают одни жанры, а в Петербурге — другие. Так же и вечером пятницы преобладают разные жанры — в зависимости от города."
   ]
  },
  {
   "cell_type": "markdown",
   "metadata": {
    "id": "S8UcW6Hw_Zcu"
   },
   "source": [
    "Сохраните таблицы с данными в две переменные:\n",
    "* по Москве — в `moscow_general`;\n",
    "* по Санкт-Петербургу — в `spb_general`."
   ]
  },
  {
   "cell_type": "code",
   "execution_count": 28,
   "metadata": {
    "id": "qeaFfM_P_Zcu"
   },
   "outputs": [],
   "source": [
    "moscow_general = df[df['city']== 'Moscow']    # получение таблицы moscow_general из тех строк таблицы df, \n",
    "# для которых значение в столбце 'city' равно 'Moscow'\n"
   ]
  },
  {
   "cell_type": "code",
   "execution_count": 29,
   "metadata": {
    "id": "ORaVRKto_Zcu"
   },
   "outputs": [],
   "source": [
    "spb_general = df[df['city']== 'Saint-Petersburg'] # получение таблицы spb_general из тех строк таблицы df,\n",
    "# для которых значение в столбце 'city' равно 'Saint-Petersburg'\n"
   ]
  },
  {
   "cell_type": "markdown",
   "metadata": {
    "id": "MEJV-CX2_Zcu"
   },
   "source": [
    "Создайте функцию `genre_weekday()` с четырьмя параметрами:\n",
    "* таблица (датафрейм) с данными,\n",
    "* день недели,\n",
    "* начальная временная метка в формате 'hh:mm', \n",
    "* последняя временная метка в формате 'hh:mm'.\n",
    "\n",
    "Функция должна вернуть информацию о топ-10 жанров тех треков, которые прослушивали в указанный день, в промежутке между двумя отметками времени."
   ]
  },
  {
   "cell_type": "code",
   "execution_count": 30,
   "metadata": {
    "id": "laJT9BYl_Zcu"
   },
   "outputs": [],
   "source": [
    "def genre_weekday(table, day, time1, time2):\n",
    "    genre_df = table[table['day'] == day]\n",
    "    genre_df = genre_df[genre_df['time'] > time1]\n",
    "    genre_df = genre_df[genre_df['time'] <time2]\n",
    "\n",
    "# Объявление функции genre_weekday() с параметрами table, day, time1, time2,\n",
    "# которая возвращает информацию о самых популярных жанрах в указанный день в\n",
    "# заданное время:\n",
    "# 1) в переменную genre_df сохраняются те строки переданного датафрейма table, для\n",
    "#    которых одновременно:\n",
    "#    - значение в столбце day равно значению аргумента day\n",
    "#    - значение в столбце time больше значения аргумента time1\n",
    "#    - значение в столбце time меньше значения аргумента time2\n",
    "                   \n",
    "                   \n",
    "    genre_df_count = genre_df.groupby('genre')['genre'].count()\n",
    "    genre_df_sorted =genre_df_count.sort_values( ascending = False)\n",
    "    return genre_df_sorted.head(10) \n",
    "\n",
    "                   \n",
    "#    Используйте последовательную фильтрацию с помощью логической индексации.\n",
    "# 2) сгруппировать датафрейм genre_df по столбцу genre, взять один из его\n",
    "#    столбцов и посчитать методом count() количество записей для каждого из\n",
    "#    присутствующих жанров, получившийся Series записать в переменную\n",
    "#    genre_df_count\n",
    "# 3) отсортировать genre_df_count по убыванию встречаемости и сохранить\n",
    "#    в переменную genre_df_sorted\n",
    "# 4) вернуть Series из 10 первых значений genre_df_sorted, это будут топ-10\n",
    "#    популярных жанров (в указанный день, в заданное время)"
   ]
  },
  {
   "cell_type": "markdown",
   "metadata": {
    "id": "la2s2_PF_Zcu"
   },
   "source": [
    "Cравните результаты функции `genre_weekday()` для Москвы и Санкт-Петербурга в понедельник утром (с 7:00 до 11:00) и в пятницу вечером (с 17:00 до 23:00):"
   ]
  },
  {
   "cell_type": "code",
   "execution_count": 31,
   "metadata": {
    "id": "yz7itPUQ_Zcu"
   },
   "outputs": [
    {
     "data": {
      "text/plain": [
       "genre\n",
       "pop            781\n",
       "dance          549\n",
       "electronic     480\n",
       "rock           474\n",
       "hiphop         286\n",
       "ruspop         186\n",
       "world          181\n",
       "rusrap         175\n",
       "alternative    164\n",
       "unknowm        161\n",
       "Name: genre, dtype: int64"
      ]
     },
     "execution_count": 31,
     "metadata": {},
     "output_type": "execute_result"
    }
   ],
   "source": [
    "genre_weekday(moscow_general, 'Monday', '07:00', '11:00')\n",
    "# вызов функции для утра понедельника в Москве (вместо df — таблица moscow_general)\n",
    "# объекты, хранящие время, являются строками и сравниваются как строки\n",
    "# пример вызова: genre_weekday(moscow_general, 'Monday', '07:00', '11:00')"
   ]
  },
  {
   "cell_type": "code",
   "execution_count": 32,
   "metadata": {
    "id": "kwUcHPdy_Zcu"
   },
   "outputs": [
    {
     "data": {
      "text/plain": [
       "genre\n",
       "pop            781\n",
       "dance          549\n",
       "electronic     480\n",
       "rock           474\n",
       "hiphop         286\n",
       "ruspop         186\n",
       "world          181\n",
       "rusrap         175\n",
       "alternative    164\n",
       "unknowm        161\n",
       "Name: genre, dtype: int64"
      ]
     },
     "execution_count": 32,
     "metadata": {},
     "output_type": "execute_result"
    }
   ],
   "source": [
    "genre_weekday(moscow_general, 'Monday', '07:00', '11:00')\n",
    "# вызов функции для утра понедельника в Петербурге (вместо df — таблица spb_general)"
   ]
  },
  {
   "cell_type": "code",
   "execution_count": 33,
   "metadata": {
    "id": "EzXVRE1o_Zcu"
   },
   "outputs": [
    {
     "data": {
      "text/plain": [
       "genre\n",
       "pop            717\n",
       "dance          524\n",
       "rock           518\n",
       "electronic     485\n",
       "hiphop         238\n",
       "alternative    182\n",
       "classical      172\n",
       "world          172\n",
       "ruspop         149\n",
       "rusrap         133\n",
       "Name: genre, dtype: int64"
      ]
     },
     "execution_count": 33,
     "metadata": {},
     "output_type": "execute_result"
    }
   ],
   "source": [
    "genre_weekday(moscow_general , 'Monday', '17:00', '23:00')\n",
    "# вызов функции для вечера пятницы в Москве"
   ]
  },
  {
   "cell_type": "code",
   "execution_count": 34,
   "metadata": {
    "id": "JZaEKu5v_Zcu"
   },
   "outputs": [
    {
     "data": {
      "text/plain": [
       "genre\n",
       "pop            263\n",
       "rock           208\n",
       "electronic     192\n",
       "dance          191\n",
       "hiphop         104\n",
       "alternative     72\n",
       "classical       71\n",
       "jazz            57\n",
       "rusrap          54\n",
       "ruspop          53\n",
       "Name: genre, dtype: int64"
      ]
     },
     "execution_count": 34,
     "metadata": {},
     "output_type": "execute_result"
    }
   ],
   "source": [
    "genre_weekday(spb_general , 'Monday', '17:00', '23:00')\n",
    "# вызов функции для вечера пятницы в Петербурге"
   ]
  },
  {
   "cell_type": "markdown",
   "metadata": {
    "id": "wrCe4MNX_Zcu"
   },
   "source": [
    "**Выводы**\n",
    "\n",
    "Если сравнить топ-10 жанров в понедельник утром, можно сделать такие выводы:\n",
    "\n",
    "1. В Москве и Петербурге слушают похожую музыку. Единственное отличие — в московский рейтинг вошёл жанр “world”, а в петербургский — джаз и классика.\n",
    "\n",
    "2. В Москве пропущенных значений оказалось так много, что значение `'unknown'` заняло десятое место среди самых популярных жанров. Значит, пропущенные значения занимают существенную долю в данных и угрожают достоверности исследования.\n",
    "\n",
    "Вечер пятницы не меняет эту картину. Некоторые жанры поднимаются немного выше, другие спускаются, но в целом топ-10 остаётся тем же самым.\n",
    "\n",
    "Таким образом, вторая гипотеза подтвердилась лишь частично:\n",
    "* Пользователи слушают похожую музыку в начале недели и в конце.\n",
    "* Разница между Москвой и Петербургом не слишком выражена. В Москве чаще слушают русскую популярную музыку, в Петербурге — джаз.\n",
    "\n",
    "Однако пропуски в данных ставят под сомнение этот результат. В Москве их так много, что рейтинг топ-10 мог бы выглядеть иначе, если бы не утерянные  данные о жанрах."
   ]
  },
  {
   "cell_type": "markdown",
   "metadata": {
    "id": "JolODAqr_Zcu"
   },
   "source": [
    "### Жанровые предпочтения в Москве и Петербурге\n",
    "\n",
    "Гипотеза: Петербург — столица рэпа, музыку этого жанра там слушают чаще, чем в Москве.  А Москва — город контрастов, в котором, тем не менее, преобладает поп-музыка."
   ]
  },
  {
   "cell_type": "markdown",
   "metadata": {
    "id": "DlegSvaT_Zcu"
   },
   "source": [
    "Сгруппируйте таблицу `moscow_general` по жанру и посчитайте прослушивания треков каждого жанра методом `count()`. Затем отсортируйте результат в порядке убывания и сохраните его в таблице `moscow_genres`."
   ]
  },
  {
   "cell_type": "code",
   "execution_count": 35,
   "metadata": {
    "id": "r19lIPke_Zcu"
   },
   "outputs": [],
   "source": [
    "moscow_genres=moscow_general.groupby('genre')['genre'].count()\n",
    "moscow_genres=moscow_genres.sort_values(ascending = False)\n",
    "\n",
    "\n",
    " # одной строкой: группировка таблицы moscow_general по столбцу 'genre', \n",
    "# подсчёт числа значений 'genre' в этой группировке методом count(), \n",
    "# сортировка получившегося Series в порядке убывания и сохранение в moscow_genres"
   ]
  },
  {
   "cell_type": "markdown",
   "metadata": {
    "id": "6kMuomxTiIr8"
   },
   "source": [
    "Выведите на экран первые десять строк `moscow_genres`:"
   ]
  },
  {
   "cell_type": "code",
   "execution_count": 36,
   "metadata": {
    "id": "WhCSooF8_Zcv"
   },
   "outputs": [
    {
     "data": {
      "text/plain": [
       "genre\n",
       "pop            5892\n",
       "dance          4435\n",
       "rock           3965\n",
       "electronic     3786\n",
       "hiphop         2096\n",
       "classical      1616\n",
       "world          1432\n",
       "alternative    1379\n",
       "ruspop         1372\n",
       "rusrap         1161\n",
       "Name: genre, dtype: int64"
      ]
     },
     "execution_count": 36,
     "metadata": {},
     "output_type": "execute_result"
    }
   ],
   "source": [
    "moscow_genres.head(10)# просмотр первых 10 строк moscow_genres"
   ]
  },
  {
   "cell_type": "markdown",
   "metadata": {
    "id": "cnPG2vnN_Zcv"
   },
   "source": [
    "Теперь повторите то же и для Петербурга.\n",
    "\n",
    "Сгруппируйте таблицу `spb_general` по жанру. Посчитайте прослушивания треков каждого жанра. Результат отсортируйте в порядке убывания и сохраните в таблице `spb_genres`:\n"
   ]
  },
  {
   "cell_type": "code",
   "execution_count": 37,
   "metadata": {
    "id": "gluLIpE7_Zcv"
   },
   "outputs": [],
   "source": [
    "spb_genres=spb_general.groupby('genre')['genre'].count()# одной строкой: группировка таблицы spb_general по столбцу 'genre', \n",
    "spb_genres = spb_genres.sort_values(ascending = False)# подсчёт числа значений 'genre' в этой группировке методом count(), \n",
    "# сортировка получившегося Series в порядке убывания и сохранение в spb_genres"
   ]
  },
  {
   "cell_type": "markdown",
   "metadata": {
    "id": "5Doha_ODgyQ8"
   },
   "source": [
    "Выведите на экран первые десять строк `spb_genres`:"
   ]
  },
  {
   "cell_type": "code",
   "execution_count": 38,
   "metadata": {
    "id": "uaGJHjVU_Zcv"
   },
   "outputs": [
    {
     "data": {
      "text/plain": [
       "genre\n",
       "pop            2431\n",
       "dance          1932\n",
       "rock           1879\n",
       "electronic     1736\n",
       "hiphop          960\n",
       "alternative     649\n",
       "classical       646\n",
       "rusrap          564\n",
       "ruspop          538\n",
       "world           515\n",
       "Name: genre, dtype: int64"
      ]
     },
     "execution_count": 38,
     "metadata": {},
     "output_type": "execute_result"
    }
   ],
   "source": [
    "spb_genres.head(10)# просмотр первых 10 строк spb_genres"
   ]
  },
  {
   "cell_type": "markdown",
   "metadata": {
    "id": "RY51YJYu_Zcv"
   },
   "source": [
    "**Выводы**"
   ]
  },
  {
   "cell_type": "markdown",
   "metadata": {
    "id": "nVhnJEm__Zcv"
   },
   "source": [
    "Гипотеза частично подтвердилась:\n",
    "* Поп-музыка — самый популярный жанр в Москве, как и предполагала гипотеза. Более того, в топ-10 жанров встречается близкий жанр — русская популярная музыка.\n",
    "* Вопреки ожиданиям, рэп одинаково популярен в Москве и Петербурге. \n"
   ]
  },
  {
   "cell_type": "markdown",
   "metadata": {
    "id": "ykKQ0N65_Zcv"
   },
   "source": [
    "## Итоги исследования"
   ]
  },
  {
   "cell_type": "markdown",
   "metadata": {
    "id": "tjUwbHb3_Zcv"
   },
   "source": [
    "Вы проверили три гипотезы и установили:\n",
    "\n",
    "1. День недели по-разному влияет на активность пользователей в Москве и Петербурге. \n",
    "\n",
    "Первая гипотеза полностью подтвердилась.\n",
    "\n",
    "2. Музыкальные предпочтения не сильно меняются в течение недели — будь то Москва или Петербург. Небольшие различия заметны в начале недели, по понедельникам:\n",
    "* в Москве слушают музыку жанра “world”,\n",
    "* в Петербурге — джаз и классику.\n",
    "\n",
    "Таким образом, вторая гипотеза подтвердилась лишь отчасти. Этот результат мог оказаться иным, если бы не пропуски в данных.\n",
    "\n",
    "3. Во вкусах пользователей Москвы и Петербурга больше общего чем различий. Вопреки ожиданиям, предпочтения жанров в Петербурге напоминают московские.\n",
    "\n",
    "Третья гипотеза не подтвердилась. Если различия в предпочтениях и существуют, на основной массе пользователей они незаметны.\n",
    "\n",
    "**На практике исследования содержат проверки статистических гипотез.**\n",
    "Из данных одного сервиса не всегда можно сделать вывод о всех жителях города.\n",
    "Проверки статистических гипотез покажут, насколько они достоверны, исходя из имеющихся данных. \n",
    "С методами проверок гипотез вы ещё познакомитесь в следующих темах."
   ]
  },
  {
   "cell_type": "code",
   "execution_count": null,
   "metadata": {},
   "outputs": [],
   "source": []
  }
 ],
 "metadata": {
  "ExecuteTimeLog": [
   {
    "duration": 95,
    "start_time": "2021-11-25T11:06:30.397Z"
   },
   {
    "duration": 316,
    "start_time": "2021-11-25T11:07:18.323Z"
   },
   {
    "duration": 249,
    "start_time": "2021-11-25T11:07:38.823Z"
   },
   {
    "duration": 748,
    "start_time": "2021-11-25T11:08:11.940Z"
   },
   {
    "duration": 190,
    "start_time": "2021-11-25T11:08:12.691Z"
   },
   {
    "duration": 3,
    "start_time": "2021-11-25T11:08:12.884Z"
   },
   {
    "duration": 8,
    "start_time": "2021-11-25T11:08:12.889Z"
   },
   {
    "duration": 7,
    "start_time": "2021-11-25T11:08:12.899Z"
   },
   {
    "duration": 20,
    "start_time": "2021-11-25T11:08:12.909Z"
   },
   {
    "duration": 4,
    "start_time": "2021-11-25T11:08:12.931Z"
   },
   {
    "duration": 3,
    "start_time": "2021-11-25T11:08:12.939Z"
   },
   {
    "duration": 5,
    "start_time": "2021-11-25T11:08:12.945Z"
   },
   {
    "duration": 9,
    "start_time": "2021-11-25T11:08:12.952Z"
   },
   {
    "duration": 6,
    "start_time": "2021-11-25T11:08:12.963Z"
   },
   {
    "duration": 5,
    "start_time": "2021-11-25T11:08:12.971Z"
   },
   {
    "duration": 5,
    "start_time": "2021-11-25T11:08:12.979Z"
   },
   {
    "duration": 43,
    "start_time": "2021-11-25T11:08:12.986Z"
   },
   {
    "duration": 3,
    "start_time": "2021-11-25T11:08:13.031Z"
   },
   {
    "duration": 6,
    "start_time": "2021-11-25T11:08:13.036Z"
   },
   {
    "duration": 5,
    "start_time": "2021-11-25T11:08:13.045Z"
   },
   {
    "duration": 7,
    "start_time": "2021-11-25T11:08:13.052Z"
   },
   {
    "duration": 6,
    "start_time": "2021-11-25T11:08:13.062Z"
   },
   {
    "duration": 9,
    "start_time": "2021-11-25T11:08:13.070Z"
   },
   {
    "duration": 13,
    "start_time": "2021-11-25T11:08:13.083Z"
   },
   {
    "duration": 31,
    "start_time": "2021-11-25T11:08:13.098Z"
   },
   {
    "duration": 4,
    "start_time": "2021-11-25T11:08:13.133Z"
   },
   {
    "duration": 6,
    "start_time": "2021-11-25T11:08:13.139Z"
   },
   {
    "duration": 6,
    "start_time": "2021-11-25T11:08:13.147Z"
   },
   {
    "duration": 12,
    "start_time": "2021-11-25T11:08:13.155Z"
   },
   {
    "duration": 13,
    "start_time": "2021-11-25T11:08:13.169Z"
   },
   {
    "duration": 6,
    "start_time": "2021-11-25T11:08:13.184Z"
   },
   {
    "duration": 7,
    "start_time": "2021-11-25T11:08:13.192Z"
   },
   {
    "duration": 29,
    "start_time": "2021-11-25T11:08:13.201Z"
   },
   {
    "duration": 7,
    "start_time": "2021-11-25T11:08:13.233Z"
   },
   {
    "duration": 6,
    "start_time": "2021-11-25T11:08:13.242Z"
   },
   {
    "duration": 9,
    "start_time": "2021-11-25T11:08:13.250Z"
   },
   {
    "duration": 5,
    "start_time": "2021-11-25T11:08:13.261Z"
   },
   {
    "duration": 7,
    "start_time": "2021-11-25T11:08:13.268Z"
   },
   {
    "duration": 6,
    "start_time": "2021-11-25T11:08:13.278Z"
   },
   {
    "duration": 6,
    "start_time": "2021-11-25T11:08:13.286Z"
   },
   {
    "duration": 35,
    "start_time": "2021-11-25T11:08:13.294Z"
   },
   {
    "duration": 4,
    "start_time": "2021-11-25T11:12:28.781Z"
   },
   {
    "duration": 195,
    "start_time": "2021-11-25T11:12:30.976Z"
   },
   {
    "duration": 196,
    "start_time": "2021-11-25T11:14:33.501Z"
   },
   {
    "duration": 89,
    "start_time": "2021-11-25T11:14:34.528Z"
   },
   {
    "duration": 339,
    "start_time": "2021-11-25T11:15:47.419Z"
   },
   {
    "duration": 263,
    "start_time": "2021-11-25T11:16:59.166Z"
   },
   {
    "duration": 727,
    "start_time": "2021-11-25T11:17:36.165Z"
   },
   {
    "duration": 3,
    "start_time": "2021-11-25T11:17:40.081Z"
   },
   {
    "duration": 203,
    "start_time": "2021-11-25T11:17:40.091Z"
   },
   {
    "duration": 37,
    "start_time": "2021-11-25T11:17:40.297Z"
   },
   {
    "duration": 3,
    "start_time": "2021-11-25T11:17:40.338Z"
   },
   {
    "duration": 33,
    "start_time": "2021-11-25T11:17:40.344Z"
   },
   {
    "duration": 23,
    "start_time": "2021-11-25T11:17:40.380Z"
   },
   {
    "duration": 25,
    "start_time": "2021-11-25T11:17:40.405Z"
   },
   {
    "duration": 27,
    "start_time": "2021-11-25T11:17:40.432Z"
   },
   {
    "duration": 22,
    "start_time": "2021-11-25T11:17:40.463Z"
   },
   {
    "duration": 24,
    "start_time": "2021-11-25T11:17:40.489Z"
   },
   {
    "duration": 30,
    "start_time": "2021-11-25T11:17:40.515Z"
   },
   {
    "duration": 20,
    "start_time": "2021-11-25T11:17:40.547Z"
   },
   {
    "duration": 17,
    "start_time": "2021-11-25T11:17:40.570Z"
   },
   {
    "duration": 29,
    "start_time": "2021-11-25T11:17:40.589Z"
   },
   {
    "duration": 11,
    "start_time": "2021-11-25T11:17:40.620Z"
   },
   {
    "duration": 30,
    "start_time": "2021-11-25T11:17:40.634Z"
   },
   {
    "duration": 17,
    "start_time": "2021-11-25T11:17:40.666Z"
   },
   {
    "duration": 30,
    "start_time": "2021-11-25T11:17:40.685Z"
   },
   {
    "duration": 27,
    "start_time": "2021-11-25T11:17:40.717Z"
   },
   {
    "duration": 12,
    "start_time": "2021-11-25T11:17:40.746Z"
   },
   {
    "duration": 22,
    "start_time": "2021-11-25T11:17:40.760Z"
   },
   {
    "duration": 16,
    "start_time": "2021-11-25T11:17:40.784Z"
   },
   {
    "duration": 23,
    "start_time": "2021-11-25T11:17:40.802Z"
   },
   {
    "duration": 27,
    "start_time": "2021-11-25T11:17:40.830Z"
   },
   {
    "duration": 15,
    "start_time": "2021-11-25T11:17:40.859Z"
   },
   {
    "duration": 24,
    "start_time": "2021-11-25T11:17:40.876Z"
   },
   {
    "duration": 26,
    "start_time": "2021-11-25T11:17:40.902Z"
   },
   {
    "duration": 13,
    "start_time": "2021-11-25T11:17:40.931Z"
   },
   {
    "duration": 20,
    "start_time": "2021-11-25T11:17:40.946Z"
   },
   {
    "duration": 18,
    "start_time": "2021-11-25T11:17:40.968Z"
   },
   {
    "duration": 42,
    "start_time": "2021-11-25T11:17:40.988Z"
   },
   {
    "duration": 14,
    "start_time": "2021-11-25T11:17:41.032Z"
   },
   {
    "duration": 28,
    "start_time": "2021-11-25T11:17:41.049Z"
   },
   {
    "duration": 18,
    "start_time": "2021-11-25T11:17:41.080Z"
   },
   {
    "duration": 28,
    "start_time": "2021-11-25T11:17:41.100Z"
   },
   {
    "duration": 24,
    "start_time": "2021-11-25T11:17:41.130Z"
   },
   {
    "duration": 14,
    "start_time": "2021-11-25T11:17:41.156Z"
   },
   {
    "duration": 19,
    "start_time": "2021-11-25T11:17:41.172Z"
   },
   {
    "duration": 197,
    "start_time": "2021-11-25T11:17:51.516Z"
   },
   {
    "duration": 11,
    "start_time": "2021-11-25T12:33:34.881Z"
   },
   {
    "duration": 11,
    "start_time": "2021-11-25T12:39:39.189Z"
   },
   {
    "duration": 11,
    "start_time": "2021-11-25T12:39:44.373Z"
   },
   {
    "duration": 13,
    "start_time": "2021-11-25T18:02:21.146Z"
   },
   {
    "duration": 5,
    "start_time": "2021-11-25T18:03:50.059Z"
   },
   {
    "duration": 81,
    "start_time": "2021-11-25T18:20:08.144Z"
   },
   {
    "duration": 308,
    "start_time": "2021-11-25T18:20:22.664Z"
   },
   {
    "duration": 4,
    "start_time": "2021-11-25T18:20:51.611Z"
   },
   {
    "duration": 215,
    "start_time": "2021-11-25T18:20:51.617Z"
   },
   {
    "duration": 17,
    "start_time": "2021-11-25T18:20:51.836Z"
   },
   {
    "duration": 25,
    "start_time": "2021-11-25T18:20:51.856Z"
   },
   {
    "duration": 34,
    "start_time": "2021-11-25T18:20:51.884Z"
   },
   {
    "duration": 314,
    "start_time": "2021-11-25T18:20:51.921Z"
   },
   {
    "duration": 2099,
    "start_time": "2021-11-25T18:20:50.139Z"
   },
   {
    "duration": 2095,
    "start_time": "2021-11-25T18:20:50.151Z"
   },
   {
    "duration": 2095,
    "start_time": "2021-11-25T18:20:50.153Z"
   },
   {
    "duration": 2095,
    "start_time": "2021-11-25T18:20:50.154Z"
   },
   {
    "duration": 2095,
    "start_time": "2021-11-25T18:20:50.156Z"
   },
   {
    "duration": 2095,
    "start_time": "2021-11-25T18:20:50.157Z"
   },
   {
    "duration": 2095,
    "start_time": "2021-11-25T18:20:50.159Z"
   },
   {
    "duration": 2093,
    "start_time": "2021-11-25T18:20:50.162Z"
   },
   {
    "duration": 2091,
    "start_time": "2021-11-25T18:20:50.165Z"
   },
   {
    "duration": 2088,
    "start_time": "2021-11-25T18:20:50.170Z"
   },
   {
    "duration": 2087,
    "start_time": "2021-11-25T18:20:50.172Z"
   },
   {
    "duration": 2084,
    "start_time": "2021-11-25T18:20:50.176Z"
   },
   {
    "duration": 2036,
    "start_time": "2021-11-25T18:20:50.226Z"
   },
   {
    "duration": 2035,
    "start_time": "2021-11-25T18:20:50.229Z"
   },
   {
    "duration": 2035,
    "start_time": "2021-11-25T18:20:50.230Z"
   },
   {
    "duration": 2030,
    "start_time": "2021-11-25T18:20:50.236Z"
   },
   {
    "duration": 2029,
    "start_time": "2021-11-25T18:20:50.239Z"
   },
   {
    "duration": 2025,
    "start_time": "2021-11-25T18:20:50.244Z"
   },
   {
    "duration": 2023,
    "start_time": "2021-11-25T18:20:50.248Z"
   },
   {
    "duration": 2022,
    "start_time": "2021-11-25T18:20:50.250Z"
   },
   {
    "duration": 2023,
    "start_time": "2021-11-25T18:20:50.251Z"
   },
   {
    "duration": 2019,
    "start_time": "2021-11-25T18:20:50.256Z"
   },
   {
    "duration": 2012,
    "start_time": "2021-11-25T18:20:50.264Z"
   },
   {
    "duration": 2013,
    "start_time": "2021-11-25T18:20:50.265Z"
   },
   {
    "duration": 2012,
    "start_time": "2021-11-25T18:20:50.267Z"
   },
   {
    "duration": 2053,
    "start_time": "2021-11-25T18:20:50.275Z"
   },
   {
    "duration": 2054,
    "start_time": "2021-11-25T18:20:50.276Z"
   },
   {
    "duration": 2050,
    "start_time": "2021-11-25T18:20:50.282Z"
   },
   {
    "duration": 2047,
    "start_time": "2021-11-25T18:20:50.286Z"
   },
   {
    "duration": 2048,
    "start_time": "2021-11-25T18:20:50.287Z"
   },
   {
    "duration": 2047,
    "start_time": "2021-11-25T18:20:50.289Z"
   },
   {
    "duration": 2043,
    "start_time": "2021-11-25T18:20:50.294Z"
   },
   {
    "duration": 315,
    "start_time": "2021-11-25T18:23:39.577Z"
   },
   {
    "duration": 391,
    "start_time": "2021-11-25T18:23:46.533Z"
   },
   {
    "duration": 318,
    "start_time": "2021-11-25T18:24:16.798Z"
   },
   {
    "duration": 29,
    "start_time": "2021-11-25T18:24:28.326Z"
   },
   {
    "duration": 4,
    "start_time": "2021-11-25T18:24:35.271Z"
   },
   {
    "duration": 205,
    "start_time": "2021-11-25T18:24:35.278Z"
   },
   {
    "duration": 16,
    "start_time": "2021-11-25T18:24:35.488Z"
   },
   {
    "duration": 26,
    "start_time": "2021-11-25T18:24:35.507Z"
   },
   {
    "duration": 9,
    "start_time": "2021-11-25T18:24:35.536Z"
   },
   {
    "duration": 37,
    "start_time": "2021-11-25T18:24:35.548Z"
   },
   {
    "duration": 44,
    "start_time": "2021-11-25T18:24:35.588Z"
   },
   {
    "duration": 6,
    "start_time": "2021-11-25T18:24:35.635Z"
   },
   {
    "duration": 4,
    "start_time": "2021-11-25T18:24:35.646Z"
   },
   {
    "duration": 4,
    "start_time": "2021-11-25T18:24:35.654Z"
   },
   {
    "duration": 8,
    "start_time": "2021-11-25T18:24:35.660Z"
   },
   {
    "duration": 6,
    "start_time": "2021-11-25T18:24:35.670Z"
   },
   {
    "duration": 60,
    "start_time": "2021-11-25T18:24:35.679Z"
   },
   {
    "duration": 9,
    "start_time": "2021-11-25T18:24:35.742Z"
   },
   {
    "duration": 6,
    "start_time": "2021-11-25T18:24:35.753Z"
   },
   {
    "duration": 6,
    "start_time": "2021-11-25T18:24:35.761Z"
   },
   {
    "duration": 7,
    "start_time": "2021-11-25T18:24:35.770Z"
   },
   {
    "duration": 10,
    "start_time": "2021-11-25T18:24:35.780Z"
   },
   {
    "duration": 3,
    "start_time": "2021-11-25T18:24:35.830Z"
   },
   {
    "duration": 8,
    "start_time": "2021-11-25T18:24:35.836Z"
   },
   {
    "duration": 20,
    "start_time": "2021-11-25T18:24:35.847Z"
   },
   {
    "duration": 19,
    "start_time": "2021-11-25T18:24:35.870Z"
   },
   {
    "duration": 37,
    "start_time": "2021-11-25T18:24:35.892Z"
   },
   {
    "duration": 5,
    "start_time": "2021-11-25T18:24:35.932Z"
   },
   {
    "duration": 7,
    "start_time": "2021-11-25T18:24:35.940Z"
   },
   {
    "duration": 9,
    "start_time": "2021-11-25T18:24:35.950Z"
   },
   {
    "duration": 7,
    "start_time": "2021-11-25T18:24:35.964Z"
   },
   {
    "duration": 55,
    "start_time": "2021-11-25T18:24:35.974Z"
   },
   {
    "duration": 8,
    "start_time": "2021-11-25T18:24:36.032Z"
   },
   {
    "duration": 8,
    "start_time": "2021-11-25T18:24:36.043Z"
   },
   {
    "duration": 14,
    "start_time": "2021-11-25T18:24:36.054Z"
   },
   {
    "duration": 10,
    "start_time": "2021-11-25T18:24:36.071Z"
   },
   {
    "duration": 58,
    "start_time": "2021-11-25T18:24:36.084Z"
   },
   {
    "duration": 12,
    "start_time": "2021-11-25T18:24:36.144Z"
   },
   {
    "duration": 12,
    "start_time": "2021-11-25T18:24:36.159Z"
   },
   {
    "duration": 6,
    "start_time": "2021-11-25T18:24:36.174Z"
   },
   {
    "duration": 10,
    "start_time": "2021-11-25T18:24:36.182Z"
   },
   {
    "duration": 34,
    "start_time": "2021-11-25T18:24:36.194Z"
   },
   {
    "duration": 93,
    "start_time": "2021-11-25T18:25:22.291Z"
   },
   {
    "duration": 23,
    "start_time": "2021-11-25T18:25:46.260Z"
   },
   {
    "duration": 6,
    "start_time": "2021-11-25T18:27:13.986Z"
   },
   {
    "duration": 7,
    "start_time": "2021-11-25T18:35:33.666Z"
   },
   {
    "duration": 84,
    "start_time": "2021-11-25T18:37:13.063Z"
   },
   {
    "duration": 41,
    "start_time": "2021-11-25T18:37:20.981Z"
   },
   {
    "duration": 30,
    "start_time": "2021-11-25T18:38:04.816Z"
   },
   {
    "duration": 64,
    "start_time": "2021-11-25T18:38:20.107Z"
   },
   {
    "duration": 31,
    "start_time": "2021-11-25T18:40:47.151Z"
   },
   {
    "duration": 86,
    "start_time": "2021-11-25T19:15:21.427Z"
   },
   {
    "duration": 4,
    "start_time": "2021-11-25T19:37:46.449Z"
   },
   {
    "duration": 214,
    "start_time": "2021-11-25T19:37:46.457Z"
   },
   {
    "duration": 17,
    "start_time": "2021-11-25T19:37:46.673Z"
   },
   {
    "duration": 36,
    "start_time": "2021-11-25T19:37:46.693Z"
   },
   {
    "duration": 5,
    "start_time": "2021-11-25T19:37:46.733Z"
   },
   {
    "duration": 26,
    "start_time": "2021-11-25T19:37:46.741Z"
   },
   {
    "duration": 6,
    "start_time": "2021-11-25T19:37:46.769Z"
   },
   {
    "duration": 75,
    "start_time": "2021-11-25T19:37:46.779Z"
   },
   {
    "duration": 94,
    "start_time": "2021-11-25T19:37:46.857Z"
   },
   {
    "duration": -58,
    "start_time": "2021-11-25T19:37:47.013Z"
   },
   {
    "duration": -68,
    "start_time": "2021-11-25T19:37:47.024Z"
   },
   {
    "duration": -68,
    "start_time": "2021-11-25T19:37:47.026Z"
   },
   {
    "duration": -68,
    "start_time": "2021-11-25T19:37:47.027Z"
   },
   {
    "duration": -68,
    "start_time": "2021-11-25T19:37:47.029Z"
   },
   {
    "duration": -68,
    "start_time": "2021-11-25T19:37:47.030Z"
   },
   {
    "duration": -68,
    "start_time": "2021-11-25T19:37:47.032Z"
   },
   {
    "duration": -68,
    "start_time": "2021-11-25T19:37:47.033Z"
   },
   {
    "duration": -68,
    "start_time": "2021-11-25T19:37:47.035Z"
   },
   {
    "duration": -67,
    "start_time": "2021-11-25T19:37:47.036Z"
   },
   {
    "duration": -98,
    "start_time": "2021-11-25T19:37:47.069Z"
   },
   {
    "duration": -98,
    "start_time": "2021-11-25T19:37:47.071Z"
   },
   {
    "duration": -101,
    "start_time": "2021-11-25T19:37:47.076Z"
   },
   {
    "duration": -103,
    "start_time": "2021-11-25T19:37:47.079Z"
   },
   {
    "duration": -105,
    "start_time": "2021-11-25T19:37:47.083Z"
   },
   {
    "duration": -107,
    "start_time": "2021-11-25T19:37:47.087Z"
   },
   {
    "duration": -108,
    "start_time": "2021-11-25T19:37:47.090Z"
   },
   {
    "duration": -113,
    "start_time": "2021-11-25T19:37:47.097Z"
   },
   {
    "duration": -113,
    "start_time": "2021-11-25T19:37:47.098Z"
   },
   {
    "duration": -113,
    "start_time": "2021-11-25T19:37:47.100Z"
   },
   {
    "duration": -112,
    "start_time": "2021-11-25T19:37:47.101Z"
   },
   {
    "duration": -114,
    "start_time": "2021-11-25T19:37:47.105Z"
   },
   {
    "duration": -117,
    "start_time": "2021-11-25T19:37:47.110Z"
   },
   {
    "duration": -82,
    "start_time": "2021-11-25T19:37:47.112Z"
   },
   {
    "duration": -80,
    "start_time": "2021-11-25T19:37:47.113Z"
   },
   {
    "duration": -82,
    "start_time": "2021-11-25T19:37:47.116Z"
   },
   {
    "duration": -83,
    "start_time": "2021-11-25T19:37:47.119Z"
   },
   {
    "duration": -84,
    "start_time": "2021-11-25T19:37:47.122Z"
   },
   {
    "duration": -87,
    "start_time": "2021-11-25T19:37:47.127Z"
   },
   {
    "duration": 57,
    "start_time": "2021-11-25T19:50:02.521Z"
   },
   {
    "duration": 37,
    "start_time": "2021-11-25T19:50:17.754Z"
   },
   {
    "duration": 49,
    "start_time": "2021-11-25T19:50:22.050Z"
   },
   {
    "duration": 282,
    "start_time": "2021-11-25T19:51:41.108Z"
   },
   {
    "duration": 85,
    "start_time": "2021-11-25T20:04:36.945Z"
   },
   {
    "duration": 294,
    "start_time": "2021-11-25T20:04:53.754Z"
   },
   {
    "duration": 88,
    "start_time": "2021-11-25T20:05:53.629Z"
   },
   {
    "duration": 6413,
    "start_time": "2021-11-25T20:06:10.101Z"
   },
   {
    "duration": 6512,
    "start_time": "2021-11-25T20:06:26.873Z"
   },
   {
    "duration": 357,
    "start_time": "2021-11-25T20:09:18.892Z"
   },
   {
    "duration": 307,
    "start_time": "2021-11-25T20:09:38.108Z"
   },
   {
    "duration": 251,
    "start_time": "2021-11-25T20:09:54.417Z"
   },
   {
    "duration": 91,
    "start_time": "2021-11-25T20:10:51.410Z"
   },
   {
    "duration": 260,
    "start_time": "2021-11-25T20:11:06.993Z"
   },
   {
    "duration": 22,
    "start_time": "2021-11-25T20:11:35.926Z"
   },
   {
    "duration": 6342,
    "start_time": "2021-11-25T20:16:30.360Z"
   },
   {
    "duration": -83,
    "start_time": "2021-11-25T20:16:36.787Z"
   },
   {
    "duration": 22,
    "start_time": "2021-11-25T20:16:46.135Z"
   },
   {
    "duration": 13,
    "start_time": "2021-11-26T06:55:52.814Z"
   },
   {
    "duration": 32,
    "start_time": "2021-11-26T06:59:59.600Z"
   },
   {
    "duration": 89,
    "start_time": "2021-11-26T07:40:09.973Z"
   },
   {
    "duration": 243,
    "start_time": "2021-11-26T08:07:23.904Z"
   },
   {
    "duration": 105,
    "start_time": "2021-11-26T08:08:25.967Z"
   },
   {
    "duration": 107,
    "start_time": "2021-11-26T08:09:40.782Z"
   },
   {
    "duration": 83,
    "start_time": "2021-11-26T08:10:00.994Z"
   },
   {
    "duration": 4,
    "start_time": "2021-11-26T08:10:13.392Z"
   },
   {
    "duration": 203,
    "start_time": "2021-11-26T08:10:13.402Z"
   },
   {
    "duration": 30,
    "start_time": "2021-11-26T08:10:13.607Z"
   },
   {
    "duration": 15,
    "start_time": "2021-11-26T08:10:13.640Z"
   },
   {
    "duration": 6,
    "start_time": "2021-11-26T08:10:13.658Z"
   },
   {
    "duration": 64,
    "start_time": "2021-11-26T08:10:13.666Z"
   },
   {
    "duration": 5,
    "start_time": "2021-11-26T08:10:13.732Z"
   },
   {
    "duration": 34,
    "start_time": "2021-11-26T08:10:13.739Z"
   },
   {
    "duration": 56,
    "start_time": "2021-11-26T08:10:13.780Z"
   },
   {
    "duration": 32,
    "start_time": "2021-11-26T08:10:13.840Z"
   },
   {
    "duration": 125,
    "start_time": "2021-11-26T08:10:13.875Z"
   },
   {
    "duration": 123,
    "start_time": "2021-11-26T08:10:14.003Z"
   },
   {
    "duration": 80,
    "start_time": "2021-11-26T08:10:14.130Z"
   },
   {
    "duration": 18,
    "start_time": "2021-11-26T08:10:14.212Z"
   },
   {
    "duration": 15,
    "start_time": "2021-11-26T08:10:14.232Z"
   },
   {
    "duration": 7,
    "start_time": "2021-11-26T08:10:14.249Z"
   },
   {
    "duration": 10,
    "start_time": "2021-11-26T08:10:14.258Z"
   },
   {
    "duration": 7,
    "start_time": "2021-11-26T08:10:14.270Z"
   },
   {
    "duration": 12,
    "start_time": "2021-11-26T08:10:14.279Z"
   },
   {
    "duration": 8,
    "start_time": "2021-11-26T08:10:14.293Z"
   },
   {
    "duration": 12,
    "start_time": "2021-11-26T08:10:14.303Z"
   },
   {
    "duration": 16,
    "start_time": "2021-11-26T08:10:14.317Z"
   },
   {
    "duration": 6,
    "start_time": "2021-11-26T08:10:14.335Z"
   },
   {
    "duration": 7,
    "start_time": "2021-11-26T08:10:14.346Z"
   },
   {
    "duration": 6,
    "start_time": "2021-11-26T08:10:14.355Z"
   },
   {
    "duration": 6,
    "start_time": "2021-11-26T08:10:14.364Z"
   },
   {
    "duration": 6,
    "start_time": "2021-11-26T08:10:14.373Z"
   },
   {
    "duration": 10,
    "start_time": "2021-11-26T08:10:14.381Z"
   },
   {
    "duration": 35,
    "start_time": "2021-11-26T08:10:14.394Z"
   },
   {
    "duration": 5,
    "start_time": "2021-11-26T08:10:14.432Z"
   },
   {
    "duration": 9,
    "start_time": "2021-11-26T08:10:14.440Z"
   },
   {
    "duration": 7,
    "start_time": "2021-11-26T08:10:14.451Z"
   },
   {
    "duration": 15,
    "start_time": "2021-11-26T08:10:14.460Z"
   },
   {
    "duration": 6,
    "start_time": "2021-11-26T08:10:14.478Z"
   },
   {
    "duration": 9,
    "start_time": "2021-11-26T08:10:14.486Z"
   },
   {
    "duration": 9,
    "start_time": "2021-11-26T08:10:14.497Z"
   },
   {
    "duration": 3,
    "start_time": "2021-11-26T08:10:14.530Z"
   },
   {
    "duration": 8,
    "start_time": "2021-11-26T08:10:14.535Z"
   },
   {
    "duration": 80,
    "start_time": "2021-11-26T08:29:54.155Z"
   },
   {
    "duration": 4,
    "start_time": "2021-11-26T08:30:16.634Z"
   },
   {
    "duration": 228,
    "start_time": "2021-11-26T08:30:16.641Z"
   },
   {
    "duration": 15,
    "start_time": "2021-11-26T08:30:16.872Z"
   },
   {
    "duration": 15,
    "start_time": "2021-11-26T08:30:16.890Z"
   },
   {
    "duration": 26,
    "start_time": "2021-11-26T08:30:16.907Z"
   },
   {
    "duration": 22,
    "start_time": "2021-11-26T08:30:16.936Z"
   },
   {
    "duration": 5,
    "start_time": "2021-11-26T08:30:16.961Z"
   },
   {
    "duration": 65,
    "start_time": "2021-11-26T08:30:16.969Z"
   },
   {
    "duration": 25,
    "start_time": "2021-11-26T08:30:17.040Z"
   },
   {
    "duration": 31,
    "start_time": "2021-11-26T08:30:17.068Z"
   },
   {
    "duration": 141,
    "start_time": "2021-11-26T08:30:17.129Z"
   },
   {
    "duration": 111,
    "start_time": "2021-11-26T08:30:17.272Z"
   },
   {
    "duration": 97,
    "start_time": "2021-11-26T08:30:17.386Z"
   },
   {
    "duration": 3,
    "start_time": "2021-11-26T08:30:17.485Z"
   },
   {
    "duration": 8,
    "start_time": "2021-11-26T08:30:17.490Z"
   },
   {
    "duration": 16,
    "start_time": "2021-11-26T08:30:17.500Z"
   },
   {
    "duration": 16,
    "start_time": "2021-11-26T08:30:17.519Z"
   },
   {
    "duration": 13,
    "start_time": "2021-11-26T08:30:17.538Z"
   },
   {
    "duration": 7,
    "start_time": "2021-11-26T08:30:17.553Z"
   },
   {
    "duration": 15,
    "start_time": "2021-11-26T08:30:17.563Z"
   },
   {
    "duration": 21,
    "start_time": "2021-11-26T08:30:17.580Z"
   },
   {
    "duration": 7,
    "start_time": "2021-11-26T08:30:17.603Z"
   },
   {
    "duration": 16,
    "start_time": "2021-11-26T08:30:17.612Z"
   },
   {
    "duration": 13,
    "start_time": "2021-11-26T08:30:17.631Z"
   },
   {
    "duration": 21,
    "start_time": "2021-11-26T08:30:17.646Z"
   },
   {
    "duration": 28,
    "start_time": "2021-11-26T08:30:17.670Z"
   },
   {
    "duration": 6,
    "start_time": "2021-11-26T08:30:17.704Z"
   },
   {
    "duration": 23,
    "start_time": "2021-11-26T08:30:17.713Z"
   },
   {
    "duration": 21,
    "start_time": "2021-11-26T08:30:17.738Z"
   },
   {
    "duration": 10,
    "start_time": "2021-11-26T08:30:17.761Z"
   },
   {
    "duration": 24,
    "start_time": "2021-11-26T08:30:17.774Z"
   },
   {
    "duration": 7,
    "start_time": "2021-11-26T08:30:17.800Z"
   },
   {
    "duration": 15,
    "start_time": "2021-11-26T08:30:17.809Z"
   },
   {
    "duration": 9,
    "start_time": "2021-11-26T08:30:17.827Z"
   },
   {
    "duration": 10,
    "start_time": "2021-11-26T08:30:17.838Z"
   },
   {
    "duration": 20,
    "start_time": "2021-11-26T08:30:17.851Z"
   },
   {
    "duration": 10,
    "start_time": "2021-11-26T08:30:17.873Z"
   },
   {
    "duration": 7,
    "start_time": "2021-11-26T08:30:17.886Z"
   },
   {
    "duration": 4,
    "start_time": "2021-11-26T08:37:52.350Z"
   },
   {
    "duration": 211,
    "start_time": "2021-11-26T08:37:52.359Z"
   },
   {
    "duration": 15,
    "start_time": "2021-11-26T08:37:52.573Z"
   },
   {
    "duration": 40,
    "start_time": "2021-11-26T08:37:52.591Z"
   },
   {
    "duration": 25,
    "start_time": "2021-11-26T08:37:52.634Z"
   },
   {
    "duration": 31,
    "start_time": "2021-11-26T08:37:52.663Z"
   },
   {
    "duration": 7,
    "start_time": "2021-11-26T08:37:52.696Z"
   },
   {
    "duration": 53,
    "start_time": "2021-11-26T08:37:52.705Z"
   },
   {
    "duration": 23,
    "start_time": "2021-11-26T08:37:52.763Z"
   },
   {
    "duration": 51,
    "start_time": "2021-11-26T08:37:52.789Z"
   },
   {
    "duration": 107,
    "start_time": "2021-11-26T08:37:52.843Z"
   },
   {
    "duration": 115,
    "start_time": "2021-11-26T08:37:52.953Z"
   },
   {
    "duration": 93,
    "start_time": "2021-11-26T08:37:53.071Z"
   },
   {
    "duration": 3,
    "start_time": "2021-11-26T08:37:53.167Z"
   },
   {
    "duration": 27,
    "start_time": "2021-11-26T08:37:53.172Z"
   },
   {
    "duration": 10,
    "start_time": "2021-11-26T08:37:53.202Z"
   },
   {
    "duration": 9,
    "start_time": "2021-11-26T08:37:53.214Z"
   },
   {
    "duration": 22,
    "start_time": "2021-11-26T08:37:53.226Z"
   },
   {
    "duration": 6,
    "start_time": "2021-11-26T08:37:53.251Z"
   },
   {
    "duration": 12,
    "start_time": "2021-11-26T08:37:53.259Z"
   },
   {
    "duration": 19,
    "start_time": "2021-11-26T08:37:53.274Z"
   },
   {
    "duration": 20,
    "start_time": "2021-11-26T08:37:53.296Z"
   },
   {
    "duration": 19,
    "start_time": "2021-11-26T08:37:53.319Z"
   },
   {
    "duration": 9,
    "start_time": "2021-11-26T08:37:53.343Z"
   },
   {
    "duration": 17,
    "start_time": "2021-11-26T08:37:53.355Z"
   },
   {
    "duration": 14,
    "start_time": "2021-11-26T08:37:53.375Z"
   },
   {
    "duration": 16,
    "start_time": "2021-11-26T08:37:53.393Z"
   },
   {
    "duration": 5,
    "start_time": "2021-11-26T08:37:53.412Z"
   },
   {
    "duration": 11,
    "start_time": "2021-11-26T08:37:53.423Z"
   },
   {
    "duration": 6,
    "start_time": "2021-11-26T08:37:53.436Z"
   },
   {
    "duration": 15,
    "start_time": "2021-11-26T08:37:53.450Z"
   },
   {
    "duration": 10,
    "start_time": "2021-11-26T08:37:53.468Z"
   },
   {
    "duration": 26,
    "start_time": "2021-11-26T08:37:53.481Z"
   },
   {
    "duration": 9,
    "start_time": "2021-11-26T08:37:53.509Z"
   },
   {
    "duration": 18,
    "start_time": "2021-11-26T08:37:53.521Z"
   },
   {
    "duration": 10,
    "start_time": "2021-11-26T08:37:53.542Z"
   },
   {
    "duration": 5,
    "start_time": "2021-11-26T08:37:53.555Z"
   },
   {
    "duration": 13,
    "start_time": "2021-11-26T08:37:53.563Z"
   },
   {
    "duration": 4,
    "start_time": "2021-11-26T09:44:57.001Z"
   },
   {
    "duration": 216,
    "start_time": "2021-11-26T09:44:57.013Z"
   },
   {
    "duration": 15,
    "start_time": "2021-11-26T09:44:57.231Z"
   },
   {
    "duration": 19,
    "start_time": "2021-11-26T09:44:57.249Z"
   },
   {
    "duration": 6,
    "start_time": "2021-11-26T09:44:57.271Z"
   },
   {
    "duration": 66,
    "start_time": "2021-11-26T09:44:57.279Z"
   },
   {
    "duration": 5,
    "start_time": "2021-11-26T09:44:57.347Z"
   },
   {
    "duration": 33,
    "start_time": "2021-11-26T09:44:57.354Z"
   },
   {
    "duration": 60,
    "start_time": "2021-11-26T09:44:57.391Z"
   },
   {
    "duration": 30,
    "start_time": "2021-11-26T09:44:57.454Z"
   },
   {
    "duration": 122,
    "start_time": "2021-11-26T09:44:57.487Z"
   },
   {
    "duration": 118,
    "start_time": "2021-11-26T09:44:57.611Z"
   },
   {
    "duration": 77,
    "start_time": "2021-11-26T09:44:57.731Z"
   },
   {
    "duration": 23,
    "start_time": "2021-11-26T09:44:57.810Z"
   },
   {
    "duration": 4,
    "start_time": "2021-11-26T09:44:57.836Z"
   },
   {
    "duration": 6,
    "start_time": "2021-11-26T09:44:57.842Z"
   },
   {
    "duration": 8,
    "start_time": "2021-11-26T09:44:57.851Z"
   },
   {
    "duration": 9,
    "start_time": "2021-11-26T09:44:57.862Z"
   },
   {
    "duration": 6,
    "start_time": "2021-11-26T09:44:57.873Z"
   },
   {
    "duration": 47,
    "start_time": "2021-11-26T09:44:57.882Z"
   },
   {
    "duration": 16,
    "start_time": "2021-11-26T09:44:57.931Z"
   },
   {
    "duration": 7,
    "start_time": "2021-11-26T09:44:57.949Z"
   },
   {
    "duration": 10,
    "start_time": "2021-11-26T09:44:57.958Z"
   },
   {
    "duration": 3,
    "start_time": "2021-11-26T09:44:57.975Z"
   },
   {
    "duration": 8,
    "start_time": "2021-11-26T09:44:57.981Z"
   },
   {
    "duration": 38,
    "start_time": "2021-11-26T09:44:57.991Z"
   },
   {
    "duration": 4,
    "start_time": "2021-11-26T09:44:58.031Z"
   },
   {
    "duration": 10,
    "start_time": "2021-11-26T09:44:58.038Z"
   },
   {
    "duration": 6,
    "start_time": "2021-11-26T09:44:58.051Z"
   },
   {
    "duration": 7,
    "start_time": "2021-11-26T09:44:58.059Z"
   },
   {
    "duration": 11,
    "start_time": "2021-11-26T09:44:58.069Z"
   },
   {
    "duration": 11,
    "start_time": "2021-11-26T09:44:58.083Z"
   },
   {
    "duration": 12,
    "start_time": "2021-11-26T09:44:58.096Z"
   },
   {
    "duration": 3,
    "start_time": "2021-11-26T09:44:58.130Z"
   },
   {
    "duration": 7,
    "start_time": "2021-11-26T09:44:58.135Z"
   },
   {
    "duration": 6,
    "start_time": "2021-11-26T09:44:58.144Z"
   },
   {
    "duration": 5,
    "start_time": "2021-11-26T09:44:58.153Z"
   },
   {
    "duration": 13,
    "start_time": "2021-11-26T09:44:58.161Z"
   },
   {
    "duration": 10,
    "start_time": "2021-11-26T09:45:17.012Z"
   },
   {
    "duration": 8,
    "start_time": "2021-11-26T09:58:34.699Z"
   },
   {
    "duration": 9,
    "start_time": "2021-11-26T09:58:44.343Z"
   },
   {
    "duration": 9,
    "start_time": "2021-11-26T10:00:35.924Z"
   },
   {
    "duration": 9,
    "start_time": "2021-11-26T10:00:44.585Z"
   },
   {
    "duration": 261,
    "start_time": "2021-11-26T10:02:28.455Z"
   },
   {
    "duration": 255,
    "start_time": "2021-11-26T10:02:43.216Z"
   },
   {
    "duration": 258,
    "start_time": "2021-11-26T10:04:02.522Z"
   },
   {
    "duration": 15,
    "start_time": "2021-11-26T10:04:24.703Z"
   },
   {
    "duration": 263,
    "start_time": "2021-11-26T10:05:02.183Z"
   },
   {
    "duration": 270,
    "start_time": "2021-11-26T10:05:43.205Z"
   },
   {
    "duration": 9,
    "start_time": "2021-11-26T10:05:51.783Z"
   },
   {
    "duration": 12,
    "start_time": "2021-11-26T10:17:11.370Z"
   },
   {
    "duration": 10,
    "start_time": "2021-11-26T10:17:21.995Z"
   },
   {
    "duration": 272,
    "start_time": "2021-11-26T10:19:25.128Z"
   },
   {
    "duration": 88,
    "start_time": "2021-11-26T10:21:02.696Z"
   },
   {
    "duration": 94,
    "start_time": "2021-11-26T10:21:08.483Z"
   },
   {
    "duration": 11,
    "start_time": "2021-11-26T10:21:26.064Z"
   },
   {
    "duration": 91,
    "start_time": "2021-11-26T10:21:32.177Z"
   },
   {
    "duration": 6037,
    "start_time": "2021-11-26T10:22:03.393Z"
   },
   {
    "duration": 9,
    "start_time": "2021-11-26T10:22:16.056Z"
   },
   {
    "duration": 6,
    "start_time": "2021-11-26T10:23:24.165Z"
   },
   {
    "duration": 45,
    "start_time": "2021-11-26T10:25:10.839Z"
   },
   {
    "duration": 54,
    "start_time": "2021-11-26T10:35:56.211Z"
   },
   {
    "duration": 47,
    "start_time": "2021-11-26T10:38:04.765Z"
   },
   {
    "duration": 4,
    "start_time": "2021-11-26T12:02:13.441Z"
   },
   {
    "duration": 278,
    "start_time": "2021-11-26T12:02:13.453Z"
   },
   {
    "duration": 16,
    "start_time": "2021-11-26T12:02:13.734Z"
   },
   {
    "duration": 25,
    "start_time": "2021-11-26T12:02:13.753Z"
   },
   {
    "duration": 23,
    "start_time": "2021-11-26T12:02:13.781Z"
   },
   {
    "duration": 52,
    "start_time": "2021-11-26T12:02:13.807Z"
   },
   {
    "duration": 30,
    "start_time": "2021-11-26T12:02:13.862Z"
   },
   {
    "duration": 69,
    "start_time": "2021-11-26T12:02:13.895Z"
   },
   {
    "duration": 41,
    "start_time": "2021-11-26T12:02:13.970Z"
   },
   {
    "duration": 32,
    "start_time": "2021-11-26T12:02:14.014Z"
   },
   {
    "duration": 107,
    "start_time": "2021-11-26T12:02:14.049Z"
   },
   {
    "duration": 109,
    "start_time": "2021-11-26T12:02:14.158Z"
   },
   {
    "duration": 97,
    "start_time": "2021-11-26T12:02:14.270Z"
   },
   {
    "duration": 80,
    "start_time": "2021-11-26T12:02:14.370Z"
   },
   {
    "duration": 79,
    "start_time": "2021-11-26T12:02:14.452Z"
   },
   {
    "duration": -737,
    "start_time": "2021-11-26T12:02:15.271Z"
   },
   {
    "duration": -746,
    "start_time": "2021-11-26T12:02:15.282Z"
   },
   {
    "duration": -755,
    "start_time": "2021-11-26T12:02:15.292Z"
   },
   {
    "duration": -763,
    "start_time": "2021-11-26T12:02:15.302Z"
   },
   {
    "duration": -771,
    "start_time": "2021-11-26T12:02:15.311Z"
   },
   {
    "duration": -780,
    "start_time": "2021-11-26T12:02:15.322Z"
   },
   {
    "duration": -788,
    "start_time": "2021-11-26T12:02:15.331Z"
   },
   {
    "duration": -841,
    "start_time": "2021-11-26T12:02:15.385Z"
   },
   {
    "duration": -848,
    "start_time": "2021-11-26T12:02:15.394Z"
   },
   {
    "duration": -858,
    "start_time": "2021-11-26T12:02:15.405Z"
   },
   {
    "duration": -864,
    "start_time": "2021-11-26T12:02:15.413Z"
   },
   {
    "duration": -873,
    "start_time": "2021-11-26T12:02:15.424Z"
   },
   {
    "duration": -880,
    "start_time": "2021-11-26T12:02:15.433Z"
   },
   {
    "duration": -890,
    "start_time": "2021-11-26T12:02:15.444Z"
   },
   {
    "duration": -897,
    "start_time": "2021-11-26T12:02:15.452Z"
   },
   {
    "duration": -905,
    "start_time": "2021-11-26T12:02:15.462Z"
   },
   {
    "duration": -912,
    "start_time": "2021-11-26T12:02:15.471Z"
   },
   {
    "duration": -937,
    "start_time": "2021-11-26T12:02:15.497Z"
   },
   {
    "duration": -946,
    "start_time": "2021-11-26T12:02:15.507Z"
   },
   {
    "duration": -954,
    "start_time": "2021-11-26T12:02:15.516Z"
   },
   {
    "duration": -962,
    "start_time": "2021-11-26T12:02:15.525Z"
   },
   {
    "duration": -972,
    "start_time": "2021-11-26T12:02:15.536Z"
   },
   {
    "duration": -979,
    "start_time": "2021-11-26T12:02:15.544Z"
   },
   {
    "duration": 4,
    "start_time": "2021-11-26T12:06:24.012Z"
   },
   {
    "duration": 207,
    "start_time": "2021-11-26T12:06:24.022Z"
   },
   {
    "duration": 15,
    "start_time": "2021-11-26T12:06:24.232Z"
   },
   {
    "duration": 13,
    "start_time": "2021-11-26T12:06:24.250Z"
   },
   {
    "duration": 9,
    "start_time": "2021-11-26T12:06:24.265Z"
   },
   {
    "duration": 63,
    "start_time": "2021-11-26T12:06:24.277Z"
   },
   {
    "duration": 8,
    "start_time": "2021-11-26T12:06:24.343Z"
   },
   {
    "duration": 76,
    "start_time": "2021-11-26T12:06:24.354Z"
   },
   {
    "duration": 22,
    "start_time": "2021-11-26T12:06:24.434Z"
   },
   {
    "duration": 32,
    "start_time": "2021-11-26T12:06:24.459Z"
   },
   {
    "duration": 108,
    "start_time": "2021-11-26T12:06:24.494Z"
   },
   {
    "duration": 102,
    "start_time": "2021-11-26T12:06:24.605Z"
   },
   {
    "duration": 90,
    "start_time": "2021-11-26T12:06:24.710Z"
   },
   {
    "duration": 66,
    "start_time": "2021-11-26T12:06:24.803Z"
   },
   {
    "duration": 79,
    "start_time": "2021-11-26T12:06:24.872Z"
   },
   {
    "duration": -896,
    "start_time": "2021-11-26T12:06:25.851Z"
   },
   {
    "duration": -906,
    "start_time": "2021-11-26T12:06:25.862Z"
   },
   {
    "duration": -927,
    "start_time": "2021-11-26T12:06:25.884Z"
   },
   {
    "duration": -1017,
    "start_time": "2021-11-26T12:06:25.975Z"
   },
   {
    "duration": -1142,
    "start_time": "2021-11-26T12:06:26.102Z"
   },
   {
    "duration": -1166,
    "start_time": "2021-11-26T12:06:26.127Z"
   },
   {
    "duration": -1191,
    "start_time": "2021-11-26T12:06:26.153Z"
   },
   {
    "duration": -1212,
    "start_time": "2021-11-26T12:06:26.176Z"
   },
   {
    "duration": -1221,
    "start_time": "2021-11-26T12:06:26.186Z"
   },
   {
    "duration": -1228,
    "start_time": "2021-11-26T12:06:26.195Z"
   },
   {
    "duration": -1237,
    "start_time": "2021-11-26T12:06:26.205Z"
   },
   {
    "duration": -1245,
    "start_time": "2021-11-26T12:06:26.214Z"
   },
   {
    "duration": -1253,
    "start_time": "2021-11-26T12:06:26.224Z"
   },
   {
    "duration": -1261,
    "start_time": "2021-11-26T12:06:26.233Z"
   },
   {
    "duration": -1270,
    "start_time": "2021-11-26T12:06:26.243Z"
   },
   {
    "duration": -1278,
    "start_time": "2021-11-26T12:06:26.252Z"
   },
   {
    "duration": -1287,
    "start_time": "2021-11-26T12:06:26.262Z"
   },
   {
    "duration": -1294,
    "start_time": "2021-11-26T12:06:26.271Z"
   },
   {
    "duration": -1320,
    "start_time": "2021-11-26T12:06:26.298Z"
   },
   {
    "duration": -1327,
    "start_time": "2021-11-26T12:06:26.307Z"
   },
   {
    "duration": -1336,
    "start_time": "2021-11-26T12:06:26.317Z"
   },
   {
    "duration": -1344,
    "start_time": "2021-11-26T12:06:26.326Z"
   },
   {
    "duration": -1353,
    "start_time": "2021-11-26T12:06:26.336Z"
   },
   {
    "duration": 7,
    "start_time": "2021-11-26T12:45:51.200Z"
   },
   {
    "duration": 8,
    "start_time": "2021-11-26T12:46:03.659Z"
   },
   {
    "duration": 47,
    "start_time": "2021-11-26T12:46:14.061Z"
   },
   {
    "duration": 90,
    "start_time": "2021-11-26T12:47:03.092Z"
   },
   {
    "duration": 4,
    "start_time": "2021-11-26T12:47:08.488Z"
   },
   {
    "duration": 190,
    "start_time": "2021-11-26T12:47:08.499Z"
   },
   {
    "duration": 16,
    "start_time": "2021-11-26T12:47:08.692Z"
   },
   {
    "duration": 12,
    "start_time": "2021-11-26T12:47:08.729Z"
   },
   {
    "duration": 9,
    "start_time": "2021-11-26T12:47:08.744Z"
   },
   {
    "duration": 30,
    "start_time": "2021-11-26T12:47:08.755Z"
   },
   {
    "duration": 45,
    "start_time": "2021-11-26T12:47:08.787Z"
   },
   {
    "duration": 35,
    "start_time": "2021-11-26T12:47:08.834Z"
   },
   {
    "duration": 22,
    "start_time": "2021-11-26T12:47:08.872Z"
   },
   {
    "duration": 57,
    "start_time": "2021-11-26T12:47:08.897Z"
   },
   {
    "duration": 103,
    "start_time": "2021-11-26T12:47:08.957Z"
   },
   {
    "duration": 107,
    "start_time": "2021-11-26T12:47:09.063Z"
   },
   {
    "duration": 83,
    "start_time": "2021-11-26T12:47:09.172Z"
   },
   {
    "duration": 70,
    "start_time": "2021-11-26T12:47:09.258Z"
   },
   {
    "duration": 91,
    "start_time": "2021-11-26T12:47:09.330Z"
   },
   {
    "duration": -1844,
    "start_time": "2021-11-26T12:47:11.268Z"
   },
   {
    "duration": -1857,
    "start_time": "2021-11-26T12:47:11.282Z"
   },
   {
    "duration": -1868,
    "start_time": "2021-11-26T12:47:11.294Z"
   },
   {
    "duration": -1884,
    "start_time": "2021-11-26T12:47:11.312Z"
   },
   {
    "duration": -1898,
    "start_time": "2021-11-26T12:47:11.327Z"
   },
   {
    "duration": -1908,
    "start_time": "2021-11-26T12:47:11.339Z"
   },
   {
    "duration": -1918,
    "start_time": "2021-11-26T12:47:11.350Z"
   },
   {
    "duration": -1928,
    "start_time": "2021-11-26T12:47:11.361Z"
   },
   {
    "duration": -1941,
    "start_time": "2021-11-26T12:47:11.376Z"
   },
   {
    "duration": -1950,
    "start_time": "2021-11-26T12:47:11.386Z"
   },
   {
    "duration": -1961,
    "start_time": "2021-11-26T12:47:11.398Z"
   },
   {
    "duration": -1970,
    "start_time": "2021-11-26T12:47:11.409Z"
   },
   {
    "duration": -1980,
    "start_time": "2021-11-26T12:47:11.420Z"
   },
   {
    "duration": -1991,
    "start_time": "2021-11-26T12:47:11.432Z"
   },
   {
    "duration": -2011,
    "start_time": "2021-11-26T12:47:11.454Z"
   },
   {
    "duration": -2025,
    "start_time": "2021-11-26T12:47:11.469Z"
   },
   {
    "duration": -2035,
    "start_time": "2021-11-26T12:47:11.480Z"
   },
   {
    "duration": -2045,
    "start_time": "2021-11-26T12:47:11.491Z"
   },
   {
    "duration": -2054,
    "start_time": "2021-11-26T12:47:11.502Z"
   },
   {
    "duration": -2062,
    "start_time": "2021-11-26T12:47:11.511Z"
   },
   {
    "duration": -2096,
    "start_time": "2021-11-26T12:47:11.546Z"
   },
   {
    "duration": -2105,
    "start_time": "2021-11-26T12:47:11.556Z"
   },
   {
    "duration": -2115,
    "start_time": "2021-11-26T12:47:11.568Z"
   },
   {
    "duration": 100,
    "start_time": "2021-11-26T12:52:07.537Z"
   },
   {
    "duration": 117,
    "start_time": "2021-11-26T12:58:14.643Z"
   },
   {
    "duration": 98,
    "start_time": "2021-11-26T12:59:05.370Z"
   },
   {
    "duration": 80,
    "start_time": "2021-11-26T12:59:15.887Z"
   },
   {
    "duration": 88,
    "start_time": "2021-11-26T12:59:54.615Z"
   },
   {
    "duration": 5,
    "start_time": "2021-11-26T13:00:13.527Z"
   },
   {
    "duration": 5,
    "start_time": "2021-11-26T13:00:30.591Z"
   },
   {
    "duration": 268,
    "start_time": "2021-11-26T13:02:27.495Z"
   },
   {
    "duration": 8,
    "start_time": "2021-11-26T13:02:27.902Z"
   },
   {
    "duration": 4,
    "start_time": "2021-11-26T13:02:35.051Z"
   },
   {
    "duration": 201,
    "start_time": "2021-11-26T13:02:35.062Z"
   },
   {
    "duration": 17,
    "start_time": "2021-11-26T13:02:35.266Z"
   },
   {
    "duration": 45,
    "start_time": "2021-11-26T13:02:35.286Z"
   },
   {
    "duration": 16,
    "start_time": "2021-11-26T13:02:35.334Z"
   },
   {
    "duration": 27,
    "start_time": "2021-11-26T13:02:35.352Z"
   },
   {
    "duration": 5,
    "start_time": "2021-11-26T13:02:35.381Z"
   },
   {
    "duration": 56,
    "start_time": "2021-11-26T13:02:35.388Z"
   },
   {
    "duration": 23,
    "start_time": "2021-11-26T13:02:35.448Z"
   },
   {
    "duration": 57,
    "start_time": "2021-11-26T13:02:35.475Z"
   },
   {
    "duration": 98,
    "start_time": "2021-11-26T13:02:35.535Z"
   },
   {
    "duration": 116,
    "start_time": "2021-11-26T13:02:35.635Z"
   },
   {
    "duration": 88,
    "start_time": "2021-11-26T13:02:35.753Z"
   },
   {
    "duration": 44,
    "start_time": "2021-11-26T13:02:35.843Z"
   },
   {
    "duration": 4,
    "start_time": "2021-11-26T13:02:35.889Z"
   },
   {
    "duration": 320,
    "start_time": "2021-11-26T13:02:35.895Z"
   },
   {
    "duration": -554,
    "start_time": "2021-11-26T13:02:36.772Z"
   },
   {
    "duration": -564,
    "start_time": "2021-11-26T13:02:36.783Z"
   },
   {
    "duration": -582,
    "start_time": "2021-11-26T13:02:36.803Z"
   },
   {
    "duration": -591,
    "start_time": "2021-11-26T13:02:36.813Z"
   },
   {
    "duration": -611,
    "start_time": "2021-11-26T13:02:36.835Z"
   },
   {
    "duration": -618,
    "start_time": "2021-11-26T13:02:36.844Z"
   },
   {
    "duration": -627,
    "start_time": "2021-11-26T13:02:36.854Z"
   },
   {
    "duration": -633,
    "start_time": "2021-11-26T13:02:36.862Z"
   },
   {
    "duration": -657,
    "start_time": "2021-11-26T13:02:36.887Z"
   },
   {
    "duration": -665,
    "start_time": "2021-11-26T13:02:36.896Z"
   },
   {
    "duration": -673,
    "start_time": "2021-11-26T13:02:36.906Z"
   },
   {
    "duration": -682,
    "start_time": "2021-11-26T13:02:36.916Z"
   },
   {
    "duration": -690,
    "start_time": "2021-11-26T13:02:36.925Z"
   },
   {
    "duration": -716,
    "start_time": "2021-11-26T13:02:36.952Z"
   },
   {
    "duration": -724,
    "start_time": "2021-11-26T13:02:36.962Z"
   },
   {
    "duration": -733,
    "start_time": "2021-11-26T13:02:36.972Z"
   },
   {
    "duration": -741,
    "start_time": "2021-11-26T13:02:36.981Z"
   },
   {
    "duration": -767,
    "start_time": "2021-11-26T13:02:37.008Z"
   },
   {
    "duration": -776,
    "start_time": "2021-11-26T13:02:37.019Z"
   },
   {
    "duration": -783,
    "start_time": "2021-11-26T13:02:37.027Z"
   },
   {
    "duration": -792,
    "start_time": "2021-11-26T13:02:37.037Z"
   },
   {
    "duration": -799,
    "start_time": "2021-11-26T13:02:37.046Z"
   },
   {
    "duration": 533,
    "start_time": "2021-11-26T13:14:35.896Z"
   },
   {
    "duration": 3,
    "start_time": "2021-11-26T13:14:43.530Z"
   },
   {
    "duration": 287,
    "start_time": "2021-11-26T13:14:43.542Z"
   },
   {
    "duration": 33,
    "start_time": "2021-11-26T13:14:43.832Z"
   },
   {
    "duration": 17,
    "start_time": "2021-11-26T13:14:43.871Z"
   },
   {
    "duration": 40,
    "start_time": "2021-11-26T13:14:43.892Z"
   },
   {
    "duration": 25,
    "start_time": "2021-11-26T13:14:43.935Z"
   },
   {
    "duration": 7,
    "start_time": "2021-11-26T13:14:43.963Z"
   },
   {
    "duration": 70,
    "start_time": "2021-11-26T13:14:43.974Z"
   },
   {
    "duration": 37,
    "start_time": "2021-11-26T13:14:44.051Z"
   },
   {
    "duration": 70,
    "start_time": "2021-11-26T13:14:44.092Z"
   },
   {
    "duration": 122,
    "start_time": "2021-11-26T13:14:44.165Z"
   },
   {
    "duration": 155,
    "start_time": "2021-11-26T13:14:44.290Z"
   },
   {
    "duration": 130,
    "start_time": "2021-11-26T13:14:44.448Z"
   },
   {
    "duration": 66,
    "start_time": "2021-11-26T13:14:44.580Z"
   },
   {
    "duration": 9,
    "start_time": "2021-11-26T13:14:44.652Z"
   },
   {
    "duration": 540,
    "start_time": "2021-11-26T13:14:44.663Z"
   },
   {
    "duration": -637,
    "start_time": "2021-11-26T13:14:45.843Z"
   },
   {
    "duration": -645,
    "start_time": "2021-11-26T13:14:45.853Z"
   },
   {
    "duration": -655,
    "start_time": "2021-11-26T13:14:45.864Z"
   },
   {
    "duration": -679,
    "start_time": "2021-11-26T13:14:45.890Z"
   },
   {
    "duration": -689,
    "start_time": "2021-11-26T13:14:45.902Z"
   },
   {
    "duration": -697,
    "start_time": "2021-11-26T13:14:45.911Z"
   },
   {
    "duration": -704,
    "start_time": "2021-11-26T13:14:45.920Z"
   },
   {
    "duration": -711,
    "start_time": "2021-11-26T13:14:45.929Z"
   },
   {
    "duration": -721,
    "start_time": "2021-11-26T13:14:45.940Z"
   },
   {
    "duration": -728,
    "start_time": "2021-11-26T13:14:45.949Z"
   },
   {
    "duration": -738,
    "start_time": "2021-11-26T13:14:45.961Z"
   },
   {
    "duration": -747,
    "start_time": "2021-11-26T13:14:45.971Z"
   },
   {
    "duration": -756,
    "start_time": "2021-11-26T13:14:45.981Z"
   },
   {
    "duration": -779,
    "start_time": "2021-11-26T13:14:46.006Z"
   },
   {
    "duration": -787,
    "start_time": "2021-11-26T13:14:46.016Z"
   },
   {
    "duration": -795,
    "start_time": "2021-11-26T13:14:46.025Z"
   },
   {
    "duration": -802,
    "start_time": "2021-11-26T13:14:46.034Z"
   },
   {
    "duration": -810,
    "start_time": "2021-11-26T13:14:46.043Z"
   },
   {
    "duration": -826,
    "start_time": "2021-11-26T13:14:46.061Z"
   },
   {
    "duration": -834,
    "start_time": "2021-11-26T13:14:46.070Z"
   },
   {
    "duration": -841,
    "start_time": "2021-11-26T13:14:46.079Z"
   },
   {
    "duration": -849,
    "start_time": "2021-11-26T13:14:46.088Z"
   },
   {
    "duration": 4,
    "start_time": "2021-11-26T13:15:44.322Z"
   },
   {
    "duration": 525,
    "start_time": "2021-11-26T13:15:53.694Z"
   },
   {
    "duration": 14,
    "start_time": "2021-11-26T13:16:39.408Z"
   },
   {
    "duration": 7,
    "start_time": "2021-11-26T13:16:52.519Z"
   },
   {
    "duration": 13,
    "start_time": "2021-11-26T13:22:09.039Z"
   },
   {
    "duration": 12,
    "start_time": "2021-11-26T13:22:17.268Z"
   },
   {
    "duration": 7,
    "start_time": "2021-11-26T13:22:18.198Z"
   },
   {
    "duration": 3,
    "start_time": "2021-11-26T13:23:18.859Z"
   },
   {
    "duration": 212,
    "start_time": "2021-11-26T13:23:18.868Z"
   },
   {
    "duration": 15,
    "start_time": "2021-11-26T13:23:19.083Z"
   },
   {
    "duration": 40,
    "start_time": "2021-11-26T13:23:19.102Z"
   },
   {
    "duration": 8,
    "start_time": "2021-11-26T13:23:19.146Z"
   },
   {
    "duration": 22,
    "start_time": "2021-11-26T13:23:19.157Z"
   },
   {
    "duration": 5,
    "start_time": "2021-11-26T13:23:19.181Z"
   },
   {
    "duration": 33,
    "start_time": "2021-11-26T13:23:19.230Z"
   },
   {
    "duration": 22,
    "start_time": "2021-11-26T13:23:19.268Z"
   },
   {
    "duration": 64,
    "start_time": "2021-11-26T13:23:19.293Z"
   },
   {
    "duration": 105,
    "start_time": "2021-11-26T13:23:19.360Z"
   },
   {
    "duration": 105,
    "start_time": "2021-11-26T13:23:19.468Z"
   },
   {
    "duration": 95,
    "start_time": "2021-11-26T13:23:19.576Z"
   },
   {
    "duration": 70,
    "start_time": "2021-11-26T13:23:19.673Z"
   },
   {
    "duration": 5,
    "start_time": "2021-11-26T13:23:19.746Z"
   },
   {
    "duration": 506,
    "start_time": "2021-11-26T13:23:19.754Z"
   },
   {
    "duration": -558,
    "start_time": "2021-11-26T13:23:20.821Z"
   },
   {
    "duration": -565,
    "start_time": "2021-11-26T13:23:20.830Z"
   },
   {
    "duration": -575,
    "start_time": "2021-11-26T13:23:20.841Z"
   },
   {
    "duration": -582,
    "start_time": "2021-11-26T13:23:20.850Z"
   },
   {
    "duration": -590,
    "start_time": "2021-11-26T13:23:20.859Z"
   },
   {
    "duration": -599,
    "start_time": "2021-11-26T13:23:20.869Z"
   },
   {
    "duration": -607,
    "start_time": "2021-11-26T13:23:20.878Z"
   },
   {
    "duration": -614,
    "start_time": "2021-11-26T13:23:20.887Z"
   },
   {
    "duration": -623,
    "start_time": "2021-11-26T13:23:20.897Z"
   },
   {
    "duration": -649,
    "start_time": "2021-11-26T13:23:20.925Z"
   },
   {
    "duration": -661,
    "start_time": "2021-11-26T13:23:20.938Z"
   },
   {
    "duration": -667,
    "start_time": "2021-11-26T13:23:20.946Z"
   },
   {
    "duration": -676,
    "start_time": "2021-11-26T13:23:20.956Z"
   },
   {
    "duration": -682,
    "start_time": "2021-11-26T13:23:20.964Z"
   },
   {
    "duration": -690,
    "start_time": "2021-11-26T13:23:20.973Z"
   },
   {
    "duration": -700,
    "start_time": "2021-11-26T13:23:20.984Z"
   },
   {
    "duration": -707,
    "start_time": "2021-11-26T13:23:20.993Z"
   },
   {
    "duration": -715,
    "start_time": "2021-11-26T13:23:21.002Z"
   },
   {
    "duration": -722,
    "start_time": "2021-11-26T13:23:21.011Z"
   },
   {
    "duration": -731,
    "start_time": "2021-11-26T13:23:21.021Z"
   },
   {
    "duration": -756,
    "start_time": "2021-11-26T13:23:21.047Z"
   },
   {
    "duration": -764,
    "start_time": "2021-11-26T13:23:21.057Z"
   },
   {
    "duration": 14,
    "start_time": "2021-11-26T13:23:32.884Z"
   },
   {
    "duration": 4,
    "start_time": "2021-11-26T13:24:03.332Z"
   },
   {
    "duration": 215,
    "start_time": "2021-11-26T13:24:03.343Z"
   },
   {
    "duration": 17,
    "start_time": "2021-11-26T13:24:03.561Z"
   },
   {
    "duration": 46,
    "start_time": "2021-11-26T13:24:03.582Z"
   },
   {
    "duration": 15,
    "start_time": "2021-11-26T13:24:03.632Z"
   },
   {
    "duration": 17,
    "start_time": "2021-11-26T13:24:03.650Z"
   },
   {
    "duration": 5,
    "start_time": "2021-11-26T13:24:03.670Z"
   },
   {
    "duration": 56,
    "start_time": "2021-11-26T13:24:03.678Z"
   },
   {
    "duration": 29,
    "start_time": "2021-11-26T13:24:03.738Z"
   },
   {
    "duration": 33,
    "start_time": "2021-11-26T13:24:03.771Z"
   },
   {
    "duration": 99,
    "start_time": "2021-11-26T13:24:03.830Z"
   },
   {
    "duration": 111,
    "start_time": "2021-11-26T13:24:03.932Z"
   },
   {
    "duration": 90,
    "start_time": "2021-11-26T13:24:04.046Z"
   },
   {
    "duration": 51,
    "start_time": "2021-11-26T13:24:04.139Z"
   },
   {
    "duration": 4,
    "start_time": "2021-11-26T13:24:04.230Z"
   },
   {
    "duration": 21,
    "start_time": "2021-11-26T13:24:04.238Z"
   },
   {
    "duration": 12,
    "start_time": "2021-11-26T13:24:04.262Z"
   },
   {
    "duration": 16,
    "start_time": "2021-11-26T13:24:04.277Z"
   },
   {
    "duration": 11,
    "start_time": "2021-11-26T13:24:04.296Z"
   },
   {
    "duration": 28,
    "start_time": "2021-11-26T13:24:04.309Z"
   },
   {
    "duration": 11,
    "start_time": "2021-11-26T13:24:04.340Z"
   },
   {
    "duration": 14,
    "start_time": "2021-11-26T13:24:04.353Z"
   },
   {
    "duration": 16,
    "start_time": "2021-11-26T13:24:04.369Z"
   },
   {
    "duration": 13,
    "start_time": "2021-11-26T13:24:04.389Z"
   },
   {
    "duration": 11,
    "start_time": "2021-11-26T13:24:04.405Z"
   },
   {
    "duration": 9,
    "start_time": "2021-11-26T13:24:04.419Z"
   },
   {
    "duration": 13,
    "start_time": "2021-11-26T13:24:04.430Z"
   },
   {
    "duration": 7,
    "start_time": "2021-11-26T13:24:04.445Z"
   },
   {
    "duration": 5,
    "start_time": "2021-11-26T13:24:04.455Z"
   },
   {
    "duration": 17,
    "start_time": "2021-11-26T13:24:04.462Z"
   },
   {
    "duration": 17,
    "start_time": "2021-11-26T13:24:04.481Z"
   },
   {
    "duration": 18,
    "start_time": "2021-11-26T13:24:04.501Z"
   },
   {
    "duration": 20,
    "start_time": "2021-11-26T13:24:04.522Z"
   },
   {
    "duration": 19,
    "start_time": "2021-11-26T13:24:04.544Z"
   },
   {
    "duration": 20,
    "start_time": "2021-11-26T13:24:04.565Z"
   },
   {
    "duration": 23,
    "start_time": "2021-11-26T13:24:04.587Z"
   },
   {
    "duration": 23,
    "start_time": "2021-11-26T13:24:04.613Z"
   },
   {
    "duration": 23,
    "start_time": "2021-11-26T13:24:04.638Z"
   },
   {
    "duration": 356,
    "start_time": "2021-11-26T16:14:21.497Z"
   },
   {
    "duration": 769,
    "start_time": "2021-11-26T16:14:45.236Z"
   },
   {
    "duration": 187,
    "start_time": "2021-11-26T16:14:46.007Z"
   },
   {
    "duration": 25,
    "start_time": "2021-11-26T16:14:46.198Z"
   },
   {
    "duration": 12,
    "start_time": "2021-11-26T16:14:46.226Z"
   },
   {
    "duration": 6,
    "start_time": "2021-11-26T16:14:46.241Z"
   },
   {
    "duration": 51,
    "start_time": "2021-11-26T16:14:46.250Z"
   },
   {
    "duration": 7,
    "start_time": "2021-11-26T16:14:46.303Z"
   },
   {
    "duration": 31,
    "start_time": "2021-11-26T16:14:46.316Z"
   },
   {
    "duration": 24,
    "start_time": "2021-11-26T16:14:46.383Z"
   },
   {
    "duration": 32,
    "start_time": "2021-11-26T16:14:46.409Z"
   },
   {
    "duration": 150,
    "start_time": "2021-11-26T16:14:46.444Z"
   },
   {
    "duration": 153,
    "start_time": "2021-11-26T16:14:46.597Z"
   },
   {
    "duration": 130,
    "start_time": "2021-11-26T16:14:46.753Z"
   },
   {
    "duration": 55,
    "start_time": "2021-11-26T16:14:46.886Z"
   },
   {
    "duration": 42,
    "start_time": "2021-11-26T16:14:46.944Z"
   },
   {
    "duration": 29,
    "start_time": "2021-11-26T16:14:46.989Z"
   },
   {
    "duration": 13,
    "start_time": "2021-11-26T16:14:47.022Z"
   },
   {
    "duration": 4,
    "start_time": "2021-11-26T16:14:47.038Z"
   },
   {
    "duration": 7,
    "start_time": "2021-11-26T16:14:47.044Z"
   },
   {
    "duration": 30,
    "start_time": "2021-11-26T16:14:47.054Z"
   },
   {
    "duration": 10,
    "start_time": "2021-11-26T16:14:47.087Z"
   },
   {
    "duration": 6,
    "start_time": "2021-11-26T16:14:47.100Z"
   },
   {
    "duration": 4,
    "start_time": "2021-11-26T16:14:47.113Z"
   },
   {
    "duration": 6,
    "start_time": "2021-11-26T16:14:47.120Z"
   },
   {
    "duration": 6,
    "start_time": "2021-11-26T16:14:47.129Z"
   },
   {
    "duration": 44,
    "start_time": "2021-11-26T16:14:47.138Z"
   },
   {
    "duration": 4,
    "start_time": "2021-11-26T16:14:47.185Z"
   },
   {
    "duration": 6,
    "start_time": "2021-11-26T16:14:47.191Z"
   },
   {
    "duration": 6,
    "start_time": "2021-11-26T16:14:47.200Z"
   },
   {
    "duration": 7,
    "start_time": "2021-11-26T16:14:47.208Z"
   },
   {
    "duration": 12,
    "start_time": "2021-11-26T16:14:47.217Z"
   },
   {
    "duration": 10,
    "start_time": "2021-11-26T16:14:47.231Z"
   },
   {
    "duration": 10,
    "start_time": "2021-11-26T16:14:47.244Z"
   },
   {
    "duration": 6,
    "start_time": "2021-11-26T16:14:47.256Z"
   },
   {
    "duration": 3,
    "start_time": "2021-11-26T16:14:47.282Z"
   },
   {
    "duration": 16,
    "start_time": "2021-11-26T16:14:47.287Z"
   },
   {
    "duration": 10,
    "start_time": "2021-11-26T16:14:47.306Z"
   },
   {
    "duration": 8,
    "start_time": "2021-11-26T16:14:47.318Z"
   },
   {
    "duration": 125,
    "start_time": "2021-11-26T16:19:05.102Z"
   },
   {
    "duration": 70,
    "start_time": "2021-11-26T16:20:20.490Z"
   },
   {
    "duration": 463,
    "start_time": "2021-11-27T07:19:06.427Z"
   },
   {
    "duration": 339,
    "start_time": "2021-11-27T07:19:13.749Z"
   },
   {
    "duration": 367,
    "start_time": "2021-11-27T07:19:43.791Z"
   },
   {
    "duration": 635,
    "start_time": "2021-11-27T07:20:04.241Z"
   },
   {
    "duration": 150,
    "start_time": "2021-11-27T07:20:04.878Z"
   },
   {
    "duration": 16,
    "start_time": "2021-11-27T07:20:05.031Z"
   },
   {
    "duration": 30,
    "start_time": "2021-11-27T07:20:05.049Z"
   },
   {
    "duration": 23,
    "start_time": "2021-11-27T07:20:05.081Z"
   },
   {
    "duration": 46,
    "start_time": "2021-11-27T07:20:05.106Z"
   },
   {
    "duration": 11,
    "start_time": "2021-11-27T07:20:05.154Z"
   },
   {
    "duration": 47,
    "start_time": "2021-11-27T07:20:05.169Z"
   },
   {
    "duration": 34,
    "start_time": "2021-11-27T07:20:05.219Z"
   },
   {
    "duration": 54,
    "start_time": "2021-11-27T07:20:05.256Z"
   },
   {
    "duration": 107,
    "start_time": "2021-11-27T07:20:05.312Z"
   },
   {
    "duration": 121,
    "start_time": "2021-11-27T07:20:05.422Z"
   },
   {
    "duration": 97,
    "start_time": "2021-11-27T07:20:05.546Z"
   },
   {
    "duration": 61,
    "start_time": "2021-11-27T07:20:05.645Z"
   },
   {
    "duration": 3,
    "start_time": "2021-11-27T07:20:05.708Z"
   },
   {
    "duration": 15,
    "start_time": "2021-11-27T07:20:05.713Z"
   },
   {
    "duration": 68,
    "start_time": "2021-11-27T07:20:05.730Z"
   },
   {
    "duration": 897,
    "start_time": "2021-11-27T07:20:05.800Z"
   },
   {
    "duration": 1463,
    "start_time": "2021-11-27T07:20:05.236Z"
   },
   {
    "duration": 1458,
    "start_time": "2021-11-27T07:20:05.242Z"
   },
   {
    "duration": 1458,
    "start_time": "2021-11-27T07:20:05.243Z"
   },
   {
    "duration": 1458,
    "start_time": "2021-11-27T07:20:05.244Z"
   },
   {
    "duration": 1457,
    "start_time": "2021-11-27T07:20:05.246Z"
   },
   {
    "duration": 1457,
    "start_time": "2021-11-27T07:20:05.247Z"
   },
   {
    "duration": 1456,
    "start_time": "2021-11-27T07:20:05.249Z"
   },
   {
    "duration": 1456,
    "start_time": "2021-11-27T07:20:05.250Z"
   },
   {
    "duration": 1455,
    "start_time": "2021-11-27T07:20:05.252Z"
   },
   {
    "duration": 1454,
    "start_time": "2021-11-27T07:20:05.253Z"
   },
   {
    "duration": 1454,
    "start_time": "2021-11-27T07:20:05.254Z"
   },
   {
    "duration": 1453,
    "start_time": "2021-11-27T07:20:05.256Z"
   },
   {
    "duration": 1452,
    "start_time": "2021-11-27T07:20:05.258Z"
   },
   {
    "duration": 1452,
    "start_time": "2021-11-27T07:20:05.259Z"
   },
   {
    "duration": 1451,
    "start_time": "2021-11-27T07:20:05.261Z"
   },
   {
    "duration": 1451,
    "start_time": "2021-11-27T07:20:05.262Z"
   },
   {
    "duration": 1446,
    "start_time": "2021-11-27T07:20:05.268Z"
   },
   {
    "duration": 1446,
    "start_time": "2021-11-27T07:20:05.269Z"
   },
   {
    "duration": 1445,
    "start_time": "2021-11-27T07:20:05.271Z"
   },
   {
    "duration": 1445,
    "start_time": "2021-11-27T07:20:05.272Z"
   },
   {
    "duration": 530,
    "start_time": "2021-11-27T07:20:40.957Z"
   },
   {
    "duration": 598,
    "start_time": "2021-11-27T07:20:56.358Z"
   },
   {
    "duration": 453,
    "start_time": "2021-11-27T07:21:01.896Z"
   },
   {
    "duration": 2,
    "start_time": "2021-11-27T07:21:11.040Z"
   },
   {
    "duration": 146,
    "start_time": "2021-11-27T07:21:11.044Z"
   },
   {
    "duration": 14,
    "start_time": "2021-11-27T07:21:11.192Z"
   },
   {
    "duration": 25,
    "start_time": "2021-11-27T07:21:11.208Z"
   },
   {
    "duration": 18,
    "start_time": "2021-11-27T07:21:11.235Z"
   },
   {
    "duration": 35,
    "start_time": "2021-11-27T07:21:11.254Z"
   },
   {
    "duration": 25,
    "start_time": "2021-11-27T07:21:11.290Z"
   },
   {
    "duration": 39,
    "start_time": "2021-11-27T07:21:11.318Z"
   },
   {
    "duration": 29,
    "start_time": "2021-11-27T07:21:11.359Z"
   },
   {
    "duration": 31,
    "start_time": "2021-11-27T07:21:11.390Z"
   },
   {
    "duration": 69,
    "start_time": "2021-11-27T07:21:11.422Z"
   },
   {
    "duration": 62,
    "start_time": "2021-11-27T07:21:11.493Z"
   },
   {
    "duration": 59,
    "start_time": "2021-11-27T07:21:11.557Z"
   },
   {
    "duration": 40,
    "start_time": "2021-11-27T07:21:11.618Z"
   },
   {
    "duration": 3,
    "start_time": "2021-11-27T07:21:11.660Z"
   },
   {
    "duration": 25,
    "start_time": "2021-11-27T07:21:11.664Z"
   },
   {
    "duration": 66,
    "start_time": "2021-11-27T07:21:11.691Z"
   },
   {
    "duration": 345,
    "start_time": "2021-11-27T07:21:11.759Z"
   },
   {
    "duration": 1478,
    "start_time": "2021-11-27T07:21:10.628Z"
   },
   {
    "duration": 1474,
    "start_time": "2021-11-27T07:21:10.633Z"
   },
   {
    "duration": 1473,
    "start_time": "2021-11-27T07:21:10.635Z"
   },
   {
    "duration": 1472,
    "start_time": "2021-11-27T07:21:10.636Z"
   },
   {
    "duration": 1471,
    "start_time": "2021-11-27T07:21:10.638Z"
   },
   {
    "duration": 1469,
    "start_time": "2021-11-27T07:21:10.641Z"
   },
   {
    "duration": 1468,
    "start_time": "2021-11-27T07:21:10.643Z"
   },
   {
    "duration": 1467,
    "start_time": "2021-11-27T07:21:10.645Z"
   },
   {
    "duration": 1467,
    "start_time": "2021-11-27T07:21:10.646Z"
   },
   {
    "duration": 1465,
    "start_time": "2021-11-27T07:21:10.648Z"
   },
   {
    "duration": 1464,
    "start_time": "2021-11-27T07:21:10.650Z"
   },
   {
    "duration": 1464,
    "start_time": "2021-11-27T07:21:10.651Z"
   },
   {
    "duration": 1463,
    "start_time": "2021-11-27T07:21:10.653Z"
   },
   {
    "duration": 1463,
    "start_time": "2021-11-27T07:21:10.654Z"
   },
   {
    "duration": 1458,
    "start_time": "2021-11-27T07:21:10.660Z"
   },
   {
    "duration": 1457,
    "start_time": "2021-11-27T07:21:10.662Z"
   },
   {
    "duration": 1453,
    "start_time": "2021-11-27T07:21:10.667Z"
   },
   {
    "duration": 1451,
    "start_time": "2021-11-27T07:21:10.670Z"
   },
   {
    "duration": 1449,
    "start_time": "2021-11-27T07:21:10.673Z"
   },
   {
    "duration": 1446,
    "start_time": "2021-11-27T07:21:10.676Z"
   },
   {
    "duration": 359,
    "start_time": "2021-11-27T07:21:48.280Z"
   },
   {
    "duration": 336,
    "start_time": "2021-11-27T07:23:10.671Z"
   },
   {
    "duration": 4,
    "start_time": "2021-11-27T07:23:22.298Z"
   },
   {
    "duration": 4,
    "start_time": "2021-11-27T07:23:38.116Z"
   },
   {
    "duration": 4,
    "start_time": "2021-11-27T07:23:42.834Z"
   },
   {
    "duration": 2,
    "start_time": "2021-11-27T07:23:43.681Z"
   },
   {
    "duration": 2,
    "start_time": "2021-11-27T07:23:47.654Z"
   },
   {
    "duration": 148,
    "start_time": "2021-11-27T07:23:47.659Z"
   },
   {
    "duration": 10,
    "start_time": "2021-11-27T07:23:47.809Z"
   },
   {
    "duration": 20,
    "start_time": "2021-11-27T07:23:47.820Z"
   },
   {
    "duration": 9,
    "start_time": "2021-11-27T07:23:47.842Z"
   },
   {
    "duration": 25,
    "start_time": "2021-11-27T07:23:47.853Z"
   },
   {
    "duration": 4,
    "start_time": "2021-11-27T07:23:47.880Z"
   },
   {
    "duration": 33,
    "start_time": "2021-11-27T07:23:47.885Z"
   },
   {
    "duration": 19,
    "start_time": "2021-11-27T07:23:47.921Z"
   },
   {
    "duration": 31,
    "start_time": "2021-11-27T07:23:47.942Z"
   },
   {
    "duration": 62,
    "start_time": "2021-11-27T07:23:47.975Z"
   },
   {
    "duration": 56,
    "start_time": "2021-11-27T07:23:48.039Z"
   },
   {
    "duration": 57,
    "start_time": "2021-11-27T07:23:48.096Z"
   },
   {
    "duration": 54,
    "start_time": "2021-11-27T07:23:48.155Z"
   },
   {
    "duration": 3,
    "start_time": "2021-11-27T07:23:48.211Z"
   },
   {
    "duration": 21,
    "start_time": "2021-11-27T07:23:48.216Z"
   },
   {
    "duration": 50,
    "start_time": "2021-11-27T07:23:48.238Z"
   },
   {
    "duration": 3,
    "start_time": "2021-11-27T07:23:48.290Z"
   },
   {
    "duration": 3,
    "start_time": "2021-11-27T07:23:48.306Z"
   },
   {
    "duration": 17,
    "start_time": "2021-11-27T07:23:48.311Z"
   },
   {
    "duration": 13,
    "start_time": "2021-11-27T07:23:48.330Z"
   },
   {
    "duration": 12,
    "start_time": "2021-11-27T07:23:48.344Z"
   },
   {
    "duration": 10,
    "start_time": "2021-11-27T07:23:48.358Z"
   },
   {
    "duration": 12,
    "start_time": "2021-11-27T07:23:48.370Z"
   },
   {
    "duration": 10,
    "start_time": "2021-11-27T07:23:48.383Z"
   },
   {
    "duration": 11,
    "start_time": "2021-11-27T07:23:48.395Z"
   },
   {
    "duration": 9,
    "start_time": "2021-11-27T07:23:48.409Z"
   },
   {
    "duration": 10,
    "start_time": "2021-11-27T07:23:48.419Z"
   },
   {
    "duration": 12,
    "start_time": "2021-11-27T07:23:48.431Z"
   },
   {
    "duration": 4,
    "start_time": "2021-11-27T07:23:48.445Z"
   },
   {
    "duration": 7,
    "start_time": "2021-11-27T07:23:48.450Z"
   },
   {
    "duration": 13,
    "start_time": "2021-11-27T07:23:48.459Z"
   },
   {
    "duration": 9,
    "start_time": "2021-11-27T07:23:48.474Z"
   },
   {
    "duration": 11,
    "start_time": "2021-11-27T07:23:48.485Z"
   },
   {
    "duration": 6,
    "start_time": "2021-11-27T07:23:48.498Z"
   },
   {
    "duration": 11,
    "start_time": "2021-11-27T07:23:48.505Z"
   },
   {
    "duration": 10,
    "start_time": "2021-11-27T07:23:48.518Z"
   },
   {
    "duration": 7,
    "start_time": "2021-11-27T07:23:48.530Z"
   },
   {
    "duration": 4,
    "start_time": "2021-11-27T07:24:00.658Z"
   },
   {
    "duration": 395,
    "start_time": "2021-11-27T07:25:03.913Z"
   },
   {
    "duration": 346,
    "start_time": "2021-11-27T07:25:38.329Z"
   },
   {
    "duration": 175,
    "start_time": "2021-11-27T07:34:06.744Z"
   },
   {
    "duration": 446,
    "start_time": "2021-11-27T07:36:47.610Z"
   },
   {
    "duration": 3,
    "start_time": "2021-11-27T07:40:45.644Z"
   },
   {
    "duration": 138,
    "start_time": "2021-11-27T07:40:45.649Z"
   },
   {
    "duration": 9,
    "start_time": "2021-11-27T07:40:45.789Z"
   },
   {
    "duration": 9,
    "start_time": "2021-11-27T07:40:45.800Z"
   },
   {
    "duration": 8,
    "start_time": "2021-11-27T07:40:45.811Z"
   },
   {
    "duration": 20,
    "start_time": "2021-11-27T07:40:45.821Z"
   },
   {
    "duration": 4,
    "start_time": "2021-11-27T07:40:45.842Z"
   },
   {
    "duration": 24,
    "start_time": "2021-11-27T07:40:45.849Z"
   },
   {
    "duration": 33,
    "start_time": "2021-11-27T07:40:45.875Z"
   },
   {
    "duration": 24,
    "start_time": "2021-11-27T07:40:45.910Z"
   },
   {
    "duration": 54,
    "start_time": "2021-11-27T07:40:45.935Z"
   },
   {
    "duration": 72,
    "start_time": "2021-11-27T07:40:45.991Z"
   },
   {
    "duration": 69,
    "start_time": "2021-11-27T07:40:46.065Z"
   },
   {
    "duration": 43,
    "start_time": "2021-11-27T07:40:46.136Z"
   },
   {
    "duration": 26,
    "start_time": "2021-11-27T07:40:46.181Z"
   },
   {
    "duration": 15,
    "start_time": "2021-11-27T07:40:46.209Z"
   },
   {
    "duration": 60,
    "start_time": "2021-11-27T07:40:46.225Z"
   },
   {
    "duration": 353,
    "start_time": "2021-11-27T07:40:46.287Z"
   },
   {
    "duration": 1452,
    "start_time": "2021-11-27T07:40:45.190Z"
   },
   {
    "duration": 1451,
    "start_time": "2021-11-27T07:40:45.192Z"
   },
   {
    "duration": 1450,
    "start_time": "2021-11-27T07:40:45.194Z"
   },
   {
    "duration": 1449,
    "start_time": "2021-11-27T07:40:45.195Z"
   },
   {
    "duration": 1448,
    "start_time": "2021-11-27T07:40:45.197Z"
   },
   {
    "duration": 1447,
    "start_time": "2021-11-27T07:40:45.199Z"
   },
   {
    "duration": 1447,
    "start_time": "2021-11-27T07:40:45.200Z"
   },
   {
    "duration": 1446,
    "start_time": "2021-11-27T07:40:45.202Z"
   },
   {
    "duration": 1446,
    "start_time": "2021-11-27T07:40:45.203Z"
   },
   {
    "duration": 1445,
    "start_time": "2021-11-27T07:40:45.205Z"
   },
   {
    "duration": 1444,
    "start_time": "2021-11-27T07:40:45.207Z"
   },
   {
    "duration": 1444,
    "start_time": "2021-11-27T07:40:45.208Z"
   },
   {
    "duration": 1439,
    "start_time": "2021-11-27T07:40:45.214Z"
   },
   {
    "duration": 1439,
    "start_time": "2021-11-27T07:40:45.215Z"
   },
   {
    "duration": 1438,
    "start_time": "2021-11-27T07:40:45.217Z"
   },
   {
    "duration": 1438,
    "start_time": "2021-11-27T07:40:45.218Z"
   },
   {
    "duration": 1437,
    "start_time": "2021-11-27T07:40:45.220Z"
   },
   {
    "duration": 1437,
    "start_time": "2021-11-27T07:40:45.221Z"
   },
   {
    "duration": 1436,
    "start_time": "2021-11-27T07:40:45.223Z"
   },
   {
    "duration": 1436,
    "start_time": "2021-11-27T07:40:45.224Z"
   },
   {
    "duration": 4,
    "start_time": "2021-11-27T07:43:25.708Z"
   },
   {
    "duration": 729,
    "start_time": "2021-11-27T07:43:30.093Z"
   },
   {
    "duration": 346,
    "start_time": "2021-11-27T07:45:48.704Z"
   },
   {
    "duration": 2,
    "start_time": "2021-11-27T07:45:53.668Z"
   },
   {
    "duration": 151,
    "start_time": "2021-11-27T07:45:53.672Z"
   },
   {
    "duration": 10,
    "start_time": "2021-11-27T07:45:53.825Z"
   },
   {
    "duration": 8,
    "start_time": "2021-11-27T07:45:53.837Z"
   },
   {
    "duration": 6,
    "start_time": "2021-11-27T07:45:53.847Z"
   },
   {
    "duration": 19,
    "start_time": "2021-11-27T07:45:53.855Z"
   },
   {
    "duration": 4,
    "start_time": "2021-11-27T07:45:53.877Z"
   },
   {
    "duration": 22,
    "start_time": "2021-11-27T07:45:53.907Z"
   },
   {
    "duration": 17,
    "start_time": "2021-11-27T07:45:53.931Z"
   },
   {
    "duration": 22,
    "start_time": "2021-11-27T07:45:53.950Z"
   },
   {
    "duration": 81,
    "start_time": "2021-11-27T07:45:53.974Z"
   },
   {
    "duration": 70,
    "start_time": "2021-11-27T07:45:54.057Z"
   },
   {
    "duration": 54,
    "start_time": "2021-11-27T07:45:54.128Z"
   },
   {
    "duration": 7,
    "start_time": "2021-11-27T07:45:54.183Z"
   },
   {
    "duration": 3,
    "start_time": "2021-11-27T07:45:54.206Z"
   },
   {
    "duration": 14,
    "start_time": "2021-11-27T07:45:54.210Z"
   },
   {
    "duration": 51,
    "start_time": "2021-11-27T07:45:54.226Z"
   },
   {
    "duration": 3,
    "start_time": "2021-11-27T07:45:54.279Z"
   },
   {
    "duration": 2,
    "start_time": "2021-11-27T07:45:54.307Z"
   },
   {
    "duration": 3,
    "start_time": "2021-11-27T07:45:54.312Z"
   },
   {
    "duration": 7,
    "start_time": "2021-11-27T07:45:54.317Z"
   },
   {
    "duration": 6,
    "start_time": "2021-11-27T07:45:54.325Z"
   },
   {
    "duration": 4,
    "start_time": "2021-11-27T07:45:54.333Z"
   },
   {
    "duration": 6,
    "start_time": "2021-11-27T07:45:54.339Z"
   },
   {
    "duration": 6,
    "start_time": "2021-11-27T07:45:54.347Z"
   },
   {
    "duration": 9,
    "start_time": "2021-11-27T07:45:54.354Z"
   },
   {
    "duration": 7,
    "start_time": "2021-11-27T07:45:54.365Z"
   },
   {
    "duration": 5,
    "start_time": "2021-11-27T07:45:54.374Z"
   },
   {
    "duration": 25,
    "start_time": "2021-11-27T07:45:54.381Z"
   },
   {
    "duration": 3,
    "start_time": "2021-11-27T07:45:54.408Z"
   },
   {
    "duration": 6,
    "start_time": "2021-11-27T07:45:54.414Z"
   },
   {
    "duration": 4,
    "start_time": "2021-11-27T07:45:54.422Z"
   },
   {
    "duration": 6,
    "start_time": "2021-11-27T07:45:54.428Z"
   },
   {
    "duration": 4,
    "start_time": "2021-11-27T07:45:54.436Z"
   },
   {
    "duration": 7,
    "start_time": "2021-11-27T07:45:54.442Z"
   },
   {
    "duration": 6,
    "start_time": "2021-11-27T07:45:54.450Z"
   },
   {
    "duration": 6,
    "start_time": "2021-11-27T07:45:54.457Z"
   },
   {
    "duration": 5,
    "start_time": "2021-11-27T07:45:54.465Z"
   },
   {
    "duration": 530,
    "start_time": "2021-11-27T07:46:32.912Z"
   },
   {
    "duration": 368,
    "start_time": "2021-11-27T07:46:43.511Z"
   },
   {
    "duration": 356,
    "start_time": "2021-11-27T07:46:53.571Z"
   },
   {
    "duration": 6,
    "start_time": "2021-11-27T07:46:57.536Z"
   },
   {
    "duration": 347,
    "start_time": "2021-11-27T07:47:03.428Z"
   },
   {
    "duration": 370,
    "start_time": "2021-11-27T07:47:18.022Z"
   },
   {
    "duration": 346,
    "start_time": "2021-11-27T07:47:58.557Z"
   },
   {
    "duration": 323,
    "start_time": "2021-11-27T07:48:13.968Z"
   },
   {
    "duration": 343,
    "start_time": "2021-11-27T07:54:17.774Z"
   },
   {
    "duration": 736,
    "start_time": "2021-11-27T07:54:36.838Z"
   },
   {
    "duration": 2,
    "start_time": "2021-11-27T07:55:25.490Z"
   },
   {
    "duration": 2,
    "start_time": "2021-11-27T07:55:27.962Z"
   },
   {
    "duration": 138,
    "start_time": "2021-11-27T07:55:27.966Z"
   },
   {
    "duration": 10,
    "start_time": "2021-11-27T07:55:28.107Z"
   },
   {
    "duration": 9,
    "start_time": "2021-11-27T07:55:28.120Z"
   },
   {
    "duration": 6,
    "start_time": "2021-11-27T07:55:28.131Z"
   },
   {
    "duration": 19,
    "start_time": "2021-11-27T07:55:28.139Z"
   },
   {
    "duration": 5,
    "start_time": "2021-11-27T07:55:28.160Z"
   },
   {
    "duration": 52,
    "start_time": "2021-11-27T07:55:28.167Z"
   },
   {
    "duration": 16,
    "start_time": "2021-11-27T07:55:28.222Z"
   },
   {
    "duration": 27,
    "start_time": "2021-11-27T07:55:28.240Z"
   },
   {
    "duration": 62,
    "start_time": "2021-11-27T07:55:28.268Z"
   },
   {
    "duration": 76,
    "start_time": "2021-11-27T07:55:28.332Z"
   },
   {
    "duration": 50,
    "start_time": "2021-11-27T07:55:28.410Z"
   },
   {
    "duration": 6,
    "start_time": "2021-11-27T07:55:28.462Z"
   },
   {
    "duration": 3,
    "start_time": "2021-11-27T07:55:28.470Z"
   },
   {
    "duration": 32,
    "start_time": "2021-11-27T07:55:28.475Z"
   },
   {
    "duration": 49,
    "start_time": "2021-11-27T07:55:28.509Z"
   },
   {
    "duration": 2,
    "start_time": "2021-11-27T07:55:28.559Z"
   },
   {
    "duration": 8,
    "start_time": "2021-11-27T07:55:28.563Z"
   },
   {
    "duration": 6,
    "start_time": "2021-11-27T07:55:28.572Z"
   },
   {
    "duration": 10,
    "start_time": "2021-11-27T07:55:28.579Z"
   },
   {
    "duration": 19,
    "start_time": "2021-11-27T07:55:28.590Z"
   },
   {
    "duration": 7,
    "start_time": "2021-11-27T07:55:28.610Z"
   },
   {
    "duration": 7,
    "start_time": "2021-11-27T07:55:28.619Z"
   },
   {
    "duration": 5,
    "start_time": "2021-11-27T07:55:28.627Z"
   },
   {
    "duration": 9,
    "start_time": "2021-11-27T07:55:28.634Z"
   },
   {
    "duration": 4,
    "start_time": "2021-11-27T07:55:28.646Z"
   },
   {
    "duration": 6,
    "start_time": "2021-11-27T07:55:28.652Z"
   },
   {
    "duration": 5,
    "start_time": "2021-11-27T07:55:28.659Z"
   },
   {
    "duration": 9,
    "start_time": "2021-11-27T07:55:28.666Z"
   },
   {
    "duration": 8,
    "start_time": "2021-11-27T07:55:28.676Z"
   },
   {
    "duration": 14,
    "start_time": "2021-11-27T07:55:28.685Z"
   },
   {
    "duration": 10,
    "start_time": "2021-11-27T07:55:28.701Z"
   },
   {
    "duration": 5,
    "start_time": "2021-11-27T07:55:28.713Z"
   },
   {
    "duration": 6,
    "start_time": "2021-11-27T07:55:28.719Z"
   },
   {
    "duration": 5,
    "start_time": "2021-11-27T07:55:28.726Z"
   },
   {
    "duration": 5,
    "start_time": "2021-11-27T07:55:28.733Z"
   },
   {
    "duration": 5,
    "start_time": "2021-11-27T07:55:28.739Z"
   },
   {
    "duration": 336,
    "start_time": "2021-11-27T07:56:40.076Z"
   },
   {
    "duration": 348,
    "start_time": "2021-11-27T07:56:49.003Z"
   },
   {
    "duration": 2,
    "start_time": "2021-11-27T07:56:58.049Z"
   },
   {
    "duration": 144,
    "start_time": "2021-11-27T07:56:58.053Z"
   },
   {
    "duration": 11,
    "start_time": "2021-11-27T07:56:58.199Z"
   },
   {
    "duration": 11,
    "start_time": "2021-11-27T07:56:58.213Z"
   },
   {
    "duration": 7,
    "start_time": "2021-11-27T07:56:58.226Z"
   },
   {
    "duration": 15,
    "start_time": "2021-11-27T07:56:58.234Z"
   },
   {
    "duration": 14,
    "start_time": "2021-11-27T07:56:58.251Z"
   },
   {
    "duration": 40,
    "start_time": "2021-11-27T07:56:58.268Z"
   },
   {
    "duration": 19,
    "start_time": "2021-11-27T07:56:58.311Z"
   },
   {
    "duration": 26,
    "start_time": "2021-11-27T07:56:58.331Z"
   },
   {
    "duration": 91,
    "start_time": "2021-11-27T07:56:58.359Z"
   },
   {
    "duration": 75,
    "start_time": "2021-11-27T07:56:58.452Z"
   },
   {
    "duration": 53,
    "start_time": "2021-11-27T07:56:58.529Z"
   },
   {
    "duration": 23,
    "start_time": "2021-11-27T07:56:58.584Z"
   },
   {
    "duration": 8,
    "start_time": "2021-11-27T07:56:58.610Z"
   },
   {
    "duration": 16,
    "start_time": "2021-11-27T07:56:58.620Z"
   },
   {
    "duration": 51,
    "start_time": "2021-11-27T07:56:58.637Z"
   },
   {
    "duration": 370,
    "start_time": "2021-11-27T07:56:58.690Z"
   },
   {
    "duration": 1452,
    "start_time": "2021-11-27T07:56:57.610Z"
   },
   {
    "duration": 1451,
    "start_time": "2021-11-27T07:56:57.612Z"
   },
   {
    "duration": 1448,
    "start_time": "2021-11-27T07:56:57.616Z"
   },
   {
    "duration": 1448,
    "start_time": "2021-11-27T07:56:57.617Z"
   },
   {
    "duration": 1444,
    "start_time": "2021-11-27T07:56:57.622Z"
   },
   {
    "duration": 1443,
    "start_time": "2021-11-27T07:56:57.623Z"
   },
   {
    "duration": 1442,
    "start_time": "2021-11-27T07:56:57.625Z"
   },
   {
    "duration": 1442,
    "start_time": "2021-11-27T07:56:57.626Z"
   },
   {
    "duration": 1441,
    "start_time": "2021-11-27T07:56:57.628Z"
   },
   {
    "duration": 1441,
    "start_time": "2021-11-27T07:56:57.629Z"
   },
   {
    "duration": 1441,
    "start_time": "2021-11-27T07:56:57.630Z"
   },
   {
    "duration": 1439,
    "start_time": "2021-11-27T07:56:57.632Z"
   },
   {
    "duration": 1439,
    "start_time": "2021-11-27T07:56:57.633Z"
   },
   {
    "duration": 1439,
    "start_time": "2021-11-27T07:56:57.634Z"
   },
   {
    "duration": 1438,
    "start_time": "2021-11-27T07:56:57.636Z"
   },
   {
    "duration": 1438,
    "start_time": "2021-11-27T07:56:57.637Z"
   },
   {
    "duration": 1437,
    "start_time": "2021-11-27T07:56:57.639Z"
   },
   {
    "duration": 1437,
    "start_time": "2021-11-27T07:56:57.640Z"
   },
   {
    "duration": 1436,
    "start_time": "2021-11-27T07:56:57.642Z"
   },
   {
    "duration": 1435,
    "start_time": "2021-11-27T07:56:57.643Z"
   },
   {
    "duration": 341,
    "start_time": "2021-11-27T07:57:13.755Z"
   },
   {
    "duration": 354,
    "start_time": "2021-11-27T07:57:18.417Z"
   },
   {
    "duration": 345,
    "start_time": "2021-11-27T07:57:42.463Z"
   },
   {
    "duration": 345,
    "start_time": "2021-11-27T07:57:54.205Z"
   },
   {
    "duration": 12,
    "start_time": "2021-11-27T07:58:16.734Z"
   },
   {
    "duration": 13,
    "start_time": "2021-11-27T08:03:12.833Z"
   },
   {
    "duration": 111,
    "start_time": "2021-11-27T08:25:22.128Z"
   },
   {
    "duration": 236,
    "start_time": "2021-11-27T08:45:32.939Z"
   },
   {
    "duration": 3,
    "start_time": "2021-11-27T08:50:48.881Z"
   },
   {
    "duration": 150,
    "start_time": "2021-11-27T08:50:48.886Z"
   },
   {
    "duration": 10,
    "start_time": "2021-11-27T08:50:49.038Z"
   },
   {
    "duration": 11,
    "start_time": "2021-11-27T08:50:49.049Z"
   },
   {
    "duration": 5,
    "start_time": "2021-11-27T08:50:49.062Z"
   },
   {
    "duration": 14,
    "start_time": "2021-11-27T08:50:49.069Z"
   },
   {
    "duration": 23,
    "start_time": "2021-11-27T08:50:49.084Z"
   },
   {
    "duration": 25,
    "start_time": "2021-11-27T08:50:49.109Z"
   },
   {
    "duration": 21,
    "start_time": "2021-11-27T08:50:49.136Z"
   },
   {
    "duration": 24,
    "start_time": "2021-11-27T08:50:49.159Z"
   },
   {
    "duration": 75,
    "start_time": "2021-11-27T08:50:49.185Z"
   },
   {
    "duration": 73,
    "start_time": "2021-11-27T08:50:49.262Z"
   },
   {
    "duration": 50,
    "start_time": "2021-11-27T08:50:49.337Z"
   },
   {
    "duration": 18,
    "start_time": "2021-11-27T08:50:49.389Z"
   },
   {
    "duration": 5,
    "start_time": "2021-11-27T08:50:49.409Z"
   },
   {
    "duration": 12,
    "start_time": "2021-11-27T08:50:49.416Z"
   },
   {
    "duration": 50,
    "start_time": "2021-11-27T08:50:49.430Z"
   },
   {
    "duration": 31,
    "start_time": "2021-11-27T08:50:49.481Z"
   },
   {
    "duration": 10,
    "start_time": "2021-11-27T08:50:49.514Z"
   },
   {
    "duration": 174,
    "start_time": "2021-11-27T08:50:49.526Z"
   },
   {
    "duration": 1437,
    "start_time": "2021-11-27T08:50:48.266Z"
   },
   {
    "duration": 1436,
    "start_time": "2021-11-27T08:50:48.268Z"
   },
   {
    "duration": 1436,
    "start_time": "2021-11-27T08:50:48.269Z"
   },
   {
    "duration": 1435,
    "start_time": "2021-11-27T08:50:48.271Z"
   },
   {
    "duration": 1433,
    "start_time": "2021-11-27T08:50:48.273Z"
   },
   {
    "duration": 1433,
    "start_time": "2021-11-27T08:50:48.275Z"
   },
   {
    "duration": 1431,
    "start_time": "2021-11-27T08:50:48.277Z"
   },
   {
    "duration": 1431,
    "start_time": "2021-11-27T08:50:48.278Z"
   },
   {
    "duration": 1432,
    "start_time": "2021-11-27T08:50:48.279Z"
   },
   {
    "duration": 1431,
    "start_time": "2021-11-27T08:50:48.281Z"
   },
   {
    "duration": 1427,
    "start_time": "2021-11-27T08:50:48.286Z"
   },
   {
    "duration": 1427,
    "start_time": "2021-11-27T08:50:48.287Z"
   },
   {
    "duration": 1426,
    "start_time": "2021-11-27T08:50:48.289Z"
   },
   {
    "duration": 1426,
    "start_time": "2021-11-27T08:50:48.290Z"
   },
   {
    "duration": 1425,
    "start_time": "2021-11-27T08:50:48.292Z"
   },
   {
    "duration": 1424,
    "start_time": "2021-11-27T08:50:48.294Z"
   },
   {
    "duration": 1424,
    "start_time": "2021-11-27T08:50:48.295Z"
   },
   {
    "duration": 1423,
    "start_time": "2021-11-27T08:50:48.297Z"
   },
   {
    "duration": 114,
    "start_time": "2021-11-27T08:52:19.335Z"
   },
   {
    "duration": 295,
    "start_time": "2021-11-27T08:52:28.247Z"
   },
   {
    "duration": 178,
    "start_time": "2021-11-27T08:53:03.584Z"
   },
   {
    "duration": 120,
    "start_time": "2021-11-27T08:54:13.530Z"
   },
   {
    "duration": 123,
    "start_time": "2021-11-27T08:54:21.556Z"
   },
   {
    "duration": 121,
    "start_time": "2021-11-27T08:56:06.760Z"
   },
   {
    "duration": 142,
    "start_time": "2021-11-27T08:56:59.593Z"
   },
   {
    "duration": 3,
    "start_time": "2021-11-27T08:57:05.101Z"
   },
   {
    "duration": 151,
    "start_time": "2021-11-27T08:57:05.106Z"
   },
   {
    "duration": 11,
    "start_time": "2021-11-27T08:57:05.259Z"
   },
   {
    "duration": 14,
    "start_time": "2021-11-27T08:57:05.272Z"
   },
   {
    "duration": 20,
    "start_time": "2021-11-27T08:57:05.288Z"
   },
   {
    "duration": 31,
    "start_time": "2021-11-27T08:57:05.309Z"
   },
   {
    "duration": 20,
    "start_time": "2021-11-27T08:57:05.342Z"
   },
   {
    "duration": 39,
    "start_time": "2021-11-27T08:57:05.364Z"
   },
   {
    "duration": 29,
    "start_time": "2021-11-27T08:57:05.406Z"
   },
   {
    "duration": 34,
    "start_time": "2021-11-27T08:57:05.438Z"
   },
   {
    "duration": 67,
    "start_time": "2021-11-27T08:57:05.474Z"
   },
   {
    "duration": 66,
    "start_time": "2021-11-27T08:57:05.543Z"
   },
   {
    "duration": 50,
    "start_time": "2021-11-27T08:57:05.611Z"
   },
   {
    "duration": 6,
    "start_time": "2021-11-27T08:57:05.663Z"
   },
   {
    "duration": 10,
    "start_time": "2021-11-27T08:57:05.671Z"
   },
   {
    "duration": 25,
    "start_time": "2021-11-27T08:57:05.683Z"
   },
   {
    "duration": 55,
    "start_time": "2021-11-27T08:57:05.710Z"
   },
   {
    "duration": 11,
    "start_time": "2021-11-27T08:57:05.766Z"
   },
   {
    "duration": 29,
    "start_time": "2021-11-27T08:57:05.779Z"
   },
   {
    "duration": 131,
    "start_time": "2021-11-27T08:57:05.810Z"
   },
   {
    "duration": 1437,
    "start_time": "2021-11-27T08:57:04.506Z"
   },
   {
    "duration": 1435,
    "start_time": "2021-11-27T08:57:04.509Z"
   },
   {
    "duration": 1433,
    "start_time": "2021-11-27T08:57:04.512Z"
   },
   {
    "duration": 1427,
    "start_time": "2021-11-27T08:57:04.519Z"
   },
   {
    "duration": 1425,
    "start_time": "2021-11-27T08:57:04.522Z"
   },
   {
    "duration": 1424,
    "start_time": "2021-11-27T08:57:04.524Z"
   },
   {
    "duration": 1416,
    "start_time": "2021-11-27T08:57:04.533Z"
   },
   {
    "duration": 1416,
    "start_time": "2021-11-27T08:57:04.534Z"
   },
   {
    "duration": 1415,
    "start_time": "2021-11-27T08:57:04.536Z"
   },
   {
    "duration": 1414,
    "start_time": "2021-11-27T08:57:04.538Z"
   },
   {
    "duration": 1414,
    "start_time": "2021-11-27T08:57:04.539Z"
   },
   {
    "duration": 1413,
    "start_time": "2021-11-27T08:57:04.541Z"
   },
   {
    "duration": 1413,
    "start_time": "2021-11-27T08:57:04.542Z"
   },
   {
    "duration": 1412,
    "start_time": "2021-11-27T08:57:04.544Z"
   },
   {
    "duration": 1412,
    "start_time": "2021-11-27T08:57:04.545Z"
   },
   {
    "duration": 1411,
    "start_time": "2021-11-27T08:57:04.547Z"
   },
   {
    "duration": 1410,
    "start_time": "2021-11-27T08:57:04.549Z"
   },
   {
    "duration": 1402,
    "start_time": "2021-11-27T08:57:04.558Z"
   },
   {
    "duration": 130,
    "start_time": "2021-11-27T09:07:46.355Z"
   },
   {
    "duration": 2,
    "start_time": "2021-11-27T09:07:51.379Z"
   },
   {
    "duration": 156,
    "start_time": "2021-11-27T09:07:51.384Z"
   },
   {
    "duration": 11,
    "start_time": "2021-11-27T09:07:51.542Z"
   },
   {
    "duration": 9,
    "start_time": "2021-11-27T09:07:51.555Z"
   },
   {
    "duration": 6,
    "start_time": "2021-11-27T09:07:51.566Z"
   },
   {
    "duration": 38,
    "start_time": "2021-11-27T09:07:51.574Z"
   },
   {
    "duration": 4,
    "start_time": "2021-11-27T09:07:51.613Z"
   },
   {
    "duration": 35,
    "start_time": "2021-11-27T09:07:51.619Z"
   },
   {
    "duration": 17,
    "start_time": "2021-11-27T09:07:51.656Z"
   },
   {
    "duration": 31,
    "start_time": "2021-11-27T09:07:51.676Z"
   },
   {
    "duration": 54,
    "start_time": "2021-11-27T09:07:51.709Z"
   },
   {
    "duration": 72,
    "start_time": "2021-11-27T09:07:51.765Z"
   },
   {
    "duration": 48,
    "start_time": "2021-11-27T09:07:51.839Z"
   },
   {
    "duration": 19,
    "start_time": "2021-11-27T09:07:51.888Z"
   },
   {
    "duration": 24,
    "start_time": "2021-11-27T09:07:51.909Z"
   },
   {
    "duration": 29,
    "start_time": "2021-11-27T09:07:51.935Z"
   },
   {
    "duration": 49,
    "start_time": "2021-11-27T09:07:51.966Z"
   },
   {
    "duration": 11,
    "start_time": "2021-11-27T09:07:52.017Z"
   },
   {
    "duration": 13,
    "start_time": "2021-11-27T09:07:52.029Z"
   },
   {
    "duration": 115,
    "start_time": "2021-11-27T09:07:52.044Z"
   },
   {
    "duration": 1438,
    "start_time": "2021-11-27T09:07:50.723Z"
   },
   {
    "duration": 1437,
    "start_time": "2021-11-27T09:07:50.725Z"
   },
   {
    "duration": 1437,
    "start_time": "2021-11-27T09:07:50.726Z"
   },
   {
    "duration": 1436,
    "start_time": "2021-11-27T09:07:50.728Z"
   },
   {
    "duration": 1435,
    "start_time": "2021-11-27T09:07:50.730Z"
   },
   {
    "duration": 1433,
    "start_time": "2021-11-27T09:07:50.732Z"
   },
   {
    "duration": 1428,
    "start_time": "2021-11-27T09:07:50.738Z"
   },
   {
    "duration": 1428,
    "start_time": "2021-11-27T09:07:50.739Z"
   },
   {
    "duration": 1427,
    "start_time": "2021-11-27T09:07:50.741Z"
   },
   {
    "duration": 1427,
    "start_time": "2021-11-27T09:07:50.742Z"
   },
   {
    "duration": 1427,
    "start_time": "2021-11-27T09:07:50.743Z"
   },
   {
    "duration": 1426,
    "start_time": "2021-11-27T09:07:50.745Z"
   },
   {
    "duration": 1426,
    "start_time": "2021-11-27T09:07:50.746Z"
   },
   {
    "duration": 1426,
    "start_time": "2021-11-27T09:07:50.747Z"
   },
   {
    "duration": 1426,
    "start_time": "2021-11-27T09:07:50.749Z"
   },
   {
    "duration": 1423,
    "start_time": "2021-11-27T09:07:50.754Z"
   },
   {
    "duration": 1422,
    "start_time": "2021-11-27T09:07:50.756Z"
   },
   {
    "duration": 1423,
    "start_time": "2021-11-27T09:07:50.757Z"
   },
   {
    "duration": 123,
    "start_time": "2021-11-27T09:08:30.586Z"
   },
   {
    "duration": 119,
    "start_time": "2021-11-27T09:09:22.457Z"
   },
   {
    "duration": 2,
    "start_time": "2021-11-27T09:09:44.536Z"
   },
   {
    "duration": 149,
    "start_time": "2021-11-27T09:09:44.540Z"
   },
   {
    "duration": 11,
    "start_time": "2021-11-27T09:09:44.691Z"
   },
   {
    "duration": 25,
    "start_time": "2021-11-27T09:09:44.706Z"
   },
   {
    "duration": 10,
    "start_time": "2021-11-27T09:09:44.733Z"
   },
   {
    "duration": 30,
    "start_time": "2021-11-27T09:09:44.744Z"
   },
   {
    "duration": 6,
    "start_time": "2021-11-27T09:09:44.776Z"
   },
   {
    "duration": 35,
    "start_time": "2021-11-27T09:09:44.784Z"
   },
   {
    "duration": 26,
    "start_time": "2021-11-27T09:09:44.821Z"
   },
   {
    "duration": 33,
    "start_time": "2021-11-27T09:09:44.849Z"
   },
   {
    "duration": 57,
    "start_time": "2021-11-27T09:09:44.883Z"
   },
   {
    "duration": 69,
    "start_time": "2021-11-27T09:09:44.942Z"
   },
   {
    "duration": 53,
    "start_time": "2021-11-27T09:09:45.012Z"
   },
   {
    "duration": 7,
    "start_time": "2021-11-27T09:09:45.066Z"
   },
   {
    "duration": 21,
    "start_time": "2021-11-27T09:09:45.075Z"
   },
   {
    "duration": 37,
    "start_time": "2021-11-27T09:09:45.098Z"
   },
   {
    "duration": 54,
    "start_time": "2021-11-27T09:09:45.137Z"
   },
   {
    "duration": 10,
    "start_time": "2021-11-27T09:09:45.193Z"
   },
   {
    "duration": 18,
    "start_time": "2021-11-27T09:09:45.204Z"
   },
   {
    "duration": 12,
    "start_time": "2021-11-27T09:09:45.223Z"
   },
   {
    "duration": 9146,
    "start_time": "2021-11-27T09:09:45.237Z"
   },
   {
    "duration": 1421,
    "start_time": "2021-11-27T09:09:52.965Z"
   },
   {
    "duration": 1418,
    "start_time": "2021-11-27T09:09:52.969Z"
   },
   {
    "duration": 1417,
    "start_time": "2021-11-27T09:09:52.971Z"
   },
   {
    "duration": 1417,
    "start_time": "2021-11-27T09:09:52.972Z"
   },
   {
    "duration": 1416,
    "start_time": "2021-11-27T09:09:52.974Z"
   },
   {
    "duration": 1416,
    "start_time": "2021-11-27T09:09:52.975Z"
   },
   {
    "duration": 1416,
    "start_time": "2021-11-27T09:09:52.976Z"
   },
   {
    "duration": 1415,
    "start_time": "2021-11-27T09:09:52.978Z"
   },
   {
    "duration": 1415,
    "start_time": "2021-11-27T09:09:52.979Z"
   },
   {
    "duration": 1414,
    "start_time": "2021-11-27T09:09:52.981Z"
   },
   {
    "duration": 1410,
    "start_time": "2021-11-27T09:09:52.986Z"
   },
   {
    "duration": 1409,
    "start_time": "2021-11-27T09:09:52.988Z"
   },
   {
    "duration": 1408,
    "start_time": "2021-11-27T09:09:52.990Z"
   },
   {
    "duration": 1409,
    "start_time": "2021-11-27T09:09:52.991Z"
   },
   {
    "duration": 1407,
    "start_time": "2021-11-27T09:09:52.993Z"
   },
   {
    "duration": 1407,
    "start_time": "2021-11-27T09:09:52.994Z"
   },
   {
    "duration": 1406,
    "start_time": "2021-11-27T09:09:52.996Z"
   },
   {
    "duration": 3,
    "start_time": "2021-11-27T09:15:18.201Z"
   },
   {
    "duration": 155,
    "start_time": "2021-11-27T09:15:18.206Z"
   },
   {
    "duration": 11,
    "start_time": "2021-11-27T09:15:18.363Z"
   },
   {
    "duration": 15,
    "start_time": "2021-11-27T09:15:18.376Z"
   },
   {
    "duration": 16,
    "start_time": "2021-11-27T09:15:18.393Z"
   },
   {
    "duration": 26,
    "start_time": "2021-11-27T09:15:18.411Z"
   },
   {
    "duration": 6,
    "start_time": "2021-11-27T09:15:18.439Z"
   },
   {
    "duration": 27,
    "start_time": "2021-11-27T09:15:18.447Z"
   },
   {
    "duration": 46,
    "start_time": "2021-11-27T09:15:18.477Z"
   },
   {
    "duration": 25,
    "start_time": "2021-11-27T09:15:18.525Z"
   },
   {
    "duration": 76,
    "start_time": "2021-11-27T09:15:18.552Z"
   },
   {
    "duration": 76,
    "start_time": "2021-11-27T09:15:18.630Z"
   },
   {
    "duration": 55,
    "start_time": "2021-11-27T09:15:18.708Z"
   },
   {
    "duration": 8,
    "start_time": "2021-11-27T09:15:18.765Z"
   },
   {
    "duration": 10,
    "start_time": "2021-11-27T09:15:18.775Z"
   },
   {
    "duration": 29,
    "start_time": "2021-11-27T09:15:18.786Z"
   },
   {
    "duration": 53,
    "start_time": "2021-11-27T09:15:18.816Z"
   },
   {
    "duration": 12,
    "start_time": "2021-11-27T09:15:18.871Z"
   },
   {
    "duration": 12,
    "start_time": "2021-11-27T09:15:18.907Z"
   },
   {
    "duration": 4,
    "start_time": "2021-11-27T09:15:18.921Z"
   },
   {
    "duration": 9577,
    "start_time": "2021-11-27T09:15:18.926Z"
   },
   {
    "duration": 1398,
    "start_time": "2021-11-27T09:15:27.107Z"
   },
   {
    "duration": 1398,
    "start_time": "2021-11-27T09:15:27.108Z"
   },
   {
    "duration": 1397,
    "start_time": "2021-11-27T09:15:27.110Z"
   },
   {
    "duration": 1396,
    "start_time": "2021-11-27T09:15:27.112Z"
   },
   {
    "duration": 1396,
    "start_time": "2021-11-27T09:15:27.113Z"
   },
   {
    "duration": 1396,
    "start_time": "2021-11-27T09:15:27.114Z"
   },
   {
    "duration": 1395,
    "start_time": "2021-11-27T09:15:27.116Z"
   },
   {
    "duration": 1394,
    "start_time": "2021-11-27T09:15:27.118Z"
   },
   {
    "duration": 1394,
    "start_time": "2021-11-27T09:15:27.119Z"
   },
   {
    "duration": 1393,
    "start_time": "2021-11-27T09:15:27.121Z"
   },
   {
    "duration": 1393,
    "start_time": "2021-11-27T09:15:27.122Z"
   },
   {
    "duration": 1392,
    "start_time": "2021-11-27T09:15:27.124Z"
   },
   {
    "duration": 1392,
    "start_time": "2021-11-27T09:15:27.125Z"
   },
   {
    "duration": 1392,
    "start_time": "2021-11-27T09:15:27.126Z"
   },
   {
    "duration": 1391,
    "start_time": "2021-11-27T09:15:27.128Z"
   },
   {
    "duration": 1392,
    "start_time": "2021-11-27T09:15:27.129Z"
   },
   {
    "duration": 1391,
    "start_time": "2021-11-27T09:15:27.130Z"
   },
   {
    "duration": 4,
    "start_time": "2021-11-27T09:19:26.666Z"
   },
   {
    "duration": 156,
    "start_time": "2021-11-27T09:19:26.672Z"
   },
   {
    "duration": 11,
    "start_time": "2021-11-27T09:19:26.830Z"
   },
   {
    "duration": 9,
    "start_time": "2021-11-27T09:19:26.843Z"
   },
   {
    "duration": 9,
    "start_time": "2021-11-27T09:19:26.854Z"
   },
   {
    "duration": 22,
    "start_time": "2021-11-27T09:19:26.865Z"
   },
   {
    "duration": 5,
    "start_time": "2021-11-27T09:19:26.908Z"
   },
   {
    "duration": 24,
    "start_time": "2021-11-27T09:19:26.916Z"
   },
   {
    "duration": 19,
    "start_time": "2021-11-27T09:19:26.943Z"
   },
   {
    "duration": 46,
    "start_time": "2021-11-27T09:19:26.964Z"
   },
   {
    "duration": 53,
    "start_time": "2021-11-27T09:19:27.012Z"
   },
   {
    "duration": 81,
    "start_time": "2021-11-27T09:19:27.067Z"
   },
   {
    "duration": 59,
    "start_time": "2021-11-27T09:19:27.150Z"
   },
   {
    "duration": 7,
    "start_time": "2021-11-27T09:19:27.211Z"
   },
   {
    "duration": 3,
    "start_time": "2021-11-27T09:19:27.220Z"
   },
   {
    "duration": 14,
    "start_time": "2021-11-27T09:19:27.224Z"
   },
   {
    "duration": 67,
    "start_time": "2021-11-27T09:19:27.240Z"
   },
   {
    "duration": 11,
    "start_time": "2021-11-27T09:19:27.309Z"
   },
   {
    "duration": 17,
    "start_time": "2021-11-27T09:19:27.322Z"
   },
   {
    "duration": 6,
    "start_time": "2021-11-27T09:19:27.340Z"
   },
   {
    "duration": 679,
    "start_time": "2021-11-27T09:19:27.348Z"
   },
   {
    "duration": 1421,
    "start_time": "2021-11-27T09:19:26.608Z"
   },
   {
    "duration": 1422,
    "start_time": "2021-11-27T09:19:26.609Z"
   },
   {
    "duration": 1421,
    "start_time": "2021-11-27T09:19:26.611Z"
   },
   {
    "duration": 1421,
    "start_time": "2021-11-27T09:19:26.612Z"
   },
   {
    "duration": 1421,
    "start_time": "2021-11-27T09:19:26.613Z"
   },
   {
    "duration": 1420,
    "start_time": "2021-11-27T09:19:26.615Z"
   },
   {
    "duration": 1420,
    "start_time": "2021-11-27T09:19:26.616Z"
   },
   {
    "duration": 1420,
    "start_time": "2021-11-27T09:19:26.617Z"
   },
   {
    "duration": 1419,
    "start_time": "2021-11-27T09:19:26.619Z"
   },
   {
    "duration": 1418,
    "start_time": "2021-11-27T09:19:26.621Z"
   },
   {
    "duration": 1418,
    "start_time": "2021-11-27T09:19:26.622Z"
   },
   {
    "duration": 1417,
    "start_time": "2021-11-27T09:19:26.624Z"
   },
   {
    "duration": 1417,
    "start_time": "2021-11-27T09:19:26.625Z"
   },
   {
    "duration": 1418,
    "start_time": "2021-11-27T09:19:26.626Z"
   },
   {
    "duration": 1414,
    "start_time": "2021-11-27T09:19:26.631Z"
   },
   {
    "duration": 1413,
    "start_time": "2021-11-27T09:19:26.633Z"
   },
   {
    "duration": 1412,
    "start_time": "2021-11-27T09:19:26.635Z"
   },
   {
    "duration": 4,
    "start_time": "2021-11-27T09:19:52.758Z"
   },
   {
    "duration": 2,
    "start_time": "2021-11-27T09:19:56.849Z"
   },
   {
    "duration": 138,
    "start_time": "2021-11-27T09:19:56.853Z"
   },
   {
    "duration": 11,
    "start_time": "2021-11-27T09:19:56.993Z"
   },
   {
    "duration": 8,
    "start_time": "2021-11-27T09:19:57.006Z"
   },
   {
    "duration": 6,
    "start_time": "2021-11-27T09:19:57.015Z"
   },
   {
    "duration": 18,
    "start_time": "2021-11-27T09:19:57.023Z"
   },
   {
    "duration": 4,
    "start_time": "2021-11-27T09:19:57.044Z"
   },
   {
    "duration": 25,
    "start_time": "2021-11-27T09:19:57.051Z"
   },
   {
    "duration": 43,
    "start_time": "2021-11-27T09:19:57.079Z"
   },
   {
    "duration": 33,
    "start_time": "2021-11-27T09:19:57.124Z"
   },
   {
    "duration": 70,
    "start_time": "2021-11-27T09:19:57.159Z"
   },
   {
    "duration": 75,
    "start_time": "2021-11-27T09:19:57.231Z"
   },
   {
    "duration": 51,
    "start_time": "2021-11-27T09:19:57.308Z"
   },
   {
    "duration": 7,
    "start_time": "2021-11-27T09:19:57.361Z"
   },
   {
    "duration": 4,
    "start_time": "2021-11-27T09:19:57.370Z"
   },
   {
    "duration": 31,
    "start_time": "2021-11-27T09:19:57.376Z"
   },
   {
    "duration": 48,
    "start_time": "2021-11-27T09:19:57.408Z"
   },
   {
    "duration": 10,
    "start_time": "2021-11-27T09:19:57.458Z"
   },
   {
    "duration": 12,
    "start_time": "2021-11-27T09:19:57.471Z"
   },
   {
    "duration": 4,
    "start_time": "2021-11-27T09:19:57.508Z"
   },
   {
    "duration": 48,
    "start_time": "2021-11-27T09:19:57.513Z"
   },
   {
    "duration": 21,
    "start_time": "2021-11-27T09:19:57.563Z"
   },
   {
    "duration": 24,
    "start_time": "2021-11-27T09:19:57.586Z"
   },
   {
    "duration": 17,
    "start_time": "2021-11-27T09:19:57.611Z"
   },
   {
    "duration": 17,
    "start_time": "2021-11-27T09:19:57.630Z"
   },
   {
    "duration": 20,
    "start_time": "2021-11-27T09:19:57.649Z"
   },
   {
    "duration": 155,
    "start_time": "2021-11-27T09:19:57.671Z"
   },
   {
    "duration": 1427,
    "start_time": "2021-11-27T09:19:56.401Z"
   },
   {
    "duration": 1425,
    "start_time": "2021-11-27T09:19:56.404Z"
   },
   {
    "duration": 1424,
    "start_time": "2021-11-27T09:19:56.406Z"
   },
   {
    "duration": 1424,
    "start_time": "2021-11-27T09:19:56.407Z"
   },
   {
    "duration": 1418,
    "start_time": "2021-11-27T09:19:56.414Z"
   },
   {
    "duration": 1418,
    "start_time": "2021-11-27T09:19:56.415Z"
   },
   {
    "duration": 1417,
    "start_time": "2021-11-27T09:19:56.417Z"
   },
   {
    "duration": 1416,
    "start_time": "2021-11-27T09:19:56.419Z"
   },
   {
    "duration": 1416,
    "start_time": "2021-11-27T09:19:56.420Z"
   },
   {
    "duration": 1417,
    "start_time": "2021-11-27T09:19:56.421Z"
   },
   {
    "duration": 1416,
    "start_time": "2021-11-27T09:19:56.423Z"
   },
   {
    "duration": 198,
    "start_time": "2021-11-27T09:21:14.405Z"
   },
   {
    "duration": 113,
    "start_time": "2021-11-27T09:21:37.947Z"
   },
   {
    "duration": 122,
    "start_time": "2021-11-27T09:21:59.222Z"
   },
   {
    "duration": 128,
    "start_time": "2021-11-27T09:22:25.775Z"
   },
   {
    "duration": 3,
    "start_time": "2021-11-27T09:24:52.939Z"
   },
   {
    "duration": 137,
    "start_time": "2021-11-27T09:24:52.944Z"
   },
   {
    "duration": 10,
    "start_time": "2021-11-27T09:24:53.083Z"
   },
   {
    "duration": 18,
    "start_time": "2021-11-27T09:24:53.095Z"
   },
   {
    "duration": 9,
    "start_time": "2021-11-27T09:24:53.115Z"
   },
   {
    "duration": 20,
    "start_time": "2021-11-27T09:24:53.126Z"
   },
   {
    "duration": 5,
    "start_time": "2021-11-27T09:24:53.148Z"
   },
   {
    "duration": 23,
    "start_time": "2021-11-27T09:24:53.155Z"
   },
   {
    "duration": 37,
    "start_time": "2021-11-27T09:24:53.180Z"
   },
   {
    "duration": 23,
    "start_time": "2021-11-27T09:24:53.219Z"
   },
   {
    "duration": 64,
    "start_time": "2021-11-27T09:24:53.244Z"
   },
   {
    "duration": 58,
    "start_time": "2021-11-27T09:24:53.310Z"
   },
   {
    "duration": 62,
    "start_time": "2021-11-27T09:24:53.370Z"
   },
   {
    "duration": 7,
    "start_time": "2021-11-27T09:24:53.434Z"
   },
   {
    "duration": 10,
    "start_time": "2021-11-27T09:24:53.442Z"
   },
   {
    "duration": 14,
    "start_time": "2021-11-27T09:24:53.454Z"
   },
   {
    "duration": 64,
    "start_time": "2021-11-27T09:24:53.469Z"
   },
   {
    "duration": 11,
    "start_time": "2021-11-27T09:24:53.534Z"
   },
   {
    "duration": 11,
    "start_time": "2021-11-27T09:24:53.547Z"
   },
   {
    "duration": 4,
    "start_time": "2021-11-27T09:24:53.560Z"
   },
   {
    "duration": 47,
    "start_time": "2021-11-27T09:24:53.565Z"
   },
   {
    "duration": 18,
    "start_time": "2021-11-27T09:24:53.614Z"
   },
   {
    "duration": 17,
    "start_time": "2021-11-27T09:24:53.635Z"
   },
   {
    "duration": 17,
    "start_time": "2021-11-27T09:24:53.654Z"
   },
   {
    "duration": 46,
    "start_time": "2021-11-27T09:24:53.673Z"
   },
   {
    "duration": 22,
    "start_time": "2021-11-27T09:24:53.722Z"
   },
   {
    "duration": 117,
    "start_time": "2021-11-27T09:24:53.746Z"
   },
   {
    "duration": 1415,
    "start_time": "2021-11-27T09:24:52.450Z"
   },
   {
    "duration": 1413,
    "start_time": "2021-11-27T09:24:52.453Z"
   },
   {
    "duration": 1413,
    "start_time": "2021-11-27T09:24:52.454Z"
   },
   {
    "duration": 1412,
    "start_time": "2021-11-27T09:24:52.456Z"
   },
   {
    "duration": 1412,
    "start_time": "2021-11-27T09:24:52.457Z"
   },
   {
    "duration": 1412,
    "start_time": "2021-11-27T09:24:52.458Z"
   },
   {
    "duration": 1412,
    "start_time": "2021-11-27T09:24:52.459Z"
   },
   {
    "duration": 1411,
    "start_time": "2021-11-27T09:24:52.461Z"
   },
   {
    "duration": 1411,
    "start_time": "2021-11-27T09:24:52.462Z"
   },
   {
    "duration": 1411,
    "start_time": "2021-11-27T09:24:52.463Z"
   },
   {
    "duration": 1410,
    "start_time": "2021-11-27T09:24:52.465Z"
   },
   {
    "duration": 4,
    "start_time": "2021-11-27T09:26:01.283Z"
   },
   {
    "duration": 175,
    "start_time": "2021-11-27T09:26:01.289Z"
   },
   {
    "duration": 11,
    "start_time": "2021-11-27T09:26:01.467Z"
   },
   {
    "duration": 44,
    "start_time": "2021-11-27T09:26:01.481Z"
   },
   {
    "duration": 5,
    "start_time": "2021-11-27T09:26:01.527Z"
   },
   {
    "duration": 35,
    "start_time": "2021-11-27T09:26:01.534Z"
   },
   {
    "duration": 15,
    "start_time": "2021-11-27T09:26:01.571Z"
   },
   {
    "duration": 38,
    "start_time": "2021-11-27T09:26:01.589Z"
   },
   {
    "duration": 23,
    "start_time": "2021-11-27T09:26:01.631Z"
   },
   {
    "duration": 25,
    "start_time": "2021-11-27T09:26:01.656Z"
   },
   {
    "duration": 74,
    "start_time": "2021-11-27T09:26:01.683Z"
   },
   {
    "duration": 73,
    "start_time": "2021-11-27T09:26:01.759Z"
   },
   {
    "duration": 52,
    "start_time": "2021-11-27T09:26:01.834Z"
   },
   {
    "duration": 18,
    "start_time": "2021-11-27T09:26:01.888Z"
   },
   {
    "duration": 9,
    "start_time": "2021-11-27T09:26:01.908Z"
   },
   {
    "duration": 24,
    "start_time": "2021-11-27T09:26:01.919Z"
   },
   {
    "duration": 76,
    "start_time": "2021-11-27T09:26:01.945Z"
   },
   {
    "duration": 12,
    "start_time": "2021-11-27T09:26:02.022Z"
   },
   {
    "duration": 23,
    "start_time": "2021-11-27T09:26:02.036Z"
   },
   {
    "duration": 29,
    "start_time": "2021-11-27T09:26:02.061Z"
   },
   {
    "duration": 745,
    "start_time": "2021-11-27T09:26:02.092Z"
   },
   {
    "duration": 1416,
    "start_time": "2021-11-27T09:26:01.424Z"
   },
   {
    "duration": 1415,
    "start_time": "2021-11-27T09:26:01.426Z"
   },
   {
    "duration": 1415,
    "start_time": "2021-11-27T09:26:01.427Z"
   },
   {
    "duration": 1414,
    "start_time": "2021-11-27T09:26:01.429Z"
   },
   {
    "duration": 1414,
    "start_time": "2021-11-27T09:26:01.430Z"
   },
   {
    "duration": 1415,
    "start_time": "2021-11-27T09:26:01.431Z"
   },
   {
    "duration": 1414,
    "start_time": "2021-11-27T09:26:01.433Z"
   },
   {
    "duration": 1414,
    "start_time": "2021-11-27T09:26:01.434Z"
   },
   {
    "duration": 1413,
    "start_time": "2021-11-27T09:26:01.436Z"
   },
   {
    "duration": 1409,
    "start_time": "2021-11-27T09:26:01.441Z"
   },
   {
    "duration": 1409,
    "start_time": "2021-11-27T09:26:01.443Z"
   },
   {
    "duration": 1408,
    "start_time": "2021-11-27T09:26:01.445Z"
   },
   {
    "duration": 1408,
    "start_time": "2021-11-27T09:26:01.446Z"
   },
   {
    "duration": 1407,
    "start_time": "2021-11-27T09:26:01.448Z"
   },
   {
    "duration": 1407,
    "start_time": "2021-11-27T09:26:01.449Z"
   },
   {
    "duration": 1406,
    "start_time": "2021-11-27T09:26:01.451Z"
   },
   {
    "duration": 1406,
    "start_time": "2021-11-27T09:26:01.452Z"
   },
   {
    "duration": 3,
    "start_time": "2021-11-27T09:26:36.923Z"
   },
   {
    "duration": 149,
    "start_time": "2021-11-27T09:26:36.927Z"
   },
   {
    "duration": 11,
    "start_time": "2021-11-27T09:26:37.078Z"
   },
   {
    "duration": 19,
    "start_time": "2021-11-27T09:26:37.091Z"
   },
   {
    "duration": 12,
    "start_time": "2021-11-27T09:26:37.111Z"
   },
   {
    "duration": 21,
    "start_time": "2021-11-27T09:26:37.124Z"
   },
   {
    "duration": 5,
    "start_time": "2021-11-27T09:26:37.147Z"
   },
   {
    "duration": 26,
    "start_time": "2021-11-27T09:26:37.154Z"
   },
   {
    "duration": 36,
    "start_time": "2021-11-27T09:26:37.181Z"
   },
   {
    "duration": 22,
    "start_time": "2021-11-27T09:26:37.219Z"
   },
   {
    "duration": 73,
    "start_time": "2021-11-27T09:26:37.243Z"
   },
   {
    "duration": 61,
    "start_time": "2021-11-27T09:26:37.318Z"
   },
   {
    "duration": 63,
    "start_time": "2021-11-27T09:26:37.381Z"
   },
   {
    "duration": 7,
    "start_time": "2021-11-27T09:26:37.445Z"
   },
   {
    "duration": 3,
    "start_time": "2021-11-27T09:26:37.454Z"
   },
   {
    "duration": 15,
    "start_time": "2021-11-27T09:26:37.459Z"
   },
   {
    "duration": 67,
    "start_time": "2021-11-27T09:26:37.476Z"
   },
   {
    "duration": 11,
    "start_time": "2021-11-27T09:26:37.545Z"
   },
   {
    "duration": 11,
    "start_time": "2021-11-27T09:26:37.560Z"
   },
   {
    "duration": 129,
    "start_time": "2021-11-27T09:26:37.573Z"
   },
   {
    "duration": 1421,
    "start_time": "2021-11-27T09:26:36.283Z"
   },
   {
    "duration": 1421,
    "start_time": "2021-11-27T09:26:36.285Z"
   },
   {
    "duration": 1417,
    "start_time": "2021-11-27T09:26:36.290Z"
   },
   {
    "duration": 1416,
    "start_time": "2021-11-27T09:26:36.292Z"
   },
   {
    "duration": 1415,
    "start_time": "2021-11-27T09:26:36.294Z"
   },
   {
    "duration": 1415,
    "start_time": "2021-11-27T09:26:36.295Z"
   },
   {
    "duration": 1415,
    "start_time": "2021-11-27T09:26:36.296Z"
   },
   {
    "duration": 1414,
    "start_time": "2021-11-27T09:26:36.298Z"
   },
   {
    "duration": 1414,
    "start_time": "2021-11-27T09:26:36.299Z"
   },
   {
    "duration": 1414,
    "start_time": "2021-11-27T09:26:36.301Z"
   },
   {
    "duration": 1409,
    "start_time": "2021-11-27T09:26:36.307Z"
   },
   {
    "duration": 1408,
    "start_time": "2021-11-27T09:26:36.309Z"
   },
   {
    "duration": 1407,
    "start_time": "2021-11-27T09:26:36.311Z"
   },
   {
    "duration": 1407,
    "start_time": "2021-11-27T09:26:36.312Z"
   },
   {
    "duration": 1406,
    "start_time": "2021-11-27T09:26:36.314Z"
   },
   {
    "duration": 1406,
    "start_time": "2021-11-27T09:26:36.315Z"
   },
   {
    "duration": 1406,
    "start_time": "2021-11-27T09:26:36.316Z"
   },
   {
    "duration": 1405,
    "start_time": "2021-11-27T09:26:36.318Z"
   },
   {
    "duration": 3,
    "start_time": "2021-11-27T09:27:30.828Z"
   },
   {
    "duration": 152,
    "start_time": "2021-11-27T09:27:30.833Z"
   },
   {
    "duration": 14,
    "start_time": "2021-11-27T09:27:30.987Z"
   },
   {
    "duration": 25,
    "start_time": "2021-11-27T09:27:31.007Z"
   },
   {
    "duration": 22,
    "start_time": "2021-11-27T09:27:31.034Z"
   },
   {
    "duration": 35,
    "start_time": "2021-11-27T09:27:31.058Z"
   },
   {
    "duration": 14,
    "start_time": "2021-11-27T09:27:31.095Z"
   },
   {
    "duration": 38,
    "start_time": "2021-11-27T09:27:31.112Z"
   },
   {
    "duration": 25,
    "start_time": "2021-11-27T09:27:31.152Z"
   },
   {
    "duration": 36,
    "start_time": "2021-11-27T09:27:31.179Z"
   },
   {
    "duration": 69,
    "start_time": "2021-11-27T09:27:31.217Z"
   },
   {
    "duration": 59,
    "start_time": "2021-11-27T09:27:31.288Z"
   },
   {
    "duration": 58,
    "start_time": "2021-11-27T09:27:31.349Z"
   },
   {
    "duration": 7,
    "start_time": "2021-11-27T09:27:31.409Z"
   },
   {
    "duration": 11,
    "start_time": "2021-11-27T09:27:31.417Z"
   },
   {
    "duration": 19,
    "start_time": "2021-11-27T09:27:31.429Z"
   },
   {
    "duration": 69,
    "start_time": "2021-11-27T09:27:31.449Z"
   },
   {
    "duration": 11,
    "start_time": "2021-11-27T09:27:31.519Z"
   },
   {
    "duration": 16,
    "start_time": "2021-11-27T09:27:31.532Z"
   },
   {
    "duration": 213,
    "start_time": "2021-11-27T09:27:31.550Z"
   },
   {
    "duration": 1404,
    "start_time": "2021-11-27T09:27:30.361Z"
   },
   {
    "duration": 1404,
    "start_time": "2021-11-27T09:27:30.362Z"
   },
   {
    "duration": 1403,
    "start_time": "2021-11-27T09:27:30.364Z"
   },
   {
    "duration": 1403,
    "start_time": "2021-11-27T09:27:30.365Z"
   },
   {
    "duration": 1403,
    "start_time": "2021-11-27T09:27:30.366Z"
   },
   {
    "duration": 1403,
    "start_time": "2021-11-27T09:27:30.367Z"
   },
   {
    "duration": 1402,
    "start_time": "2021-11-27T09:27:30.369Z"
   },
   {
    "duration": 1401,
    "start_time": "2021-11-27T09:27:30.371Z"
   },
   {
    "duration": 1396,
    "start_time": "2021-11-27T09:27:30.376Z"
   },
   {
    "duration": 1395,
    "start_time": "2021-11-27T09:27:30.378Z"
   },
   {
    "duration": 1393,
    "start_time": "2021-11-27T09:27:30.381Z"
   },
   {
    "duration": 1393,
    "start_time": "2021-11-27T09:27:30.382Z"
   },
   {
    "duration": 1392,
    "start_time": "2021-11-27T09:27:30.384Z"
   },
   {
    "duration": 1392,
    "start_time": "2021-11-27T09:27:30.385Z"
   },
   {
    "duration": 1390,
    "start_time": "2021-11-27T09:27:30.387Z"
   },
   {
    "duration": 1386,
    "start_time": "2021-11-27T09:27:30.392Z"
   },
   {
    "duration": 1385,
    "start_time": "2021-11-27T09:27:30.394Z"
   },
   {
    "duration": 1385,
    "start_time": "2021-11-27T09:27:30.395Z"
   },
   {
    "duration": 117,
    "start_time": "2021-11-27T09:28:36.160Z"
   },
   {
    "duration": 3,
    "start_time": "2021-11-27T09:29:04.686Z"
   },
   {
    "duration": 4,
    "start_time": "2021-11-27T09:29:08.209Z"
   },
   {
    "duration": 3,
    "start_time": "2021-11-27T09:29:17.497Z"
   },
   {
    "duration": 148,
    "start_time": "2021-11-27T09:29:17.502Z"
   },
   {
    "duration": 11,
    "start_time": "2021-11-27T09:29:17.652Z"
   },
   {
    "duration": 14,
    "start_time": "2021-11-27T09:29:17.664Z"
   },
   {
    "duration": 7,
    "start_time": "2021-11-27T09:29:17.679Z"
   },
   {
    "duration": 31,
    "start_time": "2021-11-27T09:29:17.688Z"
   },
   {
    "duration": 5,
    "start_time": "2021-11-27T09:29:17.721Z"
   },
   {
    "duration": 23,
    "start_time": "2021-11-27T09:29:17.729Z"
   },
   {
    "duration": 18,
    "start_time": "2021-11-27T09:29:17.754Z"
   },
   {
    "duration": 24,
    "start_time": "2021-11-27T09:29:17.806Z"
   },
   {
    "duration": 54,
    "start_time": "2021-11-27T09:29:17.832Z"
   },
   {
    "duration": 73,
    "start_time": "2021-11-27T09:29:17.888Z"
   },
   {
    "duration": 62,
    "start_time": "2021-11-27T09:29:17.963Z"
   },
   {
    "duration": 6,
    "start_time": "2021-11-27T09:29:18.027Z"
   },
   {
    "duration": 10,
    "start_time": "2021-11-27T09:29:18.035Z"
   },
   {
    "duration": 19,
    "start_time": "2021-11-27T09:29:18.047Z"
   },
   {
    "duration": 57,
    "start_time": "2021-11-27T09:29:18.068Z"
   },
   {
    "duration": 10,
    "start_time": "2021-11-27T09:29:18.127Z"
   },
   {
    "duration": 11,
    "start_time": "2021-11-27T09:29:18.139Z"
   },
   {
    "duration": 4,
    "start_time": "2021-11-27T09:29:18.151Z"
   },
   {
    "duration": 21,
    "start_time": "2021-11-27T09:29:18.156Z"
   },
   {
    "duration": 38,
    "start_time": "2021-11-27T09:29:18.179Z"
   },
   {
    "duration": 15,
    "start_time": "2021-11-27T09:29:18.220Z"
   },
   {
    "duration": 13,
    "start_time": "2021-11-27T09:29:18.237Z"
   },
   {
    "duration": 16,
    "start_time": "2021-11-27T09:29:18.252Z"
   },
   {
    "duration": 44,
    "start_time": "2021-11-27T09:29:18.270Z"
   },
   {
    "duration": 71,
    "start_time": "2021-11-27T09:29:18.316Z"
   },
   {
    "duration": 2,
    "start_time": "2021-11-27T09:29:18.388Z"
   },
   {
    "duration": 8,
    "start_time": "2021-11-27T09:29:18.407Z"
   },
   {
    "duration": 8,
    "start_time": "2021-11-27T09:29:18.417Z"
   },
   {
    "duration": 23,
    "start_time": "2021-11-27T09:29:18.427Z"
   },
   {
    "duration": 15,
    "start_time": "2021-11-27T09:29:18.451Z"
   },
   {
    "duration": 20,
    "start_time": "2021-11-27T09:29:18.468Z"
   },
   {
    "duration": 19,
    "start_time": "2021-11-27T09:29:18.490Z"
   },
   {
    "duration": 20,
    "start_time": "2021-11-27T09:29:18.511Z"
   },
   {
    "duration": 33,
    "start_time": "2021-11-27T09:29:18.532Z"
   },
   {
    "duration": 15,
    "start_time": "2021-11-27T09:29:18.567Z"
   },
   {
    "duration": 27,
    "start_time": "2021-11-27T09:29:18.584Z"
   },
   {
    "duration": 702,
    "start_time": "2021-11-27T19:22:24.020Z"
   },
   {
    "duration": 181,
    "start_time": "2021-11-27T19:22:24.724Z"
   },
   {
    "duration": 26,
    "start_time": "2021-11-27T19:22:24.908Z"
   },
   {
    "duration": 11,
    "start_time": "2021-11-27T19:22:24.936Z"
   },
   {
    "duration": 7,
    "start_time": "2021-11-27T19:22:24.950Z"
   },
   {
    "duration": 26,
    "start_time": "2021-11-27T19:22:24.982Z"
   },
   {
    "duration": 10,
    "start_time": "2021-11-27T19:22:25.010Z"
   },
   {
    "duration": 61,
    "start_time": "2021-11-27T19:22:25.024Z"
   },
   {
    "duration": 25,
    "start_time": "2021-11-27T19:22:25.088Z"
   },
   {
    "duration": 34,
    "start_time": "2021-11-27T19:22:25.116Z"
   },
   {
    "duration": 109,
    "start_time": "2021-11-27T19:22:25.152Z"
   },
   {
    "duration": 111,
    "start_time": "2021-11-27T19:22:25.263Z"
   },
   {
    "duration": 76,
    "start_time": "2021-11-27T19:22:25.382Z"
   },
   {
    "duration": 33,
    "start_time": "2021-11-27T19:22:25.461Z"
   },
   {
    "duration": 5,
    "start_time": "2021-11-27T19:22:25.498Z"
   },
   {
    "duration": 25,
    "start_time": "2021-11-27T19:22:25.506Z"
   },
   {
    "duration": 139,
    "start_time": "2021-11-27T19:22:25.534Z"
   },
   {
    "duration": 15,
    "start_time": "2021-11-27T19:22:25.681Z"
   },
   {
    "duration": 15,
    "start_time": "2021-11-27T19:22:25.699Z"
   },
   {
    "duration": 5,
    "start_time": "2021-11-27T19:22:25.716Z"
   },
   {
    "duration": 29,
    "start_time": "2021-11-27T19:22:25.723Z"
   },
   {
    "duration": 43,
    "start_time": "2021-11-27T19:22:25.754Z"
   },
   {
    "duration": 19,
    "start_time": "2021-11-27T19:22:25.802Z"
   },
   {
    "duration": 18,
    "start_time": "2021-11-27T19:22:25.824Z"
   },
   {
    "duration": 60,
    "start_time": "2021-11-27T19:22:25.844Z"
   },
   {
    "duration": 20,
    "start_time": "2021-11-27T19:22:25.906Z"
   },
   {
    "duration": 132,
    "start_time": "2021-11-27T19:22:25.929Z"
   },
   {
    "duration": 3,
    "start_time": "2021-11-27T19:22:26.063Z"
   },
   {
    "duration": 16,
    "start_time": "2021-11-27T19:22:26.068Z"
   },
   {
    "duration": 113,
    "start_time": "2021-11-27T19:22:26.086Z"
   },
   {
    "duration": 1322,
    "start_time": "2021-11-27T19:22:24.879Z"
   },
   {
    "duration": 1322,
    "start_time": "2021-11-27T19:22:24.881Z"
   },
   {
    "duration": 1322,
    "start_time": "2021-11-27T19:22:24.882Z"
   },
   {
    "duration": 1321,
    "start_time": "2021-11-27T19:22:24.885Z"
   },
   {
    "duration": 1319,
    "start_time": "2021-11-27T19:22:24.889Z"
   },
   {
    "duration": 1318,
    "start_time": "2021-11-27T19:22:24.891Z"
   },
   {
    "duration": 1318,
    "start_time": "2021-11-27T19:22:24.893Z"
   },
   {
    "duration": 1318,
    "start_time": "2021-11-27T19:22:24.894Z"
   },
   {
    "duration": 105,
    "start_time": "2021-11-27T19:22:51.815Z"
   },
   {
    "duration": 98,
    "start_time": "2021-11-27T19:23:28.465Z"
   },
   {
    "duration": 92,
    "start_time": "2021-11-27T19:24:35.218Z"
   },
   {
    "duration": 4,
    "start_time": "2021-11-27T19:46:45.527Z"
   },
   {
    "duration": 211,
    "start_time": "2021-11-27T19:46:45.534Z"
   },
   {
    "duration": 16,
    "start_time": "2021-11-27T19:46:45.748Z"
   },
   {
    "duration": 24,
    "start_time": "2021-11-27T19:46:45.767Z"
   },
   {
    "duration": 8,
    "start_time": "2021-11-27T19:46:45.793Z"
   },
   {
    "duration": 22,
    "start_time": "2021-11-27T19:46:45.803Z"
   },
   {
    "duration": 6,
    "start_time": "2021-11-27T19:46:45.827Z"
   },
   {
    "duration": 73,
    "start_time": "2021-11-27T19:46:45.836Z"
   },
   {
    "duration": 22,
    "start_time": "2021-11-27T19:46:45.916Z"
   },
   {
    "duration": 58,
    "start_time": "2021-11-27T19:46:45.941Z"
   },
   {
    "duration": 107,
    "start_time": "2021-11-27T19:46:46.002Z"
   },
   {
    "duration": 110,
    "start_time": "2021-11-27T19:46:46.112Z"
   },
   {
    "duration": 86,
    "start_time": "2021-11-27T19:46:46.225Z"
   },
   {
    "duration": 11,
    "start_time": "2021-11-27T19:46:46.315Z"
   },
   {
    "duration": 5,
    "start_time": "2021-11-27T19:46:46.329Z"
   },
   {
    "duration": 47,
    "start_time": "2021-11-27T19:46:46.337Z"
   },
   {
    "duration": 81,
    "start_time": "2021-11-27T19:46:46.386Z"
   },
   {
    "duration": 23,
    "start_time": "2021-11-27T19:46:46.469Z"
   },
   {
    "duration": 16,
    "start_time": "2021-11-27T19:46:46.495Z"
   },
   {
    "duration": 6,
    "start_time": "2021-11-27T19:46:46.514Z"
   },
   {
    "duration": 69,
    "start_time": "2021-11-27T19:46:46.522Z"
   },
   {
    "duration": 22,
    "start_time": "2021-11-27T19:46:46.593Z"
   },
   {
    "duration": 21,
    "start_time": "2021-11-27T19:46:46.618Z"
   },
   {
    "duration": 49,
    "start_time": "2021-11-27T19:46:46.642Z"
   },
   {
    "duration": 30,
    "start_time": "2021-11-27T19:46:46.694Z"
   },
   {
    "duration": 61,
    "start_time": "2021-11-27T19:46:46.727Z"
   },
   {
    "duration": 170,
    "start_time": "2021-11-27T19:46:46.795Z"
   },
   {
    "duration": 26,
    "start_time": "2021-11-27T19:46:46.968Z"
   },
   {
    "duration": 18,
    "start_time": "2021-11-27T19:46:46.998Z"
   },
   {
    "duration": 109,
    "start_time": "2021-11-27T19:46:47.019Z"
   },
   {
    "duration": 1326,
    "start_time": "2021-11-27T19:46:45.805Z"
   },
   {
    "duration": 1319,
    "start_time": "2021-11-27T19:46:45.813Z"
   },
   {
    "duration": 1319,
    "start_time": "2021-11-27T19:46:45.815Z"
   },
   {
    "duration": 1319,
    "start_time": "2021-11-27T19:46:45.816Z"
   },
   {
    "duration": 1319,
    "start_time": "2021-11-27T19:46:45.818Z"
   },
   {
    "duration": 1319,
    "start_time": "2021-11-27T19:46:45.819Z"
   },
   {
    "duration": 1319,
    "start_time": "2021-11-27T19:46:45.821Z"
   },
   {
    "duration": 1319,
    "start_time": "2021-11-27T19:46:45.822Z"
   },
   {
    "duration": 105,
    "start_time": "2021-11-27T19:47:41.708Z"
   },
   {
    "duration": 109,
    "start_time": "2021-11-27T19:48:29.133Z"
   },
   {
    "duration": 107,
    "start_time": "2021-11-27T19:48:41.918Z"
   },
   {
    "duration": 4,
    "start_time": "2021-11-27T19:48:44.317Z"
   },
   {
    "duration": 193,
    "start_time": "2021-11-27T19:48:44.323Z"
   },
   {
    "duration": 16,
    "start_time": "2021-11-27T19:48:44.519Z"
   },
   {
    "duration": 13,
    "start_time": "2021-11-27T19:48:44.537Z"
   },
   {
    "duration": 30,
    "start_time": "2021-11-27T19:48:44.553Z"
   },
   {
    "duration": 19,
    "start_time": "2021-11-27T19:48:44.586Z"
   },
   {
    "duration": 5,
    "start_time": "2021-11-27T19:48:44.608Z"
   },
   {
    "duration": 66,
    "start_time": "2021-11-27T19:48:44.617Z"
   },
   {
    "duration": 22,
    "start_time": "2021-11-27T19:48:44.687Z"
   },
   {
    "duration": 30,
    "start_time": "2021-11-27T19:48:44.711Z"
   },
   {
    "duration": 108,
    "start_time": "2021-11-27T19:48:44.743Z"
   },
   {
    "duration": 110,
    "start_time": "2021-11-27T19:48:44.853Z"
   },
   {
    "duration": 93,
    "start_time": "2021-11-27T19:48:44.965Z"
   },
   {
    "duration": 22,
    "start_time": "2021-11-27T19:48:45.061Z"
   },
   {
    "duration": 5,
    "start_time": "2021-11-27T19:48:45.086Z"
   },
   {
    "duration": 15,
    "start_time": "2021-11-27T19:48:45.094Z"
   },
   {
    "duration": 106,
    "start_time": "2021-11-27T19:48:45.112Z"
   },
   {
    "duration": 16,
    "start_time": "2021-11-27T19:48:45.220Z"
   },
   {
    "duration": 17,
    "start_time": "2021-11-27T19:48:45.239Z"
   },
   {
    "duration": 26,
    "start_time": "2021-11-27T19:48:45.258Z"
   },
   {
    "duration": 34,
    "start_time": "2021-11-27T19:48:45.287Z"
   },
   {
    "duration": 23,
    "start_time": "2021-11-27T19:48:45.324Z"
   },
   {
    "duration": 21,
    "start_time": "2021-11-27T19:48:45.385Z"
   },
   {
    "duration": 17,
    "start_time": "2021-11-27T19:48:45.408Z"
   },
   {
    "duration": 54,
    "start_time": "2021-11-27T19:48:45.428Z"
   },
   {
    "duration": 20,
    "start_time": "2021-11-27T19:48:45.485Z"
   },
   {
    "duration": 115,
    "start_time": "2021-11-27T19:48:45.508Z"
   },
   {
    "duration": 18,
    "start_time": "2021-11-27T19:48:45.625Z"
   },
   {
    "duration": 37,
    "start_time": "2021-11-27T19:48:45.645Z"
   },
   {
    "duration": 112,
    "start_time": "2021-11-27T19:48:45.685Z"
   },
   {
    "duration": 1308,
    "start_time": "2021-11-27T19:48:44.492Z"
   },
   {
    "duration": 1306,
    "start_time": "2021-11-27T19:48:44.495Z"
   },
   {
    "duration": 1304,
    "start_time": "2021-11-27T19:48:44.499Z"
   },
   {
    "duration": 1303,
    "start_time": "2021-11-27T19:48:44.501Z"
   },
   {
    "duration": 1303,
    "start_time": "2021-11-27T19:48:44.503Z"
   },
   {
    "duration": 1302,
    "start_time": "2021-11-27T19:48:44.505Z"
   },
   {
    "duration": 1302,
    "start_time": "2021-11-27T19:48:44.507Z"
   },
   {
    "duration": 1298,
    "start_time": "2021-11-27T19:48:44.512Z"
   },
   {
    "duration": 106,
    "start_time": "2021-11-27T19:48:57.840Z"
   },
   {
    "duration": 107,
    "start_time": "2021-11-27T19:50:00.376Z"
   },
   {
    "duration": 96,
    "start_time": "2021-11-27T19:50:07.171Z"
   },
   {
    "duration": 122,
    "start_time": "2021-11-27T19:50:13.153Z"
   },
   {
    "duration": 110,
    "start_time": "2021-11-27T19:50:59.831Z"
   },
   {
    "duration": 97,
    "start_time": "2021-11-27T19:51:14.719Z"
   },
   {
    "duration": 390,
    "start_time": "2021-11-27T19:52:15.663Z"
   },
   {
    "duration": 3,
    "start_time": "2021-11-27T19:52:20.353Z"
   },
   {
    "duration": 223,
    "start_time": "2021-11-27T19:52:20.359Z"
   },
   {
    "duration": 16,
    "start_time": "2021-11-27T19:52:20.585Z"
   },
   {
    "duration": 19,
    "start_time": "2021-11-27T19:52:20.604Z"
   },
   {
    "duration": 12,
    "start_time": "2021-11-27T19:52:20.625Z"
   },
   {
    "duration": 45,
    "start_time": "2021-11-27T19:52:20.639Z"
   },
   {
    "duration": 5,
    "start_time": "2021-11-27T19:52:20.689Z"
   },
   {
    "duration": 38,
    "start_time": "2021-11-27T19:52:20.698Z"
   },
   {
    "duration": 46,
    "start_time": "2021-11-27T19:52:20.740Z"
   },
   {
    "duration": 29,
    "start_time": "2021-11-27T19:52:20.789Z"
   },
   {
    "duration": 101,
    "start_time": "2021-11-27T19:52:20.820Z"
   },
   {
    "duration": 105,
    "start_time": "2021-11-27T19:52:20.923Z"
   },
   {
    "duration": 91,
    "start_time": "2021-11-27T19:52:21.030Z"
   },
   {
    "duration": 11,
    "start_time": "2021-11-27T19:52:21.123Z"
   },
   {
    "duration": 9,
    "start_time": "2021-11-27T19:52:21.136Z"
   },
   {
    "duration": 35,
    "start_time": "2021-11-27T19:52:21.147Z"
   },
   {
    "duration": 94,
    "start_time": "2021-11-27T19:52:21.184Z"
   },
   {
    "duration": 16,
    "start_time": "2021-11-27T19:52:21.280Z"
   },
   {
    "duration": 14,
    "start_time": "2021-11-27T19:52:21.298Z"
   },
   {
    "duration": 5,
    "start_time": "2021-11-27T19:52:21.315Z"
   },
   {
    "duration": 62,
    "start_time": "2021-11-27T19:52:21.322Z"
   },
   {
    "duration": 21,
    "start_time": "2021-11-27T19:52:21.386Z"
   },
   {
    "duration": 20,
    "start_time": "2021-11-27T19:52:21.412Z"
   },
   {
    "duration": 56,
    "start_time": "2021-11-27T19:52:21.435Z"
   },
   {
    "duration": 21,
    "start_time": "2021-11-27T19:52:21.494Z"
   },
   {
    "duration": 25,
    "start_time": "2021-11-27T19:52:21.517Z"
   },
   {
    "duration": 118,
    "start_time": "2021-11-27T19:52:21.545Z"
   },
   {
    "duration": 26,
    "start_time": "2021-11-27T19:52:21.665Z"
   },
   {
    "duration": 22,
    "start_time": "2021-11-27T19:52:21.693Z"
   },
   {
    "duration": 307,
    "start_time": "2021-11-27T19:52:21.718Z"
   },
   {
    "duration": 1304,
    "start_time": "2021-11-27T19:52:20.724Z"
   },
   {
    "duration": 1303,
    "start_time": "2021-11-27T19:52:20.727Z"
   },
   {
    "duration": 1302,
    "start_time": "2021-11-27T19:52:20.729Z"
   },
   {
    "duration": 1301,
    "start_time": "2021-11-27T19:52:20.733Z"
   },
   {
    "duration": 1301,
    "start_time": "2021-11-27T19:52:20.735Z"
   },
   {
    "duration": 1301,
    "start_time": "2021-11-27T19:52:20.736Z"
   },
   {
    "duration": 1297,
    "start_time": "2021-11-27T19:52:20.742Z"
   },
   {
    "duration": 1296,
    "start_time": "2021-11-27T19:52:20.744Z"
   },
   {
    "duration": 308,
    "start_time": "2021-11-27T19:54:23.334Z"
   },
   {
    "duration": 3,
    "start_time": "2021-11-27T19:54:32.224Z"
   },
   {
    "duration": 205,
    "start_time": "2021-11-27T19:54:32.230Z"
   },
   {
    "duration": 17,
    "start_time": "2021-11-27T19:54:32.438Z"
   },
   {
    "duration": 37,
    "start_time": "2021-11-27T19:54:32.458Z"
   },
   {
    "duration": 10,
    "start_time": "2021-11-27T19:54:32.498Z"
   },
   {
    "duration": 36,
    "start_time": "2021-11-27T19:54:32.511Z"
   },
   {
    "duration": 7,
    "start_time": "2021-11-27T19:54:32.550Z"
   },
   {
    "duration": 49,
    "start_time": "2021-11-27T19:54:32.588Z"
   },
   {
    "duration": 53,
    "start_time": "2021-11-27T19:54:32.643Z"
   },
   {
    "duration": 32,
    "start_time": "2021-11-27T19:54:32.700Z"
   },
   {
    "duration": 105,
    "start_time": "2021-11-27T19:54:32.735Z"
   },
   {
    "duration": 98,
    "start_time": "2021-11-27T19:54:32.842Z"
   },
   {
    "duration": 82,
    "start_time": "2021-11-27T19:54:32.942Z"
   },
   {
    "duration": 8,
    "start_time": "2021-11-27T19:54:33.027Z"
   },
   {
    "duration": 3,
    "start_time": "2021-11-27T19:54:33.038Z"
   },
   {
    "duration": 40,
    "start_time": "2021-11-27T19:54:33.044Z"
   },
   {
    "duration": 76,
    "start_time": "2021-11-27T19:54:33.086Z"
   },
   {
    "duration": 24,
    "start_time": "2021-11-27T19:54:33.164Z"
   },
   {
    "duration": 14,
    "start_time": "2021-11-27T19:54:33.190Z"
   },
   {
    "duration": 5,
    "start_time": "2021-11-27T19:54:33.206Z"
   },
   {
    "duration": 26,
    "start_time": "2021-11-27T19:54:33.214Z"
   },
   {
    "duration": 56,
    "start_time": "2021-11-27T19:54:33.242Z"
   },
   {
    "duration": 19,
    "start_time": "2021-11-27T19:54:33.300Z"
   },
   {
    "duration": 18,
    "start_time": "2021-11-27T19:54:33.321Z"
   },
   {
    "duration": 54,
    "start_time": "2021-11-27T19:54:33.341Z"
   },
   {
    "duration": 24,
    "start_time": "2021-11-27T19:54:33.397Z"
   },
   {
    "duration": 122,
    "start_time": "2021-11-27T19:54:33.427Z"
   },
   {
    "duration": 17,
    "start_time": "2021-11-27T19:54:33.551Z"
   },
   {
    "duration": 21,
    "start_time": "2021-11-27T19:54:33.570Z"
   },
   {
    "duration": 329,
    "start_time": "2021-11-27T19:54:33.594Z"
   },
   {
    "duration": 1313,
    "start_time": "2021-11-27T19:54:32.612Z"
   },
   {
    "duration": 1313,
    "start_time": "2021-11-27T19:54:32.613Z"
   },
   {
    "duration": 1313,
    "start_time": "2021-11-27T19:54:32.614Z"
   },
   {
    "duration": 1313,
    "start_time": "2021-11-27T19:54:32.616Z"
   },
   {
    "duration": 1310,
    "start_time": "2021-11-27T19:54:32.620Z"
   },
   {
    "duration": 1311,
    "start_time": "2021-11-27T19:54:32.621Z"
   },
   {
    "duration": 1310,
    "start_time": "2021-11-27T19:54:32.623Z"
   },
   {
    "duration": 1310,
    "start_time": "2021-11-27T19:54:32.624Z"
   },
   {
    "duration": 351,
    "start_time": "2021-11-27T19:56:10.540Z"
   },
   {
    "duration": 3,
    "start_time": "2021-11-27T20:00:22.370Z"
   },
   {
    "duration": 220,
    "start_time": "2021-11-27T20:00:22.377Z"
   },
   {
    "duration": 16,
    "start_time": "2021-11-27T20:00:22.601Z"
   },
   {
    "duration": 12,
    "start_time": "2021-11-27T20:00:22.620Z"
   },
   {
    "duration": 10,
    "start_time": "2021-11-27T20:00:22.634Z"
   },
   {
    "duration": 46,
    "start_time": "2021-11-27T20:00:22.646Z"
   },
   {
    "duration": 5,
    "start_time": "2021-11-27T20:00:22.694Z"
   },
   {
    "duration": 33,
    "start_time": "2021-11-27T20:00:22.705Z"
   },
   {
    "duration": 61,
    "start_time": "2021-11-27T20:00:22.742Z"
   },
   {
    "duration": 32,
    "start_time": "2021-11-27T20:00:22.806Z"
   },
   {
    "duration": 119,
    "start_time": "2021-11-27T20:00:22.842Z"
   },
   {
    "duration": 104,
    "start_time": "2021-11-27T20:00:22.964Z"
   },
   {
    "duration": 83,
    "start_time": "2021-11-27T20:00:23.070Z"
   },
   {
    "duration": 27,
    "start_time": "2021-11-27T20:00:23.156Z"
   },
   {
    "duration": 4,
    "start_time": "2021-11-27T20:00:23.185Z"
   },
   {
    "duration": 20,
    "start_time": "2021-11-27T20:00:23.191Z"
   },
   {
    "duration": 95,
    "start_time": "2021-11-27T20:00:23.213Z"
   },
   {
    "duration": 14,
    "start_time": "2021-11-27T20:00:23.311Z"
   },
   {
    "duration": 14,
    "start_time": "2021-11-27T20:00:23.327Z"
   },
   {
    "duration": 5,
    "start_time": "2021-11-27T20:00:23.343Z"
   },
   {
    "duration": 54,
    "start_time": "2021-11-27T20:00:23.350Z"
   },
   {
    "duration": 21,
    "start_time": "2021-11-27T20:00:23.407Z"
   },
   {
    "duration": 18,
    "start_time": "2021-11-27T20:00:23.433Z"
   },
   {
    "duration": 18,
    "start_time": "2021-11-27T20:00:23.483Z"
   },
   {
    "duration": 22,
    "start_time": "2021-11-27T20:00:23.504Z"
   },
   {
    "duration": 18,
    "start_time": "2021-11-27T20:00:23.529Z"
   },
   {
    "duration": 132,
    "start_time": "2021-11-27T20:00:23.550Z"
   },
   {
    "duration": 16,
    "start_time": "2021-11-27T20:00:23.685Z"
   },
   {
    "duration": 13,
    "start_time": "2021-11-27T20:00:23.703Z"
   },
   {
    "duration": 120,
    "start_time": "2021-11-27T20:00:23.718Z"
   },
   {
    "duration": 1319,
    "start_time": "2021-11-27T20:00:22.522Z"
   },
   {
    "duration": 1314,
    "start_time": "2021-11-27T20:00:22.528Z"
   },
   {
    "duration": 1312,
    "start_time": "2021-11-27T20:00:22.531Z"
   },
   {
    "duration": 1305,
    "start_time": "2021-11-27T20:00:22.539Z"
   },
   {
    "duration": 1304,
    "start_time": "2021-11-27T20:00:22.541Z"
   },
   {
    "duration": 1304,
    "start_time": "2021-11-27T20:00:22.543Z"
   },
   {
    "duration": 1304,
    "start_time": "2021-11-27T20:00:22.544Z"
   },
   {
    "duration": 1299,
    "start_time": "2021-11-27T20:00:22.550Z"
   },
   {
    "duration": 108,
    "start_time": "2021-11-27T20:00:34.112Z"
   },
   {
    "duration": 6,
    "start_time": "2021-11-27T20:00:43.473Z"
   },
   {
    "duration": 4,
    "start_time": "2021-11-27T20:22:57.432Z"
   },
   {
    "duration": 263,
    "start_time": "2021-11-27T20:22:57.439Z"
   },
   {
    "duration": 22,
    "start_time": "2021-11-27T20:22:57.707Z"
   },
   {
    "duration": 16,
    "start_time": "2021-11-27T20:22:57.733Z"
   },
   {
    "duration": 35,
    "start_time": "2021-11-27T20:22:57.752Z"
   },
   {
    "duration": 18,
    "start_time": "2021-11-27T20:22:57.790Z"
   },
   {
    "duration": 7,
    "start_time": "2021-11-27T20:22:57.811Z"
   },
   {
    "duration": 62,
    "start_time": "2021-11-27T20:22:57.821Z"
   },
   {
    "duration": 23,
    "start_time": "2021-11-27T20:22:57.886Z"
   },
   {
    "duration": 33,
    "start_time": "2021-11-27T20:22:57.912Z"
   },
   {
    "duration": 110,
    "start_time": "2021-11-27T20:22:57.947Z"
   },
   {
    "duration": 145,
    "start_time": "2021-11-27T20:22:58.060Z"
   },
   {
    "duration": 139,
    "start_time": "2021-11-27T20:22:58.208Z"
   },
   {
    "duration": 14,
    "start_time": "2021-11-27T20:22:58.350Z"
   },
   {
    "duration": 5,
    "start_time": "2021-11-27T20:22:58.367Z"
   },
   {
    "duration": 22,
    "start_time": "2021-11-27T20:22:58.375Z"
   },
   {
    "duration": 137,
    "start_time": "2021-11-27T20:22:58.400Z"
   },
   {
    "duration": 22,
    "start_time": "2021-11-27T20:22:58.540Z"
   },
   {
    "duration": 37,
    "start_time": "2021-11-27T20:22:58.565Z"
   },
   {
    "duration": 6,
    "start_time": "2021-11-27T20:22:58.605Z"
   },
   {
    "duration": 36,
    "start_time": "2021-11-27T20:22:58.614Z"
   },
   {
    "duration": 48,
    "start_time": "2021-11-27T20:22:58.653Z"
   },
   {
    "duration": 28,
    "start_time": "2021-11-27T20:22:58.707Z"
   },
   {
    "duration": 57,
    "start_time": "2021-11-27T20:22:58.738Z"
   },
   {
    "duration": 33,
    "start_time": "2021-11-27T20:22:58.798Z"
   },
   {
    "duration": 55,
    "start_time": "2021-11-27T20:22:58.834Z"
   },
   {
    "duration": 158,
    "start_time": "2021-11-27T20:22:58.892Z"
   },
   {
    "duration": 36,
    "start_time": "2021-11-27T20:22:59.053Z"
   },
   {
    "duration": 15,
    "start_time": "2021-11-27T20:22:59.092Z"
   },
   {
    "duration": 6,
    "start_time": "2021-11-27T20:22:59.109Z"
   },
   {
    "duration": 1103,
    "start_time": "2021-11-27T20:22:59.117Z"
   },
   {
    "duration": 1288,
    "start_time": "2021-11-27T20:22:58.934Z"
   },
   {
    "duration": 1284,
    "start_time": "2021-11-27T20:22:58.939Z"
   },
   {
    "duration": 1284,
    "start_time": "2021-11-27T20:22:58.940Z"
   },
   {
    "duration": 1284,
    "start_time": "2021-11-27T20:22:58.942Z"
   },
   {
    "duration": 1284,
    "start_time": "2021-11-27T20:22:58.943Z"
   },
   {
    "duration": 1283,
    "start_time": "2021-11-27T20:22:58.945Z"
   },
   {
    "duration": 1284,
    "start_time": "2021-11-27T20:22:58.946Z"
   },
   {
    "duration": 6,
    "start_time": "2021-11-27T20:27:54.867Z"
   },
   {
    "duration": 4,
    "start_time": "2021-11-27T20:30:41.954Z"
   },
   {
    "duration": 213,
    "start_time": "2021-11-27T20:30:41.961Z"
   },
   {
    "duration": 18,
    "start_time": "2021-11-27T20:30:42.177Z"
   },
   {
    "duration": 20,
    "start_time": "2021-11-27T20:30:42.198Z"
   },
   {
    "duration": 22,
    "start_time": "2021-11-27T20:30:42.220Z"
   },
   {
    "duration": 20,
    "start_time": "2021-11-27T20:30:42.244Z"
   },
   {
    "duration": 18,
    "start_time": "2021-11-27T20:30:42.266Z"
   },
   {
    "duration": 32,
    "start_time": "2021-11-27T20:30:42.289Z"
   },
   {
    "duration": 22,
    "start_time": "2021-11-27T20:30:42.325Z"
   },
   {
    "duration": 65,
    "start_time": "2021-11-27T20:30:42.349Z"
   },
   {
    "duration": 100,
    "start_time": "2021-11-27T20:30:42.417Z"
   },
   {
    "duration": 98,
    "start_time": "2021-11-27T20:30:42.519Z"
   },
   {
    "duration": 87,
    "start_time": "2021-11-27T20:30:42.620Z"
   },
   {
    "duration": 10,
    "start_time": "2021-11-27T20:30:42.709Z"
   },
   {
    "duration": 5,
    "start_time": "2021-11-27T20:30:42.722Z"
   },
   {
    "duration": 15,
    "start_time": "2021-11-27T20:30:42.730Z"
   },
   {
    "duration": 105,
    "start_time": "2021-11-27T20:30:42.747Z"
   },
   {
    "duration": 15,
    "start_time": "2021-11-27T20:30:42.854Z"
   },
   {
    "duration": 14,
    "start_time": "2021-11-27T20:30:42.883Z"
   },
   {
    "duration": 6,
    "start_time": "2021-11-27T20:30:42.900Z"
   },
   {
    "duration": 32,
    "start_time": "2021-11-27T20:30:42.909Z"
   },
   {
    "duration": 48,
    "start_time": "2021-11-27T20:30:42.943Z"
   },
   {
    "duration": 18,
    "start_time": "2021-11-27T20:30:42.995Z"
   },
   {
    "duration": 18,
    "start_time": "2021-11-27T20:30:43.017Z"
   },
   {
    "duration": 57,
    "start_time": "2021-11-27T20:30:43.038Z"
   },
   {
    "duration": 18,
    "start_time": "2021-11-27T20:30:43.098Z"
   },
   {
    "duration": 117,
    "start_time": "2021-11-27T20:30:43.118Z"
   },
   {
    "duration": 14,
    "start_time": "2021-11-27T20:30:43.237Z"
   },
   {
    "duration": 33,
    "start_time": "2021-11-27T20:30:43.253Z"
   },
   {
    "duration": 6,
    "start_time": "2021-11-27T20:30:43.288Z"
   },
   {
    "duration": 641,
    "start_time": "2021-11-27T20:30:43.296Z"
   },
   {
    "duration": 1289,
    "start_time": "2021-11-27T20:30:42.650Z"
   },
   {
    "duration": 1288,
    "start_time": "2021-11-27T20:30:42.652Z"
   },
   {
    "duration": 1287,
    "start_time": "2021-11-27T20:30:42.655Z"
   },
   {
    "duration": 1285,
    "start_time": "2021-11-27T20:30:42.659Z"
   },
   {
    "duration": 1284,
    "start_time": "2021-11-27T20:30:42.661Z"
   },
   {
    "duration": 1284,
    "start_time": "2021-11-27T20:30:42.662Z"
   },
   {
    "duration": 1283,
    "start_time": "2021-11-27T20:30:42.664Z"
   },
   {
    "duration": 640,
    "start_time": "2021-11-27T20:33:03.929Z"
   },
   {
    "duration": 4,
    "start_time": "2021-11-27T20:38:21.097Z"
   },
   {
    "duration": 271,
    "start_time": "2021-11-27T20:38:21.104Z"
   },
   {
    "duration": 21,
    "start_time": "2021-11-27T20:38:21.379Z"
   },
   {
    "duration": 15,
    "start_time": "2021-11-27T20:38:21.404Z"
   },
   {
    "duration": 8,
    "start_time": "2021-11-27T20:38:21.422Z"
   },
   {
    "duration": 61,
    "start_time": "2021-11-27T20:38:21.432Z"
   },
   {
    "duration": 7,
    "start_time": "2021-11-27T20:38:21.496Z"
   },
   {
    "duration": 34,
    "start_time": "2021-11-27T20:38:21.506Z"
   },
   {
    "duration": 49,
    "start_time": "2021-11-27T20:38:21.544Z"
   },
   {
    "duration": 32,
    "start_time": "2021-11-27T20:38:21.596Z"
   },
   {
    "duration": 109,
    "start_time": "2021-11-27T20:38:21.631Z"
   },
   {
    "duration": 112,
    "start_time": "2021-11-27T20:38:21.743Z"
   },
   {
    "duration": 90,
    "start_time": "2021-11-27T20:38:21.858Z"
   },
   {
    "duration": 10,
    "start_time": "2021-11-27T20:38:21.951Z"
   },
   {
    "duration": 20,
    "start_time": "2021-11-27T20:38:21.963Z"
   },
   {
    "duration": 16,
    "start_time": "2021-11-27T20:38:21.986Z"
   },
   {
    "duration": 91,
    "start_time": "2021-11-27T20:38:22.005Z"
   },
   {
    "duration": 14,
    "start_time": "2021-11-27T20:38:22.099Z"
   },
   {
    "duration": 14,
    "start_time": "2021-11-27T20:38:22.116Z"
   },
   {
    "duration": 6,
    "start_time": "2021-11-27T20:38:22.133Z"
   },
   {
    "duration": 59,
    "start_time": "2021-11-27T20:38:22.142Z"
   },
   {
    "duration": 20,
    "start_time": "2021-11-27T20:38:22.204Z"
   },
   {
    "duration": 19,
    "start_time": "2021-11-27T20:38:22.226Z"
   },
   {
    "duration": 47,
    "start_time": "2021-11-27T20:38:22.247Z"
   },
   {
    "duration": 21,
    "start_time": "2021-11-27T20:38:22.297Z"
   },
   {
    "duration": 19,
    "start_time": "2021-11-27T20:38:22.320Z"
   },
   {
    "duration": 128,
    "start_time": "2021-11-27T20:38:22.344Z"
   },
   {
    "duration": 15,
    "start_time": "2021-11-27T20:38:22.482Z"
   },
   {
    "duration": 12,
    "start_time": "2021-11-27T20:38:22.499Z"
   },
   {
    "duration": 6,
    "start_time": "2021-11-27T20:38:22.514Z"
   },
   {
    "duration": 602,
    "start_time": "2021-11-27T20:38:22.522Z"
   },
   {
    "duration": 1284,
    "start_time": "2021-11-27T20:38:21.844Z"
   },
   {
    "duration": 1285,
    "start_time": "2021-11-27T20:38:21.845Z"
   },
   {
    "duration": 1285,
    "start_time": "2021-11-27T20:38:21.847Z"
   },
   {
    "duration": 1286,
    "start_time": "2021-11-27T20:38:21.848Z"
   },
   {
    "duration": 1285,
    "start_time": "2021-11-27T20:38:21.850Z"
   },
   {
    "duration": 1286,
    "start_time": "2021-11-27T20:38:21.851Z"
   },
   {
    "duration": 1287,
    "start_time": "2021-11-27T20:38:21.852Z"
   },
   {
    "duration": 5,
    "start_time": "2021-11-27T20:40:09.142Z"
   },
   {
    "duration": 269,
    "start_time": "2021-11-27T20:40:09.150Z"
   },
   {
    "duration": 24,
    "start_time": "2021-11-27T20:40:09.423Z"
   },
   {
    "duration": 37,
    "start_time": "2021-11-27T20:40:09.451Z"
   },
   {
    "duration": 7,
    "start_time": "2021-11-27T20:40:09.492Z"
   },
   {
    "duration": 28,
    "start_time": "2021-11-27T20:40:09.502Z"
   },
   {
    "duration": 7,
    "start_time": "2021-11-27T20:40:09.533Z"
   },
   {
    "duration": 91,
    "start_time": "2021-11-27T20:40:09.543Z"
   },
   {
    "duration": 51,
    "start_time": "2021-11-27T20:40:09.641Z"
   },
   {
    "duration": 51,
    "start_time": "2021-11-27T20:40:09.697Z"
   },
   {
    "duration": 138,
    "start_time": "2021-11-27T20:40:09.752Z"
   },
   {
    "duration": 153,
    "start_time": "2021-11-27T20:40:09.893Z"
   },
   {
    "duration": 117,
    "start_time": "2021-11-27T20:40:10.049Z"
   },
   {
    "duration": 17,
    "start_time": "2021-11-27T20:40:10.169Z"
   },
   {
    "duration": 5,
    "start_time": "2021-11-27T20:40:10.189Z"
   },
   {
    "duration": 19,
    "start_time": "2021-11-27T20:40:10.196Z"
   },
   {
    "duration": 147,
    "start_time": "2021-11-27T20:40:10.219Z"
   },
   {
    "duration": 17,
    "start_time": "2021-11-27T20:40:10.369Z"
   },
   {
    "duration": 13,
    "start_time": "2021-11-27T20:40:10.389Z"
   },
   {
    "duration": 4,
    "start_time": "2021-11-27T20:40:10.405Z"
   },
   {
    "duration": 27,
    "start_time": "2021-11-27T20:40:10.412Z"
   },
   {
    "duration": 54,
    "start_time": "2021-11-27T20:40:10.441Z"
   },
   {
    "duration": 20,
    "start_time": "2021-11-27T20:40:10.498Z"
   },
   {
    "duration": 19,
    "start_time": "2021-11-27T20:40:10.520Z"
   },
   {
    "duration": 54,
    "start_time": "2021-11-27T20:40:10.542Z"
   },
   {
    "duration": 20,
    "start_time": "2021-11-27T20:40:10.599Z"
   },
   {
    "duration": 124,
    "start_time": "2021-11-27T20:40:10.624Z"
   },
   {
    "duration": 15,
    "start_time": "2021-11-27T20:40:10.750Z"
   },
   {
    "duration": 26,
    "start_time": "2021-11-27T20:40:10.767Z"
   },
   {
    "duration": 5,
    "start_time": "2021-11-27T20:40:10.795Z"
   },
   {
    "duration": 32,
    "start_time": "2021-11-27T20:40:10.802Z"
   },
   {
    "duration": 48,
    "start_time": "2021-11-27T20:40:10.836Z"
   },
   {
    "duration": 297,
    "start_time": "2021-11-27T20:40:10.886Z"
   },
   {
    "duration": 1292,
    "start_time": "2021-11-27T20:40:09.893Z"
   },
   {
    "duration": 1290,
    "start_time": "2021-11-27T20:40:09.897Z"
   },
   {
    "duration": 1289,
    "start_time": "2021-11-27T20:40:09.899Z"
   },
   {
    "duration": 1284,
    "start_time": "2021-11-27T20:40:09.906Z"
   },
   {
    "duration": 1284,
    "start_time": "2021-11-27T20:40:09.908Z"
   },
   {
    "duration": 22,
    "start_time": "2021-11-27T20:40:46.761Z"
   },
   {
    "duration": 3,
    "start_time": "2021-11-27T20:40:55.853Z"
   },
   {
    "duration": 203,
    "start_time": "2021-11-27T20:40:55.859Z"
   },
   {
    "duration": 20,
    "start_time": "2021-11-27T20:40:56.065Z"
   },
   {
    "duration": 13,
    "start_time": "2021-11-27T20:40:56.088Z"
   },
   {
    "duration": 7,
    "start_time": "2021-11-27T20:40:56.104Z"
   },
   {
    "duration": 25,
    "start_time": "2021-11-27T20:40:56.113Z"
   },
   {
    "duration": 45,
    "start_time": "2021-11-27T20:40:56.143Z"
   },
   {
    "duration": 31,
    "start_time": "2021-11-27T20:40:56.191Z"
   },
   {
    "duration": 22,
    "start_time": "2021-11-27T20:40:56.224Z"
   },
   {
    "duration": 60,
    "start_time": "2021-11-27T20:40:56.248Z"
   },
   {
    "duration": 98,
    "start_time": "2021-11-27T20:40:56.310Z"
   },
   {
    "duration": 106,
    "start_time": "2021-11-27T20:40:56.411Z"
   },
   {
    "duration": 85,
    "start_time": "2021-11-27T20:40:56.519Z"
   },
   {
    "duration": 11,
    "start_time": "2021-11-27T20:40:56.606Z"
   },
   {
    "duration": 4,
    "start_time": "2021-11-27T20:40:56.620Z"
   },
   {
    "duration": 19,
    "start_time": "2021-11-27T20:40:56.627Z"
   },
   {
    "duration": 106,
    "start_time": "2021-11-27T20:40:56.648Z"
   },
   {
    "duration": 34,
    "start_time": "2021-11-27T20:40:56.757Z"
   },
   {
    "duration": 14,
    "start_time": "2021-11-27T20:40:56.797Z"
   },
   {
    "duration": 4,
    "start_time": "2021-11-27T20:40:56.814Z"
   },
   {
    "duration": 63,
    "start_time": "2021-11-27T20:40:56.821Z"
   },
   {
    "duration": 21,
    "start_time": "2021-11-27T20:40:56.887Z"
   },
   {
    "duration": 20,
    "start_time": "2021-11-27T20:40:56.911Z"
   },
   {
    "duration": 50,
    "start_time": "2021-11-27T20:40:56.933Z"
   },
   {
    "duration": 23,
    "start_time": "2021-11-27T20:40:56.986Z"
   },
   {
    "duration": 19,
    "start_time": "2021-11-27T20:40:57.011Z"
   },
   {
    "duration": 132,
    "start_time": "2021-11-27T20:40:57.032Z"
   },
   {
    "duration": 29,
    "start_time": "2021-11-27T20:40:57.167Z"
   },
   {
    "duration": 13,
    "start_time": "2021-11-27T20:40:57.198Z"
   },
   {
    "duration": 7,
    "start_time": "2021-11-27T20:40:57.213Z"
   },
   {
    "duration": 61,
    "start_time": "2021-11-27T20:40:57.222Z"
   },
   {
    "duration": 23,
    "start_time": "2021-11-27T20:40:57.285Z"
   },
   {
    "duration": 21,
    "start_time": "2021-11-27T20:40:57.310Z"
   },
   {
    "duration": 50,
    "start_time": "2021-11-27T20:40:57.333Z"
   },
   {
    "duration": 14,
    "start_time": "2021-11-27T20:40:57.386Z"
   },
   {
    "duration": 6,
    "start_time": "2021-11-27T20:40:57.403Z"
   },
   {
    "duration": 17,
    "start_time": "2021-11-27T20:40:57.411Z"
   },
   {
    "duration": 53,
    "start_time": "2021-11-27T20:40:57.431Z"
   },
   {
    "duration": 9,
    "start_time": "2021-11-27T20:41:58.742Z"
   },
   {
    "duration": 3,
    "start_time": "2021-11-27T20:42:03.838Z"
   },
   {
    "duration": 203,
    "start_time": "2021-11-27T20:42:03.844Z"
   },
   {
    "duration": 17,
    "start_time": "2021-11-27T20:42:04.050Z"
   },
   {
    "duration": 22,
    "start_time": "2021-11-27T20:42:04.069Z"
   },
   {
    "duration": 8,
    "start_time": "2021-11-27T20:42:04.093Z"
   },
   {
    "duration": 30,
    "start_time": "2021-11-27T20:42:04.104Z"
   },
   {
    "duration": 9,
    "start_time": "2021-11-27T20:42:04.137Z"
   },
   {
    "duration": 56,
    "start_time": "2021-11-27T20:42:04.150Z"
   },
   {
    "duration": 23,
    "start_time": "2021-11-27T20:42:04.210Z"
   },
   {
    "duration": 51,
    "start_time": "2021-11-27T20:42:04.235Z"
   },
   {
    "duration": 105,
    "start_time": "2021-11-27T20:42:04.290Z"
   },
   {
    "duration": 105,
    "start_time": "2021-11-27T20:42:04.397Z"
   },
   {
    "duration": 83,
    "start_time": "2021-11-27T20:42:04.504Z"
   },
   {
    "duration": 9,
    "start_time": "2021-11-27T20:42:04.590Z"
   },
   {
    "duration": 5,
    "start_time": "2021-11-27T20:42:04.602Z"
   },
   {
    "duration": 22,
    "start_time": "2021-11-27T20:42:04.609Z"
   },
   {
    "duration": 103,
    "start_time": "2021-11-27T20:42:04.633Z"
   },
   {
    "duration": 14,
    "start_time": "2021-11-27T20:42:04.739Z"
   },
   {
    "duration": 31,
    "start_time": "2021-11-27T20:42:04.756Z"
   },
   {
    "duration": 5,
    "start_time": "2021-11-27T20:42:04.790Z"
   },
   {
    "duration": 27,
    "start_time": "2021-11-27T20:42:04.798Z"
   },
   {
    "duration": 21,
    "start_time": "2021-11-27T20:42:04.828Z"
   },
   {
    "duration": 20,
    "start_time": "2021-11-27T20:42:04.884Z"
   },
   {
    "duration": 20,
    "start_time": "2021-11-27T20:42:04.907Z"
   },
   {
    "duration": 62,
    "start_time": "2021-11-27T20:42:04.930Z"
   },
   {
    "duration": 21,
    "start_time": "2021-11-27T20:42:04.995Z"
   },
   {
    "duration": 115,
    "start_time": "2021-11-27T20:42:05.019Z"
   },
   {
    "duration": 15,
    "start_time": "2021-11-27T20:42:05.137Z"
   },
   {
    "duration": 30,
    "start_time": "2021-11-27T20:42:05.155Z"
   },
   {
    "duration": 6,
    "start_time": "2021-11-27T20:42:05.187Z"
   },
   {
    "duration": 31,
    "start_time": "2021-11-27T20:42:05.195Z"
   },
   {
    "duration": 25,
    "start_time": "2021-11-27T20:42:05.228Z"
   },
   {
    "duration": 47,
    "start_time": "2021-11-27T20:42:05.256Z"
   },
   {
    "duration": 17,
    "start_time": "2021-11-27T20:42:05.305Z"
   },
   {
    "duration": 15,
    "start_time": "2021-11-27T20:42:05.324Z"
   },
   {
    "duration": 43,
    "start_time": "2021-11-27T20:42:05.341Z"
   },
   {
    "duration": 13,
    "start_time": "2021-11-27T20:42:05.387Z"
   },
   {
    "duration": 12,
    "start_time": "2021-11-27T20:42:05.403Z"
   },
   {
    "duration": 4,
    "start_time": "2021-11-27T20:43:22.804Z"
   },
   {
    "duration": 209,
    "start_time": "2021-11-27T20:43:22.811Z"
   },
   {
    "duration": 15,
    "start_time": "2021-11-27T20:43:23.023Z"
   },
   {
    "duration": 14,
    "start_time": "2021-11-27T20:43:23.041Z"
   },
   {
    "duration": 27,
    "start_time": "2021-11-27T20:43:23.057Z"
   },
   {
    "duration": 17,
    "start_time": "2021-11-27T20:43:23.087Z"
   },
   {
    "duration": 5,
    "start_time": "2021-11-27T20:43:23.106Z"
   },
   {
    "duration": 69,
    "start_time": "2021-11-27T20:43:23.115Z"
   },
   {
    "duration": 23,
    "start_time": "2021-11-27T20:43:23.188Z"
   },
   {
    "duration": 30,
    "start_time": "2021-11-27T20:43:23.213Z"
   },
   {
    "duration": 118,
    "start_time": "2021-11-27T20:43:23.245Z"
   },
   {
    "duration": 106,
    "start_time": "2021-11-27T20:43:23.365Z"
   },
   {
    "duration": 78,
    "start_time": "2021-11-27T20:43:23.481Z"
   },
   {
    "duration": 22,
    "start_time": "2021-11-27T20:43:23.561Z"
   },
   {
    "duration": 7,
    "start_time": "2021-11-27T20:43:23.586Z"
   },
   {
    "duration": 17,
    "start_time": "2021-11-27T20:43:23.596Z"
   },
   {
    "duration": 95,
    "start_time": "2021-11-27T20:43:23.617Z"
   },
   {
    "duration": 17,
    "start_time": "2021-11-27T20:43:23.715Z"
   },
   {
    "duration": 18,
    "start_time": "2021-11-27T20:43:23.735Z"
   },
   {
    "duration": 33,
    "start_time": "2021-11-27T20:43:23.756Z"
   },
   {
    "duration": 30,
    "start_time": "2021-11-27T20:43:23.791Z"
   },
   {
    "duration": 19,
    "start_time": "2021-11-27T20:43:23.824Z"
   },
   {
    "duration": 49,
    "start_time": "2021-11-27T20:43:23.847Z"
   },
   {
    "duration": 20,
    "start_time": "2021-11-27T20:43:23.899Z"
   },
   {
    "duration": 24,
    "start_time": "2021-11-27T20:43:23.922Z"
   },
   {
    "duration": 22,
    "start_time": "2021-11-27T20:43:23.982Z"
   },
   {
    "duration": 120,
    "start_time": "2021-11-27T20:43:24.006Z"
   },
   {
    "duration": 17,
    "start_time": "2021-11-27T20:43:24.128Z"
   },
   {
    "duration": 13,
    "start_time": "2021-11-27T20:43:24.147Z"
   },
   {
    "duration": 5,
    "start_time": "2021-11-27T20:43:24.183Z"
   },
   {
    "duration": 32,
    "start_time": "2021-11-27T20:43:24.191Z"
   },
   {
    "duration": 24,
    "start_time": "2021-11-27T20:43:24.226Z"
   },
   {
    "duration": 45,
    "start_time": "2021-11-27T20:43:24.253Z"
   },
   {
    "duration": 16,
    "start_time": "2021-11-27T20:43:24.301Z"
   },
   {
    "duration": 11,
    "start_time": "2021-11-27T20:43:24.320Z"
   },
   {
    "duration": 6,
    "start_time": "2021-11-27T20:43:24.333Z"
   },
   {
    "duration": 43,
    "start_time": "2021-11-27T20:43:24.341Z"
   },
   {
    "duration": 7,
    "start_time": "2021-11-27T20:43:24.387Z"
   },
   {
    "duration": 3,
    "start_time": "2021-11-27T20:47:22.642Z"
   },
   {
    "duration": 197,
    "start_time": "2021-11-27T20:47:22.648Z"
   },
   {
    "duration": 15,
    "start_time": "2021-11-27T20:47:22.848Z"
   },
   {
    "duration": 25,
    "start_time": "2021-11-27T20:47:22.866Z"
   },
   {
    "duration": 11,
    "start_time": "2021-11-27T20:47:22.893Z"
   },
   {
    "duration": 16,
    "start_time": "2021-11-27T20:47:22.908Z"
   },
   {
    "duration": 5,
    "start_time": "2021-11-27T20:47:22.926Z"
   },
   {
    "duration": 92,
    "start_time": "2021-11-27T20:47:22.935Z"
   },
   {
    "duration": 35,
    "start_time": "2021-11-27T20:47:23.031Z"
   },
   {
    "duration": 49,
    "start_time": "2021-11-27T20:47:23.083Z"
   },
   {
    "duration": 139,
    "start_time": "2021-11-27T20:47:23.135Z"
   },
   {
    "duration": 139,
    "start_time": "2021-11-27T20:47:23.277Z"
   },
   {
    "duration": 84,
    "start_time": "2021-11-27T20:47:23.418Z"
   },
   {
    "duration": 84,
    "start_time": "2021-11-27T20:47:23.505Z"
   },
   {
    "duration": 14,
    "start_time": "2021-11-27T20:47:23.592Z"
   },
   {
    "duration": 18,
    "start_time": "2021-11-27T20:47:23.609Z"
   },
   {
    "duration": 105,
    "start_time": "2021-11-27T20:47:23.630Z"
   },
   {
    "duration": 15,
    "start_time": "2021-11-27T20:47:23.737Z"
   },
   {
    "duration": 34,
    "start_time": "2021-11-27T20:47:23.755Z"
   },
   {
    "duration": 5,
    "start_time": "2021-11-27T20:47:23.792Z"
   },
   {
    "duration": 28,
    "start_time": "2021-11-27T20:47:23.799Z"
   },
   {
    "duration": 20,
    "start_time": "2021-11-27T20:47:23.829Z"
   },
   {
    "duration": 20,
    "start_time": "2021-11-27T20:47:23.882Z"
   },
   {
    "duration": 19,
    "start_time": "2021-11-27T20:47:23.905Z"
   },
   {
    "duration": 54,
    "start_time": "2021-11-27T20:47:23.927Z"
   },
   {
    "duration": 20,
    "start_time": "2021-11-27T20:47:23.983Z"
   },
   {
    "duration": 114,
    "start_time": "2021-11-27T20:47:24.005Z"
   },
   {
    "duration": 17,
    "start_time": "2021-11-27T20:47:24.122Z"
   },
   {
    "duration": 13,
    "start_time": "2021-11-27T20:47:24.141Z"
   },
   {
    "duration": 26,
    "start_time": "2021-11-27T20:47:24.157Z"
   },
   {
    "duration": 34,
    "start_time": "2021-11-27T20:47:24.185Z"
   },
   {
    "duration": 22,
    "start_time": "2021-11-27T20:47:24.221Z"
   },
   {
    "duration": 52,
    "start_time": "2021-11-27T20:47:24.246Z"
   },
   {
    "duration": 16,
    "start_time": "2021-11-27T20:47:24.301Z"
   },
   {
    "duration": 10,
    "start_time": "2021-11-27T20:47:24.320Z"
   },
   {
    "duration": 6,
    "start_time": "2021-11-27T20:47:24.333Z"
   },
   {
    "duration": 47,
    "start_time": "2021-11-27T20:47:24.341Z"
   },
   {
    "duration": 8,
    "start_time": "2021-11-27T20:47:24.391Z"
   },
   {
    "duration": 767,
    "start_time": "2021-11-28T10:11:34.627Z"
   },
   {
    "duration": 191,
    "start_time": "2021-11-28T10:11:35.396Z"
   },
   {
    "duration": 30,
    "start_time": "2021-11-28T10:11:35.590Z"
   },
   {
    "duration": 51,
    "start_time": "2021-11-28T10:11:35.630Z"
   },
   {
    "duration": 6,
    "start_time": "2021-11-28T10:11:35.684Z"
   },
   {
    "duration": 57,
    "start_time": "2021-11-28T10:11:35.694Z"
   },
   {
    "duration": 9,
    "start_time": "2021-11-28T10:11:35.754Z"
   },
   {
    "duration": 65,
    "start_time": "2021-11-28T10:11:35.769Z"
   },
   {
    "duration": 32,
    "start_time": "2021-11-28T10:11:35.837Z"
   },
   {
    "duration": 63,
    "start_time": "2021-11-28T10:11:35.872Z"
   },
   {
    "duration": 138,
    "start_time": "2021-11-28T10:11:35.938Z"
   },
   {
    "duration": 118,
    "start_time": "2021-11-28T10:11:36.079Z"
   },
   {
    "duration": 88,
    "start_time": "2021-11-28T10:11:36.200Z"
   },
   {
    "duration": 82,
    "start_time": "2021-11-28T10:11:36.291Z"
   },
   {
    "duration": 4,
    "start_time": "2021-11-28T10:11:36.375Z"
   },
   {
    "duration": 25,
    "start_time": "2021-11-28T10:11:36.382Z"
   },
   {
    "duration": 88,
    "start_time": "2021-11-28T10:11:36.409Z"
   },
   {
    "duration": 31,
    "start_time": "2021-11-28T10:11:36.500Z"
   },
   {
    "duration": 16,
    "start_time": "2021-11-28T10:11:36.534Z"
   },
   {
    "duration": 5,
    "start_time": "2021-11-28T10:11:36.553Z"
   },
   {
    "duration": 35,
    "start_time": "2021-11-28T10:11:36.560Z"
   },
   {
    "duration": 20,
    "start_time": "2021-11-28T10:11:36.630Z"
   },
   {
    "duration": 20,
    "start_time": "2021-11-28T10:11:36.654Z"
   },
   {
    "duration": 20,
    "start_time": "2021-11-28T10:11:36.676Z"
   },
   {
    "duration": 24,
    "start_time": "2021-11-28T10:11:36.730Z"
   },
   {
    "duration": 20,
    "start_time": "2021-11-28T10:11:36.757Z"
   },
   {
    "duration": 132,
    "start_time": "2021-11-28T10:11:36.779Z"
   },
   {
    "duration": 23,
    "start_time": "2021-11-28T10:11:36.913Z"
   },
   {
    "duration": 13,
    "start_time": "2021-11-28T10:11:36.938Z"
   },
   {
    "duration": 6,
    "start_time": "2021-11-28T10:11:36.953Z"
   },
   {
    "duration": 32,
    "start_time": "2021-11-28T10:11:36.961Z"
   },
   {
    "duration": 50,
    "start_time": "2021-11-28T10:11:36.995Z"
   },
   {
    "duration": 29,
    "start_time": "2021-11-28T10:11:37.048Z"
   },
   {
    "duration": 50,
    "start_time": "2021-11-28T10:11:37.080Z"
   },
   {
    "duration": 13,
    "start_time": "2021-11-28T10:11:37.133Z"
   },
   {
    "duration": 9,
    "start_time": "2021-11-28T10:11:37.148Z"
   },
   {
    "duration": 35,
    "start_time": "2021-11-28T10:11:37.159Z"
   },
   {
    "duration": 24,
    "start_time": "2021-11-28T10:11:37.197Z"
   },
   {
    "duration": 407,
    "start_time": "2022-07-12T19:20:16.649Z"
   },
   {
    "duration": 243,
    "start_time": "2022-07-12T19:20:17.058Z"
   },
   {
    "duration": 20,
    "start_time": "2022-07-12T19:20:17.302Z"
   },
   {
    "duration": 44,
    "start_time": "2022-07-12T19:20:17.324Z"
   },
   {
    "duration": 7,
    "start_time": "2022-07-12T19:20:17.372Z"
   },
   {
    "duration": 23,
    "start_time": "2022-07-12T19:20:17.381Z"
   },
   {
    "duration": 5,
    "start_time": "2022-07-12T19:20:17.409Z"
   },
   {
    "duration": 54,
    "start_time": "2022-07-12T19:20:17.417Z"
   },
   {
    "duration": 19,
    "start_time": "2022-07-12T19:20:17.473Z"
   },
   {
    "duration": 38,
    "start_time": "2022-07-12T19:20:17.495Z"
   },
   {
    "duration": 71,
    "start_time": "2022-07-12T19:20:17.534Z"
   },
   {
    "duration": 85,
    "start_time": "2022-07-12T19:20:17.606Z"
   },
   {
    "duration": 79,
    "start_time": "2022-07-12T19:20:17.693Z"
   },
   {
    "duration": 66,
    "start_time": "2022-07-12T19:20:17.776Z"
   },
   {
    "duration": 4,
    "start_time": "2022-07-12T19:20:17.844Z"
   },
   {
    "duration": 19,
    "start_time": "2022-07-12T19:20:17.849Z"
   },
   {
    "duration": 65,
    "start_time": "2022-07-12T19:20:17.869Z"
   },
   {
    "duration": 13,
    "start_time": "2022-07-12T19:20:17.936Z"
   },
   {
    "duration": 12,
    "start_time": "2022-07-12T19:20:17.951Z"
   },
   {
    "duration": 4,
    "start_time": "2022-07-12T19:20:17.964Z"
   },
   {
    "duration": 43,
    "start_time": "2022-07-12T19:20:17.970Z"
   },
   {
    "duration": 23,
    "start_time": "2022-07-12T19:20:18.015Z"
   },
   {
    "duration": 14,
    "start_time": "2022-07-12T19:20:18.039Z"
   },
   {
    "duration": 14,
    "start_time": "2022-07-12T19:20:18.055Z"
   },
   {
    "duration": 54,
    "start_time": "2022-07-12T19:20:18.070Z"
   },
   {
    "duration": 20,
    "start_time": "2022-07-12T19:20:18.126Z"
   },
   {
    "duration": 83,
    "start_time": "2022-07-12T19:20:18.148Z"
   },
   {
    "duration": 13,
    "start_time": "2022-07-12T19:20:18.233Z"
   },
   {
    "duration": 9,
    "start_time": "2022-07-12T19:20:18.248Z"
   },
   {
    "duration": 6,
    "start_time": "2022-07-12T19:20:18.259Z"
   },
   {
    "duration": 27,
    "start_time": "2022-07-12T19:20:18.267Z"
   },
   {
    "duration": 19,
    "start_time": "2022-07-12T19:20:18.323Z"
   },
   {
    "duration": 15,
    "start_time": "2022-07-12T19:20:18.344Z"
   },
   {
    "duration": 13,
    "start_time": "2022-07-12T19:20:18.361Z"
   },
   {
    "duration": 9,
    "start_time": "2022-07-12T19:20:18.375Z"
   },
   {
    "duration": 6,
    "start_time": "2022-07-12T19:20:18.385Z"
   },
   {
    "duration": 13,
    "start_time": "2022-07-12T19:20:18.409Z"
   },
   {
    "duration": 11,
    "start_time": "2022-07-12T19:20:18.426Z"
   },
   {
    "duration": 513,
    "start_time": "2022-07-14T11:46:01.009Z"
   },
   {
    "duration": 350,
    "start_time": "2022-07-14T11:46:01.524Z"
   },
   {
    "duration": 27,
    "start_time": "2022-07-14T11:46:01.876Z"
   },
   {
    "duration": 67,
    "start_time": "2022-07-14T11:46:01.905Z"
   },
   {
    "duration": 31,
    "start_time": "2022-07-14T11:46:01.974Z"
   },
   {
    "duration": 16,
    "start_time": "2022-07-14T11:46:02.008Z"
   },
   {
    "duration": 62,
    "start_time": "2022-07-14T11:46:02.025Z"
   },
   {
    "duration": 51,
    "start_time": "2022-07-14T11:46:02.092Z"
   },
   {
    "duration": 69,
    "start_time": "2022-07-14T11:46:02.145Z"
   },
   {
    "duration": 35,
    "start_time": "2022-07-14T11:46:02.216Z"
   },
   {
    "duration": 117,
    "start_time": "2022-07-14T11:46:02.252Z"
   },
   {
    "duration": 136,
    "start_time": "2022-07-14T11:46:02.372Z"
   },
   {
    "duration": 97,
    "start_time": "2022-07-14T11:46:02.510Z"
   },
   {
    "duration": 80,
    "start_time": "2022-07-14T11:46:02.609Z"
   },
   {
    "duration": 3,
    "start_time": "2022-07-14T11:46:02.691Z"
   },
   {
    "duration": 17,
    "start_time": "2022-07-14T11:46:02.696Z"
   },
   {
    "duration": 80,
    "start_time": "2022-07-14T11:46:02.715Z"
   },
   {
    "duration": 17,
    "start_time": "2022-07-14T11:46:02.797Z"
   },
   {
    "duration": 21,
    "start_time": "2022-07-14T11:46:02.816Z"
   },
   {
    "duration": 10,
    "start_time": "2022-07-14T11:46:02.839Z"
   },
   {
    "duration": 78,
    "start_time": "2022-07-14T11:46:02.851Z"
   },
   {
    "duration": 20,
    "start_time": "2022-07-14T11:46:02.931Z"
   },
   {
    "duration": 22,
    "start_time": "2022-07-14T11:46:02.953Z"
   },
   {
    "duration": 27,
    "start_time": "2022-07-14T11:46:02.977Z"
   },
   {
    "duration": 19,
    "start_time": "2022-07-14T11:46:03.006Z"
   },
   {
    "duration": 36,
    "start_time": "2022-07-14T11:46:03.027Z"
   },
   {
    "duration": 84,
    "start_time": "2022-07-14T11:46:03.064Z"
   },
   {
    "duration": 17,
    "start_time": "2022-07-14T11:46:03.152Z"
   },
   {
    "duration": 21,
    "start_time": "2022-07-14T11:46:03.171Z"
   },
   {
    "duration": 6,
    "start_time": "2022-07-14T11:46:03.194Z"
   },
   {
    "duration": 24,
    "start_time": "2022-07-14T11:46:03.201Z"
   },
   {
    "duration": 48,
    "start_time": "2022-07-14T11:46:03.227Z"
   },
   {
    "duration": 20,
    "start_time": "2022-07-14T11:46:03.279Z"
   },
   {
    "duration": 11,
    "start_time": "2022-07-14T11:46:03.301Z"
   },
   {
    "duration": 8,
    "start_time": "2022-07-14T11:46:03.313Z"
   },
   {
    "duration": 4,
    "start_time": "2022-07-14T11:46:03.323Z"
   },
   {
    "duration": 21,
    "start_time": "2022-07-14T11:46:03.329Z"
   },
   {
    "duration": 28,
    "start_time": "2022-07-14T11:46:03.354Z"
   }
  ],
  "colab": {
   "collapsed_sections": [
    "E0vqbgi9ay0H",
    "VUC88oWjTJw2"
   ],
   "name": "yandex_music_project_2021.2.ipynb",
   "provenance": []
  },
  "kernelspec": {
   "display_name": "Python 3 (ipykernel)",
   "language": "python",
   "name": "python3"
  },
  "language_info": {
   "codemirror_mode": {
    "name": "ipython",
    "version": 3
   },
   "file_extension": ".py",
   "mimetype": "text/x-python",
   "name": "python",
   "nbconvert_exporter": "python",
   "pygments_lexer": "ipython3",
   "version": "3.9.5"
  },
  "toc": {
   "base_numbering": 1,
   "nav_menu": {},
   "number_sections": true,
   "sideBar": true,
   "skip_h1_title": true,
   "title_cell": "Table of Contents",
   "title_sidebar": "Contents",
   "toc_cell": false,
   "toc_position": {},
   "toc_section_display": true,
   "toc_window_display": true
  }
 },
 "nbformat": 4,
 "nbformat_minor": 1
}
