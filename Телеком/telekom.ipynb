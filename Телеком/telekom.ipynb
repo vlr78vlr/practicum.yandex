{
 "cells": [
  {
   "cell_type": "markdown",
   "metadata": {},
   "source": [
    "#  Определение перспективного тарифа для телеком-компании"
   ]
  },
  {
   "cell_type": "markdown",
   "metadata": {},
   "source": [
    "Вы аналитик компании «Мегалайн» — федерального оператора сотовой связи. Клиентам предлагают два тарифных плана: «Смарт» и «Ультра». Чтобы скорректировать рекламный бюджет, коммерческий департамент хочет понять, какой тариф приносит больше денег.\n",
    "\n",
    "Вам предстоит сделать предварительный анализ тарифов на небольшой выборке клиентов. В вашем распоряжении данные 500 пользователей «Мегалайна»: кто они, откуда, каким тарифом пользуются, сколько звонков и сообщений каждый отправил за 2018 год. Нужно проанализировать поведение клиентов и сделать вывод — какой тариф лучше."
   ]
  },
  {
   "cell_type": "markdown",
   "metadata": {},
   "source": [
    "# Описание тарифов"
   ]
  },
  {
   "cell_type": "markdown",
   "metadata": {},
   "source": [
    "# Тариф «Смарт»\n",
    "Ежемесячная плата: 550 рублей;\n",
    "\n",
    "Включено:\n",
    "\n",
    "- 500 минут разговора,\n",
    "\n",
    "- 50 сообщений \n",
    "\n",
    "- 15 Гб интернет-трафика\n",
    "\n",
    "Стоимость услуг сверх тарифного пакета:\n",
    "\n",
    "- минута разговора: 3 рубля\n",
    "\n",
    "- сообщение: 3 рубля\n",
    "\n",
    "- 1 Гб интернет-трафика: 200 рублей\n"
   ]
  },
  {
   "cell_type": "markdown",
   "metadata": {},
   "source": [
    "# Тариф «Ультра»\n",
    "\n",
    "Ежемесячная плата: 1950 рублей;\n",
    "\n",
    "Включено:\n",
    "\n",
    "- 3000 минут разговора\n",
    "\n",
    "- 1000 сообщений \n",
    "\n",
    "- 30 Гб интернет-трафика\n",
    "\n",
    "Стоимость услуг сверх тарифного пакета:\n",
    "\n",
    "- минута разговора: 1 рубль\n",
    "\n",
    "- сообщение: 1 рубль\n",
    "\n",
    "- 1 Гб интернет-трафика: 150 рублей"
   ]
  },
  {
   "cell_type": "markdown",
   "metadata": {},
   "source": [
    "### Таблица users (информация о пользователях):\n",
    "\n",
    "- user_id — уникальный идентификатор пользователя\n",
    "\n",
    "- first_name — имя пользователя\n",
    "\n",
    "- last_name — фамилия пользователя\n",
    "\n",
    "- age — возраст пользователя (годы)\n",
    "\n",
    "- reg_date — дата подключения тарифа (день, месяц, год)\n",
    "\n",
    "- churn_date — дата прекращения пользования тарифом (если значение пропущено, то тариф ещё действовал на момент выгрузки данных)\n",
    "\n",
    "- city — город проживания пользователя\n",
    "\n",
    "- tarif — название тарифного плана\n",
    "\n",
    "### Таблица calls (информация о звонках):\n",
    "\n",
    "- id — уникальный номер звонка\n",
    "\n",
    "- call_date — дата звонка\n",
    "\n",
    "- duration — длительность звонка в минутах\n",
    "- user_id — идентификатор пользователя, сделавшего звонок\n",
    "\n",
    "### Таблица messages (информация о сообщениях):\n",
    "\n",
    "- id — уникальный номер сообщения\n",
    "\n",
    "- message_date — дата сообщения\n",
    "\n",
    "- user_id — идентификатор пользователя, отправившего сообщение\n",
    "\n",
    "### Таблица internet (информация об интернет-сессиях):\n",
    "\n",
    "- id — уникальный номер сессии\n",
    "\n",
    "- mb_used — объём потраченного за сессию интернет-трафика (в мегабайтах)\n",
    "\n",
    "- session_date — дата интернет-сессии\n",
    "\n",
    "- user_id — идентификатор пользователя\n",
    "\n",
    "### Таблица tariffs (информация о тарифах):\n",
    "\n",
    "- tariff_name — название тарифа\n",
    "\n",
    "- rub_monthly_fee — ежемесячная абонентская плата в рублях\n",
    "\n",
    "- minutes_included — количество минут разговора в месяц, включённых в абонентскую плату\n",
    "\n",
    "- messages_included — количество сообщений в месяц, включённых в абонентскую плату\n",
    "\n",
    "- mb_per_month_included — объём интернет-трафика, включённого в абонентскую плату (в мегабайтах)\n",
    "\n",
    "- rub_per_minute — стоимость минуты разговора сверх тарифного пакета (например, если в тарифе 100 минут разговора в месяц, то со 101 минуты будет взиматься плата)\n",
    "\n",
    "- rub_per_message — стоимость отправки сообщения сверх тарифного пакета\n",
    "\n",
    "- rub_per_gb — стоимость дополнительного гигабайта интернет-трафика сверх тарифного пакета (1 гигабайт = 1024 мегабайта)\n",
    "\n"
   ]
  },
  {
   "cell_type": "code",
   "execution_count": 65,
   "metadata": {},
   "outputs": [],
   "source": [
    "import pandas as pd\n",
    "import numpy as np\n",
    "import matplotlib.pyplot as plt\n",
    "import seaborn as sns\n",
    "from scipy import stats as st\n"
   ]
  },
  {
   "cell_type": "markdown",
   "metadata": {},
   "source": [
    "## Откроем файл с данными и изучим общую информацию"
   ]
  },
  {
   "cell_type": "markdown",
   "metadata": {},
   "source": [
    "### Изучим файл datasets/calls.csv"
   ]
  },
  {
   "cell_type": "code",
   "execution_count": 66,
   "metadata": {},
   "outputs": [
    {
     "name": "stdout",
     "output_type": "stream",
     "text": [
      "<class 'pandas.core.frame.DataFrame'>\n",
      "RangeIndex: 202607 entries, 0 to 202606\n",
      "Data columns (total 4 columns):\n",
      " #   Column     Non-Null Count   Dtype  \n",
      "---  ------     --------------   -----  \n",
      " 0   id         202607 non-null  object \n",
      " 1   call_date  202607 non-null  object \n",
      " 2   duration   202607 non-null  float64\n",
      " 3   user_id    202607 non-null  int64  \n",
      "dtypes: float64(1), int64(1), object(2)\n",
      "memory usage: 6.2+ MB\n"
     ]
    }
   ],
   "source": [
    "data_calls=pd.read_csv('/datasets/calls.csv')\n",
    "data_calls.info()"
   ]
  },
  {
   "cell_type": "code",
   "execution_count": 67,
   "metadata": {},
   "outputs": [
    {
     "data": {
      "text/html": [
       "<div>\n",
       "<style scoped>\n",
       "    .dataframe tbody tr th:only-of-type {\n",
       "        vertical-align: middle;\n",
       "    }\n",
       "\n",
       "    .dataframe tbody tr th {\n",
       "        vertical-align: top;\n",
       "    }\n",
       "\n",
       "    .dataframe thead th {\n",
       "        text-align: right;\n",
       "    }\n",
       "</style>\n",
       "<table border=\"1\" class=\"dataframe\">\n",
       "  <thead>\n",
       "    <tr style=\"text-align: right;\">\n",
       "      <th></th>\n",
       "      <th>id</th>\n",
       "      <th>call_date</th>\n",
       "      <th>duration</th>\n",
       "      <th>user_id</th>\n",
       "    </tr>\n",
       "  </thead>\n",
       "  <tbody>\n",
       "    <tr>\n",
       "      <th>0</th>\n",
       "      <td>1000_0</td>\n",
       "      <td>2018-07-25</td>\n",
       "      <td>0.00</td>\n",
       "      <td>1000</td>\n",
       "    </tr>\n",
       "    <tr>\n",
       "      <th>1</th>\n",
       "      <td>1000_1</td>\n",
       "      <td>2018-08-17</td>\n",
       "      <td>0.00</td>\n",
       "      <td>1000</td>\n",
       "    </tr>\n",
       "    <tr>\n",
       "      <th>2</th>\n",
       "      <td>1000_2</td>\n",
       "      <td>2018-06-11</td>\n",
       "      <td>2.85</td>\n",
       "      <td>1000</td>\n",
       "    </tr>\n",
       "    <tr>\n",
       "      <th>3</th>\n",
       "      <td>1000_3</td>\n",
       "      <td>2018-09-21</td>\n",
       "      <td>13.80</td>\n",
       "      <td>1000</td>\n",
       "    </tr>\n",
       "    <tr>\n",
       "      <th>4</th>\n",
       "      <td>1000_4</td>\n",
       "      <td>2018-12-15</td>\n",
       "      <td>5.18</td>\n",
       "      <td>1000</td>\n",
       "    </tr>\n",
       "    <tr>\n",
       "      <th>5</th>\n",
       "      <td>1000_5</td>\n",
       "      <td>2018-11-02</td>\n",
       "      <td>0.00</td>\n",
       "      <td>1000</td>\n",
       "    </tr>\n",
       "    <tr>\n",
       "      <th>6</th>\n",
       "      <td>1000_6</td>\n",
       "      <td>2018-10-18</td>\n",
       "      <td>0.00</td>\n",
       "      <td>1000</td>\n",
       "    </tr>\n",
       "    <tr>\n",
       "      <th>7</th>\n",
       "      <td>1000_7</td>\n",
       "      <td>2018-08-22</td>\n",
       "      <td>18.31</td>\n",
       "      <td>1000</td>\n",
       "    </tr>\n",
       "    <tr>\n",
       "      <th>8</th>\n",
       "      <td>1000_8</td>\n",
       "      <td>2018-09-15</td>\n",
       "      <td>18.44</td>\n",
       "      <td>1000</td>\n",
       "    </tr>\n",
       "    <tr>\n",
       "      <th>9</th>\n",
       "      <td>1000_9</td>\n",
       "      <td>2018-08-15</td>\n",
       "      <td>0.00</td>\n",
       "      <td>1000</td>\n",
       "    </tr>\n",
       "  </tbody>\n",
       "</table>\n",
       "</div>"
      ],
      "text/plain": [
       "       id   call_date  duration  user_id\n",
       "0  1000_0  2018-07-25      0.00     1000\n",
       "1  1000_1  2018-08-17      0.00     1000\n",
       "2  1000_2  2018-06-11      2.85     1000\n",
       "3  1000_3  2018-09-21     13.80     1000\n",
       "4  1000_4  2018-12-15      5.18     1000\n",
       "5  1000_5  2018-11-02      0.00     1000\n",
       "6  1000_6  2018-10-18      0.00     1000\n",
       "7  1000_7  2018-08-22     18.31     1000\n",
       "8  1000_8  2018-09-15     18.44     1000\n",
       "9  1000_9  2018-08-15      0.00     1000"
      ]
     },
     "execution_count": 67,
     "metadata": {},
     "output_type": "execute_result"
    }
   ],
   "source": [
    "data_calls.head(10)"
   ]
  },
  {
   "cell_type": "code",
   "execution_count": 68,
   "metadata": {},
   "outputs": [],
   "source": [
    "#id — уникальный номер звонка\n",
    "#call_date — дата звонка\n",
    "#duration — длительность звонка в минутах\n",
    "#user_id — идентификатор пользователя, сделавшего звонок"
   ]
  },
  {
   "cell_type": "code",
   "execution_count": 69,
   "metadata": {},
   "outputs": [
    {
     "data": {
      "text/plain": [
       "0"
      ]
     },
     "execution_count": 69,
     "metadata": {},
     "output_type": "execute_result"
    }
   ],
   "source": [
    "data_calls.duplicated().sum()"
   ]
  },
  {
   "cell_type": "markdown",
   "metadata": {},
   "source": [
    "**Вывод**: Таблица сделанных звонков. Пропусков нет. Дубликатов  нет. Все хорошо."
   ]
  },
  {
   "cell_type": "markdown",
   "metadata": {},
   "source": [
    "### Изучим файл datasets/internet.csv"
   ]
  },
  {
   "cell_type": "code",
   "execution_count": 70,
   "metadata": {},
   "outputs": [
    {
     "name": "stdout",
     "output_type": "stream",
     "text": [
      "<class 'pandas.core.frame.DataFrame'>\n",
      "RangeIndex: 149396 entries, 0 to 149395\n",
      "Data columns (total 5 columns):\n",
      " #   Column        Non-Null Count   Dtype  \n",
      "---  ------        --------------   -----  \n",
      " 0   Unnamed: 0    149396 non-null  int64  \n",
      " 1   id            149396 non-null  object \n",
      " 2   mb_used       149396 non-null  float64\n",
      " 3   session_date  149396 non-null  object \n",
      " 4   user_id       149396 non-null  int64  \n",
      "dtypes: float64(1), int64(2), object(2)\n",
      "memory usage: 5.7+ MB\n"
     ]
    }
   ],
   "source": [
    "data_internet=pd.read_csv('/datasets/internet.csv')\n",
    "data_internet.info()"
   ]
  },
  {
   "cell_type": "code",
   "execution_count": 71,
   "metadata": {},
   "outputs": [
    {
     "data": {
      "text/html": [
       "<div>\n",
       "<style scoped>\n",
       "    .dataframe tbody tr th:only-of-type {\n",
       "        vertical-align: middle;\n",
       "    }\n",
       "\n",
       "    .dataframe tbody tr th {\n",
       "        vertical-align: top;\n",
       "    }\n",
       "\n",
       "    .dataframe thead th {\n",
       "        text-align: right;\n",
       "    }\n",
       "</style>\n",
       "<table border=\"1\" class=\"dataframe\">\n",
       "  <thead>\n",
       "    <tr style=\"text-align: right;\">\n",
       "      <th></th>\n",
       "      <th>Unnamed: 0</th>\n",
       "      <th>id</th>\n",
       "      <th>mb_used</th>\n",
       "      <th>session_date</th>\n",
       "      <th>user_id</th>\n",
       "    </tr>\n",
       "  </thead>\n",
       "  <tbody>\n",
       "    <tr>\n",
       "      <th>0</th>\n",
       "      <td>0</td>\n",
       "      <td>1000_0</td>\n",
       "      <td>112.95</td>\n",
       "      <td>2018-11-25</td>\n",
       "      <td>1000</td>\n",
       "    </tr>\n",
       "    <tr>\n",
       "      <th>1</th>\n",
       "      <td>1</td>\n",
       "      <td>1000_1</td>\n",
       "      <td>1052.81</td>\n",
       "      <td>2018-09-07</td>\n",
       "      <td>1000</td>\n",
       "    </tr>\n",
       "    <tr>\n",
       "      <th>2</th>\n",
       "      <td>2</td>\n",
       "      <td>1000_2</td>\n",
       "      <td>1197.26</td>\n",
       "      <td>2018-06-25</td>\n",
       "      <td>1000</td>\n",
       "    </tr>\n",
       "    <tr>\n",
       "      <th>3</th>\n",
       "      <td>3</td>\n",
       "      <td>1000_3</td>\n",
       "      <td>550.27</td>\n",
       "      <td>2018-08-22</td>\n",
       "      <td>1000</td>\n",
       "    </tr>\n",
       "    <tr>\n",
       "      <th>4</th>\n",
       "      <td>4</td>\n",
       "      <td>1000_4</td>\n",
       "      <td>302.56</td>\n",
       "      <td>2018-09-24</td>\n",
       "      <td>1000</td>\n",
       "    </tr>\n",
       "    <tr>\n",
       "      <th>5</th>\n",
       "      <td>5</td>\n",
       "      <td>1000_5</td>\n",
       "      <td>399.97</td>\n",
       "      <td>2018-10-02</td>\n",
       "      <td>1000</td>\n",
       "    </tr>\n",
       "    <tr>\n",
       "      <th>6</th>\n",
       "      <td>6</td>\n",
       "      <td>1000_6</td>\n",
       "      <td>540.08</td>\n",
       "      <td>2018-09-07</td>\n",
       "      <td>1000</td>\n",
       "    </tr>\n",
       "    <tr>\n",
       "      <th>7</th>\n",
       "      <td>7</td>\n",
       "      <td>1000_7</td>\n",
       "      <td>415.70</td>\n",
       "      <td>2018-07-11</td>\n",
       "      <td>1000</td>\n",
       "    </tr>\n",
       "    <tr>\n",
       "      <th>8</th>\n",
       "      <td>8</td>\n",
       "      <td>1000_8</td>\n",
       "      <td>505.40</td>\n",
       "      <td>2018-10-08</td>\n",
       "      <td>1000</td>\n",
       "    </tr>\n",
       "    <tr>\n",
       "      <th>9</th>\n",
       "      <td>9</td>\n",
       "      <td>1000_9</td>\n",
       "      <td>345.54</td>\n",
       "      <td>2018-09-03</td>\n",
       "      <td>1000</td>\n",
       "    </tr>\n",
       "  </tbody>\n",
       "</table>\n",
       "</div>"
      ],
      "text/plain": [
       "   Unnamed: 0      id  mb_used session_date  user_id\n",
       "0           0  1000_0   112.95   2018-11-25     1000\n",
       "1           1  1000_1  1052.81   2018-09-07     1000\n",
       "2           2  1000_2  1197.26   2018-06-25     1000\n",
       "3           3  1000_3   550.27   2018-08-22     1000\n",
       "4           4  1000_4   302.56   2018-09-24     1000\n",
       "5           5  1000_5   399.97   2018-10-02     1000\n",
       "6           6  1000_6   540.08   2018-09-07     1000\n",
       "7           7  1000_7   415.70   2018-07-11     1000\n",
       "8           8  1000_8   505.40   2018-10-08     1000\n",
       "9           9  1000_9   345.54   2018-09-03     1000"
      ]
     },
     "execution_count": 71,
     "metadata": {},
     "output_type": "execute_result"
    }
   ],
   "source": [
    "data_internet.head(10)"
   ]
  },
  {
   "cell_type": "code",
   "execution_count": 72,
   "metadata": {},
   "outputs": [],
   "source": [
    "#id — уникальный номер сессии\n",
    "#mb_used — объём потраченного за сессию интернет-трафика (в мегабайтах)\n",
    "#session_date — дата интернет-сессии\n",
    "#user_id — идентификатор пользователя"
   ]
  },
  {
   "cell_type": "code",
   "execution_count": 73,
   "metadata": {},
   "outputs": [
    {
     "data": {
      "text/plain": [
       "0"
      ]
     },
     "execution_count": 73,
     "metadata": {},
     "output_type": "execute_result"
    }
   ],
   "source": [
    "data_internet.duplicated().sum()"
   ]
  },
  {
   "cell_type": "markdown",
   "metadata": {},
   "source": [
    "**Вывод**: Таблица использования интернета. Пропусков нет. Дубликтов нет.  Все хорошо."
   ]
  },
  {
   "cell_type": "markdown",
   "metadata": {},
   "source": [
    "### Изучим файл datasets/messages.csv"
   ]
  },
  {
   "cell_type": "code",
   "execution_count": 74,
   "metadata": {},
   "outputs": [
    {
     "name": "stdout",
     "output_type": "stream",
     "text": [
      "<class 'pandas.core.frame.DataFrame'>\n",
      "RangeIndex: 123036 entries, 0 to 123035\n",
      "Data columns (total 3 columns):\n",
      " #   Column        Non-Null Count   Dtype \n",
      "---  ------        --------------   ----- \n",
      " 0   id            123036 non-null  object\n",
      " 1   message_date  123036 non-null  object\n",
      " 2   user_id       123036 non-null  int64 \n",
      "dtypes: int64(1), object(2)\n",
      "memory usage: 2.8+ MB\n"
     ]
    }
   ],
   "source": [
    "data_messages=pd.read_csv('/datasets/messages.csv')\n",
    "data_messages.info()"
   ]
  },
  {
   "cell_type": "code",
   "execution_count": 75,
   "metadata": {},
   "outputs": [
    {
     "data": {
      "text/html": [
       "<div>\n",
       "<style scoped>\n",
       "    .dataframe tbody tr th:only-of-type {\n",
       "        vertical-align: middle;\n",
       "    }\n",
       "\n",
       "    .dataframe tbody tr th {\n",
       "        vertical-align: top;\n",
       "    }\n",
       "\n",
       "    .dataframe thead th {\n",
       "        text-align: right;\n",
       "    }\n",
       "</style>\n",
       "<table border=\"1\" class=\"dataframe\">\n",
       "  <thead>\n",
       "    <tr style=\"text-align: right;\">\n",
       "      <th></th>\n",
       "      <th>id</th>\n",
       "      <th>message_date</th>\n",
       "      <th>user_id</th>\n",
       "    </tr>\n",
       "  </thead>\n",
       "  <tbody>\n",
       "    <tr>\n",
       "      <th>0</th>\n",
       "      <td>1000_0</td>\n",
       "      <td>2018-06-27</td>\n",
       "      <td>1000</td>\n",
       "    </tr>\n",
       "    <tr>\n",
       "      <th>1</th>\n",
       "      <td>1000_1</td>\n",
       "      <td>2018-10-08</td>\n",
       "      <td>1000</td>\n",
       "    </tr>\n",
       "    <tr>\n",
       "      <th>2</th>\n",
       "      <td>1000_2</td>\n",
       "      <td>2018-08-04</td>\n",
       "      <td>1000</td>\n",
       "    </tr>\n",
       "    <tr>\n",
       "      <th>3</th>\n",
       "      <td>1000_3</td>\n",
       "      <td>2018-06-16</td>\n",
       "      <td>1000</td>\n",
       "    </tr>\n",
       "    <tr>\n",
       "      <th>4</th>\n",
       "      <td>1000_4</td>\n",
       "      <td>2018-12-05</td>\n",
       "      <td>1000</td>\n",
       "    </tr>\n",
       "    <tr>\n",
       "      <th>5</th>\n",
       "      <td>1000_5</td>\n",
       "      <td>2018-06-20</td>\n",
       "      <td>1000</td>\n",
       "    </tr>\n",
       "    <tr>\n",
       "      <th>6</th>\n",
       "      <td>1000_6</td>\n",
       "      <td>2018-11-19</td>\n",
       "      <td>1000</td>\n",
       "    </tr>\n",
       "    <tr>\n",
       "      <th>7</th>\n",
       "      <td>1000_7</td>\n",
       "      <td>2018-10-29</td>\n",
       "      <td>1000</td>\n",
       "    </tr>\n",
       "    <tr>\n",
       "      <th>8</th>\n",
       "      <td>1000_8</td>\n",
       "      <td>2018-06-25</td>\n",
       "      <td>1000</td>\n",
       "    </tr>\n",
       "    <tr>\n",
       "      <th>9</th>\n",
       "      <td>1000_9</td>\n",
       "      <td>2018-12-18</td>\n",
       "      <td>1000</td>\n",
       "    </tr>\n",
       "  </tbody>\n",
       "</table>\n",
       "</div>"
      ],
      "text/plain": [
       "       id message_date  user_id\n",
       "0  1000_0   2018-06-27     1000\n",
       "1  1000_1   2018-10-08     1000\n",
       "2  1000_2   2018-08-04     1000\n",
       "3  1000_3   2018-06-16     1000\n",
       "4  1000_4   2018-12-05     1000\n",
       "5  1000_5   2018-06-20     1000\n",
       "6  1000_6   2018-11-19     1000\n",
       "7  1000_7   2018-10-29     1000\n",
       "8  1000_8   2018-06-25     1000\n",
       "9  1000_9   2018-12-18     1000"
      ]
     },
     "execution_count": 75,
     "metadata": {},
     "output_type": "execute_result"
    }
   ],
   "source": [
    "data_messages.head(10)"
   ]
  },
  {
   "cell_type": "code",
   "execution_count": 76,
   "metadata": {},
   "outputs": [],
   "source": [
    "#id — уникальный номер сообщения\n",
    "#message_date — дата сообщения\n",
    "#user_id — идентификатор пользователя, отправившего сообщение"
   ]
  },
  {
   "cell_type": "code",
   "execution_count": 77,
   "metadata": {},
   "outputs": [
    {
     "data": {
      "text/plain": [
       "0"
      ]
     },
     "execution_count": 77,
     "metadata": {},
     "output_type": "execute_result"
    }
   ],
   "source": [
    "data_messages.duplicated().sum()"
   ]
  },
  {
   "cell_type": "markdown",
   "metadata": {},
   "source": [
    "**Вывод**: Датасет с информацией об отправленных сообщений. Пропусков нет.Дубликтов нет. Все хорошо."
   ]
  },
  {
   "cell_type": "markdown",
   "metadata": {},
   "source": [
    "### Изучим файл datasets/tariffs.csv"
   ]
  },
  {
   "cell_type": "code",
   "execution_count": 78,
   "metadata": {},
   "outputs": [
    {
     "name": "stdout",
     "output_type": "stream",
     "text": [
      "<class 'pandas.core.frame.DataFrame'>\n",
      "RangeIndex: 2 entries, 0 to 1\n",
      "Data columns (total 8 columns):\n",
      " #   Column                 Non-Null Count  Dtype \n",
      "---  ------                 --------------  ----- \n",
      " 0   messages_included      2 non-null      int64 \n",
      " 1   mb_per_month_included  2 non-null      int64 \n",
      " 2   minutes_included       2 non-null      int64 \n",
      " 3   rub_monthly_fee        2 non-null      int64 \n",
      " 4   rub_per_gb             2 non-null      int64 \n",
      " 5   rub_per_message        2 non-null      int64 \n",
      " 6   rub_per_minute         2 non-null      int64 \n",
      " 7   tariff_name            2 non-null      object\n",
      "dtypes: int64(7), object(1)\n",
      "memory usage: 256.0+ bytes\n"
     ]
    }
   ],
   "source": [
    "data_tariffs=pd.read_csv('/datasets/tariffs.csv')\n",
    "data_tariffs.info()"
   ]
  },
  {
   "cell_type": "code",
   "execution_count": 79,
   "metadata": {},
   "outputs": [
    {
     "data": {
      "text/html": [
       "<div>\n",
       "<style scoped>\n",
       "    .dataframe tbody tr th:only-of-type {\n",
       "        vertical-align: middle;\n",
       "    }\n",
       "\n",
       "    .dataframe tbody tr th {\n",
       "        vertical-align: top;\n",
       "    }\n",
       "\n",
       "    .dataframe thead th {\n",
       "        text-align: right;\n",
       "    }\n",
       "</style>\n",
       "<table border=\"1\" class=\"dataframe\">\n",
       "  <thead>\n",
       "    <tr style=\"text-align: right;\">\n",
       "      <th></th>\n",
       "      <th>messages_included</th>\n",
       "      <th>mb_per_month_included</th>\n",
       "      <th>minutes_included</th>\n",
       "      <th>rub_monthly_fee</th>\n",
       "      <th>rub_per_gb</th>\n",
       "      <th>rub_per_message</th>\n",
       "      <th>rub_per_minute</th>\n",
       "      <th>tariff_name</th>\n",
       "    </tr>\n",
       "  </thead>\n",
       "  <tbody>\n",
       "    <tr>\n",
       "      <th>0</th>\n",
       "      <td>50</td>\n",
       "      <td>15360</td>\n",
       "      <td>500</td>\n",
       "      <td>550</td>\n",
       "      <td>200</td>\n",
       "      <td>3</td>\n",
       "      <td>3</td>\n",
       "      <td>smart</td>\n",
       "    </tr>\n",
       "    <tr>\n",
       "      <th>1</th>\n",
       "      <td>1000</td>\n",
       "      <td>30720</td>\n",
       "      <td>3000</td>\n",
       "      <td>1950</td>\n",
       "      <td>150</td>\n",
       "      <td>1</td>\n",
       "      <td>1</td>\n",
       "      <td>ultra</td>\n",
       "    </tr>\n",
       "  </tbody>\n",
       "</table>\n",
       "</div>"
      ],
      "text/plain": [
       "   messages_included  mb_per_month_included  minutes_included  \\\n",
       "0                 50                  15360               500   \n",
       "1               1000                  30720              3000   \n",
       "\n",
       "   rub_monthly_fee  rub_per_gb  rub_per_message  rub_per_minute tariff_name  \n",
       "0              550         200                3               3       smart  \n",
       "1             1950         150                1               1       ultra  "
      ]
     },
     "metadata": {},
     "output_type": "display_data"
    }
   ],
   "source": [
    "display(data_tariffs)"
   ]
  },
  {
   "cell_type": "markdown",
   "metadata": {},
   "source": [
    "#tariff_name — название тарифа\n",
    "\n",
    "#rub_monthly_fee — ежемесячная абонентская плата в рублях\n",
    "\n",
    "#minutes_included — количество минут разговора в месяц, включённых в абонентскую плату\n",
    "\n",
    "#messages_included — количество сообщений в месяц, включённых в абонентскую плату\n",
    "\n",
    "#mb_per_month_included — объём интернет-трафика, включённого в абонентскую плату (в мегабайтах)\n",
    "\n",
    "#rub_per_minute — стоимость минуты разговора сверх тарифного пакета (например, если в тарифе 100 минут разговора в месяц, то со 101 минуты будет взиматься плата)\n",
    "\n",
    "#rub_per_message — стоимость отправки с общения сверх тарифного пакета\n",
    "\n",
    "#rub_per_gb — стоимость дополнительного гигабайта интернет-трафика сверх тарифного пакета (1 гигабайт = 1024 мегабайта)"
   ]
  },
  {
   "cell_type": "code",
   "execution_count": 80,
   "metadata": {},
   "outputs": [
    {
     "data": {
      "text/plain": [
       "0"
      ]
     },
     "execution_count": 80,
     "metadata": {},
     "output_type": "execute_result"
    }
   ],
   "source": [
    "data_tariffs.duplicated().sum()"
   ]
  },
  {
   "cell_type": "markdown",
   "metadata": {},
   "source": [
    "**Вывод**: Датасет с информацией об рассматриваемых тарифах. Пропусков нет.Дубликтов нет. Все хорошо."
   ]
  },
  {
   "cell_type": "markdown",
   "metadata": {},
   "source": [
    "### Изучим файл datasets/users.csv"
   ]
  },
  {
   "cell_type": "code",
   "execution_count": 81,
   "metadata": {},
   "outputs": [
    {
     "name": "stdout",
     "output_type": "stream",
     "text": [
      "<class 'pandas.core.frame.DataFrame'>\n",
      "RangeIndex: 500 entries, 0 to 499\n",
      "Data columns (total 8 columns):\n",
      " #   Column      Non-Null Count  Dtype \n",
      "---  ------      --------------  ----- \n",
      " 0   user_id     500 non-null    int64 \n",
      " 1   age         500 non-null    int64 \n",
      " 2   churn_date  38 non-null     object\n",
      " 3   city        500 non-null    object\n",
      " 4   first_name  500 non-null    object\n",
      " 5   last_name   500 non-null    object\n",
      " 6   reg_date    500 non-null    object\n",
      " 7   tariff      500 non-null    object\n",
      "dtypes: int64(2), object(6)\n",
      "memory usage: 31.4+ KB\n"
     ]
    }
   ],
   "source": [
    "data_users=pd.read_csv('/datasets/users.csv')\n",
    "data_users.info()"
   ]
  },
  {
   "cell_type": "code",
   "execution_count": 82,
   "metadata": {
    "scrolled": true
   },
   "outputs": [
    {
     "data": {
      "text/html": [
       "<div>\n",
       "<style scoped>\n",
       "    .dataframe tbody tr th:only-of-type {\n",
       "        vertical-align: middle;\n",
       "    }\n",
       "\n",
       "    .dataframe tbody tr th {\n",
       "        vertical-align: top;\n",
       "    }\n",
       "\n",
       "    .dataframe thead th {\n",
       "        text-align: right;\n",
       "    }\n",
       "</style>\n",
       "<table border=\"1\" class=\"dataframe\">\n",
       "  <thead>\n",
       "    <tr style=\"text-align: right;\">\n",
       "      <th></th>\n",
       "      <th>user_id</th>\n",
       "      <th>age</th>\n",
       "      <th>churn_date</th>\n",
       "      <th>city</th>\n",
       "      <th>first_name</th>\n",
       "      <th>last_name</th>\n",
       "      <th>reg_date</th>\n",
       "      <th>tariff</th>\n",
       "    </tr>\n",
       "  </thead>\n",
       "  <tbody>\n",
       "    <tr>\n",
       "      <th>0</th>\n",
       "      <td>1000</td>\n",
       "      <td>52</td>\n",
       "      <td>NaN</td>\n",
       "      <td>Краснодар</td>\n",
       "      <td>Рафаил</td>\n",
       "      <td>Верещагин</td>\n",
       "      <td>2018-05-25</td>\n",
       "      <td>ultra</td>\n",
       "    </tr>\n",
       "    <tr>\n",
       "      <th>1</th>\n",
       "      <td>1001</td>\n",
       "      <td>41</td>\n",
       "      <td>NaN</td>\n",
       "      <td>Москва</td>\n",
       "      <td>Иван</td>\n",
       "      <td>Ежов</td>\n",
       "      <td>2018-11-01</td>\n",
       "      <td>smart</td>\n",
       "    </tr>\n",
       "    <tr>\n",
       "      <th>2</th>\n",
       "      <td>1002</td>\n",
       "      <td>59</td>\n",
       "      <td>NaN</td>\n",
       "      <td>Стерлитамак</td>\n",
       "      <td>Евгений</td>\n",
       "      <td>Абрамович</td>\n",
       "      <td>2018-06-17</td>\n",
       "      <td>smart</td>\n",
       "    </tr>\n",
       "    <tr>\n",
       "      <th>3</th>\n",
       "      <td>1003</td>\n",
       "      <td>23</td>\n",
       "      <td>NaN</td>\n",
       "      <td>Москва</td>\n",
       "      <td>Белла</td>\n",
       "      <td>Белякова</td>\n",
       "      <td>2018-08-17</td>\n",
       "      <td>ultra</td>\n",
       "    </tr>\n",
       "    <tr>\n",
       "      <th>4</th>\n",
       "      <td>1004</td>\n",
       "      <td>68</td>\n",
       "      <td>NaN</td>\n",
       "      <td>Новокузнецк</td>\n",
       "      <td>Татьяна</td>\n",
       "      <td>Авдеенко</td>\n",
       "      <td>2018-05-14</td>\n",
       "      <td>ultra</td>\n",
       "    </tr>\n",
       "    <tr>\n",
       "      <th>5</th>\n",
       "      <td>1005</td>\n",
       "      <td>67</td>\n",
       "      <td>NaN</td>\n",
       "      <td>Набережные Челны</td>\n",
       "      <td>Афанасий</td>\n",
       "      <td>Горлов</td>\n",
       "      <td>2018-01-25</td>\n",
       "      <td>smart</td>\n",
       "    </tr>\n",
       "    <tr>\n",
       "      <th>6</th>\n",
       "      <td>1006</td>\n",
       "      <td>21</td>\n",
       "      <td>NaN</td>\n",
       "      <td>Ульяновск</td>\n",
       "      <td>Леонид</td>\n",
       "      <td>Ермолаев</td>\n",
       "      <td>2018-02-26</td>\n",
       "      <td>smart</td>\n",
       "    </tr>\n",
       "    <tr>\n",
       "      <th>7</th>\n",
       "      <td>1007</td>\n",
       "      <td>65</td>\n",
       "      <td>NaN</td>\n",
       "      <td>Москва</td>\n",
       "      <td>Юна</td>\n",
       "      <td>Березина</td>\n",
       "      <td>2018-04-19</td>\n",
       "      <td>smart</td>\n",
       "    </tr>\n",
       "    <tr>\n",
       "      <th>8</th>\n",
       "      <td>1008</td>\n",
       "      <td>63</td>\n",
       "      <td>NaN</td>\n",
       "      <td>Челябинск</td>\n",
       "      <td>Рустэм</td>\n",
       "      <td>Пономарёв</td>\n",
       "      <td>2018-12-19</td>\n",
       "      <td>smart</td>\n",
       "    </tr>\n",
       "    <tr>\n",
       "      <th>9</th>\n",
       "      <td>1009</td>\n",
       "      <td>24</td>\n",
       "      <td>NaN</td>\n",
       "      <td>Пермь</td>\n",
       "      <td>Василиса</td>\n",
       "      <td>Блинова</td>\n",
       "      <td>2018-03-22</td>\n",
       "      <td>smart</td>\n",
       "    </tr>\n",
       "  </tbody>\n",
       "</table>\n",
       "</div>"
      ],
      "text/plain": [
       "   user_id  age churn_date              city first_name  last_name  \\\n",
       "0     1000   52        NaN         Краснодар     Рафаил  Верещагин   \n",
       "1     1001   41        NaN            Москва       Иван       Ежов   \n",
       "2     1002   59        NaN       Стерлитамак    Евгений  Абрамович   \n",
       "3     1003   23        NaN            Москва      Белла   Белякова   \n",
       "4     1004   68        NaN       Новокузнецк    Татьяна   Авдеенко   \n",
       "5     1005   67        NaN  Набережные Челны   Афанасий     Горлов   \n",
       "6     1006   21        NaN         Ульяновск     Леонид   Ермолаев   \n",
       "7     1007   65        NaN            Москва        Юна   Березина   \n",
       "8     1008   63        NaN         Челябинск     Рустэм  Пономарёв   \n",
       "9     1009   24        NaN             Пермь   Василиса    Блинова   \n",
       "\n",
       "     reg_date tariff  \n",
       "0  2018-05-25  ultra  \n",
       "1  2018-11-01  smart  \n",
       "2  2018-06-17  smart  \n",
       "3  2018-08-17  ultra  \n",
       "4  2018-05-14  ultra  \n",
       "5  2018-01-25  smart  \n",
       "6  2018-02-26  smart  \n",
       "7  2018-04-19  smart  \n",
       "8  2018-12-19  smart  \n",
       "9  2018-03-22  smart  "
      ]
     },
     "execution_count": 82,
     "metadata": {},
     "output_type": "execute_result"
    }
   ],
   "source": [
    "data_users.head(10)"
   ]
  },
  {
   "cell_type": "code",
   "execution_count": 83,
   "metadata": {},
   "outputs": [],
   "source": [
    "#user_id — уникальный идентификатор пользователя\n",
    "#first_name — имя пользователя\n",
    "#last_name — фамилия пользователя\n",
    "#age — возраст пользователя (годы)\n",
    "#reg_date — дата подключения тарифа (день, месяц, год)\n",
    "#churn_date — дата прекращения пользования тарифом (если значение пропущено, то тариф ещё действовал на момент выгрузки данных)\n",
    "#city — город проживания пользователя\n",
    "#tarif — название тарифного плана"
   ]
  },
  {
   "cell_type": "code",
   "execution_count": 84,
   "metadata": {},
   "outputs": [
    {
     "data": {
      "text/plain": [
       "0"
      ]
     },
     "execution_count": 84,
     "metadata": {},
     "output_type": "execute_result"
    }
   ],
   "source": [
    "data_users.duplicated().sum()"
   ]
  },
  {
   "cell_type": "markdown",
   "metadata": {},
   "source": [
    "**Вывод**: Датасет с информацией информация о пользователях. Есть NaN в графе сhurn_date, это значит, что пользователь не прекращал пользоваться тарифом. Есть смысл NaN заменить на ноль."
   ]
  },
  {
   "cell_type": "markdown",
   "metadata": {},
   "source": [
    "## Подготовим данные для дальнейшей работы"
   ]
  },
  {
   "cell_type": "markdown",
   "metadata": {},
   "source": [
    "### Датасет users. Заменим NaN в графе сhurn_date на нули."
   ]
  },
  {
   "cell_type": "code",
   "execution_count": 85,
   "metadata": {},
   "outputs": [],
   "source": [
    "data_users['churn_date']=data_users['churn_date'].fillna(0)\n",
    "#data_users.head()"
   ]
  },
  {
   "cell_type": "markdown",
   "metadata": {},
   "source": [
    "###  Датасет calls. Заменим тип данных для call_date на datatime. Добавим столбец с месяцами month"
   ]
  },
  {
   "cell_type": "code",
   "execution_count": 86,
   "metadata": {},
   "outputs": [],
   "source": [
    "data_calls['call_date']=pd.to_datetime(data_calls['call_date'],format='%Y-%m-%d')\n",
    "data_calls['month'] = data_calls['call_date'].dt.month\n",
    "\n",
    "#data_calls.info()\n",
    "#data_calls.head()"
   ]
  },
  {
   "cell_type": "markdown",
   "metadata": {},
   "source": [
    "###  Датасет internet. Заменим тип для session_date\t на datatime.Добавим столбец с месяцами month"
   ]
  },
  {
   "cell_type": "code",
   "execution_count": 87,
   "metadata": {},
   "outputs": [],
   "source": [
    "data_internet['session_date']=pd.to_datetime(data_internet['session_date'],format='%Y-%m-%d')\n",
    "data_internet['month'] = data_internet['session_date'].dt.month\n",
    "\n",
    "#data_internet.head()\n"
   ]
  },
  {
   "cell_type": "markdown",
   "metadata": {},
   "source": [
    "###  Датасет messages. Заменим тип для message_date\t на datatime.Добавим столбец с месяцами month"
   ]
  },
  {
   "cell_type": "code",
   "execution_count": 88,
   "metadata": {},
   "outputs": [],
   "source": [
    "data_messages['message_date']=pd.to_datetime(data_messages['message_date'],format='%Y-%m-%d')\n",
    "data_messages['month'] = data_messages['message_date'].dt.month\n",
    "\n",
    "#data_messages.head()\n"
   ]
  },
  {
   "cell_type": "markdown",
   "metadata": {},
   "source": [
    "###  Датасет users. Заменим тип для reg_date на datatime. Добавим столбец с месяцами month"
   ]
  },
  {
   "cell_type": "code",
   "execution_count": 89,
   "metadata": {},
   "outputs": [],
   "source": [
    "data_users['reg_date']=pd.to_datetime(data_users['reg_date'],format='%Y-%m-%d')\n",
    "data_users['month'] = data_users['reg_date'].dt.month\n",
    "\n",
    "\n",
    "#data_users.info()\n",
    "#data_users.head()"
   ]
  },
  {
   "cell_type": "markdown",
   "metadata": {},
   "source": [
    "### Округлим в сторону увеличения длительность звонка в минутах(duration ) в датасете data_calls"
   ]
  },
  {
   "cell_type": "code",
   "execution_count": 90,
   "metadata": {},
   "outputs": [
    {
     "data": {
      "text/plain": [
       "0.00     39613\n",
       "5.50       142\n",
       "4.49       142\n",
       "6.15       141\n",
       "6.38       141\n",
       "         ...  \n",
       "26.32        1\n",
       "24.51        1\n",
       "27.24        1\n",
       "29.89        1\n",
       "27.43        1\n",
       "Name: duration, Length: 2871, dtype: int64"
      ]
     },
     "execution_count": 90,
     "metadata": {},
     "output_type": "execute_result"
    }
   ],
   "source": [
    "data_calls['duration'].value_counts()"
   ]
  },
  {
   "cell_type": "markdown",
   "metadata": {},
   "source": [
    "Очень много звонков с 0 продолжительностью. Убрать их невозможно. Как понятно из описания это пропущенные звонки. Оставим как есть."
   ]
  },
  {
   "cell_type": "code",
   "execution_count": 91,
   "metadata": {},
   "outputs": [],
   "source": [
    "#data_calls['duration']= data_calls['duration'].replace(0, 1)\n",
    "data_calls['duration']=np.ceil(data_calls['duration']) # округляем к большему целому числу\n",
    "#data_calls['duration'].value_counts()\n"
   ]
  },
  {
   "cell_type": "markdown",
   "metadata": {},
   "source": [
    "### Округлим в сторону увеличения кол-во мегабайт (mb_used) в датасете data_internet"
   ]
  },
  {
   "cell_type": "code",
   "execution_count": 92,
   "metadata": {},
   "outputs": [
    {
     "data": {
      "text/plain": [
       "0.00      19598\n",
       "335.91        9\n",
       "447.30        9\n",
       "197.56        9\n",
       "199.11        8\n",
       "          ...  \n",
       "182.69        1\n",
       "726.03        1\n",
       "315.12        1\n",
       "898.99        1\n",
       "677.66        1\n",
       "Name: mb_used, Length: 70003, dtype: int64"
      ]
     },
     "execution_count": 92,
     "metadata": {},
     "output_type": "execute_result"
    }
   ],
   "source": [
    "data_internet['mb_used'].value_counts()"
   ]
  },
  {
   "cell_type": "markdown",
   "metadata": {},
   "source": [
    "Как мы видим, такая же история как в случае со звонками. Очень много нулей. Откинуть их нельзя. Скорей всего это неудачные интернет подключения (не ловил интернет к примеру)."
   ]
  },
  {
   "cell_type": "code",
   "execution_count": 93,
   "metadata": {},
   "outputs": [
    {
     "data": {
      "text/plain": [
       "0.0       19598\n",
       "333.0       231\n",
       "382.0       228\n",
       "377.0       224\n",
       "253.0       222\n",
       "          ...  \n",
       "1446.0        1\n",
       "1450.0        1\n",
       "1377.0        1\n",
       "1508.0        1\n",
       "1222.0        1\n",
       "Name: mb_used, Length: 1424, dtype: int64"
      ]
     },
     "execution_count": 93,
     "metadata": {},
     "output_type": "execute_result"
    }
   ],
   "source": [
    "#data_internet['mb_used']= data_internet['mb_used'].replace(0, 1) #думал заменить нули в сторону увеличения до 1 мб, но потом передумал)\n",
    "#data_internet['mb_used'] = (data_internet['mb_used'] / 1024)\n",
    "data_internet['mb_used']= np.ceil(data_internet['mb_used']) # округляем к большему целому числу\n",
    "\n",
    "\n",
    "data_internet['mb_used'].value_counts()"
   ]
  },
  {
   "cell_type": "code",
   "execution_count": null,
   "metadata": {},
   "outputs": [],
   "source": []
  },
  {
   "cell_type": "markdown",
   "metadata": {},
   "source": [
    "###  Посчитаем для каждого пользователя количество сделанных звонков и израсходованных минут разговора по месяцам.\n",
    "\n",
    "\n"
   ]
  },
  {
   "cell_type": "code",
   "execution_count": 94,
   "metadata": {},
   "outputs": [
    {
     "data": {
      "text/html": [
       "<div>\n",
       "<style scoped>\n",
       "    .dataframe tbody tr th:only-of-type {\n",
       "        vertical-align: middle;\n",
       "    }\n",
       "\n",
       "    .dataframe tbody tr th {\n",
       "        vertical-align: top;\n",
       "    }\n",
       "\n",
       "    .dataframe thead tr th {\n",
       "        text-align: left;\n",
       "    }\n",
       "\n",
       "    .dataframe thead tr:last-of-type th {\n",
       "        text-align: right;\n",
       "    }\n",
       "</style>\n",
       "<table border=\"1\" class=\"dataframe\">\n",
       "  <thead>\n",
       "    <tr>\n",
       "      <th></th>\n",
       "      <th></th>\n",
       "      <th>sum</th>\n",
       "      <th>count</th>\n",
       "    </tr>\n",
       "    <tr>\n",
       "      <th></th>\n",
       "      <th></th>\n",
       "      <th>duration</th>\n",
       "      <th>duration</th>\n",
       "    </tr>\n",
       "    <tr>\n",
       "      <th>month</th>\n",
       "      <th>user_id</th>\n",
       "      <th></th>\n",
       "      <th></th>\n",
       "    </tr>\n",
       "  </thead>\n",
       "  <tbody>\n",
       "    <tr>\n",
       "      <th rowspan=\"10\" valign=\"top\">1</th>\n",
       "      <th>1005</th>\n",
       "      <td>95.0</td>\n",
       "      <td>15</td>\n",
       "    </tr>\n",
       "    <tr>\n",
       "      <th>1032</th>\n",
       "      <td>380.0</td>\n",
       "      <td>61</td>\n",
       "    </tr>\n",
       "    <tr>\n",
       "      <th>1045</th>\n",
       "      <td>9.0</td>\n",
       "      <td>1</td>\n",
       "    </tr>\n",
       "    <tr>\n",
       "      <th>1055</th>\n",
       "      <td>551.0</td>\n",
       "      <td>64</td>\n",
       "    </tr>\n",
       "    <tr>\n",
       "      <th>1071</th>\n",
       "      <td>194.0</td>\n",
       "      <td>24</td>\n",
       "    </tr>\n",
       "    <tr>\n",
       "      <th>1113</th>\n",
       "      <td>110.0</td>\n",
       "      <td>18</td>\n",
       "    </tr>\n",
       "    <tr>\n",
       "      <th>1120</th>\n",
       "      <td>55.0</td>\n",
       "      <td>5</td>\n",
       "    </tr>\n",
       "    <tr>\n",
       "      <th>1126</th>\n",
       "      <td>272.0</td>\n",
       "      <td>35</td>\n",
       "    </tr>\n",
       "    <tr>\n",
       "      <th>1134</th>\n",
       "      <td>332.0</td>\n",
       "      <td>42</td>\n",
       "    </tr>\n",
       "    <tr>\n",
       "      <th>1135</th>\n",
       "      <td>90.0</td>\n",
       "      <td>9</td>\n",
       "    </tr>\n",
       "  </tbody>\n",
       "</table>\n",
       "</div>"
      ],
      "text/plain": [
       "                   sum    count\n",
       "              duration duration\n",
       "month user_id                  \n",
       "1     1005        95.0       15\n",
       "      1032       380.0       61\n",
       "      1045         9.0        1\n",
       "      1055       551.0       64\n",
       "      1071       194.0       24\n",
       "      1113       110.0       18\n",
       "      1120        55.0        5\n",
       "      1126       272.0       35\n",
       "      1134       332.0       42\n",
       "      1135        90.0        9"
      ]
     },
     "metadata": {},
     "output_type": "display_data"
    }
   ],
   "source": [
    "data_calls_grouped = data_calls.pivot_table(index=['month','user_id'], values='duration', aggfunc=['sum', 'count'])\n",
    "display(data_calls_grouped.head(10))"
   ]
  },
  {
   "cell_type": "markdown",
   "metadata": {},
   "source": [
    "### Посчитаем для каждого пользователя количество отправленных сообщений по месяцам."
   ]
  },
  {
   "cell_type": "code",
   "execution_count": 95,
   "metadata": {},
   "outputs": [
    {
     "name": "stdout",
     "output_type": "stream",
     "text": [
      "                     count\n",
      "              message_date\n",
      "month user_id             \n",
      "1     1005               7\n",
      "      1032              38\n",
      "      1045               5\n",
      "      1055              30\n",
      "      1071              16\n",
      "...                    ...\n",
      "12    1493              78\n",
      "      1495              84\n",
      "      1496              51\n",
      "      1497              17\n",
      "      1499              66\n",
      "\n",
      "[2717 rows x 1 columns]\n"
     ]
    }
   ],
   "source": [
    "data_messages_grouped = data_messages.pivot_table(index=['month','user_id'], values='message_date', aggfunc=['count'])\n",
    "print(data_messages_grouped)"
   ]
  },
  {
   "cell_type": "code",
   "execution_count": null,
   "metadata": {},
   "outputs": [],
   "source": []
  },
  {
   "cell_type": "markdown",
   "metadata": {},
   "source": [
    "### Посчитаем для каждого пользователя объем израсходованного интернет-трафика по месяцам."
   ]
  },
  {
   "cell_type": "code",
   "execution_count": 96,
   "metadata": {},
   "outputs": [
    {
     "name": "stdout",
     "output_type": "stream",
     "text": [
      "                   sum\n",
      "               mb_used\n",
      "month user_id         \n",
      "1     1005      2730.0\n",
      "      1032     24147.0\n",
      "      1045      2348.0\n",
      "      1055     17111.0\n",
      "      1071     15622.0\n",
      "...                ...\n",
      "12    1494     17645.0\n",
      "      1495     23450.0\n",
      "      1496     20757.0\n",
      "      1497     19940.0\n",
      "      1499     13077.0\n",
      "\n",
      "[3203 rows x 1 columns]\n"
     ]
    }
   ],
   "source": [
    "data_internet_grouped = data_internet.pivot_table(index=['month','user_id'], values='mb_used', aggfunc=['sum'])\n",
    "print(data_internet_grouped)"
   ]
  },
  {
   "cell_type": "markdown",
   "metadata": {},
   "source": [
    "### Посчитаем для каждого пользователя помесячную выручку с каждого пользователя."
   ]
  },
  {
   "cell_type": "markdown",
   "metadata": {},
   "source": [
    "Вычтем бесплатный лимит из суммарного количества звонков, сообщений и интернет-трафика; остаток умножим на значение из тарифного плана; прибавьте абонентскую плату, соответствующую тарифному плану). Для этого сначала создадим датасэт из сводных таблиц 2.8, 2.9 и 2.10"
   ]
  },
  {
   "cell_type": "code",
   "execution_count": 97,
   "metadata": {},
   "outputs": [
    {
     "name": "stderr",
     "output_type": "stream",
     "text": [
      "/opt/conda/lib/python3.9/site-packages/pandas/core/reshape/merge.py:648: UserWarning: merging between different levels can give an unintended result (2 levels on the left,1 on the right)\n",
      "  warnings.warn(msg, UserWarning)\n"
     ]
    },
    {
     "data": {
      "text/html": [
       "<div>\n",
       "<style scoped>\n",
       "    .dataframe tbody tr th:only-of-type {\n",
       "        vertical-align: middle;\n",
       "    }\n",
       "\n",
       "    .dataframe tbody tr th {\n",
       "        vertical-align: top;\n",
       "    }\n",
       "\n",
       "    .dataframe thead th {\n",
       "        text-align: right;\n",
       "    }\n",
       "</style>\n",
       "<table border=\"1\" class=\"dataframe\">\n",
       "  <thead>\n",
       "    <tr style=\"text-align: right;\">\n",
       "      <th></th>\n",
       "      <th>user_id</th>\n",
       "      <th>month</th>\n",
       "      <th>(sum, duration)</th>\n",
       "      <th>(count, duration)</th>\n",
       "      <th>(count, message_date)</th>\n",
       "      <th>(sum, mb_used)</th>\n",
       "      <th>city</th>\n",
       "      <th>tariff</th>\n",
       "      <th>messages_included</th>\n",
       "      <th>mb_per_month_included</th>\n",
       "      <th>minutes_included</th>\n",
       "      <th>rub_monthly_fee</th>\n",
       "      <th>rub_per_gb</th>\n",
       "      <th>rub_per_message</th>\n",
       "      <th>rub_per_minute</th>\n",
       "    </tr>\n",
       "  </thead>\n",
       "  <tbody>\n",
       "    <tr>\n",
       "      <th>0</th>\n",
       "      <td>1005</td>\n",
       "      <td>1</td>\n",
       "      <td>95.0</td>\n",
       "      <td>15.0</td>\n",
       "      <td>7.0</td>\n",
       "      <td>2730.0</td>\n",
       "      <td>Набережные Челны</td>\n",
       "      <td>smart</td>\n",
       "      <td>50</td>\n",
       "      <td>15360</td>\n",
       "      <td>500</td>\n",
       "      <td>550</td>\n",
       "      <td>200</td>\n",
       "      <td>3</td>\n",
       "      <td>3</td>\n",
       "    </tr>\n",
       "    <tr>\n",
       "      <th>1</th>\n",
       "      <td>1032</td>\n",
       "      <td>1</td>\n",
       "      <td>380.0</td>\n",
       "      <td>61.0</td>\n",
       "      <td>38.0</td>\n",
       "      <td>24147.0</td>\n",
       "      <td>Ульяновск</td>\n",
       "      <td>smart</td>\n",
       "      <td>50</td>\n",
       "      <td>15360</td>\n",
       "      <td>500</td>\n",
       "      <td>550</td>\n",
       "      <td>200</td>\n",
       "      <td>3</td>\n",
       "      <td>3</td>\n",
       "    </tr>\n",
       "    <tr>\n",
       "      <th>2</th>\n",
       "      <td>1045</td>\n",
       "      <td>1</td>\n",
       "      <td>9.0</td>\n",
       "      <td>1.0</td>\n",
       "      <td>5.0</td>\n",
       "      <td>2348.0</td>\n",
       "      <td>Улан-Удэ</td>\n",
       "      <td>smart</td>\n",
       "      <td>50</td>\n",
       "      <td>15360</td>\n",
       "      <td>500</td>\n",
       "      <td>550</td>\n",
       "      <td>200</td>\n",
       "      <td>3</td>\n",
       "      <td>3</td>\n",
       "    </tr>\n",
       "    <tr>\n",
       "      <th>3</th>\n",
       "      <td>1055</td>\n",
       "      <td>1</td>\n",
       "      <td>551.0</td>\n",
       "      <td>64.0</td>\n",
       "      <td>30.0</td>\n",
       "      <td>17111.0</td>\n",
       "      <td>Казань</td>\n",
       "      <td>smart</td>\n",
       "      <td>50</td>\n",
       "      <td>15360</td>\n",
       "      <td>500</td>\n",
       "      <td>550</td>\n",
       "      <td>200</td>\n",
       "      <td>3</td>\n",
       "      <td>3</td>\n",
       "    </tr>\n",
       "    <tr>\n",
       "      <th>4</th>\n",
       "      <td>1071</td>\n",
       "      <td>1</td>\n",
       "      <td>194.0</td>\n",
       "      <td>24.0</td>\n",
       "      <td>16.0</td>\n",
       "      <td>15622.0</td>\n",
       "      <td>Омск</td>\n",
       "      <td>smart</td>\n",
       "      <td>50</td>\n",
       "      <td>15360</td>\n",
       "      <td>500</td>\n",
       "      <td>550</td>\n",
       "      <td>200</td>\n",
       "      <td>3</td>\n",
       "      <td>3</td>\n",
       "    </tr>\n",
       "  </tbody>\n",
       "</table>\n",
       "</div>"
      ],
      "text/plain": [
       "   user_id  month  (sum, duration)  (count, duration)  (count, message_date)  \\\n",
       "0     1005      1             95.0               15.0                    7.0   \n",
       "1     1032      1            380.0               61.0                   38.0   \n",
       "2     1045      1              9.0                1.0                    5.0   \n",
       "3     1055      1            551.0               64.0                   30.0   \n",
       "4     1071      1            194.0               24.0                   16.0   \n",
       "\n",
       "   (sum, mb_used)              city tariff  messages_included  \\\n",
       "0          2730.0  Набережные Челны  smart                 50   \n",
       "1         24147.0         Ульяновск  smart                 50   \n",
       "2          2348.0          Улан-Удэ  smart                 50   \n",
       "3         17111.0            Казань  smart                 50   \n",
       "4         15622.0              Омск  smart                 50   \n",
       "\n",
       "   mb_per_month_included  minutes_included  rub_monthly_fee  rub_per_gb  \\\n",
       "0                  15360               500              550         200   \n",
       "1                  15360               500              550         200   \n",
       "2                  15360               500              550         200   \n",
       "3                  15360               500              550         200   \n",
       "4                  15360               500              550         200   \n",
       "\n",
       "   rub_per_message  rub_per_minute  \n",
       "0                3               3  \n",
       "1                3               3  \n",
       "2                3               3  \n",
       "3                3               3  \n",
       "4                3               3  "
      ]
     },
     "execution_count": 97,
     "metadata": {},
     "output_type": "execute_result"
    }
   ],
   "source": [
    "grouped_calls_messages= data_calls_grouped.merge(data_messages_grouped, on=['user_id','month'],how='outer')\n",
    "grouped_all = grouped_calls_messages.merge(data_internet_grouped, on=['user_id','month'],how='outer')\n",
    "grouped_all = grouped_all.merge(data_users, on=['user_id','month'],how='inner')\n",
    "data_tariffs.rename(columns={('tariff_name') : 'tariff'},inplace=True)  # переименовал столбец tariff_name для объединения\n",
    "\n",
    "grouped_all = grouped_all.merge(data_tariffs, on=['tariff'],how='outer')  # объединил таблицу с тарифами tariffs\n",
    "\n",
    "\n",
    "# outer дает NaN в tariff. Это из-за месяца регистрации.\n",
    "del grouped_all['age'] # удалим ненужные столбцы\n",
    "del grouped_all['churn_date'] # удалим ненужные столбцы\n",
    "del grouped_all['first_name'] # удалим ненужные столбцы\n",
    "del grouped_all['last_name'] # удалим ненужные столбцы\n",
    "del grouped_all['reg_date'] # удалим ненужные столбцы\n",
    "#del grouped_all['city'] # удалим ненужные столбцы\n",
    "#grouped_all['sum,mb_used'] = (grouped_all['sum,mb_used'] / 1024)\n",
    "\n",
    "grouped_all.head()"
   ]
  },
  {
   "cell_type": "code",
   "execution_count": 98,
   "metadata": {},
   "outputs": [
    {
     "data": {
      "text/plain": [
       "Index([                'user_id',                   'month',\n",
       "             ('sum', 'duration'),     ('count', 'duration'),\n",
       "       ('count', 'message_date'),        ('sum', 'mb_used'),\n",
       "                          'city',                  'tariff',\n",
       "             'messages_included',   'mb_per_month_included',\n",
       "              'minutes_included',         'rub_monthly_fee',\n",
       "                    'rub_per_gb',         'rub_per_message',\n",
       "                'rub_per_minute'],\n",
       "      dtype='object')"
      ]
     },
     "execution_count": 98,
     "metadata": {},
     "output_type": "execute_result"
    }
   ],
   "source": [
    "grouped_all.columns"
   ]
  },
  {
   "cell_type": "code",
   "execution_count": 99,
   "metadata": {},
   "outputs": [
    {
     "data": {
      "text/html": [
       "<div>\n",
       "<style scoped>\n",
       "    .dataframe tbody tr th:only-of-type {\n",
       "        vertical-align: middle;\n",
       "    }\n",
       "\n",
       "    .dataframe tbody tr th {\n",
       "        vertical-align: top;\n",
       "    }\n",
       "\n",
       "    .dataframe thead th {\n",
       "        text-align: right;\n",
       "    }\n",
       "</style>\n",
       "<table border=\"1\" class=\"dataframe\">\n",
       "  <thead>\n",
       "    <tr style=\"text-align: right;\">\n",
       "      <th></th>\n",
       "      <th>user_id</th>\n",
       "      <th>month</th>\n",
       "      <th>sum_duration</th>\n",
       "      <th>count_duration</th>\n",
       "      <th>count_message_date</th>\n",
       "      <th>sum_mb_used</th>\n",
       "      <th>city</th>\n",
       "      <th>tariff</th>\n",
       "      <th>messages_included</th>\n",
       "      <th>mb_per_month_included</th>\n",
       "      <th>minutes_included</th>\n",
       "      <th>rub_monthly_fee</th>\n",
       "      <th>rub_per_gb</th>\n",
       "      <th>rub_per_message</th>\n",
       "      <th>rub_per_minute</th>\n",
       "      <th>gb_used</th>\n",
       "      <th>gb_included</th>\n",
       "    </tr>\n",
       "  </thead>\n",
       "  <tbody>\n",
       "    <tr>\n",
       "      <th>0</th>\n",
       "      <td>1005</td>\n",
       "      <td>1</td>\n",
       "      <td>95.0</td>\n",
       "      <td>15.0</td>\n",
       "      <td>7.0</td>\n",
       "      <td>2730.0</td>\n",
       "      <td>Набережные Челны</td>\n",
       "      <td>smart</td>\n",
       "      <td>50</td>\n",
       "      <td>15360</td>\n",
       "      <td>500</td>\n",
       "      <td>550</td>\n",
       "      <td>200</td>\n",
       "      <td>3</td>\n",
       "      <td>3</td>\n",
       "      <td>2.666016</td>\n",
       "      <td>15.0</td>\n",
       "    </tr>\n",
       "    <tr>\n",
       "      <th>1</th>\n",
       "      <td>1032</td>\n",
       "      <td>1</td>\n",
       "      <td>380.0</td>\n",
       "      <td>61.0</td>\n",
       "      <td>38.0</td>\n",
       "      <td>24147.0</td>\n",
       "      <td>Ульяновск</td>\n",
       "      <td>smart</td>\n",
       "      <td>50</td>\n",
       "      <td>15360</td>\n",
       "      <td>500</td>\n",
       "      <td>550</td>\n",
       "      <td>200</td>\n",
       "      <td>3</td>\n",
       "      <td>3</td>\n",
       "      <td>23.581055</td>\n",
       "      <td>15.0</td>\n",
       "    </tr>\n",
       "    <tr>\n",
       "      <th>2</th>\n",
       "      <td>1045</td>\n",
       "      <td>1</td>\n",
       "      <td>9.0</td>\n",
       "      <td>1.0</td>\n",
       "      <td>5.0</td>\n",
       "      <td>2348.0</td>\n",
       "      <td>Улан-Удэ</td>\n",
       "      <td>smart</td>\n",
       "      <td>50</td>\n",
       "      <td>15360</td>\n",
       "      <td>500</td>\n",
       "      <td>550</td>\n",
       "      <td>200</td>\n",
       "      <td>3</td>\n",
       "      <td>3</td>\n",
       "      <td>2.292969</td>\n",
       "      <td>15.0</td>\n",
       "    </tr>\n",
       "    <tr>\n",
       "      <th>3</th>\n",
       "      <td>1055</td>\n",
       "      <td>1</td>\n",
       "      <td>551.0</td>\n",
       "      <td>64.0</td>\n",
       "      <td>30.0</td>\n",
       "      <td>17111.0</td>\n",
       "      <td>Казань</td>\n",
       "      <td>smart</td>\n",
       "      <td>50</td>\n",
       "      <td>15360</td>\n",
       "      <td>500</td>\n",
       "      <td>550</td>\n",
       "      <td>200</td>\n",
       "      <td>3</td>\n",
       "      <td>3</td>\n",
       "      <td>16.709961</td>\n",
       "      <td>15.0</td>\n",
       "    </tr>\n",
       "    <tr>\n",
       "      <th>4</th>\n",
       "      <td>1071</td>\n",
       "      <td>1</td>\n",
       "      <td>194.0</td>\n",
       "      <td>24.0</td>\n",
       "      <td>16.0</td>\n",
       "      <td>15622.0</td>\n",
       "      <td>Омск</td>\n",
       "      <td>smart</td>\n",
       "      <td>50</td>\n",
       "      <td>15360</td>\n",
       "      <td>500</td>\n",
       "      <td>550</td>\n",
       "      <td>200</td>\n",
       "      <td>3</td>\n",
       "      <td>3</td>\n",
       "      <td>15.255859</td>\n",
       "      <td>15.0</td>\n",
       "    </tr>\n",
       "  </tbody>\n",
       "</table>\n",
       "</div>"
      ],
      "text/plain": [
       "   user_id  month  sum_duration  count_duration  count_message_date  \\\n",
       "0     1005      1          95.0            15.0                 7.0   \n",
       "1     1032      1         380.0            61.0                38.0   \n",
       "2     1045      1           9.0             1.0                 5.0   \n",
       "3     1055      1         551.0            64.0                30.0   \n",
       "4     1071      1         194.0            24.0                16.0   \n",
       "\n",
       "   sum_mb_used              city tariff  messages_included  \\\n",
       "0       2730.0  Набережные Челны  smart                 50   \n",
       "1      24147.0         Ульяновск  smart                 50   \n",
       "2       2348.0          Улан-Удэ  smart                 50   \n",
       "3      17111.0            Казань  smart                 50   \n",
       "4      15622.0              Омск  smart                 50   \n",
       "\n",
       "   mb_per_month_included  minutes_included  rub_monthly_fee  rub_per_gb  \\\n",
       "0                  15360               500              550         200   \n",
       "1                  15360               500              550         200   \n",
       "2                  15360               500              550         200   \n",
       "3                  15360               500              550         200   \n",
       "4                  15360               500              550         200   \n",
       "\n",
       "   rub_per_message  rub_per_minute    gb_used  gb_included  \n",
       "0                3               3   2.666016         15.0  \n",
       "1                3               3  23.581055         15.0  \n",
       "2                3               3   2.292969         15.0  \n",
       "3                3               3  16.709961         15.0  \n",
       "4                3               3  15.255859         15.0  "
      ]
     },
     "execution_count": 99,
     "metadata": {},
     "output_type": "execute_result"
    }
   ],
   "source": [
    "grouped_all.rename(columns={('sum', 'duration') : 'sum_duration'},inplace=True)\n",
    "grouped_all.rename(columns={('count', 'duration') : 'count_duration'},inplace=True)\n",
    "grouped_all.rename(columns={('count', 'message_date') : 'count_message_date'},inplace=True)\n",
    "grouped_all.rename(columns={('sum', 'mb_used') : 'sum_mb_used'},inplace=True)\n",
    "\n",
    "grouped_all['gb_used'] = (grouped_all['sum_mb_used'] / 1024)\n",
    "grouped_all['gb_included'] = (grouped_all['mb_per_month_included'] / 1024)\n",
    "\n",
    "\n",
    "\n",
    "\n",
    "grouped_all.head()\n"
   ]
  },
  {
   "cell_type": "code",
   "execution_count": 100,
   "metadata": {},
   "outputs": [],
   "source": [
    "def tarif_money(row):\n",
    "    \n",
    "    messages = row['count_message_date']\n",
    "    calls = row['sum_duration']\n",
    "    internet = row['gb_used']\n",
    "    tariff = row['tariff']  \n",
    "     \n",
    "    limit_call=row['minutes_included'] # лимит кол-вл минут \n",
    "    limit_mess=row['messages_included'] #лимит кол-вл смс \n",
    "    limit_int=row['gb_included'] #лимит кол-ва Гб \n",
    "    \n",
    "    coast_call= row['rub_per_minute'] #\n",
    "    coast_mes =row['rub_per_message']\n",
    "    coast_int =row['rub_per_gb'] \n",
    "     \n",
    "        \n",
    "    \n",
    "    \n",
    "    if tariff=='smart':\n",
    "        ostatok_call = limit_call - calls\n",
    "        ostatok_messages = limit_mess - messages\n",
    "        ostatok_internet = limit_int - internet\n",
    "                \n",
    "        if ostatok_call < 0:\n",
    "            call_money = - ostatok_call * coast_call\n",
    "        else:\n",
    "            call_money = 0 \n",
    "\n",
    "        if ostatok_messages < 0:\n",
    "            messages_money = -ostatok_messages * coast_mes\n",
    "        else:\n",
    "            messages_money = 0 \n",
    "        \n",
    "        if ostatok_internet < 0:\n",
    "            internet_money = -ostatok_internet * coast_int\n",
    "        else:\n",
    "            internet_money = 0 \n",
    "       \n",
    "        \n",
    "        money = call_money + internet_money + messages_money + 550\n",
    "     \n",
    "    if tariff=='ultra':\n",
    "        ostatok_call = limit_call - calls\n",
    "        ostatok_messages = limit_mess -messages\n",
    "        ostatok_internet = limit_int -internet \n",
    "        \n",
    "        if ostatok_call < 0:\n",
    "            сall_money=-ostatok_call*coast_call\n",
    "        else:\n",
    "            сall_money = 0 \n",
    "\n",
    "        if ostatok_messages < 0:\n",
    "            messages_money = -ostatok_messages * coast_mes\n",
    "        else:\n",
    "            messages_money = 0 \n",
    "        \n",
    "        if ostatok_internet < 0:\n",
    "            internet_money = -ostatok_internet * coast_int\n",
    "        else:\n",
    "            internet_money = 0 \n",
    "       \n",
    "        \n",
    "        money=сall_money + internet_money + messages_money + 1950\n",
    "    return money    \n",
    "    "
   ]
  },
  {
   "cell_type": "code",
   "execution_count": 101,
   "metadata": {},
   "outputs": [
    {
     "data": {
      "text/html": [
       "<div>\n",
       "<style scoped>\n",
       "    .dataframe tbody tr th:only-of-type {\n",
       "        vertical-align: middle;\n",
       "    }\n",
       "\n",
       "    .dataframe tbody tr th {\n",
       "        vertical-align: top;\n",
       "    }\n",
       "\n",
       "    .dataframe thead th {\n",
       "        text-align: right;\n",
       "    }\n",
       "</style>\n",
       "<table border=\"1\" class=\"dataframe\">\n",
       "  <thead>\n",
       "    <tr style=\"text-align: right;\">\n",
       "      <th></th>\n",
       "      <th>user_id</th>\n",
       "      <th>month</th>\n",
       "      <th>sum_duration</th>\n",
       "      <th>count_duration</th>\n",
       "      <th>count_message_date</th>\n",
       "      <th>sum_mb_used</th>\n",
       "      <th>city</th>\n",
       "      <th>tariff</th>\n",
       "      <th>messages_included</th>\n",
       "      <th>mb_per_month_included</th>\n",
       "      <th>minutes_included</th>\n",
       "      <th>rub_monthly_fee</th>\n",
       "      <th>rub_per_gb</th>\n",
       "      <th>rub_per_message</th>\n",
       "      <th>rub_per_minute</th>\n",
       "      <th>gb_used</th>\n",
       "      <th>gb_included</th>\n",
       "      <th>money</th>\n",
       "    </tr>\n",
       "  </thead>\n",
       "  <tbody>\n",
       "    <tr>\n",
       "      <th>0</th>\n",
       "      <td>1005</td>\n",
       "      <td>1</td>\n",
       "      <td>95.0</td>\n",
       "      <td>15.0</td>\n",
       "      <td>7.0</td>\n",
       "      <td>2730.0</td>\n",
       "      <td>Набережные Челны</td>\n",
       "      <td>smart</td>\n",
       "      <td>50</td>\n",
       "      <td>15360</td>\n",
       "      <td>500</td>\n",
       "      <td>550</td>\n",
       "      <td>200</td>\n",
       "      <td>3</td>\n",
       "      <td>3</td>\n",
       "      <td>2.666016</td>\n",
       "      <td>15.0</td>\n",
       "      <td>550.000000</td>\n",
       "    </tr>\n",
       "    <tr>\n",
       "      <th>1</th>\n",
       "      <td>1032</td>\n",
       "      <td>1</td>\n",
       "      <td>380.0</td>\n",
       "      <td>61.0</td>\n",
       "      <td>38.0</td>\n",
       "      <td>24147.0</td>\n",
       "      <td>Ульяновск</td>\n",
       "      <td>smart</td>\n",
       "      <td>50</td>\n",
       "      <td>15360</td>\n",
       "      <td>500</td>\n",
       "      <td>550</td>\n",
       "      <td>200</td>\n",
       "      <td>3</td>\n",
       "      <td>3</td>\n",
       "      <td>23.581055</td>\n",
       "      <td>15.0</td>\n",
       "      <td>2266.210938</td>\n",
       "    </tr>\n",
       "    <tr>\n",
       "      <th>2</th>\n",
       "      <td>1045</td>\n",
       "      <td>1</td>\n",
       "      <td>9.0</td>\n",
       "      <td>1.0</td>\n",
       "      <td>5.0</td>\n",
       "      <td>2348.0</td>\n",
       "      <td>Улан-Удэ</td>\n",
       "      <td>smart</td>\n",
       "      <td>50</td>\n",
       "      <td>15360</td>\n",
       "      <td>500</td>\n",
       "      <td>550</td>\n",
       "      <td>200</td>\n",
       "      <td>3</td>\n",
       "      <td>3</td>\n",
       "      <td>2.292969</td>\n",
       "      <td>15.0</td>\n",
       "      <td>550.000000</td>\n",
       "    </tr>\n",
       "    <tr>\n",
       "      <th>3</th>\n",
       "      <td>1055</td>\n",
       "      <td>1</td>\n",
       "      <td>551.0</td>\n",
       "      <td>64.0</td>\n",
       "      <td>30.0</td>\n",
       "      <td>17111.0</td>\n",
       "      <td>Казань</td>\n",
       "      <td>smart</td>\n",
       "      <td>50</td>\n",
       "      <td>15360</td>\n",
       "      <td>500</td>\n",
       "      <td>550</td>\n",
       "      <td>200</td>\n",
       "      <td>3</td>\n",
       "      <td>3</td>\n",
       "      <td>16.709961</td>\n",
       "      <td>15.0</td>\n",
       "      <td>1044.992188</td>\n",
       "    </tr>\n",
       "    <tr>\n",
       "      <th>4</th>\n",
       "      <td>1071</td>\n",
       "      <td>1</td>\n",
       "      <td>194.0</td>\n",
       "      <td>24.0</td>\n",
       "      <td>16.0</td>\n",
       "      <td>15622.0</td>\n",
       "      <td>Омск</td>\n",
       "      <td>smart</td>\n",
       "      <td>50</td>\n",
       "      <td>15360</td>\n",
       "      <td>500</td>\n",
       "      <td>550</td>\n",
       "      <td>200</td>\n",
       "      <td>3</td>\n",
       "      <td>3</td>\n",
       "      <td>15.255859</td>\n",
       "      <td>15.0</td>\n",
       "      <td>601.171875</td>\n",
       "    </tr>\n",
       "  </tbody>\n",
       "</table>\n",
       "</div>"
      ],
      "text/plain": [
       "   user_id  month  sum_duration  count_duration  count_message_date  \\\n",
       "0     1005      1          95.0            15.0                 7.0   \n",
       "1     1032      1         380.0            61.0                38.0   \n",
       "2     1045      1           9.0             1.0                 5.0   \n",
       "3     1055      1         551.0            64.0                30.0   \n",
       "4     1071      1         194.0            24.0                16.0   \n",
       "\n",
       "   sum_mb_used              city tariff  messages_included  \\\n",
       "0       2730.0  Набережные Челны  smart                 50   \n",
       "1      24147.0         Ульяновск  smart                 50   \n",
       "2       2348.0          Улан-Удэ  smart                 50   \n",
       "3      17111.0            Казань  smart                 50   \n",
       "4      15622.0              Омск  smart                 50   \n",
       "\n",
       "   mb_per_month_included  minutes_included  rub_monthly_fee  rub_per_gb  \\\n",
       "0                  15360               500              550         200   \n",
       "1                  15360               500              550         200   \n",
       "2                  15360               500              550         200   \n",
       "3                  15360               500              550         200   \n",
       "4                  15360               500              550         200   \n",
       "\n",
       "   rub_per_message  rub_per_minute    gb_used  gb_included        money  \n",
       "0                3               3   2.666016         15.0   550.000000  \n",
       "1                3               3  23.581055         15.0  2266.210938  \n",
       "2                3               3   2.292969         15.0   550.000000  \n",
       "3                3               3  16.709961         15.0  1044.992188  \n",
       "4                3               3  15.255859         15.0   601.171875  "
      ]
     },
     "execution_count": 101,
     "metadata": {},
     "output_type": "execute_result"
    }
   ],
   "source": [
    "grouped_all['money']=grouped_all.apply(tarif_money, axis=1) \n",
    "grouped_all.head()\n"
   ]
  },
  {
   "cell_type": "markdown",
   "metadata": {},
   "source": [
    "## Проанализируем данные по тарифам"
   ]
  },
  {
   "cell_type": "markdown",
   "metadata": {},
   "source": [
    "### Посчитаем сколько сообщений и какой объём интернет-трафика требуется пользователям каждого тарифа в месяц."
   ]
  },
  {
   "cell_type": "code",
   "execution_count": 102,
   "metadata": {},
   "outputs": [
    {
     "data": {
      "text/html": [
       "<div>\n",
       "<style scoped>\n",
       "    .dataframe tbody tr th:only-of-type {\n",
       "        vertical-align: middle;\n",
       "    }\n",
       "\n",
       "    .dataframe tbody tr th {\n",
       "        vertical-align: top;\n",
       "    }\n",
       "\n",
       "    .dataframe thead th {\n",
       "        text-align: right;\n",
       "    }\n",
       "</style>\n",
       "<table border=\"1\" class=\"dataframe\">\n",
       "  <thead>\n",
       "    <tr style=\"text-align: right;\">\n",
       "      <th></th>\n",
       "      <th>count_message_date</th>\n",
       "      <th>gb_used</th>\n",
       "      <th>sum_duration</th>\n",
       "    </tr>\n",
       "    <tr>\n",
       "      <th>month</th>\n",
       "      <th></th>\n",
       "      <th></th>\n",
       "      <th></th>\n",
       "    </tr>\n",
       "  </thead>\n",
       "  <tbody>\n",
       "    <tr>\n",
       "      <th>1</th>\n",
       "      <td>304.0</td>\n",
       "      <td>115.607422</td>\n",
       "      <td>3853.0</td>\n",
       "    </tr>\n",
       "    <tr>\n",
       "      <th>2</th>\n",
       "      <td>181.0</td>\n",
       "      <td>114.637695</td>\n",
       "      <td>1874.0</td>\n",
       "    </tr>\n",
       "    <tr>\n",
       "      <th>3</th>\n",
       "      <td>146.0</td>\n",
       "      <td>94.171875</td>\n",
       "      <td>4194.0</td>\n",
       "    </tr>\n",
       "    <tr>\n",
       "      <th>4</th>\n",
       "      <td>412.0</td>\n",
       "      <td>208.294922</td>\n",
       "      <td>5277.0</td>\n",
       "    </tr>\n",
       "    <tr>\n",
       "      <th>5</th>\n",
       "      <td>332.0</td>\n",
       "      <td>104.199219</td>\n",
       "      <td>2178.0</td>\n",
       "    </tr>\n",
       "    <tr>\n",
       "      <th>6</th>\n",
       "      <td>501.0</td>\n",
       "      <td>182.972656</td>\n",
       "      <td>3717.0</td>\n",
       "    </tr>\n",
       "    <tr>\n",
       "      <th>7</th>\n",
       "      <td>261.0</td>\n",
       "      <td>69.945312</td>\n",
       "      <td>3018.0</td>\n",
       "    </tr>\n",
       "    <tr>\n",
       "      <th>8</th>\n",
       "      <td>583.0</td>\n",
       "      <td>114.465820</td>\n",
       "      <td>3913.0</td>\n",
       "    </tr>\n",
       "    <tr>\n",
       "      <th>9</th>\n",
       "      <td>238.0</td>\n",
       "      <td>70.165039</td>\n",
       "      <td>2698.0</td>\n",
       "    </tr>\n",
       "    <tr>\n",
       "      <th>10</th>\n",
       "      <td>557.0</td>\n",
       "      <td>194.934570</td>\n",
       "      <td>3575.0</td>\n",
       "    </tr>\n",
       "    <tr>\n",
       "      <th>11</th>\n",
       "      <td>727.0</td>\n",
       "      <td>183.778320</td>\n",
       "      <td>5429.0</td>\n",
       "    </tr>\n",
       "    <tr>\n",
       "      <th>12</th>\n",
       "      <td>474.0</td>\n",
       "      <td>164.820312</td>\n",
       "      <td>4852.0</td>\n",
       "    </tr>\n",
       "  </tbody>\n",
       "</table>\n",
       "</div>"
      ],
      "text/plain": [
       "       count_message_date     gb_used  sum_duration\n",
       "month                                              \n",
       "1                   304.0  115.607422        3853.0\n",
       "2                   181.0  114.637695        1874.0\n",
       "3                   146.0   94.171875        4194.0\n",
       "4                   412.0  208.294922        5277.0\n",
       "5                   332.0  104.199219        2178.0\n",
       "6                   501.0  182.972656        3717.0\n",
       "7                   261.0   69.945312        3018.0\n",
       "8                   583.0  114.465820        3913.0\n",
       "9                   238.0   70.165039        2698.0\n",
       "10                  557.0  194.934570        3575.0\n",
       "11                  727.0  183.778320        5429.0\n",
       "12                  474.0  164.820312        4852.0"
      ]
     },
     "execution_count": 102,
     "metadata": {},
     "output_type": "execute_result"
    }
   ],
   "source": [
    "tariff_ultra=grouped_all.query('tariff==\"ultra\"').pivot_table(index='month',values=('sum_duration','count_message_date','gb_used'),aggfunc=('sum'))\n",
    "tariff_ultra"
   ]
  },
  {
   "cell_type": "code",
   "execution_count": 103,
   "metadata": {},
   "outputs": [
    {
     "data": {
      "text/html": [
       "<div>\n",
       "<style scoped>\n",
       "    .dataframe tbody tr th:only-of-type {\n",
       "        vertical-align: middle;\n",
       "    }\n",
       "\n",
       "    .dataframe tbody tr th {\n",
       "        vertical-align: top;\n",
       "    }\n",
       "\n",
       "    .dataframe thead th {\n",
       "        text-align: right;\n",
       "    }\n",
       "</style>\n",
       "<table border=\"1\" class=\"dataframe\">\n",
       "  <thead>\n",
       "    <tr style=\"text-align: right;\">\n",
       "      <th></th>\n",
       "      <th>count_message_date</th>\n",
       "      <th>gb_used</th>\n",
       "      <th>sum_duration</th>\n",
       "    </tr>\n",
       "    <tr>\n",
       "      <th>month</th>\n",
       "      <th></th>\n",
       "      <th></th>\n",
       "      <th></th>\n",
       "    </tr>\n",
       "  </thead>\n",
       "  <tbody>\n",
       "    <tr>\n",
       "      <th>1</th>\n",
       "      <td>620.0</td>\n",
       "      <td>283.038086</td>\n",
       "      <td>6931.0</td>\n",
       "    </tr>\n",
       "    <tr>\n",
       "      <th>2</th>\n",
       "      <td>312.0</td>\n",
       "      <td>159.368164</td>\n",
       "      <td>4035.0</td>\n",
       "    </tr>\n",
       "    <tr>\n",
       "      <th>3</th>\n",
       "      <td>400.0</td>\n",
       "      <td>184.010742</td>\n",
       "      <td>5046.0</td>\n",
       "    </tr>\n",
       "    <tr>\n",
       "      <th>4</th>\n",
       "      <td>739.0</td>\n",
       "      <td>269.905273</td>\n",
       "      <td>8096.0</td>\n",
       "    </tr>\n",
       "    <tr>\n",
       "      <th>5</th>\n",
       "      <td>514.0</td>\n",
       "      <td>269.196289</td>\n",
       "      <td>5658.0</td>\n",
       "    </tr>\n",
       "    <tr>\n",
       "      <th>6</th>\n",
       "      <td>314.0</td>\n",
       "      <td>184.808594</td>\n",
       "      <td>4275.0</td>\n",
       "    </tr>\n",
       "    <tr>\n",
       "      <th>7</th>\n",
       "      <td>671.0</td>\n",
       "      <td>318.539062</td>\n",
       "      <td>8921.0</td>\n",
       "    </tr>\n",
       "    <tr>\n",
       "      <th>8</th>\n",
       "      <td>577.0</td>\n",
       "      <td>321.639648</td>\n",
       "      <td>7246.0</td>\n",
       "    </tr>\n",
       "    <tr>\n",
       "      <th>9</th>\n",
       "      <td>549.0</td>\n",
       "      <td>236.382812</td>\n",
       "      <td>6814.0</td>\n",
       "    </tr>\n",
       "    <tr>\n",
       "      <th>10</th>\n",
       "      <td>627.0</td>\n",
       "      <td>289.643555</td>\n",
       "      <td>9126.0</td>\n",
       "    </tr>\n",
       "    <tr>\n",
       "      <th>11</th>\n",
       "      <td>617.0</td>\n",
       "      <td>264.160156</td>\n",
       "      <td>7286.0</td>\n",
       "    </tr>\n",
       "    <tr>\n",
       "      <th>12</th>\n",
       "      <td>827.0</td>\n",
       "      <td>452.107422</td>\n",
       "      <td>12015.0</td>\n",
       "    </tr>\n",
       "  </tbody>\n",
       "</table>\n",
       "</div>"
      ],
      "text/plain": [
       "       count_message_date     gb_used  sum_duration\n",
       "month                                              \n",
       "1                   620.0  283.038086        6931.0\n",
       "2                   312.0  159.368164        4035.0\n",
       "3                   400.0  184.010742        5046.0\n",
       "4                   739.0  269.905273        8096.0\n",
       "5                   514.0  269.196289        5658.0\n",
       "6                   314.0  184.808594        4275.0\n",
       "7                   671.0  318.539062        8921.0\n",
       "8                   577.0  321.639648        7246.0\n",
       "9                   549.0  236.382812        6814.0\n",
       "10                  627.0  289.643555        9126.0\n",
       "11                  617.0  264.160156        7286.0\n",
       "12                  827.0  452.107422       12015.0"
      ]
     },
     "execution_count": 103,
     "metadata": {},
     "output_type": "execute_result"
    }
   ],
   "source": [
    "tariff_smart=grouped_all.query('tariff==\"smart\"').pivot_table(index='month',values=('sum_duration','count_message_date','gb_used'),aggfunc=('sum'))\n",
    "tariff_smart"
   ]
  },
  {
   "cell_type": "code",
   "execution_count": 104,
   "metadata": {},
   "outputs": [
    {
     "data": {
      "text/plain": [
       "<AxesSubplot:xlabel='month'>"
      ]
     },
     "execution_count": 104,
     "metadata": {},
     "output_type": "execute_result"
    },
    {
     "data": {
      "image/png": "[encoded data removed]",
      "text/plain": [
       "<Figure size 720x360 with 1 Axes>"
      ]
     },
     "metadata": {
      "needs_background": "light"
     },
     "output_type": "display_data"
    }
   ],
   "source": [
    "ax=tariff_ultra.plot(y='sum_duration',figsize=(10,5),style='o-',kind='bar',label='ultra')\n",
    "#plt.show()\n",
    "tariff_smart.plot(y='sum_duration', figsize=(10,5),style='o-',kind='bar',label='smart',alpha=0.5, ax=ax)\n"
   ]
  },
  {
   "cell_type": "code",
   "execution_count": 105,
   "metadata": {},
   "outputs": [
    {
     "data": {
      "text/plain": [
       "<AxesSubplot:xlabel='month'>"
      ]
     },
     "execution_count": 105,
     "metadata": {},
     "output_type": "execute_result"
    },
    {
     "data": {
      "image/png": "[encoded data removed]",
      "text/plain": [
       "<Figure size 720x360 with 1 Axes>"
      ]
     },
     "metadata": {
      "needs_background": "light"
     },
     "output_type": "display_data"
    }
   ],
   "source": [
    "ax=tariff_ultra.plot(y='count_message_date',figsize=(10,5),style='o-',kind='bar',label='ultra')\n",
    "#plt.show()\n",
    "tariff_smart.plot(y='count_message_date',figsize=(10,5),style='o-',kind='bar',label='smart',alpha=0.5, ax=ax)"
   ]
  },
  {
   "cell_type": "code",
   "execution_count": 106,
   "metadata": {},
   "outputs": [
    {
     "data": {
      "text/plain": [
       "<AxesSubplot:xlabel='month'>"
      ]
     },
     "execution_count": 106,
     "metadata": {},
     "output_type": "execute_result"
    },
    {
     "data": {
      "image/png": "[encoded data removed]",
      "text/plain": [
       "<Figure size 720x360 with 1 Axes>"
      ]
     },
     "metadata": {
      "needs_background": "light"
     },
     "output_type": "display_data"
    }
   ],
   "source": [
    "ax=tariff_ultra.plot(y='gb_used',figsize=(10,5),style='o-',kind='bar',label='ultra')\n",
    "#plt.show()\n",
    "tariff_smart.plot(y='gb_used',figsize=(10,5),style='o-',kind='bar',label='smart',alpha=0.5, ax=ax)"
   ]
  },
  {
   "cell_type": "markdown",
   "metadata": {},
   "source": [
    "**Вывод**: Из гистограмм видно, что в общем люди пользующиеся тарифом Smart тратят больше минут, смс, и гб."
   ]
  },
  {
   "cell_type": "markdown",
   "metadata": {},
   "source": [
    "### Посчитаем среднее количество, дисперсию и стандартное отклонение."
   ]
  },
  {
   "cell_type": "markdown",
   "metadata": {},
   "source": [
    "#### Выделим тариф smart"
   ]
  },
  {
   "cell_type": "code",
   "execution_count": 107,
   "metadata": {
    "scrolled": true
   },
   "outputs": [
    {
     "data": {
      "text/html": [
       "<div>\n",
       "<style scoped>\n",
       "    .dataframe tbody tr th:only-of-type {\n",
       "        vertical-align: middle;\n",
       "    }\n",
       "\n",
       "    .dataframe tbody tr th {\n",
       "        vertical-align: top;\n",
       "    }\n",
       "\n",
       "    .dataframe thead th {\n",
       "        text-align: right;\n",
       "    }\n",
       "</style>\n",
       "<table border=\"1\" class=\"dataframe\">\n",
       "  <thead>\n",
       "    <tr style=\"text-align: right;\">\n",
       "      <th></th>\n",
       "      <th>user_id</th>\n",
       "      <th>month</th>\n",
       "      <th>sum_duration</th>\n",
       "      <th>count_duration</th>\n",
       "      <th>count_message_date</th>\n",
       "      <th>sum_mb_used</th>\n",
       "      <th>city</th>\n",
       "      <th>tariff</th>\n",
       "      <th>messages_included</th>\n",
       "      <th>mb_per_month_included</th>\n",
       "      <th>minutes_included</th>\n",
       "      <th>rub_monthly_fee</th>\n",
       "      <th>rub_per_gb</th>\n",
       "      <th>rub_per_message</th>\n",
       "      <th>rub_per_minute</th>\n",
       "      <th>gb_used</th>\n",
       "      <th>gb_included</th>\n",
       "      <th>money</th>\n",
       "    </tr>\n",
       "  </thead>\n",
       "  <tbody>\n",
       "    <tr>\n",
       "      <th>0</th>\n",
       "      <td>1005</td>\n",
       "      <td>1</td>\n",
       "      <td>95.0</td>\n",
       "      <td>15.0</td>\n",
       "      <td>7.0</td>\n",
       "      <td>2730.0</td>\n",
       "      <td>Набережные Челны</td>\n",
       "      <td>smart</td>\n",
       "      <td>50</td>\n",
       "      <td>15360</td>\n",
       "      <td>500</td>\n",
       "      <td>550</td>\n",
       "      <td>200</td>\n",
       "      <td>3</td>\n",
       "      <td>3</td>\n",
       "      <td>2.666016</td>\n",
       "      <td>15.0</td>\n",
       "      <td>550.000000</td>\n",
       "    </tr>\n",
       "    <tr>\n",
       "      <th>1</th>\n",
       "      <td>1032</td>\n",
       "      <td>1</td>\n",
       "      <td>380.0</td>\n",
       "      <td>61.0</td>\n",
       "      <td>38.0</td>\n",
       "      <td>24147.0</td>\n",
       "      <td>Ульяновск</td>\n",
       "      <td>smart</td>\n",
       "      <td>50</td>\n",
       "      <td>15360</td>\n",
       "      <td>500</td>\n",
       "      <td>550</td>\n",
       "      <td>200</td>\n",
       "      <td>3</td>\n",
       "      <td>3</td>\n",
       "      <td>23.581055</td>\n",
       "      <td>15.0</td>\n",
       "      <td>2266.210938</td>\n",
       "    </tr>\n",
       "    <tr>\n",
       "      <th>2</th>\n",
       "      <td>1045</td>\n",
       "      <td>1</td>\n",
       "      <td>9.0</td>\n",
       "      <td>1.0</td>\n",
       "      <td>5.0</td>\n",
       "      <td>2348.0</td>\n",
       "      <td>Улан-Удэ</td>\n",
       "      <td>smart</td>\n",
       "      <td>50</td>\n",
       "      <td>15360</td>\n",
       "      <td>500</td>\n",
       "      <td>550</td>\n",
       "      <td>200</td>\n",
       "      <td>3</td>\n",
       "      <td>3</td>\n",
       "      <td>2.292969</td>\n",
       "      <td>15.0</td>\n",
       "      <td>550.000000</td>\n",
       "    </tr>\n",
       "    <tr>\n",
       "      <th>3</th>\n",
       "      <td>1055</td>\n",
       "      <td>1</td>\n",
       "      <td>551.0</td>\n",
       "      <td>64.0</td>\n",
       "      <td>30.0</td>\n",
       "      <td>17111.0</td>\n",
       "      <td>Казань</td>\n",
       "      <td>smart</td>\n",
       "      <td>50</td>\n",
       "      <td>15360</td>\n",
       "      <td>500</td>\n",
       "      <td>550</td>\n",
       "      <td>200</td>\n",
       "      <td>3</td>\n",
       "      <td>3</td>\n",
       "      <td>16.709961</td>\n",
       "      <td>15.0</td>\n",
       "      <td>1044.992188</td>\n",
       "    </tr>\n",
       "    <tr>\n",
       "      <th>4</th>\n",
       "      <td>1071</td>\n",
       "      <td>1</td>\n",
       "      <td>194.0</td>\n",
       "      <td>24.0</td>\n",
       "      <td>16.0</td>\n",
       "      <td>15622.0</td>\n",
       "      <td>Омск</td>\n",
       "      <td>smart</td>\n",
       "      <td>50</td>\n",
       "      <td>15360</td>\n",
       "      <td>500</td>\n",
       "      <td>550</td>\n",
       "      <td>200</td>\n",
       "      <td>3</td>\n",
       "      <td>3</td>\n",
       "      <td>15.255859</td>\n",
       "      <td>15.0</td>\n",
       "      <td>601.171875</td>\n",
       "    </tr>\n",
       "  </tbody>\n",
       "</table>\n",
       "</div>"
      ],
      "text/plain": [
       "   user_id  month  sum_duration  count_duration  count_message_date  \\\n",
       "0     1005      1          95.0            15.0                 7.0   \n",
       "1     1032      1         380.0            61.0                38.0   \n",
       "2     1045      1           9.0             1.0                 5.0   \n",
       "3     1055      1         551.0            64.0                30.0   \n",
       "4     1071      1         194.0            24.0                16.0   \n",
       "\n",
       "   sum_mb_used              city tariff  messages_included  \\\n",
       "0       2730.0  Набережные Челны  smart                 50   \n",
       "1      24147.0         Ульяновск  smart                 50   \n",
       "2       2348.0          Улан-Удэ  smart                 50   \n",
       "3      17111.0            Казань  smart                 50   \n",
       "4      15622.0              Омск  smart                 50   \n",
       "\n",
       "   mb_per_month_included  minutes_included  rub_monthly_fee  rub_per_gb  \\\n",
       "0                  15360               500              550         200   \n",
       "1                  15360               500              550         200   \n",
       "2                  15360               500              550         200   \n",
       "3                  15360               500              550         200   \n",
       "4                  15360               500              550         200   \n",
       "\n",
       "   rub_per_message  rub_per_minute    gb_used  gb_included        money  \n",
       "0                3               3   2.666016         15.0   550.000000  \n",
       "1                3               3  23.581055         15.0  2266.210938  \n",
       "2                3               3   2.292969         15.0   550.000000  \n",
       "3                3               3  16.709961         15.0  1044.992188  \n",
       "4                3               3  15.255859         15.0   601.171875  "
      ]
     },
     "execution_count": 107,
     "metadata": {},
     "output_type": "execute_result"
    }
   ],
   "source": [
    "tariff_smart_group=grouped_all.query('tariff==\"smart\"') # выделим тариф smart\n",
    "tariff_smart_group.head()"
   ]
  },
  {
   "cell_type": "code",
   "execution_count": 108,
   "metadata": {},
   "outputs": [
    {
     "name": "stdout",
     "output_type": "stream",
     "text": [
      "Cреднее кол-во звонков по тарифу Smart: 244.83954154727795\n",
      "Cреднее кол-во сообщений по тарифу Smart: 23.174657534246574\n",
      "Cреднее кол-во потраченных гигабайт по тарифу Smart: 9.263036689648997\n"
     ]
    }
   ],
   "source": [
    "call_mean_smart=tariff_smart_group['sum_duration'].mean()\n",
    "print ('Cреднее кол-во звонков по тарифу Smart:',call_mean_smart )  #в тарифе 500 мин разговора\n",
    "\n",
    "mess_mean_smart = tariff_smart_group['count_message_date'].mean()\n",
    "print ('Cреднее кол-во сообщений по тарифу Smart:',mess_mean_smart) # в тарифе 50 сообщений\n",
    "\n",
    "gb_mean_smart = tariff_smart_group['gb_used'].mean()\n",
    "print ('Cреднее кол-во потраченных гигабайт по тарифу Smart:', gb_mean_smart) # в тарифе 15 Гб"
   ]
  },
  {
   "cell_type": "markdown",
   "metadata": {},
   "source": [
    "Видим, что в среднем пользователи тарифа Smart укладываются в отведенный тарифом лимит."
   ]
  },
  {
   "cell_type": "code",
   "execution_count": 109,
   "metadata": {},
   "outputs": [
    {
     "name": "stdout",
     "output_type": "stream",
     "text": [
      "Дисперсия кол-во звонков по тарифу Smart: sum_duration    25839.200614\n",
      "dtype: float64\n",
      "Дисперсия кол-во звонков по тарифу Smart: count_message_date    427.651002\n",
      "dtype: float64\n",
      "Дисперсия кол-во звонков по тарифу Smart: gb_used    31.804648\n",
      "dtype: float64\n"
     ]
    }
   ],
   "source": [
    "call_var_smart = np.var(tariff_smart_group[['sum_duration']])\n",
    "print ('Дисперсия кол-во звонков по тарифу Smart:', call_var_smart)\n",
    "\n",
    "mess_var_smart = np.var(tariff_smart_group[['count_message_date']])\n",
    "print ('Дисперсия кол-во звонков по тарифу Smart:', mess_var_smart)\n",
    "\n",
    "gb_var_smart = np.var(tariff_smart_group[['gb_used']])\n",
    "print ('Дисперсия кол-во звонков по тарифу Smart:', gb_var_smart)"
   ]
  },
  {
   "cell_type": "code",
   "execution_count": 110,
   "metadata": {},
   "outputs": [
    {
     "name": "stdout",
     "output_type": "stream",
     "text": [
      "стандартное отклонение кол-во звонков по тарифу Smart: sum_duration    160.745764\n",
      "dtype: float64\n",
      "стандартное отклонение кол-во звонков по тарифу Smart: count_message_date    20.679724\n",
      "dtype: float64\n",
      "стандартное отклонение кол-во звонков по тарифу Smart: gb_used    5.639561\n",
      "dtype: float64\n"
     ]
    }
   ],
   "source": [
    "call_sig_smart = call_var_smart**0.5\n",
    "print ('стандартное отклонение кол-во звонков по тарифу Smart:', call_sig_smart)\n",
    "\n",
    "mess_sig_smart = mess_var_smart**0.5\n",
    "print ('стандартное отклонение кол-во звонков по тарифу Smart:', mess_sig_smart)\n",
    "\n",
    "gb_sig_smart = gb_var_smart**0.5\n",
    "print ('стандартное отклонение кол-во звонков по тарифу Smart:', gb_sig_smart)"
   ]
  },
  {
   "cell_type": "code",
   "execution_count": 111,
   "metadata": {},
   "outputs": [
    {
     "data": {
      "text/plain": [
       "<AxesSubplot:>"
      ]
     },
     "execution_count": 111,
     "metadata": {},
     "output_type": "execute_result"
    },
    {
     "data": {
      "image/png": "[encoded data removed]",
      "text/plain": [
       "<Figure size 432x288 with 1 Axes>"
      ]
     },
     "metadata": {
      "needs_background": "light"
     },
     "output_type": "display_data"
    }
   ],
   "source": [
    "tariff_smart_group['sum_duration'].hist(bins=50, range =(0,1000))"
   ]
  },
  {
   "cell_type": "code",
   "execution_count": 112,
   "metadata": {},
   "outputs": [
    {
     "data": {
      "text/plain": [
       "<AxesSubplot:>"
      ]
     },
     "execution_count": 112,
     "metadata": {},
     "output_type": "execute_result"
    },
    {
     "data": {
      "image/png": "[encoded data removed]",
      "text/plain": [
       "<Figure size 432x288 with 1 Axes>"
      ]
     },
     "metadata": {
      "needs_background": "light"
     },
     "output_type": "display_data"
    }
   ],
   "source": [
    "tariff_smart_group['count_message_date'].hist(bins=20, range =(0,100))"
   ]
  },
  {
   "cell_type": "code",
   "execution_count": 113,
   "metadata": {},
   "outputs": [
    {
     "data": {
      "text/plain": [
       "<AxesSubplot:>"
      ]
     },
     "execution_count": 113,
     "metadata": {},
     "output_type": "execute_result"
    },
    {
     "data": {
      "image/png": "[encoded data removed]",
      "text/plain": [
       "<Figure size 432x288 with 1 Axes>"
      ]
     },
     "metadata": {
      "needs_background": "light"
     },
     "output_type": "display_data"
    }
   ],
   "source": [
    "tariff_smart_group['gb_used'].hist(bins=15, range =(0,30))"
   ]
  },
  {
   "cell_type": "markdown",
   "metadata": {},
   "source": [
    "**Вывод**:\n",
    "\n",
    "Видно, что по всем показателям в основном абоненты тарифа Smart предпочитают не выходить за рамки предоставленных минут, смс и интернета. Но есть те которым не хватает предоставленных лимитов. Возможно именно с этими абонентами есть смысл связаться нашим менеджерам и предложить им более продвинутый тариф."
   ]
  },
  {
   "cell_type": "markdown",
   "metadata": {},
   "source": [
    "#### Выделим тариф ultra"
   ]
  },
  {
   "cell_type": "code",
   "execution_count": 114,
   "metadata": {},
   "outputs": [
    {
     "data": {
      "text/html": [
       "<div>\n",
       "<style scoped>\n",
       "    .dataframe tbody tr th:only-of-type {\n",
       "        vertical-align: middle;\n",
       "    }\n",
       "\n",
       "    .dataframe tbody tr th {\n",
       "        vertical-align: top;\n",
       "    }\n",
       "\n",
       "    .dataframe thead th {\n",
       "        text-align: right;\n",
       "    }\n",
       "</style>\n",
       "<table border=\"1\" class=\"dataframe\">\n",
       "  <thead>\n",
       "    <tr style=\"text-align: right;\">\n",
       "      <th></th>\n",
       "      <th>user_id</th>\n",
       "      <th>month</th>\n",
       "      <th>sum_duration</th>\n",
       "      <th>count_duration</th>\n",
       "      <th>count_message_date</th>\n",
       "      <th>sum_mb_used</th>\n",
       "      <th>city</th>\n",
       "      <th>tariff</th>\n",
       "      <th>messages_included</th>\n",
       "      <th>mb_per_month_included</th>\n",
       "      <th>minutes_included</th>\n",
       "      <th>rub_monthly_fee</th>\n",
       "      <th>rub_per_gb</th>\n",
       "      <th>rub_per_message</th>\n",
       "      <th>rub_per_minute</th>\n",
       "      <th>gb_used</th>\n",
       "      <th>gb_included</th>\n",
       "      <th>money</th>\n",
       "    </tr>\n",
       "  </thead>\n",
       "  <tbody>\n",
       "    <tr>\n",
       "      <th>350</th>\n",
       "      <td>1120</td>\n",
       "      <td>1</td>\n",
       "      <td>55.0</td>\n",
       "      <td>5.0</td>\n",
       "      <td>NaN</td>\n",
       "      <td>657.0</td>\n",
       "      <td>Краснодар</td>\n",
       "      <td>ultra</td>\n",
       "      <td>1000</td>\n",
       "      <td>30720</td>\n",
       "      <td>3000</td>\n",
       "      <td>1950</td>\n",
       "      <td>150</td>\n",
       "      <td>1</td>\n",
       "      <td>1</td>\n",
       "      <td>0.641602</td>\n",
       "      <td>30.0</td>\n",
       "      <td>1950.0</td>\n",
       "    </tr>\n",
       "    <tr>\n",
       "      <th>351</th>\n",
       "      <td>1126</td>\n",
       "      <td>1</td>\n",
       "      <td>272.0</td>\n",
       "      <td>35.0</td>\n",
       "      <td>4.0</td>\n",
       "      <td>16377.0</td>\n",
       "      <td>Санкт-Петербург</td>\n",
       "      <td>ultra</td>\n",
       "      <td>1000</td>\n",
       "      <td>30720</td>\n",
       "      <td>3000</td>\n",
       "      <td>1950</td>\n",
       "      <td>150</td>\n",
       "      <td>1</td>\n",
       "      <td>1</td>\n",
       "      <td>15.993164</td>\n",
       "      <td>30.0</td>\n",
       "      <td>1950.0</td>\n",
       "    </tr>\n",
       "    <tr>\n",
       "      <th>352</th>\n",
       "      <td>1168</td>\n",
       "      <td>1</td>\n",
       "      <td>277.0</td>\n",
       "      <td>38.0</td>\n",
       "      <td>14.0</td>\n",
       "      <td>8161.0</td>\n",
       "      <td>Кострома</td>\n",
       "      <td>ultra</td>\n",
       "      <td>1000</td>\n",
       "      <td>30720</td>\n",
       "      <td>3000</td>\n",
       "      <td>1950</td>\n",
       "      <td>150</td>\n",
       "      <td>1</td>\n",
       "      <td>1</td>\n",
       "      <td>7.969727</td>\n",
       "      <td>30.0</td>\n",
       "      <td>1950.0</td>\n",
       "    </tr>\n",
       "    <tr>\n",
       "      <th>353</th>\n",
       "      <td>1254</td>\n",
       "      <td>1</td>\n",
       "      <td>466.0</td>\n",
       "      <td>59.0</td>\n",
       "      <td>NaN</td>\n",
       "      <td>19707.0</td>\n",
       "      <td>Москва</td>\n",
       "      <td>ultra</td>\n",
       "      <td>1000</td>\n",
       "      <td>30720</td>\n",
       "      <td>3000</td>\n",
       "      <td>1950</td>\n",
       "      <td>150</td>\n",
       "      <td>1</td>\n",
       "      <td>1</td>\n",
       "      <td>19.245117</td>\n",
       "      <td>30.0</td>\n",
       "      <td>1950.0</td>\n",
       "    </tr>\n",
       "    <tr>\n",
       "      <th>354</th>\n",
       "      <td>1375</td>\n",
       "      <td>1</td>\n",
       "      <td>852.0</td>\n",
       "      <td>126.0</td>\n",
       "      <td>75.0</td>\n",
       "      <td>14563.0</td>\n",
       "      <td>Пенза</td>\n",
       "      <td>ultra</td>\n",
       "      <td>1000</td>\n",
       "      <td>30720</td>\n",
       "      <td>3000</td>\n",
       "      <td>1950</td>\n",
       "      <td>150</td>\n",
       "      <td>1</td>\n",
       "      <td>1</td>\n",
       "      <td>14.221680</td>\n",
       "      <td>30.0</td>\n",
       "      <td>1950.0</td>\n",
       "    </tr>\n",
       "    <tr>\n",
       "      <th>...</th>\n",
       "      <td>...</td>\n",
       "      <td>...</td>\n",
       "      <td>...</td>\n",
       "      <td>...</td>\n",
       "      <td>...</td>\n",
       "      <td>...</td>\n",
       "      <td>...</td>\n",
       "      <td>...</td>\n",
       "      <td>...</td>\n",
       "      <td>...</td>\n",
       "      <td>...</td>\n",
       "      <td>...</td>\n",
       "      <td>...</td>\n",
       "      <td>...</td>\n",
       "      <td>...</td>\n",
       "      <td>...</td>\n",
       "      <td>...</td>\n",
       "      <td>...</td>\n",
       "    </tr>\n",
       "    <tr>\n",
       "      <th>493</th>\n",
       "      <td>1091</td>\n",
       "      <td>5</td>\n",
       "      <td>NaN</td>\n",
       "      <td>NaN</td>\n",
       "      <td>30.0</td>\n",
       "      <td>10714.0</td>\n",
       "      <td>Набережные Челны</td>\n",
       "      <td>ultra</td>\n",
       "      <td>1000</td>\n",
       "      <td>30720</td>\n",
       "      <td>3000</td>\n",
       "      <td>1950</td>\n",
       "      <td>150</td>\n",
       "      <td>1</td>\n",
       "      <td>1</td>\n",
       "      <td>10.462891</td>\n",
       "      <td>30.0</td>\n",
       "      <td>1950.0</td>\n",
       "    </tr>\n",
       "    <tr>\n",
       "      <th>494</th>\n",
       "      <td>1231</td>\n",
       "      <td>5</td>\n",
       "      <td>NaN</td>\n",
       "      <td>NaN</td>\n",
       "      <td>55.0</td>\n",
       "      <td>10868.0</td>\n",
       "      <td>Чебоксары</td>\n",
       "      <td>ultra</td>\n",
       "      <td>1000</td>\n",
       "      <td>30720</td>\n",
       "      <td>3000</td>\n",
       "      <td>1950</td>\n",
       "      <td>150</td>\n",
       "      <td>1</td>\n",
       "      <td>1</td>\n",
       "      <td>10.613281</td>\n",
       "      <td>30.0</td>\n",
       "      <td>1950.0</td>\n",
       "    </tr>\n",
       "    <tr>\n",
       "      <th>495</th>\n",
       "      <td>1473</td>\n",
       "      <td>8</td>\n",
       "      <td>NaN</td>\n",
       "      <td>NaN</td>\n",
       "      <td>17.0</td>\n",
       "      <td>12917.0</td>\n",
       "      <td>Красноярск</td>\n",
       "      <td>ultra</td>\n",
       "      <td>1000</td>\n",
       "      <td>30720</td>\n",
       "      <td>3000</td>\n",
       "      <td>1950</td>\n",
       "      <td>150</td>\n",
       "      <td>1</td>\n",
       "      <td>1</td>\n",
       "      <td>12.614258</td>\n",
       "      <td>30.0</td>\n",
       "      <td>1950.0</td>\n",
       "    </tr>\n",
       "    <tr>\n",
       "      <th>496</th>\n",
       "      <td>1328</td>\n",
       "      <td>10</td>\n",
       "      <td>NaN</td>\n",
       "      <td>NaN</td>\n",
       "      <td>6.0</td>\n",
       "      <td>22447.0</td>\n",
       "      <td>Мурманск</td>\n",
       "      <td>ultra</td>\n",
       "      <td>1000</td>\n",
       "      <td>30720</td>\n",
       "      <td>3000</td>\n",
       "      <td>1950</td>\n",
       "      <td>150</td>\n",
       "      <td>1</td>\n",
       "      <td>1</td>\n",
       "      <td>21.920898</td>\n",
       "      <td>30.0</td>\n",
       "      <td>1950.0</td>\n",
       "    </tr>\n",
       "    <tr>\n",
       "      <th>497</th>\n",
       "      <td>1476</td>\n",
       "      <td>4</td>\n",
       "      <td>NaN</td>\n",
       "      <td>NaN</td>\n",
       "      <td>NaN</td>\n",
       "      <td>531.0</td>\n",
       "      <td>Москва</td>\n",
       "      <td>ultra</td>\n",
       "      <td>1000</td>\n",
       "      <td>30720</td>\n",
       "      <td>3000</td>\n",
       "      <td>1950</td>\n",
       "      <td>150</td>\n",
       "      <td>1</td>\n",
       "      <td>1</td>\n",
       "      <td>0.518555</td>\n",
       "      <td>30.0</td>\n",
       "      <td>1950.0</td>\n",
       "    </tr>\n",
       "  </tbody>\n",
       "</table>\n",
       "<p>148 rows × 18 columns</p>\n",
       "</div>"
      ],
      "text/plain": [
       "     user_id  month  sum_duration  count_duration  count_message_date  \\\n",
       "350     1120      1          55.0             5.0                 NaN   \n",
       "351     1126      1         272.0            35.0                 4.0   \n",
       "352     1168      1         277.0            38.0                14.0   \n",
       "353     1254      1         466.0            59.0                 NaN   \n",
       "354     1375      1         852.0           126.0                75.0   \n",
       "..       ...    ...           ...             ...                 ...   \n",
       "493     1091      5           NaN             NaN                30.0   \n",
       "494     1231      5           NaN             NaN                55.0   \n",
       "495     1473      8           NaN             NaN                17.0   \n",
       "496     1328     10           NaN             NaN                 6.0   \n",
       "497     1476      4           NaN             NaN                 NaN   \n",
       "\n",
       "     sum_mb_used              city tariff  messages_included  \\\n",
       "350        657.0         Краснодар  ultra               1000   \n",
       "351      16377.0   Санкт-Петербург  ultra               1000   \n",
       "352       8161.0          Кострома  ultra               1000   \n",
       "353      19707.0            Москва  ultra               1000   \n",
       "354      14563.0             Пенза  ultra               1000   \n",
       "..           ...               ...    ...                ...   \n",
       "493      10714.0  Набережные Челны  ultra               1000   \n",
       "494      10868.0         Чебоксары  ultra               1000   \n",
       "495      12917.0        Красноярск  ultra               1000   \n",
       "496      22447.0          Мурманск  ultra               1000   \n",
       "497        531.0            Москва  ultra               1000   \n",
       "\n",
       "     mb_per_month_included  minutes_included  rub_monthly_fee  rub_per_gb  \\\n",
       "350                  30720              3000             1950         150   \n",
       "351                  30720              3000             1950         150   \n",
       "352                  30720              3000             1950         150   \n",
       "353                  30720              3000             1950         150   \n",
       "354                  30720              3000             1950         150   \n",
       "..                     ...               ...              ...         ...   \n",
       "493                  30720              3000             1950         150   \n",
       "494                  30720              3000             1950         150   \n",
       "495                  30720              3000             1950         150   \n",
       "496                  30720              3000             1950         150   \n",
       "497                  30720              3000             1950         150   \n",
       "\n",
       "     rub_per_message  rub_per_minute    gb_used  gb_included   money  \n",
       "350                1               1   0.641602         30.0  1950.0  \n",
       "351                1               1  15.993164         30.0  1950.0  \n",
       "352                1               1   7.969727         30.0  1950.0  \n",
       "353                1               1  19.245117         30.0  1950.0  \n",
       "354                1               1  14.221680         30.0  1950.0  \n",
       "..               ...             ...        ...          ...     ...  \n",
       "493                1               1  10.462891         30.0  1950.0  \n",
       "494                1               1  10.613281         30.0  1950.0  \n",
       "495                1               1  12.614258         30.0  1950.0  \n",
       "496                1               1  21.920898         30.0  1950.0  \n",
       "497                1               1   0.518555         30.0  1950.0  \n",
       "\n",
       "[148 rows x 18 columns]"
      ]
     },
     "execution_count": 114,
     "metadata": {},
     "output_type": "execute_result"
    }
   ],
   "source": [
    "tariff_ultra_group=grouped_all.query('tariff==\"ultra\"') # выделим тариф ultra\n",
    "tariff_ultra_group"
   ]
  },
  {
   "cell_type": "code",
   "execution_count": 115,
   "metadata": {},
   "outputs": [
    {
     "name": "stdout",
     "output_type": "stream",
     "text": [
      "Cреднее кол-во звонков по тарифу Smart: 313.92957746478874\n",
      "Cреднее кол-во сообщений по тарифу Smart: 38.97520661157025\n",
      "Cреднее кол-во потраченных гигабайт по тарифу Smart: 11.158573545258621\n"
     ]
    }
   ],
   "source": [
    "call_mean_ultra=tariff_ultra_group['sum_duration'].mean()\n",
    "print ('Cреднее кол-во звонков по тарифу Smart:',call_mean_ultra )  #в тарифе 3000 мин разговора\n",
    "\n",
    "mess_mean_ultra = tariff_ultra_group['count_message_date'].mean()\n",
    "print ('Cреднее кол-во сообщений по тарифу Smart:',mess_mean_ultra) # в тарифе 1000 сообщений\n",
    "\n",
    "gb_mean_ultra = tariff_ultra_group['gb_used'].mean()\n",
    "print ('Cреднее кол-во потраченных гигабайт по тарифу Smart:', gb_mean_ultra) # в тарифе 30 Гб"
   ]
  },
  {
   "cell_type": "code",
   "execution_count": 116,
   "metadata": {},
   "outputs": [
    {
     "name": "stdout",
     "output_type": "stream",
     "text": [
      "Дисперсия кол-во звонков по тарифу Smart: sum_duration    25839.200614\n",
      "dtype: float64\n",
      "Дисперсия кол-во звонков по тарифу Smart: count_message_date    427.651002\n",
      "dtype: float64\n",
      "Дисперсия кол-во звонков по тарифу Smart: gb_used    31.804648\n",
      "dtype: float64\n"
     ]
    }
   ],
   "source": [
    "call_var_ultra = np.var(tariff_ultra_group[['sum_duration']])\n",
    "print ('Дисперсия кол-во звонков по тарифу Smart:', call_var_smart)\n",
    "\n",
    "mess_var_ultra = np.var(tariff_ultra_group[['count_message_date']])\n",
    "print ('Дисперсия кол-во звонков по тарифу Smart:', mess_var_smart)\n",
    "\n",
    "gb_var_ultra = np.var(tariff_ultra_group[['gb_used']])\n",
    "print ('Дисперсия кол-во звонков по тарифу Smart:', gb_var_smart)"
   ]
  },
  {
   "cell_type": "code",
   "execution_count": 117,
   "metadata": {},
   "outputs": [
    {
     "name": "stdout",
     "output_type": "stream",
     "text": [
      "стандартное отклонение кол-во звонков по тарифу Smart: sum_duration    160.745764\n",
      "dtype: float64\n",
      "стандартное отклонение кол-во звонков по тарифу Smart: count_message_date    20.679724\n",
      "dtype: float64\n",
      "стандартное отклонение кол-во звонков по тарифу Smart: gb_used    5.639561\n",
      "dtype: float64\n"
     ]
    }
   ],
   "source": [
    "call_sig_ultra = np.sqrt(call_var_ultra)\n",
    "print ('стандартное отклонение кол-во звонков по тарифу Smart:', call_sig_smart)\n",
    "\n",
    "mess_sig_ultra = np.sqrt(mess_var_ultra)\n",
    "print ('стандартное отклонение кол-во звонков по тарифу Smart:', mess_sig_smart)\n",
    "\n",
    "gb_sig_ultra = np.sqrt(gb_var_ultra)\n",
    "print ('стандартное отклонение кол-во звонков по тарифу Smart:', gb_sig_smart)"
   ]
  },
  {
   "cell_type": "code",
   "execution_count": 118,
   "metadata": {},
   "outputs": [
    {
     "data": {
      "text/plain": [
       "<AxesSubplot:>"
      ]
     },
     "execution_count": 118,
     "metadata": {},
     "output_type": "execute_result"
    },
    {
     "data": {
      "image/png": "[encoded data removed]",
      "text/plain": [
       "<Figure size 432x288 with 1 Axes>"
      ]
     },
     "metadata": {
      "needs_background": "light"
     },
     "output_type": "display_data"
    }
   ],
   "source": [
    "tariff_ultra_group['sum_duration'].hist(bins=50, range =(0,3000))"
   ]
  },
  {
   "cell_type": "code",
   "execution_count": 119,
   "metadata": {},
   "outputs": [
    {
     "data": {
      "text/plain": [
       "<AxesSubplot:>"
      ]
     },
     "execution_count": 119,
     "metadata": {},
     "output_type": "execute_result"
    },
    {
     "data": {
      "image/png": "[encoded data removed]",
      "text/plain": [
       "<Figure size 432x288 with 1 Axes>"
      ]
     },
     "metadata": {
      "needs_background": "light"
     },
     "output_type": "display_data"
    }
   ],
   "source": [
    "tariff_ultra_group['count_message_date'].hist(bins=50, range =(0,600))"
   ]
  },
  {
   "cell_type": "code",
   "execution_count": 120,
   "metadata": {},
   "outputs": [
    {
     "data": {
      "text/plain": [
       "<AxesSubplot:>"
      ]
     },
     "execution_count": 120,
     "metadata": {},
     "output_type": "execute_result"
    },
    {
     "data": {
      "image/png": "[encoded data removed]",
      "text/plain": [
       "<Figure size 432x288 with 1 Axes>"
      ]
     },
     "metadata": {
      "needs_background": "light"
     },
     "output_type": "display_data"
    }
   ],
   "source": [
    "tariff_ultra_group['gb_used'].hist(bins=10, range =(0,40))"
   ]
  },
  {
   "cell_type": "markdown",
   "metadata": {},
   "source": [
    "**Вывод**: \n",
    "\n",
    "Видно, что абонеты тарифа Ultra по кол-воам минут разговра и смс сообщений никогда не выходят за рамки предоставленных тарифом лимитов. При этом некоторым абонентам иногда не хвататет предоставленного интернета. Думаю если добавить по этому тарифу несколько гигабайт интернета и убавить смс ,то это будет весовым конкурентым преимуществом для наших абонетов, чтобы они не ушли к другим."
   ]
  },
  {
   "cell_type": "markdown",
   "metadata": {},
   "source": [
    "## Проверим гипотизы"
   ]
  },
  {
   "cell_type": "markdown",
   "metadata": {},
   "source": [
    "### Проверка гипотезы: средняя выручка пользователей тарифов «Ультра» и «Смарт»."
   ]
  },
  {
   "cell_type": "markdown",
   "metadata": {},
   "source": [
    "<div style=\"border:solid blue 2px; padding: 20px\"> \n",
    "    \n",
    "Считаем нулевую гипотизу, что средняя выручка от ползователей тарифов «Ультра» и «Смарт» равны. Алтернативная теория, что средние тарифов не равны."
   ]
  },
  {
   "cell_type": "markdown",
   "metadata": {},
   "source": [
    "Проверим равны ли дисперсии."
   ]
  },
  {
   "cell_type": "code",
   "execution_count": 121,
   "metadata": {},
   "outputs": [
    {
     "data": {
      "text/plain": [
       "141774.772988628"
      ]
     },
     "execution_count": 121,
     "metadata": {},
     "output_type": "execute_result"
    }
   ],
   "source": [
    "np.var(tariff_smart_group['money'])"
   ]
  },
  {
   "cell_type": "code",
   "execution_count": 122,
   "metadata": {},
   "outputs": [
    {
     "data": {
      "text/plain": [
       "4144.227640897884"
      ]
     },
     "execution_count": 122,
     "metadata": {},
     "output_type": "execute_result"
    }
   ],
   "source": [
    "np.var(tariff_ultra_group['money'])"
   ]
  },
  {
   "cell_type": "markdown",
   "metadata": {},
   "source": [
    "дисперсии не равны, значит прими equal_var=False (до этого было True)"
   ]
  },
  {
   "cell_type": "code",
   "execution_count": 123,
   "metadata": {},
   "outputs": [
    {
     "name": "stdout",
     "output_type": "stream",
     "text": [
      "Отвергаем нулевую гипотезу\n"
     ]
    }
   ],
   "source": [
    "results=st.ttest_ind(tariff_smart_group['money'],tariff_ultra_group['money'],equal_var=False ) \n",
    "alpha = .05 # критический уровень статистической значимости\n",
    "results.pvalue\n",
    "\n",
    "if (results.pvalue<alpha):\n",
    "    print('Отвергаем нулевую гипотезу')\n",
    "else:\n",
    "    print('Не получилость отвергнуть нулевую гипотезу')\n"
   ]
  },
  {
   "cell_type": "markdown",
   "metadata": {},
   "source": [
    "**Вывод**:\n",
    "\n",
    "Мы отвергли нулевую гипотизу и приняли альтернативную гиипотизу, что среднее тарифов не равны. \n"
   ]
  },
  {
   "cell_type": "code",
   "execution_count": 124,
   "metadata": {},
   "outputs": [],
   "source": [
    "#alpha = .05 # критический уровень статистической значимости"
   ]
  },
  {
   "cell_type": "code",
   "execution_count": 125,
   "metadata": {},
   "outputs": [],
   "source": [
    "#interested_value=tariff_ultra_group['money'].mean() # среднее значение потраченных денег для тарифа ultra"
   ]
  },
  {
   "cell_type": "code",
   "execution_count": 126,
   "metadata": {},
   "outputs": [],
   "source": [
    "#results = st.ttest_1samp(tariff_smart_group['money'], interested_value)\n",
    " \n",
    "#results.pvalue/2\n"
   ]
  },
  {
   "cell_type": "code",
   "execution_count": 128,
   "metadata": {},
   "outputs": [],
   "source": [
    "#if (results.pvalue/2 < alpha) and (tariff_smart_group['money'].mean() > interested_value):\n",
    "  #  print('Отвергаем нулевую гипотезу')\n",
    "#else:\n",
    "   # print('Не получилось отвергнуть нулевую гипотезу')\n"
   ]
  },
  {
   "cell_type": "markdown",
   "metadata": {},
   "source": [
    "Наша гипотиза подтвердилась. Выручка от тарифа \"Смарт\" больше чем выручка тарифа \"Ультра\"."
   ]
  },
  {
   "cell_type": "markdown",
   "metadata": {},
   "source": [
    "### Проверим гипотизу, что средняя выручка пользователей из Москвы отличается от выручки пользователей из других регионов.\n",
    "\n"
   ]
  },
  {
   "cell_type": "code",
   "execution_count": null,
   "metadata": {},
   "outputs": [],
   "source": [
    "moscow_city=grouped_all.query('city==\"Москва\"')"
   ]
  },
  {
   "cell_type": "code",
   "execution_count": null,
   "metadata": {},
   "outputs": [],
   "source": [
    "other_city=grouped_all.query('city!=\"Москва\"')"
   ]
  },
  {
   "cell_type": "code",
   "execution_count": null,
   "metadata": {},
   "outputs": [],
   "source": []
  },
  {
   "cell_type": "code",
   "execution_count": null,
   "metadata": {},
   "outputs": [],
   "source": [
    "results=st.ttest_ind(moscow_city['money'], other_city['money'],equal_var=True) \n",
    "results.pvalue\n",
    "\n",
    "if (results.pvalue<alpha):\n",
    "    print('Отвергаем нулевую гипотезу')\n",
    "else:\n",
    "    print('Не получилость отвергнуть нулевую гипотезу')"
   ]
  },
  {
   "cell_type": "markdown",
   "metadata": {},
   "source": [
    "**Вывод**:\n",
    "    \n",
    "В столице нашей Родины денег на тарифы трятят больше чем в остальных городах, это связана с уровнем дохода и с кол-вом проживающих абонентов. Все логично.\n"
   ]
  },
  {
   "cell_type": "markdown",
   "metadata": {},
   "source": [
    "**Общий вывод**:\n",
    "    \n",
    "В ходе исследованмя мы выяснли, что люди используют тариф  Смарт тратят больше минут, смс и гигабайт. При этом часть абоненов  тарифа смарт выходят за рамки предоставленных тарифом лимитов. Абоненты тарифа Ультра  по кол-ву минут разговра и смс сообщений никогда не выходят за рамки предоставленных тарифом лимитов. При этом некоторым абонентам иногда не хвататет предоставленного интернета.\n",
    "\n",
    "Выручка тарифа Смарт  больше чем выручка тарифа Ультра.\n",
    "\n",
    "В Москве денег на связь трятят больше чем в остальных городах, это связана с уровнем дохода и с кол-вом проживающих абонентов. \n",
    "\n",
    "    \n",
    "    "
   ]
  },
  {
   "cell_type": "code",
   "execution_count": null,
   "metadata": {},
   "outputs": [],
   "source": []
  }
 ],
 "metadata": {
  "ExecuteTimeLog": [
   {
    "duration": 549,
    "start_time": "2022-01-05T12:35:46.558Z"
   },
   {
    "duration": 155,
    "start_time": "2022-01-05T12:38:45.621Z"
   },
   {
    "duration": 19,
    "start_time": "2022-01-05T12:40:40.156Z"
   },
   {
    "duration": 13,
    "start_time": "2022-01-05T12:40:53.030Z"
   },
   {
    "duration": 112,
    "start_time": "2022-01-05T12:42:55.414Z"
   },
   {
    "duration": 2,
    "start_time": "2022-01-05T12:44:41.810Z"
   },
   {
    "duration": 107,
    "start_time": "2022-01-05T12:44:56.794Z"
   },
   {
    "duration": 219,
    "start_time": "2022-01-05T12:45:12.825Z"
   },
   {
    "duration": 121,
    "start_time": "2022-01-05T12:45:29.337Z"
   },
   {
    "duration": 7,
    "start_time": "2022-01-05T12:47:37.793Z"
   },
   {
    "duration": 103,
    "start_time": "2022-01-05T12:48:54.754Z"
   },
   {
    "duration": 2,
    "start_time": "2022-01-05T12:50:14.617Z"
   },
   {
    "duration": 2,
    "start_time": "2022-01-05T12:50:58.636Z"
   },
   {
    "duration": 3,
    "start_time": "2022-01-05T12:51:07.041Z"
   },
   {
    "duration": 2,
    "start_time": "2022-01-05T12:51:11.364Z"
   },
   {
    "duration": 84,
    "start_time": "2022-01-05T12:56:21.584Z"
   },
   {
    "duration": 124,
    "start_time": "2022-01-05T12:58:07.669Z"
   },
   {
    "duration": 7,
    "start_time": "2022-01-05T12:58:18.827Z"
   },
   {
    "duration": 98,
    "start_time": "2022-01-05T13:00:06.769Z"
   },
   {
    "duration": 417,
    "start_time": "2022-01-05T13:02:55.925Z"
   },
   {
    "duration": 19,
    "start_time": "2022-01-05T13:03:11.530Z"
   },
   {
    "duration": 8,
    "start_time": "2022-01-05T13:03:45.935Z"
   },
   {
    "duration": 128,
    "start_time": "2022-01-05T13:06:26.177Z"
   },
   {
    "duration": 2,
    "start_time": "2022-01-05T13:06:47.180Z"
   },
   {
    "duration": 2,
    "start_time": "2022-01-05T13:08:00.511Z"
   },
   {
    "duration": 29,
    "start_time": "2022-01-05T13:10:30.044Z"
   },
   {
    "duration": 9,
    "start_time": "2022-01-05T13:10:56.767Z"
   },
   {
    "duration": 2,
    "start_time": "2022-01-05T13:11:38.423Z"
   },
   {
    "duration": 151,
    "start_time": "2022-01-05T13:11:48.797Z"
   },
   {
    "duration": 5,
    "start_time": "2022-01-05T16:40:49.741Z"
   },
   {
    "duration": 356,
    "start_time": "2022-01-05T16:42:16.353Z"
   },
   {
    "duration": 317,
    "start_time": "2022-01-05T16:44:38.435Z"
   },
   {
    "duration": 4,
    "start_time": "2022-01-05T16:44:39.637Z"
   },
   {
    "duration": 781,
    "start_time": "2022-01-05T16:44:39.644Z"
   },
   {
    "duration": 231,
    "start_time": "2022-01-05T16:44:40.428Z"
   },
   {
    "duration": 22,
    "start_time": "2022-01-05T16:44:40.664Z"
   },
   {
    "duration": 4,
    "start_time": "2022-01-05T16:44:40.689Z"
   },
   {
    "duration": 209,
    "start_time": "2022-01-05T16:44:40.695Z"
   },
   {
    "duration": 13,
    "start_time": "2022-01-05T16:44:40.906Z"
   },
   {
    "duration": 4,
    "start_time": "2022-01-05T16:44:40.921Z"
   },
   {
    "duration": 144,
    "start_time": "2022-01-05T16:44:40.929Z"
   },
   {
    "duration": 10,
    "start_time": "2022-01-05T16:44:41.076Z"
   },
   {
    "duration": 3,
    "start_time": "2022-01-05T16:44:41.090Z"
   },
   {
    "duration": 25,
    "start_time": "2022-01-05T16:44:41.095Z"
   },
   {
    "duration": 11,
    "start_time": "2022-01-05T16:44:41.123Z"
   },
   {
    "duration": 37,
    "start_time": "2022-01-05T16:44:41.163Z"
   },
   {
    "duration": 16,
    "start_time": "2022-01-05T16:44:41.202Z"
   },
   {
    "duration": 6,
    "start_time": "2022-01-05T16:44:41.221Z"
   },
   {
    "duration": 9847,
    "start_time": "2022-01-05T16:44:41.230Z"
   },
   {
    "duration": 17,
    "start_time": "2022-01-05T16:45:06.309Z"
   },
   {
    "duration": 7,
    "start_time": "2022-01-05T16:52:49.222Z"
   },
   {
    "duration": 78,
    "start_time": "2022-01-05T17:03:44.668Z"
   },
   {
    "duration": 12,
    "start_time": "2022-01-05T17:04:00.619Z"
   },
   {
    "duration": 1184,
    "start_time": "2022-01-05T18:50:48.739Z"
   },
   {
    "duration": 1331,
    "start_time": "2022-01-05T18:50:57.926Z"
   },
   {
    "duration": 1328,
    "start_time": "2022-01-05T18:50:57.931Z"
   },
   {
    "duration": 1328,
    "start_time": "2022-01-05T18:50:57.933Z"
   },
   {
    "duration": 1330,
    "start_time": "2022-01-05T18:50:57.934Z"
   },
   {
    "duration": 1331,
    "start_time": "2022-01-05T18:50:57.935Z"
   },
   {
    "duration": 1331,
    "start_time": "2022-01-05T18:50:57.936Z"
   },
   {
    "duration": 1332,
    "start_time": "2022-01-05T18:50:57.937Z"
   },
   {
    "duration": 1332,
    "start_time": "2022-01-05T18:50:57.938Z"
   },
   {
    "duration": 1333,
    "start_time": "2022-01-05T18:50:57.939Z"
   },
   {
    "duration": 1330,
    "start_time": "2022-01-05T18:50:57.943Z"
   },
   {
    "duration": 1330,
    "start_time": "2022-01-05T18:50:57.944Z"
   },
   {
    "duration": 1330,
    "start_time": "2022-01-05T18:50:57.946Z"
   },
   {
    "duration": 1329,
    "start_time": "2022-01-05T18:50:57.948Z"
   },
   {
    "duration": 1329,
    "start_time": "2022-01-05T18:50:57.950Z"
   },
   {
    "duration": 1329,
    "start_time": "2022-01-05T18:50:57.951Z"
   },
   {
    "duration": 1327,
    "start_time": "2022-01-05T18:50:57.954Z"
   },
   {
    "duration": 1327,
    "start_time": "2022-01-05T18:50:57.956Z"
   },
   {
    "duration": 1327,
    "start_time": "2022-01-05T18:50:57.957Z"
   },
   {
    "duration": 1327,
    "start_time": "2022-01-05T18:50:57.958Z"
   },
   {
    "duration": 1329,
    "start_time": "2022-01-05T18:50:57.958Z"
   },
   {
    "duration": 6,
    "start_time": "2022-01-05T18:51:36.584Z"
   },
   {
    "duration": 741,
    "start_time": "2022-01-05T18:51:36.593Z"
   },
   {
    "duration": 226,
    "start_time": "2022-01-05T18:51:37.338Z"
   },
   {
    "duration": 22,
    "start_time": "2022-01-05T18:51:37.567Z"
   },
   {
    "duration": 19,
    "start_time": "2022-01-05T18:51:37.592Z"
   },
   {
    "duration": 204,
    "start_time": "2022-01-05T18:51:37.613Z"
   },
   {
    "duration": 13,
    "start_time": "2022-01-05T18:51:37.820Z"
   },
   {
    "duration": 13,
    "start_time": "2022-01-05T18:51:37.835Z"
   },
   {
    "duration": 141,
    "start_time": "2022-01-05T18:51:37.852Z"
   },
   {
    "duration": 11,
    "start_time": "2022-01-05T18:51:37.996Z"
   },
   {
    "duration": 3,
    "start_time": "2022-01-05T18:51:38.010Z"
   },
   {
    "duration": 27,
    "start_time": "2022-01-05T18:51:38.015Z"
   },
   {
    "duration": 28,
    "start_time": "2022-01-05T18:51:38.045Z"
   },
   {
    "duration": 37,
    "start_time": "2022-01-05T18:51:38.076Z"
   },
   {
    "duration": 17,
    "start_time": "2022-01-05T18:51:38.115Z"
   },
   {
    "duration": 28,
    "start_time": "2022-01-05T18:51:38.135Z"
   },
   {
    "duration": 6,
    "start_time": "2022-01-05T18:51:38.166Z"
   },
   {
    "duration": 46,
    "start_time": "2022-01-05T18:51:38.175Z"
   },
   {
    "duration": 4,
    "start_time": "2022-01-05T18:51:38.224Z"
   },
   {
    "duration": 8204,
    "start_time": "2022-01-05T18:51:38.231Z"
   },
   {
    "duration": 50,
    "start_time": "2022-01-05T18:52:26.908Z"
   },
   {
    "duration": 10,
    "start_time": "2022-01-05T18:52:36.458Z"
   },
   {
    "duration": 1326,
    "start_time": "2022-01-05T18:54:19.872Z"
   },
   {
    "duration": 7921,
    "start_time": "2022-01-05T18:54:28.053Z"
   },
   {
    "duration": 38,
    "start_time": "2022-01-05T18:54:40.859Z"
   },
   {
    "duration": 18,
    "start_time": "2022-01-05T18:56:19.462Z"
   },
   {
    "duration": 41,
    "start_time": "2022-01-05T20:27:02.141Z"
   },
   {
    "duration": 363,
    "start_time": "2022-01-05T20:27:25.246Z"
   },
   {
    "duration": 387,
    "start_time": "2022-01-05T20:27:33.796Z"
   },
   {
    "duration": 357,
    "start_time": "2022-01-05T20:29:26.289Z"
   },
   {
    "duration": 291,
    "start_time": "2022-01-05T20:30:27.949Z"
   },
   {
    "duration": 14,
    "start_time": "2022-01-05T20:30:34.937Z"
   },
   {
    "duration": 4,
    "start_time": "2022-01-05T20:30:49.594Z"
   },
   {
    "duration": 8,
    "start_time": "2022-01-05T20:30:49.601Z"
   },
   {
    "duration": 230,
    "start_time": "2022-01-05T20:30:49.612Z"
   },
   {
    "duration": 18,
    "start_time": "2022-01-05T20:30:49.845Z"
   },
   {
    "duration": 3,
    "start_time": "2022-01-05T20:30:49.866Z"
   },
   {
    "duration": 204,
    "start_time": "2022-01-05T20:30:49.871Z"
   },
   {
    "duration": 16,
    "start_time": "2022-01-05T20:30:50.078Z"
   },
   {
    "duration": 4,
    "start_time": "2022-01-05T20:30:50.096Z"
   },
   {
    "duration": 152,
    "start_time": "2022-01-05T20:30:50.104Z"
   },
   {
    "duration": 14,
    "start_time": "2022-01-05T20:30:50.258Z"
   },
   {
    "duration": 5,
    "start_time": "2022-01-05T20:30:50.274Z"
   },
   {
    "duration": 32,
    "start_time": "2022-01-05T20:30:50.282Z"
   },
   {
    "duration": 13,
    "start_time": "2022-01-05T20:30:50.317Z"
   },
   {
    "duration": 38,
    "start_time": "2022-01-05T20:30:50.332Z"
   },
   {
    "duration": 16,
    "start_time": "2022-01-05T20:30:50.373Z"
   },
   {
    "duration": 5,
    "start_time": "2022-01-05T20:30:50.392Z"
   },
   {
    "duration": 72,
    "start_time": "2022-01-05T20:30:50.400Z"
   },
   {
    "duration": 3,
    "start_time": "2022-01-05T20:30:50.475Z"
   },
   {
    "duration": 38,
    "start_time": "2022-01-05T20:30:50.481Z"
   },
   {
    "duration": 61,
    "start_time": "2022-01-05T20:30:50.522Z"
   },
   {
    "duration": 10,
    "start_time": "2022-01-05T20:30:50.586Z"
   },
   {
    "duration": 27,
    "start_time": "2022-01-05T20:30:50.600Z"
   },
   {
    "duration": 10,
    "start_time": "2022-01-05T20:36:52.920Z"
   },
   {
    "duration": 5,
    "start_time": "2022-01-05T20:36:55.373Z"
   },
   {
    "duration": 7,
    "start_time": "2022-01-05T20:36:55.380Z"
   },
   {
    "duration": 239,
    "start_time": "2022-01-05T20:36:55.390Z"
   },
   {
    "duration": 12,
    "start_time": "2022-01-05T20:36:55.631Z"
   },
   {
    "duration": 19,
    "start_time": "2022-01-05T20:36:55.645Z"
   },
   {
    "duration": 192,
    "start_time": "2022-01-05T20:36:55.666Z"
   },
   {
    "duration": 15,
    "start_time": "2022-01-05T20:36:55.861Z"
   },
   {
    "duration": 6,
    "start_time": "2022-01-05T20:36:55.879Z"
   },
   {
    "duration": 148,
    "start_time": "2022-01-05T20:36:55.888Z"
   },
   {
    "duration": 10,
    "start_time": "2022-01-05T20:36:56.038Z"
   },
   {
    "duration": 14,
    "start_time": "2022-01-05T20:36:56.051Z"
   },
   {
    "duration": 31,
    "start_time": "2022-01-05T20:36:56.068Z"
   },
   {
    "duration": 12,
    "start_time": "2022-01-05T20:36:56.101Z"
   },
   {
    "duration": 39,
    "start_time": "2022-01-05T20:36:56.116Z"
   },
   {
    "duration": 16,
    "start_time": "2022-01-05T20:36:56.158Z"
   },
   {
    "duration": 4,
    "start_time": "2022-01-05T20:36:56.176Z"
   },
   {
    "duration": 38,
    "start_time": "2022-01-05T20:36:56.182Z"
   },
   {
    "duration": 3,
    "start_time": "2022-01-05T20:36:56.223Z"
   },
   {
    "duration": 55,
    "start_time": "2022-01-05T20:36:56.228Z"
   },
   {
    "duration": 34,
    "start_time": "2022-01-05T20:36:56.285Z"
   },
   {
    "duration": 11,
    "start_time": "2022-01-05T20:36:56.322Z"
   },
   {
    "duration": 43,
    "start_time": "2022-01-05T20:36:56.335Z"
   },
   {
    "duration": 17,
    "start_time": "2022-01-05T20:38:09.567Z"
   },
   {
    "duration": 4,
    "start_time": "2022-01-05T20:38:17.991Z"
   },
   {
    "duration": 7,
    "start_time": "2022-01-05T20:38:17.998Z"
   },
   {
    "duration": 241,
    "start_time": "2022-01-05T20:38:18.009Z"
   },
   {
    "duration": 16,
    "start_time": "2022-01-05T20:38:18.253Z"
   },
   {
    "duration": 4,
    "start_time": "2022-01-05T20:38:18.272Z"
   },
   {
    "duration": 217,
    "start_time": "2022-01-05T20:38:18.278Z"
   },
   {
    "duration": 14,
    "start_time": "2022-01-05T20:38:18.497Z"
   },
   {
    "duration": 7,
    "start_time": "2022-01-05T20:38:18.513Z"
   },
   {
    "duration": 156,
    "start_time": "2022-01-05T20:38:18.525Z"
   },
   {
    "duration": 11,
    "start_time": "2022-01-05T20:38:18.684Z"
   },
   {
    "duration": 4,
    "start_time": "2022-01-05T20:38:18.697Z"
   },
   {
    "duration": 26,
    "start_time": "2022-01-05T20:38:18.703Z"
   },
   {
    "duration": 34,
    "start_time": "2022-01-05T20:38:18.732Z"
   },
   {
    "duration": 36,
    "start_time": "2022-01-05T20:38:18.768Z"
   },
   {
    "duration": 16,
    "start_time": "2022-01-05T20:38:18.807Z"
   },
   {
    "duration": 3,
    "start_time": "2022-01-05T20:38:18.825Z"
   },
   {
    "duration": 55,
    "start_time": "2022-01-05T20:38:18.831Z"
   },
   {
    "duration": 3,
    "start_time": "2022-01-05T20:38:18.888Z"
   },
   {
    "duration": 32,
    "start_time": "2022-01-05T20:38:18.894Z"
   },
   {
    "duration": 52,
    "start_time": "2022-01-05T20:38:18.928Z"
   },
   {
    "duration": 12,
    "start_time": "2022-01-05T20:38:18.983Z"
   },
   {
    "duration": 20,
    "start_time": "2022-01-05T20:38:18.999Z"
   },
   {
    "duration": 55,
    "start_time": "2022-01-05T20:38:19.021Z"
   },
   {
    "duration": 17,
    "start_time": "2022-01-05T20:38:39.882Z"
   },
   {
    "duration": 370,
    "start_time": "2022-01-05T20:42:55.178Z"
   },
   {
    "duration": 305,
    "start_time": "2022-01-05T20:43:00.212Z"
   },
   {
    "duration": 280,
    "start_time": "2022-01-05T20:43:28.445Z"
   },
   {
    "duration": 4,
    "start_time": "2022-01-05T20:43:54.762Z"
   },
   {
    "duration": 4,
    "start_time": "2022-01-05T20:43:55.998Z"
   },
   {
    "duration": 6,
    "start_time": "2022-01-05T20:43:56.006Z"
   },
   {
    "duration": 232,
    "start_time": "2022-01-05T20:43:56.017Z"
   },
   {
    "duration": 18,
    "start_time": "2022-01-05T20:43:56.253Z"
   },
   {
    "duration": 3,
    "start_time": "2022-01-05T20:43:56.274Z"
   },
   {
    "duration": 207,
    "start_time": "2022-01-05T20:43:56.279Z"
   },
   {
    "duration": 12,
    "start_time": "2022-01-05T20:43:56.488Z"
   },
   {
    "duration": 4,
    "start_time": "2022-01-05T20:43:56.502Z"
   },
   {
    "duration": 149,
    "start_time": "2022-01-05T20:43:56.510Z"
   },
   {
    "duration": 12,
    "start_time": "2022-01-05T20:43:56.663Z"
   },
   {
    "duration": 3,
    "start_time": "2022-01-05T20:43:56.678Z"
   },
   {
    "duration": 26,
    "start_time": "2022-01-05T20:43:56.684Z"
   },
   {
    "duration": 13,
    "start_time": "2022-01-05T20:43:56.713Z"
   },
   {
    "duration": 42,
    "start_time": "2022-01-05T20:43:56.728Z"
   },
   {
    "duration": 17,
    "start_time": "2022-01-05T20:43:56.773Z"
   },
   {
    "duration": 3,
    "start_time": "2022-01-05T20:43:56.793Z"
   },
   {
    "duration": 72,
    "start_time": "2022-01-05T20:43:56.798Z"
   },
   {
    "duration": 3,
    "start_time": "2022-01-05T20:43:56.872Z"
   },
   {
    "duration": 30,
    "start_time": "2022-01-05T20:43:56.878Z"
   },
   {
    "duration": 55,
    "start_time": "2022-01-05T20:43:56.910Z"
   },
   {
    "duration": 11,
    "start_time": "2022-01-05T20:43:56.967Z"
   },
   {
    "duration": 23,
    "start_time": "2022-01-05T20:43:56.980Z"
   },
   {
    "duration": 292,
    "start_time": "2022-01-05T20:43:57.005Z"
   },
   {
    "duration": 17,
    "start_time": "2022-01-05T20:45:44.772Z"
   },
   {
    "duration": 17,
    "start_time": "2022-01-05T20:46:08.989Z"
   },
   {
    "duration": 20,
    "start_time": "2022-01-05T20:53:55.675Z"
   },
   {
    "duration": 332,
    "start_time": "2022-01-06T10:49:38.127Z"
   },
   {
    "duration": 4,
    "start_time": "2022-01-06T10:49:39.353Z"
   },
   {
    "duration": 774,
    "start_time": "2022-01-06T10:49:39.359Z"
   },
   {
    "duration": 230,
    "start_time": "2022-01-06T10:49:40.137Z"
   },
   {
    "duration": 22,
    "start_time": "2022-01-06T10:49:40.369Z"
   },
   {
    "duration": 3,
    "start_time": "2022-01-06T10:49:40.394Z"
   },
   {
    "duration": 208,
    "start_time": "2022-01-06T10:49:40.399Z"
   },
   {
    "duration": 13,
    "start_time": "2022-01-06T10:49:40.609Z"
   },
   {
    "duration": 4,
    "start_time": "2022-01-06T10:49:40.624Z"
   },
   {
    "duration": 153,
    "start_time": "2022-01-06T10:49:40.632Z"
   },
   {
    "duration": 11,
    "start_time": "2022-01-06T10:49:40.788Z"
   },
   {
    "duration": 4,
    "start_time": "2022-01-06T10:49:40.802Z"
   },
   {
    "duration": 25,
    "start_time": "2022-01-06T10:49:40.809Z"
   },
   {
    "duration": 34,
    "start_time": "2022-01-06T10:49:40.837Z"
   },
   {
    "duration": 34,
    "start_time": "2022-01-06T10:49:40.874Z"
   },
   {
    "duration": 16,
    "start_time": "2022-01-06T10:49:40.910Z"
   },
   {
    "duration": 5,
    "start_time": "2022-01-06T10:49:40.929Z"
   },
   {
    "duration": 63,
    "start_time": "2022-01-06T10:49:40.936Z"
   },
   {
    "duration": 3,
    "start_time": "2022-01-06T10:49:41.001Z"
   },
   {
    "duration": 34,
    "start_time": "2022-01-06T10:49:41.007Z"
   },
   {
    "duration": 54,
    "start_time": "2022-01-06T10:49:41.044Z"
   },
   {
    "duration": 12,
    "start_time": "2022-01-06T10:49:41.100Z"
   },
   {
    "duration": 21,
    "start_time": "2022-01-06T10:49:41.114Z"
   },
   {
    "duration": 42,
    "start_time": "2022-01-06T10:49:41.138Z"
   },
   {
    "duration": 21,
    "start_time": "2022-01-06T10:49:41.182Z"
   },
   {
    "duration": 21,
    "start_time": "2022-01-06T10:53:10.042Z"
   },
   {
    "duration": 18,
    "start_time": "2022-01-06T10:53:48.148Z"
   },
   {
    "duration": 16,
    "start_time": "2022-01-06T10:54:01.851Z"
   },
   {
    "duration": 8,
    "start_time": "2022-01-06T10:54:19.428Z"
   },
   {
    "duration": 4,
    "start_time": "2022-01-06T10:54:22.765Z"
   },
   {
    "duration": 9,
    "start_time": "2022-01-06T10:54:22.772Z"
   },
   {
    "duration": 250,
    "start_time": "2022-01-06T10:54:22.783Z"
   },
   {
    "duration": 11,
    "start_time": "2022-01-06T10:54:23.036Z"
   },
   {
    "duration": 18,
    "start_time": "2022-01-06T10:54:23.050Z"
   },
   {
    "duration": 199,
    "start_time": "2022-01-06T10:54:23.071Z"
   },
   {
    "duration": 14,
    "start_time": "2022-01-06T10:54:23.272Z"
   },
   {
    "duration": 7,
    "start_time": "2022-01-06T10:54:23.289Z"
   },
   {
    "duration": 151,
    "start_time": "2022-01-06T10:54:23.301Z"
   },
   {
    "duration": 18,
    "start_time": "2022-01-06T10:54:23.455Z"
   },
   {
    "duration": 4,
    "start_time": "2022-01-06T10:54:23.476Z"
   },
   {
    "duration": 25,
    "start_time": "2022-01-06T10:54:23.483Z"
   },
   {
    "duration": 15,
    "start_time": "2022-01-06T10:54:23.511Z"
   },
   {
    "duration": 68,
    "start_time": "2022-01-06T10:54:23.529Z"
   },
   {
    "duration": 18,
    "start_time": "2022-01-06T10:54:23.600Z"
   },
   {
    "duration": 4,
    "start_time": "2022-01-06T10:54:23.621Z"
   },
   {
    "duration": 57,
    "start_time": "2022-01-06T10:54:23.628Z"
   },
   {
    "duration": 4,
    "start_time": "2022-01-06T10:54:23.688Z"
   },
   {
    "duration": 33,
    "start_time": "2022-01-06T10:54:23.695Z"
   },
   {
    "duration": 63,
    "start_time": "2022-01-06T10:54:23.730Z"
   },
   {
    "duration": 12,
    "start_time": "2022-01-06T10:54:23.796Z"
   },
   {
    "duration": 28,
    "start_time": "2022-01-06T10:54:23.810Z"
   },
   {
    "duration": 8,
    "start_time": "2022-01-06T10:54:23.867Z"
   },
   {
    "duration": 23,
    "start_time": "2022-01-06T10:54:23.877Z"
   },
   {
    "duration": 9,
    "start_time": "2022-01-06T10:54:23.903Z"
   },
   {
    "duration": 4,
    "start_time": "2022-01-06T10:55:08.431Z"
   },
   {
    "duration": 5,
    "start_time": "2022-01-06T11:04:57.380Z"
   },
   {
    "duration": 4,
    "start_time": "2022-01-06T11:05:02.698Z"
   },
   {
    "duration": 5,
    "start_time": "2022-01-06T11:05:04.937Z"
   },
   {
    "duration": 9,
    "start_time": "2022-01-06T11:05:04.944Z"
   },
   {
    "duration": 254,
    "start_time": "2022-01-06T11:05:04.956Z"
   },
   {
    "duration": 13,
    "start_time": "2022-01-06T11:05:05.214Z"
   },
   {
    "duration": 6,
    "start_time": "2022-01-06T11:05:05.230Z"
   },
   {
    "duration": 206,
    "start_time": "2022-01-06T11:05:05.239Z"
   },
   {
    "duration": 22,
    "start_time": "2022-01-06T11:05:05.448Z"
   },
   {
    "duration": 6,
    "start_time": "2022-01-06T11:05:05.473Z"
   },
   {
    "duration": 148,
    "start_time": "2022-01-06T11:05:05.485Z"
   },
   {
    "duration": 12,
    "start_time": "2022-01-06T11:05:05.637Z"
   },
   {
    "duration": 4,
    "start_time": "2022-01-06T11:05:05.668Z"
   },
   {
    "duration": 23,
    "start_time": "2022-01-06T11:05:05.675Z"
   },
   {
    "duration": 16,
    "start_time": "2022-01-06T11:05:05.701Z"
   },
   {
    "duration": 32,
    "start_time": "2022-01-06T11:05:05.720Z"
   },
   {
    "duration": 16,
    "start_time": "2022-01-06T11:05:05.766Z"
   },
   {
    "duration": 4,
    "start_time": "2022-01-06T11:05:05.785Z"
   },
   {
    "duration": 7,
    "start_time": "2022-01-06T11:05:05.791Z"
   },
   {
    "duration": 68,
    "start_time": "2022-01-06T11:05:05.800Z"
   },
   {
    "duration": 4,
    "start_time": "2022-01-06T11:05:05.870Z"
   },
   {
    "duration": 32,
    "start_time": "2022-01-06T11:05:05.876Z"
   },
   {
    "duration": 63,
    "start_time": "2022-01-06T11:05:05.910Z"
   },
   {
    "duration": 12,
    "start_time": "2022-01-06T11:05:05.976Z"
   },
   {
    "duration": 21,
    "start_time": "2022-01-06T11:05:05.990Z"
   },
   {
    "duration": 7,
    "start_time": "2022-01-06T11:05:06.014Z"
   },
   {
    "duration": 54,
    "start_time": "2022-01-06T11:05:06.024Z"
   },
   {
    "duration": 8,
    "start_time": "2022-01-06T11:05:06.080Z"
   },
   {
    "duration": 64,
    "start_time": "2022-01-06T11:14:43.167Z"
   },
   {
    "duration": 63,
    "start_time": "2022-01-06T11:14:53.565Z"
   },
   {
    "duration": 53,
    "start_time": "2022-01-06T11:17:00.178Z"
   },
   {
    "duration": 44,
    "start_time": "2022-01-06T11:17:08.441Z"
   },
   {
    "duration": 4,
    "start_time": "2022-01-06T11:17:09.789Z"
   },
   {
    "duration": 9,
    "start_time": "2022-01-06T11:17:09.795Z"
   },
   {
    "duration": 229,
    "start_time": "2022-01-06T11:17:09.807Z"
   },
   {
    "duration": 28,
    "start_time": "2022-01-06T11:17:10.038Z"
   },
   {
    "duration": 3,
    "start_time": "2022-01-06T11:17:10.069Z"
   },
   {
    "duration": 193,
    "start_time": "2022-01-06T11:17:10.074Z"
   },
   {
    "duration": 12,
    "start_time": "2022-01-06T11:17:10.270Z"
   },
   {
    "duration": 4,
    "start_time": "2022-01-06T11:17:10.284Z"
   },
   {
    "duration": 156,
    "start_time": "2022-01-06T11:17:10.292Z"
   },
   {
    "duration": 17,
    "start_time": "2022-01-06T11:17:10.451Z"
   },
   {
    "duration": 2,
    "start_time": "2022-01-06T11:17:10.471Z"
   },
   {
    "duration": 26,
    "start_time": "2022-01-06T11:17:10.476Z"
   },
   {
    "duration": 14,
    "start_time": "2022-01-06T11:17:10.504Z"
   },
   {
    "duration": 33,
    "start_time": "2022-01-06T11:17:10.521Z"
   },
   {
    "duration": 22,
    "start_time": "2022-01-06T11:17:10.556Z"
   },
   {
    "duration": 4,
    "start_time": "2022-01-06T11:17:10.580Z"
   },
   {
    "duration": 7,
    "start_time": "2022-01-06T11:17:10.587Z"
   },
   {
    "duration": 101,
    "start_time": "2022-01-06T11:17:10.597Z"
   },
   {
    "duration": 3,
    "start_time": "2022-01-06T11:17:10.701Z"
   },
   {
    "duration": 85,
    "start_time": "2022-01-06T11:17:10.706Z"
   },
   {
    "duration": 35,
    "start_time": "2022-01-06T11:17:10.793Z"
   },
   {
    "duration": 11,
    "start_time": "2022-01-06T11:17:10.830Z"
   },
   {
    "duration": 17,
    "start_time": "2022-01-06T11:17:10.868Z"
   },
   {
    "duration": 10,
    "start_time": "2022-01-06T11:17:10.888Z"
   },
   {
    "duration": 23,
    "start_time": "2022-01-06T11:17:10.900Z"
   },
   {
    "duration": 9,
    "start_time": "2022-01-06T11:17:10.966Z"
   },
   {
    "duration": 41,
    "start_time": "2022-01-06T11:17:26.307Z"
   },
   {
    "duration": 31,
    "start_time": "2022-01-06T11:17:40.289Z"
   },
   {
    "duration": 38,
    "start_time": "2022-01-06T11:18:30.623Z"
   },
   {
    "duration": 35,
    "start_time": "2022-01-06T11:18:50.478Z"
   },
   {
    "duration": 8,
    "start_time": "2022-01-06T11:19:21.802Z"
   },
   {
    "duration": 13,
    "start_time": "2022-01-06T11:19:31.968Z"
   },
   {
    "duration": 19,
    "start_time": "2022-01-06T11:19:43.294Z"
   },
   {
    "duration": 7,
    "start_time": "2022-01-06T11:19:49.288Z"
   },
   {
    "duration": 6,
    "start_time": "2022-01-06T11:29:29.636Z"
   },
   {
    "duration": 6,
    "start_time": "2022-01-06T11:30:11.699Z"
   },
   {
    "duration": 392,
    "start_time": "2022-01-06T11:56:25.632Z"
   },
   {
    "duration": 111,
    "start_time": "2022-01-06T11:58:15.179Z"
   },
   {
    "duration": 68,
    "start_time": "2022-01-06T11:58:37.983Z"
   },
   {
    "duration": 7,
    "start_time": "2022-01-06T12:00:21.155Z"
   },
   {
    "duration": 5,
    "start_time": "2022-01-06T12:00:22.583Z"
   },
   {
    "duration": 11,
    "start_time": "2022-01-06T12:00:22.591Z"
   },
   {
    "duration": 242,
    "start_time": "2022-01-06T12:00:22.605Z"
   },
   {
    "duration": 20,
    "start_time": "2022-01-06T12:00:22.850Z"
   },
   {
    "duration": 6,
    "start_time": "2022-01-06T12:00:22.873Z"
   },
   {
    "duration": 199,
    "start_time": "2022-01-06T12:00:22.882Z"
   },
   {
    "duration": 14,
    "start_time": "2022-01-06T12:00:23.084Z"
   },
   {
    "duration": 4,
    "start_time": "2022-01-06T12:00:23.102Z"
   },
   {
    "duration": 154,
    "start_time": "2022-01-06T12:00:23.109Z"
   },
   {
    "duration": 12,
    "start_time": "2022-01-06T12:00:23.268Z"
   },
   {
    "duration": 8,
    "start_time": "2022-01-06T12:00:23.282Z"
   },
   {
    "duration": 30,
    "start_time": "2022-01-06T12:00:23.292Z"
   },
   {
    "duration": 15,
    "start_time": "2022-01-06T12:00:23.325Z"
   },
   {
    "duration": 48,
    "start_time": "2022-01-06T12:00:23.370Z"
   },
   {
    "duration": 16,
    "start_time": "2022-01-06T12:00:23.421Z"
   },
   {
    "duration": 4,
    "start_time": "2022-01-06T12:00:23.440Z"
   },
   {
    "duration": 7,
    "start_time": "2022-01-06T12:00:23.446Z"
   },
   {
    "duration": 67,
    "start_time": "2022-01-06T12:00:23.467Z"
   },
   {
    "duration": 6,
    "start_time": "2022-01-06T12:00:23.536Z"
   },
   {
    "duration": 52,
    "start_time": "2022-01-06T12:00:23.567Z"
   },
   {
    "duration": 63,
    "start_time": "2022-01-06T12:00:23.622Z"
   },
   {
    "duration": 8,
    "start_time": "2022-01-06T12:00:23.687Z"
   },
   {
    "duration": 18,
    "start_time": "2022-01-06T12:00:23.697Z"
   },
   {
    "duration": 5,
    "start_time": "2022-01-06T12:00:23.717Z"
   },
   {
    "duration": 62,
    "start_time": "2022-01-06T12:00:23.724Z"
   },
   {
    "duration": 6,
    "start_time": "2022-01-06T12:00:23.789Z"
   },
   {
    "duration": 90,
    "start_time": "2022-01-06T12:00:23.798Z"
   },
   {
    "duration": 35,
    "start_time": "2022-01-06T12:00:49.792Z"
   },
   {
    "duration": 405,
    "start_time": "2022-01-06T12:01:44.661Z"
   },
   {
    "duration": 5,
    "start_time": "2022-01-06T12:01:46.272Z"
   },
   {
    "duration": 1002,
    "start_time": "2022-01-06T12:01:46.280Z"
   },
   {
    "duration": 238,
    "start_time": "2022-01-06T12:01:47.286Z"
   },
   {
    "duration": 23,
    "start_time": "2022-01-06T12:01:47.527Z"
   },
   {
    "duration": 6,
    "start_time": "2022-01-06T12:01:47.568Z"
   },
   {
    "duration": 212,
    "start_time": "2022-01-06T12:01:47.577Z"
   },
   {
    "duration": 12,
    "start_time": "2022-01-06T12:01:47.792Z"
   },
   {
    "duration": 7,
    "start_time": "2022-01-06T12:01:47.807Z"
   },
   {
    "duration": 156,
    "start_time": "2022-01-06T12:01:47.819Z"
   },
   {
    "duration": 10,
    "start_time": "2022-01-06T12:01:47.979Z"
   },
   {
    "duration": 5,
    "start_time": "2022-01-06T12:01:47.992Z"
   },
   {
    "duration": 26,
    "start_time": "2022-01-06T12:01:48.000Z"
   },
   {
    "duration": 43,
    "start_time": "2022-01-06T12:01:48.030Z"
   },
   {
    "duration": 40,
    "start_time": "2022-01-06T12:01:48.076Z"
   },
   {
    "duration": 16,
    "start_time": "2022-01-06T12:01:48.119Z"
   },
   {
    "duration": 9,
    "start_time": "2022-01-06T12:01:48.138Z"
   },
   {
    "duration": 22,
    "start_time": "2022-01-06T12:01:48.150Z"
   },
   {
    "duration": 128,
    "start_time": "2022-01-06T12:01:48.175Z"
   },
   {
    "duration": 4,
    "start_time": "2022-01-06T12:01:48.307Z"
   },
   {
    "duration": 75,
    "start_time": "2022-01-06T12:01:48.314Z"
   },
   {
    "duration": 51,
    "start_time": "2022-01-06T12:01:48.392Z"
   },
   {
    "duration": 25,
    "start_time": "2022-01-06T12:01:48.445Z"
   },
   {
    "duration": 25,
    "start_time": "2022-01-06T12:01:48.473Z"
   },
   {
    "duration": 6,
    "start_time": "2022-01-06T12:01:48.501Z"
   },
   {
    "duration": 66,
    "start_time": "2022-01-06T12:01:48.510Z"
   },
   {
    "duration": 7,
    "start_time": "2022-01-06T12:01:48.579Z"
   },
   {
    "duration": 74,
    "start_time": "2022-01-06T12:01:48.593Z"
   },
   {
    "duration": 34,
    "start_time": "2022-01-06T12:02:38.448Z"
   },
   {
    "duration": 24,
    "start_time": "2022-01-06T12:02:43.735Z"
   },
   {
    "duration": 5,
    "start_time": "2022-01-06T12:02:45.257Z"
   },
   {
    "duration": 16,
    "start_time": "2022-01-06T12:02:45.266Z"
   },
   {
    "duration": 256,
    "start_time": "2022-01-06T12:02:45.286Z"
   },
   {
    "duration": 24,
    "start_time": "2022-01-06T12:02:45.545Z"
   },
   {
    "duration": 5,
    "start_time": "2022-01-06T12:02:45.573Z"
   },
   {
    "duration": 416,
    "start_time": "2022-01-06T12:02:45.582Z"
   },
   {
    "duration": 19,
    "start_time": "2022-01-06T12:02:46.002Z"
   },
   {
    "duration": 4,
    "start_time": "2022-01-06T12:02:46.025Z"
   },
   {
    "duration": 234,
    "start_time": "2022-01-06T12:02:46.033Z"
   },
   {
    "duration": 12,
    "start_time": "2022-01-06T12:02:46.271Z"
   },
   {
    "duration": 6,
    "start_time": "2022-01-06T12:02:46.287Z"
   },
   {
    "duration": 28,
    "start_time": "2022-01-06T12:02:46.296Z"
   },
   {
    "duration": 42,
    "start_time": "2022-01-06T12:02:46.327Z"
   },
   {
    "duration": 46,
    "start_time": "2022-01-06T12:02:46.372Z"
   },
   {
    "duration": 19,
    "start_time": "2022-01-06T12:02:46.421Z"
   },
   {
    "duration": 7,
    "start_time": "2022-01-06T12:02:46.442Z"
   },
   {
    "duration": 25,
    "start_time": "2022-01-06T12:02:46.451Z"
   },
   {
    "duration": 75,
    "start_time": "2022-01-06T12:02:46.479Z"
   },
   {
    "duration": 4,
    "start_time": "2022-01-06T12:02:46.566Z"
   },
   {
    "duration": 57,
    "start_time": "2022-01-06T12:02:46.572Z"
   },
   {
    "duration": 68,
    "start_time": "2022-01-06T12:02:46.632Z"
   },
   {
    "duration": 8,
    "start_time": "2022-01-06T12:02:46.702Z"
   },
   {
    "duration": 24,
    "start_time": "2022-01-06T12:02:46.713Z"
   },
   {
    "duration": 7,
    "start_time": "2022-01-06T12:02:46.768Z"
   },
   {
    "duration": 32,
    "start_time": "2022-01-06T12:02:46.778Z"
   },
   {
    "duration": 5,
    "start_time": "2022-01-06T12:02:46.813Z"
   },
   {
    "duration": 63,
    "start_time": "2022-01-06T12:02:46.822Z"
   },
   {
    "duration": 20,
    "start_time": "2022-01-06T12:02:59.157Z"
   },
   {
    "duration": 20,
    "start_time": "2022-01-06T12:03:02.009Z"
   },
   {
    "duration": 26,
    "start_time": "2022-01-06T12:03:12.764Z"
   },
   {
    "duration": 313,
    "start_time": "2022-01-06T12:10:35.304Z"
   },
   {
    "duration": 289,
    "start_time": "2022-01-06T12:10:56.139Z"
   },
   {
    "duration": 47,
    "start_time": "2022-01-06T12:11:05.158Z"
   },
   {
    "duration": 84,
    "start_time": "2022-01-06T12:13:26.435Z"
   },
   {
    "duration": 80,
    "start_time": "2022-01-06T12:13:35.995Z"
   },
   {
    "duration": 4,
    "start_time": "2022-01-06T12:34:13.713Z"
   },
   {
    "duration": 102,
    "start_time": "2022-01-06T12:35:51.505Z"
   },
   {
    "duration": 34,
    "start_time": "2022-01-06T12:44:53.566Z"
   },
   {
    "duration": 115,
    "start_time": "2022-01-06T13:09:56.891Z"
   },
   {
    "duration": 276,
    "start_time": "2022-01-06T13:10:14.518Z"
   },
   {
    "duration": 29,
    "start_time": "2022-01-06T13:10:48.757Z"
   },
   {
    "duration": 4,
    "start_time": "2022-01-06T13:10:50.024Z"
   },
   {
    "duration": 10,
    "start_time": "2022-01-06T13:10:50.031Z"
   },
   {
    "duration": 242,
    "start_time": "2022-01-06T13:10:50.044Z"
   },
   {
    "duration": 13,
    "start_time": "2022-01-06T13:10:50.290Z"
   },
   {
    "duration": 4,
    "start_time": "2022-01-06T13:10:50.306Z"
   },
   {
    "duration": 341,
    "start_time": "2022-01-06T13:10:50.313Z"
   },
   {
    "duration": 21,
    "start_time": "2022-01-06T13:10:50.657Z"
   },
   {
    "duration": 5,
    "start_time": "2022-01-06T13:10:50.680Z"
   },
   {
    "duration": 218,
    "start_time": "2022-01-06T13:10:50.690Z"
   },
   {
    "duration": 11,
    "start_time": "2022-01-06T13:10:50.912Z"
   },
   {
    "duration": 4,
    "start_time": "2022-01-06T13:10:50.927Z"
   },
   {
    "duration": 55,
    "start_time": "2022-01-06T13:10:50.933Z"
   },
   {
    "duration": 16,
    "start_time": "2022-01-06T13:10:50.991Z"
   },
   {
    "duration": 55,
    "start_time": "2022-01-06T13:10:51.009Z"
   },
   {
    "duration": 16,
    "start_time": "2022-01-06T13:10:51.066Z"
   },
   {
    "duration": 5,
    "start_time": "2022-01-06T13:10:51.085Z"
   },
   {
    "duration": 10,
    "start_time": "2022-01-06T13:10:51.093Z"
   },
   {
    "duration": 92,
    "start_time": "2022-01-06T13:10:51.105Z"
   },
   {
    "duration": 3,
    "start_time": "2022-01-06T13:10:51.200Z"
   },
   {
    "duration": 67,
    "start_time": "2022-01-06T13:10:51.206Z"
   },
   {
    "duration": 45,
    "start_time": "2022-01-06T13:10:51.276Z"
   },
   {
    "duration": 8,
    "start_time": "2022-01-06T13:10:51.324Z"
   },
   {
    "duration": 43,
    "start_time": "2022-01-06T13:10:51.335Z"
   },
   {
    "duration": 6,
    "start_time": "2022-01-06T13:10:51.381Z"
   },
   {
    "duration": 26,
    "start_time": "2022-01-06T13:10:51.390Z"
   },
   {
    "duration": 4,
    "start_time": "2022-01-06T13:10:51.419Z"
   },
   {
    "duration": 120,
    "start_time": "2022-01-06T13:10:51.428Z"
   },
   {
    "duration": 51,
    "start_time": "2022-01-06T13:10:51.550Z"
   },
   {
    "duration": 294,
    "start_time": "2022-01-06T13:10:51.604Z"
   },
   {
    "duration": 583,
    "start_time": "2022-01-06T13:11:12.450Z"
   },
   {
    "duration": 286,
    "start_time": "2022-01-06T13:11:31.479Z"
   },
   {
    "duration": 352,
    "start_time": "2022-01-07T19:01:39.405Z"
   },
   {
    "duration": 334,
    "start_time": "2022-01-07T19:01:49.626Z"
   },
   {
    "duration": 3,
    "start_time": "2022-01-07T19:01:52.008Z"
   },
   {
    "duration": 598,
    "start_time": "2022-01-07T19:01:52.013Z"
   },
   {
    "duration": 142,
    "start_time": "2022-01-07T19:01:52.613Z"
   },
   {
    "duration": 13,
    "start_time": "2022-01-07T19:01:52.757Z"
   },
   {
    "duration": 4,
    "start_time": "2022-01-07T19:01:52.771Z"
   },
   {
    "duration": 123,
    "start_time": "2022-01-07T19:01:52.776Z"
   },
   {
    "duration": 7,
    "start_time": "2022-01-07T19:01:52.901Z"
   },
   {
    "duration": 4,
    "start_time": "2022-01-07T19:01:52.909Z"
   },
   {
    "duration": 93,
    "start_time": "2022-01-07T19:01:52.916Z"
   },
   {
    "duration": 6,
    "start_time": "2022-01-07T19:01:53.011Z"
   },
   {
    "duration": 6,
    "start_time": "2022-01-07T19:01:53.018Z"
   },
   {
    "duration": 21,
    "start_time": "2022-01-07T19:01:53.025Z"
   },
   {
    "duration": 6,
    "start_time": "2022-01-07T19:01:53.047Z"
   },
   {
    "duration": 70,
    "start_time": "2022-01-07T19:01:53.055Z"
   },
   {
    "duration": 10,
    "start_time": "2022-01-07T19:01:53.126Z"
   },
   {
    "duration": 3,
    "start_time": "2022-01-07T19:01:53.138Z"
   },
   {
    "duration": 4,
    "start_time": "2022-01-07T19:01:53.143Z"
   },
   {
    "duration": 45,
    "start_time": "2022-01-07T19:01:53.149Z"
   },
   {
    "duration": 2,
    "start_time": "2022-01-07T19:01:53.195Z"
   },
   {
    "duration": 54,
    "start_time": "2022-01-07T19:01:53.199Z"
   },
   {
    "duration": 28,
    "start_time": "2022-01-07T19:01:53.254Z"
   },
   {
    "duration": 5,
    "start_time": "2022-01-07T19:01:53.284Z"
   },
   {
    "duration": 15,
    "start_time": "2022-01-07T19:01:53.290Z"
   },
   {
    "duration": 20,
    "start_time": "2022-01-07T19:01:53.307Z"
   },
   {
    "duration": 13,
    "start_time": "2022-01-07T19:01:53.329Z"
   },
   {
    "duration": 3,
    "start_time": "2022-01-07T19:01:53.344Z"
   },
   {
    "duration": 49,
    "start_time": "2022-01-07T19:01:53.350Z"
   },
   {
    "duration": 40,
    "start_time": "2022-01-07T19:01:53.400Z"
   },
   {
    "duration": 167,
    "start_time": "2022-01-07T19:01:53.441Z"
   },
   {
    "duration": 21,
    "start_time": "2022-01-07T19:01:53.609Z"
   },
   {
    "duration": 19,
    "start_time": "2022-01-07T19:02:05.824Z"
   },
   {
    "duration": 22,
    "start_time": "2022-01-07T19:04:34.698Z"
   },
   {
    "duration": 26,
    "start_time": "2022-01-07T19:05:09.246Z"
   },
   {
    "duration": 28,
    "start_time": "2022-01-07T19:08:50.897Z"
   },
   {
    "duration": 35,
    "start_time": "2022-01-07T19:17:43.298Z"
   },
   {
    "duration": 35,
    "start_time": "2022-01-07T19:17:51.803Z"
   },
   {
    "duration": 35,
    "start_time": "2022-01-07T19:18:15.349Z"
   },
   {
    "duration": 376,
    "start_time": "2022-01-07T19:21:05.344Z"
   },
   {
    "duration": 5,
    "start_time": "2022-01-07T19:21:31.429Z"
   },
   {
    "duration": 36,
    "start_time": "2022-01-07T19:21:45.984Z"
   },
   {
    "duration": 3456,
    "start_time": "2022-01-07T19:22:11.144Z"
   },
   {
    "duration": 3,
    "start_time": "2022-01-07T19:22:22.057Z"
   },
   {
    "duration": 7,
    "start_time": "2022-01-07T19:22:22.061Z"
   },
   {
    "duration": 141,
    "start_time": "2022-01-07T19:22:22.069Z"
   },
   {
    "duration": 7,
    "start_time": "2022-01-07T19:22:22.212Z"
   },
   {
    "duration": 5,
    "start_time": "2022-01-07T19:22:22.220Z"
   },
   {
    "duration": 124,
    "start_time": "2022-01-07T19:22:22.226Z"
   },
   {
    "duration": 8,
    "start_time": "2022-01-07T19:22:22.351Z"
   },
   {
    "duration": 5,
    "start_time": "2022-01-07T19:22:22.360Z"
   },
   {
    "duration": 95,
    "start_time": "2022-01-07T19:22:22.367Z"
   },
   {
    "duration": 6,
    "start_time": "2022-01-07T19:22:22.464Z"
   },
   {
    "duration": 5,
    "start_time": "2022-01-07T19:22:22.472Z"
   },
   {
    "duration": 21,
    "start_time": "2022-01-07T19:22:22.480Z"
   },
   {
    "duration": 7,
    "start_time": "2022-01-07T19:22:22.503Z"
   },
   {
    "duration": 69,
    "start_time": "2022-01-07T19:22:22.512Z"
   },
   {
    "duration": 9,
    "start_time": "2022-01-07T19:22:22.583Z"
   },
   {
    "duration": 9,
    "start_time": "2022-01-07T19:22:22.593Z"
   },
   {
    "duration": 11,
    "start_time": "2022-01-07T19:22:22.604Z"
   },
   {
    "duration": 44,
    "start_time": "2022-01-07T19:22:22.616Z"
   },
   {
    "duration": 2,
    "start_time": "2022-01-07T19:22:22.662Z"
   },
   {
    "duration": 35,
    "start_time": "2022-01-07T19:22:22.666Z"
   },
   {
    "duration": 28,
    "start_time": "2022-01-07T19:22:22.703Z"
   },
   {
    "duration": 4,
    "start_time": "2022-01-07T19:22:22.733Z"
   },
   {
    "duration": 13,
    "start_time": "2022-01-07T19:22:22.738Z"
   },
   {
    "duration": 3,
    "start_time": "2022-01-07T19:22:22.752Z"
   },
   {
    "duration": 13,
    "start_time": "2022-01-07T19:22:22.756Z"
   },
   {
    "duration": 3,
    "start_time": "2022-01-07T19:22:22.770Z"
   },
   {
    "duration": 97,
    "start_time": "2022-01-07T19:22:22.776Z"
   },
   {
    "duration": 27,
    "start_time": "2022-01-07T19:22:22.875Z"
   },
   {
    "duration": 37,
    "start_time": "2022-01-07T19:22:22.903Z"
   },
   {
    "duration": 33,
    "start_time": "2022-01-07T19:22:22.941Z"
   },
   {
    "duration": 33,
    "start_time": "2022-01-07T19:33:44.348Z"
   },
   {
    "duration": 34,
    "start_time": "2022-01-07T19:33:53.672Z"
   },
   {
    "duration": 34,
    "start_time": "2022-01-07T19:34:02.111Z"
   },
   {
    "duration": 380,
    "start_time": "2022-01-07T19:43:06.633Z"
   },
   {
    "duration": 341,
    "start_time": "2022-01-07T19:43:14.276Z"
   },
   {
    "duration": 34,
    "start_time": "2022-01-07T19:45:05.909Z"
   },
   {
    "duration": 575,
    "start_time": "2022-01-07T20:04:28.685Z"
   },
   {
    "duration": 386,
    "start_time": "2022-01-07T20:05:07.920Z"
   },
   {
    "duration": 347,
    "start_time": "2022-01-07T20:05:17.078Z"
   },
   {
    "duration": 3,
    "start_time": "2022-01-07T20:05:33.671Z"
   },
   {
    "duration": 6,
    "start_time": "2022-01-07T20:05:33.676Z"
   },
   {
    "duration": 142,
    "start_time": "2022-01-07T20:05:33.683Z"
   },
   {
    "duration": 7,
    "start_time": "2022-01-07T20:05:33.827Z"
   },
   {
    "duration": 4,
    "start_time": "2022-01-07T20:05:33.836Z"
   },
   {
    "duration": 127,
    "start_time": "2022-01-07T20:05:33.842Z"
   },
   {
    "duration": 7,
    "start_time": "2022-01-07T20:05:33.971Z"
   },
   {
    "duration": 5,
    "start_time": "2022-01-07T20:05:33.979Z"
   },
   {
    "duration": 86,
    "start_time": "2022-01-07T20:05:33.986Z"
   },
   {
    "duration": 6,
    "start_time": "2022-01-07T20:05:34.075Z"
   },
   {
    "duration": 6,
    "start_time": "2022-01-07T20:05:34.082Z"
   },
   {
    "duration": 21,
    "start_time": "2022-01-07T20:05:34.090Z"
   },
   {
    "duration": 9,
    "start_time": "2022-01-07T20:05:34.112Z"
   },
   {
    "duration": 70,
    "start_time": "2022-01-07T20:05:34.123Z"
   },
   {
    "duration": 16,
    "start_time": "2022-01-07T20:05:34.195Z"
   },
   {
    "duration": 14,
    "start_time": "2022-01-07T20:05:34.212Z"
   },
   {
    "duration": 15,
    "start_time": "2022-01-07T20:05:34.228Z"
   },
   {
    "duration": 46,
    "start_time": "2022-01-07T20:05:34.245Z"
   },
   {
    "duration": 3,
    "start_time": "2022-01-07T20:05:34.292Z"
   },
   {
    "duration": 37,
    "start_time": "2022-01-07T20:05:34.297Z"
   },
   {
    "duration": 26,
    "start_time": "2022-01-07T20:05:34.335Z"
   },
   {
    "duration": 4,
    "start_time": "2022-01-07T20:05:34.363Z"
   },
   {
    "duration": 11,
    "start_time": "2022-01-07T20:05:34.368Z"
   },
   {
    "duration": 2,
    "start_time": "2022-01-07T20:05:34.381Z"
   },
   {
    "duration": 14,
    "start_time": "2022-01-07T20:05:34.385Z"
   },
   {
    "duration": 3,
    "start_time": "2022-01-07T20:05:34.400Z"
   },
   {
    "duration": 44,
    "start_time": "2022-01-07T20:05:34.428Z"
   },
   {
    "duration": 18,
    "start_time": "2022-01-07T20:05:34.474Z"
   },
   {
    "duration": 40,
    "start_time": "2022-01-07T20:05:34.493Z"
   },
   {
    "duration": 32,
    "start_time": "2022-01-07T20:05:34.534Z"
   },
   {
    "duration": 623,
    "start_time": "2022-01-07T20:05:34.567Z"
   },
   {
    "duration": 3452,
    "start_time": "2022-01-07T20:05:31.739Z"
   },
   {
    "duration": 424,
    "start_time": "2022-01-07T20:06:08.483Z"
   },
   {
    "duration": 912,
    "start_time": "2022-01-07T20:06:11.735Z"
   },
   {
    "duration": 787,
    "start_time": "2022-01-07T20:06:21.409Z"
   },
   {
    "duration": 651,
    "start_time": "2022-01-07T20:06:45.314Z"
   },
   {
    "duration": 5,
    "start_time": "2022-01-07T20:09:15.143Z"
   },
   {
    "duration": 3435,
    "start_time": "2022-01-07T20:09:33.970Z"
   },
   {
    "duration": 3434,
    "start_time": "2022-01-07T20:09:33.972Z"
   },
   {
    "duration": 3433,
    "start_time": "2022-01-07T20:09:33.974Z"
   },
   {
    "duration": 3433,
    "start_time": "2022-01-07T20:09:33.975Z"
   },
   {
    "duration": 3433,
    "start_time": "2022-01-07T20:09:33.976Z"
   },
   {
    "duration": 3432,
    "start_time": "2022-01-07T20:09:33.978Z"
   },
   {
    "duration": 3432,
    "start_time": "2022-01-07T20:09:33.979Z"
   },
   {
    "duration": 3432,
    "start_time": "2022-01-07T20:09:33.980Z"
   },
   {
    "duration": 3432,
    "start_time": "2022-01-07T20:09:33.981Z"
   },
   {
    "duration": 3431,
    "start_time": "2022-01-07T20:09:33.983Z"
   },
   {
    "duration": 3426,
    "start_time": "2022-01-07T20:09:33.988Z"
   },
   {
    "duration": 3425,
    "start_time": "2022-01-07T20:09:33.990Z"
   },
   {
    "duration": 3425,
    "start_time": "2022-01-07T20:09:33.991Z"
   },
   {
    "duration": 3425,
    "start_time": "2022-01-07T20:09:33.992Z"
   },
   {
    "duration": 3425,
    "start_time": "2022-01-07T20:09:33.993Z"
   },
   {
    "duration": 3424,
    "start_time": "2022-01-07T20:09:33.995Z"
   },
   {
    "duration": 3423,
    "start_time": "2022-01-07T20:09:33.996Z"
   },
   {
    "duration": 3423,
    "start_time": "2022-01-07T20:09:33.997Z"
   },
   {
    "duration": 3422,
    "start_time": "2022-01-07T20:09:33.999Z"
   },
   {
    "duration": 3422,
    "start_time": "2022-01-07T20:09:34.000Z"
   },
   {
    "duration": 3422,
    "start_time": "2022-01-07T20:09:34.001Z"
   },
   {
    "duration": 3422,
    "start_time": "2022-01-07T20:09:34.002Z"
   },
   {
    "duration": 3421,
    "start_time": "2022-01-07T20:09:34.004Z"
   },
   {
    "duration": 3422,
    "start_time": "2022-01-07T20:09:34.005Z"
   },
   {
    "duration": 3422,
    "start_time": "2022-01-07T20:09:34.006Z"
   },
   {
    "duration": 3422,
    "start_time": "2022-01-07T20:09:34.007Z"
   },
   {
    "duration": 3421,
    "start_time": "2022-01-07T20:09:34.009Z"
   },
   {
    "duration": 3421,
    "start_time": "2022-01-07T20:09:34.010Z"
   },
   {
    "duration": 3421,
    "start_time": "2022-01-07T20:09:34.011Z"
   },
   {
    "duration": 3421,
    "start_time": "2022-01-07T20:09:34.012Z"
   },
   {
    "duration": 3420,
    "start_time": "2022-01-07T20:09:34.014Z"
   },
   {
    "duration": 3420,
    "start_time": "2022-01-07T20:09:34.016Z"
   },
   {
    "duration": 11650,
    "start_time": "2022-01-07T20:10:12.795Z"
   },
   {
    "duration": 34,
    "start_time": "2022-01-07T20:11:31.021Z"
   },
   {
    "duration": 5,
    "start_time": "2022-01-07T20:11:49.622Z"
   },
   {
    "duration": 3431,
    "start_time": "2022-01-07T20:12:00.716Z"
   },
   {
    "duration": 3431,
    "start_time": "2022-01-07T20:12:00.717Z"
   },
   {
    "duration": 3430,
    "start_time": "2022-01-07T20:12:00.719Z"
   },
   {
    "duration": 3429,
    "start_time": "2022-01-07T20:12:00.721Z"
   },
   {
    "duration": 3429,
    "start_time": "2022-01-07T20:12:00.722Z"
   },
   {
    "duration": 3428,
    "start_time": "2022-01-07T20:12:00.724Z"
   },
   {
    "duration": 3425,
    "start_time": "2022-01-07T20:12:00.728Z"
   },
   {
    "duration": 3425,
    "start_time": "2022-01-07T20:12:00.729Z"
   },
   {
    "duration": 3425,
    "start_time": "2022-01-07T20:12:00.730Z"
   },
   {
    "duration": 3420,
    "start_time": "2022-01-07T20:12:00.736Z"
   },
   {
    "duration": 3419,
    "start_time": "2022-01-07T20:12:00.738Z"
   },
   {
    "duration": 3419,
    "start_time": "2022-01-07T20:12:00.739Z"
   },
   {
    "duration": 3418,
    "start_time": "2022-01-07T20:12:00.741Z"
   },
   {
    "duration": 3418,
    "start_time": "2022-01-07T20:12:00.742Z"
   },
   {
    "duration": 3418,
    "start_time": "2022-01-07T20:12:00.743Z"
   },
   {
    "duration": 3417,
    "start_time": "2022-01-07T20:12:00.744Z"
   },
   {
    "duration": 3417,
    "start_time": "2022-01-07T20:12:00.745Z"
   },
   {
    "duration": 3416,
    "start_time": "2022-01-07T20:12:00.747Z"
   },
   {
    "duration": 3416,
    "start_time": "2022-01-07T20:12:00.748Z"
   },
   {
    "duration": 3414,
    "start_time": "2022-01-07T20:12:00.750Z"
   },
   {
    "duration": 3414,
    "start_time": "2022-01-07T20:12:00.751Z"
   },
   {
    "duration": 3413,
    "start_time": "2022-01-07T20:12:00.753Z"
   },
   {
    "duration": 3413,
    "start_time": "2022-01-07T20:12:00.754Z"
   },
   {
    "duration": 3413,
    "start_time": "2022-01-07T20:12:00.755Z"
   },
   {
    "duration": 3412,
    "start_time": "2022-01-07T20:12:00.757Z"
   },
   {
    "duration": 3412,
    "start_time": "2022-01-07T20:12:00.758Z"
   },
   {
    "duration": 3411,
    "start_time": "2022-01-07T20:12:00.759Z"
   },
   {
    "duration": 3410,
    "start_time": "2022-01-07T20:12:00.761Z"
   },
   {
    "duration": 3403,
    "start_time": "2022-01-07T20:12:00.769Z"
   },
   {
    "duration": 3403,
    "start_time": "2022-01-07T20:12:00.770Z"
   },
   {
    "duration": 3402,
    "start_time": "2022-01-07T20:12:00.772Z"
   },
   {
    "duration": 3402,
    "start_time": "2022-01-07T20:12:00.773Z"
   },
   {
    "duration": 6,
    "start_time": "2022-01-07T20:14:24.499Z"
   },
   {
    "duration": 5,
    "start_time": "2022-01-07T20:17:40.165Z"
   },
   {
    "duration": 364,
    "start_time": "2022-01-07T20:17:57.716Z"
   },
   {
    "duration": 3,
    "start_time": "2022-01-07T20:18:00.005Z"
   },
   {
    "duration": 613,
    "start_time": "2022-01-07T20:18:00.009Z"
   },
   {
    "duration": 145,
    "start_time": "2022-01-07T20:18:00.624Z"
   },
   {
    "duration": 12,
    "start_time": "2022-01-07T20:18:00.771Z"
   },
   {
    "duration": 6,
    "start_time": "2022-01-07T20:18:00.785Z"
   },
   {
    "duration": 134,
    "start_time": "2022-01-07T20:18:00.793Z"
   },
   {
    "duration": 7,
    "start_time": "2022-01-07T20:18:00.928Z"
   },
   {
    "duration": 9,
    "start_time": "2022-01-07T20:18:00.937Z"
   },
   {
    "duration": 87,
    "start_time": "2022-01-07T20:18:00.949Z"
   },
   {
    "duration": 6,
    "start_time": "2022-01-07T20:18:01.038Z"
   },
   {
    "duration": 17,
    "start_time": "2022-01-07T20:18:01.046Z"
   },
   {
    "duration": 26,
    "start_time": "2022-01-07T20:18:01.065Z"
   },
   {
    "duration": 17,
    "start_time": "2022-01-07T20:18:01.093Z"
   },
   {
    "duration": 58,
    "start_time": "2022-01-07T20:18:01.112Z"
   },
   {
    "duration": 9,
    "start_time": "2022-01-07T20:18:01.171Z"
   },
   {
    "duration": 5,
    "start_time": "2022-01-07T20:18:01.182Z"
   },
   {
    "duration": 7,
    "start_time": "2022-01-07T20:18:01.188Z"
   },
   {
    "duration": 49,
    "start_time": "2022-01-07T20:18:01.196Z"
   },
   {
    "duration": 2,
    "start_time": "2022-01-07T20:18:01.246Z"
   },
   {
    "duration": 38,
    "start_time": "2022-01-07T20:18:01.250Z"
   },
   {
    "duration": 28,
    "start_time": "2022-01-07T20:18:01.289Z"
   },
   {
    "duration": 10,
    "start_time": "2022-01-07T20:18:01.318Z"
   },
   {
    "duration": 15,
    "start_time": "2022-01-07T20:18:01.329Z"
   },
   {
    "duration": 3,
    "start_time": "2022-01-07T20:18:01.346Z"
   },
   {
    "duration": 17,
    "start_time": "2022-01-07T20:18:01.351Z"
   },
   {
    "duration": 3,
    "start_time": "2022-01-07T20:18:01.369Z"
   },
   {
    "duration": 74,
    "start_time": "2022-01-07T20:18:01.375Z"
   },
   {
    "duration": 21,
    "start_time": "2022-01-07T20:18:01.451Z"
   },
   {
    "duration": 23,
    "start_time": "2022-01-07T20:18:01.473Z"
   },
   {
    "duration": 54,
    "start_time": "2022-01-07T20:18:01.498Z"
   },
   {
    "duration": 6,
    "start_time": "2022-01-07T20:18:01.553Z"
   },
   {
    "duration": 10376,
    "start_time": "2022-01-07T20:18:01.560Z"
   },
   {
    "duration": 6,
    "start_time": "2022-01-07T20:19:22.662Z"
   },
   {
    "duration": 3425,
    "start_time": "2022-01-07T20:20:26.266Z"
   },
   {
    "duration": 3423,
    "start_time": "2022-01-07T20:20:26.268Z"
   },
   {
    "duration": 3423,
    "start_time": "2022-01-07T20:20:26.269Z"
   },
   {
    "duration": 3422,
    "start_time": "2022-01-07T20:20:26.271Z"
   },
   {
    "duration": 3416,
    "start_time": "2022-01-07T20:20:26.278Z"
   },
   {
    "duration": 3416,
    "start_time": "2022-01-07T20:20:26.279Z"
   },
   {
    "duration": 3416,
    "start_time": "2022-01-07T20:20:26.280Z"
   },
   {
    "duration": 3414,
    "start_time": "2022-01-07T20:20:26.282Z"
   },
   {
    "duration": 3415,
    "start_time": "2022-01-07T20:20:26.283Z"
   },
   {
    "duration": 3413,
    "start_time": "2022-01-07T20:20:26.285Z"
   },
   {
    "duration": 3413,
    "start_time": "2022-01-07T20:20:26.286Z"
   },
   {
    "duration": 3413,
    "start_time": "2022-01-07T20:20:26.287Z"
   },
   {
    "duration": 3413,
    "start_time": "2022-01-07T20:20:26.288Z"
   },
   {
    "duration": 3412,
    "start_time": "2022-01-07T20:20:26.290Z"
   },
   {
    "duration": 3412,
    "start_time": "2022-01-07T20:20:26.291Z"
   },
   {
    "duration": 3411,
    "start_time": "2022-01-07T20:20:26.292Z"
   },
   {
    "duration": 3411,
    "start_time": "2022-01-07T20:20:26.293Z"
   },
   {
    "duration": 3411,
    "start_time": "2022-01-07T20:20:26.294Z"
   },
   {
    "duration": 3411,
    "start_time": "2022-01-07T20:20:26.295Z"
   },
   {
    "duration": 3410,
    "start_time": "2022-01-07T20:20:26.297Z"
   },
   {
    "duration": 3410,
    "start_time": "2022-01-07T20:20:26.298Z"
   },
   {
    "duration": 3405,
    "start_time": "2022-01-07T20:20:26.304Z"
   },
   {
    "duration": 3405,
    "start_time": "2022-01-07T20:20:26.305Z"
   },
   {
    "duration": 3403,
    "start_time": "2022-01-07T20:20:26.307Z"
   },
   {
    "duration": 3403,
    "start_time": "2022-01-07T20:20:26.308Z"
   },
   {
    "duration": 3404,
    "start_time": "2022-01-07T20:20:26.309Z"
   },
   {
    "duration": 3404,
    "start_time": "2022-01-07T20:20:26.310Z"
   },
   {
    "duration": 3404,
    "start_time": "2022-01-07T20:20:26.311Z"
   },
   {
    "duration": 3404,
    "start_time": "2022-01-07T20:20:26.312Z"
   },
   {
    "duration": 3404,
    "start_time": "2022-01-07T20:20:26.314Z"
   },
   {
    "duration": 3405,
    "start_time": "2022-01-07T20:20:26.315Z"
   },
   {
    "duration": 3405,
    "start_time": "2022-01-07T20:20:26.316Z"
   },
   {
    "duration": 423,
    "start_time": "2022-01-07T20:22:18.463Z"
   },
   {
    "duration": 3,
    "start_time": "2022-01-07T20:22:26.456Z"
   },
   {
    "duration": 550,
    "start_time": "2022-01-07T20:22:26.460Z"
   },
   {
    "duration": 147,
    "start_time": "2022-01-07T20:22:27.012Z"
   },
   {
    "duration": 14,
    "start_time": "2022-01-07T20:22:27.161Z"
   },
   {
    "duration": 2,
    "start_time": "2022-01-07T20:22:27.176Z"
   },
   {
    "duration": 125,
    "start_time": "2022-01-07T20:22:27.180Z"
   },
   {
    "duration": 7,
    "start_time": "2022-01-07T20:22:27.307Z"
   },
   {
    "duration": 11,
    "start_time": "2022-01-07T20:22:27.316Z"
   },
   {
    "duration": 83,
    "start_time": "2022-01-07T20:22:27.329Z"
   },
   {
    "duration": 7,
    "start_time": "2022-01-07T20:22:27.414Z"
   },
   {
    "duration": 6,
    "start_time": "2022-01-07T20:22:27.422Z"
   },
   {
    "duration": 19,
    "start_time": "2022-01-07T20:22:27.429Z"
   },
   {
    "duration": 7,
    "start_time": "2022-01-07T20:22:27.450Z"
   },
   {
    "duration": 49,
    "start_time": "2022-01-07T20:22:27.458Z"
   },
   {
    "duration": 8,
    "start_time": "2022-01-07T20:22:27.509Z"
   },
   {
    "duration": 3,
    "start_time": "2022-01-07T20:22:27.518Z"
   },
   {
    "duration": 4,
    "start_time": "2022-01-07T20:22:27.523Z"
   },
   {
    "duration": 47,
    "start_time": "2022-01-07T20:22:27.528Z"
   },
   {
    "duration": 1,
    "start_time": "2022-01-07T20:22:27.577Z"
   },
   {
    "duration": 34,
    "start_time": "2022-01-07T20:22:27.580Z"
   },
   {
    "duration": 31,
    "start_time": "2022-01-07T20:22:27.615Z"
   },
   {
    "duration": 5,
    "start_time": "2022-01-07T20:22:27.647Z"
   },
   {
    "duration": 12,
    "start_time": "2022-01-07T20:22:27.653Z"
   },
   {
    "duration": 3,
    "start_time": "2022-01-07T20:22:27.667Z"
   },
   {
    "duration": 13,
    "start_time": "2022-01-07T20:22:27.672Z"
   },
   {
    "duration": 3,
    "start_time": "2022-01-07T20:22:27.687Z"
   },
   {
    "duration": 76,
    "start_time": "2022-01-07T20:22:27.693Z"
   },
   {
    "duration": 19,
    "start_time": "2022-01-07T20:22:27.771Z"
   },
   {
    "duration": 38,
    "start_time": "2022-01-07T20:22:27.792Z"
   },
   {
    "duration": 35,
    "start_time": "2022-01-07T20:22:27.831Z"
   },
   {
    "duration": 5,
    "start_time": "2022-01-07T20:22:27.867Z"
   },
   {
    "duration": 10019,
    "start_time": "2022-01-07T20:22:27.874Z"
   },
   {
    "duration": 9265,
    "start_time": "2022-01-07T20:23:19.903Z"
   },
   {
    "duration": 3432,
    "start_time": "2022-01-07T20:27:03.428Z"
   },
   {
    "duration": 3431,
    "start_time": "2022-01-07T20:27:03.430Z"
   },
   {
    "duration": 3430,
    "start_time": "2022-01-07T20:27:03.431Z"
   },
   {
    "duration": 3429,
    "start_time": "2022-01-07T20:27:03.433Z"
   },
   {
    "duration": 3429,
    "start_time": "2022-01-07T20:27:03.434Z"
   },
   {
    "duration": 3428,
    "start_time": "2022-01-07T20:27:03.436Z"
   },
   {
    "duration": 3428,
    "start_time": "2022-01-07T20:27:03.437Z"
   },
   {
    "duration": 3427,
    "start_time": "2022-01-07T20:27:03.438Z"
   },
   {
    "duration": 3427,
    "start_time": "2022-01-07T20:27:03.439Z"
   },
   {
    "duration": 3426,
    "start_time": "2022-01-07T20:27:03.441Z"
   },
   {
    "duration": 3425,
    "start_time": "2022-01-07T20:27:03.442Z"
   },
   {
    "duration": 3425,
    "start_time": "2022-01-07T20:27:03.443Z"
   },
   {
    "duration": 3425,
    "start_time": "2022-01-07T20:27:03.444Z"
   },
   {
    "duration": 3424,
    "start_time": "2022-01-07T20:27:03.446Z"
   },
   {
    "duration": 3421,
    "start_time": "2022-01-07T20:27:03.451Z"
   },
   {
    "duration": 3420,
    "start_time": "2022-01-07T20:27:03.453Z"
   },
   {
    "duration": 3419,
    "start_time": "2022-01-07T20:27:03.455Z"
   },
   {
    "duration": 3418,
    "start_time": "2022-01-07T20:27:03.457Z"
   },
   {
    "duration": 3418,
    "start_time": "2022-01-07T20:27:03.458Z"
   },
   {
    "duration": 3418,
    "start_time": "2022-01-07T20:27:03.459Z"
   },
   {
    "duration": 3418,
    "start_time": "2022-01-07T20:27:03.460Z"
   },
   {
    "duration": 3417,
    "start_time": "2022-01-07T20:27:03.462Z"
   },
   {
    "duration": 3417,
    "start_time": "2022-01-07T20:27:03.463Z"
   },
   {
    "duration": 3416,
    "start_time": "2022-01-07T20:27:03.464Z"
   },
   {
    "duration": 3412,
    "start_time": "2022-01-07T20:27:03.469Z"
   },
   {
    "duration": 3411,
    "start_time": "2022-01-07T20:27:03.471Z"
   },
   {
    "duration": 3411,
    "start_time": "2022-01-07T20:27:03.472Z"
   },
   {
    "duration": 3408,
    "start_time": "2022-01-07T20:27:03.476Z"
   },
   {
    "duration": 3407,
    "start_time": "2022-01-07T20:27:03.478Z"
   },
   {
    "duration": 3407,
    "start_time": "2022-01-07T20:27:03.479Z"
   },
   {
    "duration": 3407,
    "start_time": "2022-01-07T20:27:03.480Z"
   },
   {
    "duration": 3406,
    "start_time": "2022-01-07T20:27:03.482Z"
   },
   {
    "duration": 4,
    "start_time": "2022-01-07T20:27:18.332Z"
   },
   {
    "duration": 670,
    "start_time": "2022-01-07T20:27:18.338Z"
   },
   {
    "duration": 162,
    "start_time": "2022-01-07T20:27:19.010Z"
   },
   {
    "duration": 13,
    "start_time": "2022-01-07T20:27:19.174Z"
   },
   {
    "duration": 3,
    "start_time": "2022-01-07T20:27:19.189Z"
   },
   {
    "duration": 180,
    "start_time": "2022-01-07T20:27:19.194Z"
   },
   {
    "duration": 10,
    "start_time": "2022-01-07T20:27:19.376Z"
   },
   {
    "duration": 6,
    "start_time": "2022-01-07T20:27:19.387Z"
   },
   {
    "duration": 83,
    "start_time": "2022-01-07T20:27:19.396Z"
   },
   {
    "duration": 6,
    "start_time": "2022-01-07T20:27:19.481Z"
   },
   {
    "duration": 3,
    "start_time": "2022-01-07T20:27:19.489Z"
   },
   {
    "duration": 20,
    "start_time": "2022-01-07T20:27:19.493Z"
   },
   {
    "duration": 13,
    "start_time": "2022-01-07T20:27:19.515Z"
   },
   {
    "duration": 38,
    "start_time": "2022-01-07T20:27:19.529Z"
   },
   {
    "duration": 10,
    "start_time": "2022-01-07T20:27:19.568Z"
   },
   {
    "duration": 6,
    "start_time": "2022-01-07T20:27:19.579Z"
   },
   {
    "duration": 6,
    "start_time": "2022-01-07T20:27:19.587Z"
   },
   {
    "duration": 49,
    "start_time": "2022-01-07T20:27:19.594Z"
   },
   {
    "duration": 2,
    "start_time": "2022-01-07T20:27:19.645Z"
   },
   {
    "duration": 36,
    "start_time": "2022-01-07T20:27:19.649Z"
   },
   {
    "duration": 27,
    "start_time": "2022-01-07T20:27:19.686Z"
   },
   {
    "duration": 16,
    "start_time": "2022-01-07T20:27:19.715Z"
   },
   {
    "duration": 14,
    "start_time": "2022-01-07T20:27:19.733Z"
   },
   {
    "duration": 3,
    "start_time": "2022-01-07T20:27:19.749Z"
   },
   {
    "duration": 16,
    "start_time": "2022-01-07T20:27:19.754Z"
   },
   {
    "duration": 3,
    "start_time": "2022-01-07T20:27:19.772Z"
   },
   {
    "duration": 71,
    "start_time": "2022-01-07T20:27:19.778Z"
   },
   {
    "duration": 21,
    "start_time": "2022-01-07T20:27:19.851Z"
   },
   {
    "duration": 22,
    "start_time": "2022-01-07T20:27:19.873Z"
   },
   {
    "duration": 3434,
    "start_time": "2022-01-07T20:27:27.929Z"
   },
   {
    "duration": 3433,
    "start_time": "2022-01-07T20:27:27.931Z"
   },
   {
    "duration": 3432,
    "start_time": "2022-01-07T20:27:27.933Z"
   },
   {
    "duration": 36,
    "start_time": "2022-01-07T20:28:14.035Z"
   },
   {
    "duration": 3435,
    "start_time": "2022-01-07T20:29:04.020Z"
   },
   {
    "duration": 3436,
    "start_time": "2022-01-07T20:29:26.548Z"
   },
   {
    "duration": 3436,
    "start_time": "2022-01-07T20:29:26.549Z"
   },
   {
    "duration": 3434,
    "start_time": "2022-01-07T20:29:26.551Z"
   },
   {
    "duration": 3434,
    "start_time": "2022-01-07T20:29:26.552Z"
   },
   {
    "duration": 3434,
    "start_time": "2022-01-07T20:29:26.553Z"
   },
   {
    "duration": 3434,
    "start_time": "2022-01-07T20:29:26.554Z"
   },
   {
    "duration": 3433,
    "start_time": "2022-01-07T20:29:26.556Z"
   },
   {
    "duration": 3433,
    "start_time": "2022-01-07T20:29:26.557Z"
   },
   {
    "duration": 3432,
    "start_time": "2022-01-07T20:29:26.559Z"
   },
   {
    "duration": 3432,
    "start_time": "2022-01-07T20:29:26.560Z"
   },
   {
    "duration": 3432,
    "start_time": "2022-01-07T20:29:26.561Z"
   },
   {
    "duration": 3432,
    "start_time": "2022-01-07T20:29:26.562Z"
   },
   {
    "duration": 3428,
    "start_time": "2022-01-07T20:29:26.567Z"
   },
   {
    "duration": 3427,
    "start_time": "2022-01-07T20:29:26.569Z"
   },
   {
    "duration": 3426,
    "start_time": "2022-01-07T20:29:26.570Z"
   },
   {
    "duration": 3426,
    "start_time": "2022-01-07T20:29:26.571Z"
   },
   {
    "duration": 3425,
    "start_time": "2022-01-07T20:29:26.573Z"
   },
   {
    "duration": 3425,
    "start_time": "2022-01-07T20:29:26.574Z"
   },
   {
    "duration": 3424,
    "start_time": "2022-01-07T20:29:26.575Z"
   },
   {
    "duration": 3424,
    "start_time": "2022-01-07T20:29:26.576Z"
   },
   {
    "duration": 3423,
    "start_time": "2022-01-07T20:29:26.578Z"
   },
   {
    "duration": 3424,
    "start_time": "2022-01-07T20:29:26.579Z"
   },
   {
    "duration": 3423,
    "start_time": "2022-01-07T20:29:26.580Z"
   },
   {
    "duration": 3423,
    "start_time": "2022-01-07T20:29:26.581Z"
   },
   {
    "duration": 3422,
    "start_time": "2022-01-07T20:29:26.583Z"
   },
   {
    "duration": 3422,
    "start_time": "2022-01-07T20:29:26.584Z"
   },
   {
    "duration": 3421,
    "start_time": "2022-01-07T20:29:26.585Z"
   },
   {
    "duration": 3421,
    "start_time": "2022-01-07T20:29:26.586Z"
   },
   {
    "duration": 3420,
    "start_time": "2022-01-07T20:29:26.588Z"
   },
   {
    "duration": 3420,
    "start_time": "2022-01-07T20:29:26.589Z"
   },
   {
    "duration": 3418,
    "start_time": "2022-01-07T20:29:26.591Z"
   },
   {
    "duration": 3414,
    "start_time": "2022-01-07T20:29:26.596Z"
   },
   {
    "duration": 461,
    "start_time": "2022-01-07T20:29:46.560Z"
   },
   {
    "duration": 4,
    "start_time": "2022-01-07T20:29:48.227Z"
   },
   {
    "duration": 770,
    "start_time": "2022-01-07T20:29:48.233Z"
   },
   {
    "duration": 196,
    "start_time": "2022-01-07T20:29:49.005Z"
   },
   {
    "duration": 25,
    "start_time": "2022-01-07T20:29:49.203Z"
   },
   {
    "duration": 2,
    "start_time": "2022-01-07T20:29:49.230Z"
   },
   {
    "duration": 152,
    "start_time": "2022-01-07T20:29:49.234Z"
   },
   {
    "duration": 7,
    "start_time": "2022-01-07T20:29:49.388Z"
   },
   {
    "duration": 4,
    "start_time": "2022-01-07T20:29:49.396Z"
   },
   {
    "duration": 84,
    "start_time": "2022-01-07T20:29:49.403Z"
   },
   {
    "duration": 7,
    "start_time": "2022-01-07T20:29:49.490Z"
   },
   {
    "duration": 4,
    "start_time": "2022-01-07T20:29:49.498Z"
   },
   {
    "duration": 22,
    "start_time": "2022-01-07T20:29:49.503Z"
   },
   {
    "duration": 7,
    "start_time": "2022-01-07T20:29:49.526Z"
   },
   {
    "duration": 39,
    "start_time": "2022-01-07T20:29:49.535Z"
   },
   {
    "duration": 9,
    "start_time": "2022-01-07T20:29:49.575Z"
   },
   {
    "duration": 3,
    "start_time": "2022-01-07T20:29:49.586Z"
   },
   {
    "duration": 4,
    "start_time": "2022-01-07T20:29:49.591Z"
   },
   {
    "duration": 47,
    "start_time": "2022-01-07T20:29:49.597Z"
   },
   {
    "duration": 3,
    "start_time": "2022-01-07T20:29:49.645Z"
   },
   {
    "duration": 34,
    "start_time": "2022-01-07T20:29:49.649Z"
   },
   {
    "duration": 28,
    "start_time": "2022-01-07T20:29:49.684Z"
   },
   {
    "duration": 4,
    "start_time": "2022-01-07T20:29:49.714Z"
   },
   {
    "duration": 13,
    "start_time": "2022-01-07T20:29:49.727Z"
   },
   {
    "duration": 4,
    "start_time": "2022-01-07T20:29:49.742Z"
   },
   {
    "duration": 15,
    "start_time": "2022-01-07T20:29:49.747Z"
   },
   {
    "duration": 3,
    "start_time": "2022-01-07T20:29:49.764Z"
   },
   {
    "duration": 81,
    "start_time": "2022-01-07T20:29:49.771Z"
   },
   {
    "duration": 21,
    "start_time": "2022-01-07T20:29:49.854Z"
   },
   {
    "duration": 23,
    "start_time": "2022-01-07T20:29:49.876Z"
   },
   {
    "duration": 8719,
    "start_time": "2022-01-07T20:29:49.900Z"
   },
   {
    "duration": 3443,
    "start_time": "2022-01-07T20:29:55.178Z"
   },
   {
    "duration": 3442,
    "start_time": "2022-01-07T20:29:55.180Z"
   },
   {
    "duration": 7954,
    "start_time": "2022-01-07T20:30:11.917Z"
   },
   {
    "duration": 8826,
    "start_time": "2022-01-07T20:30:38.979Z"
   },
   {
    "duration": 8035,
    "start_time": "2022-01-07T20:31:09.458Z"
   },
   {
    "duration": 34,
    "start_time": "2022-01-07T20:31:39.730Z"
   },
   {
    "duration": 8462,
    "start_time": "2022-01-07T20:31:56.852Z"
   },
   {
    "duration": 8515,
    "start_time": "2022-01-07T20:32:21.376Z"
   },
   {
    "duration": 140,
    "start_time": "2022-01-07T20:33:49.017Z"
   },
   {
    "duration": 122,
    "start_time": "2022-01-07T20:33:59.343Z"
   },
   {
    "duration": 103,
    "start_time": "2022-01-07T20:34:16.992Z"
   },
   {
    "duration": 3,
    "start_time": "2022-01-07T20:34:28.226Z"
   },
   {
    "duration": 15,
    "start_time": "2022-01-07T20:34:28.230Z"
   },
   {
    "duration": 152,
    "start_time": "2022-01-07T20:34:28.246Z"
   },
   {
    "duration": 8,
    "start_time": "2022-01-07T20:34:28.400Z"
   },
   {
    "duration": 5,
    "start_time": "2022-01-07T20:34:28.409Z"
   },
   {
    "duration": 121,
    "start_time": "2022-01-07T20:34:28.415Z"
   },
   {
    "duration": 8,
    "start_time": "2022-01-07T20:34:28.537Z"
   },
   {
    "duration": 4,
    "start_time": "2022-01-07T20:34:28.546Z"
   },
   {
    "duration": 88,
    "start_time": "2022-01-07T20:34:28.553Z"
   },
   {
    "duration": 6,
    "start_time": "2022-01-07T20:34:28.643Z"
   },
   {
    "duration": 3,
    "start_time": "2022-01-07T20:34:28.651Z"
   },
   {
    "duration": 21,
    "start_time": "2022-01-07T20:34:28.655Z"
   },
   {
    "duration": 9,
    "start_time": "2022-01-07T20:34:28.677Z"
   },
   {
    "duration": 46,
    "start_time": "2022-01-07T20:34:28.687Z"
   },
   {
    "duration": 9,
    "start_time": "2022-01-07T20:34:28.735Z"
   },
   {
    "duration": 5,
    "start_time": "2022-01-07T20:34:28.746Z"
   },
   {
    "duration": 5,
    "start_time": "2022-01-07T20:34:28.752Z"
   },
   {
    "duration": 41,
    "start_time": "2022-01-07T20:34:28.759Z"
   },
   {
    "duration": 3,
    "start_time": "2022-01-07T20:34:28.801Z"
   },
   {
    "duration": 49,
    "start_time": "2022-01-07T20:34:28.806Z"
   },
   {
    "duration": 26,
    "start_time": "2022-01-07T20:34:28.856Z"
   },
   {
    "duration": 5,
    "start_time": "2022-01-07T20:34:28.884Z"
   },
   {
    "duration": 11,
    "start_time": "2022-01-07T20:34:28.890Z"
   },
   {
    "duration": 4,
    "start_time": "2022-01-07T20:34:28.903Z"
   },
   {
    "duration": 28,
    "start_time": "2022-01-07T20:34:28.908Z"
   },
   {
    "duration": 2,
    "start_time": "2022-01-07T20:34:28.938Z"
   },
   {
    "duration": 115,
    "start_time": "2022-01-07T20:34:28.943Z"
   },
   {
    "duration": 3444,
    "start_time": "2022-01-07T20:34:25.616Z"
   },
   {
    "duration": 3443,
    "start_time": "2022-01-07T20:34:25.618Z"
   },
   {
    "duration": 3442,
    "start_time": "2022-01-07T20:34:25.620Z"
   },
   {
    "duration": 3440,
    "start_time": "2022-01-07T20:34:25.622Z"
   },
   {
    "duration": 3439,
    "start_time": "2022-01-07T20:34:25.624Z"
   },
   {
    "duration": 111,
    "start_time": "2022-01-07T20:34:47.928Z"
   },
   {
    "duration": 3,
    "start_time": "2022-01-07T20:34:59.834Z"
   },
   {
    "duration": 557,
    "start_time": "2022-01-07T20:34:59.839Z"
   },
   {
    "duration": 147,
    "start_time": "2022-01-07T20:35:00.398Z"
   },
   {
    "duration": 13,
    "start_time": "2022-01-07T20:35:00.546Z"
   },
   {
    "duration": 2,
    "start_time": "2022-01-07T20:35:00.561Z"
   },
   {
    "duration": 125,
    "start_time": "2022-01-07T20:35:00.564Z"
   },
   {
    "duration": 7,
    "start_time": "2022-01-07T20:35:00.691Z"
   },
   {
    "duration": 8,
    "start_time": "2022-01-07T20:35:00.700Z"
   },
   {
    "duration": 84,
    "start_time": "2022-01-07T20:35:00.710Z"
   },
   {
    "duration": 6,
    "start_time": "2022-01-07T20:35:00.797Z"
   },
   {
    "duration": 11,
    "start_time": "2022-01-07T20:35:00.804Z"
   },
   {
    "duration": 24,
    "start_time": "2022-01-07T20:35:00.816Z"
   },
   {
    "duration": 14,
    "start_time": "2022-01-07T20:35:00.841Z"
   },
   {
    "duration": 44,
    "start_time": "2022-01-07T20:35:00.857Z"
   },
   {
    "duration": 17,
    "start_time": "2022-01-07T20:35:00.902Z"
   },
   {
    "duration": 14,
    "start_time": "2022-01-07T20:35:00.921Z"
   },
   {
    "duration": 19,
    "start_time": "2022-01-07T20:35:00.937Z"
   },
   {
    "duration": 47,
    "start_time": "2022-01-07T20:35:00.957Z"
   },
   {
    "duration": 2,
    "start_time": "2022-01-07T20:35:01.005Z"
   },
   {
    "duration": 41,
    "start_time": "2022-01-07T20:35:01.009Z"
   },
   {
    "duration": 27,
    "start_time": "2022-01-07T20:35:01.051Z"
   },
   {
    "duration": 4,
    "start_time": "2022-01-07T20:35:01.080Z"
   },
   {
    "duration": 15,
    "start_time": "2022-01-07T20:35:01.086Z"
   },
   {
    "duration": 4,
    "start_time": "2022-01-07T20:35:01.103Z"
   },
   {
    "duration": 31,
    "start_time": "2022-01-07T20:35:01.109Z"
   },
   {
    "duration": 4,
    "start_time": "2022-01-07T20:35:01.141Z"
   },
   {
    "duration": 127,
    "start_time": "2022-01-07T20:35:01.147Z"
   },
   {
    "duration": 3430,
    "start_time": "2022-01-07T20:34:57.846Z"
   },
   {
    "duration": 3430,
    "start_time": "2022-01-07T20:34:57.847Z"
   },
   {
    "duration": 3430,
    "start_time": "2022-01-07T20:34:57.848Z"
   },
   {
    "duration": 3430,
    "start_time": "2022-01-07T20:34:57.849Z"
   },
   {
    "duration": 3429,
    "start_time": "2022-01-07T20:34:57.850Z"
   },
   {
    "duration": 50,
    "start_time": "2022-01-07T20:35:11.205Z"
   },
   {
    "duration": 132,
    "start_time": "2022-01-07T20:36:01.026Z"
   },
   {
    "duration": 107,
    "start_time": "2022-01-07T20:36:41.368Z"
   },
   {
    "duration": 58,
    "start_time": "2022-01-07T20:36:45.290Z"
   },
   {
    "duration": 115,
    "start_time": "2022-01-07T20:36:57.069Z"
   },
   {
    "duration": 150,
    "start_time": "2022-01-07T20:37:10.896Z"
   },
   {
    "duration": 112,
    "start_time": "2022-01-07T20:37:20.437Z"
   },
   {
    "duration": 51,
    "start_time": "2022-01-07T20:37:33.868Z"
   },
   {
    "duration": 17,
    "start_time": "2022-01-07T20:41:34.437Z"
   },
   {
    "duration": 8,
    "start_time": "2022-01-07T20:41:45.746Z"
   },
   {
    "duration": 9,
    "start_time": "2022-01-07T20:42:13.544Z"
   },
   {
    "duration": 9,
    "start_time": "2022-01-07T20:42:25.340Z"
   },
   {
    "duration": 49,
    "start_time": "2022-01-07T20:42:32.285Z"
   },
   {
    "duration": 4,
    "start_time": "2022-01-07T20:42:33.418Z"
   },
   {
    "duration": 7,
    "start_time": "2022-01-07T20:42:33.423Z"
   },
   {
    "duration": 153,
    "start_time": "2022-01-07T20:42:33.432Z"
   },
   {
    "duration": 7,
    "start_time": "2022-01-07T20:42:33.588Z"
   },
   {
    "duration": 4,
    "start_time": "2022-01-07T20:42:33.597Z"
   },
   {
    "duration": 130,
    "start_time": "2022-01-07T20:42:33.602Z"
   },
   {
    "duration": 7,
    "start_time": "2022-01-07T20:42:33.734Z"
   },
   {
    "duration": 5,
    "start_time": "2022-01-07T20:42:33.743Z"
   },
   {
    "duration": 87,
    "start_time": "2022-01-07T20:42:33.751Z"
   },
   {
    "duration": 6,
    "start_time": "2022-01-07T20:42:33.840Z"
   },
   {
    "duration": 6,
    "start_time": "2022-01-07T20:42:33.848Z"
   },
   {
    "duration": 21,
    "start_time": "2022-01-07T20:42:33.855Z"
   },
   {
    "duration": 9,
    "start_time": "2022-01-07T20:42:33.877Z"
   },
   {
    "duration": 39,
    "start_time": "2022-01-07T20:42:33.887Z"
   },
   {
    "duration": 8,
    "start_time": "2022-01-07T20:42:33.928Z"
   },
   {
    "duration": 5,
    "start_time": "2022-01-07T20:42:33.937Z"
   },
   {
    "duration": 5,
    "start_time": "2022-01-07T20:42:33.943Z"
   },
   {
    "duration": 41,
    "start_time": "2022-01-07T20:42:33.949Z"
   },
   {
    "duration": 2,
    "start_time": "2022-01-07T20:42:33.991Z"
   },
   {
    "duration": 46,
    "start_time": "2022-01-07T20:42:33.994Z"
   },
   {
    "duration": 25,
    "start_time": "2022-01-07T20:42:34.041Z"
   },
   {
    "duration": 4,
    "start_time": "2022-01-07T20:42:34.068Z"
   },
   {
    "duration": 11,
    "start_time": "2022-01-07T20:42:34.074Z"
   },
   {
    "duration": 3,
    "start_time": "2022-01-07T20:42:34.086Z"
   },
   {
    "duration": 36,
    "start_time": "2022-01-07T20:42:34.091Z"
   },
   {
    "duration": 10,
    "start_time": "2022-01-07T20:42:34.129Z"
   },
   {
    "duration": 49,
    "start_time": "2022-01-07T20:42:34.142Z"
   },
   {
    "duration": 34,
    "start_time": "2022-01-07T20:42:34.193Z"
   },
   {
    "duration": 24,
    "start_time": "2022-01-07T20:42:34.228Z"
   },
   {
    "duration": 9576,
    "start_time": "2022-01-07T20:42:34.254Z"
   },
   {
    "duration": 3425,
    "start_time": "2022-01-07T20:42:40.407Z"
   },
   {
    "duration": 3423,
    "start_time": "2022-01-07T20:42:40.409Z"
   },
   {
    "duration": 34,
    "start_time": "2022-01-07T21:16:53.014Z"
   },
   {
    "duration": 5,
    "start_time": "2022-01-07T21:24:36.707Z"
   },
   {
    "duration": 5,
    "start_time": "2022-01-08T15:41:42.503Z"
   },
   {
    "duration": 355,
    "start_time": "2022-01-08T15:43:02.882Z"
   },
   {
    "duration": 228,
    "start_time": "2022-01-08T15:43:18.837Z"
   },
   {
    "duration": 6,
    "start_time": "2022-01-08T15:43:25.476Z"
   },
   {
    "duration": 3,
    "start_time": "2022-01-08T15:43:27.480Z"
   },
   {
    "duration": 559,
    "start_time": "2022-01-08T15:43:27.485Z"
   },
   {
    "duration": 167,
    "start_time": "2022-01-08T15:43:28.047Z"
   },
   {
    "duration": 14,
    "start_time": "2022-01-08T15:43:28.215Z"
   },
   {
    "duration": 2,
    "start_time": "2022-01-08T15:43:28.230Z"
   },
   {
    "duration": 144,
    "start_time": "2022-01-08T15:43:28.234Z"
   },
   {
    "duration": 8,
    "start_time": "2022-01-08T15:43:28.380Z"
   },
   {
    "duration": 4,
    "start_time": "2022-01-08T15:43:28.390Z"
   },
   {
    "duration": 100,
    "start_time": "2022-01-08T15:43:28.396Z"
   },
   {
    "duration": 7,
    "start_time": "2022-01-08T15:43:28.498Z"
   },
   {
    "duration": 4,
    "start_time": "2022-01-08T15:43:28.507Z"
   },
   {
    "duration": 23,
    "start_time": "2022-01-08T15:43:28.513Z"
   },
   {
    "duration": 12,
    "start_time": "2022-01-08T15:43:28.538Z"
   },
   {
    "duration": 32,
    "start_time": "2022-01-08T15:43:28.551Z"
   },
   {
    "duration": 9,
    "start_time": "2022-01-08T15:43:28.585Z"
   },
   {
    "duration": 4,
    "start_time": "2022-01-08T15:43:28.596Z"
   },
   {
    "duration": 6,
    "start_time": "2022-01-08T15:43:28.602Z"
   },
   {
    "duration": 53,
    "start_time": "2022-01-08T15:43:28.609Z"
   },
   {
    "duration": 2,
    "start_time": "2022-01-08T15:43:28.664Z"
   },
   {
    "duration": 44,
    "start_time": "2022-01-08T15:43:28.667Z"
   },
   {
    "duration": 30,
    "start_time": "2022-01-08T15:43:28.712Z"
   },
   {
    "duration": 5,
    "start_time": "2022-01-08T15:43:28.744Z"
   },
   {
    "duration": 14,
    "start_time": "2022-01-08T15:43:28.761Z"
   },
   {
    "duration": 6,
    "start_time": "2022-01-08T15:43:28.776Z"
   },
   {
    "duration": 17,
    "start_time": "2022-01-08T15:43:28.784Z"
   },
   {
    "duration": 14,
    "start_time": "2022-01-08T15:43:28.803Z"
   },
   {
    "duration": 91,
    "start_time": "2022-01-08T15:43:28.821Z"
   },
   {
    "duration": 21,
    "start_time": "2022-01-08T15:43:28.914Z"
   },
   {
    "duration": 44,
    "start_time": "2022-01-08T15:43:28.937Z"
   },
   {
    "duration": 38,
    "start_time": "2022-01-08T15:43:28.982Z"
   },
   {
    "duration": 6037,
    "start_time": "2022-01-08T15:43:29.021Z"
   },
   {
    "duration": 3941,
    "start_time": "2022-01-08T15:43:31.119Z"
   },
   {
    "duration": 3940,
    "start_time": "2022-01-08T15:43:31.121Z"
   },
   {
    "duration": 7431,
    "start_time": "2022-01-08T15:43:57.720Z"
   },
   {
    "duration": 7215,
    "start_time": "2022-01-08T15:44:13.789Z"
   },
   {
    "duration": 6503,
    "start_time": "2022-01-08T15:44:29.979Z"
   },
   {
    "duration": 5897,
    "start_time": "2022-01-08T15:44:55.823Z"
   },
   {
    "duration": 6556,
    "start_time": "2022-01-08T15:45:13.175Z"
   },
   {
    "duration": 7015,
    "start_time": "2022-01-08T15:45:28.947Z"
   },
   {
    "duration": 8,
    "start_time": "2022-01-08T15:45:54.554Z"
   },
   {
    "duration": 7729,
    "start_time": "2022-01-08T16:04:37.349Z"
   },
   {
    "duration": 344,
    "start_time": "2022-01-08T16:04:52.081Z"
   },
   {
    "duration": 86,
    "start_time": "2022-01-08T16:05:09.832Z"
   },
   {
    "duration": 270,
    "start_time": "2022-01-08T16:08:26.070Z"
   },
   {
    "duration": 273,
    "start_time": "2022-01-08T16:08:37.421Z"
   },
   {
    "duration": 40,
    "start_time": "2022-01-08T16:09:01.490Z"
   },
   {
    "duration": 7759,
    "start_time": "2022-01-08T16:10:28.144Z"
   },
   {
    "duration": 7636,
    "start_time": "2022-01-08T16:10:44.678Z"
   },
   {
    "duration": 5993,
    "start_time": "2022-01-08T16:17:48.599Z"
   },
   {
    "duration": 8315,
    "start_time": "2022-01-08T16:18:00.476Z"
   },
   {
    "duration": 6487,
    "start_time": "2022-01-08T16:18:30.166Z"
   },
   {
    "duration": 6264,
    "start_time": "2022-01-08T16:18:43.528Z"
   },
   {
    "duration": 3,
    "start_time": "2022-01-08T16:19:04.583Z"
   },
   {
    "duration": 6,
    "start_time": "2022-01-08T16:19:04.588Z"
   },
   {
    "duration": 169,
    "start_time": "2022-01-08T16:19:04.596Z"
   },
   {
    "duration": 8,
    "start_time": "2022-01-08T16:19:04.767Z"
   },
   {
    "duration": 4,
    "start_time": "2022-01-08T16:19:04.777Z"
   },
   {
    "duration": 148,
    "start_time": "2022-01-08T16:19:04.783Z"
   },
   {
    "duration": 8,
    "start_time": "2022-01-08T16:19:04.933Z"
   },
   {
    "duration": 5,
    "start_time": "2022-01-08T16:19:04.943Z"
   },
   {
    "duration": 112,
    "start_time": "2022-01-08T16:19:04.951Z"
   },
   {
    "duration": 7,
    "start_time": "2022-01-08T16:19:05.065Z"
   },
   {
    "duration": 7,
    "start_time": "2022-01-08T16:19:05.073Z"
   },
   {
    "duration": 21,
    "start_time": "2022-01-08T16:19:05.082Z"
   },
   {
    "duration": 8,
    "start_time": "2022-01-08T16:19:05.105Z"
   },
   {
    "duration": 32,
    "start_time": "2022-01-08T16:19:05.115Z"
   },
   {
    "duration": 9,
    "start_time": "2022-01-08T16:19:05.148Z"
   },
   {
    "duration": 4,
    "start_time": "2022-01-08T16:19:05.159Z"
   },
   {
    "duration": 5,
    "start_time": "2022-01-08T16:19:05.164Z"
   },
   {
    "duration": 47,
    "start_time": "2022-01-08T16:19:05.171Z"
   },
   {
    "duration": 2,
    "start_time": "2022-01-08T16:19:05.220Z"
   },
   {
    "duration": 51,
    "start_time": "2022-01-08T16:19:05.224Z"
   },
   {
    "duration": 31,
    "start_time": "2022-01-08T16:19:05.277Z"
   },
   {
    "duration": 6,
    "start_time": "2022-01-08T16:19:05.309Z"
   },
   {
    "duration": 14,
    "start_time": "2022-01-08T16:19:05.316Z"
   },
   {
    "duration": 4,
    "start_time": "2022-01-08T16:19:05.332Z"
   },
   {
    "duration": 39,
    "start_time": "2022-01-08T16:19:05.337Z"
   },
   {
    "duration": 11,
    "start_time": "2022-01-08T16:19:05.377Z"
   },
   {
    "duration": 73,
    "start_time": "2022-01-08T16:19:05.391Z"
   },
   {
    "duration": 23,
    "start_time": "2022-01-08T16:19:05.466Z"
   },
   {
    "duration": 6448,
    "start_time": "2022-01-08T16:19:05.490Z"
   },
   {
    "duration": 3906,
    "start_time": "2022-01-08T16:19:08.034Z"
   },
   {
    "duration": 3905,
    "start_time": "2022-01-08T16:19:08.036Z"
   },
   {
    "duration": 3904,
    "start_time": "2022-01-08T16:19:08.038Z"
   },
   {
    "duration": 3905,
    "start_time": "2022-01-08T16:19:08.039Z"
   },
   {
    "duration": 3905,
    "start_time": "2022-01-08T16:19:08.040Z"
   },
   {
    "duration": 7095,
    "start_time": "2022-01-08T16:20:12.473Z"
   },
   {
    "duration": 28,
    "start_time": "2022-01-08T16:20:53.054Z"
   },
   {
    "duration": 2,
    "start_time": "2022-01-08T16:21:03.232Z"
   },
   {
    "duration": 39,
    "start_time": "2022-01-08T16:21:10.780Z"
   },
   {
    "duration": 3,
    "start_time": "2022-01-08T16:21:12.103Z"
   },
   {
    "duration": 28,
    "start_time": "2022-01-08T16:21:12.108Z"
   },
   {
    "duration": 181,
    "start_time": "2022-01-08T16:21:12.139Z"
   },
   {
    "duration": 8,
    "start_time": "2022-01-08T16:21:12.321Z"
   },
   {
    "duration": 15,
    "start_time": "2022-01-08T16:21:12.330Z"
   },
   {
    "duration": 156,
    "start_time": "2022-01-08T16:21:12.346Z"
   },
   {
    "duration": 10,
    "start_time": "2022-01-08T16:21:12.504Z"
   },
   {
    "duration": 15,
    "start_time": "2022-01-08T16:21:12.515Z"
   },
   {
    "duration": 104,
    "start_time": "2022-01-08T16:21:12.532Z"
   },
   {
    "duration": 7,
    "start_time": "2022-01-08T16:21:12.638Z"
   },
   {
    "duration": 18,
    "start_time": "2022-01-08T16:21:12.647Z"
   },
   {
    "duration": 35,
    "start_time": "2022-01-08T16:21:12.667Z"
   },
   {
    "duration": 15,
    "start_time": "2022-01-08T16:21:12.703Z"
   },
   {
    "duration": 38,
    "start_time": "2022-01-08T16:21:12.720Z"
   },
   {
    "duration": 20,
    "start_time": "2022-01-08T16:21:12.760Z"
   },
   {
    "duration": 20,
    "start_time": "2022-01-08T16:21:12.782Z"
   },
   {
    "duration": 7,
    "start_time": "2022-01-08T16:21:12.804Z"
   },
   {
    "duration": 62,
    "start_time": "2022-01-08T16:21:12.812Z"
   },
   {
    "duration": 3,
    "start_time": "2022-01-08T16:21:12.875Z"
   },
   {
    "duration": 48,
    "start_time": "2022-01-08T16:21:12.880Z"
   },
   {
    "duration": 28,
    "start_time": "2022-01-08T16:21:12.930Z"
   },
   {
    "duration": 5,
    "start_time": "2022-01-08T16:21:12.960Z"
   },
   {
    "duration": 23,
    "start_time": "2022-01-08T16:21:12.966Z"
   },
   {
    "duration": 14,
    "start_time": "2022-01-08T16:21:12.991Z"
   },
   {
    "duration": 27,
    "start_time": "2022-01-08T16:21:13.006Z"
   },
   {
    "duration": 13,
    "start_time": "2022-01-08T16:21:13.035Z"
   },
   {
    "duration": 53,
    "start_time": "2022-01-08T16:21:13.051Z"
   },
   {
    "duration": 22,
    "start_time": "2022-01-08T16:21:13.106Z"
   },
   {
    "duration": 38,
    "start_time": "2022-01-08T16:21:13.130Z"
   },
   {
    "duration": 38,
    "start_time": "2022-01-08T16:21:13.170Z"
   },
   {
    "duration": 3,
    "start_time": "2022-01-08T16:21:13.210Z"
   },
   {
    "duration": 8,
    "start_time": "2022-01-08T16:21:13.215Z"
   },
   {
    "duration": 8019,
    "start_time": "2022-01-08T16:21:13.224Z"
   },
   {
    "duration": 6,
    "start_time": "2022-01-08T16:21:29.525Z"
   },
   {
    "duration": 5,
    "start_time": "2022-01-08T16:21:48.624Z"
   },
   {
    "duration": 6450,
    "start_time": "2022-01-08T16:22:09.354Z"
   },
   {
    "duration": 40,
    "start_time": "2022-01-08T16:23:13.898Z"
   },
   {
    "duration": 7066,
    "start_time": "2022-01-08T16:23:33.665Z"
   },
   {
    "duration": 6905,
    "start_time": "2022-01-08T16:23:47.023Z"
   },
   {
    "duration": 9,
    "start_time": "2022-01-08T16:24:39.994Z"
   },
   {
    "duration": 3,
    "start_time": "2022-01-08T16:24:41.949Z"
   },
   {
    "duration": 15,
    "start_time": "2022-01-08T16:24:41.954Z"
   },
   {
    "duration": 176,
    "start_time": "2022-01-08T16:24:41.971Z"
   },
   {
    "duration": 8,
    "start_time": "2022-01-08T16:24:42.149Z"
   },
   {
    "duration": 29,
    "start_time": "2022-01-08T16:24:42.158Z"
   },
   {
    "duration": 146,
    "start_time": "2022-01-08T16:24:42.189Z"
   },
   {
    "duration": 9,
    "start_time": "2022-01-08T16:24:42.337Z"
   },
   {
    "duration": 23,
    "start_time": "2022-01-08T16:24:42.347Z"
   },
   {
    "duration": 119,
    "start_time": "2022-01-08T16:24:42.373Z"
   },
   {
    "duration": 6,
    "start_time": "2022-01-08T16:24:42.494Z"
   },
   {
    "duration": 10,
    "start_time": "2022-01-08T16:24:42.502Z"
   },
   {
    "duration": 42,
    "start_time": "2022-01-08T16:24:42.513Z"
   },
   {
    "duration": 16,
    "start_time": "2022-01-08T16:24:42.557Z"
   },
   {
    "duration": 40,
    "start_time": "2022-01-08T16:24:42.574Z"
   },
   {
    "duration": 26,
    "start_time": "2022-01-08T16:24:42.616Z"
   },
   {
    "duration": 20,
    "start_time": "2022-01-08T16:24:42.644Z"
   },
   {
    "duration": 18,
    "start_time": "2022-01-08T16:24:42.666Z"
   },
   {
    "duration": 67,
    "start_time": "2022-01-08T16:24:42.686Z"
   },
   {
    "duration": 2,
    "start_time": "2022-01-08T16:24:42.755Z"
   },
   {
    "duration": 62,
    "start_time": "2022-01-08T16:24:42.759Z"
   },
   {
    "duration": 29,
    "start_time": "2022-01-08T16:24:42.822Z"
   },
   {
    "duration": 5,
    "start_time": "2022-01-08T16:24:42.853Z"
   },
   {
    "duration": 22,
    "start_time": "2022-01-08T16:24:42.860Z"
   },
   {
    "duration": 28,
    "start_time": "2022-01-08T16:24:42.883Z"
   },
   {
    "duration": 33,
    "start_time": "2022-01-08T16:24:42.913Z"
   },
   {
    "duration": 11,
    "start_time": "2022-01-08T16:24:42.948Z"
   },
   {
    "duration": 62,
    "start_time": "2022-01-08T16:24:42.962Z"
   },
   {
    "duration": 23,
    "start_time": "2022-01-08T16:24:43.026Z"
   },
   {
    "duration": 25,
    "start_time": "2022-01-08T16:24:43.050Z"
   },
   {
    "duration": 41,
    "start_time": "2022-01-08T16:24:43.077Z"
   },
   {
    "duration": 7,
    "start_time": "2022-01-08T16:24:43.119Z"
   },
   {
    "duration": 7935,
    "start_time": "2022-01-08T16:24:43.127Z"
   },
   {
    "duration": 6822,
    "start_time": "2022-01-08T16:25:48.137Z"
   },
   {
    "duration": 6534,
    "start_time": "2022-01-08T16:33:31.961Z"
   },
   {
    "duration": 7003,
    "start_time": "2022-01-08T16:33:47.106Z"
   },
   {
    "duration": 6538,
    "start_time": "2022-01-08T16:34:09.111Z"
   },
   {
    "duration": 6208,
    "start_time": "2022-01-08T16:34:18.764Z"
   },
   {
    "duration": 4,
    "start_time": "2022-01-08T16:37:28.063Z"
   },
   {
    "duration": 6,
    "start_time": "2022-01-08T16:38:09.212Z"
   },
   {
    "duration": 5,
    "start_time": "2022-01-08T18:09:41.260Z"
   },
   {
    "duration": 79,
    "start_time": "2022-01-08T18:14:59.305Z"
   },
   {
    "duration": 92,
    "start_time": "2022-01-08T18:16:06.781Z"
   },
   {
    "duration": 88,
    "start_time": "2022-01-08T18:16:50.605Z"
   },
   {
    "duration": 83,
    "start_time": "2022-01-08T18:17:44.446Z"
   },
   {
    "duration": 93,
    "start_time": "2022-01-08T18:18:11.557Z"
   },
   {
    "duration": 78,
    "start_time": "2022-01-08T18:18:34.793Z"
   },
   {
    "duration": 106,
    "start_time": "2022-01-08T18:19:17.414Z"
   },
   {
    "duration": 4,
    "start_time": "2022-01-08T18:19:23.736Z"
   },
   {
    "duration": 105,
    "start_time": "2022-01-08T18:19:42.911Z"
   },
   {
    "duration": 4,
    "start_time": "2022-01-08T18:19:52.316Z"
   },
   {
    "duration": 79,
    "start_time": "2022-01-08T18:21:11.442Z"
   },
   {
    "duration": 14,
    "start_time": "2022-01-08T18:21:44.851Z"
   },
   {
    "duration": 13,
    "start_time": "2022-01-08T18:22:16.505Z"
   },
   {
    "duration": 116,
    "start_time": "2022-01-08T18:22:43.931Z"
   },
   {
    "duration": 12,
    "start_time": "2022-01-08T18:23:11.197Z"
   },
   {
    "duration": 10,
    "start_time": "2022-01-08T18:23:15.864Z"
   },
   {
    "duration": 4,
    "start_time": "2022-01-08T18:23:17.698Z"
   },
   {
    "duration": 32,
    "start_time": "2022-01-08T18:23:17.705Z"
   },
   {
    "duration": 254,
    "start_time": "2022-01-08T18:23:17.740Z"
   },
   {
    "duration": 13,
    "start_time": "2022-01-08T18:23:17.997Z"
   },
   {
    "duration": 5,
    "start_time": "2022-01-08T18:23:18.013Z"
   },
   {
    "duration": 211,
    "start_time": "2022-01-08T18:23:18.020Z"
   },
   {
    "duration": 13,
    "start_time": "2022-01-08T18:23:18.233Z"
   },
   {
    "duration": 14,
    "start_time": "2022-01-08T18:23:18.247Z"
   },
   {
    "duration": 99,
    "start_time": "2022-01-08T18:23:18.264Z"
   },
   {
    "duration": 7,
    "start_time": "2022-01-08T18:23:18.366Z"
   },
   {
    "duration": 3,
    "start_time": "2022-01-08T18:23:18.375Z"
   },
   {
    "duration": 22,
    "start_time": "2022-01-08T18:23:18.380Z"
   },
   {
    "duration": 8,
    "start_time": "2022-01-08T18:23:18.404Z"
   },
   {
    "duration": 30,
    "start_time": "2022-01-08T18:23:18.414Z"
   },
   {
    "duration": 10,
    "start_time": "2022-01-08T18:23:18.446Z"
   },
   {
    "duration": 3,
    "start_time": "2022-01-08T18:23:18.460Z"
   },
   {
    "duration": 6,
    "start_time": "2022-01-08T18:23:18.465Z"
   },
   {
    "duration": 48,
    "start_time": "2022-01-08T18:23:18.472Z"
   },
   {
    "duration": 2,
    "start_time": "2022-01-08T18:23:18.522Z"
   },
   {
    "duration": 55,
    "start_time": "2022-01-08T18:23:18.526Z"
   },
   {
    "duration": 29,
    "start_time": "2022-01-08T18:23:18.583Z"
   },
   {
    "duration": 6,
    "start_time": "2022-01-08T18:23:18.613Z"
   },
   {
    "duration": 14,
    "start_time": "2022-01-08T18:23:18.620Z"
   },
   {
    "duration": 3,
    "start_time": "2022-01-08T18:23:18.636Z"
   },
   {
    "duration": 33,
    "start_time": "2022-01-08T18:23:18.641Z"
   },
   {
    "duration": 11,
    "start_time": "2022-01-08T18:23:18.676Z"
   },
   {
    "duration": 78,
    "start_time": "2022-01-08T18:23:18.693Z"
   },
   {
    "duration": 33,
    "start_time": "2022-01-08T18:23:18.773Z"
   },
   {
    "duration": 56,
    "start_time": "2022-01-08T18:23:18.808Z"
   },
   {
    "duration": 62,
    "start_time": "2022-01-08T18:23:18.866Z"
   },
   {
    "duration": 5,
    "start_time": "2022-01-08T18:23:18.930Z"
   },
   {
    "duration": 36,
    "start_time": "2022-01-08T18:23:18.937Z"
   },
   {
    "duration": 6,
    "start_time": "2022-01-08T18:23:18.975Z"
   },
   {
    "duration": 7733,
    "start_time": "2022-01-08T18:23:18.983Z"
   },
   {
    "duration": 79,
    "start_time": "2022-01-08T18:24:00.885Z"
   },
   {
    "duration": 76,
    "start_time": "2022-01-08T18:24:33.804Z"
   },
   {
    "duration": 107,
    "start_time": "2022-01-08T18:25:30.199Z"
   },
   {
    "duration": 15,
    "start_time": "2022-01-08T18:25:44.313Z"
   },
   {
    "duration": 14,
    "start_time": "2022-01-08T18:26:09.480Z"
   },
   {
    "duration": 18,
    "start_time": "2022-01-08T18:26:31.368Z"
   },
   {
    "duration": 15,
    "start_time": "2022-01-08T18:26:39.404Z"
   },
   {
    "duration": 21,
    "start_time": "2022-01-08T18:27:11.437Z"
   },
   {
    "duration": 19,
    "start_time": "2022-01-08T18:27:42.088Z"
   },
   {
    "duration": 20,
    "start_time": "2022-01-08T18:27:48.567Z"
   },
   {
    "duration": 6,
    "start_time": "2022-01-08T18:27:51.712Z"
   },
   {
    "duration": 3,
    "start_time": "2022-01-08T18:27:56.216Z"
   },
   {
    "duration": 13,
    "start_time": "2022-01-08T18:27:56.220Z"
   },
   {
    "duration": 158,
    "start_time": "2022-01-08T18:27:56.235Z"
   },
   {
    "duration": 8,
    "start_time": "2022-01-08T18:27:56.396Z"
   },
   {
    "duration": 8,
    "start_time": "2022-01-08T18:27:56.406Z"
   },
   {
    "duration": 144,
    "start_time": "2022-01-08T18:27:56.415Z"
   },
   {
    "duration": 8,
    "start_time": "2022-01-08T18:27:56.560Z"
   },
   {
    "duration": 9,
    "start_time": "2022-01-08T18:27:56.570Z"
   },
   {
    "duration": 128,
    "start_time": "2022-01-08T18:27:56.581Z"
   },
   {
    "duration": 10,
    "start_time": "2022-01-08T18:27:56.712Z"
   },
   {
    "duration": 10,
    "start_time": "2022-01-08T18:27:56.724Z"
   },
   {
    "duration": 25,
    "start_time": "2022-01-08T18:27:56.736Z"
   },
   {
    "duration": 10,
    "start_time": "2022-01-08T18:27:56.763Z"
   },
   {
    "duration": 33,
    "start_time": "2022-01-08T18:27:56.775Z"
   },
   {
    "duration": 12,
    "start_time": "2022-01-08T18:27:56.809Z"
   },
   {
    "duration": 4,
    "start_time": "2022-01-08T18:27:56.823Z"
   },
   {
    "duration": 6,
    "start_time": "2022-01-08T18:27:56.829Z"
   },
   {
    "duration": 60,
    "start_time": "2022-01-08T18:27:56.837Z"
   },
   {
    "duration": 2,
    "start_time": "2022-01-08T18:27:56.899Z"
   },
   {
    "duration": 38,
    "start_time": "2022-01-08T18:27:56.903Z"
   },
   {
    "duration": 45,
    "start_time": "2022-01-08T18:27:56.943Z"
   },
   {
    "duration": 6,
    "start_time": "2022-01-08T18:27:56.989Z"
   },
   {
    "duration": 15,
    "start_time": "2022-01-08T18:27:56.996Z"
   },
   {
    "duration": 3,
    "start_time": "2022-01-08T18:27:57.013Z"
   },
   {
    "duration": 17,
    "start_time": "2022-01-08T18:27:57.018Z"
   },
   {
    "duration": 32,
    "start_time": "2022-01-08T18:27:57.037Z"
   },
   {
    "duration": 52,
    "start_time": "2022-01-08T18:27:57.072Z"
   },
   {
    "duration": 43,
    "start_time": "2022-01-08T18:27:57.126Z"
   },
   {
    "duration": 32,
    "start_time": "2022-01-08T18:27:57.171Z"
   },
   {
    "duration": 56,
    "start_time": "2022-01-08T18:27:57.205Z"
   },
   {
    "duration": 4,
    "start_time": "2022-01-08T18:27:57.263Z"
   },
   {
    "duration": 18,
    "start_time": "2022-01-08T18:27:57.269Z"
   },
   {
    "duration": 7,
    "start_time": "2022-01-08T18:27:57.289Z"
   },
   {
    "duration": 9021,
    "start_time": "2022-01-08T18:27:57.298Z"
   },
   {
    "duration": 20,
    "start_time": "2022-01-08T18:28:38.301Z"
   },
   {
    "duration": 6,
    "start_time": "2022-01-08T18:29:18.035Z"
   },
   {
    "duration": 6,
    "start_time": "2022-01-08T18:29:28.757Z"
   },
   {
    "duration": 481,
    "start_time": "2022-01-08T18:29:43.842Z"
   },
   {
    "duration": 4,
    "start_time": "2022-01-08T18:29:46.607Z"
   },
   {
    "duration": 11,
    "start_time": "2022-01-08T18:29:46.614Z"
   },
   {
    "duration": 177,
    "start_time": "2022-01-08T18:29:46.628Z"
   },
   {
    "duration": 8,
    "start_time": "2022-01-08T18:29:46.808Z"
   },
   {
    "duration": 5,
    "start_time": "2022-01-08T18:29:46.818Z"
   },
   {
    "duration": 176,
    "start_time": "2022-01-08T18:29:46.824Z"
   },
   {
    "duration": 9,
    "start_time": "2022-01-08T18:29:47.002Z"
   },
   {
    "duration": 4,
    "start_time": "2022-01-08T18:29:47.013Z"
   },
   {
    "duration": 108,
    "start_time": "2022-01-08T18:29:47.020Z"
   },
   {
    "duration": 7,
    "start_time": "2022-01-08T18:29:47.131Z"
   },
   {
    "duration": 5,
    "start_time": "2022-01-08T18:29:47.140Z"
   },
   {
    "duration": 26,
    "start_time": "2022-01-08T18:29:47.146Z"
   },
   {
    "duration": 10,
    "start_time": "2022-01-08T18:29:47.174Z"
   },
   {
    "duration": 31,
    "start_time": "2022-01-08T18:29:47.186Z"
   },
   {
    "duration": 10,
    "start_time": "2022-01-08T18:29:47.219Z"
   },
   {
    "duration": 6,
    "start_time": "2022-01-08T18:29:47.231Z"
   },
   {
    "duration": 8,
    "start_time": "2022-01-08T18:29:47.239Z"
   },
   {
    "duration": 49,
    "start_time": "2022-01-08T18:29:47.248Z"
   },
   {
    "duration": 2,
    "start_time": "2022-01-08T18:29:47.299Z"
   },
   {
    "duration": 38,
    "start_time": "2022-01-08T18:29:47.303Z"
   },
   {
    "duration": 37,
    "start_time": "2022-01-08T18:29:47.342Z"
   },
   {
    "duration": 6,
    "start_time": "2022-01-08T18:29:47.381Z"
   },
   {
    "duration": 11,
    "start_time": "2022-01-08T18:29:47.389Z"
   },
   {
    "duration": 4,
    "start_time": "2022-01-08T18:29:47.401Z"
   },
   {
    "duration": 16,
    "start_time": "2022-01-08T18:29:47.406Z"
   },
   {
    "duration": 38,
    "start_time": "2022-01-08T18:29:47.423Z"
   },
   {
    "duration": 53,
    "start_time": "2022-01-08T18:29:47.464Z"
   },
   {
    "duration": 21,
    "start_time": "2022-01-08T18:29:47.519Z"
   },
   {
    "duration": 46,
    "start_time": "2022-01-08T18:29:47.542Z"
   },
   {
    "duration": 41,
    "start_time": "2022-01-08T18:29:47.590Z"
   },
   {
    "duration": 4,
    "start_time": "2022-01-08T18:29:47.633Z"
   },
   {
    "duration": 19,
    "start_time": "2022-01-08T18:29:47.660Z"
   },
   {
    "duration": 6,
    "start_time": "2022-01-08T18:29:47.681Z"
   },
   {
    "duration": 488,
    "start_time": "2022-01-08T18:29:47.689Z"
   },
   {
    "duration": 7,
    "start_time": "2022-01-08T18:30:44.812Z"
   },
   {
    "duration": 7,
    "start_time": "2022-01-08T18:31:30.340Z"
   },
   {
    "duration": 6,
    "start_time": "2022-01-08T18:33:10.328Z"
   },
   {
    "duration": 5,
    "start_time": "2022-01-08T18:33:46.882Z"
   },
   {
    "duration": 6,
    "start_time": "2022-01-08T18:34:01.318Z"
   },
   {
    "duration": 3,
    "start_time": "2022-01-08T18:34:03.797Z"
   },
   {
    "duration": 9,
    "start_time": "2022-01-08T18:34:03.802Z"
   },
   {
    "duration": 162,
    "start_time": "2022-01-08T18:34:03.813Z"
   },
   {
    "duration": 8,
    "start_time": "2022-01-08T18:34:03.977Z"
   },
   {
    "duration": 7,
    "start_time": "2022-01-08T18:34:03.987Z"
   },
   {
    "duration": 152,
    "start_time": "2022-01-08T18:34:03.996Z"
   },
   {
    "duration": 14,
    "start_time": "2022-01-08T18:34:04.150Z"
   },
   {
    "duration": 6,
    "start_time": "2022-01-08T18:34:04.165Z"
   },
   {
    "duration": 101,
    "start_time": "2022-01-08T18:34:04.173Z"
   },
   {
    "duration": 8,
    "start_time": "2022-01-08T18:34:04.276Z"
   },
   {
    "duration": 5,
    "start_time": "2022-01-08T18:34:04.286Z"
   },
   {
    "duration": 24,
    "start_time": "2022-01-08T18:34:04.292Z"
   },
   {
    "duration": 11,
    "start_time": "2022-01-08T18:34:04.318Z"
   },
   {
    "duration": 30,
    "start_time": "2022-01-08T18:34:04.331Z"
   },
   {
    "duration": 11,
    "start_time": "2022-01-08T18:34:04.362Z"
   },
   {
    "duration": 4,
    "start_time": "2022-01-08T18:34:04.374Z"
   },
   {
    "duration": 7,
    "start_time": "2022-01-08T18:34:04.380Z"
   },
   {
    "duration": 51,
    "start_time": "2022-01-08T18:34:04.389Z"
   },
   {
    "duration": 3,
    "start_time": "2022-01-08T18:34:04.441Z"
   },
   {
    "duration": 50,
    "start_time": "2022-01-08T18:34:04.445Z"
   },
   {
    "duration": 31,
    "start_time": "2022-01-08T18:34:04.496Z"
   },
   {
    "duration": 6,
    "start_time": "2022-01-08T18:34:04.528Z"
   },
   {
    "duration": 31,
    "start_time": "2022-01-08T18:34:04.535Z"
   },
   {
    "duration": 4,
    "start_time": "2022-01-08T18:34:04.567Z"
   },
   {
    "duration": 16,
    "start_time": "2022-01-08T18:34:04.572Z"
   },
   {
    "duration": 10,
    "start_time": "2022-01-08T18:34:04.589Z"
   },
   {
    "duration": 71,
    "start_time": "2022-01-08T18:34:04.602Z"
   },
   {
    "duration": 20,
    "start_time": "2022-01-08T18:34:04.675Z"
   },
   {
    "duration": 27,
    "start_time": "2022-01-08T18:34:04.697Z"
   },
   {
    "duration": 61,
    "start_time": "2022-01-08T18:34:04.725Z"
   },
   {
    "duration": 3,
    "start_time": "2022-01-08T18:34:04.788Z"
   },
   {
    "duration": 22,
    "start_time": "2022-01-08T18:34:04.793Z"
   },
   {
    "duration": 6,
    "start_time": "2022-01-08T18:34:04.817Z"
   },
   {
    "duration": 475,
    "start_time": "2022-01-08T18:34:04.825Z"
   },
   {
    "duration": 6,
    "start_time": "2022-01-08T18:35:49.044Z"
   },
   {
    "duration": 8,
    "start_time": "2022-01-08T18:37:57.795Z"
   },
   {
    "duration": 79,
    "start_time": "2022-01-08T18:41:37.709Z"
   },
   {
    "duration": 27,
    "start_time": "2022-01-08T18:42:00.041Z"
   },
   {
    "duration": 81,
    "start_time": "2022-01-08T18:42:15.647Z"
   },
   {
    "duration": 83,
    "start_time": "2022-01-08T18:44:30.330Z"
   },
   {
    "duration": 506,
    "start_time": "2022-01-08T18:52:01.064Z"
   },
   {
    "duration": 3,
    "start_time": "2022-01-08T18:52:02.443Z"
   },
   {
    "duration": 9,
    "start_time": "2022-01-08T18:52:02.448Z"
   },
   {
    "duration": 175,
    "start_time": "2022-01-08T18:52:02.459Z"
   },
   {
    "duration": 8,
    "start_time": "2022-01-08T18:52:02.637Z"
   },
   {
    "duration": 15,
    "start_time": "2022-01-08T18:52:02.647Z"
   },
   {
    "duration": 141,
    "start_time": "2022-01-08T18:52:02.664Z"
   },
   {
    "duration": 8,
    "start_time": "2022-01-08T18:52:02.807Z"
   },
   {
    "duration": 5,
    "start_time": "2022-01-08T18:52:02.816Z"
   },
   {
    "duration": 104,
    "start_time": "2022-01-08T18:52:02.824Z"
   },
   {
    "duration": 8,
    "start_time": "2022-01-08T18:52:02.930Z"
   },
   {
    "duration": 6,
    "start_time": "2022-01-08T18:52:02.939Z"
   },
   {
    "duration": 25,
    "start_time": "2022-01-08T18:52:02.947Z"
   },
   {
    "duration": 10,
    "start_time": "2022-01-08T18:52:02.974Z"
   },
   {
    "duration": 33,
    "start_time": "2022-01-08T18:52:02.986Z"
   },
   {
    "duration": 9,
    "start_time": "2022-01-08T18:52:03.021Z"
   },
   {
    "duration": 5,
    "start_time": "2022-01-08T18:52:03.032Z"
   },
   {
    "duration": 7,
    "start_time": "2022-01-08T18:52:03.039Z"
   },
   {
    "duration": 53,
    "start_time": "2022-01-08T18:52:03.047Z"
   },
   {
    "duration": 2,
    "start_time": "2022-01-08T18:52:03.102Z"
   },
   {
    "duration": 44,
    "start_time": "2022-01-08T18:52:03.106Z"
   },
   {
    "duration": 29,
    "start_time": "2022-01-08T18:52:03.152Z"
   },
   {
    "duration": 5,
    "start_time": "2022-01-08T18:52:03.183Z"
   },
   {
    "duration": 12,
    "start_time": "2022-01-08T18:52:03.190Z"
   },
   {
    "duration": 11,
    "start_time": "2022-01-08T18:52:03.203Z"
   },
   {
    "duration": 17,
    "start_time": "2022-01-08T18:52:03.216Z"
   },
   {
    "duration": 31,
    "start_time": "2022-01-08T18:52:03.235Z"
   },
   {
    "duration": 56,
    "start_time": "2022-01-08T18:52:03.269Z"
   },
   {
    "duration": 38,
    "start_time": "2022-01-08T18:52:03.326Z"
   },
   {
    "duration": 27,
    "start_time": "2022-01-08T18:52:03.366Z"
   },
   {
    "duration": 41,
    "start_time": "2022-01-08T18:52:03.395Z"
   },
   {
    "duration": 24,
    "start_time": "2022-01-08T18:52:03.437Z"
   },
   {
    "duration": 20,
    "start_time": "2022-01-08T18:52:03.463Z"
   },
   {
    "duration": 80,
    "start_time": "2022-01-08T18:52:03.485Z"
   },
   {
    "duration": 4168,
    "start_time": "2022-01-08T18:51:59.399Z"
   },
   {
    "duration": 6,
    "start_time": "2022-01-08T18:52:17.241Z"
   },
   {
    "duration": 284,
    "start_time": "2022-01-08T18:54:41.502Z"
   },
   {
    "duration": 235,
    "start_time": "2022-01-08T18:54:44.359Z"
   },
   {
    "duration": 237,
    "start_time": "2022-01-08T18:54:51.626Z"
   },
   {
    "duration": 4,
    "start_time": "2022-01-08T18:54:54.485Z"
   },
   {
    "duration": 599,
    "start_time": "2022-01-08T18:54:54.491Z"
   },
   {
    "duration": 164,
    "start_time": "2022-01-08T18:54:55.093Z"
   },
   {
    "duration": 16,
    "start_time": "2022-01-08T18:54:55.259Z"
   },
   {
    "duration": 2,
    "start_time": "2022-01-08T18:54:55.277Z"
   },
   {
    "duration": 149,
    "start_time": "2022-01-08T18:54:55.281Z"
   },
   {
    "duration": 9,
    "start_time": "2022-01-08T18:54:55.432Z"
   },
   {
    "duration": 18,
    "start_time": "2022-01-08T18:54:55.443Z"
   },
   {
    "duration": 94,
    "start_time": "2022-01-08T18:54:55.465Z"
   },
   {
    "duration": 8,
    "start_time": "2022-01-08T18:54:55.561Z"
   },
   {
    "duration": 9,
    "start_time": "2022-01-08T18:54:55.570Z"
   },
   {
    "duration": 23,
    "start_time": "2022-01-08T18:54:55.580Z"
   },
   {
    "duration": 10,
    "start_time": "2022-01-08T18:54:55.605Z"
   },
   {
    "duration": 34,
    "start_time": "2022-01-08T18:54:55.616Z"
   },
   {
    "duration": 10,
    "start_time": "2022-01-08T18:54:55.651Z"
   },
   {
    "duration": 4,
    "start_time": "2022-01-08T18:54:55.663Z"
   },
   {
    "duration": 5,
    "start_time": "2022-01-08T18:54:55.669Z"
   },
   {
    "duration": 52,
    "start_time": "2022-01-08T18:54:55.676Z"
   },
   {
    "duration": 2,
    "start_time": "2022-01-08T18:54:55.730Z"
   },
   {
    "duration": 56,
    "start_time": "2022-01-08T18:54:55.733Z"
   },
   {
    "duration": 31,
    "start_time": "2022-01-08T18:54:55.791Z"
   },
   {
    "duration": 5,
    "start_time": "2022-01-08T18:54:55.824Z"
   },
   {
    "duration": 33,
    "start_time": "2022-01-08T18:54:55.830Z"
   },
   {
    "duration": 4,
    "start_time": "2022-01-08T18:54:55.865Z"
   },
   {
    "duration": 20,
    "start_time": "2022-01-08T18:54:55.871Z"
   },
   {
    "duration": 12,
    "start_time": "2022-01-08T18:54:55.892Z"
   },
   {
    "duration": 77,
    "start_time": "2022-01-08T18:54:55.907Z"
   },
   {
    "duration": 23,
    "start_time": "2022-01-08T18:54:55.986Z"
   },
   {
    "duration": 28,
    "start_time": "2022-01-08T18:54:56.011Z"
   },
   {
    "duration": 59,
    "start_time": "2022-01-08T18:54:56.040Z"
   },
   {
    "duration": 4,
    "start_time": "2022-01-08T18:54:56.100Z"
   },
   {
    "duration": 27,
    "start_time": "2022-01-08T18:54:56.106Z"
   },
   {
    "duration": 6,
    "start_time": "2022-01-08T18:54:56.134Z"
   },
   {
    "duration": 607,
    "start_time": "2022-01-08T18:54:56.160Z"
   },
   {
    "duration": 6,
    "start_time": "2022-01-08T18:55:42.298Z"
   },
   {
    "duration": 7,
    "start_time": "2022-01-08T18:56:15.062Z"
   },
   {
    "duration": 477,
    "start_time": "2022-01-08T18:56:18.421Z"
   },
   {
    "duration": 3,
    "start_time": "2022-01-08T18:56:20.970Z"
   },
   {
    "duration": 9,
    "start_time": "2022-01-08T18:56:20.975Z"
   },
   {
    "duration": 187,
    "start_time": "2022-01-08T18:56:20.986Z"
   },
   {
    "duration": 8,
    "start_time": "2022-01-08T18:56:21.174Z"
   },
   {
    "duration": 3,
    "start_time": "2022-01-08T18:56:21.184Z"
   },
   {
    "duration": 148,
    "start_time": "2022-01-08T18:56:21.189Z"
   },
   {
    "duration": 9,
    "start_time": "2022-01-08T18:56:21.339Z"
   },
   {
    "duration": 2,
    "start_time": "2022-01-08T18:56:21.361Z"
   },
   {
    "duration": 117,
    "start_time": "2022-01-08T18:56:21.365Z"
   },
   {
    "duration": 8,
    "start_time": "2022-01-08T18:56:21.484Z"
   },
   {
    "duration": 6,
    "start_time": "2022-01-08T18:56:21.493Z"
   },
   {
    "duration": 24,
    "start_time": "2022-01-08T18:56:21.501Z"
   },
   {
    "duration": 11,
    "start_time": "2022-01-08T18:56:21.527Z"
   },
   {
    "duration": 31,
    "start_time": "2022-01-08T18:56:21.539Z"
   },
   {
    "duration": 10,
    "start_time": "2022-01-08T18:56:21.571Z"
   },
   {
    "duration": 5,
    "start_time": "2022-01-08T18:56:21.582Z"
   },
   {
    "duration": 6,
    "start_time": "2022-01-08T18:56:21.589Z"
   },
   {
    "duration": 50,
    "start_time": "2022-01-08T18:56:21.596Z"
   },
   {
    "duration": 3,
    "start_time": "2022-01-08T18:56:21.661Z"
   },
   {
    "duration": 40,
    "start_time": "2022-01-08T18:56:21.665Z"
   },
   {
    "duration": 30,
    "start_time": "2022-01-08T18:56:21.706Z"
   },
   {
    "duration": 24,
    "start_time": "2022-01-08T18:56:21.737Z"
   },
   {
    "duration": 16,
    "start_time": "2022-01-08T18:56:21.763Z"
   },
   {
    "duration": 4,
    "start_time": "2022-01-08T18:56:21.781Z"
   },
   {
    "duration": 21,
    "start_time": "2022-01-08T18:56:21.787Z"
   },
   {
    "duration": 13,
    "start_time": "2022-01-08T18:56:21.809Z"
   },
   {
    "duration": 97,
    "start_time": "2022-01-08T18:56:21.826Z"
   },
   {
    "duration": 21,
    "start_time": "2022-01-08T18:56:21.925Z"
   },
   {
    "duration": 37,
    "start_time": "2022-01-08T18:56:21.948Z"
   },
   {
    "duration": 39,
    "start_time": "2022-01-08T18:56:21.987Z"
   },
   {
    "duration": 4,
    "start_time": "2022-01-08T18:56:22.028Z"
   },
   {
    "duration": 43,
    "start_time": "2022-01-08T18:56:22.033Z"
   },
   {
    "duration": 7,
    "start_time": "2022-01-08T18:56:22.077Z"
   },
   {
    "duration": 516,
    "start_time": "2022-01-08T18:56:22.085Z"
   },
   {
    "duration": 518,
    "start_time": "2022-01-08T18:56:47.363Z"
   },
   {
    "duration": 9,
    "start_time": "2022-01-08T18:58:51.031Z"
   },
   {
    "duration": 584,
    "start_time": "2022-01-08T18:58:54.807Z"
   },
   {
    "duration": 3,
    "start_time": "2022-01-08T18:58:56.154Z"
   },
   {
    "duration": 8,
    "start_time": "2022-01-08T18:58:56.159Z"
   },
   {
    "duration": 167,
    "start_time": "2022-01-08T18:58:56.169Z"
   },
   {
    "duration": 7,
    "start_time": "2022-01-08T18:58:56.338Z"
   },
   {
    "duration": 5,
    "start_time": "2022-01-08T18:58:56.347Z"
   },
   {
    "duration": 140,
    "start_time": "2022-01-08T18:58:56.354Z"
   },
   {
    "duration": 9,
    "start_time": "2022-01-08T18:58:56.495Z"
   },
   {
    "duration": 5,
    "start_time": "2022-01-08T18:58:56.505Z"
   },
   {
    "duration": 104,
    "start_time": "2022-01-08T18:58:56.513Z"
   },
   {
    "duration": 7,
    "start_time": "2022-01-08T18:58:56.619Z"
   },
   {
    "duration": 5,
    "start_time": "2022-01-08T18:58:56.628Z"
   },
   {
    "duration": 24,
    "start_time": "2022-01-08T18:58:56.634Z"
   },
   {
    "duration": 10,
    "start_time": "2022-01-08T18:58:56.660Z"
   },
   {
    "duration": 31,
    "start_time": "2022-01-08T18:58:56.672Z"
   },
   {
    "duration": 11,
    "start_time": "2022-01-08T18:58:56.705Z"
   },
   {
    "duration": 6,
    "start_time": "2022-01-08T18:58:56.717Z"
   },
   {
    "duration": 5,
    "start_time": "2022-01-08T18:58:56.725Z"
   },
   {
    "duration": 49,
    "start_time": "2022-01-08T18:58:56.732Z"
   },
   {
    "duration": 2,
    "start_time": "2022-01-08T18:58:56.783Z"
   },
   {
    "duration": 42,
    "start_time": "2022-01-08T18:58:56.786Z"
   },
   {
    "duration": 44,
    "start_time": "2022-01-08T18:58:56.830Z"
   },
   {
    "duration": 5,
    "start_time": "2022-01-08T18:58:56.876Z"
   },
   {
    "duration": 15,
    "start_time": "2022-01-08T18:58:56.883Z"
   },
   {
    "duration": 4,
    "start_time": "2022-01-08T18:58:56.899Z"
   },
   {
    "duration": 16,
    "start_time": "2022-01-08T18:58:56.904Z"
   },
   {
    "duration": 10,
    "start_time": "2022-01-08T18:58:56.921Z"
   },
   {
    "duration": 87,
    "start_time": "2022-01-08T18:58:56.934Z"
   },
   {
    "duration": 41,
    "start_time": "2022-01-08T18:58:57.022Z"
   },
   {
    "duration": 30,
    "start_time": "2022-01-08T18:58:57.065Z"
   },
   {
    "duration": 39,
    "start_time": "2022-01-08T18:58:57.097Z"
   },
   {
    "duration": 4,
    "start_time": "2022-01-08T18:58:57.137Z"
   },
   {
    "duration": 20,
    "start_time": "2022-01-08T18:58:57.161Z"
   },
   {
    "duration": 5,
    "start_time": "2022-01-08T18:58:57.183Z"
   },
   {
    "duration": 543,
    "start_time": "2022-01-08T18:58:57.190Z"
   },
   {
    "duration": 6,
    "start_time": "2022-01-08T18:59:45.579Z"
   },
   {
    "duration": 6,
    "start_time": "2022-01-08T19:00:19.118Z"
   },
   {
    "duration": 710,
    "start_time": "2022-01-08T19:00:22.174Z"
   },
   {
    "duration": 3,
    "start_time": "2022-01-08T19:00:24.843Z"
   },
   {
    "duration": 8,
    "start_time": "2022-01-08T19:00:24.849Z"
   },
   {
    "duration": 174,
    "start_time": "2022-01-08T19:00:24.859Z"
   },
   {
    "duration": 8,
    "start_time": "2022-01-08T19:00:25.035Z"
   },
   {
    "duration": 27,
    "start_time": "2022-01-08T19:00:25.045Z"
   },
   {
    "duration": 154,
    "start_time": "2022-01-08T19:00:25.074Z"
   },
   {
    "duration": 10,
    "start_time": "2022-01-08T19:00:25.230Z"
   },
   {
    "duration": 4,
    "start_time": "2022-01-08T19:00:25.242Z"
   },
   {
    "duration": 117,
    "start_time": "2022-01-08T19:00:25.249Z"
   },
   {
    "duration": 11,
    "start_time": "2022-01-08T19:00:25.368Z"
   },
   {
    "duration": 4,
    "start_time": "2022-01-08T19:00:25.381Z"
   },
   {
    "duration": 27,
    "start_time": "2022-01-08T19:00:25.386Z"
   },
   {
    "duration": 10,
    "start_time": "2022-01-08T19:00:25.415Z"
   },
   {
    "duration": 34,
    "start_time": "2022-01-08T19:00:25.427Z"
   },
   {
    "duration": 13,
    "start_time": "2022-01-08T19:00:25.463Z"
   },
   {
    "duration": 5,
    "start_time": "2022-01-08T19:00:25.478Z"
   },
   {
    "duration": 13,
    "start_time": "2022-01-08T19:00:25.485Z"
   },
   {
    "duration": 50,
    "start_time": "2022-01-08T19:00:25.500Z"
   },
   {
    "duration": 2,
    "start_time": "2022-01-08T19:00:25.552Z"
   },
   {
    "duration": 38,
    "start_time": "2022-01-08T19:00:25.561Z"
   },
   {
    "duration": 31,
    "start_time": "2022-01-08T19:00:25.601Z"
   },
   {
    "duration": 6,
    "start_time": "2022-01-08T19:00:25.634Z"
   },
   {
    "duration": 12,
    "start_time": "2022-01-08T19:00:25.660Z"
   },
   {
    "duration": 5,
    "start_time": "2022-01-08T19:00:25.673Z"
   },
   {
    "duration": 21,
    "start_time": "2022-01-08T19:00:25.679Z"
   },
   {
    "duration": 11,
    "start_time": "2022-01-08T19:00:25.702Z"
   },
   {
    "duration": 96,
    "start_time": "2022-01-08T19:00:25.716Z"
   },
   {
    "duration": 23,
    "start_time": "2022-01-08T19:00:25.814Z"
   },
   {
    "duration": 40,
    "start_time": "2022-01-08T19:00:25.838Z"
   },
   {
    "duration": 42,
    "start_time": "2022-01-08T19:00:25.880Z"
   },
   {
    "duration": 4,
    "start_time": "2022-01-08T19:00:25.924Z"
   },
   {
    "duration": 51,
    "start_time": "2022-01-08T19:00:25.930Z"
   },
   {
    "duration": 6,
    "start_time": "2022-01-08T19:00:25.983Z"
   },
   {
    "duration": 704,
    "start_time": "2022-01-08T19:00:25.991Z"
   },
   {
    "duration": 9,
    "start_time": "2022-01-08T19:01:33.314Z"
   },
   {
    "duration": 6,
    "start_time": "2022-01-08T19:02:21.446Z"
   },
   {
    "duration": 7,
    "start_time": "2022-01-08T19:02:33.283Z"
   },
   {
    "duration": 7,
    "start_time": "2022-01-08T19:03:15.481Z"
   },
   {
    "duration": 558,
    "start_time": "2022-01-08T19:03:21.065Z"
   },
   {
    "duration": 4,
    "start_time": "2022-01-08T19:03:24.414Z"
   },
   {
    "duration": 8,
    "start_time": "2022-01-08T19:03:24.420Z"
   },
   {
    "duration": 169,
    "start_time": "2022-01-08T19:03:24.430Z"
   },
   {
    "duration": 8,
    "start_time": "2022-01-08T19:03:24.600Z"
   },
   {
    "duration": 6,
    "start_time": "2022-01-08T19:03:24.609Z"
   },
   {
    "duration": 142,
    "start_time": "2022-01-08T19:03:24.616Z"
   },
   {
    "duration": 11,
    "start_time": "2022-01-08T19:03:24.760Z"
   },
   {
    "duration": 4,
    "start_time": "2022-01-08T19:03:24.773Z"
   },
   {
    "duration": 140,
    "start_time": "2022-01-08T19:03:24.781Z"
   },
   {
    "duration": 7,
    "start_time": "2022-01-08T19:03:24.924Z"
   },
   {
    "duration": 4,
    "start_time": "2022-01-08T19:03:24.933Z"
   },
   {
    "duration": 28,
    "start_time": "2022-01-08T19:03:24.938Z"
   },
   {
    "duration": 10,
    "start_time": "2022-01-08T19:03:24.968Z"
   },
   {
    "duration": 37,
    "start_time": "2022-01-08T19:03:24.979Z"
   },
   {
    "duration": 11,
    "start_time": "2022-01-08T19:03:25.018Z"
   },
   {
    "duration": 4,
    "start_time": "2022-01-08T19:03:25.030Z"
   },
   {
    "duration": 7,
    "start_time": "2022-01-08T19:03:25.036Z"
   },
   {
    "duration": 76,
    "start_time": "2022-01-08T19:03:25.046Z"
   },
   {
    "duration": 2,
    "start_time": "2022-01-08T19:03:25.124Z"
   },
   {
    "duration": 60,
    "start_time": "2022-01-08T19:03:25.128Z"
   },
   {
    "duration": 41,
    "start_time": "2022-01-08T19:03:25.190Z"
   },
   {
    "duration": 7,
    "start_time": "2022-01-08T19:03:25.233Z"
   },
   {
    "duration": 31,
    "start_time": "2022-01-08T19:03:25.242Z"
   },
   {
    "duration": 5,
    "start_time": "2022-01-08T19:03:25.275Z"
   },
   {
    "duration": 23,
    "start_time": "2022-01-08T19:03:25.282Z"
   },
   {
    "duration": 14,
    "start_time": "2022-01-08T19:03:25.307Z"
   },
   {
    "duration": 107,
    "start_time": "2022-01-08T19:03:25.325Z"
   },
   {
    "duration": 41,
    "start_time": "2022-01-08T19:03:25.435Z"
   },
   {
    "duration": 40,
    "start_time": "2022-01-08T19:03:25.479Z"
   },
   {
    "duration": 83,
    "start_time": "2022-01-08T19:03:25.521Z"
   },
   {
    "duration": 5,
    "start_time": "2022-01-08T19:03:25.607Z"
   },
   {
    "duration": 23,
    "start_time": "2022-01-08T19:03:25.614Z"
   },
   {
    "duration": 22,
    "start_time": "2022-01-08T19:03:25.639Z"
   },
   {
    "duration": 488,
    "start_time": "2022-01-08T19:03:25.663Z"
   },
   {
    "duration": 5,
    "start_time": "2022-01-08T19:04:19.744Z"
   },
   {
    "duration": 8,
    "start_time": "2022-01-08T19:04:36.783Z"
   },
   {
    "duration": 7,
    "start_time": "2022-01-08T19:05:34.011Z"
   },
   {
    "duration": 7,
    "start_time": "2022-01-08T19:07:55.218Z"
   },
   {
    "duration": 4,
    "start_time": "2022-01-08T19:07:56.813Z"
   },
   {
    "duration": 8,
    "start_time": "2022-01-08T19:07:56.819Z"
   },
   {
    "duration": 172,
    "start_time": "2022-01-08T19:07:56.829Z"
   },
   {
    "duration": 9,
    "start_time": "2022-01-08T19:07:57.004Z"
   },
   {
    "duration": 5,
    "start_time": "2022-01-08T19:07:57.015Z"
   },
   {
    "duration": 150,
    "start_time": "2022-01-08T19:07:57.022Z"
   },
   {
    "duration": 9,
    "start_time": "2022-01-08T19:07:57.174Z"
   },
   {
    "duration": 4,
    "start_time": "2022-01-08T19:07:57.184Z"
   },
   {
    "duration": 103,
    "start_time": "2022-01-08T19:07:57.191Z"
   },
   {
    "duration": 7,
    "start_time": "2022-01-08T19:07:57.296Z"
   },
   {
    "duration": 20,
    "start_time": "2022-01-08T19:07:57.304Z"
   },
   {
    "duration": 34,
    "start_time": "2022-01-08T19:07:57.326Z"
   },
   {
    "duration": 8,
    "start_time": "2022-01-08T19:07:57.362Z"
   },
   {
    "duration": 49,
    "start_time": "2022-01-08T19:07:57.372Z"
   },
   {
    "duration": 20,
    "start_time": "2022-01-08T19:07:57.423Z"
   },
   {
    "duration": 9,
    "start_time": "2022-01-08T19:07:57.445Z"
   },
   {
    "duration": 22,
    "start_time": "2022-01-08T19:07:57.455Z"
   },
   {
    "duration": 59,
    "start_time": "2022-01-08T19:07:57.478Z"
   },
   {
    "duration": 3,
    "start_time": "2022-01-08T19:07:57.539Z"
   },
   {
    "duration": 48,
    "start_time": "2022-01-08T19:07:57.544Z"
   },
   {
    "duration": 32,
    "start_time": "2022-01-08T19:07:57.593Z"
   },
   {
    "duration": 7,
    "start_time": "2022-01-08T19:07:57.626Z"
   },
   {
    "duration": 27,
    "start_time": "2022-01-08T19:07:57.635Z"
   },
   {
    "duration": 4,
    "start_time": "2022-01-08T19:07:57.663Z"
   },
   {
    "duration": 16,
    "start_time": "2022-01-08T19:07:57.669Z"
   },
   {
    "duration": 11,
    "start_time": "2022-01-08T19:07:57.687Z"
   },
   {
    "duration": 78,
    "start_time": "2022-01-08T19:07:57.701Z"
   },
   {
    "duration": 24,
    "start_time": "2022-01-08T19:07:57.781Z"
   },
   {
    "duration": 30,
    "start_time": "2022-01-08T19:07:57.806Z"
   },
   {
    "duration": 60,
    "start_time": "2022-01-08T19:07:57.838Z"
   },
   {
    "duration": 5,
    "start_time": "2022-01-08T19:07:57.900Z"
   },
   {
    "duration": 20,
    "start_time": "2022-01-08T19:07:57.907Z"
   },
   {
    "duration": 32,
    "start_time": "2022-01-08T19:07:57.929Z"
   },
   {
    "duration": 519,
    "start_time": "2022-01-08T19:07:57.963Z"
   },
   {
    "duration": 6,
    "start_time": "2022-01-08T19:09:36.157Z"
   },
   {
    "duration": 6,
    "start_time": "2022-01-08T19:10:22.728Z"
   },
   {
    "duration": 6,
    "start_time": "2022-01-08T19:11:39.631Z"
   },
   {
    "duration": 6,
    "start_time": "2022-01-08T19:13:23.060Z"
   },
   {
    "duration": 504,
    "start_time": "2022-01-08T19:13:26.828Z"
   },
   {
    "duration": 3,
    "start_time": "2022-01-08T19:13:28.953Z"
   },
   {
    "duration": 14,
    "start_time": "2022-01-08T19:13:28.958Z"
   },
   {
    "duration": 168,
    "start_time": "2022-01-08T19:13:28.974Z"
   },
   {
    "duration": 20,
    "start_time": "2022-01-08T19:13:29.144Z"
   },
   {
    "duration": 4,
    "start_time": "2022-01-08T19:13:29.165Z"
   },
   {
    "duration": 145,
    "start_time": "2022-01-08T19:13:29.170Z"
   },
   {
    "duration": 8,
    "start_time": "2022-01-08T19:13:29.317Z"
   },
   {
    "duration": 5,
    "start_time": "2022-01-08T19:13:29.327Z"
   },
   {
    "duration": 132,
    "start_time": "2022-01-08T19:13:29.334Z"
   },
   {
    "duration": 24,
    "start_time": "2022-01-08T19:13:29.477Z"
   },
   {
    "duration": 58,
    "start_time": "2022-01-08T19:13:29.512Z"
   },
   {
    "duration": 183,
    "start_time": "2022-01-08T19:13:29.572Z"
   },
   {
    "duration": 110,
    "start_time": "2022-01-08T19:13:29.758Z"
   },
   {
    "duration": 57,
    "start_time": "2022-01-08T19:13:29.870Z"
   },
   {
    "duration": 10,
    "start_time": "2022-01-08T19:13:29.928Z"
   },
   {
    "duration": 4,
    "start_time": "2022-01-08T19:13:29.939Z"
   },
   {
    "duration": 7,
    "start_time": "2022-01-08T19:13:29.945Z"
   },
   {
    "duration": 49,
    "start_time": "2022-01-08T19:13:29.953Z"
   },
   {
    "duration": 2,
    "start_time": "2022-01-08T19:13:30.004Z"
   },
   {
    "duration": 59,
    "start_time": "2022-01-08T19:13:30.008Z"
   },
   {
    "duration": 30,
    "start_time": "2022-01-08T19:13:30.069Z"
   },
   {
    "duration": 6,
    "start_time": "2022-01-08T19:13:30.101Z"
   },
   {
    "duration": 22,
    "start_time": "2022-01-08T19:13:30.108Z"
   },
   {
    "duration": 6,
    "start_time": "2022-01-08T19:13:30.132Z"
   },
   {
    "duration": 31,
    "start_time": "2022-01-08T19:13:30.140Z"
   },
   {
    "duration": 12,
    "start_time": "2022-01-08T19:13:30.173Z"
   },
   {
    "duration": 75,
    "start_time": "2022-01-08T19:13:30.189Z"
   },
   {
    "duration": 23,
    "start_time": "2022-01-08T19:13:30.266Z"
   },
   {
    "duration": 32,
    "start_time": "2022-01-08T19:13:30.291Z"
   },
   {
    "duration": 68,
    "start_time": "2022-01-08T19:13:30.325Z"
   },
   {
    "duration": 5,
    "start_time": "2022-01-08T19:13:30.396Z"
   },
   {
    "duration": 32,
    "start_time": "2022-01-08T19:13:30.403Z"
   },
   {
    "duration": 27,
    "start_time": "2022-01-08T19:13:30.437Z"
   },
   {
    "duration": 522,
    "start_time": "2022-01-08T19:13:30.466Z"
   },
   {
    "duration": 6,
    "start_time": "2022-01-08T19:14:39.038Z"
   },
   {
    "duration": 572,
    "start_time": "2022-01-08T19:14:51.621Z"
   },
   {
    "duration": 3,
    "start_time": "2022-01-08T19:14:54.475Z"
   },
   {
    "duration": 590,
    "start_time": "2022-01-08T19:14:54.479Z"
   },
   {
    "duration": 172,
    "start_time": "2022-01-08T19:14:55.072Z"
   },
   {
    "duration": 22,
    "start_time": "2022-01-08T19:14:55.246Z"
   },
   {
    "duration": 2,
    "start_time": "2022-01-08T19:14:55.270Z"
   },
   {
    "duration": 157,
    "start_time": "2022-01-08T19:14:55.274Z"
   },
   {
    "duration": 9,
    "start_time": "2022-01-08T19:14:55.432Z"
   },
   {
    "duration": 19,
    "start_time": "2022-01-08T19:14:55.442Z"
   },
   {
    "duration": 97,
    "start_time": "2022-01-08T19:14:55.463Z"
   },
   {
    "duration": 8,
    "start_time": "2022-01-08T19:14:55.562Z"
   },
   {
    "duration": 5,
    "start_time": "2022-01-08T19:14:55.572Z"
   },
   {
    "duration": 35,
    "start_time": "2022-01-08T19:14:55.578Z"
   },
   {
    "duration": 22,
    "start_time": "2022-01-08T19:14:55.615Z"
   },
   {
    "duration": 40,
    "start_time": "2022-01-08T19:14:55.639Z"
   },
   {
    "duration": 23,
    "start_time": "2022-01-08T19:14:55.681Z"
   },
   {
    "duration": 7,
    "start_time": "2022-01-08T19:14:55.706Z"
   },
   {
    "duration": 6,
    "start_time": "2022-01-08T19:14:55.714Z"
   },
   {
    "duration": 64,
    "start_time": "2022-01-08T19:14:55.721Z"
   },
   {
    "duration": 3,
    "start_time": "2022-01-08T19:14:55.786Z"
   },
   {
    "duration": 38,
    "start_time": "2022-01-08T19:14:55.790Z"
   },
   {
    "duration": 43,
    "start_time": "2022-01-08T19:14:55.830Z"
   },
   {
    "duration": 6,
    "start_time": "2022-01-08T19:14:55.874Z"
   },
   {
    "duration": 16,
    "start_time": "2022-01-08T19:14:55.881Z"
   },
   {
    "duration": 5,
    "start_time": "2022-01-08T19:14:55.898Z"
   },
   {
    "duration": 16,
    "start_time": "2022-01-08T19:14:55.904Z"
   },
   {
    "duration": 40,
    "start_time": "2022-01-08T19:14:55.922Z"
   },
   {
    "duration": 65,
    "start_time": "2022-01-08T19:14:55.965Z"
   },
   {
    "duration": 42,
    "start_time": "2022-01-08T19:14:56.032Z"
   },
   {
    "duration": 29,
    "start_time": "2022-01-08T19:14:56.076Z"
   },
   {
    "duration": 55,
    "start_time": "2022-01-08T19:14:56.107Z"
   },
   {
    "duration": 5,
    "start_time": "2022-01-08T19:14:56.163Z"
   },
   {
    "duration": 27,
    "start_time": "2022-01-08T19:14:56.169Z"
   },
   {
    "duration": 5,
    "start_time": "2022-01-08T19:14:56.198Z"
   },
   {
    "duration": 549,
    "start_time": "2022-01-08T19:14:56.205Z"
   },
   {
    "duration": 9,
    "start_time": "2022-01-08T19:15:40.193Z"
   },
   {
    "duration": 29,
    "start_time": "2022-01-08T19:15:43.832Z"
   },
   {
    "duration": 3,
    "start_time": "2022-01-08T19:15:45.196Z"
   },
   {
    "duration": 8,
    "start_time": "2022-01-08T19:15:45.201Z"
   },
   {
    "duration": 174,
    "start_time": "2022-01-08T19:15:45.211Z"
   },
   {
    "duration": 9,
    "start_time": "2022-01-08T19:15:45.387Z"
   },
   {
    "duration": 6,
    "start_time": "2022-01-08T19:15:45.397Z"
   },
   {
    "duration": 152,
    "start_time": "2022-01-08T19:15:45.405Z"
   },
   {
    "duration": 8,
    "start_time": "2022-01-08T19:15:45.561Z"
   },
   {
    "duration": 7,
    "start_time": "2022-01-08T19:15:45.570Z"
   },
   {
    "duration": 109,
    "start_time": "2022-01-08T19:15:45.580Z"
   },
   {
    "duration": 7,
    "start_time": "2022-01-08T19:15:45.691Z"
   },
   {
    "duration": 7,
    "start_time": "2022-01-08T19:15:45.700Z"
   },
   {
    "duration": 23,
    "start_time": "2022-01-08T19:15:45.709Z"
   },
   {
    "duration": 11,
    "start_time": "2022-01-08T19:15:45.734Z"
   },
   {
    "duration": 30,
    "start_time": "2022-01-08T19:15:45.747Z"
   },
   {
    "duration": 10,
    "start_time": "2022-01-08T19:15:45.778Z"
   },
   {
    "duration": 7,
    "start_time": "2022-01-08T19:15:45.790Z"
   },
   {
    "duration": 11,
    "start_time": "2022-01-08T19:15:45.798Z"
   },
   {
    "duration": 73,
    "start_time": "2022-01-08T19:15:45.810Z"
   },
   {
    "duration": 3,
    "start_time": "2022-01-08T19:15:45.885Z"
   },
   {
    "duration": 49,
    "start_time": "2022-01-08T19:15:45.889Z"
   },
   {
    "duration": 52,
    "start_time": "2022-01-08T19:15:45.940Z"
   },
   {
    "duration": 7,
    "start_time": "2022-01-08T19:15:45.994Z"
   },
   {
    "duration": 18,
    "start_time": "2022-01-08T19:15:46.003Z"
   },
   {
    "duration": 5,
    "start_time": "2022-01-08T19:15:46.023Z"
   },
   {
    "duration": 43,
    "start_time": "2022-01-08T19:15:46.029Z"
   },
   {
    "duration": 13,
    "start_time": "2022-01-08T19:15:46.074Z"
   },
   {
    "duration": 81,
    "start_time": "2022-01-08T19:15:46.091Z"
   },
   {
    "duration": 22,
    "start_time": "2022-01-08T19:15:46.173Z"
   },
   {
    "duration": 26,
    "start_time": "2022-01-08T19:15:46.197Z"
   },
   {
    "duration": 69,
    "start_time": "2022-01-08T19:15:46.225Z"
   },
   {
    "duration": 4,
    "start_time": "2022-01-08T19:15:46.296Z"
   },
   {
    "duration": 21,
    "start_time": "2022-01-08T19:15:46.302Z"
   },
   {
    "duration": 5,
    "start_time": "2022-01-08T19:15:46.325Z"
   },
   {
    "duration": 60,
    "start_time": "2022-01-08T19:15:46.332Z"
   },
   {
    "duration": 470,
    "start_time": "2022-01-08T19:16:18.413Z"
   },
   {
    "duration": 6,
    "start_time": "2022-01-08T19:16:27.884Z"
   },
   {
    "duration": 29,
    "start_time": "2022-01-08T19:16:31.461Z"
   },
   {
    "duration": 3,
    "start_time": "2022-01-08T19:16:32.808Z"
   },
   {
    "duration": 6,
    "start_time": "2022-01-08T19:16:32.813Z"
   },
   {
    "duration": 172,
    "start_time": "2022-01-08T19:16:32.821Z"
   },
   {
    "duration": 9,
    "start_time": "2022-01-08T19:16:32.996Z"
   },
   {
    "duration": 3,
    "start_time": "2022-01-08T19:16:33.007Z"
   },
   {
    "duration": 161,
    "start_time": "2022-01-08T19:16:33.012Z"
   },
   {
    "duration": 9,
    "start_time": "2022-01-08T19:16:33.175Z"
   },
   {
    "duration": 4,
    "start_time": "2022-01-08T19:16:33.185Z"
   },
   {
    "duration": 109,
    "start_time": "2022-01-08T19:16:33.192Z"
   },
   {
    "duration": 7,
    "start_time": "2022-01-08T19:16:33.304Z"
   },
   {
    "duration": 5,
    "start_time": "2022-01-08T19:16:33.312Z"
   },
   {
    "duration": 23,
    "start_time": "2022-01-08T19:16:33.319Z"
   },
   {
    "duration": 9,
    "start_time": "2022-01-08T19:16:33.344Z"
   },
   {
    "duration": 33,
    "start_time": "2022-01-08T19:16:33.355Z"
   },
   {
    "duration": 10,
    "start_time": "2022-01-08T19:16:33.390Z"
   },
   {
    "duration": 3,
    "start_time": "2022-01-08T19:16:33.402Z"
   },
   {
    "duration": 5,
    "start_time": "2022-01-08T19:16:33.407Z"
   },
   {
    "duration": 47,
    "start_time": "2022-01-08T19:16:33.413Z"
   },
   {
    "duration": 2,
    "start_time": "2022-01-08T19:16:33.462Z"
   },
   {
    "duration": 35,
    "start_time": "2022-01-08T19:16:33.466Z"
   },
   {
    "duration": 29,
    "start_time": "2022-01-08T19:16:33.502Z"
   },
   {
    "duration": 5,
    "start_time": "2022-01-08T19:16:33.532Z"
   },
   {
    "duration": 30,
    "start_time": "2022-01-08T19:16:33.539Z"
   },
   {
    "duration": 3,
    "start_time": "2022-01-08T19:16:33.571Z"
   },
   {
    "duration": 15,
    "start_time": "2022-01-08T19:16:33.576Z"
   },
   {
    "duration": 9,
    "start_time": "2022-01-08T19:16:33.593Z"
   },
   {
    "duration": 88,
    "start_time": "2022-01-08T19:16:33.605Z"
   },
   {
    "duration": 24,
    "start_time": "2022-01-08T19:16:33.695Z"
   },
   {
    "duration": 53,
    "start_time": "2022-01-08T19:16:33.721Z"
   },
   {
    "duration": 42,
    "start_time": "2022-01-08T19:16:33.776Z"
   },
   {
    "duration": 3,
    "start_time": "2022-01-08T19:16:33.820Z"
   },
   {
    "duration": 42,
    "start_time": "2022-01-08T19:16:33.825Z"
   },
   {
    "duration": 6,
    "start_time": "2022-01-08T19:16:33.869Z"
   },
   {
    "duration": 30,
    "start_time": "2022-01-08T19:16:33.876Z"
   },
   {
    "duration": 6,
    "start_time": "2022-01-08T20:13:34.023Z"
   },
   {
    "duration": 18,
    "start_time": "2022-01-08T20:13:40.686Z"
   },
   {
    "duration": 18,
    "start_time": "2022-01-08T20:15:24.056Z"
   },
   {
    "duration": 18,
    "start_time": "2022-01-08T20:16:09.017Z"
   },
   {
    "duration": 3,
    "start_time": "2022-01-08T20:19:14.953Z"
   },
   {
    "duration": 7,
    "start_time": "2022-01-08T20:19:14.958Z"
   },
   {
    "duration": 180,
    "start_time": "2022-01-08T20:19:14.967Z"
   },
   {
    "duration": 19,
    "start_time": "2022-01-08T20:19:15.150Z"
   },
   {
    "duration": 7,
    "start_time": "2022-01-08T20:19:15.171Z"
   },
   {
    "duration": 149,
    "start_time": "2022-01-08T20:19:15.180Z"
   },
   {
    "duration": 9,
    "start_time": "2022-01-08T20:19:15.331Z"
   },
   {
    "duration": 19,
    "start_time": "2022-01-08T20:19:15.342Z"
   },
   {
    "duration": 110,
    "start_time": "2022-01-08T20:19:15.364Z"
   },
   {
    "duration": 8,
    "start_time": "2022-01-08T20:19:15.477Z"
   },
   {
    "duration": 3,
    "start_time": "2022-01-08T20:19:15.487Z"
   },
   {
    "duration": 23,
    "start_time": "2022-01-08T20:19:15.492Z"
   },
   {
    "duration": 13,
    "start_time": "2022-01-08T20:19:15.517Z"
   },
   {
    "duration": 44,
    "start_time": "2022-01-08T20:19:15.532Z"
   },
   {
    "duration": 17,
    "start_time": "2022-01-08T20:19:15.578Z"
   },
   {
    "duration": 11,
    "start_time": "2022-01-08T20:19:15.597Z"
   },
   {
    "duration": 12,
    "start_time": "2022-01-08T20:19:15.610Z"
   },
   {
    "duration": 61,
    "start_time": "2022-01-08T20:19:15.624Z"
   },
   {
    "duration": 3,
    "start_time": "2022-01-08T20:19:15.686Z"
   },
   {
    "duration": 59,
    "start_time": "2022-01-08T20:19:15.690Z"
   },
   {
    "duration": 29,
    "start_time": "2022-01-08T20:19:15.751Z"
   },
   {
    "duration": 6,
    "start_time": "2022-01-08T20:19:15.782Z"
   },
   {
    "duration": 30,
    "start_time": "2022-01-08T20:19:15.790Z"
   },
   {
    "duration": 10,
    "start_time": "2022-01-08T20:19:15.822Z"
   },
   {
    "duration": 23,
    "start_time": "2022-01-08T20:19:15.834Z"
   },
   {
    "duration": 13,
    "start_time": "2022-01-08T20:19:15.859Z"
   },
   {
    "duration": 61,
    "start_time": "2022-01-08T20:19:15.876Z"
   },
   {
    "duration": 41,
    "start_time": "2022-01-08T20:19:15.939Z"
   },
   {
    "duration": 26,
    "start_time": "2022-01-08T20:19:15.982Z"
   },
   {
    "duration": 65,
    "start_time": "2022-01-08T20:19:16.010Z"
   },
   {
    "duration": 4,
    "start_time": "2022-01-08T20:19:16.077Z"
   },
   {
    "duration": 24,
    "start_time": "2022-01-08T20:19:16.082Z"
   },
   {
    "duration": 6,
    "start_time": "2022-01-08T20:19:16.108Z"
   },
   {
    "duration": 53,
    "start_time": "2022-01-08T20:19:16.116Z"
   },
   {
    "duration": 18,
    "start_time": "2022-01-08T20:19:16.171Z"
   },
   {
    "duration": 17,
    "start_time": "2022-01-08T20:19:16.191Z"
   },
   {
    "duration": 17,
    "start_time": "2022-01-08T20:33:54.901Z"
   },
   {
    "duration": 112,
    "start_time": "2022-01-08T20:34:21.605Z"
   },
   {
    "duration": 86,
    "start_time": "2022-01-08T20:34:38.725Z"
   },
   {
    "duration": 18,
    "start_time": "2022-01-08T20:34:44.583Z"
   },
   {
    "duration": 17,
    "start_time": "2022-01-08T20:35:19.698Z"
   },
   {
    "duration": 5156,
    "start_time": "2022-01-08T20:36:15.778Z"
   },
   {
    "duration": 5262,
    "start_time": "2022-01-08T20:36:59.981Z"
   },
   {
    "duration": 5312,
    "start_time": "2022-01-08T20:37:14.975Z"
   },
   {
    "duration": 3992,
    "start_time": "2022-01-08T20:38:40.783Z"
   },
   {
    "duration": 3,
    "start_time": "2022-01-08T20:39:31.342Z"
   },
   {
    "duration": 4,
    "start_time": "2022-01-08T20:39:32.784Z"
   },
   {
    "duration": 9,
    "start_time": "2022-01-08T20:39:32.789Z"
   },
   {
    "duration": 179,
    "start_time": "2022-01-08T20:39:32.800Z"
   },
   {
    "duration": 8,
    "start_time": "2022-01-08T20:39:32.981Z"
   },
   {
    "duration": 4,
    "start_time": "2022-01-08T20:39:32.991Z"
   },
   {
    "duration": 156,
    "start_time": "2022-01-08T20:39:32.996Z"
   },
   {
    "duration": 10,
    "start_time": "2022-01-08T20:39:33.153Z"
   },
   {
    "duration": 5,
    "start_time": "2022-01-08T20:39:33.165Z"
   },
   {
    "duration": 105,
    "start_time": "2022-01-08T20:39:33.174Z"
   },
   {
    "duration": 8,
    "start_time": "2022-01-08T20:39:33.282Z"
   },
   {
    "duration": 5,
    "start_time": "2022-01-08T20:39:33.292Z"
   },
   {
    "duration": 25,
    "start_time": "2022-01-08T20:39:33.299Z"
   },
   {
    "duration": 9,
    "start_time": "2022-01-08T20:39:33.326Z"
   },
   {
    "duration": 51,
    "start_time": "2022-01-08T20:39:33.337Z"
   },
   {
    "duration": 11,
    "start_time": "2022-01-08T20:39:33.390Z"
   },
   {
    "duration": 6,
    "start_time": "2022-01-08T20:39:33.403Z"
   },
   {
    "duration": 8,
    "start_time": "2022-01-08T20:39:33.411Z"
   },
   {
    "duration": 55,
    "start_time": "2022-01-08T20:39:33.420Z"
   },
   {
    "duration": 2,
    "start_time": "2022-01-08T20:39:33.477Z"
   },
   {
    "duration": 37,
    "start_time": "2022-01-08T20:39:33.481Z"
   },
   {
    "duration": 42,
    "start_time": "2022-01-08T20:39:33.520Z"
   },
   {
    "duration": 6,
    "start_time": "2022-01-08T20:39:33.564Z"
   },
   {
    "duration": 17,
    "start_time": "2022-01-08T20:39:33.572Z"
   },
   {
    "duration": 26,
    "start_time": "2022-01-08T20:39:33.590Z"
   },
   {
    "duration": 22,
    "start_time": "2022-01-08T20:39:33.618Z"
   },
   {
    "duration": 19,
    "start_time": "2022-01-08T20:39:33.641Z"
   },
   {
    "duration": 59,
    "start_time": "2022-01-08T20:39:33.664Z"
   },
   {
    "duration": 41,
    "start_time": "2022-01-08T20:39:33.725Z"
   },
   {
    "duration": 32,
    "start_time": "2022-01-08T20:39:33.768Z"
   },
   {
    "duration": 60,
    "start_time": "2022-01-08T20:39:33.802Z"
   },
   {
    "duration": 4,
    "start_time": "2022-01-08T20:39:33.864Z"
   },
   {
    "duration": 22,
    "start_time": "2022-01-08T20:39:33.870Z"
   },
   {
    "duration": 6,
    "start_time": "2022-01-08T20:39:33.894Z"
   },
   {
    "duration": 32,
    "start_time": "2022-01-08T20:39:33.901Z"
   },
   {
    "duration": 43,
    "start_time": "2022-01-08T20:39:33.934Z"
   },
   {
    "duration": 16,
    "start_time": "2022-01-08T20:39:33.979Z"
   },
   {
    "duration": 4140,
    "start_time": "2022-01-08T20:39:33.997Z"
   },
   {
    "duration": 107,
    "start_time": "2022-01-08T20:41:29.667Z"
   },
   {
    "duration": 246,
    "start_time": "2022-01-08T20:41:42.806Z"
   },
   {
    "duration": 12,
    "start_time": "2022-01-08T20:41:57.389Z"
   },
   {
    "duration": 13,
    "start_time": "2022-01-08T20:42:06.012Z"
   },
   {
    "duration": 19,
    "start_time": "2022-01-08T20:42:21.020Z"
   },
   {
    "duration": 4,
    "start_time": "2022-01-08T20:42:23.375Z"
   },
   {
    "duration": 6,
    "start_time": "2022-01-08T20:42:23.381Z"
   },
   {
    "duration": 180,
    "start_time": "2022-01-08T20:42:23.389Z"
   },
   {
    "duration": 11,
    "start_time": "2022-01-08T20:42:23.571Z"
   },
   {
    "duration": 4,
    "start_time": "2022-01-08T20:42:23.583Z"
   },
   {
    "duration": 172,
    "start_time": "2022-01-08T20:42:23.588Z"
   },
   {
    "duration": 9,
    "start_time": "2022-01-08T20:42:23.762Z"
   },
   {
    "duration": 6,
    "start_time": "2022-01-08T20:42:23.773Z"
   },
   {
    "duration": 105,
    "start_time": "2022-01-08T20:42:23.782Z"
   },
   {
    "duration": 7,
    "start_time": "2022-01-08T20:42:23.889Z"
   },
   {
    "duration": 4,
    "start_time": "2022-01-08T20:42:23.898Z"
   },
   {
    "duration": 23,
    "start_time": "2022-01-08T20:42:23.903Z"
   },
   {
    "duration": 13,
    "start_time": "2022-01-08T20:42:23.927Z"
   },
   {
    "duration": 32,
    "start_time": "2022-01-08T20:42:23.942Z"
   },
   {
    "duration": 12,
    "start_time": "2022-01-08T20:42:23.976Z"
   },
   {
    "duration": 3,
    "start_time": "2022-01-08T20:42:23.990Z"
   },
   {
    "duration": 8,
    "start_time": "2022-01-08T20:42:23.994Z"
   },
   {
    "duration": 57,
    "start_time": "2022-01-08T20:42:24.004Z"
   },
   {
    "duration": 2,
    "start_time": "2022-01-08T20:42:24.063Z"
   },
   {
    "duration": 39,
    "start_time": "2022-01-08T20:42:24.067Z"
   },
   {
    "duration": 29,
    "start_time": "2022-01-08T20:42:24.108Z"
   },
   {
    "duration": 23,
    "start_time": "2022-01-08T20:42:24.139Z"
   },
   {
    "duration": 18,
    "start_time": "2022-01-08T20:42:24.164Z"
   },
   {
    "duration": 3,
    "start_time": "2022-01-08T20:42:24.184Z"
   },
   {
    "duration": 18,
    "start_time": "2022-01-08T20:42:24.189Z"
   },
   {
    "duration": 11,
    "start_time": "2022-01-08T20:42:24.208Z"
   },
   {
    "duration": 80,
    "start_time": "2022-01-08T20:42:24.222Z"
   },
   {
    "duration": 22,
    "start_time": "2022-01-08T20:42:24.304Z"
   },
   {
    "duration": 44,
    "start_time": "2022-01-08T20:42:24.328Z"
   },
   {
    "duration": 40,
    "start_time": "2022-01-08T20:42:24.374Z"
   },
   {
    "duration": 4,
    "start_time": "2022-01-08T20:42:24.415Z"
   },
   {
    "duration": 20,
    "start_time": "2022-01-08T20:42:24.421Z"
   },
   {
    "duration": 6,
    "start_time": "2022-01-08T20:42:24.460Z"
   },
   {
    "duration": 29,
    "start_time": "2022-01-08T20:42:24.468Z"
   },
   {
    "duration": 16,
    "start_time": "2022-01-08T20:42:24.498Z"
   },
   {
    "duration": 19,
    "start_time": "2022-01-08T20:42:24.516Z"
   },
   {
    "duration": 304,
    "start_time": "2022-01-08T20:42:24.536Z"
   },
   {
    "duration": 753,
    "start_time": "2022-01-08T20:42:40.018Z"
   },
   {
    "duration": 434,
    "start_time": "2022-01-08T20:43:24.804Z"
   },
   {
    "duration": 301,
    "start_time": "2022-01-08T20:43:49.824Z"
   },
   {
    "duration": 246,
    "start_time": "2022-01-08T20:44:43.642Z"
   },
   {
    "duration": 4,
    "start_time": "2022-01-08T20:44:45.261Z"
   },
   {
    "duration": 7,
    "start_time": "2022-01-08T20:44:45.267Z"
   },
   {
    "duration": 193,
    "start_time": "2022-01-08T20:44:45.276Z"
   },
   {
    "duration": 9,
    "start_time": "2022-01-08T20:44:45.470Z"
   },
   {
    "duration": 6,
    "start_time": "2022-01-08T20:44:45.480Z"
   },
   {
    "duration": 149,
    "start_time": "2022-01-08T20:44:45.487Z"
   },
   {
    "duration": 9,
    "start_time": "2022-01-08T20:44:45.638Z"
   },
   {
    "duration": 12,
    "start_time": "2022-01-08T20:44:45.649Z"
   },
   {
    "duration": 106,
    "start_time": "2022-01-08T20:44:45.665Z"
   },
   {
    "duration": 8,
    "start_time": "2022-01-08T20:44:45.773Z"
   },
   {
    "duration": 7,
    "start_time": "2022-01-08T20:44:45.783Z"
   },
   {
    "duration": 23,
    "start_time": "2022-01-08T20:44:45.792Z"
   },
   {
    "duration": 9,
    "start_time": "2022-01-08T20:44:45.817Z"
   },
   {
    "duration": 30,
    "start_time": "2022-01-08T20:44:45.828Z"
   },
   {
    "duration": 10,
    "start_time": "2022-01-08T20:44:45.860Z"
   },
   {
    "duration": 4,
    "start_time": "2022-01-08T20:44:45.871Z"
   },
   {
    "duration": 15,
    "start_time": "2022-01-08T20:44:45.877Z"
   },
   {
    "duration": 48,
    "start_time": "2022-01-08T20:44:45.894Z"
   },
   {
    "duration": 3,
    "start_time": "2022-01-08T20:44:45.944Z"
   },
   {
    "duration": 35,
    "start_time": "2022-01-08T20:44:45.960Z"
   },
   {
    "duration": 31,
    "start_time": "2022-01-08T20:44:45.997Z"
   },
   {
    "duration": 6,
    "start_time": "2022-01-08T20:44:46.030Z"
   },
   {
    "duration": 30,
    "start_time": "2022-01-08T20:44:46.038Z"
   },
   {
    "duration": 4,
    "start_time": "2022-01-08T20:44:46.070Z"
   },
   {
    "duration": 17,
    "start_time": "2022-01-08T20:44:46.076Z"
   },
   {
    "duration": 11,
    "start_time": "2022-01-08T20:44:46.094Z"
   },
   {
    "duration": 88,
    "start_time": "2022-01-08T20:44:46.109Z"
   },
   {
    "duration": 23,
    "start_time": "2022-01-08T20:44:46.199Z"
   },
   {
    "duration": 46,
    "start_time": "2022-01-08T20:44:46.224Z"
   },
   {
    "duration": 44,
    "start_time": "2022-01-08T20:44:46.271Z"
   },
   {
    "duration": 4,
    "start_time": "2022-01-08T20:44:46.317Z"
   },
   {
    "duration": 42,
    "start_time": "2022-01-08T20:44:46.323Z"
   },
   {
    "duration": 6,
    "start_time": "2022-01-08T20:44:46.368Z"
   },
   {
    "duration": 32,
    "start_time": "2022-01-08T20:44:46.376Z"
   },
   {
    "duration": 19,
    "start_time": "2022-01-08T20:44:46.411Z"
   },
   {
    "duration": 44,
    "start_time": "2022-01-08T20:44:46.432Z"
   },
   {
    "duration": 333,
    "start_time": "2022-01-08T20:44:46.478Z"
   },
   {
    "duration": 6948,
    "start_time": "2022-01-08T20:44:46.813Z"
   },
   {
    "duration": -58,
    "start_time": "2022-01-08T20:44:53.821Z"
   },
   {
    "duration": 263,
    "start_time": "2022-01-08T20:45:07.994Z"
   },
   {
    "duration": 252,
    "start_time": "2022-01-08T20:45:12.977Z"
   },
   {
    "duration": 6293,
    "start_time": "2022-01-08T20:45:56.641Z"
   },
   {
    "duration": 6240,
    "start_time": "2022-01-08T20:46:20.598Z"
   },
   {
    "duration": 252,
    "start_time": "2022-01-08T20:46:41.244Z"
   },
   {
    "duration": 246,
    "start_time": "2022-01-08T20:46:46.755Z"
   },
   {
    "duration": 250,
    "start_time": "2022-01-08T20:47:22.996Z"
   },
   {
    "duration": 3,
    "start_time": "2022-01-08T20:47:24.233Z"
   },
   {
    "duration": 8,
    "start_time": "2022-01-08T20:47:24.237Z"
   },
   {
    "duration": 180,
    "start_time": "2022-01-08T20:47:24.247Z"
   },
   {
    "duration": 8,
    "start_time": "2022-01-08T20:47:24.429Z"
   },
   {
    "duration": 4,
    "start_time": "2022-01-08T20:47:24.439Z"
   },
   {
    "duration": 160,
    "start_time": "2022-01-08T20:47:24.445Z"
   },
   {
    "duration": 8,
    "start_time": "2022-01-08T20:47:24.606Z"
   },
   {
    "duration": 5,
    "start_time": "2022-01-08T20:47:24.616Z"
   },
   {
    "duration": 102,
    "start_time": "2022-01-08T20:47:24.624Z"
   },
   {
    "duration": 7,
    "start_time": "2022-01-08T20:47:24.729Z"
   },
   {
    "duration": 5,
    "start_time": "2022-01-08T20:47:24.738Z"
   },
   {
    "duration": 21,
    "start_time": "2022-01-08T20:47:24.745Z"
   },
   {
    "duration": 11,
    "start_time": "2022-01-08T20:47:24.768Z"
   },
   {
    "duration": 30,
    "start_time": "2022-01-08T20:47:24.781Z"
   },
   {
    "duration": 10,
    "start_time": "2022-01-08T20:47:24.813Z"
   },
   {
    "duration": 5,
    "start_time": "2022-01-08T20:47:24.824Z"
   },
   {
    "duration": 5,
    "start_time": "2022-01-08T20:47:24.831Z"
   },
   {
    "duration": 54,
    "start_time": "2022-01-08T20:47:24.837Z"
   },
   {
    "duration": 2,
    "start_time": "2022-01-08T20:47:24.893Z"
   },
   {
    "duration": 36,
    "start_time": "2022-01-08T20:47:24.897Z"
   },
   {
    "duration": 41,
    "start_time": "2022-01-08T20:47:24.935Z"
   },
   {
    "duration": 5,
    "start_time": "2022-01-08T20:47:24.978Z"
   },
   {
    "duration": 16,
    "start_time": "2022-01-08T20:47:24.984Z"
   },
   {
    "duration": 4,
    "start_time": "2022-01-08T20:47:25.001Z"
   },
   {
    "duration": 19,
    "start_time": "2022-01-08T20:47:25.007Z"
   },
   {
    "duration": 34,
    "start_time": "2022-01-08T20:47:25.028Z"
   },
   {
    "duration": 60,
    "start_time": "2022-01-08T20:47:25.065Z"
   },
   {
    "duration": 44,
    "start_time": "2022-01-08T20:47:25.127Z"
   },
   {
    "duration": 28,
    "start_time": "2022-01-08T20:47:25.173Z"
   },
   {
    "duration": 42,
    "start_time": "2022-01-08T20:47:25.203Z"
   },
   {
    "duration": 4,
    "start_time": "2022-01-08T20:47:25.261Z"
   },
   {
    "duration": 23,
    "start_time": "2022-01-08T20:47:25.266Z"
   },
   {
    "duration": 7,
    "start_time": "2022-01-08T20:47:25.291Z"
   },
   {
    "duration": 33,
    "start_time": "2022-01-08T20:47:25.299Z"
   },
   {
    "duration": 39,
    "start_time": "2022-01-08T20:47:25.333Z"
   },
   {
    "duration": 16,
    "start_time": "2022-01-08T20:47:25.374Z"
   },
   {
    "duration": 268,
    "start_time": "2022-01-08T20:47:25.392Z"
   },
   {
    "duration": 263,
    "start_time": "2022-01-08T20:47:25.662Z"
   },
   {
    "duration": 254,
    "start_time": "2022-01-08T20:47:25.927Z"
   },
   {
    "duration": 97,
    "start_time": "2022-01-09T09:33:19.377Z"
   },
   {
    "duration": 3,
    "start_time": "2022-01-09T09:35:02.858Z"
   },
   {
    "duration": 357,
    "start_time": "2022-01-09T09:54:42.887Z"
   },
   {
    "duration": 4,
    "start_time": "2022-01-09T09:55:02.047Z"
   },
   {
    "duration": 932,
    "start_time": "2022-01-09T09:55:02.053Z"
   },
   {
    "duration": 235,
    "start_time": "2022-01-09T09:55:02.988Z"
   },
   {
    "duration": 16,
    "start_time": "2022-01-09T09:55:03.226Z"
   },
   {
    "duration": 3,
    "start_time": "2022-01-09T09:55:03.262Z"
   },
   {
    "duration": 212,
    "start_time": "2022-01-09T09:55:03.269Z"
   },
   {
    "duration": 13,
    "start_time": "2022-01-09T09:55:03.483Z"
   },
   {
    "duration": 5,
    "start_time": "2022-01-09T09:55:03.499Z"
   },
   {
    "duration": 145,
    "start_time": "2022-01-09T09:55:03.508Z"
   },
   {
    "duration": 17,
    "start_time": "2022-01-09T09:55:03.655Z"
   },
   {
    "duration": 5,
    "start_time": "2022-01-09T09:55:03.675Z"
   },
   {
    "duration": 28,
    "start_time": "2022-01-09T09:55:03.683Z"
   },
   {
    "duration": 12,
    "start_time": "2022-01-09T09:55:03.714Z"
   },
   {
    "duration": 45,
    "start_time": "2022-01-09T09:55:03.729Z"
   },
   {
    "duration": 16,
    "start_time": "2022-01-09T09:55:03.776Z"
   },
   {
    "duration": 5,
    "start_time": "2022-01-09T09:55:03.794Z"
   },
   {
    "duration": 7,
    "start_time": "2022-01-09T09:55:03.801Z"
   },
   {
    "duration": 110,
    "start_time": "2022-01-09T09:55:03.810Z"
   },
   {
    "duration": 4,
    "start_time": "2022-01-09T09:55:03.923Z"
   },
   {
    "duration": 72,
    "start_time": "2022-01-09T09:55:03.929Z"
   },
   {
    "duration": 61,
    "start_time": "2022-01-09T09:55:04.004Z"
   },
   {
    "duration": 10,
    "start_time": "2022-01-09T09:55:04.067Z"
   },
   {
    "duration": 20,
    "start_time": "2022-01-09T09:55:04.079Z"
   },
   {
    "duration": 5,
    "start_time": "2022-01-09T09:55:04.101Z"
   },
   {
    "duration": 54,
    "start_time": "2022-01-09T09:55:04.109Z"
   },
   {
    "duration": 15,
    "start_time": "2022-01-09T09:55:04.166Z"
   },
   {
    "duration": 107,
    "start_time": "2022-01-09T09:55:04.186Z"
   },
   {
    "duration": 36,
    "start_time": "2022-01-09T09:55:04.295Z"
   },
   {
    "duration": 60,
    "start_time": "2022-01-09T09:55:04.334Z"
   },
   {
    "duration": 88,
    "start_time": "2022-01-09T09:55:04.396Z"
   },
   {
    "duration": 7,
    "start_time": "2022-01-09T09:55:04.486Z"
   },
   {
    "duration": 39,
    "start_time": "2022-01-09T09:55:04.496Z"
   },
   {
    "duration": 30,
    "start_time": "2022-01-09T09:55:04.538Z"
   },
   {
    "duration": 51,
    "start_time": "2022-01-09T09:55:04.570Z"
   },
   {
    "duration": 55,
    "start_time": "2022-01-09T09:55:04.624Z"
   },
   {
    "duration": 27,
    "start_time": "2022-01-09T09:55:04.681Z"
   },
   {
    "duration": 470,
    "start_time": "2022-01-09T09:55:04.710Z"
   },
   {
    "duration": 511,
    "start_time": "2022-01-09T09:55:05.183Z"
   },
   {
    "duration": 438,
    "start_time": "2022-01-09T09:55:05.697Z"
   },
   {
    "duration": 37,
    "start_time": "2022-01-09T09:55:06.138Z"
   },
   {
    "duration": 11,
    "start_time": "2022-01-09T10:00:12.977Z"
   },
   {
    "duration": 68,
    "start_time": "2022-01-09T10:16:33.867Z"
   },
   {
    "duration": 5,
    "start_time": "2022-01-09T10:16:36.119Z"
   },
   {
    "duration": 7,
    "start_time": "2022-01-09T10:16:36.127Z"
   },
   {
    "duration": 231,
    "start_time": "2022-01-09T10:16:36.138Z"
   },
   {
    "duration": 12,
    "start_time": "2022-01-09T10:16:36.372Z"
   },
   {
    "duration": 5,
    "start_time": "2022-01-09T10:16:36.386Z"
   },
   {
    "duration": 234,
    "start_time": "2022-01-09T10:16:36.394Z"
   },
   {
    "duration": 63,
    "start_time": "2022-01-09T10:16:36.630Z"
   },
   {
    "duration": 4,
    "start_time": "2022-01-09T10:16:36.695Z"
   },
   {
    "duration": 151,
    "start_time": "2022-01-09T10:16:36.703Z"
   },
   {
    "duration": 11,
    "start_time": "2022-01-09T10:16:36.857Z"
   },
   {
    "duration": 4,
    "start_time": "2022-01-09T10:16:36.871Z"
   },
   {
    "duration": 31,
    "start_time": "2022-01-09T10:16:36.877Z"
   },
   {
    "duration": 12,
    "start_time": "2022-01-09T10:16:36.910Z"
   },
   {
    "duration": 46,
    "start_time": "2022-01-09T10:16:36.924Z"
   },
   {
    "duration": 17,
    "start_time": "2022-01-09T10:16:36.972Z"
   },
   {
    "duration": 3,
    "start_time": "2022-01-09T10:16:36.991Z"
   },
   {
    "duration": 6,
    "start_time": "2022-01-09T10:16:36.996Z"
   },
   {
    "duration": 105,
    "start_time": "2022-01-09T10:16:37.004Z"
   },
   {
    "duration": 3,
    "start_time": "2022-01-09T10:16:37.111Z"
   },
   {
    "duration": 66,
    "start_time": "2022-01-09T10:16:37.117Z"
   },
   {
    "duration": 43,
    "start_time": "2022-01-09T10:16:37.185Z"
   },
   {
    "duration": 8,
    "start_time": "2022-01-09T10:16:37.231Z"
   },
   {
    "duration": 18,
    "start_time": "2022-01-09T10:16:37.262Z"
   },
   {
    "duration": 5,
    "start_time": "2022-01-09T10:16:37.282Z"
   },
   {
    "duration": 26,
    "start_time": "2022-01-09T10:16:37.289Z"
   },
   {
    "duration": 51,
    "start_time": "2022-01-09T10:16:37.318Z"
   },
   {
    "duration": 90,
    "start_time": "2022-01-09T10:16:37.374Z"
   },
   {
    "duration": 34,
    "start_time": "2022-01-09T10:16:37.467Z"
   },
   {
    "duration": 65,
    "start_time": "2022-01-09T10:16:37.504Z"
   },
   {
    "duration": 89,
    "start_time": "2022-01-09T10:16:37.573Z"
   },
   {
    "duration": 8,
    "start_time": "2022-01-09T10:16:37.665Z"
   },
   {
    "duration": 35,
    "start_time": "2022-01-09T10:16:37.676Z"
   },
   {
    "duration": 48,
    "start_time": "2022-01-09T10:16:37.715Z"
   },
   {
    "duration": 47,
    "start_time": "2022-01-09T10:16:37.766Z"
   },
   {
    "duration": 49,
    "start_time": "2022-01-09T10:16:37.817Z"
   },
   {
    "duration": 30,
    "start_time": "2022-01-09T10:16:37.869Z"
   },
   {
    "duration": 462,
    "start_time": "2022-01-09T10:16:37.901Z"
   },
   {
    "duration": 488,
    "start_time": "2022-01-09T10:16:38.365Z"
   },
   {
    "duration": 499,
    "start_time": "2022-01-09T10:16:38.855Z"
   },
   {
    "duration": 32,
    "start_time": "2022-01-09T10:16:39.364Z"
   },
   {
    "duration": 13,
    "start_time": "2022-01-09T10:16:39.399Z"
   },
   {
    "duration": 128,
    "start_time": "2022-01-09T10:16:39.415Z"
   },
   {
    "duration": 5,
    "start_time": "2022-01-09T10:56:46.198Z"
   },
   {
    "duration": 7,
    "start_time": "2022-01-09T10:56:53.065Z"
   },
   {
    "duration": 5,
    "start_time": "2022-01-09T10:59:02.524Z"
   },
   {
    "duration": 9,
    "start_time": "2022-01-09T10:59:02.533Z"
   },
   {
    "duration": 227,
    "start_time": "2022-01-09T10:59:02.546Z"
   },
   {
    "duration": 12,
    "start_time": "2022-01-09T10:59:02.777Z"
   },
   {
    "duration": 4,
    "start_time": "2022-01-09T10:59:02.792Z"
   },
   {
    "duration": 209,
    "start_time": "2022-01-09T10:59:02.799Z"
   },
   {
    "duration": 13,
    "start_time": "2022-01-09T10:59:03.010Z"
   },
   {
    "duration": 8,
    "start_time": "2022-01-09T10:59:03.026Z"
   },
   {
    "duration": 134,
    "start_time": "2022-01-09T10:59:03.062Z"
   },
   {
    "duration": 11,
    "start_time": "2022-01-09T10:59:03.199Z"
   },
   {
    "duration": 7,
    "start_time": "2022-01-09T10:59:03.212Z"
   },
   {
    "duration": 32,
    "start_time": "2022-01-09T10:59:03.221Z"
   },
   {
    "duration": 11,
    "start_time": "2022-01-09T10:59:03.263Z"
   },
   {
    "duration": 38,
    "start_time": "2022-01-09T10:59:03.276Z"
   },
   {
    "duration": 16,
    "start_time": "2022-01-09T10:59:03.316Z"
   },
   {
    "duration": 3,
    "start_time": "2022-01-09T10:59:03.335Z"
   },
   {
    "duration": 23,
    "start_time": "2022-01-09T10:59:03.340Z"
   },
   {
    "duration": 70,
    "start_time": "2022-01-09T10:59:03.365Z"
   },
   {
    "duration": 3,
    "start_time": "2022-01-09T10:59:03.437Z"
   },
   {
    "duration": 69,
    "start_time": "2022-01-09T10:59:03.443Z"
   },
   {
    "duration": 58,
    "start_time": "2022-01-09T10:59:03.514Z"
   },
   {
    "duration": 8,
    "start_time": "2022-01-09T10:59:03.575Z"
   },
   {
    "duration": 18,
    "start_time": "2022-01-09T10:59:03.586Z"
   },
   {
    "duration": 4,
    "start_time": "2022-01-09T10:59:03.606Z"
   },
   {
    "duration": 57,
    "start_time": "2022-01-09T10:59:03.612Z"
   },
   {
    "duration": 15,
    "start_time": "2022-01-09T10:59:03.671Z"
   },
   {
    "duration": 104,
    "start_time": "2022-01-09T10:59:03.692Z"
   },
   {
    "duration": 33,
    "start_time": "2022-01-09T10:59:03.799Z"
   },
   {
    "duration": 61,
    "start_time": "2022-01-09T10:59:03.834Z"
   },
   {
    "duration": 81,
    "start_time": "2022-01-09T10:59:03.897Z"
   },
   {
    "duration": 6,
    "start_time": "2022-01-09T10:59:03.980Z"
   },
   {
    "duration": 36,
    "start_time": "2022-01-09T10:59:03.989Z"
   },
   {
    "duration": 38,
    "start_time": "2022-01-09T10:59:04.027Z"
   },
   {
    "duration": 48,
    "start_time": "2022-01-09T10:59:04.068Z"
   },
   {
    "duration": 47,
    "start_time": "2022-01-09T10:59:04.118Z"
   },
   {
    "duration": 26,
    "start_time": "2022-01-09T10:59:04.168Z"
   },
   {
    "duration": 466,
    "start_time": "2022-01-09T10:59:04.197Z"
   },
   {
    "duration": 454,
    "start_time": "2022-01-09T10:59:04.665Z"
   },
   {
    "duration": 435,
    "start_time": "2022-01-09T10:59:05.122Z"
   },
   {
    "duration": 29,
    "start_time": "2022-01-09T10:59:05.562Z"
   },
   {
    "duration": 14,
    "start_time": "2022-01-09T10:59:05.594Z"
   },
   {
    "duration": 7,
    "start_time": "2022-01-09T10:59:05.611Z"
   },
   {
    "duration": 9,
    "start_time": "2022-01-09T11:01:27.969Z"
   },
   {
    "duration": 29,
    "start_time": "2022-01-09T11:15:22.558Z"
   },
   {
    "duration": 12,
    "start_time": "2022-01-09T11:15:26.510Z"
   },
   {
    "duration": 8,
    "start_time": "2022-01-09T11:15:29.682Z"
   },
   {
    "duration": 350,
    "start_time": "2022-01-09T15:35:53.183Z"
   },
   {
    "duration": 268,
    "start_time": "2022-01-09T15:35:59.390Z"
   },
   {
    "duration": 4,
    "start_time": "2022-01-09T15:36:00.886Z"
   },
   {
    "duration": 956,
    "start_time": "2022-01-09T15:36:00.893Z"
   },
   {
    "duration": 280,
    "start_time": "2022-01-09T15:36:01.853Z"
   },
   {
    "duration": 23,
    "start_time": "2022-01-09T15:36:02.136Z"
   },
   {
    "duration": 18,
    "start_time": "2022-01-09T15:36:02.162Z"
   },
   {
    "duration": 268,
    "start_time": "2022-01-09T15:36:02.183Z"
   },
   {
    "duration": 19,
    "start_time": "2022-01-09T15:36:02.453Z"
   },
   {
    "duration": 11,
    "start_time": "2022-01-09T15:36:02.474Z"
   },
   {
    "duration": 218,
    "start_time": "2022-01-09T15:36:02.489Z"
   },
   {
    "duration": 20,
    "start_time": "2022-01-09T15:36:02.711Z"
   },
   {
    "duration": 4,
    "start_time": "2022-01-09T15:36:02.734Z"
   },
   {
    "duration": 26,
    "start_time": "2022-01-09T15:36:02.741Z"
   },
   {
    "duration": 12,
    "start_time": "2022-01-09T15:36:02.770Z"
   },
   {
    "duration": 61,
    "start_time": "2022-01-09T15:36:02.785Z"
   },
   {
    "duration": 24,
    "start_time": "2022-01-09T15:36:02.849Z"
   },
   {
    "duration": 5,
    "start_time": "2022-01-09T15:36:02.876Z"
   },
   {
    "duration": 5,
    "start_time": "2022-01-09T15:36:02.884Z"
   },
   {
    "duration": 105,
    "start_time": "2022-01-09T15:36:02.891Z"
   },
   {
    "duration": 19,
    "start_time": "2022-01-09T15:36:02.999Z"
   },
   {
    "duration": 62,
    "start_time": "2022-01-09T15:36:03.020Z"
   },
   {
    "duration": 61,
    "start_time": "2022-01-09T15:36:03.085Z"
   },
   {
    "duration": 10,
    "start_time": "2022-01-09T15:36:03.149Z"
   },
   {
    "duration": 39,
    "start_time": "2022-01-09T15:36:03.162Z"
   },
   {
    "duration": 8,
    "start_time": "2022-01-09T15:36:03.217Z"
   },
   {
    "duration": 27,
    "start_time": "2022-01-09T15:36:03.227Z"
   },
   {
    "duration": 17,
    "start_time": "2022-01-09T15:36:03.257Z"
   },
   {
    "duration": 98,
    "start_time": "2022-01-09T15:36:03.319Z"
   },
   {
    "duration": 35,
    "start_time": "2022-01-09T15:36:03.419Z"
   },
   {
    "duration": 77,
    "start_time": "2022-01-09T15:36:03.457Z"
   },
   {
    "duration": 82,
    "start_time": "2022-01-09T15:36:03.536Z"
   },
   {
    "duration": 7,
    "start_time": "2022-01-09T15:36:03.620Z"
   },
   {
    "duration": 40,
    "start_time": "2022-01-09T15:36:03.630Z"
   },
   {
    "duration": 9,
    "start_time": "2022-01-09T15:36:03.673Z"
   },
   {
    "duration": 70,
    "start_time": "2022-01-09T15:36:03.684Z"
   },
   {
    "duration": 65,
    "start_time": "2022-01-09T15:36:03.757Z"
   },
   {
    "duration": 27,
    "start_time": "2022-01-09T15:36:03.825Z"
   },
   {
    "duration": 445,
    "start_time": "2022-01-09T15:36:03.854Z"
   },
   {
    "duration": 440,
    "start_time": "2022-01-09T15:36:04.302Z"
   },
   {
    "duration": 412,
    "start_time": "2022-01-09T15:36:04.745Z"
   },
   {
    "duration": 29,
    "start_time": "2022-01-09T15:36:05.159Z"
   },
   {
    "duration": 322,
    "start_time": "2022-01-09T15:36:05.191Z"
   },
   {
    "duration": 344,
    "start_time": "2022-01-09T15:36:05.171Z"
   },
   {
    "duration": 344,
    "start_time": "2022-01-09T15:36:05.173Z"
   },
   {
    "duration": 345,
    "start_time": "2022-01-09T15:36:05.174Z"
   },
   {
    "duration": 344,
    "start_time": "2022-01-09T15:36:05.176Z"
   },
   {
    "duration": 12,
    "start_time": "2022-01-09T15:41:42.160Z"
   },
   {
    "duration": 6,
    "start_time": "2022-01-09T15:52:20.375Z"
   },
   {
    "duration": 7,
    "start_time": "2022-01-09T17:38:50.548Z"
   },
   {
    "duration": 7,
    "start_time": "2022-01-09T17:39:23.832Z"
   },
   {
    "duration": 5,
    "start_time": "2022-01-09T17:43:59.697Z"
   },
   {
    "duration": 93,
    "start_time": "2022-01-09T17:45:18.904Z"
   },
   {
    "duration": 6,
    "start_time": "2022-01-09T17:45:26.021Z"
   },
   {
    "duration": 4,
    "start_time": "2022-01-09T17:47:51.648Z"
   },
   {
    "duration": 9,
    "start_time": "2022-01-09T17:47:51.655Z"
   },
   {
    "duration": 238,
    "start_time": "2022-01-09T17:47:51.667Z"
   },
   {
    "duration": 19,
    "start_time": "2022-01-09T17:47:51.908Z"
   },
   {
    "duration": 4,
    "start_time": "2022-01-09T17:47:51.929Z"
   },
   {
    "duration": 271,
    "start_time": "2022-01-09T17:47:51.935Z"
   },
   {
    "duration": 16,
    "start_time": "2022-01-09T17:47:52.209Z"
   },
   {
    "duration": 4,
    "start_time": "2022-01-09T17:47:52.228Z"
   },
   {
    "duration": 147,
    "start_time": "2022-01-09T17:47:52.235Z"
   },
   {
    "duration": 11,
    "start_time": "2022-01-09T17:47:52.385Z"
   },
   {
    "duration": 19,
    "start_time": "2022-01-09T17:47:52.398Z"
   },
   {
    "duration": 29,
    "start_time": "2022-01-09T17:47:52.420Z"
   },
   {
    "duration": 19,
    "start_time": "2022-01-09T17:47:52.452Z"
   },
   {
    "duration": 31,
    "start_time": "2022-01-09T17:47:52.474Z"
   },
   {
    "duration": 15,
    "start_time": "2022-01-09T17:47:52.507Z"
   },
   {
    "duration": 4,
    "start_time": "2022-01-09T17:47:52.525Z"
   },
   {
    "duration": 11,
    "start_time": "2022-01-09T17:47:52.531Z"
   },
   {
    "duration": 75,
    "start_time": "2022-01-09T17:47:52.544Z"
   },
   {
    "duration": 3,
    "start_time": "2022-01-09T17:47:52.621Z"
   },
   {
    "duration": 53,
    "start_time": "2022-01-09T17:47:52.626Z"
   },
   {
    "duration": 62,
    "start_time": "2022-01-09T17:47:52.682Z"
   },
   {
    "duration": 8,
    "start_time": "2022-01-09T17:47:52.746Z"
   },
   {
    "duration": 19,
    "start_time": "2022-01-09T17:47:52.756Z"
   },
   {
    "duration": 5,
    "start_time": "2022-01-09T17:47:52.777Z"
   },
   {
    "duration": 49,
    "start_time": "2022-01-09T17:47:52.785Z"
   },
   {
    "duration": 16,
    "start_time": "2022-01-09T17:47:52.837Z"
   },
   {
    "duration": 118,
    "start_time": "2022-01-09T17:47:52.860Z"
   },
   {
    "duration": 45,
    "start_time": "2022-01-09T17:47:52.982Z"
   },
   {
    "duration": 38,
    "start_time": "2022-01-09T17:47:53.029Z"
   },
   {
    "duration": 94,
    "start_time": "2022-01-09T17:47:53.070Z"
   },
   {
    "duration": 7,
    "start_time": "2022-01-09T17:47:53.166Z"
   },
   {
    "duration": 60,
    "start_time": "2022-01-09T17:47:53.176Z"
   },
   {
    "duration": 10,
    "start_time": "2022-01-09T17:47:53.239Z"
   },
   {
    "duration": 67,
    "start_time": "2022-01-09T17:47:53.251Z"
   },
   {
    "duration": 26,
    "start_time": "2022-01-09T17:47:53.320Z"
   },
   {
    "duration": 26,
    "start_time": "2022-01-09T17:47:53.348Z"
   },
   {
    "duration": 460,
    "start_time": "2022-01-09T17:47:53.377Z"
   },
   {
    "duration": 440,
    "start_time": "2022-01-09T17:47:53.840Z"
   },
   {
    "duration": 420,
    "start_time": "2022-01-09T17:47:54.282Z"
   },
   {
    "duration": 37,
    "start_time": "2022-01-09T17:47:54.704Z"
   },
   {
    "duration": 9,
    "start_time": "2022-01-09T17:47:54.743Z"
   },
   {
    "duration": 253,
    "start_time": "2022-01-09T17:47:54.754Z"
   },
   {
    "duration": 703,
    "start_time": "2022-01-09T17:47:54.307Z"
   },
   {
    "duration": 702,
    "start_time": "2022-01-09T17:47:54.309Z"
   },
   {
    "duration": 698,
    "start_time": "2022-01-09T17:47:54.316Z"
   },
   {
    "duration": 9,
    "start_time": "2022-01-09T17:59:45.509Z"
   },
   {
    "duration": 7,
    "start_time": "2022-01-09T18:00:10.422Z"
   },
   {
    "duration": 7,
    "start_time": "2022-01-09T18:00:29.045Z"
   },
   {
    "duration": 82,
    "start_time": "2022-01-09T18:00:56.733Z"
   },
   {
    "duration": 7,
    "start_time": "2022-01-09T18:01:06.392Z"
   },
   {
    "duration": 7,
    "start_time": "2022-01-09T18:01:16.794Z"
   },
   {
    "duration": 14,
    "start_time": "2022-01-09T18:11:00.386Z"
   },
   {
    "duration": 75,
    "start_time": "2022-01-09T18:13:52.483Z"
   },
   {
    "duration": 87,
    "start_time": "2022-01-09T18:14:13.448Z"
   },
   {
    "duration": 4,
    "start_time": "2022-01-09T18:14:14.986Z"
   },
   {
    "duration": 11,
    "start_time": "2022-01-09T18:14:14.993Z"
   },
   {
    "duration": 243,
    "start_time": "2022-01-09T18:14:15.006Z"
   },
   {
    "duration": 13,
    "start_time": "2022-01-09T18:14:15.252Z"
   },
   {
    "duration": 5,
    "start_time": "2022-01-09T18:14:15.267Z"
   },
   {
    "duration": 204,
    "start_time": "2022-01-09T18:14:15.274Z"
   },
   {
    "duration": 14,
    "start_time": "2022-01-09T18:14:15.481Z"
   },
   {
    "duration": 21,
    "start_time": "2022-01-09T18:14:15.497Z"
   },
   {
    "duration": 133,
    "start_time": "2022-01-09T18:14:15.522Z"
   },
   {
    "duration": 10,
    "start_time": "2022-01-09T18:14:15.658Z"
   },
   {
    "duration": 6,
    "start_time": "2022-01-09T18:14:15.670Z"
   },
   {
    "duration": 23,
    "start_time": "2022-01-09T18:14:15.679Z"
   },
   {
    "duration": 22,
    "start_time": "2022-01-09T18:14:15.704Z"
   },
   {
    "duration": 32,
    "start_time": "2022-01-09T18:14:15.728Z"
   },
   {
    "duration": 17,
    "start_time": "2022-01-09T18:14:15.763Z"
   },
   {
    "duration": 5,
    "start_time": "2022-01-09T18:14:15.782Z"
   },
   {
    "duration": 30,
    "start_time": "2022-01-09T18:14:15.790Z"
   },
   {
    "duration": 73,
    "start_time": "2022-01-09T18:14:15.823Z"
   },
   {
    "duration": 19,
    "start_time": "2022-01-09T18:14:15.899Z"
   },
   {
    "duration": 57,
    "start_time": "2022-01-09T18:14:15.921Z"
   },
   {
    "duration": 64,
    "start_time": "2022-01-09T18:14:15.980Z"
   },
   {
    "duration": 8,
    "start_time": "2022-01-09T18:14:16.046Z"
   },
   {
    "duration": 21,
    "start_time": "2022-01-09T18:14:16.056Z"
   },
   {
    "duration": 5,
    "start_time": "2022-01-09T18:14:16.079Z"
   },
   {
    "duration": 50,
    "start_time": "2022-01-09T18:14:16.086Z"
   },
   {
    "duration": 14,
    "start_time": "2022-01-09T18:14:16.138Z"
   },
   {
    "duration": 101,
    "start_time": "2022-01-09T18:14:16.158Z"
   },
   {
    "duration": 31,
    "start_time": "2022-01-09T18:14:16.261Z"
   },
   {
    "duration": 51,
    "start_time": "2022-01-09T18:14:16.295Z"
   },
   {
    "duration": 83,
    "start_time": "2022-01-09T18:14:16.348Z"
   },
   {
    "duration": 6,
    "start_time": "2022-01-09T18:14:16.433Z"
   },
   {
    "duration": 35,
    "start_time": "2022-01-09T18:14:16.441Z"
   },
   {
    "duration": 10,
    "start_time": "2022-01-09T18:14:16.478Z"
   },
   {
    "duration": 45,
    "start_time": "2022-01-09T18:14:16.517Z"
   },
   {
    "duration": 25,
    "start_time": "2022-01-09T18:14:16.564Z"
   },
   {
    "duration": 49,
    "start_time": "2022-01-09T18:14:16.591Z"
   },
   {
    "duration": 428,
    "start_time": "2022-01-09T18:14:16.643Z"
   },
   {
    "duration": 426,
    "start_time": "2022-01-09T18:14:17.074Z"
   },
   {
    "duration": 415,
    "start_time": "2022-01-09T18:14:17.502Z"
   },
   {
    "duration": 27,
    "start_time": "2022-01-09T18:14:17.919Z"
   },
   {
    "duration": 8,
    "start_time": "2022-01-09T18:14:17.949Z"
   },
   {
    "duration": 123,
    "start_time": "2022-01-09T18:14:17.959Z"
   },
   {
    "duration": 702,
    "start_time": "2022-01-09T18:14:17.383Z"
   },
   {
    "duration": 700,
    "start_time": "2022-01-09T18:14:17.386Z"
   },
   {
    "duration": 699,
    "start_time": "2022-01-09T18:14:17.388Z"
   },
   {
    "duration": 81,
    "start_time": "2022-01-09T18:14:32.465Z"
   },
   {
    "duration": 7,
    "start_time": "2022-01-09T18:14:39.433Z"
   },
   {
    "duration": 16,
    "start_time": "2022-01-09T18:16:01.214Z"
   },
   {
    "duration": 12,
    "start_time": "2022-01-09T18:24:30.513Z"
   },
   {
    "duration": 5,
    "start_time": "2022-01-09T18:24:52.279Z"
   },
   {
    "duration": 10,
    "start_time": "2022-01-09T18:24:52.287Z"
   },
   {
    "duration": 257,
    "start_time": "2022-01-09T18:24:52.300Z"
   },
   {
    "duration": 13,
    "start_time": "2022-01-09T18:24:52.560Z"
   },
   {
    "duration": 10,
    "start_time": "2022-01-09T18:24:52.576Z"
   },
   {
    "duration": 212,
    "start_time": "2022-01-09T18:24:52.589Z"
   },
   {
    "duration": 20,
    "start_time": "2022-01-09T18:24:52.804Z"
   },
   {
    "duration": 6,
    "start_time": "2022-01-09T18:24:52.826Z"
   },
   {
    "duration": 150,
    "start_time": "2022-01-09T18:24:52.838Z"
   },
   {
    "duration": 11,
    "start_time": "2022-01-09T18:24:52.993Z"
   },
   {
    "duration": 14,
    "start_time": "2022-01-09T18:24:53.006Z"
   },
   {
    "duration": 24,
    "start_time": "2022-01-09T18:24:53.023Z"
   },
   {
    "duration": 14,
    "start_time": "2022-01-09T18:24:53.050Z"
   },
   {
    "duration": 36,
    "start_time": "2022-01-09T18:24:53.067Z"
   },
   {
    "duration": 24,
    "start_time": "2022-01-09T18:24:53.105Z"
   },
   {
    "duration": 10,
    "start_time": "2022-01-09T18:24:53.132Z"
   },
   {
    "duration": 10,
    "start_time": "2022-01-09T18:24:53.145Z"
   },
   {
    "duration": 96,
    "start_time": "2022-01-09T18:24:53.158Z"
   },
   {
    "duration": 4,
    "start_time": "2022-01-09T18:24:53.256Z"
   },
   {
    "duration": 69,
    "start_time": "2022-01-09T18:24:53.263Z"
   },
   {
    "duration": 43,
    "start_time": "2022-01-09T18:24:53.334Z"
   },
   {
    "duration": 9,
    "start_time": "2022-01-09T18:24:53.379Z"
   },
   {
    "duration": 43,
    "start_time": "2022-01-09T18:24:53.391Z"
   },
   {
    "duration": 5,
    "start_time": "2022-01-09T18:24:53.436Z"
   },
   {
    "duration": 35,
    "start_time": "2022-01-09T18:24:53.443Z"
   },
   {
    "duration": 48,
    "start_time": "2022-01-09T18:24:53.481Z"
   },
   {
    "duration": 90,
    "start_time": "2022-01-09T18:24:53.535Z"
   },
   {
    "duration": 33,
    "start_time": "2022-01-09T18:24:53.628Z"
   },
   {
    "duration": 66,
    "start_time": "2022-01-09T18:24:53.663Z"
   },
   {
    "duration": 88,
    "start_time": "2022-01-09T18:24:53.731Z"
   },
   {
    "duration": 7,
    "start_time": "2022-01-09T18:24:53.821Z"
   },
   {
    "duration": 51,
    "start_time": "2022-01-09T18:24:53.831Z"
   },
   {
    "duration": 39,
    "start_time": "2022-01-09T18:24:53.885Z"
   },
   {
    "duration": 47,
    "start_time": "2022-01-09T18:24:53.927Z"
   },
   {
    "duration": 57,
    "start_time": "2022-01-09T18:24:53.977Z"
   },
   {
    "duration": 28,
    "start_time": "2022-01-09T18:24:54.036Z"
   },
   {
    "duration": 437,
    "start_time": "2022-01-09T18:24:54.067Z"
   },
   {
    "duration": 539,
    "start_time": "2022-01-09T18:24:54.507Z"
   },
   {
    "duration": 426,
    "start_time": "2022-01-09T18:24:55.049Z"
   },
   {
    "duration": 27,
    "start_time": "2022-01-09T18:24:55.478Z"
   },
   {
    "duration": 8,
    "start_time": "2022-01-09T18:24:55.517Z"
   },
   {
    "duration": 16,
    "start_time": "2022-01-09T18:24:55.528Z"
   },
   {
    "duration": 13,
    "start_time": "2022-01-09T18:24:55.547Z"
   },
   {
    "duration": 71,
    "start_time": "2022-01-09T18:24:55.563Z"
   },
   {
    "duration": 10,
    "start_time": "2022-01-09T18:24:55.636Z"
   },
   {
    "duration": 10,
    "start_time": "2022-01-09T18:24:55.649Z"
   },
   {
    "duration": 20,
    "start_time": "2022-01-09T18:25:21.803Z"
   },
   {
    "duration": 18,
    "start_time": "2022-01-09T18:27:32.287Z"
   },
   {
    "duration": 9,
    "start_time": "2022-01-09T18:28:07.937Z"
   },
   {
    "duration": 279,
    "start_time": "2022-01-09T19:10:05.810Z"
   },
   {
    "duration": 811,
    "start_time": "2022-01-09T19:10:15.147Z"
   },
   {
    "duration": 282,
    "start_time": "2022-01-09T19:11:17.797Z"
   },
   {
    "duration": 698,
    "start_time": "2022-01-09T19:11:53.534Z"
   },
   {
    "duration": 5,
    "start_time": "2022-01-09T19:11:55.669Z"
   },
   {
    "duration": 11,
    "start_time": "2022-01-09T19:11:55.677Z"
   },
   {
    "duration": 310,
    "start_time": "2022-01-09T19:11:55.692Z"
   },
   {
    "duration": 17,
    "start_time": "2022-01-09T19:11:56.006Z"
   },
   {
    "duration": 11,
    "start_time": "2022-01-09T19:11:56.026Z"
   },
   {
    "duration": 226,
    "start_time": "2022-01-09T19:11:56.039Z"
   },
   {
    "duration": 14,
    "start_time": "2022-01-09T19:11:56.267Z"
   },
   {
    "duration": 8,
    "start_time": "2022-01-09T19:11:56.284Z"
   },
   {
    "duration": 132,
    "start_time": "2022-01-09T19:11:56.317Z"
   },
   {
    "duration": 11,
    "start_time": "2022-01-09T19:11:56.452Z"
   },
   {
    "duration": 5,
    "start_time": "2022-01-09T19:11:56.466Z"
   },
   {
    "duration": 36,
    "start_time": "2022-01-09T19:11:56.474Z"
   },
   {
    "duration": 14,
    "start_time": "2022-01-09T19:11:56.512Z"
   },
   {
    "duration": 33,
    "start_time": "2022-01-09T19:11:56.529Z"
   },
   {
    "duration": 16,
    "start_time": "2022-01-09T19:11:56.564Z"
   },
   {
    "duration": 5,
    "start_time": "2022-01-09T19:11:56.583Z"
   },
   {
    "duration": 30,
    "start_time": "2022-01-09T19:11:56.591Z"
   },
   {
    "duration": 67,
    "start_time": "2022-01-09T19:11:56.624Z"
   },
   {
    "duration": 3,
    "start_time": "2022-01-09T19:11:56.693Z"
   },
   {
    "duration": 53,
    "start_time": "2022-01-09T19:11:56.717Z"
   },
   {
    "duration": 73,
    "start_time": "2022-01-09T19:11:56.773Z"
   },
   {
    "duration": 7,
    "start_time": "2022-01-09T19:11:56.849Z"
   },
   {
    "duration": 19,
    "start_time": "2022-01-09T19:11:56.859Z"
   },
   {
    "duration": 5,
    "start_time": "2022-01-09T19:11:56.881Z"
   },
   {
    "duration": 44,
    "start_time": "2022-01-09T19:11:56.898Z"
   },
   {
    "duration": 17,
    "start_time": "2022-01-09T19:11:56.945Z"
   },
   {
    "duration": 116,
    "start_time": "2022-01-09T19:11:56.968Z"
   },
   {
    "duration": 47,
    "start_time": "2022-01-09T19:11:57.087Z"
   },
   {
    "duration": 39,
    "start_time": "2022-01-09T19:11:57.136Z"
   },
   {
    "duration": 89,
    "start_time": "2022-01-09T19:11:57.177Z"
   },
   {
    "duration": 6,
    "start_time": "2022-01-09T19:11:57.268Z"
   },
   {
    "duration": 63,
    "start_time": "2022-01-09T19:11:57.277Z"
   },
   {
    "duration": 10,
    "start_time": "2022-01-09T19:11:57.343Z"
   },
   {
    "duration": 71,
    "start_time": "2022-01-09T19:11:57.356Z"
   },
   {
    "duration": 27,
    "start_time": "2022-01-09T19:11:57.429Z"
   },
   {
    "duration": 27,
    "start_time": "2022-01-09T19:11:57.458Z"
   },
   {
    "duration": 437,
    "start_time": "2022-01-09T19:11:57.518Z"
   },
   {
    "duration": 437,
    "start_time": "2022-01-09T19:11:57.957Z"
   },
   {
    "duration": 409,
    "start_time": "2022-01-09T19:11:58.397Z"
   },
   {
    "duration": 34,
    "start_time": "2022-01-09T19:11:58.808Z"
   },
   {
    "duration": 7,
    "start_time": "2022-01-09T19:11:58.844Z"
   },
   {
    "duration": 14,
    "start_time": "2022-01-09T19:11:58.854Z"
   },
   {
    "duration": 50,
    "start_time": "2022-01-09T19:11:58.870Z"
   },
   {
    "duration": 355,
    "start_time": "2022-01-09T19:11:58.922Z"
   },
   {
    "duration": 669,
    "start_time": "2022-01-09T19:11:58.610Z"
   },
   {
    "duration": 669,
    "start_time": "2022-01-09T19:11:58.612Z"
   },
   {
    "duration": 669,
    "start_time": "2022-01-09T19:11:58.613Z"
   },
   {
    "duration": 357,
    "start_time": "2022-01-09T19:12:06.997Z"
   },
   {
    "duration": 355,
    "start_time": "2022-01-09T19:14:21.231Z"
   },
   {
    "duration": 395,
    "start_time": "2022-01-09T19:16:48.551Z"
   },
   {
    "duration": 403,
    "start_time": "2022-01-09T19:17:02.225Z"
   },
   {
    "duration": 9,
    "start_time": "2022-01-09T19:19:45.515Z"
   },
   {
    "duration": 81,
    "start_time": "2022-01-09T19:20:33.975Z"
   },
   {
    "duration": 309,
    "start_time": "2022-01-09T19:20:38.414Z"
   },
   {
    "duration": 292,
    "start_time": "2022-01-09T19:20:46.875Z"
   },
   {
    "duration": 348,
    "start_time": "2022-01-09T19:20:53.572Z"
   },
   {
    "duration": 380,
    "start_time": "2022-01-09T19:20:58.740Z"
   },
   {
    "duration": 389,
    "start_time": "2022-01-09T19:38:30.067Z"
   },
   {
    "duration": 404,
    "start_time": "2022-01-09T19:38:40.806Z"
   },
   {
    "duration": 399,
    "start_time": "2022-01-09T19:38:52.475Z"
   },
   {
    "duration": 287,
    "start_time": "2022-01-09T19:38:59.663Z"
   },
   {
    "duration": 335,
    "start_time": "2022-01-09T19:39:11.613Z"
   },
   {
    "duration": 304,
    "start_time": "2022-01-09T19:43:53.730Z"
   },
   {
    "duration": 484,
    "start_time": "2022-01-09T19:44:03.185Z"
   },
   {
    "duration": 279,
    "start_time": "2022-01-09T19:46:48.128Z"
   },
   {
    "duration": 296,
    "start_time": "2022-01-09T19:57:33.170Z"
   },
   {
    "duration": 299,
    "start_time": "2022-01-09T19:57:38.425Z"
   },
   {
    "duration": 26,
    "start_time": "2022-01-09T21:09:29.065Z"
   },
   {
    "duration": 3,
    "start_time": "2022-01-09T21:11:16.697Z"
   },
   {
    "duration": 387,
    "start_time": "2022-01-10T07:49:50.786Z"
   },
   {
    "duration": 245,
    "start_time": "2022-01-10T07:50:03.542Z"
   },
   {
    "duration": 4,
    "start_time": "2022-01-10T07:50:05.090Z"
   },
   {
    "duration": 1497,
    "start_time": "2022-01-10T07:50:05.100Z"
   },
   {
    "duration": 227,
    "start_time": "2022-01-10T07:50:06.600Z"
   },
   {
    "duration": 17,
    "start_time": "2022-01-10T07:50:06.830Z"
   },
   {
    "duration": 3,
    "start_time": "2022-01-10T07:50:06.850Z"
   },
   {
    "duration": 209,
    "start_time": "2022-01-10T07:50:06.856Z"
   },
   {
    "duration": 13,
    "start_time": "2022-01-10T07:50:07.067Z"
   },
   {
    "duration": 4,
    "start_time": "2022-01-10T07:50:07.083Z"
   },
   {
    "duration": 130,
    "start_time": "2022-01-10T07:50:07.120Z"
   },
   {
    "duration": 12,
    "start_time": "2022-01-10T07:50:07.254Z"
   },
   {
    "duration": 5,
    "start_time": "2022-01-10T07:50:07.269Z"
   },
   {
    "duration": 44,
    "start_time": "2022-01-10T07:50:07.277Z"
   },
   {
    "duration": 13,
    "start_time": "2022-01-10T07:50:07.323Z"
   },
   {
    "duration": 35,
    "start_time": "2022-01-10T07:50:07.339Z"
   },
   {
    "duration": 16,
    "start_time": "2022-01-10T07:50:07.377Z"
   },
   {
    "duration": 4,
    "start_time": "2022-01-10T07:50:07.395Z"
   },
   {
    "duration": 6,
    "start_time": "2022-01-10T07:50:07.418Z"
   },
   {
    "duration": 76,
    "start_time": "2022-01-10T07:50:07.427Z"
   },
   {
    "duration": 4,
    "start_time": "2022-01-10T07:50:07.524Z"
   },
   {
    "duration": 54,
    "start_time": "2022-01-10T07:50:07.531Z"
   },
   {
    "duration": 55,
    "start_time": "2022-01-10T07:50:07.588Z"
   },
   {
    "duration": 7,
    "start_time": "2022-01-10T07:50:07.646Z"
   },
   {
    "duration": 20,
    "start_time": "2022-01-10T07:50:07.655Z"
   },
   {
    "duration": 5,
    "start_time": "2022-01-10T07:50:07.680Z"
   },
   {
    "duration": 49,
    "start_time": "2022-01-10T07:50:07.688Z"
   },
   {
    "duration": 17,
    "start_time": "2022-01-10T07:50:07.740Z"
   },
   {
    "duration": 124,
    "start_time": "2022-01-10T07:50:07.760Z"
   },
   {
    "duration": 55,
    "start_time": "2022-01-10T07:50:07.887Z"
   },
   {
    "duration": 39,
    "start_time": "2022-01-10T07:50:07.945Z"
   },
   {
    "duration": 94,
    "start_time": "2022-01-10T07:50:07.987Z"
   },
   {
    "duration": 8,
    "start_time": "2022-01-10T07:50:08.084Z"
   },
   {
    "duration": 40,
    "start_time": "2022-01-10T07:50:08.118Z"
   },
   {
    "duration": 10,
    "start_time": "2022-01-10T07:50:08.162Z"
   },
   {
    "duration": 79,
    "start_time": "2022-01-10T07:50:08.175Z"
   },
   {
    "duration": 27,
    "start_time": "2022-01-10T07:50:08.257Z"
   },
   {
    "duration": 55,
    "start_time": "2022-01-10T07:50:08.287Z"
   },
   {
    "duration": 437,
    "start_time": "2022-01-10T07:50:08.345Z"
   },
   {
    "duration": 448,
    "start_time": "2022-01-10T07:50:08.785Z"
   },
   {
    "duration": 412,
    "start_time": "2022-01-10T07:50:09.236Z"
   },
   {
    "duration": 28,
    "start_time": "2022-01-10T07:50:09.651Z"
   },
   {
    "duration": 9,
    "start_time": "2022-01-10T07:50:09.682Z"
   },
   {
    "duration": 15,
    "start_time": "2022-01-10T07:50:09.718Z"
   },
   {
    "duration": 13,
    "start_time": "2022-01-10T07:50:09.736Z"
   },
   {
    "duration": 441,
    "start_time": "2022-01-10T07:50:09.751Z"
   },
   {
    "duration": 323,
    "start_time": "2022-01-10T07:50:10.194Z"
   },
   {
    "duration": 319,
    "start_time": "2022-01-10T07:50:10.519Z"
   },
   {
    "duration": 26,
    "start_time": "2022-01-10T07:50:10.841Z"
   },
   {
    "duration": 359,
    "start_time": "2022-01-10T07:50:10.869Z"
   },
   {
    "duration": -9247,
    "start_time": "2022-01-10T07:50:20.478Z"
   },
   {
    "duration": -9299,
    "start_time": "2022-01-10T07:50:20.531Z"
   },
   {
    "duration": -9324,
    "start_time": "2022-01-10T07:50:20.557Z"
   },
   {
    "duration": 240,
    "start_time": "2022-01-10T07:53:23.784Z"
   },
   {
    "duration": 8,
    "start_time": "2022-01-10T07:53:46.959Z"
   },
   {
    "duration": 15,
    "start_time": "2022-01-10T08:44:40.173Z"
   },
   {
    "duration": 242,
    "start_time": "2022-01-10T08:45:17.085Z"
   },
   {
    "duration": 10,
    "start_time": "2022-01-10T08:45:28.472Z"
   },
   {
    "duration": 400,
    "start_time": "2022-01-10T08:46:56.901Z"
   },
   {
    "duration": 4,
    "start_time": "2022-01-10T08:46:58.680Z"
   },
   {
    "duration": 5,
    "start_time": "2022-01-10T08:46:58.691Z"
   },
   {
    "duration": 254,
    "start_time": "2022-01-10T08:46:58.699Z"
   },
   {
    "duration": 12,
    "start_time": "2022-01-10T08:46:58.955Z"
   },
   {
    "duration": 4,
    "start_time": "2022-01-10T08:46:58.969Z"
   },
   {
    "duration": 221,
    "start_time": "2022-01-10T08:46:58.975Z"
   },
   {
    "duration": 25,
    "start_time": "2022-01-10T08:46:59.198Z"
   },
   {
    "duration": 4,
    "start_time": "2022-01-10T08:46:59.226Z"
   },
   {
    "duration": 147,
    "start_time": "2022-01-10T08:46:59.234Z"
   },
   {
    "duration": 11,
    "start_time": "2022-01-10T08:46:59.384Z"
   },
   {
    "duration": 3,
    "start_time": "2022-01-10T08:46:59.417Z"
   },
   {
    "duration": 23,
    "start_time": "2022-01-10T08:46:59.422Z"
   },
   {
    "duration": 12,
    "start_time": "2022-01-10T08:46:59.448Z"
   },
   {
    "duration": 31,
    "start_time": "2022-01-10T08:46:59.462Z"
   },
   {
    "duration": 32,
    "start_time": "2022-01-10T08:46:59.496Z"
   },
   {
    "duration": 3,
    "start_time": "2022-01-10T08:46:59.531Z"
   },
   {
    "duration": 8,
    "start_time": "2022-01-10T08:46:59.536Z"
   },
   {
    "duration": 88,
    "start_time": "2022-01-10T08:46:59.547Z"
   },
   {
    "duration": 4,
    "start_time": "2022-01-10T08:46:59.637Z"
   },
   {
    "duration": 51,
    "start_time": "2022-01-10T08:46:59.643Z"
   },
   {
    "duration": 59,
    "start_time": "2022-01-10T08:46:59.696Z"
   },
   {
    "duration": 8,
    "start_time": "2022-01-10T08:46:59.757Z"
   },
   {
    "duration": 18,
    "start_time": "2022-01-10T08:46:59.767Z"
   },
   {
    "duration": 30,
    "start_time": "2022-01-10T08:46:59.790Z"
   },
   {
    "duration": 23,
    "start_time": "2022-01-10T08:46:59.823Z"
   },
   {
    "duration": 15,
    "start_time": "2022-01-10T08:46:59.849Z"
   },
   {
    "duration": 115,
    "start_time": "2022-01-10T08:46:59.867Z"
   },
   {
    "duration": 44,
    "start_time": "2022-01-10T08:46:59.985Z"
   },
   {
    "duration": 39,
    "start_time": "2022-01-10T08:47:00.032Z"
   },
   {
    "duration": 87,
    "start_time": "2022-01-10T08:47:00.074Z"
   },
   {
    "duration": 6,
    "start_time": "2022-01-10T08:47:00.163Z"
   },
   {
    "duration": 54,
    "start_time": "2022-01-10T08:47:00.171Z"
   },
   {
    "duration": 9,
    "start_time": "2022-01-10T08:47:00.228Z"
   },
   {
    "duration": 52,
    "start_time": "2022-01-10T08:47:00.240Z"
   },
   {
    "duration": 45,
    "start_time": "2022-01-10T08:47:00.294Z"
   },
   {
    "duration": 26,
    "start_time": "2022-01-10T08:47:00.341Z"
   },
   {
    "duration": 461,
    "start_time": "2022-01-10T08:47:00.370Z"
   },
   {
    "duration": 452,
    "start_time": "2022-01-10T08:47:00.834Z"
   },
   {
    "duration": 424,
    "start_time": "2022-01-10T08:47:01.289Z"
   },
   {
    "duration": 29,
    "start_time": "2022-01-10T08:47:01.717Z"
   },
   {
    "duration": 13,
    "start_time": "2022-01-10T08:47:01.749Z"
   },
   {
    "duration": 20,
    "start_time": "2022-01-10T08:47:01.764Z"
   },
   {
    "duration": 10,
    "start_time": "2022-01-10T08:47:01.818Z"
   },
   {
    "duration": 420,
    "start_time": "2022-01-10T08:47:01.830Z"
   },
   {
    "duration": 339,
    "start_time": "2022-01-10T08:47:02.252Z"
   },
   {
    "duration": 436,
    "start_time": "2022-01-10T08:47:02.593Z"
   },
   {
    "duration": 28,
    "start_time": "2022-01-10T08:47:03.031Z"
   },
   {
    "duration": 8,
    "start_time": "2022-01-10T08:47:03.061Z"
   },
   {
    "duration": 47,
    "start_time": "2022-01-10T08:47:03.071Z"
   },
   {
    "duration": 8,
    "start_time": "2022-01-10T08:47:03.121Z"
   },
   {
    "duration": 415,
    "start_time": "2022-01-10T08:47:03.132Z"
   },
   {
    "duration": 346,
    "start_time": "2022-01-10T08:47:03.549Z"
   },
   {
    "duration": 341,
    "start_time": "2022-01-10T08:47:03.897Z"
   },
   {
    "duration": 404,
    "start_time": "2022-01-10T08:48:03.824Z"
   },
   {
    "duration": 547,
    "start_time": "2022-01-10T08:48:15.324Z"
   },
   {
    "duration": 302,
    "start_time": "2022-01-10T08:48:40.571Z"
   },
   {
    "duration": 316,
    "start_time": "2022-01-10T08:48:46.052Z"
   },
   {
    "duration": 289,
    "start_time": "2022-01-10T08:57:01.877Z"
   },
   {
    "duration": 403,
    "start_time": "2022-01-10T08:57:08.959Z"
   },
   {
    "duration": 411,
    "start_time": "2022-01-10T08:57:20.712Z"
   },
   {
    "duration": 86,
    "start_time": "2022-01-10T08:59:10.648Z"
   },
   {
    "duration": 415,
    "start_time": "2022-01-10T08:59:31.823Z"
   },
   {
    "duration": 3,
    "start_time": "2022-01-10T10:33:59.978Z"
   },
   {
    "duration": 3,
    "start_time": "2022-01-10T10:34:04.277Z"
   },
   {
    "duration": 5,
    "start_time": "2022-01-10T11:54:08.472Z"
   },
   {
    "duration": 251,
    "start_time": "2022-01-10T12:10:21.663Z"
   },
   {
    "duration": 4,
    "start_time": "2022-01-10T12:10:54.355Z"
   },
   {
    "duration": 4,
    "start_time": "2022-01-10T12:10:55.939Z"
   },
   {
    "duration": 7,
    "start_time": "2022-01-10T12:10:55.949Z"
   },
   {
    "duration": 244,
    "start_time": "2022-01-10T12:10:55.958Z"
   },
   {
    "duration": 13,
    "start_time": "2022-01-10T12:10:56.217Z"
   },
   {
    "duration": 3,
    "start_time": "2022-01-10T12:10:56.233Z"
   },
   {
    "duration": 314,
    "start_time": "2022-01-10T12:10:56.239Z"
   },
   {
    "duration": 18,
    "start_time": "2022-01-10T12:10:56.556Z"
   },
   {
    "duration": 3,
    "start_time": "2022-01-10T12:10:56.579Z"
   },
   {
    "duration": 132,
    "start_time": "2022-01-10T12:10:56.617Z"
   },
   {
    "duration": 11,
    "start_time": "2022-01-10T12:10:56.753Z"
   },
   {
    "duration": 8,
    "start_time": "2022-01-10T12:10:56.767Z"
   },
   {
    "duration": 24,
    "start_time": "2022-01-10T12:10:56.777Z"
   },
   {
    "duration": 16,
    "start_time": "2022-01-10T12:10:56.818Z"
   },
   {
    "duration": 130,
    "start_time": "2022-01-10T12:10:56.837Z"
   },
   {
    "duration": 54,
    "start_time": "2022-01-10T12:10:56.970Z"
   },
   {
    "duration": 14,
    "start_time": "2022-01-10T12:10:57.027Z"
   },
   {
    "duration": 39,
    "start_time": "2022-01-10T12:10:57.044Z"
   },
   {
    "duration": 107,
    "start_time": "2022-01-10T12:10:57.085Z"
   },
   {
    "duration": 4,
    "start_time": "2022-01-10T12:10:57.195Z"
   },
   {
    "duration": 62,
    "start_time": "2022-01-10T12:10:57.207Z"
   },
   {
    "duration": 72,
    "start_time": "2022-01-10T12:10:57.274Z"
   },
   {
    "duration": 13,
    "start_time": "2022-01-10T12:10:57.349Z"
   },
   {
    "duration": 23,
    "start_time": "2022-01-10T12:10:57.365Z"
   },
   {
    "duration": 27,
    "start_time": "2022-01-10T12:10:57.390Z"
   },
   {
    "duration": 28,
    "start_time": "2022-01-10T12:10:57.420Z"
   },
   {
    "duration": 15,
    "start_time": "2022-01-10T12:10:57.450Z"
   },
   {
    "duration": 115,
    "start_time": "2022-01-10T12:10:57.467Z"
   },
   {
    "duration": 55,
    "start_time": "2022-01-10T12:10:57.585Z"
   },
   {
    "duration": 44,
    "start_time": "2022-01-10T12:10:57.644Z"
   },
   {
    "duration": 87,
    "start_time": "2022-01-10T12:10:57.691Z"
   },
   {
    "duration": 6,
    "start_time": "2022-01-10T12:10:57.781Z"
   },
   {
    "duration": 58,
    "start_time": "2022-01-10T12:10:57.790Z"
   },
   {
    "duration": 10,
    "start_time": "2022-01-10T12:10:57.851Z"
   },
   {
    "duration": 69,
    "start_time": "2022-01-10T12:10:57.863Z"
   },
   {
    "duration": 27,
    "start_time": "2022-01-10T12:10:57.934Z"
   },
   {
    "duration": 56,
    "start_time": "2022-01-10T12:10:57.963Z"
   },
   {
    "duration": 612,
    "start_time": "2022-01-10T12:10:58.021Z"
   },
   {
    "duration": 632,
    "start_time": "2022-01-10T12:10:58.636Z"
   },
   {
    "duration": 446,
    "start_time": "2022-01-10T12:10:59.271Z"
   },
   {
    "duration": 28,
    "start_time": "2022-01-10T12:10:59.720Z"
   },
   {
    "duration": 8,
    "start_time": "2022-01-10T12:10:59.752Z"
   },
   {
    "duration": 57,
    "start_time": "2022-01-10T12:10:59.763Z"
   },
   {
    "duration": 12,
    "start_time": "2022-01-10T12:10:59.822Z"
   },
   {
    "duration": 423,
    "start_time": "2022-01-10T12:10:59.837Z"
   },
   {
    "duration": 443,
    "start_time": "2022-01-10T12:11:00.262Z"
   },
   {
    "duration": 327,
    "start_time": "2022-01-10T12:11:00.708Z"
   },
   {
    "duration": 30,
    "start_time": "2022-01-10T12:11:01.037Z"
   },
   {
    "duration": 10,
    "start_time": "2022-01-10T12:11:01.070Z"
   },
   {
    "duration": 45,
    "start_time": "2022-01-10T12:11:01.083Z"
   },
   {
    "duration": 19,
    "start_time": "2022-01-10T12:11:01.131Z"
   },
   {
    "duration": 606,
    "start_time": "2022-01-10T12:11:01.153Z"
   },
   {
    "duration": 604,
    "start_time": "2022-01-10T12:11:01.762Z"
   },
   {
    "duration": 336,
    "start_time": "2022-01-10T12:11:02.369Z"
   },
   {
    "duration": 9,
    "start_time": "2022-01-10T12:11:02.708Z"
   },
   {
    "duration": 4,
    "start_time": "2022-01-10T12:11:02.722Z"
   },
   {
    "duration": 16,
    "start_time": "2022-01-10T12:11:02.732Z"
   },
   {
    "duration": 6,
    "start_time": "2022-01-10T12:11:50.045Z"
   },
   {
    "duration": 199,
    "start_time": "2022-01-10T12:26:20.265Z"
   },
   {
    "duration": 267,
    "start_time": "2022-01-10T12:26:30.478Z"
   },
   {
    "duration": 6,
    "start_time": "2022-01-10T12:26:39.322Z"
   },
   {
    "duration": 5,
    "start_time": "2022-01-10T12:26:52.772Z"
   },
   {
    "duration": 243,
    "start_time": "2022-01-10T12:39:28.902Z"
   },
   {
    "duration": 255,
    "start_time": "2022-01-10T12:39:57.973Z"
   },
   {
    "duration": 5,
    "start_time": "2022-01-10T12:40:00.332Z"
   },
   {
    "duration": 760,
    "start_time": "2022-01-10T12:40:00.340Z"
   },
   {
    "duration": 739,
    "start_time": "2022-01-10T12:40:01.104Z"
   },
   {
    "duration": 26,
    "start_time": "2022-01-10T12:40:01.846Z"
   },
   {
    "duration": 916,
    "start_time": "2022-01-10T12:40:01.875Z"
   },
   {
    "duration": 991,
    "start_time": "2022-01-10T12:40:02.794Z"
   },
   {
    "duration": 757,
    "start_time": "2022-01-10T12:40:03.789Z"
   },
   {
    "duration": 171,
    "start_time": "2022-01-10T12:40:04.549Z"
   },
   {
    "duration": 533,
    "start_time": "2022-01-10T12:40:04.723Z"
   },
   {
    "duration": 143,
    "start_time": "2022-01-10T12:40:05.259Z"
   },
   {
    "duration": 479,
    "start_time": "2022-01-10T12:40:05.405Z"
   },
   {
    "duration": 792,
    "start_time": "2022-01-10T12:40:05.886Z"
   },
   {
    "duration": 276,
    "start_time": "2022-01-10T12:40:06.681Z"
   },
   {
    "duration": 259,
    "start_time": "2022-01-10T12:40:06.960Z"
   },
   {
    "duration": 316,
    "start_time": "2022-01-10T12:40:07.222Z"
   },
   {
    "duration": 279,
    "start_time": "2022-01-10T12:40:07.541Z"
   },
   {
    "duration": 678,
    "start_time": "2022-01-10T12:40:07.824Z"
   },
   {
    "duration": 723,
    "start_time": "2022-01-10T12:40:08.505Z"
   },
   {
    "duration": 182,
    "start_time": "2022-01-10T12:40:09.235Z"
   },
   {
    "duration": 1142,
    "start_time": "2022-01-10T12:40:09.422Z"
   },
   {
    "duration": 167,
    "start_time": "2022-01-10T12:40:10.567Z"
   },
   {
    "duration": 41,
    "start_time": "2022-01-10T12:40:10.737Z"
   },
   {
    "duration": 221,
    "start_time": "2022-01-10T12:40:10.780Z"
   },
   {
    "duration": 236,
    "start_time": "2022-01-10T12:40:11.004Z"
   },
   {
    "duration": 176,
    "start_time": "2022-01-10T12:40:11.242Z"
   },
   {
    "duration": 465,
    "start_time": "2022-01-10T12:40:11.420Z"
   },
   {
    "duration": 212,
    "start_time": "2022-01-10T12:40:11.888Z"
   },
   {
    "duration": 273,
    "start_time": "2022-01-10T12:40:12.103Z"
   },
   {
    "duration": 301,
    "start_time": "2022-01-10T12:40:12.378Z"
   },
   {
    "duration": 124,
    "start_time": "2022-01-10T12:40:12.681Z"
   },
   {
    "duration": 79,
    "start_time": "2022-01-10T12:40:12.808Z"
   },
   {
    "duration": 167,
    "start_time": "2022-01-10T12:40:12.890Z"
   },
   {
    "duration": 724,
    "start_time": "2022-01-10T12:40:13.060Z"
   },
   {
    "duration": 725,
    "start_time": "2022-01-10T12:40:13.786Z"
   },
   {
    "duration": 131,
    "start_time": "2022-01-10T12:40:14.513Z"
   },
   {
    "duration": 285,
    "start_time": "2022-01-10T12:40:14.647Z"
   },
   {
    "duration": 548,
    "start_time": "2022-01-10T12:40:14.935Z"
   },
   {
    "duration": 455,
    "start_time": "2022-01-10T12:40:15.486Z"
   },
   {
    "duration": 445,
    "start_time": "2022-01-10T12:40:15.943Z"
   },
   {
    "duration": 40,
    "start_time": "2022-01-10T12:40:16.391Z"
   },
   {
    "duration": 79,
    "start_time": "2022-01-10T12:40:16.433Z"
   },
   {
    "duration": 136,
    "start_time": "2022-01-10T12:40:16.515Z"
   },
   {
    "duration": 156,
    "start_time": "2022-01-10T12:40:16.654Z"
   },
   {
    "duration": 660,
    "start_time": "2022-01-10T12:40:16.813Z"
   },
   {
    "duration": 329,
    "start_time": "2022-01-10T12:40:17.475Z"
   },
   {
    "duration": 322,
    "start_time": "2022-01-10T12:40:17.807Z"
   },
   {
    "duration": 33,
    "start_time": "2022-01-10T12:40:18.132Z"
   },
   {
    "duration": 161,
    "start_time": "2022-01-10T12:40:18.168Z"
   },
   {
    "duration": 111,
    "start_time": "2022-01-10T12:40:18.332Z"
   },
   {
    "duration": 90,
    "start_time": "2022-01-10T12:40:18.445Z"
   },
   {
    "duration": 757,
    "start_time": "2022-01-10T12:40:18.537Z"
   },
   {
    "duration": 629,
    "start_time": "2022-01-10T12:40:19.298Z"
   },
   {
    "duration": 610,
    "start_time": "2022-01-10T12:40:19.930Z"
   },
   {
    "duration": 5,
    "start_time": "2022-01-10T12:40:20.544Z"
   },
   {
    "duration": 171,
    "start_time": "2022-01-10T12:40:20.555Z"
   },
   {
    "duration": 167,
    "start_time": "2022-01-10T12:40:20.729Z"
   },
   {
    "duration": 402,
    "start_time": "2022-01-10T12:40:20.899Z"
   },
   {
    "duration": 7,
    "start_time": "2022-01-10T12:42:48.800Z"
   },
   {
    "duration": 4,
    "start_time": "2022-01-10T12:42:50.750Z"
   },
   {
    "duration": 1375,
    "start_time": "2022-01-10T12:42:50.758Z"
   },
   {
    "duration": 599,
    "start_time": "2022-01-10T12:42:52.136Z"
   },
   {
    "duration": 453,
    "start_time": "2022-01-10T12:42:52.739Z"
   },
   {
    "duration": 766,
    "start_time": "2022-01-10T12:42:53.196Z"
   },
   {
    "duration": 843,
    "start_time": "2022-01-10T12:42:53.965Z"
   },
   {
    "duration": 611,
    "start_time": "2022-01-10T12:42:54.816Z"
   },
   {
    "duration": 774,
    "start_time": "2022-01-10T12:42:55.431Z"
   },
   {
    "duration": 752,
    "start_time": "2022-01-10T12:42:56.210Z"
   },
   {
    "duration": 603,
    "start_time": "2022-01-10T12:42:56.966Z"
   },
   {
    "duration": 529,
    "start_time": "2022-01-10T12:42:57.572Z"
   },
   {
    "duration": 1220,
    "start_time": "2022-01-10T12:42:58.104Z"
   },
   {
    "duration": 706,
    "start_time": "2022-01-10T12:42:59.327Z"
   },
   {
    "duration": 1330,
    "start_time": "2022-01-10T12:43:00.037Z"
   },
   {
    "duration": 622,
    "start_time": "2022-01-10T12:43:01.370Z"
   },
   {
    "duration": 923,
    "start_time": "2022-01-10T12:43:01.995Z"
   },
   {
    "duration": 1032,
    "start_time": "2022-01-10T12:43:02.922Z"
   },
   {
    "duration": 1032,
    "start_time": "2022-01-10T12:43:03.958Z"
   },
   {
    "duration": 1060,
    "start_time": "2022-01-10T12:43:04.994Z"
   },
   {
    "duration": 984,
    "start_time": "2022-01-10T12:43:06.057Z"
   },
   {
    "duration": 697,
    "start_time": "2022-01-10T12:43:07.044Z"
   },
   {
    "duration": 926,
    "start_time": "2022-01-10T12:43:07.744Z"
   },
   {
    "duration": 607,
    "start_time": "2022-01-10T12:43:08.673Z"
   },
   {
    "duration": 1015,
    "start_time": "2022-01-10T12:43:09.288Z"
   },
   {
    "duration": 487,
    "start_time": "2022-01-10T12:43:10.308Z"
   },
   {
    "duration": 422,
    "start_time": "2022-01-10T12:43:10.802Z"
   },
   {
    "duration": 1389,
    "start_time": "2022-01-10T12:43:11.227Z"
   },
   {
    "duration": 981,
    "start_time": "2022-01-10T12:43:12.620Z"
   },
   {
    "duration": 470,
    "start_time": "2022-01-10T12:43:13.604Z"
   },
   {
    "duration": 596,
    "start_time": "2022-01-10T12:43:14.077Z"
   },
   {
    "duration": 612,
    "start_time": "2022-01-10T12:43:14.680Z"
   },
   {
    "duration": 982,
    "start_time": "2022-01-10T12:43:15.295Z"
   },
   {
    "duration": 844,
    "start_time": "2022-01-10T12:43:16.280Z"
   },
   {
    "duration": 404,
    "start_time": "2022-01-10T12:43:17.127Z"
   },
   {
    "duration": 596,
    "start_time": "2022-01-10T12:43:17.534Z"
   },
   {
    "duration": 404,
    "start_time": "2022-01-10T12:43:18.133Z"
   },
   {
    "duration": 724,
    "start_time": "2022-01-10T12:43:18.541Z"
   },
   {
    "duration": 709,
    "start_time": "2022-01-10T12:43:19.268Z"
   },
   {
    "duration": 843,
    "start_time": "2022-01-10T12:43:19.981Z"
   },
   {
    "duration": 41,
    "start_time": "2022-01-10T12:43:20.829Z"
   },
   {
    "duration": 505,
    "start_time": "2022-01-10T12:43:20.872Z"
   },
   {
    "duration": 616,
    "start_time": "2022-01-10T12:43:21.380Z"
   },
   {
    "duration": 998,
    "start_time": "2022-01-10T12:43:22.011Z"
   },
   {
    "duration": 891,
    "start_time": "2022-01-10T12:43:23.012Z"
   },
   {
    "duration": 490,
    "start_time": "2022-01-10T12:43:23.907Z"
   },
   {
    "duration": 482,
    "start_time": "2022-01-10T12:43:24.399Z"
   },
   {
    "duration": 123,
    "start_time": "2022-01-10T12:43:24.884Z"
   },
   {
    "duration": 543,
    "start_time": "2022-01-10T12:43:25.009Z"
   },
   {
    "duration": 440,
    "start_time": "2022-01-10T12:43:25.555Z"
   },
   {
    "duration": 712,
    "start_time": "2022-01-10T12:43:25.997Z"
   },
   {
    "duration": 884,
    "start_time": "2022-01-10T12:43:26.712Z"
   },
   {
    "duration": 640,
    "start_time": "2022-01-10T12:43:27.599Z"
   },
   {
    "duration": 433,
    "start_time": "2022-01-10T12:43:28.242Z"
   },
   {
    "duration": 64,
    "start_time": "2022-01-10T12:43:28.678Z"
   },
   {
    "duration": 242,
    "start_time": "2022-01-10T12:43:28.745Z"
   },
   {
    "duration": 315,
    "start_time": "2022-01-10T12:43:28.991Z"
   },
   {
    "duration": 878,
    "start_time": "2022-01-10T12:43:29.309Z"
   },
   {
    "duration": 254,
    "start_time": "2022-01-10T12:43:55.494Z"
   },
   {
    "duration": 268,
    "start_time": "2022-01-10T13:03:29.106Z"
   },
   {
    "duration": 106,
    "start_time": "2022-01-10T13:05:30.814Z"
   },
   {
    "duration": 338,
    "start_time": "2022-01-10T13:05:51.974Z"
   },
   {
    "duration": 5,
    "start_time": "2022-01-10T13:05:56.432Z"
   },
   {
    "duration": 586,
    "start_time": "2022-01-10T13:05:56.441Z"
   },
   {
    "duration": 989,
    "start_time": "2022-01-10T13:05:57.031Z"
   },
   {
    "duration": 17,
    "start_time": "2022-01-10T13:05:58.024Z"
   },
   {
    "duration": 330,
    "start_time": "2022-01-10T13:05:58.044Z"
   },
   {
    "duration": 512,
    "start_time": "2022-01-10T13:05:58.377Z"
   },
   {
    "duration": 144,
    "start_time": "2022-01-10T13:05:58.892Z"
   },
   {
    "duration": 302,
    "start_time": "2022-01-10T13:05:59.039Z"
   },
   {
    "duration": 407,
    "start_time": "2022-01-10T13:05:59.347Z"
   },
   {
    "duration": 193,
    "start_time": "2022-01-10T13:05:59.757Z"
   },
   {
    "duration": 679,
    "start_time": "2022-01-10T13:05:59.952Z"
   },
   {
    "duration": 331,
    "start_time": "2022-01-10T13:06:00.633Z"
   },
   {
    "duration": 539,
    "start_time": "2022-01-10T13:06:00.966Z"
   },
   {
    "duration": 409,
    "start_time": "2022-01-10T13:06:01.507Z"
   },
   {
    "duration": 656,
    "start_time": "2022-01-10T13:06:01.919Z"
   },
   {
    "duration": 585,
    "start_time": "2022-01-10T13:06:02.578Z"
   },
   {
    "duration": 763,
    "start_time": "2022-01-10T13:06:03.166Z"
   },
   {
    "duration": 554,
    "start_time": "2022-01-10T13:06:03.931Z"
   },
   {
    "duration": 524,
    "start_time": "2022-01-10T13:06:04.488Z"
   },
   {
    "duration": 531,
    "start_time": "2022-01-10T13:06:05.015Z"
   },
   {
    "duration": 419,
    "start_time": "2022-01-10T13:06:05.549Z"
   },
   {
    "duration": 532,
    "start_time": "2022-01-10T13:06:05.973Z"
   },
   {
    "duration": 495,
    "start_time": "2022-01-10T13:06:06.509Z"
   },
   {
    "duration": 410,
    "start_time": "2022-01-10T13:06:07.012Z"
   },
   {
    "duration": 264,
    "start_time": "2022-01-10T13:06:07.426Z"
   },
   {
    "duration": 294,
    "start_time": "2022-01-10T13:06:07.692Z"
   },
   {
    "duration": 505,
    "start_time": "2022-01-10T13:06:07.988Z"
   },
   {
    "duration": 244,
    "start_time": "2022-01-10T13:06:08.496Z"
   },
   {
    "duration": 298,
    "start_time": "2022-01-10T13:06:08.742Z"
   },
   {
    "duration": 253,
    "start_time": "2022-01-10T13:06:09.043Z"
   },
   {
    "duration": 181,
    "start_time": "2022-01-10T13:06:09.299Z"
   },
   {
    "duration": 419,
    "start_time": "2022-01-10T13:06:09.483Z"
   },
   {
    "duration": 433,
    "start_time": "2022-01-10T13:06:09.905Z"
   },
   {
    "duration": 393,
    "start_time": "2022-01-10T13:06:10.340Z"
   },
   {
    "duration": 309,
    "start_time": "2022-01-10T13:06:10.735Z"
   },
   {
    "duration": 661,
    "start_time": "2022-01-10T13:06:11.047Z"
   },
   {
    "duration": 816,
    "start_time": "2022-01-10T13:06:11.710Z"
   },
   {
    "duration": 1437,
    "start_time": "2022-01-10T13:06:12.532Z"
   },
   {
    "duration": 697,
    "start_time": "2022-01-10T13:06:13.972Z"
   },
   {
    "duration": 397,
    "start_time": "2022-01-10T13:06:14.671Z"
   },
   {
    "duration": 476,
    "start_time": "2022-01-10T13:06:15.070Z"
   },
   {
    "duration": 414,
    "start_time": "2022-01-10T13:06:15.549Z"
   },
   {
    "duration": 605,
    "start_time": "2022-01-10T13:06:15.966Z"
   },
   {
    "duration": 636,
    "start_time": "2022-01-10T13:06:16.573Z"
   },
   {
    "duration": 423,
    "start_time": "2022-01-10T13:06:17.212Z"
   },
   {
    "duration": 331,
    "start_time": "2022-01-10T13:06:17.637Z"
   },
   {
    "duration": 65,
    "start_time": "2022-01-10T13:06:17.971Z"
   },
   {
    "duration": 318,
    "start_time": "2022-01-10T13:06:18.039Z"
   },
   {
    "duration": 349,
    "start_time": "2022-01-10T13:06:18.359Z"
   },
   {
    "duration": 578,
    "start_time": "2022-01-10T13:06:18.710Z"
   },
   {
    "duration": 731,
    "start_time": "2022-01-10T13:06:19.290Z"
   },
   {
    "duration": 680,
    "start_time": "2022-01-10T13:06:20.023Z"
   },
   {
    "duration": 624,
    "start_time": "2022-01-10T13:06:20.705Z"
   },
   {
    "duration": 67,
    "start_time": "2022-01-10T13:06:21.331Z"
   },
   {
    "duration": 526,
    "start_time": "2022-01-10T13:06:21.400Z"
   },
   {
    "duration": 505,
    "start_time": "2022-01-10T13:06:21.928Z"
   },
   {
    "duration": 815,
    "start_time": "2022-01-10T13:06:22.436Z"
   },
   {
    "duration": 6,
    "start_time": "2022-01-10T13:07:02.277Z"
   },
   {
    "duration": 274,
    "start_time": "2022-01-10T13:07:05.481Z"
   },
   {
    "duration": 88,
    "start_time": "2022-01-10T13:07:28.021Z"
   },
   {
    "duration": 5,
    "start_time": "2022-01-10T13:07:43.005Z"
   },
   {
    "duration": 6,
    "start_time": "2022-01-10T13:08:02.583Z"
   },
   {
    "duration": 8,
    "start_time": "2022-01-10T13:19:18.441Z"
   },
   {
    "duration": 7,
    "start_time": "2022-01-10T13:20:54.105Z"
   },
   {
    "duration": 7,
    "start_time": "2022-01-10T13:22:08.639Z"
   },
   {
    "duration": 164,
    "start_time": "2022-01-10T13:22:38.216Z"
   },
   {
    "duration": 8,
    "start_time": "2022-01-10T13:22:42.839Z"
   },
   {
    "duration": 4,
    "start_time": "2022-01-10T13:23:31.466Z"
   },
   {
    "duration": 757,
    "start_time": "2022-01-10T13:23:31.473Z"
   },
   {
    "duration": 953,
    "start_time": "2022-01-10T13:23:32.233Z"
   },
   {
    "duration": 319,
    "start_time": "2022-01-10T13:23:33.190Z"
   },
   {
    "duration": 1648,
    "start_time": "2022-01-10T13:23:33.512Z"
   },
   {
    "duration": 659,
    "start_time": "2022-01-10T13:23:35.162Z"
   },
   {
    "duration": 401,
    "start_time": "2022-01-10T13:23:35.824Z"
   },
   {
    "duration": 573,
    "start_time": "2022-01-10T13:23:36.228Z"
   },
   {
    "duration": 530,
    "start_time": "2022-01-10T13:23:36.804Z"
   },
   {
    "duration": 291,
    "start_time": "2022-01-10T13:23:37.337Z"
   },
   {
    "duration": 367,
    "start_time": "2022-01-10T13:23:37.630Z"
   },
   {
    "duration": 822,
    "start_time": "2022-01-10T13:23:37.999Z"
   },
   {
    "duration": 422,
    "start_time": "2022-01-10T13:23:38.823Z"
   },
   {
    "duration": 344,
    "start_time": "2022-01-10T13:23:39.247Z"
   },
   {
    "duration": 287,
    "start_time": "2022-01-10T13:23:39.593Z"
   },
   {
    "duration": 391,
    "start_time": "2022-01-10T13:23:39.883Z"
   },
   {
    "duration": 345,
    "start_time": "2022-01-10T13:23:40.277Z"
   },
   {
    "duration": 396,
    "start_time": "2022-01-10T13:23:40.625Z"
   },
   {
    "duration": 1023,
    "start_time": "2022-01-10T13:23:41.024Z"
   },
   {
    "duration": 605,
    "start_time": "2022-01-10T13:23:42.050Z"
   },
   {
    "duration": 330,
    "start_time": "2022-01-10T13:23:42.657Z"
   },
   {
    "duration": 278,
    "start_time": "2022-01-10T13:23:42.989Z"
   },
   {
    "duration": 273,
    "start_time": "2022-01-10T13:23:43.275Z"
   },
   {
    "duration": 684,
    "start_time": "2022-01-10T13:23:43.552Z"
   },
   {
    "duration": 315,
    "start_time": "2022-01-10T13:23:44.239Z"
   },
   {
    "duration": 570,
    "start_time": "2022-01-10T13:23:44.557Z"
   },
   {
    "duration": 364,
    "start_time": "2022-01-10T13:23:45.130Z"
   },
   {
    "duration": 448,
    "start_time": "2022-01-10T13:23:45.497Z"
   },
   {
    "duration": 313,
    "start_time": "2022-01-10T13:23:45.948Z"
   },
   {
    "duration": 369,
    "start_time": "2022-01-10T13:23:46.264Z"
   },
   {
    "duration": 208,
    "start_time": "2022-01-10T13:23:46.635Z"
   },
   {
    "duration": 382,
    "start_time": "2022-01-10T13:23:46.846Z"
   },
   {
    "duration": 644,
    "start_time": "2022-01-10T13:23:47.231Z"
   },
   {
    "duration": 626,
    "start_time": "2022-01-10T13:23:47.878Z"
   },
   {
    "duration": 332,
    "start_time": "2022-01-10T13:23:48.507Z"
   },
   {
    "duration": 941,
    "start_time": "2022-01-10T13:23:48.841Z"
   },
   {
    "duration": 938,
    "start_time": "2022-01-10T13:23:49.785Z"
   },
   {
    "duration": 449,
    "start_time": "2022-01-10T13:23:50.725Z"
   },
   {
    "duration": 476,
    "start_time": "2022-01-10T13:23:51.177Z"
   },
   {
    "duration": 173,
    "start_time": "2022-01-10T13:23:51.655Z"
   },
   {
    "duration": 556,
    "start_time": "2022-01-10T13:23:51.830Z"
   },
   {
    "duration": 404,
    "start_time": "2022-01-10T13:23:52.389Z"
   },
   {
    "duration": 1117,
    "start_time": "2022-01-10T13:23:52.796Z"
   },
   {
    "duration": 1213,
    "start_time": "2022-01-10T13:23:53.915Z"
   },
   {
    "duration": 712,
    "start_time": "2022-01-10T13:23:55.131Z"
   },
   {
    "duration": 649,
    "start_time": "2022-01-10T13:23:55.846Z"
   },
   {
    "duration": 906,
    "start_time": "2022-01-10T13:23:56.498Z"
   },
   {
    "duration": 1343,
    "start_time": "2022-01-10T13:23:57.407Z"
   },
   {
    "duration": 966,
    "start_time": "2022-01-10T13:23:58.752Z"
   },
   {
    "duration": 725,
    "start_time": "2022-01-10T13:23:59.721Z"
   },
   {
    "duration": 1321,
    "start_time": "2022-01-10T13:24:00.448Z"
   },
   {
    "duration": 999,
    "start_time": "2022-01-10T13:24:01.771Z"
   },
   {
    "duration": 964,
    "start_time": "2022-01-10T13:24:02.772Z"
   },
   {
    "duration": 150,
    "start_time": "2022-01-10T13:24:03.739Z"
   },
   {
    "duration": 415,
    "start_time": "2022-01-10T13:24:03.893Z"
   },
   {
    "duration": 551,
    "start_time": "2022-01-10T13:24:04.310Z"
   },
   {
    "duration": 754,
    "start_time": "2022-01-10T13:24:04.863Z"
   },
   {
    "duration": 188,
    "start_time": "2022-01-10T13:24:05.619Z"
   },
   {
    "duration": 482,
    "start_time": "2022-01-10T13:24:05.810Z"
   },
   {
    "duration": 4,
    "start_time": "2022-01-10T19:07:19.883Z"
   },
   {
    "duration": 369,
    "start_time": "2022-01-10T19:21:03.306Z"
   },
   {
    "duration": 299,
    "start_time": "2022-01-10T19:24:08.894Z"
   },
   {
    "duration": 427,
    "start_time": "2022-01-10T19:24:16.386Z"
   },
   {
    "duration": 5,
    "start_time": "2022-01-10T19:24:18.319Z"
   },
   {
    "duration": 2137,
    "start_time": "2022-01-10T19:24:18.328Z"
   },
   {
    "duration": 349,
    "start_time": "2022-01-10T19:24:20.469Z"
   },
   {
    "duration": 21,
    "start_time": "2022-01-10T19:24:20.822Z"
   },
   {
    "duration": 19,
    "start_time": "2022-01-10T19:24:20.845Z"
   },
   {
    "duration": 198,
    "start_time": "2022-01-10T19:24:20.867Z"
   },
   {
    "duration": 14,
    "start_time": "2022-01-10T19:24:21.067Z"
   },
   {
    "duration": 8,
    "start_time": "2022-01-10T19:24:21.084Z"
   },
   {
    "duration": 211,
    "start_time": "2022-01-10T19:24:21.098Z"
   },
   {
    "duration": 16,
    "start_time": "2022-01-10T19:24:21.313Z"
   },
   {
    "duration": 3,
    "start_time": "2022-01-10T19:24:21.332Z"
   },
   {
    "duration": 49,
    "start_time": "2022-01-10T19:24:21.337Z"
   },
   {
    "duration": 20,
    "start_time": "2022-01-10T19:24:21.388Z"
   },
   {
    "duration": 38,
    "start_time": "2022-01-10T19:24:21.413Z"
   },
   {
    "duration": 18,
    "start_time": "2022-01-10T19:24:21.454Z"
   },
   {
    "duration": 4,
    "start_time": "2022-01-10T19:24:21.474Z"
   },
   {
    "duration": 8,
    "start_time": "2022-01-10T19:24:21.480Z"
   },
   {
    "duration": 111,
    "start_time": "2022-01-10T19:24:21.490Z"
   },
   {
    "duration": 6,
    "start_time": "2022-01-10T19:24:21.603Z"
   },
   {
    "duration": 85,
    "start_time": "2022-01-10T19:24:21.613Z"
   },
   {
    "duration": 47,
    "start_time": "2022-01-10T19:24:21.700Z"
   },
   {
    "duration": 11,
    "start_time": "2022-01-10T19:24:21.762Z"
   },
   {
    "duration": 32,
    "start_time": "2022-01-10T19:24:21.777Z"
   },
   {
    "duration": 7,
    "start_time": "2022-01-10T19:24:21.812Z"
   },
   {
    "duration": 62,
    "start_time": "2022-01-10T19:24:21.822Z"
   },
   {
    "duration": 24,
    "start_time": "2022-01-10T19:24:21.887Z"
   },
   {
    "duration": 107,
    "start_time": "2022-01-10T19:24:21.919Z"
   },
   {
    "duration": 44,
    "start_time": "2022-01-10T19:24:22.029Z"
   },
   {
    "duration": 39,
    "start_time": "2022-01-10T19:24:22.076Z"
   },
   {
    "duration": 98,
    "start_time": "2022-01-10T19:24:22.118Z"
   },
   {
    "duration": 9,
    "start_time": "2022-01-10T19:24:22.218Z"
   },
   {
    "duration": 63,
    "start_time": "2022-01-10T19:24:22.231Z"
   },
   {
    "duration": 9,
    "start_time": "2022-01-10T19:24:22.297Z"
   },
   {
    "duration": 73,
    "start_time": "2022-01-10T19:24:22.310Z"
   },
   {
    "duration": 29,
    "start_time": "2022-01-10T19:24:22.386Z"
   },
   {
    "duration": 54,
    "start_time": "2022-01-10T19:24:22.418Z"
   },
   {
    "duration": 447,
    "start_time": "2022-01-10T19:24:22.475Z"
   },
   {
    "duration": 457,
    "start_time": "2022-01-10T19:24:22.926Z"
   },
   {
    "duration": 466,
    "start_time": "2022-01-10T19:24:23.386Z"
   },
   {
    "duration": 33,
    "start_time": "2022-01-10T19:24:23.854Z"
   },
   {
    "duration": 11,
    "start_time": "2022-01-10T19:24:23.890Z"
   },
   {
    "duration": 57,
    "start_time": "2022-01-10T19:24:23.905Z"
   },
   {
    "duration": 12,
    "start_time": "2022-01-10T19:24:23.966Z"
   },
   {
    "duration": 586,
    "start_time": "2022-01-10T19:24:23.981Z"
   },
   {
    "duration": 433,
    "start_time": "2022-01-10T19:24:24.571Z"
   },
   {
    "duration": 622,
    "start_time": "2022-01-10T19:24:25.008Z"
   },
   {
    "duration": 37,
    "start_time": "2022-01-10T19:24:25.632Z"
   },
   {
    "duration": 9,
    "start_time": "2022-01-10T19:24:25.672Z"
   },
   {
    "duration": 18,
    "start_time": "2022-01-10T19:24:25.684Z"
   },
   {
    "duration": 20,
    "start_time": "2022-01-10T19:24:25.704Z"
   },
   {
    "duration": 521,
    "start_time": "2022-01-10T19:24:25.727Z"
   },
   {
    "duration": 458,
    "start_time": "2022-01-10T19:24:26.250Z"
   },
   {
    "duration": 355,
    "start_time": "2022-01-10T19:24:26.711Z"
   },
   {
    "duration": 369,
    "start_time": "2022-01-10T19:24:27.068Z"
   },
   {
    "duration": -61,
    "start_time": "2022-01-10T19:24:27.500Z"
   },
   {
    "duration": -61,
    "start_time": "2022-01-10T19:24:27.502Z"
   },
   {
    "duration": -62,
    "start_time": "2022-01-10T19:24:27.504Z"
   },
   {
    "duration": -63,
    "start_time": "2022-01-10T19:24:27.507Z"
   },
   {
    "duration": -62,
    "start_time": "2022-01-10T19:24:27.508Z"
   },
   {
    "duration": -63,
    "start_time": "2022-01-10T19:24:27.510Z"
   },
   {
    "duration": -63,
    "start_time": "2022-01-10T19:24:27.512Z"
   },
   {
    "duration": 500,
    "start_time": "2022-01-10T19:27:17.744Z"
   },
   {
    "duration": 5,
    "start_time": "2022-01-10T19:27:19.931Z"
   },
   {
    "duration": 15,
    "start_time": "2022-01-10T19:27:19.939Z"
   },
   {
    "duration": 280,
    "start_time": "2022-01-10T19:27:19.958Z"
   },
   {
    "duration": 30,
    "start_time": "2022-01-10T19:27:20.241Z"
   },
   {
    "duration": 5,
    "start_time": "2022-01-10T19:27:20.274Z"
   },
   {
    "duration": 289,
    "start_time": "2022-01-10T19:27:20.282Z"
   },
   {
    "duration": 14,
    "start_time": "2022-01-10T19:27:20.574Z"
   },
   {
    "duration": 5,
    "start_time": "2022-01-10T19:27:20.591Z"
   },
   {
    "duration": 154,
    "start_time": "2022-01-10T19:27:20.600Z"
   },
   {
    "duration": 12,
    "start_time": "2022-01-10T19:27:20.762Z"
   },
   {
    "duration": 5,
    "start_time": "2022-01-10T19:27:20.776Z"
   },
   {
    "duration": 29,
    "start_time": "2022-01-10T19:27:20.783Z"
   },
   {
    "duration": 14,
    "start_time": "2022-01-10T19:27:20.815Z"
   },
   {
    "duration": 40,
    "start_time": "2022-01-10T19:27:20.831Z"
   },
   {
    "duration": 22,
    "start_time": "2022-01-10T19:27:20.873Z"
   },
   {
    "duration": 4,
    "start_time": "2022-01-10T19:27:20.897Z"
   },
   {
    "duration": 6,
    "start_time": "2022-01-10T19:27:20.903Z"
   },
   {
    "duration": 112,
    "start_time": "2022-01-10T19:27:20.911Z"
   },
   {
    "duration": 4,
    "start_time": "2022-01-10T19:27:21.026Z"
   },
   {
    "duration": 73,
    "start_time": "2022-01-10T19:27:21.032Z"
   },
   {
    "duration": 82,
    "start_time": "2022-01-10T19:27:21.108Z"
   },
   {
    "duration": 10,
    "start_time": "2022-01-10T19:27:21.193Z"
   },
   {
    "duration": 28,
    "start_time": "2022-01-10T19:27:21.206Z"
   },
   {
    "duration": 27,
    "start_time": "2022-01-10T19:27:21.238Z"
   },
   {
    "duration": 31,
    "start_time": "2022-01-10T19:27:21.275Z"
   },
   {
    "duration": 17,
    "start_time": "2022-01-10T19:27:21.309Z"
   },
   {
    "duration": 117,
    "start_time": "2022-01-10T19:27:21.336Z"
   },
   {
    "duration": 49,
    "start_time": "2022-01-10T19:27:21.457Z"
   },
   {
    "duration": 78,
    "start_time": "2022-01-10T19:27:21.509Z"
   },
   {
    "duration": 118,
    "start_time": "2022-01-10T19:27:21.589Z"
   },
   {
    "duration": 16,
    "start_time": "2022-01-10T19:27:21.709Z"
   },
   {
    "duration": 80,
    "start_time": "2022-01-10T19:27:21.731Z"
   },
   {
    "duration": 19,
    "start_time": "2022-01-10T19:27:21.815Z"
   },
   {
    "duration": 87,
    "start_time": "2022-01-10T19:27:21.838Z"
   },
   {
    "duration": 51,
    "start_time": "2022-01-10T19:27:21.928Z"
   },
   {
    "duration": 38,
    "start_time": "2022-01-10T19:27:21.982Z"
   },
   {
    "duration": 667,
    "start_time": "2022-01-10T19:27:22.023Z"
   },
   {
    "duration": 562,
    "start_time": "2022-01-10T19:27:22.694Z"
   },
   {
    "duration": 637,
    "start_time": "2022-01-10T19:27:23.264Z"
   },
   {
    "duration": 41,
    "start_time": "2022-01-10T19:27:23.904Z"
   },
   {
    "duration": 8,
    "start_time": "2022-01-10T19:27:23.963Z"
   },
   {
    "duration": 35,
    "start_time": "2022-01-10T19:27:23.973Z"
   },
   {
    "duration": 28,
    "start_time": "2022-01-10T19:27:24.011Z"
   },
   {
    "duration": 422,
    "start_time": "2022-01-10T19:27:24.041Z"
   },
   {
    "duration": 324,
    "start_time": "2022-01-10T19:27:24.465Z"
   },
   {
    "duration": 330,
    "start_time": "2022-01-10T19:27:24.792Z"
   },
   {
    "duration": 41,
    "start_time": "2022-01-10T19:27:25.125Z"
   },
   {
    "duration": 8,
    "start_time": "2022-01-10T19:27:25.169Z"
   },
   {
    "duration": 16,
    "start_time": "2022-01-10T19:27:25.180Z"
   },
   {
    "duration": 10,
    "start_time": "2022-01-10T19:27:25.199Z"
   },
   {
    "duration": 491,
    "start_time": "2022-01-10T19:27:25.212Z"
   },
   {
    "duration": 436,
    "start_time": "2022-01-10T19:27:25.706Z"
   },
   {
    "duration": 444,
    "start_time": "2022-01-10T19:27:26.145Z"
   },
   {
    "duration": 425,
    "start_time": "2022-01-10T19:27:26.592Z"
   },
   {
    "duration": -57,
    "start_time": "2022-01-10T19:27:27.076Z"
   },
   {
    "duration": -57,
    "start_time": "2022-01-10T19:27:27.078Z"
   },
   {
    "duration": -61,
    "start_time": "2022-01-10T19:27:27.083Z"
   },
   {
    "duration": -61,
    "start_time": "2022-01-10T19:27:27.085Z"
   },
   {
    "duration": -62,
    "start_time": "2022-01-10T19:27:27.087Z"
   },
   {
    "duration": -63,
    "start_time": "2022-01-10T19:27:27.089Z"
   },
   {
    "duration": -62,
    "start_time": "2022-01-10T19:27:27.090Z"
   },
   {
    "duration": -63,
    "start_time": "2022-01-10T19:27:27.092Z"
   },
   {
    "duration": 343,
    "start_time": "2022-01-10T19:29:27.828Z"
   },
   {
    "duration": 716,
    "start_time": "2022-01-10T19:29:36.855Z"
   },
   {
    "duration": 8,
    "start_time": "2022-01-10T19:29:52.745Z"
   },
   {
    "duration": 405,
    "start_time": "2022-01-10T19:30:49.655Z"
   },
   {
    "duration": 8,
    "start_time": "2022-01-10T19:31:18.699Z"
   },
   {
    "duration": 5,
    "start_time": "2022-01-10T19:31:20.094Z"
   },
   {
    "duration": 8,
    "start_time": "2022-01-10T19:31:20.103Z"
   },
   {
    "duration": 389,
    "start_time": "2022-01-10T19:31:20.115Z"
   },
   {
    "duration": 19,
    "start_time": "2022-01-10T19:31:20.508Z"
   },
   {
    "duration": 4,
    "start_time": "2022-01-10T19:31:20.531Z"
   },
   {
    "duration": 299,
    "start_time": "2022-01-10T19:31:20.564Z"
   },
   {
    "duration": 21,
    "start_time": "2022-01-10T19:31:20.866Z"
   },
   {
    "duration": 16,
    "start_time": "2022-01-10T19:31:20.891Z"
   },
   {
    "duration": 177,
    "start_time": "2022-01-10T19:31:20.913Z"
   },
   {
    "duration": 12,
    "start_time": "2022-01-10T19:31:21.095Z"
   },
   {
    "duration": 7,
    "start_time": "2022-01-10T19:31:21.110Z"
   },
   {
    "duration": 69,
    "start_time": "2022-01-10T19:31:21.120Z"
   },
   {
    "duration": 13,
    "start_time": "2022-01-10T19:31:21.192Z"
   },
   {
    "duration": 38,
    "start_time": "2022-01-10T19:31:21.208Z"
   },
   {
    "duration": 20,
    "start_time": "2022-01-10T19:31:21.249Z"
   },
   {
    "duration": 4,
    "start_time": "2022-01-10T19:31:21.273Z"
   },
   {
    "duration": 6,
    "start_time": "2022-01-10T19:31:21.280Z"
   },
   {
    "duration": 112,
    "start_time": "2022-01-10T19:31:21.289Z"
   },
   {
    "duration": 4,
    "start_time": "2022-01-10T19:31:21.403Z"
   },
   {
    "duration": 77,
    "start_time": "2022-01-10T19:31:21.410Z"
   },
   {
    "duration": 74,
    "start_time": "2022-01-10T19:31:21.490Z"
   },
   {
    "duration": 12,
    "start_time": "2022-01-10T19:31:21.568Z"
   },
   {
    "duration": 28,
    "start_time": "2022-01-10T19:31:21.583Z"
   },
   {
    "duration": 7,
    "start_time": "2022-01-10T19:31:21.615Z"
   },
   {
    "duration": 61,
    "start_time": "2022-01-10T19:31:21.625Z"
   },
   {
    "duration": 18,
    "start_time": "2022-01-10T19:31:21.688Z"
   },
   {
    "duration": 112,
    "start_time": "2022-01-10T19:31:21.716Z"
   },
   {
    "duration": 55,
    "start_time": "2022-01-10T19:31:21.831Z"
   },
   {
    "duration": 41,
    "start_time": "2022-01-10T19:31:21.888Z"
   },
   {
    "duration": 123,
    "start_time": "2022-01-10T19:31:21.931Z"
   },
   {
    "duration": 6,
    "start_time": "2022-01-10T19:31:22.064Z"
   },
   {
    "duration": 49,
    "start_time": "2022-01-10T19:31:22.072Z"
   },
   {
    "duration": 47,
    "start_time": "2022-01-10T19:31:22.124Z"
   },
   {
    "duration": 93,
    "start_time": "2022-01-10T19:31:22.174Z"
   },
   {
    "duration": 41,
    "start_time": "2022-01-10T19:31:22.270Z"
   },
   {
    "duration": 52,
    "start_time": "2022-01-10T19:31:22.313Z"
   },
   {
    "duration": 619,
    "start_time": "2022-01-10T19:31:22.368Z"
   },
   {
    "duration": 691,
    "start_time": "2022-01-10T19:31:22.989Z"
   },
   {
    "duration": 580,
    "start_time": "2022-01-10T19:31:23.682Z"
   },
   {
    "duration": 28,
    "start_time": "2022-01-10T19:31:24.265Z"
   },
   {
    "duration": 9,
    "start_time": "2022-01-10T19:31:24.296Z"
   },
   {
    "duration": 15,
    "start_time": "2022-01-10T19:31:24.308Z"
   },
   {
    "duration": 11,
    "start_time": "2022-01-10T19:31:24.364Z"
   },
   {
    "duration": 420,
    "start_time": "2022-01-10T19:31:24.380Z"
   },
   {
    "duration": 337,
    "start_time": "2022-01-10T19:31:24.802Z"
   },
   {
    "duration": 493,
    "start_time": "2022-01-10T19:31:25.142Z"
   },
   {
    "duration": 56,
    "start_time": "2022-01-10T19:31:25.638Z"
   },
   {
    "duration": 10,
    "start_time": "2022-01-10T19:31:25.697Z"
   },
   {
    "duration": 15,
    "start_time": "2022-01-10T19:31:25.710Z"
   },
   {
    "duration": 10,
    "start_time": "2022-01-10T19:31:25.764Z"
   },
   {
    "duration": 425,
    "start_time": "2022-01-10T19:31:25.777Z"
   },
   {
    "duration": 652,
    "start_time": "2022-01-10T19:31:26.204Z"
   },
   {
    "duration": 509,
    "start_time": "2022-01-10T19:31:26.859Z"
   },
   {
    "duration": 13,
    "start_time": "2022-01-10T19:31:27.372Z"
   },
   {
    "duration": 4,
    "start_time": "2022-01-10T19:31:27.388Z"
   },
   {
    "duration": 7,
    "start_time": "2022-01-10T19:31:27.394Z"
   },
   {
    "duration": 9,
    "start_time": "2022-01-10T19:31:27.404Z"
   },
   {
    "duration": 51,
    "start_time": "2022-01-10T19:31:27.416Z"
   },
   {
    "duration": 8,
    "start_time": "2022-01-10T19:31:27.469Z"
   },
   {
    "duration": 9,
    "start_time": "2022-01-10T19:31:27.480Z"
   },
   {
    "duration": 20,
    "start_time": "2022-01-10T19:31:27.492Z"
   },
   {
    "duration": 104,
    "start_time": "2022-01-10T19:31:43.797Z"
   },
   {
    "duration": 147,
    "start_time": "2022-01-10T19:41:15.593Z"
   },
   {
    "duration": 84,
    "start_time": "2022-01-12T08:56:36.516Z"
   },
   {
    "duration": 308,
    "start_time": "2022-01-12T10:05:31.454Z"
   },
   {
    "duration": 269,
    "start_time": "2022-01-12T10:05:47.374Z"
   },
   {
    "duration": 3,
    "start_time": "2022-01-12T10:05:52.288Z"
   },
   {
    "duration": 1293,
    "start_time": "2022-01-12T10:05:52.293Z"
   },
   {
    "duration": 211,
    "start_time": "2022-01-12T10:05:53.588Z"
   },
   {
    "duration": 12,
    "start_time": "2022-01-12T10:05:53.801Z"
   },
   {
    "duration": 10,
    "start_time": "2022-01-12T10:05:53.815Z"
   },
   {
    "duration": 105,
    "start_time": "2022-01-12T10:05:53.827Z"
   },
   {
    "duration": 161,
    "start_time": "2022-01-12T10:05:53.934Z"
   },
   {
    "duration": 9,
    "start_time": "2022-01-12T10:05:54.098Z"
   },
   {
    "duration": 12,
    "start_time": "2022-01-12T10:05:54.109Z"
   },
   {
    "duration": 118,
    "start_time": "2022-01-12T10:05:54.123Z"
   },
   {
    "duration": 8,
    "start_time": "2022-01-12T10:05:54.242Z"
   },
   {
    "duration": 12,
    "start_time": "2022-01-12T10:05:54.252Z"
   },
   {
    "duration": 25,
    "start_time": "2022-01-12T10:05:54.265Z"
   },
   {
    "duration": 14,
    "start_time": "2022-01-12T10:05:54.293Z"
   },
   {
    "duration": 31,
    "start_time": "2022-01-12T10:05:54.309Z"
   },
   {
    "duration": 12,
    "start_time": "2022-01-12T10:05:54.342Z"
   },
   {
    "duration": 7,
    "start_time": "2022-01-12T10:05:54.356Z"
   },
   {
    "duration": 6,
    "start_time": "2022-01-12T10:05:54.364Z"
   },
   {
    "duration": 63,
    "start_time": "2022-01-12T10:05:54.373Z"
   },
   {
    "duration": 2,
    "start_time": "2022-01-12T10:05:54.438Z"
   },
   {
    "duration": 44,
    "start_time": "2022-01-12T10:05:54.442Z"
   },
   {
    "duration": 36,
    "start_time": "2022-01-12T10:05:54.488Z"
   },
   {
    "duration": 5,
    "start_time": "2022-01-12T10:05:54.526Z"
   },
   {
    "duration": 25,
    "start_time": "2022-01-12T10:05:54.533Z"
   },
   {
    "duration": 4,
    "start_time": "2022-01-12T10:05:54.560Z"
   },
   {
    "duration": 34,
    "start_time": "2022-01-12T10:05:54.565Z"
   },
   {
    "duration": 12,
    "start_time": "2022-01-12T10:05:54.601Z"
   },
   {
    "duration": 86,
    "start_time": "2022-01-12T10:05:54.614Z"
   },
   {
    "duration": 24,
    "start_time": "2022-01-12T10:05:54.701Z"
   },
   {
    "duration": 28,
    "start_time": "2022-01-12T10:05:54.727Z"
   },
   {
    "duration": 78,
    "start_time": "2022-01-12T10:05:54.757Z"
   },
   {
    "duration": 4,
    "start_time": "2022-01-12T10:05:54.837Z"
   },
   {
    "duration": 34,
    "start_time": "2022-01-12T10:05:54.843Z"
   },
   {
    "duration": 8,
    "start_time": "2022-01-12T10:05:54.879Z"
   },
   {
    "duration": 40,
    "start_time": "2022-01-12T10:05:54.889Z"
   },
   {
    "duration": 19,
    "start_time": "2022-01-12T10:05:54.930Z"
   },
   {
    "duration": 25,
    "start_time": "2022-01-12T10:05:54.950Z"
   },
   {
    "duration": 318,
    "start_time": "2022-01-12T10:05:54.976Z"
   },
   {
    "duration": 301,
    "start_time": "2022-01-12T10:05:55.295Z"
   },
   {
    "duration": 288,
    "start_time": "2022-01-12T10:05:55.597Z"
   },
   {
    "duration": 25,
    "start_time": "2022-01-12T10:05:55.886Z"
   },
   {
    "duration": 6,
    "start_time": "2022-01-12T10:05:55.912Z"
   },
   {
    "duration": 16,
    "start_time": "2022-01-12T10:05:55.919Z"
   },
   {
    "duration": 11,
    "start_time": "2022-01-12T10:05:55.937Z"
   },
   {
    "duration": 293,
    "start_time": "2022-01-12T10:05:55.950Z"
   },
   {
    "duration": 228,
    "start_time": "2022-01-12T10:05:56.245Z"
   },
   {
    "duration": 224,
    "start_time": "2022-01-12T10:05:56.474Z"
   },
   {
    "duration": 19,
    "start_time": "2022-01-12T10:05:56.700Z"
   },
   {
    "duration": 7,
    "start_time": "2022-01-12T10:05:56.720Z"
   },
   {
    "duration": 10,
    "start_time": "2022-01-12T10:05:56.729Z"
   },
   {
    "duration": 8,
    "start_time": "2022-01-12T10:05:56.741Z"
   },
   {
    "duration": 367,
    "start_time": "2022-01-12T10:05:56.750Z"
   },
   {
    "duration": 292,
    "start_time": "2022-01-12T10:05:57.119Z"
   },
   {
    "duration": 238,
    "start_time": "2022-01-12T10:05:57.413Z"
   },
   {
    "duration": 4,
    "start_time": "2022-01-12T10:05:57.657Z"
   },
   {
    "duration": 26,
    "start_time": "2022-01-12T10:05:57.664Z"
   },
   {
    "duration": 14,
    "start_time": "2022-01-12T10:05:57.691Z"
   },
   {
    "duration": 23,
    "start_time": "2022-01-12T10:05:57.707Z"
   },
   {
    "duration": 30,
    "start_time": "2022-01-12T10:05:57.732Z"
   },
   {
    "duration": 14,
    "start_time": "2022-01-12T10:05:57.764Z"
   },
   {
    "duration": 17,
    "start_time": "2022-01-12T10:05:57.779Z"
   },
   {
    "duration": 9,
    "start_time": "2022-01-12T10:05:57.798Z"
   },
   {
    "duration": 88,
    "start_time": "2022-01-12T10:06:49.792Z"
   },
   {
    "duration": 103,
    "start_time": "2022-01-12T10:17:19.780Z"
   },
   {
    "duration": 85,
    "start_time": "2022-01-12T10:17:42.855Z"
   },
   {
    "duration": 51,
    "start_time": "2022-01-12T10:18:12.874Z"
   },
   {
    "duration": 48,
    "start_time": "2022-01-12T10:19:16.266Z"
   },
   {
    "duration": 86,
    "start_time": "2022-01-12T10:22:57.970Z"
   },
   {
    "duration": 86,
    "start_time": "2022-01-12T10:23:08.919Z"
   },
   {
    "duration": 100,
    "start_time": "2022-01-12T10:23:14.174Z"
   },
   {
    "duration": 87,
    "start_time": "2022-01-12T10:24:20.631Z"
   },
   {
    "duration": 85,
    "start_time": "2022-01-12T10:24:50.894Z"
   },
   {
    "duration": 6,
    "start_time": "2022-01-12T10:32:00.509Z"
   },
   {
    "duration": 99,
    "start_time": "2022-01-12T10:33:05.232Z"
   },
   {
    "duration": 8,
    "start_time": "2022-01-12T10:36:21.348Z"
   },
   {
    "duration": 54,
    "start_time": "2022-01-12T10:37:14.626Z"
   },
   {
    "duration": 365,
    "start_time": "2022-01-12T11:01:16.906Z"
   },
   {
    "duration": 50,
    "start_time": "2022-01-12T11:01:37.066Z"
   },
   {
    "duration": 5,
    "start_time": "2022-01-12T11:03:18.001Z"
   },
   {
    "duration": 3,
    "start_time": "2022-01-12T11:03:19.794Z"
   },
   {
    "duration": 15,
    "start_time": "2022-01-12T11:03:19.799Z"
   },
   {
    "duration": 165,
    "start_time": "2022-01-12T11:03:19.816Z"
   },
   {
    "duration": 8,
    "start_time": "2022-01-12T11:03:19.983Z"
   },
   {
    "duration": 7,
    "start_time": "2022-01-12T11:03:19.993Z"
   },
   {
    "duration": 82,
    "start_time": "2022-01-12T11:03:20.002Z"
   },
   {
    "duration": 157,
    "start_time": "2022-01-12T11:03:20.099Z"
   },
   {
    "duration": 10,
    "start_time": "2022-01-12T11:03:20.258Z"
   },
   {
    "duration": 5,
    "start_time": "2022-01-12T11:03:20.269Z"
   },
   {
    "duration": 67,
    "start_time": "2022-01-12T11:03:20.277Z"
   },
   {
    "duration": 97,
    "start_time": "2022-01-12T11:03:20.346Z"
   },
   {
    "duration": 7,
    "start_time": "2022-01-12T11:03:20.445Z"
   },
   {
    "duration": 7,
    "start_time": "2022-01-12T11:03:20.453Z"
   },
   {
    "duration": 48,
    "start_time": "2022-01-12T11:03:20.462Z"
   },
   {
    "duration": 19,
    "start_time": "2022-01-12T11:03:20.566Z"
   },
   {
    "duration": 15,
    "start_time": "2022-01-12T11:03:20.587Z"
   },
   {
    "duration": 6,
    "start_time": "2022-01-12T11:03:20.799Z"
   },
   {
    "duration": 29,
    "start_time": "2022-01-12T11:03:20.815Z"
   },
   {
    "duration": 10,
    "start_time": "2022-01-12T11:03:20.846Z"
   },
   {
    "duration": 5,
    "start_time": "2022-01-12T11:03:20.858Z"
   },
   {
    "duration": 8,
    "start_time": "2022-01-12T11:03:20.864Z"
   },
   {
    "duration": 2,
    "start_time": "2022-01-12T11:03:20.882Z"
   },
   {
    "duration": 51,
    "start_time": "2022-01-12T11:03:20.900Z"
   },
   {
    "duration": 3,
    "start_time": "2022-01-12T11:03:20.953Z"
   },
   {
    "duration": 56,
    "start_time": "2022-01-12T11:03:20.958Z"
   },
   {
    "duration": 33,
    "start_time": "2022-01-12T11:03:21.016Z"
   },
   {
    "duration": 5,
    "start_time": "2022-01-12T11:03:21.051Z"
   },
   {
    "duration": 17,
    "start_time": "2022-01-12T11:03:21.058Z"
   },
   {
    "duration": 23,
    "start_time": "2022-01-12T11:03:21.077Z"
   },
   {
    "duration": 15,
    "start_time": "2022-01-12T11:03:21.102Z"
   },
   {
    "duration": 11,
    "start_time": "2022-01-12T11:03:21.119Z"
   },
   {
    "duration": 103,
    "start_time": "2022-01-12T11:03:21.133Z"
   },
   {
    "duration": 25,
    "start_time": "2022-01-12T11:03:21.239Z"
   },
   {
    "duration": 56,
    "start_time": "2022-01-12T11:03:21.266Z"
   },
   {
    "duration": 51,
    "start_time": "2022-01-12T11:03:21.324Z"
   },
   {
    "duration": 22,
    "start_time": "2022-01-12T11:03:21.378Z"
   },
   {
    "duration": 26,
    "start_time": "2022-01-12T11:03:21.401Z"
   },
   {
    "duration": 7,
    "start_time": "2022-01-12T11:03:21.429Z"
   },
   {
    "duration": 63,
    "start_time": "2022-01-12T11:03:21.438Z"
   },
   {
    "duration": 19,
    "start_time": "2022-01-12T11:03:21.503Z"
   },
   {
    "duration": 18,
    "start_time": "2022-01-12T11:03:21.524Z"
   },
   {
    "duration": 310,
    "start_time": "2022-01-12T11:03:21.544Z"
   },
   {
    "duration": 305,
    "start_time": "2022-01-12T11:03:21.856Z"
   },
   {
    "duration": 276,
    "start_time": "2022-01-12T11:03:22.162Z"
   },
   {
    "duration": 22,
    "start_time": "2022-01-12T11:03:22.440Z"
   },
   {
    "duration": 5,
    "start_time": "2022-01-12T11:03:22.463Z"
   },
   {
    "duration": 32,
    "start_time": "2022-01-12T11:03:22.471Z"
   },
   {
    "duration": 7,
    "start_time": "2022-01-12T11:03:22.505Z"
   },
   {
    "duration": 272,
    "start_time": "2022-01-12T11:03:22.514Z"
   },
   {
    "duration": 213,
    "start_time": "2022-01-12T11:03:22.788Z"
   },
   {
    "duration": 218,
    "start_time": "2022-01-12T11:03:23.003Z"
   },
   {
    "duration": 22,
    "start_time": "2022-01-12T11:03:23.222Z"
   },
   {
    "duration": 8,
    "start_time": "2022-01-12T11:03:23.246Z"
   },
   {
    "duration": 12,
    "start_time": "2022-01-12T11:03:23.255Z"
   },
   {
    "duration": 31,
    "start_time": "2022-01-12T11:03:23.268Z"
   },
   {
    "duration": 264,
    "start_time": "2022-01-12T11:03:23.301Z"
   },
   {
    "duration": 334,
    "start_time": "2022-01-12T11:03:23.567Z"
   },
   {
    "duration": 206,
    "start_time": "2022-01-12T11:03:23.902Z"
   },
   {
    "duration": 5,
    "start_time": "2022-01-12T11:03:24.110Z"
   },
   {
    "duration": 4,
    "start_time": "2022-01-12T11:03:24.117Z"
   },
   {
    "duration": 5,
    "start_time": "2022-01-12T11:03:24.123Z"
   },
   {
    "duration": 7,
    "start_time": "2022-01-12T11:03:24.130Z"
   },
   {
    "duration": 5,
    "start_time": "2022-01-12T11:03:24.139Z"
   },
   {
    "duration": 7,
    "start_time": "2022-01-12T11:03:24.146Z"
   },
   {
    "duration": 8,
    "start_time": "2022-01-12T11:03:24.154Z"
   },
   {
    "duration": 35,
    "start_time": "2022-01-12T11:03:24.164Z"
   },
   {
    "duration": 17,
    "start_time": "2022-01-12T11:04:03.790Z"
   },
   {
    "duration": 23,
    "start_time": "2022-01-12T11:06:13.266Z"
   },
   {
    "duration": 26,
    "start_time": "2022-01-12T11:06:22.730Z"
   },
   {
    "duration": 30,
    "start_time": "2022-01-12T11:08:30.439Z"
   },
   {
    "duration": 116,
    "start_time": "2022-01-12T11:13:26.172Z"
   },
   {
    "duration": 88,
    "start_time": "2022-01-12T11:19:45.266Z"
   },
   {
    "duration": 99,
    "start_time": "2022-01-12T11:19:59.918Z"
   },
   {
    "duration": 7,
    "start_time": "2022-01-12T11:20:07.232Z"
   },
   {
    "duration": 3,
    "start_time": "2022-01-12T11:24:45.046Z"
   },
   {
    "duration": 26,
    "start_time": "2022-01-12T11:24:46.773Z"
   },
   {
    "duration": 20,
    "start_time": "2022-01-12T11:28:55.827Z"
   },
   {
    "duration": 2,
    "start_time": "2022-01-12T11:28:57.801Z"
   },
   {
    "duration": 14,
    "start_time": "2022-01-12T11:28:57.808Z"
   },
   {
    "duration": 162,
    "start_time": "2022-01-12T11:28:57.825Z"
   },
   {
    "duration": 16,
    "start_time": "2022-01-12T11:28:57.988Z"
   },
   {
    "duration": 2,
    "start_time": "2022-01-12T11:28:58.006Z"
   },
   {
    "duration": 100,
    "start_time": "2022-01-12T11:28:58.010Z"
   },
   {
    "duration": 141,
    "start_time": "2022-01-12T11:28:58.111Z"
   },
   {
    "duration": 8,
    "start_time": "2022-01-12T11:28:58.253Z"
   },
   {
    "duration": 4,
    "start_time": "2022-01-12T11:28:58.263Z"
   },
   {
    "duration": 70,
    "start_time": "2022-01-12T11:28:58.269Z"
   },
   {
    "duration": 95,
    "start_time": "2022-01-12T11:28:58.341Z"
   },
   {
    "duration": 6,
    "start_time": "2022-01-12T11:28:58.438Z"
   },
   {
    "duration": 4,
    "start_time": "2022-01-12T11:28:58.446Z"
   },
   {
    "duration": 61,
    "start_time": "2022-01-12T11:28:58.452Z"
   },
   {
    "duration": 19,
    "start_time": "2022-01-12T11:28:58.514Z"
   },
   {
    "duration": 10,
    "start_time": "2022-01-12T11:28:58.535Z"
   },
   {
    "duration": 6,
    "start_time": "2022-01-12T11:28:58.547Z"
   },
   {
    "duration": 68,
    "start_time": "2022-01-12T11:28:58.554Z"
   },
   {
    "duration": 11,
    "start_time": "2022-01-12T11:28:58.624Z"
   },
   {
    "duration": 5,
    "start_time": "2022-01-12T11:28:58.637Z"
   },
   {
    "duration": 13,
    "start_time": "2022-01-12T11:28:58.644Z"
   },
   {
    "duration": 9,
    "start_time": "2022-01-12T11:28:58.658Z"
   },
   {
    "duration": 64,
    "start_time": "2022-01-12T11:28:58.668Z"
   },
   {
    "duration": 36,
    "start_time": "2022-01-12T11:28:58.734Z"
   },
   {
    "duration": 41,
    "start_time": "2022-01-12T11:28:58.774Z"
   },
   {
    "duration": 5,
    "start_time": "2022-01-12T11:28:58.818Z"
   },
   {
    "duration": 31,
    "start_time": "2022-01-12T11:28:58.825Z"
   },
   {
    "duration": 8,
    "start_time": "2022-01-12T11:28:58.858Z"
   },
   {
    "duration": 30,
    "start_time": "2022-01-12T11:28:58.868Z"
   },
   {
    "duration": 18,
    "start_time": "2022-01-12T11:28:58.899Z"
   },
   {
    "duration": 64,
    "start_time": "2022-01-12T11:28:58.918Z"
   },
   {
    "duration": 29,
    "start_time": "2022-01-12T11:28:58.983Z"
   },
   {
    "duration": 25,
    "start_time": "2022-01-12T11:28:59.013Z"
   },
   {
    "duration": 69,
    "start_time": "2022-01-12T11:28:59.040Z"
   },
   {
    "duration": 4,
    "start_time": "2022-01-12T11:28:59.110Z"
   },
   {
    "duration": 32,
    "start_time": "2022-01-12T11:28:59.115Z"
   },
   {
    "duration": 7,
    "start_time": "2022-01-12T11:28:59.148Z"
   },
   {
    "duration": 64,
    "start_time": "2022-01-12T11:28:59.156Z"
   },
   {
    "duration": 18,
    "start_time": "2022-01-12T11:28:59.222Z"
   },
   {
    "duration": 17,
    "start_time": "2022-01-12T11:28:59.241Z"
   },
   {
    "duration": 303,
    "start_time": "2022-01-12T11:28:59.260Z"
   },
   {
    "duration": 286,
    "start_time": "2022-01-12T11:28:59.565Z"
   },
   {
    "duration": 271,
    "start_time": "2022-01-12T11:28:59.853Z"
   },
   {
    "duration": 16,
    "start_time": "2022-01-12T11:29:00.126Z"
   },
   {
    "duration": 8,
    "start_time": "2022-01-12T11:29:00.144Z"
   },
   {
    "duration": 25,
    "start_time": "2022-01-12T11:29:00.153Z"
   },
   {
    "duration": 18,
    "start_time": "2022-01-12T11:29:00.180Z"
   },
   {
    "duration": 272,
    "start_time": "2022-01-12T11:29:00.200Z"
   },
   {
    "duration": 210,
    "start_time": "2022-01-12T11:29:00.473Z"
   },
   {
    "duration": 209,
    "start_time": "2022-01-12T11:29:00.685Z"
   },
   {
    "duration": 24,
    "start_time": "2022-01-12T11:29:00.896Z"
   },
   {
    "duration": 12,
    "start_time": "2022-01-12T11:29:00.922Z"
   },
   {
    "duration": 12,
    "start_time": "2022-01-12T11:29:00.935Z"
   },
   {
    "duration": 19,
    "start_time": "2022-01-12T11:29:00.948Z"
   },
   {
    "duration": 281,
    "start_time": "2022-01-12T11:29:00.968Z"
   },
   {
    "duration": 305,
    "start_time": "2022-01-12T11:29:01.250Z"
   },
   {
    "duration": 319,
    "start_time": "2022-01-12T11:29:01.557Z"
   },
   {
    "duration": 6,
    "start_time": "2022-01-12T11:29:01.877Z"
   },
   {
    "duration": 15,
    "start_time": "2022-01-12T11:29:01.884Z"
   },
   {
    "duration": 16,
    "start_time": "2022-01-12T11:29:01.901Z"
   },
   {
    "duration": 11,
    "start_time": "2022-01-12T11:29:01.919Z"
   },
   {
    "duration": 10,
    "start_time": "2022-01-12T11:29:01.932Z"
   },
   {
    "duration": 17,
    "start_time": "2022-01-12T11:29:01.944Z"
   },
   {
    "duration": 9,
    "start_time": "2022-01-12T11:29:01.962Z"
   },
   {
    "duration": 38,
    "start_time": "2022-01-12T11:29:01.973Z"
   },
   {
    "duration": 88,
    "start_time": "2022-01-12T11:38:14.052Z"
   },
   {
    "duration": 95,
    "start_time": "2022-01-12T12:14:29.114Z"
   },
   {
    "duration": 5,
    "start_time": "2022-01-12T13:18:54.862Z"
   },
   {
    "duration": 4,
    "start_time": "2022-01-12T13:18:57.337Z"
   },
   {
    "duration": 4,
    "start_time": "2022-01-12T13:19:53.758Z"
   },
   {
    "duration": 3,
    "start_time": "2022-01-12T13:21:00.042Z"
   },
   {
    "duration": 4,
    "start_time": "2022-01-12T13:21:01.898Z"
   },
   {
    "duration": 30,
    "start_time": "2022-01-12T13:21:01.903Z"
   },
   {
    "duration": 195,
    "start_time": "2022-01-12T13:21:01.935Z"
   },
   {
    "duration": 9,
    "start_time": "2022-01-12T13:21:02.132Z"
   },
   {
    "duration": 57,
    "start_time": "2022-01-12T13:21:02.142Z"
   },
   {
    "duration": 100,
    "start_time": "2022-01-12T13:21:02.201Z"
   },
   {
    "duration": 141,
    "start_time": "2022-01-12T13:21:02.303Z"
   },
   {
    "duration": 10,
    "start_time": "2022-01-12T13:21:02.446Z"
   },
   {
    "duration": 10,
    "start_time": "2022-01-12T13:21:02.457Z"
   },
   {
    "duration": 68,
    "start_time": "2022-01-12T13:21:02.469Z"
   },
   {
    "duration": 104,
    "start_time": "2022-01-12T13:21:02.539Z"
   },
   {
    "duration": 8,
    "start_time": "2022-01-12T13:21:02.645Z"
   },
   {
    "duration": 17,
    "start_time": "2022-01-12T13:21:02.656Z"
   },
   {
    "duration": 58,
    "start_time": "2022-01-12T13:21:02.676Z"
   },
   {
    "duration": 20,
    "start_time": "2022-01-12T13:21:02.736Z"
   },
   {
    "duration": 13,
    "start_time": "2022-01-12T13:21:02.758Z"
   },
   {
    "duration": 9,
    "start_time": "2022-01-12T13:21:02.773Z"
   },
   {
    "duration": 54,
    "start_time": "2022-01-12T13:21:02.784Z"
   },
   {
    "duration": 11,
    "start_time": "2022-01-12T13:21:02.840Z"
   },
   {
    "duration": 4,
    "start_time": "2022-01-12T13:21:02.853Z"
   },
   {
    "duration": 9,
    "start_time": "2022-01-12T13:21:02.859Z"
   },
   {
    "duration": 5,
    "start_time": "2022-01-12T13:21:02.869Z"
   },
   {
    "duration": 54,
    "start_time": "2022-01-12T13:21:02.876Z"
   },
   {
    "duration": 38,
    "start_time": "2022-01-12T13:21:02.931Z"
   },
   {
    "duration": 44,
    "start_time": "2022-01-12T13:21:02.971Z"
   },
   {
    "duration": 5,
    "start_time": "2022-01-12T13:21:03.017Z"
   },
   {
    "duration": 31,
    "start_time": "2022-01-12T13:21:03.024Z"
   },
   {
    "duration": 26,
    "start_time": "2022-01-12T13:21:03.057Z"
   },
   {
    "duration": 21,
    "start_time": "2022-01-12T13:21:03.085Z"
   },
   {
    "duration": 16,
    "start_time": "2022-01-12T13:21:03.107Z"
   },
   {
    "duration": 61,
    "start_time": "2022-01-12T13:21:03.125Z"
   },
   {
    "duration": 25,
    "start_time": "2022-01-12T13:21:03.188Z"
   },
   {
    "duration": 39,
    "start_time": "2022-01-12T13:21:03.214Z"
   },
   {
    "duration": 63,
    "start_time": "2022-01-12T13:21:03.255Z"
   },
   {
    "duration": 4,
    "start_time": "2022-01-12T13:21:03.319Z"
   },
   {
    "duration": 56,
    "start_time": "2022-01-12T13:21:03.325Z"
   },
   {
    "duration": 7,
    "start_time": "2022-01-12T13:21:03.382Z"
   },
   {
    "duration": 88,
    "start_time": "2022-01-12T13:21:03.393Z"
   },
   {
    "duration": 18,
    "start_time": "2022-01-12T13:21:03.483Z"
   },
   {
    "duration": 31,
    "start_time": "2022-01-12T13:21:03.502Z"
   },
   {
    "duration": 311,
    "start_time": "2022-01-12T13:21:03.535Z"
   },
   {
    "duration": 309,
    "start_time": "2022-01-12T13:21:03.847Z"
   },
   {
    "duration": 291,
    "start_time": "2022-01-12T13:21:04.157Z"
   },
   {
    "duration": 18,
    "start_time": "2022-01-12T13:21:04.450Z"
   },
   {
    "duration": 15,
    "start_time": "2022-01-12T13:21:04.470Z"
   },
   {
    "duration": 27,
    "start_time": "2022-01-12T13:21:04.486Z"
   },
   {
    "duration": 32,
    "start_time": "2022-01-12T13:21:04.515Z"
   },
   {
    "duration": 266,
    "start_time": "2022-01-12T13:21:04.549Z"
   },
   {
    "duration": 223,
    "start_time": "2022-01-12T13:21:04.817Z"
   },
   {
    "duration": 226,
    "start_time": "2022-01-12T13:21:05.042Z"
   },
   {
    "duration": 35,
    "start_time": "2022-01-12T13:21:05.270Z"
   },
   {
    "duration": 23,
    "start_time": "2022-01-12T13:21:05.307Z"
   },
   {
    "duration": 32,
    "start_time": "2022-01-12T13:21:05.332Z"
   },
   {
    "duration": 31,
    "start_time": "2022-01-12T13:21:05.366Z"
   },
   {
    "duration": 287,
    "start_time": "2022-01-12T13:21:05.399Z"
   },
   {
    "duration": 287,
    "start_time": "2022-01-12T13:21:05.688Z"
   },
   {
    "duration": 226,
    "start_time": "2022-01-12T13:21:05.976Z"
   },
   {
    "duration": 91,
    "start_time": "2022-01-12T13:21:06.205Z"
   },
   {
    "duration": -4444,
    "start_time": "2022-01-12T13:21:10.742Z"
   },
   {
    "duration": -4494,
    "start_time": "2022-01-12T13:21:10.793Z"
   },
   {
    "duration": -4509,
    "start_time": "2022-01-12T13:21:10.809Z"
   },
   {
    "duration": -4523,
    "start_time": "2022-01-12T13:21:10.824Z"
   },
   {
    "duration": -4537,
    "start_time": "2022-01-12T13:21:10.839Z"
   },
   {
    "duration": -4555,
    "start_time": "2022-01-12T13:21:10.858Z"
   },
   {
    "duration": -4569,
    "start_time": "2022-01-12T13:21:10.873Z"
   },
   {
    "duration": -4583,
    "start_time": "2022-01-12T13:21:10.888Z"
   },
   {
    "duration": -4627,
    "start_time": "2022-01-12T13:21:10.934Z"
   },
   {
    "duration": -4642,
    "start_time": "2022-01-12T13:21:10.949Z"
   },
   {
    "duration": -4655,
    "start_time": "2022-01-12T13:21:10.964Z"
   },
   {
    "duration": 74,
    "start_time": "2022-05-23T13:33:54.889Z"
   },
   {
    "duration": 8,
    "start_time": "2022-05-23T13:33:57.848Z"
   },
   {
    "duration": 7,
    "start_time": "2022-05-23T13:33:59.711Z"
   },
   {
    "duration": 1349,
    "start_time": "2022-05-23T13:33:59.733Z"
   },
   {
    "duration": 675,
    "start_time": "2022-05-23T13:34:01.084Z"
   },
   {
    "duration": 13,
    "start_time": "2022-05-23T13:34:01.760Z"
   },
   {
    "duration": 12,
    "start_time": "2022-05-23T13:34:01.776Z"
   },
   {
    "duration": 165,
    "start_time": "2022-05-23T13:34:01.791Z"
   },
   {
    "duration": 497,
    "start_time": "2022-05-23T13:34:01.958Z"
   },
   {
    "duration": 9,
    "start_time": "2022-05-23T13:34:02.456Z"
   },
   {
    "duration": 6,
    "start_time": "2022-05-23T13:34:02.466Z"
   },
   {
    "duration": 80,
    "start_time": "2022-05-23T13:34:02.473Z"
   },
   {
    "duration": 399,
    "start_time": "2022-05-23T13:34:02.556Z"
   },
   {
    "duration": 7,
    "start_time": "2022-05-23T13:34:02.956Z"
   },
   {
    "duration": 8,
    "start_time": "2022-05-23T13:34:02.964Z"
   },
   {
    "duration": 66,
    "start_time": "2022-05-23T13:34:02.973Z"
   },
   {
    "duration": 82,
    "start_time": "2022-05-23T13:34:03.040Z"
   },
   {
    "duration": 13,
    "start_time": "2022-05-23T13:34:03.124Z"
   },
   {
    "duration": 13,
    "start_time": "2022-05-23T13:34:03.139Z"
   },
   {
    "duration": 106,
    "start_time": "2022-05-23T13:34:03.153Z"
   },
   {
    "duration": 9,
    "start_time": "2022-05-23T13:34:03.260Z"
   },
   {
    "duration": 4,
    "start_time": "2022-05-23T13:34:03.271Z"
   },
   {
    "duration": 9,
    "start_time": "2022-05-23T13:34:03.277Z"
   },
   {
    "duration": 3,
    "start_time": "2022-05-23T13:34:03.287Z"
   },
   {
    "duration": 83,
    "start_time": "2022-05-23T13:34:03.292Z"
   },
   {
    "duration": 46,
    "start_time": "2022-05-23T13:34:03.377Z"
   },
   {
    "duration": 33,
    "start_time": "2022-05-23T13:34:03.427Z"
   },
   {
    "duration": 5,
    "start_time": "2022-05-23T13:34:03.462Z"
   },
   {
    "duration": 18,
    "start_time": "2022-05-23T13:34:03.468Z"
   },
   {
    "duration": 4,
    "start_time": "2022-05-23T13:34:03.488Z"
   },
   {
    "duration": 45,
    "start_time": "2022-05-23T13:34:03.507Z"
   },
   {
    "duration": 18,
    "start_time": "2022-05-23T13:34:03.554Z"
   },
   {
    "duration": 83,
    "start_time": "2022-05-23T13:34:03.574Z"
   },
   {
    "duration": 21,
    "start_time": "2022-05-23T13:34:03.659Z"
   },
   {
    "duration": 47,
    "start_time": "2022-05-23T13:34:03.681Z"
   },
   {
    "duration": 51,
    "start_time": "2022-05-23T13:34:03.730Z"
   },
   {
    "duration": 23,
    "start_time": "2022-05-23T13:34:03.783Z"
   },
   {
    "duration": 50,
    "start_time": "2022-05-23T13:34:03.818Z"
   },
   {
    "duration": 17,
    "start_time": "2022-05-23T13:34:03.869Z"
   },
   {
    "duration": 58,
    "start_time": "2022-05-23T13:34:03.888Z"
   },
   {
    "duration": 17,
    "start_time": "2022-05-23T13:34:03.948Z"
   },
   {
    "duration": 18,
    "start_time": "2022-05-23T13:34:03.967Z"
   },
   {
    "duration": 334,
    "start_time": "2022-05-23T13:34:04.003Z"
   },
   {
    "duration": 254,
    "start_time": "2022-05-23T13:34:04.339Z"
   },
   {
    "duration": 257,
    "start_time": "2022-05-23T13:34:04.595Z"
   },
   {
    "duration": 19,
    "start_time": "2022-05-23T13:34:04.853Z"
   },
   {
    "duration": 11,
    "start_time": "2022-05-23T13:34:04.873Z"
   },
   {
    "duration": 45,
    "start_time": "2022-05-23T13:34:04.885Z"
   },
   {
    "duration": 16,
    "start_time": "2022-05-23T13:34:04.931Z"
   },
   {
    "duration": 199,
    "start_time": "2022-05-23T13:34:04.948Z"
   },
   {
    "duration": 149,
    "start_time": "2022-05-23T13:34:05.149Z"
   },
   {
    "duration": 165,
    "start_time": "2022-05-23T13:34:05.304Z"
   },
   {
    "duration": 48,
    "start_time": "2022-05-23T13:34:05.471Z"
   },
   {
    "duration": 7,
    "start_time": "2022-05-23T13:34:05.525Z"
   },
   {
    "duration": 32,
    "start_time": "2022-05-23T13:34:05.534Z"
   },
   {
    "duration": 14,
    "start_time": "2022-05-23T13:34:05.568Z"
   },
   {
    "duration": 202,
    "start_time": "2022-05-23T13:34:05.584Z"
   },
   {
    "duration": 227,
    "start_time": "2022-05-23T13:34:05.788Z"
   },
   {
    "duration": 164,
    "start_time": "2022-05-23T13:34:06.017Z"
   },
   {
    "duration": 5,
    "start_time": "2022-05-23T13:34:06.183Z"
   },
   {
    "duration": 16,
    "start_time": "2022-05-23T13:34:06.190Z"
   },
   {
    "duration": 26,
    "start_time": "2022-05-23T13:34:06.208Z"
   },
   {
    "duration": 0,
    "start_time": "2022-05-23T13:34:06.236Z"
   },
   {
    "duration": 0,
    "start_time": "2022-05-23T13:34:06.237Z"
   },
   {
    "duration": 0,
    "start_time": "2022-05-23T13:34:06.239Z"
   },
   {
    "duration": 0,
    "start_time": "2022-05-23T13:34:06.240Z"
   },
   {
    "duration": 0,
    "start_time": "2022-05-23T13:34:06.242Z"
   },
   {
    "duration": 0,
    "start_time": "2022-05-23T13:34:06.243Z"
   },
   {
    "duration": 0,
    "start_time": "2022-05-23T13:34:06.244Z"
   },
   {
    "duration": 0,
    "start_time": "2022-05-23T13:34:06.246Z"
   },
   {
    "duration": 85,
    "start_time": "2022-05-23T13:40:15.857Z"
   },
   {
    "duration": 7,
    "start_time": "2022-05-23T13:40:26.118Z"
   },
   {
    "duration": 1173,
    "start_time": "2022-05-23T13:40:26.128Z"
   },
   {
    "duration": 186,
    "start_time": "2022-05-23T13:40:27.304Z"
   },
   {
    "duration": 21,
    "start_time": "2022-05-23T13:40:27.491Z"
   },
   {
    "duration": 2,
    "start_time": "2022-05-23T13:40:27.514Z"
   },
   {
    "duration": 114,
    "start_time": "2022-05-23T13:40:27.520Z"
   },
   {
    "duration": 156,
    "start_time": "2022-05-23T13:40:27.635Z"
   },
   {
    "duration": 23,
    "start_time": "2022-05-23T13:40:27.793Z"
   },
   {
    "duration": 28,
    "start_time": "2022-05-23T13:40:27.818Z"
   },
   {
    "duration": 91,
    "start_time": "2022-05-23T13:40:27.847Z"
   },
   {
    "duration": 106,
    "start_time": "2022-05-23T13:40:27.941Z"
   },
   {
    "duration": 8,
    "start_time": "2022-05-23T13:40:28.048Z"
   },
   {
    "duration": 5,
    "start_time": "2022-05-23T13:40:28.058Z"
   },
   {
    "duration": 63,
    "start_time": "2022-05-23T13:40:28.064Z"
   },
   {
    "duration": 20,
    "start_time": "2022-05-23T13:40:28.129Z"
   },
   {
    "duration": 7,
    "start_time": "2022-05-23T13:40:28.151Z"
   },
   {
    "duration": 8,
    "start_time": "2022-05-23T13:40:28.159Z"
   },
   {
    "duration": 36,
    "start_time": "2022-05-23T13:40:28.169Z"
   },
   {
    "duration": 17,
    "start_time": "2022-05-23T13:40:28.207Z"
   },
   {
    "duration": 10,
    "start_time": "2022-05-23T13:40:28.226Z"
   },
   {
    "duration": 11,
    "start_time": "2022-05-23T13:40:28.238Z"
   },
   {
    "duration": 5,
    "start_time": "2022-05-23T13:40:28.251Z"
   },
   {
    "duration": 68,
    "start_time": "2022-05-23T13:40:28.257Z"
   },
   {
    "duration": 40,
    "start_time": "2022-05-23T13:40:28.328Z"
   },
   {
    "duration": 31,
    "start_time": "2022-05-23T13:40:28.370Z"
   },
   {
    "duration": 8,
    "start_time": "2022-05-23T13:40:28.404Z"
   },
   {
    "duration": 61,
    "start_time": "2022-05-23T13:40:28.415Z"
   },
   {
    "duration": 5,
    "start_time": "2022-05-23T13:40:28.479Z"
   },
   {
    "duration": 21,
    "start_time": "2022-05-23T13:40:28.487Z"
   },
   {
    "duration": 14,
    "start_time": "2022-05-23T13:40:28.510Z"
   },
   {
    "duration": 74,
    "start_time": "2022-05-23T13:40:28.526Z"
   },
   {
    "duration": 32,
    "start_time": "2022-05-23T13:40:28.608Z"
   },
   {
    "duration": 25,
    "start_time": "2022-05-23T13:40:28.642Z"
   },
   {
    "duration": 60,
    "start_time": "2022-05-23T13:40:28.668Z"
   },
   {
    "duration": 4,
    "start_time": "2022-05-23T13:40:28.730Z"
   },
   {
    "duration": 26,
    "start_time": "2022-05-23T13:40:28.736Z"
   },
   {
    "duration": 7,
    "start_time": "2022-05-23T13:40:28.764Z"
   },
   {
    "duration": 52,
    "start_time": "2022-05-23T13:40:28.773Z"
   },
   {
    "duration": 20,
    "start_time": "2022-05-23T13:40:28.826Z"
   },
   {
    "duration": 17,
    "start_time": "2022-05-23T13:40:28.848Z"
   },
   {
    "duration": 300,
    "start_time": "2022-05-23T13:40:28.866Z"
   },
   {
    "duration": 212,
    "start_time": "2022-05-23T13:40:29.167Z"
   },
   {
    "duration": 207,
    "start_time": "2022-05-23T13:40:29.380Z"
   },
   {
    "duration": 23,
    "start_time": "2022-05-23T13:40:29.589Z"
   },
   {
    "duration": 12,
    "start_time": "2022-05-23T13:40:29.614Z"
   },
   {
    "duration": 13,
    "start_time": "2022-05-23T13:40:29.628Z"
   },
   {
    "duration": 14,
    "start_time": "2022-05-23T13:40:29.643Z"
   },
   {
    "duration": 202,
    "start_time": "2022-05-23T13:40:29.659Z"
   },
   {
    "duration": 166,
    "start_time": "2022-05-23T13:40:29.862Z"
   },
   {
    "duration": 145,
    "start_time": "2022-05-23T13:40:30.030Z"
   },
   {
    "duration": 37,
    "start_time": "2022-05-23T13:40:30.176Z"
   },
   {
    "duration": 23,
    "start_time": "2022-05-23T13:40:30.215Z"
   },
   {
    "duration": 19,
    "start_time": "2022-05-23T13:40:30.240Z"
   },
   {
    "duration": 12,
    "start_time": "2022-05-23T13:40:30.261Z"
   },
   {
    "duration": 190,
    "start_time": "2022-05-23T13:40:30.274Z"
   },
   {
    "duration": 213,
    "start_time": "2022-05-23T13:40:30.466Z"
   },
   {
    "duration": 193,
    "start_time": "2022-05-23T13:40:30.681Z"
   },
   {
    "duration": 4,
    "start_time": "2022-05-23T13:40:30.876Z"
   },
   {
    "duration": 22,
    "start_time": "2022-05-23T13:40:30.882Z"
   },
   {
    "duration": 21,
    "start_time": "2022-05-23T13:40:30.906Z"
   },
   {
    "duration": 0,
    "start_time": "2022-05-23T13:40:30.929Z"
   },
   {
    "duration": 0,
    "start_time": "2022-05-23T13:40:30.931Z"
   },
   {
    "duration": 0,
    "start_time": "2022-05-23T13:40:30.932Z"
   },
   {
    "duration": 0,
    "start_time": "2022-05-23T13:40:30.934Z"
   },
   {
    "duration": 0,
    "start_time": "2022-05-23T13:40:30.934Z"
   },
   {
    "duration": 1,
    "start_time": "2022-05-23T13:40:30.935Z"
   },
   {
    "duration": 0,
    "start_time": "2022-05-23T13:40:30.936Z"
   },
   {
    "duration": 0,
    "start_time": "2022-05-23T13:40:30.937Z"
   }
  ],
  "kernelspec": {
   "display_name": "Python 3 (ipykernel)",
   "language": "python",
   "name": "python3"
  },
  "language_info": {
   "codemirror_mode": {
    "name": "ipython",
    "version": 3
   },
   "file_extension": ".py",
   "mimetype": "text/x-python",
   "name": "python",
   "nbconvert_exporter": "python",
   "pygments_lexer": "ipython3",
   "version": "3.9.5"
  },
  "toc": {
   "base_numbering": 1,
   "nav_menu": {},
   "number_sections": true,
   "sideBar": true,
   "skip_h1_title": true,
   "title_cell": "Table of Contents",
   "title_sidebar": "Contents",
   "toc_cell": false,
   "toc_position": {
    "height": "calc(100% - 180px)",
    "left": "10px",
    "top": "150px",
    "width": "366.391px"
   },
   "toc_section_display": true,
   "toc_window_display": true
  }
 },
 "nbformat": 4,
 "nbformat_minor": 2
}
