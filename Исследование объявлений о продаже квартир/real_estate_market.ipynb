{
 "cells": [
  {
   "cell_type": "markdown",
   "metadata": {},
   "source": [
    "# Исследование объявлений о продаже квартир"
   ]
  },
  {
   "cell_type": "markdown",
   "metadata": {},
   "source": [
    "В вашем распоряжении данные сервиса Яндекс Недвижимость — архив объявлений о продаже квартир в Санкт-Петербурге и соседних населённых пунктах за несколько лет. Нужно научиться определять рыночную стоимость объектов недвижимости. Ваша задача — установить параметры. Это позволит построить автоматизированную систему: она отследит аномалии и мошенническую деятельность.\n",
    "По каждой квартире на продажу доступны два вида данных. Первые вписаны пользователем, вторые — получены автоматически на основе картографических данных. Например, расстояние до центра, аэропорта, ближайшего парка и водоёма."
   ]
  },
  {
   "cell_type": "markdown",
   "metadata": {
    "toc": true
   },
   "source": [
    "<h1>Содержание<span class=\"tocSkip\"></span></h1>\n",
    "<div class=\"toc\"><ul class=\"toc-item\"><li><span><a href=\"#Изучение-данных-из-файла\" data-toc-modified-id=\"Изучение-данных-из-файла-1\"><span class=\"toc-item-num\">1&nbsp;&nbsp;</span>Изучение данных из файла</a></span><ul class=\"toc-item\"><li><span><a href=\"#Вывод\" data-toc-modified-id=\"Вывод-1.1\"><span class=\"toc-item-num\">1.1&nbsp;&nbsp;</span>Вывод</a></span></li></ul></li><li><span><a href=\"#Предобработка-данных\" data-toc-modified-id=\"Предобработка-данных-2\"><span class=\"toc-item-num\">2&nbsp;&nbsp;</span>Предобработка данных</a></span><ul class=\"toc-item\"><li><span><a href=\"#Заменим-нулевые-значения-в-сeiling_height-на-медианные-значения\" data-toc-modified-id=\"Заменим-нулевые-значения-в-сeiling_height-на-медианные-значения-2.1\"><span class=\"toc-item-num\">2.1&nbsp;&nbsp;</span>Заменим нулевые значения в сeiling_height на медианные значения</a></span></li><li><span><a href=\"#Избавимся-от-незаполненных-значений-в-floors_total--и-locality_name\" data-toc-modified-id=\"Избавимся-от-незаполненных-значений-в-floors_total--и-locality_name-2.2\"><span class=\"toc-item-num\">2.2&nbsp;&nbsp;</span>Избавимся от незаполненных значений в <strong>floors_total</strong>  и <strong>locality_name</strong></a></span></li><li><span><a href=\"#--balcony.-Заменим-NAN-на-ноль.\" data-toc-modified-id=\"--balcony.-Заменим-NAN-на-ноль.-2.3\"><span class=\"toc-item-num\">2.3&nbsp;&nbsp;</span>- balcony. Заменим NAN на ноль.</a></span></li><li><span><a href=\"#Заменим-типы-данных-balcony-и--floors_total,-т.к-этажи-и-балконы-могут-быть-только-целочисленные.\" data-toc-modified-id=\"Заменим-типы-данных-balcony-и--floors_total,-т.к-этажи-и-балконы-могут-быть-только-целочисленные.-2.4\"><span class=\"toc-item-num\">2.4&nbsp;&nbsp;</span>Заменим типы данных balcony и  floors_total, т.к этажи и балконы могут быть только целочисленные.</a></span></li><li><span><a href=\"#Переименуем-столбец-cityCenters_nearest-в-city_сenters_nearest\" data-toc-modified-id=\"Переименуем-столбец-cityCenters_nearest-в-city_сenters_nearest-2.5\"><span class=\"toc-item-num\">2.5&nbsp;&nbsp;</span>Переименуем столбец cityCenters_nearest в city_сenters_nearest</a></span></li></ul></li><li><span><a href=\"#Расчёты-и-добавление-результатов-в-таблицу\" data-toc-modified-id=\"Расчёты-и-добавление-результатов-в-таблицу-3\"><span class=\"toc-item-num\">3&nbsp;&nbsp;</span>Расчёты и добавление результатов в таблицу</a></span><ul class=\"toc-item\"><li><span><a href=\"#Рассчитаем-стоимость-одного-метра-квартиры-и-округлим-ее.\" data-toc-modified-id=\"Рассчитаем-стоимость-одного-метра-квартиры-и-округлим-ее.-3.1\"><span class=\"toc-item-num\">3.1&nbsp;&nbsp;</span>Рассчитаем стоимость одного метра квартиры и округлим ее.</a></span></li><li><span><a href=\"#Посчитаем-и-добавим-в-таблицу:-день-недели,-месяц-и-год-публикации-объявления\" data-toc-modified-id=\"Посчитаем-и-добавим-в-таблицу:-день-недели,-месяц-и-год-публикации-объявления-3.2\"><span class=\"toc-item-num\">3.2&nbsp;&nbsp;</span>Посчитаем и добавим в таблицу: день недели, месяц и год публикации объявления</a></span></li><li><span><a href=\"#Посчитаем--и-добавим-в-таблицу:-этаж-квартиры;-варианты-—-первый,-последний,-другой\" data-toc-modified-id=\"Посчитаем--и-добавим-в-таблицу:-этаж-квартиры;-варианты-—-первый,-последний,-другой-3.3\"><span class=\"toc-item-num\">3.3&nbsp;&nbsp;</span>Посчитаем  и добавим в таблицу: этаж квартиры; варианты — первый, последний, другой</a></span></li><li><span><a href=\"#Посчитаем-и-добавим-в-таблицу:-соотношение-жилой-и-общей-площади,-а-также-отношение-площади-кухни-к-общей\" data-toc-modified-id=\"Посчитаем-и-добавим-в-таблицу:-соотношение-жилой-и-общей-площади,-а-также-отношение-площади-кухни-к-общей-3.4\"><span class=\"toc-item-num\">3.4&nbsp;&nbsp;</span>Посчитаем и добавим в таблицу: соотношение жилой и общей площади, а также отношение площади кухни к общей</a></span></li></ul></li><li><span><a href=\"#Исследовательский-анализ-данных\" data-toc-modified-id=\"Исследовательский-анализ-данных-4\"><span class=\"toc-item-num\">4&nbsp;&nbsp;</span>Исследовательский анализ данных</a></span><ul class=\"toc-item\"><li><span><a href=\"#Изучим-параметр:-площадь-(total_area)\" data-toc-modified-id=\"Изучим-параметр:-площадь-(total_area)-4.1\"><span class=\"toc-item-num\">4.1&nbsp;&nbsp;</span>Изучим параметр: площадь (total_area)</a></span></li><li><span><a href=\"#Изучим-параметр:-цена-(last_price)\" data-toc-modified-id=\"Изучим-параметр:-цена-(last_price)-4.2\"><span class=\"toc-item-num\">4.2&nbsp;&nbsp;</span>Изучим параметр: цена (last_price)</a></span></li><li><span><a href=\"#Изучим-параметр:-число-комнат-(rooms)\" data-toc-modified-id=\"Изучим-параметр:-число-комнат-(rooms)-4.3\"><span class=\"toc-item-num\">4.3&nbsp;&nbsp;</span>Изучим параметр: число комнат (rooms)</a></span></li><li><span><a href=\"#Изучим-параметр:-высота-потолков-(ceiling_height)\" data-toc-modified-id=\"Изучим-параметр:-высота-потолков-(ceiling_height)-4.4\"><span class=\"toc-item-num\">4.4&nbsp;&nbsp;</span>Изучим параметр: высота потолков (ceiling_height)</a></span></li><li><span><a href=\"#Изучим-время-продажи-квартиры.-Постройте-гистограмму.-Посчитайте-среднее-и-медиану.-Опишите,-сколько-обычно-занимает-продажа.\" data-toc-modified-id=\"Изучим-время-продажи-квартиры.-Постройте-гистограмму.-Посчитайте-среднее-и-медиану.-Опишите,-сколько-обычно-занимает-продажа.-4.5\"><span class=\"toc-item-num\">4.5&nbsp;&nbsp;</span>Изучим время продажи квартиры. Постройте гистограмму. Посчитайте среднее и медиану. Опишите, сколько обычно занимает продажа.</a></span></li><li><span><a href=\"#Рассмотрим-какие-факторы-больше-всего-влияют-на-стоимость-квартиры?\" data-toc-modified-id=\"Рассмотрим-какие-факторы-больше-всего-влияют-на-стоимость-квартиры?-4.6\"><span class=\"toc-item-num\">4.6&nbsp;&nbsp;</span>Рассмотрим какие факторы больше всего влияют на стоимость квартиры?</a></span><ul class=\"toc-item\"><li><span><a href=\"#Изучим,-зависит-ли-цена-от-квадратного-метра.\" data-toc-modified-id=\"Изучим,-зависит-ли-цена-от-квадратного-метра.-4.6.1\"><span class=\"toc-item-num\">4.6.1&nbsp;&nbsp;</span>Изучим, зависит ли цена от квадратного метра.</a></span></li><li><span><a href=\"#Изучим,-зависит-ли-цена-от-числа-комнат.\" data-toc-modified-id=\"Изучим,-зависит-ли-цена-от-числа-комнат.-4.6.2\"><span class=\"toc-item-num\">4.6.2&nbsp;&nbsp;</span>Изучим, зависит ли цена от числа комнат.</a></span></li><li><span><a href=\"#Изучим,-зависит-ли-цена-от-этажа-(первого-или-последнего)\" data-toc-modified-id=\"Изучим,-зависит-ли-цена-от-этажа-(первого-или-последнего)-4.6.3\"><span class=\"toc-item-num\">4.6.3&nbsp;&nbsp;</span>Изучим, зависит ли цена от этажа (первого или последнего)</a></span></li><li><span><a href=\"#Изучим,-зависит-ли-цена-от-удалённости-от-центра.\" data-toc-modified-id=\"Изучим,-зависит-ли-цена-от-удалённости-от-центра.-4.6.4\"><span class=\"toc-item-num\">4.6.4&nbsp;&nbsp;</span>Изучим, зависит ли цена от удалённости от центра.</a></span></li><li><span><a href=\"#Изучим,-зависит-ли-цена-от-от-даты-размещения:-дня-недели,-месяца-и-года\" data-toc-modified-id=\"Изучим,-зависит-ли-цена-от-от-даты-размещения:-дня-недели,-месяца-и-года-4.6.5\"><span class=\"toc-item-num\">4.6.5&nbsp;&nbsp;</span>Изучим, зависит ли цена от от даты размещения: дня недели, месяца и года</a></span></li><li><span><a href=\"#&quot;Выберем-10-населённых-пунктов-с-наибольшим-числом-объявлений.-Посчитаем-среднюю-цену-квадратного-метра-в-этих-населённых-пунктах.-Выделите-населённые-пункты-с-самой-высокой-и-низкой-стоимостью-жилья.\" data-toc-modified-id=\"&quot;Выберем-10-населённых-пунктов-с-наибольшим-числом-объявлений.-Посчитаем-среднюю-цену-квадратного-метра-в-этих-населённых-пунктах.-Выделите-населённые-пункты-с-самой-высокой-и-низкой-стоимостью-жилья.-4.6.6\"><span class=\"toc-item-num\">4.6.6&nbsp;&nbsp;</span>\"Выберем 10 населённых пунктов с наибольшим числом объявлений. Посчитаем среднюю цену квадратного метра в этих населённых пунктах. Выделите населённые пункты с самой высокой и низкой стоимостью жилья.</a></span></li><li><span><a href=\"#Изучим-предложения-квартир:-для-каждой-квартиры-есть-информация-о-расстоянии-до-центра.-Выделим-квартиры-в-Санкт-Петербурге-('locality_name').-Наша-задача-—-выяснить,-какая-область-входит-в-центр.\" data-toc-modified-id=\"Изучим-предложения-квартир:-для-каждой-квартиры-есть-информация-о-расстоянии-до-центра.-Выделим-квартиры-в-Санкт-Петербурге-('locality_name').-Наша-задача-—-выяснить,-какая-область-входит-в-центр.-4.6.7\"><span class=\"toc-item-num\">4.6.7&nbsp;&nbsp;</span>Изучим предложения квартир: для каждой квартиры есть информация о расстоянии до центра. Выделим квартиры в Санкт-Петербурге (<em>'locality_name'</em>). Наша задача — выяснить, какая область входит в центр.</a></span></li></ul></li><li><span><a href=\"#Выделим-сегмент-квартир-в-центре.-Проанализируем-эту-территорию-и-изучите-следующие-параметры:-площадь,-цена,-число-комнат,-высота-потолков.\" data-toc-modified-id=\"Выделим-сегмент-квартир-в-центре.-Проанализируем-эту-территорию-и-изучите-следующие-параметры:-площадь,-цена,-число-комнат,-высота-потолков.-4.7\"><span class=\"toc-item-num\">4.7&nbsp;&nbsp;</span>Выделим сегмент квартир в центре. Проанализируем эту территорию и изучите следующие параметры: площадь, цена, число комнат, высота потолков.</a></span><ul class=\"toc-item\"><li><span><a href=\"#Площадь\" data-toc-modified-id=\"Площадь-4.7.1\"><span class=\"toc-item-num\">4.7.1&nbsp;&nbsp;</span>Площадь</a></span></li><li><span><a href=\"#Число-комнат\" data-toc-modified-id=\"Число-комнат-4.7.2\"><span class=\"toc-item-num\">4.7.2&nbsp;&nbsp;</span>Число комнат</a></span></li><li><span><a href=\"#Высота-потолков\" data-toc-modified-id=\"Высота-потолков-4.7.3\"><span class=\"toc-item-num\">4.7.3&nbsp;&nbsp;</span>Высота потолков</a></span></li></ul></li><li><span><a href=\"#Выделим-факторы,-которые-влияют-на-стоимость-квартиры-(число-комнат,-этаж,-удалённость-от-центра,-дата-размещения-объявления).\" data-toc-modified-id=\"Выделим-факторы,-которые-влияют-на-стоимость-квартиры-(число-комнат,-этаж,-удалённость-от-центра,-дата-размещения-объявления).-4.8\"><span class=\"toc-item-num\">4.8&nbsp;&nbsp;</span>Выделим факторы, которые влияют на стоимость квартиры (число комнат, этаж, удалённость от центра, дата размещения объявления).</a></span></li></ul></li><li><span><a href=\"#Общий-вывод\" data-toc-modified-id=\"Общий-вывод-5\"><span class=\"toc-item-num\">5&nbsp;&nbsp;</span>Общий вывод</a></span></li><li><span><a href=\"#Чек-лист-готовности-проекта\" data-toc-modified-id=\"Чек-лист-готовности-проекта-6\"><span class=\"toc-item-num\">6&nbsp;&nbsp;</span>Чек-лист готовности проекта</a></span></li></ul></div>"
   ]
  },
  {
   "cell_type": "markdown",
   "metadata": {},
   "source": [
    "# Исследование объявлений о продаже квартир\n",
    "\n",
    "В вашем распоряжении данные сервиса Яндекс.Недвижимость — архив объявлений о продаже квартир в Санкт-Петербурге и соседних населённых пунктах за несколько лет. Нужно научиться определять рыночную стоимость объектов недвижимости. Ваша задача — установить параметры. Это позволит построить автоматизированную систему: она отследит аномалии и мошенническую деятельность. \n",
    "\n",
    "По каждой квартире на продажу доступны два вида данных. Первые вписаны пользователем, вторые получены автоматически на основе картографических данных. Например, расстояние до центра, аэропорта, ближайшего парка и водоёма. "
   ]
  },
  {
   "cell_type": "markdown",
   "metadata": {},
   "source": [
    "## Изучение данных из файла"
   ]
  },
  {
   "cell_type": "code",
   "execution_count": 3,
   "metadata": {},
   "outputs": [
    {
     "name": "stdout",
     "output_type": "stream",
     "text": [
      "<class 'pandas.core.frame.DataFrame'>\n",
      "RangeIndex: 23699 entries, 0 to 23698\n",
      "Data columns (total 22 columns):\n",
      " #   Column                Non-Null Count  Dtype  \n",
      "---  ------                --------------  -----  \n",
      " 0   total_images          23699 non-null  int64  \n",
      " 1   last_price            23699 non-null  float64\n",
      " 2   total_area            23699 non-null  float64\n",
      " 3   first_day_exposition  23699 non-null  object \n",
      " 4   rooms                 23699 non-null  int64  \n",
      " 5   ceiling_height        14504 non-null  float64\n",
      " 6   floors_total          23613 non-null  float64\n",
      " 7   living_area           21796 non-null  float64\n",
      " 8   floor                 23699 non-null  int64  \n",
      " 9   is_apartment          2775 non-null   object \n",
      " 10  studio                23699 non-null  bool   \n",
      " 11  open_plan             23699 non-null  bool   \n",
      " 12  kitchen_area          21421 non-null  float64\n",
      " 13  balcony               12180 non-null  float64\n",
      " 14  locality_name         23650 non-null  object \n",
      " 15  airports_nearest      18157 non-null  float64\n",
      " 16  cityCenters_nearest   18180 non-null  float64\n",
      " 17  parks_around3000      18181 non-null  float64\n",
      " 18  parks_nearest         8079 non-null   float64\n",
      " 19  ponds_around3000      18181 non-null  float64\n",
      " 20  ponds_nearest         9110 non-null   float64\n",
      " 21  days_exposition       20518 non-null  float64\n",
      "dtypes: bool(2), float64(14), int64(3), object(3)\n",
      "memory usage: 3.7+ MB\n"
     ]
    },
    {
     "data": {
      "text/html": [
       "<div>\n",
       "<style scoped>\n",
       "    .dataframe tbody tr th:only-of-type {\n",
       "        vertical-align: middle;\n",
       "    }\n",
       "\n",
       "    .dataframe tbody tr th {\n",
       "        vertical-align: top;\n",
       "    }\n",
       "\n",
       "    .dataframe thead th {\n",
       "        text-align: right;\n",
       "    }\n",
       "</style>\n",
       "<table border=\"1\" class=\"dataframe\">\n",
       "  <thead>\n",
       "    <tr style=\"text-align: right;\">\n",
       "      <th></th>\n",
       "      <th>total_images</th>\n",
       "      <th>last_price</th>\n",
       "      <th>total_area</th>\n",
       "      <th>first_day_exposition</th>\n",
       "      <th>rooms</th>\n",
       "      <th>ceiling_height</th>\n",
       "      <th>floors_total</th>\n",
       "      <th>living_area</th>\n",
       "      <th>floor</th>\n",
       "      <th>is_apartment</th>\n",
       "      <th>...</th>\n",
       "      <th>kitchen_area</th>\n",
       "      <th>balcony</th>\n",
       "      <th>locality_name</th>\n",
       "      <th>airports_nearest</th>\n",
       "      <th>cityCenters_nearest</th>\n",
       "      <th>parks_around3000</th>\n",
       "      <th>parks_nearest</th>\n",
       "      <th>ponds_around3000</th>\n",
       "      <th>ponds_nearest</th>\n",
       "      <th>days_exposition</th>\n",
       "    </tr>\n",
       "  </thead>\n",
       "  <tbody>\n",
       "    <tr>\n",
       "      <th>0</th>\n",
       "      <td>20</td>\n",
       "      <td>13000000.0</td>\n",
       "      <td>108.00</td>\n",
       "      <td>2019-03-07T00:00:00</td>\n",
       "      <td>3</td>\n",
       "      <td>2.70</td>\n",
       "      <td>16.0</td>\n",
       "      <td>51.00</td>\n",
       "      <td>8</td>\n",
       "      <td>NaN</td>\n",
       "      <td>...</td>\n",
       "      <td>25.00</td>\n",
       "      <td>NaN</td>\n",
       "      <td>Санкт-Петербург</td>\n",
       "      <td>18863.0</td>\n",
       "      <td>16028.0</td>\n",
       "      <td>1.0</td>\n",
       "      <td>482.0</td>\n",
       "      <td>2.0</td>\n",
       "      <td>755.0</td>\n",
       "      <td>NaN</td>\n",
       "    </tr>\n",
       "    <tr>\n",
       "      <th>1</th>\n",
       "      <td>7</td>\n",
       "      <td>3350000.0</td>\n",
       "      <td>40.40</td>\n",
       "      <td>2018-12-04T00:00:00</td>\n",
       "      <td>1</td>\n",
       "      <td>NaN</td>\n",
       "      <td>11.0</td>\n",
       "      <td>18.60</td>\n",
       "      <td>1</td>\n",
       "      <td>NaN</td>\n",
       "      <td>...</td>\n",
       "      <td>11.00</td>\n",
       "      <td>2.0</td>\n",
       "      <td>посёлок Шушары</td>\n",
       "      <td>12817.0</td>\n",
       "      <td>18603.0</td>\n",
       "      <td>0.0</td>\n",
       "      <td>NaN</td>\n",
       "      <td>0.0</td>\n",
       "      <td>NaN</td>\n",
       "      <td>81.0</td>\n",
       "    </tr>\n",
       "    <tr>\n",
       "      <th>2</th>\n",
       "      <td>10</td>\n",
       "      <td>5196000.0</td>\n",
       "      <td>56.00</td>\n",
       "      <td>2015-08-20T00:00:00</td>\n",
       "      <td>2</td>\n",
       "      <td>NaN</td>\n",
       "      <td>5.0</td>\n",
       "      <td>34.30</td>\n",
       "      <td>4</td>\n",
       "      <td>NaN</td>\n",
       "      <td>...</td>\n",
       "      <td>8.30</td>\n",
       "      <td>0.0</td>\n",
       "      <td>Санкт-Петербург</td>\n",
       "      <td>21741.0</td>\n",
       "      <td>13933.0</td>\n",
       "      <td>1.0</td>\n",
       "      <td>90.0</td>\n",
       "      <td>2.0</td>\n",
       "      <td>574.0</td>\n",
       "      <td>558.0</td>\n",
       "    </tr>\n",
       "    <tr>\n",
       "      <th>3</th>\n",
       "      <td>0</td>\n",
       "      <td>64900000.0</td>\n",
       "      <td>159.00</td>\n",
       "      <td>2015-07-24T00:00:00</td>\n",
       "      <td>3</td>\n",
       "      <td>NaN</td>\n",
       "      <td>14.0</td>\n",
       "      <td>NaN</td>\n",
       "      <td>9</td>\n",
       "      <td>NaN</td>\n",
       "      <td>...</td>\n",
       "      <td>NaN</td>\n",
       "      <td>0.0</td>\n",
       "      <td>Санкт-Петербург</td>\n",
       "      <td>28098.0</td>\n",
       "      <td>6800.0</td>\n",
       "      <td>2.0</td>\n",
       "      <td>84.0</td>\n",
       "      <td>3.0</td>\n",
       "      <td>234.0</td>\n",
       "      <td>424.0</td>\n",
       "    </tr>\n",
       "    <tr>\n",
       "      <th>4</th>\n",
       "      <td>2</td>\n",
       "      <td>10000000.0</td>\n",
       "      <td>100.00</td>\n",
       "      <td>2018-06-19T00:00:00</td>\n",
       "      <td>2</td>\n",
       "      <td>3.03</td>\n",
       "      <td>14.0</td>\n",
       "      <td>32.00</td>\n",
       "      <td>13</td>\n",
       "      <td>NaN</td>\n",
       "      <td>...</td>\n",
       "      <td>41.00</td>\n",
       "      <td>NaN</td>\n",
       "      <td>Санкт-Петербург</td>\n",
       "      <td>31856.0</td>\n",
       "      <td>8098.0</td>\n",
       "      <td>2.0</td>\n",
       "      <td>112.0</td>\n",
       "      <td>1.0</td>\n",
       "      <td>48.0</td>\n",
       "      <td>121.0</td>\n",
       "    </tr>\n",
       "    <tr>\n",
       "      <th>5</th>\n",
       "      <td>10</td>\n",
       "      <td>2890000.0</td>\n",
       "      <td>30.40</td>\n",
       "      <td>2018-09-10T00:00:00</td>\n",
       "      <td>1</td>\n",
       "      <td>NaN</td>\n",
       "      <td>12.0</td>\n",
       "      <td>14.40</td>\n",
       "      <td>5</td>\n",
       "      <td>NaN</td>\n",
       "      <td>...</td>\n",
       "      <td>9.10</td>\n",
       "      <td>NaN</td>\n",
       "      <td>городской посёлок Янино-1</td>\n",
       "      <td>NaN</td>\n",
       "      <td>NaN</td>\n",
       "      <td>NaN</td>\n",
       "      <td>NaN</td>\n",
       "      <td>NaN</td>\n",
       "      <td>NaN</td>\n",
       "      <td>55.0</td>\n",
       "    </tr>\n",
       "    <tr>\n",
       "      <th>6</th>\n",
       "      <td>6</td>\n",
       "      <td>3700000.0</td>\n",
       "      <td>37.30</td>\n",
       "      <td>2017-11-02T00:00:00</td>\n",
       "      <td>1</td>\n",
       "      <td>NaN</td>\n",
       "      <td>26.0</td>\n",
       "      <td>10.60</td>\n",
       "      <td>6</td>\n",
       "      <td>NaN</td>\n",
       "      <td>...</td>\n",
       "      <td>14.40</td>\n",
       "      <td>1.0</td>\n",
       "      <td>посёлок Парголово</td>\n",
       "      <td>52996.0</td>\n",
       "      <td>19143.0</td>\n",
       "      <td>0.0</td>\n",
       "      <td>NaN</td>\n",
       "      <td>0.0</td>\n",
       "      <td>NaN</td>\n",
       "      <td>155.0</td>\n",
       "    </tr>\n",
       "    <tr>\n",
       "      <th>7</th>\n",
       "      <td>5</td>\n",
       "      <td>7915000.0</td>\n",
       "      <td>71.60</td>\n",
       "      <td>2019-04-18T00:00:00</td>\n",
       "      <td>2</td>\n",
       "      <td>NaN</td>\n",
       "      <td>24.0</td>\n",
       "      <td>NaN</td>\n",
       "      <td>22</td>\n",
       "      <td>NaN</td>\n",
       "      <td>...</td>\n",
       "      <td>18.90</td>\n",
       "      <td>2.0</td>\n",
       "      <td>Санкт-Петербург</td>\n",
       "      <td>23982.0</td>\n",
       "      <td>11634.0</td>\n",
       "      <td>0.0</td>\n",
       "      <td>NaN</td>\n",
       "      <td>0.0</td>\n",
       "      <td>NaN</td>\n",
       "      <td>NaN</td>\n",
       "    </tr>\n",
       "    <tr>\n",
       "      <th>8</th>\n",
       "      <td>20</td>\n",
       "      <td>2900000.0</td>\n",
       "      <td>33.16</td>\n",
       "      <td>2018-05-23T00:00:00</td>\n",
       "      <td>1</td>\n",
       "      <td>NaN</td>\n",
       "      <td>27.0</td>\n",
       "      <td>15.43</td>\n",
       "      <td>26</td>\n",
       "      <td>NaN</td>\n",
       "      <td>...</td>\n",
       "      <td>8.81</td>\n",
       "      <td>NaN</td>\n",
       "      <td>посёлок Мурино</td>\n",
       "      <td>NaN</td>\n",
       "      <td>NaN</td>\n",
       "      <td>NaN</td>\n",
       "      <td>NaN</td>\n",
       "      <td>NaN</td>\n",
       "      <td>NaN</td>\n",
       "      <td>189.0</td>\n",
       "    </tr>\n",
       "    <tr>\n",
       "      <th>9</th>\n",
       "      <td>18</td>\n",
       "      <td>5400000.0</td>\n",
       "      <td>61.00</td>\n",
       "      <td>2017-02-26T00:00:00</td>\n",
       "      <td>3</td>\n",
       "      <td>2.50</td>\n",
       "      <td>9.0</td>\n",
       "      <td>43.60</td>\n",
       "      <td>7</td>\n",
       "      <td>NaN</td>\n",
       "      <td>...</td>\n",
       "      <td>6.50</td>\n",
       "      <td>2.0</td>\n",
       "      <td>Санкт-Петербург</td>\n",
       "      <td>50898.0</td>\n",
       "      <td>15008.0</td>\n",
       "      <td>0.0</td>\n",
       "      <td>NaN</td>\n",
       "      <td>0.0</td>\n",
       "      <td>NaN</td>\n",
       "      <td>289.0</td>\n",
       "    </tr>\n",
       "  </tbody>\n",
       "</table>\n",
       "<p>10 rows × 22 columns</p>\n",
       "</div>"
      ],
      "text/plain": [
       "   total_images  last_price  total_area first_day_exposition  rooms  \\\n",
       "0            20  13000000.0      108.00  2019-03-07T00:00:00      3   \n",
       "1             7   3350000.0       40.40  2018-12-04T00:00:00      1   \n",
       "2            10   5196000.0       56.00  2015-08-20T00:00:00      2   \n",
       "3             0  64900000.0      159.00  2015-07-24T00:00:00      3   \n",
       "4             2  10000000.0      100.00  2018-06-19T00:00:00      2   \n",
       "5            10   2890000.0       30.40  2018-09-10T00:00:00      1   \n",
       "6             6   3700000.0       37.30  2017-11-02T00:00:00      1   \n",
       "7             5   7915000.0       71.60  2019-04-18T00:00:00      2   \n",
       "8            20   2900000.0       33.16  2018-05-23T00:00:00      1   \n",
       "9            18   5400000.0       61.00  2017-02-26T00:00:00      3   \n",
       "\n",
       "   ceiling_height  floors_total  living_area  floor is_apartment  ...  \\\n",
       "0            2.70          16.0        51.00      8          NaN  ...   \n",
       "1             NaN          11.0        18.60      1          NaN  ...   \n",
       "2             NaN           5.0        34.30      4          NaN  ...   \n",
       "3             NaN          14.0          NaN      9          NaN  ...   \n",
       "4            3.03          14.0        32.00     13          NaN  ...   \n",
       "5             NaN          12.0        14.40      5          NaN  ...   \n",
       "6             NaN          26.0        10.60      6          NaN  ...   \n",
       "7             NaN          24.0          NaN     22          NaN  ...   \n",
       "8             NaN          27.0        15.43     26          NaN  ...   \n",
       "9            2.50           9.0        43.60      7          NaN  ...   \n",
       "\n",
       "   kitchen_area  balcony              locality_name  airports_nearest  \\\n",
       "0         25.00      NaN            Санкт-Петербург           18863.0   \n",
       "1         11.00      2.0             посёлок Шушары           12817.0   \n",
       "2          8.30      0.0            Санкт-Петербург           21741.0   \n",
       "3           NaN      0.0            Санкт-Петербург           28098.0   \n",
       "4         41.00      NaN            Санкт-Петербург           31856.0   \n",
       "5          9.10      NaN  городской посёлок Янино-1               NaN   \n",
       "6         14.40      1.0          посёлок Парголово           52996.0   \n",
       "7         18.90      2.0            Санкт-Петербург           23982.0   \n",
       "8          8.81      NaN             посёлок Мурино               NaN   \n",
       "9          6.50      2.0            Санкт-Петербург           50898.0   \n",
       "\n",
       "  cityCenters_nearest  parks_around3000  parks_nearest  ponds_around3000  \\\n",
       "0             16028.0               1.0          482.0               2.0   \n",
       "1             18603.0               0.0            NaN               0.0   \n",
       "2             13933.0               1.0           90.0               2.0   \n",
       "3              6800.0               2.0           84.0               3.0   \n",
       "4              8098.0               2.0          112.0               1.0   \n",
       "5                 NaN               NaN            NaN               NaN   \n",
       "6             19143.0               0.0            NaN               0.0   \n",
       "7             11634.0               0.0            NaN               0.0   \n",
       "8                 NaN               NaN            NaN               NaN   \n",
       "9             15008.0               0.0            NaN               0.0   \n",
       "\n",
       "   ponds_nearest  days_exposition  \n",
       "0          755.0              NaN  \n",
       "1            NaN             81.0  \n",
       "2          574.0            558.0  \n",
       "3          234.0            424.0  \n",
       "4           48.0            121.0  \n",
       "5            NaN             55.0  \n",
       "6            NaN            155.0  \n",
       "7            NaN              NaN  \n",
       "8            NaN            189.0  \n",
       "9            NaN            289.0  \n",
       "\n",
       "[10 rows x 22 columns]"
      ]
     },
     "metadata": {},
     "output_type": "display_data"
    }
   ],
   "source": [
    "import pandas as pd \n",
    "import matplotlib.pyplot as plt\n",
    "import seaborn as sns\n",
    "data = pd.read_csv('/datasets/real_estate_data.csv', sep = '\\t' )\n",
    "data.info()\n",
    "display(data.head(10))\n",
    "\n",
    "#airports_nearest — расстояние до ближайшего аэропорта в метрах (м)\n",
    "#balcony — число балконов\n",
    "#ceiling_height — высота потолков (м)\n",
    "#cityCenters_nearest — расстояние до центра города (м)\n",
    "#days_exposition — сколько дней было размещено объявление (от публикации до снятия)\n",
    "#first_day_exposition — дата публикации\n",
    "#floor — этаж\n",
    "#floors_total — всего этажей в доме\n",
    "#is_apartment — апартаменты (булев тип)\n",
    "#kitchen_area — площадь кухни в квадратных метрах (м²)\n",
    "#last_price — цена на момент снятия с публикации\n",
    "#living_area — жилая площадь в квадратных метрах (м²)\n",
    "#locality_name — название населённого пункта\n",
    "#open_plan — свободная планировка (булев тип)\n",
    "#parks_around3000 — число парков в радиусе 3 км\n",
    "#parks_nearest — расстояние до ближайшего парка (м)\n",
    "#ponds_around3000 — число водоёмов в радиусе 3 км\n",
    "#ponds_nearest — расстояние до ближайшего водоёма (м)\n",
    "#rooms — число комнат\n",
    "#studio — квартира-студия (булев тип)\n",
    "#total_area — площадь квартиры в квадратных метрах (м²)\n",
    "#total_images — число фотографий квартиры в объявлени\n"
   ]
  },
  {
   "cell_type": "code",
   "execution_count": 4,
   "metadata": {},
   "outputs": [
    {
     "data": {
      "text/plain": [
       "0"
      ]
     },
     "execution_count": 4,
     "metadata": {},
     "output_type": "execute_result"
    }
   ],
   "source": [
    "data.duplicated().sum() # проверяем кол-во дубликатов"
   ]
  },
  {
   "cell_type": "code",
   "execution_count": 5,
   "metadata": {},
   "outputs": [
    {
     "data": {
      "text/plain": [
       "total_images                0\n",
       "last_price                  0\n",
       "total_area                  0\n",
       "first_day_exposition        0\n",
       "rooms                       0\n",
       "ceiling_height           9195\n",
       "floors_total               86\n",
       "living_area              1903\n",
       "floor                       0\n",
       "is_apartment            20924\n",
       "studio                      0\n",
       "open_plan                   0\n",
       "kitchen_area             2278\n",
       "balcony                 11519\n",
       "locality_name              49\n",
       "airports_nearest         5542\n",
       "cityCenters_nearest      5519\n",
       "parks_around3000         5518\n",
       "parks_nearest           15620\n",
       "ponds_around3000         5518\n",
       "ponds_nearest           14589\n",
       "days_exposition          3181\n",
       "dtype: int64"
      ]
     },
     "execution_count": 5,
     "metadata": {},
     "output_type": "execute_result"
    }
   ],
   "source": [
    "data.isna().sum() # проверяем кол-во пропусков "
   ]
  },
  {
   "cell_type": "markdown",
   "metadata": {},
   "source": [
    "### Вывод"
   ]
  },
  {
   "cell_type": "markdown",
   "metadata": {},
   "source": [
    "Оценим для начала пропуски значений.\n",
    "\n",
    "Что изменим:\n",
    "- **ceiling_height** т.е высота потолков. Есть небольшое количество пропущенных значений. Т.к. метраж есть. Думаю высота не будет сильно варьировать. Есть смысл заменить на медианное значение.\n",
    "- **floors_total** есть небольшое количество пропусков. Думаю есть смысл избавиться от этих строк\n",
    "- **locality_name** есть небольшое количество пропусков. Думаю есть смысл избавиться от этих строк.\n",
    "- **balcony**  -большое кол-во пропусков. будем считать, что это значит что балконов нет в этой квартире, т.е. их кол-во равно нулю.\n",
    "- **days_exposition** - изучим отсутствие  значений. Скорей всего квартира еще не продана, поэтому и нет информации. \n",
    "\n",
    "Скорей всего \n",
    "\n",
    "\n",
    "Что оставим:\n",
    "\n",
    "- **living_area** - есть пропуски. Оставим как есть.Корректно заполнить их не получится.  Не должно повлиять на вывод.\n",
    "- **kitchen_area**  - есть пропуски. Оставим как есть. Корректно заполнить их не получится. Не должно повлиять на вывод.\n",
    "- **is_apartment** - большое кол -во пропусков на результат не повлияет. \n",
    "- **airports_nearest** - есть пропуски. Оставим как есть.Корректно заполнить их не получится.  Не должно повлиять на вывод.\n",
    "- **parks_around3000**- есть пропуски. Оставим как есть.Корректно заполнить их не получится.  Не должно повлиять на вывод.\n",
    "- **parks_nearest**- большое кол -во пропусков на результат не повлияет. \n",
    "- **ponds_around3000** - есть пропуски. Оставим как есть. Корректно заполнить их не получится. Не должно повлиять на вывод.\n",
    "- **ponds_nearest** - есть пропуски. Оставим как есть.Корректно заполнить их не получится.  Не должно повлиять на вывод.  \n",
    "- **days_exposition** - - есть пропуски. Оставим как есть.Корректно заполнить их не получится.  Не должно повлиять на вывод.  \n",
    "- **cityCenters_nearest** - достаточне кол-во пропусков. Нужно подумат, что с этим делать. Т.к. задача стоит узнать расстояние от центра только для СПб, то посмотрим для каких городов у нас нехватает данных.\n",
    "\n",
    "Кол-во пропусков связанных с расстояниями примерно одинаковое количество. Можно предположить, что есть взаимосвязь. Думаю ошибка при загрузки таблицы с данными локации к остальным данным.\n"
   ]
  },
  {
   "cell_type": "markdown",
   "metadata": {},
   "source": [
    "## Предобработка данных"
   ]
  },
  {
   "cell_type": "markdown",
   "metadata": {},
   "source": [
    "### Заменим нулевые значения в сeiling_height на медианные значения\n"
   ]
  },
  {
   "cell_type": "code",
   "execution_count": 6,
   "metadata": {},
   "outputs": [],
   "source": [
    "data['ceiling_height'].fillna(data['ceiling_height'].median(), inplace=True)\n",
    "#data['ceiling_height'].isna().sum()"
   ]
  },
  {
   "cell_type": "markdown",
   "metadata": {},
   "source": [
    "### Избавимся от незаполненных значений в **floors_total**  и **locality_name**"
   ]
  },
  {
   "cell_type": "code",
   "execution_count": 7,
   "metadata": {},
   "outputs": [],
   "source": [
    "data.dropna(subset =[ 'floors_total','locality_name'], inplace=True)\n",
    "#data['floors_total'].isna().sum()\n",
    "#data['locality_name'].isna().sum()"
   ]
  },
  {
   "cell_type": "markdown",
   "metadata": {},
   "source": [
    "### - balcony. Заменим NAN на ноль."
   ]
  },
  {
   "cell_type": "code",
   "execution_count": 8,
   "metadata": {},
   "outputs": [],
   "source": [
    "data['balcony'] = data['balcony'].fillna(0)\n",
    "#data['balcony'].isna().sum()"
   ]
  },
  {
   "cell_type": "markdown",
   "metadata": {},
   "source": [
    "### Заменим типы данных balcony и  floors_total, т.к этажи и балконы могут быть только целочисленные.\n"
   ]
  },
  {
   "cell_type": "code",
   "execution_count": 9,
   "metadata": {},
   "outputs": [],
   "source": [
    "data['balcony']=data['balcony'].astype('int64').round()\n",
    "data['floors_total']=data['floors_total'].astype('int64').round()\n",
    "#data.dtypes"
   ]
  },
  {
   "cell_type": "markdown",
   "metadata": {},
   "source": [
    "### Переименуем столбец cityCenters_nearest в city_сenters_nearest "
   ]
  },
  {
   "cell_type": "code",
   "execution_count": 10,
   "metadata": {},
   "outputs": [],
   "source": [
    "data.rename(columns={'cityCenters_nearest': 'city_сenters_nearest'}, inplace=True)\n",
    "#print(data.columns) "
   ]
  },
  {
   "cell_type": "markdown",
   "metadata": {},
   "source": [
    "## Расчёты и добавление результатов в таблицу"
   ]
  },
  {
   "cell_type": "markdown",
   "metadata": {},
   "source": [
    "### Рассчитаем стоимость одного метра квартиры и округлим ее."
   ]
  },
  {
   "cell_type": "code",
   "execution_count": 50,
   "metadata": {},
   "outputs": [],
   "source": [
    "data['metr_price'] = data['last_price'] / data['total_area']\n",
    "data['metr_price'] = data['metr_price'].sort_values().astype('int64').round()\n",
    "#print (data)\n"
   ]
  },
  {
   "cell_type": "markdown",
   "metadata": {},
   "source": [
    "### Посчитаем и добавим в таблицу: день недели, месяц и год публикации объявления"
   ]
  },
  {
   "cell_type": "code",
   "execution_count": 12,
   "metadata": {},
   "outputs": [
    {
     "data": {
      "text/html": [
       "<div>\n",
       "<style scoped>\n",
       "    .dataframe tbody tr th:only-of-type {\n",
       "        vertical-align: middle;\n",
       "    }\n",
       "\n",
       "    .dataframe tbody tr th {\n",
       "        vertical-align: top;\n",
       "    }\n",
       "\n",
       "    .dataframe thead th {\n",
       "        text-align: right;\n",
       "    }\n",
       "</style>\n",
       "<table border=\"1\" class=\"dataframe\">\n",
       "  <thead>\n",
       "    <tr style=\"text-align: right;\">\n",
       "      <th></th>\n",
       "      <th>total_images</th>\n",
       "      <th>last_price</th>\n",
       "      <th>total_area</th>\n",
       "      <th>first_day_exposition</th>\n",
       "      <th>rooms</th>\n",
       "      <th>ceiling_height</th>\n",
       "      <th>floors_total</th>\n",
       "      <th>living_area</th>\n",
       "      <th>floor</th>\n",
       "      <th>is_apartment</th>\n",
       "      <th>...</th>\n",
       "      <th>city_сenters_nearest</th>\n",
       "      <th>parks_around3000</th>\n",
       "      <th>parks_nearest</th>\n",
       "      <th>ponds_around3000</th>\n",
       "      <th>ponds_nearest</th>\n",
       "      <th>days_exposition</th>\n",
       "      <th>metr_price</th>\n",
       "      <th>year</th>\n",
       "      <th>weekday</th>\n",
       "      <th>month</th>\n",
       "    </tr>\n",
       "  </thead>\n",
       "  <tbody>\n",
       "    <tr>\n",
       "      <th>0</th>\n",
       "      <td>20</td>\n",
       "      <td>13000000.0</td>\n",
       "      <td>108.00</td>\n",
       "      <td>2019-03-07</td>\n",
       "      <td>3</td>\n",
       "      <td>2.70</td>\n",
       "      <td>16</td>\n",
       "      <td>51.0</td>\n",
       "      <td>8</td>\n",
       "      <td>NaN</td>\n",
       "      <td>...</td>\n",
       "      <td>16028.0</td>\n",
       "      <td>1.0</td>\n",
       "      <td>482.0</td>\n",
       "      <td>2.0</td>\n",
       "      <td>755.0</td>\n",
       "      <td>NaN</td>\n",
       "      <td>120370</td>\n",
       "      <td>2019</td>\n",
       "      <td>3</td>\n",
       "      <td>3</td>\n",
       "    </tr>\n",
       "    <tr>\n",
       "      <th>1</th>\n",
       "      <td>7</td>\n",
       "      <td>3350000.0</td>\n",
       "      <td>40.40</td>\n",
       "      <td>2018-12-04</td>\n",
       "      <td>1</td>\n",
       "      <td>2.65</td>\n",
       "      <td>11</td>\n",
       "      <td>18.6</td>\n",
       "      <td>1</td>\n",
       "      <td>NaN</td>\n",
       "      <td>...</td>\n",
       "      <td>18603.0</td>\n",
       "      <td>0.0</td>\n",
       "      <td>NaN</td>\n",
       "      <td>0.0</td>\n",
       "      <td>NaN</td>\n",
       "      <td>81.0</td>\n",
       "      <td>82920</td>\n",
       "      <td>2018</td>\n",
       "      <td>1</td>\n",
       "      <td>12</td>\n",
       "    </tr>\n",
       "    <tr>\n",
       "      <th>2</th>\n",
       "      <td>10</td>\n",
       "      <td>5196000.0</td>\n",
       "      <td>56.00</td>\n",
       "      <td>2015-08-20</td>\n",
       "      <td>2</td>\n",
       "      <td>2.65</td>\n",
       "      <td>5</td>\n",
       "      <td>34.3</td>\n",
       "      <td>4</td>\n",
       "      <td>NaN</td>\n",
       "      <td>...</td>\n",
       "      <td>13933.0</td>\n",
       "      <td>1.0</td>\n",
       "      <td>90.0</td>\n",
       "      <td>2.0</td>\n",
       "      <td>574.0</td>\n",
       "      <td>558.0</td>\n",
       "      <td>92785</td>\n",
       "      <td>2015</td>\n",
       "      <td>3</td>\n",
       "      <td>8</td>\n",
       "    </tr>\n",
       "    <tr>\n",
       "      <th>3</th>\n",
       "      <td>0</td>\n",
       "      <td>64900000.0</td>\n",
       "      <td>159.00</td>\n",
       "      <td>2015-07-24</td>\n",
       "      <td>3</td>\n",
       "      <td>2.65</td>\n",
       "      <td>14</td>\n",
       "      <td>NaN</td>\n",
       "      <td>9</td>\n",
       "      <td>NaN</td>\n",
       "      <td>...</td>\n",
       "      <td>6800.0</td>\n",
       "      <td>2.0</td>\n",
       "      <td>84.0</td>\n",
       "      <td>3.0</td>\n",
       "      <td>234.0</td>\n",
       "      <td>424.0</td>\n",
       "      <td>408176</td>\n",
       "      <td>2015</td>\n",
       "      <td>4</td>\n",
       "      <td>7</td>\n",
       "    </tr>\n",
       "    <tr>\n",
       "      <th>4</th>\n",
       "      <td>2</td>\n",
       "      <td>10000000.0</td>\n",
       "      <td>100.00</td>\n",
       "      <td>2018-06-19</td>\n",
       "      <td>2</td>\n",
       "      <td>3.03</td>\n",
       "      <td>14</td>\n",
       "      <td>32.0</td>\n",
       "      <td>13</td>\n",
       "      <td>NaN</td>\n",
       "      <td>...</td>\n",
       "      <td>8098.0</td>\n",
       "      <td>2.0</td>\n",
       "      <td>112.0</td>\n",
       "      <td>1.0</td>\n",
       "      <td>48.0</td>\n",
       "      <td>121.0</td>\n",
       "      <td>100000</td>\n",
       "      <td>2018</td>\n",
       "      <td>1</td>\n",
       "      <td>6</td>\n",
       "    </tr>\n",
       "    <tr>\n",
       "      <th>...</th>\n",
       "      <td>...</td>\n",
       "      <td>...</td>\n",
       "      <td>...</td>\n",
       "      <td>...</td>\n",
       "      <td>...</td>\n",
       "      <td>...</td>\n",
       "      <td>...</td>\n",
       "      <td>...</td>\n",
       "      <td>...</td>\n",
       "      <td>...</td>\n",
       "      <td>...</td>\n",
       "      <td>...</td>\n",
       "      <td>...</td>\n",
       "      <td>...</td>\n",
       "      <td>...</td>\n",
       "      <td>...</td>\n",
       "      <td>...</td>\n",
       "      <td>...</td>\n",
       "      <td>...</td>\n",
       "      <td>...</td>\n",
       "      <td>...</td>\n",
       "    </tr>\n",
       "    <tr>\n",
       "      <th>23694</th>\n",
       "      <td>9</td>\n",
       "      <td>9700000.0</td>\n",
       "      <td>133.81</td>\n",
       "      <td>2017-03-21</td>\n",
       "      <td>3</td>\n",
       "      <td>3.70</td>\n",
       "      <td>5</td>\n",
       "      <td>73.3</td>\n",
       "      <td>3</td>\n",
       "      <td>NaN</td>\n",
       "      <td>...</td>\n",
       "      <td>4232.0</td>\n",
       "      <td>1.0</td>\n",
       "      <td>796.0</td>\n",
       "      <td>3.0</td>\n",
       "      <td>381.0</td>\n",
       "      <td>NaN</td>\n",
       "      <td>72490</td>\n",
       "      <td>2017</td>\n",
       "      <td>1</td>\n",
       "      <td>3</td>\n",
       "    </tr>\n",
       "    <tr>\n",
       "      <th>23695</th>\n",
       "      <td>14</td>\n",
       "      <td>3100000.0</td>\n",
       "      <td>59.00</td>\n",
       "      <td>2018-01-15</td>\n",
       "      <td>3</td>\n",
       "      <td>2.65</td>\n",
       "      <td>5</td>\n",
       "      <td>38.0</td>\n",
       "      <td>4</td>\n",
       "      <td>NaN</td>\n",
       "      <td>...</td>\n",
       "      <td>NaN</td>\n",
       "      <td>NaN</td>\n",
       "      <td>NaN</td>\n",
       "      <td>NaN</td>\n",
       "      <td>NaN</td>\n",
       "      <td>45.0</td>\n",
       "      <td>52542</td>\n",
       "      <td>2018</td>\n",
       "      <td>0</td>\n",
       "      <td>1</td>\n",
       "    </tr>\n",
       "    <tr>\n",
       "      <th>23696</th>\n",
       "      <td>18</td>\n",
       "      <td>2500000.0</td>\n",
       "      <td>56.70</td>\n",
       "      <td>2018-02-11</td>\n",
       "      <td>2</td>\n",
       "      <td>2.65</td>\n",
       "      <td>3</td>\n",
       "      <td>29.7</td>\n",
       "      <td>1</td>\n",
       "      <td>NaN</td>\n",
       "      <td>...</td>\n",
       "      <td>NaN</td>\n",
       "      <td>NaN</td>\n",
       "      <td>NaN</td>\n",
       "      <td>NaN</td>\n",
       "      <td>NaN</td>\n",
       "      <td>NaN</td>\n",
       "      <td>44091</td>\n",
       "      <td>2018</td>\n",
       "      <td>6</td>\n",
       "      <td>2</td>\n",
       "    </tr>\n",
       "    <tr>\n",
       "      <th>23697</th>\n",
       "      <td>13</td>\n",
       "      <td>11475000.0</td>\n",
       "      <td>76.75</td>\n",
       "      <td>2017-03-28</td>\n",
       "      <td>2</td>\n",
       "      <td>3.00</td>\n",
       "      <td>17</td>\n",
       "      <td>NaN</td>\n",
       "      <td>12</td>\n",
       "      <td>NaN</td>\n",
       "      <td>...</td>\n",
       "      <td>10364.0</td>\n",
       "      <td>2.0</td>\n",
       "      <td>173.0</td>\n",
       "      <td>3.0</td>\n",
       "      <td>196.0</td>\n",
       "      <td>602.0</td>\n",
       "      <td>149511</td>\n",
       "      <td>2017</td>\n",
       "      <td>1</td>\n",
       "      <td>3</td>\n",
       "    </tr>\n",
       "    <tr>\n",
       "      <th>23698</th>\n",
       "      <td>4</td>\n",
       "      <td>1350000.0</td>\n",
       "      <td>32.30</td>\n",
       "      <td>2017-07-21</td>\n",
       "      <td>1</td>\n",
       "      <td>2.50</td>\n",
       "      <td>5</td>\n",
       "      <td>12.3</td>\n",
       "      <td>1</td>\n",
       "      <td>NaN</td>\n",
       "      <td>...</td>\n",
       "      <td>NaN</td>\n",
       "      <td>NaN</td>\n",
       "      <td>NaN</td>\n",
       "      <td>NaN</td>\n",
       "      <td>NaN</td>\n",
       "      <td>NaN</td>\n",
       "      <td>41795</td>\n",
       "      <td>2017</td>\n",
       "      <td>4</td>\n",
       "      <td>7</td>\n",
       "    </tr>\n",
       "  </tbody>\n",
       "</table>\n",
       "<p>23565 rows × 26 columns</p>\n",
       "</div>"
      ],
      "text/plain": [
       "       total_images  last_price  total_area first_day_exposition  rooms  \\\n",
       "0                20  13000000.0      108.00           2019-03-07      3   \n",
       "1                 7   3350000.0       40.40           2018-12-04      1   \n",
       "2                10   5196000.0       56.00           2015-08-20      2   \n",
       "3                 0  64900000.0      159.00           2015-07-24      3   \n",
       "4                 2  10000000.0      100.00           2018-06-19      2   \n",
       "...             ...         ...         ...                  ...    ...   \n",
       "23694             9   9700000.0      133.81           2017-03-21      3   \n",
       "23695            14   3100000.0       59.00           2018-01-15      3   \n",
       "23696            18   2500000.0       56.70           2018-02-11      2   \n",
       "23697            13  11475000.0       76.75           2017-03-28      2   \n",
       "23698             4   1350000.0       32.30           2017-07-21      1   \n",
       "\n",
       "       ceiling_height  floors_total  living_area  floor is_apartment  ...  \\\n",
       "0                2.70            16         51.0      8          NaN  ...   \n",
       "1                2.65            11         18.6      1          NaN  ...   \n",
       "2                2.65             5         34.3      4          NaN  ...   \n",
       "3                2.65            14          NaN      9          NaN  ...   \n",
       "4                3.03            14         32.0     13          NaN  ...   \n",
       "...               ...           ...          ...    ...          ...  ...   \n",
       "23694            3.70             5         73.3      3          NaN  ...   \n",
       "23695            2.65             5         38.0      4          NaN  ...   \n",
       "23696            2.65             3         29.7      1          NaN  ...   \n",
       "23697            3.00            17          NaN     12          NaN  ...   \n",
       "23698            2.50             5         12.3      1          NaN  ...   \n",
       "\n",
       "       city_сenters_nearest  parks_around3000  parks_nearest  \\\n",
       "0                   16028.0               1.0          482.0   \n",
       "1                   18603.0               0.0            NaN   \n",
       "2                   13933.0               1.0           90.0   \n",
       "3                    6800.0               2.0           84.0   \n",
       "4                    8098.0               2.0          112.0   \n",
       "...                     ...               ...            ...   \n",
       "23694                4232.0               1.0          796.0   \n",
       "23695                   NaN               NaN            NaN   \n",
       "23696                   NaN               NaN            NaN   \n",
       "23697               10364.0               2.0          173.0   \n",
       "23698                   NaN               NaN            NaN   \n",
       "\n",
       "       ponds_around3000 ponds_nearest  days_exposition  metr_price  year  \\\n",
       "0                   2.0         755.0              NaN      120370  2019   \n",
       "1                   0.0           NaN             81.0       82920  2018   \n",
       "2                   2.0         574.0            558.0       92785  2015   \n",
       "3                   3.0         234.0            424.0      408176  2015   \n",
       "4                   1.0          48.0            121.0      100000  2018   \n",
       "...                 ...           ...              ...         ...   ...   \n",
       "23694               3.0         381.0              NaN       72490  2017   \n",
       "23695               NaN           NaN             45.0       52542  2018   \n",
       "23696               NaN           NaN              NaN       44091  2018   \n",
       "23697               3.0         196.0            602.0      149511  2017   \n",
       "23698               NaN           NaN              NaN       41795  2017   \n",
       "\n",
       "       weekday  month  \n",
       "0            3      3  \n",
       "1            1     12  \n",
       "2            3      8  \n",
       "3            4      7  \n",
       "4            1      6  \n",
       "...        ...    ...  \n",
       "23694        1      3  \n",
       "23695        0      1  \n",
       "23696        6      2  \n",
       "23697        1      3  \n",
       "23698        4      7  \n",
       "\n",
       "[23565 rows x 26 columns]"
      ]
     },
     "metadata": {},
     "output_type": "display_data"
    }
   ],
   "source": [
    "data['first_day_exposition'] = pd.to_datetime(data['first_day_exposition'], format='%Y-%m-%dT%H:%M:%S')\n",
    "data['year'] = data['first_day_exposition'].dt.year                                             \n",
    "data['weekday'] = data['first_day_exposition'].dt.weekday\n",
    "data['month'] = data['first_day_exposition'].dt.month\n",
    "\n",
    "\n",
    "\n",
    "display (data) "
   ]
  },
  {
   "cell_type": "markdown",
   "metadata": {},
   "source": [
    "### Посчитаем  и добавим в таблицу: этаж квартиры; варианты — первый, последний, другой"
   ]
  },
  {
   "cell_type": "code",
   "execution_count": 13,
   "metadata": {},
   "outputs": [],
   "source": [
    "def floor_group(row):  #создаем функция для определения возрастной группы.\n",
    "    \n",
    "    if row['floor']== 1:\n",
    "        return 'первый'\n",
    "    if row['floor'] == row['floors_total']:\n",
    "        return 'последний'\n",
    "    return 'другой'\n",
    "\n",
    "data['floor_group'] = data.apply(floor_group, axis = 1)\n",
    "#print (data)\n",
    "\n"
   ]
  },
  {
   "cell_type": "code",
   "execution_count": 14,
   "metadata": {},
   "outputs": [],
   "source": [
    "#pivot_table_floor_definition = data.pivot_table(index='floor_group', values='last_price', aggfunc='median')\n",
    "#display('Медианная стоимость квартиры',pivot_table_floor_definition)"
   ]
  },
  {
   "cell_type": "markdown",
   "metadata": {},
   "source": [
    " ### Посчитаем и добавим в таблицу: соотношение жилой и общей площади, а также отношение площади кухни к общей"
   ]
  },
  {
   "cell_type": "code",
   "execution_count": 15,
   "metadata": {},
   "outputs": [],
   "source": [
    "#Для этого заполним пропущенные значения в living_area и  kitchen_area\n",
    "\n",
    "living_coef = data['living_area'].mean() / data['total_area'].mean()\n",
    "data['living_area'].fillna(living_coef * data['total_area'], inplace=True)\n",
    "\n",
    "kitchen_coef = data['kitchen_area'].mean() / data['total_area'].mean()\n",
    "data['kitchen_area'].fillna(kitchen_coef * data['total_area'], inplace=True)\n",
    "#data.isna().sum() # проверяем кол-во пропусков \n",
    "\n",
    "\n",
    "#  Добавляем новый столбец соотношение жилой и общей площади\n",
    "data['area_ratio'] = data['living_area'] / data['total_area'] * 100\n",
    "data['area_ratio'] = data['area_ratio'].astype('int64').round()\n",
    "\n",
    "#  Добавляем новый столбец соотношение площади кухни и общей площади\n",
    "data['kitchen_ratio'] = data['kitchen_area'] / data['total_area'] * 100\n",
    "data['kitchen_ratio'] = data['kitchen_ratio'].astype('int64').round()\n",
    "\n",
    "#print (data)"
   ]
  },
  {
   "cell_type": "markdown",
   "metadata": {},
   "source": [
    "## Исследовательский анализ данных"
   ]
  },
  {
   "cell_type": "markdown",
   "metadata": {},
   "source": [
    "### Изучим параметр: площадь (total_area)"
   ]
  },
  {
   "cell_type": "code",
   "execution_count": 16,
   "metadata": {},
   "outputs": [
    {
     "data": {
      "image/png": "[encoded data removed]",
      "text/plain": [
       "<Figure size 432x288 with 1 Axes>"
      ]
     },
     "metadata": {
      "needs_background": "light"
     },
     "output_type": "display_data"
    }
   ],
   "source": [
    "data['total_area'].hist(bins=20, range =(0,300))\n",
    "plt.xlabel('Квадратные метры')\n",
    "plt.ylabel('Количество квартир')\n",
    "plt.show()\n"
   ]
  },
  {
   "cell_type": "code",
   "execution_count": 17,
   "metadata": {},
   "outputs": [
    {
     "data": {
      "text/plain": [
       "count    23565.000000\n",
       "mean        60.322824\n",
       "std         35.657060\n",
       "min         12.000000\n",
       "25%         40.000000\n",
       "50%         52.000000\n",
       "75%         69.700000\n",
       "max        900.000000\n",
       "Name: total_area, dtype: float64"
      ]
     },
     "execution_count": 17,
     "metadata": {},
     "output_type": "execute_result"
    }
   ],
   "source": [
    "#rint(data['total_area'].value_counts())\n",
    "data['total_area'].describe()"
   ]
  },
  {
   "cell_type": "markdown",
   "metadata": {},
   "source": [
    "**Вывод:**\n",
    "\n",
    "Видно из графика, что больше всего продаются квартиры 40-45 метров. Квартиры больше 150 м2 уже очень редкие. "
   ]
  },
  {
   "cell_type": "markdown",
   "metadata": {},
   "source": [
    "### Изучим параметр: цена (last_price)"
   ]
  },
  {
   "cell_type": "code",
   "execution_count": 18,
   "metadata": {},
   "outputs": [
    {
     "data": {
      "image/png": "[encoded data removed]",
      "text/plain": [
       "<Figure size 432x288 with 1 Axes>"
      ]
     },
     "metadata": {
      "needs_background": "light"
     },
     "output_type": "display_data"
    },
    {
     "data": {
      "text/plain": [
       "count    2.356500e+04\n",
       "mean     6.540058e+06\n",
       "std      1.091093e+07\n",
       "min      1.219000e+04\n",
       "25%      3.400000e+06\n",
       "50%      4.646000e+06\n",
       "75%      6.790000e+06\n",
       "max      7.630000e+08\n",
       "Name: last_price, dtype: float64"
      ]
     },
     "execution_count": 18,
     "metadata": {},
     "output_type": "execute_result"
    }
   ],
   "source": [
    "data['last_price'].hist(bins=30, range =(0,30000000))\n",
    "plt.xlabel('цена')\n",
    "plt.ylabel('Количество квартир')\n",
    "plt.show()\n",
    "\n",
    "\n",
    "data['last_price'].describe()"
   ]
  },
  {
   "cell_type": "markdown",
   "metadata": {},
   "source": [
    "**Вывод:**\n",
    "\n",
    "Видно из графика, что в основном квартиры стоят 4,6 млн рублей.Квартир дороже 20 млн мало. "
   ]
  },
  {
   "cell_type": "markdown",
   "metadata": {},
   "source": [
    "### Изучим параметр: число комнат (rooms)"
   ]
  },
  {
   "cell_type": "code",
   "execution_count": 19,
   "metadata": {},
   "outputs": [
    {
     "data": {
      "image/png": "[encoded data removed]",
      "text/plain": [
       "<Figure size 432x288 with 1 Axes>"
      ]
     },
     "metadata": {
      "needs_background": "light"
     },
     "output_type": "display_data"
    },
    {
     "data": {
      "text/plain": [
       "count    23565.000000\n",
       "mean         2.070656\n",
       "std          1.078591\n",
       "min          0.000000\n",
       "25%          1.000000\n",
       "50%          2.000000\n",
       "75%          3.000000\n",
       "max         19.000000\n",
       "Name: rooms, dtype: float64"
      ]
     },
     "execution_count": 19,
     "metadata": {},
     "output_type": "execute_result"
    }
   ],
   "source": [
    "data['rooms'].hist(bins=30, range =(0,15))\n",
    "plt.xlabel('Число комнат')\n",
    "plt.ylabel('Количество квартир')\n",
    "#print(data['rooms'].value_counts())\n",
    "plt.show()\n",
    "\n",
    "\n",
    "data['rooms'].describe()"
   ]
  },
  {
   "cell_type": "markdown",
   "metadata": {},
   "source": [
    "**Вывод:**\n",
    "\n",
    "Видно из графика, что в основном на рынке представлены квартиры 1 комнатные. Чуть меньше 2х комнатых Квартиры больше 4х комнат, мало представлены на рынке."
   ]
  },
  {
   "cell_type": "markdown",
   "metadata": {},
   "source": [
    "Изучим параметр  следующие параметры: площадь, цена, число комнат, высота потолков"
   ]
  },
  {
   "cell_type": "markdown",
   "metadata": {},
   "source": [
    "### Изучим параметр: высота потолков (ceiling_height)"
   ]
  },
  {
   "cell_type": "code",
   "execution_count": 20,
   "metadata": {},
   "outputs": [
    {
     "data": {
      "image/png": "[encoded data removed]",
      "text/plain": [
       "<Figure size 432x288 with 1 Axes>"
      ]
     },
     "metadata": {
      "needs_background": "light"
     },
     "output_type": "display_data"
    },
    {
     "data": {
      "image/png": "[encoded data removed]",
      "text/plain": [
       "<Figure size 432x288 with 1 Axes>"
      ]
     },
     "metadata": {
      "needs_background": "light"
     },
     "output_type": "display_data"
    },
    {
     "data": {
      "text/plain": [
       "count    23565.000000\n",
       "mean         2.724530\n",
       "std          0.991026\n",
       "min          1.000000\n",
       "25%          2.600000\n",
       "50%          2.650000\n",
       "75%          2.700000\n",
       "max        100.000000\n",
       "Name: ceiling_height, dtype: float64"
      ]
     },
     "execution_count": 20,
     "metadata": {},
     "output_type": "execute_result"
    }
   ],
   "source": [
    "data['ceiling_height'].hist(bins=15, range =(0,15))\n",
    "\n",
    "plt.xlabel('Высота потолков')\n",
    "plt.ylabel('Количество квартир')\n",
    "#print(data['ceiling_height'].value_counts())\n",
    "plt.show()\n",
    "\n",
    "data['ceiling_height'].hist(bins=15, range =(2,5))\n",
    "plt.xlabel('Высота потолков')\n",
    "plt.ylabel('Количество квартир')\n",
    "plt.show()\n",
    "\n",
    "\n",
    "data['ceiling_height'].describe()"
   ]
  },
  {
   "cell_type": "markdown",
   "metadata": {},
   "source": [
    "**Вывод:**\n",
    "\n",
    "Видно из графика, что в основном на рынке представлены квартиры высотой потолка 2,5-3 метра.Есть несколько квартир с высотой потолка более 4 м. Есть анимальная  высота потолка 100 м. Скорей всего это ошибка и это общая высота дома. "
   ]
  },
  {
   "cell_type": "markdown",
   "metadata": {},
   "source": [
    "### Изучим время продажи квартиры. Постройте гистограмму. Посчитайте среднее и медиану. Опишите, сколько обычно занимает продажа. "
   ]
  },
  {
   "cell_type": "code",
   "execution_count": 21,
   "metadata": {},
   "outputs": [
    {
     "data": {
      "text/plain": [
       "count    20394.000000\n",
       "mean       180.741395\n",
       "std        219.732782\n",
       "min          1.000000\n",
       "25%         45.000000\n",
       "50%         95.000000\n",
       "75%        231.000000\n",
       "max       1580.000000\n",
       "Name: days_exposition, dtype: float64"
      ]
     },
     "execution_count": 21,
     "metadata": {},
     "output_type": "execute_result"
    }
   ],
   "source": [
    "data['days_exposition'].describe()"
   ]
  },
  {
   "cell_type": "markdown",
   "metadata": {},
   "source": [
    "Медианное значение: 95 дней\n",
    "\n",
    "Cреднее значение: 180 дней\n",
    "\n",
    "Самая быстрая продажа: 1 день.\n",
    "\n",
    "Свмая долгая продажа: 1580 дней, т.е. больше 4х лет."
   ]
  },
  {
   "cell_type": "code",
   "execution_count": 22,
   "metadata": {},
   "outputs": [
    {
     "data": {
      "image/png": "[encoded data removed]",
      "text/plain": [
       "<Figure size 432x288 with 1 Axes>"
      ]
     },
     "metadata": {
      "needs_background": "light"
     },
     "output_type": "display_data"
    }
   ],
   "source": [
    "data['days_exposition'].hist(bins=20, range =(0,1000))\n",
    "plt.xlabel('Время продажи')\n",
    "plt.ylabel('Количество квартир')\n",
    "\n",
    "plt.show()\n"
   ]
  },
  {
   "cell_type": "code",
   "execution_count": 23,
   "metadata": {
    "scrolled": true
   },
   "outputs": [
    {
     "data": {
      "image/png": "[encoded data removed]",
      "text/plain": [
       "<Figure size 360x360 with 1 Axes>"
      ]
     },
     "metadata": {
      "needs_background": "light"
     },
     "output_type": "display_data"
    }
   ],
   "source": [
    "import matplotlib.pyplot as plt\n",
    "\n",
    "data.boxplot(column = 'days_exposition', figsize=(5,5)) \n",
    "plt.show()\n"
   ]
  },
  {
   "cell_type": "markdown",
   "metadata": {},
   "source": [
    "Вывод:\n",
    "    \n",
    "Основные продажи проходят за 200 дней. Нормальный разброс согласно boxplot 450 дней. Выше уже очень долго. \n",
    "Аномально быстрых продаж нет. Думаю если квартиру продали за 1 день это хорошо."
   ]
  },
  {
   "cell_type": "markdown",
   "metadata": {},
   "source": [
    "Уберем редкие и выбивающиеся значения. Согласно boxplot это квартиры которые продаются более 450 дней."
   ]
  },
  {
   "cell_type": "code",
   "execution_count": 24,
   "metadata": {},
   "outputs": [
    {
     "data": {
      "image/png": "[encoded data removed]",
      "text/plain": [
       "<Figure size 432x288 with 1 Axes>"
      ]
     },
     "metadata": {
      "needs_background": "light"
     },
     "output_type": "display_data"
    }
   ],
   "source": [
    "too_slow = data.query('days_exposition < 450')\n",
    "too_slow.hist('days_exposition', bins=50, range =(0,400))\n",
    "plt.xlabel('Время продажи')\n",
    "plt.ylabel('Количество квартир')\n",
    "\n",
    "\n",
    "plt.show()\n",
    "\n"
   ]
  },
  {
   "cell_type": "markdown",
   "metadata": {},
   "source": [
    "Видно, что есть аномольно большое кол-во продаж. Рассмотрим по подробнее."
   ]
  },
  {
   "cell_type": "code",
   "execution_count": 25,
   "metadata": {
    "scrolled": false
   },
   "outputs": [
    {
     "data": {
      "image/png": "[encoded data removed]",
      "text/plain": [
       "<Figure size 432x288 with 1 Axes>"
      ]
     },
     "metadata": {
      "needs_background": "light"
     },
     "output_type": "display_data"
    }
   ],
   "source": [
    "too_slow.hist('days_exposition', bins=40, range =(0,70))\n",
    "plt.xlabel('Время продажи')\n",
    "plt.ylabel('Количество квартир')\n",
    "\n",
    "plt.show()\n"
   ]
  },
  {
   "cell_type": "markdown",
   "metadata": {},
   "source": [
    "Вывод: \n",
    "    \n",
    "Видим, что на 45 и 60 день квартиры продаются лучше всего. Возможно в эти дни объявления поднимаются на верхние позиции в поиске.    "
   ]
  },
  {
   "cell_type": "markdown",
   "metadata": {},
   "source": [
    "### Рассмотрим какие факторы больше всего влияют на стоимость квартиры?  \n"
   ]
  },
  {
   "cell_type": "markdown",
   "metadata": {},
   "source": [
    "#### Изучим, зависит ли цена от квадратного метра."
   ]
  },
  {
   "cell_type": "code",
   "execution_count": 26,
   "metadata": {},
   "outputs": [
    {
     "data": {
      "image/png": "[encoded data removed]",
      "text/plain": [
       "<Figure size 432x288 with 1 Axes>"
      ]
     },
     "metadata": {
      "needs_background": "light"
     },
     "output_type": "display_data"
    }
   ],
   "source": [
    "#data.pivot_table(index='total_area', values='last_price').plot(grid=True, figsize=(10, 5))\n",
    "plt.show()\n",
    "data.plot(x='last_price', y='total_area', style='o', kind='scatter', alpha=1)\n",
    "plt.show()\n",
    "   "
   ]
  },
  {
   "cell_type": "markdown",
   "metadata": {},
   "source": [
    "Вывод:  \n",
    "\n",
    "Прослеживается прямая зависимость между метражом и ценой квартиры. Но мы так же видим, что самые дорогие квартиры не обязательного большого метража."
   ]
  },
  {
   "cell_type": "markdown",
   "metadata": {},
   "source": [
    "#### Изучим, зависит ли цена от числа комнат."
   ]
  },
  {
   "cell_type": "code",
   "execution_count": 27,
   "metadata": {},
   "outputs": [
    {
     "data": {
      "text/plain": [
       "1     8004\n",
       "2     7897\n",
       "3     5779\n",
       "4     1172\n",
       "5      325\n",
       "0      194\n",
       "6      104\n",
       "7       59\n",
       "8       12\n",
       "9        8\n",
       "10       3\n",
       "11       2\n",
       "14       2\n",
       "19       1\n",
       "16       1\n",
       "12       1\n",
       "15       1\n",
       "Name: rooms, dtype: int64"
      ]
     },
     "execution_count": 27,
     "metadata": {},
     "output_type": "execute_result"
    }
   ],
   "source": [
    "data['rooms'].value_counts() # Оценим кол-во комнат в квартирах, которые представлены к продаже."
   ]
  },
  {
   "cell_type": "code",
   "execution_count": 28,
   "metadata": {},
   "outputs": [
    {
     "data": {
      "image/png": "[encoded data removed]",
      "text/plain": [
       "<Figure size 1440x360 with 1 Axes>"
      ]
     },
     "metadata": {
      "needs_background": "light"
     },
     "output_type": "display_data"
    },
    {
     "data": {
      "image/png": "[encoded data removed]",
      "text/plain": [
       "<Figure size 432x288 with 1 Axes>"
      ]
     },
     "metadata": {
      "needs_background": "light"
     },
     "output_type": "display_data"
    }
   ],
   "source": [
    "# Разобъем квартиры на группы по количеству комнат.\n",
    "def rooms(quantity):\n",
    "    if quantity <= 1:\n",
    "        return 'однокомнатные и студии'\n",
    "    if quantity == 2:\n",
    "        return 'Двухкомнатная'\n",
    "    if quantity == 3:\n",
    "        return 'Трехкомнатная'\n",
    "    if quantity == 4:\n",
    "        return 'Четырехкомнатная' \n",
    "    if quantity == 5:\n",
    "        return 'пятикомнатная' \n",
    "    return 'Многокомнатная'\n",
    "data['rooms_quantity'] = data['rooms'].apply(rooms)\n",
    "data['rooms_quantity'].value_counts()\n",
    "\n",
    "\n",
    "data.pivot_table(index='rooms_quantity', values='last_price').plot(grid=True, figsize=(20, 5))\n",
    "plt.show()\n",
    "\n",
    "data['rooms_quantity'].value_counts().plot(kind='bar')\n",
    "plt.show()\n",
    "\n"
   ]
  },
  {
   "cell_type": "markdown",
   "metadata": {},
   "source": [
    "Вывод:\n",
    "\n",
    "Все закономерно. На рынке больше всего студий и однокомнатных квартир. Цена на них ниже чем на все остальные. Многокомнатных квартир на рынке меньше всего и они дорожен всех."
   ]
  },
  {
   "cell_type": "markdown",
   "metadata": {},
   "source": [
    "#### Изучим, зависит ли цена от этажа (первого или последнего)"
   ]
  },
  {
   "cell_type": "code",
   "execution_count": 29,
   "metadata": {},
   "outputs": [
    {
     "data": {
      "image/png": "[encoded data removed]",
      "text/plain": [
       "<Figure size 1440x360 with 1 Axes>"
      ]
     },
     "metadata": {
      "needs_background": "light"
     },
     "output_type": "display_data"
    },
    {
     "data": {
      "image/png": "[encoded data removed]",
      "text/plain": [
       "<Figure size 432x288 with 1 Axes>"
      ]
     },
     "metadata": {
      "needs_background": "light"
     },
     "output_type": "display_data"
    }
   ],
   "source": [
    "data.pivot_table(index='floor_group', values='last_price').plot(grid=True, figsize=(20, 5))\n",
    "plt.show()\n",
    "\n",
    "data['floor_group'].value_counts().plot(kind='bar')\n",
    "plt.show()"
   ]
  },
  {
   "cell_type": "markdown",
   "metadata": {},
   "source": [
    "Вывод:\n",
    "    \n",
    "На рынке больше всего квартир  с этажами отличными от первого и последнего. При этом цена на последнии этажи выше всего. И самые дешевые квартиры находятся на первом этаже."
   ]
  },
  {
   "cell_type": "markdown",
   "metadata": {},
   "source": [
    "#### Изучим, зависит ли цена от удалённости от центра. \n"
   ]
  },
  {
   "cell_type": "code",
   "execution_count": 30,
   "metadata": {},
   "outputs": [
    {
     "data": {
      "image/png": "[encoded data removed]",
      "text/plain": [
       "<Figure size 432x288 with 1 Axes>"
      ]
     },
     "metadata": {
      "needs_background": "light"
     },
     "output_type": "display_data"
    }
   ],
   "source": [
    "data.plot(x='last_price', y='city_сenters_nearest', style='o', kind='scatter', alpha=1)\n",
    "plt.show()"
   ]
  },
  {
   "cell_type": "code",
   "execution_count": 31,
   "metadata": {},
   "outputs": [
    {
     "data": {
      "text/plain": [
       "-0.2063531426431107"
      ]
     },
     "metadata": {},
     "output_type": "display_data"
    }
   ],
   "source": [
    "display (data['last_price'].corr(data['city_сenters_nearest']))"
   ]
  },
  {
   "cell_type": "markdown",
   "metadata": {},
   "source": [
    "Вывод:\n",
    "    \n",
    "Из графика видно, что квартиры в центре имеют разную стоимость. Есть как дорогие так и дешевее варианты. При этом мы видим, что чем дальше от центра тем меньше квартир с высокой стоимость. На конечную стоимость квартиры влияют многие факторы, качество ремонта, состояние дома, район, близость школы или магазинов. Но одно мы можем сказать, точно в центре можно продать квартиру дороже. Коэффициент корреляции подтверждает эту гипотезу."
   ]
  },
  {
   "cell_type": "markdown",
   "metadata": {},
   "source": [
    "#### Изучим, зависит ли цена от от даты размещения: дня недели, месяца и года"
   ]
  },
  {
   "cell_type": "code",
   "execution_count": 32,
   "metadata": {},
   "outputs": [
    {
     "data": {
      "image/png": "[encoded data removed]",
      "text/plain": [
       "<Figure size 576x432 with 2 Axes>"
      ]
     },
     "metadata": {
      "needs_background": "light"
     },
     "output_type": "display_data"
    }
   ],
   "source": [
    "data.plot(x='year', y='last_price', gridsize=20, kind='hexbin', sharex=False, figsize=(8, 6) )\n",
    "plt.show()"
   ]
  },
  {
   "cell_type": "code",
   "execution_count": 33,
   "metadata": {},
   "outputs": [
    {
     "data": {
      "image/png": "[encoded data removed]",
      "text/plain": [
       "<Figure size 576x432 with 2 Axes>"
      ]
     },
     "metadata": {
      "needs_background": "light"
     },
     "output_type": "display_data"
    }
   ],
   "source": [
    "data.plot(x='weekday', y='last_price',  gridsize=20, kind='hexbin', sharex=False, figsize=(8, 6))\n",
    "\n",
    "plt.show()"
   ]
  },
  {
   "cell_type": "code",
   "execution_count": 34,
   "metadata": {},
   "outputs": [
    {
     "data": {
      "image/png": "[encoded data removed]",
      "text/plain": [
       "<Figure size 576x432 with 2 Axes>"
      ]
     },
     "metadata": {
      "needs_background": "light"
     },
     "output_type": "display_data"
    }
   ],
   "source": [
    "data.plot(x='month', y='last_price', gridsize=20, kind='hexbin', sharex=False, figsize=(8, 6))\n",
    "plt.show()\n",
    "\n"
   ]
  },
  {
   "cell_type": "markdown",
   "metadata": {},
   "source": [
    "Вывод:\n",
    "\n",
    "Самые дорогие квартиры были размещены: 2018.03.02\n",
    "\n",
    "Самые дешевые квартиры были размещены: 2016.06.05\n",
    "\n",
    "Такая динамика рынка я думаю связана с общей экономической ситацией в стране. Кризис 2015 -2016 г.(санкции, цены на нефть)\n",
    " и подъем экономики в 2018 г"
   ]
  },
  {
   "cell_type": "markdown",
   "metadata": {},
   "source": [
    "#### \"Выберем 10 населённых пунктов с наибольшим числом объявлений. Посчитаем среднюю цену квадратного метра в этих населённых пунктах. Выделите населённые пункты с самой высокой и низкой стоимостью жилья. "
   ]
  },
  {
   "cell_type": "code",
   "execution_count": 35,
   "metadata": {},
   "outputs": [
    {
     "data": {
      "text/plain": [
       "Санкт-Петербург      15651\n",
       "посёлок Мурино         520\n",
       "посёлок Шушары         439\n",
       "Всеволожск             398\n",
       "Пушкин                 369\n",
       "Колпино                338\n",
       "посёлок Парголово      327\n",
       "Гатчина                307\n",
       "деревня Кудрово        299\n",
       "Выборг                 237\n",
       "Name: locality_name, dtype: int64"
      ]
     },
     "metadata": {},
     "output_type": "display_data"
    }
   ],
   "source": [
    "top_ten_сity = data['locality_name'].value_counts().head(10)\n",
    "\n",
    "display (top_ten_сity)\n"
   ]
  },
  {
   "cell_type": "code",
   "execution_count": 36,
   "metadata": {},
   "outputs": [
    {
     "data": {
      "text/plain": [
       "'средняя цена квадратного метра:'"
      ]
     },
     "metadata": {},
     "output_type": "display_data"
    },
    {
     "data": {
      "text/plain": [
       "109067.07836907599"
      ]
     },
     "metadata": {},
     "output_type": "display_data"
    },
    {
     "data": {
      "text/html": [
       "<div>\n",
       "<style scoped>\n",
       "    .dataframe tbody tr th:only-of-type {\n",
       "        vertical-align: middle;\n",
       "    }\n",
       "\n",
       "    .dataframe tbody tr th {\n",
       "        vertical-align: top;\n",
       "    }\n",
       "\n",
       "    .dataframe thead th {\n",
       "        text-align: right;\n",
       "    }\n",
       "</style>\n",
       "<table border=\"1\" class=\"dataframe\">\n",
       "  <thead>\n",
       "    <tr style=\"text-align: right;\">\n",
       "      <th></th>\n",
       "      <th>metr_price</th>\n",
       "    </tr>\n",
       "    <tr>\n",
       "      <th>locality_name</th>\n",
       "      <th></th>\n",
       "    </tr>\n",
       "  </thead>\n",
       "  <tbody>\n",
       "    <tr>\n",
       "      <th>Санкт-Петербург</th>\n",
       "      <td>114868.433902</td>\n",
       "    </tr>\n",
       "    <tr>\n",
       "      <th>Пушкин</th>\n",
       "      <td>103125.373984</td>\n",
       "    </tr>\n",
       "    <tr>\n",
       "      <th>деревня Кудрово</th>\n",
       "      <td>92473.086957</td>\n",
       "    </tr>\n",
       "    <tr>\n",
       "      <th>посёлок Парголово</th>\n",
       "      <td>90175.489297</td>\n",
       "    </tr>\n",
       "    <tr>\n",
       "      <th>посёлок Мурино</th>\n",
       "      <td>85672.803846</td>\n",
       "    </tr>\n",
       "    <tr>\n",
       "      <th>посёлок Шушары</th>\n",
       "      <td>78550.883827</td>\n",
       "    </tr>\n",
       "    <tr>\n",
       "      <th>Колпино</th>\n",
       "      <td>75424.150888</td>\n",
       "    </tr>\n",
       "    <tr>\n",
       "      <th>Гатчина</th>\n",
       "      <td>68745.693811</td>\n",
       "    </tr>\n",
       "    <tr>\n",
       "      <th>Всеволожск</th>\n",
       "      <td>68654.007538</td>\n",
       "    </tr>\n",
       "    <tr>\n",
       "      <th>Выборг</th>\n",
       "      <td>58141.489451</td>\n",
       "    </tr>\n",
       "  </tbody>\n",
       "</table>\n",
       "</div>"
      ],
      "text/plain": [
       "                      metr_price\n",
       "locality_name                   \n",
       "Санкт-Петербург    114868.433902\n",
       "Пушкин             103125.373984\n",
       "деревня Кудрово     92473.086957\n",
       "посёлок Парголово   90175.489297\n",
       "посёлок Мурино      85672.803846\n",
       "посёлок Шушары      78550.883827\n",
       "Колпино             75424.150888\n",
       "Гатчина             68745.693811\n",
       "Всеволожск          68654.007538\n",
       "Выборг              58141.489451"
      ]
     },
     "metadata": {},
     "output_type": "display_data"
    }
   ],
   "source": [
    "top_ten_сity_group = data[data['locality_name'].isin(top_ten_сity.index)]\n",
    "top_ten_mean_price=top_ten_сity_group['metr_price'].mean()\n",
    "display ('средняя цена квадратного метра:', top_ten_mean_price)\n",
    "display ()\n",
    "\n",
    "#print (top_ten_сity_group.pivot_table(index='locality_name', values='metr_price'))\n",
    "top_ten_сity_metr_price = top_ten_сity_group.pivot_table(index='locality_name', values='metr_price')\n",
    "top_ten_сity_metr_price = top_ten_сity_metr_price.sort_values(by='metr_price',ascending=False )\n",
    "display (top_ten_сity_metr_price)                                       "
   ]
  },
  {
   "cell_type": "markdown",
   "metadata": {},
   "source": [
    "Вывод:\n",
    "\n",
    "Как и ожидалось самая дорогая недвижимость находится в г. Санкт-Петербург и в его ближайших пригородах(Пушкин, Кудрово, Парголово, Мурино, Шушары), которын по сути являются частью Санкт-Петербурга.\n",
    "\n",
    "Дешевле всего(из топ 10, а не из всего списка) недвижимость  в г. Выборг, т.к. он наиболее удален от Санкт-Петербурга\n"
   ]
  },
  {
   "cell_type": "markdown",
   "metadata": {},
   "source": [
    "#### Изучим предложения квартир: для каждой квартиры есть информация о расстоянии до центра. Выделим квартиры в Санкт-Петербурге (*'locality_name'*). Наша задача — выяснить, какая область входит в центр. "
   ]
  },
  {
   "cell_type": "code",
   "execution_count": 37,
   "metadata": {},
   "outputs": [
    {
     "name": "stderr",
     "output_type": "stream",
     "text": [
      "/tmp/ipykernel_32/3769725523.py:6: SettingWithCopyWarning: \n",
      "A value is trying to be set on a copy of a slice from a DataFrame.\n",
      "Try using .loc[row_indexer,col_indexer] = value instead\n",
      "\n",
      "See the caveats in the documentation: https://pandas.pydata.org/pandas-docs/stable/user_guide/indexing.html#returning-a-view-versus-a-copy\n",
      "  spb_center ['city_centers_km' ] = spb_center['city_сenters_nearest']/1000\n",
      "/tmp/ipykernel_32/3769725523.py:7: SettingWithCopyWarning: \n",
      "A value is trying to be set on a copy of a slice from a DataFrame.\n",
      "Try using .loc[row_indexer,col_indexer] = value instead\n",
      "\n",
      "See the caveats in the documentation: https://pandas.pydata.org/pandas-docs/stable/user_guide/indexing.html#returning-a-view-versus-a-copy\n",
      "  spb_center ['city_centers_km'] = spb_center ['city_centers_km'].round()\n"
     ]
    }
   ],
   "source": [
    "# Выделим квартиры в Санкт-Петербурге\n",
    "spb_center = data.query('locality_name == \"Санкт-Петербург\"')\n",
    "#print (spb_center)\n",
    "\n",
    "# Создадим столбец с расстоянием до центра в километрах: округлим до целых значений.\n",
    "spb_center ['city_centers_km' ] = spb_center['city_сenters_nearest']/1000\n",
    "spb_center ['city_centers_km'] = spb_center ['city_centers_km'].round()\n",
    "#print(data)\n",
    "\n"
   ]
  },
  {
   "cell_type": "code",
   "execution_count": 38,
   "metadata": {},
   "outputs": [
    {
     "data": {
      "image/png": "[encoded data removed]",
      "text/plain": [
       "<Figure size 1080x360 with 1 Axes>"
      ]
     },
     "metadata": {
      "needs_background": "light"
     },
     "output_type": "display_data"
    },
    {
     "data": {
      "image/png": "[encoded data removed]",
      "text/plain": [
       "<Figure size 1080x360 with 1 Axes>"
      ]
     },
     "metadata": {
      "needs_background": "light"
     },
     "output_type": "display_data"
    }
   ],
   "source": [
    "#Посчитаем среднюю цену для каждого километра.\n",
    "spb_center.pivot_table(index='city_centers_km', values='last_price', aggfunc = 'mean').plot(grid=True, figsize=(15, 5))\n",
    "plt.show()\n",
    "\n",
    "spb_center.pivot_table(index='city_centers_km', values='last_price', aggfunc = 'mean').plot(grid=True, xlim=(0,10), figsize=(15, 5))\n",
    "plt.show()\n",
    "\n",
    "\n"
   ]
  },
  {
   "cell_type": "markdown",
   "metadata": {},
   "source": [
    "Вывод:\n",
    "    \n",
    "По графику видно, что стоимость при отдалении от центра больше 7 км начинает падать. Значит область от 0 до 7 км будем считать центром."
   ]
  },
  {
   "cell_type": "markdown",
   "metadata": {},
   "source": [
    "###  Выделим сегмент квартир в центре. Проанализируем эту территорию и изучите следующие параметры: площадь, цена, число комнат, высота потолков."
   ]
  },
  {
   "cell_type": "code",
   "execution_count": 39,
   "metadata": {},
   "outputs": [
    {
     "data": {
      "text/html": [
       "<div>\n",
       "<style scoped>\n",
       "    .dataframe tbody tr th:only-of-type {\n",
       "        vertical-align: middle;\n",
       "    }\n",
       "\n",
       "    .dataframe tbody tr th {\n",
       "        vertical-align: top;\n",
       "    }\n",
       "\n",
       "    .dataframe thead th {\n",
       "        text-align: right;\n",
       "    }\n",
       "</style>\n",
       "<table border=\"1\" class=\"dataframe\">\n",
       "  <thead>\n",
       "    <tr style=\"text-align: right;\">\n",
       "      <th></th>\n",
       "      <th>total_images</th>\n",
       "      <th>last_price</th>\n",
       "      <th>total_area</th>\n",
       "      <th>first_day_exposition</th>\n",
       "      <th>rooms</th>\n",
       "      <th>ceiling_height</th>\n",
       "      <th>floors_total</th>\n",
       "      <th>living_area</th>\n",
       "      <th>floor</th>\n",
       "      <th>is_apartment</th>\n",
       "      <th>...</th>\n",
       "      <th>days_exposition</th>\n",
       "      <th>metr_price</th>\n",
       "      <th>year</th>\n",
       "      <th>weekday</th>\n",
       "      <th>month</th>\n",
       "      <th>floor_group</th>\n",
       "      <th>area_ratio</th>\n",
       "      <th>kitchen_ratio</th>\n",
       "      <th>rooms_quantity</th>\n",
       "      <th>city_centers_km</th>\n",
       "    </tr>\n",
       "  </thead>\n",
       "  <tbody>\n",
       "    <tr>\n",
       "      <th>3</th>\n",
       "      <td>0</td>\n",
       "      <td>64900000.0</td>\n",
       "      <td>159.00</td>\n",
       "      <td>2015-07-24</td>\n",
       "      <td>3</td>\n",
       "      <td>2.65</td>\n",
       "      <td>14</td>\n",
       "      <td>90.816648</td>\n",
       "      <td>9</td>\n",
       "      <td>NaN</td>\n",
       "      <td>...</td>\n",
       "      <td>424.0</td>\n",
       "      <td>408176</td>\n",
       "      <td>2015</td>\n",
       "      <td>4</td>\n",
       "      <td>7</td>\n",
       "      <td>другой</td>\n",
       "      <td>57</td>\n",
       "      <td>17</td>\n",
       "      <td>Трехкомнатная</td>\n",
       "      <td>7.0</td>\n",
       "    </tr>\n",
       "    <tr>\n",
       "      <th>24</th>\n",
       "      <td>8</td>\n",
       "      <td>6500000.0</td>\n",
       "      <td>97.20</td>\n",
       "      <td>2015-10-31</td>\n",
       "      <td>2</td>\n",
       "      <td>2.65</td>\n",
       "      <td>3</td>\n",
       "      <td>46.500000</td>\n",
       "      <td>1</td>\n",
       "      <td>NaN</td>\n",
       "      <td>...</td>\n",
       "      <td>265.0</td>\n",
       "      <td>66872</td>\n",
       "      <td>2015</td>\n",
       "      <td>5</td>\n",
       "      <td>10</td>\n",
       "      <td>первый</td>\n",
       "      <td>47</td>\n",
       "      <td>20</td>\n",
       "      <td>Двухкомнатная</td>\n",
       "      <td>2.0</td>\n",
       "    </tr>\n",
       "    <tr>\n",
       "      <th>35</th>\n",
       "      <td>6</td>\n",
       "      <td>15500000.0</td>\n",
       "      <td>149.00</td>\n",
       "      <td>2017-06-26</td>\n",
       "      <td>5</td>\n",
       "      <td>2.65</td>\n",
       "      <td>5</td>\n",
       "      <td>104.000000</td>\n",
       "      <td>4</td>\n",
       "      <td>NaN</td>\n",
       "      <td>...</td>\n",
       "      <td>644.0</td>\n",
       "      <td>104026</td>\n",
       "      <td>2017</td>\n",
       "      <td>0</td>\n",
       "      <td>6</td>\n",
       "      <td>другой</td>\n",
       "      <td>69</td>\n",
       "      <td>11</td>\n",
       "      <td>пятикомнатная</td>\n",
       "      <td>4.0</td>\n",
       "    </tr>\n",
       "    <tr>\n",
       "      <th>51</th>\n",
       "      <td>7</td>\n",
       "      <td>45000000.0</td>\n",
       "      <td>161.00</td>\n",
       "      <td>2017-10-17</td>\n",
       "      <td>3</td>\n",
       "      <td>3.20</td>\n",
       "      <td>8</td>\n",
       "      <td>38.000000</td>\n",
       "      <td>4</td>\n",
       "      <td>NaN</td>\n",
       "      <td>...</td>\n",
       "      <td>541.0</td>\n",
       "      <td>279503</td>\n",
       "      <td>2017</td>\n",
       "      <td>1</td>\n",
       "      <td>10</td>\n",
       "      <td>другой</td>\n",
       "      <td>23</td>\n",
       "      <td>31</td>\n",
       "      <td>Трехкомнатная</td>\n",
       "      <td>7.0</td>\n",
       "    </tr>\n",
       "    <tr>\n",
       "      <th>52</th>\n",
       "      <td>20</td>\n",
       "      <td>11795000.0</td>\n",
       "      <td>136.00</td>\n",
       "      <td>2017-09-22</td>\n",
       "      <td>6</td>\n",
       "      <td>3.00</td>\n",
       "      <td>2</td>\n",
       "      <td>94.000000</td>\n",
       "      <td>2</td>\n",
       "      <td>NaN</td>\n",
       "      <td>...</td>\n",
       "      <td>NaN</td>\n",
       "      <td>86727</td>\n",
       "      <td>2017</td>\n",
       "      <td>4</td>\n",
       "      <td>9</td>\n",
       "      <td>последний</td>\n",
       "      <td>69</td>\n",
       "      <td>8</td>\n",
       "      <td>Многокомнатная</td>\n",
       "      <td>7.0</td>\n",
       "    </tr>\n",
       "    <tr>\n",
       "      <th>...</th>\n",
       "      <td>...</td>\n",
       "      <td>...</td>\n",
       "      <td>...</td>\n",
       "      <td>...</td>\n",
       "      <td>...</td>\n",
       "      <td>...</td>\n",
       "      <td>...</td>\n",
       "      <td>...</td>\n",
       "      <td>...</td>\n",
       "      <td>...</td>\n",
       "      <td>...</td>\n",
       "      <td>...</td>\n",
       "      <td>...</td>\n",
       "      <td>...</td>\n",
       "      <td>...</td>\n",
       "      <td>...</td>\n",
       "      <td>...</td>\n",
       "      <td>...</td>\n",
       "      <td>...</td>\n",
       "      <td>...</td>\n",
       "      <td>...</td>\n",
       "    </tr>\n",
       "    <tr>\n",
       "      <th>23665</th>\n",
       "      <td>11</td>\n",
       "      <td>4250000.0</td>\n",
       "      <td>47.00</td>\n",
       "      <td>2016-05-20</td>\n",
       "      <td>1</td>\n",
       "      <td>2.65</td>\n",
       "      <td>6</td>\n",
       "      <td>18.200000</td>\n",
       "      <td>1</td>\n",
       "      <td>False</td>\n",
       "      <td>...</td>\n",
       "      <td>131.0</td>\n",
       "      <td>90425</td>\n",
       "      <td>2016</td>\n",
       "      <td>4</td>\n",
       "      <td>5</td>\n",
       "      <td>первый</td>\n",
       "      <td>38</td>\n",
       "      <td>31</td>\n",
       "      <td>однокомнатные и студии</td>\n",
       "      <td>5.0</td>\n",
       "    </tr>\n",
       "    <tr>\n",
       "      <th>23681</th>\n",
       "      <td>13</td>\n",
       "      <td>5250000.0</td>\n",
       "      <td>43.00</td>\n",
       "      <td>2018-05-11</td>\n",
       "      <td>2</td>\n",
       "      <td>2.50</td>\n",
       "      <td>5</td>\n",
       "      <td>29.000000</td>\n",
       "      <td>2</td>\n",
       "      <td>NaN</td>\n",
       "      <td>...</td>\n",
       "      <td>80.0</td>\n",
       "      <td>122093</td>\n",
       "      <td>2018</td>\n",
       "      <td>4</td>\n",
       "      <td>5</td>\n",
       "      <td>другой</td>\n",
       "      <td>67</td>\n",
       "      <td>13</td>\n",
       "      <td>Двухкомнатная</td>\n",
       "      <td>7.0</td>\n",
       "    </tr>\n",
       "    <tr>\n",
       "      <th>23690</th>\n",
       "      <td>3</td>\n",
       "      <td>5500000.0</td>\n",
       "      <td>52.00</td>\n",
       "      <td>2018-07-19</td>\n",
       "      <td>2</td>\n",
       "      <td>2.65</td>\n",
       "      <td>5</td>\n",
       "      <td>31.000000</td>\n",
       "      <td>2</td>\n",
       "      <td>NaN</td>\n",
       "      <td>...</td>\n",
       "      <td>15.0</td>\n",
       "      <td>105769</td>\n",
       "      <td>2018</td>\n",
       "      <td>3</td>\n",
       "      <td>7</td>\n",
       "      <td>другой</td>\n",
       "      <td>59</td>\n",
       "      <td>11</td>\n",
       "      <td>Двухкомнатная</td>\n",
       "      <td>6.0</td>\n",
       "    </tr>\n",
       "    <tr>\n",
       "      <th>23691</th>\n",
       "      <td>11</td>\n",
       "      <td>9470000.0</td>\n",
       "      <td>72.90</td>\n",
       "      <td>2016-10-13</td>\n",
       "      <td>2</td>\n",
       "      <td>2.75</td>\n",
       "      <td>25</td>\n",
       "      <td>40.300000</td>\n",
       "      <td>7</td>\n",
       "      <td>NaN</td>\n",
       "      <td>...</td>\n",
       "      <td>519.0</td>\n",
       "      <td>129903</td>\n",
       "      <td>2016</td>\n",
       "      <td>3</td>\n",
       "      <td>10</td>\n",
       "      <td>другой</td>\n",
       "      <td>55</td>\n",
       "      <td>14</td>\n",
       "      <td>Двухкомнатная</td>\n",
       "      <td>4.0</td>\n",
       "    </tr>\n",
       "    <tr>\n",
       "      <th>23694</th>\n",
       "      <td>9</td>\n",
       "      <td>9700000.0</td>\n",
       "      <td>133.81</td>\n",
       "      <td>2017-03-21</td>\n",
       "      <td>3</td>\n",
       "      <td>3.70</td>\n",
       "      <td>5</td>\n",
       "      <td>73.300000</td>\n",
       "      <td>3</td>\n",
       "      <td>NaN</td>\n",
       "      <td>...</td>\n",
       "      <td>NaN</td>\n",
       "      <td>72490</td>\n",
       "      <td>2017</td>\n",
       "      <td>1</td>\n",
       "      <td>3</td>\n",
       "      <td>другой</td>\n",
       "      <td>54</td>\n",
       "      <td>10</td>\n",
       "      <td>Трехкомнатная</td>\n",
       "      <td>4.0</td>\n",
       "    </tr>\n",
       "  </tbody>\n",
       "</table>\n",
       "<p>3518 rows × 31 columns</p>\n",
       "</div>"
      ],
      "text/plain": [
       "       total_images  last_price  total_area first_day_exposition  rooms  \\\n",
       "3                 0  64900000.0      159.00           2015-07-24      3   \n",
       "24                8   6500000.0       97.20           2015-10-31      2   \n",
       "35                6  15500000.0      149.00           2017-06-26      5   \n",
       "51                7  45000000.0      161.00           2017-10-17      3   \n",
       "52               20  11795000.0      136.00           2017-09-22      6   \n",
       "...             ...         ...         ...                  ...    ...   \n",
       "23665            11   4250000.0       47.00           2016-05-20      1   \n",
       "23681            13   5250000.0       43.00           2018-05-11      2   \n",
       "23690             3   5500000.0       52.00           2018-07-19      2   \n",
       "23691            11   9470000.0       72.90           2016-10-13      2   \n",
       "23694             9   9700000.0      133.81           2017-03-21      3   \n",
       "\n",
       "       ceiling_height  floors_total  living_area  floor is_apartment  ...  \\\n",
       "3                2.65            14    90.816648      9          NaN  ...   \n",
       "24               2.65             3    46.500000      1          NaN  ...   \n",
       "35               2.65             5   104.000000      4          NaN  ...   \n",
       "51               3.20             8    38.000000      4          NaN  ...   \n",
       "52               3.00             2    94.000000      2          NaN  ...   \n",
       "...               ...           ...          ...    ...          ...  ...   \n",
       "23665            2.65             6    18.200000      1        False  ...   \n",
       "23681            2.50             5    29.000000      2          NaN  ...   \n",
       "23690            2.65             5    31.000000      2          NaN  ...   \n",
       "23691            2.75            25    40.300000      7          NaN  ...   \n",
       "23694            3.70             5    73.300000      3          NaN  ...   \n",
       "\n",
       "       days_exposition  metr_price  year  weekday month  floor_group  \\\n",
       "3                424.0      408176  2015        4     7       другой   \n",
       "24               265.0       66872  2015        5    10       первый   \n",
       "35               644.0      104026  2017        0     6       другой   \n",
       "51               541.0      279503  2017        1    10       другой   \n",
       "52                 NaN       86727  2017        4     9    последний   \n",
       "...                ...         ...   ...      ...   ...          ...   \n",
       "23665            131.0       90425  2016        4     5       первый   \n",
       "23681             80.0      122093  2018        4     5       другой   \n",
       "23690             15.0      105769  2018        3     7       другой   \n",
       "23691            519.0      129903  2016        3    10       другой   \n",
       "23694              NaN       72490  2017        1     3       другой   \n",
       "\n",
       "       area_ratio  kitchen_ratio          rooms_quantity  city_centers_km  \n",
       "3              57             17           Трехкомнатная              7.0  \n",
       "24             47             20           Двухкомнатная              2.0  \n",
       "35             69             11           пятикомнатная              4.0  \n",
       "51             23             31           Трехкомнатная              7.0  \n",
       "52             69              8          Многокомнатная              7.0  \n",
       "...           ...            ...                     ...              ...  \n",
       "23665          38             31  однокомнатные и студии              5.0  \n",
       "23681          67             13           Двухкомнатная              7.0  \n",
       "23690          59             11           Двухкомнатная              6.0  \n",
       "23691          55             14           Двухкомнатная              4.0  \n",
       "23694          54             10           Трехкомнатная              4.0  \n",
       "\n",
       "[3518 rows x 31 columns]"
      ]
     },
     "metadata": {},
     "output_type": "display_data"
    }
   ],
   "source": [
    "spb_center_segment = spb_center.query('city_centers_km<=7')\n",
    "display (spb_center_segment)"
   ]
  },
  {
   "cell_type": "markdown",
   "metadata": {},
   "source": [
    "#### Площадь\n",
    "\n"
   ]
  },
  {
   "cell_type": "code",
   "execution_count": 40,
   "metadata": {},
   "outputs": [
    {
     "data": {
      "image/png": "[encoded data removed]",
      "text/plain": [
       "<Figure size 1440x360 with 1 Axes>"
      ]
     },
     "metadata": {
      "needs_background": "light"
     },
     "output_type": "display_data"
    },
    {
     "data": {
      "image/png": "[encoded data removed]",
      "text/plain": [
       "<Figure size 432x288 with 1 Axes>"
      ]
     },
     "metadata": {
      "needs_background": "light"
     },
     "output_type": "display_data"
    },
    {
     "data": {
      "text/plain": [
       "'Коэффициент корреляции:'"
      ]
     },
     "metadata": {},
     "output_type": "display_data"
    },
    {
     "data": {
      "text/plain": [
       "0.6136073192218386"
      ]
     },
     "metadata": {},
     "output_type": "display_data"
    }
   ],
   "source": [
    "spb_center_segment.pivot_table(index='total_area', values='last_price').plot(grid=True, figsize=(20, 5))\n",
    "plt.show()\n",
    "\n",
    "\n",
    "spb_center_segment.plot(x='last_price', y='total_area', style='o', kind='scatter', alpha=1)\n",
    "plt.show()\n",
    "\n",
    "display ('Коэффициент корреляции:',spb_center_segment['last_price'].corr(spb_center_segment['total_area']))\n"
   ]
  },
  {
   "cell_type": "markdown",
   "metadata": {},
   "source": [
    "Вывод:\n",
    "    \n",
    "В центре на конечную стоимость как ожидалось влияет метраж. Не без исключение конечно. Коэффициент корреляции  это подтверждает.\n",
    "\n",
    "\n"
   ]
  },
  {
   "cell_type": "markdown",
   "metadata": {},
   "source": [
    "#### Число комнат"
   ]
  },
  {
   "cell_type": "code",
   "execution_count": 41,
   "metadata": {},
   "outputs": [
    {
     "data": {
      "image/png": "[encoded data removed]",
      "text/plain": [
       "<Figure size 1440x360 with 1 Axes>"
      ]
     },
     "metadata": {
      "needs_background": "light"
     },
     "output_type": "display_data"
    },
    {
     "data": {
      "image/png": "[encoded data removed]",
      "text/plain": [
       "<Figure size 432x288 with 1 Axes>"
      ]
     },
     "metadata": {
      "needs_background": "light"
     },
     "output_type": "display_data"
    }
   ],
   "source": [
    "spb_center_segment.pivot_table(index='rooms_quantity', values='last_price').plot(grid=True, figsize=(20, 5))\n",
    "plt.show()\n",
    "\n",
    "spb_center_segment['rooms_quantity'].value_counts().plot(kind='bar')\n",
    "plt.show()"
   ]
  },
  {
   "cell_type": "markdown",
   "metadata": {},
   "source": [
    "Вывод:\n",
    "    \n",
    "Как и везде, многокомнатные квартиры дороже всего. Студии и однокомнатные дешевле всех. Все закономерно. При этом в центра меньше всего студий и однокомнатных квартир, в то время как в предыдущих выборках именно студии были в большинстве. Больше всего в центре 3-х и 2-х комнатных квартир."
   ]
  },
  {
   "cell_type": "markdown",
   "metadata": {},
   "source": [
    "#### Высота потолков"
   ]
  },
  {
   "cell_type": "code",
   "execution_count": 42,
   "metadata": {},
   "outputs": [
    {
     "data": {
      "text/plain": [
       "count    3518.000000\n",
       "mean        2.954460\n",
       "std         0.737484\n",
       "min         2.400000\n",
       "25%         2.650000\n",
       "50%         2.800000\n",
       "75%         3.150000\n",
       "max        32.000000\n",
       "Name: ceiling_height, dtype: float64"
      ]
     },
     "execution_count": 42,
     "metadata": {},
     "output_type": "execute_result"
    }
   ],
   "source": [
    "spb_center_segment['ceiling_height'].describe()"
   ]
  },
  {
   "cell_type": "code",
   "execution_count": 43,
   "metadata": {},
   "outputs": [
    {
     "data": {
      "text/plain": [
       "count    23565.000000\n",
       "mean         2.724530\n",
       "std          0.991026\n",
       "min          1.000000\n",
       "25%          2.600000\n",
       "50%          2.650000\n",
       "75%          2.700000\n",
       "max        100.000000\n",
       "Name: ceiling_height, dtype: float64"
      ]
     },
     "execution_count": 43,
     "metadata": {},
     "output_type": "execute_result"
    }
   ],
   "source": [
    "data['ceiling_height'].describe()                                         "
   ]
  },
  {
   "cell_type": "code",
   "execution_count": 44,
   "metadata": {},
   "outputs": [
    {
     "data": {
      "image/png": "[encoded data removed]",
      "text/plain": [
       "<Figure size 1440x360 with 1 Axes>"
      ]
     },
     "metadata": {
      "needs_background": "light"
     },
     "output_type": "display_data"
    },
    {
     "data": {
      "text/plain": [
       "'Коэффициент корреляции:'"
      ]
     },
     "metadata": {},
     "output_type": "display_data"
    },
    {
     "data": {
      "text/plain": [
       "0.07070428202541311"
      ]
     },
     "metadata": {},
     "output_type": "display_data"
    }
   ],
   "source": [
    "spb_center_segment.pivot_table(index='ceiling_height', values='last_price').plot(grid=True, figsize=(20, 5))\n",
    "plt.show()\n",
    "\n",
    "display ('Коэффициент корреляции:',spb_center_segment['ceiling_height'].corr(spb_center_segment['last_price']))\n"
   ]
  },
  {
   "cell_type": "markdown",
   "metadata": {},
   "source": [
    "Вывод:\n",
    "    \n",
    "В целом при увеличении высоты потолка цена растет, но это явно не главный фактор конечной стоимости квартиры. Так же можем обратить внимание, что в центре медианное значение высоты потолка выше, чем во всем датафрейми, возможно это связано с тем, что в центре больше исторических зданий, где высота потолков выше.    "
   ]
  },
  {
   "cell_type": "markdown",
   "metadata": {},
   "source": [
    "### Выделим факторы, которые влияют на стоимость квартиры (число комнат, этаж, удалённость от центра, дата размещения объявления). "
   ]
  },
  {
   "cell_type": "markdown",
   "metadata": {},
   "source": []
  },
  {
   "cell_type": "code",
   "execution_count": 45,
   "metadata": {},
   "outputs": [],
   "source": [
    "# Факторы влияющие на стоимоть в центре Санкт-Петербурга\n",
    "#print ('Факторы влияющие на стоимость в центре Санкт-Петербурга')\n",
    "#print ('Коэффициент корреляции число комнат:',spb_center_segment['last_price'].corr(spb_center_segment['rooms']))\n",
    "#print ('Коэффициент корреляции этаж:',spb_center_segment['last_price'].corr(spb_center_segment['floor']))\n",
    "#print ('Коэффициент корреляции удаленность:',spb_center_segment['last_price'].corr(spb_center_segment['city_сenters_nearest']))\n",
    "#print ('Коэффициент корреляции дата:',spb_center_segment['last_price'].corr(spb_center_segment['days_exposition']))\n",
    "\n",
    "#print ()\n",
    " \n",
    "# Факторы влияющие на стоимоть в Санкт-Петербурга\n",
    "#print ('Факторы влияющие на стоимость в Санкт-Петербурга')\n",
    "#print ('Коэффициент корреляции число комнат:',spb_center['last_price'].corr(spb_center['rooms']))\n",
    "#print ('Коэффициент корреляции этаж:',spb_center['last_price'].corr(spb_center['floor']))\n",
    "#print ('Коэффициент корреляции удаленность:',spb_center['last_price'].corr(spb_center['city_сenters_nearest']))\n",
    "#print ('Коэффициент корреляции дата:',spb_center['last_price'].corr(spb_center['days_exposition']))\n",
    "\n",
    "\n",
    "# Факторы влияющие на стоимоть в Санкт-Петербурге\n",
    "\n",
    "\n",
    "#spb_center_sort = spb_center.pivot_table (index = 'last_price', values = ['rooms','floor','city_сenters_nearest','days_exposition'])\n",
    "#pd.plotting.scatter_matrix(spb_center_sort, figsize=(9,9))\n",
    "#spb_center_sort.corr()\n",
    "\n",
    "#spb_center_segment_sort  = spb_center_segment.pivot_table (index = 'last_price', values = ['rooms','floor','city_сenters_nearest','days_exposition'])\n",
    "#pd.plotting.scatter_matrix(spb_center_segment_sort, figsize=(9,9))\n",
    "#spb_center_segment_sort.corr()\n",
    "\n"
   ]
  },
  {
   "cell_type": "markdown",
   "metadata": {},
   "source": [
    "Вывод:\n",
    "\n",
    "В целом динамика везде одинаковая Быть может в центре больше внимания удиляют выбору этажа."
   ]
  },
  {
   "cell_type": "code",
   "execution_count": 51,
   "metadata": {},
   "outputs": [
    {
     "data": {
      "text/html": [
       "<div>\n",
       "<style scoped>\n",
       "    .dataframe tbody tr th:only-of-type {\n",
       "        vertical-align: middle;\n",
       "    }\n",
       "\n",
       "    .dataframe tbody tr th {\n",
       "        vertical-align: top;\n",
       "    }\n",
       "\n",
       "    .dataframe thead th {\n",
       "        text-align: right;\n",
       "    }\n",
       "</style>\n",
       "<table border=\"1\" class=\"dataframe\">\n",
       "  <thead>\n",
       "    <tr style=\"text-align: right;\">\n",
       "      <th></th>\n",
       "      <th>last_price</th>\n",
       "      <th>rooms</th>\n",
       "      <th>floor</th>\n",
       "      <th>city_сenters_nearest</th>\n",
       "      <th>days_exposition</th>\n",
       "    </tr>\n",
       "  </thead>\n",
       "  <tbody>\n",
       "    <tr>\n",
       "      <th>last_price</th>\n",
       "      <td>1.000000</td>\n",
       "      <td>0.314808</td>\n",
       "      <td>0.108509</td>\n",
       "      <td>-0.042318</td>\n",
       "      <td>0.066060</td>\n",
       "    </tr>\n",
       "    <tr>\n",
       "      <th>rooms</th>\n",
       "      <td>0.314808</td>\n",
       "      <td>1.000000</td>\n",
       "      <td>-0.043949</td>\n",
       "      <td>-0.170981</td>\n",
       "      <td>0.136413</td>\n",
       "    </tr>\n",
       "    <tr>\n",
       "      <th>floor</th>\n",
       "      <td>0.108509</td>\n",
       "      <td>-0.043949</td>\n",
       "      <td>1.000000</td>\n",
       "      <td>0.237102</td>\n",
       "      <td>0.011109</td>\n",
       "    </tr>\n",
       "    <tr>\n",
       "      <th>city_сenters_nearest</th>\n",
       "      <td>-0.042318</td>\n",
       "      <td>-0.170981</td>\n",
       "      <td>0.237102</td>\n",
       "      <td>1.000000</td>\n",
       "      <td>-0.054049</td>\n",
       "    </tr>\n",
       "    <tr>\n",
       "      <th>days_exposition</th>\n",
       "      <td>0.066060</td>\n",
       "      <td>0.136413</td>\n",
       "      <td>0.011109</td>\n",
       "      <td>-0.054049</td>\n",
       "      <td>1.000000</td>\n",
       "    </tr>\n",
       "  </tbody>\n",
       "</table>\n",
       "</div>"
      ],
      "text/plain": [
       "                      last_price     rooms     floor  city_сenters_nearest  \\\n",
       "last_price              1.000000  0.314808  0.108509             -0.042318   \n",
       "rooms                   0.314808  1.000000 -0.043949             -0.170981   \n",
       "floor                   0.108509 -0.043949  1.000000              0.237102   \n",
       "city_сenters_nearest   -0.042318 -0.170981  0.237102              1.000000   \n",
       "days_exposition         0.066060  0.136413  0.011109             -0.054049   \n",
       "\n",
       "                      days_exposition  \n",
       "last_price                   0.066060  \n",
       "rooms                        0.136413  \n",
       "floor                        0.011109  \n",
       "city_сenters_nearest        -0.054049  \n",
       "days_exposition              1.000000  "
      ]
     },
     "metadata": {},
     "output_type": "display_data"
    },
    {
     "data": {
      "text/html": [
       "<div>\n",
       "<style scoped>\n",
       "    .dataframe tbody tr th:only-of-type {\n",
       "        vertical-align: middle;\n",
       "    }\n",
       "\n",
       "    .dataframe tbody tr th {\n",
       "        vertical-align: top;\n",
       "    }\n",
       "\n",
       "    .dataframe thead th {\n",
       "        text-align: right;\n",
       "    }\n",
       "</style>\n",
       "<table border=\"1\" class=\"dataframe\">\n",
       "  <thead>\n",
       "    <tr style=\"text-align: right;\">\n",
       "      <th></th>\n",
       "      <th>last_price</th>\n",
       "      <th>rooms</th>\n",
       "      <th>floor</th>\n",
       "      <th>city_сenters_nearest</th>\n",
       "      <th>days_exposition</th>\n",
       "    </tr>\n",
       "  </thead>\n",
       "  <tbody>\n",
       "    <tr>\n",
       "      <th>last_price</th>\n",
       "      <td>1.000000</td>\n",
       "      <td>0.372108</td>\n",
       "      <td>-0.000586</td>\n",
       "      <td>-0.259220</td>\n",
       "      <td>0.092574</td>\n",
       "    </tr>\n",
       "    <tr>\n",
       "      <th>rooms</th>\n",
       "      <td>0.372108</td>\n",
       "      <td>1.000000</td>\n",
       "      <td>-0.161592</td>\n",
       "      <td>-0.294018</td>\n",
       "      <td>0.143944</td>\n",
       "    </tr>\n",
       "    <tr>\n",
       "      <th>floor</th>\n",
       "      <td>-0.000586</td>\n",
       "      <td>-0.161592</td>\n",
       "      <td>1.000000</td>\n",
       "      <td>0.227782</td>\n",
       "      <td>-0.033532</td>\n",
       "    </tr>\n",
       "    <tr>\n",
       "      <th>city_сenters_nearest</th>\n",
       "      <td>-0.259220</td>\n",
       "      <td>-0.294018</td>\n",
       "      <td>0.227782</td>\n",
       "      <td>1.000000</td>\n",
       "      <td>-0.137544</td>\n",
       "    </tr>\n",
       "    <tr>\n",
       "      <th>days_exposition</th>\n",
       "      <td>0.092574</td>\n",
       "      <td>0.143944</td>\n",
       "      <td>-0.033532</td>\n",
       "      <td>-0.137544</td>\n",
       "      <td>1.000000</td>\n",
       "    </tr>\n",
       "  </tbody>\n",
       "</table>\n",
       "</div>"
      ],
      "text/plain": [
       "                      last_price     rooms     floor  city_сenters_nearest  \\\n",
       "last_price              1.000000  0.372108 -0.000586             -0.259220   \n",
       "rooms                   0.372108  1.000000 -0.161592             -0.294018   \n",
       "floor                  -0.000586 -0.161592  1.000000              0.227782   \n",
       "city_сenters_nearest   -0.259220 -0.294018  0.227782              1.000000   \n",
       "days_exposition         0.092574  0.143944 -0.033532             -0.137544   \n",
       "\n",
       "                      days_exposition  \n",
       "last_price                   0.092574  \n",
       "rooms                        0.143944  \n",
       "floor                       -0.033532  \n",
       "city_сenters_nearest        -0.137544  \n",
       "days_exposition              1.000000  "
      ]
     },
     "metadata": {},
     "output_type": "display_data"
    }
   ],
   "source": [
    "# Факторы влияющие на стоимоть в центре Санкт-Петербурга\n",
    "\n",
    "display (spb_center_segment [[ 'last_price','rooms','floor','city_сenters_nearest','days_exposition']].corr())\n",
    "spb_center_segment_plot = spb_center_segment [[ 'last_price','rooms','floor','city_сenters_nearest','days_exposition']]\n",
    "\n",
    "#Факторы влияющие на стоимоть в Санкт-Петербурга\n",
    "display (spb_center [[ 'last_price','rooms','floor','city_сenters_nearest','days_exposition']].corr())\n",
    "spb_center_plot = spb_center [[ 'last_price','rooms','floor','city_сenters_nearest','days_exposition']]\n",
    "\n"
   ]
  },
  {
   "cell_type": "code",
   "execution_count": 47,
   "metadata": {},
   "outputs": [
    {
     "data": {
      "image/png": "[encoded data removed]",
      "text/plain": [
       "<Figure size 432x288 with 2 Axes>"
      ]
     },
     "metadata": {
      "needs_background": "light"
     },
     "output_type": "display_data"
    },
    {
     "data": {
      "image/png": "[encoded data removed]",
      "text/plain": [
       "<Figure size 432x288 with 2 Axes>"
      ]
     },
     "metadata": {
      "needs_background": "light"
     },
     "output_type": "display_data"
    }
   ],
   "source": [
    "#еще один метод решил посмотреть.\n",
    "\n",
    "sns.heatmap(spb_center_segment_plot.corr(),cmap='coolwarm',annot=True)\n",
    "plt.show()\n",
    "sns.heatmap(spb_center_plot.corr(),cmap='coolwarm',annot=True)\n",
    "plt.show()\n"
   ]
  },
  {
   "cell_type": "code",
   "execution_count": 48,
   "metadata": {},
   "outputs": [
    {
     "data": {
      "text/plain": [
       "'Факторы влияющие на стоимость в центре Санкт-Петербурга'"
      ]
     },
     "metadata": {},
     "output_type": "display_data"
    },
    {
     "data": {
      "image/png": "[encoded data removed]",
      "text/plain": [
       "<Figure size 720x180 with 4 Axes>"
      ]
     },
     "metadata": {
      "needs_background": "light"
     },
     "output_type": "display_data"
    },
    {
     "data": {
      "text/plain": [
       "'Факторы влияющие на стоимоть в Санкт-Петербурге'"
      ]
     },
     "metadata": {},
     "output_type": "display_data"
    },
    {
     "data": {
      "image/png": "[encoded data removed]",
      "text/plain": [
       "<Figure size 720x180 with 4 Axes>"
      ]
     },
     "metadata": {
      "needs_background": "light"
     },
     "output_type": "display_data"
    }
   ],
   "source": [
    "display ('Факторы влияющие на стоимость в центре Санкт-Петербурга')\n",
    "sns.pairplot(data=spb_center_segment_plot,\n",
    "                  y_vars=['last_price'],\n",
    "                  x_vars=['rooms','floor','city_сenters_nearest','days_exposition'])\n",
    "plt.show()\n",
    "\n",
    "display ( 'Факторы влияющие на стоимоть в Санкт-Петербурге')\n",
    "sns.pairplot(data=spb_center_plot,\n",
    "                  y_vars=['last_price'],\n",
    "                  x_vars=['rooms','floor','city_сenters_nearest','days_exposition'])\n",
    "plt.show()"
   ]
  },
  {
   "cell_type": "markdown",
   "metadata": {},
   "source": [
    "Вывод:\n",
    "    \n",
    "В цешлом все как и в предудещм ввыоде. Продублирую его.  \n",
    "*В целом динамика везде одинаковая Быть может в центре больше внимания удиляют выбору этажа.*\n",
    "\n",
    "Но так же видно, что цены на жилье значительно дороже в центре чем во всем Санкт-Петербурге.\n"
   ]
  },
  {
   "cell_type": "markdown",
   "metadata": {},
   "source": [
    "## Общий вывод\n",
    "\n",
    "Мы видим, что больше всего на рынке представлено квартир со средней площадью 40-45 м и средней стоимостью 4,6 млн. В основном это квартиры 1 комнатные и 2 комнатные квартиры.\n",
    "В основном квартиры имеют высота потолка 2,5-3 м.\n",
    "\n",
    "В среднем квартиры продаются около 200 дней. Лучше продаются квартиры на 45 и 60 день от выставления их на продажу. Конечная цена на квартиры напрямую зависит от количества кв. м в квартире. Так же она зависит от количества комнат(но это так же связано с метражлм квартир). Чем больше комнат, тем цена выше. Так же цена зависит от этажа, чем выше этаж, тем цена выше. Самые дешевые квартиры находятся на первых этажах.\n",
    "\n",
    "Цена на квартиру зависит от удалённости ее от цента Санкт Петербурга. Мы выяснили, что самые дорогие квартиры находятся в области Санкт-Петербурга, которые находятся не дальше 7 км от центра. При этом в центре, меньше чем в остальных регионах однокомнатных квартир и студий, а преобладают 3х и 2х комнатные квартиры."
   ]
  }
 ],
 "metadata": {
  "ExecuteTimeLog": [
   {
    "duration": 332,
    "start_time": "2021-12-20T10:48:23.328Z"
   },
   {
    "duration": 746,
    "start_time": "2021-12-20T10:48:34.610Z"
   },
   {
    "duration": 335,
    "start_time": "2021-12-20T11:20:49.715Z"
   },
   {
    "duration": 94,
    "start_time": "2021-12-20T11:20:57.189Z"
   },
   {
    "duration": 83,
    "start_time": "2021-12-20T11:21:22.352Z"
   },
   {
    "duration": 80,
    "start_time": "2021-12-20T11:21:31.455Z"
   },
   {
    "duration": 73,
    "start_time": "2021-12-20T11:22:49.596Z"
   },
   {
    "duration": 126,
    "start_time": "2021-12-20T11:26:59.874Z"
   },
   {
    "duration": 128,
    "start_time": "2021-12-20T11:44:50.592Z"
   },
   {
    "duration": 390,
    "start_time": "2021-12-20T11:45:14.719Z"
   },
   {
    "duration": 123,
    "start_time": "2021-12-20T11:45:24.317Z"
   },
   {
    "duration": 96,
    "start_time": "2021-12-20T11:45:35.026Z"
   },
   {
    "duration": 121,
    "start_time": "2021-12-20T11:45:58.628Z"
   },
   {
    "duration": 110,
    "start_time": "2021-12-20T11:47:45.651Z"
   },
   {
    "duration": 81,
    "start_time": "2021-12-20T11:48:03.482Z"
   },
   {
    "duration": 127,
    "start_time": "2021-12-20T11:50:13.810Z"
   },
   {
    "duration": 119,
    "start_time": "2021-12-20T11:50:52.751Z"
   },
   {
    "duration": 108,
    "start_time": "2021-12-20T18:03:36.541Z"
   },
   {
    "duration": 147,
    "start_time": "2021-12-20T18:05:07.273Z"
   },
   {
    "duration": 120,
    "start_time": "2021-12-20T18:05:37.284Z"
   },
   {
    "duration": 38,
    "start_time": "2021-12-20T18:18:10.066Z"
   },
   {
    "duration": 26,
    "start_time": "2021-12-20T18:18:21.118Z"
   },
   {
    "duration": 13,
    "start_time": "2021-12-20T18:18:25.347Z"
   },
   {
    "duration": 113,
    "start_time": "2021-12-20T18:18:38.064Z"
   },
   {
    "duration": 37,
    "start_time": "2021-12-20T18:20:35.897Z"
   },
   {
    "duration": 89,
    "start_time": "2021-12-20T18:45:14.310Z"
   },
   {
    "duration": 12,
    "start_time": "2021-12-20T19:09:31.171Z"
   },
   {
    "duration": 14,
    "start_time": "2021-12-21T10:11:51.904Z"
   },
   {
    "duration": 17,
    "start_time": "2021-12-21T10:12:13.516Z"
   },
   {
    "duration": 18,
    "start_time": "2021-12-21T10:14:05.021Z"
   },
   {
    "duration": 8,
    "start_time": "2021-12-21T10:21:01.337Z"
   },
   {
    "duration": 11,
    "start_time": "2021-12-21T10:21:43.016Z"
   },
   {
    "duration": 8,
    "start_time": "2021-12-21T10:22:10.097Z"
   },
   {
    "duration": 3,
    "start_time": "2021-12-21T10:29:26.044Z"
   },
   {
    "duration": 6,
    "start_time": "2021-12-21T11:00:58.727Z"
   },
   {
    "duration": 8,
    "start_time": "2021-12-21T11:01:02.832Z"
   },
   {
    "duration": -277,
    "start_time": "2021-12-21T11:24:03.397Z"
   },
   {
    "duration": 115,
    "start_time": "2021-12-21T11:24:04.204Z"
   },
   {
    "duration": 13,
    "start_time": "2021-12-21T11:24:04.323Z"
   },
   {
    "duration": 5,
    "start_time": "2021-12-21T11:24:04.339Z"
   },
   {
    "duration": 7596,
    "start_time": "2021-12-21T11:24:04.347Z"
   },
   {
    "duration": 7328,
    "start_time": "2021-12-21T12:23:50.501Z"
   },
   {
    "duration": 15,
    "start_time": "2021-12-21T12:25:00.953Z"
   },
   {
    "duration": 19,
    "start_time": "2021-12-21T12:27:20.685Z"
   },
   {
    "duration": 7967,
    "start_time": "2021-12-21T12:27:34.287Z"
   },
   {
    "duration": 19,
    "start_time": "2021-12-21T12:37:09.205Z"
   },
   {
    "duration": 17,
    "start_time": "2021-12-21T12:37:20.078Z"
   },
   {
    "duration": 9,
    "start_time": "2021-12-21T13:38:15.326Z"
   },
   {
    "duration": 8,
    "start_time": "2021-12-21T13:38:21.827Z"
   },
   {
    "duration": 260,
    "start_time": "2021-12-21T13:41:19.080Z"
   },
   {
    "duration": 20,
    "start_time": "2021-12-21T13:41:26.336Z"
   },
   {
    "duration": 318,
    "start_time": "2021-12-21T18:18:22.917Z"
   },
   {
    "duration": 248,
    "start_time": "2021-12-21T18:18:32.776Z"
   },
   {
    "duration": 244,
    "start_time": "2021-12-21T18:18:57.794Z"
   },
   {
    "duration": 868,
    "start_time": "2021-12-21T18:19:00.632Z"
   },
   {
    "duration": 25,
    "start_time": "2021-12-21T18:19:01.502Z"
   },
   {
    "duration": 6,
    "start_time": "2021-12-21T18:19:01.530Z"
   },
   {
    "duration": 30,
    "start_time": "2021-12-21T18:19:01.539Z"
   },
   {
    "duration": 26,
    "start_time": "2021-12-21T18:19:01.571Z"
   },
   {
    "duration": 292,
    "start_time": "2021-12-21T18:19:01.600Z"
   },
   {
    "duration": 239,
    "start_time": "2021-12-21T18:19:16.544Z"
   },
   {
    "duration": 9,
    "start_time": "2021-12-21T18:19:42.261Z"
   },
   {
    "duration": 18,
    "start_time": "2021-12-21T18:27:50.943Z"
   },
   {
    "duration": 38,
    "start_time": "2021-12-21T19:01:51.268Z"
   },
   {
    "duration": 18,
    "start_time": "2021-12-21T19:25:16.134Z"
   },
   {
    "duration": 6,
    "start_time": "2021-12-21T19:25:37.476Z"
   },
   {
    "duration": 263,
    "start_time": "2021-12-21T19:40:03.657Z"
   },
   {
    "duration": 256,
    "start_time": "2021-12-21T19:40:10.641Z"
   },
   {
    "duration": 14,
    "start_time": "2021-12-21T19:40:28.276Z"
   },
   {
    "duration": 13,
    "start_time": "2021-12-21T19:40:47.643Z"
   },
   {
    "duration": 254,
    "start_time": "2021-12-21T20:02:13.783Z"
   },
   {
    "duration": 13,
    "start_time": "2021-12-21T20:02:21.619Z"
   },
   {
    "duration": 6,
    "start_time": "2021-12-21T20:02:34.928Z"
   },
   {
    "duration": 217,
    "start_time": "2021-12-21T20:14:30.630Z"
   },
   {
    "duration": 6129,
    "start_time": "2021-12-21T20:15:47.262Z"
   },
   {
    "duration": 21,
    "start_time": "2021-12-21T20:16:02.201Z"
   },
   {
    "duration": 6,
    "start_time": "2021-12-21T20:16:47.149Z"
   },
   {
    "duration": 113,
    "start_time": "2021-12-22T08:48:14.632Z"
   },
   {
    "duration": 319,
    "start_time": "2021-12-22T08:48:22.510Z"
   },
   {
    "duration": 3,
    "start_time": "2021-12-22T08:48:28.404Z"
   },
   {
    "duration": 888,
    "start_time": "2021-12-22T08:48:30.103Z"
   },
   {
    "duration": 51,
    "start_time": "2021-12-22T08:48:30.994Z"
   },
   {
    "duration": 12,
    "start_time": "2021-12-22T08:48:31.048Z"
   },
   {
    "duration": 11,
    "start_time": "2021-12-22T08:48:31.062Z"
   },
   {
    "duration": 43,
    "start_time": "2021-12-22T08:48:31.076Z"
   },
   {
    "duration": 6,
    "start_time": "2021-12-22T08:48:31.122Z"
   },
   {
    "duration": 15,
    "start_time": "2021-12-22T08:48:31.141Z"
   },
   {
    "duration": 20,
    "start_time": "2021-12-22T08:48:31.160Z"
   },
   {
    "duration": 338,
    "start_time": "2021-12-22T08:48:31.183Z"
   },
   {
    "duration": -84,
    "start_time": "2021-12-22T08:48:31.607Z"
   },
   {
    "duration": 270,
    "start_time": "2021-12-22T08:48:48.713Z"
   },
   {
    "duration": 8,
    "start_time": "2021-12-22T08:49:03.103Z"
   },
   {
    "duration": 12,
    "start_time": "2021-12-22T08:49:28.666Z"
   },
   {
    "duration": 260,
    "start_time": "2021-12-22T08:49:57.734Z"
   },
   {
    "duration": 14,
    "start_time": "2021-12-22T08:50:06.262Z"
   },
   {
    "duration": 16,
    "start_time": "2021-12-22T10:53:16.374Z"
   },
   {
    "duration": 46,
    "start_time": "2021-12-22T10:54:31.398Z"
   },
   {
    "duration": 43,
    "start_time": "2021-12-22T10:55:06.864Z"
   },
   {
    "duration": 3,
    "start_time": "2021-12-22T10:55:58.060Z"
   },
   {
    "duration": 3,
    "start_time": "2021-12-22T10:55:59.948Z"
   },
   {
    "duration": 298,
    "start_time": "2021-12-22T10:57:23.844Z"
   },
   {
    "duration": 299,
    "start_time": "2021-12-22T10:57:37.870Z"
   },
   {
    "duration": 17,
    "start_time": "2021-12-22T10:58:14.269Z"
   },
   {
    "duration": 20,
    "start_time": "2021-12-22T10:58:26.481Z"
   },
   {
    "duration": 84,
    "start_time": "2021-12-22T10:58:51.943Z"
   },
   {
    "duration": 25,
    "start_time": "2021-12-22T10:58:57.003Z"
   },
   {
    "duration": 22,
    "start_time": "2021-12-22T11:00:16.172Z"
   },
   {
    "duration": 19,
    "start_time": "2021-12-22T11:12:43.668Z"
   },
   {
    "duration": 115,
    "start_time": "2021-12-22T11:12:46.547Z"
   },
   {
    "duration": 36,
    "start_time": "2021-12-22T11:12:46.665Z"
   },
   {
    "duration": 21,
    "start_time": "2021-12-22T11:12:46.704Z"
   },
   {
    "duration": 6,
    "start_time": "2021-12-22T11:12:46.728Z"
   },
   {
    "duration": 13,
    "start_time": "2021-12-22T11:12:46.736Z"
   },
   {
    "duration": 5,
    "start_time": "2021-12-22T11:12:46.751Z"
   },
   {
    "duration": 8,
    "start_time": "2021-12-22T11:12:46.759Z"
   },
   {
    "duration": 55,
    "start_time": "2021-12-22T11:12:46.771Z"
   },
   {
    "duration": 22,
    "start_time": "2021-12-22T11:12:46.829Z"
   },
   {
    "duration": 248,
    "start_time": "2021-12-22T11:48:06.511Z"
   },
   {
    "duration": 25,
    "start_time": "2021-12-22T12:01:26.140Z"
   },
   {
    "duration": 20,
    "start_time": "2021-12-22T12:01:58.977Z"
   },
   {
    "duration": 19,
    "start_time": "2021-12-22T12:02:05.571Z"
   },
   {
    "duration": 47,
    "start_time": "2021-12-22T12:02:59.909Z"
   },
   {
    "duration": 34,
    "start_time": "2021-12-22T12:14:47.458Z"
   },
   {
    "duration": 43,
    "start_time": "2021-12-22T12:15:24.332Z"
   },
   {
    "duration": 38,
    "start_time": "2021-12-22T12:15:45.500Z"
   },
   {
    "duration": 125,
    "start_time": "2021-12-22T12:15:51.701Z"
   },
   {
    "duration": 38,
    "start_time": "2021-12-22T12:15:51.829Z"
   },
   {
    "duration": 11,
    "start_time": "2021-12-22T12:15:51.870Z"
   },
   {
    "duration": 35,
    "start_time": "2021-12-22T12:15:51.883Z"
   },
   {
    "duration": 31,
    "start_time": "2021-12-22T12:15:51.931Z"
   },
   {
    "duration": 19,
    "start_time": "2021-12-22T12:15:51.965Z"
   },
   {
    "duration": 17,
    "start_time": "2021-12-22T12:15:51.987Z"
   },
   {
    "duration": 26,
    "start_time": "2021-12-22T12:15:52.008Z"
   },
   {
    "duration": 33,
    "start_time": "2021-12-22T12:15:52.037Z"
   },
   {
    "duration": 55,
    "start_time": "2021-12-22T12:15:52.073Z"
   },
   {
    "duration": 47,
    "start_time": "2021-12-22T12:16:43.157Z"
   },
   {
    "duration": 121,
    "start_time": "2021-12-22T12:16:57.865Z"
   },
   {
    "duration": 63,
    "start_time": "2021-12-22T12:16:57.988Z"
   },
   {
    "duration": 11,
    "start_time": "2021-12-22T12:16:58.054Z"
   },
   {
    "duration": 6,
    "start_time": "2021-12-22T12:16:58.067Z"
   },
   {
    "duration": 13,
    "start_time": "2021-12-22T12:16:58.075Z"
   },
   {
    "duration": 35,
    "start_time": "2021-12-22T12:16:58.090Z"
   },
   {
    "duration": 12,
    "start_time": "2021-12-22T12:16:58.127Z"
   },
   {
    "duration": 7,
    "start_time": "2021-12-22T12:16:58.142Z"
   },
   {
    "duration": 20,
    "start_time": "2021-12-22T12:16:58.152Z"
   },
   {
    "duration": 95,
    "start_time": "2021-12-22T12:16:58.174Z"
   },
   {
    "duration": 46,
    "start_time": "2021-12-22T12:18:15.980Z"
   },
   {
    "duration": 46,
    "start_time": "2021-12-22T12:25:16.819Z"
   },
   {
    "duration": 6361,
    "start_time": "2021-12-22T13:30:22.277Z"
   },
   {
    "duration": 6863,
    "start_time": "2021-12-22T13:30:43.694Z"
   },
   {
    "duration": 1323,
    "start_time": "2021-12-22T13:31:44.121Z"
   },
   {
    "duration": 8,
    "start_time": "2021-12-22T13:32:19.523Z"
   },
   {
    "duration": 116,
    "start_time": "2021-12-22T13:32:20.854Z"
   },
   {
    "duration": 55,
    "start_time": "2021-12-22T13:32:20.972Z"
   },
   {
    "duration": 14,
    "start_time": "2021-12-22T13:32:21.031Z"
   },
   {
    "duration": 6,
    "start_time": "2021-12-22T13:32:21.049Z"
   },
   {
    "duration": 13,
    "start_time": "2021-12-22T13:32:21.058Z"
   },
   {
    "duration": 43,
    "start_time": "2021-12-22T13:32:21.074Z"
   },
   {
    "duration": 15,
    "start_time": "2021-12-22T13:32:21.121Z"
   },
   {
    "duration": 9,
    "start_time": "2021-12-22T13:32:21.140Z"
   },
   {
    "duration": 19,
    "start_time": "2021-12-22T13:32:21.152Z"
   },
   {
    "duration": 1915,
    "start_time": "2021-12-22T13:32:21.173Z"
   },
   {
    "duration": -607,
    "start_time": "2021-12-22T13:32:23.699Z"
   },
   {
    "duration": 2554,
    "start_time": "2021-12-22T13:34:25.556Z"
   },
   {
    "duration": 57,
    "start_time": "2021-12-22T13:34:41.993Z"
   },
   {
    "duration": 117,
    "start_time": "2021-12-22T13:34:47.306Z"
   },
   {
    "duration": 38,
    "start_time": "2021-12-22T13:34:47.426Z"
   },
   {
    "duration": 13,
    "start_time": "2021-12-22T13:34:47.468Z"
   },
   {
    "duration": 33,
    "start_time": "2021-12-22T13:34:47.484Z"
   },
   {
    "duration": 12,
    "start_time": "2021-12-22T13:34:47.520Z"
   },
   {
    "duration": 5,
    "start_time": "2021-12-22T13:34:47.535Z"
   },
   {
    "duration": 16,
    "start_time": "2021-12-22T13:34:47.542Z"
   },
   {
    "duration": 7,
    "start_time": "2021-12-22T13:34:47.562Z"
   },
   {
    "duration": 56,
    "start_time": "2021-12-22T13:34:47.572Z"
   },
   {
    "duration": 54,
    "start_time": "2021-12-22T13:34:47.630Z"
   },
   {
    "duration": 1583,
    "start_time": "2021-12-22T13:34:47.686Z"
   },
   {
    "duration": 4,
    "start_time": "2021-12-22T13:35:29.810Z"
   },
   {
    "duration": 4,
    "start_time": "2021-12-22T13:35:57.036Z"
   },
   {
    "duration": 974,
    "start_time": "2021-12-22T13:37:07.005Z"
   },
   {
    "duration": 1008,
    "start_time": "2021-12-22T13:37:35.568Z"
   },
   {
    "duration": 1215,
    "start_time": "2021-12-22T13:37:46.322Z"
   },
   {
    "duration": 21,
    "start_time": "2021-12-22T13:40:43.387Z"
   },
   {
    "duration": 11,
    "start_time": "2021-12-22T13:42:09.899Z"
   },
   {
    "duration": 3475,
    "start_time": "2021-12-22T13:46:26.473Z"
   },
   {
    "duration": 4450,
    "start_time": "2021-12-22T13:46:47.362Z"
   },
   {
    "duration": 934,
    "start_time": "2021-12-22T13:47:11.170Z"
   },
   {
    "duration": 851,
    "start_time": "2021-12-22T13:47:46.280Z"
   },
   {
    "duration": 7879,
    "start_time": "2021-12-22T13:50:48.934Z"
   },
   {
    "duration": 864,
    "start_time": "2021-12-22T13:51:09.382Z"
   },
   {
    "duration": 883,
    "start_time": "2021-12-22T13:52:05.648Z"
   },
   {
    "duration": 113,
    "start_time": "2021-12-22T13:52:07.935Z"
   },
   {
    "duration": 38,
    "start_time": "2021-12-22T13:52:08.050Z"
   },
   {
    "duration": 35,
    "start_time": "2021-12-22T13:52:08.091Z"
   },
   {
    "duration": 6,
    "start_time": "2021-12-22T13:52:08.129Z"
   },
   {
    "duration": 20,
    "start_time": "2021-12-22T13:52:08.137Z"
   },
   {
    "duration": 6,
    "start_time": "2021-12-22T13:52:08.160Z"
   },
   {
    "duration": 12,
    "start_time": "2021-12-22T13:52:08.169Z"
   },
   {
    "duration": 7,
    "start_time": "2021-12-22T13:52:08.219Z"
   },
   {
    "duration": 22,
    "start_time": "2021-12-22T13:52:08.229Z"
   },
   {
    "duration": 85,
    "start_time": "2021-12-22T13:52:08.253Z"
   },
   {
    "duration": 962,
    "start_time": "2021-12-22T13:52:08.341Z"
   },
   {
    "duration": 46,
    "start_time": "2021-12-22T19:23:11.935Z"
   },
   {
    "duration": 118,
    "start_time": "2021-12-22T19:23:18.219Z"
   },
   {
    "duration": 36,
    "start_time": "2021-12-22T19:23:18.340Z"
   },
   {
    "duration": 41,
    "start_time": "2021-12-22T19:23:18.379Z"
   },
   {
    "duration": 6,
    "start_time": "2021-12-22T19:23:18.422Z"
   },
   {
    "duration": 13,
    "start_time": "2021-12-22T19:23:18.430Z"
   },
   {
    "duration": 5,
    "start_time": "2021-12-22T19:23:18.445Z"
   },
   {
    "duration": 14,
    "start_time": "2021-12-22T19:23:18.452Z"
   },
   {
    "duration": 55,
    "start_time": "2021-12-22T19:23:18.468Z"
   },
   {
    "duration": 20,
    "start_time": "2021-12-22T19:23:18.527Z"
   },
   {
    "duration": 2237,
    "start_time": "2021-12-22T19:23:18.549Z"
   },
   {
    "duration": -176,
    "start_time": "2021-12-22T19:23:20.965Z"
   },
   {
    "duration": 73,
    "start_time": "2021-12-22T19:23:57.774Z"
   },
   {
    "duration": 43,
    "start_time": "2021-12-22T19:24:18.854Z"
   },
   {
    "duration": 111,
    "start_time": "2021-12-22T19:24:30.563Z"
   },
   {
    "duration": 48,
    "start_time": "2021-12-22T19:24:30.677Z"
   },
   {
    "duration": 13,
    "start_time": "2021-12-22T19:24:30.728Z"
   },
   {
    "duration": 16,
    "start_time": "2021-12-22T19:24:30.744Z"
   },
   {
    "duration": 22,
    "start_time": "2021-12-22T19:24:30.762Z"
   },
   {
    "duration": 33,
    "start_time": "2021-12-22T19:24:30.786Z"
   },
   {
    "duration": 25,
    "start_time": "2021-12-22T19:24:30.822Z"
   },
   {
    "duration": 7,
    "start_time": "2021-12-22T19:24:30.850Z"
   },
   {
    "duration": 22,
    "start_time": "2021-12-22T19:24:30.860Z"
   },
   {
    "duration": 83,
    "start_time": "2021-12-22T19:24:30.884Z"
   },
   {
    "duration": 864,
    "start_time": "2021-12-22T19:24:30.970Z"
   },
   {
    "duration": 380,
    "start_time": "2021-12-22T19:26:11.544Z"
   },
   {
    "duration": 460,
    "start_time": "2021-12-22T19:26:28.782Z"
   },
   {
    "duration": 44,
    "start_time": "2021-12-22T19:26:52.374Z"
   },
   {
    "duration": 116,
    "start_time": "2021-12-22T19:27:05.631Z"
   },
   {
    "duration": 40,
    "start_time": "2021-12-22T19:27:05.751Z"
   },
   {
    "duration": 15,
    "start_time": "2021-12-22T19:27:05.818Z"
   },
   {
    "duration": 6,
    "start_time": "2021-12-22T19:27:05.837Z"
   },
   {
    "duration": 16,
    "start_time": "2021-12-22T19:27:05.847Z"
   },
   {
    "duration": 53,
    "start_time": "2021-12-22T19:27:05.865Z"
   },
   {
    "duration": 17,
    "start_time": "2021-12-22T19:27:05.921Z"
   },
   {
    "duration": 9,
    "start_time": "2021-12-22T19:27:05.941Z"
   },
   {
    "duration": 75,
    "start_time": "2021-12-22T19:27:05.954Z"
   },
   {
    "duration": 53,
    "start_time": "2021-12-22T19:27:06.031Z"
   },
   {
    "duration": 880,
    "start_time": "2021-12-22T19:27:06.086Z"
   },
   {
    "duration": 90,
    "start_time": "2021-12-22T19:54:13.659Z"
   },
   {
    "duration": 7624,
    "start_time": "2021-12-22T19:54:21.319Z"
   },
   {
    "duration": 7076,
    "start_time": "2021-12-22T19:54:34.602Z"
   },
   {
    "duration": 7291,
    "start_time": "2021-12-22T19:56:44.144Z"
   },
   {
    "duration": -186,
    "start_time": "2021-12-22T19:57:07.149Z"
   },
   {
    "duration": -185,
    "start_time": "2021-12-22T19:57:07.150Z"
   },
   {
    "duration": -185,
    "start_time": "2021-12-22T19:57:07.151Z"
   },
   {
    "duration": -184,
    "start_time": "2021-12-22T19:57:07.152Z"
   },
   {
    "duration": -184,
    "start_time": "2021-12-22T19:57:07.154Z"
   },
   {
    "duration": -185,
    "start_time": "2021-12-22T19:57:07.157Z"
   },
   {
    "duration": -184,
    "start_time": "2021-12-22T19:57:07.158Z"
   },
   {
    "duration": -184,
    "start_time": "2021-12-22T19:57:07.159Z"
   },
   {
    "duration": -183,
    "start_time": "2021-12-22T19:57:07.160Z"
   },
   {
    "duration": -183,
    "start_time": "2021-12-22T19:57:07.161Z"
   },
   {
    "duration": -183,
    "start_time": "2021-12-22T19:57:07.162Z"
   },
   {
    "duration": 118,
    "start_time": "2021-12-22T19:59:01.973Z"
   },
   {
    "duration": 46,
    "start_time": "2021-12-22T19:59:02.094Z"
   },
   {
    "duration": 12,
    "start_time": "2021-12-22T19:59:02.142Z"
   },
   {
    "duration": 10,
    "start_time": "2021-12-22T19:59:02.157Z"
   },
   {
    "duration": 44,
    "start_time": "2021-12-22T19:59:02.169Z"
   },
   {
    "duration": 11,
    "start_time": "2021-12-22T19:59:02.215Z"
   },
   {
    "duration": 11,
    "start_time": "2021-12-22T19:59:02.228Z"
   },
   {
    "duration": 7,
    "start_time": "2021-12-22T19:59:02.242Z"
   },
   {
    "duration": 22,
    "start_time": "2021-12-22T19:59:02.254Z"
   },
   {
    "duration": 57,
    "start_time": "2021-12-22T19:59:02.319Z"
   },
   {
    "duration": 7238,
    "start_time": "2021-12-22T19:59:02.379Z"
   },
   {
    "duration": 7134,
    "start_time": "2021-12-22T20:00:09.060Z"
   },
   {
    "duration": 8567,
    "start_time": "2021-12-22T20:02:00.579Z"
   },
   {
    "duration": 7536,
    "start_time": "2021-12-22T20:02:50.147Z"
   },
   {
    "duration": 84,
    "start_time": "2021-12-22T20:04:33.813Z"
   },
   {
    "duration": 8008,
    "start_time": "2021-12-22T20:04:51.100Z"
   },
   {
    "duration": 971,
    "start_time": "2021-12-22T20:05:20.319Z"
   },
   {
    "duration": 113,
    "start_time": "2021-12-22T20:05:47.576Z"
   },
   {
    "duration": 50,
    "start_time": "2021-12-22T20:05:47.692Z"
   },
   {
    "duration": 12,
    "start_time": "2021-12-22T20:05:47.745Z"
   },
   {
    "duration": 6,
    "start_time": "2021-12-22T20:05:47.759Z"
   },
   {
    "duration": 16,
    "start_time": "2021-12-22T20:05:47.767Z"
   },
   {
    "duration": 4,
    "start_time": "2021-12-22T20:05:47.818Z"
   },
   {
    "duration": 22,
    "start_time": "2021-12-22T20:05:47.825Z"
   },
   {
    "duration": 8,
    "start_time": "2021-12-22T20:05:47.849Z"
   },
   {
    "duration": 58,
    "start_time": "2021-12-22T20:05:47.860Z"
   },
   {
    "duration": 53,
    "start_time": "2021-12-22T20:05:47.921Z"
   },
   {
    "duration": 985,
    "start_time": "2021-12-22T20:05:47.976Z"
   },
   {
    "duration": 993,
    "start_time": "2021-12-22T20:06:05.157Z"
   },
   {
    "duration": 86,
    "start_time": "2021-12-22T21:34:19.355Z"
   },
   {
    "duration": 5,
    "start_time": "2021-12-22T21:34:33.046Z"
   },
   {
    "duration": 34,
    "start_time": "2021-12-22T21:34:42.370Z"
   },
   {
    "duration": 248,
    "start_time": "2021-12-22T21:36:30.731Z"
   },
   {
    "duration": 34,
    "start_time": "2021-12-22T21:36:37.260Z"
   },
   {
    "duration": 37,
    "start_time": "2021-12-23T09:50:59.632Z"
   },
   {
    "duration": 155,
    "start_time": "2021-12-23T09:51:02.010Z"
   },
   {
    "duration": 53,
    "start_time": "2021-12-23T09:51:02.168Z"
   },
   {
    "duration": 12,
    "start_time": "2021-12-23T09:51:02.225Z"
   },
   {
    "duration": 6,
    "start_time": "2021-12-23T09:51:02.240Z"
   },
   {
    "duration": 12,
    "start_time": "2021-12-23T09:51:02.248Z"
   },
   {
    "duration": 8,
    "start_time": "2021-12-23T09:51:02.263Z"
   },
   {
    "duration": 55,
    "start_time": "2021-12-23T09:51:02.274Z"
   },
   {
    "duration": 8,
    "start_time": "2021-12-23T09:51:02.332Z"
   },
   {
    "duration": 24,
    "start_time": "2021-12-23T09:51:02.345Z"
   },
   {
    "duration": 86,
    "start_time": "2021-12-23T09:51:02.371Z"
   },
   {
    "duration": 1254,
    "start_time": "2021-12-23T09:51:02.459Z"
   },
   {
    "duration": 45,
    "start_time": "2021-12-23T09:51:03.718Z"
   },
   {
    "duration": 119,
    "start_time": "2021-12-23T09:54:25.590Z"
   },
   {
    "duration": 83,
    "start_time": "2021-12-23T09:57:46.589Z"
   },
   {
    "duration": 39,
    "start_time": "2021-12-23T09:58:00.886Z"
   },
   {
    "duration": 131,
    "start_time": "2021-12-23T09:58:12.216Z"
   },
   {
    "duration": 66,
    "start_time": "2021-12-23T09:58:12.351Z"
   },
   {
    "duration": 19,
    "start_time": "2021-12-23T09:58:12.421Z"
   },
   {
    "duration": 7,
    "start_time": "2021-12-23T09:58:12.444Z"
   },
   {
    "duration": 17,
    "start_time": "2021-12-23T09:58:12.454Z"
   },
   {
    "duration": 43,
    "start_time": "2021-12-23T09:58:12.474Z"
   },
   {
    "duration": 11,
    "start_time": "2021-12-23T09:58:12.520Z"
   },
   {
    "duration": 8,
    "start_time": "2021-12-23T09:58:12.535Z"
   },
   {
    "duration": 26,
    "start_time": "2021-12-23T09:58:12.548Z"
   },
   {
    "duration": 100,
    "start_time": "2021-12-23T09:58:12.577Z"
   },
   {
    "duration": 1020,
    "start_time": "2021-12-23T09:58:12.680Z"
   },
   {
    "duration": 47,
    "start_time": "2021-12-23T09:58:13.703Z"
   },
   {
    "duration": 34,
    "start_time": "2021-12-23T10:01:43.607Z"
   },
   {
    "duration": 20,
    "start_time": "2021-12-23T10:03:07.074Z"
   },
   {
    "duration": 43,
    "start_time": "2021-12-23T10:19:05.542Z"
   },
   {
    "duration": 113,
    "start_time": "2021-12-23T10:19:10.811Z"
   },
   {
    "duration": 37,
    "start_time": "2021-12-23T10:19:10.926Z"
   },
   {
    "duration": 13,
    "start_time": "2021-12-23T10:19:10.967Z"
   },
   {
    "duration": 34,
    "start_time": "2021-12-23T10:19:10.983Z"
   },
   {
    "duration": 14,
    "start_time": "2021-12-23T10:19:11.019Z"
   },
   {
    "duration": 5,
    "start_time": "2021-12-23T10:19:11.035Z"
   },
   {
    "duration": 16,
    "start_time": "2021-12-23T10:19:11.042Z"
   },
   {
    "duration": 9,
    "start_time": "2021-12-23T10:19:11.062Z"
   },
   {
    "duration": 58,
    "start_time": "2021-12-23T10:19:11.074Z"
   },
   {
    "duration": 50,
    "start_time": "2021-12-23T10:19:11.135Z"
   },
   {
    "duration": 1138,
    "start_time": "2021-12-23T10:19:11.187Z"
   },
   {
    "duration": 41,
    "start_time": "2021-12-23T10:19:12.327Z"
   },
   {
    "duration": 118,
    "start_time": "2021-12-23T10:29:20.914Z"
   },
   {
    "duration": 49,
    "start_time": "2021-12-23T10:30:51.743Z"
   },
   {
    "duration": 116,
    "start_time": "2021-12-23T10:31:01.157Z"
   },
   {
    "duration": 56,
    "start_time": "2021-12-23T10:31:01.276Z"
   },
   {
    "duration": 12,
    "start_time": "2021-12-23T10:31:01.335Z"
   },
   {
    "duration": 55,
    "start_time": "2021-12-23T10:31:01.350Z"
   },
   {
    "duration": 42,
    "start_time": "2021-12-23T10:31:01.408Z"
   },
   {
    "duration": 38,
    "start_time": "2021-12-23T10:31:01.453Z"
   },
   {
    "duration": 61,
    "start_time": "2021-12-23T10:31:01.493Z"
   },
   {
    "duration": 22,
    "start_time": "2021-12-23T10:31:01.559Z"
   },
   {
    "duration": 98,
    "start_time": "2021-12-23T10:31:01.584Z"
   },
   {
    "duration": 52,
    "start_time": "2021-12-23T10:31:01.685Z"
   },
   {
    "duration": 993,
    "start_time": "2021-12-23T10:31:01.739Z"
   },
   {
    "duration": 95,
    "start_time": "2021-12-23T10:31:02.734Z"
   },
   {
    "duration": 46,
    "start_time": "2021-12-23T10:32:22.313Z"
   },
   {
    "duration": 1355,
    "start_time": "2021-12-23T10:48:49.604Z"
   },
   {
    "duration": 1344,
    "start_time": "2021-12-23T10:49:13.446Z"
   },
   {
    "duration": 997,
    "start_time": "2021-12-23T10:49:23.632Z"
   },
   {
    "duration": 22,
    "start_time": "2021-12-23T10:49:53.225Z"
   },
   {
    "duration": 4,
    "start_time": "2021-12-23T10:50:22.061Z"
   },
   {
    "duration": 123,
    "start_time": "2021-12-23T10:50:23.351Z"
   },
   {
    "duration": 56,
    "start_time": "2021-12-23T10:50:23.477Z"
   },
   {
    "duration": 13,
    "start_time": "2021-12-23T10:50:23.537Z"
   },
   {
    "duration": 7,
    "start_time": "2021-12-23T10:50:23.554Z"
   },
   {
    "duration": 14,
    "start_time": "2021-12-23T10:50:23.563Z"
   },
   {
    "duration": 6,
    "start_time": "2021-12-23T10:50:23.616Z"
   },
   {
    "duration": 14,
    "start_time": "2021-12-23T10:50:23.625Z"
   },
   {
    "duration": 8,
    "start_time": "2021-12-23T10:50:23.644Z"
   },
   {
    "duration": 90,
    "start_time": "2021-12-23T10:50:23.656Z"
   },
   {
    "duration": 71,
    "start_time": "2021-12-23T10:50:23.749Z"
   },
   {
    "duration": 1327,
    "start_time": "2021-12-23T10:50:23.823Z"
   },
   {
    "duration": 3,
    "start_time": "2021-12-23T10:50:25.153Z"
   },
   {
    "duration": 69,
    "start_time": "2021-12-23T10:50:25.158Z"
   },
   {
    "duration": 7,
    "start_time": "2021-12-23T12:02:51.371Z"
   },
   {
    "duration": 508,
    "start_time": "2021-12-23T12:02:58.709Z"
   },
   {
    "duration": 356,
    "start_time": "2021-12-23T12:03:28.617Z"
   },
   {
    "duration": 354,
    "start_time": "2021-12-23T12:04:01.882Z"
   },
   {
    "duration": 403,
    "start_time": "2021-12-23T12:04:11.102Z"
   },
   {
    "duration": 303,
    "start_time": "2021-12-23T12:04:16.660Z"
   },
   {
    "duration": 880,
    "start_time": "2021-12-23T12:06:15.463Z"
   },
   {
    "duration": 297,
    "start_time": "2021-12-23T12:07:33.260Z"
   },
   {
    "duration": 129,
    "start_time": "2021-12-23T12:08:26.809Z"
   },
   {
    "duration": 124,
    "start_time": "2021-12-23T12:08:28.110Z"
   },
   {
    "duration": 37,
    "start_time": "2021-12-23T12:08:28.237Z"
   },
   {
    "duration": 42,
    "start_time": "2021-12-23T12:08:28.277Z"
   },
   {
    "duration": 5,
    "start_time": "2021-12-23T12:08:28.322Z"
   },
   {
    "duration": 18,
    "start_time": "2021-12-23T12:08:28.330Z"
   },
   {
    "duration": 4,
    "start_time": "2021-12-23T12:08:28.351Z"
   },
   {
    "duration": 21,
    "start_time": "2021-12-23T12:08:28.358Z"
   },
   {
    "duration": 39,
    "start_time": "2021-12-23T12:08:28.383Z"
   },
   {
    "duration": 51,
    "start_time": "2021-12-23T12:08:28.425Z"
   },
   {
    "duration": 75,
    "start_time": "2021-12-23T12:08:28.478Z"
   },
   {
    "duration": 1085,
    "start_time": "2021-12-23T12:08:28.555Z"
   },
   {
    "duration": 3,
    "start_time": "2021-12-23T12:08:29.643Z"
   },
   {
    "duration": 48,
    "start_time": "2021-12-23T12:08:29.649Z"
   },
   {
    "duration": 344,
    "start_time": "2021-12-23T12:08:29.718Z"
   },
   {
    "duration": 85,
    "start_time": "2021-12-23T12:08:30.065Z"
   },
   {
    "duration": -420,
    "start_time": "2021-12-23T12:08:30.573Z"
   },
   {
    "duration": -441,
    "start_time": "2021-12-23T12:08:30.595Z"
   },
   {
    "duration": 297,
    "start_time": "2021-12-23T12:08:40.052Z"
   },
   {
    "duration": 111,
    "start_time": "2021-12-23T12:09:12.359Z"
   },
   {
    "duration": 111,
    "start_time": "2021-12-23T12:09:13.786Z"
   },
   {
    "duration": 36,
    "start_time": "2021-12-23T12:09:13.916Z"
   },
   {
    "duration": 12,
    "start_time": "2021-12-23T12:09:13.955Z"
   },
   {
    "duration": 5,
    "start_time": "2021-12-23T12:09:13.970Z"
   },
   {
    "duration": 49,
    "start_time": "2021-12-23T12:09:13.977Z"
   },
   {
    "duration": 4,
    "start_time": "2021-12-23T12:09:14.029Z"
   },
   {
    "duration": 18,
    "start_time": "2021-12-23T12:09:14.035Z"
   },
   {
    "duration": 7,
    "start_time": "2021-12-23T12:09:14.057Z"
   },
   {
    "duration": 75,
    "start_time": "2021-12-23T12:09:14.067Z"
   },
   {
    "duration": 51,
    "start_time": "2021-12-23T12:09:14.145Z"
   },
   {
    "duration": 1019,
    "start_time": "2021-12-23T12:09:14.199Z"
   },
   {
    "duration": 3,
    "start_time": "2021-12-23T12:09:15.221Z"
   },
   {
    "duration": 44,
    "start_time": "2021-12-23T12:09:15.228Z"
   },
   {
    "duration": 345,
    "start_time": "2021-12-23T12:09:15.275Z"
   },
   {
    "duration": 86,
    "start_time": "2021-12-23T12:09:15.623Z"
   },
   {
    "duration": -441,
    "start_time": "2021-12-23T12:09:16.153Z"
   },
   {
    "duration": -480,
    "start_time": "2021-12-23T12:09:16.193Z"
   },
   {
    "duration": 291,
    "start_time": "2021-12-23T12:09:32.342Z"
   },
   {
    "duration": 11,
    "start_time": "2021-12-23T12:22:47.269Z"
   },
   {
    "duration": 300,
    "start_time": "2021-12-23T12:23:53.511Z"
   },
   {
    "duration": 11,
    "start_time": "2021-12-23T12:24:35.128Z"
   },
   {
    "duration": 6,
    "start_time": "2021-12-23T12:25:00.319Z"
   },
   {
    "duration": 260,
    "start_time": "2021-12-23T12:25:19.503Z"
   },
   {
    "duration": 11,
    "start_time": "2021-12-23T12:25:29.412Z"
   },
   {
    "duration": 264,
    "start_time": "2021-12-23T12:26:26.502Z"
   },
   {
    "duration": 9,
    "start_time": "2021-12-23T12:26:36.208Z"
   },
   {
    "duration": 294,
    "start_time": "2021-12-23T12:28:27.180Z"
   },
   {
    "duration": 293,
    "start_time": "2021-12-23T12:28:35.046Z"
   },
   {
    "duration": 379,
    "start_time": "2021-12-23T12:28:41.216Z"
   },
   {
    "duration": 284,
    "start_time": "2021-12-23T12:28:51.029Z"
   },
   {
    "duration": 300,
    "start_time": "2021-12-23T12:29:00.408Z"
   },
   {
    "duration": 313,
    "start_time": "2021-12-23T12:29:08.604Z"
   },
   {
    "duration": 334,
    "start_time": "2021-12-23T12:29:18.846Z"
   },
   {
    "duration": 286,
    "start_time": "2021-12-23T12:29:33.829Z"
   },
   {
    "duration": 323,
    "start_time": "2021-12-23T12:29:44.671Z"
   },
   {
    "duration": 293,
    "start_time": "2021-12-23T12:29:57.244Z"
   },
   {
    "duration": 291,
    "start_time": "2021-12-23T12:30:03.756Z"
   },
   {
    "duration": 306,
    "start_time": "2021-12-23T12:30:10.904Z"
   },
   {
    "duration": 308,
    "start_time": "2021-12-23T12:30:20.341Z"
   },
   {
    "duration": 424,
    "start_time": "2021-12-23T12:30:34.395Z"
   },
   {
    "duration": 322,
    "start_time": "2021-12-23T12:30:45.510Z"
   },
   {
    "duration": 149,
    "start_time": "2021-12-23T12:36:28.266Z"
   },
   {
    "duration": 18,
    "start_time": "2021-12-23T12:36:40.459Z"
   },
   {
    "duration": 320,
    "start_time": "2021-12-23T12:40:45.969Z"
   },
   {
    "duration": 17,
    "start_time": "2021-12-23T12:41:16.370Z"
   },
   {
    "duration": 14,
    "start_time": "2021-12-23T12:41:32.537Z"
   },
   {
    "duration": 88,
    "start_time": "2021-12-23T12:41:41.547Z"
   },
   {
    "duration": 19,
    "start_time": "2021-12-23T12:41:55.778Z"
   },
   {
    "duration": 12,
    "start_time": "2021-12-23T12:42:20.465Z"
   },
   {
    "duration": 310,
    "start_time": "2021-12-23T12:43:00.444Z"
   },
   {
    "duration": 296,
    "start_time": "2021-12-23T12:43:48.400Z"
   },
   {
    "duration": 295,
    "start_time": "2021-12-23T12:44:11.162Z"
   },
   {
    "duration": 282,
    "start_time": "2021-12-23T12:44:19.047Z"
   },
   {
    "duration": 322,
    "start_time": "2021-12-23T12:44:23.848Z"
   },
   {
    "duration": 305,
    "start_time": "2021-12-23T12:44:31.064Z"
   },
   {
    "duration": 323,
    "start_time": "2021-12-23T12:45:41.766Z"
   },
   {
    "duration": 588,
    "start_time": "2021-12-23T12:50:25.318Z"
   },
   {
    "duration": 1844,
    "start_time": "2021-12-23T12:50:37.431Z"
   },
   {
    "duration": 115,
    "start_time": "2021-12-23T12:59:26.446Z"
   },
   {
    "duration": 54,
    "start_time": "2021-12-23T12:59:26.564Z"
   },
   {
    "duration": 11,
    "start_time": "2021-12-23T12:59:26.622Z"
   },
   {
    "duration": 6,
    "start_time": "2021-12-23T12:59:26.636Z"
   },
   {
    "duration": 16,
    "start_time": "2021-12-23T12:59:26.645Z"
   },
   {
    "duration": 6,
    "start_time": "2021-12-23T12:59:26.664Z"
   },
   {
    "duration": 57,
    "start_time": "2021-12-23T12:59:26.672Z"
   },
   {
    "duration": 9,
    "start_time": "2021-12-23T12:59:26.734Z"
   },
   {
    "duration": 83,
    "start_time": "2021-12-23T12:59:26.746Z"
   },
   {
    "duration": 84,
    "start_time": "2021-12-23T12:59:26.832Z"
   },
   {
    "duration": 987,
    "start_time": "2021-12-23T12:59:26.920Z"
   },
   {
    "duration": 3,
    "start_time": "2021-12-23T12:59:27.917Z"
   },
   {
    "duration": 46,
    "start_time": "2021-12-23T12:59:27.922Z"
   },
   {
    "duration": 350,
    "start_time": "2021-12-23T12:59:27.971Z"
   },
   {
    "duration": 13,
    "start_time": "2021-12-23T12:59:28.324Z"
   },
   {
    "duration": 95,
    "start_time": "2021-12-23T12:59:28.340Z"
   },
   {
    "duration": -191,
    "start_time": "2021-12-23T12:59:28.628Z"
   },
   {
    "duration": 3,
    "start_time": "2021-12-23T17:38:20.598Z"
   },
   {
    "duration": 3,
    "start_time": "2021-12-23T17:39:32.250Z"
   },
   {
    "duration": 296,
    "start_time": "2021-12-23T17:42:58.023Z"
   },
   {
    "duration": 298,
    "start_time": "2021-12-23T17:43:10.085Z"
   },
   {
    "duration": 276,
    "start_time": "2021-12-23T17:44:06.636Z"
   },
   {
    "duration": 356,
    "start_time": "2021-12-23T17:44:15.793Z"
   },
   {
    "duration": 477,
    "start_time": "2021-12-23T17:44:42.008Z"
   },
   {
    "duration": 300,
    "start_time": "2021-12-23T17:44:55.341Z"
   },
   {
    "duration": 320,
    "start_time": "2021-12-23T17:45:03.105Z"
   },
   {
    "duration": 317,
    "start_time": "2021-12-23T17:45:13.557Z"
   },
   {
    "duration": 325,
    "start_time": "2021-12-23T17:45:46.034Z"
   },
   {
    "duration": 312,
    "start_time": "2021-12-23T17:45:51.744Z"
   },
   {
    "duration": 301,
    "start_time": "2021-12-23T17:46:03.227Z"
   },
   {
    "duration": 284,
    "start_time": "2021-12-23T17:49:41.338Z"
   },
   {
    "duration": 300,
    "start_time": "2021-12-23T17:49:54.737Z"
   },
   {
    "duration": 308,
    "start_time": "2021-12-23T17:49:59.711Z"
   },
   {
    "duration": 415,
    "start_time": "2021-12-23T17:50:07.957Z"
   },
   {
    "duration": 329,
    "start_time": "2021-12-23T17:50:24.848Z"
   },
   {
    "duration": 382,
    "start_time": "2021-12-23T17:50:59.235Z"
   },
   {
    "duration": 377,
    "start_time": "2021-12-23T17:51:09.142Z"
   },
   {
    "duration": 379,
    "start_time": "2021-12-23T17:51:35.339Z"
   },
   {
    "duration": 355,
    "start_time": "2021-12-23T17:51:49.368Z"
   },
   {
    "duration": 379,
    "start_time": "2021-12-23T17:54:21.430Z"
   },
   {
    "duration": 343,
    "start_time": "2021-12-23T17:56:05.113Z"
   },
   {
    "duration": 321,
    "start_time": "2021-12-23T17:56:21.715Z"
   },
   {
    "duration": 349,
    "start_time": "2021-12-23T17:56:33.224Z"
   },
   {
    "duration": 428,
    "start_time": "2021-12-23T17:56:49.378Z"
   },
   {
    "duration": 480,
    "start_time": "2021-12-23T17:57:19.812Z"
   },
   {
    "duration": 334,
    "start_time": "2021-12-23T17:57:40.129Z"
   },
   {
    "duration": 411,
    "start_time": "2021-12-23T17:57:55.186Z"
   },
   {
    "duration": 346,
    "start_time": "2021-12-23T17:58:12.756Z"
   },
   {
    "duration": 339,
    "start_time": "2021-12-23T17:58:38.151Z"
   },
   {
    "duration": 109,
    "start_time": "2021-12-23T17:58:39.468Z"
   },
   {
    "duration": 53,
    "start_time": "2021-12-23T17:58:39.580Z"
   },
   {
    "duration": 15,
    "start_time": "2021-12-23T17:58:39.637Z"
   },
   {
    "duration": 7,
    "start_time": "2021-12-23T17:58:39.655Z"
   },
   {
    "duration": 55,
    "start_time": "2021-12-23T17:58:39.664Z"
   },
   {
    "duration": 5,
    "start_time": "2021-12-23T17:58:39.721Z"
   },
   {
    "duration": 12,
    "start_time": "2021-12-23T17:58:39.728Z"
   },
   {
    "duration": 8,
    "start_time": "2021-12-23T17:58:39.742Z"
   },
   {
    "duration": 89,
    "start_time": "2021-12-23T17:58:39.754Z"
   },
   {
    "duration": 50,
    "start_time": "2021-12-23T17:58:39.846Z"
   },
   {
    "duration": 965,
    "start_time": "2021-12-23T17:58:39.917Z"
   },
   {
    "duration": 3,
    "start_time": "2021-12-23T17:58:40.884Z"
   },
   {
    "duration": 68,
    "start_time": "2021-12-23T17:58:40.889Z"
   },
   {
    "duration": 376,
    "start_time": "2021-12-23T17:58:40.960Z"
   },
   {
    "duration": 12,
    "start_time": "2021-12-23T17:58:41.339Z"
   },
   {
    "duration": 407,
    "start_time": "2021-12-23T17:58:41.353Z"
   },
   {
    "duration": 83,
    "start_time": "2021-12-23T17:58:41.763Z"
   },
   {
    "duration": 636,
    "start_time": "2021-12-23T17:58:41.213Z"
   },
   {
    "duration": 349,
    "start_time": "2021-12-23T17:58:53.305Z"
   },
   {
    "duration": 463,
    "start_time": "2021-12-23T17:58:59.602Z"
   },
   {
    "duration": 391,
    "start_time": "2021-12-23T17:59:07.165Z"
   },
   {
    "duration": 397,
    "start_time": "2021-12-23T17:59:31.540Z"
   },
   {
    "duration": 342,
    "start_time": "2021-12-23T17:59:39.561Z"
   },
   {
    "duration": 353,
    "start_time": "2021-12-23T17:59:50.977Z"
   },
   {
    "duration": 408,
    "start_time": "2021-12-23T18:00:04.113Z"
   },
   {
    "duration": 383,
    "start_time": "2021-12-23T18:01:04.080Z"
   },
   {
    "duration": 403,
    "start_time": "2021-12-23T18:01:41.210Z"
   },
   {
    "duration": 100,
    "start_time": "2021-12-23T18:03:57.395Z"
   },
   {
    "duration": 103,
    "start_time": "2021-12-23T18:03:59.371Z"
   },
   {
    "duration": 3,
    "start_time": "2021-12-23T18:07:34.818Z"
   },
   {
    "duration": 377,
    "start_time": "2021-12-23T18:08:08.644Z"
   },
   {
    "duration": 368,
    "start_time": "2021-12-23T18:10:16.883Z"
   },
   {
    "duration": 630,
    "start_time": "2021-12-23T18:10:31.287Z"
   },
   {
    "duration": 444,
    "start_time": "2021-12-23T18:11:05.180Z"
   },
   {
    "duration": 356,
    "start_time": "2021-12-23T18:11:14.175Z"
   },
   {
    "duration": 392,
    "start_time": "2021-12-23T18:11:19.072Z"
   },
   {
    "duration": 327,
    "start_time": "2021-12-23T18:12:17.284Z"
   },
   {
    "duration": 302,
    "start_time": "2021-12-23T18:12:27.769Z"
   },
   {
    "duration": 268,
    "start_time": "2021-12-23T18:12:37.443Z"
   },
   {
    "duration": 339,
    "start_time": "2021-12-23T18:12:41.497Z"
   },
   {
    "duration": 335,
    "start_time": "2021-12-23T18:12:55.198Z"
   },
   {
    "duration": 316,
    "start_time": "2021-12-23T18:13:13.104Z"
   },
   {
    "duration": 458,
    "start_time": "2021-12-23T18:13:36.487Z"
   },
   {
    "duration": 307,
    "start_time": "2021-12-23T18:14:13.160Z"
   },
   {
    "duration": 319,
    "start_time": "2021-12-23T18:14:21.091Z"
   },
   {
    "duration": 757,
    "start_time": "2021-12-23T18:16:18.246Z"
   },
   {
    "duration": 316,
    "start_time": "2021-12-23T18:16:50.965Z"
   },
   {
    "duration": 331,
    "start_time": "2021-12-23T18:17:01.889Z"
   },
   {
    "duration": 324,
    "start_time": "2021-12-23T18:17:47.200Z"
   },
   {
    "duration": 324,
    "start_time": "2021-12-23T18:18:08.200Z"
   },
   {
    "duration": 334,
    "start_time": "2021-12-23T18:18:17.118Z"
   },
   {
    "duration": 320,
    "start_time": "2021-12-23T18:18:25.773Z"
   },
   {
    "duration": 429,
    "start_time": "2021-12-23T18:18:36.645Z"
   },
   {
    "duration": 326,
    "start_time": "2021-12-23T18:18:52.977Z"
   },
   {
    "duration": 329,
    "start_time": "2021-12-23T18:19:00.054Z"
   },
   {
    "duration": 315,
    "start_time": "2021-12-23T18:19:06.277Z"
   },
   {
    "duration": 333,
    "start_time": "2021-12-23T18:19:53.997Z"
   },
   {
    "duration": 451,
    "start_time": "2021-12-23T18:20:00.228Z"
   },
   {
    "duration": 331,
    "start_time": "2021-12-23T18:20:09.862Z"
   },
   {
    "duration": 329,
    "start_time": "2021-12-23T18:20:19.244Z"
   },
   {
    "duration": 385,
    "start_time": "2021-12-23T18:20:24.035Z"
   },
   {
    "duration": 563,
    "start_time": "2021-12-23T18:20:39.513Z"
   },
   {
    "duration": 352,
    "start_time": "2021-12-23T18:21:00.705Z"
   },
   {
    "duration": 94,
    "start_time": "2021-12-23T18:21:06.941Z"
   },
   {
    "duration": 93,
    "start_time": "2021-12-23T18:21:13.333Z"
   },
   {
    "duration": 95,
    "start_time": "2021-12-23T18:21:17.149Z"
   },
   {
    "duration": 113,
    "start_time": "2021-12-23T18:31:33.663Z"
   },
   {
    "duration": 52,
    "start_time": "2021-12-23T18:31:33.779Z"
   },
   {
    "duration": 12,
    "start_time": "2021-12-23T18:31:33.835Z"
   },
   {
    "duration": 6,
    "start_time": "2021-12-23T18:31:33.850Z"
   },
   {
    "duration": 15,
    "start_time": "2021-12-23T18:31:33.859Z"
   },
   {
    "duration": 42,
    "start_time": "2021-12-23T18:31:33.877Z"
   },
   {
    "duration": 14,
    "start_time": "2021-12-23T18:31:33.922Z"
   },
   {
    "duration": 7,
    "start_time": "2021-12-23T18:31:33.940Z"
   },
   {
    "duration": 102,
    "start_time": "2021-12-23T18:31:33.951Z"
   },
   {
    "duration": 75,
    "start_time": "2021-12-23T18:31:34.056Z"
   },
   {
    "duration": 1093,
    "start_time": "2021-12-23T18:31:34.135Z"
   },
   {
    "duration": 3,
    "start_time": "2021-12-23T18:31:35.232Z"
   },
   {
    "duration": 79,
    "start_time": "2021-12-23T18:31:35.238Z"
   },
   {
    "duration": 373,
    "start_time": "2021-12-23T18:31:35.320Z"
   },
   {
    "duration": 25,
    "start_time": "2021-12-23T18:31:35.696Z"
   },
   {
    "duration": 520,
    "start_time": "2021-12-23T18:31:35.723Z"
   },
   {
    "duration": 361,
    "start_time": "2021-12-23T18:31:36.246Z"
   },
   {
    "duration": 372,
    "start_time": "2021-12-23T18:31:36.617Z"
   },
   {
    "duration": 477,
    "start_time": "2021-12-23T18:34:47.098Z"
   },
   {
    "duration": 353,
    "start_time": "2021-12-23T18:35:36.795Z"
   },
   {
    "duration": 331,
    "start_time": "2021-12-23T18:35:45.842Z"
   },
   {
    "duration": 360,
    "start_time": "2021-12-23T18:35:54.143Z"
   },
   {
    "duration": 90,
    "start_time": "2021-12-23T18:41:37.314Z"
   },
   {
    "duration": 4,
    "start_time": "2021-12-23T19:02:16.474Z"
   },
   {
    "duration": 949,
    "start_time": "2021-12-23T19:17:23.229Z"
   },
   {
    "duration": 117,
    "start_time": "2021-12-23T19:17:24.793Z"
   },
   {
    "duration": 39,
    "start_time": "2021-12-23T19:17:24.912Z"
   },
   {
    "duration": 13,
    "start_time": "2021-12-23T19:17:24.954Z"
   },
   {
    "duration": 5,
    "start_time": "2021-12-23T19:17:24.970Z"
   },
   {
    "duration": 13,
    "start_time": "2021-12-23T19:17:25.018Z"
   },
   {
    "duration": 6,
    "start_time": "2021-12-23T19:17:25.034Z"
   },
   {
    "duration": 10,
    "start_time": "2021-12-23T19:17:25.043Z"
   },
   {
    "duration": 8,
    "start_time": "2021-12-23T19:17:25.057Z"
   },
   {
    "duration": 58,
    "start_time": "2021-12-23T19:17:25.069Z"
   },
   {
    "duration": 25,
    "start_time": "2021-12-23T19:17:25.130Z"
   },
   {
    "duration": 1079,
    "start_time": "2021-12-23T19:17:25.157Z"
   },
   {
    "duration": 3,
    "start_time": "2021-12-23T19:17:26.238Z"
   },
   {
    "duration": 43,
    "start_time": "2021-12-23T19:17:26.243Z"
   },
   {
    "duration": 388,
    "start_time": "2021-12-23T19:17:26.288Z"
   },
   {
    "duration": 12,
    "start_time": "2021-12-23T19:17:26.678Z"
   },
   {
    "duration": 452,
    "start_time": "2021-12-23T19:17:26.692Z"
   },
   {
    "duration": 375,
    "start_time": "2021-12-23T19:17:27.146Z"
   },
   {
    "duration": 380,
    "start_time": "2021-12-23T19:17:27.528Z"
   },
   {
    "duration": 16,
    "start_time": "2021-12-23T19:17:38.811Z"
   },
   {
    "duration": 352,
    "start_time": "2021-12-23T19:21:01.624Z"
   },
   {
    "duration": 115,
    "start_time": "2021-12-23T19:21:02.981Z"
   },
   {
    "duration": 51,
    "start_time": "2021-12-23T19:21:03.100Z"
   },
   {
    "duration": 14,
    "start_time": "2021-12-23T19:21:03.155Z"
   },
   {
    "duration": 6,
    "start_time": "2021-12-23T19:21:03.172Z"
   },
   {
    "duration": 16,
    "start_time": "2021-12-23T19:21:03.217Z"
   },
   {
    "duration": 5,
    "start_time": "2021-12-23T19:21:03.236Z"
   },
   {
    "duration": 14,
    "start_time": "2021-12-23T19:21:03.243Z"
   },
   {
    "duration": 7,
    "start_time": "2021-12-23T19:21:03.259Z"
   },
   {
    "duration": 56,
    "start_time": "2021-12-23T19:21:03.270Z"
   },
   {
    "duration": 26,
    "start_time": "2021-12-23T19:21:03.328Z"
   },
   {
    "duration": 1061,
    "start_time": "2021-12-23T19:21:03.357Z"
   },
   {
    "duration": 4,
    "start_time": "2021-12-23T19:21:04.420Z"
   },
   {
    "duration": 17,
    "start_time": "2021-12-23T19:21:04.426Z"
   },
   {
    "duration": 372,
    "start_time": "2021-12-23T19:21:04.445Z"
   },
   {
    "duration": 12,
    "start_time": "2021-12-23T19:21:04.819Z"
   },
   {
    "duration": 504,
    "start_time": "2021-12-23T19:21:04.834Z"
   },
   {
    "duration": 359,
    "start_time": "2021-12-23T19:21:05.340Z"
   },
   {
    "duration": 367,
    "start_time": "2021-12-23T19:21:05.702Z"
   },
   {
    "duration": 12,
    "start_time": "2021-12-23T19:23:59.430Z"
   },
   {
    "duration": 13,
    "start_time": "2021-12-23T19:30:57.692Z"
   },
   {
    "duration": 7,
    "start_time": "2021-12-23T19:32:04.996Z"
   },
   {
    "duration": 144,
    "start_time": "2021-12-24T08:28:22.017Z"
   },
   {
    "duration": 405,
    "start_time": "2021-12-24T08:28:31.887Z"
   },
   {
    "duration": 434,
    "start_time": "2021-12-24T08:28:45.154Z"
   },
   {
    "duration": 269,
    "start_time": "2021-12-24T08:35:51.502Z"
   },
   {
    "duration": 263,
    "start_time": "2021-12-24T08:36:21.967Z"
   },
   {
    "duration": 236,
    "start_time": "2021-12-24T08:36:54.428Z"
   },
   {
    "duration": 252,
    "start_time": "2021-12-24T08:39:46.177Z"
   },
   {
    "duration": 324,
    "start_time": "2021-12-24T08:51:14.108Z"
   },
   {
    "duration": 306,
    "start_time": "2021-12-24T08:51:24.767Z"
   },
   {
    "duration": 342,
    "start_time": "2021-12-24T08:53:11.890Z"
   },
   {
    "duration": 403,
    "start_time": "2021-12-24T08:53:19.018Z"
   },
   {
    "duration": 449,
    "start_time": "2021-12-24T08:53:34.353Z"
   },
   {
    "duration": 425,
    "start_time": "2021-12-24T08:53:58.352Z"
   },
   {
    "duration": 612,
    "start_time": "2021-12-24T08:54:14.819Z"
   },
   {
    "duration": 528,
    "start_time": "2021-12-24T08:54:18.834Z"
   },
   {
    "duration": 485,
    "start_time": "2021-12-24T08:54:43.578Z"
   },
   {
    "duration": 400,
    "start_time": "2021-12-24T08:56:14.320Z"
   },
   {
    "duration": 294,
    "start_time": "2021-12-24T08:56:21.012Z"
   },
   {
    "duration": 446,
    "start_time": "2021-12-24T08:56:50.927Z"
   },
   {
    "duration": 81,
    "start_time": "2021-12-24T09:04:19.722Z"
   },
   {
    "duration": 366,
    "start_time": "2021-12-24T09:05:13.953Z"
   },
   {
    "duration": 358,
    "start_time": "2021-12-24T09:05:21.894Z"
   },
   {
    "duration": 515,
    "start_time": "2021-12-24T09:05:29.145Z"
   },
   {
    "duration": 311,
    "start_time": "2021-12-24T09:05:36.051Z"
   },
   {
    "duration": 233,
    "start_time": "2021-12-24T09:05:42.773Z"
   },
   {
    "duration": 389,
    "start_time": "2021-12-24T09:26:32.953Z"
   },
   {
    "duration": 401,
    "start_time": "2021-12-24T09:26:38.551Z"
   },
   {
    "duration": 322,
    "start_time": "2021-12-24T09:26:45.772Z"
   },
   {
    "duration": 108,
    "start_time": "2021-12-24T09:26:53.404Z"
   },
   {
    "duration": 403,
    "start_time": "2021-12-24T09:26:59.964Z"
   },
   {
    "duration": 386,
    "start_time": "2021-12-24T09:27:10.808Z"
   },
   {
    "duration": 403,
    "start_time": "2021-12-24T09:27:22.002Z"
   },
   {
    "duration": 672,
    "start_time": "2021-12-24T09:27:49.177Z"
   },
   {
    "duration": 844,
    "start_time": "2021-12-24T09:28:08.699Z"
   },
   {
    "duration": 645,
    "start_time": "2021-12-24T09:28:20.388Z"
   },
   {
    "duration": 627,
    "start_time": "2021-12-24T09:29:23.744Z"
   },
   {
    "duration": 677,
    "start_time": "2021-12-24T09:29:40.242Z"
   },
   {
    "duration": 636,
    "start_time": "2021-12-24T09:29:43.858Z"
   },
   {
    "duration": 678,
    "start_time": "2021-12-24T09:29:59.020Z"
   },
   {
    "duration": 761,
    "start_time": "2021-12-24T09:30:03.762Z"
   },
   {
    "duration": 691,
    "start_time": "2021-12-24T09:30:09.402Z"
   },
   {
    "duration": 656,
    "start_time": "2021-12-24T09:30:18.592Z"
   },
   {
    "duration": 876,
    "start_time": "2021-12-24T09:30:29.171Z"
   },
   {
    "duration": 756,
    "start_time": "2021-12-24T09:30:42.875Z"
   },
   {
    "duration": 1002,
    "start_time": "2021-12-24T09:30:52.939Z"
   },
   {
    "duration": 713,
    "start_time": "2021-12-24T09:31:07.473Z"
   },
   {
    "duration": 669,
    "start_time": "2021-12-24T09:31:21.856Z"
   },
   {
    "duration": 673,
    "start_time": "2021-12-24T09:31:49.131Z"
   },
   {
    "duration": 89,
    "start_time": "2021-12-24T09:33:35.069Z"
   },
   {
    "duration": 424,
    "start_time": "2021-12-24T09:34:15.113Z"
   },
   {
    "duration": 324,
    "start_time": "2021-12-24T09:34:27.003Z"
   },
   {
    "duration": 318,
    "start_time": "2021-12-24T09:34:44.241Z"
   },
   {
    "duration": 393,
    "start_time": "2021-12-24T09:43:15.803Z"
   },
   {
    "duration": 475,
    "start_time": "2021-12-24T09:43:22.570Z"
   },
   {
    "duration": 579,
    "start_time": "2021-12-24T09:43:35.215Z"
   },
   {
    "duration": 327,
    "start_time": "2021-12-24T09:47:36.783Z"
   },
   {
    "duration": 361,
    "start_time": "2021-12-24T09:47:59.442Z"
   },
   {
    "duration": 459,
    "start_time": "2021-12-24T09:48:10.398Z"
   },
   {
    "duration": 519,
    "start_time": "2021-12-24T09:48:41.179Z"
   },
   {
    "duration": 699,
    "start_time": "2021-12-24T09:50:38.557Z"
   },
   {
    "duration": 389,
    "start_time": "2021-12-24T09:50:47.236Z"
   },
   {
    "duration": 273,
    "start_time": "2021-12-24T10:30:02.633Z"
   },
   {
    "duration": 12,
    "start_time": "2021-12-24T10:30:10.114Z"
   },
   {
    "duration": 4034,
    "start_time": "2021-12-24T10:30:33.017Z"
   },
   {
    "duration": 603,
    "start_time": "2021-12-24T10:30:42.985Z"
   },
   {
    "duration": 688,
    "start_time": "2021-12-24T10:30:48.651Z"
   },
   {
    "duration": 529,
    "start_time": "2021-12-24T10:31:00.221Z"
   },
   {
    "duration": 1289,
    "start_time": "2021-12-24T10:33:59.410Z"
   },
   {
    "duration": 4589,
    "start_time": "2021-12-24T10:34:15.770Z"
   },
   {
    "duration": 4541,
    "start_time": "2021-12-24T10:41:23.955Z"
   },
   {
    "duration": 5387,
    "start_time": "2021-12-24T10:41:41.982Z"
   },
   {
    "duration": 5317,
    "start_time": "2021-12-24T10:41:58.632Z"
   },
   {
    "duration": 330,
    "start_time": "2021-12-24T10:43:19.515Z"
   },
   {
    "duration": 329,
    "start_time": "2021-12-24T10:43:30.298Z"
   },
   {
    "duration": 389,
    "start_time": "2021-12-24T10:44:00.035Z"
   },
   {
    "duration": 839,
    "start_time": "2021-12-24T10:44:15.667Z"
   },
   {
    "duration": 657,
    "start_time": "2021-12-24T10:44:24.498Z"
   },
   {
    "duration": 580,
    "start_time": "2021-12-24T10:45:06.107Z"
   },
   {
    "duration": 437,
    "start_time": "2021-12-24T11:00:14.849Z"
   },
   {
    "duration": 440,
    "start_time": "2021-12-24T11:03:01.722Z"
   },
   {
    "duration": 409,
    "start_time": "2021-12-24T11:03:11.324Z"
   },
   {
    "duration": 402,
    "start_time": "2021-12-24T11:03:21.589Z"
   },
   {
    "duration": 377,
    "start_time": "2021-12-24T11:03:34.084Z"
   },
   {
    "duration": 396,
    "start_time": "2021-12-24T11:05:43.034Z"
   },
   {
    "duration": 483,
    "start_time": "2021-12-24T11:05:54.386Z"
   },
   {
    "duration": 507,
    "start_time": "2021-12-24T11:06:18.336Z"
   },
   {
    "duration": 480,
    "start_time": "2021-12-24T11:06:30.473Z"
   },
   {
    "duration": 547,
    "start_time": "2021-12-24T11:06:39.920Z"
   },
   {
    "duration": 324,
    "start_time": "2021-12-24T11:06:47.794Z"
   },
   {
    "duration": 380,
    "start_time": "2021-12-24T11:06:53.888Z"
   },
   {
    "duration": 131,
    "start_time": "2021-12-24T11:15:19.422Z"
   },
   {
    "duration": 3,
    "start_time": "2021-12-24T11:15:40.244Z"
   },
   {
    "duration": 459,
    "start_time": "2021-12-24T11:17:01.415Z"
   },
   {
    "duration": 437,
    "start_time": "2021-12-24T11:17:35.294Z"
   },
   {
    "duration": 416,
    "start_time": "2021-12-24T11:18:00.662Z"
   },
   {
    "duration": 373,
    "start_time": "2021-12-24T11:18:06.758Z"
   },
   {
    "duration": 380,
    "start_time": "2021-12-24T11:18:24.300Z"
   },
   {
    "duration": 393,
    "start_time": "2021-12-24T11:18:34.765Z"
   },
   {
    "duration": 431,
    "start_time": "2021-12-24T11:19:28.436Z"
   },
   {
    "duration": 381,
    "start_time": "2021-12-24T11:20:02.542Z"
   },
   {
    "duration": 106,
    "start_time": "2021-12-24T12:17:12.650Z"
   },
   {
    "duration": 423,
    "start_time": "2021-12-24T12:17:34.436Z"
   },
   {
    "duration": 123,
    "start_time": "2021-12-24T12:17:37.667Z"
   },
   {
    "duration": 50,
    "start_time": "2021-12-24T12:17:37.793Z"
   },
   {
    "duration": 11,
    "start_time": "2021-12-24T12:17:37.847Z"
   },
   {
    "duration": 6,
    "start_time": "2021-12-24T12:17:37.861Z"
   },
   {
    "duration": 16,
    "start_time": "2021-12-24T12:17:37.869Z"
   },
   {
    "duration": 5,
    "start_time": "2021-12-24T12:17:37.918Z"
   },
   {
    "duration": 12,
    "start_time": "2021-12-24T12:17:37.925Z"
   },
   {
    "duration": 6,
    "start_time": "2021-12-24T12:17:37.941Z"
   },
   {
    "duration": 13,
    "start_time": "2021-12-24T12:17:37.950Z"
   },
   {
    "duration": 62,
    "start_time": "2021-12-24T12:17:37.965Z"
   },
   {
    "duration": 1307,
    "start_time": "2021-12-24T12:17:38.030Z"
   },
   {
    "duration": 3,
    "start_time": "2021-12-24T12:17:39.340Z"
   },
   {
    "duration": 17,
    "start_time": "2021-12-24T12:17:39.346Z"
   },
   {
    "duration": 412,
    "start_time": "2021-12-24T12:17:39.367Z"
   },
   {
    "duration": 14,
    "start_time": "2021-12-24T12:17:39.782Z"
   },
   {
    "duration": 491,
    "start_time": "2021-12-24T12:17:39.799Z"
   },
   {
    "duration": 361,
    "start_time": "2021-12-24T12:17:40.293Z"
   },
   {
    "duration": 762,
    "start_time": "2021-12-24T12:17:40.657Z"
   },
   {
    "duration": 14,
    "start_time": "2021-12-24T12:17:42.612Z"
   },
   {
    "duration": 315,
    "start_time": "2021-12-24T12:17:44.440Z"
   },
   {
    "duration": 409,
    "start_time": "2021-12-24T12:17:44.759Z"
   },
   {
    "duration": 245,
    "start_time": "2021-12-24T12:17:45.172Z"
   },
   {
    "duration": 456,
    "start_time": "2021-12-24T12:17:45.419Z"
   },
   {
    "duration": 87,
    "start_time": "2021-12-24T12:17:45.878Z"
   },
   {
    "duration": -54100,
    "start_time": "2021-12-24T12:18:40.068Z"
   },
   {
    "duration": 383,
    "start_time": "2021-12-24T12:23:25.070Z"
   },
   {
    "duration": 564,
    "start_time": "2021-12-24T12:42:53.694Z"
   },
   {
    "duration": 391,
    "start_time": "2021-12-24T12:43:27.747Z"
   },
   {
    "duration": 308,
    "start_time": "2021-12-24T12:43:54.031Z"
   },
   {
    "duration": 359,
    "start_time": "2021-12-24T12:43:59.344Z"
   },
   {
    "duration": 346,
    "start_time": "2021-12-24T12:44:17.127Z"
   },
   {
    "duration": 79,
    "start_time": "2021-12-24T12:45:22.771Z"
   },
   {
    "duration": 86,
    "start_time": "2021-12-24T12:45:35.770Z"
   },
   {
    "duration": 120,
    "start_time": "2021-12-24T12:45:48.036Z"
   },
   {
    "duration": 37,
    "start_time": "2021-12-24T12:45:48.160Z"
   },
   {
    "duration": 13,
    "start_time": "2021-12-24T12:45:48.217Z"
   },
   {
    "duration": 7,
    "start_time": "2021-12-24T12:45:48.233Z"
   },
   {
    "duration": 14,
    "start_time": "2021-12-24T12:45:48.243Z"
   },
   {
    "duration": 5,
    "start_time": "2021-12-24T12:45:48.259Z"
   },
   {
    "duration": 51,
    "start_time": "2021-12-24T12:45:48.267Z"
   },
   {
    "duration": 8,
    "start_time": "2021-12-24T12:45:48.324Z"
   },
   {
    "duration": 15,
    "start_time": "2021-12-24T12:45:48.337Z"
   },
   {
    "duration": 67,
    "start_time": "2021-12-24T12:45:48.355Z"
   },
   {
    "duration": 1028,
    "start_time": "2021-12-24T12:45:48.425Z"
   },
   {
    "duration": 4,
    "start_time": "2021-12-24T12:45:49.456Z"
   },
   {
    "duration": 28,
    "start_time": "2021-12-24T12:45:49.462Z"
   },
   {
    "duration": 471,
    "start_time": "2021-12-24T12:45:49.493Z"
   },
   {
    "duration": 12,
    "start_time": "2021-12-24T12:45:49.966Z"
   },
   {
    "duration": 480,
    "start_time": "2021-12-24T12:45:49.981Z"
   },
   {
    "duration": 569,
    "start_time": "2021-12-24T12:45:50.464Z"
   },
   {
    "duration": 694,
    "start_time": "2021-12-24T12:45:51.035Z"
   },
   {
    "duration": 10,
    "start_time": "2021-12-24T12:45:51.732Z"
   },
   {
    "duration": 350,
    "start_time": "2021-12-24T12:45:51.745Z"
   },
   {
    "duration": 257,
    "start_time": "2021-12-24T12:45:52.098Z"
   },
   {
    "duration": 830,
    "start_time": "2021-12-24T12:45:52.358Z"
   },
   {
    "duration": 396,
    "start_time": "2021-12-24T12:45:53.192Z"
   },
   {
    "duration": 85,
    "start_time": "2021-12-24T12:45:53.590Z"
   },
   {
    "duration": 85,
    "start_time": "2021-12-24T12:46:06.652Z"
   },
   {
    "duration": 94,
    "start_time": "2021-12-24T12:46:12.530Z"
   },
   {
    "duration": 353,
    "start_time": "2021-12-24T12:46:25.043Z"
   },
   {
    "duration": 1086,
    "start_time": "2021-12-24T12:46:29.182Z"
   },
   {
    "duration": 1146,
    "start_time": "2021-12-24T12:46:41.354Z"
   },
   {
    "duration": 357,
    "start_time": "2021-12-24T12:47:28.120Z"
   },
   {
    "duration": 906,
    "start_time": "2021-12-24T12:47:40.311Z"
   },
   {
    "duration": 284,
    "start_time": "2021-12-24T12:57:36.480Z"
   },
   {
    "duration": 474,
    "start_time": "2021-12-24T13:00:05.157Z"
   },
   {
    "duration": 407,
    "start_time": "2021-12-24T13:00:10.184Z"
   },
   {
    "duration": 83,
    "start_time": "2021-12-24T13:00:57.485Z"
   },
   {
    "duration": 405,
    "start_time": "2021-12-24T13:01:21.250Z"
   },
   {
    "duration": 704,
    "start_time": "2021-12-24T13:02:22.767Z"
   },
   {
    "duration": 6,
    "start_time": "2021-12-24T13:14:34.546Z"
   },
   {
    "duration": 3,
    "start_time": "2021-12-24T13:15:35.339Z"
   },
   {
    "duration": 270,
    "start_time": "2021-12-24T13:15:42.423Z"
   },
   {
    "duration": 7,
    "start_time": "2021-12-24T13:15:49.343Z"
   },
   {
    "duration": 266,
    "start_time": "2021-12-24T13:16:05.724Z"
   },
   {
    "duration": 8,
    "start_time": "2021-12-24T13:16:11.681Z"
   },
   {
    "duration": 87,
    "start_time": "2021-12-24T13:25:08.851Z"
   },
   {
    "duration": 101,
    "start_time": "2021-12-24T13:25:20.597Z"
   },
   {
    "duration": 254,
    "start_time": "2021-12-24T13:25:30.195Z"
   },
   {
    "duration": 360,
    "start_time": "2021-12-24T13:25:44.436Z"
   },
   {
    "duration": 7038,
    "start_time": "2021-12-24T13:26:40.853Z"
   },
   {
    "duration": 360,
    "start_time": "2021-12-24T13:27:03.384Z"
   },
   {
    "duration": 405,
    "start_time": "2021-12-24T13:35:07.623Z"
   },
   {
    "duration": 445,
    "start_time": "2021-12-24T13:35:14.648Z"
   },
   {
    "duration": 7672,
    "start_time": "2021-12-24T13:35:54.698Z"
   },
   {
    "duration": 8941,
    "start_time": "2021-12-24T13:36:22.180Z"
   },
   {
    "duration": 7337,
    "start_time": "2021-12-24T13:36:50.570Z"
   },
   {
    "duration": 112,
    "start_time": "2021-12-24T13:38:23.477Z"
   },
   {
    "duration": 7537,
    "start_time": "2021-12-24T13:38:28.624Z"
   },
   {
    "duration": 7948,
    "start_time": "2021-12-24T13:38:36.585Z"
   },
   {
    "duration": 113,
    "start_time": "2021-12-24T13:39:08.973Z"
   },
   {
    "duration": 7337,
    "start_time": "2021-12-24T13:39:15.294Z"
   },
   {
    "duration": 737,
    "start_time": "2021-12-24T13:39:52.737Z"
   },
   {
    "duration": 894,
    "start_time": "2021-12-24T13:40:04.648Z"
   },
   {
    "duration": 1041,
    "start_time": "2021-12-24T14:01:34.512Z"
   },
   {
    "duration": 66,
    "start_time": "2021-12-24T14:01:35.556Z"
   },
   {
    "duration": 14,
    "start_time": "2021-12-24T14:01:35.626Z"
   },
   {
    "duration": 5,
    "start_time": "2021-12-24T14:01:35.643Z"
   },
   {
    "duration": 19,
    "start_time": "2021-12-24T14:01:35.650Z"
   },
   {
    "duration": 4,
    "start_time": "2021-12-24T14:01:35.671Z"
   },
   {
    "duration": 13,
    "start_time": "2021-12-24T14:01:35.677Z"
   },
   {
    "duration": 10,
    "start_time": "2021-12-24T14:01:35.694Z"
   },
   {
    "duration": 40,
    "start_time": "2021-12-24T14:01:35.707Z"
   },
   {
    "duration": 26,
    "start_time": "2021-12-24T14:01:35.750Z"
   },
   {
    "duration": 1147,
    "start_time": "2021-12-24T14:01:35.778Z"
   },
   {
    "duration": 4,
    "start_time": "2021-12-24T14:01:36.928Z"
   },
   {
    "duration": 18,
    "start_time": "2021-12-24T14:01:36.935Z"
   },
   {
    "duration": 418,
    "start_time": "2021-12-24T14:01:36.956Z"
   },
   {
    "duration": 12,
    "start_time": "2021-12-24T14:01:37.377Z"
   },
   {
    "duration": 476,
    "start_time": "2021-12-24T14:01:37.391Z"
   },
   {
    "duration": 384,
    "start_time": "2021-12-24T14:01:37.870Z"
   },
   {
    "duration": 719,
    "start_time": "2021-12-24T14:01:38.256Z"
   },
   {
    "duration": 13,
    "start_time": "2021-12-24T14:01:38.977Z"
   },
   {
    "duration": 455,
    "start_time": "2021-12-24T14:01:38.993Z"
   },
   {
    "duration": 267,
    "start_time": "2021-12-24T14:01:39.450Z"
   },
   {
    "duration": 490,
    "start_time": "2021-12-24T14:01:39.720Z"
   },
   {
    "duration": 415,
    "start_time": "2021-12-24T14:01:40.215Z"
   },
   {
    "duration": 742,
    "start_time": "2021-12-24T14:01:40.633Z"
   },
   {
    "duration": 7,
    "start_time": "2021-12-24T14:01:41.378Z"
   },
   {
    "duration": 477,
    "start_time": "2021-12-24T14:01:41.387Z"
   },
   {
    "duration": 334,
    "start_time": "2021-12-24T14:03:04.226Z"
   },
   {
    "duration": 1160,
    "start_time": "2021-12-24T14:03:11.182Z"
   },
   {
    "duration": 41,
    "start_time": "2021-12-24T14:03:12.345Z"
   },
   {
    "duration": 30,
    "start_time": "2021-12-24T14:03:12.389Z"
   },
   {
    "duration": 8,
    "start_time": "2021-12-24T14:03:12.423Z"
   },
   {
    "duration": 32,
    "start_time": "2021-12-24T14:03:12.434Z"
   },
   {
    "duration": 9,
    "start_time": "2021-12-24T14:03:12.469Z"
   },
   {
    "duration": 14,
    "start_time": "2021-12-24T14:03:12.481Z"
   },
   {
    "duration": 27,
    "start_time": "2021-12-24T14:03:12.499Z"
   },
   {
    "duration": 18,
    "start_time": "2021-12-24T14:03:12.531Z"
   },
   {
    "duration": 25,
    "start_time": "2021-12-24T14:03:12.552Z"
   },
   {
    "duration": 1099,
    "start_time": "2021-12-24T14:03:12.579Z"
   },
   {
    "duration": 3,
    "start_time": "2021-12-24T14:03:13.680Z"
   },
   {
    "duration": 33,
    "start_time": "2021-12-24T14:03:13.685Z"
   },
   {
    "duration": 365,
    "start_time": "2021-12-24T14:03:13.722Z"
   },
   {
    "duration": 29,
    "start_time": "2021-12-24T14:03:14.090Z"
   },
   {
    "duration": 479,
    "start_time": "2021-12-24T14:03:14.122Z"
   },
   {
    "duration": 383,
    "start_time": "2021-12-24T14:03:14.604Z"
   },
   {
    "duration": 717,
    "start_time": "2021-12-24T14:03:14.989Z"
   },
   {
    "duration": 23,
    "start_time": "2021-12-24T14:03:15.709Z"
   },
   {
    "duration": 340,
    "start_time": "2021-12-24T14:03:15.734Z"
   },
   {
    "duration": 263,
    "start_time": "2021-12-24T14:03:16.077Z"
   },
   {
    "duration": 474,
    "start_time": "2021-12-24T14:03:16.342Z"
   },
   {
    "duration": 430,
    "start_time": "2021-12-24T14:03:16.823Z"
   },
   {
    "duration": 760,
    "start_time": "2021-12-24T14:03:17.256Z"
   },
   {
    "duration": 12,
    "start_time": "2021-12-24T14:03:18.021Z"
   },
   {
    "duration": 845,
    "start_time": "2021-12-24T14:03:18.036Z"
   },
   {
    "duration": 1025,
    "start_time": "2021-12-24T14:04:49.253Z"
   },
   {
    "duration": 59,
    "start_time": "2021-12-24T14:04:50.281Z"
   },
   {
    "duration": 18,
    "start_time": "2021-12-24T14:04:50.343Z"
   },
   {
    "duration": 7,
    "start_time": "2021-12-24T14:04:50.364Z"
   },
   {
    "duration": 46,
    "start_time": "2021-12-24T14:04:50.374Z"
   },
   {
    "duration": 6,
    "start_time": "2021-12-24T14:04:50.423Z"
   },
   {
    "duration": 11,
    "start_time": "2021-12-24T14:04:50.435Z"
   },
   {
    "duration": 8,
    "start_time": "2021-12-24T14:04:50.454Z"
   },
   {
    "duration": 53,
    "start_time": "2021-12-24T14:04:50.465Z"
   },
   {
    "duration": 33,
    "start_time": "2021-12-24T14:04:50.522Z"
   },
   {
    "duration": 1080,
    "start_time": "2021-12-24T14:04:50.557Z"
   },
   {
    "duration": 4,
    "start_time": "2021-12-24T14:04:51.640Z"
   },
   {
    "duration": 24,
    "start_time": "2021-12-24T14:04:51.647Z"
   },
   {
    "duration": 413,
    "start_time": "2021-12-24T14:04:51.674Z"
   },
   {
    "duration": 27,
    "start_time": "2021-12-24T14:04:52.090Z"
   },
   {
    "duration": 475,
    "start_time": "2021-12-24T14:04:52.120Z"
   },
   {
    "duration": 377,
    "start_time": "2021-12-24T14:04:52.598Z"
   },
   {
    "duration": 710,
    "start_time": "2021-12-24T14:04:52.977Z"
   },
   {
    "duration": 36,
    "start_time": "2021-12-24T14:04:53.690Z"
   },
   {
    "duration": 332,
    "start_time": "2021-12-24T14:04:53.729Z"
   },
   {
    "duration": 354,
    "start_time": "2021-12-24T14:04:54.064Z"
   },
   {
    "duration": 675,
    "start_time": "2021-12-24T14:04:54.421Z"
   },
   {
    "duration": 415,
    "start_time": "2021-12-24T14:04:55.102Z"
   },
   {
    "duration": 768,
    "start_time": "2021-12-24T14:04:55.521Z"
   },
   {
    "duration": 8,
    "start_time": "2021-12-24T14:04:56.292Z"
   },
   {
    "duration": 426008,
    "start_time": "2021-12-24T14:04:56.317Z"
   },
   {
    "duration": 291,
    "start_time": "2021-12-24T16:21:40.488Z"
   },
   {
    "duration": 760,
    "start_time": "2021-12-24T16:21:53.422Z"
   },
   {
    "duration": 31,
    "start_time": "2021-12-24T16:21:54.184Z"
   },
   {
    "duration": 9,
    "start_time": "2021-12-24T16:21:54.218Z"
   },
   {
    "duration": 15,
    "start_time": "2021-12-24T16:21:54.229Z"
   },
   {
    "duration": 25,
    "start_time": "2021-12-24T16:21:54.248Z"
   },
   {
    "duration": 4,
    "start_time": "2021-12-24T16:21:54.275Z"
   },
   {
    "duration": 12,
    "start_time": "2021-12-24T16:21:54.280Z"
   },
   {
    "duration": 11,
    "start_time": "2021-12-24T16:21:54.294Z"
   },
   {
    "duration": 9,
    "start_time": "2021-12-24T16:21:54.308Z"
   },
   {
    "duration": 39,
    "start_time": "2021-12-24T16:21:54.319Z"
   },
   {
    "duration": 773,
    "start_time": "2021-12-24T16:21:54.360Z"
   },
   {
    "duration": 6,
    "start_time": "2021-12-24T16:21:55.135Z"
   },
   {
    "duration": 18,
    "start_time": "2021-12-24T16:21:55.142Z"
   },
   {
    "duration": 204,
    "start_time": "2021-12-24T16:21:55.162Z"
   },
   {
    "duration": 11,
    "start_time": "2021-12-24T16:21:55.368Z"
   },
   {
    "duration": 302,
    "start_time": "2021-12-24T16:21:55.380Z"
   },
   {
    "duration": 210,
    "start_time": "2021-12-24T16:21:55.684Z"
   },
   {
    "duration": 394,
    "start_time": "2021-12-24T16:21:55.896Z"
   },
   {
    "duration": 8,
    "start_time": "2021-12-24T16:21:56.291Z"
   },
   {
    "duration": 195,
    "start_time": "2021-12-24T16:21:56.301Z"
   },
   {
    "duration": 153,
    "start_time": "2021-12-24T16:21:56.498Z"
   },
   {
    "duration": 266,
    "start_time": "2021-12-24T16:21:56.653Z"
   },
   {
    "duration": 240,
    "start_time": "2021-12-24T16:21:56.921Z"
   },
   {
    "duration": 536,
    "start_time": "2021-12-24T16:21:57.163Z"
   },
   {
    "duration": 6,
    "start_time": "2021-12-24T16:21:57.701Z"
   },
   {
    "duration": 686,
    "start_time": "2021-12-24T16:25:45.998Z"
   },
   {
    "duration": 24,
    "start_time": "2021-12-24T16:25:46.686Z"
   },
   {
    "duration": 11,
    "start_time": "2021-12-24T16:25:46.712Z"
   },
   {
    "duration": 29,
    "start_time": "2021-12-24T16:25:46.724Z"
   },
   {
    "duration": 30,
    "start_time": "2021-12-24T16:25:46.755Z"
   },
   {
    "duration": 32,
    "start_time": "2021-12-24T16:25:46.786Z"
   },
   {
    "duration": 44,
    "start_time": "2021-12-24T16:25:46.819Z"
   },
   {
    "duration": 22,
    "start_time": "2021-12-24T16:25:46.865Z"
   },
   {
    "duration": 25,
    "start_time": "2021-12-24T16:25:46.890Z"
   },
   {
    "duration": 19,
    "start_time": "2021-12-24T16:25:46.917Z"
   },
   {
    "duration": 623,
    "start_time": "2021-12-24T16:25:46.938Z"
   },
   {
    "duration": 3,
    "start_time": "2021-12-24T16:25:47.562Z"
   },
   {
    "duration": 37,
    "start_time": "2021-12-24T16:25:47.566Z"
   },
   {
    "duration": 231,
    "start_time": "2021-12-24T16:25:47.604Z"
   },
   {
    "duration": 9,
    "start_time": "2021-12-24T16:25:47.840Z"
   },
   {
    "duration": 271,
    "start_time": "2021-12-24T16:25:47.850Z"
   },
   {
    "duration": 208,
    "start_time": "2021-12-24T16:25:48.123Z"
   },
   {
    "duration": 393,
    "start_time": "2021-12-24T16:25:48.333Z"
   },
   {
    "duration": 22,
    "start_time": "2021-12-24T16:25:48.728Z"
   },
   {
    "duration": 185,
    "start_time": "2021-12-24T16:25:48.752Z"
   },
   {
    "duration": 138,
    "start_time": "2021-12-24T16:25:48.939Z"
   },
   {
    "duration": 251,
    "start_time": "2021-12-24T16:25:49.078Z"
   },
   {
    "duration": 234,
    "start_time": "2021-12-24T16:25:49.331Z"
   },
   {
    "duration": 520,
    "start_time": "2021-12-24T16:25:49.567Z"
   },
   {
    "duration": 5,
    "start_time": "2021-12-24T16:25:50.089Z"
   },
   {
    "duration": 482,
    "start_time": "2021-12-24T16:25:50.096Z"
   },
   {
    "duration": 1261,
    "start_time": "2021-12-24T19:26:00.449Z"
   },
   {
    "duration": 25,
    "start_time": "2021-12-24T19:26:01.713Z"
   },
   {
    "duration": 7,
    "start_time": "2021-12-24T19:26:01.740Z"
   },
   {
    "duration": 4,
    "start_time": "2021-12-24T19:26:01.749Z"
   },
   {
    "duration": 10,
    "start_time": "2021-12-24T19:26:01.755Z"
   },
   {
    "duration": 3,
    "start_time": "2021-12-24T19:26:01.767Z"
   },
   {
    "duration": 6,
    "start_time": "2021-12-24T19:26:01.772Z"
   },
   {
    "duration": 5,
    "start_time": "2021-12-24T19:26:01.779Z"
   },
   {
    "duration": 11,
    "start_time": "2021-12-24T19:26:01.786Z"
   },
   {
    "duration": 42,
    "start_time": "2021-12-24T19:26:01.799Z"
   },
   {
    "duration": 519,
    "start_time": "2021-12-24T19:26:01.842Z"
   },
   {
    "duration": 2,
    "start_time": "2021-12-24T19:26:02.362Z"
   },
   {
    "duration": 11,
    "start_time": "2021-12-24T19:26:02.366Z"
   },
   {
    "duration": 205,
    "start_time": "2021-12-24T19:26:02.378Z"
   },
   {
    "duration": 7,
    "start_time": "2021-12-24T19:26:02.585Z"
   },
   {
    "duration": 255,
    "start_time": "2021-12-24T19:26:02.594Z"
   },
   {
    "duration": 218,
    "start_time": "2021-12-24T19:26:02.851Z"
   },
   {
    "duration": 370,
    "start_time": "2021-12-24T19:26:03.070Z"
   },
   {
    "duration": 8,
    "start_time": "2021-12-24T19:26:03.442Z"
   },
   {
    "duration": 181,
    "start_time": "2021-12-24T19:26:03.452Z"
   },
   {
    "duration": 144,
    "start_time": "2021-12-24T19:26:03.635Z"
   },
   {
    "duration": 254,
    "start_time": "2021-12-24T19:26:03.780Z"
   },
   {
    "duration": 304,
    "start_time": "2021-12-24T19:26:04.035Z"
   },
   {
    "duration": 478,
    "start_time": "2021-12-24T19:26:04.341Z"
   },
   {
    "duration": 10,
    "start_time": "2021-12-24T19:26:04.820Z"
   },
   {
    "duration": 447,
    "start_time": "2021-12-24T19:26:04.832Z"
   },
   {
    "duration": 372,
    "start_time": "2021-12-24T19:26:36.578Z"
   },
   {
    "duration": 389,
    "start_time": "2021-12-24T19:29:48.758Z"
   },
   {
    "duration": 218,
    "start_time": "2021-12-24T19:31:21.401Z"
   },
   {
    "duration": 361,
    "start_time": "2021-12-24T19:31:37.813Z"
   },
   {
    "duration": 8,
    "start_time": "2021-12-24T19:42:04.664Z"
   },
   {
    "duration": 82,
    "start_time": "2021-12-24T19:42:06.092Z"
   },
   {
    "duration": 21,
    "start_time": "2021-12-24T19:42:06.176Z"
   },
   {
    "duration": 8,
    "start_time": "2021-12-24T19:42:06.199Z"
   },
   {
    "duration": 4,
    "start_time": "2021-12-24T19:42:06.227Z"
   },
   {
    "duration": 11,
    "start_time": "2021-12-24T19:42:06.232Z"
   },
   {
    "duration": 5,
    "start_time": "2021-12-24T19:42:06.244Z"
   },
   {
    "duration": 7,
    "start_time": "2021-12-24T19:42:06.250Z"
   },
   {
    "duration": 8,
    "start_time": "2021-12-24T19:42:06.259Z"
   },
   {
    "duration": 8,
    "start_time": "2021-12-24T19:42:06.269Z"
   },
   {
    "duration": 16,
    "start_time": "2021-12-24T19:42:06.279Z"
   },
   {
    "duration": 535,
    "start_time": "2021-12-24T19:42:06.296Z"
   },
   {
    "duration": 2,
    "start_time": "2021-12-24T19:42:06.833Z"
   },
   {
    "duration": 12,
    "start_time": "2021-12-24T19:42:06.836Z"
   },
   {
    "duration": 198,
    "start_time": "2021-12-24T19:42:06.849Z"
   },
   {
    "duration": 8,
    "start_time": "2021-12-24T19:42:07.049Z"
   },
   {
    "duration": 216,
    "start_time": "2021-12-24T19:42:07.058Z"
   },
   {
    "duration": 243,
    "start_time": "2021-12-24T19:42:07.276Z"
   },
   {
    "duration": 369,
    "start_time": "2021-12-24T19:42:07.520Z"
   },
   {
    "duration": 8,
    "start_time": "2021-12-24T19:42:07.890Z"
   },
   {
    "duration": 183,
    "start_time": "2021-12-24T19:42:07.899Z"
   },
   {
    "duration": 132,
    "start_time": "2021-12-24T19:42:08.083Z"
   },
   {
    "duration": 245,
    "start_time": "2021-12-24T19:42:08.216Z"
   },
   {
    "duration": 207,
    "start_time": "2021-12-24T19:42:08.463Z"
   },
   {
    "duration": 476,
    "start_time": "2021-12-24T19:42:08.672Z"
   },
   {
    "duration": 6,
    "start_time": "2021-12-24T19:42:09.150Z"
   },
   {
    "duration": 423,
    "start_time": "2021-12-24T19:42:09.158Z"
   },
   {
    "duration": 412,
    "start_time": "2021-12-24T19:42:09.585Z"
   },
   {
    "duration": 470,
    "start_time": "2021-12-24T19:42:09.999Z"
   },
   {
    "duration": 478,
    "start_time": "2021-12-24T19:42:19.449Z"
   },
   {
    "duration": 498,
    "start_time": "2021-12-24T19:52:00.272Z"
   },
   {
    "duration": 540,
    "start_time": "2021-12-24T19:52:08.699Z"
   },
   {
    "duration": 477,
    "start_time": "2021-12-24T19:52:16.370Z"
   },
   {
    "duration": 437,
    "start_time": "2021-12-24T19:52:20.743Z"
   },
   {
    "duration": 440,
    "start_time": "2021-12-24T19:52:25.831Z"
   },
   {
    "duration": 4,
    "start_time": "2021-12-24T19:58:40.551Z"
   },
   {
    "duration": 525,
    "start_time": "2021-12-24T20:00:12.696Z"
   },
   {
    "duration": 245,
    "start_time": "2021-12-24T20:00:24.973Z"
   },
   {
    "duration": 109,
    "start_time": "2021-12-24T20:01:22.120Z"
   },
   {
    "duration": 110,
    "start_time": "2021-12-24T20:01:31.127Z"
   },
   {
    "duration": 191,
    "start_time": "2021-12-24T20:01:47.351Z"
   },
   {
    "duration": 79,
    "start_time": "2021-12-24T20:01:48.651Z"
   },
   {
    "duration": 25,
    "start_time": "2021-12-24T20:01:48.733Z"
   },
   {
    "duration": 8,
    "start_time": "2021-12-24T20:01:48.761Z"
   },
   {
    "duration": 4,
    "start_time": "2021-12-24T20:01:48.771Z"
   },
   {
    "duration": 10,
    "start_time": "2021-12-24T20:01:48.777Z"
   },
   {
    "duration": 38,
    "start_time": "2021-12-24T20:01:48.789Z"
   },
   {
    "duration": 6,
    "start_time": "2021-12-24T20:01:48.829Z"
   },
   {
    "duration": 15,
    "start_time": "2021-12-24T20:01:48.836Z"
   },
   {
    "duration": 9,
    "start_time": "2021-12-24T20:01:48.854Z"
   },
   {
    "duration": 17,
    "start_time": "2021-12-24T20:01:48.865Z"
   },
   {
    "duration": 551,
    "start_time": "2021-12-24T20:01:48.884Z"
   },
   {
    "duration": 2,
    "start_time": "2021-12-24T20:01:49.436Z"
   },
   {
    "duration": 11,
    "start_time": "2021-12-24T20:01:49.440Z"
   },
   {
    "duration": 200,
    "start_time": "2021-12-24T20:01:49.453Z"
   },
   {
    "duration": 7,
    "start_time": "2021-12-24T20:01:49.655Z"
   },
   {
    "duration": 225,
    "start_time": "2021-12-24T20:01:49.664Z"
   },
   {
    "duration": 202,
    "start_time": "2021-12-24T20:01:49.891Z"
   },
   {
    "duration": 399,
    "start_time": "2021-12-24T20:01:50.095Z"
   },
   {
    "duration": 9,
    "start_time": "2021-12-24T20:01:50.496Z"
   },
   {
    "duration": 192,
    "start_time": "2021-12-24T20:01:50.507Z"
   },
   {
    "duration": 143,
    "start_time": "2021-12-24T20:01:50.701Z"
   },
   {
    "duration": 332,
    "start_time": "2021-12-24T20:01:50.846Z"
   },
   {
    "duration": 229,
    "start_time": "2021-12-24T20:01:51.180Z"
   },
   {
    "duration": 546,
    "start_time": "2021-12-24T20:01:51.411Z"
   },
   {
    "duration": 5,
    "start_time": "2021-12-24T20:01:51.959Z"
   },
   {
    "duration": 426,
    "start_time": "2021-12-24T20:01:51.966Z"
   },
   {
    "duration": 358,
    "start_time": "2021-12-24T20:01:52.395Z"
   },
   {
    "duration": 117,
    "start_time": "2021-12-24T20:01:52.755Z"
   },
   {
    "duration": 1697,
    "start_time": "2021-12-24T20:01:51.176Z"
   },
   {
    "duration": 1696,
    "start_time": "2021-12-24T20:01:51.178Z"
   },
   {
    "duration": 467,
    "start_time": "2021-12-24T20:02:47.440Z"
   },
   {
    "duration": 5,
    "start_time": "2021-12-24T20:09:23.261Z"
   },
   {
    "duration": 3,
    "start_time": "2021-12-24T20:10:54.457Z"
   },
   {
    "duration": 3,
    "start_time": "2021-12-24T20:10:57.596Z"
   },
   {
    "duration": 80,
    "start_time": "2021-12-24T20:13:43.623Z"
   },
   {
    "duration": 34,
    "start_time": "2021-12-24T20:13:43.706Z"
   },
   {
    "duration": 9,
    "start_time": "2021-12-24T20:13:43.743Z"
   },
   {
    "duration": 4,
    "start_time": "2021-12-24T20:13:43.754Z"
   },
   {
    "duration": 10,
    "start_time": "2021-12-24T20:13:43.760Z"
   },
   {
    "duration": 3,
    "start_time": "2021-12-24T20:13:43.772Z"
   },
   {
    "duration": 7,
    "start_time": "2021-12-24T20:13:43.776Z"
   },
   {
    "duration": 5,
    "start_time": "2021-12-24T20:13:43.784Z"
   },
   {
    "duration": 37,
    "start_time": "2021-12-24T20:13:43.791Z"
   },
   {
    "duration": 17,
    "start_time": "2021-12-24T20:13:43.830Z"
   },
   {
    "duration": 551,
    "start_time": "2021-12-24T20:13:43.849Z"
   },
   {
    "duration": 2,
    "start_time": "2021-12-24T20:13:44.402Z"
   },
   {
    "duration": 12,
    "start_time": "2021-12-24T20:13:44.405Z"
   },
   {
    "duration": 252,
    "start_time": "2021-12-24T20:13:44.427Z"
   },
   {
    "duration": 8,
    "start_time": "2021-12-24T20:13:44.680Z"
   },
   {
    "duration": 220,
    "start_time": "2021-12-24T20:13:44.690Z"
   },
   {
    "duration": 195,
    "start_time": "2021-12-24T20:13:44.911Z"
   },
   {
    "duration": 363,
    "start_time": "2021-12-24T20:13:45.107Z"
   },
   {
    "duration": 7,
    "start_time": "2021-12-24T20:13:45.472Z"
   },
   {
    "duration": 178,
    "start_time": "2021-12-24T20:13:45.481Z"
   },
   {
    "duration": 143,
    "start_time": "2021-12-24T20:13:45.660Z"
   },
   {
    "duration": 241,
    "start_time": "2021-12-24T20:13:45.805Z"
   },
   {
    "duration": 210,
    "start_time": "2021-12-24T20:13:46.047Z"
   },
   {
    "duration": 482,
    "start_time": "2021-12-24T20:13:46.259Z"
   },
   {
    "duration": 5,
    "start_time": "2021-12-24T20:13:46.743Z"
   },
   {
    "duration": 459,
    "start_time": "2021-12-24T20:13:46.749Z"
   },
   {
    "duration": 353,
    "start_time": "2021-12-24T20:13:47.210Z"
   },
   {
    "duration": 485,
    "start_time": "2021-12-24T20:13:47.565Z"
   },
   {
    "duration": 5,
    "start_time": "2021-12-24T20:13:48.051Z"
   },
   {
    "duration": 490,
    "start_time": "2021-12-24T20:13:48.057Z"
   },
   {
    "duration": 457,
    "start_time": "2021-12-24T20:13:48.548Z"
   },
   {
    "duration": 442,
    "start_time": "2021-12-24T20:14:04.445Z"
   },
   {
    "duration": 458,
    "start_time": "2021-12-24T20:16:24.697Z"
   },
   {
    "duration": 245,
    "start_time": "2021-12-24T20:17:02.174Z"
   },
   {
    "duration": 317,
    "start_time": "2021-12-24T20:17:19.746Z"
   },
   {
    "duration": 250,
    "start_time": "2021-12-24T20:17:24.993Z"
   },
   {
    "duration": 253,
    "start_time": "2021-12-24T20:17:30.241Z"
   },
   {
    "duration": 250,
    "start_time": "2021-12-24T20:18:00.828Z"
   },
   {
    "duration": 287,
    "start_time": "2021-12-24T20:18:42.718Z"
   },
   {
    "duration": 269,
    "start_time": "2021-12-24T20:19:09.948Z"
   },
   {
    "duration": 246,
    "start_time": "2021-12-24T20:20:10.127Z"
   },
   {
    "duration": 184,
    "start_time": "2021-12-24T20:21:05.382Z"
   },
   {
    "duration": 149,
    "start_time": "2021-12-24T20:22:21.236Z"
   },
   {
    "duration": 105,
    "start_time": "2021-12-24T20:22:31.814Z"
   },
   {
    "duration": 127,
    "start_time": "2021-12-24T20:22:34.744Z"
   },
   {
    "duration": 113,
    "start_time": "2021-12-24T20:22:48.098Z"
   },
   {
    "duration": 256,
    "start_time": "2021-12-24T20:23:08.047Z"
   },
   {
    "duration": 288,
    "start_time": "2021-12-24T20:26:30.114Z"
   },
   {
    "duration": 218,
    "start_time": "2021-12-24T20:26:36.844Z"
   },
   {
    "duration": 305,
    "start_time": "2021-12-24T20:26:43.713Z"
   },
   {
    "duration": 355,
    "start_time": "2021-12-24T20:26:51.193Z"
   },
   {
    "duration": 76,
    "start_time": "2021-12-24T20:27:08.709Z"
   },
   {
    "duration": 41,
    "start_time": "2021-12-24T20:27:08.787Z"
   },
   {
    "duration": 8,
    "start_time": "2021-12-24T20:27:08.830Z"
   },
   {
    "duration": 6,
    "start_time": "2021-12-24T20:27:08.840Z"
   },
   {
    "duration": 8,
    "start_time": "2021-12-24T20:27:08.847Z"
   },
   {
    "duration": 3,
    "start_time": "2021-12-24T20:27:08.856Z"
   },
   {
    "duration": 6,
    "start_time": "2021-12-24T20:27:08.860Z"
   },
   {
    "duration": 5,
    "start_time": "2021-12-24T20:27:08.867Z"
   },
   {
    "duration": 8,
    "start_time": "2021-12-24T20:27:08.874Z"
   },
   {
    "duration": 49,
    "start_time": "2021-12-24T20:27:08.884Z"
   },
   {
    "duration": 515,
    "start_time": "2021-12-24T20:27:08.934Z"
   },
   {
    "duration": 1,
    "start_time": "2021-12-24T20:27:09.451Z"
   },
   {
    "duration": 12,
    "start_time": "2021-12-24T20:27:09.454Z"
   },
   {
    "duration": 204,
    "start_time": "2021-12-24T20:27:09.467Z"
   },
   {
    "duration": 7,
    "start_time": "2021-12-24T20:27:09.673Z"
   },
   {
    "duration": 231,
    "start_time": "2021-12-24T20:27:09.682Z"
   },
   {
    "duration": 201,
    "start_time": "2021-12-24T20:27:09.915Z"
   },
   {
    "duration": 372,
    "start_time": "2021-12-24T20:27:10.126Z"
   },
   {
    "duration": 7,
    "start_time": "2021-12-24T20:27:10.500Z"
   },
   {
    "duration": 184,
    "start_time": "2021-12-24T20:27:10.508Z"
   },
   {
    "duration": 161,
    "start_time": "2021-12-24T20:27:10.694Z"
   },
   {
    "duration": 322,
    "start_time": "2021-12-24T20:27:10.857Z"
   },
   {
    "duration": 219,
    "start_time": "2021-12-24T20:27:11.181Z"
   },
   {
    "duration": 475,
    "start_time": "2021-12-24T20:27:11.401Z"
   },
   {
    "duration": 5,
    "start_time": "2021-12-24T20:27:11.878Z"
   },
   {
    "duration": 402,
    "start_time": "2021-12-24T20:27:11.885Z"
   },
   {
    "duration": 361,
    "start_time": "2021-12-24T20:27:12.290Z"
   },
   {
    "duration": 475,
    "start_time": "2021-12-24T20:27:12.652Z"
   },
   {
    "duration": 4,
    "start_time": "2021-12-24T20:27:13.129Z"
   },
   {
    "duration": 293,
    "start_time": "2021-12-24T20:27:13.134Z"
   },
   {
    "duration": 293,
    "start_time": "2021-12-24T20:27:13.429Z"
   },
   {
    "duration": 284,
    "start_time": "2021-12-24T20:27:13.724Z"
   },
   {
    "duration": 137,
    "start_time": "2021-12-24T20:27:14.009Z"
   },
   {
    "duration": 214,
    "start_time": "2021-12-25T09:09:24.521Z"
   },
   {
    "duration": 172,
    "start_time": "2021-12-25T09:09:33.459Z"
   },
   {
    "duration": 741,
    "start_time": "2021-12-25T09:09:39.683Z"
   },
   {
    "duration": 27,
    "start_time": "2021-12-25T09:09:40.426Z"
   },
   {
    "duration": 10,
    "start_time": "2021-12-25T09:09:40.455Z"
   },
   {
    "duration": 25,
    "start_time": "2021-12-25T09:09:40.467Z"
   },
   {
    "duration": 10,
    "start_time": "2021-12-25T09:09:40.494Z"
   },
   {
    "duration": 4,
    "start_time": "2021-12-25T09:09:40.506Z"
   },
   {
    "duration": 8,
    "start_time": "2021-12-25T09:09:40.511Z"
   },
   {
    "duration": 5,
    "start_time": "2021-12-25T09:09:40.521Z"
   },
   {
    "duration": 9,
    "start_time": "2021-12-25T09:09:40.529Z"
   },
   {
    "duration": 53,
    "start_time": "2021-12-25T09:09:40.540Z"
   },
   {
    "duration": 534,
    "start_time": "2021-12-25T09:09:40.595Z"
   },
   {
    "duration": 2,
    "start_time": "2021-12-25T09:09:41.131Z"
   },
   {
    "duration": 12,
    "start_time": "2021-12-25T09:09:41.135Z"
   },
   {
    "duration": 237,
    "start_time": "2021-12-25T09:09:41.149Z"
   },
   {
    "duration": 10,
    "start_time": "2021-12-25T09:09:41.391Z"
   },
   {
    "duration": 299,
    "start_time": "2021-12-25T09:09:41.403Z"
   },
   {
    "duration": 218,
    "start_time": "2021-12-25T09:09:41.704Z"
   },
   {
    "duration": 415,
    "start_time": "2021-12-25T09:09:41.924Z"
   },
   {
    "duration": 10,
    "start_time": "2021-12-25T09:09:42.340Z"
   },
   {
    "duration": 215,
    "start_time": "2021-12-25T09:09:42.352Z"
   },
   {
    "duration": 167,
    "start_time": "2021-12-25T09:09:42.569Z"
   },
   {
    "duration": 281,
    "start_time": "2021-12-25T09:09:42.739Z"
   },
   {
    "duration": 258,
    "start_time": "2021-12-25T09:09:43.022Z"
   },
   {
    "duration": 480,
    "start_time": "2021-12-25T09:09:43.282Z"
   },
   {
    "duration": 7,
    "start_time": "2021-12-25T09:09:43.764Z"
   },
   {
    "duration": 520,
    "start_time": "2021-12-25T09:09:43.773Z"
   },
   {
    "duration": 389,
    "start_time": "2021-12-25T09:09:44.298Z"
   },
   {
    "duration": 477,
    "start_time": "2021-12-25T09:09:44.689Z"
   },
   {
    "duration": 5,
    "start_time": "2021-12-25T09:09:45.168Z"
   },
   {
    "duration": 348,
    "start_time": "2021-12-25T09:09:45.175Z"
   },
   {
    "duration": 345,
    "start_time": "2021-12-25T09:09:45.525Z"
   },
   {
    "duration": 333,
    "start_time": "2021-12-25T09:09:45.873Z"
   },
   {
    "duration": 7,
    "start_time": "2021-12-25T09:09:46.208Z"
   },
   {
    "duration": 8,
    "start_time": "2021-12-25T09:09:59.473Z"
   },
   {
    "duration": 967,
    "start_time": "2021-12-25T11:58:57.804Z"
   },
   {
    "duration": 40,
    "start_time": "2021-12-25T11:58:58.774Z"
   },
   {
    "duration": 12,
    "start_time": "2021-12-25T11:58:58.818Z"
   },
   {
    "duration": 6,
    "start_time": "2021-12-25T11:58:58.833Z"
   },
   {
    "duration": 14,
    "start_time": "2021-12-25T11:58:58.867Z"
   },
   {
    "duration": 5,
    "start_time": "2021-12-25T11:58:58.883Z"
   },
   {
    "duration": 10,
    "start_time": "2021-12-25T11:58:58.891Z"
   },
   {
    "duration": 9,
    "start_time": "2021-12-25T11:58:58.904Z"
   },
   {
    "duration": 63,
    "start_time": "2021-12-25T11:58:58.919Z"
   },
   {
    "duration": 25,
    "start_time": "2021-12-25T11:58:58.985Z"
   },
   {
    "duration": 1012,
    "start_time": "2021-12-25T11:58:59.012Z"
   },
   {
    "duration": 3,
    "start_time": "2021-12-25T11:59:00.026Z"
   },
   {
    "duration": 22,
    "start_time": "2021-12-25T11:59:00.031Z"
   },
   {
    "duration": 377,
    "start_time": "2021-12-25T11:59:00.068Z"
   },
   {
    "duration": 25,
    "start_time": "2021-12-25T11:59:00.448Z"
   },
   {
    "duration": 454,
    "start_time": "2021-12-25T11:59:00.476Z"
   },
   {
    "duration": 366,
    "start_time": "2021-12-25T11:59:00.932Z"
   },
   {
    "duration": 852,
    "start_time": "2021-12-25T11:59:01.301Z"
   },
   {
    "duration": 24,
    "start_time": "2021-12-25T11:59:02.156Z"
   },
   {
    "duration": 353,
    "start_time": "2021-12-25T11:59:02.184Z"
   },
   {
    "duration": 271,
    "start_time": "2021-12-25T11:59:02.539Z"
   },
   {
    "duration": 486,
    "start_time": "2021-12-25T11:59:02.813Z"
   },
   {
    "duration": 514,
    "start_time": "2021-12-25T11:59:03.301Z"
   },
   {
    "duration": 762,
    "start_time": "2021-12-25T11:59:03.817Z"
   },
   {
    "duration": 9,
    "start_time": "2021-12-25T11:59:04.581Z"
   },
   {
    "duration": 827,
    "start_time": "2021-12-25T11:59:04.593Z"
   },
   {
    "duration": 666,
    "start_time": "2021-12-25T11:59:05.427Z"
   },
   {
    "duration": 727,
    "start_time": "2021-12-25T11:59:06.097Z"
   },
   {
    "duration": 7,
    "start_time": "2021-12-25T11:59:06.827Z"
   },
   {
    "duration": 572,
    "start_time": "2021-12-25T11:59:06.837Z"
   },
   {
    "duration": 547,
    "start_time": "2021-12-25T11:59:07.411Z"
   },
   {
    "duration": 538,
    "start_time": "2021-12-25T11:59:07.960Z"
   },
   {
    "duration": 14,
    "start_time": "2021-12-25T11:59:08.501Z"
   },
   {
    "duration": 98,
    "start_time": "2021-12-25T12:04:00.909Z"
   },
   {
    "duration": 386,
    "start_time": "2021-12-25T12:04:14.380Z"
   },
   {
    "duration": 17,
    "start_time": "2021-12-25T12:04:22.988Z"
   },
   {
    "duration": 395,
    "start_time": "2021-12-25T12:04:39.856Z"
   },
   {
    "duration": 15,
    "start_time": "2021-12-25T12:04:46.194Z"
   },
   {
    "duration": 23,
    "start_time": "2021-12-25T12:07:42.044Z"
   },
   {
    "duration": 306,
    "start_time": "2021-12-25T12:13:30.952Z"
   },
   {
    "duration": 268,
    "start_time": "2021-12-25T12:13:44.202Z"
   },
   {
    "duration": 129,
    "start_time": "2021-12-25T12:13:52.239Z"
   },
   {
    "duration": 37,
    "start_time": "2021-12-25T12:13:52.370Z"
   },
   {
    "duration": 13,
    "start_time": "2021-12-25T12:13:52.410Z"
   },
   {
    "duration": 41,
    "start_time": "2021-12-25T12:13:52.426Z"
   },
   {
    "duration": 14,
    "start_time": "2021-12-25T12:13:52.470Z"
   },
   {
    "duration": 8,
    "start_time": "2021-12-25T12:13:52.487Z"
   },
   {
    "duration": 13,
    "start_time": "2021-12-25T12:13:52.498Z"
   },
   {
    "duration": 19,
    "start_time": "2021-12-25T12:13:52.514Z"
   },
   {
    "duration": 15,
    "start_time": "2021-12-25T12:13:52.566Z"
   },
   {
    "duration": 38,
    "start_time": "2021-12-25T12:13:52.585Z"
   },
   {
    "duration": 1601,
    "start_time": "2021-12-25T12:13:52.626Z"
   },
   {
    "duration": 4,
    "start_time": "2021-12-25T12:13:54.230Z"
   },
   {
    "duration": 38,
    "start_time": "2021-12-25T12:13:54.237Z"
   },
   {
    "duration": 360,
    "start_time": "2021-12-25T12:13:54.278Z"
   },
   {
    "duration": 11,
    "start_time": "2021-12-25T12:13:54.640Z"
   },
   {
    "duration": 477,
    "start_time": "2021-12-25T12:13:54.666Z"
   },
   {
    "duration": 560,
    "start_time": "2021-12-25T12:13:55.146Z"
   },
   {
    "duration": 722,
    "start_time": "2021-12-25T12:13:55.709Z"
   },
   {
    "duration": 12,
    "start_time": "2021-12-25T12:13:56.433Z"
   },
   {
    "duration": 424,
    "start_time": "2021-12-25T12:13:56.467Z"
   },
   {
    "duration": 249,
    "start_time": "2021-12-25T12:13:56.894Z"
   },
   {
    "duration": 457,
    "start_time": "2021-12-25T12:13:57.145Z"
   },
   {
    "duration": 406,
    "start_time": "2021-12-25T12:13:57.604Z"
   },
   {
    "duration": 1193,
    "start_time": "2021-12-25T12:13:58.013Z"
   },
   {
    "duration": 8,
    "start_time": "2021-12-25T12:13:59.209Z"
   },
   {
    "duration": 939,
    "start_time": "2021-12-25T12:13:59.219Z"
   },
   {
    "duration": 660,
    "start_time": "2021-12-25T12:14:00.163Z"
   },
   {
    "duration": 766,
    "start_time": "2021-12-25T12:14:00.826Z"
   },
   {
    "duration": 6,
    "start_time": "2021-12-25T12:14:01.594Z"
   },
   {
    "duration": 555,
    "start_time": "2021-12-25T12:14:01.603Z"
   },
   {
    "duration": 560,
    "start_time": "2021-12-25T12:14:02.161Z"
   },
   {
    "duration": 558,
    "start_time": "2021-12-25T12:14:02.724Z"
   },
   {
    "duration": 10,
    "start_time": "2021-12-25T12:14:03.284Z"
   },
   {
    "duration": 287,
    "start_time": "2021-12-25T12:14:03.297Z"
   },
   {
    "duration": 19,
    "start_time": "2021-12-25T12:14:18.660Z"
   },
   {
    "duration": 9,
    "start_time": "2021-12-25T12:14:28.174Z"
   },
   {
    "duration": 15,
    "start_time": "2021-12-25T12:14:37.651Z"
   },
   {
    "duration": 73,
    "start_time": "2021-12-25T14:39:53.157Z"
   },
   {
    "duration": 40,
    "start_time": "2021-12-25T14:43:32.568Z"
   },
   {
    "duration": 13,
    "start_time": "2021-12-25T14:44:56.171Z"
   },
   {
    "duration": 13,
    "start_time": "2021-12-25T14:58:57.362Z"
   },
   {
    "duration": 97,
    "start_time": "2021-12-25T14:59:15.389Z"
   },
   {
    "duration": 12,
    "start_time": "2021-12-25T14:59:22.514Z"
   },
   {
    "duration": 13,
    "start_time": "2021-12-25T15:01:28.517Z"
   },
   {
    "duration": 59,
    "start_time": "2021-12-25T15:01:54.681Z"
   },
   {
    "duration": 88,
    "start_time": "2021-12-25T15:02:46.815Z"
   },
   {
    "duration": 40,
    "start_time": "2021-12-25T15:03:01.339Z"
   },
   {
    "duration": 283,
    "start_time": "2021-12-25T15:03:23.645Z"
   },
   {
    "duration": 281,
    "start_time": "2021-12-25T15:05:17.780Z"
   },
   {
    "duration": 278,
    "start_time": "2021-12-25T15:05:42.786Z"
   },
   {
    "duration": 282,
    "start_time": "2021-12-25T15:06:15.905Z"
   },
   {
    "duration": 286,
    "start_time": "2021-12-25T15:07:57.467Z"
   },
   {
    "duration": 394,
    "start_time": "2021-12-25T15:08:14.073Z"
   },
   {
    "duration": 274,
    "start_time": "2021-12-25T15:08:58.779Z"
   },
   {
    "duration": 271,
    "start_time": "2021-12-25T15:09:19.195Z"
   },
   {
    "duration": 263,
    "start_time": "2021-12-25T15:10:02.691Z"
   },
   {
    "duration": 269,
    "start_time": "2021-12-25T15:10:13.258Z"
   },
   {
    "duration": 347,
    "start_time": "2021-12-25T15:10:30.860Z"
   },
   {
    "duration": 9,
    "start_time": "2021-12-25T15:15:33.455Z"
   },
   {
    "duration": 39,
    "start_time": "2021-12-25T15:15:48.070Z"
   },
   {
    "duration": 11,
    "start_time": "2021-12-25T15:17:29.378Z"
   },
   {
    "duration": 12,
    "start_time": "2021-12-25T15:39:37.225Z"
   },
   {
    "duration": 269,
    "start_time": "2021-12-25T15:39:55.838Z"
   },
   {
    "duration": 22,
    "start_time": "2021-12-25T15:40:08.441Z"
   },
   {
    "duration": 305,
    "start_time": "2021-12-25T15:43:08.012Z"
   },
   {
    "duration": 267,
    "start_time": "2021-12-25T15:43:25.867Z"
   },
   {
    "duration": 277,
    "start_time": "2021-12-25T15:45:12.251Z"
   },
   {
    "duration": 2090,
    "start_time": "2021-12-25T15:45:17.816Z"
   },
   {
    "duration": 39,
    "start_time": "2021-12-25T15:45:37.235Z"
   },
   {
    "duration": 24,
    "start_time": "2021-12-25T15:49:50.911Z"
   },
   {
    "duration": 294,
    "start_time": "2021-12-25T15:54:14.300Z"
   },
   {
    "duration": 34,
    "start_time": "2021-12-25T15:54:35.905Z"
   },
   {
    "duration": 26,
    "start_time": "2021-12-25T15:55:15.685Z"
   },
   {
    "duration": 2791,
    "start_time": "2021-12-25T15:57:59.255Z"
   },
   {
    "duration": 29,
    "start_time": "2021-12-25T15:58:43.778Z"
   },
   {
    "duration": 172,
    "start_time": "2021-12-25T15:59:11.730Z"
   },
   {
    "duration": 36,
    "start_time": "2021-12-25T15:59:28.457Z"
   },
   {
    "duration": 28,
    "start_time": "2021-12-25T15:59:39.220Z"
   },
   {
    "duration": 262,
    "start_time": "2021-12-25T16:21:43.875Z"
   },
   {
    "duration": 7099,
    "start_time": "2021-12-25T16:21:51.173Z"
   },
   {
    "duration": 7583,
    "start_time": "2021-12-25T16:27:13.686Z"
   },
   {
    "duration": 342,
    "start_time": "2021-12-25T16:27:41.451Z"
   },
   {
    "duration": 1087,
    "start_time": "2021-12-25T16:27:42.843Z"
   },
   {
    "duration": 53,
    "start_time": "2021-12-25T16:27:43.933Z"
   },
   {
    "duration": 19,
    "start_time": "2021-12-25T16:27:43.990Z"
   },
   {
    "duration": 8,
    "start_time": "2021-12-25T16:27:44.012Z"
   },
   {
    "duration": 48,
    "start_time": "2021-12-25T16:27:44.022Z"
   },
   {
    "duration": 5,
    "start_time": "2021-12-25T16:27:44.073Z"
   },
   {
    "duration": 11,
    "start_time": "2021-12-25T16:27:44.082Z"
   },
   {
    "duration": 10,
    "start_time": "2021-12-25T16:27:44.096Z"
   },
   {
    "duration": 57,
    "start_time": "2021-12-25T16:27:44.112Z"
   },
   {
    "duration": 28,
    "start_time": "2021-12-25T16:27:44.173Z"
   },
   {
    "duration": 1033,
    "start_time": "2021-12-25T16:27:44.203Z"
   },
   {
    "duration": 2,
    "start_time": "2021-12-25T16:27:45.239Z"
   },
   {
    "duration": 34,
    "start_time": "2021-12-25T16:27:45.243Z"
   },
   {
    "duration": 355,
    "start_time": "2021-12-25T16:27:45.280Z"
   },
   {
    "duration": 29,
    "start_time": "2021-12-25T16:27:45.638Z"
   },
   {
    "duration": 467,
    "start_time": "2021-12-25T16:27:45.669Z"
   },
   {
    "duration": 530,
    "start_time": "2021-12-25T16:27:46.139Z"
   },
   {
    "duration": 686,
    "start_time": "2021-12-25T16:27:46.671Z"
   },
   {
    "duration": 12,
    "start_time": "2021-12-25T16:27:47.368Z"
   },
   {
    "duration": 467,
    "start_time": "2021-12-25T16:27:47.383Z"
   },
   {
    "duration": 371,
    "start_time": "2021-12-25T16:27:47.853Z"
   },
   {
    "duration": 464,
    "start_time": "2021-12-25T16:27:48.227Z"
   },
   {
    "duration": 408,
    "start_time": "2021-12-25T16:27:48.693Z"
   },
   {
    "duration": 742,
    "start_time": "2021-12-25T16:27:49.104Z"
   },
   {
    "duration": 20,
    "start_time": "2021-12-25T16:27:49.848Z"
   },
   {
    "duration": 914,
    "start_time": "2021-12-25T16:27:49.871Z"
   },
   {
    "duration": 879,
    "start_time": "2021-12-25T16:27:50.792Z"
   },
   {
    "duration": 1092,
    "start_time": "2021-12-25T16:27:51.675Z"
   },
   {
    "duration": 7,
    "start_time": "2021-12-25T16:27:52.769Z"
   },
   {
    "duration": 563,
    "start_time": "2021-12-25T16:27:52.778Z"
   },
   {
    "duration": 660,
    "start_time": "2021-12-25T16:27:53.344Z"
   },
   {
    "duration": 551,
    "start_time": "2021-12-25T16:27:54.007Z"
   },
   {
    "duration": 15,
    "start_time": "2021-12-25T16:27:54.568Z"
   },
   {
    "duration": 28,
    "start_time": "2021-12-25T16:27:54.586Z"
   },
   {
    "duration": 3,
    "start_time": "2021-12-25T16:27:54.617Z"
   },
   {
    "duration": 6813,
    "start_time": "2021-12-25T16:27:54.623Z"
   },
   {
    "duration": 43,
    "start_time": "2021-12-25T16:33:13.847Z"
   },
   {
    "duration": 145,
    "start_time": "2021-12-25T16:35:15.960Z"
   },
   {
    "duration": 304,
    "start_time": "2021-12-25T16:35:48.715Z"
   },
   {
    "duration": 71,
    "start_time": "2021-12-25T16:36:10.131Z"
   },
   {
    "duration": 42,
    "start_time": "2021-12-25T16:36:33.711Z"
   },
   {
    "duration": 16,
    "start_time": "2021-12-25T16:37:27.351Z"
   },
   {
    "duration": 417,
    "start_time": "2021-12-25T16:47:41.620Z"
   },
   {
    "duration": 348,
    "start_time": "2021-12-25T16:48:05.872Z"
   },
   {
    "duration": 389,
    "start_time": "2021-12-25T17:15:00.330Z"
   },
   {
    "duration": 400,
    "start_time": "2021-12-25T17:16:41.960Z"
   },
   {
    "duration": 849,
    "start_time": "2021-12-25T17:18:44.618Z"
   },
   {
    "duration": 758,
    "start_time": "2021-12-25T17:18:59.603Z"
   },
   {
    "duration": 741,
    "start_time": "2021-12-25T17:28:37.218Z"
   },
   {
    "duration": 816,
    "start_time": "2021-12-25T17:28:53.099Z"
   },
   {
    "duration": 538,
    "start_time": "2021-12-25T18:06:04.684Z"
   },
   {
    "duration": 362,
    "start_time": "2021-12-26T12:53:02.001Z"
   },
   {
    "duration": 321,
    "start_time": "2021-12-26T12:53:52.167Z"
   },
   {
    "duration": 742,
    "start_time": "2021-12-26T12:54:00.388Z"
   },
   {
    "duration": 25,
    "start_time": "2021-12-26T12:54:01.132Z"
   },
   {
    "duration": 9,
    "start_time": "2021-12-26T12:54:01.158Z"
   },
   {
    "duration": 6,
    "start_time": "2021-12-26T12:54:01.169Z"
   },
   {
    "duration": 14,
    "start_time": "2021-12-26T12:54:01.176Z"
   },
   {
    "duration": 6,
    "start_time": "2021-12-26T12:54:01.192Z"
   },
   {
    "duration": 18,
    "start_time": "2021-12-26T12:54:01.199Z"
   },
   {
    "duration": 5,
    "start_time": "2021-12-26T12:54:01.228Z"
   },
   {
    "duration": 9,
    "start_time": "2021-12-26T12:54:01.236Z"
   },
   {
    "duration": 16,
    "start_time": "2021-12-26T12:54:01.246Z"
   },
   {
    "duration": 565,
    "start_time": "2021-12-26T12:54:01.264Z"
   },
   {
    "duration": 2,
    "start_time": "2021-12-26T12:54:01.831Z"
   },
   {
    "duration": 13,
    "start_time": "2021-12-26T12:54:01.835Z"
   },
   {
    "duration": 208,
    "start_time": "2021-12-26T12:54:01.849Z"
   },
   {
    "duration": 7,
    "start_time": "2021-12-26T12:54:02.059Z"
   },
   {
    "duration": 254,
    "start_time": "2021-12-26T12:54:02.067Z"
   },
   {
    "duration": 207,
    "start_time": "2021-12-26T12:54:02.327Z"
   },
   {
    "duration": 361,
    "start_time": "2021-12-26T12:54:02.536Z"
   },
   {
    "duration": 8,
    "start_time": "2021-12-26T12:54:02.898Z"
   },
   {
    "duration": 193,
    "start_time": "2021-12-26T12:54:02.907Z"
   },
   {
    "duration": 145,
    "start_time": "2021-12-26T12:54:03.102Z"
   },
   {
    "duration": 239,
    "start_time": "2021-12-26T12:54:03.249Z"
   },
   {
    "duration": 209,
    "start_time": "2021-12-26T12:54:03.491Z"
   },
   {
    "duration": 462,
    "start_time": "2021-12-26T12:54:03.702Z"
   },
   {
    "duration": 6,
    "start_time": "2021-12-26T12:54:04.166Z"
   },
   {
    "duration": 446,
    "start_time": "2021-12-26T12:54:04.174Z"
   },
   {
    "duration": 344,
    "start_time": "2021-12-26T12:54:04.622Z"
   },
   {
    "duration": 469,
    "start_time": "2021-12-26T12:54:04.968Z"
   },
   {
    "duration": 4,
    "start_time": "2021-12-26T12:54:05.438Z"
   },
   {
    "duration": 290,
    "start_time": "2021-12-26T12:54:05.444Z"
   },
   {
    "duration": 301,
    "start_time": "2021-12-26T12:54:05.735Z"
   },
   {
    "duration": 284,
    "start_time": "2021-12-26T12:54:06.038Z"
   },
   {
    "duration": 7,
    "start_time": "2021-12-26T12:54:06.323Z"
   },
   {
    "duration": 17,
    "start_time": "2021-12-26T12:54:06.332Z"
   },
   {
    "duration": 10,
    "start_time": "2021-12-26T12:54:06.351Z"
   },
   {
    "duration": 423,
    "start_time": "2021-12-26T12:54:06.362Z"
   },
   {
    "duration": 20,
    "start_time": "2021-12-26T12:54:06.787Z"
   },
   {
    "duration": 237,
    "start_time": "2021-12-26T12:54:06.808Z"
   },
   {
    "duration": 6,
    "start_time": "2021-12-26T12:59:44.575Z"
   },
   {
    "duration": 217,
    "start_time": "2021-12-26T13:00:26.414Z"
   },
   {
    "duration": 3,
    "start_time": "2021-12-26T13:00:39.975Z"
   },
   {
    "duration": 328,
    "start_time": "2021-12-26T13:02:24.076Z"
   },
   {
    "duration": 346,
    "start_time": "2021-12-26T13:03:05.676Z"
   },
   {
    "duration": 442,
    "start_time": "2021-12-26T13:03:48.138Z"
   },
   {
    "duration": 297,
    "start_time": "2021-12-26T13:06:53.864Z"
   },
   {
    "duration": 508,
    "start_time": "2021-12-26T13:08:26.857Z"
   },
   {
    "duration": 328,
    "start_time": "2021-12-26T13:08:51.909Z"
   },
   {
    "duration": 83,
    "start_time": "2021-12-26T13:09:05.412Z"
   },
   {
    "duration": 43,
    "start_time": "2021-12-26T13:09:05.497Z"
   },
   {
    "duration": 8,
    "start_time": "2021-12-26T13:09:05.542Z"
   },
   {
    "duration": 3,
    "start_time": "2021-12-26T13:09:05.552Z"
   },
   {
    "duration": 12,
    "start_time": "2021-12-26T13:09:05.556Z"
   },
   {
    "duration": 4,
    "start_time": "2021-12-26T13:09:05.569Z"
   },
   {
    "duration": 6,
    "start_time": "2021-12-26T13:09:05.574Z"
   },
   {
    "duration": 4,
    "start_time": "2021-12-26T13:09:05.582Z"
   },
   {
    "duration": 8,
    "start_time": "2021-12-26T13:09:05.589Z"
   },
   {
    "duration": 40,
    "start_time": "2021-12-26T13:09:05.599Z"
   },
   {
    "duration": 536,
    "start_time": "2021-12-26T13:09:05.641Z"
   },
   {
    "duration": 2,
    "start_time": "2021-12-26T13:09:06.179Z"
   },
   {
    "duration": 12,
    "start_time": "2021-12-26T13:09:06.183Z"
   },
   {
    "duration": 196,
    "start_time": "2021-12-26T13:09:06.197Z"
   },
   {
    "duration": 6,
    "start_time": "2021-12-26T13:09:06.395Z"
   },
   {
    "duration": 225,
    "start_time": "2021-12-26T13:09:06.403Z"
   },
   {
    "duration": 199,
    "start_time": "2021-12-26T13:09:06.629Z"
   },
   {
    "duration": 435,
    "start_time": "2021-12-26T13:09:06.830Z"
   },
   {
    "duration": 7,
    "start_time": "2021-12-26T13:09:07.266Z"
   },
   {
    "duration": 185,
    "start_time": "2021-12-26T13:09:07.275Z"
   },
   {
    "duration": 133,
    "start_time": "2021-12-26T13:09:07.461Z"
   },
   {
    "duration": 244,
    "start_time": "2021-12-26T13:09:07.596Z"
   },
   {
    "duration": 206,
    "start_time": "2021-12-26T13:09:07.841Z"
   },
   {
    "duration": 456,
    "start_time": "2021-12-26T13:09:08.048Z"
   },
   {
    "duration": 5,
    "start_time": "2021-12-26T13:09:08.505Z"
   },
   {
    "duration": 389,
    "start_time": "2021-12-26T13:09:08.512Z"
   },
   {
    "duration": 348,
    "start_time": "2021-12-26T13:09:08.905Z"
   },
   {
    "duration": 515,
    "start_time": "2021-12-26T13:09:09.255Z"
   },
   {
    "duration": 4,
    "start_time": "2021-12-26T13:09:09.772Z"
   },
   {
    "duration": 300,
    "start_time": "2021-12-26T13:09:09.777Z"
   },
   {
    "duration": 298,
    "start_time": "2021-12-26T13:09:10.079Z"
   },
   {
    "duration": 284,
    "start_time": "2021-12-26T13:09:10.378Z"
   },
   {
    "duration": 6,
    "start_time": "2021-12-26T13:09:10.664Z"
   },
   {
    "duration": 18,
    "start_time": "2021-12-26T13:09:10.671Z"
   },
   {
    "duration": 10,
    "start_time": "2021-12-26T13:09:10.690Z"
   },
   {
    "duration": 440,
    "start_time": "2021-12-26T13:09:10.701Z"
   },
   {
    "duration": 6,
    "start_time": "2021-12-26T13:09:11.142Z"
   },
   {
    "duration": 322,
    "start_time": "2021-12-26T13:09:11.150Z"
   },
   {
    "duration": 329,
    "start_time": "2021-12-26T13:09:44.219Z"
   },
   {
    "duration": 360,
    "start_time": "2021-12-26T13:10:12.185Z"
   },
   {
    "duration": 632,
    "start_time": "2021-12-26T13:10:46.596Z"
   },
   {
    "duration": 549,
    "start_time": "2021-12-26T13:13:54.525Z"
   },
   {
    "duration": 583,
    "start_time": "2021-12-26T13:14:27.270Z"
   },
   {
    "duration": 2,
    "start_time": "2021-12-26T13:32:26.979Z"
   },
   {
    "duration": 369,
    "start_time": "2021-12-26T13:33:44.612Z"
   },
   {
    "duration": 414,
    "start_time": "2021-12-26T13:50:35.094Z"
   },
   {
    "duration": 608,
    "start_time": "2021-12-26T13:51:29.282Z"
   },
   {
    "duration": 11094,
    "start_time": "2021-12-26T13:51:40.075Z"
   },
   {
    "duration": 597,
    "start_time": "2021-12-26T13:52:21.945Z"
   },
   {
    "duration": 14,
    "start_time": "2021-12-26T13:57:47.476Z"
   },
   {
    "duration": 1289,
    "start_time": "2021-12-26T13:58:27.198Z"
   },
   {
    "duration": 837,
    "start_time": "2021-12-26T13:59:21.930Z"
   },
   {
    "duration": 2,
    "start_time": "2021-12-26T13:59:50.333Z"
   },
   {
    "duration": 363,
    "start_time": "2021-12-26T14:03:45.941Z"
   },
   {
    "duration": 3,
    "start_time": "2021-12-26T14:21:32.344Z"
   },
   {
    "duration": 9,
    "start_time": "2021-12-26T14:22:37.651Z"
   },
   {
    "duration": 11,
    "start_time": "2021-12-26T14:22:54.459Z"
   },
   {
    "duration": 8,
    "start_time": "2021-12-26T14:23:05.050Z"
   },
   {
    "duration": 21,
    "start_time": "2021-12-26T14:24:25.554Z"
   },
   {
    "duration": 378,
    "start_time": "2021-12-26T14:30:20.617Z"
   },
   {
    "duration": 498,
    "start_time": "2021-12-26T14:30:48.552Z"
   },
   {
    "duration": 228,
    "start_time": "2021-12-26T14:31:00.755Z"
   },
   {
    "duration": 255,
    "start_time": "2021-12-26T14:31:10.947Z"
   },
   {
    "duration": 244,
    "start_time": "2021-12-26T14:31:49.560Z"
   },
   {
    "duration": 294,
    "start_time": "2021-12-26T14:32:52.087Z"
   },
   {
    "duration": 439,
    "start_time": "2021-12-26T14:35:23.304Z"
   },
   {
    "duration": 469,
    "start_time": "2021-12-26T14:35:33.991Z"
   },
   {
    "duration": 462,
    "start_time": "2021-12-26T14:35:43.990Z"
   },
   {
    "duration": 768,
    "start_time": "2021-12-26T15:01:37.384Z"
   },
   {
    "duration": 26,
    "start_time": "2021-12-26T15:01:38.154Z"
   },
   {
    "duration": 9,
    "start_time": "2021-12-26T15:01:38.182Z"
   },
   {
    "duration": 4,
    "start_time": "2021-12-26T15:01:38.194Z"
   },
   {
    "duration": 35,
    "start_time": "2021-12-26T15:01:38.199Z"
   },
   {
    "duration": 4,
    "start_time": "2021-12-26T15:01:38.235Z"
   },
   {
    "duration": 10,
    "start_time": "2021-12-26T15:01:38.240Z"
   },
   {
    "duration": 10,
    "start_time": "2021-12-26T15:01:38.252Z"
   },
   {
    "duration": 8,
    "start_time": "2021-12-26T15:01:38.265Z"
   },
   {
    "duration": 17,
    "start_time": "2021-12-26T15:01:38.275Z"
   },
   {
    "duration": 554,
    "start_time": "2021-12-26T15:01:38.293Z"
   },
   {
    "duration": 2,
    "start_time": "2021-12-26T15:01:38.849Z"
   },
   {
    "duration": 11,
    "start_time": "2021-12-26T15:01:38.852Z"
   },
   {
    "duration": 205,
    "start_time": "2021-12-26T15:01:38.865Z"
   },
   {
    "duration": 9,
    "start_time": "2021-12-26T15:01:39.072Z"
   },
   {
    "duration": 263,
    "start_time": "2021-12-26T15:01:39.083Z"
   },
   {
    "duration": 194,
    "start_time": "2021-12-26T15:01:39.347Z"
   },
   {
    "duration": 367,
    "start_time": "2021-12-26T15:01:39.543Z"
   },
   {
    "duration": 16,
    "start_time": "2021-12-26T15:01:39.912Z"
   },
   {
    "duration": 184,
    "start_time": "2021-12-26T15:01:39.929Z"
   },
   {
    "duration": 134,
    "start_time": "2021-12-26T15:01:40.115Z"
   },
   {
    "duration": 253,
    "start_time": "2021-12-26T15:01:40.251Z"
   },
   {
    "duration": 467,
    "start_time": "2021-12-26T15:01:40.505Z"
   },
   {
    "duration": 690,
    "start_time": "2021-12-26T15:01:40.973Z"
   },
   {
    "duration": 7,
    "start_time": "2021-12-26T15:01:41.665Z"
   },
   {
    "duration": 468,
    "start_time": "2021-12-26T15:01:41.673Z"
   },
   {
    "duration": 356,
    "start_time": "2021-12-26T15:01:42.145Z"
   },
   {
    "duration": 462,
    "start_time": "2021-12-26T15:01:42.504Z"
   },
   {
    "duration": 4,
    "start_time": "2021-12-26T15:01:42.968Z"
   },
   {
    "duration": 330,
    "start_time": "2021-12-26T15:01:42.974Z"
   },
   {
    "duration": 307,
    "start_time": "2021-12-26T15:01:43.305Z"
   },
   {
    "duration": 296,
    "start_time": "2021-12-26T15:01:43.614Z"
   },
   {
    "duration": 6,
    "start_time": "2021-12-26T15:01:43.912Z"
   },
   {
    "duration": 17,
    "start_time": "2021-12-26T15:01:43.926Z"
   },
   {
    "duration": 9,
    "start_time": "2021-12-26T15:01:43.944Z"
   },
   {
    "duration": 459,
    "start_time": "2021-12-26T15:01:43.955Z"
   },
   {
    "duration": 27,
    "start_time": "2021-12-26T15:01:44.416Z"
   },
   {
    "duration": 614,
    "start_time": "2021-12-26T15:01:44.445Z"
   },
   {
    "duration": 437,
    "start_time": "2021-12-26T15:01:45.060Z"
   },
   {
    "duration": 6,
    "start_time": "2021-12-26T15:01:45.499Z"
   },
   {
    "duration": 982,
    "start_time": "2021-12-26T15:01:45.507Z"
   },
   {
    "duration": 120,
    "start_time": "2021-12-26T15:01:46.490Z"
   },
   {
    "duration": 758,
    "start_time": "2021-12-26T15:06:32.770Z"
   },
   {
    "duration": 26,
    "start_time": "2021-12-26T15:06:33.529Z"
   },
   {
    "duration": 8,
    "start_time": "2021-12-26T15:06:33.557Z"
   },
   {
    "duration": 4,
    "start_time": "2021-12-26T15:06:33.567Z"
   },
   {
    "duration": 11,
    "start_time": "2021-12-26T15:06:33.572Z"
   },
   {
    "duration": 6,
    "start_time": "2021-12-26T15:06:33.584Z"
   },
   {
    "duration": 36,
    "start_time": "2021-12-26T15:06:33.591Z"
   },
   {
    "duration": 7,
    "start_time": "2021-12-26T15:06:33.629Z"
   },
   {
    "duration": 9,
    "start_time": "2021-12-26T15:06:33.639Z"
   },
   {
    "duration": 17,
    "start_time": "2021-12-26T15:06:33.650Z"
   },
   {
    "duration": 645,
    "start_time": "2021-12-26T15:06:33.668Z"
   },
   {
    "duration": 2,
    "start_time": "2021-12-26T15:06:34.315Z"
   },
   {
    "duration": 14,
    "start_time": "2021-12-26T15:06:34.319Z"
   },
   {
    "duration": 201,
    "start_time": "2021-12-26T15:06:34.335Z"
   },
   {
    "duration": 8,
    "start_time": "2021-12-26T15:06:34.539Z"
   },
   {
    "duration": 255,
    "start_time": "2021-12-26T15:06:34.549Z"
   },
   {
    "duration": 197,
    "start_time": "2021-12-26T15:06:34.806Z"
   },
   {
    "duration": 375,
    "start_time": "2021-12-26T15:06:35.004Z"
   },
   {
    "duration": 7,
    "start_time": "2021-12-26T15:06:35.381Z"
   },
   {
    "duration": 181,
    "start_time": "2021-12-26T15:06:35.389Z"
   },
   {
    "duration": 138,
    "start_time": "2021-12-26T15:06:35.572Z"
   },
   {
    "duration": 241,
    "start_time": "2021-12-26T15:06:35.711Z"
   },
   {
    "duration": 215,
    "start_time": "2021-12-26T15:06:35.953Z"
   },
   {
    "duration": 476,
    "start_time": "2021-12-26T15:06:36.170Z"
   },
   {
    "duration": 5,
    "start_time": "2021-12-26T15:06:36.648Z"
   },
   {
    "duration": 459,
    "start_time": "2021-12-26T15:06:36.654Z"
   },
   {
    "duration": 342,
    "start_time": "2021-12-26T15:06:37.115Z"
   },
   {
    "duration": 489,
    "start_time": "2021-12-26T15:06:37.459Z"
   },
   {
    "duration": 4,
    "start_time": "2021-12-26T15:06:37.950Z"
   },
   {
    "duration": 310,
    "start_time": "2021-12-26T15:06:37.955Z"
   },
   {
    "duration": 294,
    "start_time": "2021-12-26T15:06:38.266Z"
   },
   {
    "duration": 285,
    "start_time": "2021-12-26T15:06:38.562Z"
   },
   {
    "duration": 7,
    "start_time": "2021-12-26T15:06:38.848Z"
   },
   {
    "duration": 17,
    "start_time": "2021-12-26T15:06:38.856Z"
   },
   {
    "duration": 10,
    "start_time": "2021-12-26T15:06:38.874Z"
   },
   {
    "duration": 438,
    "start_time": "2021-12-26T15:06:38.885Z"
   },
   {
    "duration": 22,
    "start_time": "2021-12-26T15:06:39.324Z"
   },
   {
    "duration": 586,
    "start_time": "2021-12-26T15:06:39.347Z"
   },
   {
    "duration": 440,
    "start_time": "2021-12-26T15:06:39.935Z"
   },
   {
    "duration": 7,
    "start_time": "2021-12-26T15:06:40.377Z"
   },
   {
    "duration": 34664,
    "start_time": "2021-12-26T15:06:40.386Z"
   },
   {
    "duration": 1460,
    "start_time": "2021-12-26T15:07:15.052Z"
   },
   {
    "duration": 131,
    "start_time": "2021-12-26T15:07:16.514Z"
   },
   {
    "duration": 8,
    "start_time": "2021-12-26T15:08:16.506Z"
   },
   {
    "duration": 277,
    "start_time": "2021-12-26T15:10:53.875Z"
   },
   {
    "duration": 252,
    "start_time": "2021-12-26T15:11:29.933Z"
   },
   {
    "duration": 914,
    "start_time": "2021-12-26T15:13:43.983Z"
   },
   {
    "duration": 106,
    "start_time": "2021-12-26T15:21:28.425Z"
   },
   {
    "duration": 220,
    "start_time": "2021-12-26T15:24:24.200Z"
   },
   {
    "duration": 1061,
    "start_time": "2021-12-26T15:27:18.355Z"
   },
   {
    "duration": 1509,
    "start_time": "2021-12-26T15:28:14.345Z"
   },
   {
    "duration": 2944,
    "start_time": "2021-12-26T15:30:15.774Z"
   },
   {
    "duration": 4849,
    "start_time": "2021-12-26T15:30:41.492Z"
   },
   {
    "duration": -94,
    "start_time": "2021-12-26T15:33:59.667Z"
   },
   {
    "duration": -101,
    "start_time": "2021-12-26T15:33:59.675Z"
   },
   {
    "duration": 256,
    "start_time": "2021-12-26T15:34:03.702Z"
   },
   {
    "duration": 416,
    "start_time": "2021-12-26T15:34:23.958Z"
   },
   {
    "duration": 887,
    "start_time": "2021-12-26T15:36:24.260Z"
   },
   {
    "duration": 316,
    "start_time": "2021-12-26T15:36:42.000Z"
   },
   {
    "duration": 311,
    "start_time": "2021-12-26T15:36:57.924Z"
   },
   {
    "duration": 411,
    "start_time": "2021-12-26T15:37:12.300Z"
   },
   {
    "duration": 355,
    "start_time": "2021-12-26T15:37:20.309Z"
   },
   {
    "duration": 109,
    "start_time": "2021-12-26T15:37:26.105Z"
   },
   {
    "duration": 757,
    "start_time": "2021-12-26T15:37:28.205Z"
   },
   {
    "duration": 24,
    "start_time": "2021-12-26T15:37:28.964Z"
   },
   {
    "duration": 7,
    "start_time": "2021-12-26T15:37:28.990Z"
   },
   {
    "duration": 4,
    "start_time": "2021-12-26T15:37:28.999Z"
   },
   {
    "duration": 23,
    "start_time": "2021-12-26T15:37:29.004Z"
   },
   {
    "duration": 3,
    "start_time": "2021-12-26T15:37:29.029Z"
   },
   {
    "duration": 11,
    "start_time": "2021-12-26T15:37:29.033Z"
   },
   {
    "duration": 7,
    "start_time": "2021-12-26T15:37:29.047Z"
   },
   {
    "duration": 10,
    "start_time": "2021-12-26T15:37:29.056Z"
   },
   {
    "duration": 19,
    "start_time": "2021-12-26T15:37:29.068Z"
   },
   {
    "duration": 573,
    "start_time": "2021-12-26T15:37:29.088Z"
   },
   {
    "duration": 2,
    "start_time": "2021-12-26T15:37:29.663Z"
   },
   {
    "duration": 11,
    "start_time": "2021-12-26T15:37:29.666Z"
   },
   {
    "duration": 205,
    "start_time": "2021-12-26T15:37:29.679Z"
   },
   {
    "duration": 8,
    "start_time": "2021-12-26T15:37:29.885Z"
   },
   {
    "duration": 263,
    "start_time": "2021-12-26T15:37:29.894Z"
   },
   {
    "duration": 191,
    "start_time": "2021-12-26T15:37:30.159Z"
   },
   {
    "duration": 377,
    "start_time": "2021-12-26T15:37:30.351Z"
   },
   {
    "duration": 8,
    "start_time": "2021-12-26T15:37:30.730Z"
   },
   {
    "duration": 178,
    "start_time": "2021-12-26T15:37:30.739Z"
   },
   {
    "duration": 141,
    "start_time": "2021-12-26T15:37:30.919Z"
   },
   {
    "duration": 248,
    "start_time": "2021-12-26T15:37:31.062Z"
   },
   {
    "duration": 317,
    "start_time": "2021-12-26T15:37:31.313Z"
   },
   {
    "duration": 446,
    "start_time": "2021-12-26T15:37:31.632Z"
   },
   {
    "duration": 6,
    "start_time": "2021-12-26T15:37:32.079Z"
   },
   {
    "duration": 452,
    "start_time": "2021-12-26T15:37:32.086Z"
   },
   {
    "duration": 349,
    "start_time": "2021-12-26T15:37:32.540Z"
   },
   {
    "duration": 478,
    "start_time": "2021-12-26T15:37:32.890Z"
   },
   {
    "duration": 4,
    "start_time": "2021-12-26T15:37:33.370Z"
   },
   {
    "duration": 294,
    "start_time": "2021-12-26T15:37:33.375Z"
   },
   {
    "duration": 295,
    "start_time": "2021-12-26T15:37:33.671Z"
   },
   {
    "duration": 294,
    "start_time": "2021-12-26T15:37:33.967Z"
   },
   {
    "duration": 6,
    "start_time": "2021-12-26T15:37:34.263Z"
   },
   {
    "duration": 18,
    "start_time": "2021-12-26T15:37:34.271Z"
   },
   {
    "duration": 11,
    "start_time": "2021-12-26T15:37:34.290Z"
   },
   {
    "duration": 487,
    "start_time": "2021-12-26T15:37:34.303Z"
   },
   {
    "duration": 21,
    "start_time": "2021-12-26T15:37:34.792Z"
   },
   {
    "duration": 599,
    "start_time": "2021-12-26T15:37:34.828Z"
   },
   {
    "duration": 428,
    "start_time": "2021-12-26T15:37:35.429Z"
   },
   {
    "duration": 8,
    "start_time": "2021-12-26T15:37:35.859Z"
   },
   {
    "duration": 8,
    "start_time": "2021-12-26T15:37:35.869Z"
   },
   {
    "duration": 266,
    "start_time": "2021-12-26T15:37:35.879Z"
   },
   {
    "duration": 1268,
    "start_time": "2021-12-26T15:37:36.147Z"
   },
   {
    "duration": 113,
    "start_time": "2021-12-26T15:37:37.417Z"
   },
   {
    "duration": 2904,
    "start_time": "2021-12-26T15:37:50.177Z"
   },
   {
    "duration": 109,
    "start_time": "2021-12-26T15:40:02.432Z"
   },
   {
    "duration": 3303,
    "start_time": "2021-12-26T15:40:10.951Z"
   },
   {
    "duration": 3124,
    "start_time": "2021-12-26T15:40:43.547Z"
   },
   {
    "duration": 26,
    "start_time": "2021-12-26T15:46:10.494Z"
   },
   {
    "duration": 27,
    "start_time": "2021-12-26T17:24:20.677Z"
   },
   {
    "duration": 29,
    "start_time": "2021-12-26T17:24:54.299Z"
   },
   {
    "duration": 82,
    "start_time": "2021-12-26T17:24:55.560Z"
   },
   {
    "duration": 21,
    "start_time": "2021-12-26T17:24:55.644Z"
   },
   {
    "duration": 8,
    "start_time": "2021-12-26T17:24:55.667Z"
   },
   {
    "duration": 4,
    "start_time": "2021-12-26T17:24:55.676Z"
   },
   {
    "duration": 12,
    "start_time": "2021-12-26T17:24:55.682Z"
   },
   {
    "duration": 3,
    "start_time": "2021-12-26T17:24:55.695Z"
   },
   {
    "duration": 6,
    "start_time": "2021-12-26T17:24:55.727Z"
   },
   {
    "duration": 5,
    "start_time": "2021-12-26T17:24:55.735Z"
   },
   {
    "duration": 9,
    "start_time": "2021-12-26T17:24:55.743Z"
   },
   {
    "duration": 15,
    "start_time": "2021-12-26T17:24:55.754Z"
   },
   {
    "duration": 621,
    "start_time": "2021-12-26T17:24:55.771Z"
   },
   {
    "duration": 2,
    "start_time": "2021-12-26T17:24:56.394Z"
   },
   {
    "duration": 12,
    "start_time": "2021-12-26T17:24:56.397Z"
   },
   {
    "duration": 204,
    "start_time": "2021-12-26T17:24:56.411Z"
   },
   {
    "duration": 12,
    "start_time": "2021-12-26T17:24:56.617Z"
   },
   {
    "duration": 221,
    "start_time": "2021-12-26T17:24:56.630Z"
   },
   {
    "duration": 197,
    "start_time": "2021-12-26T17:24:56.852Z"
   },
   {
    "duration": 380,
    "start_time": "2021-12-26T17:24:57.051Z"
   },
   {
    "duration": 9,
    "start_time": "2021-12-26T17:24:57.434Z"
   },
   {
    "duration": 178,
    "start_time": "2021-12-26T17:24:57.445Z"
   },
   {
    "duration": 136,
    "start_time": "2021-12-26T17:24:57.627Z"
   },
   {
    "duration": 246,
    "start_time": "2021-12-26T17:24:57.764Z"
   },
   {
    "duration": 210,
    "start_time": "2021-12-26T17:24:58.011Z"
   },
   {
    "duration": 530,
    "start_time": "2021-12-26T17:24:58.222Z"
   },
   {
    "duration": 5,
    "start_time": "2021-12-26T17:24:58.754Z"
   },
   {
    "duration": 442,
    "start_time": "2021-12-26T17:24:58.760Z"
   },
   {
    "duration": 384,
    "start_time": "2021-12-26T17:24:59.206Z"
   },
   {
    "duration": 456,
    "start_time": "2021-12-26T17:24:59.592Z"
   },
   {
    "duration": 5,
    "start_time": "2021-12-26T17:25:00.050Z"
   },
   {
    "duration": 319,
    "start_time": "2021-12-26T17:25:00.056Z"
   },
   {
    "duration": 396,
    "start_time": "2021-12-26T17:25:00.377Z"
   },
   {
    "duration": 293,
    "start_time": "2021-12-26T17:25:00.775Z"
   },
   {
    "duration": 7,
    "start_time": "2021-12-26T17:25:01.070Z"
   },
   {
    "duration": 24,
    "start_time": "2021-12-26T17:25:01.079Z"
   },
   {
    "duration": 9,
    "start_time": "2021-12-26T17:25:01.105Z"
   },
   {
    "duration": 531,
    "start_time": "2021-12-26T17:25:01.127Z"
   },
   {
    "duration": 92,
    "start_time": "2021-12-26T17:25:01.659Z"
   },
   {
    "duration": 574,
    "start_time": "2021-12-26T17:25:01.753Z"
   },
   {
    "duration": 374,
    "start_time": "2021-12-26T17:25:02.329Z"
   },
   {
    "duration": 7,
    "start_time": "2021-12-26T17:25:02.704Z"
   },
   {
    "duration": 19,
    "start_time": "2021-12-26T17:25:02.712Z"
   },
   {
    "duration": 257,
    "start_time": "2021-12-26T17:25:02.733Z"
   },
   {
    "duration": 43,
    "start_time": "2021-12-26T17:25:02.992Z"
   },
   {
    "duration": 108,
    "start_time": "2021-12-26T17:25:03.037Z"
   },
   {
    "duration": 30,
    "start_time": "2021-12-26T17:36:30.516Z"
   },
   {
    "duration": 32,
    "start_time": "2021-12-26T17:39:44.035Z"
   },
   {
    "duration": 8,
    "start_time": "2021-12-26T17:41:17.693Z"
   },
   {
    "duration": 15,
    "start_time": "2021-12-26T18:09:39.497Z"
   },
   {
    "duration": 14,
    "start_time": "2021-12-26T18:10:27.012Z"
   },
   {
    "duration": 15,
    "start_time": "2021-12-26T18:10:42.561Z"
   },
   {
    "duration": 13,
    "start_time": "2021-12-26T18:11:15.710Z"
   },
   {
    "duration": 247,
    "start_time": "2021-12-26T18:12:24.696Z"
   },
   {
    "duration": 84,
    "start_time": "2021-12-26T18:12:41.590Z"
   },
   {
    "duration": 21,
    "start_time": "2021-12-26T18:12:41.676Z"
   },
   {
    "duration": 32,
    "start_time": "2021-12-26T18:12:41.698Z"
   },
   {
    "duration": 4,
    "start_time": "2021-12-26T18:12:41.732Z"
   },
   {
    "duration": 10,
    "start_time": "2021-12-26T18:12:41.737Z"
   },
   {
    "duration": 3,
    "start_time": "2021-12-26T18:12:41.748Z"
   },
   {
    "duration": 6,
    "start_time": "2021-12-26T18:12:41.753Z"
   },
   {
    "duration": 6,
    "start_time": "2021-12-26T18:12:41.760Z"
   },
   {
    "duration": 8,
    "start_time": "2021-12-26T18:12:41.768Z"
   },
   {
    "duration": 16,
    "start_time": "2021-12-26T18:12:41.777Z"
   },
   {
    "duration": 546,
    "start_time": "2021-12-26T18:12:41.795Z"
   },
   {
    "duration": 2,
    "start_time": "2021-12-26T18:12:42.342Z"
   },
   {
    "duration": 11,
    "start_time": "2021-12-26T18:12:42.346Z"
   },
   {
    "duration": 198,
    "start_time": "2021-12-26T18:12:42.358Z"
   },
   {
    "duration": 8,
    "start_time": "2021-12-26T18:12:42.557Z"
   },
   {
    "duration": 222,
    "start_time": "2021-12-26T18:12:42.566Z"
   },
   {
    "duration": 245,
    "start_time": "2021-12-26T18:12:42.789Z"
   },
   {
    "duration": 383,
    "start_time": "2021-12-26T18:12:43.035Z"
   },
   {
    "duration": 13,
    "start_time": "2021-12-26T18:12:43.419Z"
   },
   {
    "duration": 180,
    "start_time": "2021-12-26T18:12:43.433Z"
   },
   {
    "duration": 129,
    "start_time": "2021-12-26T18:12:43.614Z"
   },
   {
    "duration": 247,
    "start_time": "2021-12-26T18:12:43.744Z"
   },
   {
    "duration": 227,
    "start_time": "2021-12-26T18:12:43.992Z"
   },
   {
    "duration": 494,
    "start_time": "2021-12-26T18:12:44.221Z"
   },
   {
    "duration": 15,
    "start_time": "2021-12-26T18:12:44.717Z"
   },
   {
    "duration": 418,
    "start_time": "2021-12-26T18:12:44.734Z"
   },
   {
    "duration": 420,
    "start_time": "2021-12-26T18:12:45.155Z"
   },
   {
    "duration": 564,
    "start_time": "2021-12-26T18:12:45.577Z"
   },
   {
    "duration": 4,
    "start_time": "2021-12-26T18:12:46.143Z"
   },
   {
    "duration": 348,
    "start_time": "2021-12-26T18:12:46.149Z"
   },
   {
    "duration": 302,
    "start_time": "2021-12-26T18:12:46.499Z"
   },
   {
    "duration": 290,
    "start_time": "2021-12-26T18:12:46.803Z"
   },
   {
    "duration": 7,
    "start_time": "2021-12-26T18:12:47.095Z"
   },
   {
    "duration": 32,
    "start_time": "2021-12-26T18:12:47.103Z"
   },
   {
    "duration": 9,
    "start_time": "2021-12-26T18:12:47.136Z"
   },
   {
    "duration": 418,
    "start_time": "2021-12-26T18:12:47.147Z"
   },
   {
    "duration": 21,
    "start_time": "2021-12-26T18:12:47.566Z"
   },
   {
    "duration": 630,
    "start_time": "2021-12-26T18:12:47.588Z"
   },
   {
    "duration": 431,
    "start_time": "2021-12-26T18:12:48.220Z"
   },
   {
    "duration": 7,
    "start_time": "2021-12-26T18:12:48.653Z"
   },
   {
    "duration": 8,
    "start_time": "2021-12-26T18:12:48.661Z"
   },
   {
    "duration": 260,
    "start_time": "2021-12-26T18:12:48.671Z"
   },
   {
    "duration": 12,
    "start_time": "2021-12-26T18:12:48.933Z"
   },
   {
    "duration": 125,
    "start_time": "2021-12-26T18:12:48.946Z"
   },
   {
    "duration": 1541,
    "start_time": "2021-12-26T18:13:35.751Z"
   },
   {
    "duration": 1671,
    "start_time": "2021-12-26T18:15:03.395Z"
   },
   {
    "duration": 3204,
    "start_time": "2021-12-26T18:16:36.259Z"
   },
   {
    "duration": 90,
    "start_time": "2021-12-26T18:17:20.137Z"
   },
   {
    "duration": 23,
    "start_time": "2021-12-26T18:17:20.229Z"
   },
   {
    "duration": 9,
    "start_time": "2021-12-26T18:17:20.254Z"
   },
   {
    "duration": 4,
    "start_time": "2021-12-26T18:17:20.266Z"
   },
   {
    "duration": 10,
    "start_time": "2021-12-26T18:17:20.271Z"
   },
   {
    "duration": 4,
    "start_time": "2021-12-26T18:17:20.282Z"
   },
   {
    "duration": 9,
    "start_time": "2021-12-26T18:17:20.287Z"
   },
   {
    "duration": 6,
    "start_time": "2021-12-26T18:17:20.327Z"
   },
   {
    "duration": 9,
    "start_time": "2021-12-26T18:17:20.335Z"
   },
   {
    "duration": 18,
    "start_time": "2021-12-26T18:17:20.345Z"
   },
   {
    "duration": 541,
    "start_time": "2021-12-26T18:17:20.365Z"
   },
   {
    "duration": 3,
    "start_time": "2021-12-26T18:17:20.907Z"
   },
   {
    "duration": 22,
    "start_time": "2021-12-26T18:17:20.911Z"
   },
   {
    "duration": 193,
    "start_time": "2021-12-26T18:17:20.934Z"
   },
   {
    "duration": 8,
    "start_time": "2021-12-26T18:17:21.128Z"
   },
   {
    "duration": 213,
    "start_time": "2021-12-26T18:17:21.138Z"
   },
   {
    "duration": 194,
    "start_time": "2021-12-26T18:17:21.353Z"
   },
   {
    "duration": 363,
    "start_time": "2021-12-26T18:17:21.549Z"
   },
   {
    "duration": 15,
    "start_time": "2021-12-26T18:17:21.914Z"
   },
   {
    "duration": 286,
    "start_time": "2021-12-26T18:17:21.930Z"
   },
   {
    "duration": 139,
    "start_time": "2021-12-26T18:17:22.218Z"
   },
   {
    "duration": 236,
    "start_time": "2021-12-26T18:17:22.358Z"
   },
   {
    "duration": 212,
    "start_time": "2021-12-26T18:17:22.597Z"
   },
   {
    "duration": 450,
    "start_time": "2021-12-26T18:17:22.811Z"
   },
   {
    "duration": 5,
    "start_time": "2021-12-26T18:17:23.263Z"
   },
   {
    "duration": 393,
    "start_time": "2021-12-26T18:17:23.270Z"
   },
   {
    "duration": 353,
    "start_time": "2021-12-26T18:17:23.664Z"
   },
   {
    "duration": 454,
    "start_time": "2021-12-26T18:17:24.027Z"
   },
   {
    "duration": 5,
    "start_time": "2021-12-26T18:17:24.483Z"
   },
   {
    "duration": 403,
    "start_time": "2021-12-26T18:17:24.490Z"
   },
   {
    "duration": 318,
    "start_time": "2021-12-26T18:17:24.895Z"
   },
   {
    "duration": 294,
    "start_time": "2021-12-26T18:17:25.215Z"
   },
   {
    "duration": 17,
    "start_time": "2021-12-26T18:17:25.510Z"
   },
   {
    "duration": 19,
    "start_time": "2021-12-26T18:17:25.529Z"
   },
   {
    "duration": 9,
    "start_time": "2021-12-26T18:17:25.549Z"
   },
   {
    "duration": 550,
    "start_time": "2021-12-26T18:17:25.560Z"
   },
   {
    "duration": 29,
    "start_time": "2021-12-26T18:17:26.112Z"
   },
   {
    "duration": 621,
    "start_time": "2021-12-26T18:17:26.143Z"
   },
   {
    "duration": 407,
    "start_time": "2021-12-26T18:17:26.766Z"
   },
   {
    "duration": 7,
    "start_time": "2021-12-26T18:17:27.174Z"
   },
   {
    "duration": 9,
    "start_time": "2021-12-26T18:17:27.183Z"
   },
   {
    "duration": 427,
    "start_time": "2021-12-26T18:17:27.194Z"
   },
   {
    "duration": 3492,
    "start_time": "2021-12-26T18:17:27.627Z"
   },
   {
    "duration": 12,
    "start_time": "2021-12-26T18:18:23.546Z"
   },
   {
    "duration": 12,
    "start_time": "2021-12-26T18:28:02.238Z"
   },
   {
    "duration": 12,
    "start_time": "2021-12-26T18:28:05.890Z"
   },
   {
    "duration": 325,
    "start_time": "2021-12-26T18:28:40.551Z"
   },
   {
    "duration": 256,
    "start_time": "2021-12-26T19:21:50.811Z"
   },
   {
    "duration": 171,
    "start_time": "2021-12-26T19:22:12.341Z"
   },
   {
    "duration": 217,
    "start_time": "2021-12-26T19:22:30.140Z"
   },
   {
    "duration": 188,
    "start_time": "2021-12-26T19:28:48.699Z"
   },
   {
    "duration": 213,
    "start_time": "2021-12-26T19:29:44.093Z"
   },
   {
    "duration": 207,
    "start_time": "2021-12-26T19:29:53.157Z"
   },
   {
    "duration": 211,
    "start_time": "2021-12-26T19:31:13.724Z"
   },
   {
    "duration": 9,
    "start_time": "2021-12-26T19:40:36.036Z"
   },
   {
    "duration": 10,
    "start_time": "2021-12-26T19:41:09.429Z"
   },
   {
    "duration": 10,
    "start_time": "2021-12-26T19:41:29.246Z"
   },
   {
    "duration": 7,
    "start_time": "2021-12-26T19:41:40.300Z"
   },
   {
    "duration": 16,
    "start_time": "2021-12-26T19:50:34.965Z"
   },
   {
    "duration": 12,
    "start_time": "2021-12-26T19:51:01.753Z"
   },
   {
    "duration": 197,
    "start_time": "2021-12-26T19:53:04.731Z"
   },
   {
    "duration": 181,
    "start_time": "2021-12-26T19:53:19.770Z"
   },
   {
    "duration": 190,
    "start_time": "2021-12-26T19:53:28.062Z"
   },
   {
    "duration": 206,
    "start_time": "2021-12-26T19:53:45.115Z"
   },
   {
    "duration": 296,
    "start_time": "2021-12-26T19:55:01.303Z"
   },
   {
    "duration": 200,
    "start_time": "2021-12-26T19:55:19.428Z"
   },
   {
    "duration": 120,
    "start_time": "2021-12-28T11:01:02.412Z"
   },
   {
    "duration": 404,
    "start_time": "2021-12-28T11:09:39.789Z"
   },
   {
    "duration": 118,
    "start_time": "2021-12-28T11:14:43.496Z"
   },
   {
    "duration": 163,
    "start_time": "2021-12-28T11:14:48.151Z"
   },
   {
    "duration": 350,
    "start_time": "2021-12-28T11:14:56.200Z"
   },
   {
    "duration": 140,
    "start_time": "2021-12-28T11:15:58.855Z"
   },
   {
    "duration": 343,
    "start_time": "2021-12-28T11:16:03.919Z"
   },
   {
    "duration": 341,
    "start_time": "2021-12-28T11:16:09.247Z"
   },
   {
    "duration": 1031,
    "start_time": "2021-12-28T11:16:19.109Z"
   },
   {
    "duration": 62,
    "start_time": "2021-12-28T11:16:20.143Z"
   },
   {
    "duration": 18,
    "start_time": "2021-12-28T11:16:20.209Z"
   },
   {
    "duration": 29,
    "start_time": "2021-12-28T11:16:20.230Z"
   },
   {
    "duration": 14,
    "start_time": "2021-12-28T11:16:20.263Z"
   },
   {
    "duration": 4,
    "start_time": "2021-12-28T11:16:20.279Z"
   },
   {
    "duration": 10,
    "start_time": "2021-12-28T11:16:20.285Z"
   },
   {
    "duration": 7,
    "start_time": "2021-12-28T11:16:20.298Z"
   },
   {
    "duration": 58,
    "start_time": "2021-12-28T11:16:20.308Z"
   },
   {
    "duration": 397,
    "start_time": "2021-12-28T11:16:20.368Z"
   },
   {
    "duration": -749,
    "start_time": "2021-12-28T11:16:21.518Z"
   },
   {
    "duration": -826,
    "start_time": "2021-12-28T11:16:21.597Z"
   },
   {
    "duration": -850,
    "start_time": "2021-12-28T11:16:21.622Z"
   },
   {
    "duration": -866,
    "start_time": "2021-12-28T11:16:21.640Z"
   },
   {
    "duration": -883,
    "start_time": "2021-12-28T11:16:21.658Z"
   },
   {
    "duration": -901,
    "start_time": "2021-12-28T11:16:21.678Z"
   },
   {
    "duration": -942,
    "start_time": "2021-12-28T11:16:21.720Z"
   },
   {
    "duration": -958,
    "start_time": "2021-12-28T11:16:21.738Z"
   },
   {
    "duration": -980,
    "start_time": "2021-12-28T11:16:21.761Z"
   },
   {
    "duration": -994,
    "start_time": "2021-12-28T11:16:21.777Z"
   },
   {
    "duration": -1014,
    "start_time": "2021-12-28T11:16:21.798Z"
   },
   {
    "duration": -1316,
    "start_time": "2021-12-28T11:16:22.101Z"
   },
   {
    "duration": -1331,
    "start_time": "2021-12-28T11:16:22.118Z"
   },
   {
    "duration": -1347,
    "start_time": "2021-12-28T11:16:22.135Z"
   },
   {
    "duration": -1365,
    "start_time": "2021-12-28T11:16:22.156Z"
   },
   {
    "duration": -1379,
    "start_time": "2021-12-28T11:16:22.171Z"
   },
   {
    "duration": -1397,
    "start_time": "2021-12-28T11:16:22.190Z"
   },
   {
    "duration": -1446,
    "start_time": "2021-12-28T11:16:22.241Z"
   },
   {
    "duration": -1466,
    "start_time": "2021-12-28T11:16:22.262Z"
   },
   {
    "duration": -1481,
    "start_time": "2021-12-28T11:16:22.278Z"
   },
   {
    "duration": -1503,
    "start_time": "2021-12-28T11:16:22.301Z"
   },
   {
    "duration": -1524,
    "start_time": "2021-12-28T11:16:22.324Z"
   },
   {
    "duration": -1562,
    "start_time": "2021-12-28T11:16:22.363Z"
   },
   {
    "duration": -1576,
    "start_time": "2021-12-28T11:16:22.378Z"
   },
   {
    "duration": -1590,
    "start_time": "2021-12-28T11:16:22.394Z"
   },
   {
    "duration": -1603,
    "start_time": "2021-12-28T11:16:22.408Z"
   },
   {
    "duration": -1722,
    "start_time": "2021-12-28T11:16:22.528Z"
   },
   {
    "duration": -1741,
    "start_time": "2021-12-28T11:16:22.548Z"
   },
   {
    "duration": -1712,
    "start_time": "2021-12-28T11:16:22.571Z"
   },
   {
    "duration": -1725,
    "start_time": "2021-12-28T11:16:22.586Z"
   },
   {
    "duration": -1783,
    "start_time": "2021-12-28T11:16:22.645Z"
   },
   {
    "duration": -1796,
    "start_time": "2021-12-28T11:16:22.660Z"
   },
   {
    "duration": -1819,
    "start_time": "2021-12-28T11:16:22.685Z"
   },
   {
    "duration": 617,
    "start_time": "2021-12-28T11:23:05.052Z"
   },
   {
    "duration": 45,
    "start_time": "2021-12-28T11:23:09.916Z"
   },
   {
    "duration": 112,
    "start_time": "2021-12-28T11:35:32.851Z"
   },
   {
    "duration": 36,
    "start_time": "2021-12-28T11:35:32.966Z"
   },
   {
    "duration": 14,
    "start_time": "2021-12-28T11:35:33.006Z"
   },
   {
    "duration": 40,
    "start_time": "2021-12-28T11:35:33.023Z"
   },
   {
    "duration": 16,
    "start_time": "2021-12-28T11:35:33.066Z"
   },
   {
    "duration": 6,
    "start_time": "2021-12-28T11:35:33.084Z"
   },
   {
    "duration": 8,
    "start_time": "2021-12-28T11:35:33.092Z"
   },
   {
    "duration": 55,
    "start_time": "2021-12-28T11:35:33.104Z"
   },
   {
    "duration": 13,
    "start_time": "2021-12-28T11:35:33.162Z"
   },
   {
    "duration": 49,
    "start_time": "2021-12-28T11:35:33.177Z"
   },
   {
    "duration": 1033,
    "start_time": "2021-12-28T11:35:33.229Z"
   },
   {
    "duration": 2,
    "start_time": "2021-12-28T11:35:34.265Z"
   },
   {
    "duration": 16,
    "start_time": "2021-12-28T11:35:34.269Z"
   },
   {
    "duration": 372,
    "start_time": "2021-12-28T11:35:34.287Z"
   },
   {
    "duration": 12,
    "start_time": "2021-12-28T11:35:34.661Z"
   },
   {
    "duration": 423,
    "start_time": "2021-12-28T11:35:34.677Z"
   },
   {
    "duration": 402,
    "start_time": "2021-12-28T11:35:35.103Z"
   },
   {
    "duration": 708,
    "start_time": "2021-12-28T11:35:35.508Z"
   },
   {
    "duration": 14,
    "start_time": "2021-12-28T11:35:36.218Z"
   },
   {
    "duration": 339,
    "start_time": "2021-12-28T11:35:36.234Z"
   },
   {
    "duration": 251,
    "start_time": "2021-12-28T11:35:36.575Z"
   },
   {
    "duration": 455,
    "start_time": "2021-12-28T11:35:36.829Z"
   },
   {
    "duration": 411,
    "start_time": "2021-12-28T11:35:37.286Z"
   },
   {
    "duration": 695,
    "start_time": "2021-12-28T11:35:37.699Z"
   },
   {
    "duration": 8,
    "start_time": "2021-12-28T11:35:38.396Z"
   },
   {
    "duration": 759,
    "start_time": "2021-12-28T11:35:38.406Z"
   },
   {
    "duration": 633,
    "start_time": "2021-12-28T11:35:39.168Z"
   },
   {
    "duration": 702,
    "start_time": "2021-12-28T11:35:39.804Z"
   },
   {
    "duration": 7,
    "start_time": "2021-12-28T11:35:40.509Z"
   },
   {
    "duration": 550,
    "start_time": "2021-12-28T11:35:40.519Z"
   },
   {
    "duration": 547,
    "start_time": "2021-12-28T11:35:41.071Z"
   },
   {
    "duration": 632,
    "start_time": "2021-12-28T11:35:41.620Z"
   },
   {
    "duration": 10,
    "start_time": "2021-12-28T11:35:42.259Z"
   },
   {
    "duration": 26,
    "start_time": "2021-12-28T11:35:42.271Z"
   },
   {
    "duration": 24,
    "start_time": "2021-12-28T11:35:42.300Z"
   },
   {
    "duration": 814,
    "start_time": "2021-12-28T11:35:42.326Z"
   },
   {
    "duration": 44,
    "start_time": "2021-12-28T11:35:43.142Z"
   },
   {
    "duration": 922,
    "start_time": "2021-12-28T11:35:43.189Z"
   },
   {
    "duration": 766,
    "start_time": "2021-12-28T11:35:44.116Z"
   },
   {
    "duration": 12,
    "start_time": "2021-12-28T11:35:44.884Z"
   },
   {
    "duration": 13,
    "start_time": "2021-12-28T11:35:44.898Z"
   },
   {
    "duration": 486,
    "start_time": "2021-12-28T11:35:44.913Z"
   },
   {
    "duration": 7,
    "start_time": "2021-12-28T11:35:45.402Z"
   },
   {
    "duration": 896,
    "start_time": "2021-12-28T11:40:53.655Z"
   },
   {
    "duration": 36,
    "start_time": "2021-12-28T11:40:57.897Z"
   },
   {
    "duration": 118,
    "start_time": "2021-12-28T11:40:59.432Z"
   },
   {
    "duration": 44,
    "start_time": "2021-12-28T11:40:59.554Z"
   },
   {
    "duration": 15,
    "start_time": "2021-12-28T11:40:59.603Z"
   },
   {
    "duration": 7,
    "start_time": "2021-12-28T11:40:59.659Z"
   },
   {
    "duration": 16,
    "start_time": "2021-12-28T11:40:59.669Z"
   },
   {
    "duration": 4,
    "start_time": "2021-12-28T11:40:59.687Z"
   },
   {
    "duration": 8,
    "start_time": "2021-12-28T11:40:59.693Z"
   },
   {
    "duration": 62,
    "start_time": "2021-12-28T11:40:59.704Z"
   },
   {
    "duration": 20,
    "start_time": "2021-12-28T11:40:59.770Z"
   },
   {
    "duration": 109,
    "start_time": "2021-12-28T11:40:59.794Z"
   },
   {
    "duration": 1104,
    "start_time": "2021-12-28T11:40:59.905Z"
   },
   {
    "duration": 4,
    "start_time": "2021-12-28T11:41:01.012Z"
   },
   {
    "duration": 26,
    "start_time": "2021-12-28T11:41:01.019Z"
   },
   {
    "duration": 379,
    "start_time": "2021-12-28T11:41:01.060Z"
   },
   {
    "duration": 22,
    "start_time": "2021-12-28T11:41:01.442Z"
   },
   {
    "duration": 385,
    "start_time": "2021-12-28T11:41:01.467Z"
   },
   {
    "duration": 406,
    "start_time": "2021-12-28T11:41:01.854Z"
   },
   {
    "duration": 681,
    "start_time": "2021-12-28T11:41:02.267Z"
   },
   {
    "duration": 13,
    "start_time": "2021-12-28T11:41:02.959Z"
   },
   {
    "duration": 343,
    "start_time": "2021-12-28T11:41:02.974Z"
   },
   {
    "duration": 259,
    "start_time": "2021-12-28T11:41:03.319Z"
   },
   {
    "duration": 470,
    "start_time": "2021-12-28T11:41:03.580Z"
   },
   {
    "duration": 511,
    "start_time": "2021-12-28T11:41:04.052Z"
   },
   {
    "duration": 733,
    "start_time": "2021-12-28T11:41:04.565Z"
   },
   {
    "duration": 9,
    "start_time": "2021-12-28T11:41:05.301Z"
   },
   {
    "duration": 1212,
    "start_time": "2021-12-28T11:41:05.313Z"
   },
   {
    "duration": 1100,
    "start_time": "2021-12-28T11:41:06.530Z"
   },
   {
    "duration": 1193,
    "start_time": "2021-12-28T11:41:07.634Z"
   },
   {
    "duration": 9,
    "start_time": "2021-12-28T11:41:08.832Z"
   },
   {
    "duration": 934,
    "start_time": "2021-12-28T11:41:08.860Z"
   },
   {
    "duration": 992,
    "start_time": "2021-12-28T11:41:09.797Z"
   },
   {
    "duration": 909,
    "start_time": "2021-12-28T11:41:10.792Z"
   },
   {
    "duration": 11,
    "start_time": "2021-12-28T11:41:11.704Z"
   },
   {
    "duration": 58,
    "start_time": "2021-12-28T11:41:11.718Z"
   },
   {
    "duration": 17,
    "start_time": "2021-12-28T11:41:11.779Z"
   },
   {
    "duration": 866,
    "start_time": "2021-12-28T11:41:11.798Z"
   },
   {
    "duration": 37,
    "start_time": "2021-12-28T11:41:12.667Z"
   },
   {
    "duration": 985,
    "start_time": "2021-12-28T11:41:12.706Z"
   },
   {
    "duration": 700,
    "start_time": "2021-12-28T11:41:13.693Z"
   },
   {
    "duration": 12,
    "start_time": "2021-12-28T11:41:14.396Z"
   },
   {
    "duration": 17,
    "start_time": "2021-12-28T11:41:14.410Z"
   },
   {
    "duration": 460,
    "start_time": "2021-12-28T11:41:14.429Z"
   },
   {
    "duration": 5,
    "start_time": "2021-12-28T11:41:14.893Z"
   },
   {
    "duration": 11101,
    "start_time": "2021-12-28T11:49:59.486Z"
   },
   {
    "duration": 9197,
    "start_time": "2021-12-28T11:50:57.199Z"
   },
   {
    "duration": 1825,
    "start_time": "2021-12-28T12:01:20.776Z"
   },
   {
    "duration": 64,
    "start_time": "2021-12-28T12:01:22.604Z"
   },
   {
    "duration": 18,
    "start_time": "2021-12-28T12:01:22.672Z"
   },
   {
    "duration": 8,
    "start_time": "2021-12-28T12:01:22.694Z"
   },
   {
    "duration": 17,
    "start_time": "2021-12-28T12:01:22.705Z"
   },
   {
    "duration": 36,
    "start_time": "2021-12-28T12:01:22.725Z"
   },
   {
    "duration": 11,
    "start_time": "2021-12-28T12:01:22.764Z"
   },
   {
    "duration": 8,
    "start_time": "2021-12-28T12:01:22.780Z"
   },
   {
    "duration": 28,
    "start_time": "2021-12-28T12:01:22.792Z"
   },
   {
    "duration": 92,
    "start_time": "2021-12-28T12:01:22.823Z"
   },
   {
    "duration": 1609,
    "start_time": "2021-12-28T12:01:22.918Z"
   },
   {
    "duration": 4,
    "start_time": "2021-12-28T12:01:24.530Z"
   },
   {
    "duration": 45,
    "start_time": "2021-12-28T12:01:24.537Z"
   },
   {
    "duration": 357,
    "start_time": "2021-12-28T12:01:24.584Z"
   },
   {
    "duration": 21,
    "start_time": "2021-12-28T12:01:24.943Z"
   },
   {
    "duration": 422,
    "start_time": "2021-12-28T12:01:24.967Z"
   },
   {
    "duration": 407,
    "start_time": "2021-12-28T12:01:25.392Z"
   },
   {
    "duration": 977,
    "start_time": "2021-12-28T12:01:25.802Z"
   },
   {
    "duration": 11,
    "start_time": "2021-12-28T12:01:26.782Z"
   },
   {
    "duration": 382,
    "start_time": "2021-12-28T12:01:26.796Z"
   },
   {
    "duration": 268,
    "start_time": "2021-12-28T12:01:27.181Z"
   },
   {
    "duration": 617,
    "start_time": "2021-12-28T12:01:27.452Z"
   },
   {
    "duration": 448,
    "start_time": "2021-12-28T12:01:28.073Z"
   },
   {
    "duration": 826,
    "start_time": "2021-12-28T12:01:28.524Z"
   },
   {
    "duration": 10,
    "start_time": "2021-12-28T12:01:29.360Z"
   },
   {
    "duration": 762,
    "start_time": "2021-12-28T12:01:29.372Z"
   },
   {
    "duration": 704,
    "start_time": "2021-12-28T12:01:30.137Z"
   },
   {
    "duration": 891,
    "start_time": "2021-12-28T12:01:30.843Z"
   },
   {
    "duration": 6,
    "start_time": "2021-12-28T12:01:31.737Z"
   },
   {
    "duration": 623,
    "start_time": "2021-12-28T12:01:31.745Z"
   },
   {
    "duration": 677,
    "start_time": "2021-12-28T12:01:32.371Z"
   },
   {
    "duration": 581,
    "start_time": "2021-12-28T12:01:33.050Z"
   },
   {
    "duration": 26,
    "start_time": "2021-12-28T12:01:33.634Z"
   },
   {
    "duration": 33,
    "start_time": "2021-12-28T12:01:33.662Z"
   },
   {
    "duration": 17,
    "start_time": "2021-12-28T12:01:33.698Z"
   },
   {
    "duration": 890,
    "start_time": "2021-12-28T12:01:33.719Z"
   },
   {
    "duration": 57,
    "start_time": "2021-12-28T12:01:34.612Z"
   },
   {
    "duration": 1351,
    "start_time": "2021-12-28T12:01:34.672Z"
   },
   {
    "duration": 953,
    "start_time": "2021-12-28T12:01:36.025Z"
   },
   {
    "duration": 15,
    "start_time": "2021-12-28T12:01:36.982Z"
   },
   {
    "duration": 19,
    "start_time": "2021-12-28T12:01:37.000Z"
   },
   {
    "duration": 545,
    "start_time": "2021-12-28T12:01:37.022Z"
   },
   {
    "duration": 5,
    "start_time": "2021-12-28T12:01:37.571Z"
   },
   {
    "duration": 15171,
    "start_time": "2021-12-28T12:01:37.581Z"
   },
   {
    "duration": 7419,
    "start_time": "2021-12-28T12:03:39.072Z"
   },
   {
    "duration": 7438,
    "start_time": "2021-12-28T12:04:42.434Z"
   },
   {
    "duration": 15312,
    "start_time": "2021-12-28T12:07:02.677Z"
   },
   {
    "duration": 15863,
    "start_time": "2021-12-28T12:07:24.405Z"
   },
   {
    "duration": 125,
    "start_time": "2021-12-28T12:09:23.838Z"
   },
   {
    "duration": 476,
    "start_time": "2021-12-28T12:12:30.829Z"
   },
   {
    "duration": 7113,
    "start_time": "2021-12-28T12:13:01.074Z"
   },
   {
    "duration": 7019,
    "start_time": "2021-12-28T12:13:31.511Z"
   },
   {
    "duration": 7390,
    "start_time": "2021-12-28T12:23:06.823Z"
   },
   {
    "duration": 11340,
    "start_time": "2021-12-28T12:23:19.872Z"
   },
   {
    "duration": 391,
    "start_time": "2021-12-28T12:24:13.382Z"
   },
   {
    "duration": 7271,
    "start_time": "2021-12-28T12:24:34.965Z"
   },
   {
    "duration": 8134,
    "start_time": "2021-12-28T12:24:53.853Z"
   },
   {
    "duration": 9804,
    "start_time": "2021-12-28T12:27:38.521Z"
   },
   {
    "duration": 18,
    "start_time": "2021-12-28T12:30:34.043Z"
   },
   {
    "duration": 11,
    "start_time": "2021-12-28T12:30:53.324Z"
   },
   {
    "duration": 356,
    "start_time": "2021-12-28T12:31:24.307Z"
   },
   {
    "duration": 13,
    "start_time": "2021-12-28T12:31:53.041Z"
   },
   {
    "duration": 13898,
    "start_time": "2021-12-28T12:33:16.574Z"
   },
   {
    "duration": 15706,
    "start_time": "2021-12-28T12:47:19.380Z"
   },
   {
    "duration": 182,
    "start_time": "2021-12-28T12:48:25.477Z"
   },
   {
    "duration": 55,
    "start_time": "2021-12-28T12:48:25.663Z"
   },
   {
    "duration": 42,
    "start_time": "2021-12-28T12:48:25.721Z"
   },
   {
    "duration": 7,
    "start_time": "2021-12-28T12:48:25.766Z"
   },
   {
    "duration": 17,
    "start_time": "2021-12-28T12:48:25.776Z"
   },
   {
    "duration": 5,
    "start_time": "2021-12-28T12:48:25.796Z"
   },
   {
    "duration": 11,
    "start_time": "2021-12-28T12:48:25.806Z"
   },
   {
    "duration": 47,
    "start_time": "2021-12-28T12:48:25.821Z"
   },
   {
    "duration": 20,
    "start_time": "2021-12-28T12:48:25.871Z"
   },
   {
    "duration": 102,
    "start_time": "2021-12-28T12:48:25.894Z"
   },
   {
    "duration": 1091,
    "start_time": "2021-12-28T12:48:25.999Z"
   },
   {
    "duration": 3,
    "start_time": "2021-12-28T12:48:27.092Z"
   },
   {
    "duration": 18,
    "start_time": "2021-12-28T12:48:27.098Z"
   },
   {
    "duration": 452,
    "start_time": "2021-12-28T12:48:27.119Z"
   },
   {
    "duration": 13,
    "start_time": "2021-12-28T12:48:27.574Z"
   },
   {
    "duration": 443,
    "start_time": "2021-12-28T12:48:27.590Z"
   },
   {
    "duration": 693,
    "start_time": "2021-12-28T12:48:28.036Z"
   },
   {
    "duration": 787,
    "start_time": "2021-12-28T12:48:28.732Z"
   },
   {
    "duration": 13,
    "start_time": "2021-12-28T12:48:29.522Z"
   },
   {
    "duration": 708,
    "start_time": "2021-12-28T12:48:29.537Z"
   },
   {
    "duration": 298,
    "start_time": "2021-12-28T12:48:30.247Z"
   },
   {
    "duration": 710,
    "start_time": "2021-12-28T12:48:30.565Z"
   },
   {
    "duration": 454,
    "start_time": "2021-12-28T12:48:31.279Z"
   },
   {
    "duration": 793,
    "start_time": "2021-12-28T12:48:31.736Z"
   },
   {
    "duration": 9,
    "start_time": "2021-12-28T12:48:32.532Z"
   },
   {
    "duration": 775,
    "start_time": "2021-12-28T12:48:32.561Z"
   },
   {
    "duration": 780,
    "start_time": "2021-12-28T12:48:33.339Z"
   },
   {
    "duration": 848,
    "start_time": "2021-12-28T12:48:34.123Z"
   },
   {
    "duration": 8,
    "start_time": "2021-12-28T12:48:34.974Z"
   },
   {
    "duration": 585,
    "start_time": "2021-12-28T12:48:34.985Z"
   },
   {
    "duration": 629,
    "start_time": "2021-12-28T12:48:35.573Z"
   },
   {
    "duration": 785,
    "start_time": "2021-12-28T12:48:36.205Z"
   },
   {
    "duration": 10,
    "start_time": "2021-12-28T12:48:36.993Z"
   },
   {
    "duration": 58,
    "start_time": "2021-12-28T12:48:37.006Z"
   },
   {
    "duration": 16,
    "start_time": "2021-12-28T12:48:37.067Z"
   },
   {
    "duration": 789,
    "start_time": "2021-12-28T12:48:37.086Z"
   },
   {
    "duration": 51,
    "start_time": "2021-12-28T12:48:37.878Z"
   },
   {
    "duration": 994,
    "start_time": "2021-12-28T12:48:37.932Z"
   },
   {
    "duration": 690,
    "start_time": "2021-12-28T12:48:38.928Z"
   },
   {
    "duration": 13,
    "start_time": "2021-12-28T12:48:39.621Z"
   },
   {
    "duration": 32,
    "start_time": "2021-12-28T12:48:39.637Z"
   },
   {
    "duration": 466,
    "start_time": "2021-12-28T12:48:39.672Z"
   },
   {
    "duration": 4,
    "start_time": "2021-12-28T12:48:40.141Z"
   },
   {
    "duration": 13408,
    "start_time": "2021-12-28T12:48:40.161Z"
   },
   {
    "duration": 17043,
    "start_time": "2021-12-28T12:48:53.572Z"
   },
   {
    "duration": 10485,
    "start_time": "2021-12-28T13:07:12.103Z"
   },
   {
    "duration": 797,
    "start_time": "2021-12-28T13:08:07.416Z"
   },
   {
    "duration": 417,
    "start_time": "2021-12-28T13:13:33.260Z"
   },
   {
    "duration": 1659,
    "start_time": "2021-12-28T13:13:42.505Z"
   },
   {
    "duration": 42,
    "start_time": "2021-12-28T13:13:44.166Z"
   },
   {
    "duration": 12,
    "start_time": "2021-12-28T13:13:44.211Z"
   },
   {
    "duration": 5,
    "start_time": "2021-12-28T13:13:44.226Z"
   },
   {
    "duration": 39,
    "start_time": "2021-12-28T13:13:44.233Z"
   },
   {
    "duration": 4,
    "start_time": "2021-12-28T13:13:44.275Z"
   },
   {
    "duration": 12,
    "start_time": "2021-12-28T13:13:44.281Z"
   },
   {
    "duration": 8,
    "start_time": "2021-12-28T13:13:44.296Z"
   },
   {
    "duration": 51,
    "start_time": "2021-12-28T13:13:44.308Z"
   },
   {
    "duration": 54,
    "start_time": "2021-12-28T13:13:44.362Z"
   },
   {
    "duration": 983,
    "start_time": "2021-12-28T13:13:44.418Z"
   },
   {
    "duration": 3,
    "start_time": "2021-12-28T13:13:45.403Z"
   },
   {
    "duration": 23,
    "start_time": "2021-12-28T13:13:45.408Z"
   },
   {
    "duration": 581,
    "start_time": "2021-12-28T13:13:45.434Z"
   },
   {
    "duration": 12,
    "start_time": "2021-12-28T13:13:46.018Z"
   },
   {
    "duration": 406,
    "start_time": "2021-12-28T13:13:46.032Z"
   },
   {
    "duration": 400,
    "start_time": "2021-12-28T13:13:46.441Z"
   },
   {
    "duration": 955,
    "start_time": "2021-12-28T13:13:46.844Z"
   },
   {
    "duration": 12,
    "start_time": "2021-12-28T13:13:47.802Z"
   },
   {
    "duration": 357,
    "start_time": "2021-12-28T13:13:47.817Z"
   },
   {
    "duration": 250,
    "start_time": "2021-12-28T13:13:48.176Z"
   },
   {
    "duration": 521,
    "start_time": "2021-12-28T13:13:48.429Z"
   },
   {
    "duration": 406,
    "start_time": "2021-12-28T13:13:48.955Z"
   },
   {
    "duration": 738,
    "start_time": "2021-12-28T13:13:49.364Z"
   },
   {
    "duration": 8,
    "start_time": "2021-12-28T13:13:50.105Z"
   },
   {
    "duration": 739,
    "start_time": "2021-12-28T13:13:50.116Z"
   },
   {
    "duration": 642,
    "start_time": "2021-12-28T13:13:50.860Z"
   },
   {
    "duration": 800,
    "start_time": "2021-12-28T13:13:51.505Z"
   },
   {
    "duration": 6,
    "start_time": "2021-12-28T13:13:52.308Z"
   },
   {
    "duration": 542,
    "start_time": "2021-12-28T13:13:52.317Z"
   },
   {
    "duration": 534,
    "start_time": "2021-12-28T13:13:52.862Z"
   },
   {
    "duration": 516,
    "start_time": "2021-12-28T13:13:53.399Z"
   },
   {
    "duration": 10,
    "start_time": "2021-12-28T13:13:53.919Z"
   },
   {
    "duration": 47,
    "start_time": "2021-12-28T13:13:53.931Z"
   },
   {
    "duration": 15,
    "start_time": "2021-12-28T13:13:53.981Z"
   },
   {
    "duration": 760,
    "start_time": "2021-12-28T13:13:53.999Z"
   },
   {
    "duration": 36,
    "start_time": "2021-12-28T13:13:54.761Z"
   },
   {
    "duration": 918,
    "start_time": "2021-12-28T13:13:54.800Z"
   },
   {
    "duration": 768,
    "start_time": "2021-12-28T13:13:55.721Z"
   },
   {
    "duration": 11,
    "start_time": "2021-12-28T13:13:56.491Z"
   },
   {
    "duration": 10,
    "start_time": "2021-12-28T13:13:56.504Z"
   },
   {
    "duration": 476,
    "start_time": "2021-12-28T13:13:56.516Z"
   },
   {
    "duration": 3,
    "start_time": "2021-12-28T13:13:56.994Z"
   },
   {
    "duration": 11970,
    "start_time": "2021-12-28T13:13:57.000Z"
   },
   {
    "duration": 446,
    "start_time": "2021-12-28T13:14:08.972Z"
   },
   {
    "duration": 17088,
    "start_time": "2021-12-28T13:14:50.642Z"
   },
   {
    "duration": 11508,
    "start_time": "2021-12-28T13:16:27.599Z"
   },
   {
    "duration": 11351,
    "start_time": "2021-12-28T13:16:54.795Z"
   },
   {
    "duration": 10266,
    "start_time": "2021-12-28T13:17:51.661Z"
   },
   {
    "duration": 6559,
    "start_time": "2021-12-28T13:19:09.519Z"
   },
   {
    "duration": 16044,
    "start_time": "2021-12-28T13:19:49.687Z"
   },
   {
    "duration": 11925,
    "start_time": "2021-12-28T13:31:03.455Z"
   },
   {
    "duration": 18264,
    "start_time": "2021-12-28T13:31:17.670Z"
   },
   {
    "duration": 18667,
    "start_time": "2021-12-28T13:31:38.058Z"
   },
   {
    "duration": 11047,
    "start_time": "2021-12-28T13:32:03.980Z"
   },
   {
    "duration": 18913,
    "start_time": "2021-12-28T13:32:15.766Z"
   },
   {
    "duration": 443,
    "start_time": "2021-12-28T13:32:57.591Z"
   },
   {
    "duration": 475,
    "start_time": "2021-12-28T13:33:07.215Z"
   },
   {
    "duration": 391,
    "start_time": "2021-12-28T13:33:41.640Z"
   },
   {
    "duration": 16414,
    "start_time": "2021-12-28T13:34:20.768Z"
   },
   {
    "duration": 1526,
    "start_time": "2021-12-28T13:38:54.599Z"
   },
   {
    "duration": 130,
    "start_time": "2021-12-28T13:39:58.666Z"
   },
   {
    "duration": 2287,
    "start_time": "2021-12-28T13:40:03.986Z"
   },
   {
    "duration": 122,
    "start_time": "2021-12-28T13:52:32.902Z"
   },
   {
    "duration": 118,
    "start_time": "2021-12-28T13:57:51.880Z"
   },
   {
    "duration": 594,
    "start_time": "2021-12-28T13:59:43.515Z"
   },
   {
    "duration": 3850,
    "start_time": "2021-12-28T14:00:09.258Z"
   },
   {
    "duration": 1178,
    "start_time": "2021-12-28T14:00:45.001Z"
   },
   {
    "duration": 927,
    "start_time": "2021-12-28T14:01:32.367Z"
   },
   {
    "duration": 1022,
    "start_time": "2021-12-28T14:01:40.529Z"
   },
   {
    "duration": 1175,
    "start_time": "2021-12-28T14:02:43.918Z"
   },
   {
    "duration": 29,
    "start_time": "2021-12-28T14:03:11.449Z"
   },
   {
    "duration": 112,
    "start_time": "2021-12-28T14:04:34.400Z"
   },
   {
    "duration": 4274,
    "start_time": "2021-12-28T14:04:45.674Z"
   },
   {
    "duration": 3989,
    "start_time": "2021-12-28T14:05:00.270Z"
   },
   {
    "duration": 1670,
    "start_time": "2022-07-14T19:18:59.768Z"
   },
   {
    "duration": 94,
    "start_time": "2022-07-14T19:20:42.138Z"
   },
   {
    "duration": 126,
    "start_time": "2022-07-14T19:20:44.259Z"
   },
   {
    "duration": 41,
    "start_time": "2022-07-14T19:20:44.387Z"
   },
   {
    "duration": 10,
    "start_time": "2022-07-14T19:20:44.429Z"
   },
   {
    "duration": 9,
    "start_time": "2022-07-14T19:20:44.441Z"
   },
   {
    "duration": 15,
    "start_time": "2022-07-14T19:20:44.451Z"
   },
   {
    "duration": 4,
    "start_time": "2022-07-14T19:20:44.468Z"
   },
   {
    "duration": 40,
    "start_time": "2022-07-14T19:20:44.474Z"
   },
   {
    "duration": 8,
    "start_time": "2022-07-14T19:20:44.515Z"
   },
   {
    "duration": 15,
    "start_time": "2022-07-14T19:20:44.525Z"
   },
   {
    "duration": 56,
    "start_time": "2022-07-14T19:20:44.542Z"
   },
   {
    "duration": 320,
    "start_time": "2022-07-14T19:20:44.600Z"
   },
   {
    "duration": 3,
    "start_time": "2022-07-14T19:20:44.922Z"
   },
   {
    "duration": 23,
    "start_time": "2022-07-14T19:20:44.926Z"
   },
   {
    "duration": 230,
    "start_time": "2022-07-14T19:20:44.950Z"
   },
   {
    "duration": 10,
    "start_time": "2022-07-14T19:20:45.182Z"
   },
   {
    "duration": 203,
    "start_time": "2022-07-14T19:20:45.193Z"
   },
   {
    "duration": 191,
    "start_time": "2022-07-14T19:20:45.398Z"
   },
   {
    "duration": 310,
    "start_time": "2022-07-14T19:20:45.590Z"
   },
   {
    "duration": 16,
    "start_time": "2022-07-14T19:20:45.902Z"
   },
   {
    "duration": 243,
    "start_time": "2022-07-14T19:20:45.919Z"
   },
   {
    "duration": 145,
    "start_time": "2022-07-14T19:20:46.164Z"
   },
   {
    "duration": 226,
    "start_time": "2022-07-14T19:20:46.311Z"
   },
   {
    "duration": 188,
    "start_time": "2022-07-14T19:20:46.539Z"
   },
   {
    "duration": 192,
    "start_time": "2022-07-14T19:20:46.729Z"
   },
   {
    "duration": 5,
    "start_time": "2022-07-14T19:20:46.923Z"
   },
   {
    "duration": 367,
    "start_time": "2022-07-14T19:20:46.930Z"
   },
   {
    "duration": 288,
    "start_time": "2022-07-14T19:20:47.298Z"
   },
   {
    "duration": 231,
    "start_time": "2022-07-14T19:20:47.591Z"
   },
   {
    "duration": 6,
    "start_time": "2022-07-14T19:20:47.824Z"
   },
   {
    "duration": 369,
    "start_time": "2022-07-14T19:20:47.831Z"
   },
   {
    "duration": 248,
    "start_time": "2022-07-14T19:20:48.201Z"
   },
   {
    "duration": 238,
    "start_time": "2022-07-14T19:20:48.451Z"
   },
   {
    "duration": 7,
    "start_time": "2022-07-14T19:20:48.691Z"
   },
   {
    "duration": 21,
    "start_time": "2022-07-14T19:20:48.710Z"
   },
   {
    "duration": 12,
    "start_time": "2022-07-14T19:20:48.732Z"
   },
   {
    "duration": 347,
    "start_time": "2022-07-14T19:20:48.745Z"
   },
   {
    "duration": 45,
    "start_time": "2022-07-14T19:20:49.094Z"
   },
   {
    "duration": 350,
    "start_time": "2022-07-14T19:20:49.140Z"
   },
   {
    "duration": 321,
    "start_time": "2022-07-14T19:20:49.491Z"
   },
   {
    "duration": 8,
    "start_time": "2022-07-14T19:20:49.813Z"
   },
   {
    "duration": 10,
    "start_time": "2022-07-14T19:20:49.823Z"
   },
   {
    "duration": 186,
    "start_time": "2022-07-14T19:20:49.835Z"
   },
   {
    "duration": 4,
    "start_time": "2022-07-14T19:20:50.022Z"
   },
   {
    "duration": 37,
    "start_time": "2022-07-14T19:20:50.027Z"
   },
   {
    "duration": 893,
    "start_time": "2022-07-14T19:20:50.065Z"
   },
   {
    "duration": 1333,
    "start_time": "2022-07-14T19:20:50.960Z"
   },
   {
    "duration": 14,
    "start_time": "2022-07-14T19:37:55.021Z"
   },
   {
    "duration": 8,
    "start_time": "2022-07-14T19:38:16.397Z"
   },
   {
    "duration": 20,
    "start_time": "2022-07-14T19:49:18.750Z"
   }
  ],
  "kernelspec": {
   "display_name": "Python 3 (ipykernel)",
   "language": "python",
   "name": "python3"
  },
  "language_info": {
   "codemirror_mode": {
    "name": "ipython",
    "version": 3
   },
   "file_extension": ".py",
   "mimetype": "text/x-python",
   "name": "python",
   "nbconvert_exporter": "python",
   "pygments_lexer": "ipython3",
   "version": "3.9.7"
  },
  "toc": {
   "base_numbering": 1,
   "nav_menu": {},
   "number_sections": true,
   "sideBar": true,
   "skip_h1_title": true,
   "title_cell": "Содержание",
   "title_sidebar": "Contents",
   "toc_cell": true,
   "toc_position": {},
   "toc_section_display": true,
   "toc_window_display": true
  }
 },
 "nbformat": 4,
 "nbformat_minor": 2
}
