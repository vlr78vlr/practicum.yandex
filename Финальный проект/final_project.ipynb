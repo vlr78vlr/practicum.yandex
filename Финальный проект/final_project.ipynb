{
 "cells": [
  {
   "cell_type": "markdown",
   "metadata": {},
   "source": [
    "Ссылка на презентацию:  https://drive.google.com/file/d/1Zyu-ObR9hId-LK5vlsVHimhDviSGwGhb/view?usp=sharing        "
   ]
  },
  {
   "cell_type": "markdown",
   "metadata": {},
   "source": [
    "Сылка на Dashboard: https://public.tableau.com/app/profile/kleoshkin.valerii/viz/final_project_16533981301190/Dashboard1?publish=yes"
   ]
  },
  {
   "cell_type": "markdown",
   "metadata": {},
   "source": [
    "# Ритейл — Анализ программы лояльности\n",
    "\n",
    "*Задача:*\n",
    "\n",
    "Проанализируйте программу лояльности магазина.\n",
    "\n",
    "- Проведите исследовательский анализ данных;\n",
    "- Проведите анализ программы лояльности;\n",
    "- Сформулируйте и проверьте статистические гипотезы.\n",
    "\n",
    "*Описание данных:*\n",
    "\n",
    "Датасет содержит данные о покупках в магазине строительных материалов «Строили, строили и наконец построили». Все покупатели могут получить доступ в магазин с использованием персональных карт. За 200 рублей в месяц они могут стать участниками программы лояльности. В программу включены скидки, специальные предложения, подарки.\n",
    "\n",
    "Файл retail_dataset.csv:\n",
    "\n",
    "- `purchaseId` — id чека;\n",
    "- `item_ID` — id товара;\n",
    "- `purchasedate` — дата покупки;\n",
    "- `Quantity` — количество товара;\n",
    "- `CustomerID` — id покупателя;\n",
    "- `ShopID` — id магазина;\n",
    "- `loyalty_program` — участвует ли покупатель в программе лояльности;\n",
    "\n",
    "Файл product_codes.csv:\n",
    "\n",
    "- `productID` — id товара;\n",
    "- `price_per_one` — стоимость одной единицы товара;"
   ]
  },
  {
   "cell_type": "markdown",
   "metadata": {},
   "source": [
    "Загрузим библиотеки"
   ]
  },
  {
   "cell_type": "code",
   "execution_count": 1,
   "metadata": {},
   "outputs": [],
   "source": [
    "import pandas as pd\n",
    "from datetime import date\n",
    "import matplotlib.pyplot as plt \n",
    "\n",
    "\n",
    "from scipy import stats as st\n",
    "import math\n",
    "import numpy as np\n",
    "from numpy.random import randn\n",
    "\n",
    "import seaborn as sns\n",
    "import plotly.express as px\n",
    "from plotly import graph_objects as go\n",
    "import math as mth\n",
    "\n",
    "import scipy.stats as stats\n",
    "from scipy import stats as st"
   ]
  },
  {
   "cell_type": "markdown",
   "metadata": {},
   "source": [
    "## Откроем файлы с данными product_codes .csv и retail_dataset .csv и изучите общую информацию."
   ]
  },
  {
   "cell_type": "code",
   "execution_count": 2,
   "metadata": {},
   "outputs": [
    {
     "data": {
      "text/html": [
       "<div>\n",
       "<style scoped>\n",
       "    .dataframe tbody tr th:only-of-type {\n",
       "        vertical-align: middle;\n",
       "    }\n",
       "\n",
       "    .dataframe tbody tr th {\n",
       "        vertical-align: top;\n",
       "    }\n",
       "\n",
       "    .dataframe thead th {\n",
       "        text-align: right;\n",
       "    }\n",
       "</style>\n",
       "<table border=\"1\" class=\"dataframe\">\n",
       "  <thead>\n",
       "    <tr style=\"text-align: right;\">\n",
       "      <th></th>\n",
       "      <th>purchaseid</th>\n",
       "      <th>item_ID</th>\n",
       "      <th>Quantity</th>\n",
       "      <th>purchasedate</th>\n",
       "      <th>CustomerID</th>\n",
       "      <th>ShopID</th>\n",
       "      <th>loyalty_program</th>\n",
       "    </tr>\n",
       "  </thead>\n",
       "  <tbody>\n",
       "    <tr>\n",
       "      <th>0</th>\n",
       "      <td>538280</td>\n",
       "      <td>21873</td>\n",
       "      <td>11</td>\n",
       "      <td>2016-12-10 12:50:00</td>\n",
       "      <td>18427.0</td>\n",
       "      <td>Shop 0</td>\n",
       "      <td>0.0</td>\n",
       "    </tr>\n",
       "    <tr>\n",
       "      <th>1</th>\n",
       "      <td>538862</td>\n",
       "      <td>22195</td>\n",
       "      <td>0</td>\n",
       "      <td>2016-12-14 14:11:00</td>\n",
       "      <td>22389.0</td>\n",
       "      <td>Shop 0</td>\n",
       "      <td>1.0</td>\n",
       "    </tr>\n",
       "    <tr>\n",
       "      <th>2</th>\n",
       "      <td>538855</td>\n",
       "      <td>21239</td>\n",
       "      <td>7</td>\n",
       "      <td>2016-12-14 13:50:00</td>\n",
       "      <td>22182.0</td>\n",
       "      <td>Shop 0</td>\n",
       "      <td>1.0</td>\n",
       "    </tr>\n",
       "    <tr>\n",
       "      <th>3</th>\n",
       "      <td>543543</td>\n",
       "      <td>22271</td>\n",
       "      <td>0</td>\n",
       "      <td>2017-02-09 15:33:00</td>\n",
       "      <td>23522.0</td>\n",
       "      <td>Shop 0</td>\n",
       "      <td>1.0</td>\n",
       "    </tr>\n",
       "    <tr>\n",
       "      <th>4</th>\n",
       "      <td>543812</td>\n",
       "      <td>79321</td>\n",
       "      <td>0</td>\n",
       "      <td>2017-02-13 14:40:00</td>\n",
       "      <td>23151.0</td>\n",
       "      <td>Shop 0</td>\n",
       "      <td>1.0</td>\n",
       "    </tr>\n",
       "  </tbody>\n",
       "</table>\n",
       "</div>"
      ],
      "text/plain": [
       "  purchaseid item_ID  Quantity         purchasedate  CustomerID  ShopID  \\\n",
       "0     538280   21873        11  2016-12-10 12:50:00     18427.0  Shop 0   \n",
       "1     538862   22195         0  2016-12-14 14:11:00     22389.0  Shop 0   \n",
       "2     538855   21239         7  2016-12-14 13:50:00     22182.0  Shop 0   \n",
       "3     543543   22271         0  2017-02-09 15:33:00     23522.0  Shop 0   \n",
       "4     543812   79321         0  2017-02-13 14:40:00     23151.0  Shop 0   \n",
       "\n",
       "   loyalty_program  \n",
       "0              0.0  \n",
       "1              1.0  \n",
       "2              1.0  \n",
       "3              1.0  \n",
       "4              1.0  "
      ]
     },
     "metadata": {},
     "output_type": "display_data"
    }
   ],
   "source": [
    "retail = pd.read_csv('/datasets/retail_dataset.csv') #открываем файл retail_dataset.csv\n",
    "display(retail.head())"
   ]
  },
  {
   "cell_type": "code",
   "execution_count": 3,
   "metadata": {},
   "outputs": [
    {
     "data": {
      "text/html": [
       "<div>\n",
       "<style scoped>\n",
       "    .dataframe tbody tr th:only-of-type {\n",
       "        vertical-align: middle;\n",
       "    }\n",
       "\n",
       "    .dataframe tbody tr th {\n",
       "        vertical-align: top;\n",
       "    }\n",
       "\n",
       "    .dataframe thead th {\n",
       "        text-align: right;\n",
       "    }\n",
       "</style>\n",
       "<table border=\"1\" class=\"dataframe\">\n",
       "  <thead>\n",
       "    <tr style=\"text-align: right;\">\n",
       "      <th></th>\n",
       "      <th>productID</th>\n",
       "      <th>price_per_one</th>\n",
       "    </tr>\n",
       "  </thead>\n",
       "  <tbody>\n",
       "    <tr>\n",
       "      <th>0</th>\n",
       "      <td>85123A</td>\n",
       "      <td>2.55</td>\n",
       "    </tr>\n",
       "    <tr>\n",
       "      <th>1</th>\n",
       "      <td>71053</td>\n",
       "      <td>3.39</td>\n",
       "    </tr>\n",
       "    <tr>\n",
       "      <th>2</th>\n",
       "      <td>84406B</td>\n",
       "      <td>2.75</td>\n",
       "    </tr>\n",
       "    <tr>\n",
       "      <th>3</th>\n",
       "      <td>84029G</td>\n",
       "      <td>3.39</td>\n",
       "    </tr>\n",
       "    <tr>\n",
       "      <th>4</th>\n",
       "      <td>84029E</td>\n",
       "      <td>3.39</td>\n",
       "    </tr>\n",
       "  </tbody>\n",
       "</table>\n",
       "</div>"
      ],
      "text/plain": [
       "  productID  price_per_one\n",
       "0    85123A           2.55\n",
       "1     71053           3.39\n",
       "2    84406B           2.75\n",
       "3    84029G           3.39\n",
       "4    84029E           3.39"
      ]
     },
     "metadata": {},
     "output_type": "display_data"
    }
   ],
   "source": [
    "product = pd.read_csv('/datasets/product_codes.csv') #открываем файл product_codes.csv\n",
    "display(product.head())"
   ]
  },
  {
   "cell_type": "markdown",
   "metadata": {},
   "source": [
    "##  Подготовим данные."
   ]
  },
  {
   "cell_type": "markdown",
   "metadata": {},
   "source": [
    "### Заменим названия столбцов для retail_dataset. Приведём  к нижнему регистру и \"змеиному\" виду.\n"
   ]
  },
  {
   "cell_type": "code",
   "execution_count": 4,
   "metadata": {},
   "outputs": [
    {
     "data": {
      "text/html": [
       "<div>\n",
       "<style scoped>\n",
       "    .dataframe tbody tr th:only-of-type {\n",
       "        vertical-align: middle;\n",
       "    }\n",
       "\n",
       "    .dataframe tbody tr th {\n",
       "        vertical-align: top;\n",
       "    }\n",
       "\n",
       "    .dataframe thead th {\n",
       "        text-align: right;\n",
       "    }\n",
       "</style>\n",
       "<table border=\"1\" class=\"dataframe\">\n",
       "  <thead>\n",
       "    <tr style=\"text-align: right;\">\n",
       "      <th></th>\n",
       "      <th>purchase_id</th>\n",
       "      <th>item_id</th>\n",
       "      <th>quantity</th>\n",
       "      <th>purchase_date</th>\n",
       "      <th>customer_id</th>\n",
       "      <th>shop_id</th>\n",
       "      <th>loyalty_program</th>\n",
       "    </tr>\n",
       "  </thead>\n",
       "  <tbody>\n",
       "    <tr>\n",
       "      <th>0</th>\n",
       "      <td>538280</td>\n",
       "      <td>21873</td>\n",
       "      <td>11</td>\n",
       "      <td>2016-12-10 12:50:00</td>\n",
       "      <td>18427.0</td>\n",
       "      <td>Shop 0</td>\n",
       "      <td>0.0</td>\n",
       "    </tr>\n",
       "    <tr>\n",
       "      <th>1</th>\n",
       "      <td>538862</td>\n",
       "      <td>22195</td>\n",
       "      <td>0</td>\n",
       "      <td>2016-12-14 14:11:00</td>\n",
       "      <td>22389.0</td>\n",
       "      <td>Shop 0</td>\n",
       "      <td>1.0</td>\n",
       "    </tr>\n",
       "    <tr>\n",
       "      <th>2</th>\n",
       "      <td>538855</td>\n",
       "      <td>21239</td>\n",
       "      <td>7</td>\n",
       "      <td>2016-12-14 13:50:00</td>\n",
       "      <td>22182.0</td>\n",
       "      <td>Shop 0</td>\n",
       "      <td>1.0</td>\n",
       "    </tr>\n",
       "    <tr>\n",
       "      <th>3</th>\n",
       "      <td>543543</td>\n",
       "      <td>22271</td>\n",
       "      <td>0</td>\n",
       "      <td>2017-02-09 15:33:00</td>\n",
       "      <td>23522.0</td>\n",
       "      <td>Shop 0</td>\n",
       "      <td>1.0</td>\n",
       "    </tr>\n",
       "    <tr>\n",
       "      <th>4</th>\n",
       "      <td>543812</td>\n",
       "      <td>79321</td>\n",
       "      <td>0</td>\n",
       "      <td>2017-02-13 14:40:00</td>\n",
       "      <td>23151.0</td>\n",
       "      <td>Shop 0</td>\n",
       "      <td>1.0</td>\n",
       "    </tr>\n",
       "  </tbody>\n",
       "</table>\n",
       "</div>"
      ],
      "text/plain": [
       "  purchase_id item_id  quantity        purchase_date  customer_id shop_id  \\\n",
       "0      538280   21873        11  2016-12-10 12:50:00      18427.0  Shop 0   \n",
       "1      538862   22195         0  2016-12-14 14:11:00      22389.0  Shop 0   \n",
       "2      538855   21239         7  2016-12-14 13:50:00      22182.0  Shop 0   \n",
       "3      543543   22271         0  2017-02-09 15:33:00      23522.0  Shop 0   \n",
       "4      543812   79321         0  2017-02-13 14:40:00      23151.0  Shop 0   \n",
       "\n",
       "   loyalty_program  \n",
       "0              0.0  \n",
       "1              1.0  \n",
       "2              1.0  \n",
       "3              1.0  \n",
       "4              1.0  "
      ]
     },
     "metadata": {},
     "output_type": "display_data"
    }
   ],
   "source": [
    "#retail.columns = [x.lower().replace(' ', '_') for x in retail.columns.values]\n",
    "retail.columns = ['purchase_id', 'item_id', 'quantity', 'purchase_date','customer_id', 'shop_id', 'loyalty_program']\n",
    "display(retail.head())"
   ]
  },
  {
   "cell_type": "markdown",
   "metadata": {},
   "source": [
    "### В таблице product_codes заменим название столбца productID на item_ID для единообразия и возможности дальнейшего объединения датасетов."
   ]
  },
  {
   "cell_type": "code",
   "execution_count": 5,
   "metadata": {},
   "outputs": [
    {
     "data": {
      "text/html": [
       "<div>\n",
       "<style scoped>\n",
       "    .dataframe tbody tr th:only-of-type {\n",
       "        vertical-align: middle;\n",
       "    }\n",
       "\n",
       "    .dataframe tbody tr th {\n",
       "        vertical-align: top;\n",
       "    }\n",
       "\n",
       "    .dataframe thead th {\n",
       "        text-align: right;\n",
       "    }\n",
       "</style>\n",
       "<table border=\"1\" class=\"dataframe\">\n",
       "  <thead>\n",
       "    <tr style=\"text-align: right;\">\n",
       "      <th></th>\n",
       "      <th>item_id</th>\n",
       "      <th>price_per_one</th>\n",
       "    </tr>\n",
       "  </thead>\n",
       "  <tbody>\n",
       "    <tr>\n",
       "      <th>0</th>\n",
       "      <td>85123A</td>\n",
       "      <td>2.55</td>\n",
       "    </tr>\n",
       "    <tr>\n",
       "      <th>1</th>\n",
       "      <td>71053</td>\n",
       "      <td>3.39</td>\n",
       "    </tr>\n",
       "    <tr>\n",
       "      <th>2</th>\n",
       "      <td>84406B</td>\n",
       "      <td>2.75</td>\n",
       "    </tr>\n",
       "    <tr>\n",
       "      <th>3</th>\n",
       "      <td>84029G</td>\n",
       "      <td>3.39</td>\n",
       "    </tr>\n",
       "    <tr>\n",
       "      <th>4</th>\n",
       "      <td>84029E</td>\n",
       "      <td>3.39</td>\n",
       "    </tr>\n",
       "    <tr>\n",
       "      <th>...</th>\n",
       "      <td>...</td>\n",
       "      <td>...</td>\n",
       "    </tr>\n",
       "    <tr>\n",
       "      <th>9964</th>\n",
       "      <td>84306</td>\n",
       "      <td>8.29</td>\n",
       "    </tr>\n",
       "    <tr>\n",
       "      <th>9965</th>\n",
       "      <td>90001A</td>\n",
       "      <td>4.15</td>\n",
       "    </tr>\n",
       "    <tr>\n",
       "      <th>9966</th>\n",
       "      <td>90118</td>\n",
       "      <td>2.46</td>\n",
       "    </tr>\n",
       "    <tr>\n",
       "      <th>9967</th>\n",
       "      <td>DOT</td>\n",
       "      <td>172.62</td>\n",
       "    </tr>\n",
       "    <tr>\n",
       "      <th>9968</th>\n",
       "      <td>20738</td>\n",
       "      <td>0.00</td>\n",
       "    </tr>\n",
       "  </tbody>\n",
       "</table>\n",
       "<p>9969 rows × 2 columns</p>\n",
       "</div>"
      ],
      "text/plain": [
       "     item_id  price_per_one\n",
       "0     85123A           2.55\n",
       "1      71053           3.39\n",
       "2     84406B           2.75\n",
       "3     84029G           3.39\n",
       "4     84029E           3.39\n",
       "...      ...            ...\n",
       "9964   84306           8.29\n",
       "9965  90001A           4.15\n",
       "9966   90118           2.46\n",
       "9967     DOT         172.62\n",
       "9968   20738           0.00\n",
       "\n",
       "[9969 rows x 2 columns]"
      ]
     },
     "metadata": {},
     "output_type": "display_data"
    }
   ],
   "source": [
    "product.rename(columns={'productID': 'item_id'}, inplace=True)\n",
    "display(product)"
   ]
  },
  {
   "cell_type": "code",
   "execution_count": 6,
   "metadata": {},
   "outputs": [],
   "source": [
    "#product['item_id'].nunique()"
   ]
  },
  {
   "cell_type": "markdown",
   "metadata": {},
   "source": [
    "### Проверим тип данных в датасетах. Преобразуйте данные в нужные типы ."
   ]
  },
  {
   "cell_type": "code",
   "execution_count": 7,
   "metadata": {},
   "outputs": [
    {
     "name": "stdout",
     "output_type": "stream",
     "text": [
      "<class 'pandas.core.frame.DataFrame'>\n",
      "RangeIndex: 105335 entries, 0 to 105334\n",
      "Data columns (total 7 columns):\n",
      " #   Column           Non-Null Count   Dtype  \n",
      "---  ------           --------------   -----  \n",
      " 0   purchase_id      105335 non-null  object \n",
      " 1   item_id          105335 non-null  object \n",
      " 2   quantity         105335 non-null  int64  \n",
      " 3   purchase_date    105335 non-null  object \n",
      " 4   customer_id      69125 non-null   float64\n",
      " 5   shop_id          105335 non-null  object \n",
      " 6   loyalty_program  105335 non-null  float64\n",
      "dtypes: float64(2), int64(1), object(4)\n",
      "memory usage: 5.6+ MB\n"
     ]
    }
   ],
   "source": [
    "retail.info()"
   ]
  },
  {
   "cell_type": "code",
   "execution_count": 8,
   "metadata": {},
   "outputs": [
    {
     "name": "stdout",
     "output_type": "stream",
     "text": [
      "<class 'pandas.core.frame.DataFrame'>\n",
      "RangeIndex: 9969 entries, 0 to 9968\n",
      "Data columns (total 2 columns):\n",
      " #   Column         Non-Null Count  Dtype  \n",
      "---  ------         --------------  -----  \n",
      " 0   item_id        9969 non-null   object \n",
      " 1   price_per_one  9969 non-null   float64\n",
      "dtypes: float64(1), object(1)\n",
      "memory usage: 155.9+ KB\n"
     ]
    }
   ],
   "source": [
    "product.info()"
   ]
  },
  {
   "cell_type": "code",
   "execution_count": 9,
   "metadata": {},
   "outputs": [
    {
     "name": "stdout",
     "output_type": "stream",
     "text": [
      "<class 'pandas.core.frame.DataFrame'>\n",
      "RangeIndex: 105335 entries, 0 to 105334\n",
      "Data columns (total 8 columns):\n",
      " #   Column           Non-Null Count   Dtype         \n",
      "---  ------           --------------   -----         \n",
      " 0   purchase_id      105335 non-null  object        \n",
      " 1   item_id          105335 non-null  object        \n",
      " 2   quantity         105335 non-null  int64         \n",
      " 3   purchase_date    105335 non-null  datetime64[ns]\n",
      " 4   customer_id      69125 non-null   float64       \n",
      " 5   shop_id          105335 non-null  object        \n",
      " 6   loyalty_program  105335 non-null  float64       \n",
      " 7   date             105335 non-null  datetime64[ns]\n",
      "dtypes: datetime64[ns](2), float64(2), int64(1), object(3)\n",
      "memory usage: 6.4+ MB\n"
     ]
    },
    {
     "data": {
      "text/html": [
       "<div>\n",
       "<style scoped>\n",
       "    .dataframe tbody tr th:only-of-type {\n",
       "        vertical-align: middle;\n",
       "    }\n",
       "\n",
       "    .dataframe tbody tr th {\n",
       "        vertical-align: top;\n",
       "    }\n",
       "\n",
       "    .dataframe thead th {\n",
       "        text-align: right;\n",
       "    }\n",
       "</style>\n",
       "<table border=\"1\" class=\"dataframe\">\n",
       "  <thead>\n",
       "    <tr style=\"text-align: right;\">\n",
       "      <th></th>\n",
       "      <th>purchase_id</th>\n",
       "      <th>item_id</th>\n",
       "      <th>quantity</th>\n",
       "      <th>purchase_date</th>\n",
       "      <th>customer_id</th>\n",
       "      <th>shop_id</th>\n",
       "      <th>loyalty_program</th>\n",
       "      <th>date</th>\n",
       "    </tr>\n",
       "  </thead>\n",
       "  <tbody>\n",
       "    <tr>\n",
       "      <th>0</th>\n",
       "      <td>538280</td>\n",
       "      <td>21873</td>\n",
       "      <td>11</td>\n",
       "      <td>2016-12-10 12:50:00</td>\n",
       "      <td>18427.0</td>\n",
       "      <td>Shop 0</td>\n",
       "      <td>0.0</td>\n",
       "      <td>2016-12-10</td>\n",
       "    </tr>\n",
       "    <tr>\n",
       "      <th>1</th>\n",
       "      <td>538862</td>\n",
       "      <td>22195</td>\n",
       "      <td>0</td>\n",
       "      <td>2016-12-14 14:11:00</td>\n",
       "      <td>22389.0</td>\n",
       "      <td>Shop 0</td>\n",
       "      <td>1.0</td>\n",
       "      <td>2016-12-14</td>\n",
       "    </tr>\n",
       "    <tr>\n",
       "      <th>2</th>\n",
       "      <td>538855</td>\n",
       "      <td>21239</td>\n",
       "      <td>7</td>\n",
       "      <td>2016-12-14 13:50:00</td>\n",
       "      <td>22182.0</td>\n",
       "      <td>Shop 0</td>\n",
       "      <td>1.0</td>\n",
       "      <td>2016-12-14</td>\n",
       "    </tr>\n",
       "    <tr>\n",
       "      <th>3</th>\n",
       "      <td>543543</td>\n",
       "      <td>22271</td>\n",
       "      <td>0</td>\n",
       "      <td>2017-02-09 15:33:00</td>\n",
       "      <td>23522.0</td>\n",
       "      <td>Shop 0</td>\n",
       "      <td>1.0</td>\n",
       "      <td>2017-02-09</td>\n",
       "    </tr>\n",
       "    <tr>\n",
       "      <th>4</th>\n",
       "      <td>543812</td>\n",
       "      <td>79321</td>\n",
       "      <td>0</td>\n",
       "      <td>2017-02-13 14:40:00</td>\n",
       "      <td>23151.0</td>\n",
       "      <td>Shop 0</td>\n",
       "      <td>1.0</td>\n",
       "      <td>2017-02-13</td>\n",
       "    </tr>\n",
       "  </tbody>\n",
       "</table>\n",
       "</div>"
      ],
      "text/plain": [
       "  purchase_id item_id  quantity       purchase_date  customer_id shop_id  \\\n",
       "0      538280   21873        11 2016-12-10 12:50:00      18427.0  Shop 0   \n",
       "1      538862   22195         0 2016-12-14 14:11:00      22389.0  Shop 0   \n",
       "2      538855   21239         7 2016-12-14 13:50:00      22182.0  Shop 0   \n",
       "3      543543   22271         0 2017-02-09 15:33:00      23522.0  Shop 0   \n",
       "4      543812   79321         0 2017-02-13 14:40:00      23151.0  Shop 0   \n",
       "\n",
       "   loyalty_program       date  \n",
       "0              0.0 2016-12-10  \n",
       "1              1.0 2016-12-14  \n",
       "2              1.0 2016-12-14  \n",
       "3              1.0 2017-02-09  \n",
       "4              1.0 2017-02-13  "
      ]
     },
     "metadata": {},
     "output_type": "display_data"
    }
   ],
   "source": [
    "retail['purchase_date'] = pd.to_datetime(retail['purchase_date'])\n",
    "retail['date']=pd.to_datetime(retail['purchase_date'].dt.strftime('%Y-%m-%d'))\n",
    "\n",
    "#Добавим столбец date усеченная до даты покупки(отбросим время покупки).\n",
    "\n",
    "retail.info()\n",
    "display(retail.head())"
   ]
  },
  {
   "cell_type": "markdown",
   "metadata": {},
   "source": [
    "Переведем значения столбца loyalty_program в целочисленный тип. "
   ]
  },
  {
   "cell_type": "code",
   "execution_count": 10,
   "metadata": {},
   "outputs": [
    {
     "data": {
      "text/html": [
       "<div>\n",
       "<style scoped>\n",
       "    .dataframe tbody tr th:only-of-type {\n",
       "        vertical-align: middle;\n",
       "    }\n",
       "\n",
       "    .dataframe tbody tr th {\n",
       "        vertical-align: top;\n",
       "    }\n",
       "\n",
       "    .dataframe thead th {\n",
       "        text-align: right;\n",
       "    }\n",
       "</style>\n",
       "<table border=\"1\" class=\"dataframe\">\n",
       "  <thead>\n",
       "    <tr style=\"text-align: right;\">\n",
       "      <th></th>\n",
       "      <th>purchase_id</th>\n",
       "      <th>item_id</th>\n",
       "      <th>quantity</th>\n",
       "      <th>purchase_date</th>\n",
       "      <th>customer_id</th>\n",
       "      <th>shop_id</th>\n",
       "      <th>loyalty_program</th>\n",
       "      <th>date</th>\n",
       "    </tr>\n",
       "  </thead>\n",
       "  <tbody>\n",
       "    <tr>\n",
       "      <th>0</th>\n",
       "      <td>538280</td>\n",
       "      <td>21873</td>\n",
       "      <td>11</td>\n",
       "      <td>2016-12-10 12:50:00</td>\n",
       "      <td>18427.0</td>\n",
       "      <td>Shop 0</td>\n",
       "      <td>0</td>\n",
       "      <td>2016-12-10</td>\n",
       "    </tr>\n",
       "    <tr>\n",
       "      <th>1</th>\n",
       "      <td>538862</td>\n",
       "      <td>22195</td>\n",
       "      <td>0</td>\n",
       "      <td>2016-12-14 14:11:00</td>\n",
       "      <td>22389.0</td>\n",
       "      <td>Shop 0</td>\n",
       "      <td>1</td>\n",
       "      <td>2016-12-14</td>\n",
       "    </tr>\n",
       "    <tr>\n",
       "      <th>2</th>\n",
       "      <td>538855</td>\n",
       "      <td>21239</td>\n",
       "      <td>7</td>\n",
       "      <td>2016-12-14 13:50:00</td>\n",
       "      <td>22182.0</td>\n",
       "      <td>Shop 0</td>\n",
       "      <td>1</td>\n",
       "      <td>2016-12-14</td>\n",
       "    </tr>\n",
       "    <tr>\n",
       "      <th>3</th>\n",
       "      <td>543543</td>\n",
       "      <td>22271</td>\n",
       "      <td>0</td>\n",
       "      <td>2017-02-09 15:33:00</td>\n",
       "      <td>23522.0</td>\n",
       "      <td>Shop 0</td>\n",
       "      <td>1</td>\n",
       "      <td>2017-02-09</td>\n",
       "    </tr>\n",
       "    <tr>\n",
       "      <th>4</th>\n",
       "      <td>543812</td>\n",
       "      <td>79321</td>\n",
       "      <td>0</td>\n",
       "      <td>2017-02-13 14:40:00</td>\n",
       "      <td>23151.0</td>\n",
       "      <td>Shop 0</td>\n",
       "      <td>1</td>\n",
       "      <td>2017-02-13</td>\n",
       "    </tr>\n",
       "  </tbody>\n",
       "</table>\n",
       "</div>"
      ],
      "text/plain": [
       "  purchase_id item_id  quantity       purchase_date  customer_id shop_id  \\\n",
       "0      538280   21873        11 2016-12-10 12:50:00      18427.0  Shop 0   \n",
       "1      538862   22195         0 2016-12-14 14:11:00      22389.0  Shop 0   \n",
       "2      538855   21239         7 2016-12-14 13:50:00      22182.0  Shop 0   \n",
       "3      543543   22271         0 2017-02-09 15:33:00      23522.0  Shop 0   \n",
       "4      543812   79321         0 2017-02-13 14:40:00      23151.0  Shop 0   \n",
       "\n",
       "   loyalty_program       date  \n",
       "0                0 2016-12-10  \n",
       "1                1 2016-12-14  \n",
       "2                1 2016-12-14  \n",
       "3                1 2017-02-09  \n",
       "4                1 2017-02-13  "
      ]
     },
     "metadata": {},
     "output_type": "display_data"
    }
   ],
   "source": [
    "retail['loyalty_program']=retail['loyalty_program'].astype('int64')\n",
    "display(retail.head(5))"
   ]
  },
  {
   "cell_type": "markdown",
   "metadata": {},
   "source": [
    "### Проверим есть ли пропуски  и дубликаты. Подумаем, что с ними делать.\n"
   ]
  },
  {
   "cell_type": "markdown",
   "metadata": {},
   "source": [
    "#### Проверим датасет retail_dataset"
   ]
  },
  {
   "cell_type": "code",
   "execution_count": 11,
   "metadata": {},
   "outputs": [
    {
     "data": {
      "text/plain": [
       "1033"
      ]
     },
     "execution_count": 11,
     "metadata": {},
     "output_type": "execute_result"
    }
   ],
   "source": [
    "retail.duplicated().sum() #считаем дубликаты в датафрейме retail_dataset\n"
   ]
  },
  {
   "cell_type": "code",
   "execution_count": 12,
   "metadata": {},
   "outputs": [
    {
     "data": {
      "text/plain": [
       "purchase_id            0\n",
       "item_id                0\n",
       "quantity               0\n",
       "purchase_date          0\n",
       "customer_id        36210\n",
       "shop_id                0\n",
       "loyalty_program        0\n",
       "date                   0\n",
       "dtype: int64"
      ]
     },
     "execution_count": 12,
     "metadata": {},
     "output_type": "execute_result"
    }
   ],
   "source": [
    "retail.isna().sum() #считаем пустые строки в датафрейме retail_dataset\n"
   ]
  },
  {
   "cell_type": "markdown",
   "metadata": {},
   "source": [
    "**Вывод:** Дубликаты есть. Их небольшое количество, всего 0,98%. Есть смысл избавиться от них. Пропусков значений гораздо больше, но они есть только в одном столбце customer_id (id покупателя). Предположим, что это клиенты которые покупали товары через кассу и не пользуются программой лояльности. Если это так, то и  пропуски оставим как есть."
   ]
  },
  {
   "cell_type": "code",
   "execution_count": 13,
   "metadata": {},
   "outputs": [
    {
     "name": "stdout",
     "output_type": "stream",
     "text": [
      "<class 'pandas.core.frame.DataFrame'>\n",
      "RangeIndex: 104302 entries, 0 to 104301\n",
      "Data columns (total 8 columns):\n",
      " #   Column           Non-Null Count   Dtype         \n",
      "---  ------           --------------   -----         \n",
      " 0   purchase_id      104302 non-null  object        \n",
      " 1   item_id          104302 non-null  object        \n",
      " 2   quantity         104302 non-null  int64         \n",
      " 3   purchase_date    104302 non-null  datetime64[ns]\n",
      " 4   customer_id      68154 non-null   float64       \n",
      " 5   shop_id          104302 non-null  object        \n",
      " 6   loyalty_program  104302 non-null  int64         \n",
      " 7   date             104302 non-null  datetime64[ns]\n",
      "dtypes: datetime64[ns](2), float64(1), int64(2), object(3)\n",
      "memory usage: 6.4+ MB\n"
     ]
    }
   ],
   "source": [
    "retail = retail.drop_duplicates().reset_index(drop=True)#удалим задублированные строки.\n",
    "retail.info()"
   ]
  },
  {
   "cell_type": "code",
   "execution_count": 14,
   "metadata": {},
   "outputs": [],
   "source": [
    "#retail.duplicated().sum()"
   ]
  },
  {
   "cell_type": "code",
   "execution_count": 15,
   "metadata": {},
   "outputs": [
    {
     "data": {
      "text/plain": [
       "purchase_id        0\n",
       "item_id            0\n",
       "quantity           0\n",
       "purchase_date      0\n",
       "customer_id        0\n",
       "shop_id            0\n",
       "loyalty_program    0\n",
       "date               0\n",
       "dtype: int64"
      ]
     },
     "execution_count": 15,
     "metadata": {},
     "output_type": "execute_result"
    }
   ],
   "source": [
    "retail_null=retail[retail['loyalty_program']== 1]\n",
    "retail_null.isna().sum()"
   ]
  },
  {
   "cell_type": "markdown",
   "metadata": {},
   "source": [
    "Предположение подтвердилось. Пропуски в customer_id только для пользователей,которые не входят в  программу лояльности. Будем считать , что это клиенты которые покупают через кассу и удалять их не будем."
   ]
  },
  {
   "cell_type": "markdown",
   "metadata": {},
   "source": [
    "#### Проверим датасет product_codes."
   ]
  },
  {
   "cell_type": "code",
   "execution_count": 16,
   "metadata": {},
   "outputs": [
    {
     "data": {
      "text/plain": [
       "0"
      ]
     },
     "execution_count": 16,
     "metadata": {},
     "output_type": "execute_result"
    }
   ],
   "source": [
    "product.duplicated().sum() #считаем дубликаты в датафрейме product_codes\n"
   ]
  },
  {
   "cell_type": "code",
   "execution_count": 17,
   "metadata": {},
   "outputs": [
    {
     "data": {
      "text/plain": [
       "item_id          0\n",
       "price_per_one    0\n",
       "dtype: int64"
      ]
     },
     "execution_count": 17,
     "metadata": {},
     "output_type": "execute_result"
    }
   ],
   "source": [
    "product.isna().sum() #считаем пустые строки в датафрейме product_codes\n"
   ]
  },
  {
   "cell_type": "markdown",
   "metadata": {},
   "source": [
    "**Вывод:** Дубликатов и пропусков нет. Отлично."
   ]
  },
  {
   "cell_type": "markdown",
   "metadata": {},
   "source": [
    "### Заменим цены на товар в таблицу product_codes  на медианное значение."
   ]
  },
  {
   "cell_type": "code",
   "execution_count": 18,
   "metadata": {},
   "outputs": [
    {
     "name": "stdout",
     "output_type": "stream",
     "text": [
      "<class 'pandas.core.frame.DataFrame'>\n",
      "RangeIndex: 9969 entries, 0 to 9968\n",
      "Data columns (total 2 columns):\n",
      " #   Column         Non-Null Count  Dtype  \n",
      "---  ------         --------------  -----  \n",
      " 0   item_id        9969 non-null   object \n",
      " 1   price_per_one  9969 non-null   float64\n",
      "dtypes: float64(1), object(1)\n",
      "memory usage: 155.9+ KB\n"
     ]
    }
   ],
   "source": [
    "product.info()"
   ]
  },
  {
   "cell_type": "code",
   "execution_count": 19,
   "metadata": {},
   "outputs": [
    {
     "data": {
      "text/plain": [
       "3159"
      ]
     },
     "execution_count": 19,
     "metadata": {},
     "output_type": "execute_result"
    }
   ],
   "source": [
    "product['item_id'].nunique()"
   ]
  },
  {
   "cell_type": "code",
   "execution_count": 20,
   "metadata": {},
   "outputs": [
    {
     "data": {
      "text/plain": [
       "item_id          382\n",
       "price_per_one    382\n",
       "dtype: int64"
      ]
     },
     "metadata": {},
     "output_type": "display_data"
    }
   ],
   "source": [
    "product_null = product[product['price_per_one']==0]\n",
    "display(product_null.count())"
   ]
  },
  {
   "cell_type": "markdown",
   "metadata": {},
   "source": [
    "Видим, что уникальных товаров 3159 при этом 382 нулевых цен. Всего записей 9969, это значит у некоторых  товаров несколько цен. Это конечно вопрос к коллегам из магазинов, почему есть нулевые цены и что они обозначают,  почему цена на один и тот же товар разная.  В данном проекте мы будем считать медианную цену чтобы исключить  выбросы в ценообразовании."
   ]
  },
  {
   "cell_type": "code",
   "execution_count": 21,
   "metadata": {},
   "outputs": [
    {
     "data": {
      "text/html": [
       "<div>\n",
       "<style scoped>\n",
       "    .dataframe tbody tr th:only-of-type {\n",
       "        vertical-align: middle;\n",
       "    }\n",
       "\n",
       "    .dataframe tbody tr th {\n",
       "        vertical-align: top;\n",
       "    }\n",
       "\n",
       "    .dataframe thead th {\n",
       "        text-align: right;\n",
       "    }\n",
       "</style>\n",
       "<table border=\"1\" class=\"dataframe\">\n",
       "  <thead>\n",
       "    <tr style=\"text-align: right;\">\n",
       "      <th></th>\n",
       "      <th>item_id</th>\n",
       "      <th>price_per_one</th>\n",
       "    </tr>\n",
       "  </thead>\n",
       "  <tbody>\n",
       "    <tr>\n",
       "      <th>0</th>\n",
       "      <td>10002</td>\n",
       "      <td>1.630</td>\n",
       "    </tr>\n",
       "    <tr>\n",
       "      <th>1</th>\n",
       "      <td>10080</td>\n",
       "      <td>0.850</td>\n",
       "    </tr>\n",
       "    <tr>\n",
       "      <th>2</th>\n",
       "      <td>10120</td>\n",
       "      <td>0.210</td>\n",
       "    </tr>\n",
       "    <tr>\n",
       "      <th>3</th>\n",
       "      <td>10123C</td>\n",
       "      <td>0.650</td>\n",
       "    </tr>\n",
       "    <tr>\n",
       "      <th>4</th>\n",
       "      <td>10124A</td>\n",
       "      <td>0.420</td>\n",
       "    </tr>\n",
       "    <tr>\n",
       "      <th>...</th>\n",
       "      <td>...</td>\n",
       "      <td>...</td>\n",
       "    </tr>\n",
       "    <tr>\n",
       "      <th>3154</th>\n",
       "      <td>gift_0001_20</td>\n",
       "      <td>16.845</td>\n",
       "    </tr>\n",
       "    <tr>\n",
       "      <th>3155</th>\n",
       "      <td>gift_0001_30</td>\n",
       "      <td>25.265</td>\n",
       "    </tr>\n",
       "    <tr>\n",
       "      <th>3156</th>\n",
       "      <td>gift_0001_40</td>\n",
       "      <td>34.040</td>\n",
       "    </tr>\n",
       "    <tr>\n",
       "      <th>3157</th>\n",
       "      <td>gift_0001_50</td>\n",
       "      <td>42.550</td>\n",
       "    </tr>\n",
       "    <tr>\n",
       "      <th>3158</th>\n",
       "      <td>m</td>\n",
       "      <td>2.550</td>\n",
       "    </tr>\n",
       "  </tbody>\n",
       "</table>\n",
       "<p>3159 rows × 2 columns</p>\n",
       "</div>"
      ],
      "text/plain": [
       "           item_id  price_per_one\n",
       "0            10002          1.630\n",
       "1            10080          0.850\n",
       "2            10120          0.210\n",
       "3           10123C          0.650\n",
       "4           10124A          0.420\n",
       "...            ...            ...\n",
       "3154  gift_0001_20         16.845\n",
       "3155  gift_0001_30         25.265\n",
       "3156  gift_0001_40         34.040\n",
       "3157  gift_0001_50         42.550\n",
       "3158             m          2.550\n",
       "\n",
       "[3159 rows x 2 columns]"
      ]
     },
     "metadata": {},
     "output_type": "display_data"
    }
   ],
   "source": [
    "product_mean = pd.pivot_table(product,index=['item_id'],values=['price_per_one'], aggfunc='median').reset_index()\n",
    "display(product_mean)"
   ]
  },
  {
   "cell_type": "markdown",
   "metadata": {},
   "source": [
    "### Соединим product_codes и retail_dataset  в один датасет по ключу  item_id"
   ]
  },
  {
   "cell_type": "code",
   "execution_count": 22,
   "metadata": {},
   "outputs": [
    {
     "data": {
      "text/plain": [
       "3159"
      ]
     },
     "execution_count": 22,
     "metadata": {},
     "output_type": "execute_result"
    }
   ],
   "source": [
    "retail['item_id'].nunique() # Посмотрпим сколько уникальных ключей  retail_dataset"
   ]
  },
  {
   "cell_type": "code",
   "execution_count": 23,
   "metadata": {},
   "outputs": [
    {
     "data": {
      "text/plain": [
       "3159"
      ]
     },
     "execution_count": 23,
     "metadata": {},
     "output_type": "execute_result"
    }
   ],
   "source": [
    "product_mean['item_id'].nunique() # Посмотрпим сколько уникальных ключей product_codes"
   ]
  },
  {
   "cell_type": "markdown",
   "metadata": {},
   "source": [
    "Ключей одинаковое количество. Идеально!"
   ]
  },
  {
   "cell_type": "code",
   "execution_count": 24,
   "metadata": {},
   "outputs": [],
   "source": [
    "data=retail.merge(product_mean, on=['item_id'], how='left').reset_index(drop=True)\n",
    "#display(data)\n",
    "#retail.info()"
   ]
  },
  {
   "cell_type": "markdown",
   "metadata": {},
   "source": [
    "Добавим новый столбец __revenue__ ,  перемножив кол-во покупок на цену за единицу товара."
   ]
  },
  {
   "cell_type": "code",
   "execution_count": 25,
   "metadata": {},
   "outputs": [
    {
     "data": {
      "text/html": [
       "<div>\n",
       "<style scoped>\n",
       "    .dataframe tbody tr th:only-of-type {\n",
       "        vertical-align: middle;\n",
       "    }\n",
       "\n",
       "    .dataframe tbody tr th {\n",
       "        vertical-align: top;\n",
       "    }\n",
       "\n",
       "    .dataframe thead th {\n",
       "        text-align: right;\n",
       "    }\n",
       "</style>\n",
       "<table border=\"1\" class=\"dataframe\">\n",
       "  <thead>\n",
       "    <tr style=\"text-align: right;\">\n",
       "      <th></th>\n",
       "      <th>purchase_id</th>\n",
       "      <th>item_id</th>\n",
       "      <th>quantity</th>\n",
       "      <th>purchase_date</th>\n",
       "      <th>customer_id</th>\n",
       "      <th>shop_id</th>\n",
       "      <th>loyalty_program</th>\n",
       "      <th>date</th>\n",
       "      <th>price_per_one</th>\n",
       "      <th>revenue</th>\n",
       "    </tr>\n",
       "  </thead>\n",
       "  <tbody>\n",
       "    <tr>\n",
       "      <th>0</th>\n",
       "      <td>538280</td>\n",
       "      <td>21873</td>\n",
       "      <td>11</td>\n",
       "      <td>2016-12-10 12:50:00</td>\n",
       "      <td>18427.0</td>\n",
       "      <td>Shop 0</td>\n",
       "      <td>0</td>\n",
       "      <td>2016-12-10</td>\n",
       "      <td>1.630</td>\n",
       "      <td>17.93</td>\n",
       "    </tr>\n",
       "    <tr>\n",
       "      <th>1</th>\n",
       "      <td>538862</td>\n",
       "      <td>22195</td>\n",
       "      <td>0</td>\n",
       "      <td>2016-12-14 14:11:00</td>\n",
       "      <td>22389.0</td>\n",
       "      <td>Shop 0</td>\n",
       "      <td>1</td>\n",
       "      <td>2016-12-14</td>\n",
       "      <td>3.290</td>\n",
       "      <td>0.00</td>\n",
       "    </tr>\n",
       "    <tr>\n",
       "      <th>2</th>\n",
       "      <td>538855</td>\n",
       "      <td>21239</td>\n",
       "      <td>7</td>\n",
       "      <td>2016-12-14 13:50:00</td>\n",
       "      <td>22182.0</td>\n",
       "      <td>Shop 0</td>\n",
       "      <td>1</td>\n",
       "      <td>2016-12-14</td>\n",
       "      <td>1.630</td>\n",
       "      <td>11.41</td>\n",
       "    </tr>\n",
       "    <tr>\n",
       "      <th>3</th>\n",
       "      <td>543543</td>\n",
       "      <td>22271</td>\n",
       "      <td>0</td>\n",
       "      <td>2017-02-09 15:33:00</td>\n",
       "      <td>23522.0</td>\n",
       "      <td>Shop 0</td>\n",
       "      <td>1</td>\n",
       "      <td>2017-02-09</td>\n",
       "      <td>4.370</td>\n",
       "      <td>0.00</td>\n",
       "    </tr>\n",
       "    <tr>\n",
       "      <th>4</th>\n",
       "      <td>543812</td>\n",
       "      <td>79321</td>\n",
       "      <td>0</td>\n",
       "      <td>2017-02-13 14:40:00</td>\n",
       "      <td>23151.0</td>\n",
       "      <td>Shop 0</td>\n",
       "      <td>1</td>\n",
       "      <td>2017-02-13</td>\n",
       "      <td>5.750</td>\n",
       "      <td>0.00</td>\n",
       "    </tr>\n",
       "    <tr>\n",
       "      <th>...</th>\n",
       "      <td>...</td>\n",
       "      <td>...</td>\n",
       "      <td>...</td>\n",
       "      <td>...</td>\n",
       "      <td>...</td>\n",
       "      <td>...</td>\n",
       "      <td>...</td>\n",
       "      <td>...</td>\n",
       "      <td>...</td>\n",
       "      <td>...</td>\n",
       "    </tr>\n",
       "    <tr>\n",
       "      <th>104297</th>\n",
       "      <td>538566</td>\n",
       "      <td>21826</td>\n",
       "      <td>1</td>\n",
       "      <td>2016-12-13 11:21:00</td>\n",
       "      <td>NaN</td>\n",
       "      <td>Shop 0</td>\n",
       "      <td>0</td>\n",
       "      <td>2016-12-13</td>\n",
       "      <td>2.460</td>\n",
       "      <td>2.46</td>\n",
       "    </tr>\n",
       "    <tr>\n",
       "      <th>104298</th>\n",
       "      <td>540247</td>\n",
       "      <td>21742</td>\n",
       "      <td>0</td>\n",
       "      <td>2017-01-05 15:56:00</td>\n",
       "      <td>21143.0</td>\n",
       "      <td>Shop 0</td>\n",
       "      <td>0</td>\n",
       "      <td>2017-01-05</td>\n",
       "      <td>9.335</td>\n",
       "      <td>0.00</td>\n",
       "    </tr>\n",
       "    <tr>\n",
       "      <th>104299</th>\n",
       "      <td>538068</td>\n",
       "      <td>85048</td>\n",
       "      <td>1</td>\n",
       "      <td>2016-12-09 14:05:00</td>\n",
       "      <td>23657.0</td>\n",
       "      <td>Shop 0</td>\n",
       "      <td>1</td>\n",
       "      <td>2016-12-09</td>\n",
       "      <td>8.330</td>\n",
       "      <td>8.33</td>\n",
       "    </tr>\n",
       "    <tr>\n",
       "      <th>104300</th>\n",
       "      <td>538207</td>\n",
       "      <td>22818</td>\n",
       "      <td>11</td>\n",
       "      <td>2016-12-10 11:33:00</td>\n",
       "      <td>18427.0</td>\n",
       "      <td>Shop 0</td>\n",
       "      <td>0</td>\n",
       "      <td>2016-12-10</td>\n",
       "      <td>0.830</td>\n",
       "      <td>9.13</td>\n",
       "    </tr>\n",
       "    <tr>\n",
       "      <th>104301</th>\n",
       "      <td>543977</td>\n",
       "      <td>22384</td>\n",
       "      <td>9</td>\n",
       "      <td>2017-02-14 15:35:00</td>\n",
       "      <td>21294.0</td>\n",
       "      <td>Shop 0</td>\n",
       "      <td>0</td>\n",
       "      <td>2017-02-14</td>\n",
       "      <td>4.130</td>\n",
       "      <td>37.17</td>\n",
       "    </tr>\n",
       "  </tbody>\n",
       "</table>\n",
       "<p>104302 rows × 10 columns</p>\n",
       "</div>"
      ],
      "text/plain": [
       "       purchase_id item_id  quantity       purchase_date  customer_id shop_id  \\\n",
       "0           538280   21873        11 2016-12-10 12:50:00      18427.0  Shop 0   \n",
       "1           538862   22195         0 2016-12-14 14:11:00      22389.0  Shop 0   \n",
       "2           538855   21239         7 2016-12-14 13:50:00      22182.0  Shop 0   \n",
       "3           543543   22271         0 2017-02-09 15:33:00      23522.0  Shop 0   \n",
       "4           543812   79321         0 2017-02-13 14:40:00      23151.0  Shop 0   \n",
       "...            ...     ...       ...                 ...          ...     ...   \n",
       "104297      538566   21826         1 2016-12-13 11:21:00          NaN  Shop 0   \n",
       "104298      540247   21742         0 2017-01-05 15:56:00      21143.0  Shop 0   \n",
       "104299      538068   85048         1 2016-12-09 14:05:00      23657.0  Shop 0   \n",
       "104300      538207   22818        11 2016-12-10 11:33:00      18427.0  Shop 0   \n",
       "104301      543977   22384         9 2017-02-14 15:35:00      21294.0  Shop 0   \n",
       "\n",
       "        loyalty_program       date  price_per_one  revenue  \n",
       "0                     0 2016-12-10          1.630    17.93  \n",
       "1                     1 2016-12-14          3.290     0.00  \n",
       "2                     1 2016-12-14          1.630    11.41  \n",
       "3                     1 2017-02-09          4.370     0.00  \n",
       "4                     1 2017-02-13          5.750     0.00  \n",
       "...                 ...        ...            ...      ...  \n",
       "104297                0 2016-12-13          2.460     2.46  \n",
       "104298                0 2017-01-05          9.335     0.00  \n",
       "104299                1 2016-12-09          8.330     8.33  \n",
       "104300                0 2016-12-10          0.830     9.13  \n",
       "104301                0 2017-02-14          4.130    37.17  \n",
       "\n",
       "[104302 rows x 10 columns]"
      ]
     },
     "metadata": {},
     "output_type": "display_data"
    }
   ],
   "source": [
    "data ['revenue']=data ['quantity']*data ['price_per_one']\n",
    "display(data)"
   ]
  },
  {
   "cell_type": "markdown",
   "metadata": {},
   "source": [
    "### Удалим quantity (количество товара) равное нулю."
   ]
  },
  {
   "cell_type": "markdown",
   "metadata": {},
   "source": [
    "Мы видим, что в столбце большое количество нулевых значений. Есть несколько вариантов \n",
    "\n",
    "1. Либо это товар продается поштучно(согласно \"Единица измерения предмета расчета» (Тег 1197)\", информацию предоставил Дмитрий Кудряшов с Slack. )\n",
    "2. Либо это ошибка. \n",
    "\n",
    "Ввиду того, что размерность нам неизвестна, а в дальнейшем эти нули могут серъезно исказить наше исследование принято решение исключить эти данные. В реальной жизни , необходимо уточнить у коллег, кто составлял этот датасэт."
   ]
  },
  {
   "cell_type": "code",
   "execution_count": 26,
   "metadata": {},
   "outputs": [
    {
     "data": {
      "text/html": [
       "<div>\n",
       "<style scoped>\n",
       "    .dataframe tbody tr th:only-of-type {\n",
       "        vertical-align: middle;\n",
       "    }\n",
       "\n",
       "    .dataframe tbody tr th {\n",
       "        vertical-align: top;\n",
       "    }\n",
       "\n",
       "    .dataframe thead th {\n",
       "        text-align: right;\n",
       "    }\n",
       "</style>\n",
       "<table border=\"1\" class=\"dataframe\">\n",
       "  <thead>\n",
       "    <tr style=\"text-align: right;\">\n",
       "      <th></th>\n",
       "      <th>purchase_id</th>\n",
       "      <th>item_id</th>\n",
       "      <th>quantity</th>\n",
       "      <th>purchase_date</th>\n",
       "      <th>customer_id</th>\n",
       "      <th>shop_id</th>\n",
       "      <th>loyalty_program</th>\n",
       "      <th>date</th>\n",
       "      <th>price_per_one</th>\n",
       "      <th>revenue</th>\n",
       "    </tr>\n",
       "  </thead>\n",
       "  <tbody>\n",
       "    <tr>\n",
       "      <th>0</th>\n",
       "      <td>538280</td>\n",
       "      <td>21873</td>\n",
       "      <td>11</td>\n",
       "      <td>2016-12-10 12:50:00</td>\n",
       "      <td>18427.0</td>\n",
       "      <td>Shop 0</td>\n",
       "      <td>0</td>\n",
       "      <td>2016-12-10</td>\n",
       "      <td>1.630</td>\n",
       "      <td>17.930</td>\n",
       "    </tr>\n",
       "    <tr>\n",
       "      <th>2</th>\n",
       "      <td>538855</td>\n",
       "      <td>21239</td>\n",
       "      <td>7</td>\n",
       "      <td>2016-12-14 13:50:00</td>\n",
       "      <td>22182.0</td>\n",
       "      <td>Shop 0</td>\n",
       "      <td>1</td>\n",
       "      <td>2016-12-14</td>\n",
       "      <td>1.630</td>\n",
       "      <td>11.410</td>\n",
       "    </tr>\n",
       "    <tr>\n",
       "      <th>7</th>\n",
       "      <td>541424</td>\n",
       "      <td>79321</td>\n",
       "      <td>1</td>\n",
       "      <td>2017-01-17 17:57:00</td>\n",
       "      <td>NaN</td>\n",
       "      <td>Shop 0</td>\n",
       "      <td>0</td>\n",
       "      <td>2017-01-17</td>\n",
       "      <td>5.750</td>\n",
       "      <td>5.750</td>\n",
       "    </tr>\n",
       "    <tr>\n",
       "      <th>10</th>\n",
       "      <td>537795</td>\n",
       "      <td>82494L</td>\n",
       "      <td>5</td>\n",
       "      <td>2016-12-08 13:03:00</td>\n",
       "      <td>22892.0</td>\n",
       "      <td>Shop 0</td>\n",
       "      <td>1</td>\n",
       "      <td>2016-12-08</td>\n",
       "      <td>5.205</td>\n",
       "      <td>26.025</td>\n",
       "    </tr>\n",
       "    <tr>\n",
       "      <th>11</th>\n",
       "      <td>541696</td>\n",
       "      <td>22197</td>\n",
       "      <td>4</td>\n",
       "      <td>2017-01-20 18:08:00</td>\n",
       "      <td>NaN</td>\n",
       "      <td>Shop 0</td>\n",
       "      <td>0</td>\n",
       "      <td>2017-01-20</td>\n",
       "      <td>1.240</td>\n",
       "      <td>4.960</td>\n",
       "    </tr>\n",
       "    <tr>\n",
       "      <th>...</th>\n",
       "      <td>...</td>\n",
       "      <td>...</td>\n",
       "      <td>...</td>\n",
       "      <td>...</td>\n",
       "      <td>...</td>\n",
       "      <td>...</td>\n",
       "      <td>...</td>\n",
       "      <td>...</td>\n",
       "      <td>...</td>\n",
       "      <td>...</td>\n",
       "    </tr>\n",
       "    <tr>\n",
       "      <th>104296</th>\n",
       "      <td>540154</td>\n",
       "      <td>22134</td>\n",
       "      <td>3</td>\n",
       "      <td>2017-01-05 11:30:00</td>\n",
       "      <td>NaN</td>\n",
       "      <td>Shop 0</td>\n",
       "      <td>0</td>\n",
       "      <td>2017-01-05</td>\n",
       "      <td>0.630</td>\n",
       "      <td>1.890</td>\n",
       "    </tr>\n",
       "    <tr>\n",
       "      <th>104297</th>\n",
       "      <td>538566</td>\n",
       "      <td>21826</td>\n",
       "      <td>1</td>\n",
       "      <td>2016-12-13 11:21:00</td>\n",
       "      <td>NaN</td>\n",
       "      <td>Shop 0</td>\n",
       "      <td>0</td>\n",
       "      <td>2016-12-13</td>\n",
       "      <td>2.460</td>\n",
       "      <td>2.460</td>\n",
       "    </tr>\n",
       "    <tr>\n",
       "      <th>104299</th>\n",
       "      <td>538068</td>\n",
       "      <td>85048</td>\n",
       "      <td>1</td>\n",
       "      <td>2016-12-09 14:05:00</td>\n",
       "      <td>23657.0</td>\n",
       "      <td>Shop 0</td>\n",
       "      <td>1</td>\n",
       "      <td>2016-12-09</td>\n",
       "      <td>8.330</td>\n",
       "      <td>8.330</td>\n",
       "    </tr>\n",
       "    <tr>\n",
       "      <th>104300</th>\n",
       "      <td>538207</td>\n",
       "      <td>22818</td>\n",
       "      <td>11</td>\n",
       "      <td>2016-12-10 11:33:00</td>\n",
       "      <td>18427.0</td>\n",
       "      <td>Shop 0</td>\n",
       "      <td>0</td>\n",
       "      <td>2016-12-10</td>\n",
       "      <td>0.830</td>\n",
       "      <td>9.130</td>\n",
       "    </tr>\n",
       "    <tr>\n",
       "      <th>104301</th>\n",
       "      <td>543977</td>\n",
       "      <td>22384</td>\n",
       "      <td>9</td>\n",
       "      <td>2017-02-14 15:35:00</td>\n",
       "      <td>21294.0</td>\n",
       "      <td>Shop 0</td>\n",
       "      <td>0</td>\n",
       "      <td>2017-02-14</td>\n",
       "      <td>4.130</td>\n",
       "      <td>37.170</td>\n",
       "    </tr>\n",
       "  </tbody>\n",
       "</table>\n",
       "<p>71940 rows × 10 columns</p>\n",
       "</div>"
      ],
      "text/plain": [
       "       purchase_id item_id  quantity       purchase_date  customer_id shop_id  \\\n",
       "0           538280   21873        11 2016-12-10 12:50:00      18427.0  Shop 0   \n",
       "2           538855   21239         7 2016-12-14 13:50:00      22182.0  Shop 0   \n",
       "7           541424   79321         1 2017-01-17 17:57:00          NaN  Shop 0   \n",
       "10          537795  82494L         5 2016-12-08 13:03:00      22892.0  Shop 0   \n",
       "11          541696   22197         4 2017-01-20 18:08:00          NaN  Shop 0   \n",
       "...            ...     ...       ...                 ...          ...     ...   \n",
       "104296      540154   22134         3 2017-01-05 11:30:00          NaN  Shop 0   \n",
       "104297      538566   21826         1 2016-12-13 11:21:00          NaN  Shop 0   \n",
       "104299      538068   85048         1 2016-12-09 14:05:00      23657.0  Shop 0   \n",
       "104300      538207   22818        11 2016-12-10 11:33:00      18427.0  Shop 0   \n",
       "104301      543977   22384         9 2017-02-14 15:35:00      21294.0  Shop 0   \n",
       "\n",
       "        loyalty_program       date  price_per_one  revenue  \n",
       "0                     0 2016-12-10          1.630   17.930  \n",
       "2                     1 2016-12-14          1.630   11.410  \n",
       "7                     0 2017-01-17          5.750    5.750  \n",
       "10                    1 2016-12-08          5.205   26.025  \n",
       "11                    0 2017-01-20          1.240    4.960  \n",
       "...                 ...        ...            ...      ...  \n",
       "104296                0 2017-01-05          0.630    1.890  \n",
       "104297                0 2016-12-13          2.460    2.460  \n",
       "104299                1 2016-12-09          8.330    8.330  \n",
       "104300                0 2016-12-10          0.830    9.130  \n",
       "104301                0 2017-02-14          4.130   37.170  \n",
       "\n",
       "[71940 rows x 10 columns]"
      ]
     },
     "metadata": {},
     "output_type": "display_data"
    }
   ],
   "source": [
    "data= data[data['quantity']!=0]\n",
    "display(data)"
   ]
  },
  {
   "cell_type": "markdown",
   "metadata": {},
   "source": [
    "## Проведем исследовательский анализ данных.\n"
   ]
  },
  {
   "cell_type": "markdown",
   "metadata": {},
   "source": [
    "### Посмотрим по датам,что мы там сможем увидеть."
   ]
  },
  {
   "cell_type": "code",
   "execution_count": 27,
   "metadata": {},
   "outputs": [
    {
     "name": "stderr",
     "output_type": "stream",
     "text": [
      "/tmp/ipykernel_42/2382045578.py:1: FutureWarning: Treating datetime data as categorical rather than numeric in `.describe` is deprecated and will be removed in a future version of pandas. Specify `datetime_is_numeric=True` to silence this warning and adopt the future behavior now.\n",
      "  data['date'].describe()\n"
     ]
    },
    {
     "data": {
      "text/plain": [
       "count                   71940\n",
       "unique                     68\n",
       "top       2016-12-06 00:00:00\n",
       "freq                     2346\n",
       "first     2016-12-01 00:00:00\n",
       "last      2017-02-28 00:00:00\n",
       "Name: date, dtype: object"
      ]
     },
     "execution_count": 27,
     "metadata": {},
     "output_type": "execute_result"
    }
   ],
   "source": [
    "data['date'].describe()"
   ]
  },
  {
   "cell_type": "code",
   "execution_count": 28,
   "metadata": {},
   "outputs": [
    {
     "data": {
      "image/png": "[encoded data removed]",
      "text/plain": [
       "<Figure size 720x360 with 1 Axes>"
      ]
     },
     "metadata": {
      "needs_background": "light"
     },
     "output_type": "display_data"
    }
   ],
   "source": [
    "plt.figure(figsize =(10, 5))\n",
    "sns.set_style('darkgrid')\n",
    "sns.set_palette('Set2')\n",
    "data['date'].hist(\n",
    "                bins=40\n",
    "                )\n",
    "plt.title('Активность по по датам')\n",
    "plt.xlabel('Дата')\n",
    "plt.xticks(rotation=90)\n",
    "plt.ylabel('Частота')\n",
    "plt.grid()\n",
    "plt.show()"
   ]
  },
  {
   "cell_type": "markdown",
   "metadata": {},
   "source": [
    "**Вывод**: Рассматриваемый период с 1 декабря 2016г. по 28 февраля 2017 г. Проверим, возможно часть магазинов открылись недавно, в этом случае нет смысла их оценивать за конкретный период. Так же видно, что в период с 23 декабря 2016 по 04 января 2017 продажи отсутствовали."
   ]
  },
  {
   "cell_type": "code",
   "execution_count": 29,
   "metadata": {},
   "outputs": [
    {
     "data": {
      "text/plain": [
       "shop_id\n",
       "Shop 0    2016-12-01\n",
       "Shop 1    2016-12-01\n",
       "Shop 6    2016-12-01\n",
       "Shop 5    2016-12-01\n",
       "Shop 4    2016-12-01\n",
       "Shop 3    2016-12-01\n",
       "Shop 2    2016-12-01\n",
       "Shop 7    2016-12-03\n",
       "Shop 8    2016-12-03\n",
       "Shop 9    2016-12-03\n",
       "Shop 10   2016-12-03\n",
       "Shop 11   2016-12-03\n",
       "Shop 12   2016-12-03\n",
       "Shop 13   2016-12-05\n",
       "Shop 14   2016-12-05\n",
       "Shop 15   2016-12-07\n",
       "Shop 16   2016-12-09\n",
       "Shop 17   2016-12-09\n",
       "Shop 18   2016-12-14\n",
       "Shop 19   2016-12-14\n",
       "Shop 20   2016-12-15\n",
       "Shop 21   2016-12-15\n",
       "Shop 22   2016-12-16\n",
       "Shop 23   2016-12-20\n",
       "Shop 25   2017-01-24\n",
       "Shop 24   2017-01-24\n",
       "Shop 26   2017-01-25\n",
       "Shop 27   2017-01-27\n",
       "Shop 28   2017-02-14\n",
       "Shop 29   2017-02-24\n",
       "Shop 30   2017-02-28\n",
       "Name: date, dtype: datetime64[ns]"
      ]
     },
     "metadata": {},
     "output_type": "display_data"
    }
   ],
   "source": [
    "group_years =data.groupby('shop_id')['date'].min() #посмотрим когда была проведена первая покупка в каждом магазине.\n",
    "display(group_years.sort_values())"
   ]
  },
  {
   "cell_type": "markdown",
   "metadata": {},
   "source": [
    "**Вывод**: Есть ряд магазинов в которых первая продажа была осуществлена в феврале 2017 года. Будем считать, что это магазины, которые недавно открылись.Это магазины Shop 28, Shop 29, Shop 30. "
   ]
  },
  {
   "cell_type": "code",
   "execution_count": 30,
   "metadata": {},
   "outputs": [],
   "source": [
    "#data_without_shop = data_without_shop_null[data_without_shop_null['date']<'2017-02-01']\n",
    "#data_without_shop = data_without_shop_null.query('shop_id != [\"Shop 28\", \"Shop 29\", \"Shop 30\"]')\n",
    "#display (data_without_shop['shop_id'].value_counts())"
   ]
  },
  {
   "cell_type": "markdown",
   "metadata": {},
   "source": [
    "### Оценим эффективность всех магазинов посчитав их выручку."
   ]
  },
  {
   "cell_type": "code",
   "execution_count": 31,
   "metadata": {},
   "outputs": [
    {
     "data": {
      "text/html": [
       "<div>\n",
       "<style scoped>\n",
       "    .dataframe tbody tr th:only-of-type {\n",
       "        vertical-align: middle;\n",
       "    }\n",
       "\n",
       "    .dataframe tbody tr th {\n",
       "        vertical-align: top;\n",
       "    }\n",
       "\n",
       "    .dataframe thead th {\n",
       "        text-align: right;\n",
       "    }\n",
       "</style>\n",
       "<table border=\"1\" class=\"dataframe\">\n",
       "  <thead>\n",
       "    <tr style=\"text-align: right;\">\n",
       "      <th></th>\n",
       "      <th>revenue</th>\n",
       "    </tr>\n",
       "    <tr>\n",
       "      <th>shop_id</th>\n",
       "      <th></th>\n",
       "    </tr>\n",
       "  </thead>\n",
       "  <tbody>\n",
       "    <tr>\n",
       "      <th>Shop 0</th>\n",
       "      <td>1605228.375</td>\n",
       "    </tr>\n",
       "    <tr>\n",
       "      <th>Shop 3</th>\n",
       "      <td>101963.465</td>\n",
       "    </tr>\n",
       "    <tr>\n",
       "      <th>Shop 6</th>\n",
       "      <td>55877.765</td>\n",
       "    </tr>\n",
       "    <tr>\n",
       "      <th>Shop 4</th>\n",
       "      <td>50533.035</td>\n",
       "    </tr>\n",
       "    <tr>\n",
       "      <th>Shop 1</th>\n",
       "      <td>48030.905</td>\n",
       "    </tr>\n",
       "    <tr>\n",
       "      <th>Shop 2</th>\n",
       "      <td>39356.725</td>\n",
       "    </tr>\n",
       "    <tr>\n",
       "      <th>Shop 14</th>\n",
       "      <td>22153.325</td>\n",
       "    </tr>\n",
       "    <tr>\n",
       "      <th>Shop 8</th>\n",
       "      <td>16971.025</td>\n",
       "    </tr>\n",
       "    <tr>\n",
       "      <th>Shop 7</th>\n",
       "      <td>11233.930</td>\n",
       "    </tr>\n",
       "    <tr>\n",
       "      <th>Shop 19</th>\n",
       "      <td>10249.600</td>\n",
       "    </tr>\n",
       "    <tr>\n",
       "      <th>Shop 10</th>\n",
       "      <td>9949.380</td>\n",
       "    </tr>\n",
       "    <tr>\n",
       "      <th>Shop 12</th>\n",
       "      <td>6813.930</td>\n",
       "    </tr>\n",
       "    <tr>\n",
       "      <th>Shop 18</th>\n",
       "      <td>6631.165</td>\n",
       "    </tr>\n",
       "    <tr>\n",
       "      <th>Shop 5</th>\n",
       "      <td>6202.610</td>\n",
       "    </tr>\n",
       "    <tr>\n",
       "      <th>Shop 11</th>\n",
       "      <td>4023.410</td>\n",
       "    </tr>\n",
       "    <tr>\n",
       "      <th>Shop 24</th>\n",
       "      <td>3984.625</td>\n",
       "    </tr>\n",
       "    <tr>\n",
       "      <th>Shop 16</th>\n",
       "      <td>3828.300</td>\n",
       "    </tr>\n",
       "    <tr>\n",
       "      <th>Shop 25</th>\n",
       "      <td>3234.265</td>\n",
       "    </tr>\n",
       "    <tr>\n",
       "      <th>Shop 22</th>\n",
       "      <td>3003.470</td>\n",
       "    </tr>\n",
       "    <tr>\n",
       "      <th>Shop 26</th>\n",
       "      <td>2775.590</td>\n",
       "    </tr>\n",
       "    <tr>\n",
       "      <th>Shop 9</th>\n",
       "      <td>2415.115</td>\n",
       "    </tr>\n",
       "    <tr>\n",
       "      <th>Shop 13</th>\n",
       "      <td>2410.330</td>\n",
       "    </tr>\n",
       "    <tr>\n",
       "      <th>Shop 17</th>\n",
       "      <td>2236.450</td>\n",
       "    </tr>\n",
       "    <tr>\n",
       "      <th>Shop 27</th>\n",
       "      <td>2095.470</td>\n",
       "    </tr>\n",
       "    <tr>\n",
       "      <th>Shop 15</th>\n",
       "      <td>1736.520</td>\n",
       "    </tr>\n",
       "    <tr>\n",
       "      <th>Shop 28</th>\n",
       "      <td>1621.895</td>\n",
       "    </tr>\n",
       "    <tr>\n",
       "      <th>Shop 21</th>\n",
       "      <td>1349.250</td>\n",
       "    </tr>\n",
       "    <tr>\n",
       "      <th>Shop 20</th>\n",
       "      <td>988.945</td>\n",
       "    </tr>\n",
       "    <tr>\n",
       "      <th>Shop 30</th>\n",
       "      <td>743.530</td>\n",
       "    </tr>\n",
       "    <tr>\n",
       "      <th>Shop 29</th>\n",
       "      <td>207.715</td>\n",
       "    </tr>\n",
       "    <tr>\n",
       "      <th>Shop 23</th>\n",
       "      <td>-8.500</td>\n",
       "    </tr>\n",
       "  </tbody>\n",
       "</table>\n",
       "</div>"
      ],
      "text/plain": [
       "             revenue\n",
       "shop_id             \n",
       "Shop 0   1605228.375\n",
       "Shop 3    101963.465\n",
       "Shop 6     55877.765\n",
       "Shop 4     50533.035\n",
       "Shop 1     48030.905\n",
       "Shop 2     39356.725\n",
       "Shop 14    22153.325\n",
       "Shop 8     16971.025\n",
       "Shop 7     11233.930\n",
       "Shop 19    10249.600\n",
       "Shop 10     9949.380\n",
       "Shop 12     6813.930\n",
       "Shop 18     6631.165\n",
       "Shop 5      6202.610\n",
       "Shop 11     4023.410\n",
       "Shop 24     3984.625\n",
       "Shop 16     3828.300\n",
       "Shop 25     3234.265\n",
       "Shop 22     3003.470\n",
       "Shop 26     2775.590\n",
       "Shop 9      2415.115\n",
       "Shop 13     2410.330\n",
       "Shop 17     2236.450\n",
       "Shop 27     2095.470\n",
       "Shop 15     1736.520\n",
       "Shop 28     1621.895\n",
       "Shop 21     1349.250\n",
       "Shop 20      988.945\n",
       "Shop 30      743.530\n",
       "Shop 29      207.715\n",
       "Shop 23       -8.500"
      ]
     },
     "metadata": {},
     "output_type": "display_data"
    }
   ],
   "source": [
    "store_revenue  = data.pivot_table(index='shop_id', values='revenue', aggfunc='sum')\n",
    "display(store_revenue.sort_values(by='revenue', ascending=False) )"
   ]
  },
  {
   "cell_type": "code",
   "execution_count": 32,
   "metadata": {},
   "outputs": [
    {
     "data": {
      "text/plain": [
       "<function matplotlib.pyplot.show(close=None, block=None)>"
      ]
     },
     "execution_count": 32,
     "metadata": {},
     "output_type": "execute_result"
    },
    {
     "data": {
      "image/png": "[encoded data removed]",
      "text/plain": [
       "<Figure size 720x720 with 1 Axes>"
      ]
     },
     "metadata": {},
     "output_type": "display_data"
    }
   ],
   "source": [
    "store_revenue.sort_values(by='revenue', ascending=False).plot(grid=True, kind='bar',figsize=(10, 10))\n",
    "plt.title(\"Распределение выручки по магазинам\")\n",
    "\n",
    "plt.ylabel(\"Выручка\")\n",
    "plt.show"
   ]
  },
  {
   "cell_type": "markdown",
   "metadata": {},
   "source": [
    "**Вывод**: Как мы видим, по выручки с большим отрывом идет Shop 0 (1963997). Будем считать, что это Флагманский магазин или головной склад, а остальные магазины это региональный ритейл. Кроме того видим, что в магазине Shop 23 есть только возвраты (отрицательное значение по выручке). Думаю нужно исключить. "
   ]
  },
  {
   "cell_type": "markdown",
   "metadata": {},
   "source": [
    "Оценим эффективность  магазинов по отдельности. Shop 0 и все остальные."
   ]
  },
  {
   "cell_type": "code",
   "execution_count": 33,
   "metadata": {},
   "outputs": [],
   "source": [
    "data_with_shop_null=data.query('shop_id == [\"Shop 0\"]') # Только магин ноль\n",
    "data_without_shop_null=data.query('shop_id != [\"Shop 0\", \"Shop 23\",\"Shop 28\", \"Shop 29\", \"Shop 30\" ]') #Все магазины без нулевого. \n",
    "data_without_shop_null_revenue  = data_without_shop_null.pivot_table(index='shop_id', values='revenue', aggfunc='sum')\n",
    "\n",
    "#display(data_with_shop_null) "
   ]
  },
  {
   "cell_type": "code",
   "execution_count": 34,
   "metadata": {},
   "outputs": [
    {
     "data": {
      "text/plain": [
       "<function matplotlib.pyplot.show(close=None, block=None)>"
      ]
     },
     "execution_count": 34,
     "metadata": {},
     "output_type": "execute_result"
    },
    {
     "data": {
      "image/png": "[encoded data removed]",
      "text/plain": [
       "<Figure size 720x720 with 1 Axes>"
      ]
     },
     "metadata": {},
     "output_type": "display_data"
    }
   ],
   "source": [
    "data_without_shop_null_revenue.sort_values(by='revenue', ascending=False).plot(grid=True, kind='bar',figsize=(10, 10))\n",
    "plt.title(\"Распределение выручки по магазинам за исключением Shop 0\")\n",
    "\n",
    "plt.ylabel(\"Выручка\")\n",
    "plt.show"
   ]
  },
  {
   "cell_type": "markdown",
   "metadata": {},
   "source": [
    "**Вывод**: Наибольшую выручку (после Shop 0) имеют магазины Shop3(102070), Shop 6(62409), Shop 4(53748), Shop 1(48615), Shop 2(39523)."
   ]
  },
  {
   "cell_type": "markdown",
   "metadata": {},
   "source": []
  },
  {
   "cell_type": "markdown",
   "metadata": {},
   "source": []
  },
  {
   "cell_type": "code",
   "execution_count": null,
   "metadata": {},
   "outputs": [],
   "source": []
  },
  {
   "cell_type": "markdown",
   "metadata": {},
   "source": [
    "### Посчитаем кол-во уникальных продаж  по магазинам."
   ]
  },
  {
   "cell_type": "code",
   "execution_count": 35,
   "metadata": {},
   "outputs": [
    {
     "data": {
      "text/html": [
       "<div>\n",
       "<style scoped>\n",
       "    .dataframe tbody tr th:only-of-type {\n",
       "        vertical-align: middle;\n",
       "    }\n",
       "\n",
       "    .dataframe tbody tr th {\n",
       "        vertical-align: top;\n",
       "    }\n",
       "\n",
       "    .dataframe thead th {\n",
       "        text-align: right;\n",
       "    }\n",
       "</style>\n",
       "<table border=\"1\" class=\"dataframe\">\n",
       "  <thead>\n",
       "    <tr style=\"text-align: right;\">\n",
       "      <th></th>\n",
       "      <th>purchase_id</th>\n",
       "    </tr>\n",
       "    <tr>\n",
       "      <th>shop_id</th>\n",
       "      <th></th>\n",
       "    </tr>\n",
       "  </thead>\n",
       "  <tbody>\n",
       "    <tr>\n",
       "      <th>Shop 0</th>\n",
       "      <td>4311</td>\n",
       "    </tr>\n",
       "    <tr>\n",
       "      <th>Shop 4</th>\n",
       "      <td>113</td>\n",
       "    </tr>\n",
       "    <tr>\n",
       "      <th>Shop 1</th>\n",
       "      <td>89</td>\n",
       "    </tr>\n",
       "    <tr>\n",
       "      <th>Shop 6</th>\n",
       "      <td>46</td>\n",
       "    </tr>\n",
       "    <tr>\n",
       "      <th>Shop 12</th>\n",
       "      <td>21</td>\n",
       "    </tr>\n",
       "    <tr>\n",
       "      <th>Shop 8</th>\n",
       "      <td>20</td>\n",
       "    </tr>\n",
       "    <tr>\n",
       "      <th>Shop 2</th>\n",
       "      <td>19</td>\n",
       "    </tr>\n",
       "    <tr>\n",
       "      <th>Shop 10</th>\n",
       "      <td>15</td>\n",
       "    </tr>\n",
       "    <tr>\n",
       "      <th>Shop 3</th>\n",
       "      <td>15</td>\n",
       "    </tr>\n",
       "    <tr>\n",
       "      <th>Shop 7</th>\n",
       "      <td>11</td>\n",
       "    </tr>\n",
       "    <tr>\n",
       "      <th>Shop 11</th>\n",
       "      <td>10</td>\n",
       "    </tr>\n",
       "    <tr>\n",
       "      <th>Shop 18</th>\n",
       "      <td>7</td>\n",
       "    </tr>\n",
       "    <tr>\n",
       "      <th>Shop 19</th>\n",
       "      <td>7</td>\n",
       "    </tr>\n",
       "    <tr>\n",
       "      <th>Shop 14</th>\n",
       "      <td>5</td>\n",
       "    </tr>\n",
       "    <tr>\n",
       "      <th>Shop 5</th>\n",
       "      <td>4</td>\n",
       "    </tr>\n",
       "    <tr>\n",
       "      <th>Shop 22</th>\n",
       "      <td>4</td>\n",
       "    </tr>\n",
       "    <tr>\n",
       "      <th>Shop 20</th>\n",
       "      <td>4</td>\n",
       "    </tr>\n",
       "    <tr>\n",
       "      <th>Shop 16</th>\n",
       "      <td>4</td>\n",
       "    </tr>\n",
       "    <tr>\n",
       "      <th>Shop 13</th>\n",
       "      <td>4</td>\n",
       "    </tr>\n",
       "    <tr>\n",
       "      <th>Shop 9</th>\n",
       "      <td>4</td>\n",
       "    </tr>\n",
       "    <tr>\n",
       "      <th>Shop 21</th>\n",
       "      <td>3</td>\n",
       "    </tr>\n",
       "    <tr>\n",
       "      <th>Shop 23</th>\n",
       "      <td>2</td>\n",
       "    </tr>\n",
       "    <tr>\n",
       "      <th>Shop 17</th>\n",
       "      <td>2</td>\n",
       "    </tr>\n",
       "    <tr>\n",
       "      <th>Shop 15</th>\n",
       "      <td>2</td>\n",
       "    </tr>\n",
       "    <tr>\n",
       "      <th>Shop 24</th>\n",
       "      <td>1</td>\n",
       "    </tr>\n",
       "    <tr>\n",
       "      <th>Shop 25</th>\n",
       "      <td>1</td>\n",
       "    </tr>\n",
       "    <tr>\n",
       "      <th>Shop 26</th>\n",
       "      <td>1</td>\n",
       "    </tr>\n",
       "    <tr>\n",
       "      <th>Shop 27</th>\n",
       "      <td>1</td>\n",
       "    </tr>\n",
       "    <tr>\n",
       "      <th>Shop 28</th>\n",
       "      <td>1</td>\n",
       "    </tr>\n",
       "    <tr>\n",
       "      <th>Shop 29</th>\n",
       "      <td>1</td>\n",
       "    </tr>\n",
       "    <tr>\n",
       "      <th>Shop 30</th>\n",
       "      <td>1</td>\n",
       "    </tr>\n",
       "  </tbody>\n",
       "</table>\n",
       "</div>"
      ],
      "text/plain": [
       "         purchase_id\n",
       "shop_id             \n",
       "Shop 0          4311\n",
       "Shop 4           113\n",
       "Shop 1            89\n",
       "Shop 6            46\n",
       "Shop 12           21\n",
       "Shop 8            20\n",
       "Shop 2            19\n",
       "Shop 10           15\n",
       "Shop 3            15\n",
       "Shop 7            11\n",
       "Shop 11           10\n",
       "Shop 18            7\n",
       "Shop 19            7\n",
       "Shop 14            5\n",
       "Shop 5             4\n",
       "Shop 22            4\n",
       "Shop 20            4\n",
       "Shop 16            4\n",
       "Shop 13            4\n",
       "Shop 9             4\n",
       "Shop 21            3\n",
       "Shop 23            2\n",
       "Shop 17            2\n",
       "Shop 15            2\n",
       "Shop 24            1\n",
       "Shop 25            1\n",
       "Shop 26            1\n",
       "Shop 27            1\n",
       "Shop 28            1\n",
       "Shop 29            1\n",
       "Shop 30            1"
      ]
     },
     "metadata": {},
     "output_type": "display_data"
    }
   ],
   "source": [
    "data_q = data.pivot_table(index=['shop_id'], values=[\"purchase_id\"],\n",
    "                       aggfunc={\"purchase_id\":'nunique'},\n",
    "                       fill_value=0)\n",
    "display(data_q.sort_values(by='purchase_id', ascending=False))"
   ]
  },
  {
   "cell_type": "code",
   "execution_count": 36,
   "metadata": {},
   "outputs": [],
   "source": [
    "data_q= data_q.query('shop_id != [\"Shop 23\",\"Shop 28\", \"Shop 29\", \"Shop 30\" ]')"
   ]
  },
  {
   "cell_type": "code",
   "execution_count": 37,
   "metadata": {},
   "outputs": [
    {
     "data": {
      "text/plain": [
       "<function matplotlib.pyplot.show(close=None, block=None)>"
      ]
     },
     "execution_count": 37,
     "metadata": {},
     "output_type": "execute_result"
    },
    {
     "data": {
      "image/png": "[encoded data removed]",
      "text/plain": [
       "<Figure size 720x720 with 1 Axes>"
      ]
     },
     "metadata": {},
     "output_type": "display_data"
    }
   ],
   "source": [
    "data_q.sort_values(by='purchase_id', ascending=False).plot(grid=True, kind='bar',figsize=(10, 10))\n",
    "plt.title(\"Кол-во уникальных продаж по магазинам\")\n",
    "\n",
    "plt.ylabel(\"Кол-во продаж\")\n",
    "plt.show"
   ]
  },
  {
   "cell_type": "code",
   "execution_count": 38,
   "metadata": {},
   "outputs": [
    {
     "data": {
      "text/plain": [
       "<function matplotlib.pyplot.show(close=None, block=None)>"
      ]
     },
     "execution_count": 38,
     "metadata": {},
     "output_type": "execute_result"
    },
    {
     "data": {
      "image/png": "[encoded data removed]",
      "text/plain": [
       "<Figure size 720x720 with 1 Axes>"
      ]
     },
     "metadata": {},
     "output_type": "display_data"
    }
   ],
   "source": [
    "data_q = data_q.query('shop_id != [\"Shop 0\"]')\n",
    "data_q.sort_values(by='purchase_id', ascending=False).plot(grid=True, kind='bar',figsize=(10, 10))\n",
    "plt.title(\"Кол-во уникальных продаж по магазинам за исключением Shop 0\")\n",
    "\n",
    "plt.ylabel(\"Кол-во продаж\")\n",
    "plt.show"
   ]
  },
  {
   "cell_type": "markdown",
   "metadata": {},
   "source": [
    "**Вывод**: Как и ожидалось, самое большое кол-во уникальных продаж в Shop 0(4311), далее Shop 4(113), Shop 1(89) Shop 6(46)\n",
    "Shop 12(21).    \n",
    "    "
   ]
  },
  {
   "cell_type": "markdown",
   "metadata": {},
   "source": [
    "### Посчитаем средние чеки для Shop 0, и для остальных магазинов. "
   ]
  },
  {
   "cell_type": "markdown",
   "metadata": {},
   "source": [
    "Для того чтобы корректно рассчитать средний чек по магазинам избавимся от возвратов. Т.е. отметем все покупки кол-во которых имеет отрицательное кол-во. Начнем с магазина Shop 0."
   ]
  },
  {
   "cell_type": "markdown",
   "metadata": {},
   "source": [
    "####  Посчитаем средние чеки для Shop 0"
   ]
  },
  {
   "cell_type": "code",
   "execution_count": 39,
   "metadata": {},
   "outputs": [
    {
     "data": {
      "text/html": [
       "<div>\n",
       "<style scoped>\n",
       "    .dataframe tbody tr th:only-of-type {\n",
       "        vertical-align: middle;\n",
       "    }\n",
       "\n",
       "    .dataframe tbody tr th {\n",
       "        vertical-align: top;\n",
       "    }\n",
       "\n",
       "    .dataframe thead th {\n",
       "        text-align: right;\n",
       "    }\n",
       "</style>\n",
       "<table border=\"1\" class=\"dataframe\">\n",
       "  <thead>\n",
       "    <tr style=\"text-align: right;\">\n",
       "      <th></th>\n",
       "      <th>purchase_id</th>\n",
       "      <th>revenue</th>\n",
       "    </tr>\n",
       "    <tr>\n",
       "      <th>shop_id</th>\n",
       "      <th></th>\n",
       "      <th></th>\n",
       "    </tr>\n",
       "  </thead>\n",
       "  <tbody>\n",
       "    <tr>\n",
       "      <th>Shop 0</th>\n",
       "      <td>3383</td>\n",
       "      <td>1963997.255</td>\n",
       "    </tr>\n",
       "  </tbody>\n",
       "</table>\n",
       "</div>"
      ],
      "text/plain": [
       "         purchase_id      revenue\n",
       "shop_id                          \n",
       "Shop 0          3383  1963997.255"
      ]
     },
     "metadata": {},
     "output_type": "display_data"
    }
   ],
   "source": [
    "data_with_shop_null= data_with_shop_null[data_with_shop_null['quantity']>=1]\n",
    "\n",
    "data_with_shop_null_check =data_with_shop_null.pivot_table(index=['shop_id'], values=[\"purchase_id\", \"revenue\"],\n",
    "                       aggfunc={\"purchase_id\":'nunique', \"revenue\":'sum'},\n",
    "                       fill_value=0)\n",
    "display(data_with_shop_null_check)"
   ]
  },
  {
   "cell_type": "code",
   "execution_count": 40,
   "metadata": {},
   "outputs": [
    {
     "data": {
      "text/html": [
       "<div>\n",
       "<style scoped>\n",
       "    .dataframe tbody tr th:only-of-type {\n",
       "        vertical-align: middle;\n",
       "    }\n",
       "\n",
       "    .dataframe tbody tr th {\n",
       "        vertical-align: top;\n",
       "    }\n",
       "\n",
       "    .dataframe thead th {\n",
       "        text-align: right;\n",
       "    }\n",
       "</style>\n",
       "<table border=\"1\" class=\"dataframe\">\n",
       "  <thead>\n",
       "    <tr style=\"text-align: right;\">\n",
       "      <th></th>\n",
       "      <th>purchase_id</th>\n",
       "      <th>revenue</th>\n",
       "      <th>mean_check</th>\n",
       "    </tr>\n",
       "    <tr>\n",
       "      <th>shop_id</th>\n",
       "      <th></th>\n",
       "      <th></th>\n",
       "      <th></th>\n",
       "    </tr>\n",
       "  </thead>\n",
       "  <tbody>\n",
       "    <tr>\n",
       "      <th>Shop 0</th>\n",
       "      <td>3383</td>\n",
       "      <td>1963997.25</td>\n",
       "      <td>580.55</td>\n",
       "    </tr>\n",
       "  </tbody>\n",
       "</table>\n",
       "</div>"
      ],
      "text/plain": [
       "         purchase_id     revenue  mean_check\n",
       "shop_id                                     \n",
       "Shop 0          3383  1963997.25      580.55"
      ]
     },
     "metadata": {},
     "output_type": "display_data"
    }
   ],
   "source": [
    "data_with_shop_null_check['mean_check']=data_with_shop_null_check['revenue']/data_with_shop_null_check['purchase_id']\n",
    "display(round(data_with_shop_null_check,2))"
   ]
  },
  {
   "cell_type": "markdown",
   "metadata": {},
   "source": [
    "#### Посчитаем средние чеки  для остальных магазинов. "
   ]
  },
  {
   "cell_type": "code",
   "execution_count": 41,
   "metadata": {},
   "outputs": [],
   "source": [
    "data_without_shop= data_without_shop_null[data_without_shop_null['quantity']>=0]\n",
    "\n",
    "data_without_shop_check =data_without_shop.pivot_table(index=['shop_id'], values=[\"purchase_id\", \"revenue\"],\n",
    "                       aggfunc={\"purchase_id\":'nunique', \"revenue\":'sum'},\n",
    "                       fill_value=0)\n",
    "#display(data_without_shop_check)"
   ]
  },
  {
   "cell_type": "code",
   "execution_count": 42,
   "metadata": {},
   "outputs": [
    {
     "data": {
      "text/html": [
       "<div>\n",
       "<style scoped>\n",
       "    .dataframe tbody tr th:only-of-type {\n",
       "        vertical-align: middle;\n",
       "    }\n",
       "\n",
       "    .dataframe tbody tr th {\n",
       "        vertical-align: top;\n",
       "    }\n",
       "\n",
       "    .dataframe thead th {\n",
       "        text-align: right;\n",
       "    }\n",
       "</style>\n",
       "<table border=\"1\" class=\"dataframe\">\n",
       "  <thead>\n",
       "    <tr style=\"text-align: right;\">\n",
       "      <th></th>\n",
       "      <th>shop_id</th>\n",
       "      <th>purchase_id</th>\n",
       "      <th>revenue</th>\n",
       "      <th>mean_check</th>\n",
       "    </tr>\n",
       "  </thead>\n",
       "  <tbody>\n",
       "    <tr>\n",
       "      <th>19</th>\n",
       "      <td>Shop 3</td>\n",
       "      <td>13</td>\n",
       "      <td>102070.05</td>\n",
       "      <td>7851.54</td>\n",
       "    </tr>\n",
       "    <tr>\n",
       "      <th>5</th>\n",
       "      <td>Shop 14</td>\n",
       "      <td>4</td>\n",
       "      <td>22346.05</td>\n",
       "      <td>5586.51</td>\n",
       "    </tr>\n",
       "    <tr>\n",
       "      <th>15</th>\n",
       "      <td>Shop 24</td>\n",
       "      <td>1</td>\n",
       "      <td>3984.63</td>\n",
       "      <td>3984.63</td>\n",
       "    </tr>\n",
       "    <tr>\n",
       "      <th>16</th>\n",
       "      <td>Shop 25</td>\n",
       "      <td>1</td>\n",
       "      <td>3234.27</td>\n",
       "      <td>3234.27</td>\n",
       "    </tr>\n",
       "    <tr>\n",
       "      <th>17</th>\n",
       "      <td>Shop 26</td>\n",
       "      <td>1</td>\n",
       "      <td>2775.59</td>\n",
       "      <td>2775.59</td>\n",
       "    </tr>\n",
       "    <tr>\n",
       "      <th>11</th>\n",
       "      <td>Shop 2</td>\n",
       "      <td>17</td>\n",
       "      <td>39523.42</td>\n",
       "      <td>2324.91</td>\n",
       "    </tr>\n",
       "    <tr>\n",
       "      <th>10</th>\n",
       "      <td>Shop 19</td>\n",
       "      <td>5</td>\n",
       "      <td>11299.83</td>\n",
       "      <td>2259.97</td>\n",
       "    </tr>\n",
       "    <tr>\n",
       "      <th>18</th>\n",
       "      <td>Shop 27</td>\n",
       "      <td>1</td>\n",
       "      <td>2095.47</td>\n",
       "      <td>2095.47</td>\n",
       "    </tr>\n",
       "    <tr>\n",
       "      <th>22</th>\n",
       "      <td>Shop 6</td>\n",
       "      <td>37</td>\n",
       "      <td>62409.14</td>\n",
       "      <td>1686.73</td>\n",
       "    </tr>\n",
       "    <tr>\n",
       "      <th>21</th>\n",
       "      <td>Shop 5</td>\n",
       "      <td>4</td>\n",
       "      <td>6202.61</td>\n",
       "      <td>1550.65</td>\n",
       "    </tr>\n",
       "    <tr>\n",
       "      <th>7</th>\n",
       "      <td>Shop 16</td>\n",
       "      <td>3</td>\n",
       "      <td>3896.06</td>\n",
       "      <td>1298.68</td>\n",
       "    </tr>\n",
       "    <tr>\n",
       "      <th>23</th>\n",
       "      <td>Shop 7</td>\n",
       "      <td>10</td>\n",
       "      <td>11271.10</td>\n",
       "      <td>1127.11</td>\n",
       "    </tr>\n",
       "    <tr>\n",
       "      <th>8</th>\n",
       "      <td>Shop 17</td>\n",
       "      <td>2</td>\n",
       "      <td>2236.45</td>\n",
       "      <td>1118.23</td>\n",
       "    </tr>\n",
       "    <tr>\n",
       "      <th>9</th>\n",
       "      <td>Shop 18</td>\n",
       "      <td>6</td>\n",
       "      <td>6656.66</td>\n",
       "      <td>1109.44</td>\n",
       "    </tr>\n",
       "    <tr>\n",
       "      <th>24</th>\n",
       "      <td>Shop 8</td>\n",
       "      <td>16</td>\n",
       "      <td>17188.25</td>\n",
       "      <td>1074.27</td>\n",
       "    </tr>\n",
       "    <tr>\n",
       "      <th>6</th>\n",
       "      <td>Shop 15</td>\n",
       "      <td>2</td>\n",
       "      <td>1736.52</td>\n",
       "      <td>868.26</td>\n",
       "    </tr>\n",
       "    <tr>\n",
       "      <th>1</th>\n",
       "      <td>Shop 10</td>\n",
       "      <td>12</td>\n",
       "      <td>10140.66</td>\n",
       "      <td>845.06</td>\n",
       "    </tr>\n",
       "    <tr>\n",
       "      <th>13</th>\n",
       "      <td>Shop 21</td>\n",
       "      <td>2</td>\n",
       "      <td>1629.60</td>\n",
       "      <td>814.80</td>\n",
       "    </tr>\n",
       "    <tr>\n",
       "      <th>14</th>\n",
       "      <td>Shop 22</td>\n",
       "      <td>4</td>\n",
       "      <td>3003.47</td>\n",
       "      <td>750.87</td>\n",
       "    </tr>\n",
       "    <tr>\n",
       "      <th>0</th>\n",
       "      <td>Shop 1</td>\n",
       "      <td>70</td>\n",
       "      <td>48615.33</td>\n",
       "      <td>694.50</td>\n",
       "    </tr>\n",
       "    <tr>\n",
       "      <th>2</th>\n",
       "      <td>Shop 11</td>\n",
       "      <td>6</td>\n",
       "      <td>4146.20</td>\n",
       "      <td>691.03</td>\n",
       "    </tr>\n",
       "    <tr>\n",
       "      <th>20</th>\n",
       "      <td>Shop 4</td>\n",
       "      <td>79</td>\n",
       "      <td>53748.87</td>\n",
       "      <td>680.37</td>\n",
       "    </tr>\n",
       "    <tr>\n",
       "      <th>25</th>\n",
       "      <td>Shop 9</td>\n",
       "      <td>4</td>\n",
       "      <td>2415.11</td>\n",
       "      <td>603.78</td>\n",
       "    </tr>\n",
       "    <tr>\n",
       "      <th>4</th>\n",
       "      <td>Shop 13</td>\n",
       "      <td>4</td>\n",
       "      <td>2410.33</td>\n",
       "      <td>602.58</td>\n",
       "    </tr>\n",
       "    <tr>\n",
       "      <th>3</th>\n",
       "      <td>Shop 12</td>\n",
       "      <td>16</td>\n",
       "      <td>6945.11</td>\n",
       "      <td>434.07</td>\n",
       "    </tr>\n",
       "    <tr>\n",
       "      <th>12</th>\n",
       "      <td>Shop 20</td>\n",
       "      <td>3</td>\n",
       "      <td>1020.06</td>\n",
       "      <td>340.02</td>\n",
       "    </tr>\n",
       "  </tbody>\n",
       "</table>\n",
       "</div>"
      ],
      "text/plain": [
       "    shop_id  purchase_id    revenue  mean_check\n",
       "19   Shop 3           13  102070.05     7851.54\n",
       "5   Shop 14            4   22346.05     5586.51\n",
       "15  Shop 24            1    3984.63     3984.63\n",
       "16  Shop 25            1    3234.27     3234.27\n",
       "17  Shop 26            1    2775.59     2775.59\n",
       "11   Shop 2           17   39523.42     2324.91\n",
       "10  Shop 19            5   11299.83     2259.97\n",
       "18  Shop 27            1    2095.47     2095.47\n",
       "22   Shop 6           37   62409.14     1686.73\n",
       "21   Shop 5            4    6202.61     1550.65\n",
       "7   Shop 16            3    3896.06     1298.68\n",
       "23   Shop 7           10   11271.10     1127.11\n",
       "8   Shop 17            2    2236.45     1118.23\n",
       "9   Shop 18            6    6656.66     1109.44\n",
       "24   Shop 8           16   17188.25     1074.27\n",
       "6   Shop 15            2    1736.52      868.26\n",
       "1   Shop 10           12   10140.66      845.06\n",
       "13  Shop 21            2    1629.60      814.80\n",
       "14  Shop 22            4    3003.47      750.87\n",
       "0    Shop 1           70   48615.33      694.50\n",
       "2   Shop 11            6    4146.20      691.03\n",
       "20   Shop 4           79   53748.87      680.37\n",
       "25   Shop 9            4    2415.11      603.78\n",
       "4   Shop 13            4    2410.33      602.58\n",
       "3   Shop 12           16    6945.11      434.07\n",
       "12  Shop 20            3    1020.06      340.02"
      ]
     },
     "metadata": {},
     "output_type": "display_data"
    }
   ],
   "source": [
    "data_without_shop_check['mean_check']=(data_without_shop_check['revenue']/data_without_shop_check['purchase_id'])\n",
    "data_without_shop_check= data_without_shop_check.reset_index().sort_values(by='mean_check', ascending=False)\n",
    "display(round(data_without_shop_check,2))"
   ]
  },
  {
   "cell_type": "code",
   "execution_count": 43,
   "metadata": {},
   "outputs": [
    {
     "data": {
      "image/png": "[encoded data removed]",
      "text/plain": [
       "<Figure size 1080x360 with 1 Axes>"
      ]
     },
     "metadata": {},
     "output_type": "display_data"
    }
   ],
   "source": [
    "plt.figure(figsize=(15, 5))\n",
    "\n",
    "ax = sns.barplot(x='shop_id', y='mean_check', data=data_without_shop_check)\n",
    "\n",
    "ax.set_title('Средний чек в зависимости от магазина')\n",
    "ax.set_xlabel('Магазин')\n",
    "ax.set_ylabel('Средний чек')\n",
    "plt.xticks(rotation=45)\n",
    "plt.show()"
   ]
  },
  {
   "cell_type": "markdown",
   "metadata": {},
   "source": [
    "**Вывод**: Во первых мы видим, что Shop 0 при большой выручки имеет весьма скромный средний чек(580.55). Наибольшие средние чеки имеют магазины: Shop 3 (7851.54), Shop 14  (5586.51), Shop 24  (3984.63), Shop 25  (3234.27), Shop 26(2775.59)"
   ]
  },
  {
   "cell_type": "markdown",
   "metadata": {},
   "source": [
    "## Оценим эффективность программы лояльности"
   ]
  },
  {
   "cell_type": "markdown",
   "metadata": {},
   "source": [
    "### Определим в каких магазинах действует программа лояльности, т.е loyalty_program =1"
   ]
  },
  {
   "cell_type": "code",
   "execution_count": 44,
   "metadata": {},
   "outputs": [
    {
     "data": {
      "text/html": [
       "<div>\n",
       "<style scoped>\n",
       "    .dataframe tbody tr th:only-of-type {\n",
       "        vertical-align: middle;\n",
       "    }\n",
       "\n",
       "    .dataframe tbody tr th {\n",
       "        vertical-align: top;\n",
       "    }\n",
       "\n",
       "    .dataframe thead th {\n",
       "        text-align: right;\n",
       "    }\n",
       "</style>\n",
       "<table border=\"1\" class=\"dataframe\">\n",
       "  <thead>\n",
       "    <tr style=\"text-align: right;\">\n",
       "      <th></th>\n",
       "      <th>purchase_id</th>\n",
       "      <th>item_id</th>\n",
       "      <th>quantity</th>\n",
       "      <th>purchase_date</th>\n",
       "      <th>customer_id</th>\n",
       "      <th>shop_id</th>\n",
       "      <th>loyalty_program</th>\n",
       "      <th>date</th>\n",
       "      <th>price_per_one</th>\n",
       "      <th>revenue</th>\n",
       "    </tr>\n",
       "  </thead>\n",
       "  <tbody>\n",
       "    <tr>\n",
       "      <th>2</th>\n",
       "      <td>538855</td>\n",
       "      <td>21239</td>\n",
       "      <td>7</td>\n",
       "      <td>2016-12-14 13:50:00</td>\n",
       "      <td>22182.0</td>\n",
       "      <td>Shop 0</td>\n",
       "      <td>1</td>\n",
       "      <td>2016-12-14</td>\n",
       "      <td>1.630</td>\n",
       "      <td>11.410</td>\n",
       "    </tr>\n",
       "    <tr>\n",
       "      <th>10</th>\n",
       "      <td>537795</td>\n",
       "      <td>82494L</td>\n",
       "      <td>5</td>\n",
       "      <td>2016-12-08 13:03:00</td>\n",
       "      <td>22892.0</td>\n",
       "      <td>Shop 0</td>\n",
       "      <td>1</td>\n",
       "      <td>2016-12-08</td>\n",
       "      <td>5.205</td>\n",
       "      <td>26.025</td>\n",
       "    </tr>\n",
       "    <tr>\n",
       "      <th>20</th>\n",
       "      <td>543808</td>\n",
       "      <td>21094</td>\n",
       "      <td>3</td>\n",
       "      <td>2017-02-13 13:22:00</td>\n",
       "      <td>23133.0</td>\n",
       "      <td>Shop 0</td>\n",
       "      <td>1</td>\n",
       "      <td>2017-02-13</td>\n",
       "      <td>1.240</td>\n",
       "      <td>3.720</td>\n",
       "    </tr>\n",
       "    <tr>\n",
       "      <th>31</th>\n",
       "      <td>543040</td>\n",
       "      <td>22550</td>\n",
       "      <td>1</td>\n",
       "      <td>2017-02-02 17:06:00</td>\n",
       "      <td>23016.0</td>\n",
       "      <td>Shop 0</td>\n",
       "      <td>1</td>\n",
       "      <td>2017-02-02</td>\n",
       "      <td>3.750</td>\n",
       "      <td>3.750</td>\n",
       "    </tr>\n",
       "    <tr>\n",
       "      <th>35</th>\n",
       "      <td>537077</td>\n",
       "      <td>72598</td>\n",
       "      <td>3</td>\n",
       "      <td>2016-12-05 11:59:00</td>\n",
       "      <td>22741.0</td>\n",
       "      <td>Shop 0</td>\n",
       "      <td>1</td>\n",
       "      <td>2016-12-05</td>\n",
       "      <td>1.630</td>\n",
       "      <td>4.890</td>\n",
       "    </tr>\n",
       "    <tr>\n",
       "      <th>...</th>\n",
       "      <td>...</td>\n",
       "      <td>...</td>\n",
       "      <td>...</td>\n",
       "      <td>...</td>\n",
       "      <td>...</td>\n",
       "      <td>...</td>\n",
       "      <td>...</td>\n",
       "      <td>...</td>\n",
       "      <td>...</td>\n",
       "      <td>...</td>\n",
       "    </tr>\n",
       "    <tr>\n",
       "      <th>104259</th>\n",
       "      <td>538354</td>\n",
       "      <td>48138</td>\n",
       "      <td>5</td>\n",
       "      <td>2016-12-10 15:45:00</td>\n",
       "      <td>22552.0</td>\n",
       "      <td>Shop 0</td>\n",
       "      <td>1</td>\n",
       "      <td>2016-12-10</td>\n",
       "      <td>14.280</td>\n",
       "      <td>71.400</td>\n",
       "    </tr>\n",
       "    <tr>\n",
       "      <th>104275</th>\n",
       "      <td>538370</td>\n",
       "      <td>22314</td>\n",
       "      <td>1</td>\n",
       "      <td>2016-12-12 11:06:00</td>\n",
       "      <td>22602.0</td>\n",
       "      <td>Shop 0</td>\n",
       "      <td>1</td>\n",
       "      <td>2016-12-12</td>\n",
       "      <td>5.790</td>\n",
       "      <td>5.790</td>\n",
       "    </tr>\n",
       "    <tr>\n",
       "      <th>104277</th>\n",
       "      <td>543815</td>\n",
       "      <td>21123</td>\n",
       "      <td>1</td>\n",
       "      <td>2017-02-13 15:18:00</td>\n",
       "      <td>22934.0</td>\n",
       "      <td>Shop 0</td>\n",
       "      <td>1</td>\n",
       "      <td>2017-02-13</td>\n",
       "      <td>2.460</td>\n",
       "      <td>2.460</td>\n",
       "    </tr>\n",
       "    <tr>\n",
       "      <th>104280</th>\n",
       "      <td>536790</td>\n",
       "      <td>82494L</td>\n",
       "      <td>5</td>\n",
       "      <td>2016-12-02 15:26:00</td>\n",
       "      <td>23529.0</td>\n",
       "      <td>Shop 0</td>\n",
       "      <td>1</td>\n",
       "      <td>2016-12-02</td>\n",
       "      <td>5.205</td>\n",
       "      <td>26.025</td>\n",
       "    </tr>\n",
       "    <tr>\n",
       "      <th>104299</th>\n",
       "      <td>538068</td>\n",
       "      <td>85048</td>\n",
       "      <td>1</td>\n",
       "      <td>2016-12-09 14:05:00</td>\n",
       "      <td>23657.0</td>\n",
       "      <td>Shop 0</td>\n",
       "      <td>1</td>\n",
       "      <td>2016-12-09</td>\n",
       "      <td>8.330</td>\n",
       "      <td>8.330</td>\n",
       "    </tr>\n",
       "  </tbody>\n",
       "</table>\n",
       "<p>17276 rows × 10 columns</p>\n",
       "</div>"
      ],
      "text/plain": [
       "       purchase_id item_id  quantity       purchase_date  customer_id shop_id  \\\n",
       "2           538855   21239         7 2016-12-14 13:50:00      22182.0  Shop 0   \n",
       "10          537795  82494L         5 2016-12-08 13:03:00      22892.0  Shop 0   \n",
       "20          543808   21094         3 2017-02-13 13:22:00      23133.0  Shop 0   \n",
       "31          543040   22550         1 2017-02-02 17:06:00      23016.0  Shop 0   \n",
       "35          537077   72598         3 2016-12-05 11:59:00      22741.0  Shop 0   \n",
       "...            ...     ...       ...                 ...          ...     ...   \n",
       "104259      538354   48138         5 2016-12-10 15:45:00      22552.0  Shop 0   \n",
       "104275      538370   22314         1 2016-12-12 11:06:00      22602.0  Shop 0   \n",
       "104277      543815   21123         1 2017-02-13 15:18:00      22934.0  Shop 0   \n",
       "104280      536790  82494L         5 2016-12-02 15:26:00      23529.0  Shop 0   \n",
       "104299      538068   85048         1 2016-12-09 14:05:00      23657.0  Shop 0   \n",
       "\n",
       "        loyalty_program       date  price_per_one  revenue  \n",
       "2                     1 2016-12-14          1.630   11.410  \n",
       "10                    1 2016-12-08          5.205   26.025  \n",
       "20                    1 2017-02-13          1.240    3.720  \n",
       "31                    1 2017-02-02          3.750    3.750  \n",
       "35                    1 2016-12-05          1.630    4.890  \n",
       "...                 ...        ...            ...      ...  \n",
       "104259                1 2016-12-10         14.280   71.400  \n",
       "104275                1 2016-12-12          5.790    5.790  \n",
       "104277                1 2017-02-13          2.460    2.460  \n",
       "104280                1 2016-12-02          5.205   26.025  \n",
       "104299                1 2016-12-09          8.330    8.330  \n",
       "\n",
       "[17276 rows x 10 columns]"
      ]
     },
     "metadata": {},
     "output_type": "display_data"
    }
   ],
   "source": [
    "data_with_shop_null_loyal = data_with_shop_null.query( 'loyalty_program ==1')\n",
    "\n",
    "display(data_with_shop_null_loyal)\n"
   ]
  },
  {
   "cell_type": "code",
   "execution_count": 45,
   "metadata": {},
   "outputs": [
    {
     "data": {
      "text/plain": [
       "shop_id\n",
       "Shop 0    17276\n",
       "Name: loyalty_program, dtype: int64"
      ]
     },
     "metadata": {},
     "output_type": "display_data"
    }
   ],
   "source": [
    "test1 =data_with_shop_null_loyal.groupby('shop_id')['loyalty_program'].count()\n",
    "display(test1)"
   ]
  },
  {
   "cell_type": "code",
   "execution_count": 46,
   "metadata": {},
   "outputs": [
    {
     "data": {
      "text/html": [
       "<div>\n",
       "<style scoped>\n",
       "    .dataframe tbody tr th:only-of-type {\n",
       "        vertical-align: middle;\n",
       "    }\n",
       "\n",
       "    .dataframe tbody tr th {\n",
       "        vertical-align: top;\n",
       "    }\n",
       "\n",
       "    .dataframe thead th {\n",
       "        text-align: right;\n",
       "    }\n",
       "</style>\n",
       "<table border=\"1\" class=\"dataframe\">\n",
       "  <thead>\n",
       "    <tr style=\"text-align: right;\">\n",
       "      <th></th>\n",
       "      <th>purchase_id</th>\n",
       "      <th>item_id</th>\n",
       "      <th>quantity</th>\n",
       "      <th>purchase_date</th>\n",
       "      <th>customer_id</th>\n",
       "      <th>shop_id</th>\n",
       "      <th>loyalty_program</th>\n",
       "      <th>date</th>\n",
       "      <th>price_per_one</th>\n",
       "      <th>revenue</th>\n",
       "    </tr>\n",
       "  </thead>\n",
       "  <tbody>\n",
       "    <tr>\n",
       "      <th>3957</th>\n",
       "      <td>541576</td>\n",
       "      <td>22896</td>\n",
       "      <td>1</td>\n",
       "      <td>2017-01-19 13:32:00</td>\n",
       "      <td>22776.0</td>\n",
       "      <td>Shop 8</td>\n",
       "      <td>1</td>\n",
       "      <td>2017-01-19</td>\n",
       "      <td>4.960</td>\n",
       "      <td>4.960</td>\n",
       "    </tr>\n",
       "    <tr>\n",
       "      <th>4313</th>\n",
       "      <td>542428</td>\n",
       "      <td>21260</td>\n",
       "      <td>47</td>\n",
       "      <td>2017-01-28 10:00:00</td>\n",
       "      <td>23083.0</td>\n",
       "      <td>Shop 19</td>\n",
       "      <td>1</td>\n",
       "      <td>2017-01-28</td>\n",
       "      <td>3.250</td>\n",
       "      <td>152.750</td>\n",
       "    </tr>\n",
       "    <tr>\n",
       "      <th>4339</th>\n",
       "      <td>538095</td>\n",
       "      <td>22909</td>\n",
       "      <td>1</td>\n",
       "      <td>2016-12-09 14:55:00</td>\n",
       "      <td>22776.0</td>\n",
       "      <td>Shop 8</td>\n",
       "      <td>1</td>\n",
       "      <td>2016-12-09</td>\n",
       "      <td>1.240</td>\n",
       "      <td>1.240</td>\n",
       "    </tr>\n",
       "    <tr>\n",
       "      <th>5609</th>\n",
       "      <td>538095</td>\n",
       "      <td>22500</td>\n",
       "      <td>1</td>\n",
       "      <td>2016-12-09 14:55:00</td>\n",
       "      <td>22776.0</td>\n",
       "      <td>Shop 8</td>\n",
       "      <td>1</td>\n",
       "      <td>2016-12-09</td>\n",
       "      <td>10.790</td>\n",
       "      <td>10.790</td>\n",
       "    </tr>\n",
       "    <tr>\n",
       "      <th>6529</th>\n",
       "      <td>539338</td>\n",
       "      <td>21212</td>\n",
       "      <td>239</td>\n",
       "      <td>2016-12-17 10:54:00</td>\n",
       "      <td>23083.0</td>\n",
       "      <td>Shop 19</td>\n",
       "      <td>1</td>\n",
       "      <td>2016-12-17</td>\n",
       "      <td>1.250</td>\n",
       "      <td>298.750</td>\n",
       "    </tr>\n",
       "    <tr>\n",
       "      <th>...</th>\n",
       "      <td>...</td>\n",
       "      <td>...</td>\n",
       "      <td>...</td>\n",
       "      <td>...</td>\n",
       "      <td>...</td>\n",
       "      <td>...</td>\n",
       "      <td>...</td>\n",
       "      <td>...</td>\n",
       "      <td>...</td>\n",
       "      <td>...</td>\n",
       "    </tr>\n",
       "    <tr>\n",
       "      <th>97884</th>\n",
       "      <td>542428</td>\n",
       "      <td>22721</td>\n",
       "      <td>23</td>\n",
       "      <td>2017-01-28 10:00:00</td>\n",
       "      <td>23083.0</td>\n",
       "      <td>Shop 19</td>\n",
       "      <td>1</td>\n",
       "      <td>2017-01-28</td>\n",
       "      <td>7.870</td>\n",
       "      <td>181.010</td>\n",
       "    </tr>\n",
       "    <tr>\n",
       "      <th>98801</th>\n",
       "      <td>538095</td>\n",
       "      <td>22572</td>\n",
       "      <td>2</td>\n",
       "      <td>2016-12-09 14:55:00</td>\n",
       "      <td>22776.0</td>\n",
       "      <td>Shop 8</td>\n",
       "      <td>1</td>\n",
       "      <td>2016-12-09</td>\n",
       "      <td>1.240</td>\n",
       "      <td>2.480</td>\n",
       "    </tr>\n",
       "    <tr>\n",
       "      <th>99467</th>\n",
       "      <td>541576</td>\n",
       "      <td>21279</td>\n",
       "      <td>1</td>\n",
       "      <td>2017-01-19 13:32:00</td>\n",
       "      <td>22776.0</td>\n",
       "      <td>Shop 8</td>\n",
       "      <td>1</td>\n",
       "      <td>2017-01-19</td>\n",
       "      <td>4.960</td>\n",
       "      <td>4.960</td>\n",
       "    </tr>\n",
       "    <tr>\n",
       "      <th>103970</th>\n",
       "      <td>541576</td>\n",
       "      <td>22897</td>\n",
       "      <td>1</td>\n",
       "      <td>2017-01-19 13:32:00</td>\n",
       "      <td>22776.0</td>\n",
       "      <td>Shop 8</td>\n",
       "      <td>1</td>\n",
       "      <td>2017-01-19</td>\n",
       "      <td>2.185</td>\n",
       "      <td>2.185</td>\n",
       "    </tr>\n",
       "    <tr>\n",
       "      <th>104234</th>\n",
       "      <td>538095</td>\n",
       "      <td>22338</td>\n",
       "      <td>1</td>\n",
       "      <td>2016-12-09 14:55:00</td>\n",
       "      <td>22776.0</td>\n",
       "      <td>Shop 8</td>\n",
       "      <td>1</td>\n",
       "      <td>2016-12-09</td>\n",
       "      <td>1.250</td>\n",
       "      <td>1.250</td>\n",
       "    </tr>\n",
       "  </tbody>\n",
       "</table>\n",
       "<p>82 rows × 10 columns</p>\n",
       "</div>"
      ],
      "text/plain": [
       "       purchase_id item_id  quantity       purchase_date  customer_id  \\\n",
       "3957        541576   22896         1 2017-01-19 13:32:00      22776.0   \n",
       "4313        542428   21260        47 2017-01-28 10:00:00      23083.0   \n",
       "4339        538095   22909         1 2016-12-09 14:55:00      22776.0   \n",
       "5609        538095   22500         1 2016-12-09 14:55:00      22776.0   \n",
       "6529        539338   21212       239 2016-12-17 10:54:00      23083.0   \n",
       "...            ...     ...       ...                 ...          ...   \n",
       "97884       542428   22721        23 2017-01-28 10:00:00      23083.0   \n",
       "98801       538095   22572         2 2016-12-09 14:55:00      22776.0   \n",
       "99467       541576   21279         1 2017-01-19 13:32:00      22776.0   \n",
       "103970      541576   22897         1 2017-01-19 13:32:00      22776.0   \n",
       "104234      538095   22338         1 2016-12-09 14:55:00      22776.0   \n",
       "\n",
       "        shop_id  loyalty_program       date  price_per_one  revenue  \n",
       "3957     Shop 8                1 2017-01-19          4.960    4.960  \n",
       "4313    Shop 19                1 2017-01-28          3.250  152.750  \n",
       "4339     Shop 8                1 2016-12-09          1.240    1.240  \n",
       "5609     Shop 8                1 2016-12-09         10.790   10.790  \n",
       "6529    Shop 19                1 2016-12-17          1.250  298.750  \n",
       "...         ...              ...        ...            ...      ...  \n",
       "97884   Shop 19                1 2017-01-28          7.870  181.010  \n",
       "98801    Shop 8                1 2016-12-09          1.240    2.480  \n",
       "99467    Shop 8                1 2017-01-19          4.960    4.960  \n",
       "103970   Shop 8                1 2017-01-19          2.185    2.185  \n",
       "104234   Shop 8                1 2016-12-09          1.250    1.250  \n",
       "\n",
       "[82 rows x 10 columns]"
      ]
     },
     "metadata": {},
     "output_type": "display_data"
    }
   ],
   "source": [
    "data_without_shop_null_loyal = data_without_shop_null.query( 'loyalty_program ==1')\n",
    "\n",
    "display(data_without_shop_null_loyal)"
   ]
  },
  {
   "cell_type": "code",
   "execution_count": 47,
   "metadata": {},
   "outputs": [
    {
     "data": {
      "text/html": [
       "<div>\n",
       "<style scoped>\n",
       "    .dataframe tbody tr th:only-of-type {\n",
       "        vertical-align: middle;\n",
       "    }\n",
       "\n",
       "    .dataframe tbody tr th {\n",
       "        vertical-align: top;\n",
       "    }\n",
       "\n",
       "    .dataframe thead th {\n",
       "        text-align: right;\n",
       "    }\n",
       "</style>\n",
       "<table border=\"1\" class=\"dataframe\">\n",
       "  <thead>\n",
       "    <tr style=\"text-align: right;\">\n",
       "      <th></th>\n",
       "      <th>shop_id</th>\n",
       "      <th>loyalty_program</th>\n",
       "    </tr>\n",
       "  </thead>\n",
       "  <tbody>\n",
       "    <tr>\n",
       "      <th>0</th>\n",
       "      <td>Shop 19</td>\n",
       "      <td>48</td>\n",
       "    </tr>\n",
       "    <tr>\n",
       "      <th>1</th>\n",
       "      <td>Shop 8</td>\n",
       "      <td>34</td>\n",
       "    </tr>\n",
       "  </tbody>\n",
       "</table>\n",
       "</div>"
      ],
      "text/plain": [
       "   shop_id  loyalty_program\n",
       "0  Shop 19               48\n",
       "1   Shop 8               34"
      ]
     },
     "metadata": {},
     "output_type": "display_data"
    }
   ],
   "source": [
    "test1 =data_without_shop_null_loyal.groupby('shop_id')['loyalty_program'].count().reset_index(drop=False)\n",
    "display(test1)"
   ]
  },
  {
   "cell_type": "code",
   "execution_count": null,
   "metadata": {},
   "outputs": [],
   "source": []
  },
  {
   "cell_type": "markdown",
   "metadata": {},
   "source": [
    "**Вывод** Мы видим, что программа лояльности применяются только в некоторых магазинах. Это Shop 0, Shop 19, Shop 28, Shop 8. Shop 0 Это магазин с наибольшими продажами. Все остальные магазины как мы видели раньше, имеют не самые высокие показатели по выручки. Но так же мы видели что например магазин Shop 19 имеет хорошие показатели среднего чека. и 28 магазин мы вообще решили отмести т.к. он только открылся."
   ]
  },
  {
   "cell_type": "markdown",
   "metadata": {},
   "source": [
    "### Какие поведения характерны для пользователей программы лояльности"
   ]
  },
  {
   "cell_type": "markdown",
   "metadata": {},
   "source": [
    "#### Посмотрим какое кол-во покупок характерно для пользователей программы лояльности в сравнении с покупателями, которые этой программой не пользуются."
   ]
  },
  {
   "cell_type": "code",
   "execution_count": 48,
   "metadata": {},
   "outputs": [
    {
     "data": {
      "text/html": [
       "<div>\n",
       "<style scoped>\n",
       "    .dataframe tbody tr th:only-of-type {\n",
       "        vertical-align: middle;\n",
       "    }\n",
       "\n",
       "    .dataframe tbody tr th {\n",
       "        vertical-align: top;\n",
       "    }\n",
       "\n",
       "    .dataframe thead th {\n",
       "        text-align: right;\n",
       "    }\n",
       "</style>\n",
       "<table border=\"1\" class=\"dataframe\">\n",
       "  <thead>\n",
       "    <tr style=\"text-align: right;\">\n",
       "      <th></th>\n",
       "      <th></th>\n",
       "      <th>purchase_id</th>\n",
       "    </tr>\n",
       "    <tr>\n",
       "      <th>shop_id</th>\n",
       "      <th>loyalty_program</th>\n",
       "      <th></th>\n",
       "    </tr>\n",
       "  </thead>\n",
       "  <tbody>\n",
       "    <tr>\n",
       "      <th rowspan=\"2\" valign=\"top\">Shop 0</th>\n",
       "      <th>0</th>\n",
       "      <td>2269</td>\n",
       "    </tr>\n",
       "    <tr>\n",
       "      <th>1</th>\n",
       "      <td>1114</td>\n",
       "    </tr>\n",
       "  </tbody>\n",
       "</table>\n",
       "</div>"
      ],
      "text/plain": [
       "                         purchase_id\n",
       "shop_id loyalty_program             \n",
       "Shop 0  0                       2269\n",
       "        1                       1114"
      ]
     },
     "metadata": {},
     "output_type": "display_data"
    }
   ],
   "source": [
    "client_count_null =data_with_shop_null.pivot_table(index=['shop_id', 'loyalty_program'], values='purchase_id', aggfunc='nunique')\n",
    "display(client_count_null)"
   ]
  },
  {
   "cell_type": "code",
   "execution_count": 49,
   "metadata": {},
   "outputs": [
    {
     "data": {
      "text/html": [
       "<div>\n",
       "<style scoped>\n",
       "    .dataframe tbody tr th:only-of-type {\n",
       "        vertical-align: middle;\n",
       "    }\n",
       "\n",
       "    .dataframe tbody tr th {\n",
       "        vertical-align: top;\n",
       "    }\n",
       "\n",
       "    .dataframe thead th {\n",
       "        text-align: right;\n",
       "    }\n",
       "</style>\n",
       "<table border=\"1\" class=\"dataframe\">\n",
       "  <thead>\n",
       "    <tr style=\"text-align: right;\">\n",
       "      <th></th>\n",
       "      <th></th>\n",
       "      <th>purchase_id</th>\n",
       "    </tr>\n",
       "    <tr>\n",
       "      <th>shop_id</th>\n",
       "      <th>loyalty_program</th>\n",
       "      <th></th>\n",
       "    </tr>\n",
       "  </thead>\n",
       "  <tbody>\n",
       "    <tr>\n",
       "      <th rowspan=\"2\" valign=\"top\">Shop 19</th>\n",
       "      <th>0</th>\n",
       "      <td>3</td>\n",
       "    </tr>\n",
       "    <tr>\n",
       "      <th>1</th>\n",
       "      <td>4</td>\n",
       "    </tr>\n",
       "    <tr>\n",
       "      <th rowspan=\"2\" valign=\"top\">Shop 8</th>\n",
       "      <th>0</th>\n",
       "      <td>18</td>\n",
       "    </tr>\n",
       "    <tr>\n",
       "      <th>1</th>\n",
       "      <td>2</td>\n",
       "    </tr>\n",
       "  </tbody>\n",
       "</table>\n",
       "</div>"
      ],
      "text/plain": [
       "                         purchase_id\n",
       "shop_id loyalty_program             \n",
       "Shop 19 0                          3\n",
       "        1                          4\n",
       "Shop 8  0                         18\n",
       "        1                          2"
      ]
     },
     "metadata": {},
     "output_type": "display_data"
    }
   ],
   "source": [
    "data_shop = data_without_shop_null.query('shop_id == [\"Shop 19\", \"Shop 8\"]')\n",
    "\n",
    "client_count_shops =data_shop.pivot_table(index=['shop_id', 'loyalty_program'], values='purchase_id', aggfunc='nunique')\n",
    "display(client_count_shops)"
   ]
  },
  {
   "cell_type": "code",
   "execution_count": 50,
   "metadata": {},
   "outputs": [
    {
     "data": {
      "image/png": "[encoded data removed]",
      "text/plain": [
       "<Figure size 432x288 with 2 Axes>"
      ]
     },
     "metadata": {},
     "output_type": "display_data"
    }
   ],
   "source": [
    "ax = sns.heatmap(client_count_shops, annot=True, cmap=\"YlGnBu\")\n",
    "plt.show()"
   ]
  },
  {
   "cell_type": "markdown",
   "metadata": {},
   "source": [
    "**Вывод**: В целом мы видим, что кол-во покупок совершается покупателями без программы лояльности. Но в магазине Shop 19, картина выглядит лучше. Там по программе лояльности сделали больше покупок, чем без нее.\n",
    "    \n",
    "    "
   ]
  },
  {
   "cell_type": "markdown",
   "metadata": {},
   "source": [
    "#### Посмотрим выручку магазинов в зависимости от программы лояльности или ее отсутствии."
   ]
  },
  {
   "cell_type": "code",
   "execution_count": 51,
   "metadata": {},
   "outputs": [
    {
     "data": {
      "text/html": [
       "<div>\n",
       "<style scoped>\n",
       "    .dataframe tbody tr th:only-of-type {\n",
       "        vertical-align: middle;\n",
       "    }\n",
       "\n",
       "    .dataframe tbody tr th {\n",
       "        vertical-align: top;\n",
       "    }\n",
       "\n",
       "    .dataframe thead th {\n",
       "        text-align: right;\n",
       "    }\n",
       "</style>\n",
       "<table border=\"1\" class=\"dataframe\">\n",
       "  <thead>\n",
       "    <tr style=\"text-align: right;\">\n",
       "      <th></th>\n",
       "      <th></th>\n",
       "      <th>revenue</th>\n",
       "    </tr>\n",
       "    <tr>\n",
       "      <th>shop_id</th>\n",
       "      <th>loyalty_program</th>\n",
       "      <th></th>\n",
       "    </tr>\n",
       "  </thead>\n",
       "  <tbody>\n",
       "    <tr>\n",
       "      <th rowspan=\"2\" valign=\"top\">Shop 0</th>\n",
       "      <th>0</th>\n",
       "      <td>1384479.240</td>\n",
       "    </tr>\n",
       "    <tr>\n",
       "      <th>1</th>\n",
       "      <td>579518.015</td>\n",
       "    </tr>\n",
       "  </tbody>\n",
       "</table>\n",
       "</div>"
      ],
      "text/plain": [
       "                             revenue\n",
       "shop_id loyalty_program             \n",
       "Shop 0  0                1384479.240\n",
       "        1                 579518.015"
      ]
     },
     "metadata": {},
     "output_type": "display_data"
    }
   ],
   "source": [
    "client_count_null =data_with_shop_null.pivot_table(index=['shop_id', 'loyalty_program'], values='revenue', aggfunc='sum')\n",
    "display(client_count_null)"
   ]
  },
  {
   "cell_type": "code",
   "execution_count": 52,
   "metadata": {},
   "outputs": [
    {
     "data": {
      "image/png": "[encoded data removed]",
      "text/plain": [
       "<Figure size 720x360 with 1 Axes>"
      ]
     },
     "metadata": {},
     "output_type": "display_data"
    }
   ],
   "source": [
    "ax=client_count_null.plot(kind='bar',color='red', figsize=(10,5), grid=True, position=1 )\n",
    "plt.title('Выручка по магазину Shop 0')\n",
    "plt.xlabel('Магазин и лояльность')\n",
    "plt.xticks(rotation=45)\n",
    "plt.ylabel('Суммарная выручка')\n",
    "plt.grid()\n",
    "plt.show()"
   ]
  },
  {
   "cell_type": "code",
   "execution_count": 53,
   "metadata": {},
   "outputs": [
    {
     "data": {
      "text/html": [
       "<div>\n",
       "<style scoped>\n",
       "    .dataframe tbody tr th:only-of-type {\n",
       "        vertical-align: middle;\n",
       "    }\n",
       "\n",
       "    .dataframe tbody tr th {\n",
       "        vertical-align: top;\n",
       "    }\n",
       "\n",
       "    .dataframe thead th {\n",
       "        text-align: right;\n",
       "    }\n",
       "</style>\n",
       "<table border=\"1\" class=\"dataframe\">\n",
       "  <thead>\n",
       "    <tr style=\"text-align: right;\">\n",
       "      <th></th>\n",
       "      <th></th>\n",
       "      <th>revenue</th>\n",
       "    </tr>\n",
       "    <tr>\n",
       "      <th>shop_id</th>\n",
       "      <th>loyalty_program</th>\n",
       "      <th></th>\n",
       "    </tr>\n",
       "  </thead>\n",
       "  <tbody>\n",
       "    <tr>\n",
       "      <th rowspan=\"2\" valign=\"top\">Shop 19</th>\n",
       "      <th>0</th>\n",
       "      <td>1248.135</td>\n",
       "    </tr>\n",
       "    <tr>\n",
       "      <th>1</th>\n",
       "      <td>9001.465</td>\n",
       "    </tr>\n",
       "    <tr>\n",
       "      <th rowspan=\"2\" valign=\"top\">Shop 8</th>\n",
       "      <th>0</th>\n",
       "      <td>16715.970</td>\n",
       "    </tr>\n",
       "    <tr>\n",
       "      <th>1</th>\n",
       "      <td>255.055</td>\n",
       "    </tr>\n",
       "  </tbody>\n",
       "</table>\n",
       "</div>"
      ],
      "text/plain": [
       "                           revenue\n",
       "shop_id loyalty_program           \n",
       "Shop 19 0                 1248.135\n",
       "        1                 9001.465\n",
       "Shop 8  0                16715.970\n",
       "        1                  255.055"
      ]
     },
     "metadata": {},
     "output_type": "display_data"
    }
   ],
   "source": [
    "\n",
    "client_count_shop =data_shop.pivot_table(index=['shop_id', 'loyalty_program'], values='revenue', aggfunc='sum')\n",
    "display(client_count_shop)"
   ]
  },
  {
   "cell_type": "code",
   "execution_count": 54,
   "metadata": {},
   "outputs": [
    {
     "data": {
      "image/png": "[encoded data removed]",
      "text/plain": [
       "<Figure size 720x360 with 1 Axes>"
      ]
     },
     "metadata": {},
     "output_type": "display_data"
    }
   ],
   "source": [
    "client_count_shop.plot(kind='bar',color='green', figsize=(10,5), grid=True, position=1 )\n",
    "\n",
    "#client_count_shop.query('shop_id == [\"Shop 8\"]').plot(kind='bar', color='green', figsize=(10,5), grid=True,ax=ax,position=1)\n",
    "plt.title('Выручка по магазинам')\n",
    "plt.xlabel('Магазин и лояльность')\n",
    "plt.xticks(rotation=45)\n",
    "plt.ylabel('Суммарная выручка')\n",
    "plt.grid()\n",
    "plt.show()"
   ]
  },
  {
   "cell_type": "markdown",
   "metadata": {},
   "source": [
    "**Вывод**: Выручка опять же больше у покупателей без программы лояльности. При этом магазин Shop 19 показывает хорошие результаты по программе лояльности."
   ]
  },
  {
   "cell_type": "markdown",
   "metadata": {},
   "source": [
    "#### Посмотрим средний чек магазинов в зависимости от программы лояльности или ее отсутствие."
   ]
  },
  {
   "cell_type": "markdown",
   "metadata": {},
   "source": [
    "Посмотрим средний чек для Shop 0 в зависимости от программы лояльности или ее отсутствие. В среднем чек будем учитывать только покупки. Возвраты учитывать не будем."
   ]
  },
  {
   "cell_type": "code",
   "execution_count": 55,
   "metadata": {},
   "outputs": [
    {
     "data": {
      "text/html": [
       "<div>\n",
       "<style scoped>\n",
       "    .dataframe tbody tr th:only-of-type {\n",
       "        vertical-align: middle;\n",
       "    }\n",
       "\n",
       "    .dataframe tbody tr th {\n",
       "        vertical-align: top;\n",
       "    }\n",
       "\n",
       "    .dataframe thead th {\n",
       "        text-align: right;\n",
       "    }\n",
       "</style>\n",
       "<table border=\"1\" class=\"dataframe\">\n",
       "  <thead>\n",
       "    <tr style=\"text-align: right;\">\n",
       "      <th></th>\n",
       "      <th></th>\n",
       "      <th>purchase_id</th>\n",
       "      <th>revenue</th>\n",
       "    </tr>\n",
       "    <tr>\n",
       "      <th>shop_id</th>\n",
       "      <th>loyalty_program</th>\n",
       "      <th></th>\n",
       "      <th></th>\n",
       "    </tr>\n",
       "  </thead>\n",
       "  <tbody>\n",
       "    <tr>\n",
       "      <th rowspan=\"2\" valign=\"top\">Shop 0</th>\n",
       "      <th>0</th>\n",
       "      <td>2269</td>\n",
       "      <td>1384479.240</td>\n",
       "    </tr>\n",
       "    <tr>\n",
       "      <th>1</th>\n",
       "      <td>1114</td>\n",
       "      <td>579518.015</td>\n",
       "    </tr>\n",
       "  </tbody>\n",
       "</table>\n",
       "</div>"
      ],
      "text/plain": [
       "                         purchase_id      revenue\n",
       "shop_id loyalty_program                          \n",
       "Shop 0  0                       2269  1384479.240\n",
       "        1                       1114   579518.015"
      ]
     },
     "metadata": {},
     "output_type": "display_data"
    }
   ],
   "source": [
    "data_with_shop_null= data_with_shop_null[data_with_shop_null['quantity']>=1] \n",
    "# Кол-во покупок больше либо равно 1, т.е мы отметаем возвраты\n",
    "\n",
    "data_with_shop_null_check1 =data_with_shop_null.pivot_table(index=['shop_id','loyalty_program'], values=[\"purchase_id\", \"revenue\"],\n",
    "                       aggfunc={\"purchase_id\":'nunique', \"revenue\":'sum'},\n",
    "                       fill_value=0)\n",
    "display(data_with_shop_null_check1)"
   ]
  },
  {
   "cell_type": "code",
   "execution_count": 56,
   "metadata": {},
   "outputs": [
    {
     "data": {
      "text/html": [
       "<div>\n",
       "<style scoped>\n",
       "    .dataframe tbody tr th:only-of-type {\n",
       "        vertical-align: middle;\n",
       "    }\n",
       "\n",
       "    .dataframe tbody tr th {\n",
       "        vertical-align: top;\n",
       "    }\n",
       "\n",
       "    .dataframe thead th {\n",
       "        text-align: right;\n",
       "    }\n",
       "</style>\n",
       "<table border=\"1\" class=\"dataframe\">\n",
       "  <thead>\n",
       "    <tr style=\"text-align: right;\">\n",
       "      <th></th>\n",
       "      <th></th>\n",
       "      <th>purchase_id</th>\n",
       "      <th>revenue</th>\n",
       "      <th>mean_check</th>\n",
       "    </tr>\n",
       "    <tr>\n",
       "      <th>shop_id</th>\n",
       "      <th>loyalty_program</th>\n",
       "      <th></th>\n",
       "      <th></th>\n",
       "      <th></th>\n",
       "    </tr>\n",
       "  </thead>\n",
       "  <tbody>\n",
       "    <tr>\n",
       "      <th rowspan=\"2\" valign=\"top\">Shop 0</th>\n",
       "      <th>0</th>\n",
       "      <td>2269</td>\n",
       "      <td>1384479.24</td>\n",
       "      <td>610.17</td>\n",
       "    </tr>\n",
       "    <tr>\n",
       "      <th>1</th>\n",
       "      <td>1114</td>\n",
       "      <td>579518.01</td>\n",
       "      <td>520.21</td>\n",
       "    </tr>\n",
       "  </tbody>\n",
       "</table>\n",
       "</div>"
      ],
      "text/plain": [
       "                         purchase_id     revenue  mean_check\n",
       "shop_id loyalty_program                                     \n",
       "Shop 0  0                       2269  1384479.24      610.17\n",
       "        1                       1114   579518.01      520.21"
      ]
     },
     "metadata": {},
     "output_type": "display_data"
    }
   ],
   "source": [
    "data_with_shop_null_check1['mean_check']=data_with_shop_null_check1['revenue']/data_with_shop_null_check1['purchase_id']\n",
    "display(round(data_with_shop_null_check1,2))"
   ]
  },
  {
   "cell_type": "code",
   "execution_count": 57,
   "metadata": {},
   "outputs": [
    {
     "data": {
      "image/png": "[encoded data removed]",
      "text/plain": [
       "<Figure size 720x360 with 1 Axes>"
      ]
     },
     "metadata": {},
     "output_type": "display_data"
    }
   ],
   "source": [
    "data_with_shop_null_check1['mean_check'].plot(kind='bar', color='red', figsize=(10,5), grid=True, position=0.5)\n",
    "\n",
    "plt.title('Средний чек по магазинам')\n",
    "plt.xlabel('Магазин и лояльность')\n",
    "plt.xticks(rotation=45)\n",
    "plt.ylabel('Средний чек')\n",
    "plt.grid()\n",
    "plt.show()"
   ]
  },
  {
   "cell_type": "code",
   "execution_count": 58,
   "metadata": {},
   "outputs": [],
   "source": [
    "data_shop= data_shop[data_shop['quantity']>=1]\n",
    "\n",
    "data_without_shop_check1 =data_shop.pivot_table(index=['shop_id','loyalty_program'], values=[\"purchase_id\", \"revenue\"],\n",
    "                       aggfunc={\"purchase_id\":'nunique', \"revenue\":'sum'},\n",
    "                       fill_value=0)\n",
    "#display(data_without_shop_check)"
   ]
  },
  {
   "cell_type": "code",
   "execution_count": 59,
   "metadata": {},
   "outputs": [
    {
     "data": {
      "text/html": [
       "<div>\n",
       "<style scoped>\n",
       "    .dataframe tbody tr th:only-of-type {\n",
       "        vertical-align: middle;\n",
       "    }\n",
       "\n",
       "    .dataframe tbody tr th {\n",
       "        vertical-align: top;\n",
       "    }\n",
       "\n",
       "    .dataframe thead th {\n",
       "        text-align: right;\n",
       "    }\n",
       "</style>\n",
       "<table border=\"1\" class=\"dataframe\">\n",
       "  <thead>\n",
       "    <tr style=\"text-align: right;\">\n",
       "      <th></th>\n",
       "      <th></th>\n",
       "      <th>purchase_id</th>\n",
       "      <th>revenue</th>\n",
       "      <th>mean_check</th>\n",
       "    </tr>\n",
       "    <tr>\n",
       "      <th>shop_id</th>\n",
       "      <th>loyalty_program</th>\n",
       "      <th></th>\n",
       "      <th></th>\n",
       "      <th></th>\n",
       "    </tr>\n",
       "  </thead>\n",
       "  <tbody>\n",
       "    <tr>\n",
       "      <th rowspan=\"2\" valign=\"top\">Shop 19</th>\n",
       "      <th>0</th>\n",
       "      <td>2</td>\n",
       "      <td>1274.11</td>\n",
       "      <td>637.06</td>\n",
       "    </tr>\n",
       "    <tr>\n",
       "      <th>1</th>\n",
       "      <td>3</td>\n",
       "      <td>10025.71</td>\n",
       "      <td>3341.90</td>\n",
       "    </tr>\n",
       "    <tr>\n",
       "      <th rowspan=\"2\" valign=\"top\">Shop 8</th>\n",
       "      <th>0</th>\n",
       "      <td>14</td>\n",
       "      <td>16933.19</td>\n",
       "      <td>1209.51</td>\n",
       "    </tr>\n",
       "    <tr>\n",
       "      <th>1</th>\n",
       "      <td>2</td>\n",
       "      <td>255.05</td>\n",
       "      <td>127.53</td>\n",
       "    </tr>\n",
       "  </tbody>\n",
       "</table>\n",
       "</div>"
      ],
      "text/plain": [
       "                         purchase_id   revenue  mean_check\n",
       "shop_id loyalty_program                                   \n",
       "Shop 19 0                          2   1274.11      637.06\n",
       "        1                          3  10025.71     3341.90\n",
       "Shop 8  0                         14  16933.19     1209.51\n",
       "        1                          2    255.05      127.53"
      ]
     },
     "metadata": {},
     "output_type": "display_data"
    }
   ],
   "source": [
    "data_without_shop_check1['mean_check']=(data_without_shop_check1['revenue']/data_without_shop_check1['purchase_id'])\n",
    "#data_without_shop_check1= data_without_shop_check1.sort_values(by='mean_check', ascending=False)\n",
    "display(round(data_without_shop_check1,2))"
   ]
  },
  {
   "cell_type": "code",
   "execution_count": 60,
   "metadata": {},
   "outputs": [],
   "source": [
    "##data_without_shop_check1_1=data_without_shop_check1[['loyalty_program','mean_check']]\n",
    "##data_without_shop_check1_1"
   ]
  },
  {
   "cell_type": "code",
   "execution_count": 61,
   "metadata": {},
   "outputs": [
    {
     "data": {
      "image/png": "[encoded data removed]",
      "text/plain": [
       "<Figure size 720x360 with 1 Axes>"
      ]
     },
     "metadata": {},
     "output_type": "display_data"
    }
   ],
   "source": [
    "data_without_shop_check1.plot(kind='bar',y = ['mean_check'], color='green', figsize=(10,5), grid=True, position=0.5)\n",
    "plt.title('Средний чек по магазинам')\n",
    "plt.xlabel('Магазин и Лоялность')\n",
    "plt.xticks(rotation=45)\n",
    "plt.ylabel('Средний чек')\n",
    "plt.grid()\n",
    "plt.show()"
   ]
  },
  {
   "cell_type": "markdown",
   "metadata": {},
   "source": [
    "**Вывод** Средний чек клиентов участвующих в программе лояльности в магазине Shop 19 гораздо больше чем у тех, кто не участвует в этой программе. Хороший знак.В Shop 8 и Shop 0 средний чек выше в магазинах у клиентов не участвующих в программе лояльности."
   ]
  },
  {
   "cell_type": "markdown",
   "metadata": {},
   "source": [
    "## Статистический анализ данных "
   ]
  },
  {
   "cell_type": "markdown",
   "metadata": {},
   "source": [
    "### Проверем статистическую гипотезу, что средний чек пользователей программы лояльности и пользователей без нее, равны."
   ]
  },
  {
   "cell_type": "markdown",
   "metadata": {},
   "source": [
    "Сформулируем гипотезы\n",
    "\n",
    "Считаем нулевую гипотезу, что средний чек от покупатель с программой лоялности и без программы лояльности равны. \n",
    "\n",
    "Альтернативная теория, что средние чеки не равны."
   ]
  },
  {
   "cell_type": "code",
   "execution_count": 62,
   "metadata": {},
   "outputs": [
    {
     "data": {
      "text/html": [
       "<div>\n",
       "<style scoped>\n",
       "    .dataframe tbody tr th:only-of-type {\n",
       "        vertical-align: middle;\n",
       "    }\n",
       "\n",
       "    .dataframe tbody tr th {\n",
       "        vertical-align: top;\n",
       "    }\n",
       "\n",
       "    .dataframe thead th {\n",
       "        text-align: right;\n",
       "    }\n",
       "</style>\n",
       "<table border=\"1\" class=\"dataframe\">\n",
       "  <thead>\n",
       "    <tr style=\"text-align: right;\">\n",
       "      <th></th>\n",
       "      <th>purchase_id</th>\n",
       "      <th>item_id</th>\n",
       "      <th>quantity</th>\n",
       "      <th>purchase_date</th>\n",
       "      <th>customer_id</th>\n",
       "      <th>shop_id</th>\n",
       "      <th>loyalty_program</th>\n",
       "      <th>date</th>\n",
       "      <th>price_per_one</th>\n",
       "      <th>revenue</th>\n",
       "    </tr>\n",
       "  </thead>\n",
       "  <tbody>\n",
       "    <tr>\n",
       "      <th>0</th>\n",
       "      <td>538280</td>\n",
       "      <td>21873</td>\n",
       "      <td>11</td>\n",
       "      <td>2016-12-10 12:50:00</td>\n",
       "      <td>18427.0</td>\n",
       "      <td>Shop 0</td>\n",
       "      <td>0</td>\n",
       "      <td>2016-12-10</td>\n",
       "      <td>1.630</td>\n",
       "      <td>17.930</td>\n",
       "    </tr>\n",
       "    <tr>\n",
       "      <th>2</th>\n",
       "      <td>538855</td>\n",
       "      <td>21239</td>\n",
       "      <td>7</td>\n",
       "      <td>2016-12-14 13:50:00</td>\n",
       "      <td>22182.0</td>\n",
       "      <td>Shop 0</td>\n",
       "      <td>1</td>\n",
       "      <td>2016-12-14</td>\n",
       "      <td>1.630</td>\n",
       "      <td>11.410</td>\n",
       "    </tr>\n",
       "    <tr>\n",
       "      <th>7</th>\n",
       "      <td>541424</td>\n",
       "      <td>79321</td>\n",
       "      <td>1</td>\n",
       "      <td>2017-01-17 17:57:00</td>\n",
       "      <td>NaN</td>\n",
       "      <td>Shop 0</td>\n",
       "      <td>0</td>\n",
       "      <td>2017-01-17</td>\n",
       "      <td>5.750</td>\n",
       "      <td>5.750</td>\n",
       "    </tr>\n",
       "    <tr>\n",
       "      <th>10</th>\n",
       "      <td>537795</td>\n",
       "      <td>82494L</td>\n",
       "      <td>5</td>\n",
       "      <td>2016-12-08 13:03:00</td>\n",
       "      <td>22892.0</td>\n",
       "      <td>Shop 0</td>\n",
       "      <td>1</td>\n",
       "      <td>2016-12-08</td>\n",
       "      <td>5.205</td>\n",
       "      <td>26.025</td>\n",
       "    </tr>\n",
       "    <tr>\n",
       "      <th>11</th>\n",
       "      <td>541696</td>\n",
       "      <td>22197</td>\n",
       "      <td>4</td>\n",
       "      <td>2017-01-20 18:08:00</td>\n",
       "      <td>NaN</td>\n",
       "      <td>Shop 0</td>\n",
       "      <td>0</td>\n",
       "      <td>2017-01-20</td>\n",
       "      <td>1.240</td>\n",
       "      <td>4.960</td>\n",
       "    </tr>\n",
       "    <tr>\n",
       "      <th>...</th>\n",
       "      <td>...</td>\n",
       "      <td>...</td>\n",
       "      <td>...</td>\n",
       "      <td>...</td>\n",
       "      <td>...</td>\n",
       "      <td>...</td>\n",
       "      <td>...</td>\n",
       "      <td>...</td>\n",
       "      <td>...</td>\n",
       "      <td>...</td>\n",
       "    </tr>\n",
       "    <tr>\n",
       "      <th>104296</th>\n",
       "      <td>540154</td>\n",
       "      <td>22134</td>\n",
       "      <td>3</td>\n",
       "      <td>2017-01-05 11:30:00</td>\n",
       "      <td>NaN</td>\n",
       "      <td>Shop 0</td>\n",
       "      <td>0</td>\n",
       "      <td>2017-01-05</td>\n",
       "      <td>0.630</td>\n",
       "      <td>1.890</td>\n",
       "    </tr>\n",
       "    <tr>\n",
       "      <th>104297</th>\n",
       "      <td>538566</td>\n",
       "      <td>21826</td>\n",
       "      <td>1</td>\n",
       "      <td>2016-12-13 11:21:00</td>\n",
       "      <td>NaN</td>\n",
       "      <td>Shop 0</td>\n",
       "      <td>0</td>\n",
       "      <td>2016-12-13</td>\n",
       "      <td>2.460</td>\n",
       "      <td>2.460</td>\n",
       "    </tr>\n",
       "    <tr>\n",
       "      <th>104299</th>\n",
       "      <td>538068</td>\n",
       "      <td>85048</td>\n",
       "      <td>1</td>\n",
       "      <td>2016-12-09 14:05:00</td>\n",
       "      <td>23657.0</td>\n",
       "      <td>Shop 0</td>\n",
       "      <td>1</td>\n",
       "      <td>2016-12-09</td>\n",
       "      <td>8.330</td>\n",
       "      <td>8.330</td>\n",
       "    </tr>\n",
       "    <tr>\n",
       "      <th>104300</th>\n",
       "      <td>538207</td>\n",
       "      <td>22818</td>\n",
       "      <td>11</td>\n",
       "      <td>2016-12-10 11:33:00</td>\n",
       "      <td>18427.0</td>\n",
       "      <td>Shop 0</td>\n",
       "      <td>0</td>\n",
       "      <td>2016-12-10</td>\n",
       "      <td>0.830</td>\n",
       "      <td>9.130</td>\n",
       "    </tr>\n",
       "    <tr>\n",
       "      <th>104301</th>\n",
       "      <td>543977</td>\n",
       "      <td>22384</td>\n",
       "      <td>9</td>\n",
       "      <td>2017-02-14 15:35:00</td>\n",
       "      <td>21294.0</td>\n",
       "      <td>Shop 0</td>\n",
       "      <td>0</td>\n",
       "      <td>2017-02-14</td>\n",
       "      <td>4.130</td>\n",
       "      <td>37.170</td>\n",
       "    </tr>\n",
       "  </tbody>\n",
       "</table>\n",
       "<p>71940 rows × 10 columns</p>\n",
       "</div>"
      ],
      "text/plain": [
       "       purchase_id item_id  quantity       purchase_date  customer_id shop_id  \\\n",
       "0           538280   21873        11 2016-12-10 12:50:00      18427.0  Shop 0   \n",
       "2           538855   21239         7 2016-12-14 13:50:00      22182.0  Shop 0   \n",
       "7           541424   79321         1 2017-01-17 17:57:00          NaN  Shop 0   \n",
       "10          537795  82494L         5 2016-12-08 13:03:00      22892.0  Shop 0   \n",
       "11          541696   22197         4 2017-01-20 18:08:00          NaN  Shop 0   \n",
       "...            ...     ...       ...                 ...          ...     ...   \n",
       "104296      540154   22134         3 2017-01-05 11:30:00          NaN  Shop 0   \n",
       "104297      538566   21826         1 2016-12-13 11:21:00          NaN  Shop 0   \n",
       "104299      538068   85048         1 2016-12-09 14:05:00      23657.0  Shop 0   \n",
       "104300      538207   22818        11 2016-12-10 11:33:00      18427.0  Shop 0   \n",
       "104301      543977   22384         9 2017-02-14 15:35:00      21294.0  Shop 0   \n",
       "\n",
       "        loyalty_program       date  price_per_one  revenue  \n",
       "0                     0 2016-12-10          1.630   17.930  \n",
       "2                     1 2016-12-14          1.630   11.410  \n",
       "7                     0 2017-01-17          5.750    5.750  \n",
       "10                    1 2016-12-08          5.205   26.025  \n",
       "11                    0 2017-01-20          1.240    4.960  \n",
       "...                 ...        ...            ...      ...  \n",
       "104296                0 2017-01-05          0.630    1.890  \n",
       "104297                0 2016-12-13          2.460    2.460  \n",
       "104299                1 2016-12-09          8.330    8.330  \n",
       "104300                0 2016-12-10          0.830    9.130  \n",
       "104301                0 2017-02-14          4.130   37.170  \n",
       "\n",
       "[71940 rows x 10 columns]"
      ]
     },
     "metadata": {},
     "output_type": "display_data"
    }
   ],
   "source": [
    "display (data)"
   ]
  },
  {
   "cell_type": "code",
   "execution_count": 63,
   "metadata": {},
   "outputs": [
    {
     "data": {
      "text/html": [
       "<div>\n",
       "<style scoped>\n",
       "    .dataframe tbody tr th:only-of-type {\n",
       "        vertical-align: middle;\n",
       "    }\n",
       "\n",
       "    .dataframe tbody tr th {\n",
       "        vertical-align: top;\n",
       "    }\n",
       "\n",
       "    .dataframe thead th {\n",
       "        text-align: right;\n",
       "    }\n",
       "</style>\n",
       "<table border=\"1\" class=\"dataframe\">\n",
       "  <thead>\n",
       "    <tr style=\"text-align: right;\">\n",
       "      <th></th>\n",
       "      <th>shop_id</th>\n",
       "      <th>loyalty_program</th>\n",
       "      <th>purchase_id</th>\n",
       "      <th>revenue</th>\n",
       "      <th>mean_check</th>\n",
       "    </tr>\n",
       "  </thead>\n",
       "  <tbody>\n",
       "    <tr>\n",
       "      <th>0</th>\n",
       "      <td>Shop 0</td>\n",
       "      <td>0</td>\n",
       "      <td>2269</td>\n",
       "      <td>1384479.240</td>\n",
       "      <td>610.171547</td>\n",
       "    </tr>\n",
       "    <tr>\n",
       "      <th>1</th>\n",
       "      <td>Shop 0</td>\n",
       "      <td>1</td>\n",
       "      <td>1114</td>\n",
       "      <td>579518.015</td>\n",
       "      <td>520.213658</td>\n",
       "    </tr>\n",
       "    <tr>\n",
       "      <th>12</th>\n",
       "      <td>Shop 19</td>\n",
       "      <td>0</td>\n",
       "      <td>2</td>\n",
       "      <td>1274.115</td>\n",
       "      <td>637.057500</td>\n",
       "    </tr>\n",
       "    <tr>\n",
       "      <th>13</th>\n",
       "      <td>Shop 19</td>\n",
       "      <td>1</td>\n",
       "      <td>3</td>\n",
       "      <td>10025.715</td>\n",
       "      <td>3341.905000</td>\n",
       "    </tr>\n",
       "    <tr>\n",
       "      <th>31</th>\n",
       "      <td>Shop 8</td>\n",
       "      <td>0</td>\n",
       "      <td>14</td>\n",
       "      <td>16933.190</td>\n",
       "      <td>1209.513571</td>\n",
       "    </tr>\n",
       "    <tr>\n",
       "      <th>32</th>\n",
       "      <td>Shop 8</td>\n",
       "      <td>1</td>\n",
       "      <td>2</td>\n",
       "      <td>255.055</td>\n",
       "      <td>127.527500</td>\n",
       "    </tr>\n",
       "  </tbody>\n",
       "</table>\n",
       "</div>"
      ],
      "text/plain": [
       "    shop_id  loyalty_program  purchase_id      revenue   mean_check\n",
       "0    Shop 0                0         2269  1384479.240   610.171547\n",
       "1    Shop 0                1         1114   579518.015   520.213658\n",
       "12  Shop 19                0            2     1274.115   637.057500\n",
       "13  Shop 19                1            3    10025.715  3341.905000\n",
       "31   Shop 8                0           14    16933.190  1209.513571\n",
       "32   Shop 8                1            2      255.055   127.527500"
      ]
     },
     "metadata": {},
     "output_type": "display_data"
    }
   ],
   "source": [
    "data= data[data['quantity']>=0]\n",
    "\n",
    "data_check= data.pivot_table(index=['shop_id','loyalty_program'], values=[\"purchase_id\", \"revenue\"],\n",
    "                       aggfunc={\"purchase_id\":'nunique', \"revenue\":'sum'},\n",
    "                       fill_value=0).reset_index()\n",
    "data_check['mean_check']=(data_check['revenue']/data_check['purchase_id'])\n",
    "\n",
    "data_check=data_check.query('shop_id == [\"Shop 19\", \"Shop 8\", \"Shop 0\" ]')\n",
    "display(data_check)"
   ]
  },
  {
   "cell_type": "code",
   "execution_count": 64,
   "metadata": {},
   "outputs": [
    {
     "data": {
      "text/plain": [
       "0      610.171547\n",
       "12     637.057500\n",
       "31    1209.513571\n",
       "Name: mean_check, dtype: float64"
      ]
     },
     "execution_count": 64,
     "metadata": {},
     "output_type": "execute_result"
    }
   ],
   "source": [
    "mean_check_loyal_null= data_check[data_check['loyalty_program']==0]\n",
    "mean_check_loyal_one= data_check[data_check['loyalty_program']==1]\n",
    "\n",
    "mean_check_loyal_null['mean_check']"
   ]
  },
  {
   "cell_type": "code",
   "execution_count": 65,
   "metadata": {},
   "outputs": [
    {
     "data": {
      "text/plain": [
       "1      520.213658\n",
       "13    3341.905000\n",
       "32     127.527500\n",
       "Name: mean_check, dtype: float64"
      ]
     },
     "execution_count": 65,
     "metadata": {},
     "output_type": "execute_result"
    }
   ],
   "source": [
    "mean_check_loyal_one['mean_check']"
   ]
  },
  {
   "cell_type": "code",
   "execution_count": 66,
   "metadata": {},
   "outputs": [],
   "source": [
    "alpha = .05 # критический уровень статистической значимости"
   ]
  },
  {
   "cell_type": "code",
   "execution_count": 67,
   "metadata": {},
   "outputs": [
    {
     "name": "stdout",
     "output_type": "stream",
     "text": [
      "Не получилось  отвергнуть нулевую гипотезу\n"
     ]
    }
   ],
   "source": [
    "results=st.ttest_ind(mean_check_loyal_null['mean_check'], mean_check_loyal_one['mean_check'],equal_var=False ) \n",
    "alpha = .05 # критический уровень статистической значимости\n",
    "results.pvalue\n",
    "\n",
    "if (results.pvalue<alpha):\n",
    "    print('Отвергаем нулевую гипотезу')\n",
    "else:\n",
    "    print('Не получилось  отвергнуть нулевую гипотезу')\n"
   ]
  },
  {
   "cell_type": "markdown",
   "metadata": {},
   "source": [
    "**Вывод**: Неудалось опровергнуть нулевую теорию о том, что что средний чек от покупатель с программой лоялности и без программы лояльности равны."
   ]
  },
  {
   "cell_type": "markdown",
   "metadata": {},
   "source": [
    "### Проверим гипотезу, что  выручка в рабочий день и выручка в выходной день одинаковые."
   ]
  },
  {
   "cell_type": "markdown",
   "metadata": {},
   "source": [
    "Я обратил внимание, что с 23 декабря 2016 по 04 января 2017 продажи отсутствовали. Думаю это связанно с рождественскими праздниками. Думаю если бы некоторые наши магазина работали вы выходные дни мы могли бы увеличить выручку. Но для начала предлагаю проверить гипотезу,что выручка в рабочие дни и выручка в выходные дни равны.\n",
    "\n",
    "Алтернативная теория, что выручки не равны."
   ]
  },
  {
   "cell_type": "markdown",
   "metadata": {},
   "source": [
    "Посчитаем диссперию "
   ]
  },
  {
   "cell_type": "code",
   "execution_count": 68,
   "metadata": {},
   "outputs": [
    {
     "data": {
      "text/html": [
       "<div>\n",
       "<style scoped>\n",
       "    .dataframe tbody tr th:only-of-type {\n",
       "        vertical-align: middle;\n",
       "    }\n",
       "\n",
       "    .dataframe tbody tr th {\n",
       "        vertical-align: top;\n",
       "    }\n",
       "\n",
       "    .dataframe thead th {\n",
       "        text-align: right;\n",
       "    }\n",
       "</style>\n",
       "<table border=\"1\" class=\"dataframe\">\n",
       "  <thead>\n",
       "    <tr style=\"text-align: right;\">\n",
       "      <th></th>\n",
       "      <th>purchase_id</th>\n",
       "      <th>item_id</th>\n",
       "      <th>quantity</th>\n",
       "      <th>purchase_date</th>\n",
       "      <th>customer_id</th>\n",
       "      <th>shop_id</th>\n",
       "      <th>loyalty_program</th>\n",
       "      <th>date</th>\n",
       "      <th>price_per_one</th>\n",
       "      <th>revenue</th>\n",
       "      <th>day_of_week</th>\n",
       "    </tr>\n",
       "  </thead>\n",
       "  <tbody>\n",
       "    <tr>\n",
       "      <th>0</th>\n",
       "      <td>538280</td>\n",
       "      <td>21873</td>\n",
       "      <td>11</td>\n",
       "      <td>2016-12-10 12:50:00</td>\n",
       "      <td>18427.0</td>\n",
       "      <td>Shop 0</td>\n",
       "      <td>0</td>\n",
       "      <td>2016-12-10</td>\n",
       "      <td>1.630</td>\n",
       "      <td>17.930</td>\n",
       "      <td>Saturday</td>\n",
       "    </tr>\n",
       "    <tr>\n",
       "      <th>2</th>\n",
       "      <td>538855</td>\n",
       "      <td>21239</td>\n",
       "      <td>7</td>\n",
       "      <td>2016-12-14 13:50:00</td>\n",
       "      <td>22182.0</td>\n",
       "      <td>Shop 0</td>\n",
       "      <td>1</td>\n",
       "      <td>2016-12-14</td>\n",
       "      <td>1.630</td>\n",
       "      <td>11.410</td>\n",
       "      <td>Wednesday</td>\n",
       "    </tr>\n",
       "    <tr>\n",
       "      <th>7</th>\n",
       "      <td>541424</td>\n",
       "      <td>79321</td>\n",
       "      <td>1</td>\n",
       "      <td>2017-01-17 17:57:00</td>\n",
       "      <td>NaN</td>\n",
       "      <td>Shop 0</td>\n",
       "      <td>0</td>\n",
       "      <td>2017-01-17</td>\n",
       "      <td>5.750</td>\n",
       "      <td>5.750</td>\n",
       "      <td>Tuesday</td>\n",
       "    </tr>\n",
       "    <tr>\n",
       "      <th>10</th>\n",
       "      <td>537795</td>\n",
       "      <td>82494L</td>\n",
       "      <td>5</td>\n",
       "      <td>2016-12-08 13:03:00</td>\n",
       "      <td>22892.0</td>\n",
       "      <td>Shop 0</td>\n",
       "      <td>1</td>\n",
       "      <td>2016-12-08</td>\n",
       "      <td>5.205</td>\n",
       "      <td>26.025</td>\n",
       "      <td>Thursday</td>\n",
       "    </tr>\n",
       "    <tr>\n",
       "      <th>11</th>\n",
       "      <td>541696</td>\n",
       "      <td>22197</td>\n",
       "      <td>4</td>\n",
       "      <td>2017-01-20 18:08:00</td>\n",
       "      <td>NaN</td>\n",
       "      <td>Shop 0</td>\n",
       "      <td>0</td>\n",
       "      <td>2017-01-20</td>\n",
       "      <td>1.240</td>\n",
       "      <td>4.960</td>\n",
       "      <td>Friday</td>\n",
       "    </tr>\n",
       "    <tr>\n",
       "      <th>...</th>\n",
       "      <td>...</td>\n",
       "      <td>...</td>\n",
       "      <td>...</td>\n",
       "      <td>...</td>\n",
       "      <td>...</td>\n",
       "      <td>...</td>\n",
       "      <td>...</td>\n",
       "      <td>...</td>\n",
       "      <td>...</td>\n",
       "      <td>...</td>\n",
       "      <td>...</td>\n",
       "    </tr>\n",
       "    <tr>\n",
       "      <th>104296</th>\n",
       "      <td>540154</td>\n",
       "      <td>22134</td>\n",
       "      <td>3</td>\n",
       "      <td>2017-01-05 11:30:00</td>\n",
       "      <td>NaN</td>\n",
       "      <td>Shop 0</td>\n",
       "      <td>0</td>\n",
       "      <td>2017-01-05</td>\n",
       "      <td>0.630</td>\n",
       "      <td>1.890</td>\n",
       "      <td>Thursday</td>\n",
       "    </tr>\n",
       "    <tr>\n",
       "      <th>104297</th>\n",
       "      <td>538566</td>\n",
       "      <td>21826</td>\n",
       "      <td>1</td>\n",
       "      <td>2016-12-13 11:21:00</td>\n",
       "      <td>NaN</td>\n",
       "      <td>Shop 0</td>\n",
       "      <td>0</td>\n",
       "      <td>2016-12-13</td>\n",
       "      <td>2.460</td>\n",
       "      <td>2.460</td>\n",
       "      <td>Tuesday</td>\n",
       "    </tr>\n",
       "    <tr>\n",
       "      <th>104299</th>\n",
       "      <td>538068</td>\n",
       "      <td>85048</td>\n",
       "      <td>1</td>\n",
       "      <td>2016-12-09 14:05:00</td>\n",
       "      <td>23657.0</td>\n",
       "      <td>Shop 0</td>\n",
       "      <td>1</td>\n",
       "      <td>2016-12-09</td>\n",
       "      <td>8.330</td>\n",
       "      <td>8.330</td>\n",
       "      <td>Friday</td>\n",
       "    </tr>\n",
       "    <tr>\n",
       "      <th>104300</th>\n",
       "      <td>538207</td>\n",
       "      <td>22818</td>\n",
       "      <td>11</td>\n",
       "      <td>2016-12-10 11:33:00</td>\n",
       "      <td>18427.0</td>\n",
       "      <td>Shop 0</td>\n",
       "      <td>0</td>\n",
       "      <td>2016-12-10</td>\n",
       "      <td>0.830</td>\n",
       "      <td>9.130</td>\n",
       "      <td>Saturday</td>\n",
       "    </tr>\n",
       "    <tr>\n",
       "      <th>104301</th>\n",
       "      <td>543977</td>\n",
       "      <td>22384</td>\n",
       "      <td>9</td>\n",
       "      <td>2017-02-14 15:35:00</td>\n",
       "      <td>21294.0</td>\n",
       "      <td>Shop 0</td>\n",
       "      <td>0</td>\n",
       "      <td>2017-02-14</td>\n",
       "      <td>4.130</td>\n",
       "      <td>37.170</td>\n",
       "      <td>Tuesday</td>\n",
       "    </tr>\n",
       "  </tbody>\n",
       "</table>\n",
       "<p>69864 rows × 11 columns</p>\n",
       "</div>"
      ],
      "text/plain": [
       "       purchase_id item_id  quantity       purchase_date  customer_id shop_id  \\\n",
       "0           538280   21873        11 2016-12-10 12:50:00      18427.0  Shop 0   \n",
       "2           538855   21239         7 2016-12-14 13:50:00      22182.0  Shop 0   \n",
       "7           541424   79321         1 2017-01-17 17:57:00          NaN  Shop 0   \n",
       "10          537795  82494L         5 2016-12-08 13:03:00      22892.0  Shop 0   \n",
       "11          541696   22197         4 2017-01-20 18:08:00          NaN  Shop 0   \n",
       "...            ...     ...       ...                 ...          ...     ...   \n",
       "104296      540154   22134         3 2017-01-05 11:30:00          NaN  Shop 0   \n",
       "104297      538566   21826         1 2016-12-13 11:21:00          NaN  Shop 0   \n",
       "104299      538068   85048         1 2016-12-09 14:05:00      23657.0  Shop 0   \n",
       "104300      538207   22818        11 2016-12-10 11:33:00      18427.0  Shop 0   \n",
       "104301      543977   22384         9 2017-02-14 15:35:00      21294.0  Shop 0   \n",
       "\n",
       "        loyalty_program       date  price_per_one  revenue day_of_week  \n",
       "0                     0 2016-12-10          1.630   17.930    Saturday  \n",
       "2                     1 2016-12-14          1.630   11.410   Wednesday  \n",
       "7                     0 2017-01-17          5.750    5.750     Tuesday  \n",
       "10                    1 2016-12-08          5.205   26.025    Thursday  \n",
       "11                    0 2017-01-20          1.240    4.960      Friday  \n",
       "...                 ...        ...            ...      ...         ...  \n",
       "104296                0 2017-01-05          0.630    1.890    Thursday  \n",
       "104297                0 2016-12-13          2.460    2.460     Tuesday  \n",
       "104299                1 2016-12-09          8.330    8.330      Friday  \n",
       "104300                0 2016-12-10          0.830    9.130    Saturday  \n",
       "104301                0 2017-02-14          4.130   37.170     Tuesday  \n",
       "\n",
       "[69864 rows x 11 columns]"
      ]
     },
     "execution_count": 68,
     "metadata": {},
     "output_type": "execute_result"
    }
   ],
   "source": [
    "data['day_of_week'] = data['date'].dt.day_name()\n",
    "data"
   ]
  },
  {
   "cell_type": "code",
   "execution_count": 69,
   "metadata": {},
   "outputs": [
    {
     "data": {
      "text/plain": [
       "array(['Saturday', 'Wednesday', 'Tuesday', 'Thursday', 'Friday', 'Monday'],\n",
       "      dtype=object)"
      ]
     },
     "execution_count": 69,
     "metadata": {},
     "output_type": "execute_result"
    }
   ],
   "source": [
    "data['day_of_week'].unique()"
   ]
  },
  {
   "cell_type": "code",
   "execution_count": 70,
   "metadata": {},
   "outputs": [
    {
     "data": {
      "text/html": [
       "<div>\n",
       "<style scoped>\n",
       "    .dataframe tbody tr th:only-of-type {\n",
       "        vertical-align: middle;\n",
       "    }\n",
       "\n",
       "    .dataframe tbody tr th {\n",
       "        vertical-align: top;\n",
       "    }\n",
       "\n",
       "    .dataframe thead th {\n",
       "        text-align: right;\n",
       "    }\n",
       "</style>\n",
       "<table border=\"1\" class=\"dataframe\">\n",
       "  <thead>\n",
       "    <tr style=\"text-align: right;\">\n",
       "      <th></th>\n",
       "      <th>purchase_id</th>\n",
       "      <th>item_id</th>\n",
       "      <th>quantity</th>\n",
       "      <th>purchase_date</th>\n",
       "      <th>customer_id</th>\n",
       "      <th>shop_id</th>\n",
       "      <th>loyalty_program</th>\n",
       "      <th>date</th>\n",
       "      <th>price_per_one</th>\n",
       "      <th>revenue</th>\n",
       "      <th>day_of_week</th>\n",
       "      <th>sort_day</th>\n",
       "    </tr>\n",
       "  </thead>\n",
       "  <tbody>\n",
       "    <tr>\n",
       "      <th>0</th>\n",
       "      <td>538280</td>\n",
       "      <td>21873</td>\n",
       "      <td>11</td>\n",
       "      <td>2016-12-10 12:50:00</td>\n",
       "      <td>18427.0</td>\n",
       "      <td>Shop 0</td>\n",
       "      <td>0</td>\n",
       "      <td>2016-12-10</td>\n",
       "      <td>1.630</td>\n",
       "      <td>17.930</td>\n",
       "      <td>Saturday</td>\n",
       "      <td>выходной</td>\n",
       "    </tr>\n",
       "    <tr>\n",
       "      <th>2</th>\n",
       "      <td>538855</td>\n",
       "      <td>21239</td>\n",
       "      <td>7</td>\n",
       "      <td>2016-12-14 13:50:00</td>\n",
       "      <td>22182.0</td>\n",
       "      <td>Shop 0</td>\n",
       "      <td>1</td>\n",
       "      <td>2016-12-14</td>\n",
       "      <td>1.630</td>\n",
       "      <td>11.410</td>\n",
       "      <td>Wednesday</td>\n",
       "      <td>рабочий</td>\n",
       "    </tr>\n",
       "    <tr>\n",
       "      <th>7</th>\n",
       "      <td>541424</td>\n",
       "      <td>79321</td>\n",
       "      <td>1</td>\n",
       "      <td>2017-01-17 17:57:00</td>\n",
       "      <td>NaN</td>\n",
       "      <td>Shop 0</td>\n",
       "      <td>0</td>\n",
       "      <td>2017-01-17</td>\n",
       "      <td>5.750</td>\n",
       "      <td>5.750</td>\n",
       "      <td>Tuesday</td>\n",
       "      <td>рабочий</td>\n",
       "    </tr>\n",
       "    <tr>\n",
       "      <th>10</th>\n",
       "      <td>537795</td>\n",
       "      <td>82494L</td>\n",
       "      <td>5</td>\n",
       "      <td>2016-12-08 13:03:00</td>\n",
       "      <td>22892.0</td>\n",
       "      <td>Shop 0</td>\n",
       "      <td>1</td>\n",
       "      <td>2016-12-08</td>\n",
       "      <td>5.205</td>\n",
       "      <td>26.025</td>\n",
       "      <td>Thursday</td>\n",
       "      <td>рабочий</td>\n",
       "    </tr>\n",
       "    <tr>\n",
       "      <th>11</th>\n",
       "      <td>541696</td>\n",
       "      <td>22197</td>\n",
       "      <td>4</td>\n",
       "      <td>2017-01-20 18:08:00</td>\n",
       "      <td>NaN</td>\n",
       "      <td>Shop 0</td>\n",
       "      <td>0</td>\n",
       "      <td>2017-01-20</td>\n",
       "      <td>1.240</td>\n",
       "      <td>4.960</td>\n",
       "      <td>Friday</td>\n",
       "      <td>рабочий</td>\n",
       "    </tr>\n",
       "    <tr>\n",
       "      <th>...</th>\n",
       "      <td>...</td>\n",
       "      <td>...</td>\n",
       "      <td>...</td>\n",
       "      <td>...</td>\n",
       "      <td>...</td>\n",
       "      <td>...</td>\n",
       "      <td>...</td>\n",
       "      <td>...</td>\n",
       "      <td>...</td>\n",
       "      <td>...</td>\n",
       "      <td>...</td>\n",
       "      <td>...</td>\n",
       "    </tr>\n",
       "    <tr>\n",
       "      <th>104296</th>\n",
       "      <td>540154</td>\n",
       "      <td>22134</td>\n",
       "      <td>3</td>\n",
       "      <td>2017-01-05 11:30:00</td>\n",
       "      <td>NaN</td>\n",
       "      <td>Shop 0</td>\n",
       "      <td>0</td>\n",
       "      <td>2017-01-05</td>\n",
       "      <td>0.630</td>\n",
       "      <td>1.890</td>\n",
       "      <td>Thursday</td>\n",
       "      <td>рабочий</td>\n",
       "    </tr>\n",
       "    <tr>\n",
       "      <th>104297</th>\n",
       "      <td>538566</td>\n",
       "      <td>21826</td>\n",
       "      <td>1</td>\n",
       "      <td>2016-12-13 11:21:00</td>\n",
       "      <td>NaN</td>\n",
       "      <td>Shop 0</td>\n",
       "      <td>0</td>\n",
       "      <td>2016-12-13</td>\n",
       "      <td>2.460</td>\n",
       "      <td>2.460</td>\n",
       "      <td>Tuesday</td>\n",
       "      <td>рабочий</td>\n",
       "    </tr>\n",
       "    <tr>\n",
       "      <th>104299</th>\n",
       "      <td>538068</td>\n",
       "      <td>85048</td>\n",
       "      <td>1</td>\n",
       "      <td>2016-12-09 14:05:00</td>\n",
       "      <td>23657.0</td>\n",
       "      <td>Shop 0</td>\n",
       "      <td>1</td>\n",
       "      <td>2016-12-09</td>\n",
       "      <td>8.330</td>\n",
       "      <td>8.330</td>\n",
       "      <td>Friday</td>\n",
       "      <td>рабочий</td>\n",
       "    </tr>\n",
       "    <tr>\n",
       "      <th>104300</th>\n",
       "      <td>538207</td>\n",
       "      <td>22818</td>\n",
       "      <td>11</td>\n",
       "      <td>2016-12-10 11:33:00</td>\n",
       "      <td>18427.0</td>\n",
       "      <td>Shop 0</td>\n",
       "      <td>0</td>\n",
       "      <td>2016-12-10</td>\n",
       "      <td>0.830</td>\n",
       "      <td>9.130</td>\n",
       "      <td>Saturday</td>\n",
       "      <td>выходной</td>\n",
       "    </tr>\n",
       "    <tr>\n",
       "      <th>104301</th>\n",
       "      <td>543977</td>\n",
       "      <td>22384</td>\n",
       "      <td>9</td>\n",
       "      <td>2017-02-14 15:35:00</td>\n",
       "      <td>21294.0</td>\n",
       "      <td>Shop 0</td>\n",
       "      <td>0</td>\n",
       "      <td>2017-02-14</td>\n",
       "      <td>4.130</td>\n",
       "      <td>37.170</td>\n",
       "      <td>Tuesday</td>\n",
       "      <td>рабочий</td>\n",
       "    </tr>\n",
       "  </tbody>\n",
       "</table>\n",
       "<p>69864 rows × 12 columns</p>\n",
       "</div>"
      ],
      "text/plain": [
       "       purchase_id item_id  quantity       purchase_date  customer_id shop_id  \\\n",
       "0           538280   21873        11 2016-12-10 12:50:00      18427.0  Shop 0   \n",
       "2           538855   21239         7 2016-12-14 13:50:00      22182.0  Shop 0   \n",
       "7           541424   79321         1 2017-01-17 17:57:00          NaN  Shop 0   \n",
       "10          537795  82494L         5 2016-12-08 13:03:00      22892.0  Shop 0   \n",
       "11          541696   22197         4 2017-01-20 18:08:00          NaN  Shop 0   \n",
       "...            ...     ...       ...                 ...          ...     ...   \n",
       "104296      540154   22134         3 2017-01-05 11:30:00          NaN  Shop 0   \n",
       "104297      538566   21826         1 2016-12-13 11:21:00          NaN  Shop 0   \n",
       "104299      538068   85048         1 2016-12-09 14:05:00      23657.0  Shop 0   \n",
       "104300      538207   22818        11 2016-12-10 11:33:00      18427.0  Shop 0   \n",
       "104301      543977   22384         9 2017-02-14 15:35:00      21294.0  Shop 0   \n",
       "\n",
       "        loyalty_program       date  price_per_one  revenue day_of_week  \\\n",
       "0                     0 2016-12-10          1.630   17.930    Saturday   \n",
       "2                     1 2016-12-14          1.630   11.410   Wednesday   \n",
       "7                     0 2017-01-17          5.750    5.750     Tuesday   \n",
       "10                    1 2016-12-08          5.205   26.025    Thursday   \n",
       "11                    0 2017-01-20          1.240    4.960      Friday   \n",
       "...                 ...        ...            ...      ...         ...   \n",
       "104296                0 2017-01-05          0.630    1.890    Thursday   \n",
       "104297                0 2016-12-13          2.460    2.460     Tuesday   \n",
       "104299                1 2016-12-09          8.330    8.330      Friday   \n",
       "104300                0 2016-12-10          0.830    9.130    Saturday   \n",
       "104301                0 2017-02-14          4.130   37.170     Tuesday   \n",
       "\n",
       "        sort_day  \n",
       "0       выходной  \n",
       "2        рабочий  \n",
       "7        рабочий  \n",
       "10       рабочий  \n",
       "11       рабочий  \n",
       "...          ...  \n",
       "104296   рабочий  \n",
       "104297   рабочий  \n",
       "104299   рабочий  \n",
       "104300  выходной  \n",
       "104301   рабочий  \n",
       "\n",
       "[69864 rows x 12 columns]"
      ]
     },
     "metadata": {},
     "output_type": "display_data"
    }
   ],
   "source": [
    "def day_of_week(day_of_week):  # создаем функция для определения рабочий это день или нет. \n",
    "    if day_of_week == 'Saturday':\n",
    "        return 'выходной'\n",
    "            \n",
    "    return 'рабочий'\n",
    " \n",
    "data['sort_day'] = data['day_of_week'].apply(day_of_week)\n",
    "display(data)\n"
   ]
  },
  {
   "cell_type": "code",
   "execution_count": 71,
   "metadata": {},
   "outputs": [],
   "source": [
    "holiday = data[data['sort_day']=='выходной']\n",
    "workday = data[data['sort_day']=='рабочий']"
   ]
  },
  {
   "cell_type": "markdown",
   "metadata": {},
   "source": [
    "Посчитаем диссперию "
   ]
  },
  {
   "cell_type": "markdown",
   "metadata": {},
   "source": [
    "Считаем нулевую гипотизу, что выручка в будние дни и выходные неотличается.\n",
    "\n",
    "Алтернативная теория, что выручка будет отличаться"
   ]
  },
  {
   "cell_type": "code",
   "execution_count": 72,
   "metadata": {},
   "outputs": [
    {
     "name": "stdout",
     "output_type": "stream",
     "text": [
      "Не получилость отвергнуть нулевую гипотезу\n"
     ]
    }
   ],
   "source": [
    "results=st.ttest_ind(holiday['revenue'], workday['revenue'],equal_var=False ) \n",
    "alpha = .05 # критический уровень статистической значимости\n",
    "results.pvalue\n",
    "\n",
    "if (results.pvalue<alpha):\n",
    "    print('Отвергаем нулевую гипотезу')\n",
    "else:\n",
    "    print('Не получилость отвергнуть нулевую гипотезу')"
   ]
  },
  {
   "cell_type": "markdown",
   "metadata": {},
   "source": [
    "Вывод: Нулевая теория не отвернута. Есть смысл попробывать некотрые магазины перевести на большее кол-во рабочих дней. Например открывть в воскрсенье. Возможно есть смысл так же открываь магазины и в праздничные дни.  Отделу управлению кадрами есть смысл проработать возможность вывода людей на работу."
   ]
  },
  {
   "cell_type": "code",
   "execution_count": null,
   "metadata": {},
   "outputs": [],
   "source": []
  },
  {
   "cell_type": "markdown",
   "metadata": {},
   "source": [
    "## Общий вывод"
   ]
  },
  {
   "cell_type": "markdown",
   "metadata": {},
   "source": [
    "Мы провели анализ эффективности сети строительных х материалов «Строили, строили и наконец построили» за период с 1 декабря 2016г. по 28 февраля 2017 г.\n",
    "\n",
    "В ходе исследования мы выяснили, что наибольшее кол-во выручки нам приносит магазин Shop 0. Это либо Флагманский магазин, либо склад , который имеет возможность  самому продавать товары(как через кассу так и через онлайн сервисы.). Остальные магазины это более мелкие ритейл точки.\n",
    "\n",
    "Кроме того мы обратили внимание, что ряд магазинов не подходят для дальнейшего исследования. Так  это магазин Shop 23 (одни отрицательные значения, т.е возвраты). А так же это магазины Shop 28, Shop 29, Shop 30 которые открылись только в феврале 2017 г. \n",
    "\n",
    "И так магазин Shop 0  приносит выручку 1 963 997. \n",
    "Далее Shop3(102070), Shop 6(62409), Shop 4(53748), Shop 1(48615), Shop 2.(39523)\n",
    "\n",
    "Ввиду такой колоссальной разницы было принято решение рассматривать Shop 0 и все остальные отдельно друг от друга.\n",
    "\n",
    "В ходе рассмотрения эффективности магазинов мы выявили, что Shop 0 имеет (за рассматриваемый период )  4311 уникальных чека (уникальной покупки), далее идут  Shop 4(113), Shop 1(89) Shop 6(46) Shop 12(21). Как видим разница существенная.\n",
    "\n",
    "При этом после подсчета среднего чека (до этого мы решили, что мы считаем только покупки у которых кол-во товара больше 1, т.е. возвраты мы не рассматриваем ) мы видим, что  Shop 0 весьма скромный средний чек, всего 580.55 .\n",
    "Далее Shop 3 (7851.54), Shop 14  (5586.51), Shop 24  (3984.63), Shop 25  (3234.27), Shop 26(2775.59). \n",
    "\n",
    "Т.е по эффективности мы можем рекомендовать Shop 0 стараться увеличивать сумму чека, т.к кол-во чеков там большое и выручка существенная.  Возможно это будут какие -нибудь сопутствующие товары, возможно строительные наборы или программа лояльности. (Эффективность которой мы рассмотрели). Если это физический магазин хорошо прописать скрипты продавцам по сопутствующим товарам. Так же хочется отметить магазин Shop3, хороший средний чек, приличная выручка. Необходимо только увеличить кол-во продаж. "
   ]
  },
  {
   "cell_type": "markdown",
   "metadata": {},
   "source": [
    "Оцениваю эффективность программы лояльности, мы обнаружили, что она действует всего в 4 х магазинах. Это магазин Shop 0, а так же Shop 19,  Shop 28 ,  Shop 8. При этом как мы решили до этого, Shop 28 мы рассматривать не будет(т.к он стал работать недавно).\n",
    "\n",
    "Кол-во  чеков по программы лояльности Shop 0 равно 1114, для Shop 19  равно 4 , для Shop 8 равно 2.\n",
    "Выручка по программе лояльности Shop 0 равна 579518.01,  для Shop 19  равно 9001.465 , для Shop 8 равно 255.055\n",
    "\n",
    "При этом средний чек  Shop 0 равна 520.21,  для Shop 19  равно 3341.90, для Shop 8 равно 127.53\n",
    "Для магазина Shop 19 это хороший показатель по среднему чеку, несмотря на небольшое кол-во продаж. Нашим маркетологам есть смыл рассмотреть товары которые так хорошо покупаются вместе по программе лояльности и применить их в других магазинах.\n",
    "\n",
    "Для того, чтобы оценить эффективность нашей компании по лояльности клиентов мы выдвинули гипотезу что средний чек от покупатель с программой лояльности и без программы лояльности равны и подтвердили ее.\n",
    "\n",
    "Так же мы выдвинули гипотезу, что выручка в рабочие дни и выходные равны и так же подтвердили ее. Думаю есть смысл руководству опробовать эту гипотезу и открыть ряд магазинов в воскресение или в праздничные дни"
   ]
  },
  {
   "cell_type": "markdown",
   "metadata": {},
   "source": []
  },
  {
   "cell_type": "markdown",
   "metadata": {},
   "source": []
  },
  {
   "cell_type": "code",
   "execution_count": null,
   "metadata": {},
   "outputs": [],
   "source": []
  }
 ],
 "metadata": {
  "ExecuteTimeLog": [
   {
    "duration": 45,
    "start_time": "2022-05-17T08:23:18.913Z"
   },
   {
    "duration": 1338,
    "start_time": "2022-05-17T08:23:27.135Z"
   },
   {
    "duration": 221,
    "start_time": "2022-05-17T08:23:28.475Z"
   },
   {
    "duration": 0,
    "start_time": "2022-05-17T08:23:28.697Z"
   },
   {
    "duration": 95,
    "start_time": "2022-05-17T08:23:41.511Z"
   },
   {
    "duration": 33,
    "start_time": "2022-05-17T08:23:50.827Z"
   },
   {
    "duration": 17,
    "start_time": "2022-05-17T08:30:01.109Z"
   },
   {
    "duration": 9,
    "start_time": "2022-05-17T08:32:32.407Z"
   },
   {
    "duration": 25,
    "start_time": "2022-05-17T08:32:37.686Z"
   },
   {
    "duration": 9,
    "start_time": "2022-05-17T08:33:32.720Z"
   },
   {
    "duration": 3,
    "start_time": "2022-05-17T08:33:38.622Z"
   },
   {
    "duration": 10,
    "start_time": "2022-05-17T08:33:48.824Z"
   },
   {
    "duration": 10,
    "start_time": "2022-05-17T08:36:06.342Z"
   },
   {
    "duration": 10,
    "start_time": "2022-05-17T08:36:22.302Z"
   },
   {
    "duration": 3,
    "start_time": "2022-05-17T08:37:53.195Z"
   },
   {
    "duration": 1830,
    "start_time": "2022-05-17T08:57:51.937Z"
   },
   {
    "duration": 7,
    "start_time": "2022-05-17T09:01:38.915Z"
   },
   {
    "duration": 24,
    "start_time": "2022-05-17T09:11:15.727Z"
   },
   {
    "duration": 11,
    "start_time": "2022-05-17T09:20:20.626Z"
   },
   {
    "duration": 946,
    "start_time": "2022-05-17T09:45:49.137Z"
   },
   {
    "duration": 37,
    "start_time": "2022-05-17T09:46:05.130Z"
   },
   {
    "duration": 38,
    "start_time": "2022-05-17T09:47:12.509Z"
   },
   {
    "duration": 18,
    "start_time": "2022-05-17T09:52:15.448Z"
   },
   {
    "duration": 445,
    "start_time": "2022-05-17T09:52:24.048Z"
   },
   {
    "duration": 47,
    "start_time": "2022-05-17T09:52:35.163Z"
   },
   {
    "duration": 4,
    "start_time": "2022-05-17T09:52:42.917Z"
   },
   {
    "duration": 101,
    "start_time": "2022-05-17T09:52:42.928Z"
   },
   {
    "duration": 16,
    "start_time": "2022-05-17T09:52:43.031Z"
   },
   {
    "duration": 26,
    "start_time": "2022-05-17T09:52:43.049Z"
   },
   {
    "duration": 9,
    "start_time": "2022-05-17T09:52:43.077Z"
   },
   {
    "duration": 28,
    "start_time": "2022-05-17T09:52:43.087Z"
   },
   {
    "duration": 10,
    "start_time": "2022-05-17T09:52:43.116Z"
   },
   {
    "duration": 84,
    "start_time": "2022-05-17T09:52:43.127Z"
   },
   {
    "duration": 389,
    "start_time": "2022-05-17T09:52:51.641Z"
   },
   {
    "duration": 418,
    "start_time": "2022-05-17T09:53:19.393Z"
   },
   {
    "duration": 396,
    "start_time": "2022-05-17T09:53:32.641Z"
   },
   {
    "duration": 381,
    "start_time": "2022-05-17T09:53:37.607Z"
   },
   {
    "duration": 21,
    "start_time": "2022-05-17T10:04:29.939Z"
   },
   {
    "duration": 16,
    "start_time": "2022-05-17T10:04:40.107Z"
   },
   {
    "duration": 8,
    "start_time": "2022-05-17T10:09:05.034Z"
   },
   {
    "duration": 15,
    "start_time": "2022-05-17T10:09:13.775Z"
   },
   {
    "duration": 2404,
    "start_time": "2022-05-17T10:09:29.692Z"
   },
   {
    "duration": 13,
    "start_time": "2022-05-17T10:09:38.075Z"
   },
   {
    "duration": 2118,
    "start_time": "2022-05-17T10:09:41.606Z"
   },
   {
    "duration": 0,
    "start_time": "2022-05-17T10:10:00.249Z"
   },
   {
    "duration": 0,
    "start_time": "2022-05-17T10:10:00.251Z"
   },
   {
    "duration": 0,
    "start_time": "2022-05-17T10:10:00.251Z"
   },
   {
    "duration": 0,
    "start_time": "2022-05-17T10:10:00.252Z"
   },
   {
    "duration": 0,
    "start_time": "2022-05-17T10:10:00.253Z"
   },
   {
    "duration": 0,
    "start_time": "2022-05-17T10:10:00.254Z"
   },
   {
    "duration": 0,
    "start_time": "2022-05-17T10:10:00.255Z"
   },
   {
    "duration": 0,
    "start_time": "2022-05-17T10:10:00.256Z"
   },
   {
    "duration": 0,
    "start_time": "2022-05-17T10:10:00.256Z"
   },
   {
    "duration": 0,
    "start_time": "2022-05-17T10:10:00.257Z"
   },
   {
    "duration": 1169,
    "start_time": "2022-05-17T10:10:41.767Z"
   },
   {
    "duration": 108,
    "start_time": "2022-05-17T10:10:42.938Z"
   },
   {
    "duration": 16,
    "start_time": "2022-05-17T10:10:43.047Z"
   },
   {
    "duration": 10,
    "start_time": "2022-05-17T10:10:43.071Z"
   },
   {
    "duration": 8,
    "start_time": "2022-05-17T10:10:43.083Z"
   },
   {
    "duration": 38,
    "start_time": "2022-05-17T10:10:43.093Z"
   },
   {
    "duration": 39,
    "start_time": "2022-05-17T10:10:43.133Z"
   },
   {
    "duration": 379,
    "start_time": "2022-05-17T10:10:43.174Z"
   },
   {
    "duration": 23,
    "start_time": "2022-05-17T10:10:43.554Z"
   },
   {
    "duration": 7,
    "start_time": "2022-05-17T10:10:43.579Z"
   },
   {
    "duration": 45,
    "start_time": "2022-05-17T10:20:54.989Z"
   },
   {
    "duration": 3,
    "start_time": "2022-05-17T10:21:07.143Z"
   },
   {
    "duration": 95,
    "start_time": "2022-05-17T10:21:07.151Z"
   },
   {
    "duration": 28,
    "start_time": "2022-05-17T10:21:07.247Z"
   },
   {
    "duration": 9,
    "start_time": "2022-05-17T10:21:07.277Z"
   },
   {
    "duration": 9,
    "start_time": "2022-05-17T10:21:07.289Z"
   },
   {
    "duration": 31,
    "start_time": "2022-05-17T10:21:07.299Z"
   },
   {
    "duration": 9,
    "start_time": "2022-05-17T10:21:07.331Z"
   },
   {
    "duration": 407,
    "start_time": "2022-05-17T10:21:07.341Z"
   },
   {
    "duration": 57,
    "start_time": "2022-05-17T10:21:07.749Z"
   },
   {
    "duration": 5,
    "start_time": "2022-05-17T10:26:30.065Z"
   },
   {
    "duration": 24,
    "start_time": "2022-05-17T10:31:53.155Z"
   },
   {
    "duration": 21,
    "start_time": "2022-05-17T10:33:03.949Z"
   },
   {
    "duration": 119,
    "start_time": "2022-05-17T10:55:19.841Z"
   },
   {
    "duration": 96,
    "start_time": "2022-05-17T11:05:57.560Z"
   },
   {
    "duration": 3,
    "start_time": "2022-05-17T11:06:11.314Z"
   },
   {
    "duration": 108,
    "start_time": "2022-05-17T11:06:11.322Z"
   },
   {
    "duration": 17,
    "start_time": "2022-05-17T11:06:11.432Z"
   },
   {
    "duration": 27,
    "start_time": "2022-05-17T11:06:11.452Z"
   },
   {
    "duration": 10,
    "start_time": "2022-05-17T11:06:11.482Z"
   },
   {
    "duration": 26,
    "start_time": "2022-05-17T11:06:11.494Z"
   },
   {
    "duration": 11,
    "start_time": "2022-05-17T11:06:11.522Z"
   },
   {
    "duration": 396,
    "start_time": "2022-05-17T11:06:11.534Z"
   },
   {
    "duration": 178,
    "start_time": "2022-05-17T11:06:11.932Z"
   },
   {
    "duration": 0,
    "start_time": "2022-05-17T11:06:12.112Z"
   },
   {
    "duration": 0,
    "start_time": "2022-05-17T11:06:12.114Z"
   },
   {
    "duration": 9,
    "start_time": "2022-05-17T11:06:38.291Z"
   },
   {
    "duration": 9,
    "start_time": "2022-05-17T11:06:46.681Z"
   },
   {
    "duration": 39,
    "start_time": "2022-05-17T11:07:09.049Z"
   },
   {
    "duration": 50,
    "start_time": "2022-05-17T11:12:52.383Z"
   },
   {
    "duration": 68,
    "start_time": "2022-05-17T11:13:03.583Z"
   },
   {
    "duration": 3,
    "start_time": "2022-05-17T11:13:36.558Z"
   },
   {
    "duration": 101,
    "start_time": "2022-05-17T11:13:36.566Z"
   },
   {
    "duration": 16,
    "start_time": "2022-05-17T11:13:36.668Z"
   },
   {
    "duration": 9,
    "start_time": "2022-05-17T11:13:36.685Z"
   },
   {
    "duration": 13,
    "start_time": "2022-05-17T11:13:36.696Z"
   },
   {
    "duration": 27,
    "start_time": "2022-05-17T11:13:36.710Z"
   },
   {
    "duration": 9,
    "start_time": "2022-05-17T11:13:36.738Z"
   },
   {
    "duration": 390,
    "start_time": "2022-05-17T11:13:36.749Z"
   },
   {
    "duration": 46,
    "start_time": "2022-05-17T11:13:37.141Z"
   },
   {
    "duration": 20,
    "start_time": "2022-05-17T11:13:37.188Z"
   },
   {
    "duration": 95,
    "start_time": "2022-05-17T11:13:37.211Z"
   },
   {
    "duration": 1272,
    "start_time": "2022-05-17T11:14:09.073Z"
   },
   {
    "duration": 109,
    "start_time": "2022-05-17T11:14:10.347Z"
   },
   {
    "duration": 20,
    "start_time": "2022-05-17T11:14:10.458Z"
   },
   {
    "duration": 10,
    "start_time": "2022-05-17T11:14:10.479Z"
   },
   {
    "duration": 9,
    "start_time": "2022-05-17T11:14:10.490Z"
   },
   {
    "duration": 26,
    "start_time": "2022-05-17T11:14:10.500Z"
   },
   {
    "duration": 8,
    "start_time": "2022-05-17T11:14:10.528Z"
   },
   {
    "duration": 422,
    "start_time": "2022-05-17T11:14:10.537Z"
   },
   {
    "duration": 52,
    "start_time": "2022-05-17T11:14:10.961Z"
   },
   {
    "duration": 21,
    "start_time": "2022-05-17T11:14:11.015Z"
   },
   {
    "duration": 106,
    "start_time": "2022-05-17T11:14:11.038Z"
   },
   {
    "duration": 409,
    "start_time": "2022-05-17T11:15:01.355Z"
   },
   {
    "duration": 420,
    "start_time": "2022-05-17T11:16:30.452Z"
   },
   {
    "duration": 48,
    "start_time": "2022-05-17T11:17:00.524Z"
   },
   {
    "duration": 108,
    "start_time": "2022-05-17T11:26:05.607Z"
   },
   {
    "duration": 120,
    "start_time": "2022-05-17T11:26:32.015Z"
   },
   {
    "duration": 132,
    "start_time": "2022-05-17T11:27:32.489Z"
   },
   {
    "duration": 36,
    "start_time": "2022-05-17T11:27:47.616Z"
   },
   {
    "duration": 48,
    "start_time": "2022-05-17T11:28:20.455Z"
   },
   {
    "duration": 3,
    "start_time": "2022-05-17T11:28:22.002Z"
   },
   {
    "duration": 112,
    "start_time": "2022-05-17T11:28:22.010Z"
   },
   {
    "duration": 16,
    "start_time": "2022-05-17T11:28:22.124Z"
   },
   {
    "duration": 11,
    "start_time": "2022-05-17T11:28:22.141Z"
   },
   {
    "duration": 19,
    "start_time": "2022-05-17T11:28:22.153Z"
   },
   {
    "duration": 37,
    "start_time": "2022-05-17T11:28:22.174Z"
   },
   {
    "duration": 9,
    "start_time": "2022-05-17T11:28:22.213Z"
   },
   {
    "duration": 79,
    "start_time": "2022-05-17T11:28:22.223Z"
   },
   {
    "duration": 33,
    "start_time": "2022-05-17T11:28:22.303Z"
   },
   {
    "duration": 39,
    "start_time": "2022-05-17T11:28:22.338Z"
   },
   {
    "duration": 58,
    "start_time": "2022-05-17T11:28:22.380Z"
   },
   {
    "duration": 34,
    "start_time": "2022-05-17T11:28:43.699Z"
   },
   {
    "duration": 3,
    "start_time": "2022-05-17T11:29:32.814Z"
   },
   {
    "duration": 111,
    "start_time": "2022-05-17T11:29:32.819Z"
   },
   {
    "duration": 15,
    "start_time": "2022-05-17T11:29:32.932Z"
   },
   {
    "duration": 10,
    "start_time": "2022-05-17T11:29:32.949Z"
   },
   {
    "duration": 15,
    "start_time": "2022-05-17T11:29:32.961Z"
   },
   {
    "duration": 32,
    "start_time": "2022-05-17T11:29:32.978Z"
   },
   {
    "duration": 11,
    "start_time": "2022-05-17T11:29:33.012Z"
   },
   {
    "duration": 77,
    "start_time": "2022-05-17T11:29:33.024Z"
   },
   {
    "duration": 33,
    "start_time": "2022-05-17T11:29:33.103Z"
   },
   {
    "duration": 40,
    "start_time": "2022-05-17T11:29:33.138Z"
   },
   {
    "duration": 58,
    "start_time": "2022-05-17T11:29:33.181Z"
   },
   {
    "duration": 18,
    "start_time": "2022-05-17T11:29:49.333Z"
   },
   {
    "duration": 18,
    "start_time": "2022-05-17T11:30:39.438Z"
   },
   {
    "duration": 1890,
    "start_time": "2022-05-17T11:31:04.957Z"
   },
   {
    "duration": 483,
    "start_time": "2022-05-17T11:31:18.189Z"
   },
   {
    "duration": 434,
    "start_time": "2022-05-17T11:31:27.847Z"
   },
   {
    "duration": 459,
    "start_time": "2022-05-17T11:31:48.037Z"
   },
   {
    "duration": 4,
    "start_time": "2022-05-17T11:31:57.903Z"
   },
   {
    "duration": 115,
    "start_time": "2022-05-17T11:31:57.909Z"
   },
   {
    "duration": 16,
    "start_time": "2022-05-17T11:31:58.026Z"
   },
   {
    "duration": 9,
    "start_time": "2022-05-17T11:31:58.044Z"
   },
   {
    "duration": 19,
    "start_time": "2022-05-17T11:31:58.056Z"
   },
   {
    "duration": 31,
    "start_time": "2022-05-17T11:31:58.077Z"
   },
   {
    "duration": 9,
    "start_time": "2022-05-17T11:31:58.110Z"
   },
   {
    "duration": 516,
    "start_time": "2022-05-17T11:31:58.120Z"
   },
   {
    "duration": 59,
    "start_time": "2022-05-17T11:31:58.638Z"
   },
   {
    "duration": 18,
    "start_time": "2022-05-17T11:31:58.699Z"
   },
   {
    "duration": 98,
    "start_time": "2022-05-17T11:31:58.719Z"
   },
   {
    "duration": 19,
    "start_time": "2022-05-17T11:32:15.636Z"
   },
   {
    "duration": 18,
    "start_time": "2022-05-17T11:32:35.926Z"
   },
   {
    "duration": 3,
    "start_time": "2022-05-17T11:32:45.429Z"
   },
   {
    "duration": 103,
    "start_time": "2022-05-17T11:32:45.436Z"
   },
   {
    "duration": 16,
    "start_time": "2022-05-17T11:32:45.541Z"
   },
   {
    "duration": 24,
    "start_time": "2022-05-17T11:32:45.559Z"
   },
   {
    "duration": 15,
    "start_time": "2022-05-17T11:32:45.585Z"
   },
   {
    "duration": 26,
    "start_time": "2022-05-17T11:32:45.602Z"
   },
   {
    "duration": 10,
    "start_time": "2022-05-17T11:32:45.630Z"
   },
   {
    "duration": 35,
    "start_time": "2022-05-17T11:32:45.672Z"
   },
   {
    "duration": 0,
    "start_time": "2022-05-17T11:32:45.709Z"
   },
   {
    "duration": 0,
    "start_time": "2022-05-17T11:32:45.710Z"
   },
   {
    "duration": 0,
    "start_time": "2022-05-17T11:32:45.711Z"
   },
   {
    "duration": 454,
    "start_time": "2022-05-17T11:33:06.707Z"
   },
   {
    "duration": 3,
    "start_time": "2022-05-17T11:34:07.450Z"
   },
   {
    "duration": 99,
    "start_time": "2022-05-17T11:34:07.458Z"
   },
   {
    "duration": 19,
    "start_time": "2022-05-17T11:34:07.570Z"
   },
   {
    "duration": 9,
    "start_time": "2022-05-17T11:34:07.591Z"
   },
   {
    "duration": 7,
    "start_time": "2022-05-17T11:34:07.603Z"
   },
   {
    "duration": 27,
    "start_time": "2022-05-17T11:34:07.612Z"
   },
   {
    "duration": 37,
    "start_time": "2022-05-17T11:34:07.641Z"
   },
   {
    "duration": 465,
    "start_time": "2022-05-17T11:34:07.680Z"
   },
   {
    "duration": 51,
    "start_time": "2022-05-17T11:34:08.147Z"
   },
   {
    "duration": 17,
    "start_time": "2022-05-17T11:34:08.200Z"
   },
   {
    "duration": 89,
    "start_time": "2022-05-17T11:34:08.220Z"
   },
   {
    "duration": 42,
    "start_time": "2022-05-17T11:34:31.714Z"
   },
   {
    "duration": 3,
    "start_time": "2022-05-17T11:34:45.097Z"
   },
   {
    "duration": 2266,
    "start_time": "2022-05-17T11:39:09.083Z"
   },
   {
    "duration": 2051,
    "start_time": "2022-05-17T11:39:26.035Z"
   },
   {
    "duration": 9,
    "start_time": "2022-05-17T11:44:40.313Z"
   },
   {
    "duration": 9,
    "start_time": "2022-05-17T11:44:51.718Z"
   },
   {
    "duration": 1839,
    "start_time": "2022-05-17T11:44:56.618Z"
   },
   {
    "duration": 456,
    "start_time": "2022-05-17T11:45:53.875Z"
   },
   {
    "duration": 3,
    "start_time": "2022-05-17T11:45:55.911Z"
   },
   {
    "duration": 99,
    "start_time": "2022-05-17T11:45:55.917Z"
   },
   {
    "duration": 18,
    "start_time": "2022-05-17T11:45:56.018Z"
   },
   {
    "duration": 15,
    "start_time": "2022-05-17T11:45:56.038Z"
   },
   {
    "duration": 11,
    "start_time": "2022-05-17T11:45:56.070Z"
   },
   {
    "duration": 51,
    "start_time": "2022-05-17T11:45:56.083Z"
   },
   {
    "duration": 14,
    "start_time": "2022-05-17T11:45:56.136Z"
   },
   {
    "duration": 727,
    "start_time": "2022-05-17T11:45:56.172Z"
   },
   {
    "duration": 11,
    "start_time": "2022-05-17T11:45:56.900Z"
   },
   {
    "duration": 65,
    "start_time": "2022-05-17T11:45:56.913Z"
   },
   {
    "duration": 19,
    "start_time": "2022-05-17T11:45:56.980Z"
   },
   {
    "duration": 90,
    "start_time": "2022-05-17T11:45:57.001Z"
   },
   {
    "duration": 2,
    "start_time": "2022-05-17T11:45:57.093Z"
   },
   {
    "duration": 16,
    "start_time": "2022-05-17T11:45:57.096Z"
   },
   {
    "duration": 6,
    "start_time": "2022-05-17T12:14:30.301Z"
   },
   {
    "duration": 7,
    "start_time": "2022-05-17T12:14:32.650Z"
   },
   {
    "duration": 2,
    "start_time": "2022-05-17T12:15:20.483Z"
   },
   {
    "duration": 10,
    "start_time": "2022-05-17T12:17:19.403Z"
   },
   {
    "duration": 10,
    "start_time": "2022-05-17T12:17:29.094Z"
   },
   {
    "duration": 14,
    "start_time": "2022-05-17T12:18:01.666Z"
   },
   {
    "duration": 9,
    "start_time": "2022-05-17T12:18:10.466Z"
   },
   {
    "duration": 10,
    "start_time": "2022-05-17T12:18:38.362Z"
   },
   {
    "duration": 939,
    "start_time": "2022-05-17T12:19:06.979Z"
   },
   {
    "duration": 10,
    "start_time": "2022-05-17T12:19:18.411Z"
   },
   {
    "duration": 16,
    "start_time": "2022-05-17T12:19:48.016Z"
   },
   {
    "duration": 7,
    "start_time": "2022-05-17T12:20:02.858Z"
   },
   {
    "duration": 3,
    "start_time": "2022-05-18T08:44:56.667Z"
   },
   {
    "duration": 120,
    "start_time": "2022-05-18T08:44:56.674Z"
   },
   {
    "duration": 19,
    "start_time": "2022-05-18T08:44:56.796Z"
   },
   {
    "duration": 10,
    "start_time": "2022-05-18T08:44:56.816Z"
   },
   {
    "duration": 18,
    "start_time": "2022-05-18T08:44:56.828Z"
   },
   {
    "duration": 38,
    "start_time": "2022-05-18T08:44:56.848Z"
   },
   {
    "duration": 10,
    "start_time": "2022-05-18T08:44:56.888Z"
   },
   {
    "duration": 527,
    "start_time": "2022-05-18T08:44:56.900Z"
   },
   {
    "duration": 12,
    "start_time": "2022-05-18T08:44:57.429Z"
   },
   {
    "duration": 63,
    "start_time": "2022-05-18T08:44:57.443Z"
   },
   {
    "duration": 21,
    "start_time": "2022-05-18T08:44:57.508Z"
   },
   {
    "duration": 88,
    "start_time": "2022-05-18T08:44:57.531Z"
   },
   {
    "duration": 3,
    "start_time": "2022-05-18T08:44:57.621Z"
   },
   {
    "duration": 16,
    "start_time": "2022-05-18T08:44:57.625Z"
   },
   {
    "duration": 23,
    "start_time": "2022-05-18T08:44:57.642Z"
   },
   {
    "duration": 7,
    "start_time": "2022-05-18T08:44:57.667Z"
   },
   {
    "duration": 24,
    "start_time": "2022-05-18T08:44:57.676Z"
   },
   {
    "duration": 10,
    "start_time": "2022-05-18T08:44:57.702Z"
   },
   {
    "duration": 120,
    "start_time": "2022-05-18T08:44:57.713Z"
   },
   {
    "duration": 101,
    "start_time": "2022-05-18T08:59:06.024Z"
   },
   {
    "duration": 31,
    "start_time": "2022-05-18T08:59:18.300Z"
   },
   {
    "duration": 23,
    "start_time": "2022-05-18T08:59:32.373Z"
   },
   {
    "duration": 4,
    "start_time": "2022-05-18T08:59:58.327Z"
   },
   {
    "duration": 121,
    "start_time": "2022-05-18T09:00:01.346Z"
   },
   {
    "duration": 15,
    "start_time": "2022-05-18T09:01:50.472Z"
   },
   {
    "duration": 14,
    "start_time": "2022-05-18T09:02:16.583Z"
   },
   {
    "duration": 13,
    "start_time": "2022-05-18T09:02:46.160Z"
   },
   {
    "duration": 14,
    "start_time": "2022-05-18T09:03:10.102Z"
   },
   {
    "duration": 12,
    "start_time": "2022-05-18T09:03:55.901Z"
   },
   {
    "duration": 47,
    "start_time": "2022-05-18T09:06:03.621Z"
   },
   {
    "duration": 11,
    "start_time": "2022-05-18T09:07:05.916Z"
   },
   {
    "duration": 17,
    "start_time": "2022-05-18T09:14:45.016Z"
   },
   {
    "duration": 37,
    "start_time": "2022-05-18T09:22:36.254Z"
   },
   {
    "duration": 54,
    "start_time": "2022-05-18T09:39:19.254Z"
   },
   {
    "duration": 145,
    "start_time": "2022-05-18T09:39:34.042Z"
   },
   {
    "duration": 14,
    "start_time": "2022-05-18T09:59:06.750Z"
   },
   {
    "duration": 7,
    "start_time": "2022-05-18T09:59:51.421Z"
   },
   {
    "duration": 15,
    "start_time": "2022-05-18T10:00:39.863Z"
   },
   {
    "duration": 18,
    "start_time": "2022-05-18T10:09:29.851Z"
   },
   {
    "duration": 53,
    "start_time": "2022-05-18T10:09:46.246Z"
   },
   {
    "duration": 18,
    "start_time": "2022-05-18T10:09:58.091Z"
   },
   {
    "duration": 7,
    "start_time": "2022-05-18T10:24:27.422Z"
   },
   {
    "duration": 1042,
    "start_time": "2022-05-18T10:27:14.018Z"
   },
   {
    "duration": 730,
    "start_time": "2022-05-18T10:27:37.532Z"
   },
   {
    "duration": 5,
    "start_time": "2022-05-18T10:28:08.435Z"
   },
   {
    "duration": 6,
    "start_time": "2022-05-18T10:28:28.011Z"
   },
   {
    "duration": 8,
    "start_time": "2022-05-18T10:28:38.026Z"
   },
   {
    "duration": 752,
    "start_time": "2022-05-18T11:00:28.163Z"
   },
   {
    "duration": 13,
    "start_time": "2022-05-18T11:00:36.295Z"
   },
   {
    "duration": 3,
    "start_time": "2022-05-18T11:00:39.047Z"
   },
   {
    "duration": 236,
    "start_time": "2022-05-18T11:00:39.056Z"
   },
   {
    "duration": 42,
    "start_time": "2022-05-18T11:00:39.293Z"
   },
   {
    "duration": 12,
    "start_time": "2022-05-18T11:00:39.337Z"
   },
   {
    "duration": 25,
    "start_time": "2022-05-18T11:00:39.351Z"
   },
   {
    "duration": 10,
    "start_time": "2022-05-18T11:00:39.379Z"
   },
   {
    "duration": 15,
    "start_time": "2022-05-18T11:00:39.391Z"
   },
   {
    "duration": 12,
    "start_time": "2022-05-18T11:00:39.407Z"
   },
   {
    "duration": 9,
    "start_time": "2022-05-18T11:00:39.421Z"
   },
   {
    "duration": 18,
    "start_time": "2022-05-18T11:00:39.432Z"
   },
   {
    "duration": 40,
    "start_time": "2022-05-18T11:00:39.452Z"
   },
   {
    "duration": 10,
    "start_time": "2022-05-18T11:00:39.494Z"
   },
   {
    "duration": 617,
    "start_time": "2022-05-18T11:00:39.506Z"
   },
   {
    "duration": 13,
    "start_time": "2022-05-18T11:00:40.125Z"
   },
   {
    "duration": 71,
    "start_time": "2022-05-18T11:00:40.140Z"
   },
   {
    "duration": 25,
    "start_time": "2022-05-18T11:00:40.213Z"
   },
   {
    "duration": 91,
    "start_time": "2022-05-18T11:00:40.240Z"
   },
   {
    "duration": 3,
    "start_time": "2022-05-18T11:00:40.333Z"
   },
   {
    "duration": 42,
    "start_time": "2022-05-18T11:00:40.337Z"
   },
   {
    "duration": 6,
    "start_time": "2022-05-18T11:00:40.381Z"
   },
   {
    "duration": 9,
    "start_time": "2022-05-18T11:00:40.388Z"
   },
   {
    "duration": 18,
    "start_time": "2022-05-18T11:00:40.398Z"
   },
   {
    "duration": 660,
    "start_time": "2022-05-18T11:00:40.417Z"
   },
   {
    "duration": 0,
    "start_time": "2022-05-18T11:00:41.079Z"
   },
   {
    "duration": 0,
    "start_time": "2022-05-18T11:00:41.080Z"
   },
   {
    "duration": 0,
    "start_time": "2022-05-18T11:00:41.081Z"
   },
   {
    "duration": 0,
    "start_time": "2022-05-18T11:00:41.082Z"
   },
   {
    "duration": 24,
    "start_time": "2022-05-18T11:02:04.855Z"
   },
   {
    "duration": 16,
    "start_time": "2022-05-18T11:02:43.386Z"
   },
   {
    "duration": 19,
    "start_time": "2022-05-18T11:03:05.747Z"
   },
   {
    "duration": 4,
    "start_time": "2022-05-18T11:14:45.775Z"
   },
   {
    "duration": 133,
    "start_time": "2022-05-18T11:14:45.782Z"
   },
   {
    "duration": 16,
    "start_time": "2022-05-18T11:14:45.917Z"
   },
   {
    "duration": 10,
    "start_time": "2022-05-18T11:14:45.934Z"
   },
   {
    "duration": 11,
    "start_time": "2022-05-18T11:14:45.982Z"
   },
   {
    "duration": 8,
    "start_time": "2022-05-18T11:14:45.994Z"
   },
   {
    "duration": 28,
    "start_time": "2022-05-18T11:14:46.008Z"
   },
   {
    "duration": 11,
    "start_time": "2022-05-18T11:14:46.037Z"
   },
   {
    "duration": 561,
    "start_time": "2022-05-18T11:14:46.050Z"
   },
   {
    "duration": 12,
    "start_time": "2022-05-18T11:14:46.613Z"
   },
   {
    "duration": 71,
    "start_time": "2022-05-18T11:14:46.627Z"
   },
   {
    "duration": 18,
    "start_time": "2022-05-18T11:14:46.699Z"
   },
   {
    "duration": 95,
    "start_time": "2022-05-18T11:14:46.719Z"
   },
   {
    "duration": 2,
    "start_time": "2022-05-18T11:14:46.816Z"
   },
   {
    "duration": 23,
    "start_time": "2022-05-18T11:14:46.819Z"
   },
   {
    "duration": 12,
    "start_time": "2022-05-18T11:14:46.845Z"
   },
   {
    "duration": 29,
    "start_time": "2022-05-18T11:14:46.858Z"
   },
   {
    "duration": 16,
    "start_time": "2022-05-18T11:14:46.889Z"
   },
   {
    "duration": 10,
    "start_time": "2022-05-18T11:14:46.907Z"
   },
   {
    "duration": 19,
    "start_time": "2022-05-18T11:14:46.919Z"
   },
   {
    "duration": 35,
    "start_time": "2022-05-18T11:14:46.941Z"
   },
   {
    "duration": 14,
    "start_time": "2022-05-18T11:14:46.978Z"
   },
   {
    "duration": 5,
    "start_time": "2022-05-18T11:14:46.994Z"
   },
   {
    "duration": 14,
    "start_time": "2022-05-18T11:14:47.001Z"
   },
   {
    "duration": 0,
    "start_time": "2022-05-18T11:14:47.017Z"
   },
   {
    "duration": 0,
    "start_time": "2022-05-18T11:14:47.018Z"
   },
   {
    "duration": 0,
    "start_time": "2022-05-18T11:14:47.019Z"
   },
   {
    "duration": 2,
    "start_time": "2022-05-18T11:15:24.386Z"
   },
   {
    "duration": 518,
    "start_time": "2022-05-18T11:16:37.443Z"
   },
   {
    "duration": 13,
    "start_time": "2022-05-18T11:18:28.750Z"
   },
   {
    "duration": 55,
    "start_time": "2022-05-18T11:19:13.592Z"
   },
   {
    "duration": 25,
    "start_time": "2022-05-18T11:43:12.630Z"
   },
   {
    "duration": 5,
    "start_time": "2022-05-18T11:50:56.740Z"
   },
   {
    "duration": 2,
    "start_time": "2022-05-18T12:03:10.750Z"
   },
   {
    "duration": 41,
    "start_time": "2022-05-18T12:16:16.669Z"
   },
   {
    "duration": 22,
    "start_time": "2022-05-18T12:16:22.736Z"
   },
   {
    "duration": 24,
    "start_time": "2022-05-18T13:38:13.815Z"
   },
   {
    "duration": 2,
    "start_time": "2022-05-18T13:50:33.328Z"
   },
   {
    "duration": 10,
    "start_time": "2022-05-18T13:51:30.518Z"
   },
   {
    "duration": 26,
    "start_time": "2022-05-18T13:51:35.365Z"
   },
   {
    "duration": 21,
    "start_time": "2022-05-18T13:53:35.050Z"
   },
   {
    "duration": 71,
    "start_time": "2022-05-18T13:58:08.758Z"
   },
   {
    "duration": 30,
    "start_time": "2022-05-18T13:59:41.027Z"
   },
   {
    "duration": 32,
    "start_time": "2022-05-18T14:15:19.399Z"
   },
   {
    "duration": 3,
    "start_time": "2022-05-18T14:15:34.351Z"
   },
   {
    "duration": 6,
    "start_time": "2022-05-18T14:15:46.916Z"
   },
   {
    "duration": 38,
    "start_time": "2022-05-18T14:16:34.151Z"
   },
   {
    "duration": 12,
    "start_time": "2022-05-18T14:21:38.812Z"
   },
   {
    "duration": 475,
    "start_time": "2022-05-18T14:21:54.511Z"
   },
   {
    "duration": 463,
    "start_time": "2022-05-18T14:22:32.310Z"
   },
   {
    "duration": 82,
    "start_time": "2022-05-18T20:04:13.465Z"
   },
   {
    "duration": 6,
    "start_time": "2022-05-18T20:04:22.519Z"
   },
   {
    "duration": 6,
    "start_time": "2022-05-18T20:04:40.720Z"
   },
   {
    "duration": 1863,
    "start_time": "2022-05-18T20:04:52.652Z"
   },
   {
    "duration": 168,
    "start_time": "2022-05-18T20:04:54.517Z"
   },
   {
    "duration": 37,
    "start_time": "2022-05-18T20:04:54.687Z"
   },
   {
    "duration": 11,
    "start_time": "2022-05-18T20:04:54.726Z"
   },
   {
    "duration": 19,
    "start_time": "2022-05-18T20:04:54.738Z"
   },
   {
    "duration": 5,
    "start_time": "2022-05-18T20:04:54.759Z"
   },
   {
    "duration": 33,
    "start_time": "2022-05-18T20:04:54.765Z"
   },
   {
    "duration": 10,
    "start_time": "2022-05-18T20:04:54.800Z"
   },
   {
    "duration": 489,
    "start_time": "2022-05-18T20:04:54.812Z"
   },
   {
    "duration": 13,
    "start_time": "2022-05-18T20:04:55.303Z"
   },
   {
    "duration": 53,
    "start_time": "2022-05-18T20:04:55.327Z"
   },
   {
    "duration": 18,
    "start_time": "2022-05-18T20:04:55.382Z"
   },
   {
    "duration": 93,
    "start_time": "2022-05-18T20:04:55.402Z"
   },
   {
    "duration": 2,
    "start_time": "2022-05-18T20:04:55.497Z"
   },
   {
    "duration": 33,
    "start_time": "2022-05-18T20:04:55.501Z"
   },
   {
    "duration": 6,
    "start_time": "2022-05-18T20:04:55.535Z"
   },
   {
    "duration": 12,
    "start_time": "2022-05-18T20:04:55.542Z"
   },
   {
    "duration": 21,
    "start_time": "2022-05-18T20:04:55.556Z"
   },
   {
    "duration": 12,
    "start_time": "2022-05-18T20:04:55.579Z"
   },
   {
    "duration": 10,
    "start_time": "2022-05-18T20:04:55.593Z"
   },
   {
    "duration": 31,
    "start_time": "2022-05-18T20:04:55.604Z"
   },
   {
    "duration": 12,
    "start_time": "2022-05-18T20:04:55.637Z"
   },
   {
    "duration": 5,
    "start_time": "2022-05-18T20:04:55.650Z"
   },
   {
    "duration": 29,
    "start_time": "2022-05-18T20:04:55.657Z"
   },
   {
    "duration": 47,
    "start_time": "2022-05-18T20:04:55.687Z"
   },
   {
    "duration": 34,
    "start_time": "2022-05-18T20:04:55.735Z"
   },
   {
    "duration": 18,
    "start_time": "2022-05-18T20:04:55.771Z"
   },
   {
    "duration": 456,
    "start_time": "2022-05-18T20:04:55.792Z"
   },
   {
    "duration": 12,
    "start_time": "2022-05-18T20:04:56.252Z"
   },
   {
    "duration": 29,
    "start_time": "2022-05-19T07:39:17.173Z"
   },
   {
    "duration": 21,
    "start_time": "2022-05-19T07:39:33.015Z"
   },
   {
    "duration": 4,
    "start_time": "2022-05-19T07:39:38.613Z"
   },
   {
    "duration": 132,
    "start_time": "2022-05-19T07:39:38.625Z"
   },
   {
    "duration": 16,
    "start_time": "2022-05-19T07:39:38.759Z"
   },
   {
    "duration": 17,
    "start_time": "2022-05-19T07:39:38.777Z"
   },
   {
    "duration": 36,
    "start_time": "2022-05-19T07:39:38.795Z"
   },
   {
    "duration": 34,
    "start_time": "2022-05-19T07:39:38.832Z"
   },
   {
    "duration": 32,
    "start_time": "2022-05-19T07:39:38.867Z"
   },
   {
    "duration": 12,
    "start_time": "2022-05-19T07:39:38.900Z"
   },
   {
    "duration": 529,
    "start_time": "2022-05-19T07:39:38.913Z"
   },
   {
    "duration": 13,
    "start_time": "2022-05-19T07:39:39.443Z"
   },
   {
    "duration": 69,
    "start_time": "2022-05-19T07:39:39.460Z"
   },
   {
    "duration": 18,
    "start_time": "2022-05-19T07:39:39.531Z"
   },
   {
    "duration": 122,
    "start_time": "2022-05-19T07:39:39.551Z"
   },
   {
    "duration": 2,
    "start_time": "2022-05-19T07:39:39.675Z"
   },
   {
    "duration": 17,
    "start_time": "2022-05-19T07:39:39.679Z"
   },
   {
    "duration": 6,
    "start_time": "2022-05-19T07:39:39.698Z"
   },
   {
    "duration": 27,
    "start_time": "2022-05-19T07:39:39.705Z"
   },
   {
    "duration": 15,
    "start_time": "2022-05-19T07:39:39.734Z"
   },
   {
    "duration": 8,
    "start_time": "2022-05-19T07:39:39.750Z"
   },
   {
    "duration": 12,
    "start_time": "2022-05-19T07:39:39.760Z"
   },
   {
    "duration": 23,
    "start_time": "2022-05-19T07:39:39.774Z"
   },
   {
    "duration": 29,
    "start_time": "2022-05-19T07:39:39.799Z"
   },
   {
    "duration": 5,
    "start_time": "2022-05-19T07:39:39.830Z"
   },
   {
    "duration": 30,
    "start_time": "2022-05-19T07:39:39.837Z"
   },
   {
    "duration": 21,
    "start_time": "2022-05-19T07:39:39.869Z"
   },
   {
    "duration": 59,
    "start_time": "2022-05-19T07:39:39.892Z"
   },
   {
    "duration": 19,
    "start_time": "2022-05-19T07:39:39.953Z"
   },
   {
    "duration": 344,
    "start_time": "2022-05-19T07:39:39.974Z"
   },
   {
    "duration": 16,
    "start_time": "2022-05-19T07:39:40.321Z"
   },
   {
    "duration": 0,
    "start_time": "2022-05-19T07:39:40.338Z"
   },
   {
    "duration": 78,
    "start_time": "2022-05-19T07:42:54.668Z"
   },
   {
    "duration": 525,
    "start_time": "2022-05-19T07:43:02.682Z"
   },
   {
    "duration": 19,
    "start_time": "2022-05-19T07:43:28.565Z"
   },
   {
    "duration": 25,
    "start_time": "2022-05-19T07:43:36.219Z"
   },
   {
    "duration": 36,
    "start_time": "2022-05-19T07:43:44.248Z"
   },
   {
    "duration": 22,
    "start_time": "2022-05-19T07:43:47.906Z"
   },
   {
    "duration": 68,
    "start_time": "2022-05-19T08:42:36.913Z"
   },
   {
    "duration": 1442,
    "start_time": "2022-05-19T08:42:38.575Z"
   },
   {
    "duration": 417,
    "start_time": "2022-05-19T08:42:40.020Z"
   },
   {
    "duration": 69,
    "start_time": "2022-05-19T08:42:40.438Z"
   },
   {
    "duration": 11,
    "start_time": "2022-05-19T08:42:40.510Z"
   },
   {
    "duration": 13,
    "start_time": "2022-05-19T08:42:40.523Z"
   },
   {
    "duration": 6,
    "start_time": "2022-05-19T08:42:40.538Z"
   },
   {
    "duration": 33,
    "start_time": "2022-05-19T08:42:40.545Z"
   },
   {
    "duration": 9,
    "start_time": "2022-05-19T08:42:40.583Z"
   },
   {
    "duration": 452,
    "start_time": "2022-05-19T08:42:40.594Z"
   },
   {
    "duration": 11,
    "start_time": "2022-05-19T08:42:41.048Z"
   },
   {
    "duration": 63,
    "start_time": "2022-05-19T08:42:41.060Z"
   },
   {
    "duration": 18,
    "start_time": "2022-05-19T08:42:41.124Z"
   },
   {
    "duration": 94,
    "start_time": "2022-05-19T08:42:41.144Z"
   },
   {
    "duration": 3,
    "start_time": "2022-05-19T08:42:41.239Z"
   },
   {
    "duration": 16,
    "start_time": "2022-05-19T08:42:41.243Z"
   },
   {
    "duration": 6,
    "start_time": "2022-05-19T08:42:41.260Z"
   },
   {
    "duration": 7,
    "start_time": "2022-05-19T08:42:41.283Z"
   },
   {
    "duration": 15,
    "start_time": "2022-05-19T08:42:41.291Z"
   },
   {
    "duration": 6,
    "start_time": "2022-05-19T08:42:41.307Z"
   },
   {
    "duration": 7,
    "start_time": "2022-05-19T08:42:41.314Z"
   },
   {
    "duration": 16,
    "start_time": "2022-05-19T08:42:41.322Z"
   },
   {
    "duration": 46,
    "start_time": "2022-05-19T08:42:41.340Z"
   },
   {
    "duration": 5,
    "start_time": "2022-05-19T08:42:41.387Z"
   },
   {
    "duration": 31,
    "start_time": "2022-05-19T08:42:41.394Z"
   },
   {
    "duration": 22,
    "start_time": "2022-05-19T08:42:41.427Z"
   },
   {
    "duration": 56,
    "start_time": "2022-05-19T08:42:41.451Z"
   },
   {
    "duration": 19,
    "start_time": "2022-05-19T08:42:41.508Z"
   },
   {
    "duration": 433,
    "start_time": "2022-05-19T08:42:41.530Z"
   },
   {
    "duration": 4,
    "start_time": "2022-05-19T08:42:41.966Z"
   },
   {
    "duration": 24,
    "start_time": "2022-05-19T08:42:41.971Z"
   },
   {
    "duration": 18,
    "start_time": "2022-05-19T08:43:12.714Z"
   },
   {
    "duration": 22,
    "start_time": "2022-05-19T08:43:44.539Z"
   },
   {
    "duration": 4,
    "start_time": "2022-05-19T08:43:49.590Z"
   },
   {
    "duration": 159,
    "start_time": "2022-05-19T08:43:49.600Z"
   },
   {
    "duration": 24,
    "start_time": "2022-05-19T08:43:49.760Z"
   },
   {
    "duration": 10,
    "start_time": "2022-05-19T08:43:49.786Z"
   },
   {
    "duration": 11,
    "start_time": "2022-05-19T08:43:49.798Z"
   },
   {
    "duration": 4,
    "start_time": "2022-05-19T08:43:49.811Z"
   },
   {
    "duration": 27,
    "start_time": "2022-05-19T08:43:49.817Z"
   },
   {
    "duration": 41,
    "start_time": "2022-05-19T08:43:49.847Z"
   },
   {
    "duration": 483,
    "start_time": "2022-05-19T08:43:49.891Z"
   },
   {
    "duration": 12,
    "start_time": "2022-05-19T08:43:50.384Z"
   },
   {
    "duration": 52,
    "start_time": "2022-05-19T08:43:50.398Z"
   },
   {
    "duration": 33,
    "start_time": "2022-05-19T08:43:50.451Z"
   },
   {
    "duration": 83,
    "start_time": "2022-05-19T08:43:50.486Z"
   },
   {
    "duration": 2,
    "start_time": "2022-05-19T08:43:50.584Z"
   },
   {
    "duration": 16,
    "start_time": "2022-05-19T08:43:50.588Z"
   },
   {
    "duration": 5,
    "start_time": "2022-05-19T08:43:50.606Z"
   },
   {
    "duration": 18,
    "start_time": "2022-05-19T08:43:50.612Z"
   },
   {
    "duration": 17,
    "start_time": "2022-05-19T08:43:50.631Z"
   },
   {
    "duration": 13,
    "start_time": "2022-05-19T08:43:50.649Z"
   },
   {
    "duration": 8,
    "start_time": "2022-05-19T08:43:50.663Z"
   },
   {
    "duration": 19,
    "start_time": "2022-05-19T08:43:50.683Z"
   },
   {
    "duration": 17,
    "start_time": "2022-05-19T08:43:50.703Z"
   },
   {
    "duration": 8,
    "start_time": "2022-05-19T08:43:50.721Z"
   },
   {
    "duration": 56,
    "start_time": "2022-05-19T08:43:50.730Z"
   },
   {
    "duration": 23,
    "start_time": "2022-05-19T08:43:50.788Z"
   },
   {
    "duration": 33,
    "start_time": "2022-05-19T08:43:50.814Z"
   },
   {
    "duration": 40,
    "start_time": "2022-05-19T08:43:50.848Z"
   },
   {
    "duration": 321,
    "start_time": "2022-05-19T08:43:50.889Z"
   },
   {
    "duration": 3,
    "start_time": "2022-05-19T08:43:51.213Z"
   },
   {
    "duration": 12,
    "start_time": "2022-05-19T08:43:51.217Z"
   },
   {
    "duration": 3,
    "start_time": "2022-05-19T08:47:03.253Z"
   },
   {
    "duration": 121,
    "start_time": "2022-05-19T08:47:03.263Z"
   },
   {
    "duration": 21,
    "start_time": "2022-05-19T08:47:03.387Z"
   },
   {
    "duration": 11,
    "start_time": "2022-05-19T08:47:03.409Z"
   },
   {
    "duration": 12,
    "start_time": "2022-05-19T08:47:03.422Z"
   },
   {
    "duration": 5,
    "start_time": "2022-05-19T08:47:03.435Z"
   },
   {
    "duration": 50,
    "start_time": "2022-05-19T08:47:03.442Z"
   },
   {
    "duration": 9,
    "start_time": "2022-05-19T08:47:03.494Z"
   },
   {
    "duration": 473,
    "start_time": "2022-05-19T08:47:03.505Z"
   },
   {
    "duration": 12,
    "start_time": "2022-05-19T08:47:03.982Z"
   },
   {
    "duration": 43,
    "start_time": "2022-05-19T08:47:03.997Z"
   },
   {
    "duration": 17,
    "start_time": "2022-05-19T08:47:04.042Z"
   },
   {
    "duration": 69,
    "start_time": "2022-05-19T08:47:04.082Z"
   },
   {
    "duration": 2,
    "start_time": "2022-05-19T08:47:04.153Z"
   },
   {
    "duration": 29,
    "start_time": "2022-05-19T08:47:04.156Z"
   },
   {
    "duration": 6,
    "start_time": "2022-05-19T08:47:04.186Z"
   },
   {
    "duration": 19,
    "start_time": "2022-05-19T08:47:04.194Z"
   },
   {
    "duration": 29,
    "start_time": "2022-05-19T08:47:04.214Z"
   },
   {
    "duration": 7,
    "start_time": "2022-05-19T08:47:04.245Z"
   },
   {
    "duration": 21,
    "start_time": "2022-05-19T08:47:04.254Z"
   },
   {
    "duration": 41,
    "start_time": "2022-05-19T08:47:04.277Z"
   },
   {
    "duration": 13,
    "start_time": "2022-05-19T08:47:04.320Z"
   },
   {
    "duration": 10,
    "start_time": "2022-05-19T08:47:04.335Z"
   },
   {
    "duration": 30,
    "start_time": "2022-05-19T08:47:04.347Z"
   },
   {
    "duration": 23,
    "start_time": "2022-05-19T08:47:04.379Z"
   },
   {
    "duration": 33,
    "start_time": "2022-05-19T08:47:04.403Z"
   },
   {
    "duration": 19,
    "start_time": "2022-05-19T08:47:04.437Z"
   },
   {
    "duration": 348,
    "start_time": "2022-05-19T08:47:04.458Z"
   },
   {
    "duration": 3,
    "start_time": "2022-05-19T08:47:04.810Z"
   },
   {
    "duration": 26,
    "start_time": "2022-05-19T08:47:04.815Z"
   },
   {
    "duration": 10,
    "start_time": "2022-05-19T08:51:12.580Z"
   },
   {
    "duration": 328,
    "start_time": "2022-05-19T08:52:04.961Z"
   },
   {
    "duration": 20,
    "start_time": "2022-05-19T08:52:53.045Z"
   },
   {
    "duration": 3,
    "start_time": "2022-05-19T08:52:55.434Z"
   },
   {
    "duration": 142,
    "start_time": "2022-05-19T08:52:55.442Z"
   },
   {
    "duration": 21,
    "start_time": "2022-05-19T08:52:55.586Z"
   },
   {
    "duration": 28,
    "start_time": "2022-05-19T08:52:55.609Z"
   },
   {
    "duration": 26,
    "start_time": "2022-05-19T08:52:55.639Z"
   },
   {
    "duration": 27,
    "start_time": "2022-05-19T08:52:55.667Z"
   },
   {
    "duration": 36,
    "start_time": "2022-05-19T08:52:55.696Z"
   },
   {
    "duration": 11,
    "start_time": "2022-05-19T08:52:55.735Z"
   },
   {
    "duration": 471,
    "start_time": "2022-05-19T08:52:55.748Z"
   },
   {
    "duration": 12,
    "start_time": "2022-05-19T08:52:56.221Z"
   },
   {
    "duration": 72,
    "start_time": "2022-05-19T08:52:56.236Z"
   },
   {
    "duration": 18,
    "start_time": "2022-05-19T08:52:56.310Z"
   },
   {
    "duration": 98,
    "start_time": "2022-05-19T08:52:56.330Z"
   },
   {
    "duration": 2,
    "start_time": "2022-05-19T08:52:56.430Z"
   },
   {
    "duration": 27,
    "start_time": "2022-05-19T08:52:56.434Z"
   },
   {
    "duration": 24,
    "start_time": "2022-05-19T08:52:56.463Z"
   },
   {
    "duration": 34,
    "start_time": "2022-05-19T08:52:56.489Z"
   },
   {
    "duration": 12,
    "start_time": "2022-05-19T08:52:56.525Z"
   },
   {
    "duration": 10,
    "start_time": "2022-05-19T08:52:56.539Z"
   },
   {
    "duration": 10,
    "start_time": "2022-05-19T08:52:56.550Z"
   },
   {
    "duration": 19,
    "start_time": "2022-05-19T08:52:56.562Z"
   },
   {
    "duration": 13,
    "start_time": "2022-05-19T08:52:56.583Z"
   },
   {
    "duration": 5,
    "start_time": "2022-05-19T08:52:56.598Z"
   },
   {
    "duration": 36,
    "start_time": "2022-05-19T08:52:56.605Z"
   },
   {
    "duration": 44,
    "start_time": "2022-05-19T08:52:56.642Z"
   },
   {
    "duration": 50,
    "start_time": "2022-05-19T08:52:56.688Z"
   },
   {
    "duration": 23,
    "start_time": "2022-05-19T08:52:56.740Z"
   },
   {
    "duration": 406,
    "start_time": "2022-05-19T08:52:56.783Z"
   },
   {
    "duration": 656,
    "start_time": "2022-05-19T08:52:57.193Z"
   },
   {
    "duration": 0,
    "start_time": "2022-05-19T08:52:57.851Z"
   },
   {
    "duration": 0,
    "start_time": "2022-05-19T08:52:57.852Z"
   },
   {
    "duration": 11,
    "start_time": "2022-05-19T09:00:58.619Z"
   },
   {
    "duration": 12,
    "start_time": "2022-05-19T09:02:47.353Z"
   },
   {
    "duration": 11,
    "start_time": "2022-05-19T09:02:59.227Z"
   },
   {
    "duration": 12,
    "start_time": "2022-05-19T09:03:33.357Z"
   },
   {
    "duration": 25,
    "start_time": "2022-05-19T09:03:47.655Z"
   },
   {
    "duration": 10,
    "start_time": "2022-05-19T09:04:38.281Z"
   },
   {
    "duration": 1441,
    "start_time": "2022-05-19T09:06:03.170Z"
   },
   {
    "duration": 134,
    "start_time": "2022-05-19T09:06:04.613Z"
   },
   {
    "duration": 21,
    "start_time": "2022-05-19T09:06:04.749Z"
   },
   {
    "duration": 18,
    "start_time": "2022-05-19T09:06:04.772Z"
   },
   {
    "duration": 19,
    "start_time": "2022-05-19T09:06:04.793Z"
   },
   {
    "duration": 19,
    "start_time": "2022-05-19T09:06:04.814Z"
   },
   {
    "duration": 54,
    "start_time": "2022-05-19T09:06:04.835Z"
   },
   {
    "duration": 16,
    "start_time": "2022-05-19T09:06:04.894Z"
   },
   {
    "duration": 558,
    "start_time": "2022-05-19T09:06:04.912Z"
   },
   {
    "duration": 23,
    "start_time": "2022-05-19T09:06:05.473Z"
   },
   {
    "duration": 64,
    "start_time": "2022-05-19T09:06:05.498Z"
   },
   {
    "duration": 53,
    "start_time": "2022-05-19T09:06:05.564Z"
   },
   {
    "duration": 104,
    "start_time": "2022-05-19T09:06:05.619Z"
   },
   {
    "duration": 2,
    "start_time": "2022-05-19T09:06:05.727Z"
   },
   {
    "duration": 26,
    "start_time": "2022-05-19T09:06:05.731Z"
   },
   {
    "duration": 9,
    "start_time": "2022-05-19T09:06:05.759Z"
   },
   {
    "duration": 26,
    "start_time": "2022-05-19T09:06:05.770Z"
   },
   {
    "duration": 34,
    "start_time": "2022-05-19T09:06:05.798Z"
   },
   {
    "duration": 14,
    "start_time": "2022-05-19T09:06:05.834Z"
   },
   {
    "duration": 15,
    "start_time": "2022-05-19T09:06:05.850Z"
   },
   {
    "duration": 32,
    "start_time": "2022-05-19T09:06:05.866Z"
   },
   {
    "duration": 19,
    "start_time": "2022-05-19T09:06:05.899Z"
   },
   {
    "duration": 5,
    "start_time": "2022-05-19T09:06:05.920Z"
   },
   {
    "duration": 59,
    "start_time": "2022-05-19T09:06:05.927Z"
   },
   {
    "duration": 33,
    "start_time": "2022-05-19T09:06:05.988Z"
   },
   {
    "duration": 64,
    "start_time": "2022-05-19T09:06:06.023Z"
   },
   {
    "duration": 26,
    "start_time": "2022-05-19T09:06:06.089Z"
   },
   {
    "duration": 493,
    "start_time": "2022-05-19T09:06:06.118Z"
   },
   {
    "duration": 4,
    "start_time": "2022-05-19T09:06:06.613Z"
   },
   {
    "duration": 0,
    "start_time": "2022-05-19T09:06:06.618Z"
   },
   {
    "duration": 0,
    "start_time": "2022-05-19T09:06:06.620Z"
   },
   {
    "duration": 0,
    "start_time": "2022-05-19T09:06:06.622Z"
   },
   {
    "duration": 12,
    "start_time": "2022-05-19T09:06:22.753Z"
   },
   {
    "duration": 1325,
    "start_time": "2022-05-19T09:06:45.974Z"
   },
   {
    "duration": 123,
    "start_time": "2022-05-19T09:06:47.301Z"
   },
   {
    "duration": 22,
    "start_time": "2022-05-19T09:06:47.426Z"
   },
   {
    "duration": 10,
    "start_time": "2022-05-19T09:06:47.450Z"
   },
   {
    "duration": 21,
    "start_time": "2022-05-19T09:06:47.462Z"
   },
   {
    "duration": 3,
    "start_time": "2022-05-19T09:06:47.485Z"
   },
   {
    "duration": 30,
    "start_time": "2022-05-19T09:06:47.490Z"
   },
   {
    "duration": 10,
    "start_time": "2022-05-19T09:06:47.521Z"
   },
   {
    "duration": 515,
    "start_time": "2022-05-19T09:06:47.533Z"
   },
   {
    "duration": 15,
    "start_time": "2022-05-19T09:06:48.050Z"
   },
   {
    "duration": 82,
    "start_time": "2022-05-19T09:06:48.067Z"
   },
   {
    "duration": 35,
    "start_time": "2022-05-19T09:06:48.151Z"
   },
   {
    "duration": 95,
    "start_time": "2022-05-19T09:06:48.189Z"
   },
   {
    "duration": 2,
    "start_time": "2022-05-19T09:06:48.287Z"
   },
   {
    "duration": 21,
    "start_time": "2022-05-19T09:06:48.291Z"
   },
   {
    "duration": 7,
    "start_time": "2022-05-19T09:06:48.314Z"
   },
   {
    "duration": 7,
    "start_time": "2022-05-19T09:06:48.323Z"
   },
   {
    "duration": 10,
    "start_time": "2022-05-19T09:06:48.332Z"
   },
   {
    "duration": 6,
    "start_time": "2022-05-19T09:06:48.344Z"
   },
   {
    "duration": 8,
    "start_time": "2022-05-19T09:06:48.384Z"
   },
   {
    "duration": 25,
    "start_time": "2022-05-19T09:06:48.394Z"
   },
   {
    "duration": 13,
    "start_time": "2022-05-19T09:06:48.421Z"
   },
   {
    "duration": 5,
    "start_time": "2022-05-19T09:06:48.436Z"
   },
   {
    "duration": 62,
    "start_time": "2022-05-19T09:06:48.443Z"
   },
   {
    "duration": 21,
    "start_time": "2022-05-19T09:06:48.506Z"
   },
   {
    "duration": 54,
    "start_time": "2022-05-19T09:06:48.529Z"
   },
   {
    "duration": 19,
    "start_time": "2022-05-19T09:06:48.585Z"
   },
   {
    "duration": 441,
    "start_time": "2022-05-19T09:06:48.606Z"
   },
   {
    "duration": 10,
    "start_time": "2022-05-19T09:06:49.048Z"
   },
   {
    "duration": 1214,
    "start_time": "2022-05-19T09:09:23.697Z"
   },
   {
    "duration": 122,
    "start_time": "2022-05-19T09:09:24.913Z"
   },
   {
    "duration": 25,
    "start_time": "2022-05-19T09:09:25.037Z"
   },
   {
    "duration": 10,
    "start_time": "2022-05-19T09:09:25.065Z"
   },
   {
    "duration": 20,
    "start_time": "2022-05-19T09:09:25.076Z"
   },
   {
    "duration": 6,
    "start_time": "2022-05-19T09:09:25.098Z"
   },
   {
    "duration": 42,
    "start_time": "2022-05-19T09:09:25.106Z"
   },
   {
    "duration": 10,
    "start_time": "2022-05-19T09:09:25.149Z"
   },
   {
    "duration": 494,
    "start_time": "2022-05-19T09:09:25.161Z"
   },
   {
    "duration": 13,
    "start_time": "2022-05-19T09:09:25.657Z"
   },
   {
    "duration": 63,
    "start_time": "2022-05-19T09:09:25.683Z"
   },
   {
    "duration": 19,
    "start_time": "2022-05-19T09:09:25.749Z"
   },
   {
    "duration": 81,
    "start_time": "2022-05-19T09:09:25.784Z"
   },
   {
    "duration": 3,
    "start_time": "2022-05-19T09:09:25.866Z"
   },
   {
    "duration": 26,
    "start_time": "2022-05-19T09:09:25.870Z"
   },
   {
    "duration": 6,
    "start_time": "2022-05-19T09:09:25.898Z"
   },
   {
    "duration": 7,
    "start_time": "2022-05-19T09:09:25.905Z"
   },
   {
    "duration": 11,
    "start_time": "2022-05-19T09:09:25.914Z"
   },
   {
    "duration": 5,
    "start_time": "2022-05-19T09:09:25.927Z"
   },
   {
    "duration": 8,
    "start_time": "2022-05-19T09:09:25.933Z"
   },
   {
    "duration": 18,
    "start_time": "2022-05-19T09:09:25.984Z"
   },
   {
    "duration": 15,
    "start_time": "2022-05-19T09:09:26.003Z"
   },
   {
    "duration": 6,
    "start_time": "2022-05-19T09:09:26.020Z"
   },
   {
    "duration": 67,
    "start_time": "2022-05-19T09:09:26.028Z"
   },
   {
    "duration": 29,
    "start_time": "2022-05-19T09:09:26.098Z"
   },
   {
    "duration": 37,
    "start_time": "2022-05-19T09:09:26.129Z"
   },
   {
    "duration": 25,
    "start_time": "2022-05-19T09:09:26.183Z"
   },
   {
    "duration": 475,
    "start_time": "2022-05-19T09:09:26.211Z"
   },
   {
    "duration": 10,
    "start_time": "2022-05-19T09:09:26.688Z"
   },
   {
    "duration": 1294,
    "start_time": "2022-05-19T09:10:01.627Z"
   },
   {
    "duration": 134,
    "start_time": "2022-05-19T09:10:02.924Z"
   },
   {
    "duration": 25,
    "start_time": "2022-05-19T09:10:03.060Z"
   },
   {
    "duration": 13,
    "start_time": "2022-05-19T09:10:03.088Z"
   },
   {
    "duration": 13,
    "start_time": "2022-05-19T09:10:03.102Z"
   },
   {
    "duration": 7,
    "start_time": "2022-05-19T09:10:03.116Z"
   },
   {
    "duration": 29,
    "start_time": "2022-05-19T09:10:03.124Z"
   },
   {
    "duration": 35,
    "start_time": "2022-05-19T09:10:03.154Z"
   },
   {
    "duration": 492,
    "start_time": "2022-05-19T09:10:03.191Z"
   },
   {
    "duration": 14,
    "start_time": "2022-05-19T09:10:03.687Z"
   },
   {
    "duration": 59,
    "start_time": "2022-05-19T09:10:03.702Z"
   },
   {
    "duration": 51,
    "start_time": "2022-05-19T09:10:03.762Z"
   },
   {
    "duration": 97,
    "start_time": "2022-05-19T09:10:03.815Z"
   },
   {
    "duration": 2,
    "start_time": "2022-05-19T09:10:03.914Z"
   },
   {
    "duration": 19,
    "start_time": "2022-05-19T09:10:03.918Z"
   },
   {
    "duration": 6,
    "start_time": "2022-05-19T09:10:03.938Z"
   },
   {
    "duration": 6,
    "start_time": "2022-05-19T09:10:03.946Z"
   },
   {
    "duration": 38,
    "start_time": "2022-05-19T09:10:03.953Z"
   },
   {
    "duration": 6,
    "start_time": "2022-05-19T09:10:03.993Z"
   },
   {
    "duration": 10,
    "start_time": "2022-05-19T09:10:04.001Z"
   },
   {
    "duration": 25,
    "start_time": "2022-05-19T09:10:04.013Z"
   },
   {
    "duration": 44,
    "start_time": "2022-05-19T09:10:04.040Z"
   },
   {
    "duration": 6,
    "start_time": "2022-05-19T09:10:04.086Z"
   },
   {
    "duration": 38,
    "start_time": "2022-05-19T09:10:04.094Z"
   },
   {
    "duration": 24,
    "start_time": "2022-05-19T09:10:04.134Z"
   },
   {
    "duration": 65,
    "start_time": "2022-05-19T09:10:04.160Z"
   },
   {
    "duration": 18,
    "start_time": "2022-05-19T09:10:04.227Z"
   },
   {
    "duration": 498,
    "start_time": "2022-05-19T09:10:04.248Z"
   },
   {
    "duration": 36,
    "start_time": "2022-05-19T09:10:04.748Z"
   },
   {
    "duration": 10,
    "start_time": "2022-05-19T09:10:04.786Z"
   },
   {
    "duration": 45,
    "start_time": "2022-05-19T09:27:21.741Z"
   },
   {
    "duration": 48,
    "start_time": "2022-05-19T09:46:33.551Z"
   },
   {
    "duration": 17,
    "start_time": "2022-05-19T09:46:42.295Z"
   },
   {
    "duration": 151,
    "start_time": "2022-05-19T09:48:50.879Z"
   },
   {
    "duration": 26,
    "start_time": "2022-05-19T09:50:42.315Z"
   },
   {
    "duration": 22,
    "start_time": "2022-05-19T09:51:03.914Z"
   },
   {
    "duration": 28,
    "start_time": "2022-05-19T09:51:18.016Z"
   },
   {
    "duration": 17,
    "start_time": "2022-05-19T09:52:10.809Z"
   },
   {
    "duration": 4,
    "start_time": "2022-05-19T09:53:05.857Z"
   },
   {
    "duration": 4,
    "start_time": "2022-05-19T09:53:07.027Z"
   },
   {
    "duration": 122,
    "start_time": "2022-05-19T09:53:07.067Z"
   },
   {
    "duration": 22,
    "start_time": "2022-05-19T09:53:07.191Z"
   },
   {
    "duration": 12,
    "start_time": "2022-05-19T09:53:07.214Z"
   },
   {
    "duration": 13,
    "start_time": "2022-05-19T09:53:07.228Z"
   },
   {
    "duration": 3,
    "start_time": "2022-05-19T09:53:07.243Z"
   },
   {
    "duration": 47,
    "start_time": "2022-05-19T09:53:07.248Z"
   },
   {
    "duration": 10,
    "start_time": "2022-05-19T09:53:07.296Z"
   },
   {
    "duration": 480,
    "start_time": "2022-05-19T09:53:07.308Z"
   },
   {
    "duration": 14,
    "start_time": "2022-05-19T09:53:07.790Z"
   },
   {
    "duration": 50,
    "start_time": "2022-05-19T09:53:07.806Z"
   },
   {
    "duration": 52,
    "start_time": "2022-05-19T09:53:07.858Z"
   },
   {
    "duration": 126,
    "start_time": "2022-05-19T09:53:07.913Z"
   },
   {
    "duration": 2,
    "start_time": "2022-05-19T09:53:08.041Z"
   },
   {
    "duration": 20,
    "start_time": "2022-05-19T09:53:08.047Z"
   },
   {
    "duration": 9,
    "start_time": "2022-05-19T09:53:08.085Z"
   },
   {
    "duration": 11,
    "start_time": "2022-05-19T09:53:08.096Z"
   },
   {
    "duration": 18,
    "start_time": "2022-05-19T09:53:08.109Z"
   },
   {
    "duration": 11,
    "start_time": "2022-05-19T09:53:08.129Z"
   },
   {
    "duration": 42,
    "start_time": "2022-05-19T09:53:08.143Z"
   },
   {
    "duration": 22,
    "start_time": "2022-05-19T09:53:08.187Z"
   },
   {
    "duration": 20,
    "start_time": "2022-05-19T09:53:08.211Z"
   },
   {
    "duration": 7,
    "start_time": "2022-05-19T09:53:08.233Z"
   },
   {
    "duration": 64,
    "start_time": "2022-05-19T09:53:08.241Z"
   },
   {
    "duration": 27,
    "start_time": "2022-05-19T09:53:08.307Z"
   },
   {
    "duration": 55,
    "start_time": "2022-05-19T09:53:08.335Z"
   },
   {
    "duration": 23,
    "start_time": "2022-05-19T09:53:08.393Z"
   },
   {
    "duration": 400,
    "start_time": "2022-05-19T09:53:08.418Z"
   },
   {
    "duration": 17,
    "start_time": "2022-05-19T09:53:08.820Z"
   },
   {
    "duration": 14,
    "start_time": "2022-05-19T09:53:08.839Z"
   },
   {
    "duration": 30,
    "start_time": "2022-05-19T09:53:08.855Z"
   },
   {
    "duration": 42,
    "start_time": "2022-05-19T09:58:42.548Z"
   },
   {
    "duration": 15,
    "start_time": "2022-05-19T10:04:55.229Z"
   },
   {
    "duration": 5,
    "start_time": "2022-05-19T10:04:56.801Z"
   },
   {
    "duration": 140,
    "start_time": "2022-05-19T10:04:56.813Z"
   },
   {
    "duration": 29,
    "start_time": "2022-05-19T10:04:56.956Z"
   },
   {
    "duration": 14,
    "start_time": "2022-05-19T10:04:56.987Z"
   },
   {
    "duration": 19,
    "start_time": "2022-05-19T10:04:57.004Z"
   },
   {
    "duration": 4,
    "start_time": "2022-05-19T10:04:57.025Z"
   },
   {
    "duration": 74,
    "start_time": "2022-05-19T10:04:57.031Z"
   },
   {
    "duration": 15,
    "start_time": "2022-05-19T10:04:57.107Z"
   },
   {
    "duration": 502,
    "start_time": "2022-05-19T10:04:57.124Z"
   },
   {
    "duration": 13,
    "start_time": "2022-05-19T10:04:57.628Z"
   },
   {
    "duration": 84,
    "start_time": "2022-05-19T10:04:57.644Z"
   },
   {
    "duration": 32,
    "start_time": "2022-05-19T10:04:57.730Z"
   },
   {
    "duration": 104,
    "start_time": "2022-05-19T10:04:57.764Z"
   },
   {
    "duration": 14,
    "start_time": "2022-05-19T10:04:57.870Z"
   },
   {
    "duration": 20,
    "start_time": "2022-05-19T10:04:57.886Z"
   },
   {
    "duration": 9,
    "start_time": "2022-05-19T10:04:57.909Z"
   },
   {
    "duration": 8,
    "start_time": "2022-05-19T10:04:57.921Z"
   },
   {
    "duration": 14,
    "start_time": "2022-05-19T10:04:57.932Z"
   },
   {
    "duration": 9,
    "start_time": "2022-05-19T10:04:57.984Z"
   },
   {
    "duration": 11,
    "start_time": "2022-05-19T10:04:57.995Z"
   },
   {
    "duration": 26,
    "start_time": "2022-05-19T10:04:58.007Z"
   },
   {
    "duration": 49,
    "start_time": "2022-05-19T10:04:58.036Z"
   },
   {
    "duration": 8,
    "start_time": "2022-05-19T10:04:58.087Z"
   },
   {
    "duration": 40,
    "start_time": "2022-05-19T10:04:58.098Z"
   },
   {
    "duration": 59,
    "start_time": "2022-05-19T10:04:58.140Z"
   },
   {
    "duration": 47,
    "start_time": "2022-05-19T10:04:58.202Z"
   },
   {
    "duration": 39,
    "start_time": "2022-05-19T10:04:58.251Z"
   },
   {
    "duration": 415,
    "start_time": "2022-05-19T10:04:58.293Z"
   },
   {
    "duration": 31,
    "start_time": "2022-05-19T10:04:58.713Z"
   },
   {
    "duration": 391,
    "start_time": "2022-05-19T10:04:58.746Z"
   },
   {
    "duration": 11,
    "start_time": "2022-05-19T10:04:59.139Z"
   },
   {
    "duration": 32,
    "start_time": "2022-05-19T10:05:24.736Z"
   },
   {
    "duration": 482,
    "start_time": "2022-05-19T10:05:27.789Z"
   },
   {
    "duration": 4,
    "start_time": "2022-05-19T10:05:29.078Z"
   },
   {
    "duration": 132,
    "start_time": "2022-05-19T10:05:29.087Z"
   },
   {
    "duration": 28,
    "start_time": "2022-05-19T10:05:29.222Z"
   },
   {
    "duration": 33,
    "start_time": "2022-05-19T10:05:29.253Z"
   },
   {
    "duration": 13,
    "start_time": "2022-05-19T10:05:29.288Z"
   },
   {
    "duration": 9,
    "start_time": "2022-05-19T10:05:29.303Z"
   },
   {
    "duration": 42,
    "start_time": "2022-05-19T10:05:29.314Z"
   },
   {
    "duration": 35,
    "start_time": "2022-05-19T10:05:29.359Z"
   },
   {
    "duration": 545,
    "start_time": "2022-05-19T10:05:29.397Z"
   },
   {
    "duration": 14,
    "start_time": "2022-05-19T10:05:29.944Z"
   },
   {
    "duration": 76,
    "start_time": "2022-05-19T10:05:29.960Z"
   },
   {
    "duration": 48,
    "start_time": "2022-05-19T10:05:30.038Z"
   },
   {
    "duration": 132,
    "start_time": "2022-05-19T10:05:30.088Z"
   },
   {
    "duration": 3,
    "start_time": "2022-05-19T10:05:30.223Z"
   },
   {
    "duration": 26,
    "start_time": "2022-05-19T10:05:30.227Z"
   },
   {
    "duration": 7,
    "start_time": "2022-05-19T10:05:30.255Z"
   },
   {
    "duration": 28,
    "start_time": "2022-05-19T10:05:30.263Z"
   },
   {
    "duration": 31,
    "start_time": "2022-05-19T10:05:30.293Z"
   },
   {
    "duration": 27,
    "start_time": "2022-05-19T10:05:30.326Z"
   },
   {
    "duration": 17,
    "start_time": "2022-05-19T10:05:30.355Z"
   },
   {
    "duration": 47,
    "start_time": "2022-05-19T10:05:30.374Z"
   },
   {
    "duration": 34,
    "start_time": "2022-05-19T10:05:30.423Z"
   },
   {
    "duration": 7,
    "start_time": "2022-05-19T10:05:30.459Z"
   },
   {
    "duration": 63,
    "start_time": "2022-05-19T10:05:30.468Z"
   },
   {
    "duration": 31,
    "start_time": "2022-05-19T10:05:30.533Z"
   },
   {
    "duration": 39,
    "start_time": "2022-05-19T10:05:30.566Z"
   },
   {
    "duration": 21,
    "start_time": "2022-05-19T10:05:30.607Z"
   },
   {
    "duration": 554,
    "start_time": "2022-05-19T10:05:30.630Z"
   },
   {
    "duration": 34,
    "start_time": "2022-05-19T10:05:31.188Z"
   },
   {
    "duration": 416,
    "start_time": "2022-05-19T10:05:31.224Z"
   },
   {
    "duration": 11,
    "start_time": "2022-05-19T10:05:31.642Z"
   },
   {
    "duration": 14,
    "start_time": "2022-05-19T10:38:11.775Z"
   },
   {
    "duration": 15,
    "start_time": "2022-05-19T10:39:42.167Z"
   },
   {
    "duration": 17,
    "start_time": "2022-05-19T10:40:31.995Z"
   },
   {
    "duration": 8,
    "start_time": "2022-05-19T10:40:44.068Z"
   },
   {
    "duration": 15,
    "start_time": "2022-05-19T10:41:00.491Z"
   },
   {
    "duration": 14,
    "start_time": "2022-05-19T10:41:16.220Z"
   },
   {
    "duration": 13,
    "start_time": "2022-05-19T10:41:24.876Z"
   },
   {
    "duration": 12,
    "start_time": "2022-05-19T10:42:53.668Z"
   },
   {
    "duration": 29,
    "start_time": "2022-05-19T10:58:14.771Z"
   },
   {
    "duration": 33,
    "start_time": "2022-05-19T10:59:34.757Z"
   },
   {
    "duration": 56,
    "start_time": "2022-05-19T11:22:48.361Z"
   },
   {
    "duration": 30,
    "start_time": "2022-05-19T11:23:33.499Z"
   },
   {
    "duration": 58,
    "start_time": "2022-05-19T11:23:46.200Z"
   },
   {
    "duration": 10,
    "start_time": "2022-05-19T11:23:52.813Z"
   },
   {
    "duration": 29,
    "start_time": "2022-05-19T11:24:07.410Z"
   },
   {
    "duration": 5,
    "start_time": "2022-05-19T11:25:33.817Z"
   },
   {
    "duration": 24,
    "start_time": "2022-05-19T11:25:40.322Z"
   },
   {
    "duration": 6,
    "start_time": "2022-05-19T11:25:54.041Z"
   },
   {
    "duration": 6,
    "start_time": "2022-05-19T11:25:59.345Z"
   },
   {
    "duration": 11,
    "start_time": "2022-05-19T11:26:33.303Z"
   },
   {
    "duration": 14,
    "start_time": "2022-05-19T11:27:15.966Z"
   },
   {
    "duration": 19,
    "start_time": "2022-05-19T11:27:36.637Z"
   },
   {
    "duration": 11,
    "start_time": "2022-05-19T11:27:43.604Z"
   },
   {
    "duration": 8,
    "start_time": "2022-05-19T11:28:06.870Z"
   },
   {
    "duration": 6,
    "start_time": "2022-05-19T11:28:36.328Z"
   },
   {
    "duration": 7,
    "start_time": "2022-05-19T11:28:52.101Z"
   },
   {
    "duration": 372,
    "start_time": "2022-05-19T11:40:30.847Z"
   },
   {
    "duration": 40,
    "start_time": "2022-05-19T12:09:31.277Z"
   },
   {
    "duration": 432,
    "start_time": "2022-05-19T12:09:38.345Z"
   },
   {
    "duration": 3,
    "start_time": "2022-05-19T12:09:40.144Z"
   },
   {
    "duration": 181,
    "start_time": "2022-05-19T12:09:40.153Z"
   },
   {
    "duration": 22,
    "start_time": "2022-05-19T12:09:40.337Z"
   },
   {
    "duration": 10,
    "start_time": "2022-05-19T12:09:40.361Z"
   },
   {
    "duration": 19,
    "start_time": "2022-05-19T12:09:40.373Z"
   },
   {
    "duration": 4,
    "start_time": "2022-05-19T12:09:40.396Z"
   },
   {
    "duration": 45,
    "start_time": "2022-05-19T12:09:40.403Z"
   },
   {
    "duration": 11,
    "start_time": "2022-05-19T12:09:40.450Z"
   },
   {
    "duration": 670,
    "start_time": "2022-05-19T12:09:40.462Z"
   },
   {
    "duration": 17,
    "start_time": "2022-05-19T12:09:41.134Z"
   },
   {
    "duration": 97,
    "start_time": "2022-05-19T12:09:41.155Z"
   },
   {
    "duration": 34,
    "start_time": "2022-05-19T12:09:41.254Z"
   },
   {
    "duration": 118,
    "start_time": "2022-05-19T12:09:41.292Z"
   },
   {
    "duration": 4,
    "start_time": "2022-05-19T12:09:41.416Z"
   },
   {
    "duration": 49,
    "start_time": "2022-05-19T12:09:41.422Z"
   },
   {
    "duration": 28,
    "start_time": "2022-05-19T12:09:41.472Z"
   },
   {
    "duration": 28,
    "start_time": "2022-05-19T12:09:41.502Z"
   },
   {
    "duration": 31,
    "start_time": "2022-05-19T12:09:41.532Z"
   },
   {
    "duration": 34,
    "start_time": "2022-05-19T12:09:41.565Z"
   },
   {
    "duration": 39,
    "start_time": "2022-05-19T12:09:41.600Z"
   },
   {
    "duration": 77,
    "start_time": "2022-05-19T12:09:41.640Z"
   },
   {
    "duration": 25,
    "start_time": "2022-05-19T12:09:41.718Z"
   },
   {
    "duration": 6,
    "start_time": "2022-05-19T12:09:41.745Z"
   },
   {
    "duration": 40,
    "start_time": "2022-05-19T12:09:41.753Z"
   },
   {
    "duration": 37,
    "start_time": "2022-05-19T12:09:41.797Z"
   },
   {
    "duration": 38,
    "start_time": "2022-05-19T12:09:41.836Z"
   },
   {
    "duration": 48,
    "start_time": "2022-05-19T12:09:41.876Z"
   },
   {
    "duration": 395,
    "start_time": "2022-05-19T12:09:41.925Z"
   },
   {
    "duration": 37,
    "start_time": "2022-05-19T12:09:42.324Z"
   },
   {
    "duration": 551,
    "start_time": "2022-05-19T12:09:42.363Z"
   },
   {
    "duration": 14,
    "start_time": "2022-05-19T12:09:42.916Z"
   },
   {
    "duration": 12,
    "start_time": "2022-05-19T12:09:42.932Z"
   },
   {
    "duration": 13,
    "start_time": "2022-05-19T12:09:42.945Z"
   },
   {
    "duration": 31,
    "start_time": "2022-05-19T12:10:03.717Z"
   },
   {
    "duration": 6,
    "start_time": "2022-05-19T12:10:04.915Z"
   },
   {
    "duration": 197,
    "start_time": "2022-05-19T12:10:04.926Z"
   },
   {
    "duration": 23,
    "start_time": "2022-05-19T12:10:05.128Z"
   },
   {
    "duration": 11,
    "start_time": "2022-05-19T12:10:05.152Z"
   },
   {
    "duration": 49,
    "start_time": "2022-05-19T12:10:05.165Z"
   },
   {
    "duration": 38,
    "start_time": "2022-05-19T12:10:05.217Z"
   },
   {
    "duration": 89,
    "start_time": "2022-05-19T12:10:05.257Z"
   },
   {
    "duration": 13,
    "start_time": "2022-05-19T12:10:05.348Z"
   },
   {
    "duration": 782,
    "start_time": "2022-05-19T12:10:05.363Z"
   },
   {
    "duration": 12,
    "start_time": "2022-05-19T12:10:06.146Z"
   },
   {
    "duration": 95,
    "start_time": "2022-05-19T12:10:06.162Z"
   },
   {
    "duration": 21,
    "start_time": "2022-05-19T12:10:06.259Z"
   },
   {
    "duration": 157,
    "start_time": "2022-05-19T12:10:06.281Z"
   },
   {
    "duration": 2,
    "start_time": "2022-05-19T12:10:06.440Z"
   },
   {
    "duration": 60,
    "start_time": "2022-05-19T12:10:06.443Z"
   },
   {
    "duration": 16,
    "start_time": "2022-05-19T12:10:06.511Z"
   },
   {
    "duration": 25,
    "start_time": "2022-05-19T12:10:06.529Z"
   },
   {
    "duration": 60,
    "start_time": "2022-05-19T12:10:06.556Z"
   },
   {
    "duration": 15,
    "start_time": "2022-05-19T12:10:06.618Z"
   },
   {
    "duration": 27,
    "start_time": "2022-05-19T12:10:06.634Z"
   },
   {
    "duration": 57,
    "start_time": "2022-05-19T12:10:06.662Z"
   },
   {
    "duration": 25,
    "start_time": "2022-05-19T12:10:06.721Z"
   },
   {
    "duration": 12,
    "start_time": "2022-05-19T12:10:06.748Z"
   },
   {
    "duration": 64,
    "start_time": "2022-05-19T12:10:06.762Z"
   },
   {
    "duration": 27,
    "start_time": "2022-05-19T12:10:06.828Z"
   },
   {
    "duration": 34,
    "start_time": "2022-05-19T12:10:06.857Z"
   },
   {
    "duration": 42,
    "start_time": "2022-05-19T12:10:06.896Z"
   },
   {
    "duration": 425,
    "start_time": "2022-05-19T12:10:06.945Z"
   },
   {
    "duration": 50,
    "start_time": "2022-05-19T12:10:07.374Z"
   },
   {
    "duration": 390,
    "start_time": "2022-05-19T12:10:07.430Z"
   },
   {
    "duration": 11,
    "start_time": "2022-05-19T12:10:07.824Z"
   },
   {
    "duration": 28,
    "start_time": "2022-05-19T12:10:07.837Z"
   },
   {
    "duration": 29,
    "start_time": "2022-05-19T12:10:07.867Z"
   },
   {
    "duration": 12,
    "start_time": "2022-05-19T12:15:04.843Z"
   },
   {
    "duration": 8,
    "start_time": "2022-05-19T12:15:06.420Z"
   },
   {
    "duration": 178,
    "start_time": "2022-05-19T12:15:06.448Z"
   },
   {
    "duration": 24,
    "start_time": "2022-05-19T12:15:06.629Z"
   },
   {
    "duration": 16,
    "start_time": "2022-05-19T12:15:06.655Z"
   },
   {
    "duration": 39,
    "start_time": "2022-05-19T12:15:06.674Z"
   },
   {
    "duration": 2,
    "start_time": "2022-05-19T12:15:06.720Z"
   },
   {
    "duration": 67,
    "start_time": "2022-05-19T12:15:06.725Z"
   },
   {
    "duration": 22,
    "start_time": "2022-05-19T12:15:06.794Z"
   },
   {
    "duration": 750,
    "start_time": "2022-05-19T12:15:06.821Z"
   },
   {
    "duration": 24,
    "start_time": "2022-05-19T12:15:07.573Z"
   },
   {
    "duration": 102,
    "start_time": "2022-05-19T12:15:07.598Z"
   },
   {
    "duration": 47,
    "start_time": "2022-05-19T12:15:07.702Z"
   },
   {
    "duration": 130,
    "start_time": "2022-05-19T12:15:07.754Z"
   },
   {
    "duration": 8,
    "start_time": "2022-05-19T12:15:07.889Z"
   },
   {
    "duration": 24,
    "start_time": "2022-05-19T12:15:07.904Z"
   },
   {
    "duration": 16,
    "start_time": "2022-05-19T12:15:07.931Z"
   },
   {
    "duration": 13,
    "start_time": "2022-05-19T12:15:07.953Z"
   },
   {
    "duration": 16,
    "start_time": "2022-05-19T12:15:07.972Z"
   },
   {
    "duration": 15,
    "start_time": "2022-05-19T12:15:07.994Z"
   },
   {
    "duration": 23,
    "start_time": "2022-05-19T12:15:08.016Z"
   },
   {
    "duration": 40,
    "start_time": "2022-05-19T12:15:08.045Z"
   },
   {
    "duration": 40,
    "start_time": "2022-05-19T12:15:08.095Z"
   },
   {
    "duration": 11,
    "start_time": "2022-05-19T12:15:08.140Z"
   },
   {
    "duration": 58,
    "start_time": "2022-05-19T12:15:08.154Z"
   },
   {
    "duration": 43,
    "start_time": "2022-05-19T12:15:08.214Z"
   },
   {
    "duration": 52,
    "start_time": "2022-05-19T12:15:08.259Z"
   },
   {
    "duration": 39,
    "start_time": "2022-05-19T12:15:08.313Z"
   },
   {
    "duration": 500,
    "start_time": "2022-05-19T12:15:08.354Z"
   },
   {
    "duration": 46,
    "start_time": "2022-05-19T12:15:08.856Z"
   },
   {
    "duration": 436,
    "start_time": "2022-05-19T12:15:08.904Z"
   },
   {
    "duration": 10,
    "start_time": "2022-05-19T12:15:09.343Z"
   },
   {
    "duration": 32,
    "start_time": "2022-05-19T12:15:09.355Z"
   },
   {
    "duration": 8,
    "start_time": "2022-05-19T12:15:09.389Z"
   },
   {
    "duration": 11,
    "start_time": "2022-05-19T12:15:28.400Z"
   },
   {
    "duration": 6,
    "start_time": "2022-05-19T12:15:46.055Z"
   },
   {
    "duration": 9,
    "start_time": "2022-05-19T13:04:10.936Z"
   },
   {
    "duration": 32,
    "start_time": "2022-05-19T13:34:24.911Z"
   },
   {
    "duration": 34,
    "start_time": "2022-05-19T13:34:44.282Z"
   },
   {
    "duration": 5,
    "start_time": "2022-05-19T13:36:45.919Z"
   },
   {
    "duration": 9,
    "start_time": "2022-05-19T13:36:57.106Z"
   },
   {
    "duration": 15,
    "start_time": "2022-05-19T13:37:15.511Z"
   },
   {
    "duration": 18,
    "start_time": "2022-05-19T13:44:16.746Z"
   },
   {
    "duration": 29,
    "start_time": "2022-05-19T13:44:30.667Z"
   },
   {
    "duration": 12,
    "start_time": "2022-05-19T13:44:41.440Z"
   },
   {
    "duration": 3,
    "start_time": "2022-05-19T13:44:43.038Z"
   },
   {
    "duration": 164,
    "start_time": "2022-05-19T13:44:43.052Z"
   },
   {
    "duration": 24,
    "start_time": "2022-05-19T13:44:43.218Z"
   },
   {
    "duration": 21,
    "start_time": "2022-05-19T13:44:43.246Z"
   },
   {
    "duration": 30,
    "start_time": "2022-05-19T13:44:43.270Z"
   },
   {
    "duration": 4,
    "start_time": "2022-05-19T13:44:43.302Z"
   },
   {
    "duration": 28,
    "start_time": "2022-05-19T13:44:43.308Z"
   },
   {
    "duration": 14,
    "start_time": "2022-05-19T13:44:43.339Z"
   },
   {
    "duration": 535,
    "start_time": "2022-05-19T13:44:43.355Z"
   },
   {
    "duration": 14,
    "start_time": "2022-05-19T13:44:43.892Z"
   },
   {
    "duration": 90,
    "start_time": "2022-05-19T13:44:43.910Z"
   },
   {
    "duration": 23,
    "start_time": "2022-05-19T13:44:44.002Z"
   },
   {
    "duration": 101,
    "start_time": "2022-05-19T13:44:44.027Z"
   },
   {
    "duration": 2,
    "start_time": "2022-05-19T13:44:44.130Z"
   },
   {
    "duration": 19,
    "start_time": "2022-05-19T13:44:44.135Z"
   },
   {
    "duration": 7,
    "start_time": "2022-05-19T13:44:44.156Z"
   },
   {
    "duration": 25,
    "start_time": "2022-05-19T13:44:44.165Z"
   },
   {
    "duration": 12,
    "start_time": "2022-05-19T13:44:44.192Z"
   },
   {
    "duration": 8,
    "start_time": "2022-05-19T13:44:44.206Z"
   },
   {
    "duration": 9,
    "start_time": "2022-05-19T13:44:44.216Z"
   },
   {
    "duration": 18,
    "start_time": "2022-05-19T13:44:44.226Z"
   },
   {
    "duration": 58,
    "start_time": "2022-05-19T13:44:44.247Z"
   },
   {
    "duration": 9,
    "start_time": "2022-05-19T13:44:44.307Z"
   },
   {
    "duration": 35,
    "start_time": "2022-05-19T13:44:44.318Z"
   },
   {
    "duration": 52,
    "start_time": "2022-05-19T13:44:44.355Z"
   },
   {
    "duration": 41,
    "start_time": "2022-05-19T13:44:44.409Z"
   },
   {
    "duration": 40,
    "start_time": "2022-05-19T13:44:44.452Z"
   },
   {
    "duration": 393,
    "start_time": "2022-05-19T13:44:44.494Z"
   },
   {
    "duration": 24,
    "start_time": "2022-05-19T13:44:44.892Z"
   },
   {
    "duration": 477,
    "start_time": "2022-05-19T13:44:44.918Z"
   },
   {
    "duration": 8,
    "start_time": "2022-05-19T13:44:45.397Z"
   },
   {
    "duration": 10,
    "start_time": "2022-05-19T13:44:45.407Z"
   },
   {
    "duration": 5,
    "start_time": "2022-05-19T13:44:45.418Z"
   },
   {
    "duration": 28,
    "start_time": "2022-05-19T13:44:45.424Z"
   },
   {
    "duration": 37,
    "start_time": "2022-05-19T13:44:45.453Z"
   },
   {
    "duration": 16,
    "start_time": "2022-05-19T13:51:24.071Z"
   },
   {
    "duration": 35,
    "start_time": "2022-05-19T13:52:09.364Z"
   },
   {
    "duration": 2,
    "start_time": "2022-05-19T18:37:10.405Z"
   },
   {
    "duration": 4,
    "start_time": "2022-05-19T18:40:40.827Z"
   },
   {
    "duration": 10,
    "start_time": "2022-05-19T18:40:45.408Z"
   },
   {
    "duration": 8,
    "start_time": "2022-05-19T18:41:08.942Z"
   },
   {
    "duration": 4,
    "start_time": "2022-05-19T18:41:15.887Z"
   },
   {
    "duration": 122,
    "start_time": "2022-05-19T18:41:15.893Z"
   },
   {
    "duration": 23,
    "start_time": "2022-05-19T18:41:16.016Z"
   },
   {
    "duration": 15,
    "start_time": "2022-05-19T18:41:16.041Z"
   },
   {
    "duration": 22,
    "start_time": "2022-05-19T18:41:16.057Z"
   },
   {
    "duration": 17,
    "start_time": "2022-05-19T18:41:16.081Z"
   },
   {
    "duration": 34,
    "start_time": "2022-05-19T18:41:16.100Z"
   },
   {
    "duration": 13,
    "start_time": "2022-05-19T18:41:16.136Z"
   },
   {
    "duration": 474,
    "start_time": "2022-05-19T18:41:16.152Z"
   },
   {
    "duration": 13,
    "start_time": "2022-05-19T18:41:16.629Z"
   },
   {
    "duration": 49,
    "start_time": "2022-05-19T18:41:16.643Z"
   },
   {
    "duration": 39,
    "start_time": "2022-05-19T18:41:16.694Z"
   },
   {
    "duration": 91,
    "start_time": "2022-05-19T18:41:16.735Z"
   },
   {
    "duration": 3,
    "start_time": "2022-05-19T18:41:16.828Z"
   },
   {
    "duration": 43,
    "start_time": "2022-05-19T18:41:16.833Z"
   },
   {
    "duration": 7,
    "start_time": "2022-05-19T18:41:16.878Z"
   },
   {
    "duration": 26,
    "start_time": "2022-05-19T18:41:16.887Z"
   },
   {
    "duration": 12,
    "start_time": "2022-05-19T18:41:16.914Z"
   },
   {
    "duration": 16,
    "start_time": "2022-05-19T18:41:16.927Z"
   },
   {
    "duration": 17,
    "start_time": "2022-05-19T18:41:16.945Z"
   },
   {
    "duration": 21,
    "start_time": "2022-05-19T18:41:16.964Z"
   },
   {
    "duration": 14,
    "start_time": "2022-05-19T18:41:16.986Z"
   },
   {
    "duration": 11,
    "start_time": "2022-05-19T18:41:17.002Z"
   },
   {
    "duration": 41,
    "start_time": "2022-05-19T18:41:17.026Z"
   },
   {
    "duration": 20,
    "start_time": "2022-05-19T18:41:17.069Z"
   },
   {
    "duration": 42,
    "start_time": "2022-05-19T18:41:17.091Z"
   },
   {
    "duration": 18,
    "start_time": "2022-05-19T18:41:17.135Z"
   },
   {
    "duration": 360,
    "start_time": "2022-05-19T18:41:17.157Z"
   },
   {
    "duration": 29,
    "start_time": "2022-05-19T18:41:17.518Z"
   },
   {
    "duration": 326,
    "start_time": "2022-05-19T18:41:17.550Z"
   },
   {
    "duration": 9,
    "start_time": "2022-05-19T18:41:17.878Z"
   },
   {
    "duration": 19,
    "start_time": "2022-05-19T18:41:17.889Z"
   },
   {
    "duration": 19,
    "start_time": "2022-05-19T18:41:17.910Z"
   },
   {
    "duration": 33,
    "start_time": "2022-05-19T18:41:17.930Z"
   },
   {
    "duration": 8,
    "start_time": "2022-05-19T18:41:17.965Z"
   },
   {
    "duration": 23,
    "start_time": "2022-05-19T18:47:34.606Z"
   },
   {
    "duration": 13,
    "start_time": "2022-05-19T18:48:31.965Z"
   },
   {
    "duration": 12,
    "start_time": "2022-05-19T18:48:43.670Z"
   },
   {
    "duration": 10,
    "start_time": "2022-05-19T18:48:52.464Z"
   },
   {
    "duration": 39,
    "start_time": "2022-05-19T18:49:10.182Z"
   },
   {
    "duration": 10,
    "start_time": "2022-05-19T18:49:15.599Z"
   },
   {
    "duration": 31,
    "start_time": "2022-05-19T18:49:58.613Z"
   },
   {
    "duration": 14,
    "start_time": "2022-05-19T18:51:18.246Z"
   },
   {
    "duration": 18,
    "start_time": "2022-05-19T18:53:47.750Z"
   },
   {
    "duration": 162,
    "start_time": "2022-05-19T18:55:02.554Z"
   },
   {
    "duration": 16,
    "start_time": "2022-05-19T18:55:20.481Z"
   },
   {
    "duration": 12,
    "start_time": "2022-05-19T18:55:47.548Z"
   },
   {
    "duration": 16,
    "start_time": "2022-05-19T18:55:56.724Z"
   },
   {
    "duration": 19,
    "start_time": "2022-05-19T18:56:47.653Z"
   },
   {
    "duration": 23,
    "start_time": "2022-05-19T18:57:37.167Z"
   },
   {
    "duration": 354,
    "start_time": "2022-05-19T18:58:26.346Z"
   },
   {
    "duration": 4,
    "start_time": "2022-05-19T18:58:28.018Z"
   },
   {
    "duration": 155,
    "start_time": "2022-05-19T18:58:28.024Z"
   },
   {
    "duration": 19,
    "start_time": "2022-05-19T18:58:28.181Z"
   },
   {
    "duration": 12,
    "start_time": "2022-05-19T18:58:28.202Z"
   },
   {
    "duration": 27,
    "start_time": "2022-05-19T18:58:28.216Z"
   },
   {
    "duration": 12,
    "start_time": "2022-05-19T18:58:28.246Z"
   },
   {
    "duration": 30,
    "start_time": "2022-05-19T18:58:28.260Z"
   },
   {
    "duration": 12,
    "start_time": "2022-05-19T18:58:28.292Z"
   },
   {
    "duration": 497,
    "start_time": "2022-05-19T18:58:28.307Z"
   },
   {
    "duration": 27,
    "start_time": "2022-05-19T18:58:28.807Z"
   },
   {
    "duration": 61,
    "start_time": "2022-05-19T18:58:28.839Z"
   },
   {
    "duration": 35,
    "start_time": "2022-05-19T18:58:28.902Z"
   },
   {
    "duration": 79,
    "start_time": "2022-05-19T18:58:28.943Z"
   },
   {
    "duration": 15,
    "start_time": "2022-05-19T18:58:29.027Z"
   },
   {
    "duration": 15,
    "start_time": "2022-05-19T18:58:29.047Z"
   },
   {
    "duration": 6,
    "start_time": "2022-05-19T18:58:29.064Z"
   },
   {
    "duration": 9,
    "start_time": "2022-05-19T18:58:29.073Z"
   },
   {
    "duration": 13,
    "start_time": "2022-05-19T18:58:29.083Z"
   },
   {
    "duration": 12,
    "start_time": "2022-05-19T18:58:29.098Z"
   },
   {
    "duration": 9,
    "start_time": "2022-05-19T18:58:29.132Z"
   },
   {
    "duration": 26,
    "start_time": "2022-05-19T18:58:29.143Z"
   },
   {
    "duration": 13,
    "start_time": "2022-05-19T18:58:29.170Z"
   },
   {
    "duration": 6,
    "start_time": "2022-05-19T18:58:29.185Z"
   },
   {
    "duration": 58,
    "start_time": "2022-05-19T18:58:29.194Z"
   },
   {
    "duration": 21,
    "start_time": "2022-05-19T18:58:29.254Z"
   },
   {
    "duration": 31,
    "start_time": "2022-05-19T18:58:29.276Z"
   },
   {
    "duration": 44,
    "start_time": "2022-05-19T18:58:29.309Z"
   },
   {
    "duration": 497,
    "start_time": "2022-05-19T18:58:29.357Z"
   },
   {
    "duration": 23,
    "start_time": "2022-05-19T18:58:29.855Z"
   },
   {
    "duration": 359,
    "start_time": "2022-05-19T18:58:29.881Z"
   },
   {
    "duration": 10,
    "start_time": "2022-05-19T18:58:30.246Z"
   },
   {
    "duration": 27,
    "start_time": "2022-05-19T18:58:30.258Z"
   },
   {
    "duration": 16,
    "start_time": "2022-05-19T18:58:30.288Z"
   },
   {
    "duration": 70,
    "start_time": "2022-05-19T18:58:30.306Z"
   },
   {
    "duration": 13,
    "start_time": "2022-05-19T18:58:30.379Z"
   },
   {
    "duration": 33,
    "start_time": "2022-05-19T18:58:30.394Z"
   },
   {
    "duration": 29,
    "start_time": "2022-05-19T18:58:30.429Z"
   },
   {
    "duration": 48,
    "start_time": "2022-05-19T18:59:22.714Z"
   },
   {
    "duration": 31,
    "start_time": "2022-05-19T18:59:28.706Z"
   },
   {
    "duration": 26,
    "start_time": "2022-05-19T19:00:55.353Z"
   },
   {
    "duration": 30,
    "start_time": "2022-05-19T19:00:56.414Z"
   },
   {
    "duration": 4,
    "start_time": "2022-05-19T19:01:02.303Z"
   },
   {
    "duration": 143,
    "start_time": "2022-05-19T19:01:02.309Z"
   },
   {
    "duration": 22,
    "start_time": "2022-05-19T19:01:02.455Z"
   },
   {
    "duration": 14,
    "start_time": "2022-05-19T19:01:02.480Z"
   },
   {
    "duration": 26,
    "start_time": "2022-05-19T19:01:02.496Z"
   },
   {
    "duration": 54,
    "start_time": "2022-05-19T19:01:02.524Z"
   },
   {
    "duration": 44,
    "start_time": "2022-05-19T19:01:02.579Z"
   },
   {
    "duration": 17,
    "start_time": "2022-05-19T19:01:02.625Z"
   },
   {
    "duration": 541,
    "start_time": "2022-05-19T19:01:02.648Z"
   },
   {
    "duration": 14,
    "start_time": "2022-05-19T19:01:03.193Z"
   },
   {
    "duration": 69,
    "start_time": "2022-05-19T19:01:03.208Z"
   },
   {
    "duration": 23,
    "start_time": "2022-05-19T19:01:03.279Z"
   },
   {
    "duration": 108,
    "start_time": "2022-05-19T19:01:03.304Z"
   },
   {
    "duration": 17,
    "start_time": "2022-05-19T19:01:03.414Z"
   },
   {
    "duration": 22,
    "start_time": "2022-05-19T19:01:03.438Z"
   },
   {
    "duration": 9,
    "start_time": "2022-05-19T19:01:03.462Z"
   },
   {
    "duration": 20,
    "start_time": "2022-05-19T19:01:03.473Z"
   },
   {
    "duration": 19,
    "start_time": "2022-05-19T19:01:03.495Z"
   },
   {
    "duration": 26,
    "start_time": "2022-05-19T19:01:03.515Z"
   },
   {
    "duration": 24,
    "start_time": "2022-05-19T19:01:03.546Z"
   },
   {
    "duration": 35,
    "start_time": "2022-05-19T19:01:03.573Z"
   },
   {
    "duration": 14,
    "start_time": "2022-05-19T19:01:03.610Z"
   },
   {
    "duration": 21,
    "start_time": "2022-05-19T19:01:03.628Z"
   },
   {
    "duration": 56,
    "start_time": "2022-05-19T19:01:03.650Z"
   },
   {
    "duration": 30,
    "start_time": "2022-05-19T19:01:03.708Z"
   },
   {
    "duration": 45,
    "start_time": "2022-05-19T19:01:03.740Z"
   },
   {
    "duration": 27,
    "start_time": "2022-05-19T19:01:03.787Z"
   },
   {
    "duration": 367,
    "start_time": "2022-05-19T19:01:03.819Z"
   },
   {
    "duration": 25,
    "start_time": "2022-05-19T19:01:04.188Z"
   },
   {
    "duration": 457,
    "start_time": "2022-05-19T19:01:04.215Z"
   },
   {
    "duration": 15,
    "start_time": "2022-05-19T19:01:04.674Z"
   },
   {
    "duration": 34,
    "start_time": "2022-05-19T19:01:04.692Z"
   },
   {
    "duration": 10,
    "start_time": "2022-05-19T19:01:04.731Z"
   },
   {
    "duration": 53,
    "start_time": "2022-05-19T19:01:04.743Z"
   },
   {
    "duration": 10,
    "start_time": "2022-05-19T19:01:04.798Z"
   },
   {
    "duration": 41,
    "start_time": "2022-05-19T19:01:04.810Z"
   },
   {
    "duration": 20,
    "start_time": "2022-05-19T19:01:04.854Z"
   },
   {
    "duration": 27,
    "start_time": "2022-05-19T19:01:57.509Z"
   },
   {
    "duration": 19,
    "start_time": "2022-05-19T19:12:16.986Z"
   },
   {
    "duration": 17,
    "start_time": "2022-05-19T19:12:58.196Z"
   },
   {
    "duration": 24,
    "start_time": "2022-05-19T19:13:03.553Z"
   },
   {
    "duration": 20,
    "start_time": "2022-05-19T19:13:05.559Z"
   },
   {
    "duration": 15,
    "start_time": "2022-05-19T19:13:28.286Z"
   },
   {
    "duration": 26,
    "start_time": "2022-05-19T19:14:55.063Z"
   },
   {
    "duration": 35,
    "start_time": "2022-05-19T19:15:34.448Z"
   },
   {
    "duration": 48,
    "start_time": "2022-05-19T19:16:50.202Z"
   },
   {
    "duration": 52,
    "start_time": "2022-05-19T19:17:01.818Z"
   },
   {
    "duration": 18,
    "start_time": "2022-05-19T19:17:28.270Z"
   },
   {
    "duration": 16,
    "start_time": "2022-05-19T19:17:37.486Z"
   },
   {
    "duration": 17,
    "start_time": "2022-05-19T19:18:07.685Z"
   },
   {
    "duration": 17,
    "start_time": "2022-05-19T19:18:14.057Z"
   },
   {
    "duration": 17,
    "start_time": "2022-05-19T19:18:16.174Z"
   },
   {
    "duration": 386,
    "start_time": "2022-05-19T19:18:21.862Z"
   },
   {
    "duration": 31,
    "start_time": "2022-05-19T19:19:41.507Z"
   },
   {
    "duration": 452,
    "start_time": "2022-05-19T19:19:45.043Z"
   },
   {
    "duration": 4,
    "start_time": "2022-05-19T19:19:46.316Z"
   },
   {
    "duration": 150,
    "start_time": "2022-05-19T19:19:46.322Z"
   },
   {
    "duration": 20,
    "start_time": "2022-05-19T19:19:46.474Z"
   },
   {
    "duration": 16,
    "start_time": "2022-05-19T19:19:46.497Z"
   },
   {
    "duration": 23,
    "start_time": "2022-05-19T19:19:46.516Z"
   },
   {
    "duration": 13,
    "start_time": "2022-05-19T19:19:46.542Z"
   },
   {
    "duration": 39,
    "start_time": "2022-05-19T19:19:46.557Z"
   },
   {
    "duration": 11,
    "start_time": "2022-05-19T19:19:46.598Z"
   },
   {
    "duration": 509,
    "start_time": "2022-05-19T19:19:46.611Z"
   },
   {
    "duration": 20,
    "start_time": "2022-05-19T19:19:47.131Z"
   },
   {
    "duration": 60,
    "start_time": "2022-05-19T19:19:47.153Z"
   },
   {
    "duration": 23,
    "start_time": "2022-05-19T19:19:47.215Z"
   },
   {
    "duration": 86,
    "start_time": "2022-05-19T19:19:47.239Z"
   },
   {
    "duration": 8,
    "start_time": "2022-05-19T19:19:47.330Z"
   },
   {
    "duration": 48,
    "start_time": "2022-05-19T19:19:47.344Z"
   },
   {
    "duration": 7,
    "start_time": "2022-05-19T19:19:47.398Z"
   },
   {
    "duration": 9,
    "start_time": "2022-05-19T19:19:47.407Z"
   },
   {
    "duration": 22,
    "start_time": "2022-05-19T19:19:47.418Z"
   },
   {
    "duration": 13,
    "start_time": "2022-05-19T19:19:47.445Z"
   },
   {
    "duration": 11,
    "start_time": "2022-05-19T19:19:47.460Z"
   },
   {
    "duration": 20,
    "start_time": "2022-05-19T19:19:47.473Z"
   },
   {
    "duration": 13,
    "start_time": "2022-05-19T19:19:47.495Z"
   },
   {
    "duration": 18,
    "start_time": "2022-05-19T19:19:47.509Z"
   },
   {
    "duration": 50,
    "start_time": "2022-05-19T19:19:47.528Z"
   },
   {
    "duration": 36,
    "start_time": "2022-05-19T19:19:47.580Z"
   },
   {
    "duration": 56,
    "start_time": "2022-05-19T19:19:47.619Z"
   },
   {
    "duration": 18,
    "start_time": "2022-05-19T19:19:47.677Z"
   },
   {
    "duration": 399,
    "start_time": "2022-05-19T19:19:47.699Z"
   },
   {
    "duration": 44,
    "start_time": "2022-05-19T19:19:48.100Z"
   },
   {
    "duration": 365,
    "start_time": "2022-05-19T19:19:48.147Z"
   },
   {
    "duration": 13,
    "start_time": "2022-05-19T19:19:48.514Z"
   },
   {
    "duration": 33,
    "start_time": "2022-05-19T19:19:48.528Z"
   },
   {
    "duration": 8,
    "start_time": "2022-05-19T19:19:48.563Z"
   },
   {
    "duration": 33,
    "start_time": "2022-05-19T19:19:48.573Z"
   },
   {
    "duration": 36,
    "start_time": "2022-05-19T19:19:48.608Z"
   },
   {
    "duration": 21,
    "start_time": "2022-05-19T19:19:48.648Z"
   },
   {
    "duration": 15,
    "start_time": "2022-05-19T19:19:48.671Z"
   },
   {
    "duration": 365,
    "start_time": "2022-05-19T19:19:48.688Z"
   },
   {
    "duration": 41,
    "start_time": "2022-05-19T19:40:17.896Z"
   },
   {
    "duration": 310,
    "start_time": "2022-05-19T19:40:28.975Z"
   },
   {
    "duration": 49,
    "start_time": "2022-05-19T20:03:39.462Z"
   },
   {
    "duration": 12,
    "start_time": "2022-05-19T20:11:25.757Z"
   },
   {
    "duration": 21,
    "start_time": "2022-05-19T20:11:31.461Z"
   },
   {
    "duration": 38,
    "start_time": "2022-05-19T20:11:47.109Z"
   },
   {
    "duration": 37,
    "start_time": "2022-05-19T20:12:21.942Z"
   },
   {
    "duration": 23,
    "start_time": "2022-05-19T20:12:28.490Z"
   },
   {
    "duration": 10,
    "start_time": "2022-05-19T20:13:07.741Z"
   },
   {
    "duration": 4,
    "start_time": "2022-05-19T20:13:25.828Z"
   },
   {
    "duration": 126,
    "start_time": "2022-05-19T20:13:25.834Z"
   },
   {
    "duration": 16,
    "start_time": "2022-05-19T20:13:25.962Z"
   },
   {
    "duration": 10,
    "start_time": "2022-05-19T20:13:25.979Z"
   },
   {
    "duration": 14,
    "start_time": "2022-05-19T20:13:25.991Z"
   },
   {
    "duration": 19,
    "start_time": "2022-05-19T20:13:26.007Z"
   },
   {
    "duration": 33,
    "start_time": "2022-05-19T20:13:26.028Z"
   },
   {
    "duration": 10,
    "start_time": "2022-05-19T20:13:26.063Z"
   },
   {
    "duration": 460,
    "start_time": "2022-05-19T20:13:26.075Z"
   },
   {
    "duration": 12,
    "start_time": "2022-05-19T20:13:26.537Z"
   },
   {
    "duration": 60,
    "start_time": "2022-05-19T20:13:26.552Z"
   },
   {
    "duration": 20,
    "start_time": "2022-05-19T20:13:26.626Z"
   },
   {
    "duration": 118,
    "start_time": "2022-05-19T20:13:26.648Z"
   },
   {
    "duration": 2,
    "start_time": "2022-05-19T20:13:26.768Z"
   },
   {
    "duration": 15,
    "start_time": "2022-05-19T20:13:26.772Z"
   },
   {
    "duration": 6,
    "start_time": "2022-05-19T20:13:26.789Z"
   },
   {
    "duration": 30,
    "start_time": "2022-05-19T20:13:26.796Z"
   },
   {
    "duration": 10,
    "start_time": "2022-05-19T20:13:26.828Z"
   },
   {
    "duration": 11,
    "start_time": "2022-05-19T20:13:26.840Z"
   },
   {
    "duration": 9,
    "start_time": "2022-05-19T20:13:26.852Z"
   },
   {
    "duration": 21,
    "start_time": "2022-05-19T20:13:26.862Z"
   },
   {
    "duration": 13,
    "start_time": "2022-05-19T20:13:26.885Z"
   },
   {
    "duration": 7,
    "start_time": "2022-05-19T20:13:26.927Z"
   },
   {
    "duration": 33,
    "start_time": "2022-05-19T20:13:26.935Z"
   },
   {
    "duration": 21,
    "start_time": "2022-05-19T20:13:26.970Z"
   },
   {
    "duration": 58,
    "start_time": "2022-05-19T20:13:26.993Z"
   },
   {
    "duration": 17,
    "start_time": "2022-05-19T20:13:27.053Z"
   },
   {
    "duration": 347,
    "start_time": "2022-05-19T20:13:27.072Z"
   },
   {
    "duration": 23,
    "start_time": "2022-05-19T20:13:27.428Z"
   },
   {
    "duration": 459,
    "start_time": "2022-05-19T20:13:27.453Z"
   },
   {
    "duration": 14,
    "start_time": "2022-05-19T20:13:27.914Z"
   },
   {
    "duration": 12,
    "start_time": "2022-05-19T20:13:27.929Z"
   },
   {
    "duration": 7,
    "start_time": "2022-05-19T20:13:27.942Z"
   },
   {
    "duration": 25,
    "start_time": "2022-05-19T20:13:27.950Z"
   },
   {
    "duration": 9,
    "start_time": "2022-05-19T20:13:27.977Z"
   },
   {
    "duration": 44,
    "start_time": "2022-05-19T20:13:27.988Z"
   },
   {
    "duration": 15,
    "start_time": "2022-05-19T20:13:28.034Z"
   },
   {
    "duration": 324,
    "start_time": "2022-05-19T20:13:28.051Z"
   },
   {
    "duration": 24,
    "start_time": "2022-05-19T20:13:28.376Z"
   },
   {
    "duration": 25,
    "start_time": "2022-05-19T20:13:28.402Z"
   },
   {
    "duration": 9,
    "start_time": "2022-05-19T20:13:59.257Z"
   },
   {
    "duration": 23,
    "start_time": "2022-05-19T20:15:17.708Z"
   },
   {
    "duration": 6,
    "start_time": "2022-05-19T20:15:37.198Z"
   },
   {
    "duration": 7,
    "start_time": "2022-05-19T20:15:51.163Z"
   },
   {
    "duration": 34,
    "start_time": "2022-05-19T20:16:56.650Z"
   },
   {
    "duration": 9,
    "start_time": "2022-05-19T20:17:13.813Z"
   },
   {
    "duration": 10,
    "start_time": "2022-05-19T20:17:53.826Z"
   },
   {
    "duration": 56,
    "start_time": "2022-05-20T14:46:46.486Z"
   },
   {
    "duration": 1928,
    "start_time": "2022-05-20T14:47:08.206Z"
   },
   {
    "duration": 218,
    "start_time": "2022-05-20T14:47:10.137Z"
   },
   {
    "duration": 55,
    "start_time": "2022-05-20T14:47:10.356Z"
   },
   {
    "duration": 10,
    "start_time": "2022-05-20T14:47:10.413Z"
   },
   {
    "duration": 13,
    "start_time": "2022-05-20T14:47:10.425Z"
   },
   {
    "duration": 11,
    "start_time": "2022-05-20T14:47:10.440Z"
   },
   {
    "duration": 54,
    "start_time": "2022-05-20T14:47:10.455Z"
   },
   {
    "duration": 28,
    "start_time": "2022-05-20T14:47:10.511Z"
   },
   {
    "duration": 582,
    "start_time": "2022-05-20T14:47:10.541Z"
   },
   {
    "duration": 12,
    "start_time": "2022-05-20T14:47:11.125Z"
   },
   {
    "duration": 94,
    "start_time": "2022-05-20T14:47:11.139Z"
   },
   {
    "duration": 17,
    "start_time": "2022-05-20T14:47:11.234Z"
   },
   {
    "duration": 114,
    "start_time": "2022-05-20T14:47:11.257Z"
   },
   {
    "duration": 6,
    "start_time": "2022-05-20T14:47:11.372Z"
   },
   {
    "duration": 23,
    "start_time": "2022-05-20T14:47:11.380Z"
   },
   {
    "duration": 12,
    "start_time": "2022-05-20T14:47:11.405Z"
   },
   {
    "duration": 14,
    "start_time": "2022-05-20T14:47:11.419Z"
   },
   {
    "duration": 61,
    "start_time": "2022-05-20T14:47:11.435Z"
   },
   {
    "duration": 19,
    "start_time": "2022-05-20T14:47:11.497Z"
   },
   {
    "duration": 20,
    "start_time": "2022-05-20T14:47:11.518Z"
   },
   {
    "duration": 68,
    "start_time": "2022-05-20T14:47:11.540Z"
   },
   {
    "duration": 14,
    "start_time": "2022-05-20T14:47:11.609Z"
   },
   {
    "duration": 7,
    "start_time": "2022-05-20T14:47:11.625Z"
   },
   {
    "duration": 51,
    "start_time": "2022-05-20T14:47:11.634Z"
   },
   {
    "duration": 32,
    "start_time": "2022-05-20T14:47:11.687Z"
   },
   {
    "duration": 56,
    "start_time": "2022-05-20T14:47:11.721Z"
   },
   {
    "duration": 19,
    "start_time": "2022-05-20T14:47:11.779Z"
   },
   {
    "duration": 459,
    "start_time": "2022-05-20T14:47:11.802Z"
   },
   {
    "duration": 29,
    "start_time": "2022-05-20T14:47:12.263Z"
   },
   {
    "duration": 396,
    "start_time": "2022-05-20T14:47:12.294Z"
   },
   {
    "duration": 13,
    "start_time": "2022-05-20T14:47:12.694Z"
   },
   {
    "duration": 24,
    "start_time": "2022-05-20T14:47:12.709Z"
   },
   {
    "duration": 15,
    "start_time": "2022-05-20T14:47:12.735Z"
   },
   {
    "duration": 66,
    "start_time": "2022-05-20T14:47:12.752Z"
   },
   {
    "duration": 10,
    "start_time": "2022-05-20T14:47:12.820Z"
   },
   {
    "duration": 32,
    "start_time": "2022-05-20T14:47:12.832Z"
   },
   {
    "duration": 37,
    "start_time": "2022-05-20T14:47:12.866Z"
   },
   {
    "duration": 345,
    "start_time": "2022-05-20T14:47:12.904Z"
   },
   {
    "duration": 33,
    "start_time": "2022-05-20T14:47:13.251Z"
   },
   {
    "duration": 18,
    "start_time": "2022-05-20T14:47:13.286Z"
   },
   {
    "duration": 32,
    "start_time": "2022-05-20T14:47:13.306Z"
   },
   {
    "duration": 5,
    "start_time": "2022-05-20T14:47:13.339Z"
   },
   {
    "duration": 205,
    "start_time": "2022-05-20T14:47:13.346Z"
   },
   {
    "duration": 0,
    "start_time": "2022-05-20T14:47:13.553Z"
   },
   {
    "duration": 0,
    "start_time": "2022-05-20T14:47:13.554Z"
   },
   {
    "duration": 67,
    "start_time": "2022-05-20T14:47:35.579Z"
   },
   {
    "duration": 145,
    "start_time": "2022-05-20T14:48:05.176Z"
   },
   {
    "duration": 155,
    "start_time": "2022-05-20T14:49:26.137Z"
   },
   {
    "duration": 11,
    "start_time": "2022-05-20T14:49:41.336Z"
   },
   {
    "duration": 8,
    "start_time": "2022-05-20T14:49:56.497Z"
   },
   {
    "duration": 11,
    "start_time": "2022-05-20T14:49:59.596Z"
   },
   {
    "duration": 24,
    "start_time": "2022-05-20T14:50:11.337Z"
   },
   {
    "duration": 119,
    "start_time": "2022-05-20T14:50:33.102Z"
   },
   {
    "duration": 9,
    "start_time": "2022-05-20T14:50:52.797Z"
   },
   {
    "duration": 1225,
    "start_time": "2022-05-20T14:51:03.383Z"
   },
   {
    "duration": 116,
    "start_time": "2022-05-20T14:51:04.610Z"
   },
   {
    "duration": 17,
    "start_time": "2022-05-20T14:51:04.728Z"
   },
   {
    "duration": 15,
    "start_time": "2022-05-20T14:51:04.747Z"
   },
   {
    "duration": 25,
    "start_time": "2022-05-20T14:51:04.764Z"
   },
   {
    "duration": 7,
    "start_time": "2022-05-20T14:51:04.791Z"
   },
   {
    "duration": 29,
    "start_time": "2022-05-20T14:51:04.799Z"
   },
   {
    "duration": 11,
    "start_time": "2022-05-20T14:51:04.830Z"
   },
   {
    "duration": 598,
    "start_time": "2022-05-20T14:51:04.843Z"
   },
   {
    "duration": 20,
    "start_time": "2022-05-20T14:51:05.443Z"
   },
   {
    "duration": 59,
    "start_time": "2022-05-20T14:51:05.465Z"
   },
   {
    "duration": 43,
    "start_time": "2022-05-20T14:51:05.526Z"
   },
   {
    "duration": 77,
    "start_time": "2022-05-20T14:51:05.570Z"
   },
   {
    "duration": 3,
    "start_time": "2022-05-20T14:51:05.649Z"
   },
   {
    "duration": 18,
    "start_time": "2022-05-20T14:51:05.654Z"
   },
   {
    "duration": 7,
    "start_time": "2022-05-20T14:51:05.676Z"
   },
   {
    "duration": 6,
    "start_time": "2022-05-20T14:51:05.684Z"
   },
   {
    "duration": 14,
    "start_time": "2022-05-20T14:51:05.692Z"
   },
   {
    "duration": 7,
    "start_time": "2022-05-20T14:51:05.708Z"
   },
   {
    "duration": 9,
    "start_time": "2022-05-20T14:51:05.717Z"
   },
   {
    "duration": 21,
    "start_time": "2022-05-20T14:51:05.752Z"
   },
   {
    "duration": 13,
    "start_time": "2022-05-20T14:51:05.774Z"
   },
   {
    "duration": 4,
    "start_time": "2022-05-20T14:51:05.788Z"
   },
   {
    "duration": 33,
    "start_time": "2022-05-20T14:51:05.794Z"
   },
   {
    "duration": 50,
    "start_time": "2022-05-20T14:51:05.828Z"
   },
   {
    "duration": 36,
    "start_time": "2022-05-20T14:51:05.879Z"
   },
   {
    "duration": 36,
    "start_time": "2022-05-20T14:51:05.917Z"
   },
   {
    "duration": 448,
    "start_time": "2022-05-20T14:51:05.958Z"
   },
   {
    "duration": 23,
    "start_time": "2022-05-20T14:51:06.408Z"
   },
   {
    "duration": 372,
    "start_time": "2022-05-20T14:51:06.433Z"
   },
   {
    "duration": 9,
    "start_time": "2022-05-20T14:51:06.806Z"
   },
   {
    "duration": 10,
    "start_time": "2022-05-20T14:51:06.816Z"
   },
   {
    "duration": 27,
    "start_time": "2022-05-20T14:51:06.828Z"
   },
   {
    "duration": 38,
    "start_time": "2022-05-20T14:51:06.857Z"
   },
   {
    "duration": 10,
    "start_time": "2022-05-20T14:51:06.897Z"
   },
   {
    "duration": 15,
    "start_time": "2022-05-20T14:51:06.910Z"
   },
   {
    "duration": 41,
    "start_time": "2022-05-20T14:51:06.926Z"
   },
   {
    "duration": 339,
    "start_time": "2022-05-20T14:51:06.968Z"
   },
   {
    "duration": 24,
    "start_time": "2022-05-20T14:51:07.309Z"
   },
   {
    "duration": 21,
    "start_time": "2022-05-20T14:51:07.335Z"
   },
   {
    "duration": 29,
    "start_time": "2022-05-20T14:51:07.358Z"
   },
   {
    "duration": 8,
    "start_time": "2022-05-20T14:51:07.388Z"
   },
   {
    "duration": 133,
    "start_time": "2022-05-20T14:51:07.397Z"
   },
   {
    "duration": 21,
    "start_time": "2022-05-20T14:51:07.532Z"
   },
   {
    "duration": 0,
    "start_time": "2022-05-20T14:51:07.554Z"
   },
   {
    "duration": 8,
    "start_time": "2022-05-20T14:51:25.164Z"
   },
   {
    "duration": 3,
    "start_time": "2022-05-20T14:51:26.965Z"
   },
   {
    "duration": 120,
    "start_time": "2022-05-20T14:51:26.970Z"
   },
   {
    "duration": 17,
    "start_time": "2022-05-20T14:51:27.092Z"
   },
   {
    "duration": 11,
    "start_time": "2022-05-20T14:51:27.111Z"
   },
   {
    "duration": 30,
    "start_time": "2022-05-20T14:51:27.124Z"
   },
   {
    "duration": 6,
    "start_time": "2022-05-20T14:51:27.156Z"
   },
   {
    "duration": 31,
    "start_time": "2022-05-20T14:51:27.163Z"
   },
   {
    "duration": 10,
    "start_time": "2022-05-20T14:51:27.196Z"
   },
   {
    "duration": 507,
    "start_time": "2022-05-20T14:51:27.208Z"
   },
   {
    "duration": 13,
    "start_time": "2022-05-20T14:51:27.716Z"
   },
   {
    "duration": 70,
    "start_time": "2022-05-20T14:51:27.730Z"
   },
   {
    "duration": 16,
    "start_time": "2022-05-20T14:51:27.802Z"
   },
   {
    "duration": 101,
    "start_time": "2022-05-20T14:51:27.820Z"
   },
   {
    "duration": 2,
    "start_time": "2022-05-20T14:51:27.923Z"
   },
   {
    "duration": 17,
    "start_time": "2022-05-20T14:51:27.926Z"
   },
   {
    "duration": 12,
    "start_time": "2022-05-20T14:51:27.944Z"
   },
   {
    "duration": 23,
    "start_time": "2022-05-20T14:51:27.958Z"
   },
   {
    "duration": 12,
    "start_time": "2022-05-20T14:51:27.983Z"
   },
   {
    "duration": 9,
    "start_time": "2022-05-20T14:51:27.997Z"
   },
   {
    "duration": 20,
    "start_time": "2022-05-20T14:51:28.007Z"
   },
   {
    "duration": 31,
    "start_time": "2022-05-20T14:51:28.029Z"
   },
   {
    "duration": 16,
    "start_time": "2022-05-20T14:51:28.062Z"
   },
   {
    "duration": 9,
    "start_time": "2022-05-20T14:51:28.080Z"
   },
   {
    "duration": 36,
    "start_time": "2022-05-20T14:51:28.091Z"
   },
   {
    "duration": 41,
    "start_time": "2022-05-20T14:51:28.129Z"
   },
   {
    "duration": 39,
    "start_time": "2022-05-20T14:51:28.172Z"
   },
   {
    "duration": 19,
    "start_time": "2022-05-20T14:51:28.213Z"
   },
   {
    "duration": 393,
    "start_time": "2022-05-20T14:51:28.233Z"
   },
   {
    "duration": 34,
    "start_time": "2022-05-20T14:51:28.628Z"
   },
   {
    "duration": 362,
    "start_time": "2022-05-20T14:51:28.664Z"
   },
   {
    "duration": 11,
    "start_time": "2022-05-20T14:51:29.027Z"
   },
   {
    "duration": 13,
    "start_time": "2022-05-20T14:51:29.051Z"
   },
   {
    "duration": 13,
    "start_time": "2022-05-20T14:51:29.066Z"
   },
   {
    "duration": 120,
    "start_time": "2022-05-20T14:51:29.081Z"
   },
   {
    "duration": 10,
    "start_time": "2022-05-20T14:51:29.202Z"
   },
   {
    "duration": 15,
    "start_time": "2022-05-20T14:51:29.214Z"
   },
   {
    "duration": 33,
    "start_time": "2022-05-20T14:51:29.233Z"
   },
   {
    "duration": 339,
    "start_time": "2022-05-20T14:51:29.268Z"
   },
   {
    "duration": 33,
    "start_time": "2022-05-20T14:51:29.609Z"
   },
   {
    "duration": 14,
    "start_time": "2022-05-20T14:51:29.643Z"
   },
   {
    "duration": 32,
    "start_time": "2022-05-20T14:51:29.659Z"
   },
   {
    "duration": 11,
    "start_time": "2022-05-20T14:51:29.693Z"
   },
   {
    "duration": 16,
    "start_time": "2022-05-20T14:51:29.706Z"
   },
   {
    "duration": 6,
    "start_time": "2022-05-20T14:51:29.724Z"
   },
   {
    "duration": 0,
    "start_time": "2022-05-20T14:51:29.753Z"
   },
   {
    "duration": 147,
    "start_time": "2022-05-20T14:53:49.849Z"
   },
   {
    "duration": 4,
    "start_time": "2022-05-20T14:54:01.617Z"
   },
   {
    "duration": 137,
    "start_time": "2022-05-20T14:54:01.622Z"
   },
   {
    "duration": 21,
    "start_time": "2022-05-20T14:54:01.761Z"
   },
   {
    "duration": 12,
    "start_time": "2022-05-20T14:54:01.784Z"
   },
   {
    "duration": 28,
    "start_time": "2022-05-20T14:54:01.799Z"
   },
   {
    "duration": 12,
    "start_time": "2022-05-20T14:54:01.828Z"
   },
   {
    "duration": 44,
    "start_time": "2022-05-20T14:54:01.842Z"
   },
   {
    "duration": 12,
    "start_time": "2022-05-20T14:54:01.888Z"
   },
   {
    "duration": 514,
    "start_time": "2022-05-20T14:54:01.901Z"
   },
   {
    "duration": 12,
    "start_time": "2022-05-20T14:54:02.417Z"
   },
   {
    "duration": 64,
    "start_time": "2022-05-20T14:54:02.431Z"
   },
   {
    "duration": 18,
    "start_time": "2022-05-20T14:54:02.497Z"
   },
   {
    "duration": 103,
    "start_time": "2022-05-20T14:54:02.517Z"
   },
   {
    "duration": 2,
    "start_time": "2022-05-20T14:54:02.623Z"
   },
   {
    "duration": 23,
    "start_time": "2022-05-20T14:54:02.626Z"
   },
   {
    "duration": 11,
    "start_time": "2022-05-20T14:54:02.652Z"
   },
   {
    "duration": 40,
    "start_time": "2022-05-20T14:54:02.666Z"
   },
   {
    "duration": 43,
    "start_time": "2022-05-20T14:54:02.708Z"
   },
   {
    "duration": 29,
    "start_time": "2022-05-20T14:54:02.753Z"
   },
   {
    "duration": 18,
    "start_time": "2022-05-20T14:54:02.784Z"
   },
   {
    "duration": 71,
    "start_time": "2022-05-20T14:54:02.804Z"
   },
   {
    "duration": 17,
    "start_time": "2022-05-20T14:54:02.877Z"
   },
   {
    "duration": 5,
    "start_time": "2022-05-20T14:54:02.896Z"
   },
   {
    "duration": 46,
    "start_time": "2022-05-20T14:54:02.902Z"
   },
   {
    "duration": 26,
    "start_time": "2022-05-20T14:54:02.950Z"
   },
   {
    "duration": 32,
    "start_time": "2022-05-20T14:54:02.978Z"
   },
   {
    "duration": 17,
    "start_time": "2022-05-20T14:54:03.011Z"
   },
   {
    "duration": 395,
    "start_time": "2022-05-20T14:54:03.030Z"
   },
   {
    "duration": 31,
    "start_time": "2022-05-20T14:54:03.427Z"
   },
   {
    "duration": 328,
    "start_time": "2022-05-20T14:54:03.460Z"
   },
   {
    "duration": 9,
    "start_time": "2022-05-20T14:54:03.790Z"
   },
   {
    "duration": 9,
    "start_time": "2022-05-20T14:54:03.801Z"
   },
   {
    "duration": 9,
    "start_time": "2022-05-20T14:54:03.812Z"
   },
   {
    "duration": 50,
    "start_time": "2022-05-20T14:54:03.823Z"
   },
   {
    "duration": 9,
    "start_time": "2022-05-20T14:54:03.875Z"
   },
   {
    "duration": 17,
    "start_time": "2022-05-20T14:54:03.885Z"
   },
   {
    "duration": 19,
    "start_time": "2022-05-20T14:54:03.903Z"
   },
   {
    "duration": 359,
    "start_time": "2022-05-20T14:54:03.924Z"
   },
   {
    "duration": 24,
    "start_time": "2022-05-20T14:54:04.284Z"
   },
   {
    "duration": 6,
    "start_time": "2022-05-20T14:54:04.309Z"
   },
   {
    "duration": 49,
    "start_time": "2022-05-20T14:54:04.319Z"
   },
   {
    "duration": 18,
    "start_time": "2022-05-20T14:54:04.370Z"
   },
   {
    "duration": 24,
    "start_time": "2022-05-20T14:54:04.389Z"
   },
   {
    "duration": 0,
    "start_time": "2022-05-20T14:54:04.415Z"
   },
   {
    "duration": 0,
    "start_time": "2022-05-20T14:54:04.416Z"
   },
   {
    "duration": 29,
    "start_time": "2022-05-20T14:54:16.695Z"
   },
   {
    "duration": 10,
    "start_time": "2022-05-20T14:54:49.224Z"
   },
   {
    "duration": 9,
    "start_time": "2022-05-20T14:56:00.679Z"
   },
   {
    "duration": 11,
    "start_time": "2022-05-20T14:56:04.394Z"
   },
   {
    "duration": 6,
    "start_time": "2022-05-20T14:56:22.379Z"
   },
   {
    "duration": 9,
    "start_time": "2022-05-20T14:57:47.323Z"
   },
   {
    "duration": 109,
    "start_time": "2022-05-20T14:57:51.234Z"
   },
   {
    "duration": 157,
    "start_time": "2022-05-20T14:58:15.232Z"
   },
   {
    "duration": 126,
    "start_time": "2022-05-20T14:58:34.544Z"
   },
   {
    "duration": 216,
    "start_time": "2022-05-20T14:59:03.099Z"
   },
   {
    "duration": 112,
    "start_time": "2022-05-20T14:59:19.619Z"
   },
   {
    "duration": 6,
    "start_time": "2022-05-20T14:59:47.094Z"
   },
   {
    "duration": 10,
    "start_time": "2022-05-20T14:59:58.003Z"
   },
   {
    "duration": 137,
    "start_time": "2022-05-20T15:00:02.534Z"
   },
   {
    "duration": 33,
    "start_time": "2022-05-20T15:13:58.453Z"
   },
   {
    "duration": 53,
    "start_time": "2022-05-20T15:14:15.578Z"
   },
   {
    "duration": 43,
    "start_time": "2022-05-20T15:14:22.359Z"
   },
   {
    "duration": 42,
    "start_time": "2022-05-20T15:14:27.598Z"
   },
   {
    "duration": 13,
    "start_time": "2022-05-20T15:15:25.589Z"
   },
   {
    "duration": 16,
    "start_time": "2022-05-20T15:15:43.624Z"
   },
   {
    "duration": 21,
    "start_time": "2022-05-20T15:18:46.904Z"
   },
   {
    "duration": 267,
    "start_time": "2022-05-20T15:19:07.979Z"
   },
   {
    "duration": 20,
    "start_time": "2022-05-20T15:19:21.259Z"
   },
   {
    "duration": 17,
    "start_time": "2022-05-20T15:21:14.849Z"
   },
   {
    "duration": 13,
    "start_time": "2022-05-20T15:21:35.374Z"
   },
   {
    "duration": 29,
    "start_time": "2022-05-20T15:31:37.448Z"
   },
   {
    "duration": 3,
    "start_time": "2022-05-20T15:32:33.692Z"
   },
   {
    "duration": 132,
    "start_time": "2022-05-20T15:32:33.707Z"
   },
   {
    "duration": 17,
    "start_time": "2022-05-20T15:32:33.841Z"
   },
   {
    "duration": 12,
    "start_time": "2022-05-20T15:32:33.860Z"
   },
   {
    "duration": 13,
    "start_time": "2022-05-20T15:32:33.874Z"
   },
   {
    "duration": 9,
    "start_time": "2022-05-20T15:32:33.889Z"
   },
   {
    "duration": 31,
    "start_time": "2022-05-20T15:32:33.901Z"
   },
   {
    "duration": 11,
    "start_time": "2022-05-20T15:32:33.951Z"
   },
   {
    "duration": 508,
    "start_time": "2022-05-20T15:32:33.964Z"
   },
   {
    "duration": 13,
    "start_time": "2022-05-20T15:32:34.474Z"
   },
   {
    "duration": 67,
    "start_time": "2022-05-20T15:32:34.491Z"
   },
   {
    "duration": 16,
    "start_time": "2022-05-20T15:32:34.560Z"
   },
   {
    "duration": 86,
    "start_time": "2022-05-20T15:32:34.578Z"
   },
   {
    "duration": 2,
    "start_time": "2022-05-20T15:32:34.666Z"
   },
   {
    "duration": 17,
    "start_time": "2022-05-20T15:32:34.670Z"
   },
   {
    "duration": 8,
    "start_time": "2022-05-20T15:32:34.689Z"
   },
   {
    "duration": 9,
    "start_time": "2022-05-20T15:32:34.699Z"
   },
   {
    "duration": 17,
    "start_time": "2022-05-20T15:32:34.710Z"
   },
   {
    "duration": 8,
    "start_time": "2022-05-20T15:32:34.751Z"
   },
   {
    "duration": 16,
    "start_time": "2022-05-20T15:32:34.761Z"
   },
   {
    "duration": 21,
    "start_time": "2022-05-20T15:32:34.779Z"
   },
   {
    "duration": 13,
    "start_time": "2022-05-20T15:32:34.802Z"
   },
   {
    "duration": 5,
    "start_time": "2022-05-20T15:32:34.817Z"
   },
   {
    "duration": 55,
    "start_time": "2022-05-20T15:32:34.824Z"
   },
   {
    "duration": 23,
    "start_time": "2022-05-20T15:32:34.881Z"
   },
   {
    "duration": 53,
    "start_time": "2022-05-20T15:32:34.905Z"
   },
   {
    "duration": 18,
    "start_time": "2022-05-20T15:32:34.960Z"
   },
   {
    "duration": 439,
    "start_time": "2022-05-20T15:32:34.980Z"
   },
   {
    "duration": 30,
    "start_time": "2022-05-20T15:32:35.423Z"
   },
   {
    "duration": 346,
    "start_time": "2022-05-20T15:32:35.455Z"
   },
   {
    "duration": 9,
    "start_time": "2022-05-20T15:32:35.803Z"
   },
   {
    "duration": 39,
    "start_time": "2022-05-20T15:32:35.814Z"
   },
   {
    "duration": 16,
    "start_time": "2022-05-20T15:32:35.854Z"
   },
   {
    "duration": 87,
    "start_time": "2022-05-20T15:32:35.872Z"
   },
   {
    "duration": 12,
    "start_time": "2022-05-20T15:32:35.961Z"
   },
   {
    "duration": 20,
    "start_time": "2022-05-20T15:32:35.975Z"
   },
   {
    "duration": 21,
    "start_time": "2022-05-20T15:32:35.997Z"
   },
   {
    "duration": 354,
    "start_time": "2022-05-20T15:32:36.020Z"
   },
   {
    "duration": 25,
    "start_time": "2022-05-20T15:32:36.377Z"
   },
   {
    "duration": 6,
    "start_time": "2022-05-20T15:32:36.403Z"
   },
   {
    "duration": 42,
    "start_time": "2022-05-20T15:32:36.411Z"
   },
   {
    "duration": 8,
    "start_time": "2022-05-20T15:32:36.455Z"
   },
   {
    "duration": 37,
    "start_time": "2022-05-20T15:32:36.464Z"
   },
   {
    "duration": 26,
    "start_time": "2022-05-20T15:32:36.502Z"
   },
   {
    "duration": 9,
    "start_time": "2022-05-20T15:33:54.824Z"
   },
   {
    "duration": 1517,
    "start_time": "2022-05-21T16:36:29.700Z"
   },
   {
    "duration": 429,
    "start_time": "2022-05-21T16:36:31.219Z"
   },
   {
    "duration": 73,
    "start_time": "2022-05-21T16:36:31.650Z"
   },
   {
    "duration": 13,
    "start_time": "2022-05-21T16:36:31.726Z"
   },
   {
    "duration": 17,
    "start_time": "2022-05-21T16:36:31.741Z"
   },
   {
    "duration": 7,
    "start_time": "2022-05-21T16:36:31.760Z"
   },
   {
    "duration": 55,
    "start_time": "2022-05-21T16:36:31.769Z"
   },
   {
    "duration": 19,
    "start_time": "2022-05-21T16:36:31.826Z"
   },
   {
    "duration": 521,
    "start_time": "2022-05-21T16:36:31.848Z"
   },
   {
    "duration": 21,
    "start_time": "2022-05-21T16:36:32.372Z"
   },
   {
    "duration": 65,
    "start_time": "2022-05-21T16:36:32.395Z"
   },
   {
    "duration": 32,
    "start_time": "2022-05-21T16:36:32.462Z"
   },
   {
    "duration": 89,
    "start_time": "2022-05-21T16:36:32.496Z"
   },
   {
    "duration": 2,
    "start_time": "2022-05-21T16:36:32.587Z"
   },
   {
    "duration": 42,
    "start_time": "2022-05-21T16:36:32.591Z"
   },
   {
    "duration": 14,
    "start_time": "2022-05-21T16:36:32.635Z"
   },
   {
    "duration": 35,
    "start_time": "2022-05-21T16:36:32.651Z"
   },
   {
    "duration": 31,
    "start_time": "2022-05-21T16:36:32.688Z"
   },
   {
    "duration": 11,
    "start_time": "2022-05-21T16:36:32.721Z"
   },
   {
    "duration": 8,
    "start_time": "2022-05-21T16:36:32.734Z"
   },
   {
    "duration": 22,
    "start_time": "2022-05-21T16:36:32.743Z"
   },
   {
    "duration": 22,
    "start_time": "2022-05-21T16:36:32.766Z"
   },
   {
    "duration": 7,
    "start_time": "2022-05-21T16:36:32.790Z"
   },
   {
    "duration": 37,
    "start_time": "2022-05-21T16:36:32.798Z"
   },
   {
    "duration": 53,
    "start_time": "2022-05-21T16:36:32.837Z"
   },
   {
    "duration": 40,
    "start_time": "2022-05-21T16:36:32.892Z"
   },
   {
    "duration": 25,
    "start_time": "2022-05-21T16:36:32.934Z"
   },
   {
    "duration": 448,
    "start_time": "2022-05-21T16:36:32.982Z"
   },
   {
    "duration": 22,
    "start_time": "2022-05-21T16:36:33.432Z"
   },
   {
    "duration": 392,
    "start_time": "2022-05-21T16:36:33.456Z"
   },
   {
    "duration": 13,
    "start_time": "2022-05-21T16:36:33.850Z"
   },
   {
    "duration": 22,
    "start_time": "2022-05-21T16:36:33.864Z"
   },
   {
    "duration": 8,
    "start_time": "2022-05-21T16:36:33.887Z"
   },
   {
    "duration": 32,
    "start_time": "2022-05-21T16:36:33.897Z"
   },
   {
    "duration": 11,
    "start_time": "2022-05-21T16:36:33.931Z"
   },
   {
    "duration": 46,
    "start_time": "2022-05-21T16:36:33.944Z"
   },
   {
    "duration": 18,
    "start_time": "2022-05-21T16:36:33.992Z"
   },
   {
    "duration": 375,
    "start_time": "2022-05-21T16:36:34.012Z"
   },
   {
    "duration": 25,
    "start_time": "2022-05-21T16:36:34.389Z"
   },
   {
    "duration": 7,
    "start_time": "2022-05-21T16:36:34.416Z"
   },
   {
    "duration": 59,
    "start_time": "2022-05-21T16:36:34.425Z"
   },
   {
    "duration": 12,
    "start_time": "2022-05-21T16:36:34.486Z"
   },
   {
    "duration": 53,
    "start_time": "2022-05-21T16:36:34.500Z"
   },
   {
    "duration": 138,
    "start_time": "2022-05-21T16:36:34.556Z"
   },
   {
    "duration": 17,
    "start_time": "2022-05-21T16:37:04.213Z"
   },
   {
    "duration": 29,
    "start_time": "2022-05-21T16:37:33.353Z"
   },
   {
    "duration": 20,
    "start_time": "2022-05-21T16:39:11.138Z"
   },
   {
    "duration": 33,
    "start_time": "2022-05-21T16:39:55.100Z"
   },
   {
    "duration": 21,
    "start_time": "2022-05-21T16:40:03.051Z"
   },
   {
    "duration": 790,
    "start_time": "2022-05-21T16:47:06.287Z"
   },
   {
    "duration": 438,
    "start_time": "2022-05-21T16:47:22.534Z"
   },
   {
    "duration": 369,
    "start_time": "2022-05-21T16:50:23.886Z"
   },
   {
    "duration": 325,
    "start_time": "2022-05-21T16:50:44.549Z"
   },
   {
    "duration": 397,
    "start_time": "2022-05-21T16:51:25.186Z"
   },
   {
    "duration": 3,
    "start_time": "2022-05-21T16:51:27.350Z"
   },
   {
    "duration": 144,
    "start_time": "2022-05-21T16:51:27.356Z"
   },
   {
    "duration": 26,
    "start_time": "2022-05-21T16:51:27.502Z"
   },
   {
    "duration": 15,
    "start_time": "2022-05-21T16:51:27.530Z"
   },
   {
    "duration": 13,
    "start_time": "2022-05-21T16:51:27.548Z"
   },
   {
    "duration": 21,
    "start_time": "2022-05-21T16:51:27.563Z"
   },
   {
    "duration": 28,
    "start_time": "2022-05-21T16:51:27.586Z"
   },
   {
    "duration": 12,
    "start_time": "2022-05-21T16:51:27.616Z"
   },
   {
    "duration": 709,
    "start_time": "2022-05-21T16:51:27.630Z"
   },
   {
    "duration": 24,
    "start_time": "2022-05-21T16:51:28.341Z"
   },
   {
    "duration": 79,
    "start_time": "2022-05-21T16:51:28.367Z"
   },
   {
    "duration": 42,
    "start_time": "2022-05-21T16:51:28.448Z"
   },
   {
    "duration": 81,
    "start_time": "2022-05-21T16:51:28.492Z"
   },
   {
    "duration": 3,
    "start_time": "2022-05-21T16:51:28.586Z"
   },
   {
    "duration": 16,
    "start_time": "2022-05-21T16:51:28.591Z"
   },
   {
    "duration": 7,
    "start_time": "2022-05-21T16:51:28.609Z"
   },
   {
    "duration": 10,
    "start_time": "2022-05-21T16:51:28.617Z"
   },
   {
    "duration": 12,
    "start_time": "2022-05-21T16:51:28.628Z"
   },
   {
    "duration": 45,
    "start_time": "2022-05-21T16:51:28.642Z"
   },
   {
    "duration": 16,
    "start_time": "2022-05-21T16:51:28.689Z"
   },
   {
    "duration": 28,
    "start_time": "2022-05-21T16:51:28.707Z"
   },
   {
    "duration": 15,
    "start_time": "2022-05-21T16:51:28.737Z"
   },
   {
    "duration": 9,
    "start_time": "2022-05-21T16:51:28.784Z"
   },
   {
    "duration": 46,
    "start_time": "2022-05-21T16:51:28.796Z"
   },
   {
    "duration": 53,
    "start_time": "2022-05-21T16:51:28.844Z"
   },
   {
    "duration": 44,
    "start_time": "2022-05-21T16:51:28.899Z"
   },
   {
    "duration": 47,
    "start_time": "2022-05-21T16:51:28.946Z"
   },
   {
    "duration": 495,
    "start_time": "2022-05-21T16:51:28.995Z"
   },
   {
    "duration": 33,
    "start_time": "2022-05-21T16:51:29.492Z"
   },
   {
    "duration": 462,
    "start_time": "2022-05-21T16:51:29.527Z"
   },
   {
    "duration": 11,
    "start_time": "2022-05-21T16:51:29.992Z"
   },
   {
    "duration": 500,
    "start_time": "2022-05-21T16:51:30.006Z"
   },
   {
    "duration": 16,
    "start_time": "2022-05-21T16:51:30.508Z"
   },
   {
    "duration": 21,
    "start_time": "2022-05-21T16:51:30.526Z"
   },
   {
    "duration": 44,
    "start_time": "2022-05-21T16:51:30.548Z"
   },
   {
    "duration": 13,
    "start_time": "2022-05-21T16:51:30.595Z"
   },
   {
    "duration": 36,
    "start_time": "2022-05-21T16:51:30.611Z"
   },
   {
    "duration": 34,
    "start_time": "2022-05-21T16:51:30.650Z"
   },
   {
    "duration": 453,
    "start_time": "2022-05-21T16:51:30.688Z"
   },
   {
    "duration": 25,
    "start_time": "2022-05-21T16:51:31.143Z"
   },
   {
    "duration": 7,
    "start_time": "2022-05-21T16:51:31.183Z"
   },
   {
    "duration": 32,
    "start_time": "2022-05-21T16:51:31.193Z"
   },
   {
    "duration": 11,
    "start_time": "2022-05-21T16:51:31.226Z"
   },
   {
    "duration": 57,
    "start_time": "2022-05-21T16:51:31.238Z"
   },
   {
    "duration": 22,
    "start_time": "2022-05-21T16:51:31.297Z"
   },
   {
    "duration": 402,
    "start_time": "2022-05-21T16:51:31.321Z"
   },
   {
    "duration": 323,
    "start_time": "2022-05-21T16:52:02.205Z"
   },
   {
    "duration": 36,
    "start_time": "2022-05-21T16:52:45.566Z"
   },
   {
    "duration": 236,
    "start_time": "2022-05-21T16:53:38.574Z"
   },
   {
    "duration": 229,
    "start_time": "2022-05-21T16:54:34.262Z"
   },
   {
    "duration": 360,
    "start_time": "2022-05-21T16:55:01.726Z"
   },
   {
    "duration": 226,
    "start_time": "2022-05-21T16:55:25.057Z"
   },
   {
    "duration": 19,
    "start_time": "2022-05-21T16:56:57.325Z"
   },
   {
    "duration": 17,
    "start_time": "2022-05-21T16:57:33.506Z"
   },
   {
    "duration": 170,
    "start_time": "2022-05-21T17:00:08.648Z"
   },
   {
    "duration": 308,
    "start_time": "2022-05-21T17:01:10.216Z"
   },
   {
    "duration": 290,
    "start_time": "2022-05-21T17:01:39.808Z"
   },
   {
    "duration": 287,
    "start_time": "2022-05-21T17:02:19.866Z"
   },
   {
    "duration": 284,
    "start_time": "2022-05-21T17:02:40.350Z"
   },
   {
    "duration": 314,
    "start_time": "2022-05-21T17:02:56.871Z"
   },
   {
    "duration": 147,
    "start_time": "2022-05-21T17:03:14.211Z"
   },
   {
    "duration": 4,
    "start_time": "2022-05-21T19:46:57.362Z"
   },
   {
    "duration": 57,
    "start_time": "2022-05-21T19:47:20.684Z"
   },
   {
    "duration": 7,
    "start_time": "2022-05-21T19:47:32.040Z"
   },
   {
    "duration": 1658,
    "start_time": "2022-05-21T19:47:38.930Z"
   },
   {
    "duration": 464,
    "start_time": "2022-05-21T19:47:40.591Z"
   },
   {
    "duration": 77,
    "start_time": "2022-05-21T19:47:41.057Z"
   },
   {
    "duration": 11,
    "start_time": "2022-05-21T19:47:41.137Z"
   },
   {
    "duration": 13,
    "start_time": "2022-05-21T19:47:41.149Z"
   },
   {
    "duration": 9,
    "start_time": "2022-05-21T19:47:41.164Z"
   },
   {
    "duration": 29,
    "start_time": "2022-05-21T19:47:41.175Z"
   },
   {
    "duration": 14,
    "start_time": "2022-05-21T19:47:41.205Z"
   },
   {
    "duration": 496,
    "start_time": "2022-05-21T19:47:41.221Z"
   },
   {
    "duration": 24,
    "start_time": "2022-05-21T19:47:41.719Z"
   },
   {
    "duration": 53,
    "start_time": "2022-05-21T19:47:41.744Z"
   },
   {
    "duration": 19,
    "start_time": "2022-05-21T19:47:41.801Z"
   },
   {
    "duration": 91,
    "start_time": "2022-05-21T19:47:41.822Z"
   },
   {
    "duration": 2,
    "start_time": "2022-05-21T19:47:41.914Z"
   },
   {
    "duration": 36,
    "start_time": "2022-05-21T19:47:41.918Z"
   },
   {
    "duration": 7,
    "start_time": "2022-05-21T19:47:41.957Z"
   },
   {
    "duration": 10,
    "start_time": "2022-05-21T19:47:41.965Z"
   },
   {
    "duration": 15,
    "start_time": "2022-05-21T19:47:41.977Z"
   },
   {
    "duration": 11,
    "start_time": "2022-05-21T19:47:41.994Z"
   },
   {
    "duration": 10,
    "start_time": "2022-05-21T19:47:42.007Z"
   },
   {
    "duration": 28,
    "start_time": "2022-05-21T19:47:42.042Z"
   },
   {
    "duration": 14,
    "start_time": "2022-05-21T19:47:42.072Z"
   },
   {
    "duration": 7,
    "start_time": "2022-05-21T19:47:42.087Z"
   },
   {
    "duration": 58,
    "start_time": "2022-05-21T19:47:42.096Z"
   },
   {
    "duration": 24,
    "start_time": "2022-05-21T19:47:42.156Z"
   },
   {
    "duration": 36,
    "start_time": "2022-05-21T19:47:42.182Z"
   },
   {
    "duration": 38,
    "start_time": "2022-05-21T19:47:42.219Z"
   },
   {
    "duration": 431,
    "start_time": "2022-05-21T19:47:42.262Z"
   },
   {
    "duration": 28,
    "start_time": "2022-05-21T19:47:42.695Z"
   },
   {
    "duration": 335,
    "start_time": "2022-05-21T19:47:42.725Z"
   },
   {
    "duration": 11,
    "start_time": "2022-05-21T19:47:43.062Z"
   },
   {
    "duration": 442,
    "start_time": "2022-05-21T19:47:43.075Z"
   },
   {
    "duration": 10,
    "start_time": "2022-05-21T19:47:43.520Z"
   },
   {
    "duration": 8,
    "start_time": "2022-05-21T19:47:43.540Z"
   },
   {
    "duration": 24,
    "start_time": "2022-05-21T19:47:43.550Z"
   },
   {
    "duration": 11,
    "start_time": "2022-05-21T19:47:43.576Z"
   },
   {
    "duration": 16,
    "start_time": "2022-05-21T19:47:43.589Z"
   },
   {
    "duration": 43,
    "start_time": "2022-05-21T19:47:43.607Z"
   },
   {
    "duration": 379,
    "start_time": "2022-05-21T19:47:43.652Z"
   },
   {
    "duration": 29,
    "start_time": "2022-05-21T19:47:44.033Z"
   },
   {
    "duration": 7,
    "start_time": "2022-05-21T19:47:44.064Z"
   },
   {
    "duration": 24,
    "start_time": "2022-05-21T19:47:44.072Z"
   },
   {
    "duration": 14,
    "start_time": "2022-05-21T19:47:44.098Z"
   },
   {
    "duration": 58,
    "start_time": "2022-05-21T19:47:44.114Z"
   },
   {
    "duration": 16,
    "start_time": "2022-05-21T19:47:44.174Z"
   },
   {
    "duration": 383,
    "start_time": "2022-05-21T19:47:44.193Z"
   },
   {
    "duration": 28,
    "start_time": "2022-05-21T19:47:44.578Z"
   },
   {
    "duration": 169,
    "start_time": "2022-05-21T19:47:44.608Z"
   },
   {
    "duration": 18,
    "start_time": "2022-05-21T19:47:44.779Z"
   },
   {
    "duration": 203,
    "start_time": "2022-05-21T19:47:44.799Z"
   },
   {
    "duration": 22,
    "start_time": "2022-05-21T19:47:45.004Z"
   },
   {
    "duration": 30,
    "start_time": "2022-05-21T19:49:53.830Z"
   },
   {
    "duration": 14,
    "start_time": "2022-05-21T19:50:36.061Z"
   },
   {
    "duration": 18,
    "start_time": "2022-05-21T19:52:05.401Z"
   },
   {
    "duration": 20,
    "start_time": "2022-05-21T19:52:41.952Z"
   },
   {
    "duration": 24,
    "start_time": "2022-05-21T19:52:50.047Z"
   },
   {
    "duration": 19,
    "start_time": "2022-05-21T19:55:21.432Z"
   },
   {
    "duration": 287,
    "start_time": "2022-05-21T19:55:46.936Z"
   },
   {
    "duration": 3,
    "start_time": "2022-05-21T19:55:49.309Z"
   },
   {
    "duration": 137,
    "start_time": "2022-05-21T19:55:49.313Z"
   },
   {
    "duration": 21,
    "start_time": "2022-05-21T19:55:49.452Z"
   },
   {
    "duration": 10,
    "start_time": "2022-05-21T19:55:49.475Z"
   },
   {
    "duration": 12,
    "start_time": "2022-05-21T19:55:49.488Z"
   },
   {
    "duration": 5,
    "start_time": "2022-05-21T19:55:49.502Z"
   },
   {
    "duration": 49,
    "start_time": "2022-05-21T19:55:49.508Z"
   },
   {
    "duration": 11,
    "start_time": "2022-05-21T19:55:49.559Z"
   },
   {
    "duration": 506,
    "start_time": "2022-05-21T19:55:49.571Z"
   },
   {
    "duration": 12,
    "start_time": "2022-05-21T19:55:50.079Z"
   },
   {
    "duration": 61,
    "start_time": "2022-05-21T19:55:50.093Z"
   },
   {
    "duration": 18,
    "start_time": "2022-05-21T19:55:50.155Z"
   },
   {
    "duration": 94,
    "start_time": "2022-05-21T19:55:50.175Z"
   },
   {
    "duration": 2,
    "start_time": "2022-05-21T19:55:50.271Z"
   },
   {
    "duration": 21,
    "start_time": "2022-05-21T19:55:50.276Z"
   },
   {
    "duration": 6,
    "start_time": "2022-05-21T19:55:50.298Z"
   },
   {
    "duration": 9,
    "start_time": "2022-05-21T19:55:50.305Z"
   },
   {
    "duration": 31,
    "start_time": "2022-05-21T19:55:50.317Z"
   },
   {
    "duration": 9,
    "start_time": "2022-05-21T19:55:50.350Z"
   },
   {
    "duration": 9,
    "start_time": "2022-05-21T19:55:50.361Z"
   },
   {
    "duration": 20,
    "start_time": "2022-05-21T19:55:50.371Z"
   },
   {
    "duration": 14,
    "start_time": "2022-05-21T19:55:50.392Z"
   },
   {
    "duration": 34,
    "start_time": "2022-05-21T19:55:50.408Z"
   },
   {
    "duration": 30,
    "start_time": "2022-05-21T19:55:50.444Z"
   },
   {
    "duration": 31,
    "start_time": "2022-05-21T19:55:50.476Z"
   },
   {
    "duration": 71,
    "start_time": "2022-05-21T19:55:50.509Z"
   },
   {
    "duration": 18,
    "start_time": "2022-05-21T19:55:50.582Z"
   },
   {
    "duration": 411,
    "start_time": "2022-05-21T19:55:50.602Z"
   },
   {
    "duration": 27,
    "start_time": "2022-05-21T19:55:51.016Z"
   },
   {
    "duration": 377,
    "start_time": "2022-05-21T19:55:51.044Z"
   },
   {
    "duration": 19,
    "start_time": "2022-05-21T19:55:51.422Z"
   },
   {
    "duration": 300,
    "start_time": "2022-05-21T19:55:51.443Z"
   },
   {
    "duration": 10,
    "start_time": "2022-05-21T19:55:51.744Z"
   },
   {
    "duration": 6,
    "start_time": "2022-05-21T19:55:51.756Z"
   },
   {
    "duration": 22,
    "start_time": "2022-05-21T19:55:51.764Z"
   },
   {
    "duration": 9,
    "start_time": "2022-05-21T19:55:51.788Z"
   },
   {
    "duration": 48,
    "start_time": "2022-05-21T19:55:51.799Z"
   },
   {
    "duration": 17,
    "start_time": "2022-05-21T19:55:51.848Z"
   },
   {
    "duration": 379,
    "start_time": "2022-05-21T19:55:51.866Z"
   },
   {
    "duration": 23,
    "start_time": "2022-05-21T19:55:52.247Z"
   },
   {
    "duration": 6,
    "start_time": "2022-05-21T19:55:52.272Z"
   },
   {
    "duration": 22,
    "start_time": "2022-05-21T19:55:52.280Z"
   },
   {
    "duration": 39,
    "start_time": "2022-05-21T19:55:52.304Z"
   },
   {
    "duration": 33,
    "start_time": "2022-05-21T19:55:52.344Z"
   },
   {
    "duration": 17,
    "start_time": "2022-05-21T19:55:52.379Z"
   },
   {
    "duration": 323,
    "start_time": "2022-05-21T19:55:52.398Z"
   },
   {
    "duration": 36,
    "start_time": "2022-05-21T19:55:52.722Z"
   },
   {
    "duration": 161,
    "start_time": "2022-05-21T19:55:52.760Z"
   },
   {
    "duration": 20,
    "start_time": "2022-05-21T19:55:52.923Z"
   },
   {
    "duration": 166,
    "start_time": "2022-05-21T19:55:52.944Z"
   },
   {
    "duration": 43,
    "start_time": "2022-05-21T19:55:53.112Z"
   },
   {
    "duration": 11,
    "start_time": "2022-05-21T19:55:53.157Z"
   },
   {
    "duration": 16,
    "start_time": "2022-05-21T19:55:53.170Z"
   },
   {
    "duration": 14,
    "start_time": "2022-05-21T19:55:53.188Z"
   },
   {
    "duration": 30,
    "start_time": "2022-05-21T19:58:45.700Z"
   },
   {
    "duration": 261,
    "start_time": "2022-05-21T19:59:12.584Z"
   },
   {
    "duration": 182,
    "start_time": "2022-05-21T19:59:39.892Z"
   },
   {
    "duration": 4,
    "start_time": "2022-05-21T20:00:52.037Z"
   },
   {
    "duration": 138,
    "start_time": "2022-05-21T20:00:52.044Z"
   },
   {
    "duration": 23,
    "start_time": "2022-05-21T20:00:52.185Z"
   },
   {
    "duration": 11,
    "start_time": "2022-05-21T20:00:52.209Z"
   },
   {
    "duration": 25,
    "start_time": "2022-05-21T20:00:52.223Z"
   },
   {
    "duration": 4,
    "start_time": "2022-05-21T20:00:52.250Z"
   },
   {
    "duration": 39,
    "start_time": "2022-05-21T20:00:52.256Z"
   },
   {
    "duration": 13,
    "start_time": "2022-05-21T20:00:52.297Z"
   },
   {
    "duration": 510,
    "start_time": "2022-05-21T20:00:52.312Z"
   },
   {
    "duration": 19,
    "start_time": "2022-05-21T20:00:52.823Z"
   },
   {
    "duration": 51,
    "start_time": "2022-05-21T20:00:52.845Z"
   },
   {
    "duration": 44,
    "start_time": "2022-05-21T20:00:52.897Z"
   },
   {
    "duration": 74,
    "start_time": "2022-05-21T20:00:52.943Z"
   },
   {
    "duration": 2,
    "start_time": "2022-05-21T20:00:53.018Z"
   },
   {
    "duration": 29,
    "start_time": "2022-05-21T20:00:53.022Z"
   },
   {
    "duration": 6,
    "start_time": "2022-05-21T20:00:53.052Z"
   },
   {
    "duration": 8,
    "start_time": "2022-05-21T20:00:53.059Z"
   },
   {
    "duration": 11,
    "start_time": "2022-05-21T20:00:53.069Z"
   },
   {
    "duration": 6,
    "start_time": "2022-05-21T20:00:53.082Z"
   },
   {
    "duration": 7,
    "start_time": "2022-05-21T20:00:53.090Z"
   },
   {
    "duration": 60,
    "start_time": "2022-05-21T20:00:53.098Z"
   },
   {
    "duration": 14,
    "start_time": "2022-05-21T20:00:53.160Z"
   },
   {
    "duration": 6,
    "start_time": "2022-05-21T20:00:53.176Z"
   },
   {
    "duration": 34,
    "start_time": "2022-05-21T20:00:53.183Z"
   },
   {
    "duration": 24,
    "start_time": "2022-05-21T20:00:53.242Z"
   },
   {
    "duration": 35,
    "start_time": "2022-05-21T20:00:53.268Z"
   },
   {
    "duration": 44,
    "start_time": "2022-05-21T20:00:53.304Z"
   },
   {
    "duration": 404,
    "start_time": "2022-05-21T20:00:53.349Z"
   },
   {
    "duration": 23,
    "start_time": "2022-05-21T20:00:53.757Z"
   },
   {
    "duration": 387,
    "start_time": "2022-05-21T20:00:53.781Z"
   },
   {
    "duration": 9,
    "start_time": "2022-05-21T20:00:54.170Z"
   },
   {
    "duration": 307,
    "start_time": "2022-05-21T20:00:54.180Z"
   },
   {
    "duration": 12,
    "start_time": "2022-05-21T20:00:54.489Z"
   },
   {
    "duration": 8,
    "start_time": "2022-05-21T20:00:54.503Z"
   },
   {
    "duration": 52,
    "start_time": "2022-05-21T20:00:54.513Z"
   },
   {
    "duration": 13,
    "start_time": "2022-05-21T20:00:54.567Z"
   },
   {
    "duration": 17,
    "start_time": "2022-05-21T20:00:54.582Z"
   },
   {
    "duration": 16,
    "start_time": "2022-05-21T20:00:54.601Z"
   },
   {
    "duration": 376,
    "start_time": "2022-05-21T20:00:54.619Z"
   },
   {
    "duration": 24,
    "start_time": "2022-05-21T20:00:54.996Z"
   },
   {
    "duration": 22,
    "start_time": "2022-05-21T20:00:55.021Z"
   },
   {
    "duration": 25,
    "start_time": "2022-05-21T20:00:55.044Z"
   },
   {
    "duration": 11,
    "start_time": "2022-05-21T20:00:55.070Z"
   },
   {
    "duration": 31,
    "start_time": "2022-05-21T20:00:55.083Z"
   },
   {
    "duration": 18,
    "start_time": "2022-05-21T20:00:55.140Z"
   },
   {
    "duration": 285,
    "start_time": "2022-05-21T20:00:55.159Z"
   },
   {
    "duration": 34,
    "start_time": "2022-05-21T20:00:55.446Z"
   },
   {
    "duration": 191,
    "start_time": "2022-05-21T20:00:55.482Z"
   },
   {
    "duration": 15,
    "start_time": "2022-05-21T20:00:55.675Z"
   },
   {
    "duration": 270,
    "start_time": "2022-05-21T20:00:55.691Z"
   },
   {
    "duration": 29,
    "start_time": "2022-05-21T20:00:55.963Z"
   },
   {
    "duration": 10,
    "start_time": "2022-05-21T20:00:55.994Z"
   },
   {
    "duration": 36,
    "start_time": "2022-05-21T20:00:56.005Z"
   },
   {
    "duration": 14,
    "start_time": "2022-05-21T20:00:56.043Z"
   },
   {
    "duration": 38,
    "start_time": "2022-05-21T20:00:56.059Z"
   },
   {
    "duration": 67,
    "start_time": "2022-05-21T20:14:11.884Z"
   },
   {
    "duration": 10,
    "start_time": "2022-05-21T20:14:28.591Z"
   },
   {
    "duration": 5,
    "start_time": "2022-05-21T20:14:30.768Z"
   },
   {
    "duration": 197,
    "start_time": "2022-05-21T20:14:30.776Z"
   },
   {
    "duration": 26,
    "start_time": "2022-05-21T20:14:30.976Z"
   },
   {
    "duration": 11,
    "start_time": "2022-05-21T20:14:31.004Z"
   },
   {
    "duration": 29,
    "start_time": "2022-05-21T20:14:31.017Z"
   },
   {
    "duration": 7,
    "start_time": "2022-05-21T20:14:31.048Z"
   },
   {
    "duration": 28,
    "start_time": "2022-05-21T20:14:31.056Z"
   },
   {
    "duration": 11,
    "start_time": "2022-05-21T20:14:31.086Z"
   },
   {
    "duration": 569,
    "start_time": "2022-05-21T20:14:31.099Z"
   },
   {
    "duration": 11,
    "start_time": "2022-05-21T20:14:31.670Z"
   },
   {
    "duration": 103,
    "start_time": "2022-05-21T20:14:31.742Z"
   },
   {
    "duration": 24,
    "start_time": "2022-05-21T20:14:31.846Z"
   },
   {
    "duration": 185,
    "start_time": "2022-05-21T20:14:31.872Z"
   },
   {
    "duration": 3,
    "start_time": "2022-05-21T20:14:32.060Z"
   },
   {
    "duration": 21,
    "start_time": "2022-05-21T20:14:32.065Z"
   },
   {
    "duration": 9,
    "start_time": "2022-05-21T20:14:32.088Z"
   },
   {
    "duration": 14,
    "start_time": "2022-05-21T20:14:32.099Z"
   },
   {
    "duration": 38,
    "start_time": "2022-05-21T20:14:32.115Z"
   },
   {
    "duration": 9,
    "start_time": "2022-05-21T20:14:32.156Z"
   },
   {
    "duration": 12,
    "start_time": "2022-05-21T20:14:32.167Z"
   },
   {
    "duration": 72,
    "start_time": "2022-05-21T20:14:32.180Z"
   },
   {
    "duration": 14,
    "start_time": "2022-05-21T20:14:32.254Z"
   },
   {
    "duration": 19,
    "start_time": "2022-05-21T20:14:32.270Z"
   },
   {
    "duration": 81,
    "start_time": "2022-05-21T20:14:32.291Z"
   },
   {
    "duration": 86,
    "start_time": "2022-05-21T20:14:32.374Z"
   },
   {
    "duration": 88,
    "start_time": "2022-05-21T20:14:32.462Z"
   },
   {
    "duration": 19,
    "start_time": "2022-05-21T20:14:32.552Z"
   },
   {
    "duration": 430,
    "start_time": "2022-05-21T20:14:32.573Z"
   },
   {
    "duration": 34,
    "start_time": "2022-05-21T20:14:33.007Z"
   },
   {
    "duration": 407,
    "start_time": "2022-05-21T20:14:33.043Z"
   },
   {
    "duration": 9,
    "start_time": "2022-05-21T20:14:33.451Z"
   },
   {
    "duration": 324,
    "start_time": "2022-05-21T20:14:33.462Z"
   },
   {
    "duration": 12,
    "start_time": "2022-05-21T20:14:33.787Z"
   },
   {
    "duration": 6,
    "start_time": "2022-05-21T20:14:33.800Z"
   },
   {
    "duration": 42,
    "start_time": "2022-05-21T20:14:33.808Z"
   },
   {
    "duration": 9,
    "start_time": "2022-05-21T20:14:33.853Z"
   },
   {
    "duration": 17,
    "start_time": "2022-05-21T20:14:33.864Z"
   },
   {
    "duration": 17,
    "start_time": "2022-05-21T20:14:33.883Z"
   },
   {
    "duration": 412,
    "start_time": "2022-05-21T20:14:33.902Z"
   },
   {
    "duration": 36,
    "start_time": "2022-05-21T20:14:34.315Z"
   },
   {
    "duration": 8,
    "start_time": "2022-05-21T20:14:34.353Z"
   },
   {
    "duration": 35,
    "start_time": "2022-05-21T20:14:34.363Z"
   },
   {
    "duration": 11,
    "start_time": "2022-05-21T20:14:34.401Z"
   },
   {
    "duration": 64,
    "start_time": "2022-05-21T20:14:34.413Z"
   },
   {
    "duration": 21,
    "start_time": "2022-05-21T20:14:34.479Z"
   },
   {
    "duration": 331,
    "start_time": "2022-05-21T20:14:34.502Z"
   },
   {
    "duration": 25,
    "start_time": "2022-05-21T20:14:34.841Z"
   },
   {
    "duration": 179,
    "start_time": "2022-05-21T20:14:34.868Z"
   },
   {
    "duration": 23,
    "start_time": "2022-05-21T20:14:35.049Z"
   },
   {
    "duration": 187,
    "start_time": "2022-05-21T20:14:35.075Z"
   },
   {
    "duration": 29,
    "start_time": "2022-05-21T20:14:35.263Z"
   },
   {
    "duration": 10,
    "start_time": "2022-05-21T20:14:35.294Z"
   },
   {
    "duration": 38,
    "start_time": "2022-05-21T20:14:35.306Z"
   },
   {
    "duration": 18,
    "start_time": "2022-05-21T20:14:35.345Z"
   },
   {
    "duration": 15,
    "start_time": "2022-05-21T20:31:17.067Z"
   },
   {
    "duration": 14,
    "start_time": "2022-05-21T20:32:27.617Z"
   },
   {
    "duration": 109,
    "start_time": "2022-05-21T20:33:11.567Z"
   },
   {
    "duration": 21,
    "start_time": "2022-05-21T20:33:28.621Z"
   },
   {
    "duration": 174,
    "start_time": "2022-05-21T20:34:05.661Z"
   },
   {
    "duration": 127,
    "start_time": "2022-05-21T20:34:32.375Z"
   },
   {
    "duration": 129,
    "start_time": "2022-05-21T20:34:49.266Z"
   },
   {
    "duration": 138,
    "start_time": "2022-05-21T20:35:59.173Z"
   },
   {
    "duration": 150,
    "start_time": "2022-05-21T20:43:53.174Z"
   },
   {
    "duration": 199,
    "start_time": "2022-05-21T20:44:11.199Z"
   },
   {
    "duration": 206,
    "start_time": "2022-05-21T20:45:35.906Z"
   },
   {
    "duration": 221,
    "start_time": "2022-05-21T20:47:07.021Z"
   },
   {
    "duration": 23,
    "start_time": "2022-05-21T20:47:57.945Z"
   },
   {
    "duration": 217,
    "start_time": "2022-05-21T20:49:19.773Z"
   },
   {
    "duration": 189,
    "start_time": "2022-05-21T20:51:26.339Z"
   },
   {
    "duration": 149,
    "start_time": "2022-05-21T20:52:02.727Z"
   },
   {
    "duration": 203,
    "start_time": "2022-05-21T20:52:31.506Z"
   },
   {
    "duration": 36,
    "start_time": "2022-05-21T20:54:33.348Z"
   },
   {
    "duration": 17,
    "start_time": "2022-05-21T20:55:02.801Z"
   },
   {
    "duration": 16,
    "start_time": "2022-05-21T20:55:19.681Z"
   },
   {
    "duration": 312,
    "start_time": "2022-05-21T20:55:29.509Z"
   },
   {
    "duration": 39,
    "start_time": "2022-05-21T20:56:25.394Z"
   },
   {
    "duration": 13,
    "start_time": "2022-05-21T20:56:42.126Z"
   },
   {
    "duration": 12,
    "start_time": "2022-05-21T20:56:48.274Z"
   },
   {
    "duration": 18,
    "start_time": "2022-05-21T20:57:18.295Z"
   },
   {
    "duration": 13,
    "start_time": "2022-05-21T20:57:25.881Z"
   },
   {
    "duration": 200,
    "start_time": "2022-05-21T20:57:37.867Z"
   },
   {
    "duration": 164,
    "start_time": "2022-05-21T20:58:23.473Z"
   },
   {
    "duration": 9,
    "start_time": "2022-05-21T21:55:43.216Z"
   },
   {
    "duration": 7,
    "start_time": "2022-05-21T21:56:18.543Z"
   },
   {
    "duration": 80,
    "start_time": "2022-05-21T21:57:32.871Z"
   },
   {
    "duration": 203,
    "start_time": "2022-05-21T21:57:47.560Z"
   },
   {
    "duration": 8,
    "start_time": "2022-05-21T22:01:46.238Z"
   },
   {
    "duration": 11,
    "start_time": "2022-05-21T22:01:58.752Z"
   },
   {
    "duration": 32,
    "start_time": "2022-05-21T22:06:04.251Z"
   },
   {
    "duration": 210,
    "start_time": "2022-05-21T22:07:13.408Z"
   },
   {
    "duration": 28,
    "start_time": "2022-05-21T22:13:14.314Z"
   },
   {
    "duration": 66,
    "start_time": "2022-05-22T14:36:48.687Z"
   },
   {
    "duration": 7,
    "start_time": "2022-05-22T14:37:06.428Z"
   },
   {
    "duration": 62,
    "start_time": "2022-05-22T14:37:11.628Z"
   },
   {
    "duration": 1874,
    "start_time": "2022-05-22T14:37:13.853Z"
   },
   {
    "duration": 163,
    "start_time": "2022-05-22T14:37:15.729Z"
   },
   {
    "duration": 36,
    "start_time": "2022-05-22T14:37:15.894Z"
   },
   {
    "duration": 11,
    "start_time": "2022-05-22T14:37:15.932Z"
   },
   {
    "duration": 23,
    "start_time": "2022-05-22T14:37:15.945Z"
   },
   {
    "duration": 5,
    "start_time": "2022-05-22T14:37:15.970Z"
   },
   {
    "duration": 26,
    "start_time": "2022-05-22T14:37:15.977Z"
   },
   {
    "duration": 11,
    "start_time": "2022-05-22T14:37:16.005Z"
   },
   {
    "duration": 520,
    "start_time": "2022-05-22T14:37:16.017Z"
   },
   {
    "duration": 17,
    "start_time": "2022-05-22T14:37:16.540Z"
   },
   {
    "duration": 54,
    "start_time": "2022-05-22T14:37:16.558Z"
   },
   {
    "duration": 39,
    "start_time": "2022-05-22T14:37:16.614Z"
   },
   {
    "duration": 79,
    "start_time": "2022-05-22T14:37:16.654Z"
   },
   {
    "duration": 2,
    "start_time": "2022-05-22T14:37:16.752Z"
   },
   {
    "duration": 16,
    "start_time": "2022-05-22T14:37:16.756Z"
   },
   {
    "duration": 9,
    "start_time": "2022-05-22T14:37:16.774Z"
   },
   {
    "duration": 7,
    "start_time": "2022-05-22T14:37:16.784Z"
   },
   {
    "duration": 10,
    "start_time": "2022-05-22T14:37:16.793Z"
   },
   {
    "duration": 16,
    "start_time": "2022-05-22T14:37:16.805Z"
   },
   {
    "duration": 34,
    "start_time": "2022-05-22T14:37:16.823Z"
   },
   {
    "duration": 20,
    "start_time": "2022-05-22T14:37:16.859Z"
   },
   {
    "duration": 13,
    "start_time": "2022-05-22T14:37:16.880Z"
   },
   {
    "duration": 6,
    "start_time": "2022-05-22T14:37:16.895Z"
   },
   {
    "duration": 59,
    "start_time": "2022-05-22T14:37:16.903Z"
   },
   {
    "duration": 20,
    "start_time": "2022-05-22T14:37:16.964Z"
   },
   {
    "duration": 33,
    "start_time": "2022-05-22T14:37:16.986Z"
   },
   {
    "duration": 48,
    "start_time": "2022-05-22T14:37:17.020Z"
   },
   {
    "duration": 460,
    "start_time": "2022-05-22T14:37:17.072Z"
   },
   {
    "duration": 31,
    "start_time": "2022-05-22T14:37:17.534Z"
   },
   {
    "duration": 316,
    "start_time": "2022-05-22T14:37:17.567Z"
   },
   {
    "duration": 10,
    "start_time": "2022-05-22T14:37:17.885Z"
   },
   {
    "duration": 434,
    "start_time": "2022-05-22T14:37:17.897Z"
   },
   {
    "duration": 19,
    "start_time": "2022-05-22T14:37:18.333Z"
   },
   {
    "duration": 8,
    "start_time": "2022-05-22T14:37:18.354Z"
   },
   {
    "duration": 34,
    "start_time": "2022-05-22T14:37:18.364Z"
   },
   {
    "duration": 10,
    "start_time": "2022-05-22T14:37:18.399Z"
   },
   {
    "duration": 29,
    "start_time": "2022-05-22T14:37:18.411Z"
   },
   {
    "duration": 27,
    "start_time": "2022-05-22T14:37:18.442Z"
   },
   {
    "duration": 358,
    "start_time": "2022-05-22T14:37:18.470Z"
   },
   {
    "duration": 34,
    "start_time": "2022-05-22T14:37:18.829Z"
   },
   {
    "duration": 7,
    "start_time": "2022-05-22T14:37:18.864Z"
   },
   {
    "duration": 32,
    "start_time": "2022-05-22T14:37:18.872Z"
   },
   {
    "duration": 8,
    "start_time": "2022-05-22T14:37:18.905Z"
   },
   {
    "duration": 57,
    "start_time": "2022-05-22T14:37:18.915Z"
   },
   {
    "duration": 15,
    "start_time": "2022-05-22T14:37:18.974Z"
   },
   {
    "duration": 372,
    "start_time": "2022-05-22T14:37:18.991Z"
   },
   {
    "duration": 27,
    "start_time": "2022-05-22T14:37:19.365Z"
   },
   {
    "duration": 175,
    "start_time": "2022-05-22T14:37:19.393Z"
   },
   {
    "duration": 15,
    "start_time": "2022-05-22T14:37:19.570Z"
   },
   {
    "duration": 179,
    "start_time": "2022-05-22T14:37:19.586Z"
   },
   {
    "duration": 29,
    "start_time": "2022-05-22T14:37:19.767Z"
   },
   {
    "duration": 11,
    "start_time": "2022-05-22T14:37:19.798Z"
   },
   {
    "duration": 257,
    "start_time": "2022-05-22T14:37:19.811Z"
   },
   {
    "duration": 16,
    "start_time": "2022-05-22T14:37:20.069Z"
   },
   {
    "duration": 21,
    "start_time": "2022-05-22T14:37:20.086Z"
   },
   {
    "duration": 115,
    "start_time": "2022-05-22T14:37:20.108Z"
   },
   {
    "duration": 0,
    "start_time": "2022-05-22T14:37:20.224Z"
   },
   {
    "duration": 8,
    "start_time": "2022-05-22T14:51:36.970Z"
   },
   {
    "duration": 35,
    "start_time": "2022-05-22T14:51:51.321Z"
   },
   {
    "duration": 35,
    "start_time": "2022-05-22T14:52:22.910Z"
   },
   {
    "duration": 143,
    "start_time": "2022-05-22T15:01:54.465Z"
   },
   {
    "duration": 195,
    "start_time": "2022-05-22T15:02:46.507Z"
   },
   {
    "duration": 13,
    "start_time": "2022-05-22T15:03:46.008Z"
   },
   {
    "duration": 9,
    "start_time": "2022-05-22T15:03:53.710Z"
   },
   {
    "duration": 3,
    "start_time": "2022-05-22T15:03:56.586Z"
   },
   {
    "duration": 109,
    "start_time": "2022-05-22T15:03:56.601Z"
   },
   {
    "duration": 16,
    "start_time": "2022-05-22T15:03:56.711Z"
   },
   {
    "duration": 24,
    "start_time": "2022-05-22T15:03:56.729Z"
   },
   {
    "duration": 10,
    "start_time": "2022-05-22T15:03:56.755Z"
   },
   {
    "duration": 4,
    "start_time": "2022-05-22T15:03:56.767Z"
   },
   {
    "duration": 28,
    "start_time": "2022-05-22T15:03:56.773Z"
   },
   {
    "duration": 11,
    "start_time": "2022-05-22T15:03:56.804Z"
   },
   {
    "duration": 539,
    "start_time": "2022-05-22T15:03:56.817Z"
   },
   {
    "duration": 12,
    "start_time": "2022-05-22T15:03:57.358Z"
   },
   {
    "duration": 47,
    "start_time": "2022-05-22T15:03:57.373Z"
   },
   {
    "duration": 38,
    "start_time": "2022-05-22T15:03:57.421Z"
   },
   {
    "duration": 91,
    "start_time": "2022-05-22T15:03:57.461Z"
   },
   {
    "duration": 2,
    "start_time": "2022-05-22T15:03:57.554Z"
   },
   {
    "duration": 15,
    "start_time": "2022-05-22T15:03:57.557Z"
   },
   {
    "duration": 6,
    "start_time": "2022-05-22T15:03:57.573Z"
   },
   {
    "duration": 6,
    "start_time": "2022-05-22T15:03:57.580Z"
   },
   {
    "duration": 13,
    "start_time": "2022-05-22T15:03:57.587Z"
   },
   {
    "duration": 5,
    "start_time": "2022-05-22T15:03:57.602Z"
   },
   {
    "duration": 45,
    "start_time": "2022-05-22T15:03:57.608Z"
   },
   {
    "duration": 20,
    "start_time": "2022-05-22T15:03:57.655Z"
   },
   {
    "duration": 13,
    "start_time": "2022-05-22T15:03:57.676Z"
   },
   {
    "duration": 4,
    "start_time": "2022-05-22T15:03:57.691Z"
   },
   {
    "duration": 70,
    "start_time": "2022-05-22T15:03:57.697Z"
   },
   {
    "duration": 22,
    "start_time": "2022-05-22T15:03:57.769Z"
   },
   {
    "duration": 33,
    "start_time": "2022-05-22T15:03:57.792Z"
   },
   {
    "duration": 42,
    "start_time": "2022-05-22T15:03:57.827Z"
   },
   {
    "duration": 438,
    "start_time": "2022-05-22T15:03:57.872Z"
   },
   {
    "duration": 25,
    "start_time": "2022-05-22T15:03:58.311Z"
   },
   {
    "duration": 375,
    "start_time": "2022-05-22T15:03:58.351Z"
   },
   {
    "duration": 10,
    "start_time": "2022-05-22T15:03:58.728Z"
   },
   {
    "duration": 307,
    "start_time": "2022-05-22T15:03:58.752Z"
   },
   {
    "duration": 10,
    "start_time": "2022-05-22T15:03:59.061Z"
   },
   {
    "duration": 7,
    "start_time": "2022-05-22T15:03:59.072Z"
   },
   {
    "duration": 26,
    "start_time": "2022-05-22T15:03:59.081Z"
   },
   {
    "duration": 44,
    "start_time": "2022-05-22T15:03:59.109Z"
   },
   {
    "duration": 15,
    "start_time": "2022-05-22T15:03:59.155Z"
   },
   {
    "duration": 16,
    "start_time": "2022-05-22T15:03:59.172Z"
   },
   {
    "duration": 389,
    "start_time": "2022-05-22T15:03:59.190Z"
   },
   {
    "duration": 24,
    "start_time": "2022-05-22T15:03:59.580Z"
   },
   {
    "duration": 7,
    "start_time": "2022-05-22T15:03:59.605Z"
   },
   {
    "duration": 47,
    "start_time": "2022-05-22T15:03:59.613Z"
   },
   {
    "duration": 8,
    "start_time": "2022-05-22T15:03:59.662Z"
   },
   {
    "duration": 30,
    "start_time": "2022-05-22T15:03:59.672Z"
   },
   {
    "duration": 17,
    "start_time": "2022-05-22T15:03:59.704Z"
   },
   {
    "duration": 281,
    "start_time": "2022-05-22T15:03:59.753Z"
   },
   {
    "duration": 31,
    "start_time": "2022-05-22T15:04:00.036Z"
   },
   {
    "duration": 282,
    "start_time": "2022-05-22T15:04:00.068Z"
   },
   {
    "duration": 15,
    "start_time": "2022-05-22T15:04:00.352Z"
   },
   {
    "duration": 174,
    "start_time": "2022-05-22T15:04:00.369Z"
   },
   {
    "duration": 35,
    "start_time": "2022-05-22T15:04:00.545Z"
   },
   {
    "duration": 12,
    "start_time": "2022-05-22T15:04:00.582Z"
   },
   {
    "duration": 174,
    "start_time": "2022-05-22T15:04:00.596Z"
   },
   {
    "duration": 17,
    "start_time": "2022-05-22T15:04:00.772Z"
   },
   {
    "duration": 16,
    "start_time": "2022-05-22T15:04:00.794Z"
   },
   {
    "duration": 41,
    "start_time": "2022-05-22T15:04:00.812Z"
   },
   {
    "duration": 0,
    "start_time": "2022-05-22T15:04:00.855Z"
   },
   {
    "duration": 252,
    "start_time": "2022-05-22T15:13:35.217Z"
   },
   {
    "duration": 3,
    "start_time": "2022-05-22T15:13:37.361Z"
   },
   {
    "duration": 109,
    "start_time": "2022-05-22T15:13:37.366Z"
   },
   {
    "duration": 16,
    "start_time": "2022-05-22T15:13:37.477Z"
   },
   {
    "duration": 10,
    "start_time": "2022-05-22T15:13:37.495Z"
   },
   {
    "duration": 45,
    "start_time": "2022-05-22T15:13:37.507Z"
   },
   {
    "duration": 2,
    "start_time": "2022-05-22T15:13:37.554Z"
   },
   {
    "duration": 27,
    "start_time": "2022-05-22T15:13:37.558Z"
   },
   {
    "duration": 10,
    "start_time": "2022-05-22T15:13:37.587Z"
   },
   {
    "duration": 481,
    "start_time": "2022-05-22T15:13:37.601Z"
   },
   {
    "duration": 12,
    "start_time": "2022-05-22T15:13:38.084Z"
   },
   {
    "duration": 72,
    "start_time": "2022-05-22T15:13:38.098Z"
   },
   {
    "duration": 17,
    "start_time": "2022-05-22T15:13:38.172Z"
   },
   {
    "duration": 96,
    "start_time": "2022-05-22T15:13:38.191Z"
   },
   {
    "duration": 3,
    "start_time": "2022-05-22T15:13:38.288Z"
   },
   {
    "duration": 18,
    "start_time": "2022-05-22T15:13:38.292Z"
   },
   {
    "duration": 6,
    "start_time": "2022-05-22T15:13:38.312Z"
   },
   {
    "duration": 7,
    "start_time": "2022-05-22T15:13:38.319Z"
   },
   {
    "duration": 32,
    "start_time": "2022-05-22T15:13:38.328Z"
   },
   {
    "duration": 9,
    "start_time": "2022-05-22T15:13:38.361Z"
   },
   {
    "duration": 10,
    "start_time": "2022-05-22T15:13:38.372Z"
   },
   {
    "duration": 19,
    "start_time": "2022-05-22T15:13:38.384Z"
   },
   {
    "duration": 47,
    "start_time": "2022-05-22T15:13:38.405Z"
   },
   {
    "duration": 5,
    "start_time": "2022-05-22T15:13:38.454Z"
   },
   {
    "duration": 31,
    "start_time": "2022-05-22T15:13:38.462Z"
   },
   {
    "duration": 22,
    "start_time": "2022-05-22T15:13:38.495Z"
   },
   {
    "duration": 63,
    "start_time": "2022-05-22T15:13:38.518Z"
   },
   {
    "duration": 19,
    "start_time": "2022-05-22T15:13:38.582Z"
   },
   {
    "duration": 400,
    "start_time": "2022-05-22T15:13:38.602Z"
   },
   {
    "duration": 21,
    "start_time": "2022-05-22T15:13:39.004Z"
   },
   {
    "duration": 382,
    "start_time": "2022-05-22T15:13:39.027Z"
   },
   {
    "duration": 10,
    "start_time": "2022-05-22T15:13:39.410Z"
   },
   {
    "duration": 319,
    "start_time": "2022-05-22T15:13:39.422Z"
   },
   {
    "duration": 16,
    "start_time": "2022-05-22T15:13:39.743Z"
   },
   {
    "duration": 8,
    "start_time": "2022-05-22T15:13:39.760Z"
   },
   {
    "duration": 24,
    "start_time": "2022-05-22T15:13:39.770Z"
   },
   {
    "duration": 10,
    "start_time": "2022-05-22T15:13:39.795Z"
   },
   {
    "duration": 48,
    "start_time": "2022-05-22T15:13:39.806Z"
   },
   {
    "duration": 17,
    "start_time": "2022-05-22T15:13:39.855Z"
   },
   {
    "duration": 397,
    "start_time": "2022-05-22T15:13:39.874Z"
   },
   {
    "duration": 24,
    "start_time": "2022-05-22T15:13:40.273Z"
   },
   {
    "duration": 7,
    "start_time": "2022-05-22T15:13:40.298Z"
   },
   {
    "duration": 52,
    "start_time": "2022-05-22T15:13:40.306Z"
   },
   {
    "duration": 21,
    "start_time": "2022-05-22T15:13:40.360Z"
   },
   {
    "duration": 36,
    "start_time": "2022-05-22T15:13:40.382Z"
   },
   {
    "duration": 125,
    "start_time": "2022-05-22T15:13:40.420Z"
   },
   {
    "duration": 285,
    "start_time": "2022-05-22T15:13:40.551Z"
   },
   {
    "duration": 34,
    "start_time": "2022-05-22T15:13:40.838Z"
   },
   {
    "duration": 155,
    "start_time": "2022-05-22T15:13:40.873Z"
   },
   {
    "duration": 24,
    "start_time": "2022-05-22T15:13:41.030Z"
   },
   {
    "duration": 166,
    "start_time": "2022-05-22T15:13:41.055Z"
   },
   {
    "duration": 42,
    "start_time": "2022-05-22T15:13:41.222Z"
   },
   {
    "duration": 11,
    "start_time": "2022-05-22T15:13:41.266Z"
   },
   {
    "duration": 156,
    "start_time": "2022-05-22T15:13:41.279Z"
   },
   {
    "duration": 27,
    "start_time": "2022-05-22T15:13:41.437Z"
   },
   {
    "duration": 13,
    "start_time": "2022-05-22T15:13:41.465Z"
   },
   {
    "duration": 2,
    "start_time": "2022-05-22T15:13:41.480Z"
   },
   {
    "duration": 225,
    "start_time": "2022-05-22T15:13:41.483Z"
   },
   {
    "duration": 191,
    "start_time": "2022-05-22T15:14:47.279Z"
   },
   {
    "duration": 3,
    "start_time": "2022-05-22T15:15:19.744Z"
   },
   {
    "duration": 189,
    "start_time": "2022-05-22T15:15:23.225Z"
   },
   {
    "duration": 161,
    "start_time": "2022-05-22T15:16:15.650Z"
   },
   {
    "duration": 171,
    "start_time": "2022-05-22T15:17:14.352Z"
   },
   {
    "duration": 4,
    "start_time": "2022-05-22T18:39:47.997Z"
   },
   {
    "duration": 4,
    "start_time": "2022-05-22T18:39:49.756Z"
   },
   {
    "duration": 187,
    "start_time": "2022-05-22T18:39:49.763Z"
   },
   {
    "duration": 40,
    "start_time": "2022-05-22T18:39:49.952Z"
   },
   {
    "duration": 11,
    "start_time": "2022-05-22T18:39:49.995Z"
   },
   {
    "duration": 21,
    "start_time": "2022-05-22T18:39:50.008Z"
   },
   {
    "duration": 13,
    "start_time": "2022-05-22T18:39:50.031Z"
   },
   {
    "duration": 34,
    "start_time": "2022-05-22T18:39:50.045Z"
   },
   {
    "duration": 11,
    "start_time": "2022-05-22T18:39:50.080Z"
   },
   {
    "duration": 469,
    "start_time": "2022-05-22T18:39:50.094Z"
   },
   {
    "duration": 11,
    "start_time": "2022-05-22T18:39:50.565Z"
   },
   {
    "duration": 50,
    "start_time": "2022-05-22T18:39:50.577Z"
   },
   {
    "duration": 34,
    "start_time": "2022-05-22T18:39:50.629Z"
   },
   {
    "duration": 93,
    "start_time": "2022-05-22T18:39:50.665Z"
   },
   {
    "duration": 3,
    "start_time": "2022-05-22T18:39:50.760Z"
   },
   {
    "duration": 16,
    "start_time": "2022-05-22T18:39:50.764Z"
   },
   {
    "duration": 7,
    "start_time": "2022-05-22T18:39:50.781Z"
   },
   {
    "duration": 6,
    "start_time": "2022-05-22T18:39:50.790Z"
   },
   {
    "duration": 17,
    "start_time": "2022-05-22T18:39:50.798Z"
   },
   {
    "duration": 7,
    "start_time": "2022-05-22T18:39:50.817Z"
   },
   {
    "duration": 34,
    "start_time": "2022-05-22T18:39:50.825Z"
   },
   {
    "duration": 21,
    "start_time": "2022-05-22T18:39:50.861Z"
   },
   {
    "duration": 14,
    "start_time": "2022-05-22T18:39:50.884Z"
   },
   {
    "duration": 6,
    "start_time": "2022-05-22T18:39:50.899Z"
   },
   {
    "duration": 64,
    "start_time": "2022-05-22T18:39:50.908Z"
   },
   {
    "duration": 22,
    "start_time": "2022-05-22T18:39:50.974Z"
   },
   {
    "duration": 33,
    "start_time": "2022-05-22T18:39:50.998Z"
   },
   {
    "duration": 37,
    "start_time": "2022-05-22T18:39:51.033Z"
   },
   {
    "duration": 396,
    "start_time": "2022-05-22T18:39:51.072Z"
   },
   {
    "duration": 23,
    "start_time": "2022-05-22T18:39:51.469Z"
   },
   {
    "duration": 373,
    "start_time": "2022-05-22T18:39:51.493Z"
   },
   {
    "duration": 8,
    "start_time": "2022-05-22T18:39:51.868Z"
   },
   {
    "duration": 425,
    "start_time": "2022-05-22T18:39:51.877Z"
   },
   {
    "duration": 10,
    "start_time": "2022-05-22T18:39:52.304Z"
   },
   {
    "duration": 15,
    "start_time": "2022-05-22T18:39:52.315Z"
   },
   {
    "duration": 34,
    "start_time": "2022-05-22T18:39:52.332Z"
   },
   {
    "duration": 12,
    "start_time": "2022-05-22T18:39:52.368Z"
   },
   {
    "duration": 22,
    "start_time": "2022-05-22T18:39:52.382Z"
   },
   {
    "duration": 16,
    "start_time": "2022-05-22T18:39:52.406Z"
   },
   {
    "duration": 430,
    "start_time": "2022-05-22T18:39:52.424Z"
   },
   {
    "duration": 29,
    "start_time": "2022-05-22T18:39:52.874Z"
   },
   {
    "duration": 9,
    "start_time": "2022-05-22T18:39:52.905Z"
   },
   {
    "duration": 22,
    "start_time": "2022-05-22T18:39:52.916Z"
   },
   {
    "duration": 18,
    "start_time": "2022-05-22T18:39:52.940Z"
   },
   {
    "duration": 34,
    "start_time": "2022-05-22T18:39:52.959Z"
   },
   {
    "duration": 17,
    "start_time": "2022-05-22T18:39:52.994Z"
   },
   {
    "duration": 323,
    "start_time": "2022-05-22T18:39:53.013Z"
   },
   {
    "duration": 37,
    "start_time": "2022-05-22T18:39:53.337Z"
   },
   {
    "duration": 165,
    "start_time": "2022-05-22T18:39:53.375Z"
   },
   {
    "duration": 20,
    "start_time": "2022-05-22T18:39:53.542Z"
   },
   {
    "duration": 168,
    "start_time": "2022-05-22T18:39:53.563Z"
   },
   {
    "duration": 34,
    "start_time": "2022-05-22T18:39:53.732Z"
   },
   {
    "duration": 12,
    "start_time": "2022-05-22T18:39:53.768Z"
   },
   {
    "duration": 165,
    "start_time": "2022-05-22T18:39:53.782Z"
   },
   {
    "duration": 15,
    "start_time": "2022-05-22T18:39:53.952Z"
   },
   {
    "duration": 13,
    "start_time": "2022-05-22T18:39:53.969Z"
   },
   {
    "duration": 6,
    "start_time": "2022-05-22T18:39:53.984Z"
   },
   {
    "duration": 206,
    "start_time": "2022-05-22T18:39:53.992Z"
   },
   {
    "duration": 8,
    "start_time": "2022-05-22T18:53:26.900Z"
   },
   {
    "duration": 15,
    "start_time": "2022-05-22T20:18:06.120Z"
   },
   {
    "duration": 15,
    "start_time": "2022-05-22T20:18:23.109Z"
   },
   {
    "duration": 4,
    "start_time": "2022-05-22T20:18:40.664Z"
   },
   {
    "duration": 143,
    "start_time": "2022-05-22T20:18:40.671Z"
   },
   {
    "duration": 16,
    "start_time": "2022-05-22T20:18:40.816Z"
   },
   {
    "duration": 12,
    "start_time": "2022-05-22T20:18:40.834Z"
   },
   {
    "duration": 13,
    "start_time": "2022-05-22T20:18:40.852Z"
   },
   {
    "duration": 5,
    "start_time": "2022-05-22T20:18:40.866Z"
   },
   {
    "duration": 25,
    "start_time": "2022-05-22T20:18:40.873Z"
   },
   {
    "duration": 10,
    "start_time": "2022-05-22T20:18:40.900Z"
   },
   {
    "duration": 457,
    "start_time": "2022-05-22T20:18:40.912Z"
   },
   {
    "duration": 11,
    "start_time": "2022-05-22T20:18:41.371Z"
   },
   {
    "duration": 41,
    "start_time": "2022-05-22T20:18:41.384Z"
   },
   {
    "duration": 34,
    "start_time": "2022-05-22T20:18:41.426Z"
   },
   {
    "duration": 66,
    "start_time": "2022-05-22T20:18:41.461Z"
   },
   {
    "duration": 3,
    "start_time": "2022-05-22T20:18:41.528Z"
   },
   {
    "duration": 13,
    "start_time": "2022-05-22T20:18:41.552Z"
   },
   {
    "duration": 5,
    "start_time": "2022-05-22T20:18:41.567Z"
   },
   {
    "duration": 6,
    "start_time": "2022-05-22T20:18:41.574Z"
   },
   {
    "duration": 10,
    "start_time": "2022-05-22T20:18:41.581Z"
   },
   {
    "duration": 6,
    "start_time": "2022-05-22T20:18:41.592Z"
   },
   {
    "duration": 7,
    "start_time": "2022-05-22T20:18:41.599Z"
   },
   {
    "duration": 52,
    "start_time": "2022-05-22T20:18:41.608Z"
   },
   {
    "duration": 13,
    "start_time": "2022-05-22T20:18:41.661Z"
   },
   {
    "duration": 4,
    "start_time": "2022-05-22T20:18:41.676Z"
   },
   {
    "duration": 28,
    "start_time": "2022-05-22T20:18:41.682Z"
   },
   {
    "duration": 49,
    "start_time": "2022-05-22T20:18:41.712Z"
   },
   {
    "duration": 27,
    "start_time": "2022-05-22T20:18:41.762Z"
   },
   {
    "duration": 18,
    "start_time": "2022-05-22T20:18:41.791Z"
   },
   {
    "duration": 407,
    "start_time": "2022-05-22T20:18:41.810Z"
   },
   {
    "duration": 21,
    "start_time": "2022-05-22T20:18:42.221Z"
   },
   {
    "duration": 445,
    "start_time": "2022-05-22T20:18:42.251Z"
   },
   {
    "duration": 9,
    "start_time": "2022-05-22T20:18:42.698Z"
   },
   {
    "duration": 659,
    "start_time": "2022-05-22T20:18:42.709Z"
   },
   {
    "duration": 10,
    "start_time": "2022-05-22T20:18:43.369Z"
   },
   {
    "duration": 8,
    "start_time": "2022-05-22T20:18:43.380Z"
   },
   {
    "duration": 78,
    "start_time": "2022-05-22T20:18:43.389Z"
   },
   {
    "duration": 10,
    "start_time": "2022-05-22T20:18:43.468Z"
   },
   {
    "duration": 14,
    "start_time": "2022-05-22T20:18:43.480Z"
   },
   {
    "duration": 56,
    "start_time": "2022-05-22T20:18:43.496Z"
   },
   {
    "duration": 356,
    "start_time": "2022-05-22T20:18:43.553Z"
   },
   {
    "duration": 24,
    "start_time": "2022-05-22T20:18:43.911Z"
   },
   {
    "duration": 19,
    "start_time": "2022-05-22T20:18:43.937Z"
   },
   {
    "duration": 20,
    "start_time": "2022-05-22T20:18:43.958Z"
   },
   {
    "duration": 7,
    "start_time": "2022-05-22T20:18:43.980Z"
   },
   {
    "duration": 29,
    "start_time": "2022-05-22T20:18:43.988Z"
   },
   {
    "duration": 36,
    "start_time": "2022-05-22T20:18:44.019Z"
   },
   {
    "duration": 281,
    "start_time": "2022-05-22T20:18:44.057Z"
   },
   {
    "duration": 34,
    "start_time": "2022-05-22T20:18:44.340Z"
   },
   {
    "duration": 166,
    "start_time": "2022-05-22T20:18:44.375Z"
   },
   {
    "duration": 20,
    "start_time": "2022-05-22T20:18:44.543Z"
   },
   {
    "duration": 170,
    "start_time": "2022-05-22T20:18:44.564Z"
   },
   {
    "duration": 33,
    "start_time": "2022-05-22T20:18:44.736Z"
   },
   {
    "duration": 11,
    "start_time": "2022-05-22T20:18:44.771Z"
   },
   {
    "duration": 146,
    "start_time": "2022-05-22T20:18:44.783Z"
   },
   {
    "duration": 22,
    "start_time": "2022-05-22T20:18:44.930Z"
   },
   {
    "duration": 14,
    "start_time": "2022-05-22T20:18:44.953Z"
   },
   {
    "duration": 5,
    "start_time": "2022-05-22T20:18:44.968Z"
   },
   {
    "duration": 193,
    "start_time": "2022-05-22T20:18:44.974Z"
   },
   {
    "duration": 9,
    "start_time": "2022-05-22T20:18:45.169Z"
   },
   {
    "duration": 16,
    "start_time": "2022-05-22T20:18:45.179Z"
   },
   {
    "duration": 3,
    "start_time": "2022-05-22T20:19:42.739Z"
   },
   {
    "duration": 4,
    "start_time": "2022-05-22T20:19:47.414Z"
   },
   {
    "duration": 106,
    "start_time": "2022-05-22T20:19:47.420Z"
   },
   {
    "duration": 17,
    "start_time": "2022-05-22T20:19:47.527Z"
   },
   {
    "duration": 16,
    "start_time": "2022-05-22T20:19:47.545Z"
   },
   {
    "duration": 12,
    "start_time": "2022-05-22T20:19:47.563Z"
   },
   {
    "duration": 4,
    "start_time": "2022-05-22T20:19:47.576Z"
   },
   {
    "duration": 25,
    "start_time": "2022-05-22T20:19:47.581Z"
   },
   {
    "duration": 10,
    "start_time": "2022-05-22T20:19:47.608Z"
   },
   {
    "duration": 495,
    "start_time": "2022-05-22T20:19:47.652Z"
   },
   {
    "duration": 15,
    "start_time": "2022-05-22T20:19:48.150Z"
   },
   {
    "duration": 47,
    "start_time": "2022-05-22T20:19:48.167Z"
   },
   {
    "duration": 45,
    "start_time": "2022-05-22T20:19:48.216Z"
   },
   {
    "duration": 70,
    "start_time": "2022-05-22T20:19:48.265Z"
   },
   {
    "duration": 15,
    "start_time": "2022-05-22T20:19:48.337Z"
   },
   {
    "duration": 13,
    "start_time": "2022-05-22T20:19:48.354Z"
   },
   {
    "duration": 7,
    "start_time": "2022-05-22T20:19:48.368Z"
   },
   {
    "duration": 5,
    "start_time": "2022-05-22T20:19:48.377Z"
   },
   {
    "duration": 12,
    "start_time": "2022-05-22T20:19:48.384Z"
   },
   {
    "duration": 5,
    "start_time": "2022-05-22T20:19:48.397Z"
   },
   {
    "duration": 49,
    "start_time": "2022-05-22T20:19:48.404Z"
   },
   {
    "duration": 20,
    "start_time": "2022-05-22T20:19:48.455Z"
   },
   {
    "duration": 14,
    "start_time": "2022-05-22T20:19:48.477Z"
   },
   {
    "duration": 5,
    "start_time": "2022-05-22T20:19:48.493Z"
   },
   {
    "duration": 59,
    "start_time": "2022-05-22T20:19:48.500Z"
   },
   {
    "duration": 23,
    "start_time": "2022-05-22T20:19:48.561Z"
   },
   {
    "duration": 30,
    "start_time": "2022-05-22T20:19:48.586Z"
   },
   {
    "duration": 40,
    "start_time": "2022-05-22T20:19:48.618Z"
   },
   {
    "duration": 427,
    "start_time": "2022-05-22T20:19:48.660Z"
   },
   {
    "duration": 23,
    "start_time": "2022-05-22T20:19:49.088Z"
   },
   {
    "duration": 388,
    "start_time": "2022-05-22T20:19:49.113Z"
   },
   {
    "duration": 13,
    "start_time": "2022-05-22T20:19:49.503Z"
   },
   {
    "duration": 441,
    "start_time": "2022-05-22T20:19:49.518Z"
   },
   {
    "duration": 11,
    "start_time": "2022-05-22T20:19:49.961Z"
   },
   {
    "duration": 8,
    "start_time": "2022-05-22T20:19:49.973Z"
   },
   {
    "duration": 36,
    "start_time": "2022-05-22T20:19:49.983Z"
   },
   {
    "duration": 11,
    "start_time": "2022-05-22T20:19:50.021Z"
   },
   {
    "duration": 16,
    "start_time": "2022-05-22T20:19:50.055Z"
   },
   {
    "duration": 18,
    "start_time": "2022-05-22T20:19:50.072Z"
   },
   {
    "duration": 396,
    "start_time": "2022-05-22T20:19:50.091Z"
   },
   {
    "duration": 29,
    "start_time": "2022-05-22T20:19:50.489Z"
   },
   {
    "duration": 6,
    "start_time": "2022-05-22T20:19:50.520Z"
   },
   {
    "duration": 39,
    "start_time": "2022-05-22T20:19:50.527Z"
   },
   {
    "duration": 12,
    "start_time": "2022-05-22T20:19:50.567Z"
   },
   {
    "duration": 32,
    "start_time": "2022-05-22T20:19:50.580Z"
   },
   {
    "duration": 38,
    "start_time": "2022-05-22T20:19:50.614Z"
   },
   {
    "duration": 283,
    "start_time": "2022-05-22T20:19:50.653Z"
   },
   {
    "duration": 32,
    "start_time": "2022-05-22T20:19:50.938Z"
   },
   {
    "duration": 161,
    "start_time": "2022-05-22T20:19:50.972Z"
   },
   {
    "duration": 23,
    "start_time": "2022-05-22T20:19:51.135Z"
   },
   {
    "duration": 154,
    "start_time": "2022-05-22T20:19:51.159Z"
   },
   {
    "duration": 39,
    "start_time": "2022-05-22T20:19:51.314Z"
   },
   {
    "duration": 12,
    "start_time": "2022-05-22T20:19:51.354Z"
   },
   {
    "duration": 142,
    "start_time": "2022-05-22T20:19:51.368Z"
   },
   {
    "duration": 16,
    "start_time": "2022-05-22T20:19:51.512Z"
   },
   {
    "duration": 30,
    "start_time": "2022-05-22T20:19:51.530Z"
   },
   {
    "duration": 7,
    "start_time": "2022-05-22T20:19:51.561Z"
   },
   {
    "duration": 169,
    "start_time": "2022-05-22T20:19:51.569Z"
   },
   {
    "duration": 13,
    "start_time": "2022-05-22T20:19:51.740Z"
   },
   {
    "duration": 8,
    "start_time": "2022-05-22T20:19:51.754Z"
   },
   {
    "duration": 56,
    "start_time": "2022-05-23T10:34:54.767Z"
   },
   {
    "duration": 56,
    "start_time": "2022-05-23T11:25:28.187Z"
   },
   {
    "duration": 6,
    "start_time": "2022-05-23T11:25:32.882Z"
   },
   {
    "duration": 1866,
    "start_time": "2022-05-23T11:25:40.257Z"
   },
   {
    "duration": 446,
    "start_time": "2022-05-23T11:25:42.125Z"
   },
   {
    "duration": 72,
    "start_time": "2022-05-23T11:25:42.573Z"
   },
   {
    "duration": 10,
    "start_time": "2022-05-23T11:25:42.648Z"
   },
   {
    "duration": 11,
    "start_time": "2022-05-23T11:25:42.660Z"
   },
   {
    "duration": 4,
    "start_time": "2022-05-23T11:25:42.673Z"
   },
   {
    "duration": 27,
    "start_time": "2022-05-23T11:25:42.679Z"
   },
   {
    "duration": 10,
    "start_time": "2022-05-23T11:25:42.707Z"
   },
   {
    "duration": 472,
    "start_time": "2022-05-23T11:25:42.718Z"
   },
   {
    "duration": 17,
    "start_time": "2022-05-23T11:25:43.203Z"
   },
   {
    "duration": 98,
    "start_time": "2022-05-23T11:25:43.222Z"
   },
   {
    "duration": 23,
    "start_time": "2022-05-23T11:25:43.323Z"
   },
   {
    "duration": 105,
    "start_time": "2022-05-23T11:25:43.348Z"
   },
   {
    "duration": 3,
    "start_time": "2022-05-23T11:25:43.455Z"
   },
   {
    "duration": 18,
    "start_time": "2022-05-23T11:25:43.460Z"
   },
   {
    "duration": 26,
    "start_time": "2022-05-23T11:25:43.480Z"
   },
   {
    "duration": 12,
    "start_time": "2022-05-23T11:25:43.509Z"
   },
   {
    "duration": 17,
    "start_time": "2022-05-23T11:25:43.523Z"
   },
   {
    "duration": 7,
    "start_time": "2022-05-23T11:25:43.542Z"
   },
   {
    "duration": 7,
    "start_time": "2022-05-23T11:25:43.550Z"
   },
   {
    "duration": 53,
    "start_time": "2022-05-23T11:25:43.559Z"
   },
   {
    "duration": 13,
    "start_time": "2022-05-23T11:25:43.614Z"
   },
   {
    "duration": 5,
    "start_time": "2022-05-23T11:25:43.629Z"
   },
   {
    "duration": 70,
    "start_time": "2022-05-23T11:25:43.636Z"
   },
   {
    "duration": 23,
    "start_time": "2022-05-23T11:25:43.708Z"
   },
   {
    "duration": 37,
    "start_time": "2022-05-23T11:25:43.732Z"
   },
   {
    "duration": 55,
    "start_time": "2022-05-23T11:25:43.771Z"
   },
   {
    "duration": 415,
    "start_time": "2022-05-23T11:25:43.829Z"
   },
   {
    "duration": 27,
    "start_time": "2022-05-23T11:25:44.246Z"
   },
   {
    "duration": 395,
    "start_time": "2022-05-23T11:25:44.275Z"
   },
   {
    "duration": 9,
    "start_time": "2022-05-23T11:25:44.671Z"
   },
   {
    "duration": 442,
    "start_time": "2022-05-23T11:25:44.682Z"
   },
   {
    "duration": 11,
    "start_time": "2022-05-23T11:25:45.125Z"
   },
   {
    "duration": 8,
    "start_time": "2022-05-23T11:25:45.138Z"
   },
   {
    "duration": 29,
    "start_time": "2022-05-23T11:25:45.147Z"
   },
   {
    "duration": 28,
    "start_time": "2022-05-23T11:25:45.178Z"
   },
   {
    "duration": 18,
    "start_time": "2022-05-23T11:25:45.208Z"
   },
   {
    "duration": 17,
    "start_time": "2022-05-23T11:25:45.228Z"
   },
   {
    "duration": 409,
    "start_time": "2022-05-23T11:25:45.247Z"
   },
   {
    "duration": 25,
    "start_time": "2022-05-23T11:25:45.658Z"
   },
   {
    "duration": 19,
    "start_time": "2022-05-23T11:25:45.685Z"
   },
   {
    "duration": 37,
    "start_time": "2022-05-23T11:25:45.706Z"
   },
   {
    "duration": 10,
    "start_time": "2022-05-23T11:25:45.745Z"
   },
   {
    "duration": 65,
    "start_time": "2022-05-23T11:25:45.756Z"
   },
   {
    "duration": 20,
    "start_time": "2022-05-23T11:25:45.823Z"
   },
   {
    "duration": 403,
    "start_time": "2022-05-23T11:25:45.845Z"
   },
   {
    "duration": 26,
    "start_time": "2022-05-23T11:25:46.250Z"
   },
   {
    "duration": 191,
    "start_time": "2022-05-23T11:25:46.278Z"
   },
   {
    "duration": 15,
    "start_time": "2022-05-23T11:25:46.471Z"
   },
   {
    "duration": 295,
    "start_time": "2022-05-23T11:25:46.487Z"
   },
   {
    "duration": 39,
    "start_time": "2022-05-23T11:25:46.786Z"
   },
   {
    "duration": 12,
    "start_time": "2022-05-23T11:25:46.827Z"
   },
   {
    "duration": 169,
    "start_time": "2022-05-23T11:25:46.841Z"
   },
   {
    "duration": 17,
    "start_time": "2022-05-23T11:25:47.012Z"
   },
   {
    "duration": 13,
    "start_time": "2022-05-23T11:25:47.031Z"
   },
   {
    "duration": 4,
    "start_time": "2022-05-23T11:25:47.046Z"
   },
   {
    "duration": 205,
    "start_time": "2022-05-23T11:25:47.051Z"
   },
   {
    "duration": 9,
    "start_time": "2022-05-23T11:25:47.258Z"
   },
   {
    "duration": 13,
    "start_time": "2022-05-23T11:25:47.269Z"
   },
   {
    "duration": 0,
    "start_time": "2022-05-23T11:25:47.284Z"
   },
   {
    "duration": 0,
    "start_time": "2022-05-23T11:25:47.302Z"
   },
   {
    "duration": 9,
    "start_time": "2022-05-23T11:27:22.127Z"
   },
   {
    "duration": 70,
    "start_time": "2022-05-23T11:29:37.336Z"
   },
   {
    "duration": 8,
    "start_time": "2022-05-23T11:29:50.439Z"
   },
   {
    "duration": 8,
    "start_time": "2022-05-23T11:30:44.645Z"
   },
   {
    "duration": 3,
    "start_time": "2022-05-23T11:30:50.968Z"
   },
   {
    "duration": 124,
    "start_time": "2022-05-23T11:30:50.989Z"
   },
   {
    "duration": 24,
    "start_time": "2022-05-23T11:30:51.116Z"
   },
   {
    "duration": 12,
    "start_time": "2022-05-23T11:30:51.143Z"
   },
   {
    "duration": 43,
    "start_time": "2022-05-23T11:30:51.157Z"
   },
   {
    "duration": 10,
    "start_time": "2022-05-23T11:30:51.202Z"
   },
   {
    "duration": 37,
    "start_time": "2022-05-23T11:30:51.214Z"
   },
   {
    "duration": 11,
    "start_time": "2022-05-23T11:30:51.253Z"
   },
   {
    "duration": 485,
    "start_time": "2022-05-23T11:30:51.267Z"
   },
   {
    "duration": 11,
    "start_time": "2022-05-23T11:30:51.754Z"
   },
   {
    "duration": 76,
    "start_time": "2022-05-23T11:30:51.767Z"
   },
   {
    "duration": 18,
    "start_time": "2022-05-23T11:30:51.845Z"
   },
   {
    "duration": 102,
    "start_time": "2022-05-23T11:30:51.866Z"
   },
   {
    "duration": 2,
    "start_time": "2022-05-23T11:30:51.970Z"
   },
   {
    "duration": 29,
    "start_time": "2022-05-23T11:30:51.974Z"
   },
   {
    "duration": 8,
    "start_time": "2022-05-23T11:30:52.005Z"
   },
   {
    "duration": 7,
    "start_time": "2022-05-23T11:30:52.015Z"
   },
   {
    "duration": 12,
    "start_time": "2022-05-23T11:30:52.024Z"
   },
   {
    "duration": 8,
    "start_time": "2022-05-23T11:30:52.038Z"
   },
   {
    "duration": 9,
    "start_time": "2022-05-23T11:30:52.047Z"
   },
   {
    "duration": 16,
    "start_time": "2022-05-23T11:30:52.101Z"
   },
   {
    "duration": 14,
    "start_time": "2022-05-23T11:30:52.119Z"
   },
   {
    "duration": 6,
    "start_time": "2022-05-23T11:30:52.135Z"
   },
   {
    "duration": 70,
    "start_time": "2022-05-23T11:30:52.144Z"
   },
   {
    "duration": 21,
    "start_time": "2022-05-23T11:30:52.216Z"
   },
   {
    "duration": 32,
    "start_time": "2022-05-23T11:30:52.238Z"
   },
   {
    "duration": 17,
    "start_time": "2022-05-23T11:30:52.301Z"
   },
   {
    "duration": 397,
    "start_time": "2022-05-23T11:30:52.320Z"
   },
   {
    "duration": 21,
    "start_time": "2022-05-23T11:30:52.718Z"
   },
   {
    "duration": 375,
    "start_time": "2022-05-23T11:30:52.740Z"
   },
   {
    "duration": 9,
    "start_time": "2022-05-23T11:30:53.116Z"
   },
   {
    "duration": 291,
    "start_time": "2022-05-23T11:30:53.126Z"
   },
   {
    "duration": 9,
    "start_time": "2022-05-23T11:30:53.419Z"
   },
   {
    "duration": 12,
    "start_time": "2022-05-23T11:30:53.430Z"
   },
   {
    "duration": 24,
    "start_time": "2022-05-23T11:30:53.444Z"
   },
   {
    "duration": 9,
    "start_time": "2022-05-23T11:30:53.470Z"
   },
   {
    "duration": 14,
    "start_time": "2022-05-23T11:30:53.502Z"
   },
   {
    "duration": 16,
    "start_time": "2022-05-23T11:30:53.517Z"
   },
   {
    "duration": 375,
    "start_time": "2022-05-23T11:30:53.535Z"
   },
   {
    "duration": 23,
    "start_time": "2022-05-23T11:30:53.911Z"
   },
   {
    "duration": 6,
    "start_time": "2022-05-23T11:30:53.937Z"
   },
   {
    "duration": 20,
    "start_time": "2022-05-23T11:30:53.944Z"
   },
   {
    "duration": 38,
    "start_time": "2022-05-23T11:30:53.965Z"
   },
   {
    "duration": 27,
    "start_time": "2022-05-23T11:30:54.005Z"
   },
   {
    "duration": 15,
    "start_time": "2022-05-23T11:30:54.034Z"
   },
   {
    "duration": 325,
    "start_time": "2022-05-23T11:30:54.051Z"
   },
   {
    "duration": 43,
    "start_time": "2022-05-23T11:30:54.377Z"
   },
   {
    "duration": 255,
    "start_time": "2022-05-23T11:30:54.423Z"
   },
   {
    "duration": 29,
    "start_time": "2022-05-23T11:30:54.680Z"
   },
   {
    "duration": 160,
    "start_time": "2022-05-23T11:30:54.710Z"
   },
   {
    "duration": 44,
    "start_time": "2022-05-23T11:30:54.872Z"
   },
   {
    "duration": 11,
    "start_time": "2022-05-23T11:30:54.918Z"
   },
   {
    "duration": 152,
    "start_time": "2022-05-23T11:30:54.930Z"
   },
   {
    "duration": 24,
    "start_time": "2022-05-23T11:30:55.084Z"
   },
   {
    "duration": 14,
    "start_time": "2022-05-23T11:30:55.110Z"
   },
   {
    "duration": 5,
    "start_time": "2022-05-23T11:30:55.126Z"
   },
   {
    "duration": 187,
    "start_time": "2022-05-23T11:30:55.133Z"
   },
   {
    "duration": 9,
    "start_time": "2022-05-23T11:30:55.322Z"
   },
   {
    "duration": 10,
    "start_time": "2022-05-23T11:30:55.332Z"
   },
   {
    "duration": 43,
    "start_time": "2022-05-23T11:30:55.344Z"
   },
   {
    "duration": 0,
    "start_time": "2022-05-23T11:30:55.388Z"
   },
   {
    "duration": 0,
    "start_time": "2022-05-23T11:30:55.390Z"
   },
   {
    "duration": 64,
    "start_time": "2022-05-23T11:33:15.527Z"
   },
   {
    "duration": 19,
    "start_time": "2022-05-23T11:34:42.921Z"
   },
   {
    "duration": 28,
    "start_time": "2022-05-23T12:13:36.759Z"
   },
   {
    "duration": 21,
    "start_time": "2022-05-23T12:19:52.460Z"
   },
   {
    "duration": 8,
    "start_time": "2022-05-23T12:37:19.331Z"
   },
   {
    "duration": 10,
    "start_time": "2022-05-23T12:38:09.547Z"
   },
   {
    "duration": 10,
    "start_time": "2022-05-23T12:38:18.289Z"
   },
   {
    "duration": 25,
    "start_time": "2022-05-23T12:43:21.528Z"
   },
   {
    "duration": 205,
    "start_time": "2022-05-23T12:43:29.224Z"
   },
   {
    "duration": 206,
    "start_time": "2022-05-23T12:44:12.213Z"
   },
   {
    "duration": 1140,
    "start_time": "2022-05-23T12:44:15.163Z"
   },
   {
    "duration": 3,
    "start_time": "2022-05-23T12:44:17.344Z"
   },
   {
    "duration": 120,
    "start_time": "2022-05-23T12:44:17.352Z"
   },
   {
    "duration": 25,
    "start_time": "2022-05-23T12:44:17.474Z"
   },
   {
    "duration": 10,
    "start_time": "2022-05-23T12:44:17.502Z"
   },
   {
    "duration": 18,
    "start_time": "2022-05-23T12:44:17.515Z"
   },
   {
    "duration": 11,
    "start_time": "2022-05-23T12:44:17.535Z"
   },
   {
    "duration": 37,
    "start_time": "2022-05-23T12:44:17.548Z"
   },
   {
    "duration": 25,
    "start_time": "2022-05-23T12:44:17.586Z"
   },
   {
    "duration": 508,
    "start_time": "2022-05-23T12:44:17.613Z"
   },
   {
    "duration": 14,
    "start_time": "2022-05-23T12:44:18.123Z"
   },
   {
    "duration": 75,
    "start_time": "2022-05-23T12:44:18.140Z"
   },
   {
    "duration": 18,
    "start_time": "2022-05-23T12:44:18.217Z"
   },
   {
    "duration": 115,
    "start_time": "2022-05-23T12:44:18.238Z"
   },
   {
    "duration": 3,
    "start_time": "2022-05-23T12:44:18.355Z"
   },
   {
    "duration": 18,
    "start_time": "2022-05-23T12:44:18.360Z"
   },
   {
    "duration": 8,
    "start_time": "2022-05-23T12:44:18.402Z"
   },
   {
    "duration": 10,
    "start_time": "2022-05-23T12:44:18.411Z"
   },
   {
    "duration": 34,
    "start_time": "2022-05-23T12:44:18.423Z"
   },
   {
    "duration": 8,
    "start_time": "2022-05-23T12:44:18.460Z"
   },
   {
    "duration": 9,
    "start_time": "2022-05-23T12:44:18.470Z"
   },
   {
    "duration": 42,
    "start_time": "2022-05-23T12:44:18.481Z"
   },
   {
    "duration": 24,
    "start_time": "2022-05-23T12:44:18.526Z"
   },
   {
    "duration": 5,
    "start_time": "2022-05-23T12:44:18.552Z"
   },
   {
    "duration": 51,
    "start_time": "2022-05-23T12:44:18.558Z"
   },
   {
    "duration": 29,
    "start_time": "2022-05-23T12:44:18.614Z"
   },
   {
    "duration": 33,
    "start_time": "2022-05-23T12:44:18.645Z"
   },
   {
    "duration": 36,
    "start_time": "2022-05-23T12:44:18.680Z"
   },
   {
    "duration": 427,
    "start_time": "2022-05-23T12:44:18.719Z"
   },
   {
    "duration": 20,
    "start_time": "2022-05-23T12:44:19.148Z"
   },
   {
    "duration": 394,
    "start_time": "2022-05-23T12:44:19.170Z"
   },
   {
    "duration": 11,
    "start_time": "2022-05-23T12:44:19.566Z"
   },
   {
    "duration": 334,
    "start_time": "2022-05-23T12:44:19.579Z"
   },
   {
    "duration": 12,
    "start_time": "2022-05-23T12:44:19.915Z"
   },
   {
    "duration": 15,
    "start_time": "2022-05-23T12:44:19.930Z"
   },
   {
    "duration": 4091,
    "start_time": "2022-05-23T12:44:19.947Z"
   },
   {
    "duration": 12,
    "start_time": "2022-05-23T12:44:24.039Z"
   },
   {
    "duration": 21,
    "start_time": "2022-05-23T12:44:24.052Z"
   },
   {
    "duration": 28,
    "start_time": "2022-05-23T12:44:24.075Z"
   },
   {
    "duration": 403,
    "start_time": "2022-05-23T12:44:24.104Z"
   },
   {
    "duration": 29,
    "start_time": "2022-05-23T12:44:24.509Z"
   },
   {
    "duration": 11,
    "start_time": "2022-05-23T12:44:24.540Z"
   },
   {
    "duration": 23,
    "start_time": "2022-05-23T12:44:24.553Z"
   },
   {
    "duration": 11,
    "start_time": "2022-05-23T12:44:24.603Z"
   },
   {
    "duration": 45,
    "start_time": "2022-05-23T12:44:24.616Z"
   },
   {
    "duration": 148,
    "start_time": "2022-05-23T12:44:24.663Z"
   },
   {
    "duration": 301,
    "start_time": "2022-05-23T12:44:24.813Z"
   },
   {
    "duration": 32,
    "start_time": "2022-05-23T12:44:25.116Z"
   },
   {
    "duration": 190,
    "start_time": "2022-05-23T12:44:25.150Z"
   },
   {
    "duration": 15,
    "start_time": "2022-05-23T12:44:25.342Z"
   },
   {
    "duration": 173,
    "start_time": "2022-05-23T12:44:25.358Z"
   },
   {
    "duration": 26,
    "start_time": "2022-05-23T12:44:25.534Z"
   },
   {
    "duration": 11,
    "start_time": "2022-05-23T12:44:25.561Z"
   },
   {
    "duration": 151,
    "start_time": "2022-05-23T12:44:25.573Z"
   },
   {
    "duration": 15,
    "start_time": "2022-05-23T12:44:25.725Z"
   },
   {
    "duration": 43,
    "start_time": "2022-05-23T12:44:25.742Z"
   },
   {
    "duration": 22,
    "start_time": "2022-05-23T12:44:25.787Z"
   },
   {
    "duration": 179,
    "start_time": "2022-05-23T12:44:25.811Z"
   },
   {
    "duration": 222,
    "start_time": "2022-05-23T12:44:25.992Z"
   },
   {
    "duration": 0,
    "start_time": "2022-05-23T12:44:26.216Z"
   },
   {
    "duration": 0,
    "start_time": "2022-05-23T12:44:26.217Z"
   },
   {
    "duration": 0,
    "start_time": "2022-05-23T12:44:26.218Z"
   },
   {
    "duration": 0,
    "start_time": "2022-05-23T12:44:26.219Z"
   },
   {
    "duration": 0,
    "start_time": "2022-05-23T12:44:26.220Z"
   },
   {
    "duration": 0,
    "start_time": "2022-05-23T12:44:26.221Z"
   },
   {
    "duration": 23,
    "start_time": "2022-05-23T12:45:49.991Z"
   },
   {
    "duration": 26,
    "start_time": "2022-05-23T12:46:43.853Z"
   },
   {
    "duration": 29,
    "start_time": "2022-05-23T12:46:57.167Z"
   },
   {
    "duration": 23,
    "start_time": "2022-05-23T12:57:37.143Z"
   },
   {
    "duration": 56,
    "start_time": "2022-05-23T12:57:45.288Z"
   },
   {
    "duration": 9,
    "start_time": "2022-05-23T12:58:28.923Z"
   },
   {
    "duration": 4,
    "start_time": "2022-05-23T12:58:41.661Z"
   },
   {
    "duration": 134,
    "start_time": "2022-05-23T12:58:41.672Z"
   },
   {
    "duration": 36,
    "start_time": "2022-05-23T12:58:41.808Z"
   },
   {
    "duration": 11,
    "start_time": "2022-05-23T12:58:41.846Z"
   },
   {
    "duration": 19,
    "start_time": "2022-05-23T12:58:41.859Z"
   },
   {
    "duration": 23,
    "start_time": "2022-05-23T12:58:41.879Z"
   },
   {
    "duration": 32,
    "start_time": "2022-05-23T12:58:41.903Z"
   },
   {
    "duration": 11,
    "start_time": "2022-05-23T12:58:41.937Z"
   },
   {
    "duration": 476,
    "start_time": "2022-05-23T12:58:41.950Z"
   },
   {
    "duration": 13,
    "start_time": "2022-05-23T12:58:42.427Z"
   },
   {
    "duration": 80,
    "start_time": "2022-05-23T12:58:42.443Z"
   },
   {
    "duration": 19,
    "start_time": "2022-05-23T12:58:42.525Z"
   },
   {
    "duration": 100,
    "start_time": "2022-05-23T12:58:42.546Z"
   },
   {
    "duration": 2,
    "start_time": "2022-05-23T12:58:42.648Z"
   },
   {
    "duration": 18,
    "start_time": "2022-05-23T12:58:42.652Z"
   },
   {
    "duration": 18,
    "start_time": "2022-05-23T12:58:42.672Z"
   },
   {
    "duration": 9,
    "start_time": "2022-05-23T12:58:42.702Z"
   },
   {
    "duration": 40,
    "start_time": "2022-05-23T12:58:42.712Z"
   },
   {
    "duration": 16,
    "start_time": "2022-05-23T12:58:42.754Z"
   },
   {
    "duration": 18,
    "start_time": "2022-05-23T12:58:42.771Z"
   },
   {
    "duration": 31,
    "start_time": "2022-05-23T12:58:42.790Z"
   },
   {
    "duration": 17,
    "start_time": "2022-05-23T12:58:42.823Z"
   },
   {
    "duration": 21,
    "start_time": "2022-05-23T12:58:42.841Z"
   },
   {
    "duration": 47,
    "start_time": "2022-05-23T12:58:42.863Z"
   },
   {
    "duration": 21,
    "start_time": "2022-05-23T12:58:42.911Z"
   },
   {
    "duration": 41,
    "start_time": "2022-05-23T12:58:42.934Z"
   },
   {
    "duration": 36,
    "start_time": "2022-05-23T12:58:42.977Z"
   },
   {
    "duration": 395,
    "start_time": "2022-05-23T12:58:43.015Z"
   },
   {
    "duration": 20,
    "start_time": "2022-05-23T12:58:43.413Z"
   },
   {
    "duration": 367,
    "start_time": "2022-05-23T12:58:43.435Z"
   },
   {
    "duration": 9,
    "start_time": "2022-05-23T12:58:43.803Z"
   },
   {
    "duration": 296,
    "start_time": "2022-05-23T12:58:43.813Z"
   },
   {
    "duration": 10,
    "start_time": "2022-05-23T12:58:44.110Z"
   },
   {
    "duration": 7,
    "start_time": "2022-05-23T12:58:44.122Z"
   },
   {
    "duration": 30,
    "start_time": "2022-05-23T12:58:44.130Z"
   },
   {
    "duration": 43,
    "start_time": "2022-05-23T12:58:44.162Z"
   },
   {
    "duration": 19,
    "start_time": "2022-05-23T12:58:44.207Z"
   },
   {
    "duration": 15,
    "start_time": "2022-05-23T12:58:44.228Z"
   },
   {
    "duration": 452,
    "start_time": "2022-05-23T12:58:44.245Z"
   },
   {
    "duration": 22,
    "start_time": "2022-05-23T12:58:44.699Z"
   },
   {
    "duration": 6,
    "start_time": "2022-05-23T12:58:44.723Z"
   },
   {
    "duration": 26,
    "start_time": "2022-05-23T12:58:44.730Z"
   },
   {
    "duration": 8,
    "start_time": "2022-05-23T12:58:44.757Z"
   },
   {
    "duration": 56,
    "start_time": "2022-05-23T12:58:44.766Z"
   },
   {
    "duration": 15,
    "start_time": "2022-05-23T12:58:44.824Z"
   },
   {
    "duration": 272,
    "start_time": "2022-05-23T12:58:44.840Z"
   },
   {
    "duration": 27,
    "start_time": "2022-05-23T12:58:45.114Z"
   },
   {
    "duration": 175,
    "start_time": "2022-05-23T12:58:45.143Z"
   },
   {
    "duration": 15,
    "start_time": "2022-05-23T12:58:45.321Z"
   },
   {
    "duration": 178,
    "start_time": "2022-05-23T12:58:45.338Z"
   },
   {
    "duration": 28,
    "start_time": "2022-05-23T12:58:45.518Z"
   },
   {
    "duration": 13,
    "start_time": "2022-05-23T12:58:45.548Z"
   },
   {
    "duration": 172,
    "start_time": "2022-05-23T12:58:45.563Z"
   },
   {
    "duration": 17,
    "start_time": "2022-05-23T12:58:45.737Z"
   },
   {
    "duration": 22,
    "start_time": "2022-05-23T12:58:45.756Z"
   },
   {
    "duration": 22,
    "start_time": "2022-05-23T12:58:45.780Z"
   },
   {
    "duration": 173,
    "start_time": "2022-05-23T12:58:45.803Z"
   },
   {
    "duration": 33,
    "start_time": "2022-05-23T12:58:45.979Z"
   },
   {
    "duration": 32,
    "start_time": "2022-05-23T12:58:46.015Z"
   },
   {
    "duration": 9,
    "start_time": "2022-05-23T12:58:46.049Z"
   },
   {
    "duration": 177,
    "start_time": "2022-05-23T12:58:46.060Z"
   },
   {
    "duration": 0,
    "start_time": "2022-05-23T12:58:46.238Z"
   },
   {
    "duration": 0,
    "start_time": "2022-05-23T12:58:46.240Z"
   },
   {
    "duration": 0,
    "start_time": "2022-05-23T12:58:46.241Z"
   },
   {
    "duration": 0,
    "start_time": "2022-05-23T12:58:46.243Z"
   },
   {
    "duration": 0,
    "start_time": "2022-05-23T12:58:46.244Z"
   },
   {
    "duration": 31,
    "start_time": "2022-05-23T12:59:54.562Z"
   },
   {
    "duration": 34,
    "start_time": "2022-05-23T13:00:05.124Z"
   },
   {
    "duration": 38,
    "start_time": "2022-05-23T13:02:18.797Z"
   },
   {
    "duration": 46,
    "start_time": "2022-05-23T13:02:27.957Z"
   },
   {
    "duration": 27,
    "start_time": "2022-05-23T13:03:18.059Z"
   },
   {
    "duration": 8,
    "start_time": "2022-05-23T13:04:56.927Z"
   },
   {
    "duration": 10,
    "start_time": "2022-05-23T13:05:37.012Z"
   },
   {
    "duration": 4,
    "start_time": "2022-05-23T13:06:07.593Z"
   },
   {
    "duration": 4,
    "start_time": "2022-05-23T13:06:09.258Z"
   },
   {
    "duration": 114,
    "start_time": "2022-05-23T13:06:09.269Z"
   },
   {
    "duration": 26,
    "start_time": "2022-05-23T13:06:09.385Z"
   },
   {
    "duration": 12,
    "start_time": "2022-05-23T13:06:09.413Z"
   },
   {
    "duration": 12,
    "start_time": "2022-05-23T13:06:09.427Z"
   },
   {
    "duration": 4,
    "start_time": "2022-05-23T13:06:09.441Z"
   },
   {
    "duration": 55,
    "start_time": "2022-05-23T13:06:09.447Z"
   },
   {
    "duration": 10,
    "start_time": "2022-05-23T13:06:09.504Z"
   },
   {
    "duration": 474,
    "start_time": "2022-05-23T13:06:09.516Z"
   },
   {
    "duration": 12,
    "start_time": "2022-05-23T13:06:10.002Z"
   },
   {
    "duration": 48,
    "start_time": "2022-05-23T13:06:10.016Z"
   },
   {
    "duration": 42,
    "start_time": "2022-05-23T13:06:10.065Z"
   },
   {
    "duration": 64,
    "start_time": "2022-05-23T13:06:10.109Z"
   },
   {
    "duration": 27,
    "start_time": "2022-05-23T13:06:10.175Z"
   },
   {
    "duration": 12,
    "start_time": "2022-05-23T13:06:10.204Z"
   },
   {
    "duration": 5,
    "start_time": "2022-05-23T13:06:10.218Z"
   },
   {
    "duration": 6,
    "start_time": "2022-05-23T13:06:10.224Z"
   },
   {
    "duration": 9,
    "start_time": "2022-05-23T13:06:10.232Z"
   },
   {
    "duration": 5,
    "start_time": "2022-05-23T13:06:10.242Z"
   },
   {
    "duration": 6,
    "start_time": "2022-05-23T13:06:10.248Z"
   },
   {
    "duration": 18,
    "start_time": "2022-05-23T13:06:10.302Z"
   },
   {
    "duration": 13,
    "start_time": "2022-05-23T13:06:10.321Z"
   },
   {
    "duration": 13,
    "start_time": "2022-05-23T13:06:10.335Z"
   },
   {
    "duration": 57,
    "start_time": "2022-05-23T13:06:10.350Z"
   },
   {
    "duration": 21,
    "start_time": "2022-05-23T13:06:10.409Z"
   },
   {
    "duration": 30,
    "start_time": "2022-05-23T13:06:10.432Z"
   },
   {
    "duration": 41,
    "start_time": "2022-05-23T13:06:10.464Z"
   },
   {
    "duration": 407,
    "start_time": "2022-05-23T13:06:10.506Z"
   },
   {
    "duration": 23,
    "start_time": "2022-05-23T13:06:10.916Z"
   },
   {
    "duration": 457,
    "start_time": "2022-05-23T13:06:10.940Z"
   },
   {
    "duration": 11,
    "start_time": "2022-05-23T13:06:11.398Z"
   },
   {
    "duration": 309,
    "start_time": "2022-05-23T13:06:11.410Z"
   },
   {
    "duration": 12,
    "start_time": "2022-05-23T13:06:11.720Z"
   },
   {
    "duration": 7,
    "start_time": "2022-05-23T13:06:11.733Z"
   },
   {
    "duration": 25,
    "start_time": "2022-05-23T13:06:11.741Z"
   },
   {
    "duration": 45,
    "start_time": "2022-05-23T13:06:11.768Z"
   },
   {
    "duration": 18,
    "start_time": "2022-05-23T13:06:11.815Z"
   },
   {
    "duration": 16,
    "start_time": "2022-05-23T13:06:11.834Z"
   },
   {
    "duration": 483,
    "start_time": "2022-05-23T13:06:11.852Z"
   },
   {
    "duration": 22,
    "start_time": "2022-05-23T13:06:12.337Z"
   },
   {
    "duration": 6,
    "start_time": "2022-05-23T13:06:12.360Z"
   },
   {
    "duration": 42,
    "start_time": "2022-05-23T13:06:12.368Z"
   },
   {
    "duration": 8,
    "start_time": "2022-05-23T13:06:12.411Z"
   },
   {
    "duration": 29,
    "start_time": "2022-05-23T13:06:12.421Z"
   },
   {
    "duration": 15,
    "start_time": "2022-05-23T13:06:12.452Z"
   },
   {
    "duration": 302,
    "start_time": "2022-05-23T13:06:12.502Z"
   },
   {
    "duration": 26,
    "start_time": "2022-05-23T13:06:12.805Z"
   },
   {
    "duration": 165,
    "start_time": "2022-05-23T13:06:12.832Z"
   },
   {
    "duration": 16,
    "start_time": "2022-05-23T13:06:12.999Z"
   },
   {
    "duration": 170,
    "start_time": "2022-05-23T13:06:13.017Z"
   },
   {
    "duration": 31,
    "start_time": "2022-05-23T13:06:13.189Z"
   },
   {
    "duration": 11,
    "start_time": "2022-05-23T13:06:13.222Z"
   },
   {
    "duration": 149,
    "start_time": "2022-05-23T13:06:13.235Z"
   },
   {
    "duration": 24,
    "start_time": "2022-05-23T13:06:13.386Z"
   },
   {
    "duration": 11,
    "start_time": "2022-05-23T13:06:13.412Z"
   },
   {
    "duration": 4,
    "start_time": "2022-05-23T13:06:13.424Z"
   },
   {
    "duration": 183,
    "start_time": "2022-05-23T13:06:13.430Z"
   },
   {
    "duration": 21,
    "start_time": "2022-05-23T13:06:13.614Z"
   },
   {
    "duration": 31,
    "start_time": "2022-05-23T13:06:13.636Z"
   },
   {
    "duration": 6,
    "start_time": "2022-05-23T13:06:13.670Z"
   },
   {
    "duration": 36,
    "start_time": "2022-05-23T13:06:13.677Z"
   },
   {
    "duration": 0,
    "start_time": "2022-05-23T13:06:13.715Z"
   },
   {
    "duration": 0,
    "start_time": "2022-05-23T13:06:13.716Z"
   },
   {
    "duration": 0,
    "start_time": "2022-05-23T13:06:13.717Z"
   },
   {
    "duration": 0,
    "start_time": "2022-05-23T13:06:13.718Z"
   },
   {
    "duration": 0,
    "start_time": "2022-05-23T13:06:13.719Z"
   },
   {
    "duration": 0,
    "start_time": "2022-05-23T13:06:13.720Z"
   },
   {
    "duration": 8,
    "start_time": "2022-05-23T13:07:50.318Z"
   },
   {
    "duration": 11,
    "start_time": "2022-05-23T13:08:26.405Z"
   },
   {
    "duration": 606,
    "start_time": "2022-05-23T13:09:38.133Z"
   },
   {
    "duration": 1081,
    "start_time": "2022-05-23T13:09:46.466Z"
   },
   {
    "duration": 582,
    "start_time": "2022-05-23T13:10:41.957Z"
   },
   {
    "duration": 794,
    "start_time": "2022-05-23T13:10:59.997Z"
   },
   {
    "duration": 34,
    "start_time": "2022-05-23T13:11:08.423Z"
   },
   {
    "duration": 32,
    "start_time": "2022-05-23T13:11:34.948Z"
   },
   {
    "duration": 695,
    "start_time": "2022-05-23T13:12:15.083Z"
   },
   {
    "duration": 4,
    "start_time": "2022-05-23T13:12:16.490Z"
   },
   {
    "duration": 118,
    "start_time": "2022-05-23T13:12:16.511Z"
   },
   {
    "duration": 23,
    "start_time": "2022-05-23T13:12:16.630Z"
   },
   {
    "duration": 10,
    "start_time": "2022-05-23T13:12:16.654Z"
   },
   {
    "duration": 13,
    "start_time": "2022-05-23T13:12:16.666Z"
   },
   {
    "duration": 8,
    "start_time": "2022-05-23T13:12:16.681Z"
   },
   {
    "duration": 25,
    "start_time": "2022-05-23T13:12:16.701Z"
   },
   {
    "duration": 14,
    "start_time": "2022-05-23T13:12:16.727Z"
   },
   {
    "duration": 466,
    "start_time": "2022-05-23T13:12:16.742Z"
   },
   {
    "duration": 12,
    "start_time": "2022-05-23T13:12:17.209Z"
   },
   {
    "duration": 52,
    "start_time": "2022-05-23T13:12:17.224Z"
   },
   {
    "duration": 39,
    "start_time": "2022-05-23T13:12:17.278Z"
   },
   {
    "duration": 98,
    "start_time": "2022-05-23T13:12:17.319Z"
   },
   {
    "duration": 2,
    "start_time": "2022-05-23T13:12:17.419Z"
   },
   {
    "duration": 17,
    "start_time": "2022-05-23T13:12:17.423Z"
   },
   {
    "duration": 6,
    "start_time": "2022-05-23T13:12:17.442Z"
   },
   {
    "duration": 7,
    "start_time": "2022-05-23T13:12:17.449Z"
   },
   {
    "duration": 44,
    "start_time": "2022-05-23T13:12:17.458Z"
   },
   {
    "duration": 6,
    "start_time": "2022-05-23T13:12:17.504Z"
   },
   {
    "duration": 10,
    "start_time": "2022-05-23T13:12:17.511Z"
   },
   {
    "duration": 19,
    "start_time": "2022-05-23T13:12:17.523Z"
   },
   {
    "duration": 15,
    "start_time": "2022-05-23T13:12:17.543Z"
   },
   {
    "duration": 42,
    "start_time": "2022-05-23T13:12:17.560Z"
   },
   {
    "duration": 33,
    "start_time": "2022-05-23T13:12:17.604Z"
   },
   {
    "duration": 25,
    "start_time": "2022-05-23T13:12:17.639Z"
   },
   {
    "duration": 61,
    "start_time": "2022-05-23T13:12:17.666Z"
   },
   {
    "duration": 17,
    "start_time": "2022-05-23T13:12:17.728Z"
   },
   {
    "duration": 391,
    "start_time": "2022-05-23T13:12:17.749Z"
   },
   {
    "duration": 21,
    "start_time": "2022-05-23T13:12:18.142Z"
   },
   {
    "duration": 405,
    "start_time": "2022-05-23T13:12:18.165Z"
   },
   {
    "duration": 11,
    "start_time": "2022-05-23T13:12:18.572Z"
   },
   {
    "duration": 330,
    "start_time": "2022-05-23T13:12:18.585Z"
   },
   {
    "duration": 10,
    "start_time": "2022-05-23T13:12:18.917Z"
   },
   {
    "duration": 6,
    "start_time": "2022-05-23T13:12:18.929Z"
   },
   {
    "duration": 26,
    "start_time": "2022-05-23T13:12:18.937Z"
   },
   {
    "duration": 9,
    "start_time": "2022-05-23T13:12:18.965Z"
   },
   {
    "duration": 15,
    "start_time": "2022-05-23T13:12:19.002Z"
   },
   {
    "duration": 15,
    "start_time": "2022-05-23T13:12:19.018Z"
   },
   {
    "duration": 468,
    "start_time": "2022-05-23T13:12:19.035Z"
   },
   {
    "duration": 24,
    "start_time": "2022-05-23T13:12:19.505Z"
   },
   {
    "duration": 7,
    "start_time": "2022-05-23T13:12:19.530Z"
   },
   {
    "duration": 20,
    "start_time": "2022-05-23T13:12:19.538Z"
   },
   {
    "duration": 44,
    "start_time": "2022-05-23T13:12:19.560Z"
   },
   {
    "duration": 37,
    "start_time": "2022-05-23T13:12:19.605Z"
   },
   {
    "duration": 15,
    "start_time": "2022-05-23T13:12:19.644Z"
   },
   {
    "duration": 329,
    "start_time": "2022-05-23T13:12:19.660Z"
   },
   {
    "duration": 35,
    "start_time": "2022-05-23T13:12:19.990Z"
   },
   {
    "duration": 179,
    "start_time": "2022-05-23T13:12:20.026Z"
   },
   {
    "duration": 17,
    "start_time": "2022-05-23T13:12:20.207Z"
   },
   {
    "duration": 193,
    "start_time": "2022-05-23T13:12:20.226Z"
   },
   {
    "duration": 29,
    "start_time": "2022-05-23T13:12:20.421Z"
   },
   {
    "duration": 10,
    "start_time": "2022-05-23T13:12:20.452Z"
   },
   {
    "duration": 162,
    "start_time": "2022-05-23T13:12:20.464Z"
   },
   {
    "duration": 14,
    "start_time": "2022-05-23T13:12:20.628Z"
   },
   {
    "duration": 15,
    "start_time": "2022-05-23T13:12:20.644Z"
   },
   {
    "duration": 15,
    "start_time": "2022-05-23T13:12:20.661Z"
   },
   {
    "duration": 191,
    "start_time": "2022-05-23T13:12:20.677Z"
   },
   {
    "duration": 34,
    "start_time": "2022-05-23T13:12:20.869Z"
   },
   {
    "duration": 33,
    "start_time": "2022-05-23T13:12:20.904Z"
   },
   {
    "duration": 902,
    "start_time": "2022-05-23T13:12:20.938Z"
   },
   {
    "duration": 0,
    "start_time": "2022-05-23T13:12:21.842Z"
   },
   {
    "duration": 0,
    "start_time": "2022-05-23T13:12:21.843Z"
   },
   {
    "duration": 0,
    "start_time": "2022-05-23T13:12:21.844Z"
   },
   {
    "duration": 0,
    "start_time": "2022-05-23T13:12:21.846Z"
   },
   {
    "duration": 0,
    "start_time": "2022-05-23T13:12:21.847Z"
   },
   {
    "duration": 0,
    "start_time": "2022-05-23T13:12:21.848Z"
   },
   {
    "duration": 0,
    "start_time": "2022-05-23T13:12:21.850Z"
   },
   {
    "duration": 37,
    "start_time": "2022-05-23T13:13:02.606Z"
   },
   {
    "duration": 3,
    "start_time": "2022-05-23T13:13:04.186Z"
   },
   {
    "duration": 133,
    "start_time": "2022-05-23T13:13:04.195Z"
   },
   {
    "duration": 22,
    "start_time": "2022-05-23T13:13:04.330Z"
   },
   {
    "duration": 11,
    "start_time": "2022-05-23T13:13:04.353Z"
   },
   {
    "duration": 25,
    "start_time": "2022-05-23T13:13:04.367Z"
   },
   {
    "duration": 8,
    "start_time": "2022-05-23T13:13:04.394Z"
   },
   {
    "duration": 37,
    "start_time": "2022-05-23T13:13:04.403Z"
   },
   {
    "duration": 9,
    "start_time": "2022-05-23T13:13:04.442Z"
   },
   {
    "duration": 475,
    "start_time": "2022-05-23T13:13:04.452Z"
   },
   {
    "duration": 11,
    "start_time": "2022-05-23T13:13:04.929Z"
   },
   {
    "duration": 69,
    "start_time": "2022-05-23T13:13:04.943Z"
   },
   {
    "duration": 18,
    "start_time": "2022-05-23T13:13:05.013Z"
   },
   {
    "duration": 95,
    "start_time": "2022-05-23T13:13:05.033Z"
   },
   {
    "duration": 4,
    "start_time": "2022-05-23T13:13:05.130Z"
   },
   {
    "duration": 26,
    "start_time": "2022-05-23T13:13:05.135Z"
   },
   {
    "duration": 6,
    "start_time": "2022-05-23T13:13:05.162Z"
   },
   {
    "duration": 6,
    "start_time": "2022-05-23T13:13:05.169Z"
   },
   {
    "duration": 31,
    "start_time": "2022-05-23T13:13:05.177Z"
   },
   {
    "duration": 5,
    "start_time": "2022-05-23T13:13:05.210Z"
   },
   {
    "duration": 8,
    "start_time": "2022-05-23T13:13:05.217Z"
   },
   {
    "duration": 16,
    "start_time": "2022-05-23T13:13:05.226Z"
   },
   {
    "duration": 14,
    "start_time": "2022-05-23T13:13:05.243Z"
   },
   {
    "duration": 44,
    "start_time": "2022-05-23T13:13:05.258Z"
   },
   {
    "duration": 28,
    "start_time": "2022-05-23T13:13:05.304Z"
   },
   {
    "duration": 20,
    "start_time": "2022-05-23T13:13:05.334Z"
   },
   {
    "duration": 60,
    "start_time": "2022-05-23T13:13:05.356Z"
   },
   {
    "duration": 18,
    "start_time": "2022-05-23T13:13:05.417Z"
   },
   {
    "duration": 391,
    "start_time": "2022-05-23T13:13:05.437Z"
   },
   {
    "duration": 24,
    "start_time": "2022-05-23T13:13:05.832Z"
   },
   {
    "duration": 365,
    "start_time": "2022-05-23T13:13:05.857Z"
   },
   {
    "duration": 8,
    "start_time": "2022-05-23T13:13:06.224Z"
   },
   {
    "duration": 290,
    "start_time": "2022-05-23T13:13:06.233Z"
   },
   {
    "duration": 10,
    "start_time": "2022-05-23T13:13:06.524Z"
   },
   {
    "duration": 11,
    "start_time": "2022-05-23T13:13:06.536Z"
   },
   {
    "duration": 26,
    "start_time": "2022-05-23T13:13:06.549Z"
   },
   {
    "duration": 27,
    "start_time": "2022-05-23T13:13:06.576Z"
   },
   {
    "duration": 14,
    "start_time": "2022-05-23T13:13:06.605Z"
   },
   {
    "duration": 16,
    "start_time": "2022-05-23T13:13:06.621Z"
   },
   {
    "duration": 502,
    "start_time": "2022-05-23T13:13:06.638Z"
   },
   {
    "duration": 45,
    "start_time": "2022-05-23T13:13:07.142Z"
   },
   {
    "duration": 19,
    "start_time": "2022-05-23T13:13:07.188Z"
   },
   {
    "duration": 23,
    "start_time": "2022-05-23T13:13:07.209Z"
   },
   {
    "duration": 10,
    "start_time": "2022-05-23T13:13:07.234Z"
   },
   {
    "duration": 59,
    "start_time": "2022-05-23T13:13:07.245Z"
   },
   {
    "duration": 16,
    "start_time": "2022-05-23T13:13:07.306Z"
   },
   {
    "duration": 284,
    "start_time": "2022-05-23T13:13:07.323Z"
   },
   {
    "duration": 28,
    "start_time": "2022-05-23T13:13:07.608Z"
   },
   {
    "duration": 168,
    "start_time": "2022-05-23T13:13:07.637Z"
   },
   {
    "duration": 15,
    "start_time": "2022-05-23T13:13:07.806Z"
   },
   {
    "duration": 188,
    "start_time": "2022-05-23T13:13:07.822Z"
   },
   {
    "duration": 27,
    "start_time": "2022-05-23T13:13:08.012Z"
   },
   {
    "duration": 11,
    "start_time": "2022-05-23T13:13:08.041Z"
   },
   {
    "duration": 155,
    "start_time": "2022-05-23T13:13:08.053Z"
   },
   {
    "duration": 17,
    "start_time": "2022-05-23T13:13:08.210Z"
   },
   {
    "duration": 13,
    "start_time": "2022-05-23T13:13:08.229Z"
   },
   {
    "duration": 7,
    "start_time": "2022-05-23T13:13:08.244Z"
   },
   {
    "duration": 202,
    "start_time": "2022-05-23T13:13:08.253Z"
   },
   {
    "duration": 27,
    "start_time": "2022-05-23T13:13:08.458Z"
   },
   {
    "duration": 54,
    "start_time": "2022-05-23T13:13:08.487Z"
   },
   {
    "duration": 10,
    "start_time": "2022-05-23T13:13:08.542Z"
   },
   {
    "duration": 13,
    "start_time": "2022-05-23T13:13:08.554Z"
   },
   {
    "duration": 0,
    "start_time": "2022-05-23T13:13:08.568Z"
   },
   {
    "duration": 0,
    "start_time": "2022-05-23T13:13:08.570Z"
   },
   {
    "duration": 0,
    "start_time": "2022-05-23T13:13:08.570Z"
   },
   {
    "duration": 0,
    "start_time": "2022-05-23T13:13:08.572Z"
   },
   {
    "duration": 0,
    "start_time": "2022-05-23T13:13:08.572Z"
   },
   {
    "duration": 0,
    "start_time": "2022-05-23T13:13:08.573Z"
   },
   {
    "duration": 12,
    "start_time": "2022-05-23T13:13:37.549Z"
   },
   {
    "duration": 13,
    "start_time": "2022-05-23T13:14:18.533Z"
   },
   {
    "duration": 10,
    "start_time": "2022-05-23T13:15:24.062Z"
   },
   {
    "duration": 7,
    "start_time": "2022-05-23T13:15:33.529Z"
   },
   {
    "duration": 4,
    "start_time": "2022-05-23T13:15:35.384Z"
   },
   {
    "duration": 116,
    "start_time": "2022-05-23T13:15:35.398Z"
   },
   {
    "duration": 22,
    "start_time": "2022-05-23T13:15:35.516Z"
   },
   {
    "duration": 11,
    "start_time": "2022-05-23T13:15:35.539Z"
   },
   {
    "duration": 20,
    "start_time": "2022-05-23T13:15:35.552Z"
   },
   {
    "duration": 8,
    "start_time": "2022-05-23T13:15:35.574Z"
   },
   {
    "duration": 35,
    "start_time": "2022-05-23T13:15:35.583Z"
   },
   {
    "duration": 9,
    "start_time": "2022-05-23T13:15:35.620Z"
   },
   {
    "duration": 502,
    "start_time": "2022-05-23T13:15:35.631Z"
   },
   {
    "duration": 12,
    "start_time": "2022-05-23T13:15:36.135Z"
   },
   {
    "duration": 72,
    "start_time": "2022-05-23T13:15:36.149Z"
   },
   {
    "duration": 16,
    "start_time": "2022-05-23T13:15:36.223Z"
   },
   {
    "duration": 97,
    "start_time": "2022-05-23T13:15:36.240Z"
   },
   {
    "duration": 3,
    "start_time": "2022-05-23T13:15:36.338Z"
   },
   {
    "duration": 23,
    "start_time": "2022-05-23T13:15:36.343Z"
   },
   {
    "duration": 7,
    "start_time": "2022-05-23T13:15:36.368Z"
   },
   {
    "duration": 6,
    "start_time": "2022-05-23T13:15:36.376Z"
   },
   {
    "duration": 25,
    "start_time": "2022-05-23T13:15:36.383Z"
   },
   {
    "duration": 19,
    "start_time": "2022-05-23T13:15:36.409Z"
   },
   {
    "duration": 9,
    "start_time": "2022-05-23T13:15:36.430Z"
   },
   {
    "duration": 34,
    "start_time": "2022-05-23T13:15:36.440Z"
   },
   {
    "duration": 15,
    "start_time": "2022-05-23T13:15:36.475Z"
   },
   {
    "duration": 5,
    "start_time": "2022-05-23T13:15:36.502Z"
   },
   {
    "duration": 31,
    "start_time": "2022-05-23T13:15:36.508Z"
   },
   {
    "duration": 22,
    "start_time": "2022-05-23T13:15:36.540Z"
   },
   {
    "duration": 67,
    "start_time": "2022-05-23T13:15:36.564Z"
   },
   {
    "duration": 18,
    "start_time": "2022-05-23T13:15:36.632Z"
   },
   {
    "duration": 394,
    "start_time": "2022-05-23T13:15:36.653Z"
   },
   {
    "duration": 21,
    "start_time": "2022-05-23T13:15:37.049Z"
   },
   {
    "duration": 369,
    "start_time": "2022-05-23T13:15:37.071Z"
   },
   {
    "duration": 9,
    "start_time": "2022-05-23T13:15:37.442Z"
   },
   {
    "duration": 301,
    "start_time": "2022-05-23T13:15:37.452Z"
   },
   {
    "duration": 9,
    "start_time": "2022-05-23T13:15:37.755Z"
   },
   {
    "duration": 27,
    "start_time": "2022-05-23T13:15:37.766Z"
   },
   {
    "duration": 44,
    "start_time": "2022-05-23T13:15:37.795Z"
   },
   {
    "duration": 9,
    "start_time": "2022-05-23T13:15:37.840Z"
   },
   {
    "duration": 44,
    "start_time": "2022-05-23T13:15:37.850Z"
   },
   {
    "duration": 30,
    "start_time": "2022-05-23T13:15:37.895Z"
   },
   {
    "duration": 453,
    "start_time": "2022-05-23T13:15:37.927Z"
   },
   {
    "duration": 32,
    "start_time": "2022-05-23T13:15:38.382Z"
   },
   {
    "duration": 6,
    "start_time": "2022-05-23T13:15:38.416Z"
   },
   {
    "duration": 22,
    "start_time": "2022-05-23T13:15:38.424Z"
   },
   {
    "duration": 10,
    "start_time": "2022-05-23T13:15:38.448Z"
   },
   {
    "duration": 67,
    "start_time": "2022-05-23T13:15:38.459Z"
   },
   {
    "duration": 18,
    "start_time": "2022-05-23T13:15:38.528Z"
   },
   {
    "duration": 271,
    "start_time": "2022-05-23T13:15:38.547Z"
   },
   {
    "duration": 25,
    "start_time": "2022-05-23T13:15:38.820Z"
   },
   {
    "duration": 162,
    "start_time": "2022-05-23T13:15:38.847Z"
   },
   {
    "duration": 14,
    "start_time": "2022-05-23T13:15:39.011Z"
   },
   {
    "duration": 161,
    "start_time": "2022-05-23T13:15:39.027Z"
   },
   {
    "duration": 32,
    "start_time": "2022-05-23T13:15:39.189Z"
   },
   {
    "duration": 10,
    "start_time": "2022-05-23T13:15:39.223Z"
   },
   {
    "duration": 151,
    "start_time": "2022-05-23T13:15:39.234Z"
   },
   {
    "duration": 22,
    "start_time": "2022-05-23T13:15:39.386Z"
   },
   {
    "duration": 19,
    "start_time": "2022-05-23T13:15:39.409Z"
   },
   {
    "duration": 4,
    "start_time": "2022-05-23T13:15:39.430Z"
   },
   {
    "duration": 170,
    "start_time": "2022-05-23T13:15:39.436Z"
   },
   {
    "duration": 20,
    "start_time": "2022-05-23T13:15:39.608Z"
   },
   {
    "duration": 29,
    "start_time": "2022-05-23T13:15:39.629Z"
   },
   {
    "duration": 8,
    "start_time": "2022-05-23T13:15:39.660Z"
   },
   {
    "duration": 37,
    "start_time": "2022-05-23T13:15:39.669Z"
   },
   {
    "duration": 35,
    "start_time": "2022-05-23T13:15:39.709Z"
   },
   {
    "duration": 0,
    "start_time": "2022-05-23T13:15:39.746Z"
   },
   {
    "duration": 0,
    "start_time": "2022-05-23T13:15:39.747Z"
   },
   {
    "duration": 0,
    "start_time": "2022-05-23T13:15:39.749Z"
   },
   {
    "duration": 0,
    "start_time": "2022-05-23T13:15:39.750Z"
   },
   {
    "duration": 0,
    "start_time": "2022-05-23T13:15:39.752Z"
   },
   {
    "duration": 9,
    "start_time": "2022-05-23T13:17:45.942Z"
   },
   {
    "duration": 9,
    "start_time": "2022-05-23T13:31:57.545Z"
   },
   {
    "duration": 8,
    "start_time": "2022-05-23T13:32:04.764Z"
   },
   {
    "duration": 22,
    "start_time": "2022-05-23T13:32:10.241Z"
   },
   {
    "duration": 6,
    "start_time": "2022-05-23T13:33:31.437Z"
   },
   {
    "duration": 5,
    "start_time": "2022-05-23T13:33:33.978Z"
   },
   {
    "duration": 4,
    "start_time": "2022-05-23T13:36:04.529Z"
   },
   {
    "duration": 7,
    "start_time": "2022-05-23T13:37:18.028Z"
   },
   {
    "duration": 5,
    "start_time": "2022-05-23T13:37:37.467Z"
   },
   {
    "duration": 49,
    "start_time": "2022-05-23T13:37:57.800Z"
   },
   {
    "duration": 47,
    "start_time": "2022-05-23T13:38:05.212Z"
   },
   {
    "duration": 33,
    "start_time": "2022-05-23T13:38:14.231Z"
   },
   {
    "duration": 3,
    "start_time": "2022-05-23T13:39:24.641Z"
   },
   {
    "duration": 4,
    "start_time": "2022-05-23T13:39:26.193Z"
   },
   {
    "duration": 143,
    "start_time": "2022-05-23T13:39:26.212Z"
   },
   {
    "duration": 23,
    "start_time": "2022-05-23T13:39:26.357Z"
   },
   {
    "duration": 10,
    "start_time": "2022-05-23T13:39:26.381Z"
   },
   {
    "duration": 40,
    "start_time": "2022-05-23T13:39:26.403Z"
   },
   {
    "duration": 3,
    "start_time": "2022-05-23T13:39:26.445Z"
   },
   {
    "duration": 27,
    "start_time": "2022-05-23T13:39:26.450Z"
   },
   {
    "duration": 11,
    "start_time": "2022-05-23T13:39:26.479Z"
   },
   {
    "duration": 552,
    "start_time": "2022-05-23T13:39:26.508Z"
   },
   {
    "duration": 11,
    "start_time": "2022-05-23T13:39:27.062Z"
   },
   {
    "duration": 105,
    "start_time": "2022-05-23T13:39:27.076Z"
   },
   {
    "duration": 44,
    "start_time": "2022-05-23T13:39:27.183Z"
   },
   {
    "duration": 93,
    "start_time": "2022-05-23T13:39:27.232Z"
   },
   {
    "duration": 3,
    "start_time": "2022-05-23T13:39:27.330Z"
   },
   {
    "duration": 18,
    "start_time": "2022-05-23T13:39:27.334Z"
   },
   {
    "duration": 16,
    "start_time": "2022-05-23T13:39:27.353Z"
   },
   {
    "duration": 15,
    "start_time": "2022-05-23T13:39:27.370Z"
   },
   {
    "duration": 19,
    "start_time": "2022-05-23T13:39:27.387Z"
   },
   {
    "duration": 49,
    "start_time": "2022-05-23T13:39:27.408Z"
   },
   {
    "duration": 18,
    "start_time": "2022-05-23T13:39:27.458Z"
   },
   {
    "duration": 32,
    "start_time": "2022-05-23T13:39:27.477Z"
   },
   {
    "duration": 26,
    "start_time": "2022-05-23T13:39:27.510Z"
   },
   {
    "duration": 28,
    "start_time": "2022-05-23T13:39:27.538Z"
   },
   {
    "duration": 61,
    "start_time": "2022-05-23T13:39:27.567Z"
   },
   {
    "duration": 30,
    "start_time": "2022-05-23T13:39:27.630Z"
   },
   {
    "duration": 66,
    "start_time": "2022-05-23T13:39:27.662Z"
   },
   {
    "duration": 27,
    "start_time": "2022-05-23T13:39:27.734Z"
   },
   {
    "duration": 486,
    "start_time": "2022-05-23T13:39:27.762Z"
   },
   {
    "duration": 23,
    "start_time": "2022-05-23T13:39:28.254Z"
   },
   {
    "duration": 517,
    "start_time": "2022-05-23T13:39:28.278Z"
   },
   {
    "duration": 22,
    "start_time": "2022-05-23T13:39:28.797Z"
   },
   {
    "duration": 362,
    "start_time": "2022-05-23T13:39:28.821Z"
   },
   {
    "duration": 18,
    "start_time": "2022-05-23T13:39:29.185Z"
   },
   {
    "duration": 13,
    "start_time": "2022-05-23T13:39:29.204Z"
   },
   {
    "duration": 51,
    "start_time": "2022-05-23T13:39:29.219Z"
   },
   {
    "duration": 11,
    "start_time": "2022-05-23T13:39:29.272Z"
   },
   {
    "duration": 24,
    "start_time": "2022-05-23T13:39:29.285Z"
   },
   {
    "duration": 24,
    "start_time": "2022-05-23T13:39:29.316Z"
   },
   {
    "duration": 547,
    "start_time": "2022-05-23T13:39:29.343Z"
   },
   {
    "duration": 49,
    "start_time": "2022-05-23T13:39:29.892Z"
   },
   {
    "duration": 7,
    "start_time": "2022-05-23T13:39:29.943Z"
   },
   {
    "duration": 20,
    "start_time": "2022-05-23T13:39:29.953Z"
   },
   {
    "duration": 42,
    "start_time": "2022-05-23T13:39:29.975Z"
   },
   {
    "duration": 53,
    "start_time": "2022-05-23T13:39:30.019Z"
   },
   {
    "duration": 15,
    "start_time": "2022-05-23T13:39:30.074Z"
   },
   {
    "duration": 329,
    "start_time": "2022-05-23T13:39:30.090Z"
   },
   {
    "duration": 33,
    "start_time": "2022-05-23T13:39:30.421Z"
   },
   {
    "duration": 187,
    "start_time": "2022-05-23T13:39:30.456Z"
   },
   {
    "duration": 15,
    "start_time": "2022-05-23T13:39:30.645Z"
   },
   {
    "duration": 199,
    "start_time": "2022-05-23T13:39:30.662Z"
   },
   {
    "duration": 44,
    "start_time": "2022-05-23T13:39:30.863Z"
   },
   {
    "duration": 28,
    "start_time": "2022-05-23T13:39:30.908Z"
   },
   {
    "duration": 162,
    "start_time": "2022-05-23T13:39:30.938Z"
   },
   {
    "duration": 34,
    "start_time": "2022-05-23T13:39:31.107Z"
   },
   {
    "duration": 42,
    "start_time": "2022-05-23T13:39:31.144Z"
   },
   {
    "duration": 40,
    "start_time": "2022-05-23T13:39:31.188Z"
   },
   {
    "duration": 233,
    "start_time": "2022-05-23T13:39:31.230Z"
   },
   {
    "duration": 45,
    "start_time": "2022-05-23T13:39:31.466Z"
   },
   {
    "duration": 50,
    "start_time": "2022-05-23T13:39:31.524Z"
   },
   {
    "duration": 9,
    "start_time": "2022-05-23T13:39:31.576Z"
   },
   {
    "duration": 40,
    "start_time": "2022-05-23T13:39:31.587Z"
   },
   {
    "duration": 31,
    "start_time": "2022-05-23T13:39:31.633Z"
   },
   {
    "duration": 17,
    "start_time": "2022-05-23T13:39:31.666Z"
   },
   {
    "duration": 13,
    "start_time": "2022-05-23T13:39:31.685Z"
   },
   {
    "duration": 53,
    "start_time": "2022-05-23T13:39:31.699Z"
   },
   {
    "duration": 0,
    "start_time": "2022-05-23T13:39:31.754Z"
   },
   {
    "duration": 5,
    "start_time": "2022-05-23T13:42:16.692Z"
   },
   {
    "duration": 7,
    "start_time": "2022-05-23T13:42:30.997Z"
   },
   {
    "duration": 39,
    "start_time": "2022-05-23T13:43:36.518Z"
   },
   {
    "duration": 5,
    "start_time": "2022-05-23T13:43:38.371Z"
   },
   {
    "duration": 168,
    "start_time": "2022-05-23T13:43:38.385Z"
   },
   {
    "duration": 23,
    "start_time": "2022-05-23T13:43:38.556Z"
   },
   {
    "duration": 10,
    "start_time": "2022-05-23T13:43:38.581Z"
   },
   {
    "duration": 22,
    "start_time": "2022-05-23T13:43:38.608Z"
   },
   {
    "duration": 14,
    "start_time": "2022-05-23T13:43:38.632Z"
   },
   {
    "duration": 46,
    "start_time": "2022-05-23T13:43:38.648Z"
   },
   {
    "duration": 14,
    "start_time": "2022-05-23T13:43:38.695Z"
   },
   {
    "duration": 536,
    "start_time": "2022-05-23T13:43:38.711Z"
   },
   {
    "duration": 13,
    "start_time": "2022-05-23T13:43:39.249Z"
   },
   {
    "duration": 86,
    "start_time": "2022-05-23T13:43:39.266Z"
   },
   {
    "duration": 17,
    "start_time": "2022-05-23T13:43:39.353Z"
   },
   {
    "duration": 100,
    "start_time": "2022-05-23T13:43:39.372Z"
   },
   {
    "duration": 3,
    "start_time": "2022-05-23T13:43:39.473Z"
   },
   {
    "duration": 45,
    "start_time": "2022-05-23T13:43:39.477Z"
   },
   {
    "duration": 26,
    "start_time": "2022-05-23T13:43:39.524Z"
   },
   {
    "duration": 25,
    "start_time": "2022-05-23T13:43:39.551Z"
   },
   {
    "duration": 31,
    "start_time": "2022-05-23T13:43:39.578Z"
   },
   {
    "duration": 39,
    "start_time": "2022-05-23T13:43:39.612Z"
   },
   {
    "duration": 28,
    "start_time": "2022-05-23T13:43:39.652Z"
   },
   {
    "duration": 49,
    "start_time": "2022-05-23T13:43:39.682Z"
   },
   {
    "duration": 20,
    "start_time": "2022-05-23T13:43:39.733Z"
   },
   {
    "duration": 10,
    "start_time": "2022-05-23T13:43:39.755Z"
   },
   {
    "duration": 71,
    "start_time": "2022-05-23T13:43:39.766Z"
   },
   {
    "duration": 22,
    "start_time": "2022-05-23T13:43:39.839Z"
   },
   {
    "duration": 54,
    "start_time": "2022-05-23T13:43:39.862Z"
   },
   {
    "duration": 19,
    "start_time": "2022-05-23T13:43:39.918Z"
   },
   {
    "duration": 437,
    "start_time": "2022-05-23T13:43:39.939Z"
   },
   {
    "duration": 25,
    "start_time": "2022-05-23T13:43:40.381Z"
   },
   {
    "duration": 426,
    "start_time": "2022-05-23T13:43:40.409Z"
   },
   {
    "duration": 8,
    "start_time": "2022-05-23T13:43:40.837Z"
   },
   {
    "duration": 356,
    "start_time": "2022-05-23T13:43:40.847Z"
   },
   {
    "duration": 18,
    "start_time": "2022-05-23T13:43:41.207Z"
   },
   {
    "duration": 41,
    "start_time": "2022-05-23T13:43:41.228Z"
   },
   {
    "duration": 51,
    "start_time": "2022-05-23T13:43:41.271Z"
   },
   {
    "duration": 39,
    "start_time": "2022-05-23T13:43:41.324Z"
   },
   {
    "duration": 43,
    "start_time": "2022-05-23T13:43:41.365Z"
   },
   {
    "duration": 37,
    "start_time": "2022-05-23T13:43:41.410Z"
   },
   {
    "duration": 518,
    "start_time": "2022-05-23T13:43:41.448Z"
   },
   {
    "duration": 22,
    "start_time": "2022-05-23T13:43:41.968Z"
   },
   {
    "duration": 17,
    "start_time": "2022-05-23T13:43:41.991Z"
   },
   {
    "duration": 44,
    "start_time": "2022-05-23T13:43:42.010Z"
   },
   {
    "duration": 9,
    "start_time": "2022-05-23T13:43:42.056Z"
   },
   {
    "duration": 55,
    "start_time": "2022-05-23T13:43:42.067Z"
   },
   {
    "duration": 18,
    "start_time": "2022-05-23T13:43:42.124Z"
   },
   {
    "duration": 321,
    "start_time": "2022-05-23T13:43:42.143Z"
   },
   {
    "duration": 23,
    "start_time": "2022-05-23T13:43:42.466Z"
   },
   {
    "duration": 178,
    "start_time": "2022-05-23T13:43:42.491Z"
   },
   {
    "duration": 36,
    "start_time": "2022-05-23T13:43:42.671Z"
   },
   {
    "duration": 172,
    "start_time": "2022-05-23T13:43:42.710Z"
   },
   {
    "duration": 43,
    "start_time": "2022-05-23T13:43:42.883Z"
   },
   {
    "duration": 12,
    "start_time": "2022-05-23T13:43:42.928Z"
   },
   {
    "duration": 167,
    "start_time": "2022-05-23T13:43:42.941Z"
   },
   {
    "duration": 19,
    "start_time": "2022-05-23T13:43:43.110Z"
   },
   {
    "duration": 51,
    "start_time": "2022-05-23T13:43:43.131Z"
   },
   {
    "duration": 21,
    "start_time": "2022-05-23T13:43:43.183Z"
   },
   {
    "duration": 200,
    "start_time": "2022-05-23T13:43:43.207Z"
   },
   {
    "duration": 23,
    "start_time": "2022-05-23T13:43:43.409Z"
   },
   {
    "duration": 38,
    "start_time": "2022-05-23T13:43:43.434Z"
   },
   {
    "duration": 33,
    "start_time": "2022-05-23T13:43:43.473Z"
   },
   {
    "duration": 20,
    "start_time": "2022-05-23T13:43:43.508Z"
   },
   {
    "duration": 28,
    "start_time": "2022-05-23T13:43:43.529Z"
   },
   {
    "duration": 29,
    "start_time": "2022-05-23T13:43:43.558Z"
   },
   {
    "duration": 33,
    "start_time": "2022-05-23T13:43:43.589Z"
   },
   {
    "duration": 23,
    "start_time": "2022-05-23T13:43:43.625Z"
   },
   {
    "duration": 0,
    "start_time": "2022-05-23T13:43:43.650Z"
   },
   {
    "duration": 12,
    "start_time": "2022-05-23T13:44:34.621Z"
   },
   {
    "duration": 38,
    "start_time": "2022-05-23T13:44:44.999Z"
   },
   {
    "duration": 45,
    "start_time": "2022-05-23T13:44:58.019Z"
   },
   {
    "duration": 45,
    "start_time": "2022-05-23T14:01:21.089Z"
   },
   {
    "duration": 9,
    "start_time": "2022-05-23T14:02:09.646Z"
   },
   {
    "duration": 41,
    "start_time": "2022-05-23T14:02:23.420Z"
   },
   {
    "duration": 37,
    "start_time": "2022-05-23T14:02:34.761Z"
   },
   {
    "duration": 15,
    "start_time": "2022-05-23T14:02:40.987Z"
   },
   {
    "duration": 37,
    "start_time": "2022-05-23T14:02:47.512Z"
   },
   {
    "duration": 13,
    "start_time": "2022-05-23T14:03:35.556Z"
   },
   {
    "duration": 3,
    "start_time": "2022-05-23T14:07:19.818Z"
   },
   {
    "duration": 61,
    "start_time": "2022-05-23T18:07:23.671Z"
   },
   {
    "duration": 1670,
    "start_time": "2022-05-23T18:29:34.956Z"
   },
   {
    "duration": 219,
    "start_time": "2022-05-23T18:29:36.628Z"
   },
   {
    "duration": 97,
    "start_time": "2022-05-23T18:29:36.849Z"
   },
   {
    "duration": 9,
    "start_time": "2022-05-23T18:29:36.947Z"
   },
   {
    "duration": 16,
    "start_time": "2022-05-23T18:29:36.958Z"
   },
   {
    "duration": 10,
    "start_time": "2022-05-23T18:29:36.977Z"
   },
   {
    "duration": 27,
    "start_time": "2022-05-23T18:29:36.991Z"
   },
   {
    "duration": 10,
    "start_time": "2022-05-23T18:29:37.020Z"
   },
   {
    "duration": 482,
    "start_time": "2022-05-23T18:29:37.032Z"
   },
   {
    "duration": 10,
    "start_time": "2022-05-23T18:29:37.516Z"
   },
   {
    "duration": 79,
    "start_time": "2022-05-23T18:29:37.527Z"
   },
   {
    "duration": 16,
    "start_time": "2022-05-23T18:29:37.608Z"
   },
   {
    "duration": 89,
    "start_time": "2022-05-23T18:29:37.626Z"
   },
   {
    "duration": 3,
    "start_time": "2022-05-23T18:29:37.718Z"
   },
   {
    "duration": 23,
    "start_time": "2022-05-23T18:29:37.722Z"
   },
   {
    "duration": 6,
    "start_time": "2022-05-23T18:29:37.746Z"
   },
   {
    "duration": 25,
    "start_time": "2022-05-23T18:29:37.754Z"
   },
   {
    "duration": 21,
    "start_time": "2022-05-23T18:29:37.782Z"
   },
   {
    "duration": 28,
    "start_time": "2022-05-23T18:29:37.805Z"
   },
   {
    "duration": 25,
    "start_time": "2022-05-23T18:29:37.835Z"
   },
   {
    "duration": 27,
    "start_time": "2022-05-23T18:29:37.861Z"
   },
   {
    "duration": 19,
    "start_time": "2022-05-23T18:29:37.891Z"
   },
   {
    "duration": 9,
    "start_time": "2022-05-23T18:29:37.911Z"
   },
   {
    "duration": 31,
    "start_time": "2022-05-23T18:29:37.921Z"
   },
   {
    "duration": 47,
    "start_time": "2022-05-23T18:29:37.954Z"
   },
   {
    "duration": 38,
    "start_time": "2022-05-23T18:29:38.003Z"
   },
   {
    "duration": 48,
    "start_time": "2022-05-23T18:29:38.042Z"
   },
   {
    "duration": 466,
    "start_time": "2022-05-23T18:29:38.093Z"
   },
   {
    "duration": 38,
    "start_time": "2022-05-23T18:29:38.561Z"
   },
   {
    "duration": 345,
    "start_time": "2022-05-23T18:29:38.601Z"
   },
   {
    "duration": 8,
    "start_time": "2022-05-23T18:29:38.948Z"
   },
   {
    "duration": 445,
    "start_time": "2022-05-23T18:29:38.957Z"
   },
   {
    "duration": 10,
    "start_time": "2022-05-23T18:29:39.403Z"
   },
   {
    "duration": 12,
    "start_time": "2022-05-23T18:29:39.414Z"
   },
   {
    "duration": 25,
    "start_time": "2022-05-23T18:29:39.427Z"
   },
   {
    "duration": 8,
    "start_time": "2022-05-23T18:29:39.453Z"
   },
   {
    "duration": 36,
    "start_time": "2022-05-23T18:29:39.462Z"
   },
   {
    "duration": 14,
    "start_time": "2022-05-23T18:29:39.500Z"
   },
   {
    "duration": 391,
    "start_time": "2022-05-23T18:29:39.515Z"
   },
   {
    "duration": 26,
    "start_time": "2022-05-23T18:29:39.907Z"
   },
   {
    "duration": 6,
    "start_time": "2022-05-23T18:29:39.936Z"
   },
   {
    "duration": 55,
    "start_time": "2022-05-23T18:29:39.943Z"
   },
   {
    "duration": 18,
    "start_time": "2022-05-23T18:29:40.000Z"
   },
   {
    "duration": 36,
    "start_time": "2022-05-23T18:29:40.020Z"
   },
   {
    "duration": 20,
    "start_time": "2022-05-23T18:29:40.057Z"
   },
   {
    "duration": 340,
    "start_time": "2022-05-23T18:29:40.080Z"
   },
   {
    "duration": 25,
    "start_time": "2022-05-23T18:29:40.421Z"
   },
   {
    "duration": 173,
    "start_time": "2022-05-23T18:29:40.448Z"
   },
   {
    "duration": 15,
    "start_time": "2022-05-23T18:29:40.622Z"
   },
   {
    "duration": 191,
    "start_time": "2022-05-23T18:29:40.638Z"
   },
   {
    "duration": 27,
    "start_time": "2022-05-23T18:29:40.831Z"
   },
   {
    "duration": 33,
    "start_time": "2022-05-23T18:29:40.859Z"
   },
   {
    "duration": 248,
    "start_time": "2022-05-23T18:29:40.894Z"
   },
   {
    "duration": 15,
    "start_time": "2022-05-23T18:29:41.144Z"
   },
   {
    "duration": 37,
    "start_time": "2022-05-23T18:29:41.161Z"
   },
   {
    "duration": 10,
    "start_time": "2022-05-23T18:29:41.200Z"
   },
   {
    "duration": 182,
    "start_time": "2022-05-23T18:29:41.211Z"
   },
   {
    "duration": 23,
    "start_time": "2022-05-23T18:29:41.396Z"
   },
   {
    "duration": 31,
    "start_time": "2022-05-23T18:29:41.420Z"
   },
   {
    "duration": 12,
    "start_time": "2022-05-23T18:29:41.476Z"
   },
   {
    "duration": 15,
    "start_time": "2022-05-23T18:29:41.491Z"
   },
   {
    "duration": 10,
    "start_time": "2022-05-23T18:29:41.507Z"
   },
   {
    "duration": 8,
    "start_time": "2022-05-23T18:29:41.519Z"
   },
   {
    "duration": 25,
    "start_time": "2022-05-23T18:29:41.528Z"
   },
   {
    "duration": 24,
    "start_time": "2022-05-23T18:29:41.555Z"
   },
   {
    "duration": 22,
    "start_time": "2022-05-23T18:29:41.582Z"
   },
   {
    "duration": 5,
    "start_time": "2022-05-23T18:29:41.605Z"
   },
   {
    "duration": 243,
    "start_time": "2022-05-23T18:37:23.409Z"
   },
   {
    "duration": 359,
    "start_time": "2022-05-23T18:37:34.294Z"
   },
   {
    "duration": 319,
    "start_time": "2022-05-23T18:37:51.593Z"
   },
   {
    "duration": 286,
    "start_time": "2022-05-23T18:38:03.634Z"
   },
   {
    "duration": 272,
    "start_time": "2022-05-23T18:38:13.249Z"
   },
   {
    "duration": 282,
    "start_time": "2022-05-23T18:38:31.973Z"
   },
   {
    "duration": 288,
    "start_time": "2022-05-23T18:38:36.729Z"
   },
   {
    "duration": 28,
    "start_time": "2022-05-23T18:41:59.195Z"
   },
   {
    "duration": 13,
    "start_time": "2022-05-23T18:42:20.709Z"
   },
   {
    "duration": 18,
    "start_time": "2022-05-23T18:52:00.811Z"
   },
   {
    "duration": 15,
    "start_time": "2022-05-23T18:52:25.971Z"
   },
   {
    "duration": 159,
    "start_time": "2022-05-23T18:52:40.511Z"
   },
   {
    "duration": 5,
    "start_time": "2022-05-23T18:52:42.209Z"
   },
   {
    "duration": 175,
    "start_time": "2022-05-23T18:52:42.217Z"
   },
   {
    "duration": 23,
    "start_time": "2022-05-23T18:52:42.394Z"
   },
   {
    "duration": 13,
    "start_time": "2022-05-23T18:52:42.419Z"
   },
   {
    "duration": 18,
    "start_time": "2022-05-23T18:52:42.433Z"
   },
   {
    "duration": 6,
    "start_time": "2022-05-23T18:52:42.452Z"
   },
   {
    "duration": 58,
    "start_time": "2022-05-23T18:52:42.460Z"
   },
   {
    "duration": 14,
    "start_time": "2022-05-23T18:52:42.521Z"
   },
   {
    "duration": 697,
    "start_time": "2022-05-23T18:52:42.537Z"
   },
   {
    "duration": 12,
    "start_time": "2022-05-23T18:52:43.236Z"
   },
   {
    "duration": 58,
    "start_time": "2022-05-23T18:52:43.249Z"
   },
   {
    "duration": 19,
    "start_time": "2022-05-23T18:52:43.309Z"
   },
   {
    "duration": 95,
    "start_time": "2022-05-23T18:52:43.330Z"
   },
   {
    "duration": 3,
    "start_time": "2022-05-23T18:52:43.427Z"
   },
   {
    "duration": 24,
    "start_time": "2022-05-23T18:52:43.431Z"
   },
   {
    "duration": 20,
    "start_time": "2022-05-23T18:52:43.457Z"
   },
   {
    "duration": 10,
    "start_time": "2022-05-23T18:52:43.478Z"
   },
   {
    "duration": 12,
    "start_time": "2022-05-23T18:52:43.489Z"
   },
   {
    "duration": 5,
    "start_time": "2022-05-23T18:52:43.503Z"
   },
   {
    "duration": 13,
    "start_time": "2022-05-23T18:52:43.510Z"
   },
   {
    "duration": 19,
    "start_time": "2022-05-23T18:52:43.525Z"
   },
   {
    "duration": 23,
    "start_time": "2022-05-23T18:52:43.576Z"
   },
   {
    "duration": 7,
    "start_time": "2022-05-23T18:52:43.601Z"
   },
   {
    "duration": 29,
    "start_time": "2022-05-23T18:52:43.610Z"
   },
   {
    "duration": 45,
    "start_time": "2022-05-23T18:52:43.641Z"
   },
   {
    "duration": 32,
    "start_time": "2022-05-23T18:52:43.688Z"
   },
   {
    "duration": 18,
    "start_time": "2022-05-23T18:52:43.722Z"
   },
   {
    "duration": 359,
    "start_time": "2022-05-23T18:52:43.775Z"
   },
   {
    "duration": 20,
    "start_time": "2022-05-23T18:52:44.136Z"
   },
   {
    "duration": 354,
    "start_time": "2022-05-23T18:52:44.158Z"
   },
   {
    "duration": 8,
    "start_time": "2022-05-23T18:52:44.513Z"
   },
   {
    "duration": 308,
    "start_time": "2022-05-23T18:52:44.522Z"
   },
   {
    "duration": 10,
    "start_time": "2022-05-23T18:52:44.832Z"
   },
   {
    "duration": 9,
    "start_time": "2022-05-23T18:52:44.844Z"
   },
   {
    "duration": 38,
    "start_time": "2022-05-23T18:52:44.855Z"
   },
   {
    "duration": 30,
    "start_time": "2022-05-23T18:52:44.895Z"
   },
   {
    "duration": 10,
    "start_time": "2022-05-23T18:52:44.927Z"
   },
   {
    "duration": 14,
    "start_time": "2022-05-23T18:52:44.939Z"
   },
   {
    "duration": 36,
    "start_time": "2022-05-23T18:52:44.954Z"
   },
   {
    "duration": 332,
    "start_time": "2022-05-23T18:52:44.992Z"
   },
   {
    "duration": 20,
    "start_time": "2022-05-23T18:52:45.326Z"
   },
   {
    "duration": 5,
    "start_time": "2022-05-23T18:52:45.348Z"
   },
   {
    "duration": 36,
    "start_time": "2022-05-23T18:52:45.354Z"
   },
   {
    "duration": 8,
    "start_time": "2022-05-23T18:52:45.391Z"
   },
   {
    "duration": 28,
    "start_time": "2022-05-23T18:52:45.400Z"
   },
   {
    "duration": 16,
    "start_time": "2022-05-23T18:52:45.429Z"
   },
   {
    "duration": 299,
    "start_time": "2022-05-23T18:52:45.446Z"
   },
   {
    "duration": 29,
    "start_time": "2022-05-23T18:52:45.746Z"
   },
   {
    "duration": 155,
    "start_time": "2022-05-23T18:52:45.777Z"
   },
   {
    "duration": 15,
    "start_time": "2022-05-23T18:52:45.933Z"
   },
   {
    "duration": 189,
    "start_time": "2022-05-23T18:52:45.950Z"
   },
   {
    "duration": 37,
    "start_time": "2022-05-23T18:52:46.140Z"
   },
   {
    "duration": 10,
    "start_time": "2022-05-23T18:52:46.179Z"
   },
   {
    "duration": 175,
    "start_time": "2022-05-23T18:52:46.191Z"
   },
   {
    "duration": 17,
    "start_time": "2022-05-23T18:52:46.368Z"
   },
   {
    "duration": 12,
    "start_time": "2022-05-23T18:52:46.386Z"
   },
   {
    "duration": 2,
    "start_time": "2022-05-23T18:52:46.400Z"
   },
   {
    "duration": 268,
    "start_time": "2022-05-23T18:52:46.403Z"
   },
   {
    "duration": 19,
    "start_time": "2022-05-23T18:52:46.675Z"
   },
   {
    "duration": 42,
    "start_time": "2022-05-23T18:52:46.696Z"
   },
   {
    "duration": 7,
    "start_time": "2022-05-23T18:52:46.740Z"
   },
   {
    "duration": 34,
    "start_time": "2022-05-23T18:52:46.748Z"
   },
   {
    "duration": 5,
    "start_time": "2022-05-23T18:52:46.784Z"
   },
   {
    "duration": 7,
    "start_time": "2022-05-23T18:52:46.790Z"
   },
   {
    "duration": 25,
    "start_time": "2022-05-23T18:52:46.798Z"
   },
   {
    "duration": 6,
    "start_time": "2022-05-23T18:52:46.825Z"
   },
   {
    "duration": 13,
    "start_time": "2022-05-23T18:52:46.833Z"
   },
   {
    "duration": 74,
    "start_time": "2022-05-23T18:53:35.055Z"
   },
   {
    "duration": 29,
    "start_time": "2022-05-23T18:54:04.932Z"
   },
   {
    "duration": 32,
    "start_time": "2022-05-23T18:54:28.096Z"
   },
   {
    "duration": 26,
    "start_time": "2022-05-23T18:55:08.019Z"
   },
   {
    "duration": 38,
    "start_time": "2022-05-23T18:55:13.181Z"
   },
   {
    "duration": 35,
    "start_time": "2022-05-23T18:59:43.018Z"
   },
   {
    "duration": 13,
    "start_time": "2022-05-23T18:59:59.592Z"
   },
   {
    "duration": 14,
    "start_time": "2022-05-23T19:00:54.012Z"
   },
   {
    "duration": 17,
    "start_time": "2022-05-23T19:00:56.337Z"
   },
   {
    "duration": 353,
    "start_time": "2022-05-23T19:01:00.672Z"
   },
   {
    "duration": 504,
    "start_time": "2022-05-23T19:05:17.993Z"
   },
   {
    "duration": 4,
    "start_time": "2022-05-23T19:05:19.698Z"
   },
   {
    "duration": 124,
    "start_time": "2022-05-23T19:05:19.704Z"
   },
   {
    "duration": 25,
    "start_time": "2022-05-23T19:05:19.829Z"
   },
   {
    "duration": 29,
    "start_time": "2022-05-23T19:05:19.857Z"
   },
   {
    "duration": 25,
    "start_time": "2022-05-23T19:05:19.890Z"
   },
   {
    "duration": 15,
    "start_time": "2022-05-23T19:05:19.917Z"
   },
   {
    "duration": 39,
    "start_time": "2022-05-23T19:05:19.934Z"
   },
   {
    "duration": 16,
    "start_time": "2022-05-23T19:05:19.975Z"
   },
   {
    "duration": 471,
    "start_time": "2022-05-23T19:05:19.994Z"
   },
   {
    "duration": 17,
    "start_time": "2022-05-23T19:05:20.466Z"
   },
   {
    "duration": 51,
    "start_time": "2022-05-23T19:05:20.486Z"
   },
   {
    "duration": 17,
    "start_time": "2022-05-23T19:05:20.539Z"
   },
   {
    "duration": 87,
    "start_time": "2022-05-23T19:05:20.558Z"
   },
   {
    "duration": 2,
    "start_time": "2022-05-23T19:05:20.646Z"
   },
   {
    "duration": 32,
    "start_time": "2022-05-23T19:05:20.650Z"
   },
   {
    "duration": 10,
    "start_time": "2022-05-23T19:05:20.684Z"
   },
   {
    "duration": 11,
    "start_time": "2022-05-23T19:05:20.695Z"
   },
   {
    "duration": 16,
    "start_time": "2022-05-23T19:05:20.707Z"
   },
   {
    "duration": 5,
    "start_time": "2022-05-23T19:05:20.725Z"
   },
   {
    "duration": 9,
    "start_time": "2022-05-23T19:05:20.731Z"
   },
   {
    "duration": 54,
    "start_time": "2022-05-23T19:05:20.741Z"
   },
   {
    "duration": 12,
    "start_time": "2022-05-23T19:05:20.797Z"
   },
   {
    "duration": 6,
    "start_time": "2022-05-23T19:05:20.811Z"
   },
   {
    "duration": 29,
    "start_time": "2022-05-23T19:05:20.821Z"
   },
   {
    "duration": 45,
    "start_time": "2022-05-23T19:05:20.851Z"
   },
   {
    "duration": 34,
    "start_time": "2022-05-23T19:05:20.898Z"
   },
   {
    "duration": 17,
    "start_time": "2022-05-23T19:05:20.934Z"
   },
   {
    "duration": 409,
    "start_time": "2022-05-23T19:05:20.953Z"
   },
   {
    "duration": 29,
    "start_time": "2022-05-23T19:05:21.364Z"
   },
   {
    "duration": 369,
    "start_time": "2022-05-23T19:05:21.394Z"
   },
   {
    "duration": 14,
    "start_time": "2022-05-23T19:05:21.765Z"
   },
   {
    "duration": 318,
    "start_time": "2022-05-23T19:05:21.781Z"
   },
   {
    "duration": 10,
    "start_time": "2022-05-23T19:05:22.100Z"
   },
   {
    "duration": 6,
    "start_time": "2022-05-23T19:05:22.112Z"
   },
   {
    "duration": 20,
    "start_time": "2022-05-23T19:05:22.119Z"
   },
   {
    "duration": 58,
    "start_time": "2022-05-23T19:05:22.140Z"
   },
   {
    "duration": 10,
    "start_time": "2022-05-23T19:05:22.200Z"
   },
   {
    "duration": 20,
    "start_time": "2022-05-23T19:05:22.212Z"
   },
   {
    "duration": 17,
    "start_time": "2022-05-23T19:05:22.234Z"
   },
   {
    "duration": 377,
    "start_time": "2022-05-23T19:05:22.253Z"
   },
   {
    "duration": 22,
    "start_time": "2022-05-23T19:05:22.631Z"
   },
   {
    "duration": 22,
    "start_time": "2022-05-23T19:05:22.654Z"
   },
   {
    "duration": 26,
    "start_time": "2022-05-23T19:05:22.678Z"
   },
   {
    "duration": 7,
    "start_time": "2022-05-23T19:05:22.706Z"
   },
   {
    "duration": 29,
    "start_time": "2022-05-23T19:05:22.715Z"
   },
   {
    "duration": 46,
    "start_time": "2022-05-23T19:05:22.746Z"
   },
   {
    "duration": 305,
    "start_time": "2022-05-23T19:05:22.795Z"
   },
   {
    "duration": 18,
    "start_time": "2022-05-23T19:05:23.102Z"
   },
   {
    "duration": 268,
    "start_time": "2022-05-23T19:05:23.122Z"
   },
   {
    "duration": 14,
    "start_time": "2022-05-23T19:05:23.392Z"
   },
   {
    "duration": 184,
    "start_time": "2022-05-23T19:05:23.407Z"
   },
   {
    "duration": 23,
    "start_time": "2022-05-23T19:05:23.595Z"
   },
   {
    "duration": 0,
    "start_time": "2022-05-23T19:05:23.620Z"
   },
   {
    "duration": 0,
    "start_time": "2022-05-23T19:05:23.621Z"
   },
   {
    "duration": 0,
    "start_time": "2022-05-23T19:05:23.622Z"
   },
   {
    "duration": 0,
    "start_time": "2022-05-23T19:05:23.623Z"
   },
   {
    "duration": 0,
    "start_time": "2022-05-23T19:05:23.624Z"
   },
   {
    "duration": 0,
    "start_time": "2022-05-23T19:05:23.625Z"
   },
   {
    "duration": 0,
    "start_time": "2022-05-23T19:05:23.626Z"
   },
   {
    "duration": 0,
    "start_time": "2022-05-23T19:05:23.627Z"
   },
   {
    "duration": 0,
    "start_time": "2022-05-23T19:05:23.628Z"
   },
   {
    "duration": 0,
    "start_time": "2022-05-23T19:05:23.629Z"
   },
   {
    "duration": 0,
    "start_time": "2022-05-23T19:05:23.630Z"
   },
   {
    "duration": 0,
    "start_time": "2022-05-23T19:05:23.631Z"
   },
   {
    "duration": 0,
    "start_time": "2022-05-23T19:05:23.632Z"
   },
   {
    "duration": 0,
    "start_time": "2022-05-23T19:05:23.634Z"
   },
   {
    "duration": 0,
    "start_time": "2022-05-23T19:05:23.635Z"
   },
   {
    "duration": 29,
    "start_time": "2022-05-23T19:06:45.862Z"
   },
   {
    "duration": 4,
    "start_time": "2022-05-23T19:07:09.765Z"
   },
   {
    "duration": 148,
    "start_time": "2022-05-23T19:07:09.771Z"
   },
   {
    "duration": 24,
    "start_time": "2022-05-23T19:07:09.921Z"
   },
   {
    "duration": 9,
    "start_time": "2022-05-23T19:07:09.947Z"
   },
   {
    "duration": 24,
    "start_time": "2022-05-23T19:07:09.957Z"
   },
   {
    "duration": 8,
    "start_time": "2022-05-23T19:07:09.983Z"
   },
   {
    "duration": 25,
    "start_time": "2022-05-23T19:07:09.992Z"
   },
   {
    "duration": 10,
    "start_time": "2022-05-23T19:07:10.018Z"
   },
   {
    "duration": 480,
    "start_time": "2022-05-23T19:07:10.031Z"
   },
   {
    "duration": 11,
    "start_time": "2022-05-23T19:07:10.513Z"
   },
   {
    "duration": 59,
    "start_time": "2022-05-23T19:07:10.525Z"
   },
   {
    "duration": 18,
    "start_time": "2022-05-23T19:07:10.586Z"
   },
   {
    "duration": 72,
    "start_time": "2022-05-23T19:07:10.605Z"
   },
   {
    "duration": 8,
    "start_time": "2022-05-23T19:07:10.679Z"
   },
   {
    "duration": 14,
    "start_time": "2022-05-23T19:07:10.691Z"
   },
   {
    "duration": 6,
    "start_time": "2022-05-23T19:07:10.707Z"
   },
   {
    "duration": 6,
    "start_time": "2022-05-23T19:07:10.715Z"
   },
   {
    "duration": 10,
    "start_time": "2022-05-23T19:07:10.723Z"
   },
   {
    "duration": 42,
    "start_time": "2022-05-23T19:07:10.734Z"
   },
   {
    "duration": 13,
    "start_time": "2022-05-23T19:07:10.778Z"
   },
   {
    "duration": 18,
    "start_time": "2022-05-23T19:07:10.792Z"
   },
   {
    "duration": 12,
    "start_time": "2022-05-23T19:07:10.811Z"
   },
   {
    "duration": 5,
    "start_time": "2022-05-23T19:07:10.825Z"
   },
   {
    "duration": 45,
    "start_time": "2022-05-23T19:07:10.833Z"
   },
   {
    "duration": 24,
    "start_time": "2022-05-23T19:07:10.880Z"
   },
   {
    "duration": 28,
    "start_time": "2022-05-23T19:07:10.906Z"
   },
   {
    "duration": 16,
    "start_time": "2022-05-23T19:07:10.935Z"
   },
   {
    "duration": 379,
    "start_time": "2022-05-23T19:07:10.975Z"
   },
   {
    "duration": 33,
    "start_time": "2022-05-23T19:07:11.356Z"
   },
   {
    "duration": 353,
    "start_time": "2022-05-23T19:07:11.391Z"
   },
   {
    "duration": 8,
    "start_time": "2022-05-23T19:07:11.745Z"
   },
   {
    "duration": 305,
    "start_time": "2022-05-23T19:07:11.754Z"
   },
   {
    "duration": 17,
    "start_time": "2022-05-23T19:07:12.061Z"
   },
   {
    "duration": 18,
    "start_time": "2022-05-23T19:07:12.080Z"
   },
   {
    "duration": 23,
    "start_time": "2022-05-23T19:07:12.099Z"
   },
   {
    "duration": 28,
    "start_time": "2022-05-23T19:07:12.124Z"
   },
   {
    "duration": 10,
    "start_time": "2022-05-23T19:07:12.153Z"
   },
   {
    "duration": 19,
    "start_time": "2022-05-23T19:07:12.175Z"
   },
   {
    "duration": 15,
    "start_time": "2022-05-23T19:07:12.195Z"
   },
   {
    "duration": 360,
    "start_time": "2022-05-23T19:07:12.212Z"
   },
   {
    "duration": 28,
    "start_time": "2022-05-23T19:07:12.573Z"
   },
   {
    "duration": 6,
    "start_time": "2022-05-23T19:07:12.603Z"
   },
   {
    "duration": 19,
    "start_time": "2022-05-23T19:07:12.610Z"
   },
   {
    "duration": 7,
    "start_time": "2022-05-23T19:07:12.630Z"
   },
   {
    "duration": 59,
    "start_time": "2022-05-23T19:07:12.639Z"
   },
   {
    "duration": 15,
    "start_time": "2022-05-23T19:07:12.700Z"
   },
   {
    "duration": 331,
    "start_time": "2022-05-23T19:07:12.716Z"
   },
   {
    "duration": 27,
    "start_time": "2022-05-23T19:07:13.048Z"
   },
   {
    "duration": 162,
    "start_time": "2022-05-23T19:07:13.077Z"
   },
   {
    "duration": 14,
    "start_time": "2022-05-23T19:07:13.241Z"
   },
   {
    "duration": 278,
    "start_time": "2022-05-23T19:07:13.257Z"
   },
   {
    "duration": 45,
    "start_time": "2022-05-23T19:07:13.536Z"
   },
   {
    "duration": 13,
    "start_time": "2022-05-23T19:07:13.584Z"
   },
   {
    "duration": 139,
    "start_time": "2022-05-23T19:07:13.599Z"
   },
   {
    "duration": 14,
    "start_time": "2022-05-23T19:07:13.740Z"
   },
   {
    "duration": 25,
    "start_time": "2022-05-23T19:07:13.755Z"
   },
   {
    "duration": 12,
    "start_time": "2022-05-23T19:07:13.782Z"
   },
   {
    "duration": 164,
    "start_time": "2022-05-23T19:07:13.796Z"
   },
   {
    "duration": 35,
    "start_time": "2022-05-23T19:07:13.962Z"
   },
   {
    "duration": 31,
    "start_time": "2022-05-23T19:07:13.998Z"
   },
   {
    "duration": 6,
    "start_time": "2022-05-23T19:07:14.030Z"
   },
   {
    "duration": 6,
    "start_time": "2022-05-23T19:07:14.037Z"
   },
   {
    "duration": 5,
    "start_time": "2022-05-23T19:07:14.044Z"
   },
   {
    "duration": 25,
    "start_time": "2022-05-23T19:07:14.050Z"
   },
   {
    "duration": 30,
    "start_time": "2022-05-23T19:07:14.076Z"
   },
   {
    "duration": 9,
    "start_time": "2022-05-23T19:07:14.107Z"
   },
   {
    "duration": 14,
    "start_time": "2022-05-23T19:07:14.118Z"
   },
   {
    "duration": 54,
    "start_time": "2022-05-23T19:13:55.064Z"
   },
   {
    "duration": 7,
    "start_time": "2022-05-23T19:13:59.800Z"
   },
   {
    "duration": 5,
    "start_time": "2022-05-23T19:14:01.272Z"
   },
   {
    "duration": 173,
    "start_time": "2022-05-23T19:14:01.279Z"
   },
   {
    "duration": 24,
    "start_time": "2022-05-23T19:14:01.453Z"
   },
   {
    "duration": 13,
    "start_time": "2022-05-23T19:14:01.478Z"
   },
   {
    "duration": 37,
    "start_time": "2022-05-23T19:14:01.494Z"
   },
   {
    "duration": 55,
    "start_time": "2022-05-23T19:14:01.533Z"
   },
   {
    "duration": 40,
    "start_time": "2022-05-23T19:14:01.590Z"
   },
   {
    "duration": 11,
    "start_time": "2022-05-23T19:14:01.631Z"
   },
   {
    "duration": 482,
    "start_time": "2022-05-23T19:14:01.644Z"
   },
   {
    "duration": 10,
    "start_time": "2022-05-23T19:14:02.128Z"
   },
   {
    "duration": 76,
    "start_time": "2022-05-23T19:14:02.139Z"
   },
   {
    "duration": 40,
    "start_time": "2022-05-23T19:14:02.216Z"
   },
   {
    "duration": 72,
    "start_time": "2022-05-23T19:14:02.257Z"
   },
   {
    "duration": 2,
    "start_time": "2022-05-23T19:14:02.331Z"
   },
   {
    "duration": 80,
    "start_time": "2022-05-23T19:14:02.335Z"
   },
   {
    "duration": 35,
    "start_time": "2022-05-23T19:14:02.417Z"
   },
   {
    "duration": 12,
    "start_time": "2022-05-23T19:14:02.454Z"
   },
   {
    "duration": 29,
    "start_time": "2022-05-23T19:14:02.468Z"
   },
   {
    "duration": 15,
    "start_time": "2022-05-23T19:14:02.499Z"
   },
   {
    "duration": 7,
    "start_time": "2022-05-23T19:14:02.515Z"
   },
   {
    "duration": 21,
    "start_time": "2022-05-23T19:14:02.523Z"
   },
   {
    "duration": 15,
    "start_time": "2022-05-23T19:14:02.545Z"
   },
   {
    "duration": 6,
    "start_time": "2022-05-23T19:14:02.561Z"
   },
   {
    "duration": 48,
    "start_time": "2022-05-23T19:14:02.576Z"
   },
   {
    "duration": 20,
    "start_time": "2022-05-23T19:14:02.626Z"
   },
   {
    "duration": 31,
    "start_time": "2022-05-23T19:14:02.647Z"
   },
   {
    "duration": 22,
    "start_time": "2022-05-23T19:14:02.681Z"
   },
   {
    "duration": 501,
    "start_time": "2022-05-23T19:14:02.706Z"
   },
   {
    "duration": 20,
    "start_time": "2022-05-23T19:14:03.208Z"
   },
   {
    "duration": 386,
    "start_time": "2022-05-23T19:14:03.229Z"
   },
   {
    "duration": 10,
    "start_time": "2022-05-23T19:14:03.617Z"
   },
   {
    "duration": 316,
    "start_time": "2022-05-23T19:14:03.629Z"
   },
   {
    "duration": 10,
    "start_time": "2022-05-23T19:14:03.946Z"
   },
   {
    "duration": 17,
    "start_time": "2022-05-23T19:14:03.958Z"
   },
   {
    "duration": 28,
    "start_time": "2022-05-23T19:14:03.977Z"
   },
   {
    "duration": 29,
    "start_time": "2022-05-23T19:14:04.006Z"
   },
   {
    "duration": 10,
    "start_time": "2022-05-23T19:14:04.036Z"
   },
   {
    "duration": 34,
    "start_time": "2022-05-23T19:14:04.047Z"
   },
   {
    "duration": 15,
    "start_time": "2022-05-23T19:14:04.083Z"
   },
   {
    "duration": 377,
    "start_time": "2022-05-23T19:14:04.100Z"
   },
   {
    "duration": 30,
    "start_time": "2022-05-23T19:14:04.484Z"
   },
   {
    "duration": 7,
    "start_time": "2022-05-23T19:14:04.516Z"
   },
   {
    "duration": 24,
    "start_time": "2022-05-23T19:14:04.524Z"
   },
   {
    "duration": 35,
    "start_time": "2022-05-23T19:14:04.550Z"
   },
   {
    "duration": 41,
    "start_time": "2022-05-23T19:14:04.587Z"
   },
   {
    "duration": 21,
    "start_time": "2022-05-23T19:14:04.629Z"
   },
   {
    "duration": 305,
    "start_time": "2022-05-23T19:14:04.653Z"
   },
   {
    "duration": 36,
    "start_time": "2022-05-23T19:14:04.960Z"
   },
   {
    "duration": 285,
    "start_time": "2022-05-23T19:14:04.998Z"
   },
   {
    "duration": 20,
    "start_time": "2022-05-23T19:14:05.285Z"
   },
   {
    "duration": 202,
    "start_time": "2022-05-23T19:14:05.307Z"
   },
   {
    "duration": 35,
    "start_time": "2022-05-23T19:14:05.510Z"
   },
   {
    "duration": 10,
    "start_time": "2022-05-23T19:14:05.547Z"
   },
   {
    "duration": 168,
    "start_time": "2022-05-23T19:14:05.558Z"
   },
   {
    "duration": 15,
    "start_time": "2022-05-23T19:14:05.728Z"
   },
   {
    "duration": 33,
    "start_time": "2022-05-23T19:14:05.746Z"
   },
   {
    "duration": 18,
    "start_time": "2022-05-23T19:14:05.781Z"
   },
   {
    "duration": 224,
    "start_time": "2022-05-23T19:14:05.801Z"
   },
   {
    "duration": 19,
    "start_time": "2022-05-23T19:14:06.027Z"
   },
   {
    "duration": 71,
    "start_time": "2022-05-23T19:14:06.048Z"
   },
   {
    "duration": 8,
    "start_time": "2022-05-23T19:14:06.121Z"
   },
   {
    "duration": 9,
    "start_time": "2022-05-23T19:14:06.131Z"
   },
   {
    "duration": 5,
    "start_time": "2022-05-23T19:14:06.141Z"
   },
   {
    "duration": 8,
    "start_time": "2022-05-23T19:14:06.148Z"
   },
   {
    "duration": 45,
    "start_time": "2022-05-23T19:14:06.157Z"
   },
   {
    "duration": 13,
    "start_time": "2022-05-23T19:14:06.206Z"
   },
   {
    "duration": 17,
    "start_time": "2022-05-23T19:14:06.225Z"
   },
   {
    "duration": 15,
    "start_time": "2022-05-23T19:15:21.578Z"
   },
   {
    "duration": 5,
    "start_time": "2022-05-23T19:15:23.022Z"
   },
   {
    "duration": 170,
    "start_time": "2022-05-23T19:15:23.029Z"
   },
   {
    "duration": 23,
    "start_time": "2022-05-23T19:15:23.200Z"
   },
   {
    "duration": 10,
    "start_time": "2022-05-23T19:15:23.225Z"
   },
   {
    "duration": 16,
    "start_time": "2022-05-23T19:15:23.237Z"
   },
   {
    "duration": 8,
    "start_time": "2022-05-23T19:15:23.254Z"
   },
   {
    "duration": 42,
    "start_time": "2022-05-23T19:15:23.263Z"
   },
   {
    "duration": 9,
    "start_time": "2022-05-23T19:15:23.307Z"
   },
   {
    "duration": 491,
    "start_time": "2022-05-23T19:15:23.318Z"
   },
   {
    "duration": 11,
    "start_time": "2022-05-23T19:15:23.811Z"
   },
   {
    "duration": 68,
    "start_time": "2022-05-23T19:15:23.823Z"
   },
   {
    "duration": 16,
    "start_time": "2022-05-23T19:15:23.894Z"
   },
   {
    "duration": 85,
    "start_time": "2022-05-23T19:15:23.911Z"
   },
   {
    "duration": 2,
    "start_time": "2022-05-23T19:15:23.998Z"
   },
   {
    "duration": 15,
    "start_time": "2022-05-23T19:15:24.001Z"
   },
   {
    "duration": 5,
    "start_time": "2022-05-23T19:15:24.017Z"
   },
   {
    "duration": 6,
    "start_time": "2022-05-23T19:15:24.023Z"
   },
   {
    "duration": 8,
    "start_time": "2022-05-23T19:15:24.031Z"
   },
   {
    "duration": 43,
    "start_time": "2022-05-23T19:15:24.041Z"
   },
   {
    "duration": 8,
    "start_time": "2022-05-23T19:15:24.092Z"
   },
   {
    "duration": 20,
    "start_time": "2022-05-23T19:15:24.101Z"
   },
   {
    "duration": 12,
    "start_time": "2022-05-23T19:15:24.122Z"
   },
   {
    "duration": 5,
    "start_time": "2022-05-23T19:15:24.136Z"
   },
   {
    "duration": 49,
    "start_time": "2022-05-23T19:15:24.142Z"
   },
   {
    "duration": 22,
    "start_time": "2022-05-23T19:15:24.194Z"
   },
   {
    "duration": 33,
    "start_time": "2022-05-23T19:15:24.218Z"
   },
   {
    "duration": 41,
    "start_time": "2022-05-23T19:15:24.253Z"
   },
   {
    "duration": 408,
    "start_time": "2022-05-23T19:15:24.298Z"
   },
   {
    "duration": 24,
    "start_time": "2022-05-23T19:15:24.708Z"
   },
   {
    "duration": 410,
    "start_time": "2022-05-23T19:15:24.733Z"
   },
   {
    "duration": 9,
    "start_time": "2022-05-23T19:15:25.145Z"
   },
   {
    "duration": 336,
    "start_time": "2022-05-23T19:15:25.156Z"
   },
   {
    "duration": 11,
    "start_time": "2022-05-23T19:15:25.493Z"
   },
   {
    "duration": 6,
    "start_time": "2022-05-23T19:15:25.506Z"
   },
   {
    "duration": 20,
    "start_time": "2022-05-23T19:15:25.513Z"
   },
   {
    "duration": 60,
    "start_time": "2022-05-23T19:15:25.534Z"
   },
   {
    "duration": 9,
    "start_time": "2022-05-23T19:15:25.595Z"
   },
   {
    "duration": 15,
    "start_time": "2022-05-23T19:15:25.606Z"
   },
   {
    "duration": 15,
    "start_time": "2022-05-23T19:15:25.622Z"
   },
   {
    "duration": 380,
    "start_time": "2022-05-23T19:15:25.638Z"
   },
   {
    "duration": 20,
    "start_time": "2022-05-23T19:15:26.020Z"
   },
   {
    "duration": 5,
    "start_time": "2022-05-23T19:15:26.042Z"
   },
   {
    "duration": 44,
    "start_time": "2022-05-23T19:15:26.049Z"
   },
   {
    "duration": 8,
    "start_time": "2022-05-23T19:15:26.095Z"
   },
   {
    "duration": 34,
    "start_time": "2022-05-23T19:15:26.104Z"
   },
   {
    "duration": 145,
    "start_time": "2022-05-23T19:15:26.140Z"
   },
   {
    "duration": 298,
    "start_time": "2022-05-23T19:15:26.286Z"
   },
   {
    "duration": 20,
    "start_time": "2022-05-23T19:15:26.586Z"
   },
   {
    "duration": 190,
    "start_time": "2022-05-23T19:15:26.607Z"
   },
   {
    "duration": 17,
    "start_time": "2022-05-23T19:15:26.799Z"
   },
   {
    "duration": 192,
    "start_time": "2022-05-23T19:15:26.818Z"
   },
   {
    "duration": 34,
    "start_time": "2022-05-23T19:15:27.012Z"
   },
   {
    "duration": 26,
    "start_time": "2022-05-23T19:15:27.048Z"
   },
   {
    "duration": 150,
    "start_time": "2022-05-23T19:15:27.076Z"
   },
   {
    "duration": 14,
    "start_time": "2022-05-23T19:15:27.227Z"
   },
   {
    "duration": 18,
    "start_time": "2022-05-23T19:15:27.242Z"
   },
   {
    "duration": 34,
    "start_time": "2022-05-23T19:15:27.262Z"
   },
   {
    "duration": 186,
    "start_time": "2022-05-23T19:15:27.298Z"
   },
   {
    "duration": 27,
    "start_time": "2022-05-23T19:15:27.486Z"
   },
   {
    "duration": 50,
    "start_time": "2022-05-23T19:15:27.515Z"
   },
   {
    "duration": 9,
    "start_time": "2022-05-23T19:15:27.566Z"
   },
   {
    "duration": 22,
    "start_time": "2022-05-23T19:15:27.577Z"
   },
   {
    "duration": 9,
    "start_time": "2022-05-23T19:15:27.601Z"
   },
   {
    "duration": 9,
    "start_time": "2022-05-23T19:15:27.612Z"
   },
   {
    "duration": 44,
    "start_time": "2022-05-23T19:15:27.623Z"
   },
   {
    "duration": 9,
    "start_time": "2022-05-23T19:15:27.669Z"
   },
   {
    "duration": 33,
    "start_time": "2022-05-23T19:15:27.680Z"
   },
   {
    "duration": 34,
    "start_time": "2022-05-23T19:17:51.171Z"
   },
   {
    "duration": 14,
    "start_time": "2022-05-23T19:18:39.291Z"
   },
   {
    "duration": 35,
    "start_time": "2022-05-23T19:19:06.565Z"
   },
   {
    "duration": 404,
    "start_time": "2022-05-23T19:19:17.200Z"
   },
   {
    "duration": 27,
    "start_time": "2022-05-23T19:19:46.395Z"
   },
   {
    "duration": 43,
    "start_time": "2022-05-23T19:21:54.586Z"
   },
   {
    "duration": 38,
    "start_time": "2022-05-23T19:22:00.892Z"
   },
   {
    "duration": 553,
    "start_time": "2022-05-23T19:22:11.762Z"
   },
   {
    "duration": 586,
    "start_time": "2022-05-23T19:22:29.815Z"
   },
   {
    "duration": 3,
    "start_time": "2022-05-23T19:22:34.010Z"
   },
   {
    "duration": 126,
    "start_time": "2022-05-23T19:22:34.015Z"
   },
   {
    "duration": 33,
    "start_time": "2022-05-23T19:22:34.143Z"
   },
   {
    "duration": 17,
    "start_time": "2022-05-23T19:22:34.178Z"
   },
   {
    "duration": 12,
    "start_time": "2022-05-23T19:22:34.197Z"
   },
   {
    "duration": 11,
    "start_time": "2022-05-23T19:22:34.211Z"
   },
   {
    "duration": 28,
    "start_time": "2022-05-23T19:22:34.223Z"
   },
   {
    "duration": 34,
    "start_time": "2022-05-23T19:22:34.253Z"
   },
   {
    "duration": 482,
    "start_time": "2022-05-23T19:22:34.291Z"
   },
   {
    "duration": 17,
    "start_time": "2022-05-23T19:22:34.776Z"
   },
   {
    "duration": 47,
    "start_time": "2022-05-23T19:22:34.794Z"
   },
   {
    "duration": 41,
    "start_time": "2022-05-23T19:22:34.842Z"
   },
   {
    "duration": 81,
    "start_time": "2022-05-23T19:22:34.885Z"
   },
   {
    "duration": 10,
    "start_time": "2022-05-23T19:22:34.967Z"
   },
   {
    "duration": 21,
    "start_time": "2022-05-23T19:22:34.979Z"
   },
   {
    "duration": 6,
    "start_time": "2022-05-23T19:22:35.002Z"
   },
   {
    "duration": 8,
    "start_time": "2022-05-23T19:22:35.009Z"
   },
   {
    "duration": 12,
    "start_time": "2022-05-23T19:22:35.018Z"
   },
   {
    "duration": 6,
    "start_time": "2022-05-23T19:22:35.032Z"
   },
   {
    "duration": 7,
    "start_time": "2022-05-23T19:22:35.040Z"
   },
   {
    "duration": 48,
    "start_time": "2022-05-23T19:22:35.049Z"
   },
   {
    "duration": 14,
    "start_time": "2022-05-23T19:22:35.099Z"
   },
   {
    "duration": 6,
    "start_time": "2022-05-23T19:22:35.114Z"
   },
   {
    "duration": 51,
    "start_time": "2022-05-23T19:22:35.124Z"
   },
   {
    "duration": 28,
    "start_time": "2022-05-23T19:22:35.177Z"
   },
   {
    "duration": 28,
    "start_time": "2022-05-23T19:22:35.207Z"
   },
   {
    "duration": 56,
    "start_time": "2022-05-23T19:22:35.237Z"
   },
   {
    "duration": 431,
    "start_time": "2022-05-23T19:22:35.295Z"
   },
   {
    "duration": 30,
    "start_time": "2022-05-23T19:22:35.728Z"
   },
   {
    "duration": 381,
    "start_time": "2022-05-23T19:22:35.760Z"
   },
   {
    "duration": 12,
    "start_time": "2022-05-23T19:22:36.143Z"
   },
   {
    "duration": 437,
    "start_time": "2022-05-23T19:22:36.157Z"
   },
   {
    "duration": 10,
    "start_time": "2022-05-23T19:22:36.595Z"
   },
   {
    "duration": 6,
    "start_time": "2022-05-23T19:22:36.606Z"
   },
   {
    "duration": 31,
    "start_time": "2022-05-23T19:22:36.614Z"
   },
   {
    "duration": 415,
    "start_time": "2022-05-23T19:22:36.646Z"
   },
   {
    "duration": 637,
    "start_time": "2022-05-23T19:22:37.063Z"
   },
   {
    "duration": 0,
    "start_time": "2022-05-23T19:22:37.702Z"
   },
   {
    "duration": 0,
    "start_time": "2022-05-23T19:22:37.703Z"
   },
   {
    "duration": 0,
    "start_time": "2022-05-23T19:22:37.705Z"
   },
   {
    "duration": 0,
    "start_time": "2022-05-23T19:22:37.706Z"
   },
   {
    "duration": 0,
    "start_time": "2022-05-23T19:22:37.707Z"
   },
   {
    "duration": 0,
    "start_time": "2022-05-23T19:22:37.708Z"
   },
   {
    "duration": 0,
    "start_time": "2022-05-23T19:22:37.709Z"
   },
   {
    "duration": 0,
    "start_time": "2022-05-23T19:22:37.710Z"
   },
   {
    "duration": 0,
    "start_time": "2022-05-23T19:22:37.711Z"
   },
   {
    "duration": 0,
    "start_time": "2022-05-23T19:22:37.712Z"
   },
   {
    "duration": 0,
    "start_time": "2022-05-23T19:22:37.713Z"
   },
   {
    "duration": 0,
    "start_time": "2022-05-23T19:22:37.714Z"
   },
   {
    "duration": 0,
    "start_time": "2022-05-23T19:22:37.715Z"
   },
   {
    "duration": 0,
    "start_time": "2022-05-23T19:22:37.716Z"
   },
   {
    "duration": 0,
    "start_time": "2022-05-23T19:22:37.717Z"
   },
   {
    "duration": 0,
    "start_time": "2022-05-23T19:22:37.718Z"
   },
   {
    "duration": 0,
    "start_time": "2022-05-23T19:22:37.719Z"
   },
   {
    "duration": 0,
    "start_time": "2022-05-23T19:22:37.720Z"
   },
   {
    "duration": 0,
    "start_time": "2022-05-23T19:22:37.721Z"
   },
   {
    "duration": 0,
    "start_time": "2022-05-23T19:22:37.722Z"
   },
   {
    "duration": 1,
    "start_time": "2022-05-23T19:22:37.723Z"
   },
   {
    "duration": 0,
    "start_time": "2022-05-23T19:22:37.724Z"
   },
   {
    "duration": 0,
    "start_time": "2022-05-23T19:22:37.725Z"
   },
   {
    "duration": 0,
    "start_time": "2022-05-23T19:22:37.727Z"
   },
   {
    "duration": 0,
    "start_time": "2022-05-23T19:22:37.728Z"
   },
   {
    "duration": 0,
    "start_time": "2022-05-23T19:22:37.729Z"
   },
   {
    "duration": 0,
    "start_time": "2022-05-23T19:22:37.730Z"
   },
   {
    "duration": 0,
    "start_time": "2022-05-23T19:22:37.731Z"
   },
   {
    "duration": 0,
    "start_time": "2022-05-23T19:22:37.732Z"
   },
   {
    "duration": 0,
    "start_time": "2022-05-23T19:22:37.733Z"
   },
   {
    "duration": 0,
    "start_time": "2022-05-23T19:22:37.734Z"
   },
   {
    "duration": 0,
    "start_time": "2022-05-23T19:22:37.735Z"
   },
   {
    "duration": 446,
    "start_time": "2022-05-23T19:24:42.917Z"
   },
   {
    "duration": 408,
    "start_time": "2022-05-23T19:25:01.865Z"
   },
   {
    "duration": 37,
    "start_time": "2022-05-23T19:28:47.072Z"
   },
   {
    "duration": 6,
    "start_time": "2022-05-23T19:28:48.373Z"
   },
   {
    "duration": 188,
    "start_time": "2022-05-23T19:28:48.381Z"
   },
   {
    "duration": 28,
    "start_time": "2022-05-23T19:28:48.571Z"
   },
   {
    "duration": 9,
    "start_time": "2022-05-23T19:28:48.601Z"
   },
   {
    "duration": 13,
    "start_time": "2022-05-23T19:28:48.612Z"
   },
   {
    "duration": 6,
    "start_time": "2022-05-23T19:28:48.626Z"
   },
   {
    "duration": 32,
    "start_time": "2022-05-23T19:28:48.633Z"
   },
   {
    "duration": 12,
    "start_time": "2022-05-23T19:28:48.666Z"
   },
   {
    "duration": 473,
    "start_time": "2022-05-23T19:28:48.680Z"
   },
   {
    "duration": 22,
    "start_time": "2022-05-23T19:28:49.154Z"
   },
   {
    "duration": 50,
    "start_time": "2022-05-23T19:28:49.178Z"
   },
   {
    "duration": 21,
    "start_time": "2022-05-23T19:28:49.230Z"
   },
   {
    "duration": 86,
    "start_time": "2022-05-23T19:28:49.253Z"
   },
   {
    "duration": 2,
    "start_time": "2022-05-23T19:28:49.343Z"
   },
   {
    "duration": 34,
    "start_time": "2022-05-23T19:28:49.347Z"
   },
   {
    "duration": 36,
    "start_time": "2022-05-23T19:28:49.383Z"
   },
   {
    "duration": 33,
    "start_time": "2022-05-23T19:28:49.421Z"
   },
   {
    "duration": 53,
    "start_time": "2022-05-23T19:28:49.456Z"
   },
   {
    "duration": 29,
    "start_time": "2022-05-23T19:28:49.511Z"
   },
   {
    "duration": 18,
    "start_time": "2022-05-23T19:28:49.541Z"
   },
   {
    "duration": 46,
    "start_time": "2022-05-23T19:28:49.560Z"
   },
   {
    "duration": 27,
    "start_time": "2022-05-23T19:28:49.608Z"
   },
   {
    "duration": 9,
    "start_time": "2022-05-23T19:28:49.637Z"
   },
   {
    "duration": 49,
    "start_time": "2022-05-23T19:28:49.647Z"
   },
   {
    "duration": 20,
    "start_time": "2022-05-23T19:28:49.698Z"
   },
   {
    "duration": 26,
    "start_time": "2022-05-23T19:28:49.720Z"
   },
   {
    "duration": 35,
    "start_time": "2022-05-23T19:28:49.748Z"
   },
   {
    "duration": 421,
    "start_time": "2022-05-23T19:28:49.785Z"
   },
   {
    "duration": 24,
    "start_time": "2022-05-23T19:28:50.207Z"
   },
   {
    "duration": 379,
    "start_time": "2022-05-23T19:28:50.234Z"
   },
   {
    "duration": 7,
    "start_time": "2022-05-23T19:28:50.615Z"
   },
   {
    "duration": 410,
    "start_time": "2022-05-23T19:28:50.624Z"
   },
   {
    "duration": 9,
    "start_time": "2022-05-23T19:28:51.035Z"
   },
   {
    "duration": 32,
    "start_time": "2022-05-23T19:28:51.046Z"
   },
   {
    "duration": 44,
    "start_time": "2022-05-23T19:28:51.082Z"
   },
   {
    "duration": 379,
    "start_time": "2022-05-23T19:28:51.128Z"
   },
   {
    "duration": 391,
    "start_time": "2022-05-23T19:28:51.509Z"
   },
   {
    "duration": 31,
    "start_time": "2022-05-23T19:28:51.902Z"
   },
   {
    "duration": 24,
    "start_time": "2022-05-23T19:28:51.935Z"
   },
   {
    "duration": 25,
    "start_time": "2022-05-23T19:28:51.960Z"
   },
   {
    "duration": 37,
    "start_time": "2022-05-23T19:28:51.991Z"
   },
   {
    "duration": 365,
    "start_time": "2022-05-23T19:28:52.030Z"
   },
   {
    "duration": 22,
    "start_time": "2022-05-23T19:28:52.396Z"
   },
   {
    "duration": 17,
    "start_time": "2022-05-23T19:28:52.420Z"
   },
   {
    "duration": 31,
    "start_time": "2022-05-23T19:28:52.439Z"
   },
   {
    "duration": 25,
    "start_time": "2022-05-23T19:28:52.472Z"
   },
   {
    "duration": 32,
    "start_time": "2022-05-23T19:28:52.499Z"
   },
   {
    "duration": 14,
    "start_time": "2022-05-23T19:28:52.533Z"
   },
   {
    "duration": 361,
    "start_time": "2022-05-23T19:28:52.549Z"
   },
   {
    "duration": 22,
    "start_time": "2022-05-23T19:28:52.912Z"
   },
   {
    "duration": 195,
    "start_time": "2022-05-23T19:28:52.936Z"
   },
   {
    "duration": 16,
    "start_time": "2022-05-23T19:28:53.132Z"
   },
   {
    "duration": 190,
    "start_time": "2022-05-23T19:28:53.150Z"
   },
   {
    "duration": 65,
    "start_time": "2022-05-23T19:28:53.342Z"
   },
   {
    "duration": 14,
    "start_time": "2022-05-23T19:28:53.410Z"
   },
   {
    "duration": 141,
    "start_time": "2022-05-23T19:28:53.425Z"
   },
   {
    "duration": 25,
    "start_time": "2022-05-23T19:28:53.568Z"
   },
   {
    "duration": 26,
    "start_time": "2022-05-23T19:28:53.594Z"
   },
   {
    "duration": 7,
    "start_time": "2022-05-23T19:28:53.622Z"
   },
   {
    "duration": 285,
    "start_time": "2022-05-23T19:28:53.630Z"
   },
   {
    "duration": 19,
    "start_time": "2022-05-23T19:28:53.917Z"
   },
   {
    "duration": 66,
    "start_time": "2022-05-23T19:28:53.937Z"
   },
   {
    "duration": 8,
    "start_time": "2022-05-23T19:28:54.005Z"
   },
   {
    "duration": 19,
    "start_time": "2022-05-23T19:28:54.015Z"
   },
   {
    "duration": 25,
    "start_time": "2022-05-23T19:28:54.036Z"
   },
   {
    "duration": 10,
    "start_time": "2022-05-23T19:28:54.063Z"
   },
   {
    "duration": 46,
    "start_time": "2022-05-23T19:28:54.075Z"
   },
   {
    "duration": 16,
    "start_time": "2022-05-23T19:28:54.123Z"
   },
   {
    "duration": 18,
    "start_time": "2022-05-23T19:28:54.140Z"
   },
   {
    "duration": 1237,
    "start_time": "2022-05-23T20:15:24.755Z"
   },
   {
    "duration": 190,
    "start_time": "2022-05-23T20:15:25.993Z"
   },
   {
    "duration": 96,
    "start_time": "2022-05-23T20:15:26.184Z"
   },
   {
    "duration": 10,
    "start_time": "2022-05-23T20:15:26.282Z"
   },
   {
    "duration": 11,
    "start_time": "2022-05-23T20:15:26.294Z"
   },
   {
    "duration": 5,
    "start_time": "2022-05-23T20:15:26.307Z"
   },
   {
    "duration": 28,
    "start_time": "2022-05-23T20:15:26.313Z"
   },
   {
    "duration": 10,
    "start_time": "2022-05-23T20:15:26.343Z"
   },
   {
    "duration": 459,
    "start_time": "2022-05-23T20:15:26.354Z"
   },
   {
    "duration": 11,
    "start_time": "2022-05-23T20:15:26.815Z"
   },
   {
    "duration": 66,
    "start_time": "2022-05-23T20:15:26.827Z"
   },
   {
    "duration": 16,
    "start_time": "2022-05-23T20:15:26.895Z"
   },
   {
    "duration": 90,
    "start_time": "2022-05-23T20:15:26.912Z"
   },
   {
    "duration": 2,
    "start_time": "2022-05-23T20:15:27.004Z"
   },
   {
    "duration": 15,
    "start_time": "2022-05-23T20:15:27.007Z"
   },
   {
    "duration": 6,
    "start_time": "2022-05-23T20:15:27.024Z"
   },
   {
    "duration": 6,
    "start_time": "2022-05-23T20:15:27.031Z"
   },
   {
    "duration": 10,
    "start_time": "2022-05-23T20:15:27.038Z"
   },
   {
    "duration": 6,
    "start_time": "2022-05-23T20:15:27.074Z"
   },
   {
    "duration": 8,
    "start_time": "2022-05-23T20:15:27.081Z"
   },
   {
    "duration": 21,
    "start_time": "2022-05-23T20:15:27.090Z"
   },
   {
    "duration": 14,
    "start_time": "2022-05-23T20:15:27.112Z"
   },
   {
    "duration": 5,
    "start_time": "2022-05-23T20:15:27.128Z"
   },
   {
    "duration": 65,
    "start_time": "2022-05-23T20:15:27.135Z"
   },
   {
    "duration": 27,
    "start_time": "2022-05-23T20:15:27.201Z"
   },
   {
    "duration": 51,
    "start_time": "2022-05-23T20:15:27.229Z"
   },
   {
    "duration": 18,
    "start_time": "2022-05-23T20:15:27.281Z"
   },
   {
    "duration": 439,
    "start_time": "2022-05-23T20:15:27.303Z"
   },
   {
    "duration": 21,
    "start_time": "2022-05-23T20:15:27.744Z"
   },
   {
    "duration": 318,
    "start_time": "2022-05-23T20:15:27.775Z"
   },
   {
    "duration": 9,
    "start_time": "2022-05-23T20:15:28.095Z"
   },
   {
    "duration": 420,
    "start_time": "2022-05-23T20:15:28.105Z"
   },
   {
    "duration": 11,
    "start_time": "2022-05-23T20:15:28.527Z"
   },
   {
    "duration": 6,
    "start_time": "2022-05-23T20:15:28.540Z"
   },
   {
    "duration": 59,
    "start_time": "2022-05-23T20:15:28.548Z"
   },
   {
    "duration": 359,
    "start_time": "2022-05-23T20:15:28.609Z"
   },
   {
    "duration": 380,
    "start_time": "2022-05-23T20:15:28.970Z"
   },
   {
    "duration": 40,
    "start_time": "2022-05-23T20:15:29.352Z"
   },
   {
    "duration": 9,
    "start_time": "2022-05-23T20:15:29.393Z"
   },
   {
    "duration": 14,
    "start_time": "2022-05-23T20:15:29.404Z"
   },
   {
    "duration": 14,
    "start_time": "2022-05-23T20:15:29.420Z"
   },
   {
    "duration": 491,
    "start_time": "2022-05-23T20:15:29.436Z"
   },
   {
    "duration": 25,
    "start_time": "2022-05-23T20:15:29.929Z"
   },
   {
    "duration": 22,
    "start_time": "2022-05-23T20:15:29.956Z"
   },
   {
    "duration": 23,
    "start_time": "2022-05-23T20:15:29.980Z"
   },
   {
    "duration": 15,
    "start_time": "2022-05-23T20:15:30.005Z"
   },
   {
    "duration": 29,
    "start_time": "2022-05-23T20:15:30.022Z"
   },
   {
    "duration": 37,
    "start_time": "2022-05-23T20:15:30.053Z"
   },
   {
    "duration": 273,
    "start_time": "2022-05-23T20:15:30.091Z"
   },
   {
    "duration": 27,
    "start_time": "2022-05-23T20:15:30.365Z"
   },
   {
    "duration": 150,
    "start_time": "2022-05-23T20:15:30.394Z"
   },
   {
    "duration": 16,
    "start_time": "2022-05-23T20:15:30.546Z"
   },
   {
    "duration": 166,
    "start_time": "2022-05-23T20:15:30.575Z"
   },
   {
    "duration": 45,
    "start_time": "2022-05-23T20:15:30.743Z"
   },
   {
    "duration": 12,
    "start_time": "2022-05-23T20:15:30.790Z"
   },
   {
    "duration": 147,
    "start_time": "2022-05-23T20:15:30.803Z"
   },
   {
    "duration": 14,
    "start_time": "2022-05-23T20:15:30.952Z"
   },
   {
    "duration": 13,
    "start_time": "2022-05-23T20:15:30.975Z"
   },
   {
    "duration": 35,
    "start_time": "2022-05-23T20:15:30.989Z"
   },
   {
    "duration": 176,
    "start_time": "2022-05-23T20:15:31.026Z"
   },
   {
    "duration": 20,
    "start_time": "2022-05-23T20:15:31.203Z"
   },
   {
    "duration": 63,
    "start_time": "2022-05-23T20:15:31.224Z"
   },
   {
    "duration": 5,
    "start_time": "2022-05-23T20:15:31.288Z"
   },
   {
    "duration": 25,
    "start_time": "2022-05-23T20:15:31.295Z"
   },
   {
    "duration": 13,
    "start_time": "2022-05-23T20:15:31.322Z"
   },
   {
    "duration": 8,
    "start_time": "2022-05-23T20:15:31.337Z"
   },
   {
    "duration": 30,
    "start_time": "2022-05-23T20:15:31.346Z"
   },
   {
    "duration": 18,
    "start_time": "2022-05-23T20:15:31.377Z"
   },
   {
    "duration": 26,
    "start_time": "2022-05-23T20:15:31.396Z"
   },
   {
    "duration": 16,
    "start_time": "2022-05-23T20:20:56.419Z"
   },
   {
    "duration": 16,
    "start_time": "2022-05-23T20:20:57.796Z"
   },
   {
    "duration": 12,
    "start_time": "2022-05-23T20:21:01.348Z"
   },
   {
    "duration": 12,
    "start_time": "2022-05-23T20:21:33.514Z"
   },
   {
    "duration": 4,
    "start_time": "2022-05-23T20:21:34.859Z"
   },
   {
    "duration": 160,
    "start_time": "2022-05-23T20:21:34.864Z"
   },
   {
    "duration": 26,
    "start_time": "2022-05-23T20:21:35.026Z"
   },
   {
    "duration": 20,
    "start_time": "2022-05-23T20:21:35.055Z"
   },
   {
    "duration": 10,
    "start_time": "2022-05-23T20:21:35.076Z"
   },
   {
    "duration": 15,
    "start_time": "2022-05-23T20:21:35.088Z"
   },
   {
    "duration": 26,
    "start_time": "2022-05-23T20:21:35.105Z"
   },
   {
    "duration": 10,
    "start_time": "2022-05-23T20:21:35.133Z"
   },
   {
    "duration": 464,
    "start_time": "2022-05-23T20:21:35.146Z"
   },
   {
    "duration": 14,
    "start_time": "2022-05-23T20:21:35.612Z"
   },
   {
    "duration": 69,
    "start_time": "2022-05-23T20:21:35.628Z"
   },
   {
    "duration": 32,
    "start_time": "2022-05-23T20:21:35.700Z"
   },
   {
    "duration": 113,
    "start_time": "2022-05-23T20:21:35.734Z"
   },
   {
    "duration": 3,
    "start_time": "2022-05-23T20:21:35.849Z"
   },
   {
    "duration": 25,
    "start_time": "2022-05-23T20:21:35.855Z"
   },
   {
    "duration": 7,
    "start_time": "2022-05-23T20:21:35.882Z"
   },
   {
    "duration": 12,
    "start_time": "2022-05-23T20:21:35.891Z"
   },
   {
    "duration": 15,
    "start_time": "2022-05-23T20:21:35.905Z"
   },
   {
    "duration": 8,
    "start_time": "2022-05-23T20:21:35.922Z"
   },
   {
    "duration": 8,
    "start_time": "2022-05-23T20:21:35.932Z"
   },
   {
    "duration": 18,
    "start_time": "2022-05-23T20:21:35.975Z"
   },
   {
    "duration": 21,
    "start_time": "2022-05-23T20:21:35.995Z"
   },
   {
    "duration": 9,
    "start_time": "2022-05-23T20:21:36.018Z"
   },
   {
    "duration": 56,
    "start_time": "2022-05-23T20:21:36.031Z"
   },
   {
    "duration": 23,
    "start_time": "2022-05-23T20:21:36.089Z"
   },
   {
    "duration": 34,
    "start_time": "2022-05-23T20:21:36.114Z"
   },
   {
    "duration": 40,
    "start_time": "2022-05-23T20:21:36.150Z"
   },
   {
    "duration": 438,
    "start_time": "2022-05-23T20:21:36.192Z"
   },
   {
    "duration": 23,
    "start_time": "2022-05-23T20:21:36.632Z"
   },
   {
    "duration": 459,
    "start_time": "2022-05-23T20:21:36.657Z"
   },
   {
    "duration": 11,
    "start_time": "2022-05-23T20:21:37.120Z"
   },
   {
    "duration": 324,
    "start_time": "2022-05-23T20:21:37.133Z"
   },
   {
    "duration": 18,
    "start_time": "2022-05-23T20:21:37.458Z"
   },
   {
    "duration": 8,
    "start_time": "2022-05-23T20:21:37.477Z"
   },
   {
    "duration": 42,
    "start_time": "2022-05-23T20:21:37.487Z"
   },
   {
    "duration": 479,
    "start_time": "2022-05-23T20:21:37.531Z"
   },
   {
    "duration": 388,
    "start_time": "2022-05-23T20:21:38.012Z"
   },
   {
    "duration": 31,
    "start_time": "2022-05-23T20:21:38.403Z"
   },
   {
    "duration": 10,
    "start_time": "2022-05-23T20:21:38.436Z"
   },
   {
    "duration": 38,
    "start_time": "2022-05-23T20:21:38.447Z"
   },
   {
    "duration": 16,
    "start_time": "2022-05-23T20:21:38.487Z"
   },
   {
    "duration": 357,
    "start_time": "2022-05-23T20:21:38.505Z"
   },
   {
    "duration": 30,
    "start_time": "2022-05-23T20:21:38.863Z"
   },
   {
    "duration": 7,
    "start_time": "2022-05-23T20:21:38.894Z"
   },
   {
    "duration": 26,
    "start_time": "2022-05-23T20:21:38.902Z"
   },
   {
    "duration": 9,
    "start_time": "2022-05-23T20:21:38.930Z"
   },
   {
    "duration": 72,
    "start_time": "2022-05-23T20:21:38.941Z"
   },
   {
    "duration": 22,
    "start_time": "2022-05-23T20:21:39.015Z"
   },
   {
    "duration": 338,
    "start_time": "2022-05-23T20:21:39.039Z"
   },
   {
    "duration": 20,
    "start_time": "2022-05-23T20:21:39.380Z"
   },
   {
    "duration": 175,
    "start_time": "2022-05-23T20:21:39.402Z"
   },
   {
    "duration": 16,
    "start_time": "2022-05-23T20:21:39.579Z"
   },
   {
    "duration": 190,
    "start_time": "2022-05-23T20:21:39.597Z"
   },
   {
    "duration": 37,
    "start_time": "2022-05-23T20:21:39.789Z"
   },
   {
    "duration": 17,
    "start_time": "2022-05-23T20:21:39.828Z"
   },
   {
    "duration": 171,
    "start_time": "2022-05-23T20:21:39.847Z"
   },
   {
    "duration": 17,
    "start_time": "2022-05-23T20:21:40.020Z"
   },
   {
    "duration": 12,
    "start_time": "2022-05-23T20:21:40.039Z"
   },
   {
    "duration": 22,
    "start_time": "2022-05-23T20:21:40.053Z"
   },
   {
    "duration": 177,
    "start_time": "2022-05-23T20:21:40.077Z"
   },
   {
    "duration": 28,
    "start_time": "2022-05-23T20:21:40.256Z"
   },
   {
    "duration": 47,
    "start_time": "2022-05-23T20:21:40.285Z"
   },
   {
    "duration": 7,
    "start_time": "2022-05-23T20:21:40.334Z"
   },
   {
    "duration": 33,
    "start_time": "2022-05-23T20:21:40.342Z"
   },
   {
    "duration": 4,
    "start_time": "2022-05-23T20:21:40.377Z"
   },
   {
    "duration": 15,
    "start_time": "2022-05-23T20:21:40.383Z"
   },
   {
    "duration": 31,
    "start_time": "2022-05-23T20:21:40.399Z"
   },
   {
    "duration": 13,
    "start_time": "2022-05-23T20:21:40.431Z"
   },
   {
    "duration": 14,
    "start_time": "2022-05-23T20:21:40.449Z"
   },
   {
    "duration": 16,
    "start_time": "2022-05-23T20:22:04.984Z"
   },
   {
    "duration": 14,
    "start_time": "2022-05-23T20:22:09.219Z"
   },
   {
    "duration": 15,
    "start_time": "2022-05-23T20:22:24.758Z"
   },
   {
    "duration": 43,
    "start_time": "2022-05-23T20:34:26.991Z"
   },
   {
    "duration": 4,
    "start_time": "2022-05-23T20:36:24.930Z"
   },
   {
    "duration": 143,
    "start_time": "2022-05-23T20:36:24.936Z"
   },
   {
    "duration": 21,
    "start_time": "2022-05-23T20:36:25.080Z"
   },
   {
    "duration": 9,
    "start_time": "2022-05-23T20:36:25.103Z"
   },
   {
    "duration": 11,
    "start_time": "2022-05-23T20:36:25.114Z"
   },
   {
    "duration": 6,
    "start_time": "2022-05-23T20:36:25.127Z"
   },
   {
    "duration": 25,
    "start_time": "2022-05-23T20:36:25.134Z"
   },
   {
    "duration": 9,
    "start_time": "2022-05-23T20:36:25.175Z"
   },
   {
    "duration": 432,
    "start_time": "2022-05-23T20:36:25.186Z"
   },
   {
    "duration": 11,
    "start_time": "2022-05-23T20:36:25.619Z"
   },
   {
    "duration": 59,
    "start_time": "2022-05-23T20:36:25.632Z"
   },
   {
    "duration": 17,
    "start_time": "2022-05-23T20:36:25.693Z"
   },
   {
    "duration": 88,
    "start_time": "2022-05-23T20:36:25.711Z"
   },
   {
    "duration": 2,
    "start_time": "2022-05-23T20:36:25.801Z"
   },
   {
    "duration": 13,
    "start_time": "2022-05-23T20:36:25.805Z"
   },
   {
    "duration": 5,
    "start_time": "2022-05-23T20:36:25.820Z"
   },
   {
    "duration": 9,
    "start_time": "2022-05-23T20:36:25.827Z"
   },
   {
    "duration": 9,
    "start_time": "2022-05-23T20:36:25.837Z"
   },
   {
    "duration": 5,
    "start_time": "2022-05-23T20:36:25.874Z"
   },
   {
    "duration": 7,
    "start_time": "2022-05-23T20:36:25.881Z"
   },
   {
    "duration": 16,
    "start_time": "2022-05-23T20:36:25.889Z"
   },
   {
    "duration": 13,
    "start_time": "2022-05-23T20:36:25.906Z"
   },
   {
    "duration": 4,
    "start_time": "2022-05-23T20:36:25.920Z"
   },
   {
    "duration": 62,
    "start_time": "2022-05-23T20:36:25.928Z"
   },
   {
    "duration": 21,
    "start_time": "2022-05-23T20:36:25.992Z"
   },
   {
    "duration": 31,
    "start_time": "2022-05-23T20:36:26.014Z"
   },
   {
    "duration": 40,
    "start_time": "2022-05-23T20:36:26.046Z"
   },
   {
    "duration": 459,
    "start_time": "2022-05-23T20:36:26.088Z"
   },
   {
    "duration": 27,
    "start_time": "2022-05-23T20:36:26.549Z"
   },
   {
    "duration": 365,
    "start_time": "2022-05-23T20:36:26.577Z"
   },
   {
    "duration": 9,
    "start_time": "2022-05-23T20:36:26.943Z"
   },
   {
    "duration": 296,
    "start_time": "2022-05-23T20:36:26.953Z"
   },
   {
    "duration": 9,
    "start_time": "2022-05-23T20:36:27.250Z"
   },
   {
    "duration": 16,
    "start_time": "2022-05-23T20:36:27.261Z"
   },
   {
    "duration": 26,
    "start_time": "2022-05-23T20:36:27.279Z"
   },
   {
    "duration": 340,
    "start_time": "2022-05-23T20:36:27.306Z"
   },
   {
    "duration": 342,
    "start_time": "2022-05-23T20:36:27.648Z"
   },
   {
    "duration": 29,
    "start_time": "2022-05-23T20:36:27.992Z"
   },
   {
    "duration": 9,
    "start_time": "2022-05-23T20:36:28.022Z"
   },
   {
    "duration": 14,
    "start_time": "2022-05-23T20:36:28.032Z"
   },
   {
    "duration": 34,
    "start_time": "2022-05-23T20:36:28.047Z"
   },
   {
    "duration": 345,
    "start_time": "2022-05-23T20:36:28.082Z"
   },
   {
    "duration": 23,
    "start_time": "2022-05-23T20:36:28.428Z"
   },
   {
    "duration": 6,
    "start_time": "2022-05-23T20:36:28.452Z"
   },
   {
    "duration": 19,
    "start_time": "2022-05-23T20:36:28.474Z"
   },
   {
    "duration": 8,
    "start_time": "2022-05-23T20:36:28.495Z"
   },
   {
    "duration": 37,
    "start_time": "2022-05-23T20:36:28.505Z"
   },
   {
    "duration": 43,
    "start_time": "2022-05-23T20:36:28.544Z"
   },
   {
    "duration": 252,
    "start_time": "2022-05-23T20:36:28.589Z"
   },
   {
    "duration": 19,
    "start_time": "2022-05-23T20:36:28.843Z"
   },
   {
    "duration": 240,
    "start_time": "2022-05-23T20:36:28.875Z"
   },
   {
    "duration": 13,
    "start_time": "2022-05-23T20:36:29.117Z"
   },
   {
    "duration": 183,
    "start_time": "2022-05-23T20:36:29.131Z"
   },
   {
    "duration": 34,
    "start_time": "2022-05-23T20:36:29.316Z"
   },
   {
    "duration": 23,
    "start_time": "2022-05-23T20:36:29.352Z"
   },
   {
    "duration": 139,
    "start_time": "2022-05-23T20:36:29.376Z"
   },
   {
    "duration": 12,
    "start_time": "2022-05-23T20:36:29.517Z"
   },
   {
    "duration": 11,
    "start_time": "2022-05-23T20:36:29.530Z"
   },
   {
    "duration": 4,
    "start_time": "2022-05-23T20:36:29.543Z"
   },
   {
    "duration": 167,
    "start_time": "2022-05-23T20:36:29.548Z"
   },
   {
    "duration": 20,
    "start_time": "2022-05-23T20:36:29.717Z"
   },
   {
    "duration": 54,
    "start_time": "2022-05-23T20:36:29.739Z"
   },
   {
    "duration": 6,
    "start_time": "2022-05-23T20:36:29.794Z"
   },
   {
    "duration": 7,
    "start_time": "2022-05-23T20:36:29.801Z"
   },
   {
    "duration": 4,
    "start_time": "2022-05-23T20:36:29.810Z"
   },
   {
    "duration": 7,
    "start_time": "2022-05-23T20:36:29.815Z"
   },
   {
    "duration": 36,
    "start_time": "2022-05-23T20:36:29.823Z"
   },
   {
    "duration": 8,
    "start_time": "2022-05-23T20:36:29.875Z"
   },
   {
    "duration": 17,
    "start_time": "2022-05-23T20:36:29.887Z"
   },
   {
    "duration": 489,
    "start_time": "2022-05-23T20:37:50.618Z"
   },
   {
    "duration": 368,
    "start_time": "2022-05-23T20:38:00.819Z"
   },
   {
    "duration": 376,
    "start_time": "2022-05-23T20:39:53.930Z"
   },
   {
    "duration": 14,
    "start_time": "2022-05-23T20:40:12.266Z"
   },
   {
    "duration": 367,
    "start_time": "2022-05-23T20:40:18.563Z"
   },
   {
    "duration": 38,
    "start_time": "2022-05-23T20:42:22.253Z"
   },
   {
    "duration": 462,
    "start_time": "2022-05-23T20:42:27.421Z"
   },
   {
    "duration": 7,
    "start_time": "2022-05-23T21:44:38.685Z"
   },
   {
    "duration": 15,
    "start_time": "2022-05-23T21:57:30.099Z"
   },
   {
    "duration": 4,
    "start_time": "2022-05-23T21:58:11.488Z"
   },
   {
    "duration": 126,
    "start_time": "2022-05-23T21:58:11.493Z"
   },
   {
    "duration": 22,
    "start_time": "2022-05-23T21:58:11.620Z"
   },
   {
    "duration": 10,
    "start_time": "2022-05-23T21:58:11.644Z"
   },
   {
    "duration": 30,
    "start_time": "2022-05-23T21:58:11.656Z"
   },
   {
    "duration": 4,
    "start_time": "2022-05-23T21:58:11.688Z"
   },
   {
    "duration": 25,
    "start_time": "2022-05-23T21:58:11.694Z"
   },
   {
    "duration": 9,
    "start_time": "2022-05-23T21:58:11.721Z"
   },
   {
    "duration": 455,
    "start_time": "2022-05-23T21:58:11.731Z"
   },
   {
    "duration": 12,
    "start_time": "2022-05-23T21:58:12.188Z"
   },
   {
    "duration": 45,
    "start_time": "2022-05-23T21:58:12.201Z"
   },
   {
    "duration": 45,
    "start_time": "2022-05-23T21:58:12.247Z"
   },
   {
    "duration": 69,
    "start_time": "2022-05-23T21:58:12.294Z"
   },
   {
    "duration": 2,
    "start_time": "2022-05-23T21:58:12.384Z"
   },
   {
    "duration": 15,
    "start_time": "2022-05-23T21:58:12.388Z"
   },
   {
    "duration": 6,
    "start_time": "2022-05-23T21:58:12.404Z"
   },
   {
    "duration": 6,
    "start_time": "2022-05-23T21:58:12.412Z"
   },
   {
    "duration": 12,
    "start_time": "2022-05-23T21:58:12.419Z"
   },
   {
    "duration": 5,
    "start_time": "2022-05-23T21:58:12.432Z"
   },
   {
    "duration": 6,
    "start_time": "2022-05-23T21:58:12.438Z"
   },
   {
    "duration": 52,
    "start_time": "2022-05-23T21:58:12.446Z"
   },
   {
    "duration": 12,
    "start_time": "2022-05-23T21:58:12.500Z"
   },
   {
    "duration": 5,
    "start_time": "2022-05-23T21:58:12.513Z"
   },
   {
    "duration": 31,
    "start_time": "2022-05-23T21:58:12.519Z"
   },
   {
    "duration": 41,
    "start_time": "2022-05-23T21:58:12.551Z"
   },
   {
    "duration": 30,
    "start_time": "2022-05-23T21:58:12.594Z"
   },
   {
    "duration": 17,
    "start_time": "2022-05-23T21:58:12.626Z"
   },
   {
    "duration": 427,
    "start_time": "2022-05-23T21:58:12.644Z"
   },
   {
    "duration": 25,
    "start_time": "2022-05-23T21:58:13.072Z"
   },
   {
    "duration": 343,
    "start_time": "2022-05-23T21:58:13.099Z"
   },
   {
    "duration": 8,
    "start_time": "2022-05-23T21:58:13.444Z"
   },
   {
    "duration": 289,
    "start_time": "2022-05-23T21:58:13.454Z"
   },
   {
    "duration": 14,
    "start_time": "2022-05-23T21:58:13.744Z"
   },
   {
    "duration": 22,
    "start_time": "2022-05-23T21:58:13.760Z"
   },
   {
    "duration": 31,
    "start_time": "2022-05-23T21:58:13.785Z"
   },
   {
    "duration": 373,
    "start_time": "2022-05-23T21:58:13.817Z"
   },
   {
    "duration": 354,
    "start_time": "2022-05-23T21:58:14.191Z"
   },
   {
    "duration": 41,
    "start_time": "2022-05-23T21:58:14.546Z"
   },
   {
    "duration": 9,
    "start_time": "2022-05-23T21:58:14.588Z"
   },
   {
    "duration": 13,
    "start_time": "2022-05-23T21:58:14.598Z"
   },
   {
    "duration": 13,
    "start_time": "2022-05-23T21:58:14.614Z"
   },
   {
    "duration": 434,
    "start_time": "2022-05-23T21:58:14.629Z"
   },
   {
    "duration": 36,
    "start_time": "2022-05-23T21:58:15.065Z"
   },
   {
    "duration": 6,
    "start_time": "2022-05-23T21:58:15.103Z"
   },
   {
    "duration": 19,
    "start_time": "2022-05-23T21:58:15.110Z"
   },
   {
    "duration": 7,
    "start_time": "2022-05-23T21:58:15.130Z"
   },
   {
    "duration": 50,
    "start_time": "2022-05-23T21:58:15.139Z"
   },
   {
    "duration": 15,
    "start_time": "2022-05-23T21:58:15.190Z"
   },
   {
    "duration": 249,
    "start_time": "2022-05-23T21:58:15.206Z"
   },
   {
    "duration": 29,
    "start_time": "2022-05-23T21:58:15.457Z"
   },
   {
    "duration": 160,
    "start_time": "2022-05-23T21:58:15.487Z"
   },
   {
    "duration": 12,
    "start_time": "2022-05-23T21:58:15.649Z"
   },
   {
    "duration": 177,
    "start_time": "2022-05-23T21:58:15.663Z"
   },
   {
    "duration": 46,
    "start_time": "2022-05-23T21:58:15.842Z"
   },
   {
    "duration": 10,
    "start_time": "2022-05-23T21:58:15.889Z"
   },
   {
    "duration": 132,
    "start_time": "2022-05-23T21:58:15.901Z"
   },
   {
    "duration": 12,
    "start_time": "2022-05-23T21:58:16.034Z"
   },
   {
    "duration": 11,
    "start_time": "2022-05-23T21:58:16.048Z"
   },
   {
    "duration": 4,
    "start_time": "2022-05-23T21:58:16.060Z"
   },
   {
    "duration": 164,
    "start_time": "2022-05-23T21:58:16.074Z"
   },
   {
    "duration": 20,
    "start_time": "2022-05-23T21:58:16.239Z"
   },
   {
    "duration": 51,
    "start_time": "2022-05-23T21:58:16.260Z"
   },
   {
    "duration": 6,
    "start_time": "2022-05-23T21:58:16.312Z"
   },
   {
    "duration": 6,
    "start_time": "2022-05-23T21:58:16.320Z"
   },
   {
    "duration": 4,
    "start_time": "2022-05-23T21:58:16.327Z"
   },
   {
    "duration": 7,
    "start_time": "2022-05-23T21:58:16.333Z"
   },
   {
    "duration": 47,
    "start_time": "2022-05-23T21:58:16.341Z"
   },
   {
    "duration": 15,
    "start_time": "2022-05-23T21:58:16.390Z"
   },
   {
    "duration": 13,
    "start_time": "2022-05-23T21:58:16.406Z"
   },
   {
    "duration": 1871,
    "start_time": "2022-05-24T07:12:42.913Z"
   },
   {
    "duration": 452,
    "start_time": "2022-05-24T07:12:44.786Z"
   },
   {
    "duration": 59,
    "start_time": "2022-05-24T07:12:45.239Z"
   },
   {
    "duration": 11,
    "start_time": "2022-05-24T07:12:45.299Z"
   },
   {
    "duration": 15,
    "start_time": "2022-05-24T07:12:45.311Z"
   },
   {
    "duration": 4,
    "start_time": "2022-05-24T07:12:45.328Z"
   },
   {
    "duration": 29,
    "start_time": "2022-05-24T07:12:45.334Z"
   },
   {
    "duration": 10,
    "start_time": "2022-05-24T07:12:45.365Z"
   },
   {
    "duration": 471,
    "start_time": "2022-05-24T07:12:45.376Z"
   },
   {
    "duration": 25,
    "start_time": "2022-05-24T07:12:45.850Z"
   },
   {
    "duration": 54,
    "start_time": "2022-05-24T07:12:45.877Z"
   },
   {
    "duration": 34,
    "start_time": "2022-05-24T07:12:45.933Z"
   },
   {
    "duration": 96,
    "start_time": "2022-05-24T07:12:45.969Z"
   },
   {
    "duration": 2,
    "start_time": "2022-05-24T07:12:46.067Z"
   },
   {
    "duration": 15,
    "start_time": "2022-05-24T07:12:46.071Z"
   },
   {
    "duration": 7,
    "start_time": "2022-05-24T07:12:46.088Z"
   },
   {
    "duration": 8,
    "start_time": "2022-05-24T07:12:46.096Z"
   },
   {
    "duration": 13,
    "start_time": "2022-05-24T07:12:46.106Z"
   },
   {
    "duration": 5,
    "start_time": "2022-05-24T07:12:46.121Z"
   },
   {
    "duration": 53,
    "start_time": "2022-05-24T07:12:46.128Z"
   },
   {
    "duration": 19,
    "start_time": "2022-05-24T07:12:46.183Z"
   },
   {
    "duration": 13,
    "start_time": "2022-05-24T07:12:46.204Z"
   },
   {
    "duration": 6,
    "start_time": "2022-05-24T07:12:46.218Z"
   },
   {
    "duration": 51,
    "start_time": "2022-05-24T07:12:46.226Z"
   },
   {
    "duration": 22,
    "start_time": "2022-05-24T07:12:46.279Z"
   },
   {
    "duration": 34,
    "start_time": "2022-05-24T07:12:46.303Z"
   },
   {
    "duration": 39,
    "start_time": "2022-05-24T07:12:46.338Z"
   },
   {
    "duration": 376,
    "start_time": "2022-05-24T07:12:46.380Z"
   },
   {
    "duration": 26,
    "start_time": "2022-05-24T07:12:46.758Z"
   },
   {
    "duration": 331,
    "start_time": "2022-05-24T07:12:46.786Z"
   },
   {
    "duration": 9,
    "start_time": "2022-05-24T07:12:47.119Z"
   },
   {
    "duration": 451,
    "start_time": "2022-05-24T07:12:47.129Z"
   },
   {
    "duration": 11,
    "start_time": "2022-05-24T07:12:47.582Z"
   },
   {
    "duration": 7,
    "start_time": "2022-05-24T07:12:47.594Z"
   },
   {
    "duration": 33,
    "start_time": "2022-05-24T07:12:47.602Z"
   },
   {
    "duration": 399,
    "start_time": "2022-05-24T07:12:47.636Z"
   },
   {
    "duration": 377,
    "start_time": "2022-05-24T07:12:48.037Z"
   },
   {
    "duration": 32,
    "start_time": "2022-05-24T07:12:48.415Z"
   },
   {
    "duration": 23,
    "start_time": "2022-05-24T07:12:48.449Z"
   },
   {
    "duration": 18,
    "start_time": "2022-05-24T07:12:48.474Z"
   },
   {
    "duration": 16,
    "start_time": "2022-05-24T07:12:48.494Z"
   },
   {
    "duration": 501,
    "start_time": "2022-05-24T07:12:48.512Z"
   },
   {
    "duration": 29,
    "start_time": "2022-05-24T07:12:49.015Z"
   },
   {
    "duration": 25,
    "start_time": "2022-05-24T07:12:49.047Z"
   },
   {
    "duration": 38,
    "start_time": "2022-05-24T07:12:49.074Z"
   },
   {
    "duration": 12,
    "start_time": "2022-05-24T07:12:49.114Z"
   },
   {
    "duration": 40,
    "start_time": "2022-05-24T07:12:49.127Z"
   },
   {
    "duration": 17,
    "start_time": "2022-05-24T07:12:49.169Z"
   },
   {
    "duration": 362,
    "start_time": "2022-05-24T07:12:49.188Z"
   },
   {
    "duration": 25,
    "start_time": "2022-05-24T07:12:49.552Z"
   },
   {
    "duration": 164,
    "start_time": "2022-05-24T07:12:49.579Z"
   },
   {
    "duration": 25,
    "start_time": "2022-05-24T07:12:49.745Z"
   },
   {
    "duration": 173,
    "start_time": "2022-05-24T07:12:49.772Z"
   },
   {
    "duration": 45,
    "start_time": "2022-05-24T07:12:49.947Z"
   },
   {
    "duration": 12,
    "start_time": "2022-05-24T07:12:49.994Z"
   },
   {
    "duration": 143,
    "start_time": "2022-05-24T07:12:50.007Z"
   },
   {
    "duration": 23,
    "start_time": "2022-05-24T07:12:50.151Z"
   },
   {
    "duration": 36,
    "start_time": "2022-05-24T07:12:50.175Z"
   },
   {
    "duration": 24,
    "start_time": "2022-05-24T07:12:50.213Z"
   },
   {
    "duration": 176,
    "start_time": "2022-05-24T07:12:50.239Z"
   },
   {
    "duration": 22,
    "start_time": "2022-05-24T07:12:50.416Z"
   },
   {
    "duration": 63,
    "start_time": "2022-05-24T07:12:50.440Z"
   },
   {
    "duration": 6,
    "start_time": "2022-05-24T07:12:50.505Z"
   },
   {
    "duration": 34,
    "start_time": "2022-05-24T07:12:50.512Z"
   },
   {
    "duration": 21,
    "start_time": "2022-05-24T07:12:50.548Z"
   },
   {
    "duration": 32,
    "start_time": "2022-05-24T07:12:50.571Z"
   },
   {
    "duration": 70,
    "start_time": "2022-05-24T07:12:50.604Z"
   },
   {
    "duration": 8,
    "start_time": "2022-05-24T07:12:50.676Z"
   },
   {
    "duration": 46,
    "start_time": "2022-05-24T07:12:50.685Z"
   },
   {
    "duration": 25,
    "start_time": "2022-05-24T07:12:50.733Z"
   },
   {
    "duration": 6,
    "start_time": "2022-05-24T07:12:50.760Z"
   },
   {
    "duration": 0,
    "start_time": "2022-05-24T07:12:50.768Z"
   },
   {
    "duration": 4,
    "start_time": "2022-05-24T07:13:11.987Z"
   },
   {
    "duration": 122,
    "start_time": "2022-05-24T07:13:11.999Z"
   },
   {
    "duration": 22,
    "start_time": "2022-05-24T07:13:12.123Z"
   },
   {
    "duration": 19,
    "start_time": "2022-05-24T07:13:12.147Z"
   },
   {
    "duration": 25,
    "start_time": "2022-05-24T07:13:12.168Z"
   },
   {
    "duration": 6,
    "start_time": "2022-05-24T07:13:12.195Z"
   },
   {
    "duration": 42,
    "start_time": "2022-05-24T07:13:12.203Z"
   },
   {
    "duration": 10,
    "start_time": "2022-05-24T07:13:12.247Z"
   },
   {
    "duration": 501,
    "start_time": "2022-05-24T07:13:12.264Z"
   },
   {
    "duration": 12,
    "start_time": "2022-05-24T07:13:12.767Z"
   },
   {
    "duration": 49,
    "start_time": "2022-05-24T07:13:12.782Z"
   },
   {
    "duration": 41,
    "start_time": "2022-05-24T07:13:12.833Z"
   },
   {
    "duration": 95,
    "start_time": "2022-05-24T07:13:12.876Z"
   },
   {
    "duration": 3,
    "start_time": "2022-05-24T07:13:12.973Z"
   },
   {
    "duration": 18,
    "start_time": "2022-05-24T07:13:12.977Z"
   },
   {
    "duration": 5,
    "start_time": "2022-05-24T07:13:12.997Z"
   },
   {
    "duration": 6,
    "start_time": "2022-05-24T07:13:13.003Z"
   },
   {
    "duration": 11,
    "start_time": "2022-05-24T07:13:13.010Z"
   },
   {
    "duration": 5,
    "start_time": "2022-05-24T07:13:13.023Z"
   },
   {
    "duration": 41,
    "start_time": "2022-05-24T07:13:13.029Z"
   },
   {
    "duration": 19,
    "start_time": "2022-05-24T07:13:13.072Z"
   },
   {
    "duration": 13,
    "start_time": "2022-05-24T07:13:13.092Z"
   },
   {
    "duration": 5,
    "start_time": "2022-05-24T07:13:13.107Z"
   },
   {
    "duration": 62,
    "start_time": "2022-05-24T07:13:13.114Z"
   },
   {
    "duration": 22,
    "start_time": "2022-05-24T07:13:13.177Z"
   },
   {
    "duration": 33,
    "start_time": "2022-05-24T07:13:13.201Z"
   },
   {
    "duration": 37,
    "start_time": "2022-05-24T07:13:13.235Z"
   },
   {
    "duration": 395,
    "start_time": "2022-05-24T07:13:13.274Z"
   },
   {
    "duration": 29,
    "start_time": "2022-05-24T07:13:13.675Z"
   },
   {
    "duration": 393,
    "start_time": "2022-05-24T07:13:13.706Z"
   },
   {
    "duration": 10,
    "start_time": "2022-05-24T07:13:14.101Z"
   },
   {
    "duration": 425,
    "start_time": "2022-05-24T07:13:14.113Z"
   },
   {
    "duration": 25,
    "start_time": "2022-05-24T07:13:14.540Z"
   },
   {
    "duration": 10,
    "start_time": "2022-05-24T07:13:14.567Z"
   },
   {
    "duration": 50,
    "start_time": "2022-05-24T07:13:14.579Z"
   },
   {
    "duration": 373,
    "start_time": "2022-05-24T07:13:14.631Z"
   },
   {
    "duration": 372,
    "start_time": "2022-05-24T07:13:15.006Z"
   },
   {
    "duration": 31,
    "start_time": "2022-05-24T07:13:15.380Z"
   },
   {
    "duration": 10,
    "start_time": "2022-05-24T07:13:15.412Z"
   },
   {
    "duration": 23,
    "start_time": "2022-05-24T07:13:15.423Z"
   },
   {
    "duration": 36,
    "start_time": "2022-05-24T07:13:15.448Z"
   },
   {
    "duration": 369,
    "start_time": "2022-05-24T07:13:15.485Z"
   },
   {
    "duration": 31,
    "start_time": "2022-05-24T07:13:15.856Z"
   },
   {
    "duration": 6,
    "start_time": "2022-05-24T07:13:15.889Z"
   },
   {
    "duration": 26,
    "start_time": "2022-05-24T07:13:15.897Z"
   },
   {
    "duration": 10,
    "start_time": "2022-05-24T07:13:15.925Z"
   },
   {
    "duration": 63,
    "start_time": "2022-05-24T07:13:15.937Z"
   },
   {
    "duration": 20,
    "start_time": "2022-05-24T07:13:16.002Z"
   },
   {
    "duration": 321,
    "start_time": "2022-05-24T07:13:16.024Z"
   },
   {
    "duration": 27,
    "start_time": "2022-05-24T07:13:16.347Z"
   },
   {
    "duration": 174,
    "start_time": "2022-05-24T07:13:16.376Z"
   },
   {
    "duration": 23,
    "start_time": "2022-05-24T07:13:16.552Z"
   },
   {
    "duration": 179,
    "start_time": "2022-05-24T07:13:16.577Z"
   },
   {
    "duration": 38,
    "start_time": "2022-05-24T07:13:16.758Z"
   },
   {
    "duration": 12,
    "start_time": "2022-05-24T07:13:16.798Z"
   },
   {
    "duration": 168,
    "start_time": "2022-05-24T07:13:16.812Z"
   },
   {
    "duration": 14,
    "start_time": "2022-05-24T07:13:16.982Z"
   },
   {
    "duration": 26,
    "start_time": "2022-05-24T07:13:16.998Z"
   },
   {
    "duration": 14,
    "start_time": "2022-05-24T07:13:17.025Z"
   },
   {
    "duration": 281,
    "start_time": "2022-05-24T07:13:17.041Z"
   },
   {
    "duration": 21,
    "start_time": "2022-05-24T07:13:17.324Z"
   },
   {
    "duration": 71,
    "start_time": "2022-05-24T07:13:17.346Z"
   },
   {
    "duration": 8,
    "start_time": "2022-05-24T07:13:17.420Z"
   },
   {
    "duration": 31,
    "start_time": "2022-05-24T07:13:17.430Z"
   },
   {
    "duration": 28,
    "start_time": "2022-05-24T07:13:17.464Z"
   },
   {
    "duration": 24,
    "start_time": "2022-05-24T07:13:17.493Z"
   },
   {
    "duration": 53,
    "start_time": "2022-05-24T07:13:17.519Z"
   },
   {
    "duration": 9,
    "start_time": "2022-05-24T07:13:17.573Z"
   },
   {
    "duration": 41,
    "start_time": "2022-05-24T07:13:17.583Z"
   },
   {
    "duration": 23,
    "start_time": "2022-05-24T07:13:17.626Z"
   },
   {
    "duration": 23,
    "start_time": "2022-05-24T07:13:17.651Z"
   },
   {
    "duration": 40,
    "start_time": "2022-05-25T09:52:59.837Z"
   },
   {
    "duration": 15,
    "start_time": "2022-05-25T09:53:02.761Z"
   },
   {
    "duration": 496,
    "start_time": "2022-05-25T09:53:02.781Z"
   },
   {
    "duration": 65,
    "start_time": "2022-05-25T09:53:03.283Z"
   },
   {
    "duration": 24,
    "start_time": "2022-05-25T09:53:03.351Z"
   },
   {
    "duration": 35,
    "start_time": "2022-05-25T09:53:03.377Z"
   },
   {
    "duration": 20,
    "start_time": "2022-05-25T09:53:03.414Z"
   },
   {
    "duration": 46,
    "start_time": "2022-05-25T09:53:03.436Z"
   },
   {
    "duration": 13,
    "start_time": "2022-05-25T09:53:03.484Z"
   },
   {
    "duration": 542,
    "start_time": "2022-05-25T09:53:03.499Z"
   },
   {
    "duration": 27,
    "start_time": "2022-05-25T09:53:04.042Z"
   },
   {
    "duration": 51,
    "start_time": "2022-05-25T09:53:04.072Z"
   },
   {
    "duration": 18,
    "start_time": "2022-05-25T09:53:04.125Z"
   },
   {
    "duration": 99,
    "start_time": "2022-05-25T09:53:04.145Z"
   },
   {
    "duration": 3,
    "start_time": "2022-05-25T09:53:04.246Z"
   },
   {
    "duration": 30,
    "start_time": "2022-05-25T09:53:04.250Z"
   },
   {
    "duration": 12,
    "start_time": "2022-05-25T09:53:04.284Z"
   },
   {
    "duration": 23,
    "start_time": "2022-05-25T09:53:04.297Z"
   },
   {
    "duration": 22,
    "start_time": "2022-05-25T09:53:04.322Z"
   },
   {
    "duration": 37,
    "start_time": "2022-05-25T09:53:04.346Z"
   },
   {
    "duration": 10,
    "start_time": "2022-05-25T09:53:04.386Z"
   },
   {
    "duration": 21,
    "start_time": "2022-05-25T09:53:04.398Z"
   },
   {
    "duration": 32,
    "start_time": "2022-05-25T09:53:04.420Z"
   },
   {
    "duration": 7,
    "start_time": "2022-05-25T09:53:04.453Z"
   },
   {
    "duration": 55,
    "start_time": "2022-05-25T09:53:04.462Z"
   },
   {
    "duration": 30,
    "start_time": "2022-05-25T09:53:04.519Z"
   },
   {
    "duration": 45,
    "start_time": "2022-05-25T09:53:04.551Z"
   },
   {
    "duration": 18,
    "start_time": "2022-05-25T09:53:04.598Z"
   },
   {
    "duration": 437,
    "start_time": "2022-05-25T09:53:04.618Z"
   },
   {
    "duration": 29,
    "start_time": "2022-05-25T09:53:05.059Z"
   },
   {
    "duration": 403,
    "start_time": "2022-05-25T09:53:05.089Z"
   },
   {
    "duration": 9,
    "start_time": "2022-05-25T09:53:05.493Z"
   },
   {
    "duration": 336,
    "start_time": "2022-05-25T09:53:05.504Z"
   },
   {
    "duration": 23,
    "start_time": "2022-05-25T09:53:05.842Z"
   },
   {
    "duration": 13,
    "start_time": "2022-05-25T09:53:05.870Z"
   },
   {
    "duration": 57,
    "start_time": "2022-05-25T09:53:05.884Z"
   },
   {
    "duration": 411,
    "start_time": "2022-05-25T09:53:05.943Z"
   },
   {
    "duration": 425,
    "start_time": "2022-05-25T09:53:06.356Z"
   },
   {
    "duration": 33,
    "start_time": "2022-05-25T09:53:06.782Z"
   },
   {
    "duration": 9,
    "start_time": "2022-05-25T09:53:06.817Z"
   },
   {
    "duration": 33,
    "start_time": "2022-05-25T09:53:06.828Z"
   },
   {
    "duration": 30,
    "start_time": "2022-05-25T09:53:06.863Z"
   },
   {
    "duration": 491,
    "start_time": "2022-05-25T09:53:06.896Z"
   },
   {
    "duration": 25,
    "start_time": "2022-05-25T09:53:07.389Z"
   },
   {
    "duration": 9,
    "start_time": "2022-05-25T09:53:07.415Z"
   },
   {
    "duration": 58,
    "start_time": "2022-05-25T09:53:07.426Z"
   },
   {
    "duration": 10,
    "start_time": "2022-05-25T09:53:07.487Z"
   },
   {
    "duration": 31,
    "start_time": "2022-05-25T09:53:07.500Z"
   },
   {
    "duration": 39,
    "start_time": "2022-05-25T09:53:07.533Z"
   },
   {
    "duration": 312,
    "start_time": "2022-05-25T09:53:07.578Z"
   },
   {
    "duration": 21,
    "start_time": "2022-05-25T09:53:07.892Z"
   },
   {
    "duration": 197,
    "start_time": "2022-05-25T09:53:07.916Z"
   },
   {
    "duration": 16,
    "start_time": "2022-05-25T09:53:08.115Z"
   },
   {
    "duration": 197,
    "start_time": "2022-05-25T09:53:08.132Z"
   },
   {
    "duration": 53,
    "start_time": "2022-05-25T09:53:08.330Z"
   },
   {
    "duration": 13,
    "start_time": "2022-05-25T09:53:08.385Z"
   },
   {
    "duration": 147,
    "start_time": "2022-05-25T09:53:08.400Z"
   },
   {
    "duration": 18,
    "start_time": "2022-05-25T09:53:08.548Z"
   },
   {
    "duration": 29,
    "start_time": "2022-05-25T09:53:08.570Z"
   },
   {
    "duration": 20,
    "start_time": "2022-05-25T09:53:08.601Z"
   },
   {
    "duration": 181,
    "start_time": "2022-05-25T09:53:08.623Z"
   },
   {
    "duration": 32,
    "start_time": "2022-05-25T09:53:08.806Z"
   },
   {
    "duration": 72,
    "start_time": "2022-05-25T09:53:08.843Z"
   },
   {
    "duration": 8,
    "start_time": "2022-05-25T09:53:08.917Z"
   },
   {
    "duration": 8,
    "start_time": "2022-05-25T09:53:08.927Z"
   },
   {
    "duration": 14,
    "start_time": "2022-05-25T09:53:08.937Z"
   },
   {
    "duration": 27,
    "start_time": "2022-05-25T09:53:08.964Z"
   },
   {
    "duration": 65,
    "start_time": "2022-05-25T09:53:08.993Z"
   },
   {
    "duration": 17,
    "start_time": "2022-05-25T09:53:09.060Z"
   },
   {
    "duration": 66,
    "start_time": "2022-05-25T09:53:09.081Z"
   },
   {
    "duration": 35,
    "start_time": "2022-05-25T09:53:09.150Z"
   },
   {
    "duration": 7,
    "start_time": "2022-05-25T09:53:09.189Z"
   },
   {
    "duration": 313,
    "start_time": "2022-05-25T11:29:40.252Z"
   },
   {
    "duration": 11,
    "start_time": "2022-05-25T12:23:57.613Z"
   },
   {
    "duration": 4,
    "start_time": "2022-05-25T12:23:59.945Z"
   },
   {
    "duration": 145,
    "start_time": "2022-05-25T12:23:59.951Z"
   },
   {
    "duration": 23,
    "start_time": "2022-05-25T12:24:00.098Z"
   },
   {
    "duration": 12,
    "start_time": "2022-05-25T12:24:00.123Z"
   },
   {
    "duration": 17,
    "start_time": "2022-05-25T12:24:01.166Z"
   },
   {
    "duration": 27,
    "start_time": "2022-05-25T12:24:01.185Z"
   },
   {
    "duration": 40,
    "start_time": "2022-05-25T12:24:01.214Z"
   },
   {
    "duration": 15,
    "start_time": "2022-05-25T12:24:01.256Z"
   },
   {
    "duration": 862,
    "start_time": "2022-05-25T12:24:01.411Z"
   },
   {
    "duration": 14,
    "start_time": "2022-05-25T12:24:02.276Z"
   },
   {
    "duration": 50,
    "start_time": "2022-05-25T12:24:02.292Z"
   },
   {
    "duration": 35,
    "start_time": "2022-05-25T12:24:02.344Z"
   },
   {
    "duration": 121,
    "start_time": "2022-05-25T12:24:02.382Z"
   },
   {
    "duration": 2,
    "start_time": "2022-05-25T12:24:02.505Z"
   },
   {
    "duration": 18,
    "start_time": "2022-05-25T12:24:02.703Z"
   },
   {
    "duration": 43,
    "start_time": "2022-05-25T12:24:02.723Z"
   },
   {
    "duration": 10,
    "start_time": "2022-05-25T12:24:02.768Z"
   },
   {
    "duration": 24,
    "start_time": "2022-05-25T12:24:02.781Z"
   },
   {
    "duration": 7,
    "start_time": "2022-05-25T12:24:02.807Z"
   },
   {
    "duration": 8,
    "start_time": "2022-05-25T12:24:02.816Z"
   },
   {
    "duration": 60,
    "start_time": "2022-05-25T12:24:02.826Z"
   },
   {
    "duration": 14,
    "start_time": "2022-05-25T12:24:02.888Z"
   },
   {
    "duration": 7,
    "start_time": "2022-05-25T12:24:02.904Z"
   },
   {
    "duration": 68,
    "start_time": "2022-05-25T12:24:02.915Z"
   },
   {
    "duration": 25,
    "start_time": "2022-05-25T12:24:02.985Z"
   },
   {
    "duration": 34,
    "start_time": "2022-05-25T12:24:03.012Z"
   },
   {
    "duration": 41,
    "start_time": "2022-05-25T12:24:03.048Z"
   },
   {
    "duration": 425,
    "start_time": "2022-05-25T12:24:03.091Z"
   },
   {
    "duration": 22,
    "start_time": "2022-05-25T12:24:03.518Z"
   },
   {
    "duration": 416,
    "start_time": "2022-05-25T12:24:03.542Z"
   },
   {
    "duration": 18,
    "start_time": "2022-05-25T12:24:03.960Z"
   },
   {
    "duration": 336,
    "start_time": "2022-05-25T12:24:03.980Z"
   },
   {
    "duration": 11,
    "start_time": "2022-05-25T12:24:04.317Z"
   },
   {
    "duration": 7,
    "start_time": "2022-05-25T12:24:04.329Z"
   },
   {
    "duration": 51,
    "start_time": "2022-05-25T12:24:04.337Z"
   },
   {
    "duration": 498,
    "start_time": "2022-05-25T12:24:04.390Z"
   },
   {
    "duration": 405,
    "start_time": "2022-05-25T12:24:04.890Z"
   },
   {
    "duration": 32,
    "start_time": "2022-05-25T12:24:05.296Z"
   },
   {
    "duration": 9,
    "start_time": "2022-05-25T12:24:05.330Z"
   },
   {
    "duration": 43,
    "start_time": "2022-05-25T12:24:05.341Z"
   },
   {
    "duration": 17,
    "start_time": "2022-05-25T12:24:05.385Z"
   },
   {
    "duration": 366,
    "start_time": "2022-05-25T12:24:05.407Z"
   },
   {
    "duration": 24,
    "start_time": "2022-05-25T12:24:05.776Z"
   },
   {
    "duration": 9,
    "start_time": "2022-05-25T12:24:05.802Z"
   },
   {
    "duration": 26,
    "start_time": "2022-05-25T12:24:05.813Z"
   },
   {
    "duration": 49,
    "start_time": "2022-05-25T12:24:05.840Z"
   },
   {
    "duration": 35,
    "start_time": "2022-05-25T12:24:05.891Z"
   },
   {
    "duration": 18,
    "start_time": "2022-05-25T12:24:05.928Z"
   },
   {
    "duration": 320,
    "start_time": "2022-05-25T12:24:05.948Z"
   },
   {
    "duration": 23,
    "start_time": "2022-05-25T12:24:06.270Z"
   },
   {
    "duration": 176,
    "start_time": "2022-05-25T12:24:06.295Z"
   },
   {
    "duration": 17,
    "start_time": "2022-05-25T12:24:06.473Z"
   },
   {
    "duration": 199,
    "start_time": "2022-05-25T12:24:06.492Z"
   },
   {
    "duration": 36,
    "start_time": "2022-05-25T12:24:06.693Z"
   },
   {
    "duration": 12,
    "start_time": "2022-05-25T12:24:06.731Z"
   },
   {
    "duration": 170,
    "start_time": "2022-05-25T12:24:06.744Z"
   },
   {
    "duration": 13,
    "start_time": "2022-05-25T12:24:06.916Z"
   },
   {
    "duration": 11,
    "start_time": "2022-05-25T12:24:06.930Z"
   },
   {
    "duration": 10,
    "start_time": "2022-05-25T12:24:06.943Z"
   },
   {
    "duration": 180,
    "start_time": "2022-05-25T12:24:06.954Z"
   },
   {
    "duration": 29,
    "start_time": "2022-05-25T12:24:07.136Z"
   },
   {
    "duration": 52,
    "start_time": "2022-05-25T12:24:07.168Z"
   },
   {
    "duration": 6,
    "start_time": "2022-05-25T12:24:07.222Z"
   },
   {
    "duration": 10,
    "start_time": "2022-05-25T12:24:07.229Z"
   },
   {
    "duration": 4,
    "start_time": "2022-05-25T12:24:07.241Z"
   },
   {
    "duration": 12,
    "start_time": "2022-05-25T12:24:07.265Z"
   },
   {
    "duration": 48,
    "start_time": "2022-05-25T12:24:07.279Z"
   },
   {
    "duration": 8,
    "start_time": "2022-05-25T12:24:07.329Z"
   },
   {
    "duration": 57,
    "start_time": "2022-05-25T12:24:07.339Z"
   },
   {
    "duration": 29,
    "start_time": "2022-05-25T12:24:07.398Z"
   },
   {
    "duration": 6,
    "start_time": "2022-05-25T12:24:07.429Z"
   },
   {
    "duration": 5,
    "start_time": "2022-05-25T12:30:24.915Z"
   },
   {
    "duration": 137,
    "start_time": "2022-05-25T12:30:24.928Z"
   },
   {
    "duration": 30,
    "start_time": "2022-05-25T12:30:25.068Z"
   },
   {
    "duration": 11,
    "start_time": "2022-05-25T12:30:25.100Z"
   },
   {
    "duration": 12,
    "start_time": "2022-05-25T12:30:25.113Z"
   },
   {
    "duration": 5,
    "start_time": "2022-05-25T12:30:25.126Z"
   },
   {
    "duration": 45,
    "start_time": "2022-05-25T12:30:25.133Z"
   },
   {
    "duration": 10,
    "start_time": "2022-05-25T12:30:25.180Z"
   },
   {
    "duration": 505,
    "start_time": "2022-05-25T12:30:25.191Z"
   },
   {
    "duration": 11,
    "start_time": "2022-05-25T12:30:25.698Z"
   },
   {
    "duration": 68,
    "start_time": "2022-05-25T12:30:25.712Z"
   },
   {
    "duration": 17,
    "start_time": "2022-05-25T12:30:25.782Z"
   },
   {
    "duration": 103,
    "start_time": "2022-05-25T12:30:25.801Z"
   },
   {
    "duration": 3,
    "start_time": "2022-05-25T12:30:25.906Z"
   },
   {
    "duration": 16,
    "start_time": "2022-05-25T12:30:25.911Z"
   },
   {
    "duration": 7,
    "start_time": "2022-05-25T12:30:25.929Z"
   },
   {
    "duration": 34,
    "start_time": "2022-05-25T12:30:25.938Z"
   },
   {
    "duration": 20,
    "start_time": "2022-05-25T12:30:25.974Z"
   },
   {
    "duration": 8,
    "start_time": "2022-05-25T12:30:25.996Z"
   },
   {
    "duration": 9,
    "start_time": "2022-05-25T12:30:26.006Z"
   },
   {
    "duration": 22,
    "start_time": "2022-05-25T12:30:26.016Z"
   },
   {
    "duration": 41,
    "start_time": "2022-05-25T12:30:26.040Z"
   },
   {
    "duration": 10,
    "start_time": "2022-05-25T12:30:26.082Z"
   },
   {
    "duration": 32,
    "start_time": "2022-05-25T12:30:26.094Z"
   },
   {
    "duration": 52,
    "start_time": "2022-05-25T12:30:26.128Z"
   },
   {
    "duration": 38,
    "start_time": "2022-05-25T12:30:26.181Z"
   },
   {
    "duration": 8,
    "start_time": "2022-05-25T12:30:26.221Z"
   },
   {
    "duration": 356,
    "start_time": "2022-05-25T12:30:26.230Z"
   },
   {
    "duration": 12,
    "start_time": "2022-05-25T12:30:26.590Z"
   },
   {
    "duration": 20,
    "start_time": "2022-05-25T12:30:26.604Z"
   },
   {
    "duration": 564,
    "start_time": "2022-05-25T12:30:26.627Z"
   },
   {
    "duration": 22,
    "start_time": "2022-05-25T12:30:27.193Z"
   },
   {
    "duration": 428,
    "start_time": "2022-05-25T12:30:27.216Z"
   },
   {
    "duration": 20,
    "start_time": "2022-05-25T12:30:27.646Z"
   },
   {
    "duration": 331,
    "start_time": "2022-05-25T12:30:27.669Z"
   },
   {
    "duration": 10,
    "start_time": "2022-05-25T12:30:28.002Z"
   },
   {
    "duration": 7,
    "start_time": "2022-05-25T12:30:28.015Z"
   },
   {
    "duration": 54,
    "start_time": "2022-05-25T12:30:28.023Z"
   },
   {
    "duration": 407,
    "start_time": "2022-05-25T12:30:28.079Z"
   },
   {
    "duration": 397,
    "start_time": "2022-05-25T12:30:28.488Z"
   },
   {
    "duration": 36,
    "start_time": "2022-05-25T12:30:28.887Z"
   },
   {
    "duration": 13,
    "start_time": "2022-05-25T12:30:28.925Z"
   },
   {
    "duration": 46,
    "start_time": "2022-05-25T12:30:28.940Z"
   },
   {
    "duration": 24,
    "start_time": "2022-05-25T12:30:28.988Z"
   },
   {
    "duration": 429,
    "start_time": "2022-05-25T12:30:29.014Z"
   },
   {
    "duration": 31,
    "start_time": "2022-05-25T12:30:29.445Z"
   },
   {
    "duration": 6,
    "start_time": "2022-05-25T12:30:29.478Z"
   },
   {
    "duration": 20,
    "start_time": "2022-05-25T12:30:29.486Z"
   },
   {
    "duration": 7,
    "start_time": "2022-05-25T12:30:29.508Z"
   },
   {
    "duration": 53,
    "start_time": "2022-05-25T12:30:29.517Z"
   },
   {
    "duration": 121,
    "start_time": "2022-05-25T12:30:29.572Z"
   },
   {
    "duration": 265,
    "start_time": "2022-05-25T12:30:29.695Z"
   },
   {
    "duration": 27,
    "start_time": "2022-05-25T12:30:29.962Z"
   },
   {
    "duration": 192,
    "start_time": "2022-05-25T12:30:29.991Z"
   },
   {
    "duration": 14,
    "start_time": "2022-05-25T12:30:30.185Z"
   },
   {
    "duration": 203,
    "start_time": "2022-05-25T12:30:30.201Z"
   },
   {
    "duration": 40,
    "start_time": "2022-05-25T12:30:30.406Z"
   },
   {
    "duration": 24,
    "start_time": "2022-05-25T12:30:30.450Z"
   },
   {
    "duration": 205,
    "start_time": "2022-05-25T12:30:30.476Z"
   },
   {
    "duration": 15,
    "start_time": "2022-05-25T12:30:30.683Z"
   },
   {
    "duration": 50,
    "start_time": "2022-05-25T12:30:30.700Z"
   },
   {
    "duration": 33,
    "start_time": "2022-05-25T12:30:30.751Z"
   },
   {
    "duration": 196,
    "start_time": "2022-05-25T12:30:30.786Z"
   },
   {
    "duration": 21,
    "start_time": "2022-05-25T12:30:30.984Z"
   },
   {
    "duration": 59,
    "start_time": "2022-05-25T12:30:31.007Z"
   },
   {
    "duration": 11,
    "start_time": "2022-05-25T12:30:31.069Z"
   },
   {
    "duration": 30,
    "start_time": "2022-05-25T12:30:31.082Z"
   },
   {
    "duration": 22,
    "start_time": "2022-05-25T12:30:31.114Z"
   },
   {
    "duration": 10,
    "start_time": "2022-05-25T12:30:31.138Z"
   },
   {
    "duration": 73,
    "start_time": "2022-05-25T12:30:31.150Z"
   },
   {
    "duration": 10,
    "start_time": "2022-05-25T12:30:31.224Z"
   },
   {
    "duration": 51,
    "start_time": "2022-05-25T12:30:31.235Z"
   },
   {
    "duration": 23,
    "start_time": "2022-05-25T12:30:31.289Z"
   },
   {
    "duration": 6,
    "start_time": "2022-05-25T12:30:31.313Z"
   },
   {
    "duration": 6,
    "start_time": "2022-05-25T12:31:06.002Z"
   },
   {
    "duration": 4,
    "start_time": "2022-05-25T12:34:02.754Z"
   },
   {
    "duration": 143,
    "start_time": "2022-05-25T12:34:02.764Z"
   },
   {
    "duration": 26,
    "start_time": "2022-05-25T12:34:02.909Z"
   },
   {
    "duration": 11,
    "start_time": "2022-05-25T12:34:02.937Z"
   },
   {
    "duration": 23,
    "start_time": "2022-05-25T12:34:02.951Z"
   },
   {
    "duration": 6,
    "start_time": "2022-05-25T12:34:02.977Z"
   },
   {
    "duration": 28,
    "start_time": "2022-05-25T12:34:02.985Z"
   },
   {
    "duration": 11,
    "start_time": "2022-05-25T12:34:03.015Z"
   },
   {
    "duration": 550,
    "start_time": "2022-05-25T12:34:03.027Z"
   },
   {
    "duration": 12,
    "start_time": "2022-05-25T12:34:03.579Z"
   },
   {
    "duration": 50,
    "start_time": "2022-05-25T12:34:03.594Z"
   },
   {
    "duration": 24,
    "start_time": "2022-05-25T12:34:03.646Z"
   },
   {
    "duration": 80,
    "start_time": "2022-05-25T12:34:03.671Z"
   },
   {
    "duration": 2,
    "start_time": "2022-05-25T12:34:03.753Z"
   },
   {
    "duration": 22,
    "start_time": "2022-05-25T12:34:03.757Z"
   },
   {
    "duration": 6,
    "start_time": "2022-05-25T12:34:03.781Z"
   },
   {
    "duration": 7,
    "start_time": "2022-05-25T12:34:03.788Z"
   },
   {
    "duration": 11,
    "start_time": "2022-05-25T12:34:03.796Z"
   },
   {
    "duration": 6,
    "start_time": "2022-05-25T12:34:03.809Z"
   },
   {
    "duration": 10,
    "start_time": "2022-05-25T12:34:03.817Z"
   },
   {
    "duration": 66,
    "start_time": "2022-05-25T12:34:03.829Z"
   },
   {
    "duration": 12,
    "start_time": "2022-05-25T12:34:03.897Z"
   },
   {
    "duration": 6,
    "start_time": "2022-05-25T12:34:03.911Z"
   },
   {
    "duration": 30,
    "start_time": "2022-05-25T12:34:03.918Z"
   },
   {
    "duration": 43,
    "start_time": "2022-05-25T12:34:03.949Z"
   },
   {
    "duration": 32,
    "start_time": "2022-05-25T12:34:03.994Z"
   },
   {
    "duration": 9,
    "start_time": "2022-05-25T12:34:04.028Z"
   },
   {
    "duration": 339,
    "start_time": "2022-05-25T12:34:04.066Z"
   },
   {
    "duration": 10,
    "start_time": "2022-05-25T12:34:04.409Z"
   },
   {
    "duration": 13,
    "start_time": "2022-05-25T12:34:04.420Z"
   },
   {
    "duration": 33,
    "start_time": "2022-05-25T12:34:04.435Z"
   },
   {
    "duration": 443,
    "start_time": "2022-05-25T12:34:04.470Z"
   },
   {
    "duration": 22,
    "start_time": "2022-05-25T12:34:04.916Z"
   },
   {
    "duration": 416,
    "start_time": "2022-05-25T12:34:04.940Z"
   },
   {
    "duration": 35,
    "start_time": "2022-05-25T12:34:05.364Z"
   },
   {
    "duration": 402,
    "start_time": "2022-05-25T12:34:05.401Z"
   },
   {
    "duration": 542,
    "start_time": "2022-05-25T12:34:05.805Z"
   },
   {
    "duration": 48,
    "start_time": "2022-05-25T12:34:06.349Z"
   },
   {
    "duration": 10,
    "start_time": "2022-05-25T12:34:06.399Z"
   },
   {
    "duration": 19,
    "start_time": "2022-05-25T12:34:06.410Z"
   },
   {
    "duration": 17,
    "start_time": "2022-05-25T12:34:06.430Z"
   },
   {
    "duration": 378,
    "start_time": "2022-05-25T12:34:06.466Z"
   },
   {
    "duration": 35,
    "start_time": "2022-05-25T12:34:06.846Z"
   },
   {
    "duration": 6,
    "start_time": "2022-05-25T12:34:06.883Z"
   },
   {
    "duration": 22,
    "start_time": "2022-05-25T12:34:06.890Z"
   },
   {
    "duration": 8,
    "start_time": "2022-05-25T12:34:06.914Z"
   },
   {
    "duration": 62,
    "start_time": "2022-05-25T12:34:06.924Z"
   },
   {
    "duration": 14,
    "start_time": "2022-05-25T12:34:06.988Z"
   },
   {
    "duration": 292,
    "start_time": "2022-05-25T12:34:07.004Z"
   },
   {
    "duration": 19,
    "start_time": "2022-05-25T12:34:07.299Z"
   },
   {
    "duration": 188,
    "start_time": "2022-05-25T12:34:07.319Z"
   },
   {
    "duration": 14,
    "start_time": "2022-05-25T12:34:07.509Z"
   },
   {
    "duration": 191,
    "start_time": "2022-05-25T12:34:07.525Z"
   },
   {
    "duration": 35,
    "start_time": "2022-05-25T12:34:07.717Z"
   },
   {
    "duration": 25,
    "start_time": "2022-05-25T12:34:07.753Z"
   },
   {
    "duration": 154,
    "start_time": "2022-05-25T12:34:07.780Z"
   },
   {
    "duration": 13,
    "start_time": "2022-05-25T12:34:07.936Z"
   },
   {
    "duration": 25,
    "start_time": "2022-05-25T12:34:07.950Z"
   },
   {
    "duration": 11,
    "start_time": "2022-05-25T12:34:07.977Z"
   },
   {
    "duration": 186,
    "start_time": "2022-05-25T12:34:07.990Z"
   },
   {
    "duration": 21,
    "start_time": "2022-05-25T12:34:08.178Z"
   },
   {
    "duration": 44,
    "start_time": "2022-05-25T12:34:08.201Z"
   },
   {
    "duration": 29,
    "start_time": "2022-05-25T12:34:08.247Z"
   },
   {
    "duration": 13,
    "start_time": "2022-05-25T12:34:08.278Z"
   },
   {
    "duration": 5,
    "start_time": "2022-05-25T12:34:08.293Z"
   },
   {
    "duration": 8,
    "start_time": "2022-05-25T12:34:08.299Z"
   },
   {
    "duration": 64,
    "start_time": "2022-05-25T12:34:08.308Z"
   },
   {
    "duration": 10,
    "start_time": "2022-05-25T12:34:08.375Z"
   },
   {
    "duration": 36,
    "start_time": "2022-05-25T12:34:08.387Z"
   },
   {
    "duration": 40,
    "start_time": "2022-05-25T12:34:08.425Z"
   },
   {
    "duration": 9,
    "start_time": "2022-05-25T12:34:08.467Z"
   },
   {
    "duration": 35,
    "start_time": "2022-05-25T13:08:07.463Z"
   },
   {
    "duration": 404,
    "start_time": "2022-05-25T13:08:14.197Z"
   },
   {
    "duration": 5,
    "start_time": "2022-05-25T13:08:16.286Z"
   },
   {
    "duration": 146,
    "start_time": "2022-05-25T13:08:16.293Z"
   },
   {
    "duration": 28,
    "start_time": "2022-05-25T13:08:16.441Z"
   },
   {
    "duration": 17,
    "start_time": "2022-05-25T13:08:16.471Z"
   },
   {
    "duration": 11,
    "start_time": "2022-05-25T13:08:16.491Z"
   },
   {
    "duration": 12,
    "start_time": "2022-05-25T13:08:16.504Z"
   },
   {
    "duration": 51,
    "start_time": "2022-05-25T13:08:16.518Z"
   },
   {
    "duration": 15,
    "start_time": "2022-05-25T13:08:16.571Z"
   },
   {
    "duration": 614,
    "start_time": "2022-05-25T13:08:16.588Z"
   },
   {
    "duration": 13,
    "start_time": "2022-05-25T13:08:17.204Z"
   },
   {
    "duration": 88,
    "start_time": "2022-05-25T13:08:17.221Z"
   },
   {
    "duration": 22,
    "start_time": "2022-05-25T13:08:17.310Z"
   },
   {
    "duration": 157,
    "start_time": "2022-05-25T13:08:17.334Z"
   },
   {
    "duration": 3,
    "start_time": "2022-05-25T13:08:17.493Z"
   },
   {
    "duration": 25,
    "start_time": "2022-05-25T13:08:17.498Z"
   },
   {
    "duration": 7,
    "start_time": "2022-05-25T13:08:17.525Z"
   },
   {
    "duration": 12,
    "start_time": "2022-05-25T13:08:17.534Z"
   },
   {
    "duration": 17,
    "start_time": "2022-05-25T13:08:17.566Z"
   },
   {
    "duration": 7,
    "start_time": "2022-05-25T13:08:17.585Z"
   },
   {
    "duration": 8,
    "start_time": "2022-05-25T13:08:17.594Z"
   },
   {
    "duration": 18,
    "start_time": "2022-05-25T13:08:17.603Z"
   },
   {
    "duration": 64,
    "start_time": "2022-05-25T13:08:17.623Z"
   },
   {
    "duration": 6,
    "start_time": "2022-05-25T13:08:17.689Z"
   },
   {
    "duration": 30,
    "start_time": "2022-05-25T13:08:17.697Z"
   },
   {
    "duration": 44,
    "start_time": "2022-05-25T13:08:17.729Z"
   },
   {
    "duration": 40,
    "start_time": "2022-05-25T13:08:17.776Z"
   },
   {
    "duration": 9,
    "start_time": "2022-05-25T13:08:17.818Z"
   },
   {
    "duration": 368,
    "start_time": "2022-05-25T13:08:17.829Z"
   },
   {
    "duration": 10,
    "start_time": "2022-05-25T13:08:18.201Z"
   },
   {
    "duration": 9,
    "start_time": "2022-05-25T13:08:18.212Z"
   },
   {
    "duration": 19,
    "start_time": "2022-05-25T13:08:18.223Z"
   },
   {
    "duration": 558,
    "start_time": "2022-05-25T13:08:18.264Z"
   },
   {
    "duration": 24,
    "start_time": "2022-05-25T13:08:18.824Z"
   },
   {
    "duration": 467,
    "start_time": "2022-05-25T13:08:18.850Z"
   },
   {
    "duration": 31,
    "start_time": "2022-05-25T13:08:19.319Z"
   },
   {
    "duration": 423,
    "start_time": "2022-05-25T13:08:19.365Z"
   },
   {
    "duration": 412,
    "start_time": "2022-05-25T13:08:19.790Z"
   },
   {
    "duration": 31,
    "start_time": "2022-05-25T13:08:20.204Z"
   },
   {
    "duration": 28,
    "start_time": "2022-05-25T13:08:20.237Z"
   },
   {
    "duration": 24,
    "start_time": "2022-05-25T13:08:20.267Z"
   },
   {
    "duration": 17,
    "start_time": "2022-05-25T13:08:20.292Z"
   },
   {
    "duration": 416,
    "start_time": "2022-05-25T13:08:20.311Z"
   },
   {
    "duration": 24,
    "start_time": "2022-05-25T13:08:20.730Z"
   },
   {
    "duration": 10,
    "start_time": "2022-05-25T13:08:20.764Z"
   },
   {
    "duration": 37,
    "start_time": "2022-05-25T13:08:20.776Z"
   },
   {
    "duration": 19,
    "start_time": "2022-05-25T13:08:20.815Z"
   },
   {
    "duration": 39,
    "start_time": "2022-05-25T13:08:20.836Z"
   },
   {
    "duration": 19,
    "start_time": "2022-05-25T13:08:20.877Z"
   },
   {
    "duration": 289,
    "start_time": "2022-05-25T13:08:20.898Z"
   },
   {
    "duration": 19,
    "start_time": "2022-05-25T13:08:21.189Z"
   },
   {
    "duration": 185,
    "start_time": "2022-05-25T13:08:21.210Z"
   },
   {
    "duration": 14,
    "start_time": "2022-05-25T13:08:21.397Z"
   },
   {
    "duration": 205,
    "start_time": "2022-05-25T13:08:21.413Z"
   },
   {
    "duration": 44,
    "start_time": "2022-05-25T13:08:21.620Z"
   },
   {
    "duration": 16,
    "start_time": "2022-05-25T13:08:21.667Z"
   },
   {
    "duration": 267,
    "start_time": "2022-05-25T13:08:21.685Z"
   },
   {
    "duration": 30,
    "start_time": "2022-05-25T13:08:21.954Z"
   },
   {
    "duration": 20,
    "start_time": "2022-05-25T13:08:21.985Z"
   },
   {
    "duration": 5,
    "start_time": "2022-05-25T13:08:22.007Z"
   },
   {
    "duration": 198,
    "start_time": "2022-05-25T13:08:22.014Z"
   },
   {
    "duration": 22,
    "start_time": "2022-05-25T13:08:22.213Z"
   },
   {
    "duration": 70,
    "start_time": "2022-05-25T13:08:22.236Z"
   },
   {
    "duration": 7,
    "start_time": "2022-05-25T13:08:22.308Z"
   },
   {
    "duration": 13,
    "start_time": "2022-05-25T13:08:22.317Z"
   },
   {
    "duration": 7,
    "start_time": "2022-05-25T13:08:22.331Z"
   },
   {
    "duration": 10,
    "start_time": "2022-05-25T13:08:22.340Z"
   },
   {
    "duration": 89,
    "start_time": "2022-05-25T13:08:22.352Z"
   },
   {
    "duration": 10,
    "start_time": "2022-05-25T13:08:22.443Z"
   },
   {
    "duration": 48,
    "start_time": "2022-05-25T13:08:22.454Z"
   },
   {
    "duration": 23,
    "start_time": "2022-05-25T13:08:22.503Z"
   },
   {
    "duration": 5,
    "start_time": "2022-05-25T13:08:22.527Z"
   },
   {
    "duration": 131,
    "start_time": "2022-05-25T14:21:50.832Z"
   },
   {
    "duration": 21,
    "start_time": "2022-05-25T14:22:02.778Z"
   },
   {
    "duration": 18,
    "start_time": "2022-05-25T14:22:13.443Z"
   },
   {
    "duration": 23,
    "start_time": "2022-05-25T14:22:29.412Z"
   },
   {
    "duration": 27,
    "start_time": "2022-05-25T14:23:16.561Z"
   },
   {
    "duration": 20,
    "start_time": "2022-05-25T14:23:23.506Z"
   },
   {
    "duration": 411,
    "start_time": "2022-05-25T14:28:17.863Z"
   },
   {
    "duration": 45,
    "start_time": "2022-05-25T15:09:40.311Z"
   },
   {
    "duration": 4,
    "start_time": "2022-05-25T15:09:43.443Z"
   },
   {
    "duration": 135,
    "start_time": "2022-05-25T15:09:43.456Z"
   },
   {
    "duration": 23,
    "start_time": "2022-05-25T15:09:43.593Z"
   },
   {
    "duration": 10,
    "start_time": "2022-05-25T15:09:43.617Z"
   },
   {
    "duration": 11,
    "start_time": "2022-05-25T15:09:43.630Z"
   },
   {
    "duration": 4,
    "start_time": "2022-05-25T15:09:43.642Z"
   },
   {
    "duration": 42,
    "start_time": "2022-05-25T15:09:43.647Z"
   },
   {
    "duration": 13,
    "start_time": "2022-05-25T15:09:43.691Z"
   },
   {
    "duration": 553,
    "start_time": "2022-05-25T15:09:43.705Z"
   },
   {
    "duration": 20,
    "start_time": "2022-05-25T15:09:44.260Z"
   },
   {
    "duration": 52,
    "start_time": "2022-05-25T15:09:44.283Z"
   },
   {
    "duration": 36,
    "start_time": "2022-05-25T15:09:44.336Z"
   },
   {
    "duration": 106,
    "start_time": "2022-05-25T15:09:44.374Z"
   },
   {
    "duration": 3,
    "start_time": "2022-05-25T15:09:44.483Z"
   },
   {
    "duration": 34,
    "start_time": "2022-05-25T15:09:44.488Z"
   },
   {
    "duration": 9,
    "start_time": "2022-05-25T15:09:44.523Z"
   },
   {
    "duration": 25,
    "start_time": "2022-05-25T15:09:44.533Z"
   },
   {
    "duration": 46,
    "start_time": "2022-05-25T15:09:44.560Z"
   },
   {
    "duration": 32,
    "start_time": "2022-05-25T15:09:44.607Z"
   },
   {
    "duration": 27,
    "start_time": "2022-05-25T15:09:44.640Z"
   },
   {
    "duration": 37,
    "start_time": "2022-05-25T15:09:44.670Z"
   },
   {
    "duration": 13,
    "start_time": "2022-05-25T15:09:44.708Z"
   },
   {
    "duration": 23,
    "start_time": "2022-05-25T15:09:44.723Z"
   },
   {
    "duration": 34,
    "start_time": "2022-05-25T15:09:44.747Z"
   },
   {
    "duration": 21,
    "start_time": "2022-05-25T15:09:44.783Z"
   },
   {
    "duration": 35,
    "start_time": "2022-05-25T15:09:44.806Z"
   },
   {
    "duration": 36,
    "start_time": "2022-05-25T15:09:44.843Z"
   },
   {
    "duration": 332,
    "start_time": "2022-05-25T15:09:44.881Z"
   },
   {
    "duration": 11,
    "start_time": "2022-05-25T15:09:45.218Z"
   },
   {
    "duration": 2,
    "start_time": "2022-05-25T15:09:45.231Z"
   },
   {
    "duration": 45,
    "start_time": "2022-05-25T15:09:45.235Z"
   },
   {
    "duration": 458,
    "start_time": "2022-05-25T15:09:45.282Z"
   },
   {
    "duration": 42,
    "start_time": "2022-05-25T15:09:45.742Z"
   },
   {
    "duration": 414,
    "start_time": "2022-05-25T15:09:45.786Z"
   },
   {
    "duration": 40,
    "start_time": "2022-05-25T15:09:46.201Z"
   },
   {
    "duration": 443,
    "start_time": "2022-05-25T15:09:46.243Z"
   },
   {
    "duration": 414,
    "start_time": "2022-05-25T15:09:46.688Z"
   },
   {
    "duration": 31,
    "start_time": "2022-05-25T15:09:47.104Z"
   },
   {
    "duration": 9,
    "start_time": "2022-05-25T15:09:47.137Z"
   },
   {
    "duration": 20,
    "start_time": "2022-05-25T15:09:47.165Z"
   },
   {
    "duration": 16,
    "start_time": "2022-05-25T15:09:47.187Z"
   },
   {
    "duration": 522,
    "start_time": "2022-05-25T15:09:47.205Z"
   },
   {
    "duration": 23,
    "start_time": "2022-05-25T15:09:47.731Z"
   },
   {
    "duration": 13,
    "start_time": "2022-05-25T15:09:47.756Z"
   },
   {
    "duration": 37,
    "start_time": "2022-05-25T15:09:47.781Z"
   },
   {
    "duration": 12,
    "start_time": "2022-05-25T15:09:47.819Z"
   },
   {
    "duration": 33,
    "start_time": "2022-05-25T15:09:47.833Z"
   },
   {
    "duration": 19,
    "start_time": "2022-05-25T15:09:47.868Z"
   },
   {
    "duration": 294,
    "start_time": "2022-05-25T15:09:47.889Z"
   },
   {
    "duration": 20,
    "start_time": "2022-05-25T15:09:48.185Z"
   },
   {
    "duration": 183,
    "start_time": "2022-05-25T15:09:48.207Z"
   },
   {
    "duration": 15,
    "start_time": "2022-05-25T15:09:48.392Z"
   },
   {
    "duration": 196,
    "start_time": "2022-05-25T15:09:48.408Z"
   },
   {
    "duration": 34,
    "start_time": "2022-05-25T15:09:48.605Z"
   },
   {
    "duration": 26,
    "start_time": "2022-05-25T15:09:48.641Z"
   },
   {
    "duration": 159,
    "start_time": "2022-05-25T15:09:48.669Z"
   },
   {
    "duration": 14,
    "start_time": "2022-05-25T15:09:48.830Z"
   },
   {
    "duration": 28,
    "start_time": "2022-05-25T15:09:48.846Z"
   },
   {
    "duration": 9,
    "start_time": "2022-05-25T15:09:48.876Z"
   },
   {
    "duration": 182,
    "start_time": "2022-05-25T15:09:48.886Z"
   },
   {
    "duration": 25,
    "start_time": "2022-05-25T15:09:49.070Z"
   },
   {
    "duration": 68,
    "start_time": "2022-05-25T15:09:49.096Z"
   },
   {
    "duration": 10,
    "start_time": "2022-05-25T15:09:49.167Z"
   },
   {
    "duration": 23,
    "start_time": "2022-05-25T15:09:49.180Z"
   },
   {
    "duration": 9,
    "start_time": "2022-05-25T15:09:49.205Z"
   },
   {
    "duration": 10,
    "start_time": "2022-05-25T15:09:49.216Z"
   },
   {
    "duration": 59,
    "start_time": "2022-05-25T15:09:49.228Z"
   },
   {
    "duration": 8,
    "start_time": "2022-05-25T15:09:49.290Z"
   },
   {
    "duration": 38,
    "start_time": "2022-05-25T15:09:49.300Z"
   },
   {
    "duration": 55,
    "start_time": "2022-05-25T15:09:49.340Z"
   },
   {
    "duration": 6,
    "start_time": "2022-05-25T15:09:49.396Z"
   },
   {
    "duration": 4,
    "start_time": "2022-05-25T15:10:51.514Z"
   },
   {
    "duration": 4,
    "start_time": "2022-05-25T15:10:52.929Z"
   },
   {
    "duration": 130,
    "start_time": "2022-05-25T15:10:52.942Z"
   },
   {
    "duration": 25,
    "start_time": "2022-05-25T15:10:53.074Z"
   },
   {
    "duration": 12,
    "start_time": "2022-05-25T15:10:53.100Z"
   },
   {
    "duration": 10,
    "start_time": "2022-05-25T15:10:53.115Z"
   },
   {
    "duration": 4,
    "start_time": "2022-05-25T15:10:53.127Z"
   },
   {
    "duration": 53,
    "start_time": "2022-05-25T15:10:53.132Z"
   },
   {
    "duration": 12,
    "start_time": "2022-05-25T15:10:53.187Z"
   },
   {
    "duration": 525,
    "start_time": "2022-05-25T15:10:53.200Z"
   },
   {
    "duration": 11,
    "start_time": "2022-05-25T15:10:53.727Z"
   },
   {
    "duration": 70,
    "start_time": "2022-05-25T15:10:53.741Z"
   },
   {
    "duration": 18,
    "start_time": "2022-05-25T15:10:53.812Z"
   },
   {
    "duration": 90,
    "start_time": "2022-05-25T15:10:53.831Z"
   },
   {
    "duration": 2,
    "start_time": "2022-05-25T15:10:53.923Z"
   },
   {
    "duration": 18,
    "start_time": "2022-05-25T15:10:53.927Z"
   },
   {
    "duration": 23,
    "start_time": "2022-05-25T15:10:53.947Z"
   },
   {
    "duration": 18,
    "start_time": "2022-05-25T15:10:53.972Z"
   },
   {
    "duration": 19,
    "start_time": "2022-05-25T15:10:53.992Z"
   },
   {
    "duration": 6,
    "start_time": "2022-05-25T15:10:54.013Z"
   },
   {
    "duration": 7,
    "start_time": "2022-05-25T15:10:54.020Z"
   },
   {
    "duration": 16,
    "start_time": "2022-05-25T15:10:54.028Z"
   },
   {
    "duration": 35,
    "start_time": "2022-05-25T15:10:54.046Z"
   },
   {
    "duration": 6,
    "start_time": "2022-05-25T15:10:54.083Z"
   },
   {
    "duration": 29,
    "start_time": "2022-05-25T15:10:54.091Z"
   },
   {
    "duration": 52,
    "start_time": "2022-05-25T15:10:54.122Z"
   },
   {
    "duration": 36,
    "start_time": "2022-05-25T15:10:54.176Z"
   },
   {
    "duration": 8,
    "start_time": "2022-05-25T15:10:54.214Z"
   },
   {
    "duration": 330,
    "start_time": "2022-05-25T15:10:54.224Z"
   },
   {
    "duration": 16,
    "start_time": "2022-05-25T15:10:54.573Z"
   },
   {
    "duration": 3,
    "start_time": "2022-05-25T15:10:54.591Z"
   },
   {
    "duration": 25,
    "start_time": "2022-05-25T15:10:54.596Z"
   },
   {
    "duration": 394,
    "start_time": "2022-05-25T15:10:54.623Z"
   },
   {
    "duration": 23,
    "start_time": "2022-05-25T15:10:55.018Z"
   },
   {
    "duration": 476,
    "start_time": "2022-05-25T15:10:55.043Z"
   },
   {
    "duration": 27,
    "start_time": "2022-05-25T15:10:55.521Z"
   },
   {
    "duration": 15,
    "start_time": "2022-05-25T15:10:55.550Z"
   },
   {
    "duration": 366,
    "start_time": "2022-05-25T15:10:55.568Z"
   },
   {
    "duration": 374,
    "start_time": "2022-05-25T15:10:55.936Z"
   },
   {
    "duration": 31,
    "start_time": "2022-05-25T15:10:56.312Z"
   },
   {
    "duration": 21,
    "start_time": "2022-05-25T15:10:56.345Z"
   },
   {
    "duration": 19,
    "start_time": "2022-05-25T15:10:56.368Z"
   },
   {
    "duration": 15,
    "start_time": "2022-05-25T15:10:56.388Z"
   },
   {
    "duration": 380,
    "start_time": "2022-05-25T15:10:56.405Z"
   },
   {
    "duration": 23,
    "start_time": "2022-05-25T15:10:56.786Z"
   },
   {
    "duration": 5,
    "start_time": "2022-05-25T15:10:56.811Z"
   },
   {
    "duration": 21,
    "start_time": "2022-05-25T15:10:56.818Z"
   },
   {
    "duration": 37,
    "start_time": "2022-05-25T15:10:56.840Z"
   },
   {
    "duration": 35,
    "start_time": "2022-05-25T15:10:56.879Z"
   },
   {
    "duration": 15,
    "start_time": "2022-05-25T15:10:56.916Z"
   },
   {
    "duration": 318,
    "start_time": "2022-05-25T15:10:56.933Z"
   },
   {
    "duration": 33,
    "start_time": "2022-05-25T15:10:57.252Z"
   },
   {
    "duration": 187,
    "start_time": "2022-05-25T15:10:57.287Z"
   },
   {
    "duration": 18,
    "start_time": "2022-05-25T15:10:57.476Z"
   },
   {
    "duration": 195,
    "start_time": "2022-05-25T15:10:57.495Z"
   },
   {
    "duration": 36,
    "start_time": "2022-05-25T15:10:57.692Z"
   },
   {
    "duration": 11,
    "start_time": "2022-05-25T15:10:57.730Z"
   },
   {
    "duration": 168,
    "start_time": "2022-05-25T15:10:57.743Z"
   },
   {
    "duration": 15,
    "start_time": "2022-05-25T15:10:57.913Z"
   },
   {
    "duration": 11,
    "start_time": "2022-05-25T15:10:57.929Z"
   },
   {
    "duration": 6,
    "start_time": "2022-05-25T15:10:57.942Z"
   },
   {
    "duration": 173,
    "start_time": "2022-05-25T15:10:57.964Z"
   },
   {
    "duration": 36,
    "start_time": "2022-05-25T15:10:58.139Z"
   },
   {
    "duration": 43,
    "start_time": "2022-05-25T15:10:58.178Z"
   },
   {
    "duration": 6,
    "start_time": "2022-05-25T15:10:58.223Z"
   },
   {
    "duration": 9,
    "start_time": "2022-05-25T15:10:58.231Z"
   },
   {
    "duration": 4,
    "start_time": "2022-05-25T15:10:58.242Z"
   },
   {
    "duration": 6,
    "start_time": "2022-05-25T15:10:58.265Z"
   },
   {
    "duration": 48,
    "start_time": "2022-05-25T15:10:58.273Z"
   },
   {
    "duration": 7,
    "start_time": "2022-05-25T15:10:58.323Z"
   },
   {
    "duration": 63,
    "start_time": "2022-05-25T15:10:58.332Z"
   },
   {
    "duration": 29,
    "start_time": "2022-05-25T15:10:58.397Z"
   },
   {
    "duration": 5,
    "start_time": "2022-05-25T15:10:58.428Z"
   },
   {
    "duration": 222,
    "start_time": "2022-05-25T15:53:39.809Z"
   },
   {
    "duration": 336,
    "start_time": "2022-05-25T16:06:21.102Z"
   },
   {
    "duration": 327,
    "start_time": "2022-05-25T16:07:01.478Z"
   },
   {
    "duration": 371,
    "start_time": "2022-05-25T16:07:29.596Z"
   },
   {
    "duration": 342,
    "start_time": "2022-05-25T16:07:34.477Z"
   },
   {
    "duration": 530,
    "start_time": "2022-05-25T16:08:48.674Z"
   },
   {
    "duration": 333,
    "start_time": "2022-05-25T16:09:01.505Z"
   },
   {
    "duration": 337,
    "start_time": "2022-05-25T16:09:10.966Z"
   },
   {
    "duration": 57,
    "start_time": "2022-05-25T16:09:40.243Z"
   },
   {
    "duration": 336,
    "start_time": "2022-05-25T16:09:45.753Z"
   },
   {
    "duration": 63,
    "start_time": "2022-05-25T18:54:15.168Z"
   },
   {
    "duration": 8,
    "start_time": "2022-05-25T18:54:19.456Z"
   },
   {
    "duration": 1517,
    "start_time": "2022-05-25T18:54:20.739Z"
   },
   {
    "duration": 874,
    "start_time": "2022-05-25T18:54:22.258Z"
   },
   {
    "duration": 67,
    "start_time": "2022-05-25T18:54:23.134Z"
   },
   {
    "duration": 10,
    "start_time": "2022-05-25T18:54:23.203Z"
   },
   {
    "duration": 13,
    "start_time": "2022-05-25T18:54:23.215Z"
   },
   {
    "duration": 5,
    "start_time": "2022-05-25T18:54:23.230Z"
   },
   {
    "duration": 31,
    "start_time": "2022-05-25T18:54:23.236Z"
   },
   {
    "duration": 13,
    "start_time": "2022-05-25T18:54:23.269Z"
   },
   {
    "duration": 487,
    "start_time": "2022-05-25T18:54:23.284Z"
   },
   {
    "duration": 13,
    "start_time": "2022-05-25T18:54:23.774Z"
   },
   {
    "duration": 77,
    "start_time": "2022-05-25T18:54:23.789Z"
   },
   {
    "duration": 29,
    "start_time": "2022-05-25T18:54:23.867Z"
   },
   {
    "duration": 117,
    "start_time": "2022-05-25T18:54:23.898Z"
   },
   {
    "duration": 2,
    "start_time": "2022-05-25T18:54:24.017Z"
   },
   {
    "duration": 16,
    "start_time": "2022-05-25T18:54:24.020Z"
   },
   {
    "duration": 27,
    "start_time": "2022-05-25T18:54:24.038Z"
   },
   {
    "duration": 9,
    "start_time": "2022-05-25T18:54:24.067Z"
   },
   {
    "duration": 14,
    "start_time": "2022-05-25T18:54:24.078Z"
   },
   {
    "duration": 7,
    "start_time": "2022-05-25T18:54:24.093Z"
   },
   {
    "duration": 11,
    "start_time": "2022-05-25T18:54:24.102Z"
   },
   {
    "duration": 20,
    "start_time": "2022-05-25T18:54:24.115Z"
   },
   {
    "duration": 36,
    "start_time": "2022-05-25T18:54:24.136Z"
   },
   {
    "duration": 5,
    "start_time": "2022-05-25T18:54:24.174Z"
   },
   {
    "duration": 33,
    "start_time": "2022-05-25T18:54:24.180Z"
   },
   {
    "duration": 22,
    "start_time": "2022-05-25T18:54:24.215Z"
   },
   {
    "duration": 36,
    "start_time": "2022-05-25T18:54:24.265Z"
   },
   {
    "duration": 8,
    "start_time": "2022-05-25T18:54:24.303Z"
   },
   {
    "duration": 512,
    "start_time": "2022-05-25T18:54:24.316Z"
   },
   {
    "duration": 10,
    "start_time": "2022-05-25T18:54:24.831Z"
   },
   {
    "duration": 3,
    "start_time": "2022-05-25T18:54:24.842Z"
   },
   {
    "duration": 33,
    "start_time": "2022-05-25T18:54:24.846Z"
   },
   {
    "duration": 406,
    "start_time": "2022-05-25T18:54:24.881Z"
   },
   {
    "duration": 24,
    "start_time": "2022-05-25T18:54:25.289Z"
   },
   {
    "duration": 368,
    "start_time": "2022-05-25T18:54:25.315Z"
   },
   {
    "duration": 28,
    "start_time": "2022-05-25T18:54:25.685Z"
   },
   {
    "duration": 4,
    "start_time": "2022-05-25T18:54:25.715Z"
   },
   {
    "duration": 364,
    "start_time": "2022-05-25T18:54:25.720Z"
   },
   {
    "duration": 355,
    "start_time": "2022-05-25T18:54:26.086Z"
   },
   {
    "duration": 43,
    "start_time": "2022-05-25T18:54:26.443Z"
   },
   {
    "duration": 9,
    "start_time": "2022-05-25T18:54:26.487Z"
   },
   {
    "duration": 80,
    "start_time": "2022-05-25T18:54:26.497Z"
   },
   {
    "duration": 0,
    "start_time": "2022-05-25T18:54:26.579Z"
   },
   {
    "duration": 0,
    "start_time": "2022-05-25T18:54:26.580Z"
   },
   {
    "duration": 0,
    "start_time": "2022-05-25T18:54:26.582Z"
   },
   {
    "duration": 0,
    "start_time": "2022-05-25T18:54:26.584Z"
   },
   {
    "duration": 0,
    "start_time": "2022-05-25T18:54:26.586Z"
   },
   {
    "duration": 0,
    "start_time": "2022-05-25T18:54:26.587Z"
   },
   {
    "duration": 0,
    "start_time": "2022-05-25T18:54:26.589Z"
   },
   {
    "duration": 0,
    "start_time": "2022-05-25T18:54:26.590Z"
   },
   {
    "duration": 0,
    "start_time": "2022-05-25T18:54:26.592Z"
   },
   {
    "duration": 0,
    "start_time": "2022-05-25T18:54:26.594Z"
   },
   {
    "duration": 0,
    "start_time": "2022-05-25T18:54:26.595Z"
   },
   {
    "duration": 0,
    "start_time": "2022-05-25T18:54:26.596Z"
   },
   {
    "duration": 0,
    "start_time": "2022-05-25T18:54:26.597Z"
   },
   {
    "duration": 0,
    "start_time": "2022-05-25T18:54:26.599Z"
   },
   {
    "duration": 0,
    "start_time": "2022-05-25T18:54:26.600Z"
   },
   {
    "duration": 0,
    "start_time": "2022-05-25T18:54:26.602Z"
   },
   {
    "duration": 0,
    "start_time": "2022-05-25T18:54:26.603Z"
   },
   {
    "duration": 0,
    "start_time": "2022-05-25T18:54:26.605Z"
   },
   {
    "duration": 0,
    "start_time": "2022-05-25T18:54:26.606Z"
   },
   {
    "duration": 0,
    "start_time": "2022-05-25T18:54:26.608Z"
   },
   {
    "duration": 0,
    "start_time": "2022-05-25T18:54:26.609Z"
   },
   {
    "duration": 0,
    "start_time": "2022-05-25T18:54:26.611Z"
   },
   {
    "duration": 0,
    "start_time": "2022-05-25T18:54:26.665Z"
   },
   {
    "duration": 0,
    "start_time": "2022-05-25T18:54:26.667Z"
   },
   {
    "duration": 0,
    "start_time": "2022-05-25T18:54:26.669Z"
   },
   {
    "duration": 0,
    "start_time": "2022-05-25T18:54:26.670Z"
   },
   {
    "duration": 0,
    "start_time": "2022-05-25T18:54:26.671Z"
   },
   {
    "duration": 0,
    "start_time": "2022-05-25T18:54:26.672Z"
   },
   {
    "duration": 0,
    "start_time": "2022-05-25T18:54:26.674Z"
   },
   {
    "duration": 0,
    "start_time": "2022-05-25T18:54:26.675Z"
   },
   {
    "duration": 0,
    "start_time": "2022-05-25T18:54:26.676Z"
   },
   {
    "duration": 10,
    "start_time": "2022-05-25T18:57:15.800Z"
   },
   {
    "duration": 14,
    "start_time": "2022-05-25T18:57:22.612Z"
   },
   {
    "duration": 15,
    "start_time": "2022-05-25T18:57:26.005Z"
   },
   {
    "duration": 4,
    "start_time": "2022-05-25T18:57:27.512Z"
   },
   {
    "duration": 158,
    "start_time": "2022-05-25T18:57:27.518Z"
   },
   {
    "duration": 23,
    "start_time": "2022-05-25T18:57:27.678Z"
   },
   {
    "duration": 10,
    "start_time": "2022-05-25T18:57:27.703Z"
   },
   {
    "duration": 12,
    "start_time": "2022-05-25T18:57:27.715Z"
   },
   {
    "duration": 3,
    "start_time": "2022-05-25T18:57:27.729Z"
   },
   {
    "duration": 46,
    "start_time": "2022-05-25T18:57:27.734Z"
   },
   {
    "duration": 10,
    "start_time": "2022-05-25T18:57:27.782Z"
   },
   {
    "duration": 461,
    "start_time": "2022-05-25T18:57:27.796Z"
   },
   {
    "duration": 13,
    "start_time": "2022-05-25T18:57:28.264Z"
   },
   {
    "duration": 52,
    "start_time": "2022-05-25T18:57:28.279Z"
   },
   {
    "duration": 42,
    "start_time": "2022-05-25T18:57:28.333Z"
   },
   {
    "duration": 92,
    "start_time": "2022-05-25T18:57:28.377Z"
   },
   {
    "duration": 3,
    "start_time": "2022-05-25T18:57:28.471Z"
   },
   {
    "duration": 18,
    "start_time": "2022-05-25T18:57:28.475Z"
   },
   {
    "duration": 7,
    "start_time": "2022-05-25T18:57:28.495Z"
   },
   {
    "duration": 8,
    "start_time": "2022-05-25T18:57:28.503Z"
   },
   {
    "duration": 14,
    "start_time": "2022-05-25T18:57:28.513Z"
   },
   {
    "duration": 40,
    "start_time": "2022-05-25T18:57:28.529Z"
   },
   {
    "duration": 12,
    "start_time": "2022-05-25T18:57:28.571Z"
   },
   {
    "duration": 21,
    "start_time": "2022-05-25T18:57:28.586Z"
   },
   {
    "duration": 14,
    "start_time": "2022-05-25T18:57:28.609Z"
   },
   {
    "duration": 5,
    "start_time": "2022-05-25T18:57:28.624Z"
   },
   {
    "duration": 41,
    "start_time": "2022-05-25T18:57:28.667Z"
   },
   {
    "duration": 29,
    "start_time": "2022-05-25T18:57:28.710Z"
   },
   {
    "duration": 63,
    "start_time": "2022-05-25T18:57:28.741Z"
   },
   {
    "duration": 11,
    "start_time": "2022-05-25T18:57:28.806Z"
   },
   {
    "duration": 399,
    "start_time": "2022-05-25T18:57:28.818Z"
   },
   {
    "duration": 10,
    "start_time": "2022-05-25T18:57:29.219Z"
   },
   {
    "duration": 3,
    "start_time": "2022-05-25T18:57:29.231Z"
   },
   {
    "duration": 38,
    "start_time": "2022-05-25T18:57:29.237Z"
   },
   {
    "duration": 398,
    "start_time": "2022-05-25T18:57:29.277Z"
   },
   {
    "duration": 22,
    "start_time": "2022-05-25T18:57:29.677Z"
   },
   {
    "duration": 466,
    "start_time": "2022-05-25T18:57:29.700Z"
   },
   {
    "duration": 31,
    "start_time": "2022-05-25T18:57:30.168Z"
   },
   {
    "duration": 5,
    "start_time": "2022-05-25T18:57:30.200Z"
   },
   {
    "duration": 372,
    "start_time": "2022-05-25T18:57:30.207Z"
   },
   {
    "duration": 367,
    "start_time": "2022-05-25T18:57:30.581Z"
   },
   {
    "duration": 51,
    "start_time": "2022-05-25T18:57:30.951Z"
   },
   {
    "duration": 11,
    "start_time": "2022-05-25T18:57:31.003Z"
   },
   {
    "duration": 25,
    "start_time": "2022-05-25T18:57:31.016Z"
   },
   {
    "duration": 0,
    "start_time": "2022-05-25T18:57:31.042Z"
   },
   {
    "duration": 0,
    "start_time": "2022-05-25T18:57:31.044Z"
   },
   {
    "duration": 0,
    "start_time": "2022-05-25T18:57:31.045Z"
   },
   {
    "duration": 0,
    "start_time": "2022-05-25T18:57:31.046Z"
   },
   {
    "duration": 0,
    "start_time": "2022-05-25T18:57:31.047Z"
   },
   {
    "duration": 0,
    "start_time": "2022-05-25T18:57:31.048Z"
   },
   {
    "duration": 0,
    "start_time": "2022-05-25T18:57:31.049Z"
   },
   {
    "duration": 0,
    "start_time": "2022-05-25T18:57:31.065Z"
   },
   {
    "duration": 0,
    "start_time": "2022-05-25T18:57:31.067Z"
   },
   {
    "duration": 1,
    "start_time": "2022-05-25T18:57:31.067Z"
   },
   {
    "duration": 0,
    "start_time": "2022-05-25T18:57:31.069Z"
   },
   {
    "duration": 0,
    "start_time": "2022-05-25T18:57:31.069Z"
   },
   {
    "duration": 0,
    "start_time": "2022-05-25T18:57:31.071Z"
   },
   {
    "duration": 0,
    "start_time": "2022-05-25T18:57:31.072Z"
   },
   {
    "duration": 0,
    "start_time": "2022-05-25T18:57:31.073Z"
   },
   {
    "duration": 0,
    "start_time": "2022-05-25T18:57:31.074Z"
   },
   {
    "duration": 0,
    "start_time": "2022-05-25T18:57:31.076Z"
   },
   {
    "duration": 0,
    "start_time": "2022-05-25T18:57:31.077Z"
   },
   {
    "duration": 0,
    "start_time": "2022-05-25T18:57:31.077Z"
   },
   {
    "duration": 0,
    "start_time": "2022-05-25T18:57:31.079Z"
   },
   {
    "duration": 0,
    "start_time": "2022-05-25T18:57:31.079Z"
   },
   {
    "duration": 0,
    "start_time": "2022-05-25T18:57:31.081Z"
   },
   {
    "duration": 0,
    "start_time": "2022-05-25T18:57:31.082Z"
   },
   {
    "duration": 0,
    "start_time": "2022-05-25T18:57:31.083Z"
   },
   {
    "duration": 0,
    "start_time": "2022-05-25T18:57:31.084Z"
   },
   {
    "duration": 0,
    "start_time": "2022-05-25T18:57:31.085Z"
   },
   {
    "duration": 0,
    "start_time": "2022-05-25T18:57:31.086Z"
   },
   {
    "duration": 0,
    "start_time": "2022-05-25T18:57:31.087Z"
   },
   {
    "duration": 0,
    "start_time": "2022-05-25T18:57:31.088Z"
   },
   {
    "duration": 0,
    "start_time": "2022-05-25T18:57:31.089Z"
   },
   {
    "duration": 0,
    "start_time": "2022-05-25T18:57:31.091Z"
   },
   {
    "duration": 37,
    "start_time": "2022-05-25T18:57:47.500Z"
   },
   {
    "duration": 14,
    "start_time": "2022-05-25T18:57:51.665Z"
   },
   {
    "duration": 4,
    "start_time": "2022-05-25T18:57:53.170Z"
   },
   {
    "duration": 161,
    "start_time": "2022-05-25T18:57:53.184Z"
   },
   {
    "duration": 43,
    "start_time": "2022-05-25T18:57:53.348Z"
   },
   {
    "duration": 14,
    "start_time": "2022-05-25T18:57:53.393Z"
   },
   {
    "duration": 14,
    "start_time": "2022-05-25T18:57:53.409Z"
   },
   {
    "duration": 3,
    "start_time": "2022-05-25T18:57:53.426Z"
   },
   {
    "duration": 57,
    "start_time": "2022-05-25T18:57:53.430Z"
   },
   {
    "duration": 14,
    "start_time": "2022-05-25T18:57:53.489Z"
   },
   {
    "duration": 517,
    "start_time": "2022-05-25T18:57:53.505Z"
   },
   {
    "duration": 13,
    "start_time": "2022-05-25T18:57:54.024Z"
   },
   {
    "duration": 74,
    "start_time": "2022-05-25T18:57:54.038Z"
   },
   {
    "duration": 19,
    "start_time": "2022-05-25T18:57:54.114Z"
   },
   {
    "duration": 98,
    "start_time": "2022-05-25T18:57:54.135Z"
   },
   {
    "duration": 2,
    "start_time": "2022-05-25T18:57:54.235Z"
   },
   {
    "duration": 31,
    "start_time": "2022-05-25T18:57:54.240Z"
   },
   {
    "duration": 6,
    "start_time": "2022-05-25T18:57:54.273Z"
   },
   {
    "duration": 7,
    "start_time": "2022-05-25T18:57:54.280Z"
   },
   {
    "duration": 15,
    "start_time": "2022-05-25T18:57:54.288Z"
   },
   {
    "duration": 8,
    "start_time": "2022-05-25T18:57:54.305Z"
   },
   {
    "duration": 10,
    "start_time": "2022-05-25T18:57:54.315Z"
   },
   {
    "duration": 51,
    "start_time": "2022-05-25T18:57:54.326Z"
   },
   {
    "duration": 18,
    "start_time": "2022-05-25T18:57:54.379Z"
   },
   {
    "duration": 5,
    "start_time": "2022-05-25T18:57:54.399Z"
   },
   {
    "duration": 60,
    "start_time": "2022-05-25T18:57:54.406Z"
   },
   {
    "duration": 24,
    "start_time": "2022-05-25T18:57:54.468Z"
   },
   {
    "duration": 44,
    "start_time": "2022-05-25T18:57:54.494Z"
   },
   {
    "duration": 31,
    "start_time": "2022-05-25T18:57:54.539Z"
   },
   {
    "duration": 328,
    "start_time": "2022-05-25T18:57:54.572Z"
   },
   {
    "duration": 10,
    "start_time": "2022-05-25T18:57:54.902Z"
   },
   {
    "duration": 3,
    "start_time": "2022-05-25T18:57:54.914Z"
   },
   {
    "duration": 25,
    "start_time": "2022-05-25T18:57:54.918Z"
   },
   {
    "duration": 434,
    "start_time": "2022-05-25T18:57:54.945Z"
   },
   {
    "duration": 24,
    "start_time": "2022-05-25T18:57:55.381Z"
   },
   {
    "duration": 384,
    "start_time": "2022-05-25T18:57:55.406Z"
   },
   {
    "duration": 30,
    "start_time": "2022-05-25T18:57:55.792Z"
   },
   {
    "duration": 5,
    "start_time": "2022-05-25T18:57:55.824Z"
   },
   {
    "duration": 396,
    "start_time": "2022-05-25T18:57:55.831Z"
   },
   {
    "duration": 413,
    "start_time": "2022-05-25T18:57:56.229Z"
   },
   {
    "duration": 45,
    "start_time": "2022-05-25T18:57:56.643Z"
   },
   {
    "duration": 12,
    "start_time": "2022-05-25T18:57:56.689Z"
   },
   {
    "duration": 45,
    "start_time": "2022-05-25T18:57:56.703Z"
   },
   {
    "duration": 17,
    "start_time": "2022-05-25T18:57:56.752Z"
   },
   {
    "duration": 146,
    "start_time": "2022-05-25T18:57:56.771Z"
   },
   {
    "duration": 26,
    "start_time": "2022-05-25T18:57:56.919Z"
   },
   {
    "duration": 23,
    "start_time": "2022-05-25T18:57:56.946Z"
   },
   {
    "duration": 138,
    "start_time": "2022-05-25T18:57:56.971Z"
   },
   {
    "duration": 8,
    "start_time": "2022-05-25T18:57:57.112Z"
   },
   {
    "duration": 50,
    "start_time": "2022-05-25T18:57:57.122Z"
   },
   {
    "duration": 17,
    "start_time": "2022-05-25T18:57:57.174Z"
   },
   {
    "duration": 388,
    "start_time": "2022-05-25T18:57:57.193Z"
   },
   {
    "duration": 22,
    "start_time": "2022-05-25T18:57:57.582Z"
   },
   {
    "duration": 182,
    "start_time": "2022-05-25T18:57:57.605Z"
   },
   {
    "duration": 16,
    "start_time": "2022-05-25T18:57:57.789Z"
   },
   {
    "duration": 199,
    "start_time": "2022-05-25T18:57:57.807Z"
   },
   {
    "duration": 65,
    "start_time": "2022-05-25T18:57:58.009Z"
   },
   {
    "duration": 13,
    "start_time": "2022-05-25T18:57:58.076Z"
   },
   {
    "duration": 145,
    "start_time": "2022-05-25T18:57:58.091Z"
   },
   {
    "duration": 27,
    "start_time": "2022-05-25T18:57:58.237Z"
   },
   {
    "duration": 14,
    "start_time": "2022-05-25T18:57:58.266Z"
   },
   {
    "duration": 7,
    "start_time": "2022-05-25T18:57:58.281Z"
   },
   {
    "duration": 191,
    "start_time": "2022-05-25T18:57:58.289Z"
   },
   {
    "duration": 24,
    "start_time": "2022-05-25T18:57:58.482Z"
   },
   {
    "duration": 71,
    "start_time": "2022-05-25T18:57:58.508Z"
   },
   {
    "duration": 10,
    "start_time": "2022-05-25T18:57:58.581Z"
   },
   {
    "duration": 12,
    "start_time": "2022-05-25T18:57:58.593Z"
   },
   {
    "duration": 4,
    "start_time": "2022-05-25T18:57:58.607Z"
   },
   {
    "duration": 10,
    "start_time": "2022-05-25T18:57:58.613Z"
   },
   {
    "duration": 59,
    "start_time": "2022-05-25T18:57:58.625Z"
   },
   {
    "duration": 11,
    "start_time": "2022-05-25T18:57:58.686Z"
   },
   {
    "duration": 36,
    "start_time": "2022-05-25T18:57:58.699Z"
   },
   {
    "duration": 48,
    "start_time": "2022-05-25T18:57:58.736Z"
   },
   {
    "duration": 7,
    "start_time": "2022-05-25T18:57:58.786Z"
   },
   {
    "duration": 15,
    "start_time": "2022-05-25T18:59:05.039Z"
   },
   {
    "duration": 17,
    "start_time": "2022-05-25T18:59:13.998Z"
   },
   {
    "duration": 4,
    "start_time": "2022-05-25T18:59:15.503Z"
   },
   {
    "duration": 161,
    "start_time": "2022-05-25T18:59:15.509Z"
   },
   {
    "duration": 23,
    "start_time": "2022-05-25T18:59:15.671Z"
   },
   {
    "duration": 11,
    "start_time": "2022-05-25T18:59:15.697Z"
   },
   {
    "duration": 12,
    "start_time": "2022-05-25T18:59:15.709Z"
   },
   {
    "duration": 4,
    "start_time": "2022-05-25T18:59:15.722Z"
   },
   {
    "duration": 52,
    "start_time": "2022-05-25T18:59:15.727Z"
   },
   {
    "duration": 12,
    "start_time": "2022-05-25T18:59:15.781Z"
   },
   {
    "duration": 495,
    "start_time": "2022-05-25T18:59:15.797Z"
   },
   {
    "duration": 16,
    "start_time": "2022-05-25T18:59:16.294Z"
   },
   {
    "duration": 79,
    "start_time": "2022-05-25T18:59:16.311Z"
   },
   {
    "duration": 19,
    "start_time": "2022-05-25T18:59:16.392Z"
   },
   {
    "duration": 98,
    "start_time": "2022-05-25T18:59:16.413Z"
   },
   {
    "duration": 2,
    "start_time": "2022-05-25T18:59:16.513Z"
   },
   {
    "duration": 15,
    "start_time": "2022-05-25T18:59:16.517Z"
   },
   {
    "duration": 6,
    "start_time": "2022-05-25T18:59:16.534Z"
   },
   {
    "duration": 29,
    "start_time": "2022-05-25T18:59:16.541Z"
   },
   {
    "duration": 13,
    "start_time": "2022-05-25T18:59:16.572Z"
   },
   {
    "duration": 6,
    "start_time": "2022-05-25T18:59:16.587Z"
   },
   {
    "duration": 9,
    "start_time": "2022-05-25T18:59:16.595Z"
   },
   {
    "duration": 18,
    "start_time": "2022-05-25T18:59:16.605Z"
   },
   {
    "duration": 47,
    "start_time": "2022-05-25T18:59:16.625Z"
   },
   {
    "duration": 5,
    "start_time": "2022-05-25T18:59:16.674Z"
   },
   {
    "duration": 35,
    "start_time": "2022-05-25T18:59:16.683Z"
   },
   {
    "duration": 45,
    "start_time": "2022-05-25T18:59:16.720Z"
   },
   {
    "duration": 38,
    "start_time": "2022-05-25T18:59:16.767Z"
   },
   {
    "duration": 23,
    "start_time": "2022-05-25T18:59:16.806Z"
   },
   {
    "duration": 333,
    "start_time": "2022-05-25T18:59:16.831Z"
   },
   {
    "duration": 15,
    "start_time": "2022-05-25T18:59:17.167Z"
   },
   {
    "duration": 3,
    "start_time": "2022-05-25T18:59:17.184Z"
   },
   {
    "duration": 33,
    "start_time": "2022-05-25T18:59:17.189Z"
   },
   {
    "duration": 471,
    "start_time": "2022-05-25T18:59:17.224Z"
   },
   {
    "duration": 23,
    "start_time": "2022-05-25T18:59:17.697Z"
   },
   {
    "duration": 360,
    "start_time": "2022-05-25T18:59:17.722Z"
   },
   {
    "duration": 28,
    "start_time": "2022-05-25T18:59:18.084Z"
   },
   {
    "duration": 7,
    "start_time": "2022-05-25T18:59:18.113Z"
   },
   {
    "duration": 368,
    "start_time": "2022-05-25T18:59:18.121Z"
   },
   {
    "duration": 462,
    "start_time": "2022-05-25T18:59:18.491Z"
   },
   {
    "duration": 52,
    "start_time": "2022-05-25T18:59:18.956Z"
   },
   {
    "duration": 12,
    "start_time": "2022-05-25T18:59:19.010Z"
   },
   {
    "duration": 34,
    "start_time": "2022-05-25T18:59:19.024Z"
   },
   {
    "duration": 18,
    "start_time": "2022-05-25T18:59:19.064Z"
   },
   {
    "duration": 430,
    "start_time": "2022-05-25T18:59:19.084Z"
   },
   {
    "duration": 27,
    "start_time": "2022-05-25T18:59:19.515Z"
   },
   {
    "duration": 23,
    "start_time": "2022-05-25T18:59:19.543Z"
   },
   {
    "duration": 28,
    "start_time": "2022-05-25T18:59:19.568Z"
   },
   {
    "duration": 10,
    "start_time": "2022-05-25T18:59:19.598Z"
   },
   {
    "duration": 36,
    "start_time": "2022-05-25T18:59:19.610Z"
   },
   {
    "duration": 29,
    "start_time": "2022-05-25T18:59:19.648Z"
   },
   {
    "duration": 270,
    "start_time": "2022-05-25T18:59:19.679Z"
   },
   {
    "duration": 28,
    "start_time": "2022-05-25T18:59:19.951Z"
   },
   {
    "duration": 171,
    "start_time": "2022-05-25T18:59:19.980Z"
   },
   {
    "duration": 30,
    "start_time": "2022-05-25T18:59:20.152Z"
   },
   {
    "duration": 200,
    "start_time": "2022-05-25T18:59:20.184Z"
   },
   {
    "duration": 36,
    "start_time": "2022-05-25T18:59:20.386Z"
   },
   {
    "duration": 12,
    "start_time": "2022-05-25T18:59:20.424Z"
   },
   {
    "duration": 164,
    "start_time": "2022-05-25T18:59:20.437Z"
   },
   {
    "duration": 16,
    "start_time": "2022-05-25T18:59:20.602Z"
   },
   {
    "duration": 14,
    "start_time": "2022-05-25T18:59:20.620Z"
   },
   {
    "duration": 5,
    "start_time": "2022-05-25T18:59:20.636Z"
   },
   {
    "duration": 167,
    "start_time": "2022-05-25T18:59:20.664Z"
   },
   {
    "duration": 34,
    "start_time": "2022-05-25T18:59:20.832Z"
   },
   {
    "duration": 45,
    "start_time": "2022-05-25T18:59:20.867Z"
   },
   {
    "duration": 7,
    "start_time": "2022-05-25T18:59:20.914Z"
   },
   {
    "duration": 11,
    "start_time": "2022-05-25T18:59:20.923Z"
   },
   {
    "duration": 3,
    "start_time": "2022-05-25T18:59:20.936Z"
   },
   {
    "duration": 26,
    "start_time": "2022-05-25T18:59:20.941Z"
   },
   {
    "duration": 62,
    "start_time": "2022-05-25T18:59:20.969Z"
   },
   {
    "duration": 26,
    "start_time": "2022-05-25T18:59:21.038Z"
   },
   {
    "duration": 42,
    "start_time": "2022-05-25T18:59:21.067Z"
   },
   {
    "duration": 23,
    "start_time": "2022-05-25T18:59:21.111Z"
   },
   {
    "duration": 32,
    "start_time": "2022-05-25T18:59:21.136Z"
   },
   {
    "duration": 175,
    "start_time": "2022-05-25T19:29:13.760Z"
   },
   {
    "duration": 1809,
    "start_time": "2022-05-26T10:30:48.877Z"
   },
   {
    "duration": 504,
    "start_time": "2022-05-26T10:30:50.690Z"
   },
   {
    "duration": 61,
    "start_time": "2022-05-26T10:30:51.196Z"
   },
   {
    "duration": 10,
    "start_time": "2022-05-26T10:30:51.258Z"
   },
   {
    "duration": 15,
    "start_time": "2022-05-26T10:30:51.270Z"
   },
   {
    "duration": 18,
    "start_time": "2022-05-26T10:30:51.287Z"
   },
   {
    "duration": 30,
    "start_time": "2022-05-26T10:30:51.306Z"
   },
   {
    "duration": 10,
    "start_time": "2022-05-26T10:30:51.338Z"
   },
   {
    "duration": 454,
    "start_time": "2022-05-26T10:30:51.350Z"
   },
   {
    "duration": 14,
    "start_time": "2022-05-26T10:30:51.807Z"
   },
   {
    "duration": 54,
    "start_time": "2022-05-26T10:30:51.823Z"
   },
   {
    "duration": 41,
    "start_time": "2022-05-26T10:30:51.879Z"
   },
   {
    "duration": 91,
    "start_time": "2022-05-26T10:30:51.922Z"
   },
   {
    "duration": 3,
    "start_time": "2022-05-26T10:30:52.027Z"
   },
   {
    "duration": 18,
    "start_time": "2022-05-26T10:30:52.032Z"
   },
   {
    "duration": 7,
    "start_time": "2022-05-26T10:30:52.052Z"
   },
   {
    "duration": 11,
    "start_time": "2022-05-26T10:30:52.060Z"
   },
   {
    "duration": 29,
    "start_time": "2022-05-26T10:30:52.073Z"
   },
   {
    "duration": 8,
    "start_time": "2022-05-26T10:30:52.109Z"
   },
   {
    "duration": 10,
    "start_time": "2022-05-26T10:30:52.119Z"
   },
   {
    "duration": 30,
    "start_time": "2022-05-26T10:30:52.131Z"
   },
   {
    "duration": 12,
    "start_time": "2022-05-26T10:30:52.163Z"
   },
   {
    "duration": 22,
    "start_time": "2022-05-26T10:30:52.197Z"
   },
   {
    "duration": 55,
    "start_time": "2022-05-26T10:30:52.221Z"
   },
   {
    "duration": 25,
    "start_time": "2022-05-26T10:30:52.277Z"
   },
   {
    "duration": 43,
    "start_time": "2022-05-26T10:30:52.306Z"
   },
   {
    "duration": 8,
    "start_time": "2022-05-26T10:30:52.351Z"
   },
   {
    "duration": 525,
    "start_time": "2022-05-26T10:30:52.361Z"
   },
   {
    "duration": 15,
    "start_time": "2022-05-26T10:30:52.904Z"
   },
   {
    "duration": 15,
    "start_time": "2022-05-26T10:30:52.921Z"
   },
   {
    "duration": 38,
    "start_time": "2022-05-26T10:30:52.938Z"
   },
   {
    "duration": 402,
    "start_time": "2022-05-26T10:30:52.978Z"
   },
   {
    "duration": 38,
    "start_time": "2022-05-26T10:30:53.381Z"
   },
   {
    "duration": 337,
    "start_time": "2022-05-26T10:30:53.421Z"
   },
   {
    "duration": 39,
    "start_time": "2022-05-26T10:30:53.760Z"
   },
   {
    "duration": 7,
    "start_time": "2022-05-26T10:30:53.804Z"
   },
   {
    "duration": 366,
    "start_time": "2022-05-26T10:30:53.813Z"
   },
   {
    "duration": 353,
    "start_time": "2022-05-26T10:30:54.181Z"
   },
   {
    "duration": 31,
    "start_time": "2022-05-26T10:30:54.536Z"
   },
   {
    "duration": 9,
    "start_time": "2022-05-26T10:30:54.569Z"
   },
   {
    "duration": 18,
    "start_time": "2022-05-26T10:30:54.600Z"
   },
   {
    "duration": 22,
    "start_time": "2022-05-26T10:30:54.619Z"
   },
   {
    "duration": 366,
    "start_time": "2022-05-26T10:30:54.643Z"
   },
   {
    "duration": 25,
    "start_time": "2022-05-26T10:30:55.010Z"
   },
   {
    "duration": 6,
    "start_time": "2022-05-26T10:30:55.037Z"
   },
   {
    "duration": 46,
    "start_time": "2022-05-26T10:30:55.045Z"
   },
   {
    "duration": 26,
    "start_time": "2022-05-26T10:30:55.093Z"
   },
   {
    "duration": 39,
    "start_time": "2022-05-26T10:30:55.121Z"
   },
   {
    "duration": 15,
    "start_time": "2022-05-26T10:30:55.163Z"
   },
   {
    "duration": 345,
    "start_time": "2022-05-26T10:30:55.179Z"
   },
   {
    "duration": 21,
    "start_time": "2022-05-26T10:30:55.526Z"
   },
   {
    "duration": 182,
    "start_time": "2022-05-26T10:30:55.548Z"
   },
   {
    "duration": 15,
    "start_time": "2022-05-26T10:30:55.732Z"
   },
   {
    "duration": 282,
    "start_time": "2022-05-26T10:30:55.749Z"
   },
   {
    "duration": 40,
    "start_time": "2022-05-26T10:30:56.033Z"
   },
   {
    "duration": 32,
    "start_time": "2022-05-26T10:30:56.076Z"
   },
   {
    "duration": 171,
    "start_time": "2022-05-26T10:30:56.110Z"
   },
   {
    "duration": 24,
    "start_time": "2022-05-26T10:30:56.283Z"
   },
   {
    "duration": 15,
    "start_time": "2022-05-26T10:30:56.309Z"
   },
   {
    "duration": 22,
    "start_time": "2022-05-26T10:30:56.326Z"
   },
   {
    "duration": 182,
    "start_time": "2022-05-26T10:30:56.349Z"
   },
   {
    "duration": 18,
    "start_time": "2022-05-26T10:30:56.532Z"
   },
   {
    "duration": 61,
    "start_time": "2022-05-26T10:30:56.552Z"
   },
   {
    "duration": 6,
    "start_time": "2022-05-26T10:30:56.615Z"
   },
   {
    "duration": 10,
    "start_time": "2022-05-26T10:30:56.622Z"
   },
   {
    "duration": 4,
    "start_time": "2022-05-26T10:30:56.634Z"
   },
   {
    "duration": 6,
    "start_time": "2022-05-26T10:30:56.640Z"
   },
   {
    "duration": 74,
    "start_time": "2022-05-26T10:30:56.647Z"
   },
   {
    "duration": 8,
    "start_time": "2022-05-26T10:30:56.723Z"
   },
   {
    "duration": 30,
    "start_time": "2022-05-26T10:30:56.733Z"
   },
   {
    "duration": 51,
    "start_time": "2022-05-26T10:30:56.764Z"
   },
   {
    "duration": 7,
    "start_time": "2022-05-26T10:30:56.818Z"
   },
   {
    "duration": 1785,
    "start_time": "2022-05-26T19:55:17.716Z"
   },
   {
    "duration": 817,
    "start_time": "2022-05-26T19:55:19.503Z"
   },
   {
    "duration": 65,
    "start_time": "2022-05-26T19:55:20.321Z"
   },
   {
    "duration": 10,
    "start_time": "2022-05-26T19:55:20.388Z"
   },
   {
    "duration": 14,
    "start_time": "2022-05-26T19:55:20.399Z"
   },
   {
    "duration": 11,
    "start_time": "2022-05-26T19:55:20.415Z"
   },
   {
    "duration": 42,
    "start_time": "2022-05-26T19:55:20.428Z"
   },
   {
    "duration": 13,
    "start_time": "2022-05-26T19:55:20.472Z"
   },
   {
    "duration": 485,
    "start_time": "2022-05-26T19:55:20.486Z"
   },
   {
    "duration": 17,
    "start_time": "2022-05-26T19:55:20.974Z"
   },
   {
    "duration": 78,
    "start_time": "2022-05-26T19:55:20.992Z"
   },
   {
    "duration": 19,
    "start_time": "2022-05-26T19:55:21.071Z"
   },
   {
    "duration": 93,
    "start_time": "2022-05-26T19:55:21.091Z"
   },
   {
    "duration": 2,
    "start_time": "2022-05-26T19:55:21.186Z"
   },
   {
    "duration": 20,
    "start_time": "2022-05-26T19:55:21.189Z"
   },
   {
    "duration": 11,
    "start_time": "2022-05-26T19:55:21.210Z"
   },
   {
    "duration": 8,
    "start_time": "2022-05-26T19:55:21.223Z"
   },
   {
    "duration": 40,
    "start_time": "2022-05-26T19:55:21.233Z"
   },
   {
    "duration": 6,
    "start_time": "2022-05-26T19:55:21.274Z"
   },
   {
    "duration": 9,
    "start_time": "2022-05-26T19:55:21.282Z"
   },
   {
    "duration": 18,
    "start_time": "2022-05-26T19:55:21.293Z"
   },
   {
    "duration": 12,
    "start_time": "2022-05-26T19:55:21.313Z"
   },
   {
    "duration": 47,
    "start_time": "2022-05-26T19:55:21.327Z"
   },
   {
    "duration": 33,
    "start_time": "2022-05-26T19:55:21.375Z"
   },
   {
    "duration": 22,
    "start_time": "2022-05-26T19:55:21.409Z"
   },
   {
    "duration": 48,
    "start_time": "2022-05-26T19:55:21.432Z"
   },
   {
    "duration": 7,
    "start_time": "2022-05-26T19:55:21.482Z"
   },
   {
    "duration": 517,
    "start_time": "2022-05-26T19:55:21.495Z"
   },
   {
    "duration": 11,
    "start_time": "2022-05-26T19:55:22.013Z"
   },
   {
    "duration": 3,
    "start_time": "2022-05-26T19:55:22.026Z"
   },
   {
    "duration": 46,
    "start_time": "2022-05-26T19:55:22.030Z"
   },
   {
    "duration": 399,
    "start_time": "2022-05-26T19:55:22.078Z"
   },
   {
    "duration": 24,
    "start_time": "2022-05-26T19:55:22.479Z"
   },
   {
    "duration": 438,
    "start_time": "2022-05-26T19:55:22.505Z"
   },
   {
    "duration": 41,
    "start_time": "2022-05-26T19:55:22.945Z"
   },
   {
    "duration": 4,
    "start_time": "2022-05-26T19:55:22.988Z"
   },
   {
    "duration": 402,
    "start_time": "2022-05-26T19:55:22.994Z"
   },
   {
    "duration": 378,
    "start_time": "2022-05-26T19:55:23.398Z"
   },
   {
    "duration": 33,
    "start_time": "2022-05-26T19:55:23.778Z"
   },
   {
    "duration": 10,
    "start_time": "2022-05-26T19:55:23.812Z"
   },
   {
    "duration": 18,
    "start_time": "2022-05-26T19:55:23.823Z"
   },
   {
    "duration": 37,
    "start_time": "2022-05-26T19:55:23.843Z"
   },
   {
    "duration": 353,
    "start_time": "2022-05-26T19:55:23.881Z"
   },
   {
    "duration": 41,
    "start_time": "2022-05-26T19:55:24.235Z"
   },
   {
    "duration": 6,
    "start_time": "2022-05-26T19:55:24.278Z"
   },
   {
    "duration": 21,
    "start_time": "2022-05-26T19:55:24.285Z"
   },
   {
    "duration": 9,
    "start_time": "2022-05-26T19:55:24.307Z"
   },
   {
    "duration": 58,
    "start_time": "2022-05-26T19:55:24.317Z"
   },
   {
    "duration": 15,
    "start_time": "2022-05-26T19:55:24.376Z"
   },
   {
    "duration": 349,
    "start_time": "2022-05-26T19:55:24.392Z"
   },
   {
    "duration": 32,
    "start_time": "2022-05-26T19:55:24.743Z"
   },
   {
    "duration": 164,
    "start_time": "2022-05-26T19:55:24.779Z"
   },
   {
    "duration": 32,
    "start_time": "2022-05-26T19:55:24.945Z"
   },
   {
    "duration": 288,
    "start_time": "2022-05-26T19:55:24.979Z"
   },
   {
    "duration": 35,
    "start_time": "2022-05-26T19:55:25.275Z"
   },
   {
    "duration": 13,
    "start_time": "2022-05-26T19:55:25.311Z"
   },
   {
    "duration": 164,
    "start_time": "2022-05-26T19:55:25.325Z"
   },
   {
    "duration": 15,
    "start_time": "2022-05-26T19:55:25.491Z"
   },
   {
    "duration": 12,
    "start_time": "2022-05-26T19:55:25.508Z"
   },
   {
    "duration": 5,
    "start_time": "2022-05-26T19:55:25.522Z"
   },
   {
    "duration": 187,
    "start_time": "2022-05-26T19:55:25.529Z"
   },
   {
    "duration": 21,
    "start_time": "2022-05-26T19:55:25.718Z"
   },
   {
    "duration": 62,
    "start_time": "2022-05-26T19:55:25.740Z"
   },
   {
    "duration": 6,
    "start_time": "2022-05-26T19:55:25.804Z"
   },
   {
    "duration": 29,
    "start_time": "2022-05-26T19:55:25.812Z"
   },
   {
    "duration": 11,
    "start_time": "2022-05-26T19:55:25.843Z"
   },
   {
    "duration": 26,
    "start_time": "2022-05-26T19:55:25.856Z"
   },
   {
    "duration": 65,
    "start_time": "2022-05-26T19:55:25.884Z"
   },
   {
    "duration": 15,
    "start_time": "2022-05-26T19:55:25.951Z"
   },
   {
    "duration": 42,
    "start_time": "2022-05-26T19:55:25.972Z"
   },
   {
    "duration": 21,
    "start_time": "2022-05-26T19:55:26.015Z"
   },
   {
    "duration": 6,
    "start_time": "2022-05-26T19:55:26.038Z"
   }
  ],
  "kernelspec": {
   "display_name": "Python 3 (ipykernel)",
   "language": "python",
   "name": "python3"
  },
  "language_info": {
   "codemirror_mode": {
    "name": "ipython",
    "version": 3
   },
   "file_extension": ".py",
   "mimetype": "text/x-python",
   "name": "python",
   "nbconvert_exporter": "python",
   "pygments_lexer": "ipython3",
   "version": "3.9.5"
  },
  "toc": {
   "base_numbering": 1,
   "nav_menu": {},
   "number_sections": true,
   "sideBar": true,
   "skip_h1_title": true,
   "title_cell": "Table of Contents",
   "title_sidebar": "Contents",
   "toc_cell": false,
   "toc_position": {
    "height": "786.667px",
    "left": "140px",
    "top": "248.441px",
    "width": "402.431px"
   },
   "toc_section_display": true,
   "toc_window_display": true
  }
 },
 "nbformat": 4,
 "nbformat_minor": 2
}
