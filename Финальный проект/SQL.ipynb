{
 "cells": [
  {
   "cell_type": "code",
   "execution_count": 2,
   "metadata": {},
   "outputs": [
    {
     "name": "stdout",
     "output_type": "stream",
     "text": [
      "Requirement already satisfied: psycopg2-binary in /opt/conda/lib/python3.9/site-packages (2.9.2)\n",
      "Note: you may need to restart the kernel to use updated packages.\n"
     ]
    }
   ],
   "source": [
    "pip install psycopg2-binary"
   ]
  },
  {
   "cell_type": "code",
   "execution_count": 3,
   "metadata": {},
   "outputs": [],
   "source": [
    "import pandas as pd\n",
    "import datetime\n",
    "import matplotlib.pyplot as plt\n",
    "import seaborn as sns\n",
    "import warnings; warnings.filterwarnings(action='once')\n",
    "\n",
    "from sqlalchemy import create_engine\n",
    "db_config = {'user': 'praktikum_student', # имя пользователя\n",
    "             'pwd': 'Sdf4$2;d-d30pp', # пароль\n",
    "             'host': 'rc1b-wcoijxj3yxfsf3fs.mdb.yandexcloud.net',\n",
    "             'port': 6432, # порт подключения\n",
    "             'db': 'data-analyst-final-project-db'} # название базы данных\n",
    "\n",
    "connection_string = 'postgresql://{}:{}@{}:{}/{}'.format(db_config['user'],\n",
    "                                                         db_config['pwd'],\n",
    "                                                         db_config['host'],\n",
    "                                                         db_config['port'],\n",
    "                                                         db_config['db'])\n",
    "\n",
    "engine = create_engine(connection_string, connect_args={'sslmode':'require'}, echo=False)"
   ]
  },
  {
   "cell_type": "markdown",
   "metadata": {},
   "source": [
    "Коронавирус застал мир врасплох, изменив привычный порядок вещей. В свободное время жители городов больше не выходят на улицу, не посещают кафе и торговые центры. Зато стало больше времени для книг. Это заметили стартаперы — и бросились создавать приложения для тех, кто любит читать.\n",
    "\n",
    "Ваша компания решила быть на волне и купила крупный сервис для чтения книг по подписке. Ваша первая задача как аналитика — проанализировать базу данных.\n",
    "В ней — информация о книгах, издательствах, авторах, а также пользовательские обзоры книг. Эти данные помогут сформулировать ценностное предложение для нового продукта."
   ]
  },
  {
   "cell_type": "markdown",
   "metadata": {},
   "source": [
    "## **Описание данных**"
   ]
  },
  {
   "cell_type": "markdown",
   "metadata": {},
   "source": [
    "### Таблица **books**\n",
    "\n",
    "Содержит данные о книгах:\n",
    "\n",
    "- book_id — идентификатор книги;\n",
    "- author_id — идентификатор автора;\n",
    "- title — название книги;\n",
    "- num_pages — количество страниц;\n",
    "- publication_date — дата публикации книги;\n",
    "- publisher_id — идентификатор издателя."
   ]
  },
  {
   "cell_type": "code",
   "execution_count": 4,
   "metadata": {},
   "outputs": [
    {
     "data": {
      "text/html": [
       "<div>\n",
       "<style scoped>\n",
       "    .dataframe tbody tr th:only-of-type {\n",
       "        vertical-align: middle;\n",
       "    }\n",
       "\n",
       "    .dataframe tbody tr th {\n",
       "        vertical-align: top;\n",
       "    }\n",
       "\n",
       "    .dataframe thead th {\n",
       "        text-align: right;\n",
       "    }\n",
       "</style>\n",
       "<table border=\"1\" class=\"dataframe\">\n",
       "  <thead>\n",
       "    <tr style=\"text-align: right;\">\n",
       "      <th></th>\n",
       "      <th>book_id</th>\n",
       "      <th>author_id</th>\n",
       "      <th>title</th>\n",
       "      <th>num_pages</th>\n",
       "      <th>publication_date</th>\n",
       "      <th>publisher_id</th>\n",
       "    </tr>\n",
       "  </thead>\n",
       "  <tbody>\n",
       "    <tr>\n",
       "      <th>0</th>\n",
       "      <td>1</td>\n",
       "      <td>546</td>\n",
       "      <td>'Salem's Lot</td>\n",
       "      <td>594</td>\n",
       "      <td>2005-11-01</td>\n",
       "      <td>93</td>\n",
       "    </tr>\n",
       "    <tr>\n",
       "      <th>1</th>\n",
       "      <td>2</td>\n",
       "      <td>465</td>\n",
       "      <td>1 000 Places to See Before You Die</td>\n",
       "      <td>992</td>\n",
       "      <td>2003-05-22</td>\n",
       "      <td>336</td>\n",
       "    </tr>\n",
       "    <tr>\n",
       "      <th>2</th>\n",
       "      <td>3</td>\n",
       "      <td>407</td>\n",
       "      <td>13 Little Blue Envelopes (Little Blue Envelope...</td>\n",
       "      <td>322</td>\n",
       "      <td>2010-12-21</td>\n",
       "      <td>135</td>\n",
       "    </tr>\n",
       "    <tr>\n",
       "      <th>3</th>\n",
       "      <td>4</td>\n",
       "      <td>82</td>\n",
       "      <td>1491: New Revelations of the Americas Before C...</td>\n",
       "      <td>541</td>\n",
       "      <td>2006-10-10</td>\n",
       "      <td>309</td>\n",
       "    </tr>\n",
       "    <tr>\n",
       "      <th>4</th>\n",
       "      <td>5</td>\n",
       "      <td>125</td>\n",
       "      <td>1776</td>\n",
       "      <td>386</td>\n",
       "      <td>2006-07-04</td>\n",
       "      <td>268</td>\n",
       "    </tr>\n",
       "    <tr>\n",
       "      <th>...</th>\n",
       "      <td>...</td>\n",
       "      <td>...</td>\n",
       "      <td>...</td>\n",
       "      <td>...</td>\n",
       "      <td>...</td>\n",
       "      <td>...</td>\n",
       "    </tr>\n",
       "    <tr>\n",
       "      <th>995</th>\n",
       "      <td>996</td>\n",
       "      <td>571</td>\n",
       "      <td>Wyrd Sisters (Discworld  #6; Witches #2)</td>\n",
       "      <td>265</td>\n",
       "      <td>2001-02-06</td>\n",
       "      <td>147</td>\n",
       "    </tr>\n",
       "    <tr>\n",
       "      <th>996</th>\n",
       "      <td>997</td>\n",
       "      <td>454</td>\n",
       "      <td>Xenocide (Ender's Saga  #3)</td>\n",
       "      <td>592</td>\n",
       "      <td>1996-07-15</td>\n",
       "      <td>297</td>\n",
       "    </tr>\n",
       "    <tr>\n",
       "      <th>997</th>\n",
       "      <td>998</td>\n",
       "      <td>201</td>\n",
       "      <td>Year of Wonders</td>\n",
       "      <td>358</td>\n",
       "      <td>2002-04-30</td>\n",
       "      <td>212</td>\n",
       "    </tr>\n",
       "    <tr>\n",
       "      <th>998</th>\n",
       "      <td>999</td>\n",
       "      <td>94</td>\n",
       "      <td>You Suck (A Love Story  #2)</td>\n",
       "      <td>328</td>\n",
       "      <td>2007-01-16</td>\n",
       "      <td>331</td>\n",
       "    </tr>\n",
       "    <tr>\n",
       "      <th>999</th>\n",
       "      <td>1000</td>\n",
       "      <td>509</td>\n",
       "      <td>Zen and the Art of Motorcycle Maintenance: An ...</td>\n",
       "      <td>540</td>\n",
       "      <td>2006-04-25</td>\n",
       "      <td>143</td>\n",
       "    </tr>\n",
       "  </tbody>\n",
       "</table>\n",
       "<p>1000 rows × 6 columns</p>\n",
       "</div>"
      ],
      "text/plain": [
       "     book_id  author_id                                              title  \\\n",
       "0          1        546                                       'Salem's Lot   \n",
       "1          2        465                 1 000 Places to See Before You Die   \n",
       "2          3        407  13 Little Blue Envelopes (Little Blue Envelope...   \n",
       "3          4         82  1491: New Revelations of the Americas Before C...   \n",
       "4          5        125                                               1776   \n",
       "..       ...        ...                                                ...   \n",
       "995      996        571           Wyrd Sisters (Discworld  #6; Witches #2)   \n",
       "996      997        454                        Xenocide (Ender's Saga  #3)   \n",
       "997      998        201                                    Year of Wonders   \n",
       "998      999         94                        You Suck (A Love Story  #2)   \n",
       "999     1000        509  Zen and the Art of Motorcycle Maintenance: An ...   \n",
       "\n",
       "     num_pages publication_date  publisher_id  \n",
       "0          594       2005-11-01            93  \n",
       "1          992       2003-05-22           336  \n",
       "2          322       2010-12-21           135  \n",
       "3          541       2006-10-10           309  \n",
       "4          386       2006-07-04           268  \n",
       "..         ...              ...           ...  \n",
       "995        265       2001-02-06           147  \n",
       "996        592       1996-07-15           297  \n",
       "997        358       2002-04-30           212  \n",
       "998        328       2007-01-16           331  \n",
       "999        540       2006-04-25           143  \n",
       "\n",
       "[1000 rows x 6 columns]"
      ]
     },
     "execution_count": 4,
     "metadata": {},
     "output_type": "execute_result"
    }
   ],
   "source": [
    "query = '''\n",
    "Select *\n",
    "FROM books\n",
    ";\n",
    "    '''\n",
    "\n",
    "pd.io.sql.read_sql(query, con = engine)"
   ]
  },
  {
   "cell_type": "markdown",
   "metadata": {},
   "source": [
    "**Вывод**: Таблица books обладает 6 столбцами и 1000 строками."
   ]
  },
  {
   "cell_type": "markdown",
   "metadata": {},
   "source": [
    "### Таблица **authors**\n",
    "\n",
    "Содержит данные об авторах:\n",
    "\n",
    "- author_id — идентификатор автора;\n",
    "- author — имя автора."
   ]
  },
  {
   "cell_type": "code",
   "execution_count": 5,
   "metadata": {},
   "outputs": [
    {
     "data": {
      "text/html": [
       "<div>\n",
       "<style scoped>\n",
       "    .dataframe tbody tr th:only-of-type {\n",
       "        vertical-align: middle;\n",
       "    }\n",
       "\n",
       "    .dataframe tbody tr th {\n",
       "        vertical-align: top;\n",
       "    }\n",
       "\n",
       "    .dataframe thead th {\n",
       "        text-align: right;\n",
       "    }\n",
       "</style>\n",
       "<table border=\"1\" class=\"dataframe\">\n",
       "  <thead>\n",
       "    <tr style=\"text-align: right;\">\n",
       "      <th></th>\n",
       "      <th>author_id</th>\n",
       "      <th>author</th>\n",
       "    </tr>\n",
       "  </thead>\n",
       "  <tbody>\n",
       "    <tr>\n",
       "      <th>0</th>\n",
       "      <td>1</td>\n",
       "      <td>A.S. Byatt</td>\n",
       "    </tr>\n",
       "    <tr>\n",
       "      <th>1</th>\n",
       "      <td>2</td>\n",
       "      <td>Aesop/Laura Harris/Laura Gibbs</td>\n",
       "    </tr>\n",
       "    <tr>\n",
       "      <th>2</th>\n",
       "      <td>3</td>\n",
       "      <td>Agatha Christie</td>\n",
       "    </tr>\n",
       "    <tr>\n",
       "      <th>3</th>\n",
       "      <td>4</td>\n",
       "      <td>Alan Brennert</td>\n",
       "    </tr>\n",
       "    <tr>\n",
       "      <th>4</th>\n",
       "      <td>5</td>\n",
       "      <td>Alan Moore/David   Lloyd</td>\n",
       "    </tr>\n",
       "    <tr>\n",
       "      <th>...</th>\n",
       "      <td>...</td>\n",
       "      <td>...</td>\n",
       "    </tr>\n",
       "    <tr>\n",
       "      <th>631</th>\n",
       "      <td>632</td>\n",
       "      <td>William Strunk Jr./E.B. White</td>\n",
       "    </tr>\n",
       "    <tr>\n",
       "      <th>632</th>\n",
       "      <td>633</td>\n",
       "      <td>Zadie Smith</td>\n",
       "    </tr>\n",
       "    <tr>\n",
       "      <th>633</th>\n",
       "      <td>634</td>\n",
       "      <td>Zilpha Keatley Snyder</td>\n",
       "    </tr>\n",
       "    <tr>\n",
       "      <th>634</th>\n",
       "      <td>635</td>\n",
       "      <td>Zora Neale Hurston</td>\n",
       "    </tr>\n",
       "    <tr>\n",
       "      <th>635</th>\n",
       "      <td>636</td>\n",
       "      <td>Åsne Seierstad/Ingrid Christopherson</td>\n",
       "    </tr>\n",
       "  </tbody>\n",
       "</table>\n",
       "<p>636 rows × 2 columns</p>\n",
       "</div>"
      ],
      "text/plain": [
       "     author_id                                author\n",
       "0            1                            A.S. Byatt\n",
       "1            2        Aesop/Laura Harris/Laura Gibbs\n",
       "2            3                       Agatha Christie\n",
       "3            4                         Alan Brennert\n",
       "4            5              Alan Moore/David   Lloyd\n",
       "..         ...                                   ...\n",
       "631        632         William Strunk Jr./E.B. White\n",
       "632        633                           Zadie Smith\n",
       "633        634                 Zilpha Keatley Snyder\n",
       "634        635                    Zora Neale Hurston\n",
       "635        636  Åsne Seierstad/Ingrid Christopherson\n",
       "\n",
       "[636 rows x 2 columns]"
      ]
     },
     "execution_count": 5,
     "metadata": {},
     "output_type": "execute_result"
    }
   ],
   "source": [
    "query = '''\n",
    "Select *\n",
    "FROM authors\n",
    ";\n",
    "    '''\n",
    "\n",
    "pd.io.sql.read_sql(query, con = engine)"
   ]
  },
  {
   "cell_type": "markdown",
   "metadata": {},
   "source": [
    "**Вывод**: Таблица authors состоит из  2 столбцов и 636 строк."
   ]
  },
  {
   "cell_type": "markdown",
   "metadata": {},
   "source": [
    "### Таблица **publishers**\n",
    "\n",
    "Содержит данные об издательствах:\n",
    "\n",
    "- publisher_id — идентификатор издательства;\n",
    "- publisher — название издательства;"
   ]
  },
  {
   "cell_type": "code",
   "execution_count": 6,
   "metadata": {},
   "outputs": [
    {
     "data": {
      "text/html": [
       "<div>\n",
       "<style scoped>\n",
       "    .dataframe tbody tr th:only-of-type {\n",
       "        vertical-align: middle;\n",
       "    }\n",
       "\n",
       "    .dataframe tbody tr th {\n",
       "        vertical-align: top;\n",
       "    }\n",
       "\n",
       "    .dataframe thead th {\n",
       "        text-align: right;\n",
       "    }\n",
       "</style>\n",
       "<table border=\"1\" class=\"dataframe\">\n",
       "  <thead>\n",
       "    <tr style=\"text-align: right;\">\n",
       "      <th></th>\n",
       "      <th>publisher_id</th>\n",
       "      <th>publisher</th>\n",
       "    </tr>\n",
       "  </thead>\n",
       "  <tbody>\n",
       "    <tr>\n",
       "      <th>0</th>\n",
       "      <td>1</td>\n",
       "      <td>Ace</td>\n",
       "    </tr>\n",
       "    <tr>\n",
       "      <th>1</th>\n",
       "      <td>2</td>\n",
       "      <td>Ace Book</td>\n",
       "    </tr>\n",
       "    <tr>\n",
       "      <th>2</th>\n",
       "      <td>3</td>\n",
       "      <td>Ace Books</td>\n",
       "    </tr>\n",
       "    <tr>\n",
       "      <th>3</th>\n",
       "      <td>4</td>\n",
       "      <td>Ace Hardcover</td>\n",
       "    </tr>\n",
       "    <tr>\n",
       "      <th>4</th>\n",
       "      <td>5</td>\n",
       "      <td>Addison Wesley Publishing Company</td>\n",
       "    </tr>\n",
       "    <tr>\n",
       "      <th>...</th>\n",
       "      <td>...</td>\n",
       "      <td>...</td>\n",
       "    </tr>\n",
       "    <tr>\n",
       "      <th>335</th>\n",
       "      <td>336</td>\n",
       "      <td>Workman Publishing Company</td>\n",
       "    </tr>\n",
       "    <tr>\n",
       "      <th>336</th>\n",
       "      <td>337</td>\n",
       "      <td>Wyatt Book</td>\n",
       "    </tr>\n",
       "    <tr>\n",
       "      <th>337</th>\n",
       "      <td>338</td>\n",
       "      <td>Yale University Press</td>\n",
       "    </tr>\n",
       "    <tr>\n",
       "      <th>338</th>\n",
       "      <td>339</td>\n",
       "      <td>Yearling</td>\n",
       "    </tr>\n",
       "    <tr>\n",
       "      <th>339</th>\n",
       "      <td>340</td>\n",
       "      <td>Yearling Books</td>\n",
       "    </tr>\n",
       "  </tbody>\n",
       "</table>\n",
       "<p>340 rows × 2 columns</p>\n",
       "</div>"
      ],
      "text/plain": [
       "     publisher_id                          publisher\n",
       "0               1                                Ace\n",
       "1               2                           Ace Book\n",
       "2               3                          Ace Books\n",
       "3               4                      Ace Hardcover\n",
       "4               5  Addison Wesley Publishing Company\n",
       "..            ...                                ...\n",
       "335           336         Workman Publishing Company\n",
       "336           337                         Wyatt Book\n",
       "337           338              Yale University Press\n",
       "338           339                           Yearling\n",
       "339           340                     Yearling Books\n",
       "\n",
       "[340 rows x 2 columns]"
      ]
     },
     "execution_count": 6,
     "metadata": {},
     "output_type": "execute_result"
    }
   ],
   "source": [
    "query = '''\n",
    "Select *\n",
    "FROM publishers\n",
    "    '''\n",
    "\n",
    "pd.io.sql.read_sql(query, con = engine)"
   ]
  },
  {
   "cell_type": "markdown",
   "metadata": {},
   "source": [
    "**Вывод**: Таблица authors состоит из  2 столбцов и 340 строк."
   ]
  },
  {
   "cell_type": "markdown",
   "metadata": {},
   "source": [
    "### Таблица **ratings**\n",
    "\n",
    "Содержит данные о пользовательских оценках книг:\n",
    "\n",
    "- rating_id — идентификатор оценки;\n",
    "- book_id — идентификатор книги;\n",
    "- username — имя пользователя, оставившего оценку;\n",
    "- rating — оценка книги."
   ]
  },
  {
   "cell_type": "code",
   "execution_count": 7,
   "metadata": {},
   "outputs": [
    {
     "data": {
      "text/html": [
       "<div>\n",
       "<style scoped>\n",
       "    .dataframe tbody tr th:only-of-type {\n",
       "        vertical-align: middle;\n",
       "    }\n",
       "\n",
       "    .dataframe tbody tr th {\n",
       "        vertical-align: top;\n",
       "    }\n",
       "\n",
       "    .dataframe thead th {\n",
       "        text-align: right;\n",
       "    }\n",
       "</style>\n",
       "<table border=\"1\" class=\"dataframe\">\n",
       "  <thead>\n",
       "    <tr style=\"text-align: right;\">\n",
       "      <th></th>\n",
       "      <th>rating_id</th>\n",
       "      <th>book_id</th>\n",
       "      <th>username</th>\n",
       "      <th>rating</th>\n",
       "    </tr>\n",
       "  </thead>\n",
       "  <tbody>\n",
       "    <tr>\n",
       "      <th>0</th>\n",
       "      <td>1</td>\n",
       "      <td>1</td>\n",
       "      <td>ryanfranco</td>\n",
       "      <td>4</td>\n",
       "    </tr>\n",
       "    <tr>\n",
       "      <th>1</th>\n",
       "      <td>2</td>\n",
       "      <td>1</td>\n",
       "      <td>grantpatricia</td>\n",
       "      <td>2</td>\n",
       "    </tr>\n",
       "    <tr>\n",
       "      <th>2</th>\n",
       "      <td>3</td>\n",
       "      <td>1</td>\n",
       "      <td>brandtandrea</td>\n",
       "      <td>5</td>\n",
       "    </tr>\n",
       "    <tr>\n",
       "      <th>3</th>\n",
       "      <td>4</td>\n",
       "      <td>2</td>\n",
       "      <td>lorichen</td>\n",
       "      <td>3</td>\n",
       "    </tr>\n",
       "    <tr>\n",
       "      <th>4</th>\n",
       "      <td>5</td>\n",
       "      <td>2</td>\n",
       "      <td>mariokeller</td>\n",
       "      <td>2</td>\n",
       "    </tr>\n",
       "    <tr>\n",
       "      <th>...</th>\n",
       "      <td>...</td>\n",
       "      <td>...</td>\n",
       "      <td>...</td>\n",
       "      <td>...</td>\n",
       "    </tr>\n",
       "    <tr>\n",
       "      <th>6451</th>\n",
       "      <td>6452</td>\n",
       "      <td>1000</td>\n",
       "      <td>carolrodriguez</td>\n",
       "      <td>4</td>\n",
       "    </tr>\n",
       "    <tr>\n",
       "      <th>6452</th>\n",
       "      <td>6453</td>\n",
       "      <td>1000</td>\n",
       "      <td>wendy18</td>\n",
       "      <td>4</td>\n",
       "    </tr>\n",
       "    <tr>\n",
       "      <th>6453</th>\n",
       "      <td>6454</td>\n",
       "      <td>1000</td>\n",
       "      <td>jarvispaul</td>\n",
       "      <td>5</td>\n",
       "    </tr>\n",
       "    <tr>\n",
       "      <th>6454</th>\n",
       "      <td>6455</td>\n",
       "      <td>1000</td>\n",
       "      <td>zross</td>\n",
       "      <td>2</td>\n",
       "    </tr>\n",
       "    <tr>\n",
       "      <th>6455</th>\n",
       "      <td>6456</td>\n",
       "      <td>1000</td>\n",
       "      <td>fharris</td>\n",
       "      <td>5</td>\n",
       "    </tr>\n",
       "  </tbody>\n",
       "</table>\n",
       "<p>6456 rows × 4 columns</p>\n",
       "</div>"
      ],
      "text/plain": [
       "      rating_id  book_id        username  rating\n",
       "0             1        1      ryanfranco       4\n",
       "1             2        1   grantpatricia       2\n",
       "2             3        1    brandtandrea       5\n",
       "3             4        2        lorichen       3\n",
       "4             5        2     mariokeller       2\n",
       "...         ...      ...             ...     ...\n",
       "6451       6452     1000  carolrodriguez       4\n",
       "6452       6453     1000         wendy18       4\n",
       "6453       6454     1000      jarvispaul       5\n",
       "6454       6455     1000           zross       2\n",
       "6455       6456     1000         fharris       5\n",
       "\n",
       "[6456 rows x 4 columns]"
      ]
     },
     "execution_count": 7,
     "metadata": {},
     "output_type": "execute_result"
    }
   ],
   "source": [
    "query = '''\n",
    "Select *\n",
    "FROM ratings\n",
    "    '''\n",
    "\n",
    "pd.io.sql.read_sql(query, con = engine)"
   ]
  },
  {
   "cell_type": "markdown",
   "metadata": {},
   "source": [
    "**Вывод**: Таблица ratings состоит из  4 столбцов и 6456 строк."
   ]
  },
  {
   "cell_type": "markdown",
   "metadata": {},
   "source": [
    "### Таблица **reviews**\n",
    "\n",
    "Содержит данные о пользовательских обзорах на книги:\n",
    "\n",
    "- review_id — идентификатор обзора;\n",
    "- book_id — идентификатор книги;\n",
    "- username — имя пользователя, написавшего обзор;\n",
    "- text — текст обзора."
   ]
  },
  {
   "cell_type": "code",
   "execution_count": 8,
   "metadata": {},
   "outputs": [
    {
     "data": {
      "text/html": [
       "<div>\n",
       "<style scoped>\n",
       "    .dataframe tbody tr th:only-of-type {\n",
       "        vertical-align: middle;\n",
       "    }\n",
       "\n",
       "    .dataframe tbody tr th {\n",
       "        vertical-align: top;\n",
       "    }\n",
       "\n",
       "    .dataframe thead th {\n",
       "        text-align: right;\n",
       "    }\n",
       "</style>\n",
       "<table border=\"1\" class=\"dataframe\">\n",
       "  <thead>\n",
       "    <tr style=\"text-align: right;\">\n",
       "      <th></th>\n",
       "      <th>review_id</th>\n",
       "      <th>book_id</th>\n",
       "      <th>username</th>\n",
       "      <th>text</th>\n",
       "    </tr>\n",
       "  </thead>\n",
       "  <tbody>\n",
       "    <tr>\n",
       "      <th>0</th>\n",
       "      <td>1</td>\n",
       "      <td>1</td>\n",
       "      <td>brandtandrea</td>\n",
       "      <td>Mention society tell send professor analysis. ...</td>\n",
       "    </tr>\n",
       "    <tr>\n",
       "      <th>1</th>\n",
       "      <td>2</td>\n",
       "      <td>1</td>\n",
       "      <td>ryanfranco</td>\n",
       "      <td>Foot glass pretty audience hit themselves. Amo...</td>\n",
       "    </tr>\n",
       "    <tr>\n",
       "      <th>2</th>\n",
       "      <td>3</td>\n",
       "      <td>2</td>\n",
       "      <td>lorichen</td>\n",
       "      <td>Listen treat keep worry. Miss husband tax but ...</td>\n",
       "    </tr>\n",
       "    <tr>\n",
       "      <th>3</th>\n",
       "      <td>4</td>\n",
       "      <td>3</td>\n",
       "      <td>johnsonamanda</td>\n",
       "      <td>Finally month interesting blue could nature cu...</td>\n",
       "    </tr>\n",
       "    <tr>\n",
       "      <th>4</th>\n",
       "      <td>5</td>\n",
       "      <td>3</td>\n",
       "      <td>scotttamara</td>\n",
       "      <td>Nation purpose heavy give wait song will. List...</td>\n",
       "    </tr>\n",
       "    <tr>\n",
       "      <th>...</th>\n",
       "      <td>...</td>\n",
       "      <td>...</td>\n",
       "      <td>...</td>\n",
       "      <td>...</td>\n",
       "    </tr>\n",
       "    <tr>\n",
       "      <th>2788</th>\n",
       "      <td>2789</td>\n",
       "      <td>999</td>\n",
       "      <td>martinadam</td>\n",
       "      <td>Later hospital turn easy community. Fact same ...</td>\n",
       "    </tr>\n",
       "    <tr>\n",
       "      <th>2789</th>\n",
       "      <td>2790</td>\n",
       "      <td>1000</td>\n",
       "      <td>wknight</td>\n",
       "      <td>Change lose answer close pressure. Spend so now.</td>\n",
       "    </tr>\n",
       "    <tr>\n",
       "      <th>2790</th>\n",
       "      <td>2791</td>\n",
       "      <td>1000</td>\n",
       "      <td>carolrodriguez</td>\n",
       "      <td>Authority go who television entire hair guy po...</td>\n",
       "    </tr>\n",
       "    <tr>\n",
       "      <th>2791</th>\n",
       "      <td>2792</td>\n",
       "      <td>1000</td>\n",
       "      <td>wendy18</td>\n",
       "      <td>Or western offer wonder ask. More hear phone f...</td>\n",
       "    </tr>\n",
       "    <tr>\n",
       "      <th>2792</th>\n",
       "      <td>2793</td>\n",
       "      <td>1000</td>\n",
       "      <td>jarvispaul</td>\n",
       "      <td>Republican staff bit eat material measure plan...</td>\n",
       "    </tr>\n",
       "  </tbody>\n",
       "</table>\n",
       "<p>2793 rows × 4 columns</p>\n",
       "</div>"
      ],
      "text/plain": [
       "      review_id  book_id        username  \\\n",
       "0             1        1    brandtandrea   \n",
       "1             2        1      ryanfranco   \n",
       "2             3        2        lorichen   \n",
       "3             4        3   johnsonamanda   \n",
       "4             5        3     scotttamara   \n",
       "...         ...      ...             ...   \n",
       "2788       2789      999      martinadam   \n",
       "2789       2790     1000         wknight   \n",
       "2790       2791     1000  carolrodriguez   \n",
       "2791       2792     1000         wendy18   \n",
       "2792       2793     1000      jarvispaul   \n",
       "\n",
       "                                                   text  \n",
       "0     Mention society tell send professor analysis. ...  \n",
       "1     Foot glass pretty audience hit themselves. Amo...  \n",
       "2     Listen treat keep worry. Miss husband tax but ...  \n",
       "3     Finally month interesting blue could nature cu...  \n",
       "4     Nation purpose heavy give wait song will. List...  \n",
       "...                                                 ...  \n",
       "2788  Later hospital turn easy community. Fact same ...  \n",
       "2789   Change lose answer close pressure. Spend so now.  \n",
       "2790  Authority go who television entire hair guy po...  \n",
       "2791  Or western offer wonder ask. More hear phone f...  \n",
       "2792  Republican staff bit eat material measure plan...  \n",
       "\n",
       "[2793 rows x 4 columns]"
      ]
     },
     "execution_count": 8,
     "metadata": {},
     "output_type": "execute_result"
    }
   ],
   "source": [
    "query = '''\n",
    "Select *\n",
    "FROM reviews\n",
    "    '''\n",
    "\n",
    "pd.io.sql.read_sql(query, con = engine)"
   ]
  },
  {
   "cell_type": "markdown",
   "metadata": {},
   "source": [
    "**Вывод**: Таблица reviews состоит из  4 столбцов и 2793  строк."
   ]
  },
  {
   "cell_type": "markdown",
   "metadata": {},
   "source": [
    "## Задачи"
   ]
  },
  {
   "cell_type": "markdown",
   "metadata": {},
   "source": [
    "### Задача 1. Посчитать, сколько книг вышло после 1 января 2000 года;\n"
   ]
  },
  {
   "cell_type": "code",
   "execution_count": 9,
   "metadata": {},
   "outputs": [
    {
     "data": {
      "text/html": [
       "<div>\n",
       "<style scoped>\n",
       "    .dataframe tbody tr th:only-of-type {\n",
       "        vertical-align: middle;\n",
       "    }\n",
       "\n",
       "    .dataframe tbody tr th {\n",
       "        vertical-align: top;\n",
       "    }\n",
       "\n",
       "    .dataframe thead th {\n",
       "        text-align: right;\n",
       "    }\n",
       "</style>\n",
       "<table border=\"1\" class=\"dataframe\">\n",
       "  <thead>\n",
       "    <tr style=\"text-align: right;\">\n",
       "      <th></th>\n",
       "      <th>count</th>\n",
       "    </tr>\n",
       "  </thead>\n",
       "  <tbody>\n",
       "    <tr>\n",
       "      <th>0</th>\n",
       "      <td>819</td>\n",
       "    </tr>\n",
       "  </tbody>\n",
       "</table>\n",
       "</div>"
      ],
      "text/plain": [
       "   count\n",
       "0    819"
      ]
     },
     "execution_count": 9,
     "metadata": {},
     "output_type": "execute_result"
    }
   ],
   "source": [
    "query = '''\n",
    "SELECT COUNT (DISTINCT book_id)\n",
    "FROM books\n",
    "WHERE\n",
    "    publication_date > '2000-01-01'\n",
    "    \n",
    "    '''\n",
    "\n",
    "pd.io.sql.read_sql(query, con = engine)\n",
    "\n"
   ]
  },
  {
   "cell_type": "markdown",
   "metadata": {},
   "source": [
    "**Вывод**: Всего вышло после 1 января 2000 года - 819 книг."
   ]
  },
  {
   "cell_type": "markdown",
   "metadata": {},
   "source": [
    "### Задача 2. Для каждой книги посчитайте количество обзоров и среднюю оценку;"
   ]
  },
  {
   "cell_type": "markdown",
   "metadata": {},
   "source": [
    "**Вывод**: Самое большое кол-во обзоров имеет книга 948 для нее было сделано 1120 ревью, при этом средняя оценка не большая, всего 3.66."
   ]
  },
  {
   "cell_type": "code",
   "execution_count": 11,
   "metadata": {},
   "outputs": [
    {
     "data": {
      "text/html": [
       "<div>\n",
       "<style scoped>\n",
       "    .dataframe tbody tr th:only-of-type {\n",
       "        vertical-align: middle;\n",
       "    }\n",
       "\n",
       "    .dataframe tbody tr th {\n",
       "        vertical-align: top;\n",
       "    }\n",
       "\n",
       "    .dataframe thead th {\n",
       "        text-align: right;\n",
       "    }\n",
       "</style>\n",
       "<table border=\"1\" class=\"dataframe\">\n",
       "  <thead>\n",
       "    <tr style=\"text-align: right;\">\n",
       "      <th></th>\n",
       "      <th>book</th>\n",
       "      <th>books_name</th>\n",
       "      <th>count_reviews</th>\n",
       "      <th>avg_raiting</th>\n",
       "    </tr>\n",
       "  </thead>\n",
       "  <tbody>\n",
       "    <tr>\n",
       "      <th>0</th>\n",
       "      <td>83</td>\n",
       "      <td>Anne Rice's The Vampire Lestat: A Graphic Novel</td>\n",
       "      <td>NaN</td>\n",
       "      <td>3.666667</td>\n",
       "    </tr>\n",
       "    <tr>\n",
       "      <th>1</th>\n",
       "      <td>387</td>\n",
       "      <td>Leonardo's Notebooks</td>\n",
       "      <td>NaN</td>\n",
       "      <td>4.000000</td>\n",
       "    </tr>\n",
       "    <tr>\n",
       "      <th>2</th>\n",
       "      <td>221</td>\n",
       "      <td>Essential Tales and Poems</td>\n",
       "      <td>NaN</td>\n",
       "      <td>4.000000</td>\n",
       "    </tr>\n",
       "    <tr>\n",
       "      <th>3</th>\n",
       "      <td>808</td>\n",
       "      <td>The Natural Way to Draw</td>\n",
       "      <td>NaN</td>\n",
       "      <td>3.000000</td>\n",
       "    </tr>\n",
       "    <tr>\n",
       "      <th>4</th>\n",
       "      <td>672</td>\n",
       "      <td>The Cat in the Hat and Other Dr. Seuss Favorites</td>\n",
       "      <td>NaN</td>\n",
       "      <td>5.000000</td>\n",
       "    </tr>\n",
       "    <tr>\n",
       "      <th>5</th>\n",
       "      <td>191</td>\n",
       "      <td>Disney's Beauty and the Beast (A Little Golden...</td>\n",
       "      <td>NaN</td>\n",
       "      <td>4.000000</td>\n",
       "    </tr>\n",
       "    <tr>\n",
       "      <th>6</th>\n",
       "      <td>948</td>\n",
       "      <td>Twilight (Twilight  #1)</td>\n",
       "      <td>7.0</td>\n",
       "      <td>3.662500</td>\n",
       "    </tr>\n",
       "    <tr>\n",
       "      <th>7</th>\n",
       "      <td>854</td>\n",
       "      <td>The Road</td>\n",
       "      <td>6.0</td>\n",
       "      <td>3.772727</td>\n",
       "    </tr>\n",
       "    <tr>\n",
       "      <th>8</th>\n",
       "      <td>673</td>\n",
       "      <td>The Catcher in the Rye</td>\n",
       "      <td>6.0</td>\n",
       "      <td>3.825581</td>\n",
       "    </tr>\n",
       "    <tr>\n",
       "      <th>9</th>\n",
       "      <td>779</td>\n",
       "      <td>The Lightning Thief (Percy Jackson and the Oly...</td>\n",
       "      <td>6.0</td>\n",
       "      <td>4.080645</td>\n",
       "    </tr>\n",
       "    <tr>\n",
       "      <th>10</th>\n",
       "      <td>497</td>\n",
       "      <td>Outlander (Outlander  #1)</td>\n",
       "      <td>6.0</td>\n",
       "      <td>4.125000</td>\n",
       "    </tr>\n",
       "    <tr>\n",
       "      <th>11</th>\n",
       "      <td>627</td>\n",
       "      <td>The Alchemist</td>\n",
       "      <td>6.0</td>\n",
       "      <td>3.789474</td>\n",
       "    </tr>\n",
       "    <tr>\n",
       "      <th>12</th>\n",
       "      <td>696</td>\n",
       "      <td>The Da Vinci Code (Robert Langdon  #2)</td>\n",
       "      <td>6.0</td>\n",
       "      <td>3.830508</td>\n",
       "    </tr>\n",
       "    <tr>\n",
       "      <th>13</th>\n",
       "      <td>207</td>\n",
       "      <td>Eat  Pray  Love</td>\n",
       "      <td>6.0</td>\n",
       "      <td>3.395833</td>\n",
       "    </tr>\n",
       "    <tr>\n",
       "      <th>14</th>\n",
       "      <td>750</td>\n",
       "      <td>The Hobbit  or There and Back Again</td>\n",
       "      <td>6.0</td>\n",
       "      <td>4.125000</td>\n",
       "    </tr>\n",
       "    <tr>\n",
       "      <th>15</th>\n",
       "      <td>963</td>\n",
       "      <td>Water for Elephants</td>\n",
       "      <td>6.0</td>\n",
       "      <td>3.977273</td>\n",
       "    </tr>\n",
       "    <tr>\n",
       "      <th>16</th>\n",
       "      <td>299</td>\n",
       "      <td>Harry Potter and the Chamber of Secrets (Harry...</td>\n",
       "      <td>6.0</td>\n",
       "      <td>4.287500</td>\n",
       "    </tr>\n",
       "    <tr>\n",
       "      <th>17</th>\n",
       "      <td>302</td>\n",
       "      <td>Harry Potter and the Prisoner of Azkaban (Harr...</td>\n",
       "      <td>6.0</td>\n",
       "      <td>4.414634</td>\n",
       "    </tr>\n",
       "    <tr>\n",
       "      <th>18</th>\n",
       "      <td>656</td>\n",
       "      <td>The Book Thief</td>\n",
       "      <td>6.0</td>\n",
       "      <td>4.264151</td>\n",
       "    </tr>\n",
       "    <tr>\n",
       "      <th>19</th>\n",
       "      <td>695</td>\n",
       "      <td>The Curious Incident of the Dog in the Night-Time</td>\n",
       "      <td>6.0</td>\n",
       "      <td>4.081081</td>\n",
       "    </tr>\n",
       "  </tbody>\n",
       "</table>\n",
       "</div>"
      ],
      "text/plain": [
       "    book                                         books_name  count_reviews  \\\n",
       "0     83    Anne Rice's The Vampire Lestat: A Graphic Novel            NaN   \n",
       "1    387                               Leonardo's Notebooks            NaN   \n",
       "2    221                          Essential Tales and Poems            NaN   \n",
       "3    808                            The Natural Way to Draw            NaN   \n",
       "4    672   The Cat in the Hat and Other Dr. Seuss Favorites            NaN   \n",
       "5    191  Disney's Beauty and the Beast (A Little Golden...            NaN   \n",
       "6    948                            Twilight (Twilight  #1)            7.0   \n",
       "7    854                                           The Road            6.0   \n",
       "8    673                             The Catcher in the Rye            6.0   \n",
       "9    779  The Lightning Thief (Percy Jackson and the Oly...            6.0   \n",
       "10   497                          Outlander (Outlander  #1)            6.0   \n",
       "11   627                                      The Alchemist            6.0   \n",
       "12   696             The Da Vinci Code (Robert Langdon  #2)            6.0   \n",
       "13   207                                    Eat  Pray  Love            6.0   \n",
       "14   750                The Hobbit  or There and Back Again            6.0   \n",
       "15   963                                Water for Elephants            6.0   \n",
       "16   299  Harry Potter and the Chamber of Secrets (Harry...            6.0   \n",
       "17   302  Harry Potter and the Prisoner of Azkaban (Harr...            6.0   \n",
       "18   656                                     The Book Thief            6.0   \n",
       "19   695  The Curious Incident of the Dog in the Night-Time            6.0   \n",
       "\n",
       "    avg_raiting  \n",
       "0      3.666667  \n",
       "1      4.000000  \n",
       "2      4.000000  \n",
       "3      3.000000  \n",
       "4      5.000000  \n",
       "5      4.000000  \n",
       "6      3.662500  \n",
       "7      3.772727  \n",
       "8      3.825581  \n",
       "9      4.080645  \n",
       "10     4.125000  \n",
       "11     3.789474  \n",
       "12     3.830508  \n",
       "13     3.395833  \n",
       "14     4.125000  \n",
       "15     3.977273  \n",
       "16     4.287500  \n",
       "17     4.414634  \n",
       "18     4.264151  \n",
       "19     4.081081  "
      ]
     },
     "execution_count": 11,
     "metadata": {},
     "output_type": "execute_result"
    }
   ],
   "source": [
    "query = '''\n",
    "\n",
    "WITH re1 AS \n",
    "\n",
    "( SELECT \n",
    "book_id,\n",
    "COUNT(review_id) AS count_reviews\n",
    "FROM reviews\n",
    "GROUP BY book_id)\n",
    "\n",
    "SELECT\n",
    "DISTINCT  b.book_id AS book,\n",
    "b.title AS books_name,\n",
    "re1.count_reviews AS count_reviews,\n",
    "AVG (ra.rating ) AS avg_raiting\n",
    "\n",
    "FROM books AS b\n",
    "LEFT JOIN \n",
    " re1\n",
    "        \n",
    "ON re1.book_id = b.book_id\n",
    "        \n",
    "LEFT JOIN ratings AS ra\n",
    "\n",
    "ON ra.book_id = b.book_id\n",
    "GROUP BY\n",
    "    book,books_name, count_reviews\n",
    "    \n",
    "ORDER BY\n",
    "   count_reviews DESC\n",
    "   \n",
    "   LIMIT 20;\n",
    "   \n",
    "   \n",
    "  '''\n",
    "\n",
    "pd.io.sql.read_sql(query, con = engine)\n"
   ]
  },
  {
   "cell_type": "markdown",
   "metadata": {},
   "source": [
    "**Вывод**: у 6 книг нет ни одного обзора. У книги 948(Twilight (Twilight #1)) 7 обзоров и средний рейтинг 3.66. Максимальный средний рейтинг 5 баллов."
   ]
  },
  {
   "cell_type": "markdown",
   "metadata": {},
   "source": [
    "### Задача 3. Определите издательство, которое выпустило наибольшее число книг толще 50 страниц — так вы исключите из анализа брошюры;"
   ]
  },
  {
   "cell_type": "code",
   "execution_count": 12,
   "metadata": {},
   "outputs": [
    {
     "data": {
      "text/html": [
       "<div>\n",
       "<style scoped>\n",
       "    .dataframe tbody tr th:only-of-type {\n",
       "        vertical-align: middle;\n",
       "    }\n",
       "\n",
       "    .dataframe tbody tr th {\n",
       "        vertical-align: top;\n",
       "    }\n",
       "\n",
       "    .dataframe thead th {\n",
       "        text-align: right;\n",
       "    }\n",
       "</style>\n",
       "<table border=\"1\" class=\"dataframe\">\n",
       "  <thead>\n",
       "    <tr style=\"text-align: right;\">\n",
       "      <th></th>\n",
       "      <th>count_books</th>\n",
       "      <th>publisher</th>\n",
       "    </tr>\n",
       "  </thead>\n",
       "  <tbody>\n",
       "    <tr>\n",
       "      <th>0</th>\n",
       "      <td>42</td>\n",
       "      <td>Penguin Books</td>\n",
       "    </tr>\n",
       "    <tr>\n",
       "      <th>1</th>\n",
       "      <td>31</td>\n",
       "      <td>Vintage</td>\n",
       "    </tr>\n",
       "    <tr>\n",
       "      <th>2</th>\n",
       "      <td>25</td>\n",
       "      <td>Grand Central Publishing</td>\n",
       "    </tr>\n",
       "  </tbody>\n",
       "</table>\n",
       "</div>"
      ],
      "text/plain": [
       "   count_books                 publisher\n",
       "0           42             Penguin Books\n",
       "1           31                   Vintage\n",
       "2           25  Grand Central Publishing"
      ]
     },
     "execution_count": 12,
     "metadata": {},
     "output_type": "execute_result"
    }
   ],
   "source": [
    "query = '''\n",
    "\n",
    "SELECT \n",
    "    COUNT(b.book_id) AS count_books,\n",
    "    p.publisher AS publisher \n",
    "\n",
    "FROM books AS b\n",
    "LEFT JOIN publishers AS p\n",
    "ON b.publisher_id=p.publisher_id\n",
    "WHERE num_pages>50\n",
    "\n",
    "GROUP BY \n",
    "publisher\n",
    "\n",
    "ORDER BY count_books DESC\n",
    "LIMIT 3;\n",
    "\n",
    "\n",
    "    '''\n",
    "\n",
    "pd.io.sql.read_sql(query, con = engine)"
   ]
  },
  {
   "cell_type": "markdown",
   "metadata": {},
   "source": [
    "**Вывод**: Издательство Penguin Books выпустило 42 книги толще 50 страниц."
   ]
  },
  {
   "cell_type": "markdown",
   "metadata": {},
   "source": [
    "### Задача 4.Определите автора с самой высокой средней оценкой книг — учитывайте только книги с 50 и более оценками;"
   ]
  },
  {
   "cell_type": "code",
   "execution_count": 15,
   "metadata": {},
   "outputs": [
    {
     "data": {
      "text/html": [
       "<div>\n",
       "<style scoped>\n",
       "    .dataframe tbody tr th:only-of-type {\n",
       "        vertical-align: middle;\n",
       "    }\n",
       "\n",
       "    .dataframe tbody tr th {\n",
       "        vertical-align: top;\n",
       "    }\n",
       "\n",
       "    .dataframe thead th {\n",
       "        text-align: right;\n",
       "    }\n",
       "</style>\n",
       "<table border=\"1\" class=\"dataframe\">\n",
       "  <thead>\n",
       "    <tr style=\"text-align: right;\">\n",
       "      <th></th>\n",
       "      <th>author</th>\n",
       "      <th>avg_rating</th>\n",
       "    </tr>\n",
       "  </thead>\n",
       "  <tbody>\n",
       "    <tr>\n",
       "      <th>0</th>\n",
       "      <td>J.K. Rowling/Mary GrandPré</td>\n",
       "      <td>4.283844</td>\n",
       "    </tr>\n",
       "    <tr>\n",
       "      <th>1</th>\n",
       "      <td>Markus Zusak/Cao Xuân Việt Khương</td>\n",
       "      <td>4.264151</td>\n",
       "    </tr>\n",
       "    <tr>\n",
       "      <th>2</th>\n",
       "      <td>J.R.R. Tolkien</td>\n",
       "      <td>4.258446</td>\n",
       "    </tr>\n",
       "    <tr>\n",
       "      <th>3</th>\n",
       "      <td>Louisa May Alcott</td>\n",
       "      <td>4.192308</td>\n",
       "    </tr>\n",
       "    <tr>\n",
       "      <th>4</th>\n",
       "      <td>Rick Riordan</td>\n",
       "      <td>4.080645</td>\n",
       "    </tr>\n",
       "  </tbody>\n",
       "</table>\n",
       "</div>"
      ],
      "text/plain": [
       "                              author  avg_rating\n",
       "0         J.K. Rowling/Mary GrandPré    4.283844\n",
       "1  Markus Zusak/Cao Xuân Việt Khương    4.264151\n",
       "2                     J.R.R. Tolkien    4.258446\n",
       "3                  Louisa May Alcott    4.192308\n",
       "4                       Rick Riordan    4.080645"
      ]
     },
     "execution_count": 15,
     "metadata": {},
     "output_type": "execute_result"
    }
   ],
   "source": [
    "query = '''\n",
    "\n",
    "WITH ra AS\n",
    "(        SELECT \n",
    "            book_id,\n",
    "            AVG(rating) AS avg_rating,\n",
    "            COUNT(rating_id) AS rating_cnt\n",
    "        FROM ratings\n",
    "        GROUP BY\n",
    "        book_id\n",
    "    )\n",
    "\n",
    "\n",
    "\n",
    "SELECT\n",
    "    a.author AS author,\n",
    "    AVG(ra.avg_rating) AS avg_rating\n",
    "FROM  books AS b\n",
    "LEFT JOIN ra \n",
    "ON ra.book_id = b.book_id\n",
    "LEFT JOIN authors AS a    \n",
    "ON a.author_id = b.author_id\n",
    "\n",
    "WHERE (rating_cnt) >= 50\n",
    "GROUP BY a.author\n",
    "ORDER BY\n",
    "AVG(ra.avg_rating) DESC\n",
    "LIMIT 5\n",
    "'''\n",
    "    \n",
    "\n",
    "      \n",
    "\n",
    "pd.io.sql.read_sql(query, con = engine)"
   ]
  },
  {
   "cell_type": "markdown",
   "metadata": {},
   "source": [
    "Автора с самой высокой средней оценкой книг  по заданому критирею явлется J.K. Rowling/Mary GrandPré\t имеет средний рейтинг 4.28"
   ]
  },
  {
   "cell_type": "markdown",
   "metadata": {},
   "source": [
    "### Задача 5. Посчитайте среднее количество обзоров от пользователей, которые поставили больше 50 оценок."
   ]
  },
  {
   "cell_type": "code",
   "execution_count": 17,
   "metadata": {},
   "outputs": [
    {
     "data": {
      "text/html": [
       "<div>\n",
       "<style scoped>\n",
       "    .dataframe tbody tr th:only-of-type {\n",
       "        vertical-align: middle;\n",
       "    }\n",
       "\n",
       "    .dataframe tbody tr th {\n",
       "        vertical-align: top;\n",
       "    }\n",
       "\n",
       "    .dataframe thead th {\n",
       "        text-align: right;\n",
       "    }\n",
       "</style>\n",
       "<table border=\"1\" class=\"dataframe\">\n",
       "  <thead>\n",
       "    <tr style=\"text-align: right;\">\n",
       "      <th></th>\n",
       "      <th>avg</th>\n",
       "    </tr>\n",
       "  </thead>\n",
       "  <tbody>\n",
       "    <tr>\n",
       "      <th>0</th>\n",
       "      <td>24.333333</td>\n",
       "    </tr>\n",
       "  </tbody>\n",
       "</table>\n",
       "</div>"
      ],
      "text/plain": [
       "         avg\n",
       "0  24.333333"
      ]
     },
     "execution_count": 17,
     "metadata": {},
     "output_type": "execute_result"
    }
   ],
   "source": [
    "query = '''\n",
    "\n",
    "\n",
    "WITH\n",
    "    user_rating AS (\n",
    "    SELECT\n",
    "        rat.username AS rat_username,\n",
    "        COUNT(rating_id) AS ratings_count\n",
    "    FROM\n",
    "        ratings AS rat\n",
    "    GROUP BY\n",
    "        rat.username\n",
    "    HAVING\n",
    "        COUNT(rating_id) > 50\n",
    "        ),\n",
    "        \n",
    "    user_review AS (\n",
    "        SELECT\n",
    "        rev.username AS rev_username,\n",
    "     COUNT(review_id) AS reviews_count\n",
    "        FROM\n",
    "            reviews AS rev\n",
    "        GROUP BY\n",
    "            rev.username\n",
    "    )\n",
    "SELECT\n",
    "  \n",
    "AVG (reviews_count) AS AVG\n",
    "\n",
    "FROM\n",
    "user_rating\n",
    "LEFT JOIN user_review \n",
    "ON user_rating.rat_username = user_review.rev_username\n",
    "     \n",
    "ORDER BY AVG (reviews_count)DESC\n",
    "\n",
    "\n",
    " Limit 5;\n",
    " ''' \n",
    "       \n",
    "      \n",
    "\n",
    "pd.io.sql.read_sql(query, con = engine)   "
   ]
  },
  {
   "cell_type": "markdown",
   "metadata": {},
   "source": [
    "Среднее количество обзоров от пользователей потаваиших более 50 обзоров - 24,33."
   ]
  },
  {
   "cell_type": "markdown",
   "metadata": {},
   "source": [
    "## Общий вывод:\n",
    "\n",
    "- Всего вышло после 1 января 2000 года - 819 книг.\n",
    "-  у 6 книг нет ни одного обзора. У книги 948(Twilight (Twilight #1)) 7 обзоров и средний рейтинг 3.66. Максимальный средний рейтинг 5 баллов.\n",
    "- Издательство Penguin Books выпустило 42 книги толще 50 страниц.\n",
    "- Автора с самой высокой средней оценкой книг  по заданому критирею явлется J.K. Rowling/Mary GrandPré\t имеет средний рейтинг 4.28​.\n",
    "- Среднее количество обзоров от пользователей потаваиших более 50 обзоров - 24,33."
   ]
  },
  {
   "cell_type": "code",
   "execution_count": null,
   "metadata": {},
   "outputs": [],
   "source": []
  }
 ],
 "metadata": {
  "ExecuteTimeLog": [
   {
    "duration": 2758,
    "start_time": "2022-06-04T20:42:35.200Z"
   },
   {
    "duration": 1978,
    "start_time": "2022-06-04T20:42:37.961Z"
   },
   {
    "duration": 79,
    "start_time": "2022-06-04T20:43:09.047Z"
   },
   {
    "duration": 20,
    "start_time": "2022-06-04T20:43:51.175Z"
   },
   {
    "duration": 36,
    "start_time": "2022-06-04T20:44:28.249Z"
   },
   {
    "duration": 48,
    "start_time": "2022-06-04T20:44:38.526Z"
   },
   {
    "duration": 44,
    "start_time": "2022-06-04T20:45:03.579Z"
   },
   {
    "duration": 35,
    "start_time": "2022-06-04T20:45:57.106Z"
   },
   {
    "duration": 15,
    "start_time": "2022-06-04T20:47:07.285Z"
   },
   {
    "duration": 24,
    "start_time": "2022-06-04T20:47:55.640Z"
   },
   {
    "duration": 22,
    "start_time": "2022-06-04T20:48:32.885Z"
   },
   {
    "duration": 56,
    "start_time": "2022-06-04T20:49:16.676Z"
   },
   {
    "duration": 29,
    "start_time": "2022-06-04T20:49:54.104Z"
   },
   {
    "duration": 3523,
    "start_time": "2022-06-04T20:50:25.852Z"
   },
   {
    "duration": 12,
    "start_time": "2022-06-04T20:50:29.381Z"
   },
   {
    "duration": 196,
    "start_time": "2022-06-04T20:50:29.401Z"
   },
   {
    "duration": 32,
    "start_time": "2022-06-04T20:50:29.599Z"
   },
   {
    "duration": 68,
    "start_time": "2022-06-04T20:50:29.635Z"
   },
   {
    "duration": 92,
    "start_time": "2022-06-04T20:50:29.705Z"
   },
   {
    "duration": 43,
    "start_time": "2022-06-04T20:50:29.817Z"
   },
   {
    "duration": 13,
    "start_time": "2022-06-04T20:50:29.861Z"
   },
   {
    "duration": 49,
    "start_time": "2022-06-04T20:50:29.876Z"
   },
   {
    "duration": 19,
    "start_time": "2022-06-04T20:50:29.928Z"
   },
   {
    "duration": 8,
    "start_time": "2022-06-04T20:50:29.949Z"
   },
   {
    "duration": 24,
    "start_time": "2022-06-04T20:50:29.959Z"
   },
   {
    "duration": 46,
    "start_time": "2022-06-04T20:50:29.986Z"
   },
   {
    "duration": 3616,
    "start_time": "2022-06-04T20:51:06.572Z"
   },
   {
    "duration": 2062,
    "start_time": "2022-06-04T20:51:10.200Z"
   },
   {
    "duration": 162,
    "start_time": "2022-06-04T20:51:12.265Z"
   },
   {
    "duration": 26,
    "start_time": "2022-06-04T20:51:12.431Z"
   },
   {
    "duration": 24,
    "start_time": "2022-06-04T20:51:12.461Z"
   },
   {
    "duration": 77,
    "start_time": "2022-06-04T20:51:12.489Z"
   },
   {
    "duration": 47,
    "start_time": "2022-06-04T20:51:12.568Z"
   },
   {
    "duration": 23,
    "start_time": "2022-06-04T20:51:12.618Z"
   },
   {
    "duration": 26,
    "start_time": "2022-06-04T20:51:12.643Z"
   },
   {
    "duration": 24,
    "start_time": "2022-06-04T20:51:12.671Z"
   },
   {
    "duration": 20,
    "start_time": "2022-06-04T20:51:12.697Z"
   },
   {
    "duration": 45,
    "start_time": "2022-06-04T20:51:12.720Z"
   },
   {
    "duration": 64,
    "start_time": "2022-06-04T20:51:12.768Z"
   },
   {
    "duration": 4339,
    "start_time": "2022-06-05T19:32:21.779Z"
   },
   {
    "duration": 1750,
    "start_time": "2022-06-05T19:32:26.121Z"
   },
   {
    "duration": 352,
    "start_time": "2022-06-05T19:32:27.872Z"
   },
   {
    "duration": 81,
    "start_time": "2022-06-05T19:32:28.228Z"
   },
   {
    "duration": 92,
    "start_time": "2022-06-05T19:32:28.310Z"
   },
   {
    "duration": 108,
    "start_time": "2022-06-05T19:32:28.404Z"
   },
   {
    "duration": 102,
    "start_time": "2022-06-05T19:32:28.514Z"
   },
   {
    "duration": 79,
    "start_time": "2022-06-05T19:32:28.618Z"
   },
   {
    "duration": 93,
    "start_time": "2022-06-05T19:32:28.699Z"
   },
   {
    "duration": 88,
    "start_time": "2022-06-05T19:32:28.795Z"
   },
   {
    "duration": 3,
    "start_time": "2022-06-05T19:32:28.885Z"
   },
   {
    "duration": 98,
    "start_time": "2022-06-05T19:32:28.890Z"
   },
   {
    "duration": 79,
    "start_time": "2022-06-05T19:32:28.989Z"
   },
   {
    "duration": 110,
    "start_time": "2022-06-05T19:34:12.882Z"
   },
   {
    "duration": 98,
    "start_time": "2022-06-05T19:34:17.794Z"
   },
   {
    "duration": 87,
    "start_time": "2022-06-05T19:59:37.228Z"
   },
   {
    "duration": 3225,
    "start_time": "2022-06-05T19:59:42.393Z"
   },
   {
    "duration": 1982,
    "start_time": "2022-06-05T19:59:45.621Z"
   },
   {
    "duration": 420,
    "start_time": "2022-06-05T19:59:47.605Z"
   },
   {
    "duration": 95,
    "start_time": "2022-06-05T19:59:48.027Z"
   },
   {
    "duration": 101,
    "start_time": "2022-06-05T19:59:48.124Z"
   },
   {
    "duration": 125,
    "start_time": "2022-06-05T19:59:48.226Z"
   },
   {
    "duration": 117,
    "start_time": "2022-06-05T19:59:48.353Z"
   },
   {
    "duration": 88,
    "start_time": "2022-06-05T19:59:48.473Z"
   },
   {
    "duration": 101,
    "start_time": "2022-06-05T19:59:48.563Z"
   },
   {
    "duration": 200,
    "start_time": "2022-06-05T19:59:48.666Z"
   },
   {
    "duration": 0,
    "start_time": "2022-06-05T19:59:48.871Z"
   },
   {
    "duration": 0,
    "start_time": "2022-06-05T19:59:48.871Z"
   },
   {
    "duration": 0,
    "start_time": "2022-06-05T19:59:48.872Z"
   },
   {
    "duration": 0,
    "start_time": "2022-06-05T19:59:48.873Z"
   },
   {
    "duration": 106,
    "start_time": "2022-06-05T20:00:02.248Z"
   },
   {
    "duration": 107,
    "start_time": "2022-06-05T20:00:29.794Z"
   },
   {
    "duration": 139,
    "start_time": "2022-06-05T20:01:42.340Z"
   },
   {
    "duration": 139,
    "start_time": "2022-06-05T20:04:04.885Z"
   },
   {
    "duration": 144,
    "start_time": "2022-06-05T20:05:07.485Z"
   },
   {
    "duration": 147,
    "start_time": "2022-06-05T20:05:46.252Z"
   },
   {
    "duration": 176,
    "start_time": "2022-06-05T20:07:14.842Z"
   },
   {
    "duration": 109,
    "start_time": "2022-06-05T20:07:34.548Z"
   },
   {
    "duration": 96,
    "start_time": "2022-06-05T20:07:49.369Z"
   },
   {
    "duration": 107,
    "start_time": "2022-06-05T20:08:14.546Z"
   },
   {
    "duration": 116,
    "start_time": "2022-06-05T20:08:24.615Z"
   },
   {
    "duration": 210,
    "start_time": "2022-06-05T20:08:46.221Z"
   },
   {
    "duration": 150,
    "start_time": "2022-06-05T20:09:01.497Z"
   },
   {
    "duration": 90,
    "start_time": "2022-06-05T20:09:08.807Z"
   },
   {
    "duration": 71,
    "start_time": "2022-06-05T20:11:33.763Z"
   },
   {
    "duration": 186,
    "start_time": "2022-06-05T20:12:03.131Z"
   },
   {
    "duration": 137,
    "start_time": "2022-06-05T20:12:16.712Z"
   },
   {
    "duration": 104,
    "start_time": "2022-06-05T20:12:41.921Z"
   },
   {
    "duration": 125,
    "start_time": "2022-06-05T20:13:13.399Z"
   },
   {
    "duration": 108,
    "start_time": "2022-06-05T20:13:47.834Z"
   },
   {
    "duration": 169,
    "start_time": "2022-06-05T20:14:40.189Z"
   },
   {
    "duration": 162,
    "start_time": "2022-06-05T20:14:51.791Z"
   },
   {
    "duration": 86,
    "start_time": "2022-06-05T20:15:30.457Z"
   },
   {
    "duration": 160,
    "start_time": "2022-06-05T20:17:57.890Z"
   },
   {
    "duration": 198,
    "start_time": "2022-06-05T20:18:09.960Z"
   },
   {
    "duration": 139,
    "start_time": "2022-06-05T20:18:26.922Z"
   },
   {
    "duration": 151,
    "start_time": "2022-06-05T20:18:42.934Z"
   },
   {
    "duration": 138,
    "start_time": "2022-06-05T20:18:59.282Z"
   },
   {
    "duration": 147,
    "start_time": "2022-06-05T20:21:05.417Z"
   },
   {
    "duration": 128,
    "start_time": "2022-06-05T20:21:27.796Z"
   },
   {
    "duration": 164,
    "start_time": "2022-06-05T21:09:01.764Z"
   },
   {
    "duration": 139,
    "start_time": "2022-06-05T21:11:04.712Z"
   },
   {
    "duration": 132,
    "start_time": "2022-06-05T21:11:26.360Z"
   },
   {
    "duration": 115,
    "start_time": "2022-06-05T21:11:45.790Z"
   },
   {
    "duration": 124,
    "start_time": "2022-06-05T21:12:03.895Z"
   },
   {
    "duration": 169,
    "start_time": "2022-06-05T21:12:34.428Z"
   },
   {
    "duration": 128,
    "start_time": "2022-06-05T21:12:47.389Z"
   },
   {
    "duration": 145,
    "start_time": "2022-06-05T21:12:57.281Z"
   },
   {
    "duration": 152,
    "start_time": "2022-06-05T21:23:42.958Z"
   },
   {
    "duration": 23,
    "start_time": "2022-06-05T21:24:38.430Z"
   },
   {
    "duration": 125,
    "start_time": "2022-06-05T21:24:45.860Z"
   },
   {
    "duration": 30,
    "start_time": "2022-06-05T21:26:42.555Z"
   },
   {
    "duration": 85,
    "start_time": "2022-06-05T21:26:46.964Z"
   },
   {
    "duration": 77,
    "start_time": "2022-06-05T21:28:46.794Z"
   },
   {
    "duration": 139,
    "start_time": "2022-06-05T21:29:21.370Z"
   },
   {
    "duration": 78,
    "start_time": "2022-06-05T21:30:01.767Z"
   },
   {
    "duration": 123,
    "start_time": "2022-06-05T21:30:43.967Z"
   },
   {
    "duration": 78,
    "start_time": "2022-06-05T21:30:50.912Z"
   },
   {
    "duration": 128,
    "start_time": "2022-06-05T21:32:21.414Z"
   },
   {
    "duration": 75,
    "start_time": "2022-06-05T21:32:58.384Z"
   },
   {
    "duration": 140,
    "start_time": "2022-06-05T21:34:10.594Z"
   },
   {
    "duration": 87,
    "start_time": "2022-06-05T21:34:26.398Z"
   },
   {
    "duration": 99,
    "start_time": "2022-06-05T21:35:38.903Z"
   },
   {
    "duration": 142,
    "start_time": "2022-06-05T21:37:20.118Z"
   },
   {
    "duration": 110,
    "start_time": "2022-06-05T21:37:47.088Z"
   },
   {
    "duration": 105,
    "start_time": "2022-06-05T21:38:33.720Z"
   },
   {
    "duration": 123,
    "start_time": "2022-06-05T21:39:59.404Z"
   },
   {
    "duration": 95,
    "start_time": "2022-06-05T21:40:44.894Z"
   },
   {
    "duration": 2726,
    "start_time": "2022-06-05T21:53:19.859Z"
   },
   {
    "duration": 9,
    "start_time": "2022-06-05T21:53:22.588Z"
   },
   {
    "duration": 422,
    "start_time": "2022-06-05T21:53:22.599Z"
   },
   {
    "duration": 108,
    "start_time": "2022-06-05T21:53:23.023Z"
   },
   {
    "duration": 107,
    "start_time": "2022-06-05T21:53:23.132Z"
   },
   {
    "duration": 138,
    "start_time": "2022-06-05T21:53:23.241Z"
   },
   {
    "duration": 137,
    "start_time": "2022-06-05T21:53:23.381Z"
   },
   {
    "duration": 102,
    "start_time": "2022-06-05T21:53:23.520Z"
   },
   {
    "duration": 9,
    "start_time": "2022-06-05T21:53:23.626Z"
   },
   {
    "duration": 0,
    "start_time": "2022-06-05T21:53:23.638Z"
   },
   {
    "duration": 0,
    "start_time": "2022-06-05T21:53:23.639Z"
   },
   {
    "duration": 0,
    "start_time": "2022-06-05T21:53:23.640Z"
   },
   {
    "duration": 0,
    "start_time": "2022-06-05T21:53:23.641Z"
   },
   {
    "duration": 0,
    "start_time": "2022-06-05T21:53:23.643Z"
   },
   {
    "duration": 0,
    "start_time": "2022-06-05T21:53:23.644Z"
   },
   {
    "duration": 0,
    "start_time": "2022-06-05T21:53:23.645Z"
   },
   {
    "duration": 99,
    "start_time": "2022-06-05T21:55:35.540Z"
   },
   {
    "duration": 139,
    "start_time": "2022-06-05T21:56:30.012Z"
   },
   {
    "duration": 110,
    "start_time": "2022-06-05T21:56:37.011Z"
   },
   {
    "duration": 2039,
    "start_time": "2022-06-06T04:02:54.755Z"
   },
   {
    "duration": 1481,
    "start_time": "2022-06-06T04:02:56.796Z"
   },
   {
    "duration": 263,
    "start_time": "2022-06-06T04:02:58.279Z"
   },
   {
    "duration": 73,
    "start_time": "2022-06-06T04:02:58.543Z"
   },
   {
    "duration": 72,
    "start_time": "2022-06-06T04:02:58.617Z"
   },
   {
    "duration": 94,
    "start_time": "2022-06-06T04:02:58.691Z"
   },
   {
    "duration": 87,
    "start_time": "2022-06-06T04:02:58.787Z"
   },
   {
    "duration": 70,
    "start_time": "2022-06-06T04:02:58.875Z"
   },
   {
    "duration": 4,
    "start_time": "2022-06-06T04:02:58.947Z"
   },
   {
    "duration": 0,
    "start_time": "2022-06-06T04:02:58.953Z"
   },
   {
    "duration": 0,
    "start_time": "2022-06-06T04:02:58.954Z"
   },
   {
    "duration": 0,
    "start_time": "2022-06-06T04:02:58.955Z"
   },
   {
    "duration": 0,
    "start_time": "2022-06-06T04:02:58.956Z"
   },
   {
    "duration": 0,
    "start_time": "2022-06-06T04:02:58.957Z"
   },
   {
    "duration": 0,
    "start_time": "2022-06-06T04:02:58.958Z"
   },
   {
    "duration": 0,
    "start_time": "2022-06-06T04:02:58.959Z"
   },
   {
    "duration": 81,
    "start_time": "2022-06-06T04:03:27.973Z"
   },
   {
    "duration": 211,
    "start_time": "2022-06-06T04:04:03.405Z"
   },
   {
    "duration": 79,
    "start_time": "2022-06-06T04:04:15.929Z"
   },
   {
    "duration": 73,
    "start_time": "2022-06-06T04:05:19.348Z"
   },
   {
    "duration": 2151,
    "start_time": "2022-06-06T04:08:29.587Z"
   },
   {
    "duration": 6,
    "start_time": "2022-06-06T04:08:31.741Z"
   },
   {
    "duration": 285,
    "start_time": "2022-06-06T04:08:31.749Z"
   },
   {
    "duration": 82,
    "start_time": "2022-06-06T04:08:32.036Z"
   },
   {
    "duration": 77,
    "start_time": "2022-06-06T04:08:32.119Z"
   },
   {
    "duration": 113,
    "start_time": "2022-06-06T04:08:32.197Z"
   },
   {
    "duration": 94,
    "start_time": "2022-06-06T04:08:32.312Z"
   },
   {
    "duration": 74,
    "start_time": "2022-06-06T04:08:32.408Z"
   },
   {
    "duration": 4,
    "start_time": "2022-06-06T04:08:32.483Z"
   },
   {
    "duration": 0,
    "start_time": "2022-06-06T04:08:32.489Z"
   },
   {
    "duration": 0,
    "start_time": "2022-06-06T04:08:32.491Z"
   },
   {
    "duration": 0,
    "start_time": "2022-06-06T04:08:32.492Z"
   },
   {
    "duration": 0,
    "start_time": "2022-06-06T04:08:32.493Z"
   },
   {
    "duration": 0,
    "start_time": "2022-06-06T04:08:32.495Z"
   },
   {
    "duration": 0,
    "start_time": "2022-06-06T04:08:32.496Z"
   },
   {
    "duration": 1,
    "start_time": "2022-06-06T04:08:32.497Z"
   },
   {
    "duration": 86,
    "start_time": "2022-06-06T04:09:00.443Z"
   },
   {
    "duration": 2110,
    "start_time": "2022-06-06T04:09:01.803Z"
   },
   {
    "duration": 7,
    "start_time": "2022-06-06T04:09:03.915Z"
   },
   {
    "duration": 280,
    "start_time": "2022-06-06T04:09:03.924Z"
   },
   {
    "duration": 78,
    "start_time": "2022-06-06T04:09:04.206Z"
   },
   {
    "duration": 75,
    "start_time": "2022-06-06T04:09:04.286Z"
   },
   {
    "duration": 108,
    "start_time": "2022-06-06T04:09:04.362Z"
   },
   {
    "duration": 195,
    "start_time": "2022-06-06T04:09:04.471Z"
   },
   {
    "duration": 75,
    "start_time": "2022-06-06T04:09:04.668Z"
   },
   {
    "duration": 5,
    "start_time": "2022-06-06T04:09:04.745Z"
   },
   {
    "duration": 0,
    "start_time": "2022-06-06T04:09:04.751Z"
   },
   {
    "duration": 0,
    "start_time": "2022-06-06T04:09:04.753Z"
   },
   {
    "duration": 0,
    "start_time": "2022-06-06T04:09:04.754Z"
   },
   {
    "duration": 0,
    "start_time": "2022-06-06T04:09:04.756Z"
   },
   {
    "duration": 0,
    "start_time": "2022-06-06T04:09:04.757Z"
   },
   {
    "duration": 0,
    "start_time": "2022-06-06T04:09:04.758Z"
   },
   {
    "duration": 0,
    "start_time": "2022-06-06T04:09:04.759Z"
   },
   {
    "duration": 83,
    "start_time": "2022-06-06T04:09:28.340Z"
   },
   {
    "duration": 2317,
    "start_time": "2022-06-06T04:09:31.955Z"
   },
   {
    "duration": 10,
    "start_time": "2022-06-06T04:09:34.275Z"
   },
   {
    "duration": 273,
    "start_time": "2022-06-06T04:09:34.287Z"
   },
   {
    "duration": 76,
    "start_time": "2022-06-06T04:09:34.562Z"
   },
   {
    "duration": 73,
    "start_time": "2022-06-06T04:09:34.640Z"
   },
   {
    "duration": 97,
    "start_time": "2022-06-06T04:09:34.715Z"
   },
   {
    "duration": 87,
    "start_time": "2022-06-06T04:09:34.814Z"
   },
   {
    "duration": 70,
    "start_time": "2022-06-06T04:09:34.902Z"
   },
   {
    "duration": 79,
    "start_time": "2022-06-06T04:09:34.973Z"
   },
   {
    "duration": 79,
    "start_time": "2022-06-06T04:09:35.054Z"
   },
   {
    "duration": 72,
    "start_time": "2022-06-06T04:09:35.135Z"
   },
   {
    "duration": 3,
    "start_time": "2022-06-06T04:09:35.208Z"
   },
   {
    "duration": 92,
    "start_time": "2022-06-06T04:09:35.212Z"
   },
   {
    "duration": 0,
    "start_time": "2022-06-06T04:09:35.306Z"
   },
   {
    "duration": 0,
    "start_time": "2022-06-06T04:09:35.308Z"
   },
   {
    "duration": 0,
    "start_time": "2022-06-06T04:09:35.309Z"
   },
   {
    "duration": 84,
    "start_time": "2022-06-06T04:10:04.633Z"
   },
   {
    "duration": 82,
    "start_time": "2022-06-06T04:10:18.025Z"
   },
   {
    "duration": 85,
    "start_time": "2022-06-06T04:10:30.077Z"
   },
   {
    "duration": 76,
    "start_time": "2022-06-06T04:11:24.216Z"
   },
   {
    "duration": 2112,
    "start_time": "2022-06-06T04:11:30.439Z"
   },
   {
    "duration": 6,
    "start_time": "2022-06-06T04:11:32.554Z"
   },
   {
    "duration": 287,
    "start_time": "2022-06-06T04:11:32.562Z"
   },
   {
    "duration": 80,
    "start_time": "2022-06-06T04:11:32.851Z"
   },
   {
    "duration": 81,
    "start_time": "2022-06-06T04:11:32.933Z"
   },
   {
    "duration": 113,
    "start_time": "2022-06-06T04:11:33.017Z"
   },
   {
    "duration": 94,
    "start_time": "2022-06-06T04:11:33.131Z"
   },
   {
    "duration": 74,
    "start_time": "2022-06-06T04:11:33.227Z"
   },
   {
    "duration": 83,
    "start_time": "2022-06-06T04:11:33.303Z"
   },
   {
    "duration": 87,
    "start_time": "2022-06-06T04:11:33.388Z"
   },
   {
    "duration": 74,
    "start_time": "2022-06-06T04:11:33.476Z"
   },
   {
    "duration": 2,
    "start_time": "2022-06-06T04:11:33.552Z"
   },
   {
    "duration": 84,
    "start_time": "2022-06-06T04:11:33.556Z"
   },
   {
    "duration": 77,
    "start_time": "2022-06-06T04:11:33.642Z"
   },
   {
    "duration": 77,
    "start_time": "2022-06-06T04:11:33.720Z"
   },
   {
    "duration": 76,
    "start_time": "2022-06-06T04:11:33.799Z"
   },
   {
    "duration": 48,
    "start_time": "2022-06-18T19:21:03.560Z"
   },
   {
    "duration": 2020,
    "start_time": "2022-06-18T19:21:09.959Z"
   },
   {
    "duration": 1330,
    "start_time": "2022-06-18T19:21:11.982Z"
   },
   {
    "duration": 242,
    "start_time": "2022-06-18T19:21:13.313Z"
   },
   {
    "duration": 67,
    "start_time": "2022-06-18T19:21:13.557Z"
   },
   {
    "duration": 66,
    "start_time": "2022-06-18T19:21:13.625Z"
   },
   {
    "duration": 87,
    "start_time": "2022-06-18T19:21:13.692Z"
   },
   {
    "duration": 79,
    "start_time": "2022-06-18T19:21:13.781Z"
   },
   {
    "duration": 63,
    "start_time": "2022-06-18T19:21:13.862Z"
   },
   {
    "duration": 72,
    "start_time": "2022-06-18T19:21:13.927Z"
   },
   {
    "duration": 73,
    "start_time": "2022-06-18T19:21:14.002Z"
   },
   {
    "duration": 64,
    "start_time": "2022-06-18T19:21:14.077Z"
   },
   {
    "duration": 3,
    "start_time": "2022-06-18T19:21:14.143Z"
   },
   {
    "duration": 73,
    "start_time": "2022-06-18T19:21:14.148Z"
   },
   {
    "duration": 67,
    "start_time": "2022-06-18T19:21:14.222Z"
   },
   {
    "duration": 66,
    "start_time": "2022-06-18T19:21:14.291Z"
   },
   {
    "duration": 67,
    "start_time": "2022-06-18T19:21:14.359Z"
   },
   {
    "duration": 132,
    "start_time": "2022-06-18T19:21:14.427Z"
   }
  ],
  "kernelspec": {
   "display_name": "Python 3 (ipykernel)",
   "language": "python",
   "name": "python3"
  },
  "language_info": {
   "codemirror_mode": {
    "name": "ipython",
    "version": 3
   },
   "file_extension": ".py",
   "mimetype": "text/x-python",
   "name": "python",
   "nbconvert_exporter": "python",
   "pygments_lexer": "ipython3",
   "version": "3.9.5"
  },
  "toc": {
   "base_numbering": 1,
   "nav_menu": {},
   "number_sections": true,
   "sideBar": true,
   "skip_h1_title": true,
   "title_cell": "Table of Contents",
   "title_sidebar": "Contents",
   "toc_cell": false,
   "toc_position": {},
   "toc_section_display": true,
   "toc_window_display": false
  }
 },
 "nbformat": 4,
 "nbformat_minor": 2
}
