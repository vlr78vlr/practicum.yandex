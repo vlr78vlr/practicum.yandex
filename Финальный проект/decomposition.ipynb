{
 "cells": [
  {
   "cell_type": "markdown",
   "metadata": {},
   "source": [
    "##  Откроем файлы с данными  product_codes .csv  и retail_dataset .csv и изучите общую информацию. \n",
    "___Время выполнения: 0,5 ч.___"
   ]
  },
  {
   "cell_type": "code",
   "execution_count": null,
   "metadata": {},
   "outputs": [],
   "source": []
  },
  {
   "cell_type": "markdown",
   "metadata": {},
   "source": [
    "##  Подготовим данные.\n",
    "___Время выполнения: 3 ч.___"
   ]
  },
  {
   "cell_type": "markdown",
   "metadata": {},
   "source": [
    "### Заменим названия столбцов. Приведём  к нижнему регистру и \"змеиному\" виду.\n"
   ]
  },
  {
   "cell_type": "markdown",
   "metadata": {},
   "source": [
    "### Проверим тип данных в датасетах. Преобразуйте данные в нужные типы (если это потребуется)."
   ]
  },
  {
   "cell_type": "markdown",
   "metadata": {},
   "source": [
    "### Проверим есть ли нулевые строки и дубликаты. Подумаем, что с ними делать."
   ]
  },
  {
   "cell_type": "markdown",
   "metadata": {},
   "source": [
    "### В таблице product_codes  заменим название столбца productID на item_ID для единообразия и возможности дальнейшего объединения датасетов."
   ]
  },
  {
   "cell_type": "code",
   "execution_count": null,
   "metadata": {},
   "outputs": [],
   "source": []
  },
  {
   "cell_type": "markdown",
   "metadata": {},
   "source": [
    "## Проведем исследовательский анализ данных.\n",
    "___Время выполнения: 6 ч.___"
   ]
  },
  {
   "cell_type": "markdown",
   "metadata": {},
   "source": [
    "### Оценим эффективность всех магазинов посчитав их средний чек.  Проверим есть ли аномальные покупки."
   ]
  },
  {
   "cell_type": "markdown",
   "metadata": {},
   "source": [
    "### Посмотрим по датам,что мы там сможем увидеть."
   ]
  },
  {
   "cell_type": "markdown",
   "metadata": {},
   "source": [
    "### Проверим, что обозначают буквенные значения в столбце purchaseid (датасет retail_dataset.csv)"
   ]
  },
  {
   "cell_type": "code",
   "execution_count": null,
   "metadata": {},
   "outputs": [],
   "source": []
  },
  {
   "cell_type": "markdown",
   "metadata": {},
   "source": [
    "## Проведем анализ программы лояльности.\n",
    "___Время выполнения: 6 ч.___"
   ]
  },
  {
   "cell_type": "markdown",
   "metadata": {},
   "source": [
    "### Посмотрим в каких магазинах используется программа лояльности, а в каких нет."
   ]
  },
  {
   "cell_type": "markdown",
   "metadata": {},
   "source": [
    "### Какие поведения характерны для пользователей  программы лояльности. "
   ]
  },
  {
   "cell_type": "markdown",
   "metadata": {},
   "source": []
  },
  {
   "cell_type": "code",
   "execution_count": null,
   "metadata": {},
   "outputs": [],
   "source": []
  },
  {
   "cell_type": "markdown",
   "metadata": {},
   "source": [
    "## Проверем статистическую гипотезу, что средняя выручка пользователей программы лояльности и пользователей  без нее, различаются.\n",
    "___Время выполнения: 3 часа___"
   ]
  },
  {
   "cell_type": "code",
   "execution_count": null,
   "metadata": {},
   "outputs": [],
   "source": []
  },
  {
   "cell_type": "markdown",
   "metadata": {},
   "source": [
    "## Общий вывод .\n",
    "___Время выполнения: 1 ч.___"
   ]
  },
  {
   "cell_type": "code",
   "execution_count": null,
   "metadata": {},
   "outputs": [],
   "source": []
  },
  {
   "cell_type": "markdown",
   "metadata": {},
   "source": [
    "**П.С.** время в часах исходя из того, что в среднем на обучение стараюсь тратить 3 часа в день."
   ]
  },
  {
   "cell_type": "code",
   "execution_count": null,
   "metadata": {},
   "outputs": [],
   "source": []
  }
 ],
 "metadata": {
  "ExecuteTimeLog": [
   {
    "duration": 250,
    "start_time": "2022-05-15T18:59:30.845Z"
   },
   {
    "duration": 2,
    "start_time": "2022-05-15T19:15:05.229Z"
   },
   {
    "duration": 5,
    "start_time": "2022-05-16T09:36:01.732Z"
   },
   {
    "duration": 4,
    "start_time": "2022-05-16T09:37:08.561Z"
   },
   {
    "duration": 4,
    "start_time": "2022-05-16T10:24:34.857Z"
   },
   {
    "duration": 3,
    "start_time": "2022-05-16T10:34:53.982Z"
   },
   {
    "duration": 4,
    "start_time": "2022-05-16T10:36:37.974Z"
   },
   {
    "duration": 4,
    "start_time": "2022-05-16T11:00:16.993Z"
   },
   {
    "duration": 4,
    "start_time": "2022-05-16T11:05:55.825Z"
   },
   {
    "duration": 4,
    "start_time": "2022-05-16T11:05:59.023Z"
   },
   {
    "duration": 4,
    "start_time": "2022-05-16T11:06:00.330Z"
   },
   {
    "duration": 16,
    "start_time": "2022-05-16T11:06:00.340Z"
   },
   {
    "duration": 7,
    "start_time": "2022-05-16T11:06:00.358Z"
   },
   {
    "duration": 4,
    "start_time": "2022-05-16T11:39:43.585Z"
   },
   {
    "duration": 4,
    "start_time": "2022-05-16T11:39:47.853Z"
   },
   {
    "duration": 126,
    "start_time": "2022-05-16T11:40:42.474Z"
   }
  ],
  "kernelspec": {
   "display_name": "Python 3 (ipykernel)",
   "language": "python",
   "name": "python3"
  },
  "language_info": {
   "codemirror_mode": {
    "name": "ipython",
    "version": 3
   },
   "file_extension": ".py",
   "mimetype": "text/x-python",
   "name": "python",
   "nbconvert_exporter": "python",
   "pygments_lexer": "ipython3",
   "version": "3.9.5"
  },
  "toc": {
   "base_numbering": 1,
   "nav_menu": {},
   "number_sections": true,
   "sideBar": true,
   "skip_h1_title": true,
   "title_cell": "Table of Contents",
   "title_sidebar": "Contents",
   "toc_cell": false,
   "toc_position": {
    "height": "calc(100% - 180px)",
    "left": "10px",
    "top": "150px",
    "width": "409.097px"
   },
   "toc_section_display": true,
   "toc_window_display": true
  }
 },
 "nbformat": 4,
 "nbformat_minor": 2
}
