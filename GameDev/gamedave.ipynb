{
 "cells": [
  {
   "cell_type": "markdown",
   "metadata": {},
   "source": [
    "**Описание проекта**\n",
    "\n",
    "Мы работаем в интернет-магазине «Стримчик», который продаёт по всему миру компьютерные игры. Из открытых источников доступны исторические данные о продажах игр, оценки пользователей и экспертов, жанры и платформы. Нам нужно выявить определяющие успешность игры закономерности. Это позволит сделать ставку на потенциально популярный продукт и спланировать рекламные кампании.\n",
    "\n",
    "Перед нами данные до 2016 года. Представим, что сейчас декабрь 2016 г., и мы планируете кампанию на 2017-й. Нужно отработать принцип работы с данными. \n",
    "\n",
    "План работ:\n",
    "\n",
    "1.  Откроем файл и изучим его\n",
    "\n",
    "2.  Подготовка данных\n",
    "\n",
    "   2.1  Заменим названия столбцов и приведем к нижнему регистру\n",
    "  \n",
    "  2.2  Изучим пропущенные значения\n",
    "  \n",
    "  2.3  Преобразуем типы данных в нужные.\n",
    "  \n",
    "  2.4  Проверим наш датафрейи на дубликаты\n",
    "  \n",
    "  2.5  Посчитаем суммарные продажи во всех регионах и запишем их в отдельный столбец.\n",
    "  \n",
    "3.  Исследовательский анализ данных\n",
    "\n",
    "  3.1  Посмотрим, сколько игр выпускалось в разные годы.\n",
    "  \n",
    "  3.2  Посмотрим, как менялись продажи по платформам.\n",
    "  \n",
    "  3.3  Составим прогноз на 2017 г. на основе уже изученных данных.\n",
    "  \n",
    "  3.4  Посмотрим, как влияют на продажи внутри одной популярной платформы отзывы пользователей и критиков\n",
    "  \n",
    "  3.5  Соотнесем продажи игр на других платформах с отзывами критиков и пользователей.\n",
    "  \n",
    "  3.6  Рассмотрим общее распределение игр по жанрам. Рассмотрим какие жанры самые прибыльные\n",
    "  \n",
    "4.  Составим портрет пользователя каждого региона\n",
    "\n",
    "  4.1  Для Америки рассмотрим топ 5 платформ и жанров.\n",
    "  \n",
    "  4.2  Для Европы расссмотрим топ 5 платформ и жанров.\n",
    "  \n",
    "  4.3  Визуализируем сравнение продаж платформ в Америке и Европе.\n",
    "  \n",
    "  4.4  Для Японии расссмотрим топ 5 платформ и жанров.\n",
    "  \n",
    "  4.5  Проверим влияет ли рейтинг ESRB на продажи в отдельном регионе.\n",
    "  \n",
    "5.  Проверим гипотезы\n",
    "\n",
    "  5.1  Проверим гипотезу, что средние пользовательские рейтинги платформ Xbox One и PC одинаковые.\n",
    "  \n",
    "  5.2  Проверим утверждение, что средние пользовательские рейтинги жанров Action и Sports разные.\n",
    "  \n",
    "6.Общий вывод"
   ]
  },
  {
   "cell_type": "markdown",
   "metadata": {},
   "source": [
    "Описание данных \n",
    "\n",
    "Name — название игры\n",
    "\n",
    "Platform — платформа\n",
    "\n",
    "Year_of_Release — год выпуска\n",
    "\n",
    "Genre — жанр игры\n",
    "\n",
    "NA_sales — продажи в Северной Америке (миллионы проданных копий)\n",
    "\n",
    "EU_sales — продажи в Европе (миллионы проданных копий)\n",
    "\n",
    "JP_sales — продажи в Японии (миллионы проданных копий)\n",
    "\n",
    "Other_sales — продажи в других странах (миллионы проданных копий)\n",
    "\n",
    "Critic_Score — оценка критиков (максимум 100)\n",
    "\n",
    "User_Score — оценка пользователей (максимум 10)\n",
    "\n",
    "Rating — рейтинг от организации ESRB (англ. Entertainment Software Rating Board). Эта ассоциация определяет рейтинг компьютерных игр и присваивает им подходящую возрастную категорию.\n",
    "Данные за 2016 год могут быть неполными.\n"
   ]
  },
  {
   "cell_type": "code",
   "execution_count": 1,
   "metadata": {},
   "outputs": [],
   "source": [
    "import pandas as pd\n",
    "import numpy as np\n",
    "import matplotlib.pyplot as plt\n",
    "import seaborn as sns\n",
    "from scipy import stats as st\n"
   ]
  },
  {
   "cell_type": "markdown",
   "metadata": {},
   "source": [
    "## Откроем файл и изучим его"
   ]
  },
  {
   "cell_type": "code",
   "execution_count": 2,
   "metadata": {},
   "outputs": [
    {
     "data": {
      "text/html": [
       "<div>\n",
       "<style scoped>\n",
       "    .dataframe tbody tr th:only-of-type {\n",
       "        vertical-align: middle;\n",
       "    }\n",
       "\n",
       "    .dataframe tbody tr th {\n",
       "        vertical-align: top;\n",
       "    }\n",
       "\n",
       "    .dataframe thead th {\n",
       "        text-align: right;\n",
       "    }\n",
       "</style>\n",
       "<table border=\"1\" class=\"dataframe\">\n",
       "  <thead>\n",
       "    <tr style=\"text-align: right;\">\n",
       "      <th></th>\n",
       "      <th>Name</th>\n",
       "      <th>Platform</th>\n",
       "      <th>Year_of_Release</th>\n",
       "      <th>Genre</th>\n",
       "      <th>NA_sales</th>\n",
       "      <th>EU_sales</th>\n",
       "      <th>JP_sales</th>\n",
       "      <th>Other_sales</th>\n",
       "      <th>Critic_Score</th>\n",
       "      <th>User_Score</th>\n",
       "      <th>Rating</th>\n",
       "    </tr>\n",
       "  </thead>\n",
       "  <tbody>\n",
       "    <tr>\n",
       "      <th>0</th>\n",
       "      <td>Wii Sports</td>\n",
       "      <td>Wii</td>\n",
       "      <td>2006.0</td>\n",
       "      <td>Sports</td>\n",
       "      <td>41.36</td>\n",
       "      <td>28.96</td>\n",
       "      <td>3.77</td>\n",
       "      <td>8.45</td>\n",
       "      <td>76.0</td>\n",
       "      <td>8</td>\n",
       "      <td>E</td>\n",
       "    </tr>\n",
       "    <tr>\n",
       "      <th>1</th>\n",
       "      <td>Super Mario Bros.</td>\n",
       "      <td>NES</td>\n",
       "      <td>1985.0</td>\n",
       "      <td>Platform</td>\n",
       "      <td>29.08</td>\n",
       "      <td>3.58</td>\n",
       "      <td>6.81</td>\n",
       "      <td>0.77</td>\n",
       "      <td>NaN</td>\n",
       "      <td>NaN</td>\n",
       "      <td>NaN</td>\n",
       "    </tr>\n",
       "    <tr>\n",
       "      <th>2</th>\n",
       "      <td>Mario Kart Wii</td>\n",
       "      <td>Wii</td>\n",
       "      <td>2008.0</td>\n",
       "      <td>Racing</td>\n",
       "      <td>15.68</td>\n",
       "      <td>12.76</td>\n",
       "      <td>3.79</td>\n",
       "      <td>3.29</td>\n",
       "      <td>82.0</td>\n",
       "      <td>8.3</td>\n",
       "      <td>E</td>\n",
       "    </tr>\n",
       "    <tr>\n",
       "      <th>3</th>\n",
       "      <td>Wii Sports Resort</td>\n",
       "      <td>Wii</td>\n",
       "      <td>2009.0</td>\n",
       "      <td>Sports</td>\n",
       "      <td>15.61</td>\n",
       "      <td>10.93</td>\n",
       "      <td>3.28</td>\n",
       "      <td>2.95</td>\n",
       "      <td>80.0</td>\n",
       "      <td>8</td>\n",
       "      <td>E</td>\n",
       "    </tr>\n",
       "    <tr>\n",
       "      <th>4</th>\n",
       "      <td>Pokemon Red/Pokemon Blue</td>\n",
       "      <td>GB</td>\n",
       "      <td>1996.0</td>\n",
       "      <td>Role-Playing</td>\n",
       "      <td>11.27</td>\n",
       "      <td>8.89</td>\n",
       "      <td>10.22</td>\n",
       "      <td>1.00</td>\n",
       "      <td>NaN</td>\n",
       "      <td>NaN</td>\n",
       "      <td>NaN</td>\n",
       "    </tr>\n",
       "    <tr>\n",
       "      <th>5</th>\n",
       "      <td>Tetris</td>\n",
       "      <td>GB</td>\n",
       "      <td>1989.0</td>\n",
       "      <td>Puzzle</td>\n",
       "      <td>23.20</td>\n",
       "      <td>2.26</td>\n",
       "      <td>4.22</td>\n",
       "      <td>0.58</td>\n",
       "      <td>NaN</td>\n",
       "      <td>NaN</td>\n",
       "      <td>NaN</td>\n",
       "    </tr>\n",
       "    <tr>\n",
       "      <th>6</th>\n",
       "      <td>New Super Mario Bros.</td>\n",
       "      <td>DS</td>\n",
       "      <td>2006.0</td>\n",
       "      <td>Platform</td>\n",
       "      <td>11.28</td>\n",
       "      <td>9.14</td>\n",
       "      <td>6.50</td>\n",
       "      <td>2.88</td>\n",
       "      <td>89.0</td>\n",
       "      <td>8.5</td>\n",
       "      <td>E</td>\n",
       "    </tr>\n",
       "    <tr>\n",
       "      <th>7</th>\n",
       "      <td>Wii Play</td>\n",
       "      <td>Wii</td>\n",
       "      <td>2006.0</td>\n",
       "      <td>Misc</td>\n",
       "      <td>13.96</td>\n",
       "      <td>9.18</td>\n",
       "      <td>2.93</td>\n",
       "      <td>2.84</td>\n",
       "      <td>58.0</td>\n",
       "      <td>6.6</td>\n",
       "      <td>E</td>\n",
       "    </tr>\n",
       "    <tr>\n",
       "      <th>8</th>\n",
       "      <td>New Super Mario Bros. Wii</td>\n",
       "      <td>Wii</td>\n",
       "      <td>2009.0</td>\n",
       "      <td>Platform</td>\n",
       "      <td>14.44</td>\n",
       "      <td>6.94</td>\n",
       "      <td>4.70</td>\n",
       "      <td>2.24</td>\n",
       "      <td>87.0</td>\n",
       "      <td>8.4</td>\n",
       "      <td>E</td>\n",
       "    </tr>\n",
       "    <tr>\n",
       "      <th>9</th>\n",
       "      <td>Duck Hunt</td>\n",
       "      <td>NES</td>\n",
       "      <td>1984.0</td>\n",
       "      <td>Shooter</td>\n",
       "      <td>26.93</td>\n",
       "      <td>0.63</td>\n",
       "      <td>0.28</td>\n",
       "      <td>0.47</td>\n",
       "      <td>NaN</td>\n",
       "      <td>NaN</td>\n",
       "      <td>NaN</td>\n",
       "    </tr>\n",
       "  </tbody>\n",
       "</table>\n",
       "</div>"
      ],
      "text/plain": [
       "                        Name Platform  Year_of_Release         Genre  \\\n",
       "0                 Wii Sports      Wii           2006.0        Sports   \n",
       "1          Super Mario Bros.      NES           1985.0      Platform   \n",
       "2             Mario Kart Wii      Wii           2008.0        Racing   \n",
       "3          Wii Sports Resort      Wii           2009.0        Sports   \n",
       "4   Pokemon Red/Pokemon Blue       GB           1996.0  Role-Playing   \n",
       "5                     Tetris       GB           1989.0        Puzzle   \n",
       "6      New Super Mario Bros.       DS           2006.0      Platform   \n",
       "7                   Wii Play      Wii           2006.0          Misc   \n",
       "8  New Super Mario Bros. Wii      Wii           2009.0      Platform   \n",
       "9                  Duck Hunt      NES           1984.0       Shooter   \n",
       "\n",
       "   NA_sales  EU_sales  JP_sales  Other_sales  Critic_Score User_Score Rating  \n",
       "0     41.36     28.96      3.77         8.45          76.0          8      E  \n",
       "1     29.08      3.58      6.81         0.77           NaN        NaN    NaN  \n",
       "2     15.68     12.76      3.79         3.29          82.0        8.3      E  \n",
       "3     15.61     10.93      3.28         2.95          80.0          8      E  \n",
       "4     11.27      8.89     10.22         1.00           NaN        NaN    NaN  \n",
       "5     23.20      2.26      4.22         0.58           NaN        NaN    NaN  \n",
       "6     11.28      9.14      6.50         2.88          89.0        8.5      E  \n",
       "7     13.96      9.18      2.93         2.84          58.0        6.6      E  \n",
       "8     14.44      6.94      4.70         2.24          87.0        8.4      E  \n",
       "9     26.93      0.63      0.28         0.47           NaN        NaN    NaN  "
      ]
     },
     "execution_count": 2,
     "metadata": {},
     "output_type": "execute_result"
    }
   ],
   "source": [
    "data = pd.read_csv('/datasets/games.csv')\n",
    "data.head(10)"
   ]
  },
  {
   "cell_type": "code",
   "execution_count": 3,
   "metadata": {},
   "outputs": [
    {
     "name": "stdout",
     "output_type": "stream",
     "text": [
      "<class 'pandas.core.frame.DataFrame'>\n",
      "RangeIndex: 16715 entries, 0 to 16714\n",
      "Data columns (total 11 columns):\n",
      " #   Column           Non-Null Count  Dtype  \n",
      "---  ------           --------------  -----  \n",
      " 0   Name             16713 non-null  object \n",
      " 1   Platform         16715 non-null  object \n",
      " 2   Year_of_Release  16446 non-null  float64\n",
      " 3   Genre            16713 non-null  object \n",
      " 4   NA_sales         16715 non-null  float64\n",
      " 5   EU_sales         16715 non-null  float64\n",
      " 6   JP_sales         16715 non-null  float64\n",
      " 7   Other_sales      16715 non-null  float64\n",
      " 8   Critic_Score     8137 non-null   float64\n",
      " 9   User_Score       10014 non-null  object \n",
      " 10  Rating           9949 non-null   object \n",
      "dtypes: float64(6), object(5)\n",
      "memory usage: 1.4+ MB\n"
     ]
    }
   ],
   "source": [
    "data.info()\n"
   ]
  },
  {
   "cell_type": "code",
   "execution_count": 4,
   "metadata": {},
   "outputs": [
    {
     "data": {
      "text/plain": [
       "Name                  2\n",
       "Platform              0\n",
       "Year_of_Release     269\n",
       "Genre                 2\n",
       "NA_sales              0\n",
       "EU_sales              0\n",
       "JP_sales              0\n",
       "Other_sales           0\n",
       "Critic_Score       8578\n",
       "User_Score         6701\n",
       "Rating             6766\n",
       "dtype: int64"
      ]
     },
     "execution_count": 4,
     "metadata": {},
     "output_type": "execute_result"
    }
   ],
   "source": [
    "data.isna().sum()"
   ]
  },
  {
   "cell_type": "markdown",
   "metadata": {},
   "source": [
    "**Вывод:** В целом названия столбцов указанны корректно, но нужно привести названия столбцов к одному регистру. Видно, что есть пропуск в столбцах, далее разберемся с ними. Есть несоответствия с типами данных для столбцов Year_of_Release, User_Score. Проверим есть ли дубликат.\n"
   ]
  },
  {
   "cell_type": "markdown",
   "metadata": {},
   "source": [
    "## Подготовка данных"
   ]
  },
  {
   "cell_type": "markdown",
   "metadata": {},
   "source": [
    "### Заменим названия столбцов и приведем к нижнему регистру"
   ]
  },
  {
   "cell_type": "code",
   "execution_count": 5,
   "metadata": {},
   "outputs": [
    {
     "data": {
      "text/html": [
       "<div>\n",
       "<style scoped>\n",
       "    .dataframe tbody tr th:only-of-type {\n",
       "        vertical-align: middle;\n",
       "    }\n",
       "\n",
       "    .dataframe tbody tr th {\n",
       "        vertical-align: top;\n",
       "    }\n",
       "\n",
       "    .dataframe thead th {\n",
       "        text-align: right;\n",
       "    }\n",
       "</style>\n",
       "<table border=\"1\" class=\"dataframe\">\n",
       "  <thead>\n",
       "    <tr style=\"text-align: right;\">\n",
       "      <th></th>\n",
       "      <th>name</th>\n",
       "      <th>platform</th>\n",
       "      <th>year_of_release</th>\n",
       "      <th>genre</th>\n",
       "      <th>na_sales</th>\n",
       "      <th>eu_sales</th>\n",
       "      <th>jp_sales</th>\n",
       "      <th>other_sales</th>\n",
       "      <th>critic_score</th>\n",
       "      <th>user_score</th>\n",
       "      <th>rating</th>\n",
       "    </tr>\n",
       "  </thead>\n",
       "  <tbody>\n",
       "    <tr>\n",
       "      <th>0</th>\n",
       "      <td>Wii Sports</td>\n",
       "      <td>Wii</td>\n",
       "      <td>2006.0</td>\n",
       "      <td>Sports</td>\n",
       "      <td>41.36</td>\n",
       "      <td>28.96</td>\n",
       "      <td>3.77</td>\n",
       "      <td>8.45</td>\n",
       "      <td>76.0</td>\n",
       "      <td>8</td>\n",
       "      <td>E</td>\n",
       "    </tr>\n",
       "    <tr>\n",
       "      <th>1</th>\n",
       "      <td>Super Mario Bros.</td>\n",
       "      <td>NES</td>\n",
       "      <td>1985.0</td>\n",
       "      <td>Platform</td>\n",
       "      <td>29.08</td>\n",
       "      <td>3.58</td>\n",
       "      <td>6.81</td>\n",
       "      <td>0.77</td>\n",
       "      <td>NaN</td>\n",
       "      <td>NaN</td>\n",
       "      <td>NaN</td>\n",
       "    </tr>\n",
       "    <tr>\n",
       "      <th>2</th>\n",
       "      <td>Mario Kart Wii</td>\n",
       "      <td>Wii</td>\n",
       "      <td>2008.0</td>\n",
       "      <td>Racing</td>\n",
       "      <td>15.68</td>\n",
       "      <td>12.76</td>\n",
       "      <td>3.79</td>\n",
       "      <td>3.29</td>\n",
       "      <td>82.0</td>\n",
       "      <td>8.3</td>\n",
       "      <td>E</td>\n",
       "    </tr>\n",
       "    <tr>\n",
       "      <th>3</th>\n",
       "      <td>Wii Sports Resort</td>\n",
       "      <td>Wii</td>\n",
       "      <td>2009.0</td>\n",
       "      <td>Sports</td>\n",
       "      <td>15.61</td>\n",
       "      <td>10.93</td>\n",
       "      <td>3.28</td>\n",
       "      <td>2.95</td>\n",
       "      <td>80.0</td>\n",
       "      <td>8</td>\n",
       "      <td>E</td>\n",
       "    </tr>\n",
       "    <tr>\n",
       "      <th>4</th>\n",
       "      <td>Pokemon Red/Pokemon Blue</td>\n",
       "      <td>GB</td>\n",
       "      <td>1996.0</td>\n",
       "      <td>Role-Playing</td>\n",
       "      <td>11.27</td>\n",
       "      <td>8.89</td>\n",
       "      <td>10.22</td>\n",
       "      <td>1.00</td>\n",
       "      <td>NaN</td>\n",
       "      <td>NaN</td>\n",
       "      <td>NaN</td>\n",
       "    </tr>\n",
       "  </tbody>\n",
       "</table>\n",
       "</div>"
      ],
      "text/plain": [
       "                       name platform  year_of_release         genre  na_sales  \\\n",
       "0                Wii Sports      Wii           2006.0        Sports     41.36   \n",
       "1         Super Mario Bros.      NES           1985.0      Platform     29.08   \n",
       "2            Mario Kart Wii      Wii           2008.0        Racing     15.68   \n",
       "3         Wii Sports Resort      Wii           2009.0        Sports     15.61   \n",
       "4  Pokemon Red/Pokemon Blue       GB           1996.0  Role-Playing     11.27   \n",
       "\n",
       "   eu_sales  jp_sales  other_sales  critic_score user_score rating  \n",
       "0     28.96      3.77         8.45          76.0          8      E  \n",
       "1      3.58      6.81         0.77           NaN        NaN    NaN  \n",
       "2     12.76      3.79         3.29          82.0        8.3      E  \n",
       "3     10.93      3.28         2.95          80.0          8      E  \n",
       "4      8.89     10.22         1.00           NaN        NaN    NaN  "
      ]
     },
     "execution_count": 5,
     "metadata": {},
     "output_type": "execute_result"
    }
   ],
   "source": [
    "data.columns = data.columns.str.lower()\n",
    "data.head()"
   ]
  },
  {
   "cell_type": "markdown",
   "metadata": {},
   "source": [
    "### Изучим пропущенные значения"
   ]
  },
  {
   "cell_type": "markdown",
   "metadata": {},
   "source": [
    "#### Столбцы name,  year_of_release, genre."
   ]
  },
  {
   "cell_type": "markdown",
   "metadata": {},
   "source": [
    "Эти столбцы имеют небольшое кол-во пропусков. Думаю тут дело в человеческом факторе, просто данные были не внесены. Если мы удалим строки с пропущенными значениями, это не должно повлиять на конечный результат."
   ]
  },
  {
   "cell_type": "code",
   "execution_count": 6,
   "metadata": {},
   "outputs": [
    {
     "name": "stdout",
     "output_type": "stream",
     "text": [
      "<class 'pandas.core.frame.DataFrame'>\n",
      "Int64Index: 16444 entries, 0 to 16714\n",
      "Data columns (total 11 columns):\n",
      " #   Column           Non-Null Count  Dtype  \n",
      "---  ------           --------------  -----  \n",
      " 0   name             16444 non-null  object \n",
      " 1   platform         16444 non-null  object \n",
      " 2   year_of_release  16444 non-null  float64\n",
      " 3   genre            16444 non-null  object \n",
      " 4   na_sales         16444 non-null  float64\n",
      " 5   eu_sales         16444 non-null  float64\n",
      " 6   jp_sales         16444 non-null  float64\n",
      " 7   other_sales      16444 non-null  float64\n",
      " 8   critic_score     7983 non-null   float64\n",
      " 9   user_score       9839 non-null   object \n",
      " 10  rating           9768 non-null   object \n",
      "dtypes: float64(6), object(5)\n",
      "memory usage: 1.5+ MB\n"
     ]
    }
   ],
   "source": [
    "data.dropna(subset=['name','year_of_release', 'genre'], inplace=True)\n",
    "data.info()"
   ]
  },
  {
   "cell_type": "code",
   "execution_count": null,
   "metadata": {},
   "outputs": [],
   "source": []
  },
  {
   "cell_type": "markdown",
   "metadata": {},
   "source": [
    "#### Столбцы critic_score,\tuser_score,\trating ."
   ]
  },
  {
   "cell_type": "code",
   "execution_count": 7,
   "metadata": {},
   "outputs": [
    {
     "data": {
      "text/plain": [
       "array([76., nan, 82., 80., 89., 58., 87., 91., 61., 97., 95., 77., 88.,\n",
       "       83., 94., 93., 85., 86., 98., 96., 90., 84., 73., 74., 78., 92.,\n",
       "       71., 72., 68., 62., 49., 67., 81., 66., 56., 79., 70., 59., 64.,\n",
       "       75., 60., 63., 69., 50., 25., 42., 44., 55., 48., 57., 29., 47.,\n",
       "       65., 54., 20., 53., 37., 38., 33., 52., 30., 32., 43., 45., 51.,\n",
       "       40., 46., 39., 34., 41., 36., 31., 27., 35., 26., 19., 28., 23.,\n",
       "       24., 21., 17., 13.])"
      ]
     },
     "execution_count": 7,
     "metadata": {},
     "output_type": "execute_result"
    }
   ],
   "source": [
    "data['critic_score'].unique()"
   ]
  },
  {
   "cell_type": "code",
   "execution_count": 8,
   "metadata": {},
   "outputs": [
    {
     "data": {
      "text/plain": [
       "array(['8', nan, '8.3', '8.5', '6.6', '8.4', '8.6', '7.7', '6.3', '7.4',\n",
       "       '8.2', '9', '7.9', '8.1', '8.7', '7.1', '3.4', '5.3', '4.8', '3.2',\n",
       "       '8.9', '6.4', '7.8', '7.5', '2.6', '7.2', '9.2', '7', '7.3', '4.3',\n",
       "       '7.6', '5.7', '5', '9.1', '6.5', 'tbd', '8.8', '6.9', '9.4', '6.8',\n",
       "       '6.1', '6.7', '5.4', '4', '4.9', '4.5', '9.3', '6.2', '4.2', '6',\n",
       "       '3.7', '4.1', '5.8', '5.6', '5.5', '4.4', '4.6', '5.9', '3.9',\n",
       "       '3.1', '2.9', '5.2', '3.3', '4.7', '5.1', '3.5', '2.5', '1.9', '3',\n",
       "       '2.7', '2.2', '2', '9.5', '2.1', '3.6', '2.8', '1.8', '3.8', '0',\n",
       "       '1.6', '9.6', '2.4', '1.7', '1.1', '0.3', '1.5', '0.7', '1.2',\n",
       "       '2.3', '0.5', '1.3', '0.2', '0.6', '1.4', '0.9', '1', '9.7'],\n",
       "      dtype=object)"
      ]
     },
     "execution_count": 8,
     "metadata": {},
     "output_type": "execute_result"
    }
   ],
   "source": [
    "data['user_score'].unique()"
   ]
  },
  {
   "cell_type": "code",
   "execution_count": 9,
   "metadata": {},
   "outputs": [
    {
     "data": {
      "text/plain": [
       "array(['E', nan, 'M', 'T', 'E10+', 'K-A', 'AO', 'EC', 'RP'], dtype=object)"
      ]
     },
     "execution_count": 9,
     "metadata": {},
     "output_type": "execute_result"
    }
   ],
   "source": [
    "data['rating'].unique()"
   ]
  },
  {
   "cell_type": "markdown",
   "metadata": {},
   "source": [
    "**Вывод:** По некоторым играм рейтинга нет. Это может быть потому, что эти игры вышли недавно, или рейтинговое агентство просто не рассматривало эти игры ввиду их непопулярности или по другим причинам. Либо еще отсутствуют данные по одному из значений. Так же это может быть ошибка при слиянии двух таблиц. Мое мнение, что заполнять их медианным значением или средним не стоит, по причине того, что их очень много и это может привести к искажению исследования.Заменим в critic_score, user_score все nan - нулями. А в rating заменим nan на пропуск."
   ]
  },
  {
   "cell_type": "code",
   "execution_count": 10,
   "metadata": {},
   "outputs": [],
   "source": [
    "data['critic_score'] = data['critic_score'].fillna(0)\n",
    "data['user_score'] = data['user_score'].fillna(0)\n",
    "data['rating'] = data['rating'].fillna(value='')"
   ]
  },
  {
   "cell_type": "markdown",
   "metadata": {},
   "source": [
    "В столбце 'user_score' заменим tbd предпологаю это \"to be detirmined\", следовательно по факту это тоже не заполненные строки. Заменим их на ноль."
   ]
  },
  {
   "cell_type": "code",
   "execution_count": 11,
   "metadata": {},
   "outputs": [],
   "source": [
    "data.loc[data['user_score'] == 'tbd', 'user_score']=0\n",
    "#data['user_score'].unique()\n",
    "                        "
   ]
  },
  {
   "cell_type": "code",
   "execution_count": 12,
   "metadata": {},
   "outputs": [
    {
     "data": {
      "text/html": [
       "<div>\n",
       "<style scoped>\n",
       "    .dataframe tbody tr th:only-of-type {\n",
       "        vertical-align: middle;\n",
       "    }\n",
       "\n",
       "    .dataframe tbody tr th {\n",
       "        vertical-align: top;\n",
       "    }\n",
       "\n",
       "    .dataframe thead th {\n",
       "        text-align: right;\n",
       "    }\n",
       "</style>\n",
       "<table border=\"1\" class=\"dataframe\">\n",
       "  <thead>\n",
       "    <tr style=\"text-align: right;\">\n",
       "      <th></th>\n",
       "      <th>name</th>\n",
       "      <th>platform</th>\n",
       "      <th>year_of_release</th>\n",
       "      <th>genre</th>\n",
       "      <th>na_sales</th>\n",
       "      <th>eu_sales</th>\n",
       "      <th>jp_sales</th>\n",
       "      <th>other_sales</th>\n",
       "      <th>critic_score</th>\n",
       "      <th>user_score</th>\n",
       "      <th>rating</th>\n",
       "    </tr>\n",
       "  </thead>\n",
       "  <tbody>\n",
       "    <tr>\n",
       "      <th>0</th>\n",
       "      <td>Wii Sports</td>\n",
       "      <td>Wii</td>\n",
       "      <td>2006.0</td>\n",
       "      <td>Sports</td>\n",
       "      <td>41.36</td>\n",
       "      <td>28.96</td>\n",
       "      <td>3.77</td>\n",
       "      <td>8.45</td>\n",
       "      <td>76.0</td>\n",
       "      <td>8</td>\n",
       "      <td>E</td>\n",
       "    </tr>\n",
       "    <tr>\n",
       "      <th>1</th>\n",
       "      <td>Super Mario Bros.</td>\n",
       "      <td>NES</td>\n",
       "      <td>1985.0</td>\n",
       "      <td>Platform</td>\n",
       "      <td>29.08</td>\n",
       "      <td>3.58</td>\n",
       "      <td>6.81</td>\n",
       "      <td>0.77</td>\n",
       "      <td>0.0</td>\n",
       "      <td>0</td>\n",
       "      <td></td>\n",
       "    </tr>\n",
       "    <tr>\n",
       "      <th>2</th>\n",
       "      <td>Mario Kart Wii</td>\n",
       "      <td>Wii</td>\n",
       "      <td>2008.0</td>\n",
       "      <td>Racing</td>\n",
       "      <td>15.68</td>\n",
       "      <td>12.76</td>\n",
       "      <td>3.79</td>\n",
       "      <td>3.29</td>\n",
       "      <td>82.0</td>\n",
       "      <td>8.3</td>\n",
       "      <td>E</td>\n",
       "    </tr>\n",
       "    <tr>\n",
       "      <th>3</th>\n",
       "      <td>Wii Sports Resort</td>\n",
       "      <td>Wii</td>\n",
       "      <td>2009.0</td>\n",
       "      <td>Sports</td>\n",
       "      <td>15.61</td>\n",
       "      <td>10.93</td>\n",
       "      <td>3.28</td>\n",
       "      <td>2.95</td>\n",
       "      <td>80.0</td>\n",
       "      <td>8</td>\n",
       "      <td>E</td>\n",
       "    </tr>\n",
       "    <tr>\n",
       "      <th>4</th>\n",
       "      <td>Pokemon Red/Pokemon Blue</td>\n",
       "      <td>GB</td>\n",
       "      <td>1996.0</td>\n",
       "      <td>Role-Playing</td>\n",
       "      <td>11.27</td>\n",
       "      <td>8.89</td>\n",
       "      <td>10.22</td>\n",
       "      <td>1.00</td>\n",
       "      <td>0.0</td>\n",
       "      <td>0</td>\n",
       "      <td></td>\n",
       "    </tr>\n",
       "  </tbody>\n",
       "</table>\n",
       "</div>"
      ],
      "text/plain": [
       "                       name platform  year_of_release         genre  na_sales  \\\n",
       "0                Wii Sports      Wii           2006.0        Sports     41.36   \n",
       "1         Super Mario Bros.      NES           1985.0      Platform     29.08   \n",
       "2            Mario Kart Wii      Wii           2008.0        Racing     15.68   \n",
       "3         Wii Sports Resort      Wii           2009.0        Sports     15.61   \n",
       "4  Pokemon Red/Pokemon Blue       GB           1996.0  Role-Playing     11.27   \n",
       "\n",
       "   eu_sales  jp_sales  other_sales  critic_score user_score rating  \n",
       "0     28.96      3.77         8.45          76.0          8      E  \n",
       "1      3.58      6.81         0.77           0.0          0         \n",
       "2     12.76      3.79         3.29          82.0        8.3      E  \n",
       "3     10.93      3.28         2.95          80.0          8      E  \n",
       "4      8.89     10.22         1.00           0.0          0         "
      ]
     },
     "execution_count": 12,
     "metadata": {},
     "output_type": "execute_result"
    }
   ],
   "source": [
    "data.head()"
   ]
  },
  {
   "cell_type": "markdown",
   "metadata": {},
   "source": [
    "### Преобразуем типы данных в нужные."
   ]
  },
  {
   "cell_type": "code",
   "execution_count": 13,
   "metadata": {},
   "outputs": [
    {
     "name": "stdout",
     "output_type": "stream",
     "text": [
      "<class 'pandas.core.frame.DataFrame'>\n",
      "Int64Index: 16444 entries, 0 to 16714\n",
      "Data columns (total 11 columns):\n",
      " #   Column           Non-Null Count  Dtype  \n",
      "---  ------           --------------  -----  \n",
      " 0   name             16444 non-null  object \n",
      " 1   platform         16444 non-null  object \n",
      " 2   year_of_release  16444 non-null  int64  \n",
      " 3   genre            16444 non-null  object \n",
      " 4   na_sales         16444 non-null  float64\n",
      " 5   eu_sales         16444 non-null  float64\n",
      " 6   jp_sales         16444 non-null  float64\n",
      " 7   other_sales      16444 non-null  float64\n",
      " 8   critic_score     16444 non-null  float64\n",
      " 9   user_score       16444 non-null  float64\n",
      " 10  rating           16444 non-null  object \n",
      "dtypes: float64(6), int64(1), object(4)\n",
      "memory usage: 1.5+ MB\n"
     ]
    }
   ],
   "source": [
    "data['user_score'] = data.user_score.astype('float64')\n",
    "data['year_of_release'] = data.year_of_release.astype('int64')\n",
    "data.info()\n"
   ]
  },
  {
   "cell_type": "markdown",
   "metadata": {},
   "source": [
    "### Проверим наш датафрейи на дубликаты"
   ]
  },
  {
   "cell_type": "code",
   "execution_count": 14,
   "metadata": {},
   "outputs": [
    {
     "data": {
      "text/plain": [
       "0"
      ]
     },
     "execution_count": 14,
     "metadata": {},
     "output_type": "execute_result"
    }
   ],
   "source": [
    "data.duplicated().sum()"
   ]
  },
  {
   "cell_type": "markdown",
   "metadata": {},
   "source": [
    "Дубликаты не обнаружены."
   ]
  },
  {
   "cell_type": "markdown",
   "metadata": {},
   "source": [
    "### Посчитаем суммарные продажи во всех регионах и запишем их в отдельный столбец."
   ]
  },
  {
   "cell_type": "code",
   "execution_count": 15,
   "metadata": {},
   "outputs": [],
   "source": [
    "data['sales'] = data['na_sales'] + data['eu_sales'] + data['jp_sales'] + data['other_sales']\n",
    "#data.head()"
   ]
  },
  {
   "cell_type": "markdown",
   "metadata": {},
   "source": [
    "**Вывод:** Мы изучили датафрейм, удалили строки с незаполненными данными в столбцах name, year_of_release, genre. Обнаружили пропуски в столбцах critic_score, user_score и заменили их на ноль. В столбце 'user_score' заменили tbd на ноль. В столбце rating заменили пропущенные значения на пропуск. Заменили типы данных для user_score и year_of_release. Так же мы проверили данные на дубликаты, и вычислили суммарные продажи во всех регионах."
   ]
  },
  {
   "cell_type": "markdown",
   "metadata": {},
   "source": [
    "## Исследовательский анализ данных"
   ]
  },
  {
   "cell_type": "markdown",
   "metadata": {},
   "source": [
    "### Посмотрим, сколько игр выпускалось в разные годы. "
   ]
  },
  {
   "cell_type": "code",
   "execution_count": 16,
   "metadata": {},
   "outputs": [
    {
     "data": {
      "text/plain": [
       "year_of_release\n",
       "1980       9\n",
       "1981      46\n",
       "1982      36\n",
       "1983      17\n",
       "1984      14\n",
       "1985      14\n",
       "1986      21\n",
       "1987      16\n",
       "1988      15\n",
       "1989      17\n",
       "1990      16\n",
       "1991      41\n",
       "1992      43\n",
       "1993      60\n",
       "1994     121\n",
       "1995     219\n",
       "1996     263\n",
       "1997     289\n",
       "1998     379\n",
       "1999     338\n",
       "2000     350\n",
       "2001     482\n",
       "2002     829\n",
       "2003     775\n",
       "2004     762\n",
       "2005     939\n",
       "2006    1006\n",
       "2007    1197\n",
       "2008    1427\n",
       "2009    1426\n",
       "2010    1255\n",
       "2011    1136\n",
       "2012     653\n",
       "2013     544\n",
       "2014     581\n",
       "2015     606\n",
       "2016     502\n",
       "Name: name, dtype: int64"
      ]
     },
     "execution_count": 16,
     "metadata": {},
     "output_type": "execute_result"
    }
   ],
   "source": [
    "group_years =data.groupby('year_of_release')['name'].count() # сгрупируем сколько игр выходило в конкретный год.\n",
    "group_years"
   ]
  },
  {
   "cell_type": "code",
   "execution_count": 17,
   "metadata": {},
   "outputs": [
    {
     "data": {
      "text/plain": [
       "<function matplotlib.pyplot.show(close=None, block=None)>"
      ]
     },
     "execution_count": 17,
     "metadata": {},
     "output_type": "execute_result"
    },
    {
     "data": {
      "image/png": "[encoded data removed]",
      "text/plain": [
       "<Figure size 720x360 with 1 Axes>"
      ]
     },
     "metadata": {
      "needs_background": "light"
     },
     "output_type": "display_data"
    }
   ],
   "source": [
    "# для визуализации постороим график\n",
    "group_years.plot (x='year_of_release',kind='bar', figsize=(10,5), grid=True )\n",
    "plt.title(\"Кол-во выпущеных игр по годам\")\n",
    "plt.xlabel(\"Год выпуска\")\n",
    "plt.ylabel(\"Кол-во игр\")\n",
    "plt.show\n"
   ]
  },
  {
   "cell_type": "code",
   "execution_count": 18,
   "metadata": {},
   "outputs": [],
   "source": [
    "#data['year_of_release'].hist(bins =30)\n",
    "#plt.show()"
   ]
  },
  {
   "cell_type": "markdown",
   "metadata": {},
   "source": [
    "**Вывод:** Из графика видно, что кол-во выпущенных игор начали увеличиваться с 1994 г. До этого времени, кол-во игр было незначительное."
   ]
  },
  {
   "cell_type": "markdown",
   "metadata": {},
   "source": [
    "### Посмотрим, как менялись продажи по платформам."
   ]
  },
  {
   "cell_type": "code",
   "execution_count": 19,
   "metadata": {},
   "outputs": [],
   "source": [
    "group_platform= data.pivot_table(index='platform', values='sales', aggfunc='sum')\n",
    "#group_platform.sort_values(by='sales', ascending=False) # отсортируем кол-во продаж для платформ, по убыванию.\n"
   ]
  },
  {
   "cell_type": "code",
   "execution_count": 20,
   "metadata": {},
   "outputs": [
    {
     "data": {
      "text/plain": [
       "<function matplotlib.pyplot.show(close=None, block=None)>"
      ]
     },
     "execution_count": 20,
     "metadata": {},
     "output_type": "execute_result"
    },
    {
     "data": {
      "image/png": "[encoded data removed]",
      "text/plain": [
       "<Figure size 720x360 with 1 Axes>"
      ]
     },
     "metadata": {
      "needs_background": "light"
     },
     "output_type": "display_data"
    }
   ],
   "source": [
    "group_platform.sort_values(by='sales', ascending=False).plot(grid=True, kind='bar',figsize=(10, 5))\n",
    "plt.title(\"Кол-во проадаж для разных платформ\")\n",
    "\n",
    "plt.ylabel(\"Кол-во продаж\")\n",
    "plt.show"
   ]
  },
  {
   "cell_type": "markdown",
   "metadata": {},
   "source": [
    "**Вывод:** Наиболее популярные платформы: PS2, X360, PS3, Wii, DS,PS"
   ]
  },
  {
   "cell_type": "markdown",
   "metadata": {},
   "source": [
    "Рассмотрим распределение по годам для самых популярных платформ. и изучим за какой характерный срок появляются новые и исчезают старые платформы"
   ]
  },
  {
   "cell_type": "code",
   "execution_count": 21,
   "metadata": {},
   "outputs": [
    {
     "data": {
      "text/plain": [
       "<AxesSubplot:xlabel='year_of_release'>"
      ]
     },
     "execution_count": 21,
     "metadata": {},
     "output_type": "execute_result"
    },
    {
     "data": {
      "image/png": "[encoded data removed]",
      "text/plain": [
       "<Figure size 720x360 with 1 Axes>"
      ]
     },
     "metadata": {
      "needs_background": "light"
     },
     "output_type": "display_data"
    }
   ],
   "source": [
    "(data.query('platform==\"PS2\" and year_of_release>=1994')\n",
    ".pivot_table(index='year_of_release', values='sales', aggfunc='sum')\n",
    ".plot(kind='bar', figsize=(10,5), grid=True ))\n",
    " "
   ]
  },
  {
   "cell_type": "markdown",
   "metadata": {},
   "source": [
    "Продажи для PS2 просуществовали 12 лет."
   ]
  },
  {
   "cell_type": "code",
   "execution_count": 22,
   "metadata": {},
   "outputs": [
    {
     "data": {
      "text/plain": [
       "<AxesSubplot:xlabel='year_of_release'>"
      ]
     },
     "execution_count": 22,
     "metadata": {},
     "output_type": "execute_result"
    },
    {
     "data": {
      "image/png": "[encoded data removed]",
      "text/plain": [
       "<Figure size 720x360 with 1 Axes>"
      ]
     },
     "metadata": {
      "needs_background": "light"
     },
     "output_type": "display_data"
    }
   ],
   "source": [
    "(data.query('platform==\"X360\" and year_of_release>=1994')\n",
    ".pivot_table(index='year_of_release', values='sales', aggfunc='sum')\n",
    ".plot(kind='bar', figsize=(10,5), grid=True ))"
   ]
  },
  {
   "cell_type": "markdown",
   "metadata": {},
   "source": [
    "Продажи для X360 просуществовали 12 лет."
   ]
  },
  {
   "cell_type": "code",
   "execution_count": 23,
   "metadata": {},
   "outputs": [
    {
     "data": {
      "text/plain": [
       "<AxesSubplot:xlabel='year_of_release'>"
      ]
     },
     "execution_count": 23,
     "metadata": {},
     "output_type": "execute_result"
    },
    {
     "data": {
      "image/png": "[encoded data removed]",
      "text/plain": [
       "<Figure size 720x360 with 1 Axes>"
      ]
     },
     "metadata": {
      "needs_background": "light"
     },
     "output_type": "display_data"
    }
   ],
   "source": [
    "(data.query('platform==\"PS3\" and year_of_release>=1994')\n",
    ".pivot_table(index='year_of_release', values='sales', aggfunc='sum')\n",
    ".plot(kind='bar', figsize=(10,5), grid=True ))"
   ]
  },
  {
   "cell_type": "markdown",
   "metadata": {},
   "source": [
    "Продажи для PS2 просуществовали 11 лет."
   ]
  },
  {
   "cell_type": "code",
   "execution_count": 24,
   "metadata": {},
   "outputs": [
    {
     "data": {
      "text/plain": [
       "<AxesSubplot:xlabel='year_of_release'>"
      ]
     },
     "execution_count": 24,
     "metadata": {},
     "output_type": "execute_result"
    },
    {
     "data": {
      "image/png": "[encoded data removed]",
      "text/plain": [
       "<Figure size 720x360 with 1 Axes>"
      ]
     },
     "metadata": {
      "needs_background": "light"
     },
     "output_type": "display_data"
    }
   ],
   "source": [
    "(data.query('platform==\"Wii\" and year_of_release>=1994')\n",
    ".pivot_table(index='year_of_release', values='sales', aggfunc='sum')\n",
    ".plot(kind='bar', figsize=(10,5), grid=True ))"
   ]
  },
  {
   "cell_type": "markdown",
   "metadata": {},
   "source": [
    "Продажи для Wii просуществовали 11 лет."
   ]
  },
  {
   "cell_type": "code",
   "execution_count": 25,
   "metadata": {},
   "outputs": [
    {
     "data": {
      "text/plain": [
       "<AxesSubplot:xlabel='year_of_release'>"
      ]
     },
     "execution_count": 25,
     "metadata": {},
     "output_type": "execute_result"
    },
    {
     "data": {
      "image/png": "[encoded data removed]",
      "text/plain": [
       "<Figure size 720x360 with 1 Axes>"
      ]
     },
     "metadata": {
      "needs_background": "light"
     },
     "output_type": "display_data"
    }
   ],
   "source": [
    "(data.query('platform==\"DS\" and year_of_release>=1994')\n",
    ".pivot_table(index='year_of_release', values='sales', aggfunc='sum')\n",
    ".plot(kind='bar', figsize=(10,5), grid=True ))"
   ]
  },
  {
   "cell_type": "markdown",
   "metadata": {},
   "source": [
    "Продажи для Wii просуществовали 10 лет."
   ]
  },
  {
   "cell_type": "code",
   "execution_count": 26,
   "metadata": {},
   "outputs": [
    {
     "data": {
      "text/plain": [
       "<AxesSubplot:xlabel='year_of_release'>"
      ]
     },
     "execution_count": 26,
     "metadata": {},
     "output_type": "execute_result"
    },
    {
     "data": {
      "image/png": "[encoded data removed]",
      "text/plain": [
       "<Figure size 720x360 with 1 Axes>"
      ]
     },
     "metadata": {
      "needs_background": "light"
     },
     "output_type": "display_data"
    }
   ],
   "source": [
    "(data.query('platform==\"PS\" and year_of_release>=1994')\n",
    ".pivot_table(index='year_of_release', values='sales', aggfunc='sum')\n",
    ".plot(kind='bar', figsize=(10,5), grid=True ))"
   ]
  },
  {
   "cell_type": "markdown",
   "metadata": {},
   "source": [
    "Продажи для PS просуществовали 10 лет."
   ]
  },
  {
   "cell_type": "markdown",
   "metadata": {},
   "source": [
    "**Вывод:** За примерно 10-12 лет появляются и исчезаю платформы. Сначала продажи растут, а затем падают. Так же видно, что наибольший пик популярности платформ приходится на 5-6 год продаж. При этом мы видим, что платформы с самыми большими продажами к 2016 уже почти не продаются. Значит есть смысл рассмотреть более перспективные платформы."
   ]
  },
  {
   "cell_type": "markdown",
   "metadata": {},
   "source": [
    "### Составим прогноз на 2017 г. на основе уже изученных данных."
   ]
  },
  {
   "cell_type": "code",
   "execution_count": 27,
   "metadata": {},
   "outputs": [
    {
     "data": {
      "text/plain": [
       "<AxesSubplot:xlabel='year_of_release'>"
      ]
     },
     "execution_count": 27,
     "metadata": {},
     "output_type": "execute_result"
    },
    {
     "data": {
      "image/png": "[encoded data removed]",
      "text/plain": [
       "<Figure size 720x360 with 1 Axes>"
      ]
     },
     "metadata": {
      "needs_background": "light"
     },
     "output_type": "display_data"
    }
   ],
   "source": [
    "(data.pivot_table(index='year_of_release', values='sales', aggfunc='sum')\n",
    ".plot(kind='bar', figsize=(10,5), grid=True ))"
   ]
  },
  {
   "cell_type": "markdown",
   "metadata": {},
   "source": [
    "Т.к мы выяснили, что как правило, наибольшие продажи по консолям выпадают на 5-6 год их существования, а далее продажи по популярным консолям идут на спад, следовательно актуальным периодом, для выбора наиболее перспективных  консолей, будем считать 2011-2016 г. Для оценки перспектив на 2017 г., нужно использовать те платформы, продажи игр на которых в этот период растут."
   ]
  },
  {
   "cell_type": "code",
   "execution_count": 28,
   "metadata": {},
   "outputs": [],
   "source": [
    "per_platform = data.query('platform != [\"PS2\", \"X360\", \"PS3\", \"Wii\", \"DS\",\"PS\"] and year_of_release>=2011')\n",
    "#per_platform"
   ]
  },
  {
   "cell_type": "code",
   "execution_count": 29,
   "metadata": {},
   "outputs": [
    {
     "data": {
      "text/plain": [
       "Text(0, 0.5, 'Кол-во продаж')"
      ]
     },
     "execution_count": 29,
     "metadata": {},
     "output_type": "execute_result"
    },
    {
     "data": {
      "image/png": "[encoded data removed]",
      "text/plain": [
       "<Figure size 432x288 with 1 Axes>"
      ]
     },
     "metadata": {
      "needs_background": "light"
     },
     "output_type": "display_data"
    }
   ],
   "source": [
    "sns.barplot(data = per_platform, x='platform', y='sales')\n",
    "plt.xlabel('Платформа', fontsize=15)\n",
    "plt.ylabel('Кол-во продаж',fontsize=15)\n"
   ]
  },
  {
   "cell_type": "markdown",
   "metadata": {},
   "source": [
    "Наибольшую перспективность я вижу платформах PS4,3DS,XOne,WiiU platform ввиду того, что , как мы видим из график, у них большие продажи за рассматриваемый нами период. Значит в 2017 году ожидаем рост продаж по этим платформам."
   ]
  },
  {
   "cell_type": "code",
   "execution_count": 30,
   "metadata": {},
   "outputs": [
    {
     "data": {
      "text/plain": [
       "<function matplotlib.pyplot.show(close=None, block=None)>"
      ]
     },
     "execution_count": 30,
     "metadata": {},
     "output_type": "execute_result"
    },
    {
     "data": {
      "text/plain": [
       "<Figure size 720x720 with 0 Axes>"
      ]
     },
     "metadata": {},
     "output_type": "display_data"
    },
    {
     "data": {
      "image/png": "[encoded data removed]",
      "text/plain": [
       "<Figure size 432x288 with 1 Axes>"
      ]
     },
     "metadata": {
      "needs_background": "light"
     },
     "output_type": "display_data"
    }
   ],
   "source": [
    "plt.figure(figsize=(10,10))\n",
    "\n",
    "per_platform.boxplot(column=['sales' ], by = ['platform'])\n",
    "plt.title('Ящик с усами', fontsize=15)\n",
    "plt.xlabel('Платформа', fontsize=12)\n",
    "plt.ylabel('Кол-во продаж',fontsize=12)\n",
    "plt.ylim(0, 1)\n",
    "plt.show\n"
   ]
  },
  {
   "cell_type": "markdown",
   "metadata": {},
   "source": [
    "Наибольшую перспективность я вижу платфоромах PS4,3DS,XOne,WiiU platform."
   ]
  },
  {
   "cell_type": "code",
   "execution_count": 31,
   "metadata": {},
   "outputs": [
    {
     "data": {
      "text/plain": [
       "<function matplotlib.pyplot.show(close=None, block=None)>"
      ]
     },
     "execution_count": 31,
     "metadata": {},
     "output_type": "execute_result"
    },
    {
     "data": {
      "image/png": "[encoded data removed]",
      "text/plain": [
       "<Figure size 432x288 with 1 Axes>"
      ]
     },
     "metadata": {
      "needs_background": "light"
     },
     "output_type": "display_data"
    }
   ],
   "source": [
    "# Нарисуем график покрасивее.\n",
    "sns.boxplot(data = per_platform, x='platform', y='sales')\n",
    "plt.title('Ящик с усами', fontsize=15)\n",
    "plt.xlabel('Платформа', fontsize=12)\n",
    "plt.ylabel('Кол-во продаж',fontsize=12)\n",
    "plt.ylim(-0, 1)\n",
    "plt.show\n"
   ]
  },
  {
   "cell_type": "markdown",
   "metadata": {},
   "source": [
    "Видим присутствие выбросов у всех, кроме PS4, XOne, WiiU. На остальных платформах есть выбросы с большим кол-вом продаж. Видимо это какие то хиты, которые либо выпущены именно для этих платформ, либо адаптированный под них, возможно это отдельные жанры. Значит мы не ошиблись в наших предположениях касательно наиболее перспективных площадок. Там и продаж больше и они более сконцентрированы."
   ]
  },
  {
   "cell_type": "markdown",
   "metadata": {},
   "source": [
    "### Посмотрим, как влияют на продажи внутри одной популярной платформы отзывы пользователей и критиков"
   ]
  },
  {
   "cell_type": "markdown",
   "metadata": {},
   "source": [
    "Рассмотрим перспективную платформу XOne"
   ]
  },
  {
   "cell_type": "code",
   "execution_count": 32,
   "metadata": {},
   "outputs": [],
   "source": [
    "xone= data.query('platform == [\"XOne\"]')\n",
    "#xone        "
   ]
  },
  {
   "cell_type": "code",
   "execution_count": 33,
   "metadata": {},
   "outputs": [
    {
     "data": {
      "text/plain": [
       "Text(0.5, 1.0, 'Диаграмма рассеяния отзыв пользователя')"
      ]
     },
     "execution_count": 33,
     "metadata": {},
     "output_type": "execute_result"
    },
    {
     "data": {
      "image/png": "[encoded data removed]",
      "text/plain": [
       "<Figure size 720x576 with 1 Axes>"
      ]
     },
     "metadata": {
      "needs_background": "light"
     },
     "output_type": "display_data"
    }
   ],
   "source": [
    "#Построим диаграмму рассеяния отзыв пользователя\n",
    "plt.figure(figsize=(10,8))\n",
    "sns.scatterplot(x='user_score', y='sales', data=xone)\n",
    "plt.title('Диаграмма рассеяния отзыв пользователя', fontsize=15)\n"
   ]
  },
  {
   "cell_type": "code",
   "execution_count": 34,
   "metadata": {},
   "outputs": [
    {
     "data": {
      "text/plain": [
       "Text(0.5, 1.0, 'Диаграмма рассеяния отзыв критиков')"
      ]
     },
     "execution_count": 34,
     "metadata": {},
     "output_type": "execute_result"
    },
    {
     "data": {
      "image/png": "[encoded data removed]",
      "text/plain": [
       "<Figure size 720x576 with 1 Axes>"
      ]
     },
     "metadata": {
      "needs_background": "light"
     },
     "output_type": "display_data"
    }
   ],
   "source": [
    "#Построим диаграмму рассеяния отзыв пользователя\n",
    "plt.figure(figsize=(10,8))\n",
    "sns.scatterplot(x='critic_score', y='sales', data=xone)\n",
    "plt.title('Диаграмма рассеяния отзыв критиков', fontsize=15)"
   ]
  },
  {
   "cell_type": "markdown",
   "metadata": {},
   "source": [
    "**Вывод:** Видим, что профессионалы лучше чувствуют рынок. Чем выше отзывы критиков тем видим больше продаж. У пользователей мы видим, что даже с нулевыми отзывами есть хорошие продажи."
   ]
  },
  {
   "cell_type": "markdown",
   "metadata": {},
   "source": [
    "Посмотрим как отзывы критиков и пользователей  коррелируются  между собой"
   ]
  },
  {
   "cell_type": "code",
   "execution_count": 35,
   "metadata": {},
   "outputs": [
    {
     "data": {
      "text/plain": [
       "0.2748391874944539"
      ]
     },
     "execution_count": 35,
     "metadata": {},
     "output_type": "execute_result"
    }
   ],
   "source": [
    "xone['critic_score'].corr(xone['sales']) # корреляция отзывы критиков и продажами\n"
   ]
  },
  {
   "cell_type": "code",
   "execution_count": 36,
   "metadata": {},
   "outputs": [
    {
     "data": {
      "text/plain": [
       "0.11656261405851895"
      ]
     },
     "execution_count": 36,
     "metadata": {},
     "output_type": "execute_result"
    }
   ],
   "source": [
    "xone['user_score'].corr(xone['sales'])# корреляция отзывы пользователей и продажами"
   ]
  },
  {
   "cell_type": "markdown",
   "metadata": {},
   "source": [
    "Коэффициент корреляции подтверждает предыдущий вывод. Оценка Критиков лучше коррелируется с продажами. "
   ]
  },
  {
   "cell_type": "markdown",
   "metadata": {},
   "source": [
    "### Соотнесем продажи игр на других платформах с отзывами критиков и пользователей."
   ]
  },
  {
   "cell_type": "code",
   "execution_count": 37,
   "metadata": {},
   "outputs": [
    {
     "data": {
      "text/plain": [
       "['PS4', 'WiiU', 'PC', 'PSV', 'PSP', '3DS']"
      ]
     },
     "execution_count": 37,
     "metadata": {},
     "output_type": "execute_result"
    }
   ],
   "source": [
    "other_platform =  ['PS4', 'WiiU','PC','PSV','PSP','3DS']\n",
    "other_platform"
   ]
  },
  {
   "cell_type": "code",
   "execution_count": 38,
   "metadata": {},
   "outputs": [
    {
     "data": {
      "image/png": "[encoded data removed]",
      "text/plain": [
       "<Figure size 432x288 with 2 Axes>"
      ]
     },
     "metadata": {
      "needs_background": "light"
     },
     "output_type": "display_data"
    },
    {
     "data": {
      "image/png": "[encoded data removed]",
      "text/plain": [
       "<Figure size 432x288 with 2 Axes>"
      ]
     },
     "metadata": {
      "needs_background": "light"
     },
     "output_type": "display_data"
    },
    {
     "data": {
      "image/png": "[encoded data removed]",
      "text/plain": [
       "<Figure size 432x288 with 2 Axes>"
      ]
     },
     "metadata": {
      "needs_background": "light"
     },
     "output_type": "display_data"
    },
    {
     "data": {
      "image/png": "[encoded data removed]",
      "text/plain": [
       "<Figure size 432x288 with 2 Axes>"
      ]
     },
     "metadata": {
      "needs_background": "light"
     },
     "output_type": "display_data"
    },
    {
     "data": {
      "image/png": "[encoded data removed]",
      "text/plain": [
       "<Figure size 432x288 with 2 Axes>"
      ]
     },
     "metadata": {
      "needs_background": "light"
     },
     "output_type": "display_data"
    },
    {
     "data": {
      "image/png": "[encoded data removed]",
      "text/plain": [
       "<Figure size 432x288 with 2 Axes>"
      ]
     },
     "metadata": {
      "needs_background": "light"
     },
     "output_type": "display_data"
    }
   ],
   "source": [
    "for platforms in other_platform:\n",
    "    sort=per_platform.loc[per_platform['platform'] == platforms]\n",
    "    heatmap = sort[['critic_score', 'user_score', 'sales']] \n",
    "    sns.heatmap (heatmap.corr(),cmap='coolwarm',annot=True)   \n",
    "    plt.title(platforms, fontsize=10)\n",
    "    plt.show()      \n"
   ]
  },
  {
   "cell_type": "markdown",
   "metadata": {},
   "source": [
    "**Вывод:** В целом по остальным платформам корреляции так же как и для платформы XOne, которую мы рассматривали отдельно. Кол-во продаж больше зависит от отзывов критиков, больше чем от отзывов пользователей. Но для платформ 3DS и PSV разница между отзывами пользователей и критиков не такая и большая, но и продажи там самые маленькие (среди рассмотренных)."
   ]
  },
  {
   "cell_type": "markdown",
   "metadata": {},
   "source": [
    "### Рассмотрим общее распределение игр по жанрам. Рассмотрим какие жанры самые прибыльные"
   ]
  },
  {
   "cell_type": "code",
   "execution_count": 39,
   "metadata": {},
   "outputs": [
    {
     "data": {
      "text/plain": [
       "Action          796\n",
       "Role-Playing    346\n",
       "Adventure       304\n",
       "Sports          184\n",
       "Misc            170\n",
       "Shooter         162\n",
       "Strategy         93\n",
       "Racing           93\n",
       "Simulation       89\n",
       "Platform         77\n",
       "Fighting         74\n",
       "Puzzle           40\n",
       "Name: genre, dtype: int64"
      ]
     },
     "execution_count": 39,
     "metadata": {},
     "output_type": "execute_result"
    }
   ],
   "source": [
    "per_platform['genre'].value_counts()"
   ]
  },
  {
   "cell_type": "markdown",
   "metadata": {},
   "source": [
    "Больше всего игр в жанре Action -796, затем Role-Playing-346 и Adventure -304.  Посмторим как эти игры продаются"
   ]
  },
  {
   "cell_type": "code",
   "execution_count": 40,
   "metadata": {},
   "outputs": [
    {
     "data": {
      "text/plain": [
       "<AxesSubplot:xlabel='genre'>"
      ]
     },
     "execution_count": 40,
     "metadata": {},
     "output_type": "execute_result"
    },
    {
     "data": {
      "image/png": "[encoded data removed]",
      "text/plain": [
       "<Figure size 720x360 with 1 Axes>"
      ]
     },
     "metadata": {
      "needs_background": "light"
     },
     "output_type": "display_data"
    }
   ],
   "source": [
    "genre_sales=per_platform.pivot_table(index='genre', values='sales', aggfunc='sum')\n",
    "genre_sales.sort_values(by='sales', ascending=False).plot(kind='bar', figsize=(10,5), grid=True )"
   ]
  },
  {
   "cell_type": "markdown",
   "metadata": {},
   "source": [
    "**Вывод:** Аction и Role-Playing-346 действительно неплохо продаются, а вот  Adventure в топ 3 самых низких продаж (там же Strategy и Puzzle ). Зато мы видим, что Shooter очень хорошо продаются, при  этом на рынке их не так много. Может быть стоит в 2017 закупить больше копий игр в этом жанре, очевидно, что их быстро разбирают."
   ]
  },
  {
   "cell_type": "markdown",
   "metadata": {},
   "source": [
    "## Составим портрет пользователя каждого региона\n"
   ]
  },
  {
   "cell_type": "markdown",
   "metadata": {},
   "source": [
    "Определим для пользователя каждого региона (NA, EU, JP):\n",
    "\n",
    "-Самые популярные платформы (топ-5)\n",
    "\n",
    "-Самые популярные жанры (топ-5)."
   ]
  },
  {
   "cell_type": "markdown",
   "metadata": {},
   "source": [
    "### Для Америки рассмотрим топ 5 платформ и жанров."
   ]
  },
  {
   "cell_type": "code",
   "execution_count": 41,
   "metadata": {},
   "outputs": [
    {
     "data": {
      "image/png": "[encoded data removed]",
      "text/plain": [
       "<Figure size 720x360 with 1 Axes>"
      ]
     },
     "metadata": {
      "needs_background": "light"
     },
     "output_type": "display_data"
    }
   ],
   "source": [
    "# Топовые платформы для Америики.\n",
    "region_platform_usa=per_platform.pivot_table(index='platform', values='na_sales', aggfunc='sum') # Топовые платформы для Америики.\n",
    "region_platform_usa.sort_values(by='na_sales', ascending=False).plot(kind='bar', figsize=(10,5), grid=True )\n",
    "plt.show()\n"
   ]
  },
  {
   "cell_type": "code",
   "execution_count": 42,
   "metadata": {},
   "outputs": [
    {
     "data": {
      "image/png": "[encoded data removed]",
      "text/plain": [
       "<Figure size 432x288 with 1 Axes>"
      ]
     },
     "metadata": {},
     "output_type": "display_data"
    },
    {
     "data": {
      "text/plain": [
       "(None,)"
      ]
     },
     "execution_count": 42,
     "metadata": {},
     "output_type": "execute_result"
    }
   ],
   "source": [
    "region_platform_usa.sort_values(by='na_sales', ascending=False).plot.pie(subplots=True, autopct='%1.1f%%', shadow=True, startangle=90)\n",
    "plt.show(),"
   ]
  },
  {
   "cell_type": "markdown",
   "metadata": {},
   "source": [
    "**Для Америке ТОП 5 платформ** - PS4 (доля 29.5%), XOne(25.4%), 3DS(22,5%), WiiU(10.4%), PC (8.1%)"
   ]
  },
  {
   "cell_type": "code",
   "execution_count": 43,
   "metadata": {},
   "outputs": [
    {
     "data": {
      "image/png": "[encoded data removed]",
      "text/plain": [
       "<Figure size 720x360 with 1 Axes>"
      ]
     },
     "metadata": {
      "needs_background": "light"
     },
     "output_type": "display_data"
    }
   ],
   "source": [
    "# Топовые жанры для Америики.\n",
    "region_gengre_usa=per_platform.pivot_table(index='genre', values='na_sales', aggfunc='sum') # Топовые платформы для Америики.\n",
    "region_gengre_usa.sort_values(by='na_sales', ascending=False).plot(kind='bar', figsize=(10,5), grid=True )\n",
    "plt.show()"
   ]
  },
  {
   "cell_type": "code",
   "execution_count": 44,
   "metadata": {},
   "outputs": [
    {
     "data": {
      "image/png": "[encoded data removed]",
      "text/plain": [
       "<Figure size 432x288 with 1 Axes>"
      ]
     },
     "metadata": {},
     "output_type": "display_data"
    }
   ],
   "source": [
    "region_gengre_usa.sort_values(by='na_sales', ascending=False).plot.pie(subplots=True, legend=None,autopct='%1.1f%%', shadow=True, startangle=90)\n",
    "plt.show()"
   ]
  },
  {
   "cell_type": "code",
   "execution_count": 45,
   "metadata": {},
   "outputs": [
    {
     "data": {
      "image/png": "[encoded data removed]",
      "text/plain": [
       "<Figure size 432x288 with 1 Axes>"
      ]
     },
     "metadata": {},
     "output_type": "display_data"
    }
   ],
   "source": [
    "explode = (0.15, 0, 0, 0, 0)\n",
    "region_gengre_usa.sort_values(by='na_sales', ascending=False)\\\n",
    "                .head(5).plot\\\n",
    "                .pie(subplots=True, legend=None,autopct='%1.1f%%', shadow=True, startangle=90, explode=explode)\n",
    "plt.show()"
   ]
  },
  {
   "cell_type": "markdown",
   "metadata": {},
   "source": [
    "**Для Америке ТОП 5 жанров** - Action (Action доля продаж 25.6%), Shooter (22.3%), Role-Playing(14,3%), Sports(11.1%), Platform (7.3%)"
   ]
  },
  {
   "cell_type": "markdown",
   "metadata": {},
   "source": [
    "### Для Европы расссмотрим топ 5 платформ и жанров."
   ]
  },
  {
   "cell_type": "code",
   "execution_count": 46,
   "metadata": {},
   "outputs": [
    {
     "data": {
      "image/png": "[encoded data removed]",
      "text/plain": [
       "<Figure size 720x360 with 1 Axes>"
      ]
     },
     "metadata": {
      "needs_background": "light"
     },
     "output_type": "display_data"
    }
   ],
   "source": [
    "# Топовые платформы для Европы.\n",
    "region_platform_eu=per_platform.pivot_table(index='platform', values='eu_sales', aggfunc='sum') # Топовые платформы для Америики.\n",
    "region_platform_eu.sort_values(by='eu_sales', ascending=False).plot(kind='bar', figsize=(10,5), grid=True )\n",
    "plt.show()\n"
   ]
  },
  {
   "cell_type": "code",
   "execution_count": 47,
   "metadata": {},
   "outputs": [
    {
     "data": {
      "image/png": "[encoded data removed]",
      "text/plain": [
       "<Figure size 432x288 with 1 Axes>"
      ]
     },
     "metadata": {},
     "output_type": "display_data"
    }
   ],
   "source": [
    "region_platform_eu.sort_values(by='eu_sales', ascending=False).plot.pie(subplots=True, legend=None,autopct='%1.1f%%', shadow=True, startangle=90)\n",
    "plt.show()"
   ]
  },
  {
   "cell_type": "markdown",
   "metadata": {},
   "source": [
    "**Для Европы ТОП 5 платформ** - PS4 (доля 40.2%), 3DS(17,5%),PC (16.2%), Xone(14,7) , WiiU(7.2%)"
   ]
  },
  {
   "cell_type": "code",
   "execution_count": 48,
   "metadata": {},
   "outputs": [
    {
     "data": {
      "image/png": "[encoded data removed]",
      "text/plain": [
       "<Figure size 720x360 with 1 Axes>"
      ]
     },
     "metadata": {
      "needs_background": "light"
     },
     "output_type": "display_data"
    }
   ],
   "source": [
    "# Топовые жанры для Евровы.\n",
    "region_gengre_eu=per_platform.pivot_table(index='genre', values='eu_sales', aggfunc='sum') # Топовые платформы для Америики.\n",
    "region_gengre_eu.sort_values(by='eu_sales', ascending=False).plot(kind='bar', figsize=(10,5), grid=True )\n",
    "plt.show()"
   ]
  },
  {
   "cell_type": "code",
   "execution_count": 49,
   "metadata": {},
   "outputs": [
    {
     "data": {
      "image/png": "[encoded data removed]",
      "text/plain": [
       "<Figure size 432x288 with 1 Axes>"
      ]
     },
     "metadata": {},
     "output_type": "display_data"
    }
   ],
   "source": [
    "region_gengre_eu.sort_values(by='eu_sales', ascending=False).plot.pie(subplots=True, legend=None,autopct='%1.1f%%', shadow=True, startangle=90)\n",
    "plt.show()"
   ]
  },
  {
   "cell_type": "markdown",
   "metadata": {},
   "source": [
    "**Для Европы ТОП 5 жанров** - Action (Action доля продаж 25.9%), Shooter (20.8%), Sports(12,6%), Role-Playing(12.3%), Platform (6.4%)"
   ]
  },
  {
   "cell_type": "markdown",
   "metadata": {},
   "source": []
  },
  {
   "cell_type": "markdown",
   "metadata": {},
   "source": [
    "### Визуализируем сравнение продаж платформ в Америке и Европе."
   ]
  },
  {
   "cell_type": "code",
   "execution_count": 50,
   "metadata": {},
   "outputs": [
    {
     "data": {
      "image/png": "[encoded data removed]",
      "text/plain": [
       "<Figure size 720x360 with 1 Axes>"
      ]
     },
     "metadata": {
      "needs_background": "light"
     },
     "output_type": "display_data"
    }
   ],
   "source": [
    "ax=region_platform_usa.sort_values(by='na_sales', ascending=False).plot(kind='bar',color='red', figsize=(10,5), grid=True, position=1 )\n",
    "\n",
    "region_platform_eu.sort_values(by='eu_sales', ascending=False).plot(kind='bar', color='green', figsize=(10,5), grid=True,ax=ax,position=0.5)\n",
    "plt.show()"
   ]
  },
  {
   "cell_type": "markdown",
   "metadata": {},
   "source": [
    "PS 4 самая популярная игровая приставка и в Европе и в Америке. Затем конкуренты, которые конкурируют за 2-ое место XOne, 3DS, WiiU,  и PC "
   ]
  },
  {
   "cell_type": "code",
   "execution_count": 51,
   "metadata": {},
   "outputs": [
    {
     "data": {
      "image/png": "[encoded data removed]",
      "text/plain": [
       "<Figure size 720x360 with 1 Axes>"
      ]
     },
     "metadata": {
      "needs_background": "light"
     },
     "output_type": "display_data"
    }
   ],
   "source": [
    "ax=region_gengre_usa.sort_values(by='na_sales', ascending=False).plot(kind='bar',color='red', figsize=(10,5), grid=True, position=1)\n",
    "region_gengre_eu.sort_values(by='eu_sales', ascending=False).plot(kind='bar',color='green', figsize=(10,5), grid=True,position=0.5, ax=ax)\n",
    "plt.show()"
   ]
  },
  {
   "cell_type": "markdown",
   "metadata": {},
   "source": [
    "Action самый популярный жан как в Европе так и в Америке, в спину ему в Америке дышит Shooter, в Европе чуть меньше, но тоже на втором месте. за 3 место между собой борются Role-Playing и Sports. "
   ]
  },
  {
   "cell_type": "markdown",
   "metadata": {},
   "source": [
    "**Вывод:** В общем и целом мы видим, что популярностью и в Европе и в Америке пользуются одни и те же платформы и жанры игр."
   ]
  },
  {
   "cell_type": "markdown",
   "metadata": {},
   "source": [
    "### Для Японии расссмотрим топ 5 платформ и жанров."
   ]
  },
  {
   "cell_type": "code",
   "execution_count": 52,
   "metadata": {},
   "outputs": [
    {
     "data": {
      "image/png": "[encoded data removed]",
      "text/plain": [
       "<Figure size 720x360 with 1 Axes>"
      ]
     },
     "metadata": {
      "needs_background": "light"
     },
     "output_type": "display_data"
    }
   ],
   "source": [
    "# Топовые платформы для Японии.\n",
    "region_platform_jp=per_platform.pivot_table(index='platform', values='jp_sales', aggfunc='sum') # Топовые платформы для Америики.\n",
    "region_platform_jp.sort_values(by='jp_sales', ascending=False).plot(kind='bar', figsize=(10,5), grid=True )\n",
    "plt.show()"
   ]
  },
  {
   "cell_type": "code",
   "execution_count": 53,
   "metadata": {},
   "outputs": [
    {
     "data": {
      "image/png": "[encoded data removed]",
      "text/plain": [
       "<Figure size 432x288 with 1 Axes>"
      ]
     },
     "metadata": {},
     "output_type": "display_data"
    }
   ],
   "source": [
    "region_platform_jp.sort_values(by='jp_sales', ascending=False).plot.pie(subplots=True, legend=None,autopct='%1.1f%%', shadow=True, startangle=90)\n",
    "plt.show()"
   ]
  },
  {
   "cell_type": "markdown",
   "metadata": {},
   "source": [
    "**Для Японии ТОП 5 платформ** - 3DS (доля 57.2%), PSP(13.7%), PSV(12,4%), PS4(9,1%), WiiU(14%)"
   ]
  },
  {
   "cell_type": "code",
   "execution_count": 54,
   "metadata": {},
   "outputs": [
    {
     "data": {
      "image/png": "[encoded data removed]",
      "text/plain": [
       "<Figure size 720x360 with 1 Axes>"
      ]
     },
     "metadata": {
      "needs_background": "light"
     },
     "output_type": "display_data"
    }
   ],
   "source": [
    "# Топовые ;fyhs для Японии.\n",
    "region_gengre_jp=per_platform.pivot_table(index='genre', values='jp_sales', aggfunc='sum') # Топовые платформы для Америики.\n",
    "region_gengre_jp.sort_values(by='jp_sales', ascending=False).plot(kind='bar', figsize=(10,5), grid=True )\n",
    "plt.show()"
   ]
  },
  {
   "cell_type": "code",
   "execution_count": 55,
   "metadata": {},
   "outputs": [
    {
     "data": {
      "image/png": "[encoded data removed]",
      "text/plain": [
       "<Figure size 432x288 with 1 Axes>"
      ]
     },
     "metadata": {},
     "output_type": "display_data"
    }
   ],
   "source": [
    "region_gengre_jp.sort_values(by='jp_sales', ascending=False).plot.pie(subplots=True, legend=None,autopct='%1.1f%%', shadow=True, startangle=90)\n",
    "plt.show()"
   ]
  },
  {
   "cell_type": "markdown",
   "metadata": {},
   "source": [
    "**Для Японии ТОП 5 жанров** - Role-Playing(35.3%), Action (24.6%), Misc (7.2%), Simulation(12,6%), , Platform (6.4%)"
   ]
  },
  {
   "cell_type": "markdown",
   "metadata": {},
   "source": [
    "**Вывод:** Мы видим, что у Японии наиболее популярная платформа это 3DS. Причем на столько популярная, что занимает больше половины всех продаж. 3DS это портативная игровая консоль. На 2-3 и тоже портативные консоли. Значит в Японии в основном пользуются портативными консолями, в то время как в Европе и Америке пользуются стационарными платформами. Думаю это связано с тем, что в Японии много работают и играют в приставки по пути на работу. \n",
    "Популярные жанры в Японии тоже свои. Наиболее популярный жанр это Role-Playing. Думаю из-за любви японцев к косплей косплею. Мы так же видмим, что японцы как и весь мир любят игры в стиле Action, этот жанр на 2 месте. Думаю для нашего магазина есть смысл закупить игр в этом жанре(Action) побольше."
   ]
  },
  {
   "cell_type": "markdown",
   "metadata": {},
   "source": [
    "### Проверим влияет ли рейтинг ESRB на продажи в отдельном регионе?"
   ]
  },
  {
   "cell_type": "code",
   "execution_count": 56,
   "metadata": {},
   "outputs": [
    {
     "data": {
      "text/plain": [
       "        1200\n",
       "T        339\n",
       "M        333\n",
       "E        309\n",
       "E10+     246\n",
       "RP         1\n",
       "Name: rating, dtype: int64"
      ]
     },
     "execution_count": 56,
     "metadata": {},
     "output_type": "execute_result"
    }
   ],
   "source": [
    "per_platform['rating'].value_counts()"
   ]
  },
  {
   "cell_type": "code",
   "execution_count": 57,
   "metadata": {},
   "outputs": [
    {
     "data": {
      "text/plain": [
       "<AxesSubplot:xlabel='rating'>"
      ]
     },
     "execution_count": 57,
     "metadata": {},
     "output_type": "execute_result"
    },
    {
     "data": {
      "image/png": "[encoded data removed]",
      "text/plain": [
       "<Figure size 720x360 with 1 Axes>"
      ]
     },
     "metadata": {
      "needs_background": "light"
     },
     "output_type": "display_data"
    }
   ],
   "source": [
    "region_reting_us=per_platform.pivot_table(index='rating', values='na_sales', aggfunc='sum') # Топовые платформы для Америики.\n",
    "region_reting_us.sort_values(by='na_sales', ascending=False).plot(kind='bar', figsize=(10,5), grid=True )"
   ]
  },
  {
   "cell_type": "code",
   "execution_count": 58,
   "metadata": {},
   "outputs": [
    {
     "data": {
      "text/plain": [
       "<AxesSubplot:xlabel='rating'>"
      ]
     },
     "execution_count": 58,
     "metadata": {},
     "output_type": "execute_result"
    },
    {
     "data": {
      "image/png": "[encoded data removed]",
      "text/plain": [
       "<Figure size 720x360 with 1 Axes>"
      ]
     },
     "metadata": {
      "needs_background": "light"
     },
     "output_type": "display_data"
    }
   ],
   "source": [
    "region_reting_eu=per_platform.pivot_table(index='rating', values='eu_sales', aggfunc='sum') # Топовые платформы для Европа.\n",
    "region_reting_eu.sort_values(by='eu_sales', ascending=False).plot(kind='bar', figsize=(10,5), grid=True)       "
   ]
  },
  {
   "cell_type": "code",
   "execution_count": 59,
   "metadata": {},
   "outputs": [
    {
     "data": {
      "text/plain": [
       "<AxesSubplot:xlabel='rating'>"
      ]
     },
     "execution_count": 59,
     "metadata": {},
     "output_type": "execute_result"
    },
    {
     "data": {
      "image/png": "[encoded data removed]",
      "text/plain": [
       "<Figure size 720x360 with 1 Axes>"
      ]
     },
     "metadata": {
      "needs_background": "light"
     },
     "output_type": "display_data"
    }
   ],
   "source": [
    "region_reting_jp=per_platform.pivot_table(index='rating', values='jp_sales', aggfunc='sum') # Топовые платформы для Европа.\n",
    "region_reting_jp.sort_values(by='jp_sales', ascending=False).plot(kind='bar', figsize=(10,5), grid=True)       "
   ]
  },
  {
   "cell_type": "markdown",
   "metadata": {},
   "source": [
    "Как известно рейтинг можно расшифровать\n",
    "\n",
    "AO (Adults only 18+) — только для взрослых\n",
    "\n",
    "E - everyone - для всех\n",
    "\n",
    "M (Mature 17+) — от 17 лет\n",
    "\n",
    "T (Teen) — для подростков 13-19 лет\n",
    "\n",
    "K-A (Kids to Adults)— для детей и взрослых\n",
    "\n",
    "E10+ (Everyone 10+) — для всех старше 10 лет\n",
    "\n",
    "EC (Early Childhood) — для детей младшего возраста\n",
    "\n",
    "RP (Rating pending) — рейтинг ожидается"
   ]
  },
  {
   "cell_type": "code",
   "execution_count": 60,
   "metadata": {
    "scrolled": true
   },
   "outputs": [
    {
     "data": {
      "text/plain": [
       "<AxesSubplot:xlabel='rating'>"
      ]
     },
     "execution_count": 60,
     "metadata": {},
     "output_type": "execute_result"
    },
    {
     "data": {
      "image/png": "[encoded data removed]",
      "text/plain": [
       "<Figure size 720x360 with 1 Axes>"
      ]
     },
     "metadata": {
      "needs_background": "light"
     },
     "output_type": "display_data"
    }
   ],
   "source": [
    "ax=region_reting_us.plot(kind='bar', figsize=(10,5),position=0 ,color='red', grid=True,)\n",
    "ax1=region_reting_eu.plot(kind='bar', figsize=(10,5),color='green', grid=True, ax=ax) \n",
    "region_reting_jp.plot(kind='bar', figsize=(10,5), grid=True,position=1, ax=ax1)  "
   ]
  },
  {
   "cell_type": "markdown",
   "metadata": {},
   "source": [
    "**Вывод:** И в Европе и в Америке основные потеребили игр, это люди от 17 лет(M категория), и это понятно учитывая жанры игр(shooter и action).На втором месте игры для всех возрастных категориях (E категория ). В Японии в основном игры без возрастного ограничения, либо просто игры для всех. Думаю там просто нет жестокого регулирования по возрасту."
   ]
  },
  {
   "cell_type": "markdown",
   "metadata": {},
   "source": [
    "##  Проверим гипотезы\n"
   ]
  },
  {
   "cell_type": "markdown",
   "metadata": {},
   "source": [
    "### Проверим гипотезу, что средние пользовательские рейтинги платформ Xbox One и PC одинаковые.\n"
   ]
  },
  {
   "cell_type": "markdown",
   "metadata": {},
   "source": [
    "Будем считать **нулевой теорий**, что средние пользовательские рейтинги платформ Xbox One и PC одинаковые."
   ]
  },
  {
   "cell_type": "markdown",
   "metadata": {},
   "source": [
    "Будем считать **альтернативной теорией**, средние пользовательские рейтинги платформ Xbox One и PC различные."
   ]
  },
  {
   "cell_type": "markdown",
   "metadata": {},
   "source": [
    "**Вывод:** Не получилось отвернуть нулевыую теорию, значит считаем, что средние пользовательские рейтинги платформ Xbox One и PC одинаковые."
   ]
  },
  {
   "cell_type": "code",
   "execution_count": 61,
   "metadata": {},
   "outputs": [],
   "source": [
    "xone_gip=per_platform.query(('platform == \"XOne\"'))['user_score']# выборка для Xbox One\n",
    "ps_gip=per_platform.query(('platform == \"PC\"'))['user_score']# выборка для PC\n"
   ]
  },
  {
   "cell_type": "code",
   "execution_count": 62,
   "metadata": {},
   "outputs": [
    {
     "data": {
      "text/plain": [
       "9.644061367994883"
      ]
     },
     "execution_count": 62,
     "metadata": {},
     "output_type": "execute_result"
    }
   ],
   "source": [
    "np.var(xone_gip)"
   ]
  },
  {
   "cell_type": "code",
   "execution_count": 63,
   "metadata": {},
   "outputs": [
    {
     "data": {
      "text/plain": [
       "8.967233100494974"
      ]
     },
     "execution_count": 63,
     "metadata": {},
     "output_type": "execute_result"
    }
   ],
   "source": [
    "np.var(ps_gip)"
   ]
  },
  {
   "cell_type": "markdown",
   "metadata": {},
   "source": [
    "дисперсии имеют различия, значит equal_var=False"
   ]
  },
  {
   "cell_type": "code",
   "execution_count": 64,
   "metadata": {},
   "outputs": [
    {
     "name": "stdout",
     "output_type": "stream",
     "text": [
      "Не получилось отвергнуть нулевую гипотезу\n"
     ]
    }
   ],
   "source": [
    "alpha = .01 # критический уровень статистической значимости\n",
    "results = st.ttest_ind(xone_gip, ps_gip, equal_var=False)\n",
    "results.pvalue\n",
    "\n",
    "if results.pvalue < alpha:\n",
    "    print('Отвергаем нулевую гипотезу')\n",
    "else:\n",
    "    print('Не получилось отвергнуть нулевую гипотезу')"
   ]
  },
  {
   "cell_type": "markdown",
   "metadata": {},
   "source": [
    "### Проверим утверждение, что средние пользовательские рейтинги жанров Action  и Sports разные."
   ]
  },
  {
   "cell_type": "markdown",
   "metadata": {},
   "source": [
    "Будем считать **нулевой теорией**, что средние пользовательские рейтинги жанров Action  и Sports одинаковые.\n",
    "\n",
    "Будем считать **альтернативной теорией**, средние пользовательские рейтинги рейтинги жанров Action и Sports разные."
   ]
  },
  {
   "cell_type": "code",
   "execution_count": 66,
   "metadata": {},
   "outputs": [],
   "source": [
    "action_gip=per_platform.query(('genre == \"Action\"'))['user_score']# выборка для Action\n",
    "sports_gip=per_platform.query(('genre == \"Sports\"'))['user_score']# выборка для Sports"
   ]
  },
  {
   "cell_type": "code",
   "execution_count": 67,
   "metadata": {},
   "outputs": [
    {
     "data": {
      "text/plain": [
       "12.45923718782354"
      ]
     },
     "execution_count": 67,
     "metadata": {},
     "output_type": "execute_result"
    }
   ],
   "source": [
    "np.var(action_gip)"
   ]
  },
  {
   "cell_type": "code",
   "execution_count": 68,
   "metadata": {},
   "outputs": [
    {
     "data": {
      "text/plain": [
       "8.932069647920605"
      ]
     },
     "execution_count": 68,
     "metadata": {},
     "output_type": "execute_result"
    }
   ],
   "source": [
    "np.var(sports_gip)"
   ]
  },
  {
   "cell_type": "code",
   "execution_count": 69,
   "metadata": {},
   "outputs": [
    {
     "name": "stdout",
     "output_type": "stream",
     "text": [
      "Cредние пользовательские рейтинги рейтинги жанров Action и Sports разные\n"
     ]
    }
   ],
   "source": [
    "alpha = .01 # критический уровень статистической значимости\n",
    "results = st.ttest_ind(action_gip, sports_gip,equal_var=False)\n",
    "results.pvalue\n",
    "\n",
    "if results.pvalue < alpha:\n",
    "    print('Cредние пользовательские рейтинги жанров Action и Sports одинаковые')\n",
    "else:\n",
    "    print('Cредние пользовательские рейтинги рейтинги жанров Action и Sports разные')"
   ]
  },
  {
   "cell_type": "markdown",
   "metadata": {},
   "source": [
    "**Вывод:** Гипотиза не подтвердилась. Cредние пользовательские рейтинги рейтинги жанров Action и Sports разные. Можно предположить, что в среднем рейтинги Action выше т.к и продажи этого жанра гораздо выше чем Sports."
   ]
  },
  {
   "cell_type": "markdown",
   "metadata": {},
   "source": [
    "## Общий вывод"
   ]
  },
  {
   "cell_type": "markdown",
   "metadata": {},
   "source": [
    "Мы рассмотрели файл games.csv и подготовили данные для дальнейшей обработки.\n",
    "Привели все названия столбцов к строчному виду. Разобрались пропусками данных в зависимости от ситуации. Проверили строки на дубликаты. Посчитали суммарные продажи по все регионам.\n",
    "\n",
    "Проведя анализ, мы выявили, что обычно платформы живут 10-12 лет и наибольшие продажи игр для этих платформ приходятся на 5-6 год. Потому для оценки перспективности платформ на 2017 г мы взяли период с 2011 годы и исключили платформы продажи на которые уже пережили пик и отходят на второй план. \n",
    "\n",
    "Мы выбрали наиболее перспективные площадки на 2017 г.  и сравнили их.\n",
    "\n",
    "Сделали наблюдения, что на продажи игр, больше влияет рейтинги составленные критиками, а не пользователями.\n",
    "\n",
    "В ходе исследования мы так же выяснили какие платформы наиболее популярный для того или иного региона \n",
    "\n",
    "Для Северной Америке : PS4 (доля от всех продаж 29.5%), XOne(25.4%), 3DS(22,5%), WiiU(10.4%), PC (8.1%)\n",
    "\n",
    "Для Европы:  PS4 (доля 40.2%), 3DS(17,5%),PC (16.2%), Xone(14,7) , WiiU(7.2%)\n",
    "\n",
    "Для Японии: 3DS (доля 57.2%), PSP(13.7%), PSV(12,4%), PS4(9,1%), WiiU(14%)\n",
    "\n",
    "\n",
    "В ходе исследования мы так же выяснили какие игровые  жанры наиболее популярные для того или иного региона \n",
    "\n",
    "Для Северной Америке :Action (Action доля продаж 25.6%), Shooter (22.3%), Role-Playing(14,3%), Sports(11.1%), Platform (7.3%)\n",
    "\n",
    "Для Европы:  Action (Action доля продаж 25.9%), Shooter (20.8%), Sports(12,6%), Role-Playing(12.3%), Platform (6.4%)\n",
    "\n",
    "Для Японии: Role-Playing(35.3%), Action (24.6%), Misc (7.2%), Simulation(12,6%), , Platform (6.4%)\n",
    "\n",
    "Сделали вывод, что Японский рынок сильно отличается от Американского и Европейского, и что в Японии популярны портативные игровые  платформы. В Европе и Америке популярны стационарные игровые платформы. Но не смотря на то, что и жанры в Японии любят больше Ролевые, но как и во всем мире любят жанр Action.\n",
    "\n",
    "Так же мы рассмотрели как рейтинг ESRB влияет на продажи, и сделали вывод, что в Японии с возрастными ограничениями проблем нет.\n",
    "\n",
    "Мы рассмотрели две гипотезы  и выяснили, что \n",
    "- средние пользовательские рейтинги платформ Xbox One и PC одинаковые.\n",
    "- Средние пользовательские рейтинги рейтинги жанров Action и Sports разные. Потому, что в среднем рейтинги Action выше т.к и продажи этого жанра гораздо выше чем Sports."
   ]
  }
 ],
 "metadata": {
  "ExecuteTimeLog": [
   {
    "duration": 267,
    "start_time": "2022-01-17T20:15:12.128Z"
   },
   {
    "duration": 541,
    "start_time": "2022-01-17T20:15:27.735Z"
   },
   {
    "duration": 1337,
    "start_time": "2022-01-17T20:15:28.277Z"
   },
   {
    "duration": 51,
    "start_time": "2022-01-17T20:15:46.407Z"
   },
   {
    "duration": 187,
    "start_time": "2022-01-17T20:17:11.352Z"
   },
   {
    "duration": 9,
    "start_time": "2022-01-17T20:17:20.604Z"
   },
   {
    "duration": 2,
    "start_time": "2022-01-17T21:22:51.187Z"
   },
   {
    "duration": 3,
    "start_time": "2022-01-17T21:23:02.821Z"
   },
   {
    "duration": 3,
    "start_time": "2022-01-17T21:24:15.856Z"
   },
   {
    "duration": 11,
    "start_time": "2022-01-17T21:24:50.672Z"
   },
   {
    "duration": 3,
    "start_time": "2022-01-17T21:25:19.024Z"
   },
   {
    "duration": 3,
    "start_time": "2022-01-18T11:04:46.078Z"
   },
   {
    "duration": 558,
    "start_time": "2022-01-18T11:27:08.434Z"
   },
   {
    "duration": 763,
    "start_time": "2022-01-18T11:27:14.389Z"
   },
   {
    "duration": 61,
    "start_time": "2022-01-18T11:27:15.154Z"
   },
   {
    "duration": 10,
    "start_time": "2022-01-18T11:27:15.217Z"
   },
   {
    "duration": 24,
    "start_time": "2022-01-18T11:27:15.229Z"
   },
   {
    "duration": 1008,
    "start_time": "2022-01-18T11:27:15.255Z"
   },
   {
    "duration": 322,
    "start_time": "2022-01-18T11:27:37.706Z"
   },
   {
    "duration": 277,
    "start_time": "2022-01-18T11:28:04.801Z"
   },
   {
    "duration": 300,
    "start_time": "2022-01-18T11:28:16.265Z"
   },
   {
    "duration": 356,
    "start_time": "2022-01-18T11:31:51.113Z"
   },
   {
    "duration": 261,
    "start_time": "2022-01-18T11:33:27.953Z"
   },
   {
    "duration": 264,
    "start_time": "2022-01-18T11:33:37.542Z"
   },
   {
    "duration": 3,
    "start_time": "2022-01-18T11:34:40.976Z"
   },
   {
    "duration": 82,
    "start_time": "2022-01-18T11:36:49.877Z"
   },
   {
    "duration": 20,
    "start_time": "2022-01-18T11:44:13.705Z"
   },
   {
    "duration": 10,
    "start_time": "2022-01-18T11:44:55.577Z"
   },
   {
    "duration": 6,
    "start_time": "2022-01-18T11:45:23.682Z"
   },
   {
    "duration": 3,
    "start_time": "2022-01-18T11:45:26.944Z"
   },
   {
    "duration": 68,
    "start_time": "2022-01-18T11:45:26.951Z"
   },
   {
    "duration": 12,
    "start_time": "2022-01-18T11:45:27.022Z"
   },
   {
    "duration": 26,
    "start_time": "2022-01-18T11:45:27.036Z"
   },
   {
    "duration": 7,
    "start_time": "2022-01-18T11:45:27.063Z"
   },
   {
    "duration": 4,
    "start_time": "2022-01-18T11:45:27.072Z"
   },
   {
    "duration": 7,
    "start_time": "2022-01-18T11:45:50.866Z"
   },
   {
    "duration": 23,
    "start_time": "2022-01-18T11:46:42.024Z"
   },
   {
    "duration": 23,
    "start_time": "2022-01-18T11:47:03.706Z"
   },
   {
    "duration": 2,
    "start_time": "2022-01-18T11:47:10.120Z"
   },
   {
    "duration": 56,
    "start_time": "2022-01-18T11:47:10.126Z"
   },
   {
    "duration": 11,
    "start_time": "2022-01-18T11:47:10.184Z"
   },
   {
    "duration": 14,
    "start_time": "2022-01-18T11:47:10.198Z"
   },
   {
    "duration": 15,
    "start_time": "2022-01-18T11:47:10.214Z"
   },
   {
    "duration": 30,
    "start_time": "2022-01-18T11:47:10.231Z"
   },
   {
    "duration": 17,
    "start_time": "2022-01-18T11:48:25.319Z"
   },
   {
    "duration": 17,
    "start_time": "2022-01-18T11:48:31.937Z"
   },
   {
    "duration": 15,
    "start_time": "2022-01-18T11:52:26.664Z"
   },
   {
    "duration": 24,
    "start_time": "2022-01-18T11:56:25.116Z"
   },
   {
    "duration": 7,
    "start_time": "2022-01-18T12:14:24.054Z"
   },
   {
    "duration": 6846,
    "start_time": "2022-01-18T12:14:51.175Z"
   },
   {
    "duration": 7,
    "start_time": "2022-01-18T12:15:03.394Z"
   },
   {
    "duration": 6,
    "start_time": "2022-01-18T12:15:23.422Z"
   },
   {
    "duration": 5,
    "start_time": "2022-01-18T12:15:25.822Z"
   },
   {
    "duration": 7,
    "start_time": "2022-01-18T12:15:29.028Z"
   },
   {
    "duration": 7,
    "start_time": "2022-01-18T12:53:39.013Z"
   },
   {
    "duration": 14,
    "start_time": "2022-01-18T12:54:02.219Z"
   },
   {
    "duration": 245,
    "start_time": "2022-01-18T12:54:23.918Z"
   },
   {
    "duration": 9,
    "start_time": "2022-01-18T12:54:36.752Z"
   },
   {
    "duration": 13,
    "start_time": "2022-01-18T12:54:41.108Z"
   },
   {
    "duration": 3,
    "start_time": "2022-01-18T12:54:49.114Z"
   },
   {
    "duration": 50,
    "start_time": "2022-01-18T12:54:49.121Z"
   },
   {
    "duration": 10,
    "start_time": "2022-01-18T12:54:49.172Z"
   },
   {
    "duration": 14,
    "start_time": "2022-01-18T12:54:49.184Z"
   },
   {
    "duration": 20,
    "start_time": "2022-01-18T12:54:49.200Z"
   },
   {
    "duration": 4,
    "start_time": "2022-01-18T12:54:49.223Z"
   },
   {
    "duration": 31,
    "start_time": "2022-01-18T12:54:49.229Z"
   },
   {
    "duration": 6,
    "start_time": "2022-01-18T12:54:49.262Z"
   },
   {
    "duration": 10,
    "start_time": "2022-01-18T12:54:49.270Z"
   },
   {
    "duration": 11,
    "start_time": "2022-01-18T12:54:49.282Z"
   },
   {
    "duration": 2,
    "start_time": "2022-01-18T12:54:49.294Z"
   },
   {
    "duration": 86,
    "start_time": "2022-01-18T18:51:56.560Z"
   },
   {
    "duration": 816,
    "start_time": "2022-01-18T18:51:58.885Z"
   },
   {
    "duration": 75,
    "start_time": "2022-01-18T18:51:59.704Z"
   },
   {
    "duration": 14,
    "start_time": "2022-01-18T18:51:59.782Z"
   },
   {
    "duration": 35,
    "start_time": "2022-01-18T18:51:59.798Z"
   },
   {
    "duration": 23,
    "start_time": "2022-01-18T18:51:59.835Z"
   },
   {
    "duration": 6,
    "start_time": "2022-01-18T18:51:59.860Z"
   },
   {
    "duration": 8,
    "start_time": "2022-01-18T18:51:59.869Z"
   },
   {
    "duration": 6,
    "start_time": "2022-01-18T18:51:59.880Z"
   },
   {
    "duration": 10,
    "start_time": "2022-01-18T18:51:59.931Z"
   },
   {
    "duration": 86,
    "start_time": "2022-01-18T18:51:59.943Z"
   },
   {
    "duration": 582,
    "start_time": "2022-01-18T18:51:59.449Z"
   },
   {
    "duration": 577,
    "start_time": "2022-01-18T18:51:59.456Z"
   },
   {
    "duration": 1827,
    "start_time": "2022-01-18T18:52:11.211Z"
   },
   {
    "duration": 21,
    "start_time": "2022-01-18T18:52:56.250Z"
   },
   {
    "duration": 3,
    "start_time": "2022-01-18T18:52:58.521Z"
   },
   {
    "duration": 64,
    "start_time": "2022-01-18T18:52:58.527Z"
   },
   {
    "duration": 13,
    "start_time": "2022-01-18T18:52:58.594Z"
   },
   {
    "duration": 32,
    "start_time": "2022-01-18T18:52:58.609Z"
   },
   {
    "duration": 31,
    "start_time": "2022-01-18T18:52:58.643Z"
   },
   {
    "duration": 6,
    "start_time": "2022-01-18T18:52:58.677Z"
   },
   {
    "duration": 6,
    "start_time": "2022-01-18T18:52:58.686Z"
   },
   {
    "duration": 37,
    "start_time": "2022-01-18T18:52:58.695Z"
   },
   {
    "duration": 9,
    "start_time": "2022-01-18T18:52:58.735Z"
   },
   {
    "duration": 1766,
    "start_time": "2022-01-18T18:52:58.746Z"
   },
   {
    "duration": 553,
    "start_time": "2022-01-18T18:52:59.962Z"
   },
   {
    "duration": 553,
    "start_time": "2022-01-18T18:52:59.964Z"
   },
   {
    "duration": 11,
    "start_time": "2022-01-18T18:53:36.001Z"
   },
   {
    "duration": 8,
    "start_time": "2022-01-18T18:53:51.917Z"
   },
   {
    "duration": 274,
    "start_time": "2022-01-18T18:53:58.039Z"
   },
   {
    "duration": 4,
    "start_time": "2022-01-18T18:54:35.188Z"
   },
   {
    "duration": 64,
    "start_time": "2022-01-18T18:54:35.194Z"
   },
   {
    "duration": 12,
    "start_time": "2022-01-18T18:54:35.261Z"
   },
   {
    "duration": 18,
    "start_time": "2022-01-18T18:54:35.276Z"
   },
   {
    "duration": 46,
    "start_time": "2022-01-18T18:54:35.296Z"
   },
   {
    "duration": 6,
    "start_time": "2022-01-18T18:54:35.345Z"
   },
   {
    "duration": 10,
    "start_time": "2022-01-18T18:54:35.354Z"
   },
   {
    "duration": 24,
    "start_time": "2022-01-18T18:54:35.366Z"
   },
   {
    "duration": 13,
    "start_time": "2022-01-18T18:54:35.393Z"
   },
   {
    "duration": 24,
    "start_time": "2022-01-18T18:54:35.408Z"
   },
   {
    "duration": 20,
    "start_time": "2022-01-18T18:54:35.435Z"
   },
   {
    "duration": 346,
    "start_time": "2022-01-18T18:54:35.458Z"
   },
   {
    "duration": 5,
    "start_time": "2022-01-18T18:56:12.455Z"
   },
   {
    "duration": 6,
    "start_time": "2022-01-18T18:56:21.449Z"
   },
   {
    "duration": 20,
    "start_time": "2022-01-18T18:56:37.887Z"
   },
   {
    "duration": 292,
    "start_time": "2022-01-18T19:09:48.258Z"
   },
   {
    "duration": 23,
    "start_time": "2022-01-18T19:10:09.310Z"
   },
   {
    "duration": 21,
    "start_time": "2022-01-18T19:10:29.189Z"
   },
   {
    "duration": 26,
    "start_time": "2022-01-18T19:37:47.147Z"
   },
   {
    "duration": 6,
    "start_time": "2022-01-18T19:38:15.711Z"
   },
   {
    "duration": 36,
    "start_time": "2022-01-18T19:40:03.329Z"
   },
   {
    "duration": 11,
    "start_time": "2022-01-18T19:40:17.571Z"
   },
   {
    "duration": 3,
    "start_time": "2022-01-18T19:40:26.712Z"
   },
   {
    "duration": 65,
    "start_time": "2022-01-18T19:40:26.718Z"
   },
   {
    "duration": 13,
    "start_time": "2022-01-18T19:40:26.785Z"
   },
   {
    "duration": 43,
    "start_time": "2022-01-18T19:40:26.801Z"
   },
   {
    "duration": 28,
    "start_time": "2022-01-18T19:40:26.846Z"
   },
   {
    "duration": 12,
    "start_time": "2022-01-18T19:40:26.877Z"
   },
   {
    "duration": 13,
    "start_time": "2022-01-18T19:40:26.891Z"
   },
   {
    "duration": 13,
    "start_time": "2022-01-18T19:40:26.932Z"
   },
   {
    "duration": 13,
    "start_time": "2022-01-18T19:40:26.948Z"
   },
   {
    "duration": 11,
    "start_time": "2022-01-18T19:40:26.963Z"
   },
   {
    "duration": 7,
    "start_time": "2022-01-18T19:40:26.976Z"
   },
   {
    "duration": 21,
    "start_time": "2022-01-18T19:40:26.986Z"
   },
   {
    "duration": 45,
    "start_time": "2022-01-18T19:40:27.009Z"
   },
   {
    "duration": 19,
    "start_time": "2022-01-18T19:40:27.056Z"
   },
   {
    "duration": 99,
    "start_time": "2022-01-18T19:40:27.077Z"
   },
   {
    "duration": 594,
    "start_time": "2022-01-18T19:40:26.584Z"
   },
   {
    "duration": 4,
    "start_time": "2022-01-18T19:40:42.945Z"
   },
   {
    "duration": 65,
    "start_time": "2022-01-18T19:40:42.952Z"
   },
   {
    "duration": 18,
    "start_time": "2022-01-18T19:40:43.019Z"
   },
   {
    "duration": 32,
    "start_time": "2022-01-18T19:40:43.040Z"
   },
   {
    "duration": 20,
    "start_time": "2022-01-18T19:40:43.075Z"
   },
   {
    "duration": 10,
    "start_time": "2022-01-18T19:40:43.098Z"
   },
   {
    "duration": 14,
    "start_time": "2022-01-18T19:40:43.132Z"
   },
   {
    "duration": 14,
    "start_time": "2022-01-18T19:40:43.153Z"
   },
   {
    "duration": 10,
    "start_time": "2022-01-18T19:40:43.171Z"
   },
   {
    "duration": 10,
    "start_time": "2022-01-18T19:40:43.183Z"
   },
   {
    "duration": 8,
    "start_time": "2022-01-18T19:40:43.195Z"
   },
   {
    "duration": 46,
    "start_time": "2022-01-18T19:40:43.205Z"
   },
   {
    "duration": 19,
    "start_time": "2022-01-18T19:40:43.254Z"
   },
   {
    "duration": 22,
    "start_time": "2022-01-18T19:40:43.276Z"
   },
   {
    "duration": 37,
    "start_time": "2022-01-18T19:40:43.300Z"
   },
   {
    "duration": 12,
    "start_time": "2022-01-18T19:41:14.245Z"
   },
   {
    "duration": 3,
    "start_time": "2022-01-18T19:41:19.984Z"
   },
   {
    "duration": 74,
    "start_time": "2022-01-18T19:41:19.990Z"
   },
   {
    "duration": 15,
    "start_time": "2022-01-18T19:41:20.068Z"
   },
   {
    "duration": 13,
    "start_time": "2022-01-18T19:41:20.086Z"
   },
   {
    "duration": 21,
    "start_time": "2022-01-18T19:41:20.136Z"
   },
   {
    "duration": 20,
    "start_time": "2022-01-18T19:41:20.159Z"
   },
   {
    "duration": 6,
    "start_time": "2022-01-18T19:41:20.182Z"
   },
   {
    "duration": 15,
    "start_time": "2022-01-18T19:41:20.191Z"
   },
   {
    "duration": 7,
    "start_time": "2022-01-18T19:41:20.234Z"
   },
   {
    "duration": 28,
    "start_time": "2022-01-18T19:41:20.246Z"
   },
   {
    "duration": 18,
    "start_time": "2022-01-18T19:41:20.277Z"
   },
   {
    "duration": 35,
    "start_time": "2022-01-18T19:41:20.297Z"
   },
   {
    "duration": 36,
    "start_time": "2022-01-18T19:41:20.335Z"
   },
   {
    "duration": 29,
    "start_time": "2022-01-18T19:41:20.375Z"
   },
   {
    "duration": 6,
    "start_time": "2022-01-18T19:41:20.407Z"
   },
   {
    "duration": 4,
    "start_time": "2022-01-19T09:07:03.147Z"
   },
   {
    "duration": 3,
    "start_time": "2022-01-19T09:07:40.584Z"
   },
   {
    "duration": 417,
    "start_time": "2022-01-19T10:53:07.082Z"
   },
   {
    "duration": 346,
    "start_time": "2022-01-19T10:53:34.491Z"
   },
   {
    "duration": 716,
    "start_time": "2022-01-19T10:53:36.067Z"
   },
   {
    "duration": 71,
    "start_time": "2022-01-19T10:53:36.785Z"
   },
   {
    "duration": 15,
    "start_time": "2022-01-19T10:53:36.859Z"
   },
   {
    "duration": 16,
    "start_time": "2022-01-19T10:53:36.877Z"
   },
   {
    "duration": 44,
    "start_time": "2022-01-19T10:53:36.896Z"
   },
   {
    "duration": 29,
    "start_time": "2022-01-19T10:53:36.943Z"
   },
   {
    "duration": 8,
    "start_time": "2022-01-19T10:53:36.976Z"
   },
   {
    "duration": 41,
    "start_time": "2022-01-19T10:53:36.987Z"
   },
   {
    "duration": 9,
    "start_time": "2022-01-19T10:53:37.032Z"
   },
   {
    "duration": 10,
    "start_time": "2022-01-19T10:53:37.043Z"
   },
   {
    "duration": 12,
    "start_time": "2022-01-19T10:53:37.056Z"
   },
   {
    "duration": 67,
    "start_time": "2022-01-19T10:53:37.071Z"
   },
   {
    "duration": 26,
    "start_time": "2022-01-19T10:53:37.141Z"
   },
   {
    "duration": 22,
    "start_time": "2022-01-19T10:53:37.170Z"
   },
   {
    "duration": 32,
    "start_time": "2022-01-19T10:53:37.194Z"
   },
   {
    "duration": 9,
    "start_time": "2022-01-19T10:53:37.229Z"
   },
   {
    "duration": 10,
    "start_time": "2022-01-19T10:53:53.875Z"
   },
   {
    "duration": 8,
    "start_time": "2022-01-19T10:54:06.483Z"
   },
   {
    "duration": 423,
    "start_time": "2022-01-19T11:05:20.257Z"
   },
   {
    "duration": 9,
    "start_time": "2022-01-19T11:05:39.077Z"
   },
   {
    "duration": 301,
    "start_time": "2022-01-19T11:06:37.776Z"
   },
   {
    "duration": 114,
    "start_time": "2022-01-19T11:09:55.839Z"
   },
   {
    "duration": 608,
    "start_time": "2022-01-19T11:10:05.694Z"
   },
   {
    "duration": 712,
    "start_time": "2022-01-19T11:10:21.784Z"
   },
   {
    "duration": 1722,
    "start_time": "2022-01-19T11:10:29.448Z"
   },
   {
    "duration": 304,
    "start_time": "2022-01-19T11:10:40.129Z"
   },
   {
    "duration": 293,
    "start_time": "2022-01-19T11:10:47.340Z"
   },
   {
    "duration": 301,
    "start_time": "2022-01-19T11:10:53.389Z"
   },
   {
    "duration": 313,
    "start_time": "2022-01-19T11:11:44.380Z"
   },
   {
    "duration": 104,
    "start_time": "2022-01-19T11:20:07.219Z"
   },
   {
    "duration": 283,
    "start_time": "2022-01-19T11:20:15.735Z"
   },
   {
    "duration": 295,
    "start_time": "2022-01-19T11:20:21.020Z"
   },
   {
    "duration": 328,
    "start_time": "2022-01-19T11:20:31.132Z"
   },
   {
    "duration": 348,
    "start_time": "2022-01-19T11:20:43.115Z"
   },
   {
    "duration": 468,
    "start_time": "2022-01-19T11:23:57.377Z"
   },
   {
    "duration": 826,
    "start_time": "2022-01-19T11:23:58.752Z"
   },
   {
    "duration": 100,
    "start_time": "2022-01-19T11:23:59.582Z"
   },
   {
    "duration": 19,
    "start_time": "2022-01-19T11:23:59.686Z"
   },
   {
    "duration": 20,
    "start_time": "2022-01-19T11:23:59.725Z"
   },
   {
    "duration": 51,
    "start_time": "2022-01-19T11:23:59.748Z"
   },
   {
    "duration": 36,
    "start_time": "2022-01-19T11:23:59.803Z"
   },
   {
    "duration": 12,
    "start_time": "2022-01-19T11:23:59.843Z"
   },
   {
    "duration": 7,
    "start_time": "2022-01-19T11:23:59.860Z"
   },
   {
    "duration": 52,
    "start_time": "2022-01-19T11:23:59.871Z"
   },
   {
    "duration": 17,
    "start_time": "2022-01-19T11:23:59.929Z"
   },
   {
    "duration": 14,
    "start_time": "2022-01-19T11:23:59.950Z"
   },
   {
    "duration": 57,
    "start_time": "2022-01-19T11:23:59.967Z"
   },
   {
    "duration": 31,
    "start_time": "2022-01-19T11:24:00.027Z"
   },
   {
    "duration": 24,
    "start_time": "2022-01-19T11:24:00.062Z"
   },
   {
    "duration": 42,
    "start_time": "2022-01-19T11:24:00.089Z"
   },
   {
    "duration": 31,
    "start_time": "2022-01-19T11:24:00.136Z"
   },
   {
    "duration": 380,
    "start_time": "2022-01-19T11:24:00.171Z"
   },
   {
    "duration": 557,
    "start_time": "2022-01-19T11:24:00.554Z"
   },
   {
    "duration": -180,
    "start_time": "2022-01-19T11:24:01.293Z"
   },
   {
    "duration": 445,
    "start_time": "2022-01-19T11:24:37.201Z"
   },
   {
    "duration": 461,
    "start_time": "2022-01-19T11:26:16.816Z"
   },
   {
    "duration": 419,
    "start_time": "2022-01-19T11:26:57.120Z"
   },
   {
    "duration": 326,
    "start_time": "2022-01-19T11:27:01.221Z"
   },
   {
    "duration": 284,
    "start_time": "2022-01-19T11:27:48.952Z"
   },
   {
    "duration": 399,
    "start_time": "2022-01-19T11:33:44.849Z"
   },
   {
    "duration": 1508,
    "start_time": "2022-01-19T11:33:47.876Z"
   },
   {
    "duration": 77,
    "start_time": "2022-01-19T11:33:49.387Z"
   },
   {
    "duration": 15,
    "start_time": "2022-01-19T11:33:49.467Z"
   },
   {
    "duration": 12,
    "start_time": "2022-01-19T11:33:49.484Z"
   },
   {
    "duration": 22,
    "start_time": "2022-01-19T11:33:49.524Z"
   },
   {
    "duration": 25,
    "start_time": "2022-01-19T11:33:49.549Z"
   },
   {
    "duration": 8,
    "start_time": "2022-01-19T11:33:49.577Z"
   },
   {
    "duration": 8,
    "start_time": "2022-01-19T11:33:49.623Z"
   },
   {
    "duration": 13,
    "start_time": "2022-01-19T11:33:49.635Z"
   },
   {
    "duration": 11,
    "start_time": "2022-01-19T11:33:49.650Z"
   },
   {
    "duration": 8,
    "start_time": "2022-01-19T11:33:49.663Z"
   },
   {
    "duration": 63,
    "start_time": "2022-01-19T11:33:49.675Z"
   },
   {
    "duration": 24,
    "start_time": "2022-01-19T11:33:49.741Z"
   },
   {
    "duration": 24,
    "start_time": "2022-01-19T11:33:49.768Z"
   },
   {
    "duration": 34,
    "start_time": "2022-01-19T11:33:49.795Z"
   },
   {
    "duration": 20,
    "start_time": "2022-01-19T11:33:49.832Z"
   },
   {
    "duration": 481,
    "start_time": "2022-01-19T11:33:49.855Z"
   },
   {
    "duration": 9099,
    "start_time": "2022-01-19T11:33:50.339Z"
   },
   {
    "duration": 95,
    "start_time": "2022-01-19T11:33:59.440Z"
   },
   {
    "duration": 9896,
    "start_time": "2022-01-19T11:35:08.734Z"
   },
   {
    "duration": 496,
    "start_time": "2022-01-19T11:36:54.603Z"
   },
   {
    "duration": 334,
    "start_time": "2022-01-19T11:37:01.894Z"
   },
   {
    "duration": 434,
    "start_time": "2022-01-19T11:37:08.702Z"
   },
   {
    "duration": 296,
    "start_time": "2022-01-19T11:37:18.494Z"
   },
   {
    "duration": 304,
    "start_time": "2022-01-19T11:37:23.032Z"
   },
   {
    "duration": 635,
    "start_time": "2022-01-19T11:37:31.751Z"
   },
   {
    "duration": 695,
    "start_time": "2022-01-19T11:37:46.093Z"
   },
   {
    "duration": 440,
    "start_time": "2022-01-19T11:38:05.870Z"
   },
   {
    "duration": 552,
    "start_time": "2022-01-19T11:38:13.573Z"
   },
   {
    "duration": 548,
    "start_time": "2022-01-19T11:38:31.967Z"
   },
   {
    "duration": 497,
    "start_time": "2022-01-19T11:38:39.901Z"
   },
   {
    "duration": 533,
    "start_time": "2022-01-19T11:38:45.764Z"
   },
   {
    "duration": 337,
    "start_time": "2022-01-19T11:38:59.294Z"
   },
   {
    "duration": 375,
    "start_time": "2022-01-19T11:52:54.774Z"
   },
   {
    "duration": 22,
    "start_time": "2022-01-19T11:53:19.592Z"
   },
   {
    "duration": 331,
    "start_time": "2022-01-19T11:54:26.424Z"
   },
   {
    "duration": 23,
    "start_time": "2022-01-19T11:54:54.428Z"
   },
   {
    "duration": 365,
    "start_time": "2022-01-19T11:56:04.012Z"
   },
   {
    "duration": 36,
    "start_time": "2022-01-19T11:56:34.072Z"
   },
   {
    "duration": 559,
    "start_time": "2022-01-19T12:09:42.092Z"
   },
   {
    "duration": 581,
    "start_time": "2022-01-19T12:10:10.019Z"
   },
   {
    "duration": 20,
    "start_time": "2022-01-19T12:10:58.221Z"
   },
   {
    "duration": 534,
    "start_time": "2022-01-19T12:11:59.674Z"
   },
   {
    "duration": 581,
    "start_time": "2022-01-19T12:12:05.923Z"
   },
   {
    "duration": 334,
    "start_time": "2022-01-19T12:12:10.238Z"
   },
   {
    "duration": 372,
    "start_time": "2022-01-19T12:16:00.035Z"
   },
   {
    "duration": 102,
    "start_time": "2022-01-19T12:16:27.576Z"
   },
   {
    "duration": 704,
    "start_time": "2022-01-19T12:16:54.599Z"
   },
   {
    "duration": 3,
    "start_time": "2022-01-19T12:17:19.342Z"
   },
   {
    "duration": 5,
    "start_time": "2022-01-19T12:17:20.640Z"
   },
   {
    "duration": 65,
    "start_time": "2022-01-19T12:17:20.650Z"
   },
   {
    "duration": 13,
    "start_time": "2022-01-19T12:17:20.717Z"
   },
   {
    "duration": 13,
    "start_time": "2022-01-19T12:17:20.733Z"
   },
   {
    "duration": 21,
    "start_time": "2022-01-19T12:17:20.749Z"
   },
   {
    "duration": 60,
    "start_time": "2022-01-19T12:17:20.772Z"
   },
   {
    "duration": 6,
    "start_time": "2022-01-19T12:17:20.835Z"
   },
   {
    "duration": 13,
    "start_time": "2022-01-19T12:17:20.844Z"
   },
   {
    "duration": 7,
    "start_time": "2022-01-19T12:17:20.861Z"
   },
   {
    "duration": 10,
    "start_time": "2022-01-19T12:17:20.871Z"
   },
   {
    "duration": 46,
    "start_time": "2022-01-19T12:17:20.883Z"
   },
   {
    "duration": 31,
    "start_time": "2022-01-19T12:17:20.931Z"
   },
   {
    "duration": 21,
    "start_time": "2022-01-19T12:17:20.964Z"
   },
   {
    "duration": 44,
    "start_time": "2022-01-19T12:17:20.987Z"
   },
   {
    "duration": 5,
    "start_time": "2022-01-19T12:17:21.034Z"
   },
   {
    "duration": 16,
    "start_time": "2022-01-19T12:17:21.041Z"
   },
   {
    "duration": 690,
    "start_time": "2022-01-19T12:17:21.060Z"
   },
   {
    "duration": 4,
    "start_time": "2022-01-19T12:17:21.753Z"
   },
   {
    "duration": 22,
    "start_time": "2022-01-19T12:17:21.760Z"
   },
   {
    "duration": 559,
    "start_time": "2022-01-19T12:17:21.784Z"
   },
   {
    "duration": 957,
    "start_time": "2022-01-19T12:18:20.991Z"
   },
   {
    "duration": 607,
    "start_time": "2022-01-19T12:18:41.831Z"
   },
   {
    "duration": 713,
    "start_time": "2022-01-19T12:19:12.470Z"
   },
   {
    "duration": 728,
    "start_time": "2022-01-19T12:19:28.144Z"
   },
   {
    "duration": 99,
    "start_time": "2022-01-19T12:34:59.732Z"
   },
   {
    "duration": 134,
    "start_time": "2022-01-19T12:36:21.139Z"
   },
   {
    "duration": 4,
    "start_time": "2022-01-19T12:36:25.882Z"
   },
   {
    "duration": 69,
    "start_time": "2022-01-19T12:36:25.891Z"
   },
   {
    "duration": 13,
    "start_time": "2022-01-19T12:36:25.963Z"
   },
   {
    "duration": 52,
    "start_time": "2022-01-19T12:36:25.979Z"
   },
   {
    "duration": 24,
    "start_time": "2022-01-19T12:36:26.034Z"
   },
   {
    "duration": 20,
    "start_time": "2022-01-19T12:36:26.061Z"
   },
   {
    "duration": 42,
    "start_time": "2022-01-19T12:36:26.083Z"
   },
   {
    "duration": 20,
    "start_time": "2022-01-19T12:36:26.127Z"
   },
   {
    "duration": 11,
    "start_time": "2022-01-19T12:36:26.151Z"
   },
   {
    "duration": 11,
    "start_time": "2022-01-19T12:36:26.166Z"
   },
   {
    "duration": 8,
    "start_time": "2022-01-19T12:36:26.179Z"
   },
   {
    "duration": 55,
    "start_time": "2022-01-19T12:36:26.190Z"
   },
   {
    "duration": 21,
    "start_time": "2022-01-19T12:36:26.247Z"
   },
   {
    "duration": 19,
    "start_time": "2022-01-19T12:36:26.270Z"
   },
   {
    "duration": 5,
    "start_time": "2022-01-19T12:36:26.291Z"
   },
   {
    "duration": 36,
    "start_time": "2022-01-19T12:36:26.298Z"
   },
   {
    "duration": 816,
    "start_time": "2022-01-19T12:36:26.337Z"
   },
   {
    "duration": 2,
    "start_time": "2022-01-19T12:36:27.156Z"
   },
   {
    "duration": 18,
    "start_time": "2022-01-19T12:36:27.161Z"
   },
   {
    "duration": 604,
    "start_time": "2022-01-19T12:36:27.181Z"
   },
   {
    "duration": 93,
    "start_time": "2022-01-19T12:36:27.788Z"
   },
   {
    "duration": 108,
    "start_time": "2022-01-19T12:36:55.736Z"
   },
   {
    "duration": 102,
    "start_time": "2022-01-19T12:38:27.175Z"
   },
   {
    "duration": 105,
    "start_time": "2022-01-19T12:38:37.711Z"
   },
   {
    "duration": 30,
    "start_time": "2022-01-19T12:39:02.447Z"
   },
   {
    "duration": 97,
    "start_time": "2022-01-19T12:39:14.455Z"
   },
   {
    "duration": 96,
    "start_time": "2022-01-19T12:39:28.390Z"
   },
   {
    "duration": 26,
    "start_time": "2022-01-19T12:39:47.286Z"
   },
   {
    "duration": 416,
    "start_time": "2022-01-19T12:40:03.202Z"
   },
   {
    "duration": 395,
    "start_time": "2022-01-19T12:40:31.958Z"
   },
   {
    "duration": 95,
    "start_time": "2022-01-19T12:41:27.239Z"
   },
   {
    "duration": 102,
    "start_time": "2022-01-19T12:41:40.173Z"
   },
   {
    "duration": 104,
    "start_time": "2022-01-19T12:41:49.965Z"
   },
   {
    "duration": 92,
    "start_time": "2022-01-19T12:42:21.949Z"
   },
   {
    "duration": 99,
    "start_time": "2022-01-19T12:42:37.756Z"
   },
   {
    "duration": 90,
    "start_time": "2022-01-19T12:43:40.916Z"
   },
   {
    "duration": 402,
    "start_time": "2022-01-19T12:43:46.426Z"
   },
   {
    "duration": 565,
    "start_time": "2022-01-19T12:44:18.420Z"
   },
   {
    "duration": 94,
    "start_time": "2022-01-19T12:44:27.475Z"
   },
   {
    "duration": 410,
    "start_time": "2022-01-19T12:44:33.491Z"
   },
   {
    "duration": 119,
    "start_time": "2022-01-19T12:47:26.853Z"
   },
   {
    "duration": 4,
    "start_time": "2022-01-19T12:47:39.451Z"
   },
   {
    "duration": 63,
    "start_time": "2022-01-19T12:47:39.461Z"
   },
   {
    "duration": 18,
    "start_time": "2022-01-19T12:47:39.528Z"
   },
   {
    "duration": 15,
    "start_time": "2022-01-19T12:47:39.550Z"
   },
   {
    "duration": 59,
    "start_time": "2022-01-19T12:47:39.568Z"
   },
   {
    "duration": 24,
    "start_time": "2022-01-19T12:47:39.630Z"
   },
   {
    "duration": 10,
    "start_time": "2022-01-19T12:47:39.659Z"
   },
   {
    "duration": 11,
    "start_time": "2022-01-19T12:47:39.671Z"
   },
   {
    "duration": 8,
    "start_time": "2022-01-19T12:47:39.722Z"
   },
   {
    "duration": 18,
    "start_time": "2022-01-19T12:47:39.733Z"
   },
   {
    "duration": 9,
    "start_time": "2022-01-19T12:47:39.754Z"
   },
   {
    "duration": 19,
    "start_time": "2022-01-19T12:47:39.766Z"
   },
   {
    "duration": 49,
    "start_time": "2022-01-19T12:47:39.788Z"
   },
   {
    "duration": 21,
    "start_time": "2022-01-19T12:47:39.842Z"
   },
   {
    "duration": 6,
    "start_time": "2022-01-19T12:47:39.866Z"
   },
   {
    "duration": 11,
    "start_time": "2022-01-19T12:47:39.876Z"
   },
   {
    "duration": 600,
    "start_time": "2022-01-19T12:47:39.926Z"
   },
   {
    "duration": 3,
    "start_time": "2022-01-19T12:47:40.528Z"
   },
   {
    "duration": 42,
    "start_time": "2022-01-19T12:47:40.534Z"
   },
   {
    "duration": 849,
    "start_time": "2022-01-19T12:47:40.579Z"
   },
   {
    "duration": 420,
    "start_time": "2022-01-19T12:47:41.433Z"
   },
   {
    "duration": 107,
    "start_time": "2022-01-19T12:47:41.855Z"
   },
   {
    "duration": -154,
    "start_time": "2022-01-19T12:47:42.119Z"
   },
   {
    "duration": 4,
    "start_time": "2022-01-19T12:47:52.293Z"
   },
   {
    "duration": 71,
    "start_time": "2022-01-19T12:47:52.304Z"
   },
   {
    "duration": 14,
    "start_time": "2022-01-19T12:47:52.378Z"
   },
   {
    "duration": 36,
    "start_time": "2022-01-19T12:47:52.395Z"
   },
   {
    "duration": 24,
    "start_time": "2022-01-19T12:47:52.434Z"
   },
   {
    "duration": 22,
    "start_time": "2022-01-19T12:47:52.461Z"
   },
   {
    "duration": 47,
    "start_time": "2022-01-19T12:47:52.486Z"
   },
   {
    "duration": 16,
    "start_time": "2022-01-19T12:47:52.536Z"
   },
   {
    "duration": 6,
    "start_time": "2022-01-19T12:47:52.556Z"
   },
   {
    "duration": 11,
    "start_time": "2022-01-19T12:47:52.566Z"
   },
   {
    "duration": 48,
    "start_time": "2022-01-19T12:47:52.580Z"
   },
   {
    "duration": 22,
    "start_time": "2022-01-19T12:47:52.630Z"
   },
   {
    "duration": 19,
    "start_time": "2022-01-19T12:47:52.654Z"
   },
   {
    "duration": 21,
    "start_time": "2022-01-19T12:47:52.675Z"
   },
   {
    "duration": 6,
    "start_time": "2022-01-19T12:47:52.725Z"
   },
   {
    "duration": 16,
    "start_time": "2022-01-19T12:47:52.734Z"
   },
   {
    "duration": 791,
    "start_time": "2022-01-19T12:47:52.752Z"
   },
   {
    "duration": 3,
    "start_time": "2022-01-19T12:47:53.548Z"
   },
   {
    "duration": 26,
    "start_time": "2022-01-19T12:47:53.554Z"
   },
   {
    "duration": 605,
    "start_time": "2022-01-19T12:47:53.582Z"
   },
   {
    "duration": 457,
    "start_time": "2022-01-19T12:47:54.189Z"
   },
   {
    "duration": 103,
    "start_time": "2022-01-19T12:47:54.650Z"
   },
   {
    "duration": 103,
    "start_time": "2022-01-19T12:48:13.899Z"
   },
   {
    "duration": 439,
    "start_time": "2022-01-19T12:48:28.689Z"
   },
   {
    "duration": 93,
    "start_time": "2022-01-19T12:49:22.321Z"
   },
   {
    "duration": 540,
    "start_time": "2022-01-19T12:50:00.633Z"
   },
   {
    "duration": 101,
    "start_time": "2022-01-19T12:50:34.413Z"
   },
   {
    "duration": 575,
    "start_time": "2022-01-19T12:53:35.682Z"
   },
   {
    "duration": 109,
    "start_time": "2022-01-19T12:54:09.639Z"
   },
   {
    "duration": 492,
    "start_time": "2022-01-19T12:59:23.204Z"
   },
   {
    "duration": 137,
    "start_time": "2022-01-19T13:01:46.255Z"
   },
   {
    "duration": 15,
    "start_time": "2022-01-19T13:27:01.321Z"
   },
   {
    "duration": 382,
    "start_time": "2022-01-19T18:49:14.818Z"
   },
   {
    "duration": 4,
    "start_time": "2022-01-19T18:49:20.181Z"
   },
   {
    "duration": 1523,
    "start_time": "2022-01-19T18:49:23.584Z"
   },
   {
    "duration": 70,
    "start_time": "2022-01-19T18:49:25.110Z"
   },
   {
    "duration": 15,
    "start_time": "2022-01-19T18:49:25.183Z"
   },
   {
    "duration": 33,
    "start_time": "2022-01-19T18:49:25.201Z"
   },
   {
    "duration": 19,
    "start_time": "2022-01-19T18:49:25.237Z"
   },
   {
    "duration": 25,
    "start_time": "2022-01-19T18:49:25.259Z"
   },
   {
    "duration": 7,
    "start_time": "2022-01-19T18:49:25.286Z"
   },
   {
    "duration": 7,
    "start_time": "2022-01-19T18:49:25.333Z"
   },
   {
    "duration": 9,
    "start_time": "2022-01-19T18:49:25.344Z"
   },
   {
    "duration": 12,
    "start_time": "2022-01-19T18:49:25.356Z"
   },
   {
    "duration": 11,
    "start_time": "2022-01-19T18:49:25.371Z"
   },
   {
    "duration": 70,
    "start_time": "2022-01-19T18:49:25.385Z"
   },
   {
    "duration": 22,
    "start_time": "2022-01-19T18:49:25.458Z"
   },
   {
    "duration": 20,
    "start_time": "2022-01-19T18:49:25.483Z"
   },
   {
    "duration": 9,
    "start_time": "2022-01-19T18:49:25.532Z"
   },
   {
    "duration": 13,
    "start_time": "2022-01-19T18:49:25.544Z"
   },
   {
    "duration": 623,
    "start_time": "2022-01-19T18:49:25.560Z"
   },
   {
    "duration": 3,
    "start_time": "2022-01-19T18:49:26.185Z"
   },
   {
    "duration": 18,
    "start_time": "2022-01-19T18:49:26.190Z"
   },
   {
    "duration": 564,
    "start_time": "2022-01-19T18:49:26.210Z"
   },
   {
    "duration": 424,
    "start_time": "2022-01-19T18:49:26.777Z"
   },
   {
    "duration": 415,
    "start_time": "2022-01-19T18:49:27.204Z"
   },
   {
    "duration": 401,
    "start_time": "2022-01-19T18:49:27.634Z"
   },
   {
    "duration": 547,
    "start_time": "2022-01-19T18:49:28.037Z"
   },
   {
    "duration": 388,
    "start_time": "2022-01-19T18:49:28.588Z"
   },
   {
    "duration": 15,
    "start_time": "2022-01-19T18:52:13.268Z"
   },
   {
    "duration": 275,
    "start_time": "2022-01-19T18:53:17.159Z"
   },
   {
    "duration": 670,
    "start_time": "2022-01-19T18:53:26.893Z"
   },
   {
    "duration": 4,
    "start_time": "2022-01-19T18:53:29.449Z"
   },
   {
    "duration": 72,
    "start_time": "2022-01-19T18:53:29.456Z"
   },
   {
    "duration": 16,
    "start_time": "2022-01-19T18:53:29.532Z"
   },
   {
    "duration": 15,
    "start_time": "2022-01-19T18:53:29.552Z"
   },
   {
    "duration": 21,
    "start_time": "2022-01-19T18:53:29.570Z"
   },
   {
    "duration": 23,
    "start_time": "2022-01-19T18:53:29.633Z"
   },
   {
    "duration": 7,
    "start_time": "2022-01-19T18:53:29.659Z"
   },
   {
    "duration": 8,
    "start_time": "2022-01-19T18:53:29.668Z"
   },
   {
    "duration": 56,
    "start_time": "2022-01-19T18:53:29.678Z"
   },
   {
    "duration": 10,
    "start_time": "2022-01-19T18:53:29.736Z"
   },
   {
    "duration": 11,
    "start_time": "2022-01-19T18:53:29.748Z"
   },
   {
    "duration": 23,
    "start_time": "2022-01-19T18:53:29.761Z"
   },
   {
    "duration": 69,
    "start_time": "2022-01-19T18:53:29.787Z"
   },
   {
    "duration": 23,
    "start_time": "2022-01-19T18:53:29.858Z"
   },
   {
    "duration": 7,
    "start_time": "2022-01-19T18:53:29.884Z"
   },
   {
    "duration": 44,
    "start_time": "2022-01-19T18:53:29.894Z"
   },
   {
    "duration": 647,
    "start_time": "2022-01-19T18:53:29.941Z"
   },
   {
    "duration": 3,
    "start_time": "2022-01-19T18:53:30.591Z"
   },
   {
    "duration": 327,
    "start_time": "2022-01-19T18:53:30.598Z"
   },
   {
    "duration": 586,
    "start_time": "2022-01-19T18:53:30.927Z"
   },
   {
    "duration": 417,
    "start_time": "2022-01-19T18:53:31.516Z"
   },
   {
    "duration": 419,
    "start_time": "2022-01-19T18:53:31.935Z"
   },
   {
    "duration": 504,
    "start_time": "2022-01-19T18:53:32.357Z"
   },
   {
    "duration": 417,
    "start_time": "2022-01-19T18:53:32.863Z"
   },
   {
    "duration": 553,
    "start_time": "2022-01-19T18:53:33.283Z"
   },
   {
    "duration": 14,
    "start_time": "2022-01-19T18:53:56.659Z"
   },
   {
    "duration": 584,
    "start_time": "2022-01-19T18:54:07.171Z"
   },
   {
    "duration": 844,
    "start_time": "2022-01-19T18:54:18.243Z"
   },
   {
    "duration": 884,
    "start_time": "2022-01-19T18:54:20.581Z"
   },
   {
    "duration": 823,
    "start_time": "2022-01-19T18:54:36.424Z"
   },
   {
    "duration": 1026,
    "start_time": "2022-01-19T18:54:55.746Z"
   },
   {
    "duration": 379,
    "start_time": "2022-01-19T19:02:49.768Z"
   },
   {
    "duration": 122,
    "start_time": "2022-01-19T19:03:38.248Z"
   },
   {
    "duration": 86,
    "start_time": "2022-01-19T19:03:44.326Z"
   },
   {
    "duration": 634,
    "start_time": "2022-01-19T19:09:39.067Z"
   },
   {
    "duration": 8,
    "start_time": "2022-01-19T19:19:48.546Z"
   },
   {
    "duration": 9,
    "start_time": "2022-01-19T19:19:55.490Z"
   },
   {
    "duration": 32,
    "start_time": "2022-01-19T19:20:01.968Z"
   },
   {
    "duration": 106,
    "start_time": "2022-01-19T19:22:40.109Z"
   },
   {
    "duration": 28,
    "start_time": "2022-01-19T19:23:10.719Z"
   },
   {
    "duration": 99,
    "start_time": "2022-01-19T19:24:09.678Z"
   },
   {
    "duration": 106,
    "start_time": "2022-01-19T19:27:09.797Z"
   },
   {
    "duration": 99,
    "start_time": "2022-01-19T19:27:19.548Z"
   },
   {
    "duration": 382,
    "start_time": "2022-01-19T19:27:36.318Z"
   },
   {
    "duration": 95,
    "start_time": "2022-01-19T19:27:42.450Z"
   },
   {
    "duration": 97,
    "start_time": "2022-01-19T19:27:51.901Z"
   },
   {
    "duration": 262,
    "start_time": "2022-01-19T19:27:59.616Z"
   },
   {
    "duration": 2047,
    "start_time": "2022-01-19T19:35:16.613Z"
   },
   {
    "duration": 2045,
    "start_time": "2022-01-19T19:35:30.091Z"
   },
   {
    "duration": 1833,
    "start_time": "2022-01-19T19:37:28.259Z"
   },
   {
    "duration": 280,
    "start_time": "2022-01-19T19:39:24.156Z"
   },
   {
    "duration": 288,
    "start_time": "2022-01-19T19:39:32.342Z"
   },
   {
    "duration": 281,
    "start_time": "2022-01-19T19:39:50.652Z"
   },
   {
    "duration": 4,
    "start_time": "2022-01-19T19:40:00.766Z"
   },
   {
    "duration": 85,
    "start_time": "2022-01-19T19:40:00.773Z"
   },
   {
    "duration": 15,
    "start_time": "2022-01-19T19:40:00.860Z"
   },
   {
    "duration": 58,
    "start_time": "2022-01-19T19:40:00.878Z"
   },
   {
    "duration": 22,
    "start_time": "2022-01-19T19:40:00.939Z"
   },
   {
    "duration": 44,
    "start_time": "2022-01-19T19:40:00.964Z"
   },
   {
    "duration": 42,
    "start_time": "2022-01-19T19:40:01.014Z"
   },
   {
    "duration": 29,
    "start_time": "2022-01-19T19:40:01.060Z"
   },
   {
    "duration": 20,
    "start_time": "2022-01-19T19:40:01.092Z"
   },
   {
    "duration": 35,
    "start_time": "2022-01-19T19:40:01.115Z"
   },
   {
    "duration": 15,
    "start_time": "2022-01-19T19:40:01.153Z"
   },
   {
    "duration": 48,
    "start_time": "2022-01-19T19:40:01.171Z"
   },
   {
    "duration": 39,
    "start_time": "2022-01-19T19:40:01.222Z"
   },
   {
    "duration": 23,
    "start_time": "2022-01-19T19:40:01.264Z"
   },
   {
    "duration": 10,
    "start_time": "2022-01-19T19:40:01.289Z"
   },
   {
    "duration": 36,
    "start_time": "2022-01-19T19:40:01.302Z"
   },
   {
    "duration": 887,
    "start_time": "2022-01-19T19:40:01.341Z"
   },
   {
    "duration": 3,
    "start_time": "2022-01-19T19:40:02.233Z"
   },
   {
    "duration": 27,
    "start_time": "2022-01-19T19:40:02.241Z"
   },
   {
    "duration": 615,
    "start_time": "2022-01-19T19:40:02.271Z"
   },
   {
    "duration": 460,
    "start_time": "2022-01-19T19:40:02.890Z"
   },
   {
    "duration": 610,
    "start_time": "2022-01-19T19:40:03.354Z"
   },
   {
    "duration": 419,
    "start_time": "2022-01-19T19:40:03.967Z"
   },
   {
    "duration": 623,
    "start_time": "2022-01-19T19:40:04.389Z"
   },
   {
    "duration": 713,
    "start_time": "2022-01-19T19:40:05.034Z"
   },
   {
    "duration": 676,
    "start_time": "2022-01-19T19:40:05.750Z"
   },
   {
    "duration": 1049,
    "start_time": "2022-01-19T19:40:06.429Z"
   },
   {
    "duration": 297,
    "start_time": "2022-01-19T19:40:07.481Z"
   },
   {
    "duration": 109,
    "start_time": "2022-01-19T19:40:42.561Z"
   },
   {
    "duration": 39,
    "start_time": "2022-01-19T19:40:55.575Z"
   },
   {
    "duration": 36,
    "start_time": "2022-01-19T19:41:33.193Z"
   },
   {
    "duration": 95,
    "start_time": "2022-01-19T19:41:52.423Z"
   },
   {
    "duration": 40,
    "start_time": "2022-01-19T19:42:01.560Z"
   },
   {
    "duration": 39,
    "start_time": "2022-01-19T19:42:18.064Z"
   },
   {
    "duration": 312,
    "start_time": "2022-01-19T19:43:36.665Z"
   },
   {
    "duration": 38,
    "start_time": "2022-01-19T19:43:59.058Z"
   },
   {
    "duration": 295,
    "start_time": "2022-01-19T19:46:40.995Z"
   },
   {
    "duration": 945,
    "start_time": "2022-01-19T19:51:40.751Z"
   },
   {
    "duration": 1116,
    "start_time": "2022-01-19T19:58:51.570Z"
   },
   {
    "duration": 1062,
    "start_time": "2022-01-19T19:59:10.646Z"
   },
   {
    "duration": 915,
    "start_time": "2022-01-19T19:59:20.276Z"
   },
   {
    "duration": 11,
    "start_time": "2022-01-19T19:59:34.414Z"
   },
   {
    "duration": 14,
    "start_time": "2022-01-19T20:06:08.051Z"
   },
   {
    "duration": 554,
    "start_time": "2022-01-19T20:06:15.011Z"
   },
   {
    "duration": 4,
    "start_time": "2022-01-19T20:06:16.390Z"
   },
   {
    "duration": 87,
    "start_time": "2022-01-19T20:06:16.398Z"
   },
   {
    "duration": 15,
    "start_time": "2022-01-19T20:06:16.488Z"
   },
   {
    "duration": 14,
    "start_time": "2022-01-19T20:06:16.531Z"
   },
   {
    "duration": 22,
    "start_time": "2022-01-19T20:06:16.548Z"
   },
   {
    "duration": 23,
    "start_time": "2022-01-19T20:06:16.573Z"
   },
   {
    "duration": 39,
    "start_time": "2022-01-19T20:06:16.599Z"
   },
   {
    "duration": 8,
    "start_time": "2022-01-19T20:06:16.642Z"
   },
   {
    "duration": 14,
    "start_time": "2022-01-19T20:06:16.652Z"
   },
   {
    "duration": 19,
    "start_time": "2022-01-19T20:06:16.668Z"
   },
   {
    "duration": 9,
    "start_time": "2022-01-19T20:06:16.689Z"
   },
   {
    "duration": 24,
    "start_time": "2022-01-19T20:06:16.734Z"
   },
   {
    "duration": 30,
    "start_time": "2022-01-19T20:06:16.761Z"
   },
   {
    "duration": 58,
    "start_time": "2022-01-19T20:06:16.795Z"
   },
   {
    "duration": 7,
    "start_time": "2022-01-19T20:06:16.857Z"
   },
   {
    "duration": 16,
    "start_time": "2022-01-19T20:06:16.866Z"
   },
   {
    "duration": 669,
    "start_time": "2022-01-19T20:06:16.885Z"
   },
   {
    "duration": 3,
    "start_time": "2022-01-19T20:06:17.557Z"
   },
   {
    "duration": 28,
    "start_time": "2022-01-19T20:06:17.563Z"
   },
   {
    "duration": 640,
    "start_time": "2022-01-19T20:06:17.594Z"
   },
   {
    "duration": 539,
    "start_time": "2022-01-19T20:06:18.237Z"
   },
   {
    "duration": 405,
    "start_time": "2022-01-19T20:06:18.778Z"
   },
   {
    "duration": 398,
    "start_time": "2022-01-19T20:06:19.188Z"
   },
   {
    "duration": 396,
    "start_time": "2022-01-19T20:06:19.590Z"
   },
   {
    "duration": 388,
    "start_time": "2022-01-19T20:06:19.988Z"
   },
   {
    "duration": 401,
    "start_time": "2022-01-19T20:06:20.379Z"
   },
   {
    "duration": 650,
    "start_time": "2022-01-19T20:06:20.782Z"
   },
   {
    "duration": 11,
    "start_time": "2022-01-19T20:06:21.435Z"
   },
   {
    "duration": 1029,
    "start_time": "2022-01-19T20:06:21.449Z"
   },
   {
    "duration": 85,
    "start_time": "2022-01-19T20:06:22.481Z"
   },
   {
    "duration": 14,
    "start_time": "2022-01-19T20:15:43.652Z"
   },
   {
    "duration": 819,
    "start_time": "2022-01-19T20:54:01.756Z"
   },
   {
    "duration": 657,
    "start_time": "2022-01-19T20:54:21.806Z"
   },
   {
    "duration": 82,
    "start_time": "2022-01-19T20:54:49.214Z"
   },
   {
    "duration": 85,
    "start_time": "2022-01-19T20:54:53.065Z"
   },
   {
    "duration": 320,
    "start_time": "2022-01-19T20:55:23.111Z"
   },
   {
    "duration": 511,
    "start_time": "2022-01-19T21:01:34.546Z"
   },
   {
    "duration": 525,
    "start_time": "2022-01-19T21:01:45.879Z"
   },
   {
    "duration": 262,
    "start_time": "2022-01-19T21:03:03.016Z"
   },
   {
    "duration": 537,
    "start_time": "2022-01-19T21:03:15.601Z"
   },
   {
    "duration": 434,
    "start_time": "2022-01-19T21:06:16.727Z"
   },
   {
    "duration": 406,
    "start_time": "2022-01-19T21:06:49.259Z"
   },
   {
    "duration": 557,
    "start_time": "2022-01-19T21:06:54.443Z"
   },
   {
    "duration": 394,
    "start_time": "2022-01-19T21:07:03.977Z"
   },
   {
    "duration": 498,
    "start_time": "2022-01-19T21:08:13.843Z"
   },
   {
    "duration": 489,
    "start_time": "2022-01-19T21:08:25.755Z"
   },
   {
    "duration": 214,
    "start_time": "2022-01-19T21:08:38.907Z"
   },
   {
    "duration": 211,
    "start_time": "2022-01-19T21:09:40.267Z"
   },
   {
    "duration": 256,
    "start_time": "2022-01-19T21:10:22.798Z"
   },
   {
    "duration": 637,
    "start_time": "2022-01-19T21:10:41.248Z"
   },
   {
    "duration": 823,
    "start_time": "2022-01-19T21:11:00.794Z"
   },
   {
    "duration": 714,
    "start_time": "2022-01-19T21:11:08.722Z"
   },
   {
    "duration": 488,
    "start_time": "2022-01-19T21:11:18.374Z"
   },
   {
    "duration": 580,
    "start_time": "2022-01-19T21:12:02.373Z"
   },
   {
    "duration": 544,
    "start_time": "2022-01-19T21:12:16.845Z"
   },
   {
    "duration": 382,
    "start_time": "2022-01-19T21:12:31.977Z"
   },
   {
    "duration": 564,
    "start_time": "2022-01-19T21:12:39.435Z"
   },
   {
    "duration": 399,
    "start_time": "2022-01-19T21:12:43.769Z"
   },
   {
    "duration": 621,
    "start_time": "2022-01-19T21:12:54.415Z"
   },
   {
    "duration": 804,
    "start_time": "2022-01-19T21:13:05.085Z"
   },
   {
    "duration": 535,
    "start_time": "2022-01-19T21:13:14.023Z"
   },
   {
    "duration": 504,
    "start_time": "2022-01-19T21:14:36.114Z"
   },
   {
    "duration": 512,
    "start_time": "2022-01-19T21:14:43.031Z"
   },
   {
    "duration": 847,
    "start_time": "2022-01-19T21:14:49.981Z"
   },
   {
    "duration": 818,
    "start_time": "2022-01-19T21:15:01.499Z"
   },
   {
    "duration": 522,
    "start_time": "2022-01-19T21:15:19.244Z"
   },
   {
    "duration": 535,
    "start_time": "2022-01-19T21:15:31.888Z"
   },
   {
    "duration": 271,
    "start_time": "2022-01-19T21:25:20.391Z"
   },
   {
    "duration": 86,
    "start_time": "2022-01-19T21:25:46.394Z"
   },
   {
    "duration": 344,
    "start_time": "2022-01-19T21:25:54.124Z"
   },
   {
    "duration": 347,
    "start_time": "2022-01-19T21:26:53.918Z"
   },
   {
    "duration": 675,
    "start_time": "2022-01-19T21:27:36.831Z"
   },
   {
    "duration": 926,
    "start_time": "2022-01-19T21:29:42.972Z"
   },
   {
    "duration": 898,
    "start_time": "2022-01-19T21:30:12.928Z"
   },
   {
    "duration": 5,
    "start_time": "2022-01-19T21:30:14.594Z"
   },
   {
    "duration": 72,
    "start_time": "2022-01-19T21:30:14.602Z"
   },
   {
    "duration": 15,
    "start_time": "2022-01-19T21:30:14.678Z"
   },
   {
    "duration": 43,
    "start_time": "2022-01-19T21:30:14.696Z"
   },
   {
    "duration": 19,
    "start_time": "2022-01-19T21:30:14.742Z"
   },
   {
    "duration": 24,
    "start_time": "2022-01-19T21:30:14.764Z"
   },
   {
    "duration": 44,
    "start_time": "2022-01-19T21:30:14.791Z"
   },
   {
    "duration": 6,
    "start_time": "2022-01-19T21:30:14.839Z"
   },
   {
    "duration": 9,
    "start_time": "2022-01-19T21:30:14.848Z"
   },
   {
    "duration": 11,
    "start_time": "2022-01-19T21:30:14.860Z"
   },
   {
    "duration": 8,
    "start_time": "2022-01-19T21:30:14.874Z"
   },
   {
    "duration": 55,
    "start_time": "2022-01-19T21:30:14.884Z"
   },
   {
    "duration": 19,
    "start_time": "2022-01-19T21:30:14.941Z"
   },
   {
    "duration": 20,
    "start_time": "2022-01-19T21:30:14.963Z"
   },
   {
    "duration": 6,
    "start_time": "2022-01-19T21:30:14.985Z"
   },
   {
    "duration": 44,
    "start_time": "2022-01-19T21:30:14.994Z"
   },
   {
    "duration": 604,
    "start_time": "2022-01-19T21:30:15.040Z"
   },
   {
    "duration": 3,
    "start_time": "2022-01-19T21:30:15.646Z"
   },
   {
    "duration": 19,
    "start_time": "2022-01-19T21:30:15.652Z"
   },
   {
    "duration": 599,
    "start_time": "2022-01-19T21:30:15.674Z"
   },
   {
    "duration": 413,
    "start_time": "2022-01-19T21:30:16.276Z"
   },
   {
    "duration": 623,
    "start_time": "2022-01-19T21:30:16.691Z"
   },
   {
    "duration": 404,
    "start_time": "2022-01-19T21:30:17.332Z"
   },
   {
    "duration": 402,
    "start_time": "2022-01-19T21:30:17.738Z"
   },
   {
    "duration": 379,
    "start_time": "2022-01-19T21:30:18.142Z"
   },
   {
    "duration": 381,
    "start_time": "2022-01-19T21:30:18.523Z"
   },
   {
    "duration": 659,
    "start_time": "2022-01-19T21:30:18.906Z"
   },
   {
    "duration": 10,
    "start_time": "2022-01-19T21:30:19.567Z"
   },
   {
    "duration": 539,
    "start_time": "2022-01-19T21:30:19.580Z"
   },
   {
    "duration": 541,
    "start_time": "2022-01-19T21:30:20.121Z"
   },
   {
    "duration": 910,
    "start_time": "2022-01-19T21:30:20.664Z"
   },
   {
    "duration": 400,
    "start_time": "2022-01-19T21:31:19.377Z"
   },
   {
    "duration": 400,
    "start_time": "2022-01-19T21:31:33.883Z"
   },
   {
    "duration": 409,
    "start_time": "2022-01-19T21:31:46.966Z"
   },
   {
    "duration": 450,
    "start_time": "2022-01-19T21:32:00.820Z"
   },
   {
    "duration": 423,
    "start_time": "2022-01-19T21:32:42.938Z"
   },
   {
    "duration": 422,
    "start_time": "2022-01-19T21:32:53.225Z"
   },
   {
    "duration": 415,
    "start_time": "2022-01-19T21:33:03.019Z"
   },
   {
    "duration": 415,
    "start_time": "2022-01-19T21:33:18.835Z"
   },
   {
    "duration": 643,
    "start_time": "2022-01-19T21:33:30.068Z"
   },
   {
    "duration": 540,
    "start_time": "2022-01-19T21:34:05.207Z"
   },
   {
    "duration": 437,
    "start_time": "2022-01-19T21:35:06.264Z"
   },
   {
    "duration": 429,
    "start_time": "2022-01-19T21:35:13.612Z"
   },
   {
    "duration": 89,
    "start_time": "2022-01-19T21:35:34.386Z"
   },
   {
    "duration": 65,
    "start_time": "2022-01-20T09:58:30.830Z"
   },
   {
    "duration": 61,
    "start_time": "2022-01-20T09:58:51.811Z"
   },
   {
    "duration": 75,
    "start_time": "2022-01-20T09:59:00.787Z"
   },
   {
    "duration": 3,
    "start_time": "2022-01-20T09:59:02.729Z"
   },
   {
    "duration": 41,
    "start_time": "2022-01-20T09:59:02.748Z"
   },
   {
    "duration": 8,
    "start_time": "2022-01-20T09:59:02.791Z"
   },
   {
    "duration": 7,
    "start_time": "2022-01-20T09:59:02.800Z"
   },
   {
    "duration": 12,
    "start_time": "2022-01-20T09:59:02.809Z"
   },
   {
    "duration": 12,
    "start_time": "2022-01-20T09:59:02.824Z"
   },
   {
    "duration": 4,
    "start_time": "2022-01-20T09:59:02.847Z"
   },
   {
    "duration": 4,
    "start_time": "2022-01-20T09:59:02.861Z"
   },
   {
    "duration": 4,
    "start_time": "2022-01-20T09:59:02.875Z"
   },
   {
    "duration": 5,
    "start_time": "2022-01-20T09:59:02.890Z"
   },
   {
    "duration": 5,
    "start_time": "2022-01-20T09:59:02.904Z"
   },
   {
    "duration": 10,
    "start_time": "2022-01-20T09:59:02.919Z"
   },
   {
    "duration": 12,
    "start_time": "2022-01-20T09:59:02.953Z"
   },
   {
    "duration": 11,
    "start_time": "2022-01-20T09:59:02.971Z"
   },
   {
    "duration": 3,
    "start_time": "2022-01-20T09:59:02.987Z"
   },
   {
    "duration": 6,
    "start_time": "2022-01-20T09:59:03.005Z"
   },
   {
    "duration": 366,
    "start_time": "2022-01-20T09:59:03.016Z"
   },
   {
    "duration": 2,
    "start_time": "2022-01-20T09:59:03.384Z"
   },
   {
    "duration": 15,
    "start_time": "2022-01-20T09:59:03.388Z"
   },
   {
    "duration": 342,
    "start_time": "2022-01-20T09:59:03.405Z"
   },
   {
    "duration": 289,
    "start_time": "2022-01-20T09:59:03.749Z"
   },
   {
    "duration": 228,
    "start_time": "2022-01-20T09:59:04.040Z"
   },
   {
    "duration": 220,
    "start_time": "2022-01-20T09:59:04.269Z"
   },
   {
    "duration": 233,
    "start_time": "2022-01-20T09:59:04.492Z"
   },
   {
    "duration": 220,
    "start_time": "2022-01-20T09:59:04.727Z"
   },
   {
    "duration": 228,
    "start_time": "2022-01-20T09:59:04.949Z"
   },
   {
    "duration": 379,
    "start_time": "2022-01-20T09:59:05.178Z"
   },
   {
    "duration": 8,
    "start_time": "2022-01-20T09:59:05.559Z"
   },
   {
    "duration": 351,
    "start_time": "2022-01-20T09:59:05.569Z"
   },
   {
    "duration": 281,
    "start_time": "2022-01-20T09:59:05.922Z"
   },
   {
    "duration": 79,
    "start_time": "2022-01-20T09:59:06.205Z"
   },
   {
    "duration": -667,
    "start_time": "2022-01-20T09:59:06.953Z"
   },
   {
    "duration": 260,
    "start_time": "2022-01-20T09:59:49.174Z"
   },
   {
    "duration": 74,
    "start_time": "2022-01-20T11:00:06.447Z"
   },
   {
    "duration": 19,
    "start_time": "2022-01-20T11:00:21.104Z"
   },
   {
    "duration": 5,
    "start_time": "2022-01-20T11:21:37.582Z"
   },
   {
    "duration": 404,
    "start_time": "2022-01-20T11:34:09.704Z"
   },
   {
    "duration": 418,
    "start_time": "2022-01-20T11:34:17.971Z"
   },
   {
    "duration": 349,
    "start_time": "2022-01-20T11:35:22.574Z"
   },
   {
    "duration": 342,
    "start_time": "2022-01-20T11:35:46.288Z"
   },
   {
    "duration": 368,
    "start_time": "2022-01-20T11:47:12.604Z"
   },
   {
    "duration": 347,
    "start_time": "2022-01-20T11:47:21.883Z"
   },
   {
    "duration": 365,
    "start_time": "2022-01-20T11:47:57.403Z"
   },
   {
    "duration": 359,
    "start_time": "2022-01-20T12:33:22.701Z"
   },
   {
    "duration": 377,
    "start_time": "2022-01-20T12:33:29.392Z"
   },
   {
    "duration": 4890,
    "start_time": "2022-01-20T12:36:41.248Z"
   },
   {
    "duration": 5,
    "start_time": "2022-01-20T12:39:10.861Z"
   },
   {
    "duration": 4,
    "start_time": "2022-01-20T12:39:19.846Z"
   },
   {
    "duration": 4,
    "start_time": "2022-01-20T12:39:42.943Z"
   },
   {
    "duration": 5,
    "start_time": "2022-01-20T12:39:45.856Z"
   },
   {
    "duration": 65,
    "start_time": "2022-01-20T12:40:14.485Z"
   },
   {
    "duration": 5,
    "start_time": "2022-01-20T12:41:59.534Z"
   },
   {
    "duration": 8,
    "start_time": "2022-01-20T13:10:33.021Z"
   },
   {
    "duration": 373,
    "start_time": "2022-01-20T13:10:49.504Z"
   },
   {
    "duration": 4,
    "start_time": "2022-01-20T13:23:30.219Z"
   },
   {
    "duration": 4,
    "start_time": "2022-01-20T13:24:11.654Z"
   },
   {
    "duration": 1027,
    "start_time": "2022-01-20T13:24:40.823Z"
   },
   {
    "duration": 49,
    "start_time": "2022-01-20T13:24:41.852Z"
   },
   {
    "duration": 9,
    "start_time": "2022-01-20T13:24:41.903Z"
   },
   {
    "duration": 8,
    "start_time": "2022-01-20T13:24:41.914Z"
   },
   {
    "duration": 13,
    "start_time": "2022-01-20T13:24:41.923Z"
   },
   {
    "duration": 15,
    "start_time": "2022-01-20T13:24:41.937Z"
   },
   {
    "duration": 5,
    "start_time": "2022-01-20T13:24:41.953Z"
   },
   {
    "duration": 5,
    "start_time": "2022-01-20T13:24:41.960Z"
   },
   {
    "duration": 4,
    "start_time": "2022-01-20T13:24:41.967Z"
   },
   {
    "duration": 7,
    "start_time": "2022-01-20T13:24:42.012Z"
   },
   {
    "duration": 6,
    "start_time": "2022-01-20T13:24:42.020Z"
   },
   {
    "duration": 13,
    "start_time": "2022-01-20T13:24:42.028Z"
   },
   {
    "duration": 14,
    "start_time": "2022-01-20T13:24:42.043Z"
   },
   {
    "duration": 12,
    "start_time": "2022-01-20T13:24:42.058Z"
   },
   {
    "duration": 5,
    "start_time": "2022-01-20T13:24:42.072Z"
   },
   {
    "duration": 35,
    "start_time": "2022-01-20T13:24:42.078Z"
   },
   {
    "duration": 404,
    "start_time": "2022-01-20T13:24:42.114Z"
   },
   {
    "duration": 2,
    "start_time": "2022-01-20T13:24:42.519Z"
   },
   {
    "duration": 12,
    "start_time": "2022-01-20T13:24:42.523Z"
   },
   {
    "duration": 374,
    "start_time": "2022-01-20T13:24:42.536Z"
   },
   {
    "duration": 262,
    "start_time": "2022-01-20T13:24:42.912Z"
   },
   {
    "duration": 260,
    "start_time": "2022-01-20T13:24:43.176Z"
   },
   {
    "duration": 248,
    "start_time": "2022-01-20T13:24:43.439Z"
   },
   {
    "duration": 287,
    "start_time": "2022-01-20T13:24:43.689Z"
   },
   {
    "duration": 227,
    "start_time": "2022-01-20T13:24:43.977Z"
   },
   {
    "duration": 225,
    "start_time": "2022-01-20T13:24:44.206Z"
   },
   {
    "duration": 407,
    "start_time": "2022-01-20T13:24:44.432Z"
   },
   {
    "duration": 8,
    "start_time": "2022-01-20T13:24:44.840Z"
   },
   {
    "duration": 348,
    "start_time": "2022-01-20T13:24:44.849Z"
   },
   {
    "duration": 249,
    "start_time": "2022-01-20T13:24:45.198Z"
   },
   {
    "duration": 264,
    "start_time": "2022-01-20T13:24:45.448Z"
   },
   {
    "duration": 5,
    "start_time": "2022-01-20T13:24:45.713Z"
   },
   {
    "duration": 349,
    "start_time": "2022-01-20T13:24:45.720Z"
   },
   {
    "duration": 342,
    "start_time": "2022-01-20T13:24:46.070Z"
   },
   {
    "duration": 65,
    "start_time": "2022-01-20T13:24:46.414Z"
   },
   {
    "duration": -789,
    "start_time": "2022-01-20T13:24:47.269Z"
   },
   {
    "duration": -822,
    "start_time": "2022-01-20T13:24:47.303Z"
   },
   {
    "duration": -833,
    "start_time": "2022-01-20T13:24:47.315Z"
   },
   {
    "duration": -843,
    "start_time": "2022-01-20T13:24:47.326Z"
   },
   {
    "duration": 3,
    "start_time": "2022-01-20T13:25:42.349Z"
   },
   {
    "duration": 1102,
    "start_time": "2022-01-20T13:25:59.444Z"
   },
   {
    "duration": 47,
    "start_time": "2022-01-20T13:26:00.548Z"
   },
   {
    "duration": 15,
    "start_time": "2022-01-20T13:26:00.597Z"
   },
   {
    "duration": 9,
    "start_time": "2022-01-20T13:26:00.613Z"
   },
   {
    "duration": 17,
    "start_time": "2022-01-20T13:26:00.624Z"
   },
   {
    "duration": 15,
    "start_time": "2022-01-20T13:26:00.643Z"
   },
   {
    "duration": 6,
    "start_time": "2022-01-20T13:26:00.659Z"
   },
   {
    "duration": 13,
    "start_time": "2022-01-20T13:26:00.667Z"
   },
   {
    "duration": 13,
    "start_time": "2022-01-20T13:26:00.681Z"
   },
   {
    "duration": 18,
    "start_time": "2022-01-20T13:26:00.695Z"
   },
   {
    "duration": 8,
    "start_time": "2022-01-20T13:26:00.714Z"
   },
   {
    "duration": 22,
    "start_time": "2022-01-20T13:26:00.723Z"
   },
   {
    "duration": 15,
    "start_time": "2022-01-20T13:26:00.746Z"
   },
   {
    "duration": 15,
    "start_time": "2022-01-20T13:26:00.762Z"
   },
   {
    "duration": 7,
    "start_time": "2022-01-20T13:26:00.778Z"
   },
   {
    "duration": 10,
    "start_time": "2022-01-20T13:26:00.786Z"
   },
   {
    "duration": 395,
    "start_time": "2022-01-20T13:26:00.797Z"
   },
   {
    "duration": 2,
    "start_time": "2022-01-20T13:26:01.194Z"
   },
   {
    "duration": 24,
    "start_time": "2022-01-20T13:26:01.198Z"
   },
   {
    "duration": 373,
    "start_time": "2022-01-20T13:26:01.223Z"
   },
   {
    "duration": 282,
    "start_time": "2022-01-20T13:26:01.598Z"
   },
   {
    "duration": 256,
    "start_time": "2022-01-20T13:26:01.882Z"
   },
   {
    "duration": 243,
    "start_time": "2022-01-20T13:26:02.142Z"
   },
   {
    "duration": 294,
    "start_time": "2022-01-20T13:26:02.387Z"
   },
   {
    "duration": 236,
    "start_time": "2022-01-20T13:26:02.683Z"
   },
   {
    "duration": 240,
    "start_time": "2022-01-20T13:26:02.921Z"
   },
   {
    "duration": 400,
    "start_time": "2022-01-20T13:26:03.163Z"
   },
   {
    "duration": 8,
    "start_time": "2022-01-20T13:26:03.565Z"
   },
   {
    "duration": 352,
    "start_time": "2022-01-20T13:26:03.574Z"
   },
   {
    "duration": 287,
    "start_time": "2022-01-20T13:26:03.928Z"
   },
   {
    "duration": 250,
    "start_time": "2022-01-20T13:26:04.217Z"
   },
   {
    "duration": 4,
    "start_time": "2022-01-20T13:26:04.469Z"
   },
   {
    "duration": 344,
    "start_time": "2022-01-20T13:26:04.474Z"
   },
   {
    "duration": 370,
    "start_time": "2022-01-20T13:26:04.819Z"
   },
   {
    "duration": 5,
    "start_time": "2022-01-20T13:26:05.190Z"
   },
   {
    "duration": 17,
    "start_time": "2022-01-20T13:26:05.196Z"
   },
   {
    "duration": 7,
    "start_time": "2022-01-20T13:26:05.214Z"
   },
   {
    "duration": 3,
    "start_time": "2022-01-20T13:26:05.223Z"
   },
   {
    "duration": 1089,
    "start_time": "2022-01-20T13:33:32.106Z"
   },
   {
    "duration": 49,
    "start_time": "2022-01-20T13:33:33.196Z"
   },
   {
    "duration": 9,
    "start_time": "2022-01-20T13:33:33.247Z"
   },
   {
    "duration": 7,
    "start_time": "2022-01-20T13:33:33.258Z"
   },
   {
    "duration": 11,
    "start_time": "2022-01-20T13:33:33.267Z"
   },
   {
    "duration": 39,
    "start_time": "2022-01-20T13:33:33.280Z"
   },
   {
    "duration": 4,
    "start_time": "2022-01-20T13:33:33.321Z"
   },
   {
    "duration": 5,
    "start_time": "2022-01-20T13:33:33.328Z"
   },
   {
    "duration": 4,
    "start_time": "2022-01-20T13:33:33.335Z"
   },
   {
    "duration": 6,
    "start_time": "2022-01-20T13:33:33.341Z"
   },
   {
    "duration": 7,
    "start_time": "2022-01-20T13:33:33.348Z"
   },
   {
    "duration": 13,
    "start_time": "2022-01-20T13:33:33.356Z"
   },
   {
    "duration": 43,
    "start_time": "2022-01-20T13:33:33.370Z"
   },
   {
    "duration": 13,
    "start_time": "2022-01-20T13:33:33.414Z"
   },
   {
    "duration": 5,
    "start_time": "2022-01-20T13:33:33.429Z"
   },
   {
    "duration": 8,
    "start_time": "2022-01-20T13:33:33.435Z"
   },
   {
    "duration": 386,
    "start_time": "2022-01-20T13:33:33.444Z"
   },
   {
    "duration": 2,
    "start_time": "2022-01-20T13:33:33.831Z"
   },
   {
    "duration": 13,
    "start_time": "2022-01-20T13:33:33.834Z"
   },
   {
    "duration": 355,
    "start_time": "2022-01-20T13:33:33.848Z"
   },
   {
    "duration": 248,
    "start_time": "2022-01-20T13:33:34.205Z"
   },
   {
    "duration": 246,
    "start_time": "2022-01-20T13:33:34.455Z"
   },
   {
    "duration": 261,
    "start_time": "2022-01-20T13:33:34.704Z"
   },
   {
    "duration": 322,
    "start_time": "2022-01-20T13:33:34.966Z"
   },
   {
    "duration": 257,
    "start_time": "2022-01-20T13:33:35.290Z"
   },
   {
    "duration": 254,
    "start_time": "2022-01-20T13:33:35.549Z"
   },
   {
    "duration": 426,
    "start_time": "2022-01-20T13:33:35.804Z"
   },
   {
    "duration": 7,
    "start_time": "2022-01-20T13:33:36.232Z"
   },
   {
    "duration": 351,
    "start_time": "2022-01-20T13:33:36.240Z"
   },
   {
    "duration": 269,
    "start_time": "2022-01-20T13:33:36.592Z"
   },
   {
    "duration": 253,
    "start_time": "2022-01-20T13:33:36.862Z"
   },
   {
    "duration": 6,
    "start_time": "2022-01-20T13:33:37.117Z"
   },
   {
    "duration": 373,
    "start_time": "2022-01-20T13:33:37.124Z"
   },
   {
    "duration": 384,
    "start_time": "2022-01-20T13:33:37.499Z"
   },
   {
    "duration": 4,
    "start_time": "2022-01-20T13:33:37.885Z"
   },
   {
    "duration": 9,
    "start_time": "2022-01-20T13:33:37.890Z"
   },
   {
    "duration": 18,
    "start_time": "2022-01-20T13:33:37.901Z"
   },
   {
    "duration": 246,
    "start_time": "2022-01-20T13:33:37.920Z"
   },
   {
    "duration": 388,
    "start_time": "2022-01-20T13:34:08.738Z"
   },
   {
    "duration": 7,
    "start_time": "2022-01-20T13:34:25.142Z"
   },
   {
    "duration": 298,
    "start_time": "2022-01-20T13:34:51.149Z"
   },
   {
    "duration": 300,
    "start_time": "2022-01-20T13:35:00.863Z"
   },
   {
    "duration": 286,
    "start_time": "2022-01-20T13:36:18.256Z"
   },
   {
    "duration": 265,
    "start_time": "2022-01-20T13:36:52.237Z"
   },
   {
    "duration": 301,
    "start_time": "2022-01-20T13:37:16.806Z"
   },
   {
    "duration": 277,
    "start_time": "2022-01-20T13:37:47.876Z"
   },
   {
    "duration": 226,
    "start_time": "2022-01-20T13:39:03.953Z"
   },
   {
    "duration": 296,
    "start_time": "2022-01-20T13:39:15.634Z"
   },
   {
    "duration": 22,
    "start_time": "2022-01-20T13:40:21.123Z"
   },
   {
    "duration": 21,
    "start_time": "2022-01-20T13:40:38.945Z"
   },
   {
    "duration": 294,
    "start_time": "2022-01-20T13:40:48.146Z"
   },
   {
    "duration": 5,
    "start_time": "2022-01-20T13:46:14.915Z"
   },
   {
    "duration": 5,
    "start_time": "2022-01-20T13:46:19.496Z"
   },
   {
    "duration": 71,
    "start_time": "2022-01-20T13:46:23.644Z"
   },
   {
    "duration": 2,
    "start_time": "2022-01-20T13:46:25.010Z"
   },
   {
    "duration": 45,
    "start_time": "2022-01-20T13:46:25.018Z"
   },
   {
    "duration": 8,
    "start_time": "2022-01-20T13:46:25.064Z"
   },
   {
    "duration": 7,
    "start_time": "2022-01-20T13:46:25.074Z"
   },
   {
    "duration": 12,
    "start_time": "2022-01-20T13:46:25.083Z"
   },
   {
    "duration": 15,
    "start_time": "2022-01-20T13:46:25.113Z"
   },
   {
    "duration": 6,
    "start_time": "2022-01-20T13:46:25.129Z"
   },
   {
    "duration": 4,
    "start_time": "2022-01-20T13:46:25.137Z"
   },
   {
    "duration": 6,
    "start_time": "2022-01-20T13:46:25.143Z"
   },
   {
    "duration": 6,
    "start_time": "2022-01-20T13:46:25.151Z"
   },
   {
    "duration": 6,
    "start_time": "2022-01-20T13:46:25.159Z"
   },
   {
    "duration": 58,
    "start_time": "2022-01-20T13:46:25.166Z"
   },
   {
    "duration": 13,
    "start_time": "2022-01-20T13:46:25.226Z"
   },
   {
    "duration": 13,
    "start_time": "2022-01-20T13:46:25.241Z"
   },
   {
    "duration": 4,
    "start_time": "2022-01-20T13:46:25.256Z"
   },
   {
    "duration": 8,
    "start_time": "2022-01-20T13:46:25.262Z"
   },
   {
    "duration": 427,
    "start_time": "2022-01-20T13:46:25.272Z"
   },
   {
    "duration": 2,
    "start_time": "2022-01-20T13:46:25.701Z"
   },
   {
    "duration": 14,
    "start_time": "2022-01-20T13:46:25.705Z"
   },
   {
    "duration": 354,
    "start_time": "2022-01-20T13:46:25.720Z"
   },
   {
    "duration": 341,
    "start_time": "2022-01-20T13:46:26.075Z"
   },
   {
    "duration": 253,
    "start_time": "2022-01-20T13:46:26.418Z"
   },
   {
    "duration": 251,
    "start_time": "2022-01-20T13:46:26.672Z"
   },
   {
    "duration": 254,
    "start_time": "2022-01-20T13:46:26.924Z"
   },
   {
    "duration": 240,
    "start_time": "2022-01-20T13:46:27.179Z"
   },
   {
    "duration": 235,
    "start_time": "2022-01-20T13:46:27.421Z"
   },
   {
    "duration": 408,
    "start_time": "2022-01-20T13:46:27.658Z"
   },
   {
    "duration": 7,
    "start_time": "2022-01-20T13:46:28.068Z"
   },
   {
    "duration": 335,
    "start_time": "2022-01-20T13:46:28.077Z"
   },
   {
    "duration": 250,
    "start_time": "2022-01-20T13:46:28.413Z"
   },
   {
    "duration": 241,
    "start_time": "2022-01-20T13:46:28.665Z"
   },
   {
    "duration": 7,
    "start_time": "2022-01-20T13:46:28.908Z"
   },
   {
    "duration": 435,
    "start_time": "2022-01-20T13:46:28.917Z"
   },
   {
    "duration": 342,
    "start_time": "2022-01-20T13:46:29.353Z"
   },
   {
    "duration": 4,
    "start_time": "2022-01-20T13:46:29.697Z"
   },
   {
    "duration": 13,
    "start_time": "2022-01-20T13:46:29.703Z"
   },
   {
    "duration": 24,
    "start_time": "2022-01-20T13:46:29.718Z"
   },
   {
    "duration": 5,
    "start_time": "2022-01-20T13:46:29.743Z"
   },
   {
    "duration": 84,
    "start_time": "2022-01-20T13:46:29.749Z"
   },
   {
    "duration": 4135,
    "start_time": "2022-01-20T13:47:08.522Z"
   },
   {
    "duration": 4092,
    "start_time": "2022-01-20T13:48:29.522Z"
   },
   {
    "duration": 588,
    "start_time": "2022-01-20T13:48:59.393Z"
   },
   {
    "duration": 494,
    "start_time": "2022-01-20T13:49:07.014Z"
   },
   {
    "duration": 4,
    "start_time": "2022-01-20T14:05:25.111Z"
   },
   {
    "duration": 203,
    "start_time": "2022-01-20T14:05:33.619Z"
   },
   {
    "duration": 253,
    "start_time": "2022-01-20T14:05:43.441Z"
   },
   {
    "duration": 218,
    "start_time": "2022-01-20T14:06:18.328Z"
   },
   {
    "duration": 217,
    "start_time": "2022-01-20T14:07:22.955Z"
   },
   {
    "duration": 15,
    "start_time": "2022-01-20T14:08:05.201Z"
   },
   {
    "duration": 210,
    "start_time": "2022-01-20T14:08:31.502Z"
   },
   {
    "duration": 207,
    "start_time": "2022-01-20T14:08:54.022Z"
   },
   {
    "duration": 627,
    "start_time": "2022-01-20T14:10:23.192Z"
   },
   {
    "duration": 210,
    "start_time": "2022-01-20T14:10:45.766Z"
   },
   {
    "duration": 249,
    "start_time": "2022-01-20T14:11:03.526Z"
   },
   {
    "duration": 217,
    "start_time": "2022-01-20T14:11:23.294Z"
   },
   {
    "duration": 899,
    "start_time": "2022-01-20T14:11:33.570Z"
   },
   {
    "duration": 190,
    "start_time": "2022-01-20T14:14:57.026Z"
   },
   {
    "duration": 196,
    "start_time": "2022-01-20T14:15:13.180Z"
   },
   {
    "duration": 404,
    "start_time": "2022-01-20T14:15:46.863Z"
   },
   {
    "duration": 345,
    "start_time": "2022-01-20T14:16:58.960Z"
   },
   {
    "duration": 4,
    "start_time": "2022-01-20T14:17:00.518Z"
   },
   {
    "duration": 52,
    "start_time": "2022-01-20T14:17:00.526Z"
   },
   {
    "duration": 9,
    "start_time": "2022-01-20T14:17:00.579Z"
   },
   {
    "duration": 9,
    "start_time": "2022-01-20T14:17:00.590Z"
   },
   {
    "duration": 19,
    "start_time": "2022-01-20T14:17:00.601Z"
   },
   {
    "duration": 14,
    "start_time": "2022-01-20T14:17:00.622Z"
   },
   {
    "duration": 5,
    "start_time": "2022-01-20T14:17:00.637Z"
   },
   {
    "duration": 7,
    "start_time": "2022-01-20T14:17:00.643Z"
   },
   {
    "duration": 5,
    "start_time": "2022-01-20T14:17:00.652Z"
   },
   {
    "duration": 8,
    "start_time": "2022-01-20T14:17:00.659Z"
   },
   {
    "duration": 6,
    "start_time": "2022-01-20T14:17:00.668Z"
   },
   {
    "duration": 46,
    "start_time": "2022-01-20T14:17:00.675Z"
   },
   {
    "duration": 12,
    "start_time": "2022-01-20T14:17:00.723Z"
   },
   {
    "duration": 13,
    "start_time": "2022-01-20T14:17:00.736Z"
   },
   {
    "duration": 4,
    "start_time": "2022-01-20T14:17:00.751Z"
   },
   {
    "duration": 11,
    "start_time": "2022-01-20T14:17:00.757Z"
   },
   {
    "duration": 412,
    "start_time": "2022-01-20T14:17:00.770Z"
   },
   {
    "duration": 2,
    "start_time": "2022-01-20T14:17:01.184Z"
   },
   {
    "duration": 25,
    "start_time": "2022-01-20T14:17:01.187Z"
   },
   {
    "duration": 372,
    "start_time": "2022-01-20T14:17:01.214Z"
   },
   {
    "duration": 264,
    "start_time": "2022-01-20T14:17:01.588Z"
   },
   {
    "duration": 254,
    "start_time": "2022-01-20T14:17:01.854Z"
   },
   {
    "duration": 238,
    "start_time": "2022-01-20T14:17:02.112Z"
   },
   {
    "duration": 250,
    "start_time": "2022-01-20T14:17:02.352Z"
   },
   {
    "duration": 251,
    "start_time": "2022-01-20T14:17:02.603Z"
   },
   {
    "duration": 357,
    "start_time": "2022-01-20T14:17:02.857Z"
   },
   {
    "duration": 411,
    "start_time": "2022-01-20T14:17:03.217Z"
   },
   {
    "duration": 8,
    "start_time": "2022-01-20T14:17:03.629Z"
   },
   {
    "duration": 343,
    "start_time": "2022-01-20T14:17:03.638Z"
   },
   {
    "duration": 268,
    "start_time": "2022-01-20T14:17:03.982Z"
   },
   {
    "duration": 262,
    "start_time": "2022-01-20T14:17:04.252Z"
   },
   {
    "duration": 6,
    "start_time": "2022-01-20T14:17:04.515Z"
   },
   {
    "duration": 354,
    "start_time": "2022-01-20T14:17:04.522Z"
   },
   {
    "duration": 373,
    "start_time": "2022-01-20T14:17:04.878Z"
   },
   {
    "duration": 5,
    "start_time": "2022-01-20T14:17:05.253Z"
   },
   {
    "duration": 8,
    "start_time": "2022-01-20T14:17:05.259Z"
   },
   {
    "duration": 6,
    "start_time": "2022-01-20T14:17:05.269Z"
   },
   {
    "duration": 478,
    "start_time": "2022-01-20T14:17:05.276Z"
   },
   {
    "duration": -796,
    "start_time": "2022-01-20T14:17:06.552Z"
   },
   {
    "duration": 222,
    "start_time": "2022-01-20T14:20:00.270Z"
   },
   {
    "duration": 2,
    "start_time": "2022-01-20T14:20:16.522Z"
   },
   {
    "duration": 199,
    "start_time": "2022-01-20T14:20:19.320Z"
   },
   {
    "duration": 4,
    "start_time": "2022-01-20T14:20:21.257Z"
   },
   {
    "duration": 44,
    "start_time": "2022-01-20T14:20:21.265Z"
   },
   {
    "duration": 8,
    "start_time": "2022-01-20T14:20:21.311Z"
   },
   {
    "duration": 8,
    "start_time": "2022-01-20T14:20:21.321Z"
   },
   {
    "duration": 12,
    "start_time": "2022-01-20T14:20:21.331Z"
   },
   {
    "duration": 16,
    "start_time": "2022-01-20T14:20:21.345Z"
   },
   {
    "duration": 4,
    "start_time": "2022-01-20T14:20:21.363Z"
   },
   {
    "duration": 5,
    "start_time": "2022-01-20T14:20:21.369Z"
   },
   {
    "duration": 5,
    "start_time": "2022-01-20T14:20:21.412Z"
   },
   {
    "duration": 8,
    "start_time": "2022-01-20T14:20:21.419Z"
   },
   {
    "duration": 5,
    "start_time": "2022-01-20T14:20:21.429Z"
   },
   {
    "duration": 13,
    "start_time": "2022-01-20T14:20:21.436Z"
   },
   {
    "duration": 13,
    "start_time": "2022-01-20T14:20:21.451Z"
   },
   {
    "duration": 13,
    "start_time": "2022-01-20T14:20:21.465Z"
   },
   {
    "duration": 37,
    "start_time": "2022-01-20T14:20:21.479Z"
   },
   {
    "duration": 8,
    "start_time": "2022-01-20T14:20:21.517Z"
   },
   {
    "duration": 386,
    "start_time": "2022-01-20T14:20:21.527Z"
   },
   {
    "duration": 2,
    "start_time": "2022-01-20T14:20:21.915Z"
   },
   {
    "duration": 12,
    "start_time": "2022-01-20T14:20:21.918Z"
   },
   {
    "duration": 352,
    "start_time": "2022-01-20T14:20:21.931Z"
   },
   {
    "duration": 251,
    "start_time": "2022-01-20T14:20:22.284Z"
   },
   {
    "duration": 248,
    "start_time": "2022-01-20T14:20:22.536Z"
   },
   {
    "duration": 254,
    "start_time": "2022-01-20T14:20:22.786Z"
   },
   {
    "duration": 254,
    "start_time": "2022-01-20T14:20:23.042Z"
   },
   {
    "duration": 382,
    "start_time": "2022-01-20T14:20:23.297Z"
   },
   {
    "duration": 242,
    "start_time": "2022-01-20T14:20:23.681Z"
   },
   {
    "duration": 466,
    "start_time": "2022-01-20T14:20:23.924Z"
   },
   {
    "duration": 8,
    "start_time": "2022-01-20T14:20:24.392Z"
   },
   {
    "duration": 349,
    "start_time": "2022-01-20T14:20:24.401Z"
   },
   {
    "duration": 277,
    "start_time": "2022-01-20T14:20:24.751Z"
   },
   {
    "duration": 273,
    "start_time": "2022-01-20T14:20:25.031Z"
   },
   {
    "duration": 5,
    "start_time": "2022-01-20T14:20:25.312Z"
   },
   {
    "duration": 364,
    "start_time": "2022-01-20T14:20:25.319Z"
   },
   {
    "duration": 395,
    "start_time": "2022-01-20T14:20:25.685Z"
   },
   {
    "duration": 5,
    "start_time": "2022-01-20T14:20:26.082Z"
   },
   {
    "duration": 15,
    "start_time": "2022-01-20T14:20:26.088Z"
   },
   {
    "duration": 23,
    "start_time": "2022-01-20T14:20:26.105Z"
   },
   {
    "duration": 254,
    "start_time": "2022-01-20T14:20:26.129Z"
   },
   {
    "duration": -808,
    "start_time": "2022-01-20T14:20:27.192Z"
   },
   {
    "duration": 202,
    "start_time": "2022-01-20T14:20:34.040Z"
   },
   {
    "duration": 204,
    "start_time": "2022-01-20T14:21:06.908Z"
   },
   {
    "duration": 426,
    "start_time": "2022-01-20T14:22:14.757Z"
   },
   {
    "duration": 510,
    "start_time": "2022-01-20T14:22:38.266Z"
   },
   {
    "duration": 418,
    "start_time": "2022-01-20T14:22:40.708Z"
   },
   {
    "duration": 399,
    "start_time": "2022-01-20T14:22:51.368Z"
   },
   {
    "duration": 218,
    "start_time": "2022-01-20T14:22:56.289Z"
   },
   {
    "duration": 225,
    "start_time": "2022-01-20T14:23:17.748Z"
   },
   {
    "duration": 842,
    "start_time": "2022-01-20T14:23:30.146Z"
   },
   {
    "duration": 1448,
    "start_time": "2022-01-20T14:23:50.496Z"
   },
   {
    "duration": 1682,
    "start_time": "2022-01-20T14:24:37.216Z"
   },
   {
    "duration": 1173,
    "start_time": "2022-01-20T14:24:57.496Z"
   },
   {
    "duration": 1431,
    "start_time": "2022-01-20T14:25:13.289Z"
   },
   {
    "duration": 1171,
    "start_time": "2022-01-20T14:25:31.280Z"
   },
   {
    "duration": 950,
    "start_time": "2022-01-20T14:25:55.703Z"
   },
   {
    "duration": 900,
    "start_time": "2022-01-20T14:26:02.584Z"
   },
   {
    "duration": 854,
    "start_time": "2022-01-20T14:26:21.855Z"
   },
   {
    "duration": 5537,
    "start_time": "2022-01-20T14:26:47.859Z"
   },
   {
    "duration": 974,
    "start_time": "2022-01-20T14:27:02.560Z"
   },
   {
    "duration": 74,
    "start_time": "2022-01-20T14:27:17.167Z"
   },
   {
    "duration": 1713,
    "start_time": "2022-01-20T14:30:24.960Z"
   },
   {
    "duration": 1736,
    "start_time": "2022-01-20T14:30:56.935Z"
   },
   {
    "duration": 856,
    "start_time": "2022-01-20T14:31:16.461Z"
   },
   {
    "duration": 1962,
    "start_time": "2022-01-20T14:31:45.822Z"
   },
   {
    "duration": 1733,
    "start_time": "2022-01-20T14:32:29.470Z"
   },
   {
    "duration": 1732,
    "start_time": "2022-01-20T14:32:41.757Z"
   },
   {
    "duration": 1846,
    "start_time": "2022-01-20T14:33:00.050Z"
   },
   {
    "duration": 1670,
    "start_time": "2022-01-20T14:33:32.320Z"
   },
   {
    "duration": 70,
    "start_time": "2022-01-20T14:33:56.205Z"
   },
   {
    "duration": 1787,
    "start_time": "2022-01-20T14:34:02.202Z"
   },
   {
    "duration": 1996,
    "start_time": "2022-01-20T14:34:27.891Z"
   },
   {
    "duration": 3,
    "start_time": "2022-01-20T14:34:43.450Z"
   },
   {
    "duration": 3,
    "start_time": "2022-01-20T14:34:44.709Z"
   },
   {
    "duration": 58,
    "start_time": "2022-01-20T14:34:44.717Z"
   },
   {
    "duration": 9,
    "start_time": "2022-01-20T14:34:44.777Z"
   },
   {
    "duration": 8,
    "start_time": "2022-01-20T14:34:44.789Z"
   },
   {
    "duration": 13,
    "start_time": "2022-01-20T14:34:44.813Z"
   },
   {
    "duration": 15,
    "start_time": "2022-01-20T14:34:44.828Z"
   },
   {
    "duration": 5,
    "start_time": "2022-01-20T14:34:44.845Z"
   },
   {
    "duration": 6,
    "start_time": "2022-01-20T14:34:44.851Z"
   },
   {
    "duration": 6,
    "start_time": "2022-01-20T14:34:44.859Z"
   },
   {
    "duration": 48,
    "start_time": "2022-01-20T14:34:44.866Z"
   },
   {
    "duration": 6,
    "start_time": "2022-01-20T14:34:44.916Z"
   },
   {
    "duration": 16,
    "start_time": "2022-01-20T14:34:44.923Z"
   },
   {
    "duration": 13,
    "start_time": "2022-01-20T14:34:44.941Z"
   },
   {
    "duration": 14,
    "start_time": "2022-01-20T14:34:44.956Z"
   },
   {
    "duration": 4,
    "start_time": "2022-01-20T14:34:44.972Z"
   },
   {
    "duration": 17,
    "start_time": "2022-01-20T14:34:45.013Z"
   },
   {
    "duration": 405,
    "start_time": "2022-01-20T14:34:45.033Z"
   },
   {
    "duration": 2,
    "start_time": "2022-01-20T14:34:45.441Z"
   },
   {
    "duration": 12,
    "start_time": "2022-01-20T14:34:45.445Z"
   },
   {
    "duration": 392,
    "start_time": "2022-01-20T14:34:45.459Z"
   },
   {
    "duration": 273,
    "start_time": "2022-01-20T14:34:45.853Z"
   },
   {
    "duration": 272,
    "start_time": "2022-01-20T14:34:46.128Z"
   },
   {
    "duration": 271,
    "start_time": "2022-01-20T14:34:46.402Z"
   },
   {
    "duration": 261,
    "start_time": "2022-01-20T14:34:46.675Z"
   },
   {
    "duration": 267,
    "start_time": "2022-01-20T14:34:46.939Z"
   },
   {
    "duration": 242,
    "start_time": "2022-01-20T14:34:47.208Z"
   },
   {
    "duration": 416,
    "start_time": "2022-01-20T14:34:47.452Z"
   },
   {
    "duration": 8,
    "start_time": "2022-01-20T14:34:47.870Z"
   },
   {
    "duration": 344,
    "start_time": "2022-01-20T14:34:47.880Z"
   },
   {
    "duration": 269,
    "start_time": "2022-01-20T14:34:48.225Z"
   },
   {
    "duration": 261,
    "start_time": "2022-01-20T14:34:48.496Z"
   },
   {
    "duration": 6,
    "start_time": "2022-01-20T14:34:48.759Z"
   },
   {
    "duration": 339,
    "start_time": "2022-01-20T14:34:48.766Z"
   },
   {
    "duration": 409,
    "start_time": "2022-01-20T14:34:49.107Z"
   },
   {
    "duration": 4,
    "start_time": "2022-01-20T14:34:49.521Z"
   },
   {
    "duration": 6,
    "start_time": "2022-01-20T14:34:49.527Z"
   },
   {
    "duration": 3,
    "start_time": "2022-01-20T14:34:49.535Z"
   },
   {
    "duration": 1944,
    "start_time": "2022-01-20T14:34:49.540Z"
   },
   {
    "duration": 3,
    "start_time": "2022-01-20T14:34:51.486Z"
   },
   {
    "duration": 1712,
    "start_time": "2022-01-20T14:36:05.851Z"
   },
   {
    "duration": 1716,
    "start_time": "2022-01-20T14:41:18.243Z"
   },
   {
    "duration": 379,
    "start_time": "2022-01-20T18:37:24.399Z"
   },
   {
    "duration": 2382,
    "start_time": "2022-01-20T18:37:26.377Z"
   },
   {
    "duration": 65,
    "start_time": "2022-01-20T18:37:28.762Z"
   },
   {
    "duration": 16,
    "start_time": "2022-01-20T18:37:28.831Z"
   },
   {
    "duration": 10,
    "start_time": "2022-01-20T18:37:28.850Z"
   },
   {
    "duration": 19,
    "start_time": "2022-01-20T18:37:28.863Z"
   },
   {
    "duration": 63,
    "start_time": "2022-01-20T18:37:28.884Z"
   },
   {
    "duration": 6,
    "start_time": "2022-01-20T18:37:28.949Z"
   },
   {
    "duration": 7,
    "start_time": "2022-01-20T18:37:28.959Z"
   },
   {
    "duration": 8,
    "start_time": "2022-01-20T18:37:28.969Z"
   },
   {
    "duration": 59,
    "start_time": "2022-01-20T18:37:28.979Z"
   },
   {
    "duration": 8,
    "start_time": "2022-01-20T18:37:29.041Z"
   },
   {
    "duration": 21,
    "start_time": "2022-01-20T18:37:29.051Z"
   },
   {
    "duration": 21,
    "start_time": "2022-01-20T18:37:29.074Z"
   },
   {
    "duration": 54,
    "start_time": "2022-01-20T18:37:29.097Z"
   },
   {
    "duration": 6,
    "start_time": "2022-01-20T18:37:29.154Z"
   },
   {
    "duration": 11,
    "start_time": "2022-01-20T18:37:29.162Z"
   },
   {
    "duration": 640,
    "start_time": "2022-01-20T18:37:29.175Z"
   },
   {
    "duration": 3,
    "start_time": "2022-01-20T18:37:29.817Z"
   },
   {
    "duration": 23,
    "start_time": "2022-01-20T18:37:29.823Z"
   },
   {
    "duration": 580,
    "start_time": "2022-01-20T18:37:29.848Z"
   },
   {
    "duration": 410,
    "start_time": "2022-01-20T18:37:30.433Z"
   },
   {
    "duration": 434,
    "start_time": "2022-01-20T18:37:30.846Z"
   },
   {
    "duration": 407,
    "start_time": "2022-01-20T18:37:31.286Z"
   },
   {
    "duration": 490,
    "start_time": "2022-01-20T18:37:31.696Z"
   },
   {
    "duration": 387,
    "start_time": "2022-01-20T18:37:32.188Z"
   },
   {
    "duration": 394,
    "start_time": "2022-01-20T18:37:32.578Z"
   },
   {
    "duration": 648,
    "start_time": "2022-01-20T18:37:32.974Z"
   },
   {
    "duration": 17,
    "start_time": "2022-01-20T18:37:33.625Z"
   },
   {
    "duration": 597,
    "start_time": "2022-01-20T18:37:33.644Z"
   },
   {
    "duration": 439,
    "start_time": "2022-01-20T18:37:34.243Z"
   },
   {
    "duration": 451,
    "start_time": "2022-01-20T18:37:34.684Z"
   },
   {
    "duration": 8,
    "start_time": "2022-01-20T18:37:35.137Z"
   },
   {
    "duration": 485,
    "start_time": "2022-01-20T18:37:35.147Z"
   },
   {
    "duration": 604,
    "start_time": "2022-01-20T18:37:35.635Z"
   },
   {
    "duration": 8,
    "start_time": "2022-01-20T18:37:36.243Z"
   },
   {
    "duration": 12,
    "start_time": "2022-01-20T18:37:36.254Z"
   },
   {
    "duration": 14,
    "start_time": "2022-01-20T18:37:36.269Z"
   },
   {
    "duration": 613,
    "start_time": "2022-01-20T18:37:36.285Z"
   },
   {
    "duration": 903,
    "start_time": "2022-01-20T18:37:35.997Z"
   },
   {
    "duration": 287,
    "start_time": "2022-01-20T18:38:39.823Z"
   },
   {
    "duration": 2362,
    "start_time": "2022-01-20T18:39:14.111Z"
   },
   {
    "duration": 5,
    "start_time": "2022-01-20T18:43:59.312Z"
   },
   {
    "duration": 1819,
    "start_time": "2022-01-20T18:44:07.994Z"
   },
   {
    "duration": 7,
    "start_time": "2022-01-20T18:44:49.272Z"
   },
   {
    "duration": 5,
    "start_time": "2022-01-20T18:44:51.294Z"
   },
   {
    "duration": 68,
    "start_time": "2022-01-20T18:44:51.307Z"
   },
   {
    "duration": 14,
    "start_time": "2022-01-20T18:44:51.378Z"
   },
   {
    "duration": 53,
    "start_time": "2022-01-20T18:44:51.395Z"
   },
   {
    "duration": 21,
    "start_time": "2022-01-20T18:44:51.452Z"
   },
   {
    "duration": 70,
    "start_time": "2022-01-20T18:44:51.475Z"
   },
   {
    "duration": 7,
    "start_time": "2022-01-20T18:44:51.548Z"
   },
   {
    "duration": 13,
    "start_time": "2022-01-20T18:44:51.558Z"
   },
   {
    "duration": 12,
    "start_time": "2022-01-20T18:44:51.573Z"
   },
   {
    "duration": 46,
    "start_time": "2022-01-20T18:44:51.589Z"
   },
   {
    "duration": 8,
    "start_time": "2022-01-20T18:44:51.638Z"
   },
   {
    "duration": 25,
    "start_time": "2022-01-20T18:44:51.648Z"
   },
   {
    "duration": 23,
    "start_time": "2022-01-20T18:44:51.676Z"
   },
   {
    "duration": 50,
    "start_time": "2022-01-20T18:44:51.701Z"
   },
   {
    "duration": 5,
    "start_time": "2022-01-20T18:44:51.754Z"
   },
   {
    "duration": 12,
    "start_time": "2022-01-20T18:44:51.761Z"
   },
   {
    "duration": 656,
    "start_time": "2022-01-20T18:44:51.776Z"
   },
   {
    "duration": 4,
    "start_time": "2022-01-20T18:44:52.434Z"
   },
   {
    "duration": 22,
    "start_time": "2022-01-20T18:44:52.440Z"
   },
   {
    "duration": 596,
    "start_time": "2022-01-20T18:44:52.464Z"
   },
   {
    "duration": 633,
    "start_time": "2022-01-20T18:44:53.063Z"
   },
   {
    "duration": 412,
    "start_time": "2022-01-20T18:44:53.699Z"
   },
   {
    "duration": 399,
    "start_time": "2022-01-20T18:44:54.113Z"
   },
   {
    "duration": 410,
    "start_time": "2022-01-20T18:44:54.515Z"
   },
   {
    "duration": 384,
    "start_time": "2022-01-20T18:44:54.927Z"
   },
   {
    "duration": 387,
    "start_time": "2022-01-20T18:44:55.313Z"
   },
   {
    "duration": 630,
    "start_time": "2022-01-20T18:44:55.702Z"
   },
   {
    "duration": 11,
    "start_time": "2022-01-20T18:44:56.337Z"
   },
   {
    "duration": 563,
    "start_time": "2022-01-20T18:44:56.351Z"
   },
   {
    "duration": 420,
    "start_time": "2022-01-20T18:44:56.916Z"
   },
   {
    "duration": 394,
    "start_time": "2022-01-20T18:44:57.338Z"
   },
   {
    "duration": 7,
    "start_time": "2022-01-20T18:44:57.734Z"
   },
   {
    "duration": 484,
    "start_time": "2022-01-20T18:44:57.743Z"
   },
   {
    "duration": 493,
    "start_time": "2022-01-20T18:44:58.233Z"
   },
   {
    "duration": 9,
    "start_time": "2022-01-20T18:44:58.728Z"
   },
   {
    "duration": 10,
    "start_time": "2022-01-20T18:44:58.739Z"
   },
   {
    "duration": 6,
    "start_time": "2022-01-20T18:44:58.751Z"
   },
   {
    "duration": 1918,
    "start_time": "2022-01-20T18:44:58.759Z"
   },
   {
    "duration": 6,
    "start_time": "2022-01-20T18:45:45.520Z"
   },
   {
    "duration": 5,
    "start_time": "2022-01-20T18:45:47.405Z"
   },
   {
    "duration": 62,
    "start_time": "2022-01-20T18:45:47.415Z"
   },
   {
    "duration": 54,
    "start_time": "2022-01-20T18:45:47.480Z"
   },
   {
    "duration": 11,
    "start_time": "2022-01-20T18:45:47.538Z"
   },
   {
    "duration": 21,
    "start_time": "2022-01-20T18:45:47.552Z"
   },
   {
    "duration": 66,
    "start_time": "2022-01-20T18:45:47.576Z"
   },
   {
    "duration": 7,
    "start_time": "2022-01-20T18:45:47.644Z"
   },
   {
    "duration": 15,
    "start_time": "2022-01-20T18:45:47.653Z"
   },
   {
    "duration": 10,
    "start_time": "2022-01-20T18:45:47.671Z"
   },
   {
    "duration": 48,
    "start_time": "2022-01-20T18:45:47.685Z"
   },
   {
    "duration": 9,
    "start_time": "2022-01-20T18:45:47.735Z"
   },
   {
    "duration": 31,
    "start_time": "2022-01-20T18:45:47.746Z"
   },
   {
    "duration": 21,
    "start_time": "2022-01-20T18:45:47.780Z"
   },
   {
    "duration": 47,
    "start_time": "2022-01-20T18:45:47.803Z"
   },
   {
    "duration": 6,
    "start_time": "2022-01-20T18:45:47.852Z"
   },
   {
    "duration": 15,
    "start_time": "2022-01-20T18:45:47.860Z"
   },
   {
    "duration": 629,
    "start_time": "2022-01-20T18:45:47.877Z"
   },
   {
    "duration": 3,
    "start_time": "2022-01-20T18:45:48.508Z"
   },
   {
    "duration": 28,
    "start_time": "2022-01-20T18:45:48.513Z"
   },
   {
    "duration": 593,
    "start_time": "2022-01-20T18:45:48.544Z"
   },
   {
    "duration": 427,
    "start_time": "2022-01-20T18:45:49.140Z"
   },
   {
    "duration": 386,
    "start_time": "2022-01-20T18:45:49.570Z"
   },
   {
    "duration": 396,
    "start_time": "2022-01-20T18:45:49.959Z"
   },
   {
    "duration": 399,
    "start_time": "2022-01-20T18:45:50.360Z"
   },
   {
    "duration": 382,
    "start_time": "2022-01-20T18:45:50.762Z"
   },
   {
    "duration": 393,
    "start_time": "2022-01-20T18:45:51.146Z"
   },
   {
    "duration": 756,
    "start_time": "2022-01-20T18:45:51.541Z"
   },
   {
    "duration": 32,
    "start_time": "2022-01-20T18:45:52.300Z"
   },
   {
    "duration": 549,
    "start_time": "2022-01-20T18:45:52.334Z"
   },
   {
    "duration": 451,
    "start_time": "2022-01-20T18:45:52.886Z"
   },
   {
    "duration": 396,
    "start_time": "2022-01-20T18:45:53.339Z"
   },
   {
    "duration": 7,
    "start_time": "2022-01-20T18:45:53.737Z"
   },
   {
    "duration": 522,
    "start_time": "2022-01-20T18:45:53.746Z"
   },
   {
    "duration": 504,
    "start_time": "2022-01-20T18:45:54.271Z"
   },
   {
    "duration": 7,
    "start_time": "2022-01-20T18:45:54.777Z"
   },
   {
    "duration": 9,
    "start_time": "2022-01-20T18:45:54.786Z"
   },
   {
    "duration": 37,
    "start_time": "2022-01-20T18:45:54.797Z"
   },
   {
    "duration": 1910,
    "start_time": "2022-01-20T18:45:54.836Z"
   },
   {
    "duration": 6,
    "start_time": "2022-01-20T18:49:01.929Z"
   },
   {
    "duration": 6,
    "start_time": "2022-01-20T18:50:07.264Z"
   },
   {
    "duration": 2198,
    "start_time": "2022-01-20T18:50:10.493Z"
   },
   {
    "duration": 2451,
    "start_time": "2022-01-20T18:50:51.620Z"
   },
   {
    "duration": 14,
    "start_time": "2022-01-20T19:23:40.735Z"
   },
   {
    "duration": 11,
    "start_time": "2022-01-20T19:23:56.083Z"
   },
   {
    "duration": 10,
    "start_time": "2022-01-20T19:24:10.856Z"
   },
   {
    "duration": 271,
    "start_time": "2022-01-20T19:25:04.494Z"
   },
   {
    "duration": 7,
    "start_time": "2022-01-20T19:25:17.240Z"
   },
   {
    "duration": 8,
    "start_time": "2022-01-20T19:25:36.745Z"
   },
   {
    "duration": 13,
    "start_time": "2022-01-20T19:33:37.748Z"
   },
   {
    "duration": 269,
    "start_time": "2022-01-20T19:33:44.702Z"
   },
   {
    "duration": 19,
    "start_time": "2022-01-20T19:33:54.051Z"
   },
   {
    "duration": 285,
    "start_time": "2022-01-20T19:34:26.315Z"
   },
   {
    "duration": 271,
    "start_time": "2022-01-20T19:35:04.366Z"
   },
   {
    "duration": 21,
    "start_time": "2022-01-20T19:35:11.341Z"
   },
   {
    "duration": 89,
    "start_time": "2022-01-20T19:49:25.045Z"
   },
   {
    "duration": 427,
    "start_time": "2022-01-20T19:49:37.895Z"
   },
   {
    "duration": 3,
    "start_time": "2022-01-20T19:51:52.443Z"
   },
   {
    "duration": 3026,
    "start_time": "2022-01-20T20:03:23.289Z"
   },
   {
    "duration": 90,
    "start_time": "2022-01-20T20:03:32.818Z"
   },
   {
    "duration": 1025,
    "start_time": "2022-01-20T20:08:14.603Z"
   },
   {
    "duration": 113,
    "start_time": "2022-01-20T20:09:21.834Z"
   },
   {
    "duration": 707,
    "start_time": "2022-01-20T20:09:37.035Z"
   },
   {
    "duration": 692,
    "start_time": "2022-01-20T21:05:04.159Z"
   },
   {
    "duration": 695,
    "start_time": "2022-01-20T21:07:47.725Z"
   },
   {
    "duration": 1558,
    "start_time": "2022-01-20T21:07:59.847Z"
   },
   {
    "duration": 6,
    "start_time": "2022-01-20T21:08:01.601Z"
   },
   {
    "duration": 78,
    "start_time": "2022-01-20T21:08:01.610Z"
   },
   {
    "duration": 41,
    "start_time": "2022-01-20T21:08:01.691Z"
   },
   {
    "duration": 12,
    "start_time": "2022-01-20T21:08:01.735Z"
   },
   {
    "duration": 29,
    "start_time": "2022-01-20T21:08:01.749Z"
   },
   {
    "duration": 33,
    "start_time": "2022-01-20T21:08:01.780Z"
   },
   {
    "duration": 18,
    "start_time": "2022-01-20T21:08:01.816Z"
   },
   {
    "duration": 6,
    "start_time": "2022-01-20T21:08:01.836Z"
   },
   {
    "duration": 13,
    "start_time": "2022-01-20T21:08:01.846Z"
   },
   {
    "duration": 16,
    "start_time": "2022-01-20T21:08:01.862Z"
   },
   {
    "duration": 18,
    "start_time": "2022-01-20T21:08:01.880Z"
   },
   {
    "duration": 46,
    "start_time": "2022-01-20T21:08:01.900Z"
   },
   {
    "duration": 24,
    "start_time": "2022-01-20T21:08:01.948Z"
   },
   {
    "duration": 21,
    "start_time": "2022-01-20T21:08:01.974Z"
   },
   {
    "duration": 8,
    "start_time": "2022-01-20T21:08:01.997Z"
   },
   {
    "duration": 41,
    "start_time": "2022-01-20T21:08:02.007Z"
   },
   {
    "duration": 595,
    "start_time": "2022-01-20T21:08:02.050Z"
   },
   {
    "duration": 3,
    "start_time": "2022-01-20T21:08:02.648Z"
   },
   {
    "duration": 22,
    "start_time": "2022-01-20T21:08:02.653Z"
   },
   {
    "duration": 579,
    "start_time": "2022-01-20T21:08:02.678Z"
   },
   {
    "duration": 425,
    "start_time": "2022-01-20T21:08:03.259Z"
   },
   {
    "duration": 418,
    "start_time": "2022-01-20T21:08:03.687Z"
   },
   {
    "duration": 388,
    "start_time": "2022-01-20T21:08:04.108Z"
   },
   {
    "duration": 408,
    "start_time": "2022-01-20T21:08:04.498Z"
   },
   {
    "duration": 382,
    "start_time": "2022-01-20T21:08:04.908Z"
   },
   {
    "duration": 377,
    "start_time": "2022-01-20T21:08:05.293Z"
   },
   {
    "duration": 801,
    "start_time": "2022-01-20T21:08:05.676Z"
   },
   {
    "duration": 11,
    "start_time": "2022-01-20T21:08:06.480Z"
   },
   {
    "duration": 552,
    "start_time": "2022-01-20T21:08:06.494Z"
   },
   {
    "duration": 420,
    "start_time": "2022-01-20T21:08:07.049Z"
   },
   {
    "duration": 401,
    "start_time": "2022-01-20T21:08:07.471Z"
   },
   {
    "duration": 8,
    "start_time": "2022-01-20T21:08:07.874Z"
   },
   {
    "duration": 550,
    "start_time": "2022-01-20T21:08:07.885Z"
   },
   {
    "duration": 523,
    "start_time": "2022-01-20T21:08:08.437Z"
   },
   {
    "duration": 6,
    "start_time": "2022-01-20T21:08:08.962Z"
   },
   {
    "duration": 13,
    "start_time": "2022-01-20T21:08:08.970Z"
   },
   {
    "duration": 9,
    "start_time": "2022-01-20T21:08:08.985Z"
   },
   {
    "duration": 2513,
    "start_time": "2022-01-20T21:08:08.996Z"
   },
   {
    "duration": 10,
    "start_time": "2022-01-20T21:08:11.512Z"
   },
   {
    "duration": 680,
    "start_time": "2022-01-20T21:08:11.533Z"
   },
   {
    "duration": 714,
    "start_time": "2022-01-20T21:12:37.265Z"
   },
   {
    "duration": 20,
    "start_time": "2022-01-20T21:12:48.134Z"
   },
   {
    "duration": 19,
    "start_time": "2022-01-20T21:12:59.636Z"
   },
   {
    "duration": 102,
    "start_time": "2022-01-20T21:16:34.519Z"
   },
   {
    "duration": 245,
    "start_time": "2022-01-20T21:16:49.461Z"
   },
   {
    "duration": 190,
    "start_time": "2022-01-20T21:17:31.080Z"
   },
   {
    "duration": 220,
    "start_time": "2022-01-20T21:17:51.050Z"
   },
   {
    "duration": 201,
    "start_time": "2022-01-20T21:19:27.778Z"
   },
   {
    "duration": 463,
    "start_time": "2022-01-20T21:20:24.526Z"
   },
   {
    "duration": 207,
    "start_time": "2022-01-20T21:21:05.850Z"
   },
   {
    "duration": 469,
    "start_time": "2022-01-20T21:22:24.261Z"
   },
   {
    "duration": 258,
    "start_time": "2022-01-20T21:22:51.344Z"
   },
   {
    "duration": 312,
    "start_time": "2022-01-20T21:23:04.714Z"
   },
   {
    "duration": 6,
    "start_time": "2022-01-20T21:23:05.985Z"
   },
   {
    "duration": 72,
    "start_time": "2022-01-20T21:23:05.995Z"
   },
   {
    "duration": 14,
    "start_time": "2022-01-20T21:23:06.071Z"
   },
   {
    "duration": 45,
    "start_time": "2022-01-20T21:23:06.089Z"
   },
   {
    "duration": 21,
    "start_time": "2022-01-20T21:23:06.136Z"
   },
   {
    "duration": 21,
    "start_time": "2022-01-20T21:23:06.160Z"
   },
   {
    "duration": 8,
    "start_time": "2022-01-20T21:23:06.184Z"
   },
   {
    "duration": 44,
    "start_time": "2022-01-20T21:23:06.195Z"
   },
   {
    "duration": 9,
    "start_time": "2022-01-20T21:23:06.242Z"
   },
   {
    "duration": 13,
    "start_time": "2022-01-20T21:23:06.254Z"
   },
   {
    "duration": 8,
    "start_time": "2022-01-20T21:23:06.270Z"
   },
   {
    "duration": 54,
    "start_time": "2022-01-20T21:23:06.280Z"
   },
   {
    "duration": 17,
    "start_time": "2022-01-20T21:23:06.337Z"
   },
   {
    "duration": 19,
    "start_time": "2022-01-20T21:23:06.357Z"
   },
   {
    "duration": 5,
    "start_time": "2022-01-20T21:23:06.379Z"
   },
   {
    "duration": 49,
    "start_time": "2022-01-20T21:23:06.387Z"
   },
   {
    "duration": 609,
    "start_time": "2022-01-20T21:23:06.439Z"
   },
   {
    "duration": 3,
    "start_time": "2022-01-20T21:23:07.051Z"
   },
   {
    "duration": 18,
    "start_time": "2022-01-20T21:23:07.056Z"
   },
   {
    "duration": 573,
    "start_time": "2022-01-20T21:23:07.077Z"
   },
   {
    "duration": 611,
    "start_time": "2022-01-20T21:23:07.652Z"
   },
   {
    "duration": 410,
    "start_time": "2022-01-20T21:23:08.265Z"
   },
   {
    "duration": 392,
    "start_time": "2022-01-20T21:23:08.681Z"
   },
   {
    "duration": 387,
    "start_time": "2022-01-20T21:23:09.076Z"
   },
   {
    "duration": 384,
    "start_time": "2022-01-20T21:23:09.466Z"
   },
   {
    "duration": 372,
    "start_time": "2022-01-20T21:23:09.852Z"
   },
   {
    "duration": 625,
    "start_time": "2022-01-20T21:23:10.226Z"
   },
   {
    "duration": 11,
    "start_time": "2022-01-20T21:23:10.854Z"
   },
   {
    "duration": 567,
    "start_time": "2022-01-20T21:23:10.868Z"
   },
   {
    "duration": 408,
    "start_time": "2022-01-20T21:23:11.437Z"
   },
   {
    "duration": 398,
    "start_time": "2022-01-20T21:23:11.847Z"
   },
   {
    "duration": 6,
    "start_time": "2022-01-20T21:23:12.248Z"
   },
   {
    "duration": 505,
    "start_time": "2022-01-20T21:23:12.257Z"
   },
   {
    "duration": 510,
    "start_time": "2022-01-20T21:23:12.764Z"
   },
   {
    "duration": 6,
    "start_time": "2022-01-20T21:23:13.276Z"
   },
   {
    "duration": 22,
    "start_time": "2022-01-20T21:23:13.285Z"
   },
   {
    "duration": 6,
    "start_time": "2022-01-20T21:23:13.309Z"
   },
   {
    "duration": 2210,
    "start_time": "2022-01-20T21:23:13.317Z"
   },
   {
    "duration": 8,
    "start_time": "2022-01-20T21:23:15.530Z"
   },
   {
    "duration": 322,
    "start_time": "2022-01-20T21:23:15.540Z"
   },
   {
    "duration": 97,
    "start_time": "2022-01-20T21:24:07.897Z"
   },
   {
    "duration": 322,
    "start_time": "2022-01-20T21:24:24.468Z"
   },
   {
    "duration": 90,
    "start_time": "2022-01-20T21:25:04.893Z"
   },
   {
    "duration": 98,
    "start_time": "2022-01-20T21:25:48.689Z"
   },
   {
    "duration": 90,
    "start_time": "2022-01-20T21:26:13.699Z"
   },
   {
    "duration": 102,
    "start_time": "2022-01-20T21:26:20.615Z"
   },
   {
    "duration": 516,
    "start_time": "2022-01-20T21:26:39.436Z"
   },
   {
    "duration": 182,
    "start_time": "2022-01-20T21:28:00.397Z"
   },
   {
    "duration": 168,
    "start_time": "2022-01-20T21:28:09.189Z"
   },
   {
    "duration": 212,
    "start_time": "2022-01-20T21:29:17.587Z"
   },
   {
    "duration": 262,
    "start_time": "2022-01-20T21:30:13.853Z"
   },
   {
    "duration": 213,
    "start_time": "2022-01-20T21:30:52.227Z"
   },
   {
    "duration": 250,
    "start_time": "2022-01-20T21:31:35.846Z"
   },
   {
    "duration": 210,
    "start_time": "2022-01-20T21:31:44.710Z"
   },
   {
    "duration": 418,
    "start_time": "2022-01-21T08:33:36.337Z"
   },
   {
    "duration": 390,
    "start_time": "2022-01-21T08:34:03.881Z"
   },
   {
    "duration": 2191,
    "start_time": "2022-01-21T08:34:05.365Z"
   },
   {
    "duration": 67,
    "start_time": "2022-01-21T08:34:07.559Z"
   },
   {
    "duration": 13,
    "start_time": "2022-01-21T08:34:07.629Z"
   },
   {
    "duration": 23,
    "start_time": "2022-01-21T08:34:07.645Z"
   },
   {
    "duration": 19,
    "start_time": "2022-01-21T08:34:07.671Z"
   },
   {
    "duration": 21,
    "start_time": "2022-01-21T08:34:07.692Z"
   },
   {
    "duration": 7,
    "start_time": "2022-01-21T08:34:07.715Z"
   },
   {
    "duration": 7,
    "start_time": "2022-01-21T08:34:07.762Z"
   },
   {
    "duration": 7,
    "start_time": "2022-01-21T08:34:07.771Z"
   },
   {
    "duration": 10,
    "start_time": "2022-01-21T08:34:07.780Z"
   },
   {
    "duration": 8,
    "start_time": "2022-01-21T08:34:07.792Z"
   },
   {
    "duration": 59,
    "start_time": "2022-01-21T08:34:07.803Z"
   },
   {
    "duration": 18,
    "start_time": "2022-01-21T08:34:07.865Z"
   },
   {
    "duration": 19,
    "start_time": "2022-01-21T08:34:07.885Z"
   },
   {
    "duration": 7,
    "start_time": "2022-01-21T08:34:07.906Z"
   },
   {
    "duration": 46,
    "start_time": "2022-01-21T08:34:07.915Z"
   },
   {
    "duration": 609,
    "start_time": "2022-01-21T08:34:07.963Z"
   },
   {
    "duration": 3,
    "start_time": "2022-01-21T08:34:08.574Z"
   },
   {
    "duration": 16,
    "start_time": "2022-01-21T08:34:08.580Z"
   },
   {
    "duration": 600,
    "start_time": "2022-01-21T08:34:08.598Z"
   },
   {
    "duration": 406,
    "start_time": "2022-01-21T08:34:09.200Z"
   },
   {
    "duration": 398,
    "start_time": "2022-01-21T08:34:09.609Z"
   },
   {
    "duration": 396,
    "start_time": "2022-01-21T08:34:10.013Z"
   },
   {
    "duration": 580,
    "start_time": "2022-01-21T08:34:10.412Z"
   },
   {
    "duration": 386,
    "start_time": "2022-01-21T08:34:10.994Z"
   },
   {
    "duration": 401,
    "start_time": "2022-01-21T08:34:11.382Z"
   },
   {
    "duration": 621,
    "start_time": "2022-01-21T08:34:11.787Z"
   },
   {
    "duration": 9,
    "start_time": "2022-01-21T08:34:12.411Z"
   },
   {
    "duration": 572,
    "start_time": "2022-01-21T08:34:12.423Z"
   },
   {
    "duration": 417,
    "start_time": "2022-01-21T08:34:12.997Z"
   },
   {
    "duration": 391,
    "start_time": "2022-01-21T08:34:13.416Z"
   },
   {
    "duration": 6,
    "start_time": "2022-01-21T08:34:13.810Z"
   },
   {
    "duration": 516,
    "start_time": "2022-01-21T08:34:13.819Z"
   },
   {
    "duration": 540,
    "start_time": "2022-01-21T08:34:14.338Z"
   },
   {
    "duration": 7,
    "start_time": "2022-01-21T08:34:14.880Z"
   },
   {
    "duration": 7,
    "start_time": "2022-01-21T08:34:14.889Z"
   },
   {
    "duration": 5,
    "start_time": "2022-01-21T08:34:14.899Z"
   },
   {
    "duration": 2557,
    "start_time": "2022-01-21T08:34:14.906Z"
   },
   {
    "duration": 9,
    "start_time": "2022-01-21T08:34:17.465Z"
   },
   {
    "duration": 438,
    "start_time": "2022-01-21T08:34:17.476Z"
   },
   {
    "duration": 251,
    "start_time": "2022-01-21T08:34:17.916Z"
   },
   {
    "duration": 372,
    "start_time": "2022-01-21T08:34:18.170Z"
   },
   {
    "duration": 323,
    "start_time": "2022-01-21T08:55:54.337Z"
   },
   {
    "duration": 202,
    "start_time": "2022-01-21T09:03:09.392Z"
   },
   {
    "duration": 3,
    "start_time": "2022-01-21T09:15:19.959Z"
   },
   {
    "duration": 322,
    "start_time": "2022-01-21T09:16:43.441Z"
   },
   {
    "duration": 208,
    "start_time": "2022-01-21T09:20:45.589Z"
   },
   {
    "duration": 584,
    "start_time": "2022-01-21T09:20:50.417Z"
   },
   {
    "duration": 358,
    "start_time": "2022-01-21T09:21:04.751Z"
   },
   {
    "duration": 152,
    "start_time": "2022-01-21T09:21:18.206Z"
   },
   {
    "duration": 557,
    "start_time": "2022-01-21T10:34:58.491Z"
   },
   {
    "duration": 606,
    "start_time": "2022-01-21T10:39:38.213Z"
   },
   {
    "duration": 203,
    "start_time": "2022-01-21T10:40:07.797Z"
   },
   {
    "duration": 665,
    "start_time": "2022-01-21T11:18:28.798Z"
   },
   {
    "duration": 457,
    "start_time": "2022-01-21T11:19:01.427Z"
   },
   {
    "duration": 410,
    "start_time": "2022-01-21T11:20:14.323Z"
   },
   {
    "duration": 353,
    "start_time": "2022-01-21T11:20:34.820Z"
   },
   {
    "duration": 4,
    "start_time": "2022-01-21T12:12:29.777Z"
   },
   {
    "duration": 126,
    "start_time": "2022-01-21T12:15:32.922Z"
   },
   {
    "duration": 287,
    "start_time": "2022-01-21T12:15:40.842Z"
   },
   {
    "duration": 66,
    "start_time": "2022-01-21T12:15:51.650Z"
   },
   {
    "duration": 1974,
    "start_time": "2022-01-21T12:16:17.172Z"
   },
   {
    "duration": 70,
    "start_time": "2022-01-21T12:16:19.148Z"
   },
   {
    "duration": 15,
    "start_time": "2022-01-21T12:16:19.222Z"
   },
   {
    "duration": 30,
    "start_time": "2022-01-21T12:16:19.241Z"
   },
   {
    "duration": 32,
    "start_time": "2022-01-21T12:16:19.274Z"
   },
   {
    "duration": 51,
    "start_time": "2022-01-21T12:16:19.310Z"
   },
   {
    "duration": 8,
    "start_time": "2022-01-21T12:16:19.363Z"
   },
   {
    "duration": 9,
    "start_time": "2022-01-21T12:16:19.374Z"
   },
   {
    "duration": 11,
    "start_time": "2022-01-21T12:16:19.387Z"
   },
   {
    "duration": 16,
    "start_time": "2022-01-21T12:16:19.400Z"
   },
   {
    "duration": 45,
    "start_time": "2022-01-21T12:16:19.418Z"
   },
   {
    "duration": 32,
    "start_time": "2022-01-21T12:16:19.467Z"
   },
   {
    "duration": 28,
    "start_time": "2022-01-21T12:16:19.502Z"
   },
   {
    "duration": 42,
    "start_time": "2022-01-21T12:16:19.532Z"
   },
   {
    "duration": 6,
    "start_time": "2022-01-21T12:16:19.576Z"
   },
   {
    "duration": 10,
    "start_time": "2022-01-21T12:16:19.585Z"
   },
   {
    "duration": 651,
    "start_time": "2022-01-21T12:16:19.597Z"
   },
   {
    "duration": 10,
    "start_time": "2022-01-21T12:16:20.250Z"
   },
   {
    "duration": 18,
    "start_time": "2022-01-21T12:16:20.262Z"
   },
   {
    "duration": 595,
    "start_time": "2022-01-21T12:16:20.282Z"
   },
   {
    "duration": 418,
    "start_time": "2022-01-21T12:16:20.880Z"
   },
   {
    "duration": 417,
    "start_time": "2022-01-21T12:16:21.301Z"
   },
   {
    "duration": 452,
    "start_time": "2022-01-21T12:16:21.723Z"
   },
   {
    "duration": 486,
    "start_time": "2022-01-21T12:16:22.179Z"
   },
   {
    "duration": 403,
    "start_time": "2022-01-21T12:16:22.668Z"
   },
   {
    "duration": 396,
    "start_time": "2022-01-21T12:16:23.074Z"
   },
   {
    "duration": 644,
    "start_time": "2022-01-21T12:16:23.472Z"
   },
   {
    "duration": 11,
    "start_time": "2022-01-21T12:16:24.118Z"
   },
   {
    "duration": 563,
    "start_time": "2022-01-21T12:16:24.131Z"
   },
   {
    "duration": 442,
    "start_time": "2022-01-21T12:16:24.696Z"
   },
   {
    "duration": 419,
    "start_time": "2022-01-21T12:16:25.140Z"
   },
   {
    "duration": 8,
    "start_time": "2022-01-21T12:16:25.562Z"
   },
   {
    "duration": 527,
    "start_time": "2022-01-21T12:16:25.572Z"
   },
   {
    "duration": 529,
    "start_time": "2022-01-21T12:16:26.101Z"
   },
   {
    "duration": 6,
    "start_time": "2022-01-21T12:16:26.632Z"
   },
   {
    "duration": 23,
    "start_time": "2022-01-21T12:16:26.640Z"
   },
   {
    "duration": 9,
    "start_time": "2022-01-21T12:16:26.665Z"
   },
   {
    "duration": 2462,
    "start_time": "2022-01-21T12:16:26.676Z"
   },
   {
    "duration": 18,
    "start_time": "2022-01-21T12:16:29.141Z"
   },
   {
    "duration": 351,
    "start_time": "2022-01-21T12:16:29.161Z"
   },
   {
    "duration": 238,
    "start_time": "2022-01-21T12:16:29.514Z"
   },
   {
    "duration": 679,
    "start_time": "2022-01-21T12:16:29.754Z"
   },
   {
    "duration": -4557,
    "start_time": "2022-01-21T12:16:34.993Z"
   },
   {
    "duration": -4567,
    "start_time": "2022-01-21T12:16:35.005Z"
   },
   {
    "duration": -4582,
    "start_time": "2022-01-21T12:16:35.021Z"
   },
   {
    "duration": -4593,
    "start_time": "2022-01-21T12:16:35.034Z"
   },
   {
    "duration": -4603,
    "start_time": "2022-01-21T12:16:35.045Z"
   },
   {
    "duration": -4613,
    "start_time": "2022-01-21T12:16:35.056Z"
   },
   {
    "duration": -4622,
    "start_time": "2022-01-21T12:16:35.067Z"
   },
   {
    "duration": 7,
    "start_time": "2022-01-21T12:19:44.809Z"
   },
   {
    "duration": 93,
    "start_time": "2022-01-21T12:19:44.820Z"
   },
   {
    "duration": 21,
    "start_time": "2022-01-21T12:19:44.916Z"
   },
   {
    "duration": 18,
    "start_time": "2022-01-21T12:19:44.961Z"
   },
   {
    "duration": 29,
    "start_time": "2022-01-21T12:19:44.983Z"
   },
   {
    "duration": 64,
    "start_time": "2022-01-21T12:19:45.016Z"
   },
   {
    "duration": 9,
    "start_time": "2022-01-21T12:19:45.083Z"
   },
   {
    "duration": 9,
    "start_time": "2022-01-21T12:19:45.094Z"
   },
   {
    "duration": 53,
    "start_time": "2022-01-21T12:19:45.108Z"
   },
   {
    "duration": 17,
    "start_time": "2022-01-21T12:19:45.165Z"
   },
   {
    "duration": 12,
    "start_time": "2022-01-21T12:19:45.185Z"
   },
   {
    "duration": 67,
    "start_time": "2022-01-21T12:19:45.200Z"
   },
   {
    "duration": 27,
    "start_time": "2022-01-21T12:19:45.271Z"
   },
   {
    "duration": 63,
    "start_time": "2022-01-21T12:19:45.301Z"
   },
   {
    "duration": 8,
    "start_time": "2022-01-21T12:19:45.367Z"
   },
   {
    "duration": 16,
    "start_time": "2022-01-21T12:19:45.378Z"
   },
   {
    "duration": 952,
    "start_time": "2022-01-21T12:19:45.397Z"
   },
   {
    "duration": 9,
    "start_time": "2022-01-21T12:19:46.352Z"
   },
   {
    "duration": 17,
    "start_time": "2022-01-21T12:19:46.363Z"
   },
   {
    "duration": 891,
    "start_time": "2022-01-21T12:19:46.384Z"
   },
   {
    "duration": 629,
    "start_time": "2022-01-21T12:19:47.278Z"
   },
   {
    "duration": 415,
    "start_time": "2022-01-21T12:19:47.910Z"
   },
   {
    "duration": 517,
    "start_time": "2022-01-21T12:19:48.329Z"
   },
   {
    "duration": 409,
    "start_time": "2022-01-21T12:19:48.863Z"
   },
   {
    "duration": 412,
    "start_time": "2022-01-21T12:19:49.276Z"
   },
   {
    "duration": 408,
    "start_time": "2022-01-21T12:19:49.691Z"
   },
   {
    "duration": 986,
    "start_time": "2022-01-21T12:19:50.102Z"
   },
   {
    "duration": 14,
    "start_time": "2022-01-21T12:19:51.091Z"
   },
   {
    "duration": 920,
    "start_time": "2022-01-21T12:19:51.108Z"
   },
   {
    "duration": 654,
    "start_time": "2022-01-21T12:19:52.032Z"
   },
   {
    "duration": 677,
    "start_time": "2022-01-21T12:19:52.689Z"
   },
   {
    "duration": 8,
    "start_time": "2022-01-21T12:19:53.369Z"
   },
   {
    "duration": 482,
    "start_time": "2022-01-21T12:19:53.379Z"
   },
   {
    "duration": 659,
    "start_time": "2022-01-21T12:19:53.864Z"
   },
   {
    "duration": 8,
    "start_time": "2022-01-21T12:19:54.526Z"
   },
   {
    "duration": 29,
    "start_time": "2022-01-21T12:19:54.537Z"
   },
   {
    "duration": 7,
    "start_time": "2022-01-21T12:19:54.569Z"
   },
   {
    "duration": 2551,
    "start_time": "2022-01-21T12:19:54.579Z"
   },
   {
    "duration": 11,
    "start_time": "2022-01-21T12:19:57.133Z"
   },
   {
    "duration": 338,
    "start_time": "2022-01-21T12:19:57.146Z"
   },
   {
    "duration": 241,
    "start_time": "2022-01-21T12:19:57.486Z"
   },
   {
    "duration": 406,
    "start_time": "2022-01-21T12:19:57.731Z"
   },
   {
    "duration": -204,
    "start_time": "2022-01-21T12:19:58.344Z"
   },
   {
    "duration": -216,
    "start_time": "2022-01-21T12:19:58.357Z"
   },
   {
    "duration": -227,
    "start_time": "2022-01-21T12:19:58.370Z"
   },
   {
    "duration": -246,
    "start_time": "2022-01-21T12:19:58.390Z"
   },
   {
    "duration": -256,
    "start_time": "2022-01-21T12:19:58.402Z"
   },
   {
    "duration": -394,
    "start_time": "2022-01-21T12:19:58.541Z"
   },
   {
    "duration": -408,
    "start_time": "2022-01-21T12:19:58.556Z"
   },
   {
    "duration": 371,
    "start_time": "2022-01-21T12:20:29.022Z"
   },
   {
    "duration": 204,
    "start_time": "2022-01-21T12:20:31.804Z"
   },
   {
    "duration": 5,
    "start_time": "2022-01-21T12:20:33.283Z"
   },
   {
    "duration": 63,
    "start_time": "2022-01-21T12:20:33.294Z"
   },
   {
    "duration": 13,
    "start_time": "2022-01-21T12:20:33.359Z"
   },
   {
    "duration": 11,
    "start_time": "2022-01-21T12:20:33.375Z"
   },
   {
    "duration": 19,
    "start_time": "2022-01-21T12:20:33.390Z"
   },
   {
    "duration": 21,
    "start_time": "2022-01-21T12:20:33.459Z"
   },
   {
    "duration": 7,
    "start_time": "2022-01-21T12:20:33.483Z"
   },
   {
    "duration": 7,
    "start_time": "2022-01-21T12:20:33.492Z"
   },
   {
    "duration": 56,
    "start_time": "2022-01-21T12:20:33.503Z"
   },
   {
    "duration": 10,
    "start_time": "2022-01-21T12:20:33.562Z"
   },
   {
    "duration": 11,
    "start_time": "2022-01-21T12:20:33.575Z"
   },
   {
    "duration": 19,
    "start_time": "2022-01-21T12:20:33.589Z"
   },
   {
    "duration": 65,
    "start_time": "2022-01-21T12:20:33.610Z"
   },
   {
    "duration": 20,
    "start_time": "2022-01-21T12:20:33.678Z"
   },
   {
    "duration": 5,
    "start_time": "2022-01-21T12:20:33.700Z"
   },
   {
    "duration": 56,
    "start_time": "2022-01-21T12:20:33.707Z"
   },
   {
    "duration": 740,
    "start_time": "2022-01-21T12:20:33.765Z"
   },
   {
    "duration": 3,
    "start_time": "2022-01-21T12:20:34.507Z"
   },
   {
    "duration": 16,
    "start_time": "2022-01-21T12:20:34.513Z"
   },
   {
    "duration": 608,
    "start_time": "2022-01-21T12:20:34.531Z"
   },
   {
    "duration": 403,
    "start_time": "2022-01-21T12:20:35.143Z"
   },
   {
    "duration": 423,
    "start_time": "2022-01-21T12:20:35.552Z"
   },
   {
    "duration": 403,
    "start_time": "2022-01-21T12:20:35.979Z"
   },
   {
    "duration": 541,
    "start_time": "2022-01-21T12:20:36.384Z"
   },
   {
    "duration": 397,
    "start_time": "2022-01-21T12:20:36.929Z"
   },
   {
    "duration": 392,
    "start_time": "2022-01-21T12:20:37.328Z"
   },
   {
    "duration": 639,
    "start_time": "2022-01-21T12:20:37.723Z"
   },
   {
    "duration": 11,
    "start_time": "2022-01-21T12:20:38.364Z"
   },
   {
    "duration": 554,
    "start_time": "2022-01-21T12:20:38.378Z"
   },
   {
    "duration": 430,
    "start_time": "2022-01-21T12:20:38.935Z"
   },
   {
    "duration": 410,
    "start_time": "2022-01-21T12:20:39.368Z"
   },
   {
    "duration": 7,
    "start_time": "2022-01-21T12:20:39.780Z"
   },
   {
    "duration": 487,
    "start_time": "2022-01-21T12:20:39.790Z"
   },
   {
    "duration": 513,
    "start_time": "2022-01-21T12:20:40.281Z"
   },
   {
    "duration": 8,
    "start_time": "2022-01-21T12:20:40.797Z"
   },
   {
    "duration": 7,
    "start_time": "2022-01-21T12:20:40.808Z"
   },
   {
    "duration": 6,
    "start_time": "2022-01-21T12:20:40.818Z"
   },
   {
    "duration": 2375,
    "start_time": "2022-01-21T12:20:40.859Z"
   },
   {
    "duration": 8,
    "start_time": "2022-01-21T12:20:43.237Z"
   },
   {
    "duration": 478,
    "start_time": "2022-01-21T12:20:43.248Z"
   },
   {
    "duration": 235,
    "start_time": "2022-01-21T12:20:43.728Z"
   },
   {
    "duration": 387,
    "start_time": "2022-01-21T12:20:43.966Z"
   },
   {
    "duration": 218,
    "start_time": "2022-01-21T12:20:44.356Z"
   },
   {
    "duration": 348,
    "start_time": "2022-01-21T12:20:44.576Z"
   },
   {
    "duration": 178,
    "start_time": "2022-01-21T12:20:44.926Z"
   },
   {
    "duration": 395,
    "start_time": "2022-01-21T12:20:45.106Z"
   },
   {
    "duration": 235,
    "start_time": "2022-01-21T12:20:45.504Z"
   },
   {
    "duration": 389,
    "start_time": "2022-01-21T12:20:45.741Z"
   },
   {
    "duration": 457,
    "start_time": "2022-01-21T12:20:46.133Z"
   },
   {
    "duration": 366,
    "start_time": "2022-01-21T12:39:29.851Z"
   },
   {
    "duration": 362,
    "start_time": "2022-01-21T12:39:37.110Z"
   },
   {
    "duration": 198,
    "start_time": "2022-01-21T12:41:39.153Z"
   },
   {
    "duration": 410,
    "start_time": "2022-01-21T12:41:52.137Z"
   },
   {
    "duration": 3,
    "start_time": "2022-01-21T12:42:21.783Z"
   },
   {
    "duration": 321,
    "start_time": "2022-01-21T12:45:40.004Z"
   },
   {
    "duration": 617,
    "start_time": "2022-01-21T12:46:09.523Z"
   },
   {
    "duration": 154,
    "start_time": "2022-01-21T12:46:21.513Z"
   },
   {
    "duration": 128,
    "start_time": "2022-01-21T12:49:35.028Z"
   },
   {
    "duration": 427,
    "start_time": "2022-01-21T13:15:37.542Z"
   },
   {
    "duration": 385,
    "start_time": "2022-01-21T13:15:56.599Z"
   },
   {
    "duration": 209,
    "start_time": "2022-01-21T13:16:25.986Z"
   },
   {
    "duration": 223,
    "start_time": "2022-01-21T19:00:46.400Z"
   },
   {
    "duration": 1800,
    "start_time": "2022-01-21T19:01:11.454Z"
   },
   {
    "duration": 52,
    "start_time": "2022-01-21T19:01:13.256Z"
   },
   {
    "duration": 10,
    "start_time": "2022-01-21T19:01:13.310Z"
   },
   {
    "duration": 30,
    "start_time": "2022-01-21T19:01:13.322Z"
   },
   {
    "duration": 25,
    "start_time": "2022-01-21T19:01:13.353Z"
   },
   {
    "duration": 36,
    "start_time": "2022-01-21T19:01:13.380Z"
   },
   {
    "duration": 5,
    "start_time": "2022-01-21T19:01:13.418Z"
   },
   {
    "duration": 22,
    "start_time": "2022-01-21T19:01:13.424Z"
   },
   {
    "duration": 20,
    "start_time": "2022-01-21T19:01:13.448Z"
   },
   {
    "duration": 32,
    "start_time": "2022-01-21T19:01:13.470Z"
   },
   {
    "duration": 21,
    "start_time": "2022-01-21T19:01:13.504Z"
   },
   {
    "duration": 33,
    "start_time": "2022-01-21T19:01:13.526Z"
   },
   {
    "duration": 29,
    "start_time": "2022-01-21T19:01:13.561Z"
   },
   {
    "duration": 24,
    "start_time": "2022-01-21T19:01:13.592Z"
   },
   {
    "duration": 11,
    "start_time": "2022-01-21T19:01:13.618Z"
   },
   {
    "duration": 26,
    "start_time": "2022-01-21T19:01:13.630Z"
   },
   {
    "duration": 386,
    "start_time": "2022-01-21T19:01:13.658Z"
   },
   {
    "duration": 2,
    "start_time": "2022-01-21T19:01:14.046Z"
   },
   {
    "duration": 15,
    "start_time": "2022-01-21T19:01:14.050Z"
   },
   {
    "duration": 371,
    "start_time": "2022-01-21T19:01:14.067Z"
   },
   {
    "duration": 264,
    "start_time": "2022-01-21T19:01:14.440Z"
   },
   {
    "duration": 266,
    "start_time": "2022-01-21T19:01:14.706Z"
   },
   {
    "duration": 262,
    "start_time": "2022-01-21T19:01:14.974Z"
   },
   {
    "duration": 341,
    "start_time": "2022-01-21T19:01:15.237Z"
   },
   {
    "duration": 229,
    "start_time": "2022-01-21T19:01:15.580Z"
   },
   {
    "duration": 247,
    "start_time": "2022-01-21T19:01:15.811Z"
   },
   {
    "duration": 395,
    "start_time": "2022-01-21T19:01:16.061Z"
   },
   {
    "duration": 8,
    "start_time": "2022-01-21T19:01:16.458Z"
   },
   {
    "duration": 337,
    "start_time": "2022-01-21T19:01:16.467Z"
   },
   {
    "duration": 267,
    "start_time": "2022-01-21T19:01:16.805Z"
   },
   {
    "duration": 254,
    "start_time": "2022-01-21T19:01:17.073Z"
   },
   {
    "duration": 6,
    "start_time": "2022-01-21T19:01:17.329Z"
   },
   {
    "duration": 332,
    "start_time": "2022-01-21T19:01:17.337Z"
   },
   {
    "duration": 382,
    "start_time": "2022-01-21T19:01:17.671Z"
   },
   {
    "duration": 5,
    "start_time": "2022-01-21T19:01:18.055Z"
   },
   {
    "duration": 13,
    "start_time": "2022-01-21T19:01:18.062Z"
   },
   {
    "duration": 10,
    "start_time": "2022-01-21T19:01:18.076Z"
   },
   {
    "duration": 1875,
    "start_time": "2022-01-21T19:01:18.087Z"
   },
   {
    "duration": 7,
    "start_time": "2022-01-21T19:01:19.964Z"
   },
   {
    "duration": 214,
    "start_time": "2022-01-21T19:01:19.973Z"
   },
   {
    "duration": 148,
    "start_time": "2022-01-21T19:01:20.189Z"
   },
   {
    "duration": 260,
    "start_time": "2022-01-21T19:01:20.339Z"
   },
   {
    "duration": 137,
    "start_time": "2022-01-21T19:01:20.601Z"
   },
   {
    "duration": 227,
    "start_time": "2022-01-21T19:01:20.740Z"
   },
   {
    "duration": 112,
    "start_time": "2022-01-21T19:01:20.969Z"
   },
   {
    "duration": 256,
    "start_time": "2022-01-21T19:01:21.084Z"
   },
   {
    "duration": 138,
    "start_time": "2022-01-21T19:01:21.342Z"
   },
   {
    "duration": 391,
    "start_time": "2022-01-21T19:01:21.482Z"
   },
   {
    "duration": 277,
    "start_time": "2022-01-21T19:01:21.875Z"
   },
   {
    "duration": 232,
    "start_time": "2022-01-21T19:01:22.154Z"
   },
   {
    "duration": 111,
    "start_time": "2022-01-21T19:01:22.388Z"
   },
   {
    "duration": 258,
    "start_time": "2022-01-21T19:01:22.501Z"
   },
   {
    "duration": 144,
    "start_time": "2022-01-21T19:01:22.762Z"
   },
   {
    "duration": 7,
    "start_time": "2022-01-21T19:01:22.909Z"
   },
   {
    "duration": 10,
    "start_time": "2022-01-21T19:08:30.204Z"
   },
   {
    "duration": 9,
    "start_time": "2022-01-21T19:08:34.749Z"
   },
   {
    "duration": 9,
    "start_time": "2022-01-21T19:08:51.044Z"
   },
   {
    "duration": 13,
    "start_time": "2022-01-21T19:09:04.978Z"
   },
   {
    "duration": 466,
    "start_time": "2022-01-21T19:20:39.023Z"
   },
   {
    "duration": 23,
    "start_time": "2022-01-21T19:21:15.622Z"
   },
   {
    "duration": 31,
    "start_time": "2022-01-21T19:21:43.346Z"
   },
   {
    "duration": 601,
    "start_time": "2022-01-21T19:22:53.387Z"
   },
   {
    "duration": 593,
    "start_time": "2022-01-21T19:26:50.574Z"
   },
   {
    "duration": 68,
    "start_time": "2022-01-21T19:32:59.655Z"
   },
   {
    "duration": 63,
    "start_time": "2022-01-21T19:33:09.682Z"
   },
   {
    "duration": 63,
    "start_time": "2022-01-21T19:33:21.910Z"
   },
   {
    "duration": 62,
    "start_time": "2022-01-21T19:33:31.667Z"
   },
   {
    "duration": 71,
    "start_time": "2022-01-21T19:33:47.989Z"
   },
   {
    "duration": 61,
    "start_time": "2022-01-21T19:34:02.337Z"
   },
   {
    "duration": 1065,
    "start_time": "2022-01-21T19:34:03.494Z"
   },
   {
    "duration": 62,
    "start_time": "2022-01-21T19:34:15.589Z"
   },
   {
    "duration": 61,
    "start_time": "2022-01-21T19:35:25.933Z"
   },
   {
    "duration": 57,
    "start_time": "2022-01-21T19:41:12.160Z"
   },
   {
    "duration": 58,
    "start_time": "2022-01-21T19:41:56.865Z"
   },
   {
    "duration": 59,
    "start_time": "2022-01-21T19:42:28.386Z"
   },
   {
    "duration": 4,
    "start_time": "2022-01-21T19:42:29.879Z"
   },
   {
    "duration": 54,
    "start_time": "2022-01-21T19:42:29.884Z"
   },
   {
    "duration": 9,
    "start_time": "2022-01-21T19:42:29.941Z"
   },
   {
    "duration": 12,
    "start_time": "2022-01-21T19:42:29.952Z"
   },
   {
    "duration": 47,
    "start_time": "2022-01-21T19:42:29.966Z"
   },
   {
    "duration": 27,
    "start_time": "2022-01-21T19:42:30.015Z"
   },
   {
    "duration": 14,
    "start_time": "2022-01-21T19:42:30.045Z"
   },
   {
    "duration": 15,
    "start_time": "2022-01-21T19:42:30.061Z"
   },
   {
    "duration": 12,
    "start_time": "2022-01-21T19:42:30.078Z"
   },
   {
    "duration": 13,
    "start_time": "2022-01-21T19:42:30.092Z"
   },
   {
    "duration": 13,
    "start_time": "2022-01-21T19:42:30.107Z"
   },
   {
    "duration": 24,
    "start_time": "2022-01-21T19:42:30.122Z"
   },
   {
    "duration": 19,
    "start_time": "2022-01-21T19:42:30.147Z"
   },
   {
    "duration": 14,
    "start_time": "2022-01-21T19:42:30.167Z"
   },
   {
    "duration": 17,
    "start_time": "2022-01-21T19:42:30.183Z"
   },
   {
    "duration": 17,
    "start_time": "2022-01-21T19:42:30.201Z"
   },
   {
    "duration": 394,
    "start_time": "2022-01-21T19:42:30.220Z"
   },
   {
    "duration": 2,
    "start_time": "2022-01-21T19:42:30.616Z"
   },
   {
    "duration": 22,
    "start_time": "2022-01-21T19:42:30.620Z"
   },
   {
    "duration": 520,
    "start_time": "2022-01-21T19:42:30.644Z"
   },
   {
    "duration": 277,
    "start_time": "2022-01-21T19:42:31.166Z"
   },
   {
    "duration": 263,
    "start_time": "2022-01-21T19:42:31.445Z"
   },
   {
    "duration": 259,
    "start_time": "2022-01-21T19:42:31.712Z"
   },
   {
    "duration": 258,
    "start_time": "2022-01-21T19:42:31.973Z"
   },
   {
    "duration": 241,
    "start_time": "2022-01-21T19:42:32.233Z"
   },
   {
    "duration": 240,
    "start_time": "2022-01-21T19:42:32.475Z"
   },
   {
    "duration": 413,
    "start_time": "2022-01-21T19:42:32.717Z"
   },
   {
    "duration": 9,
    "start_time": "2022-01-21T19:42:33.131Z"
   },
   {
    "duration": 357,
    "start_time": "2022-01-21T19:42:33.142Z"
   },
   {
    "duration": 277,
    "start_time": "2022-01-21T19:42:33.501Z"
   },
   {
    "duration": 269,
    "start_time": "2022-01-21T19:42:33.779Z"
   },
   {
    "duration": 5,
    "start_time": "2022-01-21T19:42:34.050Z"
   },
   {
    "duration": 502,
    "start_time": "2022-01-21T19:42:34.057Z"
   },
   {
    "duration": 377,
    "start_time": "2022-01-21T19:42:34.562Z"
   },
   {
    "duration": 6,
    "start_time": "2022-01-21T19:42:34.941Z"
   },
   {
    "duration": 26,
    "start_time": "2022-01-21T19:42:34.949Z"
   },
   {
    "duration": 35,
    "start_time": "2022-01-21T19:42:34.977Z"
   },
   {
    "duration": 1752,
    "start_time": "2022-01-21T19:42:35.014Z"
   },
   {
    "duration": 7,
    "start_time": "2022-01-21T19:42:36.769Z"
   },
   {
    "duration": 219,
    "start_time": "2022-01-21T19:42:36.778Z"
   },
   {
    "duration": 150,
    "start_time": "2022-01-21T19:42:36.999Z"
   },
   {
    "duration": 269,
    "start_time": "2022-01-21T19:42:37.151Z"
   },
   {
    "duration": 147,
    "start_time": "2022-01-21T19:42:37.422Z"
   },
   {
    "duration": 214,
    "start_time": "2022-01-21T19:42:37.571Z"
   },
   {
    "duration": 98,
    "start_time": "2022-01-21T19:42:37.788Z"
   },
   {
    "duration": 252,
    "start_time": "2022-01-21T19:42:37.897Z"
   },
   {
    "duration": 142,
    "start_time": "2022-01-21T19:42:38.151Z"
   },
   {
    "duration": 397,
    "start_time": "2022-01-21T19:42:38.297Z"
   },
   {
    "duration": 274,
    "start_time": "2022-01-21T19:42:38.695Z"
   },
   {
    "duration": 203,
    "start_time": "2022-01-21T19:42:38.970Z"
   },
   {
    "duration": 110,
    "start_time": "2022-01-21T19:42:39.175Z"
   },
   {
    "duration": 253,
    "start_time": "2022-01-21T19:42:39.286Z"
   },
   {
    "duration": 142,
    "start_time": "2022-01-21T19:42:39.540Z"
   },
   {
    "duration": 14,
    "start_time": "2022-01-21T19:42:39.683Z"
   },
   {
    "duration": 77,
    "start_time": "2022-01-21T19:42:39.698Z"
   },
   {
    "duration": 213,
    "start_time": "2022-01-21T19:43:49.236Z"
   },
   {
    "duration": 58,
    "start_time": "2022-01-21T19:43:58.809Z"
   },
   {
    "duration": 205,
    "start_time": "2022-01-21T19:45:59.072Z"
   },
   {
    "duration": 198,
    "start_time": "2022-01-21T19:47:58.401Z"
   },
   {
    "duration": 723,
    "start_time": "2022-01-21T19:49:51.916Z"
   },
   {
    "duration": 274,
    "start_time": "2022-01-21T19:50:02.665Z"
   },
   {
    "duration": 276,
    "start_time": "2022-01-21T19:51:33.524Z"
   },
   {
    "duration": 271,
    "start_time": "2022-01-21T19:52:23.237Z"
   },
   {
    "duration": 273,
    "start_time": "2022-01-21T19:52:42.327Z"
   },
   {
    "duration": 260,
    "start_time": "2022-01-21T19:52:48.087Z"
   },
   {
    "duration": 425,
    "start_time": "2022-01-21T19:53:02.958Z"
   },
   {
    "duration": 270,
    "start_time": "2022-01-21T19:53:13.555Z"
   },
   {
    "duration": 278,
    "start_time": "2022-01-21T19:53:43.413Z"
   },
   {
    "duration": 259,
    "start_time": "2022-01-21T19:54:16.247Z"
   },
   {
    "duration": 292,
    "start_time": "2022-01-21T19:54:31.201Z"
   },
   {
    "duration": 268,
    "start_time": "2022-01-21T19:54:40.921Z"
   },
   {
    "duration": 262,
    "start_time": "2022-01-21T19:54:48.357Z"
   },
   {
    "duration": 279,
    "start_time": "2022-01-21T19:55:07.910Z"
   },
   {
    "duration": 259,
    "start_time": "2022-01-21T19:55:17.248Z"
   },
   {
    "duration": 272,
    "start_time": "2022-01-21T19:55:23.618Z"
   },
   {
    "duration": 275,
    "start_time": "2022-01-21T19:55:40.276Z"
   },
   {
    "duration": 272,
    "start_time": "2022-01-21T19:55:48.241Z"
   },
   {
    "duration": 277,
    "start_time": "2022-01-21T19:55:53.800Z"
   },
   {
    "duration": 279,
    "start_time": "2022-01-21T19:56:05.556Z"
   },
   {
    "duration": 61,
    "start_time": "2022-01-21T19:57:59.878Z"
   },
   {
    "duration": 437,
    "start_time": "2022-01-21T19:58:08.780Z"
   },
   {
    "duration": 217,
    "start_time": "2022-01-21T20:37:58.913Z"
   },
   {
    "duration": 87,
    "start_time": "2022-01-21T20:38:52.997Z"
   },
   {
    "duration": 68,
    "start_time": "2022-01-21T20:38:59.978Z"
   },
   {
    "duration": 205,
    "start_time": "2022-01-21T20:39:12.734Z"
   },
   {
    "duration": 209,
    "start_time": "2022-01-21T20:57:11.109Z"
   },
   {
    "duration": 203,
    "start_time": "2022-01-21T20:57:39.149Z"
   },
   {
    "duration": 240,
    "start_time": "2022-01-21T20:58:06.405Z"
   },
   {
    "duration": 55,
    "start_time": "2022-01-21T20:58:51.900Z"
   },
   {
    "duration": 123,
    "start_time": "2022-01-21T20:58:58.878Z"
   },
   {
    "duration": 61,
    "start_time": "2022-01-21T20:59:02.962Z"
   },
   {
    "duration": 71,
    "start_time": "2022-01-21T20:59:16.330Z"
   },
   {
    "duration": 63,
    "start_time": "2022-01-21T20:59:29.512Z"
   },
   {
    "duration": 119,
    "start_time": "2022-01-21T20:59:41.174Z"
   },
   {
    "duration": 61,
    "start_time": "2022-01-21T20:59:57.298Z"
   },
   {
    "duration": 257,
    "start_time": "2022-01-21T21:00:04.386Z"
   },
   {
    "duration": 574,
    "start_time": "2022-01-21T21:00:37.858Z"
   },
   {
    "duration": 229,
    "start_time": "2022-01-21T21:00:42.371Z"
   },
   {
    "duration": 191,
    "start_time": "2022-01-21T21:01:33.976Z"
   },
   {
    "duration": 72,
    "start_time": "2022-01-21T21:02:08.331Z"
   },
   {
    "duration": 233,
    "start_time": "2022-01-21T21:02:18.084Z"
   },
   {
    "duration": 235,
    "start_time": "2022-01-21T21:07:58.823Z"
   },
   {
    "duration": 1475,
    "start_time": "2022-01-22T14:40:41.650Z"
   },
   {
    "duration": 5,
    "start_time": "2022-01-22T14:40:44.115Z"
   },
   {
    "duration": 81,
    "start_time": "2022-01-22T14:40:44.126Z"
   },
   {
    "duration": 17,
    "start_time": "2022-01-22T14:40:44.210Z"
   },
   {
    "duration": 18,
    "start_time": "2022-01-22T14:40:44.267Z"
   },
   {
    "duration": 20,
    "start_time": "2022-01-22T14:40:44.289Z"
   },
   {
    "duration": 67,
    "start_time": "2022-01-22T14:40:44.313Z"
   },
   {
    "duration": 9,
    "start_time": "2022-01-22T14:40:44.383Z"
   },
   {
    "duration": 7,
    "start_time": "2022-01-22T14:40:44.395Z"
   },
   {
    "duration": 7,
    "start_time": "2022-01-22T14:40:44.405Z"
   },
   {
    "duration": 50,
    "start_time": "2022-01-22T14:40:44.416Z"
   },
   {
    "duration": 8,
    "start_time": "2022-01-22T14:40:44.470Z"
   },
   {
    "duration": 26,
    "start_time": "2022-01-22T14:40:44.480Z"
   },
   {
    "duration": 21,
    "start_time": "2022-01-22T14:40:44.508Z"
   },
   {
    "duration": 49,
    "start_time": "2022-01-22T14:40:44.532Z"
   },
   {
    "duration": 13,
    "start_time": "2022-01-22T14:40:44.583Z"
   },
   {
    "duration": 13,
    "start_time": "2022-01-22T14:40:44.598Z"
   },
   {
    "duration": 673,
    "start_time": "2022-01-22T14:40:44.614Z"
   },
   {
    "duration": 3,
    "start_time": "2022-01-22T14:40:45.290Z"
   },
   {
    "duration": 26,
    "start_time": "2022-01-22T14:40:45.296Z"
   },
   {
    "duration": 557,
    "start_time": "2022-01-22T14:40:45.325Z"
   },
   {
    "duration": 398,
    "start_time": "2022-01-22T14:40:45.885Z"
   },
   {
    "duration": 403,
    "start_time": "2022-01-22T14:40:46.286Z"
   },
   {
    "duration": 386,
    "start_time": "2022-01-22T14:40:46.691Z"
   },
   {
    "duration": 443,
    "start_time": "2022-01-22T14:40:47.080Z"
   },
   {
    "duration": 376,
    "start_time": "2022-01-22T14:40:47.525Z"
   },
   {
    "duration": 381,
    "start_time": "2022-01-22T14:40:47.904Z"
   },
   {
    "duration": 731,
    "start_time": "2022-01-22T14:40:48.287Z"
   },
   {
    "duration": 10,
    "start_time": "2022-01-22T14:40:49.025Z"
   },
   {
    "duration": 579,
    "start_time": "2022-01-22T14:40:49.038Z"
   },
   {
    "duration": 423,
    "start_time": "2022-01-22T14:40:49.619Z"
   },
   {
    "duration": 405,
    "start_time": "2022-01-22T14:40:50.045Z"
   },
   {
    "duration": 15,
    "start_time": "2022-01-22T14:40:50.452Z"
   },
   {
    "duration": 504,
    "start_time": "2022-01-22T14:40:50.470Z"
   },
   {
    "duration": 495,
    "start_time": "2022-01-22T14:40:50.976Z"
   },
   {
    "duration": 6,
    "start_time": "2022-01-22T14:40:51.473Z"
   },
   {
    "duration": 8,
    "start_time": "2022-01-22T14:40:51.481Z"
   },
   {
    "duration": 7,
    "start_time": "2022-01-22T14:40:51.491Z"
   },
   {
    "duration": 2464,
    "start_time": "2022-01-22T14:40:51.500Z"
   },
   {
    "duration": 8,
    "start_time": "2022-01-22T14:40:53.967Z"
   },
   {
    "duration": 321,
    "start_time": "2022-01-22T14:40:53.978Z"
   },
   {
    "duration": 227,
    "start_time": "2022-01-22T14:40:54.301Z"
   },
   {
    "duration": 399,
    "start_time": "2022-01-22T14:40:54.530Z"
   },
   {
    "duration": 221,
    "start_time": "2022-01-22T14:40:54.932Z"
   },
   {
    "duration": 452,
    "start_time": "2022-01-22T14:40:55.156Z"
   },
   {
    "duration": 166,
    "start_time": "2022-01-22T14:40:55.611Z"
   },
   {
    "duration": 487,
    "start_time": "2022-01-22T14:40:55.780Z"
   },
   {
    "duration": 210,
    "start_time": "2022-01-22T14:40:56.270Z"
   },
   {
    "duration": 369,
    "start_time": "2022-01-22T14:40:56.483Z"
   },
   {
    "duration": 430,
    "start_time": "2022-01-22T14:40:56.854Z"
   },
   {
    "duration": 329,
    "start_time": "2022-01-22T14:40:57.286Z"
   },
   {
    "duration": 165,
    "start_time": "2022-01-22T14:40:57.618Z"
   },
   {
    "duration": 390,
    "start_time": "2022-01-22T14:40:57.786Z"
   },
   {
    "duration": 235,
    "start_time": "2022-01-22T14:40:58.178Z"
   },
   {
    "duration": 9,
    "start_time": "2022-01-22T14:40:58.415Z"
   },
   {
    "duration": 430,
    "start_time": "2022-01-22T14:40:58.426Z"
   },
   {
    "duration": -619,
    "start_time": "2022-01-22T14:40:59.477Z"
   },
   {
    "duration": -620,
    "start_time": "2022-01-22T14:40:59.480Z"
   },
   {
    "duration": -623,
    "start_time": "2022-01-22T14:40:59.484Z"
   },
   {
    "duration": 324,
    "start_time": "2022-01-22T14:41:36.749Z"
   },
   {
    "duration": 5,
    "start_time": "2022-01-22T14:41:39.613Z"
   },
   {
    "duration": 68,
    "start_time": "2022-01-22T14:41:39.621Z"
   },
   {
    "duration": 14,
    "start_time": "2022-01-22T14:41:39.692Z"
   },
   {
    "duration": 16,
    "start_time": "2022-01-22T14:41:39.709Z"
   },
   {
    "duration": 20,
    "start_time": "2022-01-22T14:41:39.766Z"
   },
   {
    "duration": 22,
    "start_time": "2022-01-22T14:41:39.788Z"
   },
   {
    "duration": 7,
    "start_time": "2022-01-22T14:41:39.814Z"
   },
   {
    "duration": 44,
    "start_time": "2022-01-22T14:41:39.824Z"
   },
   {
    "duration": 10,
    "start_time": "2022-01-22T14:41:39.870Z"
   },
   {
    "duration": 16,
    "start_time": "2022-01-22T14:41:39.882Z"
   },
   {
    "duration": 14,
    "start_time": "2022-01-22T14:41:39.900Z"
   },
   {
    "duration": 22,
    "start_time": "2022-01-22T14:41:39.917Z"
   },
   {
    "duration": 19,
    "start_time": "2022-01-22T14:41:39.965Z"
   },
   {
    "duration": 19,
    "start_time": "2022-01-22T14:41:39.987Z"
   },
   {
    "duration": 5,
    "start_time": "2022-01-22T14:41:40.009Z"
   },
   {
    "duration": 16,
    "start_time": "2022-01-22T14:41:40.017Z"
   },
   {
    "duration": 667,
    "start_time": "2022-01-22T14:41:40.066Z"
   },
   {
    "duration": 3,
    "start_time": "2022-01-22T14:41:40.736Z"
   },
   {
    "duration": 31,
    "start_time": "2022-01-22T14:41:40.744Z"
   },
   {
    "duration": 672,
    "start_time": "2022-01-22T14:41:40.779Z"
   },
   {
    "duration": 419,
    "start_time": "2022-01-22T14:41:41.454Z"
   },
   {
    "duration": 399,
    "start_time": "2022-01-22T14:41:41.876Z"
   },
   {
    "duration": 386,
    "start_time": "2022-01-22T14:41:42.278Z"
   },
   {
    "duration": 381,
    "start_time": "2022-01-22T14:41:42.666Z"
   },
   {
    "duration": 363,
    "start_time": "2022-01-22T14:41:43.049Z"
   },
   {
    "duration": 380,
    "start_time": "2022-01-22T14:41:43.415Z"
   },
   {
    "duration": 607,
    "start_time": "2022-01-22T14:41:43.797Z"
   },
   {
    "duration": 10,
    "start_time": "2022-01-22T14:41:44.407Z"
   },
   {
    "duration": 532,
    "start_time": "2022-01-22T14:41:44.420Z"
   },
   {
    "duration": 435,
    "start_time": "2022-01-22T14:41:44.954Z"
   },
   {
    "duration": 502,
    "start_time": "2022-01-22T14:41:45.392Z"
   },
   {
    "duration": 7,
    "start_time": "2022-01-22T14:41:45.897Z"
   },
   {
    "duration": 482,
    "start_time": "2022-01-22T14:41:45.906Z"
   },
   {
    "duration": 476,
    "start_time": "2022-01-22T14:41:46.391Z"
   },
   {
    "duration": 7,
    "start_time": "2022-01-22T14:41:46.869Z"
   },
   {
    "duration": 8,
    "start_time": "2022-01-22T14:41:46.879Z"
   },
   {
    "duration": 7,
    "start_time": "2022-01-22T14:41:46.890Z"
   },
   {
    "duration": 2430,
    "start_time": "2022-01-22T14:41:46.901Z"
   },
   {
    "duration": 8,
    "start_time": "2022-01-22T14:41:49.334Z"
   },
   {
    "duration": 322,
    "start_time": "2022-01-22T14:41:49.345Z"
   },
   {
    "duration": 240,
    "start_time": "2022-01-22T14:41:49.669Z"
   },
   {
    "duration": 519,
    "start_time": "2022-01-22T14:41:49.911Z"
   },
   {
    "duration": 222,
    "start_time": "2022-01-22T14:41:50.433Z"
   },
   {
    "duration": 473,
    "start_time": "2022-01-22T14:41:50.658Z"
   },
   {
    "duration": 161,
    "start_time": "2022-01-22T14:41:51.134Z"
   },
   {
    "duration": 470,
    "start_time": "2022-01-22T14:41:51.298Z"
   },
   {
    "duration": 216,
    "start_time": "2022-01-22T14:41:51.771Z"
   },
   {
    "duration": 378,
    "start_time": "2022-01-22T14:41:51.990Z"
   },
   {
    "duration": 422,
    "start_time": "2022-01-22T14:41:52.371Z"
   },
   {
    "duration": 321,
    "start_time": "2022-01-22T14:41:52.796Z"
   },
   {
    "duration": 167,
    "start_time": "2022-01-22T14:41:53.119Z"
   },
   {
    "duration": 384,
    "start_time": "2022-01-22T14:41:53.289Z"
   },
   {
    "duration": 218,
    "start_time": "2022-01-22T14:41:53.675Z"
   },
   {
    "duration": 8,
    "start_time": "2022-01-22T14:41:53.896Z"
   },
   {
    "duration": 323,
    "start_time": "2022-01-22T14:41:53.910Z"
   },
   {
    "duration": 331,
    "start_time": "2022-01-22T14:41:54.236Z"
   },
   {
    "duration": 326,
    "start_time": "2022-01-22T14:41:54.569Z"
   },
   {
    "duration": 447,
    "start_time": "2022-01-22T14:41:54.898Z"
   },
   {
    "duration": 462,
    "start_time": "2022-01-22T14:49:29.089Z"
   },
   {
    "duration": 315,
    "start_time": "2022-01-22T14:49:41.926Z"
   },
   {
    "duration": 12,
    "start_time": "2022-01-22T14:51:11.090Z"
   },
   {
    "duration": 13,
    "start_time": "2022-01-22T15:49:39.171Z"
   },
   {
    "duration": 112,
    "start_time": "2022-01-22T16:16:55.009Z"
   },
   {
    "duration": 114,
    "start_time": "2022-01-22T16:17:01.828Z"
   },
   {
    "duration": 14,
    "start_time": "2022-01-22T16:29:08.829Z"
   },
   {
    "duration": 14,
    "start_time": "2022-01-22T16:29:53.900Z"
   },
   {
    "duration": 18,
    "start_time": "2022-01-22T16:31:15.523Z"
   },
   {
    "duration": 15,
    "start_time": "2022-01-22T16:31:22.015Z"
   },
   {
    "duration": 5,
    "start_time": "2022-01-22T16:33:03.620Z"
   },
   {
    "duration": 73,
    "start_time": "2022-01-22T16:33:03.627Z"
   },
   {
    "duration": 207,
    "start_time": "2022-01-22T16:33:03.703Z"
   },
   {
    "duration": 13,
    "start_time": "2022-01-22T16:33:03.913Z"
   },
   {
    "duration": 48,
    "start_time": "2022-01-22T16:33:03.929Z"
   },
   {
    "duration": 26,
    "start_time": "2022-01-22T16:33:03.979Z"
   },
   {
    "duration": 7,
    "start_time": "2022-01-22T16:33:04.008Z"
   },
   {
    "duration": 10,
    "start_time": "2022-01-22T16:33:04.020Z"
   },
   {
    "duration": 7,
    "start_time": "2022-01-22T16:33:04.065Z"
   },
   {
    "duration": 19,
    "start_time": "2022-01-22T16:33:04.075Z"
   },
   {
    "duration": 10,
    "start_time": "2022-01-22T16:33:04.097Z"
   },
   {
    "duration": 23,
    "start_time": "2022-01-22T16:33:04.109Z"
   },
   {
    "duration": 17,
    "start_time": "2022-01-22T16:33:04.165Z"
   },
   {
    "duration": 19,
    "start_time": "2022-01-22T16:33:04.185Z"
   },
   {
    "duration": 6,
    "start_time": "2022-01-22T16:33:04.206Z"
   },
   {
    "duration": 14,
    "start_time": "2022-01-22T16:33:04.214Z"
   },
   {
    "duration": 639,
    "start_time": "2022-01-22T16:33:04.231Z"
   },
   {
    "duration": 4,
    "start_time": "2022-01-22T16:33:04.872Z"
   },
   {
    "duration": 23,
    "start_time": "2022-01-22T16:33:04.878Z"
   },
   {
    "duration": 599,
    "start_time": "2022-01-22T16:33:04.904Z"
   },
   {
    "duration": 417,
    "start_time": "2022-01-22T16:33:05.507Z"
   },
   {
    "duration": 404,
    "start_time": "2022-01-22T16:33:05.927Z"
   },
   {
    "duration": 401,
    "start_time": "2022-01-22T16:33:06.337Z"
   },
   {
    "duration": 529,
    "start_time": "2022-01-22T16:33:06.742Z"
   },
   {
    "duration": 399,
    "start_time": "2022-01-22T16:33:07.274Z"
   },
   {
    "duration": 374,
    "start_time": "2022-01-22T16:33:07.676Z"
   },
   {
    "duration": 628,
    "start_time": "2022-01-22T16:33:08.053Z"
   },
   {
    "duration": 11,
    "start_time": "2022-01-22T16:33:08.684Z"
   },
   {
    "duration": 560,
    "start_time": "2022-01-22T16:33:08.697Z"
   },
   {
    "duration": 577,
    "start_time": "2022-01-22T16:33:09.264Z"
   },
   {
    "duration": 531,
    "start_time": "2022-01-22T16:33:09.844Z"
   },
   {
    "duration": 11,
    "start_time": "2022-01-22T16:33:10.379Z"
   },
   {
    "duration": 539,
    "start_time": "2022-01-22T16:33:10.394Z"
   },
   {
    "duration": 529,
    "start_time": "2022-01-22T16:33:10.936Z"
   },
   {
    "duration": 7,
    "start_time": "2022-01-22T16:33:11.467Z"
   },
   {
    "duration": 15,
    "start_time": "2022-01-22T16:33:11.476Z"
   },
   {
    "duration": 6,
    "start_time": "2022-01-22T16:33:11.494Z"
   },
   {
    "duration": 2253,
    "start_time": "2022-01-22T16:33:11.502Z"
   },
   {
    "duration": 9,
    "start_time": "2022-01-22T16:33:13.765Z"
   },
   {
    "duration": 323,
    "start_time": "2022-01-22T16:33:13.777Z"
   },
   {
    "duration": 223,
    "start_time": "2022-01-22T16:33:14.103Z"
   },
   {
    "duration": 394,
    "start_time": "2022-01-22T16:33:14.328Z"
   },
   {
    "duration": 232,
    "start_time": "2022-01-22T16:33:14.725Z"
   },
   {
    "duration": 352,
    "start_time": "2022-01-22T16:33:14.960Z"
   },
   {
    "duration": 367,
    "start_time": "2022-01-22T16:33:15.315Z"
   },
   {
    "duration": 420,
    "start_time": "2022-01-22T16:33:15.685Z"
   },
   {
    "duration": 229,
    "start_time": "2022-01-22T16:33:16.108Z"
   },
   {
    "duration": 391,
    "start_time": "2022-01-22T16:33:16.340Z"
   },
   {
    "duration": 456,
    "start_time": "2022-01-22T16:33:16.733Z"
   },
   {
    "duration": 426,
    "start_time": "2022-01-22T16:33:17.192Z"
   },
   {
    "duration": 165,
    "start_time": "2022-01-22T16:33:17.621Z"
   },
   {
    "duration": 397,
    "start_time": "2022-01-22T16:33:17.789Z"
   },
   {
    "duration": 215,
    "start_time": "2022-01-22T16:33:18.189Z"
   },
   {
    "duration": 10,
    "start_time": "2022-01-22T16:33:18.406Z"
   },
   {
    "duration": 333,
    "start_time": "2022-01-22T16:33:18.418Z"
   },
   {
    "duration": 336,
    "start_time": "2022-01-22T16:33:18.754Z"
   },
   {
    "duration": 329,
    "start_time": "2022-01-22T16:33:19.092Z"
   },
   {
    "duration": 393,
    "start_time": "2022-01-22T16:33:19.423Z"
   },
   {
    "duration": 13,
    "start_time": "2022-01-22T16:33:19.818Z"
   },
   {
    "duration": 35,
    "start_time": "2022-01-22T16:33:19.834Z"
   },
   {
    "duration": 19,
    "start_time": "2022-01-22T16:34:13.274Z"
   },
   {
    "duration": 16,
    "start_time": "2022-01-22T17:03:17.154Z"
   },
   {
    "duration": 14,
    "start_time": "2022-01-22T17:03:33.090Z"
   },
   {
    "duration": 1635,
    "start_time": "2022-01-22T20:45:25.268Z"
   },
   {
    "duration": 73,
    "start_time": "2022-01-22T20:45:26.906Z"
   },
   {
    "duration": 16,
    "start_time": "2022-01-22T20:45:26.982Z"
   },
   {
    "duration": 18,
    "start_time": "2022-01-22T20:45:27.003Z"
   },
   {
    "duration": 61,
    "start_time": "2022-01-22T20:45:27.024Z"
   },
   {
    "duration": 30,
    "start_time": "2022-01-22T20:45:27.087Z"
   },
   {
    "duration": 8,
    "start_time": "2022-01-22T20:45:27.119Z"
   },
   {
    "duration": 36,
    "start_time": "2022-01-22T20:45:27.131Z"
   },
   {
    "duration": 8,
    "start_time": "2022-01-22T20:45:27.170Z"
   },
   {
    "duration": 13,
    "start_time": "2022-01-22T20:45:27.181Z"
   },
   {
    "duration": 9,
    "start_time": "2022-01-22T20:45:27.197Z"
   },
   {
    "duration": 56,
    "start_time": "2022-01-22T20:45:27.209Z"
   },
   {
    "duration": 30,
    "start_time": "2022-01-22T20:45:27.268Z"
   },
   {
    "duration": 24,
    "start_time": "2022-01-22T20:45:27.301Z"
   },
   {
    "duration": 14,
    "start_time": "2022-01-22T20:45:27.327Z"
   },
   {
    "duration": 12,
    "start_time": "2022-01-22T20:45:27.365Z"
   },
   {
    "duration": 633,
    "start_time": "2022-01-22T20:45:27.379Z"
   },
   {
    "duration": 3,
    "start_time": "2022-01-22T20:45:28.015Z"
   },
   {
    "duration": 19,
    "start_time": "2022-01-22T20:45:28.021Z"
   },
   {
    "duration": 708,
    "start_time": "2022-01-22T20:45:28.042Z"
   },
   {
    "duration": 421,
    "start_time": "2022-01-22T20:45:28.752Z"
   },
   {
    "duration": 413,
    "start_time": "2022-01-22T20:45:29.176Z"
   },
   {
    "duration": 400,
    "start_time": "2022-01-22T20:45:29.595Z"
   },
   {
    "duration": 670,
    "start_time": "2022-01-22T20:45:29.998Z"
   },
   {
    "duration": 536,
    "start_time": "2022-01-22T20:45:30.672Z"
   },
   {
    "duration": 402,
    "start_time": "2022-01-22T20:45:31.211Z"
   },
   {
    "duration": 973,
    "start_time": "2022-01-22T20:45:31.615Z"
   },
   {
    "duration": 12,
    "start_time": "2022-01-22T20:45:32.591Z"
   },
   {
    "duration": 550,
    "start_time": "2022-01-22T20:45:32.606Z"
   },
   {
    "duration": 448,
    "start_time": "2022-01-22T20:45:33.158Z"
   },
   {
    "duration": 412,
    "start_time": "2022-01-22T20:45:33.609Z"
   },
   {
    "duration": 10,
    "start_time": "2022-01-22T20:45:34.024Z"
   },
   {
    "duration": 523,
    "start_time": "2022-01-22T20:45:34.037Z"
   },
   {
    "duration": 524,
    "start_time": "2022-01-22T20:45:34.562Z"
   },
   {
    "duration": 7,
    "start_time": "2022-01-22T20:45:35.090Z"
   },
   {
    "duration": 11,
    "start_time": "2022-01-22T20:45:35.099Z"
   },
   {
    "duration": 14,
    "start_time": "2022-01-22T20:45:35.113Z"
   },
   {
    "duration": 3362,
    "start_time": "2022-01-22T20:45:35.130Z"
   },
   {
    "duration": 12,
    "start_time": "2022-01-22T20:45:38.495Z"
   },
   {
    "duration": 344,
    "start_time": "2022-01-22T20:45:38.510Z"
   },
   {
    "duration": 237,
    "start_time": "2022-01-22T20:45:38.864Z"
   },
   {
    "duration": 400,
    "start_time": "2022-01-22T20:45:39.103Z"
   },
   {
    "duration": 219,
    "start_time": "2022-01-22T20:45:39.506Z"
   },
   {
    "duration": 355,
    "start_time": "2022-01-22T20:45:39.728Z"
   },
   {
    "duration": 178,
    "start_time": "2022-01-22T20:45:40.085Z"
   },
   {
    "duration": 541,
    "start_time": "2022-01-22T20:45:40.268Z"
   },
   {
    "duration": 244,
    "start_time": "2022-01-22T20:45:40.812Z"
   },
   {
    "duration": 385,
    "start_time": "2022-01-22T20:45:41.059Z"
   },
   {
    "duration": 455,
    "start_time": "2022-01-22T20:45:41.447Z"
   },
   {
    "duration": 350,
    "start_time": "2022-01-22T20:45:41.905Z"
   },
   {
    "duration": 170,
    "start_time": "2022-01-22T20:45:42.265Z"
   },
   {
    "duration": 418,
    "start_time": "2022-01-22T20:45:42.437Z"
   },
   {
    "duration": 238,
    "start_time": "2022-01-22T20:45:42.866Z"
   },
   {
    "duration": 12,
    "start_time": "2022-01-22T20:45:43.107Z"
   },
   {
    "duration": 354,
    "start_time": "2022-01-22T20:45:43.123Z"
   },
   {
    "duration": 345,
    "start_time": "2022-01-22T20:45:43.479Z"
   },
   {
    "duration": 330,
    "start_time": "2022-01-22T20:45:43.826Z"
   },
   {
    "duration": 511,
    "start_time": "2022-01-22T20:45:44.158Z"
   },
   {
    "duration": 15,
    "start_time": "2022-01-22T20:45:44.671Z"
   },
   {
    "duration": 15,
    "start_time": "2022-01-22T20:45:44.690Z"
   },
   {
    "duration": 1578,
    "start_time": "2022-01-28T17:48:04.828Z"
   },
   {
    "duration": 73,
    "start_time": "2022-01-28T17:48:06.409Z"
   },
   {
    "duration": 16,
    "start_time": "2022-01-28T17:48:06.486Z"
   },
   {
    "duration": 12,
    "start_time": "2022-01-28T17:48:06.505Z"
   },
   {
    "duration": 49,
    "start_time": "2022-01-28T17:48:06.520Z"
   },
   {
    "duration": 23,
    "start_time": "2022-01-28T17:48:06.572Z"
   },
   {
    "duration": 9,
    "start_time": "2022-01-28T17:48:06.598Z"
   },
   {
    "duration": 51,
    "start_time": "2022-01-28T17:48:06.612Z"
   },
   {
    "duration": 8,
    "start_time": "2022-01-28T17:48:06.667Z"
   },
   {
    "duration": 12,
    "start_time": "2022-01-28T17:48:06.678Z"
   },
   {
    "duration": 8,
    "start_time": "2022-01-28T17:48:06.692Z"
   },
   {
    "duration": 63,
    "start_time": "2022-01-28T17:48:06.702Z"
   },
   {
    "duration": 21,
    "start_time": "2022-01-28T17:48:06.768Z"
   },
   {
    "duration": 20,
    "start_time": "2022-01-28T17:48:06.792Z"
   },
   {
    "duration": 12,
    "start_time": "2022-01-28T17:48:06.815Z"
   },
   {
    "duration": 37,
    "start_time": "2022-01-28T17:48:06.830Z"
   },
   {
    "duration": 719,
    "start_time": "2022-01-28T17:48:06.869Z"
   },
   {
    "duration": 3,
    "start_time": "2022-01-28T17:48:07.590Z"
   },
   {
    "duration": 17,
    "start_time": "2022-01-28T17:48:07.596Z"
   },
   {
    "duration": 596,
    "start_time": "2022-01-28T17:48:07.615Z"
   },
   {
    "duration": 415,
    "start_time": "2022-01-28T17:48:08.214Z"
   },
   {
    "duration": 506,
    "start_time": "2022-01-28T17:48:08.632Z"
   },
   {
    "duration": 398,
    "start_time": "2022-01-28T17:48:09.146Z"
   },
   {
    "duration": 551,
    "start_time": "2022-01-28T17:48:09.547Z"
   },
   {
    "duration": 372,
    "start_time": "2022-01-28T17:48:10.100Z"
   },
   {
    "duration": 393,
    "start_time": "2022-01-28T17:48:10.474Z"
   },
   {
    "duration": 639,
    "start_time": "2022-01-28T17:48:10.869Z"
   },
   {
    "duration": 11,
    "start_time": "2022-01-28T17:48:11.511Z"
   },
   {
    "duration": 582,
    "start_time": "2022-01-28T17:48:11.524Z"
   },
   {
    "duration": 428,
    "start_time": "2022-01-28T17:48:12.109Z"
   },
   {
    "duration": 455,
    "start_time": "2022-01-28T17:48:12.540Z"
   },
   {
    "duration": 9,
    "start_time": "2022-01-28T17:48:12.999Z"
   },
   {
    "duration": 548,
    "start_time": "2022-01-28T17:48:13.011Z"
   },
   {
    "duration": 522,
    "start_time": "2022-01-28T17:48:13.562Z"
   },
   {
    "duration": 6,
    "start_time": "2022-01-28T17:48:14.087Z"
   },
   {
    "duration": 6,
    "start_time": "2022-01-28T17:48:14.096Z"
   },
   {
    "duration": 6,
    "start_time": "2022-01-28T17:48:14.105Z"
   },
   {
    "duration": 2390,
    "start_time": "2022-01-28T17:48:14.113Z"
   },
   {
    "duration": 9,
    "start_time": "2022-01-28T17:48:16.505Z"
   },
   {
    "duration": 337,
    "start_time": "2022-01-28T17:48:16.516Z"
   },
   {
    "duration": 227,
    "start_time": "2022-01-28T17:48:16.860Z"
   },
   {
    "duration": 380,
    "start_time": "2022-01-28T17:48:17.090Z"
   },
   {
    "duration": 219,
    "start_time": "2022-01-28T17:48:17.473Z"
   },
   {
    "duration": 346,
    "start_time": "2022-01-28T17:48:17.695Z"
   },
   {
    "duration": 173,
    "start_time": "2022-01-28T17:48:18.043Z"
   },
   {
    "duration": 596,
    "start_time": "2022-01-28T17:48:18.220Z"
   },
   {
    "duration": 236,
    "start_time": "2022-01-28T17:48:18.819Z"
   },
   {
    "duration": 372,
    "start_time": "2022-01-28T17:48:19.057Z"
   },
   {
    "duration": 458,
    "start_time": "2022-01-28T17:48:19.432Z"
   },
   {
    "duration": 341,
    "start_time": "2022-01-28T17:48:19.893Z"
   },
   {
    "duration": 167,
    "start_time": "2022-01-28T17:48:20.237Z"
   },
   {
    "duration": 393,
    "start_time": "2022-01-28T17:48:20.406Z"
   },
   {
    "duration": 244,
    "start_time": "2022-01-28T17:48:20.802Z"
   },
   {
    "duration": 16,
    "start_time": "2022-01-28T17:48:21.049Z"
   },
   {
    "duration": 406,
    "start_time": "2022-01-28T17:48:21.068Z"
   },
   {
    "duration": 319,
    "start_time": "2022-01-28T17:48:21.476Z"
   },
   {
    "duration": 345,
    "start_time": "2022-01-28T17:48:21.798Z"
   },
   {
    "duration": 490,
    "start_time": "2022-01-28T17:48:22.146Z"
   },
   {
    "duration": 23,
    "start_time": "2022-01-28T17:48:22.639Z"
   },
   {
    "duration": 13,
    "start_time": "2022-01-28T17:48:22.664Z"
   },
   {
    "duration": 14,
    "start_time": "2022-01-28T18:00:18.561Z"
   },
   {
    "duration": 11,
    "start_time": "2022-01-28T18:00:32.146Z"
   },
   {
    "duration": 30,
    "start_time": "2022-01-28T18:00:57.646Z"
   },
   {
    "duration": 390,
    "start_time": "2022-01-28T18:02:04.237Z"
   },
   {
    "duration": 142,
    "start_time": "2022-01-28T18:07:51.772Z"
   },
   {
    "duration": 399,
    "start_time": "2022-01-28T18:08:04.161Z"
   },
   {
    "duration": 142,
    "start_time": "2022-01-28T18:08:49.784Z"
   },
   {
    "duration": 304,
    "start_time": "2022-01-29T11:13:54.623Z"
   },
   {
    "duration": 1259,
    "start_time": "2022-01-29T11:14:05.873Z"
   },
   {
    "duration": 58,
    "start_time": "2022-01-29T11:14:07.134Z"
   },
   {
    "duration": 12,
    "start_time": "2022-01-29T11:14:07.194Z"
   },
   {
    "duration": 9,
    "start_time": "2022-01-29T11:14:07.209Z"
   },
   {
    "duration": 15,
    "start_time": "2022-01-29T11:14:07.219Z"
   },
   {
    "duration": 21,
    "start_time": "2022-01-29T11:14:07.236Z"
   },
   {
    "duration": 5,
    "start_time": "2022-01-29T11:14:07.259Z"
   },
   {
    "duration": 35,
    "start_time": "2022-01-29T11:14:07.267Z"
   },
   {
    "duration": 8,
    "start_time": "2022-01-29T11:14:07.305Z"
   },
   {
    "duration": 8,
    "start_time": "2022-01-29T11:14:07.315Z"
   },
   {
    "duration": 6,
    "start_time": "2022-01-29T11:14:07.325Z"
   },
   {
    "duration": 18,
    "start_time": "2022-01-29T11:14:07.333Z"
   },
   {
    "duration": 57,
    "start_time": "2022-01-29T11:14:07.353Z"
   },
   {
    "duration": 16,
    "start_time": "2022-01-29T11:14:07.412Z"
   },
   {
    "duration": 6,
    "start_time": "2022-01-29T11:14:07.430Z"
   },
   {
    "duration": 13,
    "start_time": "2022-01-29T11:14:07.438Z"
   },
   {
    "duration": 488,
    "start_time": "2022-01-29T11:14:07.453Z"
   },
   {
    "duration": 2,
    "start_time": "2022-01-29T11:14:07.943Z"
   },
   {
    "duration": 13,
    "start_time": "2022-01-29T11:14:07.947Z"
   },
   {
    "duration": 436,
    "start_time": "2022-01-29T11:14:07.962Z"
   },
   {
    "duration": 302,
    "start_time": "2022-01-29T11:14:08.400Z"
   },
   {
    "duration": 301,
    "start_time": "2022-01-29T11:14:08.704Z"
   },
   {
    "duration": 295,
    "start_time": "2022-01-29T11:14:09.009Z"
   },
   {
    "duration": 363,
    "start_time": "2022-01-29T11:14:09.306Z"
   },
   {
    "duration": 296,
    "start_time": "2022-01-29T11:14:09.670Z"
   },
   {
    "duration": 293,
    "start_time": "2022-01-29T11:14:09.968Z"
   },
   {
    "duration": 470,
    "start_time": "2022-01-29T11:14:10.262Z"
   },
   {
    "duration": 7,
    "start_time": "2022-01-29T11:14:10.734Z"
   },
   {
    "duration": 418,
    "start_time": "2022-01-29T11:14:10.743Z"
   },
   {
    "duration": 329,
    "start_time": "2022-01-29T11:14:11.162Z"
   },
   {
    "duration": 313,
    "start_time": "2022-01-29T11:14:11.493Z"
   },
   {
    "duration": 6,
    "start_time": "2022-01-29T11:14:11.808Z"
   },
   {
    "duration": 413,
    "start_time": "2022-01-29T11:14:11.816Z"
   },
   {
    "duration": 408,
    "start_time": "2022-01-29T11:14:12.231Z"
   },
   {
    "duration": 5,
    "start_time": "2022-01-29T11:14:12.641Z"
   },
   {
    "duration": 17,
    "start_time": "2022-01-29T11:14:12.647Z"
   },
   {
    "duration": 26,
    "start_time": "2022-01-29T11:14:12.666Z"
   },
   {
    "duration": 1955,
    "start_time": "2022-01-29T11:14:12.694Z"
   },
   {
    "duration": 6,
    "start_time": "2022-01-29T11:14:14.650Z"
   },
   {
    "duration": 291,
    "start_time": "2022-01-29T11:14:14.658Z"
   },
   {
    "duration": 249,
    "start_time": "2022-01-29T11:14:14.951Z"
   },
   {
    "duration": 162,
    "start_time": "2022-01-29T11:14:15.202Z"
   },
   {
    "duration": 339,
    "start_time": "2022-01-29T11:14:15.366Z"
   },
   {
    "duration": 217,
    "start_time": "2022-01-29T11:14:15.707Z"
   },
   {
    "duration": 118,
    "start_time": "2022-01-29T11:14:15.927Z"
   },
   {
    "duration": 429,
    "start_time": "2022-01-29T11:14:16.047Z"
   },
   {
    "duration": 125,
    "start_time": "2022-01-29T11:14:16.479Z"
   },
   {
    "duration": 295,
    "start_time": "2022-01-29T11:14:16.606Z"
   },
   {
    "duration": 167,
    "start_time": "2022-01-29T11:14:16.903Z"
   },
   {
    "duration": 291,
    "start_time": "2022-01-29T11:14:17.072Z"
   },
   {
    "duration": 322,
    "start_time": "2022-01-29T11:14:17.365Z"
   },
   {
    "duration": 246,
    "start_time": "2022-01-29T11:14:17.689Z"
   },
   {
    "duration": 141,
    "start_time": "2022-01-29T11:14:17.937Z"
   },
   {
    "duration": 300,
    "start_time": "2022-01-29T11:14:18.080Z"
   },
   {
    "duration": 161,
    "start_time": "2022-01-29T11:14:18.382Z"
   },
   {
    "duration": 6,
    "start_time": "2022-01-29T11:14:18.545Z"
   },
   {
    "duration": 246,
    "start_time": "2022-01-29T11:14:18.553Z"
   },
   {
    "duration": 331,
    "start_time": "2022-01-29T11:14:18.801Z"
   },
   {
    "duration": 257,
    "start_time": "2022-01-29T11:14:19.134Z"
   },
   {
    "duration": 309,
    "start_time": "2022-01-29T11:14:19.394Z"
   },
   {
    "duration": 11,
    "start_time": "2022-01-29T11:14:19.705Z"
   },
   {
    "duration": 14,
    "start_time": "2022-01-29T11:14:19.717Z"
   },
   {
    "duration": 90,
    "start_time": "2022-01-29T11:19:08.307Z"
   },
   {
    "duration": 90,
    "start_time": "2022-01-29T11:19:17.176Z"
   },
   {
    "duration": 104,
    "start_time": "2022-01-29T11:19:26.282Z"
   },
   {
    "duration": 95,
    "start_time": "2022-01-29T11:20:42.344Z"
   },
   {
    "duration": 5,
    "start_time": "2022-01-29T11:27:40.693Z"
   },
   {
    "duration": 6,
    "start_time": "2022-01-29T11:27:51.060Z"
   },
   {
    "duration": 5,
    "start_time": "2022-01-29T11:28:16.640Z"
   },
   {
    "duration": 5,
    "start_time": "2022-01-29T11:29:13.327Z"
   },
   {
    "duration": 4,
    "start_time": "2022-01-29T11:29:41.517Z"
   },
   {
    "duration": 97,
    "start_time": "2022-01-29T11:30:29.597Z"
   },
   {
    "duration": 5,
    "start_time": "2022-01-29T11:34:38.360Z"
   },
   {
    "duration": 3,
    "start_time": "2022-01-29T11:34:39.754Z"
   },
   {
    "duration": 63,
    "start_time": "2022-01-29T11:34:39.759Z"
   },
   {
    "duration": 11,
    "start_time": "2022-01-29T11:34:39.824Z"
   },
   {
    "duration": 9,
    "start_time": "2022-01-29T11:34:39.837Z"
   },
   {
    "duration": 52,
    "start_time": "2022-01-29T11:34:39.848Z"
   },
   {
    "duration": 19,
    "start_time": "2022-01-29T11:34:39.902Z"
   },
   {
    "duration": 6,
    "start_time": "2022-01-29T11:34:39.924Z"
   },
   {
    "duration": 7,
    "start_time": "2022-01-29T11:34:39.934Z"
   },
   {
    "duration": 6,
    "start_time": "2022-01-29T11:34:39.944Z"
   },
   {
    "duration": 7,
    "start_time": "2022-01-29T11:34:39.999Z"
   },
   {
    "duration": 19,
    "start_time": "2022-01-29T11:34:40.008Z"
   },
   {
    "duration": 25,
    "start_time": "2022-01-29T11:34:40.029Z"
   },
   {
    "duration": 20,
    "start_time": "2022-01-29T11:34:40.056Z"
   },
   {
    "duration": 27,
    "start_time": "2022-01-29T11:34:40.078Z"
   },
   {
    "duration": 5,
    "start_time": "2022-01-29T11:34:40.107Z"
   },
   {
    "duration": 17,
    "start_time": "2022-01-29T11:34:40.114Z"
   },
   {
    "duration": 462,
    "start_time": "2022-01-29T11:34:40.133Z"
   },
   {
    "duration": 4,
    "start_time": "2022-01-29T11:34:40.596Z"
   },
   {
    "duration": 12,
    "start_time": "2022-01-29T11:34:40.601Z"
   },
   {
    "duration": 431,
    "start_time": "2022-01-29T11:34:40.615Z"
   },
   {
    "duration": 293,
    "start_time": "2022-01-29T11:34:41.048Z"
   },
   {
    "duration": 291,
    "start_time": "2022-01-29T11:34:41.342Z"
   },
   {
    "duration": 285,
    "start_time": "2022-01-29T11:34:41.637Z"
   },
   {
    "duration": 288,
    "start_time": "2022-01-29T11:34:41.925Z"
   },
   {
    "duration": 367,
    "start_time": "2022-01-29T11:34:42.215Z"
   },
   {
    "duration": 286,
    "start_time": "2022-01-29T11:34:42.584Z"
   },
   {
    "duration": 469,
    "start_time": "2022-01-29T11:34:42.871Z"
   },
   {
    "duration": 8,
    "start_time": "2022-01-29T11:34:43.342Z"
   },
   {
    "duration": 385,
    "start_time": "2022-01-29T11:34:43.351Z"
   },
   {
    "duration": 315,
    "start_time": "2022-01-29T11:34:43.738Z"
   },
   {
    "duration": 300,
    "start_time": "2022-01-29T11:34:44.055Z"
   },
   {
    "duration": 5,
    "start_time": "2022-01-29T11:34:44.357Z"
   },
   {
    "duration": 415,
    "start_time": "2022-01-29T11:34:44.364Z"
   },
   {
    "duration": 412,
    "start_time": "2022-01-29T11:34:44.781Z"
   },
   {
    "duration": 5,
    "start_time": "2022-01-29T11:34:45.198Z"
   },
   {
    "duration": 10,
    "start_time": "2022-01-29T11:34:45.205Z"
   },
   {
    "duration": 5,
    "start_time": "2022-01-29T11:34:45.218Z"
   },
   {
    "duration": 1875,
    "start_time": "2022-01-29T11:34:45.225Z"
   },
   {
    "duration": 7,
    "start_time": "2022-01-29T11:34:47.103Z"
   },
   {
    "duration": 301,
    "start_time": "2022-01-29T11:34:47.112Z"
   },
   {
    "duration": 238,
    "start_time": "2022-01-29T11:34:47.415Z"
   },
   {
    "duration": 171,
    "start_time": "2022-01-29T11:34:47.655Z"
   },
   {
    "duration": 282,
    "start_time": "2022-01-29T11:34:47.828Z"
   },
   {
    "duration": 156,
    "start_time": "2022-01-29T11:34:48.112Z"
   },
   {
    "duration": 113,
    "start_time": "2022-01-29T11:34:48.269Z"
   },
   {
    "duration": 248,
    "start_time": "2022-01-29T11:34:48.384Z"
   },
   {
    "duration": 118,
    "start_time": "2022-01-29T11:34:48.634Z"
   },
   {
    "duration": 282,
    "start_time": "2022-01-29T11:34:48.754Z"
   },
   {
    "duration": 157,
    "start_time": "2022-01-29T11:34:49.037Z"
   },
   {
    "duration": 266,
    "start_time": "2022-01-29T11:34:49.198Z"
   },
   {
    "duration": 314,
    "start_time": "2022-01-29T11:34:49.466Z"
   },
   {
    "duration": 383,
    "start_time": "2022-01-29T11:34:49.782Z"
   },
   {
    "duration": 121,
    "start_time": "2022-01-29T11:34:50.167Z"
   },
   {
    "duration": 295,
    "start_time": "2022-01-29T11:34:50.291Z"
   },
   {
    "duration": 166,
    "start_time": "2022-01-29T11:34:50.587Z"
   },
   {
    "duration": 6,
    "start_time": "2022-01-29T11:34:50.755Z"
   },
   {
    "duration": 251,
    "start_time": "2022-01-29T11:34:50.763Z"
   },
   {
    "duration": 242,
    "start_time": "2022-01-29T11:34:51.016Z"
   },
   {
    "duration": 230,
    "start_time": "2022-01-29T11:34:51.259Z"
   },
   {
    "duration": 284,
    "start_time": "2022-01-29T11:34:51.490Z"
   },
   {
    "duration": 10,
    "start_time": "2022-01-29T11:34:51.776Z"
   },
   {
    "duration": 8,
    "start_time": "2022-01-29T11:34:51.798Z"
   },
   {
    "duration": 10,
    "start_time": "2022-01-29T11:34:51.807Z"
   },
   {
    "duration": 8,
    "start_time": "2022-01-29T11:34:51.819Z"
   },
   {
    "duration": 6,
    "start_time": "2022-01-29T11:34:51.829Z"
   },
   {
    "duration": 13,
    "start_time": "2022-01-29T11:34:51.837Z"
   },
   {
    "duration": 89,
    "start_time": "2022-01-29T11:34:51.852Z"
   },
   {
    "duration": 1651,
    "start_time": "2022-01-29T11:34:50.292Z"
   },
   {
    "duration": 1649,
    "start_time": "2022-01-29T11:34:50.296Z"
   },
   {
    "duration": 1646,
    "start_time": "2022-01-29T11:34:50.300Z"
   },
   {
    "duration": 1645,
    "start_time": "2022-01-29T11:34:50.302Z"
   },
   {
    "duration": 3,
    "start_time": "2022-01-29T11:38:04.498Z"
   },
   {
    "duration": 77,
    "start_time": "2022-01-29T11:38:04.503Z"
   },
   {
    "duration": 11,
    "start_time": "2022-01-29T11:38:04.599Z"
   },
   {
    "duration": 17,
    "start_time": "2022-01-29T11:38:04.613Z"
   },
   {
    "duration": 22,
    "start_time": "2022-01-29T11:38:04.632Z"
   },
   {
    "duration": 46,
    "start_time": "2022-01-29T11:38:04.656Z"
   },
   {
    "duration": 5,
    "start_time": "2022-01-29T11:38:04.704Z"
   },
   {
    "duration": 12,
    "start_time": "2022-01-29T11:38:04.712Z"
   },
   {
    "duration": 11,
    "start_time": "2022-01-29T11:38:04.726Z"
   },
   {
    "duration": 14,
    "start_time": "2022-01-29T11:38:04.739Z"
   },
   {
    "duration": 17,
    "start_time": "2022-01-29T11:38:04.755Z"
   },
   {
    "duration": 24,
    "start_time": "2022-01-29T11:38:04.774Z"
   },
   {
    "duration": 27,
    "start_time": "2022-01-29T11:38:04.800Z"
   },
   {
    "duration": 17,
    "start_time": "2022-01-29T11:38:04.829Z"
   },
   {
    "duration": 6,
    "start_time": "2022-01-29T11:38:04.848Z"
   },
   {
    "duration": 29,
    "start_time": "2022-01-29T11:38:04.856Z"
   },
   {
    "duration": 462,
    "start_time": "2022-01-29T11:38:04.887Z"
   },
   {
    "duration": 2,
    "start_time": "2022-01-29T11:38:05.350Z"
   },
   {
    "duration": 16,
    "start_time": "2022-01-29T11:38:05.354Z"
   },
   {
    "duration": 428,
    "start_time": "2022-01-29T11:38:05.372Z"
   },
   {
    "duration": 313,
    "start_time": "2022-01-29T11:38:05.802Z"
   },
   {
    "duration": 306,
    "start_time": "2022-01-29T11:38:06.117Z"
   },
   {
    "duration": 290,
    "start_time": "2022-01-29T11:38:06.427Z"
   },
   {
    "duration": 421,
    "start_time": "2022-01-29T11:38:06.719Z"
   },
   {
    "duration": 276,
    "start_time": "2022-01-29T11:38:07.142Z"
   },
   {
    "duration": 288,
    "start_time": "2022-01-29T11:38:07.420Z"
   },
   {
    "duration": 466,
    "start_time": "2022-01-29T11:38:07.711Z"
   },
   {
    "duration": 19,
    "start_time": "2022-01-29T11:38:08.179Z"
   },
   {
    "duration": 386,
    "start_time": "2022-01-29T11:38:08.200Z"
   },
   {
    "duration": 314,
    "start_time": "2022-01-29T11:38:08.588Z"
   },
   {
    "duration": 298,
    "start_time": "2022-01-29T11:38:08.903Z"
   },
   {
    "duration": 6,
    "start_time": "2022-01-29T11:38:09.202Z"
   },
   {
    "duration": 437,
    "start_time": "2022-01-29T11:38:09.210Z"
   },
   {
    "duration": 393,
    "start_time": "2022-01-29T11:38:09.649Z"
   },
   {
    "duration": 5,
    "start_time": "2022-01-29T11:38:10.044Z"
   },
   {
    "duration": 40,
    "start_time": "2022-01-29T11:38:10.051Z"
   },
   {
    "duration": 35,
    "start_time": "2022-01-29T11:38:10.093Z"
   },
   {
    "duration": 2066,
    "start_time": "2022-01-29T11:38:10.130Z"
   },
   {
    "duration": 6,
    "start_time": "2022-01-29T11:38:12.198Z"
   },
   {
    "duration": 314,
    "start_time": "2022-01-29T11:38:12.206Z"
   },
   {
    "duration": 254,
    "start_time": "2022-01-29T11:38:12.522Z"
   },
   {
    "duration": 188,
    "start_time": "2022-01-29T11:38:12.778Z"
   },
   {
    "duration": 284,
    "start_time": "2022-01-29T11:38:12.967Z"
   },
   {
    "duration": 167,
    "start_time": "2022-01-29T11:38:13.253Z"
   },
   {
    "duration": 116,
    "start_time": "2022-01-29T11:38:13.422Z"
   },
   {
    "duration": 250,
    "start_time": "2022-01-29T11:38:13.540Z"
   },
   {
    "duration": 125,
    "start_time": "2022-01-29T11:38:13.793Z"
   },
   {
    "duration": 270,
    "start_time": "2022-01-29T11:38:13.920Z"
   },
   {
    "duration": 170,
    "start_time": "2022-01-29T11:38:14.191Z"
   },
   {
    "duration": 371,
    "start_time": "2022-01-29T11:38:14.364Z"
   },
   {
    "duration": 327,
    "start_time": "2022-01-29T11:38:14.738Z"
   },
   {
    "duration": 245,
    "start_time": "2022-01-29T11:38:15.066Z"
   },
   {
    "duration": 114,
    "start_time": "2022-01-29T11:38:15.313Z"
   },
   {
    "duration": 437,
    "start_time": "2022-01-29T11:38:15.428Z"
   },
   {
    "duration": 235,
    "start_time": "2022-01-29T11:38:15.866Z"
   },
   {
    "duration": 6,
    "start_time": "2022-01-29T11:38:16.102Z"
   },
   {
    "duration": 230,
    "start_time": "2022-01-29T11:38:16.110Z"
   },
   {
    "duration": 373,
    "start_time": "2022-01-29T11:38:16.342Z"
   },
   {
    "duration": 245,
    "start_time": "2022-01-29T11:38:16.717Z"
   },
   {
    "duration": 300,
    "start_time": "2022-01-29T11:38:16.964Z"
   },
   {
    "duration": 9,
    "start_time": "2022-01-29T11:38:17.266Z"
   },
   {
    "duration": 37,
    "start_time": "2022-01-29T11:38:17.277Z"
   },
   {
    "duration": 14,
    "start_time": "2022-01-29T11:38:17.316Z"
   },
   {
    "duration": 24,
    "start_time": "2022-01-29T11:38:17.332Z"
   },
   {
    "duration": 8,
    "start_time": "2022-01-29T11:38:17.358Z"
   },
   {
    "duration": 16,
    "start_time": "2022-01-29T11:38:17.368Z"
   },
   {
    "duration": 12,
    "start_time": "2022-01-29T11:38:17.386Z"
   },
   {
    "duration": 5,
    "start_time": "2022-01-29T11:38:17.403Z"
   },
   {
    "duration": 13,
    "start_time": "2022-01-29T11:38:17.409Z"
   },
   {
    "duration": 22,
    "start_time": "2022-01-29T11:38:17.423Z"
   },
   {
    "duration": 3,
    "start_time": "2022-01-29T12:39:12.146Z"
   },
   {
    "duration": 66,
    "start_time": "2022-01-29T12:39:12.151Z"
   },
   {
    "duration": 11,
    "start_time": "2022-01-29T12:39:12.219Z"
   },
   {
    "duration": 20,
    "start_time": "2022-01-29T12:39:12.232Z"
   },
   {
    "duration": 20,
    "start_time": "2022-01-29T12:39:12.254Z"
   },
   {
    "duration": 20,
    "start_time": "2022-01-29T12:39:12.298Z"
   },
   {
    "duration": 10,
    "start_time": "2022-01-29T12:39:12.320Z"
   },
   {
    "duration": 5,
    "start_time": "2022-01-29T12:39:12.333Z"
   },
   {
    "duration": 17,
    "start_time": "2022-01-29T12:39:12.340Z"
   },
   {
    "duration": 22,
    "start_time": "2022-01-29T12:39:12.359Z"
   },
   {
    "duration": 22,
    "start_time": "2022-01-29T12:39:12.383Z"
   },
   {
    "duration": 31,
    "start_time": "2022-01-29T12:39:12.407Z"
   },
   {
    "duration": 39,
    "start_time": "2022-01-29T12:39:12.440Z"
   },
   {
    "duration": 14,
    "start_time": "2022-01-29T12:39:12.481Z"
   },
   {
    "duration": 5,
    "start_time": "2022-01-29T12:39:12.496Z"
   },
   {
    "duration": 26,
    "start_time": "2022-01-29T12:39:12.502Z"
   },
   {
    "duration": 460,
    "start_time": "2022-01-29T12:39:12.530Z"
   },
   {
    "duration": 7,
    "start_time": "2022-01-29T12:39:12.993Z"
   },
   {
    "duration": 27,
    "start_time": "2022-01-29T12:39:13.002Z"
   },
   {
    "duration": 439,
    "start_time": "2022-01-29T12:39:13.030Z"
   },
   {
    "duration": 288,
    "start_time": "2022-01-29T12:39:13.471Z"
   },
   {
    "duration": 299,
    "start_time": "2022-01-29T12:39:13.761Z"
   },
   {
    "duration": 288,
    "start_time": "2022-01-29T12:39:14.065Z"
   },
   {
    "duration": 287,
    "start_time": "2022-01-29T12:39:14.357Z"
   },
   {
    "duration": 279,
    "start_time": "2022-01-29T12:39:14.646Z"
   },
   {
    "duration": 293,
    "start_time": "2022-01-29T12:39:14.927Z"
   },
   {
    "duration": 474,
    "start_time": "2022-01-29T12:39:15.222Z"
   },
   {
    "duration": 8,
    "start_time": "2022-01-29T12:39:15.699Z"
   },
   {
    "duration": 395,
    "start_time": "2022-01-29T12:39:15.708Z"
   },
   {
    "duration": 313,
    "start_time": "2022-01-29T12:39:16.105Z"
   },
   {
    "duration": 472,
    "start_time": "2022-01-29T12:39:16.420Z"
   },
   {
    "duration": 7,
    "start_time": "2022-01-29T12:39:16.893Z"
   },
   {
    "duration": 403,
    "start_time": "2022-01-29T12:39:16.901Z"
   },
   {
    "duration": 399,
    "start_time": "2022-01-29T12:39:17.306Z"
   },
   {
    "duration": 6,
    "start_time": "2022-01-29T12:39:17.707Z"
   },
   {
    "duration": 13,
    "start_time": "2022-01-29T12:39:17.716Z"
   },
   {
    "duration": 4,
    "start_time": "2022-01-29T12:39:17.731Z"
   },
   {
    "duration": 1871,
    "start_time": "2022-01-29T12:39:17.737Z"
   },
   {
    "duration": 8,
    "start_time": "2022-01-29T12:39:19.610Z"
   },
   {
    "duration": 326,
    "start_time": "2022-01-29T12:39:19.620Z"
   },
   {
    "duration": 260,
    "start_time": "2022-01-29T12:39:19.948Z"
   },
   {
    "duration": 169,
    "start_time": "2022-01-29T12:39:20.210Z"
   },
   {
    "duration": 281,
    "start_time": "2022-01-29T12:39:20.381Z"
   },
   {
    "duration": 170,
    "start_time": "2022-01-29T12:39:20.665Z"
   },
   {
    "duration": 120,
    "start_time": "2022-01-29T12:39:20.838Z"
   },
   {
    "duration": 261,
    "start_time": "2022-01-29T12:39:20.959Z"
   },
   {
    "duration": 121,
    "start_time": "2022-01-29T12:39:21.222Z"
   },
   {
    "duration": 277,
    "start_time": "2022-01-29T12:39:21.344Z"
   },
   {
    "duration": 175,
    "start_time": "2022-01-29T12:39:21.623Z"
   },
   {
    "duration": 287,
    "start_time": "2022-01-29T12:39:21.801Z"
   },
   {
    "duration": 335,
    "start_time": "2022-01-29T12:39:22.090Z"
   },
   {
    "duration": 244,
    "start_time": "2022-01-29T12:39:22.427Z"
   },
   {
    "duration": 127,
    "start_time": "2022-01-29T12:39:22.673Z"
   },
   {
    "duration": 305,
    "start_time": "2022-01-29T12:39:22.803Z"
   },
   {
    "duration": 398,
    "start_time": "2022-01-29T12:39:23.110Z"
   },
   {
    "duration": 8,
    "start_time": "2022-01-29T12:39:23.510Z"
   },
   {
    "duration": 241,
    "start_time": "2022-01-29T12:39:23.519Z"
   },
   {
    "duration": 238,
    "start_time": "2022-01-29T12:39:23.762Z"
   },
   {
    "duration": 247,
    "start_time": "2022-01-29T12:39:24.003Z"
   },
   {
    "duration": 287,
    "start_time": "2022-01-29T12:39:24.251Z"
   },
   {
    "duration": 11,
    "start_time": "2022-01-29T12:39:24.539Z"
   },
   {
    "duration": 9,
    "start_time": "2022-01-29T12:39:24.552Z"
   },
   {
    "duration": 8,
    "start_time": "2022-01-29T12:39:24.562Z"
   },
   {
    "duration": 29,
    "start_time": "2022-01-29T12:39:24.572Z"
   },
   {
    "duration": 5,
    "start_time": "2022-01-29T12:39:24.602Z"
   },
   {
    "duration": 14,
    "start_time": "2022-01-29T12:39:24.608Z"
   },
   {
    "duration": 12,
    "start_time": "2022-01-29T12:39:24.623Z"
   },
   {
    "duration": 5,
    "start_time": "2022-01-29T12:39:24.640Z"
   },
   {
    "duration": 7,
    "start_time": "2022-01-29T12:39:24.647Z"
   },
   {
    "duration": 8,
    "start_time": "2022-01-29T12:39:24.656Z"
   },
   {
    "duration": 1945,
    "start_time": "2022-07-16T09:20:21.834Z"
   },
   {
    "duration": 185,
    "start_time": "2022-07-16T09:20:23.782Z"
   },
   {
    "duration": 28,
    "start_time": "2022-07-16T09:20:23.972Z"
   },
   {
    "duration": 18,
    "start_time": "2022-07-16T09:20:24.009Z"
   },
   {
    "duration": 31,
    "start_time": "2022-07-16T09:20:24.030Z"
   },
   {
    "duration": 65,
    "start_time": "2022-07-16T09:20:24.063Z"
   },
   {
    "duration": 8,
    "start_time": "2022-07-16T09:20:24.131Z"
   },
   {
    "duration": 39,
    "start_time": "2022-07-16T09:20:24.142Z"
   },
   {
    "duration": 12,
    "start_time": "2022-07-16T09:20:24.184Z"
   },
   {
    "duration": 16,
    "start_time": "2022-07-16T09:20:24.199Z"
   },
   {
    "duration": 7,
    "start_time": "2022-07-16T09:20:24.217Z"
   },
   {
    "duration": 45,
    "start_time": "2022-07-16T09:20:24.226Z"
   },
   {
    "duration": 28,
    "start_time": "2022-07-16T09:20:24.274Z"
   },
   {
    "duration": 24,
    "start_time": "2022-07-16T09:20:24.305Z"
   },
   {
    "duration": 13,
    "start_time": "2022-07-16T09:20:24.334Z"
   },
   {
    "duration": 35,
    "start_time": "2022-07-16T09:20:24.354Z"
   },
   {
    "duration": 539,
    "start_time": "2022-07-16T09:20:24.391Z"
   },
   {
    "duration": 4,
    "start_time": "2022-07-16T09:20:24.932Z"
   },
   {
    "duration": 46,
    "start_time": "2022-07-16T09:20:24.948Z"
   },
   {
    "duration": 499,
    "start_time": "2022-07-16T09:20:24.997Z"
   },
   {
    "duration": 316,
    "start_time": "2022-07-16T09:20:25.498Z"
   },
   {
    "duration": 343,
    "start_time": "2022-07-16T09:20:25.816Z"
   },
   {
    "duration": 314,
    "start_time": "2022-07-16T09:20:26.161Z"
   },
   {
    "duration": 310,
    "start_time": "2022-07-16T09:20:26.477Z"
   },
   {
    "duration": 400,
    "start_time": "2022-07-16T09:20:26.789Z"
   },
   {
    "duration": 303,
    "start_time": "2022-07-16T09:20:27.191Z"
   },
   {
    "duration": 493,
    "start_time": "2022-07-16T09:20:27.497Z"
   },
   {
    "duration": 9,
    "start_time": "2022-07-16T09:20:27.997Z"
   },
   {
    "duration": 375,
    "start_time": "2022-07-16T09:20:28.008Z"
   },
   {
    "duration": 316,
    "start_time": "2022-07-16T09:20:28.385Z"
   },
   {
    "duration": 276,
    "start_time": "2022-07-16T09:20:28.704Z"
   },
   {
    "duration": 13,
    "start_time": "2022-07-16T09:20:28.982Z"
   },
   {
    "duration": 258,
    "start_time": "2022-07-16T09:20:28.999Z"
   },
   {
    "duration": 262,
    "start_time": "2022-07-16T09:20:29.260Z"
   },
   {
    "duration": 10,
    "start_time": "2022-07-16T09:20:29.525Z"
   },
   {
    "duration": 87,
    "start_time": "2022-07-16T09:20:29.537Z"
   },
   {
    "duration": 16,
    "start_time": "2022-07-16T09:20:29.626Z"
   },
   {
    "duration": 2471,
    "start_time": "2022-07-16T09:20:29.645Z"
   },
   {
    "duration": 9,
    "start_time": "2022-07-16T09:20:32.119Z"
   },
   {
    "duration": 346,
    "start_time": "2022-07-16T09:20:32.131Z"
   },
   {
    "duration": 209,
    "start_time": "2022-07-16T09:20:32.479Z"
   },
   {
    "duration": 742,
    "start_time": "2022-07-16T09:20:32.691Z"
   },
   {
    "duration": 301,
    "start_time": "2022-07-16T09:20:33.436Z"
   },
   {
    "duration": 322,
    "start_time": "2022-07-16T09:20:33.741Z"
   },
   {
    "duration": 201,
    "start_time": "2022-07-16T09:20:34.065Z"
   },
   {
    "duration": 268,
    "start_time": "2022-07-16T09:20:34.275Z"
   },
   {
    "duration": 382,
    "start_time": "2022-07-16T09:20:34.546Z"
   },
   {
    "duration": 308,
    "start_time": "2022-07-16T09:20:34.930Z"
   },
   {
    "duration": 295,
    "start_time": "2022-07-16T09:20:35.240Z"
   },
   {
    "duration": 266,
    "start_time": "2022-07-16T09:20:35.538Z"
   },
   {
    "duration": 329,
    "start_time": "2022-07-16T09:20:35.806Z"
   },
   {
    "duration": 238,
    "start_time": "2022-07-16T09:20:36.137Z"
   },
   {
    "duration": 212,
    "start_time": "2022-07-16T09:20:36.379Z"
   },
   {
    "duration": 317,
    "start_time": "2022-07-16T09:20:36.594Z"
   },
   {
    "duration": 337,
    "start_time": "2022-07-16T09:20:36.913Z"
   },
   {
    "duration": 16,
    "start_time": "2022-07-16T09:20:37.259Z"
   },
   {
    "duration": 250,
    "start_time": "2022-07-16T09:20:37.277Z"
   },
   {
    "duration": 245,
    "start_time": "2022-07-16T09:20:37.529Z"
   },
   {
    "duration": 233,
    "start_time": "2022-07-16T09:20:37.776Z"
   },
   {
    "duration": 460,
    "start_time": "2022-07-16T09:20:38.011Z"
   },
   {
    "duration": 11,
    "start_time": "2022-07-16T09:20:38.476Z"
   },
   {
    "duration": 10,
    "start_time": "2022-07-16T09:20:38.489Z"
   },
   {
    "duration": 12,
    "start_time": "2022-07-16T09:20:38.501Z"
   },
   {
    "duration": 18,
    "start_time": "2022-07-16T09:20:38.515Z"
   },
   {
    "duration": 20,
    "start_time": "2022-07-16T09:20:38.535Z"
   },
   {
    "duration": 37,
    "start_time": "2022-07-16T09:20:38.560Z"
   },
   {
    "duration": 9,
    "start_time": "2022-07-16T09:20:38.600Z"
   },
   {
    "duration": 11,
    "start_time": "2022-07-16T09:20:38.611Z"
   },
   {
    "duration": 12,
    "start_time": "2022-07-16T09:20:38.625Z"
   }
  ],
  "celltoolbar": "Отсутствует",
  "kernelspec": {
   "display_name": "Python 3 (ipykernel)",
   "language": "python",
   "name": "python3"
  },
  "language_info": {
   "codemirror_mode": {
    "name": "ipython",
    "version": 3
   },
   "file_extension": ".py",
   "mimetype": "text/x-python",
   "name": "python",
   "nbconvert_exporter": "python",
   "pygments_lexer": "ipython3",
   "version": "3.9.5"
  },
  "toc": {
   "base_numbering": 1,
   "nav_menu": {},
   "number_sections": true,
   "sideBar": true,
   "skip_h1_title": true,
   "title_cell": "Table of Contents",
   "title_sidebar": "Contents",
   "toc_cell": false,
   "toc_position": {
    "height": "991.25px",
    "left": "76px",
    "top": "111.86px",
    "width": "165px"
   },
   "toc_section_display": true,
   "toc_window_display": true
  }
 },
 "nbformat": 4,
 "nbformat_minor": 2
}
