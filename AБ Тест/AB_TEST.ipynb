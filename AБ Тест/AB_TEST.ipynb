{
 "cells": [
  {
   "cell_type": "markdown",
   "metadata": {},
   "source": [
    "<h1> Анализ A/B-тест для интернет магазина"
   ]
  },
  {
   "cell_type": "markdown",
   "metadata": {},
   "source": [
    "Контекст\n",
    "\n",
    "Вы — аналитик крупного интернет-магазина. Вместе с отделом маркетинга вы подготовили список гипотез для увеличения выручки.\n",
    "Приоритизируйте гипотезы, запустите A/B-тест и проанализируйте результаты.\n"
   ]
  },
  {
   "cell_type": "markdown",
   "metadata": {},
   "source": [
    "**Часть 1. Приоритизация гипотез.**\n",
    "В файле /datasets/hypothesis.csv 9 гипотез по увеличению выручки интернет-магазина с указанными параметрами\n",
    "Reach\n",
    "Impact\n",
    "Confidence\n",
    "Effort.\n",
    "\n",
    "**Задача**\n",
    "\n",
    "Примените фреймворк ICE для приоритизации гипотез. Отсортируйте их по убыванию приоритета.\n",
    "\n",
    "Примените фреймворк RICE для приоритизации гипотез. Отсортируйте их по убыванию приоритета.\n",
    "\n",
    "Укажите, как изменилась приоритизация гипотез при применении RICE вместо ICE. Объясните, почему так произошло.\n"
   ]
  },
  {
   "cell_type": "markdown",
   "metadata": {},
   "source": [
    "**Часть 2. Анализ A/B-теста**\n",
    "\n",
    "Вы провели A/B-тест и получили результаты, которые описаны в файлах /datasets/orders.csv и /datasets/visitors.csv.\n",
    "\n",
    "**Задача**\n",
    "\n",
    "Проанализируйте A/B-тест:\n",
    "\n",
    "Постройте график кумулятивной выручки по группам. Сделайте выводы и предположения.\n",
    "\n",
    "Постройте график кумулятивного среднего чека по группам. Сделайте выводы и предположения.\n",
    "\n",
    "Постройте график относительного изменения кумулятивного среднего чека группы B к группе A. Сделайте выводы и предположения.\n",
    "\n",
    "Постройте график кумулятивной конверсии по группам. Сделайте выводы и предположения.\n",
    "\n",
    "Постройте график относительного изменения кумулятивной конверсии группы B к группе A. Сделайте выводы и предположения.\n",
    "Постройте точечный график количества заказов по пользователям. Сделайте выводы и предположения.\n",
    "\n",
    "Посчитайте 95-й и 99-й перцентили количества заказов на пользователя. Выберите границу для определения аномальных пользователей.\n",
    "\n",
    "Постройте точечный график стоимостей заказов. Сделайте выводы и предположения.\n",
    "\n",
    "Посчитайте 95-й и 99-й перцентили стоимости заказов. Выберите границу для определения аномальных заказов.\n",
    "\n",
    "Посчитайте статистическую значимость различий в конверсии между группами по «сырым» данным. Сделайте выводы и предположения.\n",
    "\n",
    "Посчитайте статистическую значимость различий в среднем чеке заказа между группами по «сырым» данным. Сделайте выводы и предположения.\n",
    "\n",
    "Посчитайте статистическую значимость различий в конверсии между группами по «очищенным» данным. Сделайте выводы и предположения.\n",
    "\n",
    "Посчитайте статистическую значимость различий в среднем чеке заказа между группами по «очищенным» данным. Сделайте выводы и предположения.\n",
    "\n",
    "Примите решение по результатам теста и объясните его.\n",
    "Варианты решений:\n",
    "1. Остановить тест, зафиксировать победу одной из групп.\n",
    "2. Остановить тест, зафиксировать отсутствие различий между группами.\n",
    "3. Продолжить тест.\n"
   ]
  },
  {
   "cell_type": "markdown",
   "metadata": {},
   "source": [
    "**Описание данных **\n",
    "\n",
    "**Данные для первой части**\n",
    "\n",
    "Файл /datasets/hypothesis.csv. Скачать датасет\n",
    "\n",
    "- Hypothesis — краткое описание гипотезы;\n",
    "\n",
    "- Reach — охват пользователей по 10-балльной шкале;\n",
    "\n",
    "- Impact — влияние на пользователей по 10-балльной шкале;\n",
    "\n",
    "- Confidence — уверенность в гипотезе по 10-балльной шкале;\n",
    "\n",
    "Efforts — затраты ресурсов на проверку гипотезы по 10-балльной шкале. Чем больше значение Efforts, тем дороже проверка гипотезы.\n"
   ]
  },
  {
   "cell_type": "markdown",
   "metadata": {},
   "source": [
    "**Данные для второй части**\n",
    "\n",
    "Файл /datasets/orders.csv. \n",
    "\n",
    "- transactionId — идентификатор заказа;\n",
    "\n",
    "- visitorId — идентификатор пользователя, совершившего заказ;\n",
    "\n",
    "- date — дата, когда был совершён заказ;\n",
    "\n",
    "- revenue — выручка заказа;\n",
    "\n",
    "- group — группа A/B-теста, в которую попал заказ.\n",
    "\n",
    "Файл /datasets/visitors.csv. \n",
    "\n",
    "- date — дата;\n",
    "\n",
    "- group — группа A/B-теста;\n",
    "\n",
    "- visitors — количество пользователей в указанную дату в указанной группе A/B-теста"
   ]
  },
  {
   "cell_type": "markdown",
   "metadata": {},
   "source": [
    "## Предобработка данных .Задача 1"
   ]
  },
  {
   "cell_type": "code",
   "execution_count": 1,
   "metadata": {},
   "outputs": [],
   "source": [
    "import pandas as pd\n",
    "import numpy as np\n",
    "import seaborn as sns\n",
    "from matplotlib import pyplot as plt\n",
    "from IPython.display import display\n",
    "import scipy.stats as stats\n",
    "import datetime as dt\n",
    "pd.set_option('display.max_columns', None)\n",
    "pd.set_option('max_colwidth', 0)"
   ]
  },
  {
   "cell_type": "code",
   "execution_count": 2,
   "metadata": {},
   "outputs": [],
   "source": [
    "hypothesis = pd.read_csv('/datasets/hypothesis.csv')#данные для первой части задания\n",
    "orders = pd.read_csv('/datasets/orders.csv')#данные для второй части задания\n",
    "visitors = pd.read_csv('/datasets/visitors.csv')#данные для второй части задания"
   ]
  },
  {
   "cell_type": "code",
   "execution_count": 3,
   "metadata": {},
   "outputs": [
    {
     "data": {
      "text/html": [
       "<div>\n",
       "<style scoped>\n",
       "    .dataframe tbody tr th:only-of-type {\n",
       "        vertical-align: middle;\n",
       "    }\n",
       "\n",
       "    .dataframe tbody tr th {\n",
       "        vertical-align: top;\n",
       "    }\n",
       "\n",
       "    .dataframe thead th {\n",
       "        text-align: right;\n",
       "    }\n",
       "</style>\n",
       "<table border=\"1\" class=\"dataframe\">\n",
       "  <thead>\n",
       "    <tr style=\"text-align: right;\">\n",
       "      <th></th>\n",
       "      <th>Hypothesis</th>\n",
       "      <th>Reach</th>\n",
       "      <th>Impact</th>\n",
       "      <th>Confidence</th>\n",
       "      <th>Efforts</th>\n",
       "    </tr>\n",
       "  </thead>\n",
       "  <tbody>\n",
       "    <tr>\n",
       "      <th>0</th>\n",
       "      <td>Добавить два новых канала привлечения трафика, что позволит привлекать на 30% больше пользователей</td>\n",
       "      <td>3</td>\n",
       "      <td>10</td>\n",
       "      <td>8</td>\n",
       "      <td>6</td>\n",
       "    </tr>\n",
       "    <tr>\n",
       "      <th>1</th>\n",
       "      <td>Запустить собственную службу доставки, что сократит срок доставки заказов</td>\n",
       "      <td>2</td>\n",
       "      <td>5</td>\n",
       "      <td>4</td>\n",
       "      <td>10</td>\n",
       "    </tr>\n",
       "    <tr>\n",
       "      <th>2</th>\n",
       "      <td>Добавить блоки рекомендаций товаров на сайт интернет магазина, чтобы повысить конверсию и средний чек заказа</td>\n",
       "      <td>8</td>\n",
       "      <td>3</td>\n",
       "      <td>7</td>\n",
       "      <td>3</td>\n",
       "    </tr>\n",
       "    <tr>\n",
       "      <th>3</th>\n",
       "      <td>Изменить структура категорий, что увеличит конверсию, т.к. пользователи быстрее найдут нужный товар</td>\n",
       "      <td>8</td>\n",
       "      <td>3</td>\n",
       "      <td>3</td>\n",
       "      <td>8</td>\n",
       "    </tr>\n",
       "    <tr>\n",
       "      <th>4</th>\n",
       "      <td>Изменить цвет фона главной страницы, чтобы увеличить вовлеченность пользователей</td>\n",
       "      <td>3</td>\n",
       "      <td>1</td>\n",
       "      <td>1</td>\n",
       "      <td>1</td>\n",
       "    </tr>\n",
       "    <tr>\n",
       "      <th>5</th>\n",
       "      <td>Добавить страницу отзывов клиентов о магазине, что позволит увеличить количество заказов</td>\n",
       "      <td>3</td>\n",
       "      <td>2</td>\n",
       "      <td>2</td>\n",
       "      <td>3</td>\n",
       "    </tr>\n",
       "    <tr>\n",
       "      <th>6</th>\n",
       "      <td>Показать на главной странице баннеры с актуальными акциями и распродажами, чтобы увеличить конверсию</td>\n",
       "      <td>5</td>\n",
       "      <td>3</td>\n",
       "      <td>8</td>\n",
       "      <td>3</td>\n",
       "    </tr>\n",
       "    <tr>\n",
       "      <th>7</th>\n",
       "      <td>Добавить форму подписки на все основные страницы, чтобы собрать базу клиентов для email-рассылок</td>\n",
       "      <td>10</td>\n",
       "      <td>7</td>\n",
       "      <td>8</td>\n",
       "      <td>5</td>\n",
       "    </tr>\n",
       "    <tr>\n",
       "      <th>8</th>\n",
       "      <td>Запустить акцию, дающую скидку на товар в день рождения</td>\n",
       "      <td>1</td>\n",
       "      <td>9</td>\n",
       "      <td>9</td>\n",
       "      <td>5</td>\n",
       "    </tr>\n",
       "  </tbody>\n",
       "</table>\n",
       "</div>"
      ],
      "text/plain": [
       "                                                                                                     Hypothesis  \\\n",
       "0  Добавить два новых канала привлечения трафика, что позволит привлекать на 30% больше пользователей             \n",
       "1  Запустить собственную службу доставки, что сократит срок доставки заказов                                      \n",
       "2  Добавить блоки рекомендаций товаров на сайт интернет магазина, чтобы повысить конверсию и средний чек заказа   \n",
       "3  Изменить структура категорий, что увеличит конверсию, т.к. пользователи быстрее найдут нужный товар            \n",
       "4  Изменить цвет фона главной страницы, чтобы увеличить вовлеченность пользователей                               \n",
       "5  Добавить страницу отзывов клиентов о магазине, что позволит увеличить количество заказов                       \n",
       "6  Показать на главной странице баннеры с актуальными акциями и распродажами, чтобы увеличить конверсию           \n",
       "7  Добавить форму подписки на все основные страницы, чтобы собрать базу клиентов для email-рассылок               \n",
       "8  Запустить акцию, дающую скидку на товар в день рождения                                                        \n",
       "\n",
       "   Reach  Impact  Confidence  Efforts  \n",
       "0  3      10      8           6        \n",
       "1  2      5       4           10       \n",
       "2  8      3       7           3        \n",
       "3  8      3       3           8        \n",
       "4  3      1       1           1        \n",
       "5  3      2       2           3        \n",
       "6  5      3       8           3        \n",
       "7  10     7       8           5        \n",
       "8  1      9       9           5        "
      ]
     },
     "metadata": {},
     "output_type": "display_data"
    }
   ],
   "source": [
    "display(hypothesis)\n",
    "#display(hypothesis['hypothesis'])\n"
   ]
  },
  {
   "cell_type": "code",
   "execution_count": 4,
   "metadata": {
    "scrolled": true
   },
   "outputs": [
    {
     "name": "stdout",
     "output_type": "stream",
     "text": [
      "<class 'pandas.core.frame.DataFrame'>\n",
      "RangeIndex: 9 entries, 0 to 8\n",
      "Data columns (total 5 columns):\n",
      " #   Column      Non-Null Count  Dtype \n",
      "---  ------      --------------  ----- \n",
      " 0   Hypothesis  9 non-null      object\n",
      " 1   Reach       9 non-null      int64 \n",
      " 2   Impact      9 non-null      int64 \n",
      " 3   Confidence  9 non-null      int64 \n",
      " 4   Efforts     9 non-null      int64 \n",
      "dtypes: int64(4), object(1)\n",
      "memory usage: 488.0+ bytes\n"
     ]
    }
   ],
   "source": [
    "hypothesis.info()"
   ]
  },
  {
   "cell_type": "code",
   "execution_count": 5,
   "metadata": {},
   "outputs": [],
   "source": [
    "hypothesis.columns = [x.lower() for x in hypothesis.columns.values] #приведем азвание столбцов к нижнему регистру\n",
    "#display(hypothesis)"
   ]
  },
  {
   "cell_type": "markdown",
   "metadata": {},
   "source": [
    "### Применим фреймворк ICE для приоритизации гипотез. Отсортируем их по убыванию приоритета."
   ]
  },
  {
   "cell_type": "code",
   "execution_count": 6,
   "metadata": {},
   "outputs": [
    {
     "data": {
      "text/html": [
       "<div>\n",
       "<style scoped>\n",
       "    .dataframe tbody tr th:only-of-type {\n",
       "        vertical-align: middle;\n",
       "    }\n",
       "\n",
       "    .dataframe tbody tr th {\n",
       "        vertical-align: top;\n",
       "    }\n",
       "\n",
       "    .dataframe thead th {\n",
       "        text-align: right;\n",
       "    }\n",
       "</style>\n",
       "<table border=\"1\" class=\"dataframe\">\n",
       "  <thead>\n",
       "    <tr style=\"text-align: right;\">\n",
       "      <th></th>\n",
       "      <th>hypothesis</th>\n",
       "      <th>ICE</th>\n",
       "    </tr>\n",
       "  </thead>\n",
       "  <tbody>\n",
       "    <tr>\n",
       "      <th>8</th>\n",
       "      <td>Запустить акцию, дающую скидку на товар в день рождения</td>\n",
       "      <td>16.200000</td>\n",
       "    </tr>\n",
       "    <tr>\n",
       "      <th>0</th>\n",
       "      <td>Добавить два новых канала привлечения трафика, что позволит привлекать на 30% больше пользователей</td>\n",
       "      <td>13.333333</td>\n",
       "    </tr>\n",
       "    <tr>\n",
       "      <th>7</th>\n",
       "      <td>Добавить форму подписки на все основные страницы, чтобы собрать базу клиентов для email-рассылок</td>\n",
       "      <td>11.200000</td>\n",
       "    </tr>\n",
       "    <tr>\n",
       "      <th>6</th>\n",
       "      <td>Показать на главной странице баннеры с актуальными акциями и распродажами, чтобы увеличить конверсию</td>\n",
       "      <td>8.000000</td>\n",
       "    </tr>\n",
       "    <tr>\n",
       "      <th>2</th>\n",
       "      <td>Добавить блоки рекомендаций товаров на сайт интернет магазина, чтобы повысить конверсию и средний чек заказа</td>\n",
       "      <td>7.000000</td>\n",
       "    </tr>\n",
       "    <tr>\n",
       "      <th>1</th>\n",
       "      <td>Запустить собственную службу доставки, что сократит срок доставки заказов</td>\n",
       "      <td>2.000000</td>\n",
       "    </tr>\n",
       "    <tr>\n",
       "      <th>5</th>\n",
       "      <td>Добавить страницу отзывов клиентов о магазине, что позволит увеличить количество заказов</td>\n",
       "      <td>1.333333</td>\n",
       "    </tr>\n",
       "    <tr>\n",
       "      <th>3</th>\n",
       "      <td>Изменить структура категорий, что увеличит конверсию, т.к. пользователи быстрее найдут нужный товар</td>\n",
       "      <td>1.125000</td>\n",
       "    </tr>\n",
       "    <tr>\n",
       "      <th>4</th>\n",
       "      <td>Изменить цвет фона главной страницы, чтобы увеличить вовлеченность пользователей</td>\n",
       "      <td>1.000000</td>\n",
       "    </tr>\n",
       "  </tbody>\n",
       "</table>\n",
       "</div>"
      ],
      "text/plain": [
       "                                                                                                     hypothesis  \\\n",
       "8  Запустить акцию, дающую скидку на товар в день рождения                                                        \n",
       "0  Добавить два новых канала привлечения трафика, что позволит привлекать на 30% больше пользователей             \n",
       "7  Добавить форму подписки на все основные страницы, чтобы собрать базу клиентов для email-рассылок               \n",
       "6  Показать на главной странице баннеры с актуальными акциями и распродажами, чтобы увеличить конверсию           \n",
       "2  Добавить блоки рекомендаций товаров на сайт интернет магазина, чтобы повысить конверсию и средний чек заказа   \n",
       "1  Запустить собственную службу доставки, что сократит срок доставки заказов                                      \n",
       "5  Добавить страницу отзывов клиентов о магазине, что позволит увеличить количество заказов                       \n",
       "3  Изменить структура категорий, что увеличит конверсию, т.к. пользователи быстрее найдут нужный товар            \n",
       "4  Изменить цвет фона главной страницы, чтобы увеличить вовлеченность пользователей                               \n",
       "\n",
       "         ICE  \n",
       "8  16.200000  \n",
       "0  13.333333  \n",
       "7  11.200000  \n",
       "6  8.000000   \n",
       "2  7.000000   \n",
       "1  2.000000   \n",
       "5  1.333333   \n",
       "3  1.125000   \n",
       "4  1.000000   "
      ]
     },
     "metadata": {},
     "output_type": "display_data"
    }
   ],
   "source": [
    "hypothesis['ICE']=((hypothesis['impact']*hypothesis['confidence'])/hypothesis['efforts'])\n",
    "display(hypothesis[['hypothesis' , 'ICE']].sort_values(by='ICE', ascending=False))\n"
   ]
  },
  {
   "cell_type": "markdown",
   "metadata": {},
   "source": [
    "### Применим фреймворк RICE для приоритизации гипотез. Отсортируем их по убыванию приоритета."
   ]
  },
  {
   "cell_type": "code",
   "execution_count": 7,
   "metadata": {},
   "outputs": [
    {
     "data": {
      "text/html": [
       "<div>\n",
       "<style scoped>\n",
       "    .dataframe tbody tr th:only-of-type {\n",
       "        vertical-align: middle;\n",
       "    }\n",
       "\n",
       "    .dataframe tbody tr th {\n",
       "        vertical-align: top;\n",
       "    }\n",
       "\n",
       "    .dataframe thead th {\n",
       "        text-align: right;\n",
       "    }\n",
       "</style>\n",
       "<table border=\"1\" class=\"dataframe\">\n",
       "  <thead>\n",
       "    <tr style=\"text-align: right;\">\n",
       "      <th></th>\n",
       "      <th>hypothesis</th>\n",
       "      <th>RICE</th>\n",
       "    </tr>\n",
       "  </thead>\n",
       "  <tbody>\n",
       "    <tr>\n",
       "      <th>7</th>\n",
       "      <td>Добавить форму подписки на все основные страницы, чтобы собрать базу клиентов для email-рассылок</td>\n",
       "      <td>112.0</td>\n",
       "    </tr>\n",
       "    <tr>\n",
       "      <th>2</th>\n",
       "      <td>Добавить блоки рекомендаций товаров на сайт интернет магазина, чтобы повысить конверсию и средний чек заказа</td>\n",
       "      <td>56.0</td>\n",
       "    </tr>\n",
       "    <tr>\n",
       "      <th>0</th>\n",
       "      <td>Добавить два новых канала привлечения трафика, что позволит привлекать на 30% больше пользователей</td>\n",
       "      <td>40.0</td>\n",
       "    </tr>\n",
       "    <tr>\n",
       "      <th>6</th>\n",
       "      <td>Показать на главной странице баннеры с актуальными акциями и распродажами, чтобы увеличить конверсию</td>\n",
       "      <td>40.0</td>\n",
       "    </tr>\n",
       "    <tr>\n",
       "      <th>8</th>\n",
       "      <td>Запустить акцию, дающую скидку на товар в день рождения</td>\n",
       "      <td>16.2</td>\n",
       "    </tr>\n",
       "    <tr>\n",
       "      <th>3</th>\n",
       "      <td>Изменить структура категорий, что увеличит конверсию, т.к. пользователи быстрее найдут нужный товар</td>\n",
       "      <td>9.0</td>\n",
       "    </tr>\n",
       "    <tr>\n",
       "      <th>1</th>\n",
       "      <td>Запустить собственную службу доставки, что сократит срок доставки заказов</td>\n",
       "      <td>4.0</td>\n",
       "    </tr>\n",
       "    <tr>\n",
       "      <th>5</th>\n",
       "      <td>Добавить страницу отзывов клиентов о магазине, что позволит увеличить количество заказов</td>\n",
       "      <td>4.0</td>\n",
       "    </tr>\n",
       "    <tr>\n",
       "      <th>4</th>\n",
       "      <td>Изменить цвет фона главной страницы, чтобы увеличить вовлеченность пользователей</td>\n",
       "      <td>3.0</td>\n",
       "    </tr>\n",
       "  </tbody>\n",
       "</table>\n",
       "</div>"
      ],
      "text/plain": [
       "                                                                                                     hypothesis  \\\n",
       "7  Добавить форму подписки на все основные страницы, чтобы собрать базу клиентов для email-рассылок               \n",
       "2  Добавить блоки рекомендаций товаров на сайт интернет магазина, чтобы повысить конверсию и средний чек заказа   \n",
       "0  Добавить два новых канала привлечения трафика, что позволит привлекать на 30% больше пользователей             \n",
       "6  Показать на главной странице баннеры с актуальными акциями и распродажами, чтобы увеличить конверсию           \n",
       "8  Запустить акцию, дающую скидку на товар в день рождения                                                        \n",
       "3  Изменить структура категорий, что увеличит конверсию, т.к. пользователи быстрее найдут нужный товар            \n",
       "1  Запустить собственную службу доставки, что сократит срок доставки заказов                                      \n",
       "5  Добавить страницу отзывов клиентов о магазине, что позволит увеличить количество заказов                       \n",
       "4  Изменить цвет фона главной страницы, чтобы увеличить вовлеченность пользователей                               \n",
       "\n",
       "    RICE  \n",
       "7  112.0  \n",
       "2  56.0   \n",
       "0  40.0   \n",
       "6  40.0   \n",
       "8  16.2   \n",
       "3  9.0    \n",
       "1  4.0    \n",
       "5  4.0    \n",
       "4  3.0    "
      ]
     },
     "metadata": {},
     "output_type": "display_data"
    }
   ],
   "source": [
    "hypothesis['RICE'] = (hypothesis['reach']  *hypothesis['impact'] * hypothesis['confidence']) / hypothesis['efforts']\n",
    "display(hypothesis[['hypothesis' , 'RICE']].sort_values(by='RICE', ascending=False))\n"
   ]
  },
  {
   "cell_type": "markdown",
   "metadata": {},
   "source": [
    "**Вывод**: Мы видим, что для фреймворков ICE и RICE тройка лидеров разные.\n",
    "Топ 3 ICE:   8,0,7.\n",
    "Топ 3 RICE:  7,2,0.  \n",
    "Такая разница обуславливается, тем, что для RICE появляется такой важный параметр как Reach, т.е. сколько пользователей затронет изменение. Поэтому теория №8 c первого места для ICE переместилась на пятое место для RICE видимо потому, что этот метод затронет малое кол-во пользователь. Думаю будет благоразумно дальше работать с теорией 7 и 0, возможно и 2."
   ]
  },
  {
   "cell_type": "code",
   "execution_count": 8,
   "metadata": {},
   "outputs": [
    {
     "data": {
      "image/png": "[encoded data removed]",
      "text/plain": [
       "<Figure size 720x432 with 1 Axes>"
      ]
     },
     "metadata": {
      "needs_background": "light"
     },
     "output_type": "display_data"
    }
   ],
   "source": [
    "plt.figure(figsize=(10,6))\n",
    "plt.title('График значений метода ICE и RICE', size=15)\n",
    "sns.scatterplot(x=hypothesis['ICE'], y=hypothesis['RICE'])\n",
    "for line in range(0,hypothesis.shape[0]):\n",
    "     plt.text(hypothesis.ICE[line]+0.2, \n",
    "              hypothesis.RICE[line], \n",
    "              hypothesis.index[line], \n",
    "              horizontalalignment='left', size='medium', color='black', weight='semibold')\n",
    "plt.show()"
   ]
  },
  {
   "cell_type": "markdown",
   "metadata": {},
   "source": [
    "## Анализ A/B-теста. Задача 2\n"
   ]
  },
  {
   "cell_type": "markdown",
   "metadata": {},
   "source": [
    "### Предобработка  таблицы orders"
   ]
  },
  {
   "cell_type": "code",
   "execution_count": 9,
   "metadata": {},
   "outputs": [
    {
     "data": {
      "text/html": [
       "<div>\n",
       "<style scoped>\n",
       "    .dataframe tbody tr th:only-of-type {\n",
       "        vertical-align: middle;\n",
       "    }\n",
       "\n",
       "    .dataframe tbody tr th {\n",
       "        vertical-align: top;\n",
       "    }\n",
       "\n",
       "    .dataframe thead th {\n",
       "        text-align: right;\n",
       "    }\n",
       "</style>\n",
       "<table border=\"1\" class=\"dataframe\">\n",
       "  <thead>\n",
       "    <tr style=\"text-align: right;\">\n",
       "      <th></th>\n",
       "      <th>transactionId</th>\n",
       "      <th>visitorId</th>\n",
       "      <th>date</th>\n",
       "      <th>revenue</th>\n",
       "      <th>group</th>\n",
       "    </tr>\n",
       "  </thead>\n",
       "  <tbody>\n",
       "    <tr>\n",
       "      <th>0</th>\n",
       "      <td>3667963787</td>\n",
       "      <td>3312258926</td>\n",
       "      <td>2019-08-15</td>\n",
       "      <td>1650</td>\n",
       "      <td>B</td>\n",
       "    </tr>\n",
       "    <tr>\n",
       "      <th>1</th>\n",
       "      <td>2804400009</td>\n",
       "      <td>3642806036</td>\n",
       "      <td>2019-08-15</td>\n",
       "      <td>730</td>\n",
       "      <td>B</td>\n",
       "    </tr>\n",
       "    <tr>\n",
       "      <th>2</th>\n",
       "      <td>2961555356</td>\n",
       "      <td>4069496402</td>\n",
       "      <td>2019-08-15</td>\n",
       "      <td>400</td>\n",
       "      <td>A</td>\n",
       "    </tr>\n",
       "    <tr>\n",
       "      <th>3</th>\n",
       "      <td>3797467345</td>\n",
       "      <td>1196621759</td>\n",
       "      <td>2019-08-15</td>\n",
       "      <td>9759</td>\n",
       "      <td>B</td>\n",
       "    </tr>\n",
       "    <tr>\n",
       "      <th>4</th>\n",
       "      <td>2282983706</td>\n",
       "      <td>2322279887</td>\n",
       "      <td>2019-08-15</td>\n",
       "      <td>2308</td>\n",
       "      <td>B</td>\n",
       "    </tr>\n",
       "    <tr>\n",
       "      <th>...</th>\n",
       "      <td>...</td>\n",
       "      <td>...</td>\n",
       "      <td>...</td>\n",
       "      <td>...</td>\n",
       "      <td>...</td>\n",
       "    </tr>\n",
       "    <tr>\n",
       "      <th>1192</th>\n",
       "      <td>2662137336</td>\n",
       "      <td>3733762160</td>\n",
       "      <td>2019-08-14</td>\n",
       "      <td>6490</td>\n",
       "      <td>B</td>\n",
       "    </tr>\n",
       "    <tr>\n",
       "      <th>1193</th>\n",
       "      <td>2203539145</td>\n",
       "      <td>370388673</td>\n",
       "      <td>2019-08-14</td>\n",
       "      <td>3190</td>\n",
       "      <td>A</td>\n",
       "    </tr>\n",
       "    <tr>\n",
       "      <th>1194</th>\n",
       "      <td>1807773912</td>\n",
       "      <td>573423106</td>\n",
       "      <td>2019-08-14</td>\n",
       "      <td>10550</td>\n",
       "      <td>A</td>\n",
       "    </tr>\n",
       "    <tr>\n",
       "      <th>1195</th>\n",
       "      <td>1947021204</td>\n",
       "      <td>1614305549</td>\n",
       "      <td>2019-08-14</td>\n",
       "      <td>100</td>\n",
       "      <td>A</td>\n",
       "    </tr>\n",
       "    <tr>\n",
       "      <th>1196</th>\n",
       "      <td>3936777065</td>\n",
       "      <td>2108080724</td>\n",
       "      <td>2019-08-15</td>\n",
       "      <td>202740</td>\n",
       "      <td>B</td>\n",
       "    </tr>\n",
       "  </tbody>\n",
       "</table>\n",
       "<p>1197 rows × 5 columns</p>\n",
       "</div>"
      ],
      "text/plain": [
       "      transactionId   visitorId        date  revenue group\n",
       "0     3667963787     3312258926  2019-08-15  1650     B   \n",
       "1     2804400009     3642806036  2019-08-15  730      B   \n",
       "2     2961555356     4069496402  2019-08-15  400      A   \n",
       "3     3797467345     1196621759  2019-08-15  9759     B   \n",
       "4     2282983706     2322279887  2019-08-15  2308     B   \n",
       "...          ...            ...         ...   ...    ..   \n",
       "1192  2662137336     3733762160  2019-08-14  6490     B   \n",
       "1193  2203539145     370388673   2019-08-14  3190     A   \n",
       "1194  1807773912     573423106   2019-08-14  10550    A   \n",
       "1195  1947021204     1614305549  2019-08-14  100      A   \n",
       "1196  3936777065     2108080724  2019-08-15  202740   B   \n",
       "\n",
       "[1197 rows x 5 columns]"
      ]
     },
     "metadata": {},
     "output_type": "display_data"
    }
   ],
   "source": [
    "display(orders)"
   ]
  },
  {
   "cell_type": "code",
   "execution_count": 10,
   "metadata": {},
   "outputs": [
    {
     "name": "stdout",
     "output_type": "stream",
     "text": [
      "<class 'pandas.core.frame.DataFrame'>\n",
      "RangeIndex: 1197 entries, 0 to 1196\n",
      "Data columns (total 5 columns):\n",
      " #   Column         Non-Null Count  Dtype \n",
      "---  ------         --------------  ----- \n",
      " 0   transactionId  1197 non-null   int64 \n",
      " 1   visitorId      1197 non-null   int64 \n",
      " 2   date           1197 non-null   object\n",
      " 3   revenue        1197 non-null   int64 \n",
      " 4   group          1197 non-null   object\n",
      "dtypes: int64(3), object(2)\n",
      "memory usage: 46.9+ KB\n"
     ]
    }
   ],
   "source": [
    "orders.info()"
   ]
  },
  {
   "cell_type": "code",
   "execution_count": 11,
   "metadata": {
    "scrolled": true
   },
   "outputs": [
    {
     "name": "stdout",
     "output_type": "stream",
     "text": [
      "<class 'pandas.core.frame.DataFrame'>\n",
      "RangeIndex: 1197 entries, 0 to 1196\n",
      "Data columns (total 5 columns):\n",
      " #   Column         Non-Null Count  Dtype         \n",
      "---  ------         --------------  -----         \n",
      " 0   transactionId  1197 non-null   int64         \n",
      " 1   visitorId      1197 non-null   int64         \n",
      " 2   date           1197 non-null   datetime64[ns]\n",
      " 3   revenue        1197 non-null   int64         \n",
      " 4   group          1197 non-null   object        \n",
      "dtypes: datetime64[ns](1), int64(3), object(1)\n",
      "memory usage: 46.9+ KB\n"
     ]
    }
   ],
   "source": [
    "orders[\"date\"] = orders[\"date\"].map(lambda x: dt.datetime.strptime(x, '%Y-%m-%d')) #поменяем тип данных date на datetim\n",
    "orders.info()"
   ]
  },
  {
   "cell_type": "code",
   "execution_count": 12,
   "metadata": {},
   "outputs": [
    {
     "data": {
      "text/plain": [
       "0"
      ]
     },
     "execution_count": 12,
     "metadata": {},
     "output_type": "execute_result"
    }
   ],
   "source": [
    "orders.duplicated().sum()# проверяем есть ли дупликаты в данных orders"
   ]
  },
  {
   "cell_type": "markdown",
   "metadata": {},
   "source": [
    "### Предобработка  таблицы visitors"
   ]
  },
  {
   "cell_type": "code",
   "execution_count": 13,
   "metadata": {},
   "outputs": [
    {
     "data": {
      "text/html": [
       "<div>\n",
       "<style scoped>\n",
       "    .dataframe tbody tr th:only-of-type {\n",
       "        vertical-align: middle;\n",
       "    }\n",
       "\n",
       "    .dataframe tbody tr th {\n",
       "        vertical-align: top;\n",
       "    }\n",
       "\n",
       "    .dataframe thead th {\n",
       "        text-align: right;\n",
       "    }\n",
       "</style>\n",
       "<table border=\"1\" class=\"dataframe\">\n",
       "  <thead>\n",
       "    <tr style=\"text-align: right;\">\n",
       "      <th></th>\n",
       "      <th>date</th>\n",
       "      <th>group</th>\n",
       "      <th>visitors</th>\n",
       "    </tr>\n",
       "  </thead>\n",
       "  <tbody>\n",
       "    <tr>\n",
       "      <th>0</th>\n",
       "      <td>2019-08-01</td>\n",
       "      <td>A</td>\n",
       "      <td>719</td>\n",
       "    </tr>\n",
       "    <tr>\n",
       "      <th>1</th>\n",
       "      <td>2019-08-02</td>\n",
       "      <td>A</td>\n",
       "      <td>619</td>\n",
       "    </tr>\n",
       "    <tr>\n",
       "      <th>2</th>\n",
       "      <td>2019-08-03</td>\n",
       "      <td>A</td>\n",
       "      <td>507</td>\n",
       "    </tr>\n",
       "    <tr>\n",
       "      <th>3</th>\n",
       "      <td>2019-08-04</td>\n",
       "      <td>A</td>\n",
       "      <td>717</td>\n",
       "    </tr>\n",
       "    <tr>\n",
       "      <th>4</th>\n",
       "      <td>2019-08-05</td>\n",
       "      <td>A</td>\n",
       "      <td>756</td>\n",
       "    </tr>\n",
       "    <tr>\n",
       "      <th>...</th>\n",
       "      <td>...</td>\n",
       "      <td>...</td>\n",
       "      <td>...</td>\n",
       "    </tr>\n",
       "    <tr>\n",
       "      <th>57</th>\n",
       "      <td>2019-08-27</td>\n",
       "      <td>B</td>\n",
       "      <td>720</td>\n",
       "    </tr>\n",
       "    <tr>\n",
       "      <th>58</th>\n",
       "      <td>2019-08-28</td>\n",
       "      <td>B</td>\n",
       "      <td>654</td>\n",
       "    </tr>\n",
       "    <tr>\n",
       "      <th>59</th>\n",
       "      <td>2019-08-29</td>\n",
       "      <td>B</td>\n",
       "      <td>531</td>\n",
       "    </tr>\n",
       "    <tr>\n",
       "      <th>60</th>\n",
       "      <td>2019-08-30</td>\n",
       "      <td>B</td>\n",
       "      <td>490</td>\n",
       "    </tr>\n",
       "    <tr>\n",
       "      <th>61</th>\n",
       "      <td>2019-08-31</td>\n",
       "      <td>B</td>\n",
       "      <td>718</td>\n",
       "    </tr>\n",
       "  </tbody>\n",
       "</table>\n",
       "<p>62 rows × 3 columns</p>\n",
       "</div>"
      ],
      "text/plain": [
       "          date group  visitors\n",
       "0   2019-08-01  A     719     \n",
       "1   2019-08-02  A     619     \n",
       "2   2019-08-03  A     507     \n",
       "3   2019-08-04  A     717     \n",
       "4   2019-08-05  A     756     \n",
       "..         ... ..     ...     \n",
       "57  2019-08-27  B     720     \n",
       "58  2019-08-28  B     654     \n",
       "59  2019-08-29  B     531     \n",
       "60  2019-08-30  B     490     \n",
       "61  2019-08-31  B     718     \n",
       "\n",
       "[62 rows x 3 columns]"
      ]
     },
     "metadata": {},
     "output_type": "display_data"
    }
   ],
   "source": [
    "display(visitors)"
   ]
  },
  {
   "cell_type": "code",
   "execution_count": 14,
   "metadata": {},
   "outputs": [
    {
     "name": "stdout",
     "output_type": "stream",
     "text": [
      "<class 'pandas.core.frame.DataFrame'>\n",
      "RangeIndex: 62 entries, 0 to 61\n",
      "Data columns (total 3 columns):\n",
      " #   Column    Non-Null Count  Dtype \n",
      "---  ------    --------------  ----- \n",
      " 0   date      62 non-null     object\n",
      " 1   group     62 non-null     object\n",
      " 2   visitors  62 non-null     int64 \n",
      "dtypes: int64(1), object(2)\n",
      "memory usage: 1.6+ KB\n"
     ]
    }
   ],
   "source": [
    "visitors.info()"
   ]
  },
  {
   "cell_type": "code",
   "execution_count": 15,
   "metadata": {},
   "outputs": [
    {
     "name": "stdout",
     "output_type": "stream",
     "text": [
      "<class 'pandas.core.frame.DataFrame'>\n",
      "RangeIndex: 62 entries, 0 to 61\n",
      "Data columns (total 3 columns):\n",
      " #   Column    Non-Null Count  Dtype         \n",
      "---  ------    --------------  -----         \n",
      " 0   date      62 non-null     datetime64[ns]\n",
      " 1   group     62 non-null     object        \n",
      " 2   visitors  62 non-null     int64         \n",
      "dtypes: datetime64[ns](1), int64(1), object(1)\n",
      "memory usage: 1.6+ KB\n"
     ]
    }
   ],
   "source": [
    "visitors[\"date\"] = visitors[\"date\"].map(lambda x: dt.datetime.strptime(x, '%Y-%m-%d')) #поменяем тип данных date на datetim\n",
    "visitors.info()"
   ]
  },
  {
   "cell_type": "code",
   "execution_count": 16,
   "metadata": {},
   "outputs": [
    {
     "data": {
      "text/plain": [
       "0"
      ]
     },
     "execution_count": 16,
     "metadata": {},
     "output_type": "execute_result"
    }
   ],
   "source": [
    "visitors.duplicated().sum()#проверяем есть ли дупликаты в данных visitors"
   ]
  },
  {
   "cell_type": "markdown",
   "metadata": {},
   "source": [
    "Удалим пользователей, которые попали сразу в две группы."
   ]
  },
  {
   "cell_type": "code",
   "execution_count": 17,
   "metadata": {},
   "outputs": [],
   "source": [
    "#orders['visitorId'].count()"
   ]
  },
  {
   "cell_type": "code",
   "execution_count": 18,
   "metadata": {},
   "outputs": [
    {
     "data": {
      "text/plain": [
       "array([   8300375,  199603092,  232979603,  237748145,  276558944,\n",
       "        351125977,  393266494,  457167155,  471551937,  477780734,\n",
       "        818047933,  963407295, 1230306981, 1294878855, 1316129916,\n",
       "       1333886533, 1404934699, 1602967004, 1614305549, 1648269707,\n",
       "       1668030113, 1738359350, 1801183820, 1959144690, 2038680547,\n",
       "       2044997962, 2378935119, 2458001652, 2579882178, 2587333274,\n",
       "       2600415354, 2654030115, 2686716486, 2712142231, 2716752286,\n",
       "       2780786433, 2927087541, 2949041841, 2954449915, 3062433592,\n",
       "       3202540741, 3234906277, 3656415546, 3717692402, 3766097110,\n",
       "       3803269165, 3891541246, 3941795274, 3951559397, 3957174400,\n",
       "       3963646447, 3972127743, 3984495233, 4069496402, 4120364173,\n",
       "       4186807279, 4256040402, 4266935830])"
      ]
     },
     "metadata": {},
     "output_type": "display_data"
    }
   ],
   "source": [
    "inter = np.intersect1d(orders.query('group == \"A\"')['visitorId'].unique(), orders.query('group == \"B\"')['visitorId'].unique())\n",
    "display(inter)\n",
    "orders = orders[~orders['visitorId'].isin(inter)]"
   ]
  },
  {
   "cell_type": "code",
   "execution_count": 19,
   "metadata": {},
   "outputs": [],
   "source": [
    "#orders['visitorId'].count()"
   ]
  },
  {
   "cell_type": "markdown",
   "metadata": {},
   "source": [
    "### Построим график кумулятивной выручки по группам. Сделаем выводы и предположения."
   ]
  },
  {
   "cell_type": "code",
   "execution_count": 20,
   "metadata": {},
   "outputs": [
    {
     "data": {
      "text/html": [
       "<div>\n",
       "<style scoped>\n",
       "    .dataframe tbody tr th:only-of-type {\n",
       "        vertical-align: middle;\n",
       "    }\n",
       "\n",
       "    .dataframe tbody tr th {\n",
       "        vertical-align: top;\n",
       "    }\n",
       "\n",
       "    .dataframe thead th {\n",
       "        text-align: right;\n",
       "    }\n",
       "</style>\n",
       "<table border=\"1\" class=\"dataframe\">\n",
       "  <thead>\n",
       "    <tr style=\"text-align: right;\">\n",
       "      <th></th>\n",
       "      <th>transactionId</th>\n",
       "      <th>visitorId</th>\n",
       "      <th>date</th>\n",
       "      <th>revenue</th>\n",
       "      <th>group</th>\n",
       "    </tr>\n",
       "  </thead>\n",
       "  <tbody>\n",
       "    <tr>\n",
       "      <th>0</th>\n",
       "      <td>3667963787</td>\n",
       "      <td>3312258926</td>\n",
       "      <td>2019-08-15</td>\n",
       "      <td>1650</td>\n",
       "      <td>B</td>\n",
       "    </tr>\n",
       "    <tr>\n",
       "      <th>1</th>\n",
       "      <td>2804400009</td>\n",
       "      <td>3642806036</td>\n",
       "      <td>2019-08-15</td>\n",
       "      <td>730</td>\n",
       "      <td>B</td>\n",
       "    </tr>\n",
       "    <tr>\n",
       "      <th>3</th>\n",
       "      <td>3797467345</td>\n",
       "      <td>1196621759</td>\n",
       "      <td>2019-08-15</td>\n",
       "      <td>9759</td>\n",
       "      <td>B</td>\n",
       "    </tr>\n",
       "    <tr>\n",
       "      <th>4</th>\n",
       "      <td>2282983706</td>\n",
       "      <td>2322279887</td>\n",
       "      <td>2019-08-15</td>\n",
       "      <td>2308</td>\n",
       "      <td>B</td>\n",
       "    </tr>\n",
       "    <tr>\n",
       "      <th>5</th>\n",
       "      <td>182168103</td>\n",
       "      <td>935554773</td>\n",
       "      <td>2019-08-15</td>\n",
       "      <td>2210</td>\n",
       "      <td>B</td>\n",
       "    </tr>\n",
       "  </tbody>\n",
       "</table>\n",
       "</div>"
      ],
      "text/plain": [
       "   transactionId   visitorId       date  revenue group\n",
       "0  3667963787     3312258926 2019-08-15  1650     B   \n",
       "1  2804400009     3642806036 2019-08-15  730      B   \n",
       "3  3797467345     1196621759 2019-08-15  9759     B   \n",
       "4  2282983706     2322279887 2019-08-15  2308     B   \n",
       "5  182168103      935554773  2019-08-15  2210     B   "
      ]
     },
     "execution_count": 20,
     "metadata": {},
     "output_type": "execute_result"
    }
   ],
   "source": [
    "orders.head(5)"
   ]
  },
  {
   "cell_type": "code",
   "execution_count": 21,
   "metadata": {},
   "outputs": [
    {
     "data": {
      "text/html": [
       "<div>\n",
       "<style scoped>\n",
       "    .dataframe tbody tr th:only-of-type {\n",
       "        vertical-align: middle;\n",
       "    }\n",
       "\n",
       "    .dataframe tbody tr th {\n",
       "        vertical-align: top;\n",
       "    }\n",
       "\n",
       "    .dataframe thead th {\n",
       "        text-align: right;\n",
       "    }\n",
       "</style>\n",
       "<table border=\"1\" class=\"dataframe\">\n",
       "  <thead>\n",
       "    <tr style=\"text-align: right;\">\n",
       "      <th></th>\n",
       "      <th>date</th>\n",
       "      <th>group</th>\n",
       "      <th>orders</th>\n",
       "      <th>buyers</th>\n",
       "      <th>revenue</th>\n",
       "      <th>visitors</th>\n",
       "    </tr>\n",
       "  </thead>\n",
       "  <tbody>\n",
       "    <tr>\n",
       "      <th>0</th>\n",
       "      <td>2019-08-01</td>\n",
       "      <td>A</td>\n",
       "      <td>23</td>\n",
       "      <td>19</td>\n",
       "      <td>142779</td>\n",
       "      <td>719</td>\n",
       "    </tr>\n",
       "    <tr>\n",
       "      <th>1</th>\n",
       "      <td>2019-08-01</td>\n",
       "      <td>B</td>\n",
       "      <td>17</td>\n",
       "      <td>17</td>\n",
       "      <td>59758</td>\n",
       "      <td>713</td>\n",
       "    </tr>\n",
       "    <tr>\n",
       "      <th>2</th>\n",
       "      <td>2019-08-02</td>\n",
       "      <td>A</td>\n",
       "      <td>42</td>\n",
       "      <td>36</td>\n",
       "      <td>234381</td>\n",
       "      <td>1338</td>\n",
       "    </tr>\n",
       "    <tr>\n",
       "      <th>3</th>\n",
       "      <td>2019-08-02</td>\n",
       "      <td>B</td>\n",
       "      <td>40</td>\n",
       "      <td>39</td>\n",
       "      <td>221801</td>\n",
       "      <td>1294</td>\n",
       "    </tr>\n",
       "    <tr>\n",
       "      <th>4</th>\n",
       "      <td>2019-08-03</td>\n",
       "      <td>A</td>\n",
       "      <td>66</td>\n",
       "      <td>60</td>\n",
       "      <td>346854</td>\n",
       "      <td>1845</td>\n",
       "    </tr>\n",
       "  </tbody>\n",
       "</table>\n",
       "</div>"
      ],
      "text/plain": [
       "        date group  orders  buyers  revenue  visitors\n",
       "0 2019-08-01  A     23      19      142779   719     \n",
       "1 2019-08-01  B     17      17      59758    713     \n",
       "2 2019-08-02  A     42      36      234381   1338    \n",
       "3 2019-08-02  B     40      39      221801   1294    \n",
       "4 2019-08-03  A     66      60      346854   1845    "
      ]
     },
     "execution_count": 21,
     "metadata": {},
     "output_type": "execute_result"
    }
   ],
   "source": [
    "datesGroups = orders[['date','group']].drop_duplicates()# создаем массив уникальных пар значений дат и групп теста\n",
    "ordersAggregated = datesGroups.apply(lambda x: orders[np.logical_and(orders['date'] <= x['date'], orders['group'] == x['group'])]. \\\n",
    "                                     agg({'date' : 'max', \n",
    "                                          'group' : 'max', \n",
    "                                          'transactionId' : pd.Series.nunique, \n",
    "                                          'visitorId' : pd.Series.nunique, \n",
    "                                          'revenue' : 'sum'}), axis=1).sort_values(by=['date','group'])\n",
    "\n",
    "visitorsAggregated = datesGroups.apply(lambda x: visitors[np.logical_and(visitors['date'] <= x['date'], visitors['group'] == x['group'])]. \\\n",
    "                                       agg({'date' : 'max', \n",
    "                                            'group' : 'max', \n",
    "                                            'visitors' : 'sum'}), axis=1).sort_values(by=['date','group'])\n",
    "\n",
    "cumulativeData = ordersAggregated.merge(visitorsAggregated, left_on=['date', 'group'], right_on=['date', 'group'])\n",
    "cumulativeData.columns = ['date', 'group', 'orders', 'buyers', 'revenue', 'visitors']\n",
    "\n",
    "\n",
    "\n",
    "cumulativeData.head(5)"
   ]
  },
  {
   "cell_type": "code",
   "execution_count": 22,
   "metadata": {},
   "outputs": [
    {
     "data": {
      "image/png": "[encoded data removed]",
      "text/plain": [
       "<Figure size 720x360 with 1 Axes>"
      ]
     },
     "metadata": {
      "needs_background": "light"
     },
     "output_type": "display_data"
    }
   ],
   "source": [
    "# датафрейм с кумулятивным количеством заказов и кумулятивной выручкой по дням в группе А\n",
    "cumulativeRevenueA = cumulativeData[cumulativeData['group']=='A'][['date','revenue', 'orders']]\n",
    " \n",
    "# датафрейм с кумулятивным количеством заказов и кумулятивной выручкой по дням в группе B\n",
    "cumulativeRevenueB = cumulativeData[cumulativeData['group']=='B'][['date','revenue', 'orders']]\n",
    "\n",
    "\n",
    "plt.figure(figsize=(10,5))\n",
    " \n",
    "# Строим график выручки группы А\n",
    "plt.plot(cumulativeRevenueA['date'], cumulativeRevenueA['revenue'], label='A')\n",
    " \n",
    "# Строим график выручки группы B\n",
    "plt.plot(cumulativeRevenueB['date'], cumulativeRevenueB['revenue'], label='B')\n",
    "\n",
    "plt.ylabel('Выручка')\n",
    "plt.xlabel('Дата')\n",
    "plt.title('Графики кумулятивной выручки по группам')\n",
    "plt.legend()\n",
    "plt.show()"
   ]
  },
  {
   "cell_type": "markdown",
   "metadata": {},
   "source": [
    "**Вывод**:  Выручка растет все время и почти равномерно, это хороший знак. В целом мы видим, что выручка групп **B** больше чем **A**, и общая динамика положительная . Так же видим, что 17 Августа для группы **B** произошел резкий скачок выручки. Скорей всего это были большие заказы, далее выручка продолжает расти равномерно."
   ]
  },
  {
   "cell_type": "markdown",
   "metadata": {},
   "source": [
    "### Построим график кумулятивного среднего чека по группам.\n"
   ]
  },
  {
   "cell_type": "code",
   "execution_count": 23,
   "metadata": {},
   "outputs": [
    {
     "data": {
      "text/plain": [
       "<matplotlib.legend.Legend at 0x7f1b6ed541f0>"
      ]
     },
     "execution_count": 23,
     "metadata": {},
     "output_type": "execute_result"
    },
    {
     "data": {
      "image/png": "[encoded data removed]",
      "text/plain": [
       "<Figure size 720x360 with 1 Axes>"
      ]
     },
     "metadata": {
      "needs_background": "light"
     },
     "output_type": "display_data"
    }
   ],
   "source": [
    "plt.figure(figsize=(10,5))\n",
    "\n",
    "plt.plot(cumulativeRevenueA['date'], cumulativeRevenueA['revenue']/cumulativeRevenueA['orders'], label='A')\n",
    "plt.plot(cumulativeRevenueB['date'], cumulativeRevenueB['revenue']/cumulativeRevenueB['orders'], label='B')\n",
    "plt.title('График кумулятивного среднего чека по группам')\n",
    "plt.legend()\n"
   ]
  },
  {
   "cell_type": "markdown",
   "metadata": {},
   "source": [
    "**Вывод**:  В целом видим, что средний чек группы **B** был всегда выше. При этом мы вдиим, что например 13 Августа средний чек группы **А** превышал средний чек группы **B**. Но после этого мы видим аномальное увеличение среднего чека 17 Августа. Возможно, что что то произошло такое, что сначала увеличило средний чек для группы **А**, а затем более мощно для группы **B**."
   ]
  },
  {
   "cell_type": "markdown",
   "metadata": {},
   "source": [
    "### Построим график относительного изменения кумулятивного среднего чека группы B к группе A."
   ]
  },
  {
   "cell_type": "code",
   "execution_count": 24,
   "metadata": {},
   "outputs": [
    {
     "data": {
      "text/plain": [
       "Text(0.5, 1.0, 'График относительного изменения кумулятивного среднего чека группы B к группе A')"
      ]
     },
     "execution_count": 24,
     "metadata": {},
     "output_type": "execute_result"
    },
    {
     "data": {
      "image/png": "[encoded data removed]",
      "text/plain": [
       "<Figure size 1080x360 with 1 Axes>"
      ]
     },
     "metadata": {
      "needs_background": "light"
     },
     "output_type": "display_data"
    }
   ],
   "source": [
    "# собираем данные в одном датафрейме\n",
    "mergedCumulativeRevenue = cumulativeRevenueA.merge(cumulativeRevenueB, left_on='date', right_on='date', how='left', suffixes=['A', 'B'])\n",
    "\n",
    "plt.figure(figsize=(15,5))\n",
    " \n",
    "# cтроим отношение средних чеков\n",
    "plt.plot(mergedCumulativeRevenue['date'], (mergedCumulativeRevenue['revenueB']/mergedCumulativeRevenue['ordersB'])/(mergedCumulativeRevenue['revenueA']/mergedCumulativeRevenue['ordersA'])-1)\n",
    " \n",
    "# добавляем ось X\n",
    "plt.axhline(y=0, color='black', linestyle='--')\n",
    "\n",
    "plt.title('График относительного изменения кумулятивного среднего чека группы B к группе A')\n"
   ]
  },
  {
   "cell_type": "markdown",
   "metadata": {},
   "source": [
    "**Вывод**: Мы видим на графике весьма существенные колебания. Скорей всего произошли либо определенные события, либо, что более вероятно, в обоих группах были аномальные пользователи, которые размывали общую картину."
   ]
  },
  {
   "cell_type": "markdown",
   "metadata": {},
   "source": [
    "### Построим график кумулятивной конверсии по группам."
   ]
  },
  {
   "cell_type": "code",
   "execution_count": 25,
   "metadata": {},
   "outputs": [
    {
     "data": {
      "text/plain": [
       "<matplotlib.legend.Legend at 0x7f1b6e906a30>"
      ]
     },
     "execution_count": 25,
     "metadata": {},
     "output_type": "execute_result"
    },
    {
     "data": {
      "image/png": "[encoded data removed]",
      "text/plain": [
       "<Figure size 1080x360 with 1 Axes>"
      ]
     },
     "metadata": {
      "needs_background": "light"
     },
     "output_type": "display_data"
    }
   ],
   "source": [
    "# считаем кумулятивную конверсию\n",
    "cumulativeData['conversion'] = cumulativeData['orders']/cumulativeData['visitors']\n",
    " \n",
    "# отделяем данные по группе A\n",
    "cumulativeDataA = cumulativeData[cumulativeData['group']=='A']\n",
    " \n",
    "# отделяем данные по группе B\n",
    "cumulativeDataB = cumulativeData[cumulativeData['group']=='B']\n",
    " \n",
    "plt.figure(figsize=(15,5))\n",
    "    \n",
    "# строим графики\n",
    "plt.plot(cumulativeDataA['date'], cumulativeDataA['conversion'], label='A')\n",
    "plt.plot(cumulativeDataB['date'], cumulativeDataB['conversion'], label='B')\n",
    "plt.legend()\n"
   ]
  },
  {
   "cell_type": "markdown",
   "metadata": {},
   "source": [
    "**Вывод**: Конверсия группы **B** больше чем в группе **А**. При этом видим, что на графике отсутсвуют значимые колебания."
   ]
  },
  {
   "cell_type": "markdown",
   "metadata": {},
   "source": [
    "### Построим график относительного изменения кумулятивной конверсии группы B к группе A"
   ]
  },
  {
   "cell_type": "code",
   "execution_count": 26,
   "metadata": {},
   "outputs": [
    {
     "name": "stderr",
     "output_type": "stream",
     "text": [
      "No handles with labels found to put in legend.\n"
     ]
    },
    {
     "data": {
      "text/plain": [
       "<matplotlib.lines.Line2D at 0x7f1b6e88cc40>"
      ]
     },
     "execution_count": 26,
     "metadata": {},
     "output_type": "execute_result"
    },
    {
     "data": {
      "image/png": "[encoded data removed]",
      "text/plain": [
       "<Figure size 1080x360 with 1 Axes>"
      ]
     },
     "metadata": {
      "needs_background": "light"
     },
     "output_type": "display_data"
    }
   ],
   "source": [
    "mergedCumulativeConversions = cumulativeDataA[['date','conversion']].merge(cumulativeDataB[['date','conversion']], left_on='date', right_on='date', how='left', suffixes=['A', 'B'])\n",
    "plt.figure(figsize=(15,5))\n",
    "\n",
    "plt.plot(mergedCumulativeConversions['date'], mergedCumulativeConversions['conversionB']/mergedCumulativeConversions['conversionA']-1, )\n",
    "plt.title('Относительный прирост конверсии группы B относительно группы A')\n",
    "plt.legend()\n",
    "\n",
    " \n",
    "plt.axhline(y=0, color='black', linestyle='--')\n",
    "plt.axhline(y=-0.1, color='grey', linestyle='--')\n"
   ]
  },
  {
   "cell_type": "markdown",
   "metadata": {},
   "source": [
    "**Вывод**: Конверсия группы **B** стабильно больше чем конверсия группы **A**. Это ожидаемо, с учетом предыдущих выводов."
   ]
  },
  {
   "cell_type": "markdown",
   "metadata": {},
   "source": [
    "### Построим точечный график количества заказов по пользователям."
   ]
  },
  {
   "cell_type": "code",
   "execution_count": 27,
   "metadata": {},
   "outputs": [
    {
     "data": {
      "text/html": [
       "<div>\n",
       "<style scoped>\n",
       "    .dataframe tbody tr th:only-of-type {\n",
       "        vertical-align: middle;\n",
       "    }\n",
       "\n",
       "    .dataframe tbody tr th {\n",
       "        vertical-align: top;\n",
       "    }\n",
       "\n",
       "    .dataframe thead th {\n",
       "        text-align: right;\n",
       "    }\n",
       "</style>\n",
       "<table border=\"1\" class=\"dataframe\">\n",
       "  <thead>\n",
       "    <tr style=\"text-align: right;\">\n",
       "      <th></th>\n",
       "      <th>transactionId</th>\n",
       "      <th>visitorId</th>\n",
       "      <th>date</th>\n",
       "      <th>revenue</th>\n",
       "      <th>group</th>\n",
       "    </tr>\n",
       "  </thead>\n",
       "  <tbody>\n",
       "    <tr>\n",
       "      <th>0</th>\n",
       "      <td>3667963787</td>\n",
       "      <td>3312258926</td>\n",
       "      <td>2019-08-15</td>\n",
       "      <td>1650</td>\n",
       "      <td>B</td>\n",
       "    </tr>\n",
       "    <tr>\n",
       "      <th>1</th>\n",
       "      <td>2804400009</td>\n",
       "      <td>3642806036</td>\n",
       "      <td>2019-08-15</td>\n",
       "      <td>730</td>\n",
       "      <td>B</td>\n",
       "    </tr>\n",
       "    <tr>\n",
       "      <th>3</th>\n",
       "      <td>3797467345</td>\n",
       "      <td>1196621759</td>\n",
       "      <td>2019-08-15</td>\n",
       "      <td>9759</td>\n",
       "      <td>B</td>\n",
       "    </tr>\n",
       "    <tr>\n",
       "      <th>4</th>\n",
       "      <td>2282983706</td>\n",
       "      <td>2322279887</td>\n",
       "      <td>2019-08-15</td>\n",
       "      <td>2308</td>\n",
       "      <td>B</td>\n",
       "    </tr>\n",
       "    <tr>\n",
       "      <th>5</th>\n",
       "      <td>182168103</td>\n",
       "      <td>935554773</td>\n",
       "      <td>2019-08-15</td>\n",
       "      <td>2210</td>\n",
       "      <td>B</td>\n",
       "    </tr>\n",
       "  </tbody>\n",
       "</table>\n",
       "</div>"
      ],
      "text/plain": [
       "   transactionId   visitorId       date  revenue group\n",
       "0  3667963787     3312258926 2019-08-15  1650     B   \n",
       "1  2804400009     3642806036 2019-08-15  730      B   \n",
       "3  3797467345     1196621759 2019-08-15  9759     B   \n",
       "4  2282983706     2322279887 2019-08-15  2308     B   \n",
       "5  182168103      935554773  2019-08-15  2210     B   "
      ]
     },
     "execution_count": 27,
     "metadata": {},
     "output_type": "execute_result"
    }
   ],
   "source": [
    "orders.head()\n"
   ]
  },
  {
   "cell_type": "code",
   "execution_count": 28,
   "metadata": {},
   "outputs": [
    {
     "data": {
      "text/html": [
       "<div>\n",
       "<style scoped>\n",
       "    .dataframe tbody tr th:only-of-type {\n",
       "        vertical-align: middle;\n",
       "    }\n",
       "\n",
       "    .dataframe tbody tr th {\n",
       "        vertical-align: top;\n",
       "    }\n",
       "\n",
       "    .dataframe thead th {\n",
       "        text-align: right;\n",
       "    }\n",
       "</style>\n",
       "<table border=\"1\" class=\"dataframe\">\n",
       "  <thead>\n",
       "    <tr style=\"text-align: right;\">\n",
       "      <th></th>\n",
       "      <th>userId</th>\n",
       "      <th>orders</th>\n",
       "    </tr>\n",
       "  </thead>\n",
       "  <tbody>\n",
       "    <tr>\n",
       "      <th>908</th>\n",
       "      <td>3967698036</td>\n",
       "      <td>3</td>\n",
       "    </tr>\n",
       "    <tr>\n",
       "      <th>55</th>\n",
       "      <td>249864742</td>\n",
       "      <td>3</td>\n",
       "    </tr>\n",
       "    <tr>\n",
       "      <th>478</th>\n",
       "      <td>2108163459</td>\n",
       "      <td>3</td>\n",
       "    </tr>\n",
       "    <tr>\n",
       "      <th>687</th>\n",
       "      <td>2988190573</td>\n",
       "      <td>3</td>\n",
       "    </tr>\n",
       "    <tr>\n",
       "      <th>890</th>\n",
       "      <td>3908431265</td>\n",
       "      <td>3</td>\n",
       "    </tr>\n",
       "    <tr>\n",
       "      <th>138</th>\n",
       "      <td>611059232</td>\n",
       "      <td>3</td>\n",
       "    </tr>\n",
       "    <tr>\n",
       "      <th>632</th>\n",
       "      <td>2742574263</td>\n",
       "      <td>3</td>\n",
       "    </tr>\n",
       "    <tr>\n",
       "      <th>157</th>\n",
       "      <td>678354126</td>\n",
       "      <td>2</td>\n",
       "    </tr>\n",
       "    <tr>\n",
       "      <th>323</th>\n",
       "      <td>1404560065</td>\n",
       "      <td>2</td>\n",
       "    </tr>\n",
       "    <tr>\n",
       "      <th>452</th>\n",
       "      <td>1985475298</td>\n",
       "      <td>2</td>\n",
       "    </tr>\n",
       "  </tbody>\n",
       "</table>\n",
       "</div>"
      ],
      "text/plain": [
       "         userId  orders\n",
       "908  3967698036  3     \n",
       "55   249864742   3     \n",
       "478  2108163459  3     \n",
       "687  2988190573  3     \n",
       "890  3908431265  3     \n",
       "138  611059232   3     \n",
       "632  2742574263  3     \n",
       "157  678354126   2     \n",
       "323  1404560065  2     \n",
       "452  1985475298  2     "
      ]
     },
     "metadata": {},
     "output_type": "display_data"
    }
   ],
   "source": [
    "ordersByUsers = orders.groupby('visitorId', as_index = False).agg({'transactionId': pd.Series.nunique})\n",
    "ordersByUsers.columns = ['userId', 'orders']\n",
    "display(ordersByUsers.sort_values(by='orders', ascending=False).head(10))\n"
   ]
  },
  {
   "cell_type": "code",
   "execution_count": 29,
   "metadata": {},
   "outputs": [
    {
     "data": {
      "image/png": "[encoded data removed]",
      "text/plain": [
       "<Figure size 1080x360 with 1 Axes>"
      ]
     },
     "metadata": {
      "needs_background": "light"
     },
     "output_type": "display_data"
    }
   ],
   "source": [
    "plt.figure(figsize=(15,5))\n",
    "\n",
    "plt.hist(ordersByUsers['orders'], bins = 20)#строим гистограмму  кол-ва заказов пользователями.\n",
    "plt.title('Гистрограмма кол-ва заказов по пользователями')\n",
    "plt.show()\n",
    "\n"
   ]
  },
  {
   "cell_type": "code",
   "execution_count": 30,
   "metadata": {},
   "outputs": [
    {
     "data": {
      "image/png": "[encoded data removed]",
      "text/plain": [
       "<Figure size 432x288 with 1 Axes>"
      ]
     },
     "metadata": {
      "needs_background": "light"
     },
     "output_type": "display_data"
    }
   ],
   "source": [
    "x_values = pd.Series(range(0, len(ordersByUsers)))\n",
    "plt.scatter(x_values, ordersByUsers['orders'])#строим точечную диаграмму кол-ва заказов пользователями.\n",
    "plt.title('Точечная диаграмма кол-ва заказов по пользователями')\n",
    "plt.show()\n"
   ]
  },
  {
   "cell_type": "markdown",
   "metadata": {},
   "source": [
    "**Вывод**  Из диаграмм видим, что в в основном пользователи делали от 1 до 2х заказов. Существуют пользователи, которые делали 3 заказа. Но таких  пользователей очень мало."
   ]
  },
  {
   "cell_type": "markdown",
   "metadata": {},
   "source": [
    "### Посчитаем 95-й и 99-й перцентили количества заказов на пользователя. Выберите границу для определения аномальных пользователей.\n"
   ]
  },
  {
   "cell_type": "code",
   "execution_count": 31,
   "metadata": {},
   "outputs": [
    {
     "data": {
      "text/plain": [
       "array([1., 2.])"
      ]
     },
     "execution_count": 31,
     "metadata": {},
     "output_type": "execute_result"
    }
   ],
   "source": [
    "percentiles = np.percentile(ordersByUsers['orders'], [95,99])\n",
    "percentiles "
   ]
  },
  {
   "cell_type": "code",
   "execution_count": 32,
   "metadata": {},
   "outputs": [
    {
     "data": {
      "text/plain": [
       "array([1., 2.])"
      ]
     },
     "execution_count": 32,
     "metadata": {},
     "output_type": "execute_result"
    }
   ],
   "source": [
    "percentiles = np.percentile(ordersByUsers['orders'], [96,97])\n",
    "percentiles"
   ]
  },
  {
   "cell_type": "markdown",
   "metadata": {},
   "source": [
    "**Вывод**  96% пользователей делают всего 1 заказ и лишь только 4% делают 2 заказа(это аномальные заказы). Это не самые хорошие показатели. Думаю необходимо совершить шаги на совершение повторных покупок уже купивших в нашем магазине клиентов."
   ]
  },
  {
   "cell_type": "markdown",
   "metadata": {},
   "source": [
    "### Построим точечный график стоимостей заказов. Сделаем выводы и предположения."
   ]
  },
  {
   "cell_type": "code",
   "execution_count": 33,
   "metadata": {},
   "outputs": [
    {
     "data": {
      "image/png": "[encoded data removed]",
      "text/plain": [
       "<Figure size 720x288 with 1 Axes>"
      ]
     },
     "metadata": {
      "needs_background": "light"
     },
     "output_type": "display_data"
    }
   ],
   "source": [
    "x_values = pd.Series(range(0, len(orders)))\n",
    "plt.figure(figsize=(10,4))\n",
    "plt.scatter(x_values, orders['revenue'])\n",
    "plt.title('Точечная диаграмма сумм заказов на одного пользователя')\n",
    "plt.show()"
   ]
  },
  {
   "cell_type": "markdown",
   "metadata": {},
   "source": [
    "**Вывод** Видим единичный заказа на сумму больше чем 1.200.000 млн рублей. Видимо это тот самый аномальный заказ,который мы видели на графиках в разделах 2.3. и 2.4. При этом мы видим, что подавляющее большинство заказов одного пользователя не превышает 200.000 рублей. Посмотрим график поближе. Для этого отсечем заказы выше 200.000 руб."
   ]
  },
  {
   "cell_type": "code",
   "execution_count": 34,
   "metadata": {},
   "outputs": [
    {
     "data": {
      "text/plain": [
       "Text(0.5, 1.0, 'Точечная диаграмма сумм заказов на одного пользователя')"
      ]
     },
     "execution_count": 34,
     "metadata": {},
     "output_type": "execute_result"
    },
    {
     "data": {
      "image/png": "[encoded data removed]",
      "text/plain": [
       "<Figure size 720x288 with 1 Axes>"
      ]
     },
     "metadata": {
      "needs_background": "light"
     },
     "output_type": "display_data"
    }
   ],
   "source": [
    "typical_orders = orders[orders['revenue']<200000]['revenue']\n",
    "xn_values = pd.Series(range(0,len(typical_orders)))\n",
    "plt.figure(figsize=(10,4))\n",
    "plt.scatter(xn_values, typical_orders)\n",
    "plt.title('Точечная диаграмма сумм заказов на одного пользователя')"
   ]
  },
  {
   "cell_type": "markdown",
   "metadata": {},
   "source": [
    "**Вывод** Видим, что большинство заказов не превышают 20.000 рублей. Более точно сможем определить через процентели."
   ]
  },
  {
   "cell_type": "markdown",
   "metadata": {},
   "source": [
    "### Посчитаем 95-й и 99-й перцентили стоимости заказов."
   ]
  },
  {
   "cell_type": "code",
   "execution_count": 35,
   "metadata": {},
   "outputs": [
    {
     "data": {
      "text/plain": [
       "array([26785., 53904.])"
      ]
     },
     "execution_count": 35,
     "metadata": {},
     "output_type": "execute_result"
    }
   ],
   "source": [
    "percentiles = np.percentile(orders['revenue'], [95, 99])\n",
    "percentiles"
   ]
  },
  {
   "cell_type": "markdown",
   "metadata": {},
   "source": [
    "**Вывод** Всего лишь 5% заказов превышают 26.785 рублей и 99% заказов меньше  53.904 рубля. Будем считать эту цифру аномальной."
   ]
  },
  {
   "cell_type": "markdown",
   "metadata": {},
   "source": [
    "### Посчитаем статистическую значимость различий в конверсии между группами по «сырым» данным."
   ]
  },
  {
   "cell_type": "code",
   "execution_count": 36,
   "metadata": {},
   "outputs": [
    {
     "data": {
      "text/html": [
       "<div>\n",
       "<style scoped>\n",
       "    .dataframe tbody tr th:only-of-type {\n",
       "        vertical-align: middle;\n",
       "    }\n",
       "\n",
       "    .dataframe tbody tr th {\n",
       "        vertical-align: top;\n",
       "    }\n",
       "\n",
       "    .dataframe thead th {\n",
       "        text-align: right;\n",
       "    }\n",
       "</style>\n",
       "<table border=\"1\" class=\"dataframe\">\n",
       "  <thead>\n",
       "    <tr style=\"text-align: right;\">\n",
       "      <th></th>\n",
       "      <th>date</th>\n",
       "      <th>ordersPerDateA</th>\n",
       "      <th>revenuePerDateA</th>\n",
       "      <th>ordersPerDateB</th>\n",
       "      <th>revenuePerDateB</th>\n",
       "      <th>ordersCummulativeA</th>\n",
       "      <th>revenueCummulativeA</th>\n",
       "      <th>ordersCummulativeB</th>\n",
       "      <th>revenueCummulativeB</th>\n",
       "      <th>visitorsPerDateA</th>\n",
       "      <th>visitorsPerDateB</th>\n",
       "      <th>visitorsCummulativeA</th>\n",
       "      <th>visitorsCummulativeB</th>\n",
       "    </tr>\n",
       "  </thead>\n",
       "  <tbody>\n",
       "    <tr>\n",
       "      <th>0</th>\n",
       "      <td>2019-08-01</td>\n",
       "      <td>23</td>\n",
       "      <td>142779</td>\n",
       "      <td>17</td>\n",
       "      <td>59758</td>\n",
       "      <td>23</td>\n",
       "      <td>142779</td>\n",
       "      <td>17</td>\n",
       "      <td>59758</td>\n",
       "      <td>719</td>\n",
       "      <td>713</td>\n",
       "      <td>719</td>\n",
       "      <td>713</td>\n",
       "    </tr>\n",
       "    <tr>\n",
       "      <th>1</th>\n",
       "      <td>2019-08-02</td>\n",
       "      <td>19</td>\n",
       "      <td>91602</td>\n",
       "      <td>23</td>\n",
       "      <td>162043</td>\n",
       "      <td>42</td>\n",
       "      <td>234381</td>\n",
       "      <td>40</td>\n",
       "      <td>221801</td>\n",
       "      <td>619</td>\n",
       "      <td>581</td>\n",
       "      <td>1338</td>\n",
       "      <td>1294</td>\n",
       "    </tr>\n",
       "    <tr>\n",
       "      <th>2</th>\n",
       "      <td>2019-08-03</td>\n",
       "      <td>24</td>\n",
       "      <td>112473</td>\n",
       "      <td>14</td>\n",
       "      <td>67049</td>\n",
       "      <td>66</td>\n",
       "      <td>346854</td>\n",
       "      <td>54</td>\n",
       "      <td>288850</td>\n",
       "      <td>507</td>\n",
       "      <td>509</td>\n",
       "      <td>1845</td>\n",
       "      <td>1803</td>\n",
       "    </tr>\n",
       "    <tr>\n",
       "      <th>3</th>\n",
       "      <td>2019-08-04</td>\n",
       "      <td>11</td>\n",
       "      <td>41176</td>\n",
       "      <td>14</td>\n",
       "      <td>96890</td>\n",
       "      <td>77</td>\n",
       "      <td>388030</td>\n",
       "      <td>68</td>\n",
       "      <td>385740</td>\n",
       "      <td>717</td>\n",
       "      <td>770</td>\n",
       "      <td>2562</td>\n",
       "      <td>2573</td>\n",
       "    </tr>\n",
       "    <tr>\n",
       "      <th>4</th>\n",
       "      <td>2019-08-05</td>\n",
       "      <td>22</td>\n",
       "      <td>86383</td>\n",
       "      <td>21</td>\n",
       "      <td>89908</td>\n",
       "      <td>99</td>\n",
       "      <td>474413</td>\n",
       "      <td>89</td>\n",
       "      <td>475648</td>\n",
       "      <td>756</td>\n",
       "      <td>707</td>\n",
       "      <td>3318</td>\n",
       "      <td>3280</td>\n",
       "    </tr>\n",
       "  </tbody>\n",
       "</table>\n",
       "</div>"
      ],
      "text/plain": [
       "        date  ordersPerDateA  revenuePerDateA  ordersPerDateB  \\\n",
       "0 2019-08-01  23              142779           17               \n",
       "1 2019-08-02  19              91602            23               \n",
       "2 2019-08-03  24              112473           14               \n",
       "3 2019-08-04  11              41176            14               \n",
       "4 2019-08-05  22              86383            21               \n",
       "\n",
       "   revenuePerDateB  ordersCummulativeA  revenueCummulativeA  \\\n",
       "0  59758            23                  142779                \n",
       "1  162043           42                  234381                \n",
       "2  67049            66                  346854                \n",
       "3  96890            77                  388030                \n",
       "4  89908            99                  474413                \n",
       "\n",
       "   ordersCummulativeB  revenueCummulativeB  visitorsPerDateA  \\\n",
       "0  17                  59758                719                \n",
       "1  40                  221801               619                \n",
       "2  54                  288850               507                \n",
       "3  68                  385740               717                \n",
       "4  89                  475648               756                \n",
       "\n",
       "   visitorsPerDateB  visitorsCummulativeA  visitorsCummulativeB  \n",
       "0  713               719                   713                   \n",
       "1  581               1338                  1294                  \n",
       "2  509               1845                  1803                  \n",
       "3  770               2562                  2573                  \n",
       "4  707               3318                  3280                  "
      ]
     },
     "execution_count": 36,
     "metadata": {},
     "output_type": "execute_result"
    }
   ],
   "source": [
    "visitorsADaily = visitors[visitors['group']=='A'][['date', 'visitors']]\n",
    "visitorsADaily.columns = ['date', 'visitorsPerDateA']\n",
    "\n",
    "visitorsACummulative = visitorsADaily.apply(lambda x: visitorsADaily[visitorsADaily['date'] <= x['date']]. \\\n",
    "                                            agg({'date' : 'max', 'visitorsPerDateA' : 'sum'}), axis=1)\n",
    "visitorsACummulative.columns = ['date', 'visitorsCummulativeA']\n",
    "\n",
    "visitorsBDaily = visitors[visitors['group']=='B'][['date', 'visitors']]\n",
    "visitorsBDaily.columns = ['date', 'visitorsPerDateB']\n",
    "\n",
    "visitorsBCummulative = visitorsBDaily.apply(lambda x: visitorsBDaily[visitorsBDaily['date'] <= x['date']]. \\\n",
    "                                            agg({'date' : 'max', 'visitorsPerDateB' : 'sum'}), axis=1)\n",
    "visitorsBCummulative.columns = ['date', 'visitorsCummulativeB']\n",
    "\n",
    "\n",
    "ordersADaily = orders[orders['group']=='A'][['date', 'transactionId', 'visitorId', 'revenue']]\\\n",
    "    .groupby('date', as_index=False)\\\n",
    "    .agg({'transactionId' : pd.Series.nunique, 'revenue' : 'sum'})\n",
    "ordersADaily.columns = ['date', 'ordersPerDateA', 'revenuePerDateA']\n",
    "\n",
    "ordersACummulative = ordersADaily.apply(\n",
    "    lambda x: \\\n",
    "        ordersADaily[ordersADaily['date'] <= x['date']]\\\n",
    "            .agg({\n",
    "                'date' : 'max',\n",
    "                'ordersPerDateA' : 'sum',\n",
    "                'revenuePerDateA' : 'sum'}), axis=1).sort_values(by=['date'])\n",
    "ordersACummulative.columns = ['date', 'ordersCummulativeA', 'revenueCummulativeA']\n",
    "\n",
    "ordersBDaily = orders[orders['group']=='B'][['date', 'transactionId', 'visitorId', 'revenue']]\\\n",
    "    .groupby('date', as_index=False)\\\n",
    "    .agg({'transactionId' : pd.Series.nunique, 'revenue' : 'sum'})\n",
    "ordersBDaily.columns = ['date', 'ordersPerDateB', 'revenuePerDateB']\n",
    "\n",
    "ordersBCummulative = ordersBDaily.apply(\n",
    "    lambda x: \\\n",
    "        ordersBDaily[ordersBDaily['date'] <= x['date']]\\\n",
    "            .agg({\n",
    "                'date' : 'max',\n",
    "                'ordersPerDateB' : 'sum',\n",
    "                'revenuePerDateB' : 'sum'}), axis=1).sort_values(by=['date'])\n",
    "ordersBCummulative.columns = ['date', 'ordersCummulativeB', 'revenueCummulativeB']\n",
    "\n",
    "\n",
    "data = ordersADaily.merge(ordersBDaily, left_on='date', right_on='date', how='left')\\\n",
    "    .merge(ordersACummulative, left_on='date', right_on='date', how='left')\\\n",
    "    .merge(ordersBCummulative, left_on='date', right_on='date', how='left')\\\n",
    "    .merge(visitorsADaily, left_on='date', right_on='date', how='left')\\\n",
    "    .merge(visitorsBDaily, left_on='date', right_on='date', how='left')\\\n",
    "    .merge(visitorsACummulative, left_on='date', right_on='date', how='left')\\\n",
    "    .merge(visitorsBCummulative, left_on='date', right_on='date', how='left')\n",
    "\n",
    "data.head(5)"
   ]
  },
  {
   "cell_type": "markdown",
   "metadata": {},
   "source": [
    "Проверим теорию, что статистически значимых различий между конверсиями в группах нет. Считаем, что alpha = 0.05"
   ]
  },
  {
   "cell_type": "code",
   "execution_count": 37,
   "metadata": {},
   "outputs": [
    {
     "name": "stdout",
     "output_type": "stream",
     "text": [
      "0.011\n",
      "0.160\n"
     ]
    }
   ],
   "source": [
    "ordersByUsersA = orders[orders['group']=='A'].groupby('visitorId', as_index=False).agg({'transactionId' : pd.Series.nunique})\n",
    "ordersByUsersA.columns = ['userId', 'orders']\n",
    "\n",
    "ordersByUsersB = orders[orders['group']=='B'].groupby('visitorId', as_index=False).agg({'transactionId' : pd.Series.nunique})\n",
    "ordersByUsersB.columns = ['userId', 'orders']\n",
    "\n",
    "sampleA = pd.concat(\n",
    "    [\n",
    "        ordersByUsersA['orders'],\n",
    "        pd.Series(\n",
    "            0,\n",
    "            index=np.arange(\n",
    "                data['visitorsPerDateA'].sum() - len(ordersByUsersA['orders'])\n",
    "            ),\n",
    "            name='orders',\n",
    "        ),\n",
    "    ],\n",
    "    axis=0,\n",
    ")\n",
    " \n",
    "sampleB = pd.concat(\n",
    "    [\n",
    "        ordersByUsersB['orders'],\n",
    "        pd.Series(\n",
    "            0,\n",
    "            index=np.arange(\n",
    "                data['visitorsPerDateB'].sum() - len(ordersByUsersB['orders'])\n",
    "            ),\n",
    "            name='orders',\n",
    "        ),\n",
    "    ],\n",
    "    axis=0,\n",
    ")\n",
    " \n",
    "print(\"{0:.3f}\".format(stats.mannwhitneyu(sampleA, sampleB)[1]))\n",
    " \n",
    "print(\"{0:.3f}\".format(sampleB.mean() / sampleA.mean() - 1))\n",
    "\n",
    "                                                        "
   ]
  },
  {
   "cell_type": "markdown",
   "metadata": {},
   "source": [
    "**Вывод** p-valeue меньше чем alpha значит, нулевую гипотезу о том, что статистически значимых различий в конверсии между группами нет, отвергаем. Конверсия группы **B** превышает конверсию группы **А** на 16%. Это достаточно существенно."
   ]
  },
  {
   "cell_type": "markdown",
   "metadata": {},
   "source": [
    "### Посчитаем статистическую значимость различий в среднем чеке заказа между группами по «сырым» данным."
   ]
  },
  {
   "cell_type": "markdown",
   "metadata": {},
   "source": [
    "Чтобы рассчитать статистическую значимость различий в среднем чеке между сегментами, передадим критерию mannwhitneyu() данные о выручке с заказов и найдём относительные различия в среднем чеке между группами."
   ]
  },
  {
   "cell_type": "markdown",
   "metadata": {},
   "source": [
    "Будем считать, что нулевая теория это то, что статистически значимых в среднем чеке заказа между группами нет. Альтернативная теория,что различия есть."
   ]
  },
  {
   "cell_type": "code",
   "execution_count": 38,
   "metadata": {},
   "outputs": [
    {
     "name": "stdout",
     "output_type": "stream",
     "text": [
      "0.829\n",
      "0.287\n"
     ]
    }
   ],
   "source": [
    "print('{0:.3f}'.format(stats.mannwhitneyu(orders[orders['group']=='A']['revenue'], orders[orders['group']=='B']['revenue'])[1]))\n",
    "print('{0:.3f}'.format(orders[orders['group']=='B']['revenue'].mean()/orders[orders['group']=='A']['revenue'].mean()-1))"
   ]
  },
  {
   "cell_type": "code",
   "execution_count": 39,
   "metadata": {},
   "outputs": [
    {
     "name": "stdout",
     "output_type": "stream",
     "text": [
      "0.829\n",
      "0.287\n"
     ]
    }
   ],
   "source": [
    "#Reviewer's code\n",
    "import scipy\n",
    "scipy.__version__\n",
    "print('{0:.3f}'.format(stats.mannwhitneyu(orders[orders['group']=='A']['revenue'], orders[orders['group']=='B']['revenue'],alternative = 'two-sided' )[1]))\n",
    "print('{0:.3f}'.format(orders[orders['group']=='B']['revenue'].mean()/orders[orders['group']=='A']['revenue'].mean()-1))"
   ]
  },
  {
   "cell_type": "markdown",
   "metadata": {},
   "source": [
    "**Вывод** P-value значительно больше 0.05. Значит, причин отвергать нулевую гипотезу и считать, что в среднем чеке есть различия, нет. При этом, средний чек группы B значительно выше среднего чека группы A (на ~29% !)"
   ]
  },
  {
   "cell_type": "markdown",
   "metadata": {},
   "source": [
    "### Посчитайте статистическую значимость различий в конверсии между группами по «очищенным» данным"
   ]
  },
  {
   "cell_type": "markdown",
   "metadata": {},
   "source": [
    "Напомним, что найденные в прошлых уроках 95-й и 99-й перцентили средних чеков равны 26.785 и 53.904 рублям. А 95-й и 99-й перцентили количества заказов на одного пользователя равны 1 и 2 заказа на пользователя. считаем аномальными заказы с средним чеком больше 53.904 и кол-вом заказов больше 2-х."
   ]
  },
  {
   "cell_type": "code",
   "execution_count": 40,
   "metadata": {},
   "outputs": [
    {
     "name": "stdout",
     "output_type": "stream",
     "text": [
      "1099    148427295\n",
      "33      249864742\n",
      "58      611059232\n",
      "949     887908475\n",
      "744     888512513\n",
      "dtype: int64\n",
      "(16,)\n"
     ]
    }
   ],
   "source": [
    "usersWithManyOrders = pd.concat(\n",
    "    [\n",
    "        ordersByUsersA[ordersByUsersA['orders'] > np.percentile(ordersByUsers['orders'],99)]['userId'],\n",
    "        ordersByUsersB[ordersByUsersB['orders'] > np.percentile(ordersByUsers['orders'],99)]['userId'],\n",
    "    ],\n",
    "    axis=0,\n",
    ")\n",
    "usersWithExpensiveOrders = orders[orders['revenue'] > np.percentile(orders['revenue'],99)]['visitorId']\n",
    "abnormalUsers = (\n",
    "    pd.concat([usersWithManyOrders, usersWithExpensiveOrders], axis=0)\n",
    "    .drop_duplicates()\n",
    "    .sort_values()\n",
    ")\n",
    "print(abnormalUsers.head(5))\n",
    "print(abnormalUsers.shape)"
   ]
  },
  {
   "cell_type": "markdown",
   "metadata": {},
   "source": [
    "**Вывод** Аномальных  пользователей всего 16 шт."
   ]
  },
  {
   "cell_type": "markdown",
   "metadata": {},
   "source": [
    "Узнаем, как их действия повлияли на результаты теста. Посчитаем статистическую значимость различий в конверсии между группами теста по очищенным данным. За нулевую гипотезу возьмём что: \"статистически значимых различий в конверсиях между группами нет\"\n"
   ]
  },
  {
   "cell_type": "code",
   "execution_count": 41,
   "metadata": {},
   "outputs": [],
   "source": [
    "sampleAFiltered = pd.concat(\n",
    "    [\n",
    "        ordersByUsersA[\n",
    "            np.logical_not(ordersByUsersA['userId'].isin(abnormalUsers))\n",
    "        ]['orders'],\n",
    "        pd.Series(\n",
    "            0,\n",
    "            index=np.arange(\n",
    "                data['visitorsPerDateA'].sum() - len(ordersByUsersA['orders'])\n",
    "            ),\n",
    "            name='orders',\n",
    "        ),\n",
    "    ],\n",
    "    axis=0,\n",
    ") \n",
    " \n",
    "sampleBFiltered = pd.concat(\n",
    "    [\n",
    "        ordersByUsersB[\n",
    "            np.logical_not(ordersByUsersB['userId'].isin(abnormalUsers))\n",
    "        ]['orders'],\n",
    "        pd.Series(\n",
    "            0,\n",
    "            index=np.arange(\n",
    "                data['visitorsPerDateB'].sum() - len(ordersByUsersB['orders'])\n",
    "            ),\n",
    "            name='orders',\n",
    "        ),\n",
    "    ],\n",
    "    axis=0,\n",
    ")"
   ]
  },
  {
   "cell_type": "code",
   "execution_count": 42,
   "metadata": {},
   "outputs": [
    {
     "name": "stdout",
     "output_type": "stream",
     "text": [
      "0.007\n",
      "0.189\n"
     ]
    }
   ],
   "source": [
    "print('{0:.3f}'.format(stats.mannwhitneyu(sampleAFiltered, sampleBFiltered,alternative = 'two-sided')[1]))\n",
    "print('{0:.3f}'.format(sampleBFiltered.mean()/sampleAFiltered.mean()-1))"
   ]
  },
  {
   "cell_type": "markdown",
   "metadata": {},
   "source": [
    "**Вывод** P-value(0.007) < alpha(0.05) значит нулевую теорию мы отвергаем. При этом, конверсия группы B  выше конверсии группы A (на ~19% !)"
   ]
  },
  {
   "cell_type": "markdown",
   "metadata": {},
   "source": [
    "### Посчитаем статистическую значимость различий в среднем чеке заказа между группами по «очищенным» данным. Сделайте выводы и предположения.\n"
   ]
  },
  {
   "cell_type": "markdown",
   "metadata": {},
   "source": [
    "За нулевую гипотезу возьмём что: \"статистически значимых различий в средних чеках между группами нет\"; тогда альтернативная гипотеза будет гласить - статистически значимые различия есть."
   ]
  },
  {
   "cell_type": "code",
   "execution_count": 43,
   "metadata": {},
   "outputs": [
    {
     "data": {
      "text/plain": [
       "0.7877044862440841"
      ]
     },
     "metadata": {},
     "output_type": "display_data"
    },
    {
     "data": {
      "text/plain": [
       "'-0.032'"
      ]
     },
     "metadata": {},
     "output_type": "display_data"
    }
   ],
   "source": [
    "     \n",
    "results = stats.mannwhitneyu(orders[np.logical_and(orders['group']=='A', np.logical_not(orders['visitorId'].isin(abnormalUsers)))]['revenue'],\n",
    "                             orders[np.logical_and(orders['group']=='B', np.logical_not(orders['visitorId'].isin(abnormalUsers)))]['revenue'])\n",
    "display(results.pvalue)\n",
    "\n",
    "display('{0:.3f}'.format(\n",
    "orders[np.logical_and(orders['group']=='B', np.logical_not(orders['visitorId'].isin(abnormalUsers)))]['revenue'].mean()\\\n",
    "/orders[np.logical_and(orders['group']=='A', np.logical_not(orders['visitorId'].isin(abnormalUsers)))]['revenue'].mean()-1))\n",
    "       \n"
   ]
  },
  {
   "cell_type": "markdown",
   "metadata": {},
   "source": [
    "P-value значительно больше 0.05. Значит, причин отвергать нулевую гипотезу и считать, что в среднем чеке есть различия,тоже нет . При этом средний чек группы **B** оказался незначительно (на 3.2%) ниже среднего чека группы **A**. Напомню, для \"сырых\" данных картина была другой. Там средний чек группы **B** превышал средний чек группы **A** на 29%. Видим, что на общий результат очень сильно повлияли аномальные покупки. "
   ]
  },
  {
   "cell_type": "markdown",
   "metadata": {},
   "source": [
    "## Общий вывод"
   ]
  },
  {
   "cell_type": "markdown",
   "metadata": {},
   "source": [
    "И так мы видим, что и по **\"сырым\"** и по **\"очищенным\"** данным конверсия группы **B** больше чем конверсия группы **А**.\n",
    "\n",
    "- Превышение **В** над **А** для **\"Сырых\"** данных: **16.0%**\n",
    "\n",
    "- Превышение **В** над **А** для **\"Очищенных\"** данных: **18.9%**\n",
    "\n",
    "Так же есть статистически значимое различие по конверсии между группами как по **\"сырым\"** данным, так по **\"очищенным\"**."
   ]
  },
  {
   "cell_type": "markdown",
   "metadata": {},
   "source": [
    "Средний чек после очистки его от аномальных  значений (средний чек больше 53.904 рублей и кол-вом заказов больше 2-х.) изменил свою динамику.\n",
    "\n",
    "- Превышение **В** над **А** для **\"Сырых\"** данных: **28.7%**\n",
    "\n",
    "- Превышение **А** над **B** для **\"Очищенных\"** данных: **3.2%**\n",
    "\n",
    "Т.е после того как мы убрали крупные продажи (из группы **B**) средние чеки по группам стали примерно одинаковыми.\n"
   ]
  },
  {
   "cell_type": "markdown",
   "metadata": {},
   "source": [
    "Можем остановить эксперимент  и считать, что группа **B** более удачна справилась с этим A/B тестом. Хоть средний чек для групп примерно одинаковый(для очищенных данных), мы видим, что конверсия группы **B** значительно лучше и из этой группы приходят люди, которые готовы оставлять аномальные суммы. "
   ]
  },
  {
   "cell_type": "code",
   "execution_count": null,
   "metadata": {},
   "outputs": [],
   "source": []
  }
 ],
 "metadata": {
  "ExecuteTimeLog": [
   {
    "duration": 87,
    "start_time": "2022-03-08T12:53:36.709Z"
   },
   {
    "duration": 77,
    "start_time": "2022-03-08T13:14:33.590Z"
   },
   {
    "duration": 87,
    "start_time": "2022-03-08T13:16:10.616Z"
   },
   {
    "duration": 1344,
    "start_time": "2022-03-08T13:32:50.931Z"
   },
   {
    "duration": 22,
    "start_time": "2022-03-08T13:39:31.975Z"
   },
   {
    "duration": 10,
    "start_time": "2022-03-08T13:42:04.044Z"
   },
   {
    "duration": 5,
    "start_time": "2022-03-08T13:42:05.732Z"
   },
   {
    "duration": 47,
    "start_time": "2022-03-08T13:42:05.739Z"
   },
   {
    "duration": 11,
    "start_time": "2022-03-08T13:42:05.788Z"
   },
   {
    "duration": 16,
    "start_time": "2022-03-08T13:43:06.644Z"
   },
   {
    "duration": 8,
    "start_time": "2022-03-08T13:48:50.901Z"
   },
   {
    "duration": 84,
    "start_time": "2022-03-08T13:53:40.483Z"
   },
   {
    "duration": 307,
    "start_time": "2022-03-08T18:07:10.524Z"
   },
   {
    "duration": 86,
    "start_time": "2022-03-08T18:07:48.646Z"
   },
   {
    "duration": 77,
    "start_time": "2022-03-08T18:08:29.610Z"
   },
   {
    "duration": 90,
    "start_time": "2022-03-08T18:09:06.151Z"
   },
   {
    "duration": 235,
    "start_time": "2022-03-08T18:09:41.750Z"
   },
   {
    "duration": 224,
    "start_time": "2022-03-08T18:12:57.658Z"
   },
   {
    "duration": 209,
    "start_time": "2022-03-08T18:13:55.259Z"
   },
   {
    "duration": 202,
    "start_time": "2022-03-08T18:14:27.345Z"
   },
   {
    "duration": 1523,
    "start_time": "2022-03-08T18:14:36.758Z"
   },
   {
    "duration": 39,
    "start_time": "2022-03-08T18:14:38.283Z"
   },
   {
    "duration": 14,
    "start_time": "2022-03-08T18:14:38.325Z"
   },
   {
    "duration": 9,
    "start_time": "2022-03-08T18:14:38.343Z"
   },
   {
    "duration": 18,
    "start_time": "2022-03-08T18:14:38.354Z"
   },
   {
    "duration": 24,
    "start_time": "2022-03-08T18:14:38.374Z"
   },
   {
    "duration": 364,
    "start_time": "2022-03-08T18:15:30.802Z"
   },
   {
    "duration": 240,
    "start_time": "2022-03-08T18:16:03.262Z"
   },
   {
    "duration": 13,
    "start_time": "2022-03-08T18:18:01.548Z"
   },
   {
    "duration": 5,
    "start_time": "2022-03-08T18:18:16.255Z"
   },
   {
    "duration": 228,
    "start_time": "2022-03-08T18:29:09.291Z"
   },
   {
    "duration": 15,
    "start_time": "2022-03-08T18:29:22.355Z"
   },
   {
    "duration": 82,
    "start_time": "2022-03-08T18:43:50.537Z"
   },
   {
    "duration": 5411,
    "start_time": "2022-03-08T18:54:53.130Z"
   },
   {
    "duration": 17,
    "start_time": "2022-03-08T18:55:08.906Z"
   },
   {
    "duration": 14,
    "start_time": "2022-03-08T19:00:20.212Z"
   },
   {
    "duration": 6,
    "start_time": "2022-03-08T19:00:22.287Z"
   },
   {
    "duration": 44,
    "start_time": "2022-03-08T19:00:22.296Z"
   },
   {
    "duration": 4,
    "start_time": "2022-03-08T19:00:25.771Z"
   },
   {
    "duration": 74,
    "start_time": "2022-03-08T19:00:25.777Z"
   },
   {
    "duration": 19,
    "start_time": "2022-03-08T19:00:25.855Z"
   },
   {
    "duration": 21,
    "start_time": "2022-03-08T19:00:25.878Z"
   },
   {
    "duration": 32,
    "start_time": "2022-03-08T19:00:25.901Z"
   },
   {
    "duration": 18,
    "start_time": "2022-03-08T19:00:25.936Z"
   },
   {
    "duration": 17,
    "start_time": "2022-03-08T19:00:25.957Z"
   },
   {
    "duration": 18,
    "start_time": "2022-03-08T19:24:00.586Z"
   },
   {
    "duration": 250,
    "start_time": "2022-03-08T19:24:52.013Z"
   },
   {
    "duration": 9,
    "start_time": "2022-03-08T19:24:59.898Z"
   },
   {
    "duration": 27,
    "start_time": "2022-03-08T19:25:42.144Z"
   },
   {
    "duration": 1072,
    "start_time": "2022-03-08T19:25:52.341Z"
   },
   {
    "duration": 1082,
    "start_time": "2022-03-08T19:26:05.277Z"
   },
   {
    "duration": 1356,
    "start_time": "2022-03-08T19:29:30.278Z"
   },
   {
    "duration": 1022,
    "start_time": "2022-03-08T19:29:55.570Z"
   },
   {
    "duration": 5,
    "start_time": "2022-03-08T19:30:05.454Z"
   },
   {
    "duration": 118,
    "start_time": "2022-03-08T19:30:05.462Z"
   },
   {
    "duration": 19,
    "start_time": "2022-03-08T19:30:05.584Z"
   },
   {
    "duration": 23,
    "start_time": "2022-03-08T19:30:05.605Z"
   },
   {
    "duration": 32,
    "start_time": "2022-03-08T19:30:05.631Z"
   },
   {
    "duration": 27,
    "start_time": "2022-03-08T19:30:05.666Z"
   },
   {
    "duration": 21,
    "start_time": "2022-03-08T19:30:05.697Z"
   },
   {
    "duration": 27,
    "start_time": "2022-03-08T19:30:05.721Z"
   },
   {
    "duration": 15,
    "start_time": "2022-03-08T19:30:05.751Z"
   },
   {
    "duration": 38,
    "start_time": "2022-03-08T19:30:05.768Z"
   },
   {
    "duration": 1026,
    "start_time": "2022-03-08T19:30:17.038Z"
   },
   {
    "duration": 1152,
    "start_time": "2022-03-08T19:30:30.527Z"
   },
   {
    "duration": 5,
    "start_time": "2022-03-08T19:30:32.217Z"
   },
   {
    "duration": 84,
    "start_time": "2022-03-08T19:30:32.224Z"
   },
   {
    "duration": 10,
    "start_time": "2022-03-08T19:30:32.311Z"
   },
   {
    "duration": 12,
    "start_time": "2022-03-08T19:30:32.324Z"
   },
   {
    "duration": 7,
    "start_time": "2022-03-08T19:30:32.339Z"
   },
   {
    "duration": 17,
    "start_time": "2022-03-08T19:30:32.348Z"
   },
   {
    "duration": 29,
    "start_time": "2022-03-08T19:30:32.367Z"
   },
   {
    "duration": 23,
    "start_time": "2022-03-08T19:30:32.398Z"
   },
   {
    "duration": 8,
    "start_time": "2022-03-08T19:30:32.424Z"
   },
   {
    "duration": 57,
    "start_time": "2022-03-08T19:30:32.434Z"
   },
   {
    "duration": 13,
    "start_time": "2022-03-08T19:31:53.376Z"
   },
   {
    "duration": 8,
    "start_time": "2022-03-08T19:32:11.895Z"
   },
   {
    "duration": 12,
    "start_time": "2022-03-08T19:32:44.706Z"
   },
   {
    "duration": 8,
    "start_time": "2022-03-08T19:34:19.204Z"
   },
   {
    "duration": 8,
    "start_time": "2022-03-08T19:34:51.645Z"
   },
   {
    "duration": 8,
    "start_time": "2022-03-08T19:35:20.257Z"
   },
   {
    "duration": 11,
    "start_time": "2022-03-08T19:47:51.793Z"
   },
   {
    "duration": 626,
    "start_time": "2022-03-08T20:01:21.747Z"
   },
   {
    "duration": 323,
    "start_time": "2022-03-08T20:05:42.256Z"
   },
   {
    "duration": 4,
    "start_time": "2022-03-08T20:06:05.327Z"
   },
   {
    "duration": 41,
    "start_time": "2022-03-08T20:06:05.334Z"
   },
   {
    "duration": 11,
    "start_time": "2022-03-08T20:06:05.377Z"
   },
   {
    "duration": 8,
    "start_time": "2022-03-08T20:06:05.390Z"
   },
   {
    "duration": 6,
    "start_time": "2022-03-08T20:06:05.400Z"
   },
   {
    "duration": 17,
    "start_time": "2022-03-08T20:06:05.408Z"
   },
   {
    "duration": 16,
    "start_time": "2022-03-08T20:06:05.428Z"
   },
   {
    "duration": 54,
    "start_time": "2022-03-08T20:06:05.447Z"
   },
   {
    "duration": 13,
    "start_time": "2022-03-08T20:06:05.503Z"
   },
   {
    "duration": 29,
    "start_time": "2022-03-08T20:06:05.518Z"
   },
   {
    "duration": 37,
    "start_time": "2022-03-08T20:06:05.549Z"
   },
   {
    "duration": 14,
    "start_time": "2022-03-08T20:06:05.589Z"
   },
   {
    "duration": 9,
    "start_time": "2022-03-08T20:06:05.606Z"
   },
   {
    "duration": 12,
    "start_time": "2022-03-08T20:06:05.618Z"
   },
   {
    "duration": 8,
    "start_time": "2022-03-08T20:06:05.632Z"
   },
   {
    "duration": 46,
    "start_time": "2022-03-08T20:06:05.642Z"
   },
   {
    "duration": 606,
    "start_time": "2022-03-08T20:06:05.690Z"
   },
   {
    "duration": 336,
    "start_time": "2022-03-08T20:06:06.299Z"
   },
   {
    "duration": 401,
    "start_time": "2022-03-08T20:07:21.647Z"
   },
   {
    "duration": 364,
    "start_time": "2022-03-08T20:07:40.339Z"
   },
   {
    "duration": 228,
    "start_time": "2022-03-08T20:57:47.712Z"
   },
   {
    "duration": 414,
    "start_time": "2022-03-09T10:08:02.640Z"
   },
   {
    "duration": 1461,
    "start_time": "2022-03-09T10:08:10.277Z"
   },
   {
    "duration": 81,
    "start_time": "2022-03-09T10:08:11.741Z"
   },
   {
    "duration": 15,
    "start_time": "2022-03-09T10:08:11.825Z"
   },
   {
    "duration": 9,
    "start_time": "2022-03-09T10:08:11.843Z"
   },
   {
    "duration": 5,
    "start_time": "2022-03-09T10:08:11.855Z"
   },
   {
    "duration": 22,
    "start_time": "2022-03-09T10:08:11.862Z"
   },
   {
    "duration": 15,
    "start_time": "2022-03-09T10:08:11.886Z"
   },
   {
    "duration": 18,
    "start_time": "2022-03-09T10:08:11.905Z"
   },
   {
    "duration": 13,
    "start_time": "2022-03-09T10:08:11.926Z"
   },
   {
    "duration": 27,
    "start_time": "2022-03-09T10:08:11.941Z"
   },
   {
    "duration": 8,
    "start_time": "2022-03-09T10:08:11.971Z"
   },
   {
    "duration": 13,
    "start_time": "2022-03-09T10:08:11.981Z"
   },
   {
    "duration": 9,
    "start_time": "2022-03-09T10:08:11.996Z"
   },
   {
    "duration": 26,
    "start_time": "2022-03-09T10:08:12.007Z"
   },
   {
    "duration": 9,
    "start_time": "2022-03-09T10:08:12.036Z"
   },
   {
    "duration": 12,
    "start_time": "2022-03-09T10:08:12.047Z"
   },
   {
    "duration": 708,
    "start_time": "2022-03-09T10:08:12.061Z"
   },
   {
    "duration": 483,
    "start_time": "2022-03-09T10:08:12.772Z"
   },
   {
    "duration": 321,
    "start_time": "2022-03-09T10:08:13.258Z"
   },
   {
    "duration": 350,
    "start_time": "2022-03-09T10:14:35.089Z"
   },
   {
    "duration": 535,
    "start_time": "2022-03-09T11:14:05.806Z"
   },
   {
    "duration": 446,
    "start_time": "2022-03-09T11:14:30.040Z"
   },
   {
    "duration": 5,
    "start_time": "2022-03-09T11:42:41.138Z"
   },
   {
    "duration": 69,
    "start_time": "2022-03-09T11:42:41.147Z"
   },
   {
    "duration": 11,
    "start_time": "2022-03-09T11:42:41.218Z"
   },
   {
    "duration": 8,
    "start_time": "2022-03-09T11:42:41.232Z"
   },
   {
    "duration": 7,
    "start_time": "2022-03-09T11:42:41.243Z"
   },
   {
    "duration": 17,
    "start_time": "2022-03-09T11:42:41.253Z"
   },
   {
    "duration": 17,
    "start_time": "2022-03-09T11:42:41.273Z"
   },
   {
    "duration": 58,
    "start_time": "2022-03-09T11:42:41.293Z"
   },
   {
    "duration": 8,
    "start_time": "2022-03-09T11:42:41.357Z"
   },
   {
    "duration": 64,
    "start_time": "2022-03-09T11:42:41.369Z"
   },
   {
    "duration": 11,
    "start_time": "2022-03-09T11:42:41.437Z"
   },
   {
    "duration": 16,
    "start_time": "2022-03-09T11:42:41.452Z"
   },
   {
    "duration": 12,
    "start_time": "2022-03-09T11:42:41.470Z"
   },
   {
    "duration": 52,
    "start_time": "2022-03-09T11:42:41.485Z"
   },
   {
    "duration": 9,
    "start_time": "2022-03-09T11:42:41.540Z"
   },
   {
    "duration": 12,
    "start_time": "2022-03-09T11:42:41.552Z"
   },
   {
    "duration": 641,
    "start_time": "2022-03-09T11:42:41.566Z"
   },
   {
    "duration": 396,
    "start_time": "2022-03-09T11:42:42.209Z"
   },
   {
    "duration": 446,
    "start_time": "2022-03-09T11:42:42.607Z"
   },
   {
    "duration": 450,
    "start_time": "2022-03-09T11:42:43.056Z"
   },
   {
    "duration": 479,
    "start_time": "2022-03-09T11:48:27.153Z"
   },
   {
    "duration": 8396,
    "start_time": "2022-03-09T12:44:32.875Z"
   },
   {
    "duration": -198,
    "start_time": "2022-03-09T12:45:26.127Z"
   },
   {
    "duration": -221,
    "start_time": "2022-03-09T12:45:26.152Z"
   },
   {
    "duration": -232,
    "start_time": "2022-03-09T12:45:26.164Z"
   },
   {
    "duration": -239,
    "start_time": "2022-03-09T12:45:26.172Z"
   },
   {
    "duration": -246,
    "start_time": "2022-03-09T12:45:26.180Z"
   },
   {
    "duration": -252,
    "start_time": "2022-03-09T12:45:26.188Z"
   },
   {
    "duration": -275,
    "start_time": "2022-03-09T12:45:26.212Z"
   },
   {
    "duration": -282,
    "start_time": "2022-03-09T12:45:26.220Z"
   },
   {
    "duration": -288,
    "start_time": "2022-03-09T12:45:26.227Z"
   },
   {
    "duration": -294,
    "start_time": "2022-03-09T12:45:26.235Z"
   },
   {
    "duration": -302,
    "start_time": "2022-03-09T12:45:26.244Z"
   },
   {
    "duration": -335,
    "start_time": "2022-03-09T12:45:26.278Z"
   },
   {
    "duration": -393,
    "start_time": "2022-03-09T12:45:26.338Z"
   },
   {
    "duration": -411,
    "start_time": "2022-03-09T12:45:26.357Z"
   },
   {
    "duration": -416,
    "start_time": "2022-03-09T12:45:26.364Z"
   },
   {
    "duration": -424,
    "start_time": "2022-03-09T12:45:26.373Z"
   },
   {
    "duration": -431,
    "start_time": "2022-03-09T12:45:26.382Z"
   },
   {
    "duration": -447,
    "start_time": "2022-03-09T12:45:26.399Z"
   },
   {
    "duration": -456,
    "start_time": "2022-03-09T12:45:26.409Z"
   },
   {
    "duration": -466,
    "start_time": "2022-03-09T12:45:26.420Z"
   },
   {
    "duration": -472,
    "start_time": "2022-03-09T12:45:26.428Z"
   },
   {
    "duration": -484,
    "start_time": "2022-03-09T12:45:26.441Z"
   },
   {
    "duration": 376,
    "start_time": "2022-03-09T12:46:05.693Z"
   },
   {
    "duration": 1513,
    "start_time": "2022-03-09T12:46:07.573Z"
   },
   {
    "duration": 76,
    "start_time": "2022-03-09T12:46:09.089Z"
   },
   {
    "duration": 19,
    "start_time": "2022-03-09T12:46:09.169Z"
   },
   {
    "duration": 13,
    "start_time": "2022-03-09T12:46:09.191Z"
   },
   {
    "duration": 7,
    "start_time": "2022-03-09T12:46:09.207Z"
   },
   {
    "duration": 23,
    "start_time": "2022-03-09T12:46:09.217Z"
   },
   {
    "duration": 21,
    "start_time": "2022-03-09T12:46:09.243Z"
   },
   {
    "duration": 19,
    "start_time": "2022-03-09T12:46:09.270Z"
   },
   {
    "duration": 47,
    "start_time": "2022-03-09T12:46:09.293Z"
   },
   {
    "duration": 32,
    "start_time": "2022-03-09T12:46:09.342Z"
   },
   {
    "duration": 11,
    "start_time": "2022-03-09T12:46:09.377Z"
   },
   {
    "duration": 50,
    "start_time": "2022-03-09T12:46:09.390Z"
   },
   {
    "duration": 15,
    "start_time": "2022-03-09T12:46:09.442Z"
   },
   {
    "duration": 12,
    "start_time": "2022-03-09T12:46:09.459Z"
   },
   {
    "duration": 20,
    "start_time": "2022-03-09T12:46:09.473Z"
   },
   {
    "duration": 11110,
    "start_time": "2022-03-09T12:46:09.496Z"
   },
   {
    "duration": -230,
    "start_time": "2022-03-09T12:46:20.838Z"
   },
   {
    "duration": -257,
    "start_time": "2022-03-09T12:46:20.867Z"
   },
   {
    "duration": -263,
    "start_time": "2022-03-09T12:46:20.874Z"
   },
   {
    "duration": -268,
    "start_time": "2022-03-09T12:46:20.880Z"
   },
   {
    "duration": -274,
    "start_time": "2022-03-09T12:46:20.888Z"
   },
   {
    "duration": -279,
    "start_time": "2022-03-09T12:46:20.895Z"
   },
   {
    "duration": 8706,
    "start_time": "2022-03-09T12:48:11.791Z"
   },
   {
    "duration": 8287,
    "start_time": "2022-03-09T12:48:51.488Z"
   },
   {
    "duration": 8077,
    "start_time": "2022-03-09T12:49:02.961Z"
   },
   {
    "duration": 33,
    "start_time": "2022-03-09T12:50:08.279Z"
   },
   {
    "duration": 28,
    "start_time": "2022-03-09T13:00:06.746Z"
   },
   {
    "duration": 4,
    "start_time": "2022-03-09T13:00:08.836Z"
   },
   {
    "duration": 84,
    "start_time": "2022-03-09T13:00:08.846Z"
   },
   {
    "duration": 11,
    "start_time": "2022-03-09T13:00:08.933Z"
   },
   {
    "duration": 16,
    "start_time": "2022-03-09T13:00:08.947Z"
   },
   {
    "duration": 7,
    "start_time": "2022-03-09T13:00:08.966Z"
   },
   {
    "duration": 19,
    "start_time": "2022-03-09T13:00:08.976Z"
   },
   {
    "duration": 50,
    "start_time": "2022-03-09T13:00:08.998Z"
   },
   {
    "duration": 22,
    "start_time": "2022-03-09T13:00:09.051Z"
   },
   {
    "duration": 11,
    "start_time": "2022-03-09T13:00:09.076Z"
   },
   {
    "duration": 52,
    "start_time": "2022-03-09T13:00:09.090Z"
   },
   {
    "duration": 7,
    "start_time": "2022-03-09T13:00:09.145Z"
   },
   {
    "duration": 13,
    "start_time": "2022-03-09T13:00:09.155Z"
   },
   {
    "duration": 8,
    "start_time": "2022-03-09T13:00:09.171Z"
   },
   {
    "duration": 52,
    "start_time": "2022-03-09T13:00:09.182Z"
   },
   {
    "duration": 8,
    "start_time": "2022-03-09T13:00:09.236Z"
   },
   {
    "duration": 28,
    "start_time": "2022-03-09T13:00:09.247Z"
   },
   {
    "duration": 12,
    "start_time": "2022-03-09T13:00:09.278Z"
   },
   {
    "duration": 622,
    "start_time": "2022-03-09T13:00:09.334Z"
   },
   {
    "duration": 432,
    "start_time": "2022-03-09T13:00:09.959Z"
   },
   {
    "duration": 412,
    "start_time": "2022-03-09T13:00:10.395Z"
   },
   {
    "duration": 522,
    "start_time": "2022-03-09T13:00:10.810Z"
   },
   {
    "duration": 367,
    "start_time": "2022-03-09T13:00:11.335Z"
   },
   {
    "duration": 11,
    "start_time": "2022-03-09T13:03:31.441Z"
   },
   {
    "duration": 9,
    "start_time": "2022-03-09T13:03:43.856Z"
   },
   {
    "duration": 9,
    "start_time": "2022-03-09T13:03:53.975Z"
   },
   {
    "duration": 5,
    "start_time": "2022-03-09T13:04:09.967Z"
   },
   {
    "duration": 315,
    "start_time": "2022-03-09T13:04:19.790Z"
   },
   {
    "duration": 7,
    "start_time": "2022-03-09T13:04:28.277Z"
   },
   {
    "duration": 3,
    "start_time": "2022-03-09T13:04:52.144Z"
   },
   {
    "duration": 6,
    "start_time": "2022-03-09T13:05:02.510Z"
   },
   {
    "duration": 26,
    "start_time": "2022-03-09T13:05:05.559Z"
   },
   {
    "duration": 4,
    "start_time": "2022-03-09T13:05:06.832Z"
   },
   {
    "duration": 79,
    "start_time": "2022-03-09T13:05:06.839Z"
   },
   {
    "duration": 11,
    "start_time": "2022-03-09T13:05:06.920Z"
   },
   {
    "duration": 18,
    "start_time": "2022-03-09T13:05:06.934Z"
   },
   {
    "duration": 13,
    "start_time": "2022-03-09T13:05:06.956Z"
   },
   {
    "duration": 19,
    "start_time": "2022-03-09T13:05:06.973Z"
   },
   {
    "duration": 40,
    "start_time": "2022-03-09T13:05:06.994Z"
   },
   {
    "duration": 26,
    "start_time": "2022-03-09T13:05:07.037Z"
   },
   {
    "duration": 18,
    "start_time": "2022-03-09T13:05:07.066Z"
   },
   {
    "duration": 46,
    "start_time": "2022-03-09T13:05:07.087Z"
   },
   {
    "duration": 8,
    "start_time": "2022-03-09T13:05:07.135Z"
   },
   {
    "duration": 13,
    "start_time": "2022-03-09T13:05:07.146Z"
   },
   {
    "duration": 13,
    "start_time": "2022-03-09T13:05:07.161Z"
   },
   {
    "duration": 12,
    "start_time": "2022-03-09T13:05:07.176Z"
   },
   {
    "duration": 46,
    "start_time": "2022-03-09T13:05:07.190Z"
   },
   {
    "duration": 6,
    "start_time": "2022-03-09T13:05:07.238Z"
   },
   {
    "duration": 29,
    "start_time": "2022-03-09T13:05:07.246Z"
   },
   {
    "duration": 3,
    "start_time": "2022-03-09T13:05:07.277Z"
   },
   {
    "duration": 50,
    "start_time": "2022-03-09T13:05:07.282Z"
   },
   {
    "duration": 603,
    "start_time": "2022-03-09T13:05:07.334Z"
   },
   {
    "duration": 415,
    "start_time": "2022-03-09T13:05:07.940Z"
   },
   {
    "duration": 487,
    "start_time": "2022-03-09T13:05:08.358Z"
   },
   {
    "duration": 500,
    "start_time": "2022-03-09T13:05:08.848Z"
   },
   {
    "duration": 345,
    "start_time": "2022-03-09T13:05:09.352Z"
   },
   {
    "duration": 7,
    "start_time": "2022-03-09T13:06:05.121Z"
   },
   {
    "duration": 5,
    "start_time": "2022-03-09T13:06:11.461Z"
   },
   {
    "duration": 6,
    "start_time": "2022-03-09T13:06:15.370Z"
   },
   {
    "duration": 4,
    "start_time": "2022-03-09T13:06:16.900Z"
   },
   {
    "duration": 82,
    "start_time": "2022-03-09T13:06:16.907Z"
   },
   {
    "duration": 11,
    "start_time": "2022-03-09T13:06:16.992Z"
   },
   {
    "duration": 9,
    "start_time": "2022-03-09T13:06:17.005Z"
   },
   {
    "duration": 10,
    "start_time": "2022-03-09T13:06:17.016Z"
   },
   {
    "duration": 18,
    "start_time": "2022-03-09T13:06:17.029Z"
   },
   {
    "duration": 17,
    "start_time": "2022-03-09T13:06:17.050Z"
   },
   {
    "duration": 17,
    "start_time": "2022-03-09T13:06:17.070Z"
   },
   {
    "duration": 10,
    "start_time": "2022-03-09T13:06:17.090Z"
   },
   {
    "duration": 26,
    "start_time": "2022-03-09T13:06:17.133Z"
   },
   {
    "duration": 12,
    "start_time": "2022-03-09T13:06:17.162Z"
   },
   {
    "duration": 16,
    "start_time": "2022-03-09T13:06:17.177Z"
   },
   {
    "duration": 8,
    "start_time": "2022-03-09T13:06:17.232Z"
   },
   {
    "duration": 12,
    "start_time": "2022-03-09T13:06:17.243Z"
   },
   {
    "duration": 10,
    "start_time": "2022-03-09T13:06:17.257Z"
   },
   {
    "duration": 10,
    "start_time": "2022-03-09T13:06:17.269Z"
   },
   {
    "duration": 66,
    "start_time": "2022-03-09T13:06:17.282Z"
   },
   {
    "duration": 6,
    "start_time": "2022-03-09T13:06:17.351Z"
   },
   {
    "duration": 14,
    "start_time": "2022-03-09T13:06:17.361Z"
   },
   {
    "duration": 626,
    "start_time": "2022-03-09T13:06:17.378Z"
   },
   {
    "duration": 391,
    "start_time": "2022-03-09T13:06:18.007Z"
   },
   {
    "duration": 367,
    "start_time": "2022-03-09T13:06:18.400Z"
   },
   {
    "duration": 485,
    "start_time": "2022-03-09T13:06:18.770Z"
   },
   {
    "duration": 340,
    "start_time": "2022-03-09T13:06:19.258Z"
   },
   {
    "duration": 29,
    "start_time": "2022-03-09T13:07:06.957Z"
   },
   {
    "duration": 6,
    "start_time": "2022-03-09T13:07:09.470Z"
   },
   {
    "duration": 13,
    "start_time": "2022-03-09T13:12:13.513Z"
   },
   {
    "duration": 13,
    "start_time": "2022-03-09T13:13:52.142Z"
   },
   {
    "duration": 6,
    "start_time": "2022-03-09T13:13:54.667Z"
   },
   {
    "duration": 4,
    "start_time": "2022-03-09T13:13:56.736Z"
   },
   {
    "duration": 80,
    "start_time": "2022-03-09T13:13:56.743Z"
   },
   {
    "duration": 11,
    "start_time": "2022-03-09T13:13:56.826Z"
   },
   {
    "duration": 11,
    "start_time": "2022-03-09T13:13:56.839Z"
   },
   {
    "duration": 6,
    "start_time": "2022-03-09T13:13:56.852Z"
   },
   {
    "duration": 15,
    "start_time": "2022-03-09T13:13:56.860Z"
   },
   {
    "duration": 15,
    "start_time": "2022-03-09T13:13:56.879Z"
   },
   {
    "duration": 18,
    "start_time": "2022-03-09T13:13:56.933Z"
   },
   {
    "duration": 10,
    "start_time": "2022-03-09T13:13:56.954Z"
   },
   {
    "duration": 24,
    "start_time": "2022-03-09T13:13:56.967Z"
   },
   {
    "duration": 45,
    "start_time": "2022-03-09T13:13:56.993Z"
   },
   {
    "duration": 14,
    "start_time": "2022-03-09T13:13:57.041Z"
   },
   {
    "duration": 8,
    "start_time": "2022-03-09T13:13:57.057Z"
   },
   {
    "duration": 11,
    "start_time": "2022-03-09T13:13:57.067Z"
   },
   {
    "duration": 53,
    "start_time": "2022-03-09T13:13:57.081Z"
   },
   {
    "duration": 6,
    "start_time": "2022-03-09T13:13:57.137Z"
   },
   {
    "duration": 13,
    "start_time": "2022-03-09T13:13:57.145Z"
   },
   {
    "duration": 6,
    "start_time": "2022-03-09T13:13:57.162Z"
   },
   {
    "duration": 14,
    "start_time": "2022-03-09T13:13:57.170Z"
   },
   {
    "duration": 648,
    "start_time": "2022-03-09T13:13:57.186Z"
   },
   {
    "duration": 383,
    "start_time": "2022-03-09T13:13:57.836Z"
   },
   {
    "duration": 365,
    "start_time": "2022-03-09T13:13:58.221Z"
   },
   {
    "duration": 521,
    "start_time": "2022-03-09T13:13:58.588Z"
   },
   {
    "duration": 343,
    "start_time": "2022-03-09T13:13:59.111Z"
   },
   {
    "duration": 510,
    "start_time": "2022-03-09T13:35:46.811Z"
   },
   {
    "duration": 3,
    "start_time": "2022-03-09T14:15:33.626Z"
   },
   {
    "duration": 482,
    "start_time": "2022-03-09T14:22:49.368Z"
   },
   {
    "duration": 448,
    "start_time": "2022-03-09T14:23:11.905Z"
   },
   {
    "duration": 720,
    "start_time": "2022-03-09T14:23:28.478Z"
   },
   {
    "duration": 540,
    "start_time": "2022-03-09T14:23:42.097Z"
   },
   {
    "duration": 504,
    "start_time": "2022-03-09T14:24:10.151Z"
   },
   {
    "duration": 497,
    "start_time": "2022-03-09T14:42:54.381Z"
   },
   {
    "duration": 3,
    "start_time": "2022-03-09T14:53:33.311Z"
   },
   {
    "duration": 1107,
    "start_time": "2022-03-10T06:08:31.494Z"
   },
   {
    "duration": 88,
    "start_time": "2022-03-10T06:08:32.603Z"
   },
   {
    "duration": 9,
    "start_time": "2022-03-10T06:08:32.693Z"
   },
   {
    "duration": 8,
    "start_time": "2022-03-10T06:08:32.704Z"
   },
   {
    "duration": 4,
    "start_time": "2022-03-10T06:08:32.713Z"
   },
   {
    "duration": 11,
    "start_time": "2022-03-10T06:08:32.718Z"
   },
   {
    "duration": 10,
    "start_time": "2022-03-10T06:08:32.730Z"
   },
   {
    "duration": 11,
    "start_time": "2022-03-10T06:08:32.742Z"
   },
   {
    "duration": 6,
    "start_time": "2022-03-10T06:08:32.755Z"
   },
   {
    "duration": 43,
    "start_time": "2022-03-10T06:08:32.763Z"
   },
   {
    "duration": 7,
    "start_time": "2022-03-10T06:08:32.807Z"
   },
   {
    "duration": 9,
    "start_time": "2022-03-10T06:08:32.816Z"
   },
   {
    "duration": 11,
    "start_time": "2022-03-10T06:08:32.827Z"
   },
   {
    "duration": 13,
    "start_time": "2022-03-10T06:08:32.840Z"
   },
   {
    "duration": 6,
    "start_time": "2022-03-10T06:08:32.855Z"
   },
   {
    "duration": 6,
    "start_time": "2022-03-10T06:08:32.863Z"
   },
   {
    "duration": 35,
    "start_time": "2022-03-10T06:08:32.871Z"
   },
   {
    "duration": 3,
    "start_time": "2022-03-10T06:08:32.908Z"
   },
   {
    "duration": 10,
    "start_time": "2022-03-10T06:08:32.913Z"
   },
   {
    "duration": 348,
    "start_time": "2022-03-10T06:08:32.925Z"
   },
   {
    "duration": 221,
    "start_time": "2022-03-10T06:08:33.275Z"
   },
   {
    "duration": 200,
    "start_time": "2022-03-10T06:08:33.501Z"
   },
   {
    "duration": 333,
    "start_time": "2022-03-10T06:08:33.704Z"
   },
   {
    "duration": 225,
    "start_time": "2022-03-10T06:08:34.038Z"
   },
   {
    "duration": 375,
    "start_time": "2022-03-10T06:08:34.265Z"
   },
   {
    "duration": 355,
    "start_time": "2022-03-10T06:11:02.769Z"
   },
   {
    "duration": 310,
    "start_time": "2022-03-10T06:16:21.015Z"
   },
   {
    "duration": 148,
    "start_time": "2022-03-10T06:16:29.751Z"
   },
   {
    "duration": 309,
    "start_time": "2022-03-10T06:18:15.592Z"
   },
   {
    "duration": 305,
    "start_time": "2022-03-10T06:19:34.020Z"
   },
   {
    "duration": 874,
    "start_time": "2022-03-10T06:20:04.406Z"
   },
   {
    "duration": 8,
    "start_time": "2022-03-10T06:22:59.910Z"
   },
   {
    "duration": 89,
    "start_time": "2022-03-10T06:24:34.939Z"
   },
   {
    "duration": 103,
    "start_time": "2022-03-10T06:25:00.185Z"
   },
   {
    "duration": 204,
    "start_time": "2022-03-10T06:26:12.958Z"
   },
   {
    "duration": 93,
    "start_time": "2022-03-10T06:26:54.800Z"
   },
   {
    "duration": 160,
    "start_time": "2022-03-10T06:27:01.258Z"
   },
   {
    "duration": 273,
    "start_time": "2022-03-10T06:27:50.076Z"
   },
   {
    "duration": 218,
    "start_time": "2022-03-10T06:28:03.191Z"
   },
   {
    "duration": 4,
    "start_time": "2022-03-10T06:28:05.144Z"
   },
   {
    "duration": 78,
    "start_time": "2022-03-10T06:28:05.149Z"
   },
   {
    "duration": 6,
    "start_time": "2022-03-10T06:28:05.229Z"
   },
   {
    "duration": 7,
    "start_time": "2022-03-10T06:28:05.238Z"
   },
   {
    "duration": 4,
    "start_time": "2022-03-10T06:28:05.246Z"
   },
   {
    "duration": 10,
    "start_time": "2022-03-10T06:28:05.252Z"
   },
   {
    "duration": 9,
    "start_time": "2022-03-10T06:28:05.263Z"
   },
   {
    "duration": 12,
    "start_time": "2022-03-10T06:28:05.273Z"
   },
   {
    "duration": 5,
    "start_time": "2022-03-10T06:28:05.288Z"
   },
   {
    "duration": 19,
    "start_time": "2022-03-10T06:28:05.295Z"
   },
   {
    "duration": 7,
    "start_time": "2022-03-10T06:28:05.316Z"
   },
   {
    "duration": 10,
    "start_time": "2022-03-10T06:28:05.325Z"
   },
   {
    "duration": 9,
    "start_time": "2022-03-10T06:28:05.336Z"
   },
   {
    "duration": 15,
    "start_time": "2022-03-10T06:28:05.347Z"
   },
   {
    "duration": 9,
    "start_time": "2022-03-10T06:28:05.363Z"
   },
   {
    "duration": 8,
    "start_time": "2022-03-10T06:28:05.373Z"
   },
   {
    "duration": 23,
    "start_time": "2022-03-10T06:28:05.382Z"
   },
   {
    "duration": 2,
    "start_time": "2022-03-10T06:28:05.407Z"
   },
   {
    "duration": 12,
    "start_time": "2022-03-10T06:28:05.411Z"
   },
   {
    "duration": 335,
    "start_time": "2022-03-10T06:28:05.425Z"
   },
   {
    "duration": 200,
    "start_time": "2022-03-10T06:28:05.761Z"
   },
   {
    "duration": 204,
    "start_time": "2022-03-10T06:28:05.963Z"
   },
   {
    "duration": 372,
    "start_time": "2022-03-10T06:28:06.169Z"
   },
   {
    "duration": 225,
    "start_time": "2022-03-10T06:28:06.542Z"
   },
   {
    "duration": 369,
    "start_time": "2022-03-10T06:28:06.769Z"
   },
   {
    "duration": 8,
    "start_time": "2022-03-10T06:28:07.140Z"
   },
   {
    "duration": 101,
    "start_time": "2022-03-10T06:28:07.150Z"
   },
   {
    "duration": 222,
    "start_time": "2022-03-10T06:28:07.253Z"
   },
   {
    "duration": 195,
    "start_time": "2022-03-10T06:29:18.722Z"
   },
   {
    "duration": 291,
    "start_time": "2022-03-10T06:29:28.444Z"
   },
   {
    "duration": 207,
    "start_time": "2022-03-10T06:29:37.698Z"
   },
   {
    "duration": 281,
    "start_time": "2022-03-10T06:31:31.374Z"
   },
   {
    "duration": 3,
    "start_time": "2022-03-10T06:43:46.232Z"
   },
   {
    "duration": 4,
    "start_time": "2022-03-10T06:44:05.875Z"
   },
   {
    "duration": 10,
    "start_time": "2022-03-10T06:45:52.977Z"
   },
   {
    "duration": 3,
    "start_time": "2022-03-10T06:46:01.777Z"
   },
   {
    "duration": 90,
    "start_time": "2022-03-10T06:46:01.782Z"
   },
   {
    "duration": 6,
    "start_time": "2022-03-10T06:46:01.874Z"
   },
   {
    "duration": 7,
    "start_time": "2022-03-10T06:46:01.882Z"
   },
   {
    "duration": 7,
    "start_time": "2022-03-10T06:46:01.890Z"
   },
   {
    "duration": 13,
    "start_time": "2022-03-10T06:46:01.899Z"
   },
   {
    "duration": 12,
    "start_time": "2022-03-10T06:46:01.913Z"
   },
   {
    "duration": 12,
    "start_time": "2022-03-10T06:46:01.927Z"
   },
   {
    "duration": 9,
    "start_time": "2022-03-10T06:46:01.940Z"
   },
   {
    "duration": 18,
    "start_time": "2022-03-10T06:46:01.950Z"
   },
   {
    "duration": 8,
    "start_time": "2022-03-10T06:46:01.970Z"
   },
   {
    "duration": 30,
    "start_time": "2022-03-10T06:46:01.980Z"
   },
   {
    "duration": 12,
    "start_time": "2022-03-10T06:46:02.012Z"
   },
   {
    "duration": 13,
    "start_time": "2022-03-10T06:46:02.025Z"
   },
   {
    "duration": 11,
    "start_time": "2022-03-10T06:46:02.040Z"
   },
   {
    "duration": 7,
    "start_time": "2022-03-10T06:46:02.053Z"
   },
   {
    "duration": 12,
    "start_time": "2022-03-10T06:46:02.062Z"
   },
   {
    "duration": 7,
    "start_time": "2022-03-10T06:46:02.075Z"
   },
   {
    "duration": 13,
    "start_time": "2022-03-10T06:46:02.084Z"
   },
   {
    "duration": 319,
    "start_time": "2022-03-10T06:46:02.099Z"
   },
   {
    "duration": 207,
    "start_time": "2022-03-10T06:46:02.420Z"
   },
   {
    "duration": 205,
    "start_time": "2022-03-10T06:46:02.630Z"
   },
   {
    "duration": 302,
    "start_time": "2022-03-10T06:46:02.839Z"
   },
   {
    "duration": 236,
    "start_time": "2022-03-10T06:46:03.142Z"
   },
   {
    "duration": 353,
    "start_time": "2022-03-10T06:46:03.380Z"
   },
   {
    "duration": 8,
    "start_time": "2022-03-10T06:46:03.735Z"
   },
   {
    "duration": 19,
    "start_time": "2022-03-10T06:46:03.745Z"
   },
   {
    "duration": 209,
    "start_time": "2022-03-10T06:46:03.765Z"
   },
   {
    "duration": 309,
    "start_time": "2022-03-10T06:46:03.976Z"
   },
   {
    "duration": 6,
    "start_time": "2022-03-10T06:46:04.287Z"
   },
   {
    "duration": 4,
    "start_time": "2022-03-10T06:48:27.262Z"
   },
   {
    "duration": 3,
    "start_time": "2022-03-10T06:49:01.255Z"
   },
   {
    "duration": 96,
    "start_time": "2022-03-10T06:49:01.260Z"
   },
   {
    "duration": 6,
    "start_time": "2022-03-10T06:49:01.358Z"
   },
   {
    "duration": 8,
    "start_time": "2022-03-10T06:49:01.366Z"
   },
   {
    "duration": 10,
    "start_time": "2022-03-10T06:49:01.376Z"
   },
   {
    "duration": 14,
    "start_time": "2022-03-10T06:49:01.387Z"
   },
   {
    "duration": 14,
    "start_time": "2022-03-10T06:49:01.403Z"
   },
   {
    "duration": 12,
    "start_time": "2022-03-10T06:49:01.420Z"
   },
   {
    "duration": 6,
    "start_time": "2022-03-10T06:49:01.434Z"
   },
   {
    "duration": 18,
    "start_time": "2022-03-10T06:49:01.442Z"
   },
   {
    "duration": 19,
    "start_time": "2022-03-10T06:49:01.461Z"
   },
   {
    "duration": 21,
    "start_time": "2022-03-10T06:49:01.481Z"
   },
   {
    "duration": 7,
    "start_time": "2022-03-10T06:49:01.503Z"
   },
   {
    "duration": 12,
    "start_time": "2022-03-10T06:49:01.511Z"
   },
   {
    "duration": 20,
    "start_time": "2022-03-10T06:49:01.524Z"
   },
   {
    "duration": 8,
    "start_time": "2022-03-10T06:49:01.545Z"
   },
   {
    "duration": 18,
    "start_time": "2022-03-10T06:49:01.555Z"
   },
   {
    "duration": 13,
    "start_time": "2022-03-10T06:49:01.574Z"
   },
   {
    "duration": 12,
    "start_time": "2022-03-10T06:49:01.589Z"
   },
   {
    "duration": 325,
    "start_time": "2022-03-10T06:49:01.602Z"
   },
   {
    "duration": 207,
    "start_time": "2022-03-10T06:49:01.928Z"
   },
   {
    "duration": 196,
    "start_time": "2022-03-10T06:49:02.136Z"
   },
   {
    "duration": 305,
    "start_time": "2022-03-10T06:49:02.335Z"
   },
   {
    "duration": 234,
    "start_time": "2022-03-10T06:49:02.642Z"
   },
   {
    "duration": 431,
    "start_time": "2022-03-10T06:49:02.878Z"
   },
   {
    "duration": 8,
    "start_time": "2022-03-10T06:49:03.311Z"
   },
   {
    "duration": 10,
    "start_time": "2022-03-10T06:49:03.320Z"
   },
   {
    "duration": 221,
    "start_time": "2022-03-10T06:49:03.332Z"
   },
   {
    "duration": 254,
    "start_time": "2022-03-10T06:49:03.555Z"
   },
   {
    "duration": 4,
    "start_time": "2022-03-10T06:49:03.810Z"
   },
   {
    "duration": 92,
    "start_time": "2022-03-10T06:50:20.248Z"
   },
   {
    "duration": 200,
    "start_time": "2022-03-10T06:50:29.933Z"
   },
   {
    "duration": 259,
    "start_time": "2022-03-10T06:50:32.567Z"
   },
   {
    "duration": 4,
    "start_time": "2022-03-10T06:50:34.455Z"
   },
   {
    "duration": 78,
    "start_time": "2022-03-10T06:50:34.460Z"
   },
   {
    "duration": 7,
    "start_time": "2022-03-10T06:50:34.540Z"
   },
   {
    "duration": 7,
    "start_time": "2022-03-10T06:50:34.548Z"
   },
   {
    "duration": 7,
    "start_time": "2022-03-10T06:50:34.556Z"
   },
   {
    "duration": 13,
    "start_time": "2022-03-10T06:50:34.564Z"
   },
   {
    "duration": 12,
    "start_time": "2022-03-10T06:50:34.578Z"
   },
   {
    "duration": 13,
    "start_time": "2022-03-10T06:50:34.591Z"
   },
   {
    "duration": 7,
    "start_time": "2022-03-10T06:50:34.607Z"
   },
   {
    "duration": 18,
    "start_time": "2022-03-10T06:50:34.617Z"
   },
   {
    "duration": 7,
    "start_time": "2022-03-10T06:50:34.637Z"
   },
   {
    "duration": 16,
    "start_time": "2022-03-10T06:50:34.646Z"
   },
   {
    "duration": 5,
    "start_time": "2022-03-10T06:50:34.664Z"
   },
   {
    "duration": 11,
    "start_time": "2022-03-10T06:50:34.671Z"
   },
   {
    "duration": 19,
    "start_time": "2022-03-10T06:50:34.684Z"
   },
   {
    "duration": 2,
    "start_time": "2022-03-10T06:50:34.704Z"
   },
   {
    "duration": 15,
    "start_time": "2022-03-10T06:50:34.708Z"
   },
   {
    "duration": 7,
    "start_time": "2022-03-10T06:50:34.724Z"
   },
   {
    "duration": 14,
    "start_time": "2022-03-10T06:50:34.732Z"
   },
   {
    "duration": 332,
    "start_time": "2022-03-10T06:50:34.747Z"
   },
   {
    "duration": 226,
    "start_time": "2022-03-10T06:50:35.081Z"
   },
   {
    "duration": 210,
    "start_time": "2022-03-10T06:50:35.309Z"
   },
   {
    "duration": 321,
    "start_time": "2022-03-10T06:50:35.520Z"
   },
   {
    "duration": 244,
    "start_time": "2022-03-10T06:50:35.843Z"
   },
   {
    "duration": 348,
    "start_time": "2022-03-10T06:50:36.089Z"
   },
   {
    "duration": 8,
    "start_time": "2022-03-10T06:50:36.438Z"
   },
   {
    "duration": 108,
    "start_time": "2022-03-10T06:50:36.449Z"
   },
   {
    "duration": 224,
    "start_time": "2022-03-10T06:50:36.559Z"
   },
   {
    "duration": 289,
    "start_time": "2022-03-10T06:50:36.784Z"
   },
   {
    "duration": 4,
    "start_time": "2022-03-10T06:50:37.075Z"
   },
   {
    "duration": 4,
    "start_time": "2022-03-10T06:56:46.714Z"
   },
   {
    "duration": 5,
    "start_time": "2022-03-10T06:56:57.841Z"
   },
   {
    "duration": 5,
    "start_time": "2022-03-10T06:57:48.047Z"
   },
   {
    "duration": 5,
    "start_time": "2022-03-10T06:58:04.245Z"
   },
   {
    "duration": 4,
    "start_time": "2022-03-10T06:58:12.798Z"
   },
   {
    "duration": 4,
    "start_time": "2022-03-10T06:58:31.746Z"
   },
   {
    "duration": 5,
    "start_time": "2022-03-10T06:59:20.707Z"
   },
   {
    "duration": 182,
    "start_time": "2022-03-10T06:59:37.174Z"
   },
   {
    "duration": 202,
    "start_time": "2022-03-10T06:59:44.583Z"
   },
   {
    "duration": 210,
    "start_time": "2022-03-10T07:00:00.357Z"
   },
   {
    "duration": 3,
    "start_time": "2022-03-10T07:00:42.897Z"
   },
   {
    "duration": 3,
    "start_time": "2022-03-10T07:00:48.478Z"
   },
   {
    "duration": 4,
    "start_time": "2022-03-10T07:00:54.722Z"
   },
   {
    "duration": 221,
    "start_time": "2022-03-10T07:16:38.842Z"
   },
   {
    "duration": 214,
    "start_time": "2022-03-10T07:17:27.002Z"
   },
   {
    "duration": 390,
    "start_time": "2022-03-10T07:18:19.882Z"
   },
   {
    "duration": 289,
    "start_time": "2022-03-10T07:18:50.069Z"
   },
   {
    "duration": 279,
    "start_time": "2022-03-10T07:18:55.856Z"
   },
   {
    "duration": 3813,
    "start_time": "2022-03-10T07:27:28.901Z"
   },
   {
    "duration": 298,
    "start_time": "2022-03-10T07:28:08.520Z"
   },
   {
    "duration": 3,
    "start_time": "2022-03-10T07:28:10.751Z"
   },
   {
    "duration": 78,
    "start_time": "2022-03-10T07:28:10.756Z"
   },
   {
    "duration": 8,
    "start_time": "2022-03-10T07:28:10.836Z"
   },
   {
    "duration": 5,
    "start_time": "2022-03-10T07:28:10.846Z"
   },
   {
    "duration": 3,
    "start_time": "2022-03-10T07:28:10.853Z"
   },
   {
    "duration": 11,
    "start_time": "2022-03-10T07:28:10.858Z"
   },
   {
    "duration": 10,
    "start_time": "2022-03-10T07:28:10.870Z"
   },
   {
    "duration": 11,
    "start_time": "2022-03-10T07:28:10.881Z"
   },
   {
    "duration": 7,
    "start_time": "2022-03-10T07:28:10.896Z"
   },
   {
    "duration": 19,
    "start_time": "2022-03-10T07:28:10.905Z"
   },
   {
    "duration": 11,
    "start_time": "2022-03-10T07:28:10.926Z"
   },
   {
    "duration": 12,
    "start_time": "2022-03-10T07:28:10.938Z"
   },
   {
    "duration": 9,
    "start_time": "2022-03-10T07:28:10.951Z"
   },
   {
    "duration": 14,
    "start_time": "2022-03-10T07:28:10.962Z"
   },
   {
    "duration": 9,
    "start_time": "2022-03-10T07:28:10.977Z"
   },
   {
    "duration": 14,
    "start_time": "2022-03-10T07:28:10.987Z"
   },
   {
    "duration": 14,
    "start_time": "2022-03-10T07:28:11.003Z"
   },
   {
    "duration": 10,
    "start_time": "2022-03-10T07:28:11.018Z"
   },
   {
    "duration": 16,
    "start_time": "2022-03-10T07:28:11.030Z"
   },
   {
    "duration": 331,
    "start_time": "2022-03-10T07:28:11.047Z"
   },
   {
    "duration": 224,
    "start_time": "2022-03-10T07:28:11.380Z"
   },
   {
    "duration": 345,
    "start_time": "2022-03-10T07:28:11.606Z"
   },
   {
    "duration": 441,
    "start_time": "2022-03-10T07:28:11.953Z"
   },
   {
    "duration": 354,
    "start_time": "2022-03-10T07:28:12.400Z"
   },
   {
    "duration": 359,
    "start_time": "2022-03-10T07:28:12.756Z"
   },
   {
    "duration": 8,
    "start_time": "2022-03-10T07:28:13.116Z"
   },
   {
    "duration": 120,
    "start_time": "2022-03-10T07:28:13.127Z"
   },
   {
    "duration": 235,
    "start_time": "2022-03-10T07:28:13.248Z"
   },
   {
    "duration": 386,
    "start_time": "2022-03-10T07:28:13.485Z"
   },
   {
    "duration": 6,
    "start_time": "2022-03-10T07:28:13.873Z"
   },
   {
    "duration": 5,
    "start_time": "2022-03-10T07:28:13.881Z"
   },
   {
    "duration": 542,
    "start_time": "2022-03-10T07:28:13.902Z"
   },
   {
    "duration": 274,
    "start_time": "2022-03-10T07:28:14.446Z"
   },
   {
    "duration": 3899,
    "start_time": "2022-03-10T07:28:14.721Z"
   },
   {
    "duration": 269,
    "start_time": "2022-03-10T07:29:37.840Z"
   },
   {
    "duration": 3,
    "start_time": "2022-03-10T07:38:29.149Z"
   },
   {
    "duration": 4,
    "start_time": "2022-03-10T07:38:41.703Z"
   },
   {
    "duration": 176,
    "start_time": "2022-03-10T07:58:08.490Z"
   },
   {
    "duration": 100,
    "start_time": "2022-03-10T07:58:54.223Z"
   },
   {
    "duration": 3,
    "start_time": "2022-03-10T07:58:59.673Z"
   },
   {
    "duration": 77,
    "start_time": "2022-03-10T07:58:59.680Z"
   },
   {
    "duration": 7,
    "start_time": "2022-03-10T07:58:59.758Z"
   },
   {
    "duration": 6,
    "start_time": "2022-03-10T07:58:59.767Z"
   },
   {
    "duration": 2,
    "start_time": "2022-03-10T07:58:59.775Z"
   },
   {
    "duration": 9,
    "start_time": "2022-03-10T07:58:59.779Z"
   },
   {
    "duration": 9,
    "start_time": "2022-03-10T07:58:59.790Z"
   },
   {
    "duration": 10,
    "start_time": "2022-03-10T07:58:59.800Z"
   },
   {
    "duration": 5,
    "start_time": "2022-03-10T07:58:59.811Z"
   },
   {
    "duration": 15,
    "start_time": "2022-03-10T07:58:59.818Z"
   },
   {
    "duration": 7,
    "start_time": "2022-03-10T07:58:59.835Z"
   },
   {
    "duration": 12,
    "start_time": "2022-03-10T07:58:59.844Z"
   },
   {
    "duration": 9,
    "start_time": "2022-03-10T07:58:59.858Z"
   },
   {
    "duration": 11,
    "start_time": "2022-03-10T07:58:59.868Z"
   },
   {
    "duration": 23,
    "start_time": "2022-03-10T07:58:59.881Z"
   },
   {
    "duration": 7,
    "start_time": "2022-03-10T07:58:59.905Z"
   },
   {
    "duration": 13,
    "start_time": "2022-03-10T07:58:59.913Z"
   },
   {
    "duration": 5,
    "start_time": "2022-03-10T07:58:59.927Z"
   },
   {
    "duration": 12,
    "start_time": "2022-03-10T07:58:59.933Z"
   },
   {
    "duration": 329,
    "start_time": "2022-03-10T07:58:59.947Z"
   },
   {
    "duration": 212,
    "start_time": "2022-03-10T07:59:00.278Z"
   },
   {
    "duration": 344,
    "start_time": "2022-03-10T07:59:00.492Z"
   },
   {
    "duration": 318,
    "start_time": "2022-03-10T07:59:00.837Z"
   },
   {
    "duration": 237,
    "start_time": "2022-03-10T07:59:01.157Z"
   },
   {
    "duration": 344,
    "start_time": "2022-03-10T07:59:01.395Z"
   },
   {
    "duration": 7,
    "start_time": "2022-03-10T07:59:01.741Z"
   },
   {
    "duration": 107,
    "start_time": "2022-03-10T07:59:01.749Z"
   },
   {
    "duration": 228,
    "start_time": "2022-03-10T07:59:01.859Z"
   },
   {
    "duration": 322,
    "start_time": "2022-03-10T07:59:02.089Z"
   },
   {
    "duration": 4,
    "start_time": "2022-03-10T07:59:02.412Z"
   },
   {
    "duration": 6,
    "start_time": "2022-03-10T07:59:02.418Z"
   },
   {
    "duration": 308,
    "start_time": "2022-03-10T07:59:02.426Z"
   },
   {
    "duration": 288,
    "start_time": "2022-03-10T07:59:02.735Z"
   },
   {
    "duration": 281,
    "start_time": "2022-03-10T07:59:03.025Z"
   },
   {
    "duration": 5,
    "start_time": "2022-03-10T07:59:03.307Z"
   },
   {
    "duration": 119,
    "start_time": "2022-03-10T07:59:03.313Z"
   },
   {
    "duration": 152,
    "start_time": "2022-03-10T07:59:21.568Z"
   },
   {
    "duration": 389,
    "start_time": "2022-03-10T07:59:42.368Z"
   },
   {
    "duration": 7831,
    "start_time": "2022-03-10T08:03:05.312Z"
   },
   {
    "duration": 248,
    "start_time": "2022-03-10T08:15:45.939Z"
   },
   {
    "duration": 253,
    "start_time": "2022-03-10T08:16:05.309Z"
   },
   {
    "duration": 119,
    "start_time": "2022-03-10T08:24:43.882Z"
   },
   {
    "duration": 97,
    "start_time": "2022-03-10T08:32:35.706Z"
   },
   {
    "duration": 106,
    "start_time": "2022-03-10T08:33:17.581Z"
   },
   {
    "duration": 161,
    "start_time": "2022-03-10T08:53:02.853Z"
   },
   {
    "duration": 97,
    "start_time": "2022-03-10T08:53:47.034Z"
   },
   {
    "duration": 104,
    "start_time": "2022-03-10T08:53:57.741Z"
   },
   {
    "duration": 214,
    "start_time": "2022-03-10T11:19:01.909Z"
   },
   {
    "duration": 1140,
    "start_time": "2022-03-10T11:19:30.239Z"
   },
   {
    "duration": 66,
    "start_time": "2022-03-10T11:19:31.381Z"
   },
   {
    "duration": 12,
    "start_time": "2022-03-10T11:19:31.449Z"
   },
   {
    "duration": 7,
    "start_time": "2022-03-10T11:19:31.463Z"
   },
   {
    "duration": 9,
    "start_time": "2022-03-10T11:19:31.472Z"
   },
   {
    "duration": 21,
    "start_time": "2022-03-10T11:19:31.483Z"
   },
   {
    "duration": 13,
    "start_time": "2022-03-10T11:19:31.506Z"
   },
   {
    "duration": 38,
    "start_time": "2022-03-10T11:19:31.521Z"
   },
   {
    "duration": 9,
    "start_time": "2022-03-10T11:19:31.562Z"
   },
   {
    "duration": 31,
    "start_time": "2022-03-10T11:19:31.573Z"
   },
   {
    "duration": 8,
    "start_time": "2022-03-10T11:19:31.606Z"
   },
   {
    "duration": 11,
    "start_time": "2022-03-10T11:19:31.616Z"
   },
   {
    "duration": 7,
    "start_time": "2022-03-10T11:19:31.629Z"
   },
   {
    "duration": 20,
    "start_time": "2022-03-10T11:19:31.638Z"
   },
   {
    "duration": 10,
    "start_time": "2022-03-10T11:19:31.660Z"
   },
   {
    "duration": 18,
    "start_time": "2022-03-10T11:19:31.672Z"
   },
   {
    "duration": 25,
    "start_time": "2022-03-10T11:19:31.692Z"
   },
   {
    "duration": 4,
    "start_time": "2022-03-10T11:19:31.719Z"
   },
   {
    "duration": 24,
    "start_time": "2022-03-10T11:19:31.725Z"
   },
   {
    "duration": 340,
    "start_time": "2022-03-10T11:19:31.751Z"
   },
   {
    "duration": 235,
    "start_time": "2022-03-10T11:19:32.093Z"
   },
   {
    "duration": 233,
    "start_time": "2022-03-10T11:19:32.337Z"
   },
   {
    "duration": 331,
    "start_time": "2022-03-10T11:19:32.572Z"
   },
   {
    "duration": 269,
    "start_time": "2022-03-10T11:19:32.905Z"
   },
   {
    "duration": 343,
    "start_time": "2022-03-10T11:19:33.176Z"
   },
   {
    "duration": 16,
    "start_time": "2022-03-10T11:19:33.522Z"
   },
   {
    "duration": 120,
    "start_time": "2022-03-10T11:19:33.542Z"
   },
   {
    "duration": 258,
    "start_time": "2022-03-10T11:19:33.664Z"
   },
   {
    "duration": 353,
    "start_time": "2022-03-10T11:19:33.924Z"
   },
   {
    "duration": 5,
    "start_time": "2022-03-10T11:19:34.278Z"
   },
   {
    "duration": 7,
    "start_time": "2022-03-10T11:19:34.285Z"
   },
   {
    "duration": 363,
    "start_time": "2022-03-10T11:19:34.294Z"
   },
   {
    "duration": 305,
    "start_time": "2022-03-10T11:19:34.659Z"
   },
   {
    "duration": 310,
    "start_time": "2022-03-10T11:19:34.966Z"
   },
   {
    "duration": 6,
    "start_time": "2022-03-10T11:19:35.278Z"
   },
   {
    "duration": 291,
    "start_time": "2022-03-10T11:19:35.286Z"
   },
   {
    "duration": 111,
    "start_time": "2022-03-10T11:19:35.579Z"
   },
   {
    "duration": 10,
    "start_time": "2022-03-10T12:30:31.164Z"
   },
   {
    "duration": 10,
    "start_time": "2022-03-10T13:01:54.251Z"
   },
   {
    "duration": 5562,
    "start_time": "2022-03-10T13:03:07.591Z"
   },
   {
    "duration": 9,
    "start_time": "2022-03-10T13:03:24.546Z"
   },
   {
    "duration": 9,
    "start_time": "2022-03-10T13:18:27.224Z"
   },
   {
    "duration": 3,
    "start_time": "2022-03-10T13:18:29.661Z"
   },
   {
    "duration": 71,
    "start_time": "2022-03-10T13:18:29.667Z"
   },
   {
    "duration": 8,
    "start_time": "2022-03-10T13:18:29.740Z"
   },
   {
    "duration": 8,
    "start_time": "2022-03-10T13:18:29.749Z"
   },
   {
    "duration": 5,
    "start_time": "2022-03-10T13:18:29.759Z"
   },
   {
    "duration": 12,
    "start_time": "2022-03-10T13:18:29.765Z"
   },
   {
    "duration": 17,
    "start_time": "2022-03-10T13:18:29.779Z"
   },
   {
    "duration": 41,
    "start_time": "2022-03-10T13:18:29.798Z"
   },
   {
    "duration": 7,
    "start_time": "2022-03-10T13:18:29.841Z"
   },
   {
    "duration": 18,
    "start_time": "2022-03-10T13:18:29.850Z"
   },
   {
    "duration": 8,
    "start_time": "2022-03-10T13:18:29.870Z"
   },
   {
    "duration": 11,
    "start_time": "2022-03-10T13:18:29.880Z"
   },
   {
    "duration": 46,
    "start_time": "2022-03-10T13:18:29.892Z"
   },
   {
    "duration": 8,
    "start_time": "2022-03-10T13:18:29.940Z"
   },
   {
    "duration": 7,
    "start_time": "2022-03-10T13:18:29.950Z"
   },
   {
    "duration": 4,
    "start_time": "2022-03-10T13:18:29.958Z"
   },
   {
    "duration": 12,
    "start_time": "2022-03-10T13:18:29.964Z"
   },
   {
    "duration": 2,
    "start_time": "2022-03-10T13:18:29.978Z"
   },
   {
    "duration": 20,
    "start_time": "2022-03-10T13:18:29.982Z"
   },
   {
    "duration": 398,
    "start_time": "2022-03-10T13:18:30.004Z"
   },
   {
    "duration": 242,
    "start_time": "2022-03-10T13:18:30.403Z"
   },
   {
    "duration": 246,
    "start_time": "2022-03-10T13:18:30.647Z"
   },
   {
    "duration": 337,
    "start_time": "2022-03-10T13:18:30.894Z"
   },
   {
    "duration": 263,
    "start_time": "2022-03-10T13:18:31.233Z"
   },
   {
    "duration": 405,
    "start_time": "2022-03-10T13:18:31.498Z"
   },
   {
    "duration": 8,
    "start_time": "2022-03-10T13:18:31.904Z"
   },
   {
    "duration": 131,
    "start_time": "2022-03-10T13:18:31.915Z"
   },
   {
    "duration": 346,
    "start_time": "2022-03-10T13:18:32.048Z"
   },
   {
    "duration": 275,
    "start_time": "2022-03-10T13:18:32.396Z"
   },
   {
    "duration": 5,
    "start_time": "2022-03-10T13:18:32.673Z"
   },
   {
    "duration": 8,
    "start_time": "2022-03-10T13:18:32.679Z"
   },
   {
    "duration": 364,
    "start_time": "2022-03-10T13:18:32.688Z"
   },
   {
    "duration": 313,
    "start_time": "2022-03-10T13:18:33.053Z"
   },
   {
    "duration": 295,
    "start_time": "2022-03-10T13:18:33.367Z"
   },
   {
    "duration": 5,
    "start_time": "2022-03-10T13:18:33.664Z"
   },
   {
    "duration": 283,
    "start_time": "2022-03-10T13:18:33.670Z"
   },
   {
    "duration": 124,
    "start_time": "2022-03-10T13:18:33.955Z"
   },
   {
    "duration": 10,
    "start_time": "2022-03-10T13:18:34.081Z"
   },
   {
    "duration": 13,
    "start_time": "2022-03-10T13:18:34.092Z"
   },
   {
    "duration": 31,
    "start_time": "2022-03-10T13:18:34.107Z"
   },
   {
    "duration": 6,
    "start_time": "2022-03-10T13:18:34.140Z"
   },
   {
    "duration": 382,
    "start_time": "2022-03-10T18:16:43.400Z"
   },
   {
    "duration": 1605,
    "start_time": "2022-03-10T18:19:22.473Z"
   },
   {
    "duration": 72,
    "start_time": "2022-03-10T18:19:24.081Z"
   },
   {
    "duration": 20,
    "start_time": "2022-03-10T18:19:24.157Z"
   },
   {
    "duration": 10,
    "start_time": "2022-03-10T18:19:24.180Z"
   },
   {
    "duration": 11,
    "start_time": "2022-03-10T18:19:24.193Z"
   },
   {
    "duration": 21,
    "start_time": "2022-03-10T18:19:24.207Z"
   },
   {
    "duration": 16,
    "start_time": "2022-03-10T18:19:24.230Z"
   },
   {
    "duration": 20,
    "start_time": "2022-03-10T18:19:24.276Z"
   },
   {
    "duration": 12,
    "start_time": "2022-03-10T18:19:24.300Z"
   },
   {
    "duration": 59,
    "start_time": "2022-03-10T18:19:24.315Z"
   },
   {
    "duration": 9,
    "start_time": "2022-03-10T18:19:24.376Z"
   },
   {
    "duration": 15,
    "start_time": "2022-03-10T18:19:24.388Z"
   },
   {
    "duration": 14,
    "start_time": "2022-03-10T18:19:24.405Z"
   },
   {
    "duration": 15,
    "start_time": "2022-03-10T18:19:24.421Z"
   },
   {
    "duration": 7,
    "start_time": "2022-03-10T18:19:24.474Z"
   },
   {
    "duration": 5,
    "start_time": "2022-03-10T18:19:24.483Z"
   },
   {
    "duration": 13,
    "start_time": "2022-03-10T18:19:24.491Z"
   },
   {
    "duration": 5,
    "start_time": "2022-03-10T18:19:24.507Z"
   },
   {
    "duration": 15,
    "start_time": "2022-03-10T18:19:24.515Z"
   },
   {
    "duration": 666,
    "start_time": "2022-03-10T18:19:24.533Z"
   },
   {
    "duration": 403,
    "start_time": "2022-03-10T18:19:25.201Z"
   },
   {
    "duration": 513,
    "start_time": "2022-03-10T18:19:25.607Z"
   },
   {
    "duration": 548,
    "start_time": "2022-03-10T18:19:26.125Z"
   },
   {
    "duration": 431,
    "start_time": "2022-03-10T18:19:26.677Z"
   },
   {
    "duration": 516,
    "start_time": "2022-03-10T18:19:27.111Z"
   },
   {
    "duration": 12,
    "start_time": "2022-03-10T18:19:27.629Z"
   },
   {
    "duration": 197,
    "start_time": "2022-03-10T18:19:27.644Z"
   },
   {
    "duration": 443,
    "start_time": "2022-03-10T18:19:27.844Z"
   },
   {
    "duration": 487,
    "start_time": "2022-03-10T18:19:28.289Z"
   },
   {
    "duration": 6,
    "start_time": "2022-03-10T18:19:28.778Z"
   },
   {
    "duration": 8,
    "start_time": "2022-03-10T18:19:28.786Z"
   },
   {
    "duration": 607,
    "start_time": "2022-03-10T18:19:28.796Z"
   },
   {
    "duration": 432,
    "start_time": "2022-03-10T18:19:29.406Z"
   },
   {
    "duration": 481,
    "start_time": "2022-03-10T18:19:29.841Z"
   },
   {
    "duration": 7,
    "start_time": "2022-03-10T18:19:30.325Z"
   },
   {
    "duration": 492,
    "start_time": "2022-03-10T18:19:30.334Z"
   },
   {
    "duration": 268,
    "start_time": "2022-03-10T18:19:30.829Z"
   },
   {
    "duration": 15,
    "start_time": "2022-03-10T18:19:31.099Z"
   },
   {
    "duration": 40,
    "start_time": "2022-03-10T18:19:31.117Z"
   },
   {
    "duration": 22,
    "start_time": "2022-03-10T18:19:31.161Z"
   },
   {
    "duration": 24,
    "start_time": "2022-03-10T18:19:31.186Z"
   },
   {
    "duration": 9,
    "start_time": "2022-03-10T18:20:27.144Z"
   },
   {
    "duration": 10,
    "start_time": "2022-03-10T18:20:54.015Z"
   },
   {
    "duration": 175,
    "start_time": "2022-03-10T19:02:04.876Z"
   },
   {
    "duration": 356,
    "start_time": "2022-03-10T19:03:18.741Z"
   },
   {
    "duration": 22,
    "start_time": "2022-03-10T19:03:50.741Z"
   },
   {
    "duration": 22,
    "start_time": "2022-03-10T19:04:21.445Z"
   },
   {
    "duration": 23,
    "start_time": "2022-03-10T19:04:31.277Z"
   },
   {
    "duration": 21,
    "start_time": "2022-03-10T19:07:04.124Z"
   },
   {
    "duration": 21,
    "start_time": "2022-03-10T19:07:36.118Z"
   },
   {
    "duration": 23,
    "start_time": "2022-03-10T19:14:16.081Z"
   },
   {
    "duration": 480,
    "start_time": "2022-03-11T12:29:32.980Z"
   },
   {
    "duration": 1517,
    "start_time": "2022-03-11T12:36:11.982Z"
   },
   {
    "duration": 81,
    "start_time": "2022-03-11T12:36:13.502Z"
   },
   {
    "duration": 16,
    "start_time": "2022-03-11T12:36:13.586Z"
   },
   {
    "duration": 12,
    "start_time": "2022-03-11T12:36:13.605Z"
   },
   {
    "duration": 7,
    "start_time": "2022-03-11T12:36:13.619Z"
   },
   {
    "duration": 19,
    "start_time": "2022-03-11T12:36:13.628Z"
   },
   {
    "duration": 15,
    "start_time": "2022-03-11T12:36:13.650Z"
   },
   {
    "duration": 18,
    "start_time": "2022-03-11T12:36:13.669Z"
   },
   {
    "duration": 10,
    "start_time": "2022-03-11T12:36:13.689Z"
   },
   {
    "duration": 27,
    "start_time": "2022-03-11T12:36:13.733Z"
   },
   {
    "duration": 13,
    "start_time": "2022-03-11T12:36:13.762Z"
   },
   {
    "duration": 15,
    "start_time": "2022-03-11T12:36:13.777Z"
   },
   {
    "duration": 46,
    "start_time": "2022-03-11T12:36:13.794Z"
   },
   {
    "duration": 13,
    "start_time": "2022-03-11T12:36:13.843Z"
   },
   {
    "duration": 16,
    "start_time": "2022-03-11T12:36:13.858Z"
   },
   {
    "duration": 16,
    "start_time": "2022-03-11T12:36:13.877Z"
   },
   {
    "duration": 23,
    "start_time": "2022-03-11T12:36:13.895Z"
   },
   {
    "duration": 14,
    "start_time": "2022-03-11T12:36:13.920Z"
   },
   {
    "duration": 18,
    "start_time": "2022-03-11T12:36:13.936Z"
   },
   {
    "duration": 610,
    "start_time": "2022-03-11T12:36:13.956Z"
   },
   {
    "duration": 393,
    "start_time": "2022-03-11T12:36:14.568Z"
   },
   {
    "duration": 391,
    "start_time": "2022-03-11T12:36:14.963Z"
   },
   {
    "duration": 463,
    "start_time": "2022-03-11T12:36:15.361Z"
   },
   {
    "duration": 422,
    "start_time": "2022-03-11T12:36:15.831Z"
   },
   {
    "duration": 499,
    "start_time": "2022-03-11T12:36:16.256Z"
   },
   {
    "duration": 13,
    "start_time": "2022-03-11T12:36:16.758Z"
   },
   {
    "duration": 212,
    "start_time": "2022-03-11T12:36:16.774Z"
   },
   {
    "duration": 429,
    "start_time": "2022-03-11T12:36:16.988Z"
   },
   {
    "duration": 505,
    "start_time": "2022-03-11T12:36:17.419Z"
   },
   {
    "duration": 12,
    "start_time": "2022-03-11T12:36:17.926Z"
   },
   {
    "duration": 21,
    "start_time": "2022-03-11T12:36:17.940Z"
   },
   {
    "duration": 416,
    "start_time": "2022-03-11T12:36:17.963Z"
   },
   {
    "duration": 434,
    "start_time": "2022-03-11T12:36:18.382Z"
   },
   {
    "duration": 16,
    "start_time": "2022-03-11T12:36:18.818Z"
   },
   {
    "duration": 489,
    "start_time": "2022-03-11T12:36:18.836Z"
   },
   {
    "duration": 244,
    "start_time": "2022-03-11T12:36:19.327Z"
   },
   {
    "duration": 14,
    "start_time": "2022-03-11T12:36:19.574Z"
   },
   {
    "duration": 43,
    "start_time": "2022-03-11T12:36:19.590Z"
   },
   {
    "duration": 11,
    "start_time": "2022-03-11T12:36:19.636Z"
   },
   {
    "duration": 11,
    "start_time": "2022-03-11T12:36:19.650Z"
   },
   {
    "duration": 22,
    "start_time": "2022-03-11T12:36:19.664Z"
   },
   {
    "duration": 365,
    "start_time": "2022-03-11T12:37:47.445Z"
   },
   {
    "duration": 389,
    "start_time": "2022-03-11T12:38:10.249Z"
   },
   {
    "duration": 528,
    "start_time": "2022-03-11T12:38:45.430Z"
   },
   {
    "duration": 556,
    "start_time": "2022-03-11T12:39:59.331Z"
   },
   {
    "duration": 533,
    "start_time": "2022-03-11T12:40:05.593Z"
   },
   {
    "duration": 1225,
    "start_time": "2022-03-11T19:17:06.426Z"
   },
   {
    "duration": 75,
    "start_time": "2022-03-11T19:17:07.654Z"
   },
   {
    "duration": 15,
    "start_time": "2022-03-11T19:17:07.732Z"
   },
   {
    "duration": 25,
    "start_time": "2022-03-11T19:17:07.750Z"
   },
   {
    "duration": 10,
    "start_time": "2022-03-11T19:17:07.777Z"
   },
   {
    "duration": 18,
    "start_time": "2022-03-11T19:17:07.788Z"
   },
   {
    "duration": 23,
    "start_time": "2022-03-11T19:17:07.809Z"
   },
   {
    "duration": 27,
    "start_time": "2022-03-11T19:17:07.836Z"
   },
   {
    "duration": 8,
    "start_time": "2022-03-11T19:17:07.866Z"
   },
   {
    "duration": 20,
    "start_time": "2022-03-11T19:17:07.877Z"
   },
   {
    "duration": 12,
    "start_time": "2022-03-11T19:17:07.899Z"
   },
   {
    "duration": 9,
    "start_time": "2022-03-11T19:17:07.913Z"
   },
   {
    "duration": 9,
    "start_time": "2022-03-11T19:17:07.924Z"
   },
   {
    "duration": 10,
    "start_time": "2022-03-11T19:17:07.935Z"
   },
   {
    "duration": 34,
    "start_time": "2022-03-11T19:17:07.947Z"
   },
   {
    "duration": 3,
    "start_time": "2022-03-11T19:17:07.983Z"
   },
   {
    "duration": 12,
    "start_time": "2022-03-11T19:17:07.989Z"
   },
   {
    "duration": 2,
    "start_time": "2022-03-11T19:17:08.003Z"
   },
   {
    "duration": 12,
    "start_time": "2022-03-11T19:17:08.007Z"
   },
   {
    "duration": 446,
    "start_time": "2022-03-11T19:17:08.022Z"
   },
   {
    "duration": 292,
    "start_time": "2022-03-11T19:17:08.477Z"
   },
   {
    "duration": 285,
    "start_time": "2022-03-11T19:17:08.770Z"
   },
   {
    "duration": 404,
    "start_time": "2022-03-11T19:17:09.061Z"
   },
   {
    "duration": 311,
    "start_time": "2022-03-11T19:17:09.468Z"
   },
   {
    "duration": 403,
    "start_time": "2022-03-11T19:17:09.781Z"
   },
   {
    "duration": 10,
    "start_time": "2022-03-11T19:17:10.186Z"
   },
   {
    "duration": 133,
    "start_time": "2022-03-11T19:17:10.198Z"
   },
   {
    "duration": 319,
    "start_time": "2022-03-11T19:17:10.334Z"
   },
   {
    "duration": 394,
    "start_time": "2022-03-11T19:17:10.654Z"
   },
   {
    "duration": 5,
    "start_time": "2022-03-11T19:17:11.050Z"
   },
   {
    "duration": 20,
    "start_time": "2022-03-11T19:17:11.057Z"
   },
   {
    "duration": 369,
    "start_time": "2022-03-11T19:17:11.079Z"
   },
   {
    "duration": 382,
    "start_time": "2022-03-11T19:17:11.450Z"
   },
   {
    "duration": 6,
    "start_time": "2022-03-11T19:17:11.833Z"
   },
   {
    "duration": 309,
    "start_time": "2022-03-11T19:17:11.840Z"
   },
   {
    "duration": 154,
    "start_time": "2022-03-11T19:17:12.150Z"
   },
   {
    "duration": 10,
    "start_time": "2022-03-11T19:17:12.306Z"
   },
   {
    "duration": 10,
    "start_time": "2022-03-11T19:17:12.317Z"
   },
   {
    "duration": 11,
    "start_time": "2022-03-11T19:17:12.329Z"
   },
   {
    "duration": 35,
    "start_time": "2022-03-11T19:17:12.342Z"
   },
   {
    "duration": 16,
    "start_time": "2022-03-11T19:17:12.379Z"
   },
   {
    "duration": 93,
    "start_time": "2022-03-11T19:34:19.520Z"
   },
   {
    "duration": 370,
    "start_time": "2022-03-11T19:34:33.796Z"
   },
   {
    "duration": 11,
    "start_time": "2022-03-11T19:36:26.801Z"
   },
   {
    "duration": 4,
    "start_time": "2022-03-11T19:36:33.570Z"
   },
   {
    "duration": 61,
    "start_time": "2022-03-11T19:36:33.579Z"
   },
   {
    "duration": 8,
    "start_time": "2022-03-11T19:36:33.642Z"
   },
   {
    "duration": 17,
    "start_time": "2022-03-11T19:36:33.652Z"
   },
   {
    "duration": 14,
    "start_time": "2022-03-11T19:36:33.672Z"
   },
   {
    "duration": 18,
    "start_time": "2022-03-11T19:36:33.688Z"
   },
   {
    "duration": 14,
    "start_time": "2022-03-11T19:36:33.708Z"
   },
   {
    "duration": 17,
    "start_time": "2022-03-11T19:36:33.723Z"
   },
   {
    "duration": 13,
    "start_time": "2022-03-11T19:36:33.742Z"
   },
   {
    "duration": 33,
    "start_time": "2022-03-11T19:36:33.757Z"
   },
   {
    "duration": 9,
    "start_time": "2022-03-11T19:36:33.792Z"
   },
   {
    "duration": 14,
    "start_time": "2022-03-11T19:36:33.803Z"
   },
   {
    "duration": 12,
    "start_time": "2022-03-11T19:36:33.819Z"
   },
   {
    "duration": 14,
    "start_time": "2022-03-11T19:36:33.833Z"
   },
   {
    "duration": 30,
    "start_time": "2022-03-11T19:36:33.849Z"
   },
   {
    "duration": 4,
    "start_time": "2022-03-11T19:36:33.881Z"
   },
   {
    "duration": 11,
    "start_time": "2022-03-11T19:36:36.690Z"
   },
   {
    "duration": 10,
    "start_time": "2022-03-11T19:36:49.545Z"
   },
   {
    "duration": 5,
    "start_time": "2022-03-11T19:44:56.952Z"
   },
   {
    "duration": 4,
    "start_time": "2022-03-11T19:48:10.753Z"
   },
   {
    "duration": 377,
    "start_time": "2022-03-11T19:48:43.677Z"
   },
   {
    "duration": 6,
    "start_time": "2022-03-11T19:49:12.927Z"
   },
   {
    "duration": 6,
    "start_time": "2022-03-11T19:49:18.638Z"
   },
   {
    "duration": 5,
    "start_time": "2022-03-11T19:49:36.854Z"
   },
   {
    "duration": 1578,
    "start_time": "2022-03-13T08:54:57.172Z"
   },
   {
    "duration": 7,
    "start_time": "2022-03-13T08:54:59.860Z"
   },
   {
    "duration": 56,
    "start_time": "2022-03-13T08:54:59.871Z"
   },
   {
    "duration": 24,
    "start_time": "2022-03-13T08:54:59.932Z"
   },
   {
    "duration": 10,
    "start_time": "2022-03-13T08:54:59.960Z"
   },
   {
    "duration": 8,
    "start_time": "2022-03-13T08:54:59.974Z"
   },
   {
    "duration": 23,
    "start_time": "2022-03-13T08:54:59.985Z"
   },
   {
    "duration": 16,
    "start_time": "2022-03-13T08:55:00.010Z"
   },
   {
    "duration": 59,
    "start_time": "2022-03-13T08:55:00.030Z"
   },
   {
    "duration": 14,
    "start_time": "2022-03-13T08:55:00.092Z"
   },
   {
    "duration": 35,
    "start_time": "2022-03-13T08:55:00.109Z"
   },
   {
    "duration": 11,
    "start_time": "2022-03-13T08:55:00.173Z"
   },
   {
    "duration": 20,
    "start_time": "2022-03-13T08:55:00.186Z"
   },
   {
    "duration": 12,
    "start_time": "2022-03-13T08:55:00.208Z"
   },
   {
    "duration": 52,
    "start_time": "2022-03-13T08:55:00.222Z"
   },
   {
    "duration": 14,
    "start_time": "2022-03-13T08:55:00.276Z"
   },
   {
    "duration": 9,
    "start_time": "2022-03-13T08:55:00.293Z"
   },
   {
    "duration": 23,
    "start_time": "2022-03-13T08:55:00.306Z"
   },
   {
    "duration": 9,
    "start_time": "2022-03-13T08:55:00.332Z"
   },
   {
    "duration": 41,
    "start_time": "2022-03-13T08:55:00.344Z"
   },
   {
    "duration": 703,
    "start_time": "2022-03-13T08:55:00.388Z"
   },
   {
    "duration": 605,
    "start_time": "2022-03-13T08:55:01.095Z"
   },
   {
    "duration": 394,
    "start_time": "2022-03-13T08:55:01.702Z"
   },
   {
    "duration": 496,
    "start_time": "2022-03-13T08:55:02.103Z"
   },
   {
    "duration": 432,
    "start_time": "2022-03-13T08:55:02.602Z"
   },
   {
    "duration": 542,
    "start_time": "2022-03-13T08:55:03.038Z"
   },
   {
    "duration": 12,
    "start_time": "2022-03-13T08:55:03.582Z"
   },
   {
    "duration": 227,
    "start_time": "2022-03-13T08:55:03.597Z"
   },
   {
    "duration": 418,
    "start_time": "2022-03-13T08:55:03.826Z"
   },
   {
    "duration": 512,
    "start_time": "2022-03-13T08:55:04.247Z"
   },
   {
    "duration": 14,
    "start_time": "2022-03-13T08:55:04.761Z"
   },
   {
    "duration": 12,
    "start_time": "2022-03-13T08:55:04.777Z"
   },
   {
    "duration": 436,
    "start_time": "2022-03-13T08:55:04.792Z"
   },
   {
    "duration": 489,
    "start_time": "2022-03-13T08:55:05.230Z"
   },
   {
    "duration": 6,
    "start_time": "2022-03-13T08:55:05.721Z"
   },
   {
    "duration": 490,
    "start_time": "2022-03-13T08:55:05.729Z"
   },
   {
    "duration": 255,
    "start_time": "2022-03-13T08:55:06.222Z"
   },
   {
    "duration": 13,
    "start_time": "2022-03-13T08:55:06.480Z"
   },
   {
    "duration": 5,
    "start_time": "2022-03-13T08:55:06.495Z"
   },
   {
    "duration": 19,
    "start_time": "2022-03-13T08:55:06.503Z"
   },
   {
    "duration": 55,
    "start_time": "2022-03-13T08:55:06.525Z"
   },
   {
    "duration": 16,
    "start_time": "2022-03-13T08:55:06.583Z"
   },
   {
    "duration": 23,
    "start_time": "2022-03-13T08:55:06.601Z"
   },
   {
    "duration": 433,
    "start_time": "2022-03-13T08:58:21.032Z"
   },
   {
    "duration": 647,
    "start_time": "2022-03-13T08:58:46.718Z"
   },
   {
    "duration": 112,
    "start_time": "2022-03-13T09:08:23.489Z"
   },
   {
    "duration": 124,
    "start_time": "2022-03-13T09:08:41.896Z"
   },
   {
    "duration": 706,
    "start_time": "2022-03-13T09:08:47.482Z"
   },
   {
    "duration": 378,
    "start_time": "2022-03-13T09:10:08.367Z"
   },
   {
    "duration": 376,
    "start_time": "2022-03-13T09:16:09.300Z"
   },
   {
    "duration": 5,
    "start_time": "2022-03-13T09:46:46.816Z"
   },
   {
    "duration": 462,
    "start_time": "2022-03-13T17:12:11.429Z"
   },
   {
    "duration": 957,
    "start_time": "2022-03-13T17:12:21.743Z"
   },
   {
    "duration": 65,
    "start_time": "2022-03-13T17:12:22.702Z"
   },
   {
    "duration": 14,
    "start_time": "2022-03-13T17:12:22.769Z"
   },
   {
    "duration": 15,
    "start_time": "2022-03-13T17:12:22.789Z"
   },
   {
    "duration": 17,
    "start_time": "2022-03-13T17:12:22.807Z"
   },
   {
    "duration": 18,
    "start_time": "2022-03-13T17:12:22.826Z"
   },
   {
    "duration": 12,
    "start_time": "2022-03-13T17:12:22.846Z"
   },
   {
    "duration": 368,
    "start_time": "2022-03-13T17:12:22.861Z"
   },
   {
    "duration": 18,
    "start_time": "2022-03-13T17:12:23.231Z"
   },
   {
    "duration": 9,
    "start_time": "2022-03-13T17:12:23.251Z"
   },
   {
    "duration": 19,
    "start_time": "2022-03-13T17:12:23.261Z"
   },
   {
    "duration": 9,
    "start_time": "2022-03-13T17:12:23.282Z"
   },
   {
    "duration": 10,
    "start_time": "2022-03-13T17:12:23.293Z"
   },
   {
    "duration": 9,
    "start_time": "2022-03-13T17:12:23.305Z"
   },
   {
    "duration": 9,
    "start_time": "2022-03-13T17:12:23.338Z"
   },
   {
    "duration": 7,
    "start_time": "2022-03-13T17:12:23.348Z"
   },
   {
    "duration": 5,
    "start_time": "2022-03-13T17:12:23.357Z"
   },
   {
    "duration": 12,
    "start_time": "2022-03-13T17:12:23.364Z"
   },
   {
    "duration": 10,
    "start_time": "2022-03-13T17:12:23.378Z"
   },
   {
    "duration": 17,
    "start_time": "2022-03-13T17:12:23.390Z"
   },
   {
    "duration": 379,
    "start_time": "2022-03-13T17:12:23.408Z"
   },
   {
    "duration": 257,
    "start_time": "2022-03-13T17:12:23.789Z"
   },
   {
    "duration": 254,
    "start_time": "2022-03-13T17:12:24.049Z"
   },
   {
    "duration": 382,
    "start_time": "2022-03-13T17:12:24.305Z"
   },
   {
    "duration": 266,
    "start_time": "2022-03-13T17:12:24.689Z"
   },
   {
    "duration": 444,
    "start_time": "2022-03-13T17:12:24.956Z"
   },
   {
    "duration": 8,
    "start_time": "2022-03-13T17:12:25.402Z"
   },
   {
    "duration": 104,
    "start_time": "2022-03-13T17:12:25.412Z"
   },
   {
    "duration": 265,
    "start_time": "2022-03-13T17:12:25.517Z"
   },
   {
    "duration": 283,
    "start_time": "2022-03-13T17:12:25.784Z"
   },
   {
    "duration": 5,
    "start_time": "2022-03-13T17:12:26.068Z"
   },
   {
    "duration": 10,
    "start_time": "2022-03-13T17:12:26.075Z"
   },
   {
    "duration": 298,
    "start_time": "2022-03-13T17:12:26.087Z"
   },
   {
    "duration": 291,
    "start_time": "2022-03-13T17:12:26.387Z"
   },
   {
    "duration": 5,
    "start_time": "2022-03-13T17:12:26.680Z"
   },
   {
    "duration": 273,
    "start_time": "2022-03-13T17:12:26.686Z"
   },
   {
    "duration": 123,
    "start_time": "2022-03-13T17:12:26.961Z"
   },
   {
    "duration": 10,
    "start_time": "2022-03-13T17:12:27.085Z"
   },
   {
    "duration": 10,
    "start_time": "2022-03-13T17:12:27.097Z"
   },
   {
    "duration": 32,
    "start_time": "2022-03-13T17:12:27.108Z"
   },
   {
    "duration": 9,
    "start_time": "2022-03-13T17:12:27.142Z"
   },
   {
    "duration": 6,
    "start_time": "2022-03-13T17:12:27.153Z"
   },
   {
    "duration": 15,
    "start_time": "2022-03-13T17:12:27.161Z"
   },
   {
    "duration": 11,
    "start_time": "2022-03-13T17:13:21.781Z"
   },
   {
    "duration": 12,
    "start_time": "2022-03-13T17:59:09.653Z"
   },
   {
    "duration": 50,
    "start_time": "2022-03-13T17:59:46.758Z"
   },
   {
    "duration": 14,
    "start_time": "2022-03-13T18:03:57.961Z"
   },
   {
    "duration": 7,
    "start_time": "2022-03-13T18:04:30.722Z"
   },
   {
    "duration": 4,
    "start_time": "2022-03-13T18:34:57.217Z"
   },
   {
    "duration": 40,
    "start_time": "2022-03-13T18:34:57.222Z"
   },
   {
    "duration": 9,
    "start_time": "2022-03-13T18:34:57.264Z"
   },
   {
    "duration": 9,
    "start_time": "2022-03-13T18:34:57.275Z"
   },
   {
    "duration": 5,
    "start_time": "2022-03-13T18:34:57.286Z"
   },
   {
    "duration": 12,
    "start_time": "2022-03-13T18:34:57.293Z"
   },
   {
    "duration": 15,
    "start_time": "2022-03-13T18:34:57.306Z"
   },
   {
    "duration": 373,
    "start_time": "2022-03-13T18:34:57.323Z"
   },
   {
    "duration": 12,
    "start_time": "2022-03-13T18:34:57.698Z"
   },
   {
    "duration": 7,
    "start_time": "2022-03-13T18:34:57.712Z"
   },
   {
    "duration": 28,
    "start_time": "2022-03-13T18:34:57.721Z"
   },
   {
    "duration": 15,
    "start_time": "2022-03-13T18:34:57.750Z"
   },
   {
    "duration": 12,
    "start_time": "2022-03-13T18:34:57.767Z"
   },
   {
    "duration": 9,
    "start_time": "2022-03-13T18:34:57.781Z"
   },
   {
    "duration": 11,
    "start_time": "2022-03-13T18:34:57.792Z"
   },
   {
    "duration": 14,
    "start_time": "2022-03-13T18:34:57.804Z"
   },
   {
    "duration": 3,
    "start_time": "2022-03-13T18:34:57.820Z"
   },
   {
    "duration": 17,
    "start_time": "2022-03-13T18:34:57.825Z"
   },
   {
    "duration": 2,
    "start_time": "2022-03-13T18:34:57.843Z"
   },
   {
    "duration": 10,
    "start_time": "2022-03-13T18:34:57.847Z"
   },
   {
    "duration": 355,
    "start_time": "2022-03-13T18:34:57.858Z"
   },
   {
    "duration": 241,
    "start_time": "2022-03-13T18:34:58.215Z"
   },
   {
    "duration": 237,
    "start_time": "2022-03-13T18:34:58.458Z"
   },
   {
    "duration": 384,
    "start_time": "2022-03-13T18:34:58.697Z"
   },
   {
    "duration": 252,
    "start_time": "2022-03-13T18:34:59.082Z"
   },
   {
    "duration": 368,
    "start_time": "2022-03-13T18:34:59.337Z"
   },
   {
    "duration": 9,
    "start_time": "2022-03-13T18:34:59.706Z"
   },
   {
    "duration": 98,
    "start_time": "2022-03-13T18:34:59.716Z"
   },
   {
    "duration": 350,
    "start_time": "2022-03-13T18:34:59.817Z"
   },
   {
    "duration": 298,
    "start_time": "2022-03-13T18:35:00.169Z"
   },
   {
    "duration": 5,
    "start_time": "2022-03-13T18:35:00.469Z"
   },
   {
    "duration": 15,
    "start_time": "2022-03-13T18:35:00.476Z"
   },
   {
    "duration": 308,
    "start_time": "2022-03-13T18:35:00.493Z"
   },
   {
    "duration": 312,
    "start_time": "2022-03-13T18:35:00.803Z"
   },
   {
    "duration": 24,
    "start_time": "2022-03-13T18:35:01.117Z"
   },
   {
    "duration": 286,
    "start_time": "2022-03-13T18:35:01.144Z"
   },
   {
    "duration": 128,
    "start_time": "2022-03-13T18:35:01.438Z"
   },
   {
    "duration": 9,
    "start_time": "2022-03-13T18:35:01.568Z"
   },
   {
    "duration": 27,
    "start_time": "2022-03-13T18:35:01.579Z"
   },
   {
    "duration": 26,
    "start_time": "2022-03-13T18:35:01.608Z"
   },
   {
    "duration": 13,
    "start_time": "2022-03-13T18:35:01.637Z"
   },
   {
    "duration": 16,
    "start_time": "2022-03-13T18:35:01.652Z"
   },
   {
    "duration": 31,
    "start_time": "2022-03-13T18:35:01.670Z"
   },
   {
    "duration": 1146,
    "start_time": "2022-03-14T15:26:47.512Z"
   },
   {
    "duration": 44,
    "start_time": "2022-03-14T15:26:48.660Z"
   },
   {
    "duration": 13,
    "start_time": "2022-03-14T15:26:48.707Z"
   },
   {
    "duration": 9,
    "start_time": "2022-03-14T15:26:48.722Z"
   },
   {
    "duration": 16,
    "start_time": "2022-03-14T15:26:48.733Z"
   },
   {
    "duration": 18,
    "start_time": "2022-03-14T15:26:48.751Z"
   },
   {
    "duration": 12,
    "start_time": "2022-03-14T15:26:48.771Z"
   },
   {
    "duration": 337,
    "start_time": "2022-03-14T15:26:48.786Z"
   },
   {
    "duration": 16,
    "start_time": "2022-03-14T15:26:49.125Z"
   },
   {
    "duration": 9,
    "start_time": "2022-03-14T15:26:49.142Z"
   },
   {
    "duration": 20,
    "start_time": "2022-03-14T15:26:49.152Z"
   },
   {
    "duration": 7,
    "start_time": "2022-03-14T15:26:49.174Z"
   },
   {
    "duration": 9,
    "start_time": "2022-03-14T15:26:49.182Z"
   },
   {
    "duration": 7,
    "start_time": "2022-03-14T15:26:49.193Z"
   },
   {
    "duration": 7,
    "start_time": "2022-03-14T15:26:49.202Z"
   },
   {
    "duration": 6,
    "start_time": "2022-03-14T15:26:49.232Z"
   },
   {
    "duration": 3,
    "start_time": "2022-03-14T15:26:49.240Z"
   },
   {
    "duration": 10,
    "start_time": "2022-03-14T15:26:49.245Z"
   },
   {
    "duration": 3,
    "start_time": "2022-03-14T15:26:49.257Z"
   },
   {
    "duration": 10,
    "start_time": "2022-03-14T15:26:49.261Z"
   },
   {
    "duration": 360,
    "start_time": "2022-03-14T15:26:49.273Z"
   },
   {
    "duration": 228,
    "start_time": "2022-03-14T15:26:49.635Z"
   },
   {
    "duration": 227,
    "start_time": "2022-03-14T15:26:49.866Z"
   },
   {
    "duration": 345,
    "start_time": "2022-03-14T15:26:50.095Z"
   },
   {
    "duration": 240,
    "start_time": "2022-03-14T15:26:50.441Z"
   },
   {
    "duration": 432,
    "start_time": "2022-03-14T15:26:50.683Z"
   },
   {
    "duration": 8,
    "start_time": "2022-03-14T15:26:51.116Z"
   },
   {
    "duration": 121,
    "start_time": "2022-03-14T15:26:51.133Z"
   },
   {
    "duration": 233,
    "start_time": "2022-03-14T15:26:51.256Z"
   },
   {
    "duration": 261,
    "start_time": "2022-03-14T15:26:51.490Z"
   },
   {
    "duration": 5,
    "start_time": "2022-03-14T15:26:51.753Z"
   },
   {
    "duration": 10,
    "start_time": "2022-03-14T15:26:51.760Z"
   },
   {
    "duration": 294,
    "start_time": "2022-03-14T15:26:51.772Z"
   },
   {
    "duration": 303,
    "start_time": "2022-03-14T15:26:52.067Z"
   },
   {
    "duration": 4,
    "start_time": "2022-03-14T15:26:52.371Z"
   },
   {
    "duration": 274,
    "start_time": "2022-03-14T15:26:52.377Z"
   },
   {
    "duration": 125,
    "start_time": "2022-03-14T15:26:52.652Z"
   },
   {
    "duration": 11,
    "start_time": "2022-03-14T15:26:52.779Z"
   },
   {
    "duration": 9,
    "start_time": "2022-03-14T15:26:52.791Z"
   },
   {
    "duration": 38,
    "start_time": "2022-03-14T15:26:52.802Z"
   },
   {
    "duration": 7,
    "start_time": "2022-03-14T15:26:52.842Z"
   },
   {
    "duration": 7,
    "start_time": "2022-03-14T15:26:52.851Z"
   },
   {
    "duration": 14,
    "start_time": "2022-03-14T15:26:52.859Z"
   },
   {
    "duration": 61,
    "start_time": "2022-03-14T15:42:32.202Z"
   },
   {
    "duration": 56,
    "start_time": "2022-03-14T15:48:57.459Z"
   },
   {
    "duration": 51,
    "start_time": "2022-07-20T09:56:58.827Z"
   },
   {
    "duration": 1501,
    "start_time": "2022-07-20T09:57:10.187Z"
   },
   {
    "duration": 174,
    "start_time": "2022-07-20T09:57:11.690Z"
   },
   {
    "duration": 17,
    "start_time": "2022-07-20T09:57:11.866Z"
   },
   {
    "duration": 20,
    "start_time": "2022-07-20T09:57:11.886Z"
   },
   {
    "duration": 12,
    "start_time": "2022-07-20T09:57:11.909Z"
   },
   {
    "duration": 25,
    "start_time": "2022-07-20T09:57:11.923Z"
   },
   {
    "duration": 15,
    "start_time": "2022-07-20T09:57:11.950Z"
   },
   {
    "duration": 240,
    "start_time": "2022-07-20T09:57:11.967Z"
   },
   {
    "duration": 13,
    "start_time": "2022-07-20T09:57:12.209Z"
   },
   {
    "duration": 12,
    "start_time": "2022-07-20T09:57:12.225Z"
   },
   {
    "duration": 25,
    "start_time": "2022-07-20T09:57:12.239Z"
   },
   {
    "duration": 12,
    "start_time": "2022-07-20T09:57:12.266Z"
   },
   {
    "duration": 37,
    "start_time": "2022-07-20T09:57:12.279Z"
   },
   {
    "duration": 12,
    "start_time": "2022-07-20T09:57:12.318Z"
   },
   {
    "duration": 25,
    "start_time": "2022-07-20T09:57:12.332Z"
   },
   {
    "duration": 10,
    "start_time": "2022-07-20T09:57:12.359Z"
   },
   {
    "duration": 9,
    "start_time": "2022-07-20T09:57:12.371Z"
   },
   {
    "duration": 31,
    "start_time": "2022-07-20T09:57:12.382Z"
   },
   {
    "duration": 3,
    "start_time": "2022-07-20T09:57:12.415Z"
   },
   {
    "duration": 19,
    "start_time": "2022-07-20T09:57:12.420Z"
   },
   {
    "duration": 350,
    "start_time": "2022-07-20T09:57:12.441Z"
   },
   {
    "duration": 315,
    "start_time": "2022-07-20T09:57:12.792Z"
   },
   {
    "duration": 258,
    "start_time": "2022-07-20T09:57:13.110Z"
   },
   {
    "duration": 403,
    "start_time": "2022-07-20T09:57:13.371Z"
   },
   {
    "duration": 234,
    "start_time": "2022-07-20T09:57:13.776Z"
   },
   {
    "duration": 343,
    "start_time": "2022-07-20T09:57:14.013Z"
   },
   {
    "duration": 9,
    "start_time": "2022-07-20T09:57:14.358Z"
   },
   {
    "duration": 159,
    "start_time": "2022-07-20T09:57:14.370Z"
   },
   {
    "duration": 182,
    "start_time": "2022-07-20T09:57:14.531Z"
   },
   {
    "duration": 170,
    "start_time": "2022-07-20T09:57:14.715Z"
   },
   {
    "duration": 5,
    "start_time": "2022-07-20T09:57:14.887Z"
   },
   {
    "duration": 23,
    "start_time": "2022-07-20T09:57:14.893Z"
   },
   {
    "duration": 241,
    "start_time": "2022-07-20T09:57:14.918Z"
   },
   {
    "duration": 172,
    "start_time": "2022-07-20T09:57:15.161Z"
   },
   {
    "duration": 5,
    "start_time": "2022-07-20T09:57:15.335Z"
   },
   {
    "duration": 264,
    "start_time": "2022-07-20T09:57:15.342Z"
   },
   {
    "duration": 168,
    "start_time": "2022-07-20T09:57:15.610Z"
   },
   {
    "duration": 11,
    "start_time": "2022-07-20T09:57:15.780Z"
   },
   {
    "duration": 27,
    "start_time": "2022-07-20T09:57:15.794Z"
   },
   {
    "duration": 18,
    "start_time": "2022-07-20T09:57:15.823Z"
   },
   {
    "duration": 7,
    "start_time": "2022-07-20T09:57:15.843Z"
   },
   {
    "duration": 25,
    "start_time": "2022-07-20T09:57:15.851Z"
   },
   {
    "duration": 42,
    "start_time": "2022-07-20T09:57:15.877Z"
   },
   {
    "duration": 118,
    "start_time": "2022-07-20T09:58:07.266Z"
   },
   {
    "duration": 11,
    "start_time": "2022-07-20T09:58:26.174Z"
   },
   {
    "duration": 12,
    "start_time": "2022-07-20T09:58:58.209Z"
   },
   {
    "duration": 12,
    "start_time": "2022-07-20T09:59:05.695Z"
   },
   {
    "duration": 16,
    "start_time": "2022-07-20T10:15:33.166Z"
   },
   {
    "duration": 1251,
    "start_time": "2022-07-20T10:15:42.526Z"
   },
   {
    "duration": 69,
    "start_time": "2022-07-20T10:15:43.779Z"
   },
   {
    "duration": 16,
    "start_time": "2022-07-20T10:15:43.849Z"
   },
   {
    "duration": 13,
    "start_time": "2022-07-20T10:15:43.868Z"
   },
   {
    "duration": 3,
    "start_time": "2022-07-20T10:15:43.883Z"
   },
   {
    "duration": 16,
    "start_time": "2022-07-20T10:15:43.887Z"
   },
   {
    "duration": 12,
    "start_time": "2022-07-20T10:15:43.906Z"
   },
   {
    "duration": 230,
    "start_time": "2022-07-20T10:15:43.920Z"
   },
   {
    "duration": 14,
    "start_time": "2022-07-20T10:15:44.152Z"
   },
   {
    "duration": 18,
    "start_time": "2022-07-20T10:15:44.170Z"
   },
   {
    "duration": 33,
    "start_time": "2022-07-20T10:15:44.211Z"
   },
   {
    "duration": 11,
    "start_time": "2022-07-20T10:15:44.246Z"
   },
   {
    "duration": 15,
    "start_time": "2022-07-20T10:15:44.259Z"
   },
   {
    "duration": 35,
    "start_time": "2022-07-20T10:15:44.276Z"
   },
   {
    "duration": 15,
    "start_time": "2022-07-20T10:15:44.313Z"
   },
   {
    "duration": 10,
    "start_time": "2022-07-20T10:15:44.330Z"
   },
   {
    "duration": 7,
    "start_time": "2022-07-20T10:15:44.342Z"
   },
   {
    "duration": 16,
    "start_time": "2022-07-20T10:15:44.351Z"
   },
   {
    "duration": 3,
    "start_time": "2022-07-20T10:15:44.370Z"
   },
   {
    "duration": 39,
    "start_time": "2022-07-20T10:15:44.375Z"
   },
   {
    "duration": 338,
    "start_time": "2022-07-20T10:15:44.416Z"
   },
   {
    "duration": 306,
    "start_time": "2022-07-20T10:15:44.756Z"
   },
   {
    "duration": 326,
    "start_time": "2022-07-20T10:15:45.064Z"
   },
   {
    "duration": 358,
    "start_time": "2022-07-20T10:15:45.391Z"
   },
   {
    "duration": 229,
    "start_time": "2022-07-20T10:15:45.751Z"
   },
   {
    "duration": 384,
    "start_time": "2022-07-20T10:15:45.982Z"
   },
   {
    "duration": 10,
    "start_time": "2022-07-20T10:15:46.368Z"
   },
   {
    "duration": 204,
    "start_time": "2022-07-20T10:15:46.383Z"
   },
   {
    "duration": 217,
    "start_time": "2022-07-20T10:15:46.589Z"
   },
   {
    "duration": 161,
    "start_time": "2022-07-20T10:15:46.808Z"
   },
   {
    "duration": 7,
    "start_time": "2022-07-20T10:15:46.971Z"
   },
   {
    "duration": 8,
    "start_time": "2022-07-20T10:15:46.980Z"
   },
   {
    "duration": 254,
    "start_time": "2022-07-20T10:15:46.990Z"
   },
   {
    "duration": 164,
    "start_time": "2022-07-20T10:15:47.246Z"
   },
   {
    "duration": 6,
    "start_time": "2022-07-20T10:15:47.412Z"
   },
   {
    "duration": 260,
    "start_time": "2022-07-20T10:15:47.420Z"
   },
   {
    "duration": 202,
    "start_time": "2022-07-20T10:15:47.682Z"
   },
   {
    "duration": 13,
    "start_time": "2022-07-20T10:15:47.886Z"
   },
   {
    "duration": 13,
    "start_time": "2022-07-20T10:15:47.911Z"
   },
   {
    "duration": 12,
    "start_time": "2022-07-20T10:15:47.926Z"
   },
   {
    "duration": 10,
    "start_time": "2022-07-20T10:15:47.940Z"
   },
   {
    "duration": 78,
    "start_time": "2022-07-20T10:15:47.953Z"
   },
   {
    "duration": 17,
    "start_time": "2022-07-20T10:15:48.033Z"
   }
  ],
  "kernelspec": {
   "display_name": "Python 3 (ipykernel)",
   "language": "python",
   "name": "python3"
  },
  "language_info": {
   "codemirror_mode": {
    "name": "ipython",
    "version": 3
   },
   "file_extension": ".py",
   "mimetype": "text/x-python",
   "name": "python",
   "nbconvert_exporter": "python",
   "pygments_lexer": "ipython3",
   "version": "3.9.5"
  },
  "toc": {
   "base_numbering": 1,
   "nav_menu": {},
   "number_sections": true,
   "sideBar": true,
   "skip_h1_title": true,
   "title_cell": "Table of Contents",
   "title_sidebar": "Contents",
   "toc_cell": false,
   "toc_position": {
    "height": "calc(100% - 180px)",
    "left": "10px",
    "top": "150px",
    "width": "512.859px"
   },
   "toc_section_display": true,
   "toc_window_display": true
  }
 },
 "nbformat": 4,
 "nbformat_minor": 2
}
