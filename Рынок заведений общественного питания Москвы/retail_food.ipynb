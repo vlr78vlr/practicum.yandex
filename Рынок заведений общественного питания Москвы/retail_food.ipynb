{
 "cells": [
  {
   "cell_type": "markdown",
   "metadata": {},
   "source": [
    "<h1>Рынок заведений общественного питания Москвы</h1>"
   ]
  },
  {
   "cell_type": "markdown",
   "metadata": {},
   "source": [
    "# Описание проекта"
   ]
  },
  {
   "cell_type": "markdown",
   "metadata": {},
   "source": [
    "Вы решили открыть небольшое кафе в Москве. Оно оригинальное — гостей должны обслуживать роботы. Проект многообещающий, но дорогой. Вместе с партнёрами вы решились обратиться к инвесторам. Их интересует текущее положение дел на рынке — сможете ли вы снискать популярность на долгое время, когда все зеваки насмотрятся на роботов-официантов?\n",
    "Вы — гуру аналитики, и партнёры просят вас подготовить исследование рынка. У вас есть открытые данные о заведениях общественного питания в Москве.\n"
   ]
  },
  {
   "cell_type": "markdown",
   "metadata": {},
   "source": [
    "Описание данных\n",
    "\n",
    "Таблица rest_data:\n",
    "    \n",
    "- id — идентификатор объекта;\n",
    "- object_name — название объекта общественного питания;\n",
    "- chain — сетевой ресторан;\n",
    "- object_type — тип объекта общественного питания;\n",
    "- address — адрес;\n",
    "- number — количество посадочных мест."
   ]
  },
  {
   "cell_type": "markdown",
   "metadata": {},
   "source": [
    "## Загрузим данные и подготовим их к анализу"
   ]
  },
  {
   "cell_type": "code",
   "execution_count": 126,
   "metadata": {},
   "outputs": [],
   "source": [
    "import pandas as pd\n",
    "import matplotlib.pyplot as plt\n",
    "from plotly import graph_objects as go\n",
    "import plotly.express as px\n",
    "import seaborn as sns\n",
    "from io import BytesIO\n",
    "import requests\n",
    "import warnings\n",
    "warnings.simplefilter(action='ignore', category=FutureWarning)"
   ]
  },
  {
   "cell_type": "code",
   "execution_count": 127,
   "metadata": {},
   "outputs": [],
   "source": [
    "data = pd.read_csv('/datasets/rest_data.csv')"
   ]
  },
  {
   "cell_type": "code",
   "execution_count": 128,
   "metadata": {},
   "outputs": [
    {
     "data": {
      "text/html": [
       "<div>\n",
       "<style scoped>\n",
       "    .dataframe tbody tr th:only-of-type {\n",
       "        vertical-align: middle;\n",
       "    }\n",
       "\n",
       "    .dataframe tbody tr th {\n",
       "        vertical-align: top;\n",
       "    }\n",
       "\n",
       "    .dataframe thead th {\n",
       "        text-align: right;\n",
       "    }\n",
       "</style>\n",
       "<table border=\"1\" class=\"dataframe\">\n",
       "  <thead>\n",
       "    <tr style=\"text-align: right;\">\n",
       "      <th></th>\n",
       "      <th>id</th>\n",
       "      <th>object_name</th>\n",
       "      <th>chain</th>\n",
       "      <th>object_type</th>\n",
       "      <th>address</th>\n",
       "      <th>number</th>\n",
       "    </tr>\n",
       "  </thead>\n",
       "  <tbody>\n",
       "    <tr>\n",
       "      <th>0</th>\n",
       "      <td>151635</td>\n",
       "      <td>СМЕТАНА</td>\n",
       "      <td>нет</td>\n",
       "      <td>кафе</td>\n",
       "      <td>город Москва, улица Егора Абакумова, дом 9</td>\n",
       "      <td>48</td>\n",
       "    </tr>\n",
       "    <tr>\n",
       "      <th>1</th>\n",
       "      <td>77874</td>\n",
       "      <td>Родник</td>\n",
       "      <td>нет</td>\n",
       "      <td>кафе</td>\n",
       "      <td>город Москва, улица Талалихина, дом 2/1, корпус 1</td>\n",
       "      <td>35</td>\n",
       "    </tr>\n",
       "    <tr>\n",
       "      <th>2</th>\n",
       "      <td>24309</td>\n",
       "      <td>Кафе «Академия»</td>\n",
       "      <td>нет</td>\n",
       "      <td>кафе</td>\n",
       "      <td>город Москва, Абельмановская улица, дом 6</td>\n",
       "      <td>95</td>\n",
       "    </tr>\n",
       "    <tr>\n",
       "      <th>3</th>\n",
       "      <td>21894</td>\n",
       "      <td>ПИЦЦЕТОРИЯ</td>\n",
       "      <td>да</td>\n",
       "      <td>кафе</td>\n",
       "      <td>город Москва, Абрамцевская улица, дом 1</td>\n",
       "      <td>40</td>\n",
       "    </tr>\n",
       "    <tr>\n",
       "      <th>4</th>\n",
       "      <td>119365</td>\n",
       "      <td>Кафе «Вишневая метель»</td>\n",
       "      <td>нет</td>\n",
       "      <td>кафе</td>\n",
       "      <td>город Москва, Абрамцевская улица, дом 9, корпус 1</td>\n",
       "      <td>50</td>\n",
       "    </tr>\n",
       "  </tbody>\n",
       "</table>\n",
       "</div>"
      ],
      "text/plain": [
       "       id             object_name chain object_type  \\\n",
       "0  151635                 СМЕТАНА   нет        кафе   \n",
       "1   77874                  Родник   нет        кафе   \n",
       "2   24309         Кафе «Академия»   нет        кафе   \n",
       "3   21894              ПИЦЦЕТОРИЯ    да        кафе   \n",
       "4  119365  Кафе «Вишневая метель»   нет        кафе   \n",
       "\n",
       "                                             address  number  \n",
       "0         город Москва, улица Егора Абакумова, дом 9      48  \n",
       "1  город Москва, улица Талалихина, дом 2/1, корпус 1      35  \n",
       "2          город Москва, Абельмановская улица, дом 6      95  \n",
       "3            город Москва, Абрамцевская улица, дом 1      40  \n",
       "4  город Москва, Абрамцевская улица, дом 9, корпус 1      50  "
      ]
     },
     "execution_count": 128,
     "metadata": {},
     "output_type": "execute_result"
    }
   ],
   "source": [
    "data.head()"
   ]
  },
  {
   "cell_type": "code",
   "execution_count": 129,
   "metadata": {},
   "outputs": [
    {
     "name": "stdout",
     "output_type": "stream",
     "text": [
      "<class 'pandas.core.frame.DataFrame'>\n",
      "RangeIndex: 15366 entries, 0 to 15365\n",
      "Data columns (total 6 columns):\n",
      " #   Column       Non-Null Count  Dtype \n",
      "---  ------       --------------  ----- \n",
      " 0   id           15366 non-null  int64 \n",
      " 1   object_name  15366 non-null  object\n",
      " 2   chain        15366 non-null  object\n",
      " 3   object_type  15366 non-null  object\n",
      " 4   address      15366 non-null  object\n",
      " 5   number       15366 non-null  int64 \n",
      "dtypes: int64(2), object(4)\n",
      "memory usage: 720.4+ KB\n"
     ]
    }
   ],
   "source": [
    "data.info()"
   ]
  },
  {
   "cell_type": "code",
   "execution_count": 130,
   "metadata": {},
   "outputs": [
    {
     "data": {
      "text/plain": [
       "0"
      ]
     },
     "execution_count": 130,
     "metadata": {},
     "output_type": "execute_result"
    }
   ],
   "source": [
    "data.duplicated().sum()"
   ]
  },
  {
   "cell_type": "markdown",
   "metadata": {},
   "source": [
    "**Вывод** \n",
    "\n",
    "В датафрейме 15366 строк и 6 столбцов. Данные чистые, пропущенных значений нет, дубликатов нет, даже название столбцов в змеином стиле. Можно продолжать работу."
   ]
  },
  {
   "cell_type": "code",
   "execution_count": 131,
   "metadata": {},
   "outputs": [
    {
     "data": {
      "text/html": [
       "<div>\n",
       "<style scoped>\n",
       "    .dataframe tbody tr th:only-of-type {\n",
       "        vertical-align: middle;\n",
       "    }\n",
       "\n",
       "    .dataframe tbody tr th {\n",
       "        vertical-align: top;\n",
       "    }\n",
       "\n",
       "    .dataframe thead th {\n",
       "        text-align: right;\n",
       "    }\n",
       "</style>\n",
       "<table border=\"1\" class=\"dataframe\">\n",
       "  <thead>\n",
       "    <tr style=\"text-align: right;\">\n",
       "      <th></th>\n",
       "      <th>id</th>\n",
       "      <th>object_name</th>\n",
       "      <th>chain</th>\n",
       "      <th>object_type</th>\n",
       "      <th>address</th>\n",
       "      <th>number</th>\n",
       "    </tr>\n",
       "  </thead>\n",
       "  <tbody>\n",
       "    <tr>\n",
       "      <th>0</th>\n",
       "      <td>151635</td>\n",
       "      <td>сметана</td>\n",
       "      <td>нет</td>\n",
       "      <td>кафе</td>\n",
       "      <td>город москва, улица егора абакумова, дом 9</td>\n",
       "      <td>48</td>\n",
       "    </tr>\n",
       "    <tr>\n",
       "      <th>1</th>\n",
       "      <td>77874</td>\n",
       "      <td>родник</td>\n",
       "      <td>нет</td>\n",
       "      <td>кафе</td>\n",
       "      <td>город москва, улица талалихина, дом 2/1, корпус 1</td>\n",
       "      <td>35</td>\n",
       "    </tr>\n",
       "    <tr>\n",
       "      <th>2</th>\n",
       "      <td>24309</td>\n",
       "      <td>кафе «академия»</td>\n",
       "      <td>нет</td>\n",
       "      <td>кафе</td>\n",
       "      <td>город москва, абельмановская улица, дом 6</td>\n",
       "      <td>95</td>\n",
       "    </tr>\n",
       "    <tr>\n",
       "      <th>3</th>\n",
       "      <td>21894</td>\n",
       "      <td>пиццетория</td>\n",
       "      <td>да</td>\n",
       "      <td>кафе</td>\n",
       "      <td>город москва, абрамцевская улица, дом 1</td>\n",
       "      <td>40</td>\n",
       "    </tr>\n",
       "    <tr>\n",
       "      <th>4</th>\n",
       "      <td>119365</td>\n",
       "      <td>кафе «вишневая метель»</td>\n",
       "      <td>нет</td>\n",
       "      <td>кафе</td>\n",
       "      <td>город москва, абрамцевская улица, дом 9, корпус 1</td>\n",
       "      <td>50</td>\n",
       "    </tr>\n",
       "    <tr>\n",
       "      <th>...</th>\n",
       "      <td>...</td>\n",
       "      <td>...</td>\n",
       "      <td>...</td>\n",
       "      <td>...</td>\n",
       "      <td>...</td>\n",
       "      <td>...</td>\n",
       "    </tr>\n",
       "    <tr>\n",
       "      <th>15361</th>\n",
       "      <td>208537</td>\n",
       "      <td>шоколадница</td>\n",
       "      <td>да</td>\n",
       "      <td>кафе</td>\n",
       "      <td>город москва, 3-й крутицкий переулок, дом 18</td>\n",
       "      <td>50</td>\n",
       "    </tr>\n",
       "    <tr>\n",
       "      <th>15362</th>\n",
       "      <td>209264</td>\n",
       "      <td>шоколадница</td>\n",
       "      <td>да</td>\n",
       "      <td>кафе</td>\n",
       "      <td>город москва, улица земляной вал, дом 33</td>\n",
       "      <td>10</td>\n",
       "    </tr>\n",
       "    <tr>\n",
       "      <th>15363</th>\n",
       "      <td>209186</td>\n",
       "      <td>шоколадница</td>\n",
       "      <td>да</td>\n",
       "      <td>кафе</td>\n",
       "      <td>город москва, улица земляной вал, дом 33</td>\n",
       "      <td>20</td>\n",
       "    </tr>\n",
       "    <tr>\n",
       "      <th>15364</th>\n",
       "      <td>221900</td>\n",
       "      <td>шоколадница</td>\n",
       "      <td>да</td>\n",
       "      <td>кафе</td>\n",
       "      <td>город москва, поселение московский, киевское ш...</td>\n",
       "      <td>36</td>\n",
       "    </tr>\n",
       "    <tr>\n",
       "      <th>15365</th>\n",
       "      <td>222535</td>\n",
       "      <td>шоколадница</td>\n",
       "      <td>да</td>\n",
       "      <td>кафе</td>\n",
       "      <td>город москва, ходынский бульвар, дом 4</td>\n",
       "      <td>10</td>\n",
       "    </tr>\n",
       "  </tbody>\n",
       "</table>\n",
       "<p>15366 rows × 6 columns</p>\n",
       "</div>"
      ],
      "text/plain": [
       "           id             object_name chain object_type  \\\n",
       "0      151635                 сметана   нет        кафе   \n",
       "1       77874                  родник   нет        кафе   \n",
       "2       24309         кафе «академия»   нет        кафе   \n",
       "3       21894              пиццетория    да        кафе   \n",
       "4      119365  кафе «вишневая метель»   нет        кафе   \n",
       "...       ...                     ...   ...         ...   \n",
       "15361  208537             шоколадница    да        кафе   \n",
       "15362  209264             шоколадница    да        кафе   \n",
       "15363  209186             шоколадница    да        кафе   \n",
       "15364  221900             шоколадница    да        кафе   \n",
       "15365  222535             шоколадница    да        кафе   \n",
       "\n",
       "                                                 address  number  \n",
       "0             город москва, улица егора абакумова, дом 9      48  \n",
       "1      город москва, улица талалихина, дом 2/1, корпус 1      35  \n",
       "2              город москва, абельмановская улица, дом 6      95  \n",
       "3                город москва, абрамцевская улица, дом 1      40  \n",
       "4      город москва, абрамцевская улица, дом 9, корпус 1      50  \n",
       "...                                                  ...     ...  \n",
       "15361       город москва, 3-й крутицкий переулок, дом 18      50  \n",
       "15362           город москва, улица земляной вал, дом 33      10  \n",
       "15363           город москва, улица земляной вал, дом 33      20  \n",
       "15364  город москва, поселение московский, киевское ш...      36  \n",
       "15365             город москва, ходынский бульвар, дом 4      10  \n",
       "\n",
       "[15366 rows x 6 columns]"
      ]
     },
     "metadata": {},
     "output_type": "display_data"
    }
   ],
   "source": [
    "data['object_name']=data['object_name'].str.strip().str.lower()\n",
    "data['address']=data['address'].str.strip().str.lower()\n",
    "data['chain']=data['chain'].str.strip().str.lower()\n",
    "display(data)"
   ]
  },
  {
   "cell_type": "code",
   "execution_count": 132,
   "metadata": {},
   "outputs": [
    {
     "data": {
      "text/plain": [
       "count    15366.000000\n",
       "mean        59.547182\n",
       "std         74.736833\n",
       "min          0.000000\n",
       "25%         12.000000\n",
       "50%         40.000000\n",
       "75%         80.000000\n",
       "max       1700.000000\n",
       "Name: number, dtype: float64"
      ]
     },
     "execution_count": 132,
     "metadata": {},
     "output_type": "execute_result"
    }
   ],
   "source": [
    "data['number'].describe()\n"
   ]
  },
  {
   "cell_type": "code",
   "execution_count": 133,
   "metadata": {},
   "outputs": [
    {
     "data": {
      "text/plain": [
       "0      1621\n",
       "40      835\n",
       "20      727\n",
       "30      685\n",
       "10      644\n",
       "       ... \n",
       "172       1\n",
       "520       1\n",
       "680       1\n",
       "760       1\n",
       "495       1\n",
       "Name: number, Length: 315, dtype: int64"
      ]
     },
     "execution_count": 133,
     "metadata": {},
     "output_type": "execute_result"
    }
   ],
   "source": [
    "data['number'].value_counts()"
   ]
  },
  {
   "cell_type": "markdown",
   "metadata": {},
   "source": [
    "## Анализ данных\n"
   ]
  },
  {
   "cell_type": "markdown",
   "metadata": {},
   "source": [
    "### Исследуйте соотношение видов объектов общественного питания по количеству. Постройте график."
   ]
  },
  {
   "cell_type": "markdown",
   "metadata": {},
   "source": [
    "Построим гисторграмму, где каждому типу общественного питания(в датафрейме это столбец object_type) будет указано кол-во заведений такого типа в г. Москва."
   ]
  },
  {
   "cell_type": "code",
   "execution_count": 134,
   "metadata": {},
   "outputs": [],
   "source": [
    "data['object_type'] = data['object_type'].str.strip().str.lower()\n",
    "data['object_type'] = data['object_type'].str.replace('предприятие быстрого обслуживания', 'фастфуд')\n",
    "\n",
    "# заменяем длинное название портящее вид диаграммы\n"
   ]
  },
  {
   "cell_type": "code",
   "execution_count": 135,
   "metadata": {},
   "outputs": [
    {
     "data": {
      "image/png": "[encoded data removed]",
      "text/plain": [
       "<Figure size 1080x504 with 1 Axes>"
      ]
     },
     "metadata": {
      "needs_background": "light"
     },
     "output_type": "display_data"
    }
   ],
   "source": [
    "data1 = data.groupby('object_type').count().reset_index()\n",
    "plt.figure(figsize=(15, 7))\n",
    "ax=sns.barplot(x='object_type', y='number', data = data1.sort_values('number', ascending=False))\n",
    "ax.set_title('Объекты общественного питания в Москве')\n",
    "ax.set_xlabel('Тип объекта')\n",
    "ax.set_ylabel('Количество объектов')\n",
    "plt.xticks(rotation = -45)\n",
    "\n",
    "plt.show()\n",
    "\n"
   ]
  },
  {
   "cell_type": "markdown",
   "metadata": {},
   "source": [
    "**Вывод**\n",
    "\n",
    "Больше всего мы видим среди объектов общественного  питания - **Кафе**. Далее по убывния количества: **столовые**,**рестораны**, **фастфуд(пердпиятия быстрого обслуживания)** и.т.д.(см. график)"
   ]
  },
  {
   "cell_type": "markdown",
   "metadata": {},
   "source": [
    "### Исследуем соотношение сетевых и несетевых заведений по количеству. Постройте график."
   ]
  },
  {
   "cell_type": "markdown",
   "metadata": {},
   "source": [
    "Для наглядности переименуем значения в столбце chain и построим круговой график, чтобы были видны доли сетевое/несетевое заведение."
   ]
  },
  {
   "cell_type": "code",
   "execution_count": 136,
   "metadata": {},
   "outputs": [
    {
     "data": {
      "text/html": [
       "<div>\n",
       "<style scoped>\n",
       "    .dataframe tbody tr th:only-of-type {\n",
       "        vertical-align: middle;\n",
       "    }\n",
       "\n",
       "    .dataframe tbody tr th {\n",
       "        vertical-align: top;\n",
       "    }\n",
       "\n",
       "    .dataframe thead th {\n",
       "        text-align: right;\n",
       "    }\n",
       "</style>\n",
       "<table border=\"1\" class=\"dataframe\">\n",
       "  <thead>\n",
       "    <tr style=\"text-align: right;\">\n",
       "      <th></th>\n",
       "      <th>id</th>\n",
       "      <th>object_name</th>\n",
       "      <th>chain</th>\n",
       "      <th>object_type</th>\n",
       "      <th>address</th>\n",
       "      <th>number</th>\n",
       "    </tr>\n",
       "  </thead>\n",
       "  <tbody>\n",
       "    <tr>\n",
       "      <th>0</th>\n",
       "      <td>151635</td>\n",
       "      <td>сметана</td>\n",
       "      <td>несетевой</td>\n",
       "      <td>кафе</td>\n",
       "      <td>город москва, улица егора абакумова, дом 9</td>\n",
       "      <td>48</td>\n",
       "    </tr>\n",
       "    <tr>\n",
       "      <th>1</th>\n",
       "      <td>77874</td>\n",
       "      <td>родник</td>\n",
       "      <td>несетевой</td>\n",
       "      <td>кафе</td>\n",
       "      <td>город москва, улица талалихина, дом 2/1, корпус 1</td>\n",
       "      <td>35</td>\n",
       "    </tr>\n",
       "    <tr>\n",
       "      <th>2</th>\n",
       "      <td>24309</td>\n",
       "      <td>кафе «академия»</td>\n",
       "      <td>несетевой</td>\n",
       "      <td>кафе</td>\n",
       "      <td>город москва, абельмановская улица, дом 6</td>\n",
       "      <td>95</td>\n",
       "    </tr>\n",
       "    <tr>\n",
       "      <th>3</th>\n",
       "      <td>21894</td>\n",
       "      <td>пиццетория</td>\n",
       "      <td>сетевой</td>\n",
       "      <td>кафе</td>\n",
       "      <td>город москва, абрамцевская улица, дом 1</td>\n",
       "      <td>40</td>\n",
       "    </tr>\n",
       "    <tr>\n",
       "      <th>4</th>\n",
       "      <td>119365</td>\n",
       "      <td>кафе «вишневая метель»</td>\n",
       "      <td>несетевой</td>\n",
       "      <td>кафе</td>\n",
       "      <td>город москва, абрамцевская улица, дом 9, корпус 1</td>\n",
       "      <td>50</td>\n",
       "    </tr>\n",
       "  </tbody>\n",
       "</table>\n",
       "</div>"
      ],
      "text/plain": [
       "       id             object_name      chain object_type  \\\n",
       "0  151635                 сметана  несетевой        кафе   \n",
       "1   77874                  родник  несетевой        кафе   \n",
       "2   24309         кафе «академия»  несетевой        кафе   \n",
       "3   21894              пиццетория    сетевой        кафе   \n",
       "4  119365  кафе «вишневая метель»  несетевой        кафе   \n",
       "\n",
       "                                             address  number  \n",
       "0         город москва, улица егора абакумова, дом 9      48  \n",
       "1  город москва, улица талалихина, дом 2/1, корпус 1      35  \n",
       "2          город москва, абельмановская улица, дом 6      95  \n",
       "3            город москва, абрамцевская улица, дом 1      40  \n",
       "4  город москва, абрамцевская улица, дом 9, корпус 1      50  "
      ]
     },
     "execution_count": 136,
     "metadata": {},
     "output_type": "execute_result"
    }
   ],
   "source": [
    "data['chain'] = data['chain'].map({'нет':'несетевой','да':'сетевой'})\n",
    "data.head()"
   ]
  },
  {
   "cell_type": "code",
   "execution_count": 137,
   "metadata": {},
   "outputs": [
    {
     "data": {
      "text/plain": [
       "несетевой    12398\n",
       "сетевой       2968\n",
       "Name: chain, dtype: int64"
      ]
     },
     "execution_count": 137,
     "metadata": {},
     "output_type": "execute_result"
    }
   ],
   "source": [
    "data['chain'].value_counts()"
   ]
  },
  {
   "cell_type": "code",
   "execution_count": 1,
   "metadata": {},
   "outputs": [
    {
     "ename": "NameError",
     "evalue": "name 'go' is not defined",
     "output_type": "error",
     "traceback": [
      "\u001b[0;31m---------------------------------------------------------------------------\u001b[0m",
      "\u001b[0;31mNameError\u001b[0m                                 Traceback (most recent call last)",
      "\u001b[0;32m/tmp/ipykernel_32/1893834502.py\u001b[0m in \u001b[0;36m<module>\u001b[0;34m\u001b[0m\n\u001b[0;32m----> 1\u001b[0;31m \u001b[0mfig\u001b[0m \u001b[0;34m=\u001b[0m \u001b[0mgo\u001b[0m\u001b[0;34m.\u001b[0m\u001b[0mFigure\u001b[0m\u001b[0;34m(\u001b[0m\u001b[0mdata\u001b[0m\u001b[0;34m=\u001b[0m\u001b[0mgo\u001b[0m\u001b[0;34m.\u001b[0m\u001b[0mPie\u001b[0m\u001b[0;34m(\u001b[0m\u001b[0mlabels\u001b[0m\u001b[0;34m=\u001b[0m\u001b[0mdata\u001b[0m\u001b[0;34m[\u001b[0m\u001b[0;34m'chain'\u001b[0m\u001b[0;34m]\u001b[0m\u001b[0;34m.\u001b[0m\u001b[0mvalue_counts\u001b[0m\u001b[0;34m(\u001b[0m\u001b[0;34m)\u001b[0m\u001b[0;34m,\u001b[0m \u001b[0mvalues\u001b[0m\u001b[0;34m=\u001b[0m\u001b[0mdata\u001b[0m\u001b[0;34m[\u001b[0m\u001b[0;34m'chain'\u001b[0m\u001b[0;34m]\u001b[0m\u001b[0;34m.\u001b[0m\u001b[0mvalue_counts\u001b[0m\u001b[0;34m(\u001b[0m\u001b[0;34m)\u001b[0m\u001b[0;34m,\u001b[0m\u001b[0mpull\u001b[0m\u001b[0;34m=\u001b[0m\u001b[0;34m[\u001b[0m\u001b[0;36m0\u001b[0m\u001b[0;34m,\u001b[0m \u001b[0;36m0.1\u001b[0m\u001b[0;34m]\u001b[0m\u001b[0;34m)\u001b[0m\u001b[0;34m)\u001b[0m\u001b[0;34m\u001b[0m\u001b[0;34m\u001b[0m\u001b[0m\n\u001b[0m\u001b[1;32m      2\u001b[0m \u001b[0mfig\u001b[0m\u001b[0;34m.\u001b[0m\u001b[0mupdate_layout\u001b[0m\u001b[0;34m(\u001b[0m\u001b[0mtitle\u001b[0m\u001b[0;34m=\u001b[0m\u001b[0;34m\"Cоотношение сетевых и несетевых заведений по количеству\"\u001b[0m\u001b[0;34m)\u001b[0m\u001b[0;34m\u001b[0m\u001b[0;34m\u001b[0m\u001b[0m\n\u001b[1;32m      3\u001b[0m \u001b[0;32mfor\u001b[0m \u001b[0mname\u001b[0m \u001b[0;32min\u001b[0m \u001b[0mfig\u001b[0m\u001b[0;34m.\u001b[0m\u001b[0mdata\u001b[0m\u001b[0;34m:\u001b[0m\u001b[0;34m\u001b[0m\u001b[0;34m\u001b[0m\u001b[0m\n\u001b[1;32m      4\u001b[0m     \u001b[0mname\u001b[0m\u001b[0;34m[\u001b[0m\u001b[0;34m'labels'\u001b[0m\u001b[0;34m]\u001b[0m\u001b[0;34m=\u001b[0m\u001b[0;34m[\u001b[0m\u001b[0;34m'Несетевые'\u001b[0m\u001b[0;34m,\u001b[0m \u001b[0;34m'Сетевые'\u001b[0m\u001b[0;34m]\u001b[0m\u001b[0;34m\u001b[0m\u001b[0;34m\u001b[0m\u001b[0m\n\u001b[1;32m      5\u001b[0m \u001b[0mfig\u001b[0m\u001b[0;34m.\u001b[0m\u001b[0mshow\u001b[0m\u001b[0;34m(\u001b[0m\u001b[0;34m)\u001b[0m\u001b[0;34m\u001b[0m\u001b[0;34m\u001b[0m\u001b[0m\n",
      "\u001b[0;31mNameError\u001b[0m: name 'go' is not defined"
     ]
    }
   ],
   "source": [
    "fig = go.Figure(data=go.Pie(labels=data['chain'].value_counts(), values=data['chain'].value_counts(),pull=[0, 0.1]))\n",
    "fig.update_layout(title=\"Cоотношение сетевых и несетевых заведений по количеству\")\n",
    "for name in fig.data:\n",
    "    name['labels']=['Несетевые', 'Сетевые']\n",
    "fig.show()    \n"
   ]
  },
  {
   "cell_type": "markdown",
   "metadata": {},
   "source": [
    "**Вывод**: Несетевых объектов общественного питания ~ 81%, в то время как сетевых объектов 19%. Т.е сетевых заведений в 4 раза меньше."
   ]
  },
  {
   "cell_type": "markdown",
   "metadata": {},
   "source": [
    "### Определим для какого вида объекта общественного питания характерно сетевое распространение."
   ]
  },
  {
   "cell_type": "markdown",
   "metadata": {},
   "source": [
    "Создадим сводную таблицу таблицу."
   ]
  },
  {
   "cell_type": "code",
   "execution_count": 139,
   "metadata": {},
   "outputs": [
    {
     "data": {
      "text/html": [
       "<div>\n",
       "<style scoped>\n",
       "    .dataframe tbody tr th:only-of-type {\n",
       "        vertical-align: middle;\n",
       "    }\n",
       "\n",
       "    .dataframe tbody tr th {\n",
       "        vertical-align: top;\n",
       "    }\n",
       "\n",
       "    .dataframe thead th {\n",
       "        text-align: right;\n",
       "    }\n",
       "</style>\n",
       "<table border=\"1\" class=\"dataframe\">\n",
       "  <thead>\n",
       "    <tr style=\"text-align: right;\">\n",
       "      <th>chain</th>\n",
       "      <th>object_type</th>\n",
       "      <th>несетевой</th>\n",
       "      <th>сетевой</th>\n",
       "      <th>ratio_set%</th>\n",
       "    </tr>\n",
       "  </thead>\n",
       "  <tbody>\n",
       "    <tr>\n",
       "      <th>0</th>\n",
       "      <td>бар</td>\n",
       "      <td>819</td>\n",
       "      <td>37</td>\n",
       "      <td>4.32</td>\n",
       "    </tr>\n",
       "    <tr>\n",
       "      <th>1</th>\n",
       "      <td>буфет</td>\n",
       "      <td>574</td>\n",
       "      <td>11</td>\n",
       "      <td>1.88</td>\n",
       "    </tr>\n",
       "    <tr>\n",
       "      <th>2</th>\n",
       "      <td>закусочная</td>\n",
       "      <td>304</td>\n",
       "      <td>56</td>\n",
       "      <td>15.56</td>\n",
       "    </tr>\n",
       "    <tr>\n",
       "      <th>3</th>\n",
       "      <td>кафе</td>\n",
       "      <td>4703</td>\n",
       "      <td>1396</td>\n",
       "      <td>22.89</td>\n",
       "    </tr>\n",
       "    <tr>\n",
       "      <th>4</th>\n",
       "      <td>кафетерий</td>\n",
       "      <td>346</td>\n",
       "      <td>52</td>\n",
       "      <td>13.07</td>\n",
       "    </tr>\n",
       "    <tr>\n",
       "      <th>5</th>\n",
       "      <td>магазин (отдел кулинарии)</td>\n",
       "      <td>195</td>\n",
       "      <td>78</td>\n",
       "      <td>28.57</td>\n",
       "    </tr>\n",
       "    <tr>\n",
       "      <th>6</th>\n",
       "      <td>ресторан</td>\n",
       "      <td>1741</td>\n",
       "      <td>544</td>\n",
       "      <td>23.81</td>\n",
       "    </tr>\n",
       "    <tr>\n",
       "      <th>7</th>\n",
       "      <td>столовая</td>\n",
       "      <td>2584</td>\n",
       "      <td>3</td>\n",
       "      <td>0.12</td>\n",
       "    </tr>\n",
       "    <tr>\n",
       "      <th>8</th>\n",
       "      <td>фастфуд</td>\n",
       "      <td>1132</td>\n",
       "      <td>791</td>\n",
       "      <td>41.13</td>\n",
       "    </tr>\n",
       "  </tbody>\n",
       "</table>\n",
       "</div>"
      ],
      "text/plain": [
       "chain                object_type  несетевой  сетевой  ratio_set%\n",
       "0                            бар        819       37        4.32\n",
       "1                          буфет        574       11        1.88\n",
       "2                     закусочная        304       56       15.56\n",
       "3                           кафе       4703     1396       22.89\n",
       "4                      кафетерий        346       52       13.07\n",
       "5      магазин (отдел кулинарии)        195       78       28.57\n",
       "6                       ресторан       1741      544       23.81\n",
       "7                       столовая       2584        3        0.12\n",
       "8                        фастфуд       1132      791       41.13"
      ]
     },
     "metadata": {},
     "output_type": "display_data"
    }
   ],
   "source": [
    "data_set = data.pivot_table(index='object_type', values='id', columns='chain', aggfunc='count').reset_index()\n",
    "data_set['ratio_set%'] = ((data_set['сетевой'] / (data_set['сетевой'] + data_set['несетевой'])) * 100).round(2)\n",
    "display(data_set)"
   ]
  },
  {
   "cell_type": "code",
   "execution_count": 140,
   "metadata": {},
   "outputs": [],
   "source": [
    "#display(data_set.columns)"
   ]
  },
  {
   "cell_type": "code",
   "execution_count": 141,
   "metadata": {},
   "outputs": [
    {
     "data": {
      "image/png": "[encoded data removed]",
      "text/plain": [
       "<Figure size 1080x360 with 1 Axes>"
      ]
     },
     "metadata": {
      "needs_background": "light"
     },
     "output_type": "display_data"
    }
   ],
   "source": [
    "plt.figure(figsize=(15, 5))\n",
    "\n",
    "ax=sns.barplot(x='object_type', y='ratio_set%', data = data_set.sort_values('ratio_set%', ascending=False))\n",
    "ax.set_title('Доля сетевых объектов общественного питания для каждого типа')\n",
    "ax.set_xlabel('Тип объекта')\n",
    "ax.set_ylabel('Доля объектов %')\n",
    "plt.xticks(rotation = -45)\n",
    "plt.show()"
   ]
  },
  {
   "cell_type": "markdown",
   "metadata": {},
   "source": [
    "**Вывод**\n",
    "\n",
    "Сетевые объекты как правило это фастфуд, магазин кулинарии, а так же рестораны, на четвёртом месте кафе. А вот столовые, буфеты и бары как мы видим, это как правило несетевые заведения."
   ]
  },
  {
   "cell_type": "markdown",
   "metadata": {},
   "source": [
    "### Рассмотрим для каждого вида объекта общественного питания  среднее количество посадочных мест. Уточним какой вид предоставляет в среднем самое большое количество посадочных мест.\n"
   ]
  },
  {
   "cell_type": "code",
   "execution_count": 142,
   "metadata": {},
   "outputs": [
    {
     "data": {
      "text/html": [
       "<div>\n",
       "<style scoped>\n",
       "    .dataframe tbody tr th:only-of-type {\n",
       "        vertical-align: middle;\n",
       "    }\n",
       "\n",
       "    .dataframe tbody tr th {\n",
       "        vertical-align: top;\n",
       "    }\n",
       "\n",
       "    .dataframe thead th {\n",
       "        text-align: right;\n",
       "    }\n",
       "</style>\n",
       "<table border=\"1\" class=\"dataframe\">\n",
       "  <thead>\n",
       "    <tr style=\"text-align: right;\">\n",
       "      <th></th>\n",
       "      <th>count</th>\n",
       "      <th>mean</th>\n",
       "      <th>std</th>\n",
       "      <th>min</th>\n",
       "      <th>25%</th>\n",
       "      <th>50%</th>\n",
       "      <th>75%</th>\n",
       "      <th>max</th>\n",
       "    </tr>\n",
       "    <tr>\n",
       "      <th>object_type</th>\n",
       "      <th></th>\n",
       "      <th></th>\n",
       "      <th></th>\n",
       "      <th></th>\n",
       "      <th></th>\n",
       "      <th></th>\n",
       "      <th></th>\n",
       "      <th></th>\n",
       "    </tr>\n",
       "  </thead>\n",
       "  <tbody>\n",
       "    <tr>\n",
       "      <th>магазин (отдел кулинарии)</th>\n",
       "      <td>273.0</td>\n",
       "      <td>5.589744</td>\n",
       "      <td>9.872729</td>\n",
       "      <td>0.0</td>\n",
       "      <td>0.0</td>\n",
       "      <td>0.0</td>\n",
       "      <td>8.0</td>\n",
       "      <td>50.0</td>\n",
       "    </tr>\n",
       "    <tr>\n",
       "      <th>закусочная</th>\n",
       "      <td>360.0</td>\n",
       "      <td>7.608333</td>\n",
       "      <td>16.650912</td>\n",
       "      <td>0.0</td>\n",
       "      <td>0.0</td>\n",
       "      <td>0.0</td>\n",
       "      <td>10.0</td>\n",
       "      <td>216.0</td>\n",
       "    </tr>\n",
       "    <tr>\n",
       "      <th>кафетерий</th>\n",
       "      <td>398.0</td>\n",
       "      <td>9.123116</td>\n",
       "      <td>14.639150</td>\n",
       "      <td>0.0</td>\n",
       "      <td>0.0</td>\n",
       "      <td>6.0</td>\n",
       "      <td>12.0</td>\n",
       "      <td>200.0</td>\n",
       "    </tr>\n",
       "    <tr>\n",
       "      <th>фастфуд</th>\n",
       "      <td>1923.0</td>\n",
       "      <td>20.552262</td>\n",
       "      <td>38.366974</td>\n",
       "      <td>0.0</td>\n",
       "      <td>0.0</td>\n",
       "      <td>5.0</td>\n",
       "      <td>25.0</td>\n",
       "      <td>580.0</td>\n",
       "    </tr>\n",
       "    <tr>\n",
       "      <th>кафе</th>\n",
       "      <td>6099.0</td>\n",
       "      <td>39.716019</td>\n",
       "      <td>37.720947</td>\n",
       "      <td>0.0</td>\n",
       "      <td>15.0</td>\n",
       "      <td>30.0</td>\n",
       "      <td>50.0</td>\n",
       "      <td>533.0</td>\n",
       "    </tr>\n",
       "    <tr>\n",
       "      <th>бар</th>\n",
       "      <td>856.0</td>\n",
       "      <td>43.494159</td>\n",
       "      <td>67.082876</td>\n",
       "      <td>0.0</td>\n",
       "      <td>20.0</td>\n",
       "      <td>35.0</td>\n",
       "      <td>50.0</td>\n",
       "      <td>1700.0</td>\n",
       "    </tr>\n",
       "    <tr>\n",
       "      <th>буфет</th>\n",
       "      <td>585.0</td>\n",
       "      <td>51.129915</td>\n",
       "      <td>56.331974</td>\n",
       "      <td>0.0</td>\n",
       "      <td>14.0</td>\n",
       "      <td>32.0</td>\n",
       "      <td>80.0</td>\n",
       "      <td>320.0</td>\n",
       "    </tr>\n",
       "    <tr>\n",
       "      <th>ресторан</th>\n",
       "      <td>2285.0</td>\n",
       "      <td>96.834136</td>\n",
       "      <td>94.756542</td>\n",
       "      <td>0.0</td>\n",
       "      <td>46.0</td>\n",
       "      <td>80.0</td>\n",
       "      <td>114.0</td>\n",
       "      <td>1500.0</td>\n",
       "    </tr>\n",
       "    <tr>\n",
       "      <th>столовая</th>\n",
       "      <td>2587.0</td>\n",
       "      <td>130.246618</td>\n",
       "      <td>95.179313</td>\n",
       "      <td>0.0</td>\n",
       "      <td>50.0</td>\n",
       "      <td>103.0</td>\n",
       "      <td>200.0</td>\n",
       "      <td>1400.0</td>\n",
       "    </tr>\n",
       "  </tbody>\n",
       "</table>\n",
       "</div>"
      ],
      "text/plain": [
       "                            count        mean        std  min   25%    50%  \\\n",
       "object_type                                                                  \n",
       "магазин (отдел кулинарии)   273.0    5.589744   9.872729  0.0   0.0    0.0   \n",
       "закусочная                  360.0    7.608333  16.650912  0.0   0.0    0.0   \n",
       "кафетерий                   398.0    9.123116  14.639150  0.0   0.0    6.0   \n",
       "фастфуд                    1923.0   20.552262  38.366974  0.0   0.0    5.0   \n",
       "кафе                       6099.0   39.716019  37.720947  0.0  15.0   30.0   \n",
       "бар                         856.0   43.494159  67.082876  0.0  20.0   35.0   \n",
       "буфет                       585.0   51.129915  56.331974  0.0  14.0   32.0   \n",
       "ресторан                   2285.0   96.834136  94.756542  0.0  46.0   80.0   \n",
       "столовая                   2587.0  130.246618  95.179313  0.0  50.0  103.0   \n",
       "\n",
       "                             75%     max  \n",
       "object_type                               \n",
       "магазин (отдел кулинарии)    8.0    50.0  \n",
       "закусочная                  10.0   216.0  \n",
       "кафетерий                   12.0   200.0  \n",
       "фастфуд                     25.0   580.0  \n",
       "кафе                        50.0   533.0  \n",
       "бар                         50.0  1700.0  \n",
       "буфет                       80.0   320.0  \n",
       "ресторан                   114.0  1500.0  \n",
       "столовая                   200.0  1400.0  "
      ]
     },
     "execution_count": 142,
     "metadata": {},
     "output_type": "execute_result"
    }
   ],
   "source": [
    "data.groupby('object_type')['number'].describe().sort_values('mean')\n"
   ]
  },
  {
   "cell_type": "code",
   "execution_count": 143,
   "metadata": {},
   "outputs": [
    {
     "data": {
      "image/png": "[encoded data removed]",
      "text/plain": [
       "<Figure size 1080x720 with 1 Axes>"
      ]
     },
     "metadata": {
      "needs_background": "light"
     },
     "output_type": "display_data"
    }
   ],
   "source": [
    "plt.figure(figsize=(15, 10))\n",
    "\n",
    "data_mest_mean = data.groupby('object_type').agg({'number' : 'mean'}).sort_values(by = 'number', ascending = False).reset_index()\n",
    "ax = sns.barplot(x='object_type', y='number', data=data_mest_mean )\n",
    "ax.set_title('Среднее количество мест в объектах общественного питания в Москве')\n",
    "ax.set_xlabel('Тип объекта')\n",
    "ax.set_ylabel('Количество мест')\n",
    "plt.xticks(rotation = -45)\n",
    "plt.show()"
   ]
  },
  {
   "cell_type": "markdown",
   "metadata": {},
   "source": [
    "Для более точного анализа, предлагаю рассмотреть медианное значение, тогда выбросы(аномальное кол-во посадочных мест) небудут влиять и размывать картину"
   ]
  },
  {
   "cell_type": "code",
   "execution_count": 144,
   "metadata": {
    "scrolled": true
   },
   "outputs": [
    {
     "data": {
      "image/png": "[encoded data removed]",
      "text/plain": [
       "<Figure size 1080x360 with 1 Axes>"
      ]
     },
     "metadata": {
      "needs_background": "light"
     },
     "output_type": "display_data"
    }
   ],
   "source": [
    "plt.figure(figsize=(15, 5))\n",
    "\n",
    "ax=sns.boxplot(x='object_type', y='number', data= data.sort_values('number', ascending=False))\n",
    "ax.set_ylim(-10,250)\n",
    "ax.set_title('Медианное количество посадочных мест в объектах общественного питания в Москве')\n",
    "ax.set_xlabel('Тип объекта')\n",
    "ax.set_ylabel('Количество мест')\n",
    "plt.xticks(rotation = -35)\n",
    "\n",
    "plt.show()"
   ]
  },
  {
   "cell_type": "markdown",
   "metadata": {},
   "source": [
    "**Вывод**\n",
    "\n",
    "Из графика видим, что только в ресторанах и столовых медианное значение посадочных мест превышает 50. Мы видим, что для кафе это примерно 30 посадочных мест.\n"
   ]
  },
  {
   "cell_type": "code",
   "execution_count": 145,
   "metadata": {},
   "outputs": [
    {
     "data": {
      "image/png": "[encoded data removed]",
      "text/plain": [
       "<Figure size 720x504 with 1 Axes>"
      ]
     },
     "metadata": {
      "needs_background": "light"
     },
     "output_type": "display_data"
    }
   ],
   "source": [
    "set_chain = data.query('chain == \"сетевой\"') # Построим гистограмму распределение посадочных мест для сетвых заведений\n",
    "\n",
    "plt.figure(figsize=(10,7))\n",
    "sns.distplot(set_chain['number'])\n",
    "plt.title('Распределение количества посадочных мест у сетевых заведений')\n",
    "plt.xlabel(\"Количество посадочных мест\")\n",
    "plt.show()"
   ]
  },
  {
   "cell_type": "markdown",
   "metadata": {},
   "source": [
    "### Выделим в отдельный столбец информацию об улице из столбца address .\n"
   ]
  },
  {
   "cell_type": "code",
   "execution_count": 146,
   "metadata": {},
   "outputs": [],
   "source": [
    "data_street = data['address'].str.split(',', expand=True) # разобъем адресную строку на составляюшие "
   ]
  },
  {
   "cell_type": "code",
   "execution_count": 147,
   "metadata": {},
   "outputs": [
    {
     "data": {
      "text/html": [
       "<div>\n",
       "<style scoped>\n",
       "    .dataframe tbody tr th:only-of-type {\n",
       "        vertical-align: middle;\n",
       "    }\n",
       "\n",
       "    .dataframe tbody tr th {\n",
       "        vertical-align: top;\n",
       "    }\n",
       "\n",
       "    .dataframe thead th {\n",
       "        text-align: right;\n",
       "    }\n",
       "</style>\n",
       "<table border=\"1\" class=\"dataframe\">\n",
       "  <thead>\n",
       "    <tr style=\"text-align: right;\">\n",
       "      <th></th>\n",
       "      <th>city</th>\n",
       "      <th>street</th>\n",
       "      <th>2</th>\n",
       "      <th>nome</th>\n",
       "      <th>4</th>\n",
       "      <th>5</th>\n",
       "      <th>6</th>\n",
       "    </tr>\n",
       "  </thead>\n",
       "  <tbody>\n",
       "    <tr>\n",
       "      <th>0</th>\n",
       "      <td>город москва</td>\n",
       "      <td>улица егора абакумова</td>\n",
       "      <td>дом 9</td>\n",
       "      <td>None</td>\n",
       "      <td>None</td>\n",
       "      <td>None</td>\n",
       "      <td>None</td>\n",
       "    </tr>\n",
       "    <tr>\n",
       "      <th>1</th>\n",
       "      <td>город москва</td>\n",
       "      <td>улица талалихина</td>\n",
       "      <td>дом 2/1</td>\n",
       "      <td>корпус 1</td>\n",
       "      <td>None</td>\n",
       "      <td>None</td>\n",
       "      <td>None</td>\n",
       "    </tr>\n",
       "    <tr>\n",
       "      <th>2</th>\n",
       "      <td>город москва</td>\n",
       "      <td>абельмановская улица</td>\n",
       "      <td>дом 6</td>\n",
       "      <td>None</td>\n",
       "      <td>None</td>\n",
       "      <td>None</td>\n",
       "      <td>None</td>\n",
       "    </tr>\n",
       "    <tr>\n",
       "      <th>3</th>\n",
       "      <td>город москва</td>\n",
       "      <td>абрамцевская улица</td>\n",
       "      <td>дом 1</td>\n",
       "      <td>None</td>\n",
       "      <td>None</td>\n",
       "      <td>None</td>\n",
       "      <td>None</td>\n",
       "    </tr>\n",
       "    <tr>\n",
       "      <th>4</th>\n",
       "      <td>город москва</td>\n",
       "      <td>абрамцевская улица</td>\n",
       "      <td>дом 9</td>\n",
       "      <td>корпус 1</td>\n",
       "      <td>None</td>\n",
       "      <td>None</td>\n",
       "      <td>None</td>\n",
       "    </tr>\n",
       "    <tr>\n",
       "      <th>...</th>\n",
       "      <td>...</td>\n",
       "      <td>...</td>\n",
       "      <td>...</td>\n",
       "      <td>...</td>\n",
       "      <td>...</td>\n",
       "      <td>...</td>\n",
       "      <td>...</td>\n",
       "    </tr>\n",
       "    <tr>\n",
       "      <th>15361</th>\n",
       "      <td>город москва</td>\n",
       "      <td>3-й крутицкий переулок</td>\n",
       "      <td>дом 18</td>\n",
       "      <td>None</td>\n",
       "      <td>None</td>\n",
       "      <td>None</td>\n",
       "      <td>None</td>\n",
       "    </tr>\n",
       "    <tr>\n",
       "      <th>15362</th>\n",
       "      <td>город москва</td>\n",
       "      <td>улица земляной вал</td>\n",
       "      <td>дом 33</td>\n",
       "      <td>None</td>\n",
       "      <td>None</td>\n",
       "      <td>None</td>\n",
       "      <td>None</td>\n",
       "    </tr>\n",
       "    <tr>\n",
       "      <th>15363</th>\n",
       "      <td>город москва</td>\n",
       "      <td>улица земляной вал</td>\n",
       "      <td>дом 33</td>\n",
       "      <td>None</td>\n",
       "      <td>None</td>\n",
       "      <td>None</td>\n",
       "      <td>None</td>\n",
       "    </tr>\n",
       "    <tr>\n",
       "      <th>15364</th>\n",
       "      <td>город москва</td>\n",
       "      <td>поселение московский</td>\n",
       "      <td>киевское шоссе</td>\n",
       "      <td>22-й километр</td>\n",
       "      <td>домовладение 4</td>\n",
       "      <td>строение 1</td>\n",
       "      <td>None</td>\n",
       "    </tr>\n",
       "    <tr>\n",
       "      <th>15365</th>\n",
       "      <td>город москва</td>\n",
       "      <td>ходынский бульвар</td>\n",
       "      <td>дом 4</td>\n",
       "      <td>None</td>\n",
       "      <td>None</td>\n",
       "      <td>None</td>\n",
       "      <td>None</td>\n",
       "    </tr>\n",
       "  </tbody>\n",
       "</table>\n",
       "<p>15366 rows × 7 columns</p>\n",
       "</div>"
      ],
      "text/plain": [
       "               city                   street                2            nome  \\\n",
       "0      город москва    улица егора абакумова            дом 9            None   \n",
       "1      город москва         улица талалихина          дом 2/1        корпус 1   \n",
       "2      город москва     абельмановская улица            дом 6            None   \n",
       "3      город москва       абрамцевская улица            дом 1            None   \n",
       "4      город москва       абрамцевская улица            дом 9        корпус 1   \n",
       "...             ...                      ...              ...             ...   \n",
       "15361  город москва   3-й крутицкий переулок           дом 18            None   \n",
       "15362  город москва       улица земляной вал           дом 33            None   \n",
       "15363  город москва       улица земляной вал           дом 33            None   \n",
       "15364  город москва     поселение московский   киевское шоссе   22-й километр   \n",
       "15365  город москва        ходынский бульвар            дом 4            None   \n",
       "\n",
       "                     4            5     6  \n",
       "0                 None         None  None  \n",
       "1                 None         None  None  \n",
       "2                 None         None  None  \n",
       "3                 None         None  None  \n",
       "4                 None         None  None  \n",
       "...                ...          ...   ...  \n",
       "15361             None         None  None  \n",
       "15362             None         None  None  \n",
       "15363             None         None  None  \n",
       "15364   домовладение 4   строение 1  None  \n",
       "15365             None         None  None  \n",
       "\n",
       "[15366 rows x 7 columns]"
      ]
     },
     "metadata": {},
     "output_type": "display_data"
    }
   ],
   "source": [
    "data_street = data['address'].str.split(',', expand=True).rename(columns={0:'city', 1:'street',3:'nome',})\n",
    "# переименуем столбцы на более понятные\n",
    "display(data_street)"
   ]
  },
  {
   "cell_type": "code",
   "execution_count": 148,
   "metadata": {},
   "outputs": [
    {
     "data": {
      "text/html": [
       "<div>\n",
       "<style scoped>\n",
       "    .dataframe tbody tr th:only-of-type {\n",
       "        vertical-align: middle;\n",
       "    }\n",
       "\n",
       "    .dataframe tbody tr th {\n",
       "        vertical-align: top;\n",
       "    }\n",
       "\n",
       "    .dataframe thead th {\n",
       "        text-align: right;\n",
       "    }\n",
       "</style>\n",
       "<table border=\"1\" class=\"dataframe\">\n",
       "  <thead>\n",
       "    <tr style=\"text-align: right;\">\n",
       "      <th></th>\n",
       "      <th>id</th>\n",
       "      <th>object_name</th>\n",
       "      <th>chain</th>\n",
       "      <th>object_type</th>\n",
       "      <th>address</th>\n",
       "      <th>number</th>\n",
       "      <th>street</th>\n",
       "    </tr>\n",
       "  </thead>\n",
       "  <tbody>\n",
       "    <tr>\n",
       "      <th>0</th>\n",
       "      <td>151635</td>\n",
       "      <td>сметана</td>\n",
       "      <td>несетевой</td>\n",
       "      <td>кафе</td>\n",
       "      <td>город москва, улица егора абакумова, дом 9</td>\n",
       "      <td>48</td>\n",
       "      <td>улица егора абакумова</td>\n",
       "    </tr>\n",
       "    <tr>\n",
       "      <th>1</th>\n",
       "      <td>77874</td>\n",
       "      <td>родник</td>\n",
       "      <td>несетевой</td>\n",
       "      <td>кафе</td>\n",
       "      <td>город москва, улица талалихина, дом 2/1, корпус 1</td>\n",
       "      <td>35</td>\n",
       "      <td>улица талалихина</td>\n",
       "    </tr>\n",
       "    <tr>\n",
       "      <th>2</th>\n",
       "      <td>24309</td>\n",
       "      <td>кафе «академия»</td>\n",
       "      <td>несетевой</td>\n",
       "      <td>кафе</td>\n",
       "      <td>город москва, абельмановская улица, дом 6</td>\n",
       "      <td>95</td>\n",
       "      <td>абельмановская улица</td>\n",
       "    </tr>\n",
       "    <tr>\n",
       "      <th>3</th>\n",
       "      <td>21894</td>\n",
       "      <td>пиццетория</td>\n",
       "      <td>сетевой</td>\n",
       "      <td>кафе</td>\n",
       "      <td>город москва, абрамцевская улица, дом 1</td>\n",
       "      <td>40</td>\n",
       "      <td>абрамцевская улица</td>\n",
       "    </tr>\n",
       "    <tr>\n",
       "      <th>4</th>\n",
       "      <td>119365</td>\n",
       "      <td>кафе «вишневая метель»</td>\n",
       "      <td>несетевой</td>\n",
       "      <td>кафе</td>\n",
       "      <td>город москва, абрамцевская улица, дом 9, корпус 1</td>\n",
       "      <td>50</td>\n",
       "      <td>абрамцевская улица</td>\n",
       "    </tr>\n",
       "    <tr>\n",
       "      <th>...</th>\n",
       "      <td>...</td>\n",
       "      <td>...</td>\n",
       "      <td>...</td>\n",
       "      <td>...</td>\n",
       "      <td>...</td>\n",
       "      <td>...</td>\n",
       "      <td>...</td>\n",
       "    </tr>\n",
       "    <tr>\n",
       "      <th>15361</th>\n",
       "      <td>208537</td>\n",
       "      <td>шоколадница</td>\n",
       "      <td>сетевой</td>\n",
       "      <td>кафе</td>\n",
       "      <td>город москва, 3-й крутицкий переулок, дом 18</td>\n",
       "      <td>50</td>\n",
       "      <td>3-й крутицкий переулок</td>\n",
       "    </tr>\n",
       "    <tr>\n",
       "      <th>15362</th>\n",
       "      <td>209264</td>\n",
       "      <td>шоколадница</td>\n",
       "      <td>сетевой</td>\n",
       "      <td>кафе</td>\n",
       "      <td>город москва, улица земляной вал, дом 33</td>\n",
       "      <td>10</td>\n",
       "      <td>улица земляной вал</td>\n",
       "    </tr>\n",
       "    <tr>\n",
       "      <th>15363</th>\n",
       "      <td>209186</td>\n",
       "      <td>шоколадница</td>\n",
       "      <td>сетевой</td>\n",
       "      <td>кафе</td>\n",
       "      <td>город москва, улица земляной вал, дом 33</td>\n",
       "      <td>20</td>\n",
       "      <td>улица земляной вал</td>\n",
       "    </tr>\n",
       "    <tr>\n",
       "      <th>15364</th>\n",
       "      <td>221900</td>\n",
       "      <td>шоколадница</td>\n",
       "      <td>сетевой</td>\n",
       "      <td>кафе</td>\n",
       "      <td>город москва, поселение московский, киевское ш...</td>\n",
       "      <td>36</td>\n",
       "      <td>поселение московский</td>\n",
       "    </tr>\n",
       "    <tr>\n",
       "      <th>15365</th>\n",
       "      <td>222535</td>\n",
       "      <td>шоколадница</td>\n",
       "      <td>сетевой</td>\n",
       "      <td>кафе</td>\n",
       "      <td>город москва, ходынский бульвар, дом 4</td>\n",
       "      <td>10</td>\n",
       "      <td>ходынский бульвар</td>\n",
       "    </tr>\n",
       "  </tbody>\n",
       "</table>\n",
       "<p>15366 rows × 7 columns</p>\n",
       "</div>"
      ],
      "text/plain": [
       "           id             object_name      chain object_type  \\\n",
       "0      151635                 сметана  несетевой        кафе   \n",
       "1       77874                  родник  несетевой        кафе   \n",
       "2       24309         кафе «академия»  несетевой        кафе   \n",
       "3       21894              пиццетория    сетевой        кафе   \n",
       "4      119365  кафе «вишневая метель»  несетевой        кафе   \n",
       "...       ...                     ...        ...         ...   \n",
       "15361  208537             шоколадница    сетевой        кафе   \n",
       "15362  209264             шоколадница    сетевой        кафе   \n",
       "15363  209186             шоколадница    сетевой        кафе   \n",
       "15364  221900             шоколадница    сетевой        кафе   \n",
       "15365  222535             шоколадница    сетевой        кафе   \n",
       "\n",
       "                                                 address  number  \\\n",
       "0             город москва, улица егора абакумова, дом 9      48   \n",
       "1      город москва, улица талалихина, дом 2/1, корпус 1      35   \n",
       "2              город москва, абельмановская улица, дом 6      95   \n",
       "3                город москва, абрамцевская улица, дом 1      40   \n",
       "4      город москва, абрамцевская улица, дом 9, корпус 1      50   \n",
       "...                                                  ...     ...   \n",
       "15361       город москва, 3-й крутицкий переулок, дом 18      50   \n",
       "15362           город москва, улица земляной вал, дом 33      10   \n",
       "15363           город москва, улица земляной вал, дом 33      20   \n",
       "15364  город москва, поселение московский, киевское ш...      36   \n",
       "15365             город москва, ходынский бульвар, дом 4      10   \n",
       "\n",
       "                        street  \n",
       "0        улица егора абакумова  \n",
       "1             улица талалихина  \n",
       "2         абельмановская улица  \n",
       "3           абрамцевская улица  \n",
       "4           абрамцевская улица  \n",
       "...                        ...  \n",
       "15361   3-й крутицкий переулок  \n",
       "15362       улица земляной вал  \n",
       "15363       улица земляной вал  \n",
       "15364     поселение московский  \n",
       "15365        ходынский бульвар  \n",
       "\n",
       "[15366 rows x 7 columns]"
      ]
     },
     "metadata": {},
     "output_type": "display_data"
    }
   ],
   "source": [
    "data['street']=data_street['street']\n",
    "display(data)"
   ]
  },
  {
   "cell_type": "code",
   "execution_count": 3,
   "metadata": {},
   "outputs": [],
   "source": [
    "\n",
    "    \n",
    "#words = ['улица','ул','переулок','шоссе','проспект','площадь','проезд',\n",
    "         #'село','аллея','бульвар','набережная','тупик','линия']\n",
    "\n",
    "#str_pat = r\".*,\\s*\\b([^,]*?(?:{})\\b[^,]*)[,$]+\".format(\"|\".join(words))\n",
    "\n",
    "#data[\"street\"] = data[\"address\"].str.extract(str_pat, flags=re.I)\n"
   ]
  },
  {
   "cell_type": "code",
   "execution_count": 149,
   "metadata": {},
   "outputs": [],
   "source": [
    "#data_street['city'].value_counts()"
   ]
  },
  {
   "cell_type": "markdown",
   "metadata": {},
   "source": [
    "### Построим график топ-10 улиц по количеству объектов общественного питания. Воспользуемся внешней информацией и ответим на вопрос — в каких районах Москвы находятся эти улицы."
   ]
  },
  {
   "cell_type": "code",
   "execution_count": 150,
   "metadata": {
    "scrolled": true
   },
   "outputs": [
    {
     "data": {
      "text/html": [
       "<div>\n",
       "<style scoped>\n",
       "    .dataframe tbody tr th:only-of-type {\n",
       "        vertical-align: middle;\n",
       "    }\n",
       "\n",
       "    .dataframe tbody tr th {\n",
       "        vertical-align: top;\n",
       "    }\n",
       "\n",
       "    .dataframe thead th {\n",
       "        text-align: right;\n",
       "    }\n",
       "</style>\n",
       "<table border=\"1\" class=\"dataframe\">\n",
       "  <thead>\n",
       "    <tr style=\"text-align: right;\">\n",
       "      <th></th>\n",
       "      <th>level_0</th>\n",
       "      <th>index</th>\n",
       "      <th>street</th>\n",
       "      <th>object_name</th>\n",
       "    </tr>\n",
       "  </thead>\n",
       "  <tbody>\n",
       "    <tr>\n",
       "      <th>0</th>\n",
       "      <td>1</td>\n",
       "      <td>1121</td>\n",
       "      <td>проспект мира</td>\n",
       "      <td>204</td>\n",
       "    </tr>\n",
       "    <tr>\n",
       "      <th>1</th>\n",
       "      <td>2</td>\n",
       "      <td>1125</td>\n",
       "      <td>профсоюзная улица</td>\n",
       "      <td>182</td>\n",
       "    </tr>\n",
       "    <tr>\n",
       "      <th>2</th>\n",
       "      <td>3</td>\n",
       "      <td>747</td>\n",
       "      <td>ленинградский проспект</td>\n",
       "      <td>171</td>\n",
       "    </tr>\n",
       "    <tr>\n",
       "      <th>3</th>\n",
       "      <td>4</td>\n",
       "      <td>1082</td>\n",
       "      <td>пресненская набережная</td>\n",
       "      <td>167</td>\n",
       "    </tr>\n",
       "    <tr>\n",
       "      <th>4</th>\n",
       "      <td>5</td>\n",
       "      <td>417</td>\n",
       "      <td>варшавское шоссе</td>\n",
       "      <td>161</td>\n",
       "    </tr>\n",
       "    <tr>\n",
       "      <th>5</th>\n",
       "      <td>6</td>\n",
       "      <td>750</td>\n",
       "      <td>ленинский проспект</td>\n",
       "      <td>147</td>\n",
       "    </tr>\n",
       "    <tr>\n",
       "      <th>6</th>\n",
       "      <td>8</td>\n",
       "      <td>1118</td>\n",
       "      <td>проспект вернадского</td>\n",
       "      <td>132</td>\n",
       "    </tr>\n",
       "    <tr>\n",
       "      <th>7</th>\n",
       "      <td>9</td>\n",
       "      <td>738</td>\n",
       "      <td>кутузовский проспект</td>\n",
       "      <td>114</td>\n",
       "    </tr>\n",
       "    <tr>\n",
       "      <th>8</th>\n",
       "      <td>10</td>\n",
       "      <td>663</td>\n",
       "      <td>каширское шоссе</td>\n",
       "      <td>112</td>\n",
       "    </tr>\n",
       "    <tr>\n",
       "      <th>9</th>\n",
       "      <td>11</td>\n",
       "      <td>669</td>\n",
       "      <td>кировоградская улица</td>\n",
       "      <td>110</td>\n",
       "    </tr>\n",
       "  </tbody>\n",
       "</table>\n",
       "</div>"
      ],
      "text/plain": [
       "   level_0  index                  street  object_name\n",
       "0        1   1121           проспект мира          204\n",
       "1        2   1125       профсоюзная улица          182\n",
       "2        3    747  ленинградский проспект          171\n",
       "3        4   1082  пресненская набережная          167\n",
       "4        5    417        варшавское шоссе          161\n",
       "5        6    750      ленинский проспект          147\n",
       "6        8   1118    проспект вернадского          132\n",
       "7        9    738    кутузовский проспект          114\n",
       "8       10    663         каширское шоссе          112\n",
       "9       11    669    кировоградская улица          110"
      ]
     },
     "metadata": {},
     "output_type": "display_data"
    }
   ],
   "source": [
    "top_streets = data.groupby('street', as_index=False).agg({'object_name':'count'}).sort_values(by = 'object_name', ascending = False).head(12).reset_index()\n",
    "top_streets['street']= top_streets['street'].str.strip().str.lower()\n",
    "top_streets=top_streets[top_streets['street']!='город зеленоград']\n",
    "top_streets=top_streets[top_streets['street']!='поселение сосенское']\n",
    "\n",
    "top_streets['street']= top_streets['street'].str.strip().str.lower()\n",
    "top_10 = top_streets.head(12).reset_index()\n",
    "\n",
    "# удалим городо Зеленоград. Будем считать, что он относится к МО             \n",
    "display(top_10)"
   ]
  },
  {
   "cell_type": "code",
   "execution_count": 151,
   "metadata": {},
   "outputs": [
    {
     "data": {
      "image/png": "[encoded data removed]",
      "text/plain": [
       "<Figure size 1080x360 with 1 Axes>"
      ]
     },
     "metadata": {
      "needs_background": "light"
     },
     "output_type": "display_data"
    }
   ],
   "source": [
    "plt.figure(figsize=(15, 5))\n",
    "\n",
    "ax = sns.barplot(x='street', y='object_name', data=top_10)\n",
    "ax.set_title('Топ-10 улиц по количеству объектов общественного питания')\n",
    "ax.set_xlabel('Название улицы')\n",
    "ax.set_ylabel('Количество объектов')\n",
    "plt.xticks(rotation=45)\n",
    "plt.show()"
   ]
  },
  {
   "cell_type": "code",
   "execution_count": 152,
   "metadata": {},
   "outputs": [
    {
     "data": {
      "text/html": [
       "<div>\n",
       "<style scoped>\n",
       "    .dataframe tbody tr th:only-of-type {\n",
       "        vertical-align: middle;\n",
       "    }\n",
       "\n",
       "    .dataframe tbody tr th {\n",
       "        vertical-align: top;\n",
       "    }\n",
       "\n",
       "    .dataframe thead th {\n",
       "        text-align: right;\n",
       "    }\n",
       "</style>\n",
       "<table border=\"1\" class=\"dataframe\">\n",
       "  <thead>\n",
       "    <tr style=\"text-align: right;\">\n",
       "      <th></th>\n",
       "      <th>streetname</th>\n",
       "      <th>areaid</th>\n",
       "      <th>okrug</th>\n",
       "      <th>area</th>\n",
       "    </tr>\n",
       "  </thead>\n",
       "  <tbody>\n",
       "    <tr>\n",
       "      <th>0</th>\n",
       "      <td>Выставочный переулок</td>\n",
       "      <td>17</td>\n",
       "      <td>ЦАО</td>\n",
       "      <td>Пресненский район</td>\n",
       "    </tr>\n",
       "    <tr>\n",
       "      <th>1</th>\n",
       "      <td>улица Гашека</td>\n",
       "      <td>17</td>\n",
       "      <td>ЦАО</td>\n",
       "      <td>Пресненский район</td>\n",
       "    </tr>\n",
       "    <tr>\n",
       "      <th>2</th>\n",
       "      <td>Большая Никитская улица</td>\n",
       "      <td>17</td>\n",
       "      <td>ЦАО</td>\n",
       "      <td>Пресненский район</td>\n",
       "    </tr>\n",
       "    <tr>\n",
       "      <th>3</th>\n",
       "      <td>Глубокий переулок</td>\n",
       "      <td>17</td>\n",
       "      <td>ЦАО</td>\n",
       "      <td>Пресненский район</td>\n",
       "    </tr>\n",
       "    <tr>\n",
       "      <th>4</th>\n",
       "      <td>Большой Гнездниковский переулок</td>\n",
       "      <td>17</td>\n",
       "      <td>ЦАО</td>\n",
       "      <td>Пресненский район</td>\n",
       "    </tr>\n",
       "    <tr>\n",
       "      <th>...</th>\n",
       "      <td>...</td>\n",
       "      <td>...</td>\n",
       "      <td>...</td>\n",
       "      <td>...</td>\n",
       "    </tr>\n",
       "    <tr>\n",
       "      <th>4393</th>\n",
       "      <td>Вознесенский проезд</td>\n",
       "      <td>17</td>\n",
       "      <td>ЦАО</td>\n",
       "      <td>Пресненский район</td>\n",
       "    </tr>\n",
       "    <tr>\n",
       "      <th>4394</th>\n",
       "      <td>Волков переулок</td>\n",
       "      <td>17</td>\n",
       "      <td>ЦАО</td>\n",
       "      <td>Пресненский район</td>\n",
       "    </tr>\n",
       "    <tr>\n",
       "      <th>4395</th>\n",
       "      <td>Поварская улица</td>\n",
       "      <td>17</td>\n",
       "      <td>ЦАО</td>\n",
       "      <td>Пресненский район</td>\n",
       "    </tr>\n",
       "    <tr>\n",
       "      <th>4396</th>\n",
       "      <td>Кудринская площадь</td>\n",
       "      <td>17</td>\n",
       "      <td>ЦАО</td>\n",
       "      <td>Пресненский район</td>\n",
       "    </tr>\n",
       "    <tr>\n",
       "      <th>4397</th>\n",
       "      <td>Вспольный переулок</td>\n",
       "      <td>17</td>\n",
       "      <td>ЦАО</td>\n",
       "      <td>Пресненский район</td>\n",
       "    </tr>\n",
       "  </tbody>\n",
       "</table>\n",
       "<p>4398 rows × 4 columns</p>\n",
       "</div>"
      ],
      "text/plain": [
       "                           streetname  areaid okrug               area\n",
       "0                Выставочный переулок      17   ЦАО  Пресненский район\n",
       "1                        улица Гашека      17   ЦАО  Пресненский район\n",
       "2             Большая Никитская улица      17   ЦАО  Пресненский район\n",
       "3                   Глубокий переулок      17   ЦАО  Пресненский район\n",
       "4     Большой Гнездниковский переулок      17   ЦАО  Пресненский район\n",
       "...                               ...     ...   ...                ...\n",
       "4393              Вознесенский проезд      17   ЦАО  Пресненский район\n",
       "4394                  Волков переулок      17   ЦАО  Пресненский район\n",
       "4395                  Поварская улица      17   ЦАО  Пресненский район\n",
       "4396               Кудринская площадь      17   ЦАО  Пресненский район\n",
       "4397               Вспольный переулок      17   ЦАО  Пресненский район\n",
       "\n",
       "[4398 rows x 4 columns]"
      ]
     },
     "metadata": {},
     "output_type": "display_data"
    }
   ],
   "source": [
    "# обращаемся к внешнему df\n",
    "#spreadsheet_id = '1fGtfX_6otenOiCBRzt61bQe9l3gB7B8BEp-qPcWkRKA'\n",
    "#r = requests.get(file_name)\n",
    "moscow_streets = pd.read_csv('https://frs.noosphere.ru/xmlui/bitstream/handle/20.500.11925/714058/mosgaz-streets.csv')\n",
    "display(moscow_streets)\n"
   ]
  },
  {
   "cell_type": "code",
   "execution_count": 153,
   "metadata": {
    "scrolled": true
   },
   "outputs": [
    {
     "data": {
      "text/html": [
       "<div>\n",
       "<style scoped>\n",
       "    .dataframe tbody tr th:only-of-type {\n",
       "        vertical-align: middle;\n",
       "    }\n",
       "\n",
       "    .dataframe tbody tr th {\n",
       "        vertical-align: top;\n",
       "    }\n",
       "\n",
       "    .dataframe thead th {\n",
       "        text-align: right;\n",
       "    }\n",
       "</style>\n",
       "<table border=\"1\" class=\"dataframe\">\n",
       "  <thead>\n",
       "    <tr style=\"text-align: right;\">\n",
       "      <th></th>\n",
       "      <th>street</th>\n",
       "      <th>areaid</th>\n",
       "      <th>okrug</th>\n",
       "      <th>area</th>\n",
       "    </tr>\n",
       "  </thead>\n",
       "  <tbody>\n",
       "    <tr>\n",
       "      <th>0</th>\n",
       "      <td>выставочный переулок</td>\n",
       "      <td>17</td>\n",
       "      <td>ЦАО</td>\n",
       "      <td>Пресненский район</td>\n",
       "    </tr>\n",
       "    <tr>\n",
       "      <th>1</th>\n",
       "      <td>улица гашека</td>\n",
       "      <td>17</td>\n",
       "      <td>ЦАО</td>\n",
       "      <td>Пресненский район</td>\n",
       "    </tr>\n",
       "    <tr>\n",
       "      <th>2</th>\n",
       "      <td>большая никитская улица</td>\n",
       "      <td>17</td>\n",
       "      <td>ЦАО</td>\n",
       "      <td>Пресненский район</td>\n",
       "    </tr>\n",
       "    <tr>\n",
       "      <th>3</th>\n",
       "      <td>глубокий переулок</td>\n",
       "      <td>17</td>\n",
       "      <td>ЦАО</td>\n",
       "      <td>Пресненский район</td>\n",
       "    </tr>\n",
       "    <tr>\n",
       "      <th>4</th>\n",
       "      <td>большой гнездниковский переулок</td>\n",
       "      <td>17</td>\n",
       "      <td>ЦАО</td>\n",
       "      <td>Пресненский район</td>\n",
       "    </tr>\n",
       "    <tr>\n",
       "      <th>...</th>\n",
       "      <td>...</td>\n",
       "      <td>...</td>\n",
       "      <td>...</td>\n",
       "      <td>...</td>\n",
       "    </tr>\n",
       "    <tr>\n",
       "      <th>4393</th>\n",
       "      <td>вознесенский проезд</td>\n",
       "      <td>17</td>\n",
       "      <td>ЦАО</td>\n",
       "      <td>Пресненский район</td>\n",
       "    </tr>\n",
       "    <tr>\n",
       "      <th>4394</th>\n",
       "      <td>волков переулок</td>\n",
       "      <td>17</td>\n",
       "      <td>ЦАО</td>\n",
       "      <td>Пресненский район</td>\n",
       "    </tr>\n",
       "    <tr>\n",
       "      <th>4395</th>\n",
       "      <td>поварская улица</td>\n",
       "      <td>17</td>\n",
       "      <td>ЦАО</td>\n",
       "      <td>Пресненский район</td>\n",
       "    </tr>\n",
       "    <tr>\n",
       "      <th>4396</th>\n",
       "      <td>кудринская площадь</td>\n",
       "      <td>17</td>\n",
       "      <td>ЦАО</td>\n",
       "      <td>Пресненский район</td>\n",
       "    </tr>\n",
       "    <tr>\n",
       "      <th>4397</th>\n",
       "      <td>вспольный переулок</td>\n",
       "      <td>17</td>\n",
       "      <td>ЦАО</td>\n",
       "      <td>Пресненский район</td>\n",
       "    </tr>\n",
       "  </tbody>\n",
       "</table>\n",
       "<p>4398 rows × 4 columns</p>\n",
       "</div>"
      ],
      "text/plain": [
       "                               street  areaid okrug               area\n",
       "0                выставочный переулок      17   ЦАО  Пресненский район\n",
       "1                        улица гашека      17   ЦАО  Пресненский район\n",
       "2             большая никитская улица      17   ЦАО  Пресненский район\n",
       "3                   глубокий переулок      17   ЦАО  Пресненский район\n",
       "4     большой гнездниковский переулок      17   ЦАО  Пресненский район\n",
       "...                               ...     ...   ...                ...\n",
       "4393              вознесенский проезд      17   ЦАО  Пресненский район\n",
       "4394                  волков переулок      17   ЦАО  Пресненский район\n",
       "4395                  поварская улица      17   ЦАО  Пресненский район\n",
       "4396               кудринская площадь      17   ЦАО  Пресненский район\n",
       "4397               вспольный переулок      17   ЦАО  Пресненский район\n",
       "\n",
       "[4398 rows x 4 columns]"
      ]
     },
     "metadata": {},
     "output_type": "display_data"
    }
   ],
   "source": [
    "moscow_streets = moscow_streets.rename(columns={'streetname':'street'})\n",
    "moscow_streets['street'] = moscow_streets['street'].str.lower()\n",
    "\n",
    "# переименуем столбцы на более понятные\n",
    "display(moscow_streets)"
   ]
  },
  {
   "cell_type": "code",
   "execution_count": 154,
   "metadata": {},
   "outputs": [
    {
     "data": {
      "text/html": [
       "<div>\n",
       "<style scoped>\n",
       "    .dataframe tbody tr th:only-of-type {\n",
       "        vertical-align: middle;\n",
       "    }\n",
       "\n",
       "    .dataframe tbody tr th {\n",
       "        vertical-align: top;\n",
       "    }\n",
       "\n",
       "    .dataframe thead th {\n",
       "        text-align: right;\n",
       "    }\n",
       "</style>\n",
       "<table border=\"1\" class=\"dataframe\">\n",
       "  <thead>\n",
       "    <tr style=\"text-align: right;\">\n",
       "      <th></th>\n",
       "      <th>level_0</th>\n",
       "      <th>street</th>\n",
       "      <th>okrug</th>\n",
       "      <th>area</th>\n",
       "    </tr>\n",
       "  </thead>\n",
       "  <tbody>\n",
       "    <tr>\n",
       "      <th>0</th>\n",
       "      <td>1</td>\n",
       "      <td>проспект мира</td>\n",
       "      <td>СВАО</td>\n",
       "      <td>Алексеевский район</td>\n",
       "    </tr>\n",
       "    <tr>\n",
       "      <th>1</th>\n",
       "      <td>1</td>\n",
       "      <td>проспект мира</td>\n",
       "      <td>СВАО</td>\n",
       "      <td>Ярославский Район</td>\n",
       "    </tr>\n",
       "    <tr>\n",
       "      <th>2</th>\n",
       "      <td>1</td>\n",
       "      <td>проспект мира</td>\n",
       "      <td>СВАО</td>\n",
       "      <td>Район Марьина роща</td>\n",
       "    </tr>\n",
       "    <tr>\n",
       "      <th>3</th>\n",
       "      <td>1</td>\n",
       "      <td>проспект мира</td>\n",
       "      <td>СВАО</td>\n",
       "      <td>Останкинский район</td>\n",
       "    </tr>\n",
       "    <tr>\n",
       "      <th>4</th>\n",
       "      <td>1</td>\n",
       "      <td>проспект мира</td>\n",
       "      <td>СВАО</td>\n",
       "      <td>Район Ростокино</td>\n",
       "    </tr>\n",
       "    <tr>\n",
       "      <th>5</th>\n",
       "      <td>1</td>\n",
       "      <td>проспект мира</td>\n",
       "      <td>СВАО</td>\n",
       "      <td>Район Свиблово</td>\n",
       "    </tr>\n",
       "    <tr>\n",
       "      <th>6</th>\n",
       "      <td>1</td>\n",
       "      <td>проспект мира</td>\n",
       "      <td>ЦАО</td>\n",
       "      <td>Мещанский район</td>\n",
       "    </tr>\n",
       "    <tr>\n",
       "      <th>7</th>\n",
       "      <td>2</td>\n",
       "      <td>профсоюзная улица</td>\n",
       "      <td>ЮЗАО</td>\n",
       "      <td>Академический район</td>\n",
       "    </tr>\n",
       "    <tr>\n",
       "      <th>8</th>\n",
       "      <td>2</td>\n",
       "      <td>профсоюзная улица</td>\n",
       "      <td>ЮЗАО</td>\n",
       "      <td>Район Черемушки</td>\n",
       "    </tr>\n",
       "    <tr>\n",
       "      <th>9</th>\n",
       "      <td>2</td>\n",
       "      <td>профсоюзная улица</td>\n",
       "      <td>ЮЗАО</td>\n",
       "      <td>Район Ясенево</td>\n",
       "    </tr>\n",
       "    <tr>\n",
       "      <th>10</th>\n",
       "      <td>2</td>\n",
       "      <td>профсоюзная улица</td>\n",
       "      <td>ЮЗАО</td>\n",
       "      <td>Район Коньково</td>\n",
       "    </tr>\n",
       "    <tr>\n",
       "      <th>11</th>\n",
       "      <td>2</td>\n",
       "      <td>профсоюзная улица</td>\n",
       "      <td>ЮЗАО</td>\n",
       "      <td>Обручевский район</td>\n",
       "    </tr>\n",
       "    <tr>\n",
       "      <th>12</th>\n",
       "      <td>2</td>\n",
       "      <td>профсоюзная улица</td>\n",
       "      <td>ЮЗАО</td>\n",
       "      <td>Район Теплый Стан</td>\n",
       "    </tr>\n",
       "    <tr>\n",
       "      <th>13</th>\n",
       "      <td>3</td>\n",
       "      <td>ленинградский проспект</td>\n",
       "      <td>САО</td>\n",
       "      <td>Район Аэропорт</td>\n",
       "    </tr>\n",
       "    <tr>\n",
       "      <th>14</th>\n",
       "      <td>3</td>\n",
       "      <td>ленинградский проспект</td>\n",
       "      <td>САО</td>\n",
       "      <td>Район Беговой</td>\n",
       "    </tr>\n",
       "    <tr>\n",
       "      <th>15</th>\n",
       "      <td>3</td>\n",
       "      <td>ленинградский проспект</td>\n",
       "      <td>САО</td>\n",
       "      <td>Хорошевский район</td>\n",
       "    </tr>\n",
       "    <tr>\n",
       "      <th>16</th>\n",
       "      <td>3</td>\n",
       "      <td>ленинградский проспект</td>\n",
       "      <td>САО</td>\n",
       "      <td>Район Сокол</td>\n",
       "    </tr>\n",
       "    <tr>\n",
       "      <th>17</th>\n",
       "      <td>4</td>\n",
       "      <td>пресненская набережная</td>\n",
       "      <td>ЦАО</td>\n",
       "      <td>Пресненский район</td>\n",
       "    </tr>\n",
       "    <tr>\n",
       "      <th>18</th>\n",
       "      <td>5</td>\n",
       "      <td>варшавское шоссе</td>\n",
       "      <td>ЮАО</td>\n",
       "      <td>Район Чертаново Центральное</td>\n",
       "    </tr>\n",
       "    <tr>\n",
       "      <th>19</th>\n",
       "      <td>5</td>\n",
       "      <td>варшавское шоссе</td>\n",
       "      <td>ЮАО</td>\n",
       "      <td>Район Чертаново Северное</td>\n",
       "    </tr>\n",
       "    <tr>\n",
       "      <th>20</th>\n",
       "      <td>5</td>\n",
       "      <td>варшавское шоссе</td>\n",
       "      <td>ЮАО</td>\n",
       "      <td>Район Чертаново Южное</td>\n",
       "    </tr>\n",
       "    <tr>\n",
       "      <th>21</th>\n",
       "      <td>5</td>\n",
       "      <td>варшавское шоссе</td>\n",
       "      <td>ЮАО</td>\n",
       "      <td>Донской район</td>\n",
       "    </tr>\n",
       "    <tr>\n",
       "      <th>22</th>\n",
       "      <td>5</td>\n",
       "      <td>варшавское шоссе</td>\n",
       "      <td>ЮАО</td>\n",
       "      <td>Район Нагатино-Садовники</td>\n",
       "    </tr>\n",
       "    <tr>\n",
       "      <th>23</th>\n",
       "      <td>5</td>\n",
       "      <td>варшавское шоссе</td>\n",
       "      <td>ЮАО</td>\n",
       "      <td>Нагорный район</td>\n",
       "    </tr>\n",
       "    <tr>\n",
       "      <th>24</th>\n",
       "      <td>5</td>\n",
       "      <td>варшавское шоссе</td>\n",
       "      <td>ЮЗАО</td>\n",
       "      <td>Район Северное Бутово</td>\n",
       "    </tr>\n",
       "    <tr>\n",
       "      <th>25</th>\n",
       "      <td>5</td>\n",
       "      <td>варшавское шоссе</td>\n",
       "      <td>ЮЗАО</td>\n",
       "      <td>Район Южное Бутово</td>\n",
       "    </tr>\n",
       "    <tr>\n",
       "      <th>26</th>\n",
       "      <td>6</td>\n",
       "      <td>ленинский проспект</td>\n",
       "      <td>ЗАО</td>\n",
       "      <td>Район Проспект Вернадского</td>\n",
       "    </tr>\n",
       "    <tr>\n",
       "      <th>27</th>\n",
       "      <td>6</td>\n",
       "      <td>ленинский проспект</td>\n",
       "      <td>ЗАО</td>\n",
       "      <td>Район Тропарево-Никулино</td>\n",
       "    </tr>\n",
       "    <tr>\n",
       "      <th>28</th>\n",
       "      <td>6</td>\n",
       "      <td>ленинский проспект</td>\n",
       "      <td>ЮАО</td>\n",
       "      <td>Донской район</td>\n",
       "    </tr>\n",
       "    <tr>\n",
       "      <th>29</th>\n",
       "      <td>6</td>\n",
       "      <td>ленинский проспект</td>\n",
       "      <td>ЮЗАО</td>\n",
       "      <td>Район Гагаринский</td>\n",
       "    </tr>\n",
       "    <tr>\n",
       "      <th>30</th>\n",
       "      <td>6</td>\n",
       "      <td>ленинский проспект</td>\n",
       "      <td>ЮЗАО</td>\n",
       "      <td>Ломоносовский район</td>\n",
       "    </tr>\n",
       "    <tr>\n",
       "      <th>31</th>\n",
       "      <td>6</td>\n",
       "      <td>ленинский проспект</td>\n",
       "      <td>ЮЗАО</td>\n",
       "      <td>Обручевский район</td>\n",
       "    </tr>\n",
       "    <tr>\n",
       "      <th>32</th>\n",
       "      <td>6</td>\n",
       "      <td>ленинский проспект</td>\n",
       "      <td>ЮЗАО</td>\n",
       "      <td>Район Теплый Стан</td>\n",
       "    </tr>\n",
       "    <tr>\n",
       "      <th>33</th>\n",
       "      <td>6</td>\n",
       "      <td>ленинский проспект</td>\n",
       "      <td>ЦАО</td>\n",
       "      <td>Район Якиманка</td>\n",
       "    </tr>\n",
       "    <tr>\n",
       "      <th>34</th>\n",
       "      <td>8</td>\n",
       "      <td>проспект вернадского</td>\n",
       "      <td>ЗАО</td>\n",
       "      <td>Район Проспект Вернадского</td>\n",
       "    </tr>\n",
       "    <tr>\n",
       "      <th>35</th>\n",
       "      <td>8</td>\n",
       "      <td>проспект вернадского</td>\n",
       "      <td>ЗАО</td>\n",
       "      <td>Район Раменки</td>\n",
       "    </tr>\n",
       "    <tr>\n",
       "      <th>36</th>\n",
       "      <td>8</td>\n",
       "      <td>проспект вернадского</td>\n",
       "      <td>ЗАО</td>\n",
       "      <td>Район Тропарево-Никулино</td>\n",
       "    </tr>\n",
       "    <tr>\n",
       "      <th>37</th>\n",
       "      <td>8</td>\n",
       "      <td>проспект вернадского</td>\n",
       "      <td>ЮЗАО</td>\n",
       "      <td>Район Гагаринский</td>\n",
       "    </tr>\n",
       "    <tr>\n",
       "      <th>38</th>\n",
       "      <td>8</td>\n",
       "      <td>проспект вернадского</td>\n",
       "      <td>ЮЗАО</td>\n",
       "      <td>Ломоносовский район</td>\n",
       "    </tr>\n",
       "    <tr>\n",
       "      <th>39</th>\n",
       "      <td>9</td>\n",
       "      <td>кутузовский проспект</td>\n",
       "      <td>ЗАО</td>\n",
       "      <td>Район Дорогомилово</td>\n",
       "    </tr>\n",
       "    <tr>\n",
       "      <th>40</th>\n",
       "      <td>9</td>\n",
       "      <td>кутузовский проспект</td>\n",
       "      <td>ЗАО</td>\n",
       "      <td>Район Фили-Давыдково</td>\n",
       "    </tr>\n",
       "    <tr>\n",
       "      <th>41</th>\n",
       "      <td>10</td>\n",
       "      <td>каширское шоссе</td>\n",
       "      <td>ЮАО</td>\n",
       "      <td>Район Москворечье-Сабурово</td>\n",
       "    </tr>\n",
       "    <tr>\n",
       "      <th>42</th>\n",
       "      <td>10</td>\n",
       "      <td>каширское шоссе</td>\n",
       "      <td>ЮАО</td>\n",
       "      <td>Район Нагатино-Садовники</td>\n",
       "    </tr>\n",
       "    <tr>\n",
       "      <th>43</th>\n",
       "      <td>10</td>\n",
       "      <td>каширское шоссе</td>\n",
       "      <td>ЮАО</td>\n",
       "      <td>Район Орехово-Борисово Южное</td>\n",
       "    </tr>\n",
       "    <tr>\n",
       "      <th>44</th>\n",
       "      <td>10</td>\n",
       "      <td>каширское шоссе</td>\n",
       "      <td>ЮАО</td>\n",
       "      <td>Район Орехово-Борисово Северное</td>\n",
       "    </tr>\n",
       "    <tr>\n",
       "      <th>45</th>\n",
       "      <td>11</td>\n",
       "      <td>кировоградская улица</td>\n",
       "      <td>ЮАО</td>\n",
       "      <td>Район Чертаново Центральное</td>\n",
       "    </tr>\n",
       "    <tr>\n",
       "      <th>46</th>\n",
       "      <td>11</td>\n",
       "      <td>кировоградская улица</td>\n",
       "      <td>ЮАО</td>\n",
       "      <td>Район Чертаново Северное</td>\n",
       "    </tr>\n",
       "    <tr>\n",
       "      <th>47</th>\n",
       "      <td>11</td>\n",
       "      <td>кировоградская улица</td>\n",
       "      <td>ЮАО</td>\n",
       "      <td>Район Чертаново Южное</td>\n",
       "    </tr>\n",
       "  </tbody>\n",
       "</table>\n",
       "</div>"
      ],
      "text/plain": [
       "    level_0                  street okrug                             area\n",
       "0         1           проспект мира  СВАО               Алексеевский район\n",
       "1         1           проспект мира  СВАО                Ярославский Район\n",
       "2         1           проспект мира  СВАО               Район Марьина роща\n",
       "3         1           проспект мира  СВАО               Останкинский район\n",
       "4         1           проспект мира  СВАО                  Район Ростокино\n",
       "5         1           проспект мира  СВАО                   Район Свиблово\n",
       "6         1           проспект мира   ЦАО                  Мещанский район\n",
       "7         2       профсоюзная улица  ЮЗАО              Академический район\n",
       "8         2       профсоюзная улица  ЮЗАО                  Район Черемушки\n",
       "9         2       профсоюзная улица  ЮЗАО                    Район Ясенево\n",
       "10        2       профсоюзная улица  ЮЗАО                   Район Коньково\n",
       "11        2       профсоюзная улица  ЮЗАО                Обручевский район\n",
       "12        2       профсоюзная улица  ЮЗАО                Район Теплый Стан\n",
       "13        3  ленинградский проспект   САО                   Район Аэропорт\n",
       "14        3  ленинградский проспект   САО                    Район Беговой\n",
       "15        3  ленинградский проспект   САО                Хорошевский район\n",
       "16        3  ленинградский проспект   САО                      Район Сокол\n",
       "17        4  пресненская набережная   ЦАО                Пресненский район\n",
       "18        5        варшавское шоссе   ЮАО      Район Чертаново Центральное\n",
       "19        5        варшавское шоссе   ЮАО         Район Чертаново Северное\n",
       "20        5        варшавское шоссе   ЮАО            Район Чертаново Южное\n",
       "21        5        варшавское шоссе   ЮАО                    Донской район\n",
       "22        5        варшавское шоссе   ЮАО         Район Нагатино-Садовники\n",
       "23        5        варшавское шоссе   ЮАО                   Нагорный район\n",
       "24        5        варшавское шоссе  ЮЗАО            Район Северное Бутово\n",
       "25        5        варшавское шоссе  ЮЗАО               Район Южное Бутово\n",
       "26        6      ленинский проспект   ЗАО       Район Проспект Вернадского\n",
       "27        6      ленинский проспект   ЗАО         Район Тропарево-Никулино\n",
       "28        6      ленинский проспект   ЮАО                    Донской район\n",
       "29        6      ленинский проспект  ЮЗАО                Район Гагаринский\n",
       "30        6      ленинский проспект  ЮЗАО              Ломоносовский район\n",
       "31        6      ленинский проспект  ЮЗАО                Обручевский район\n",
       "32        6      ленинский проспект  ЮЗАО                Район Теплый Стан\n",
       "33        6      ленинский проспект   ЦАО                   Район Якиманка\n",
       "34        8    проспект вернадского   ЗАО       Район Проспект Вернадского\n",
       "35        8    проспект вернадского   ЗАО                    Район Раменки\n",
       "36        8    проспект вернадского   ЗАО         Район Тропарево-Никулино\n",
       "37        8    проспект вернадского  ЮЗАО                Район Гагаринский\n",
       "38        8    проспект вернадского  ЮЗАО              Ломоносовский район\n",
       "39        9    кутузовский проспект   ЗАО               Район Дорогомилово\n",
       "40        9    кутузовский проспект   ЗАО             Район Фили-Давыдково\n",
       "41       10         каширское шоссе   ЮАО       Район Москворечье-Сабурово\n",
       "42       10         каширское шоссе   ЮАО         Район Нагатино-Садовники\n",
       "43       10         каширское шоссе   ЮАО     Район Орехово-Борисово Южное\n",
       "44       10         каширское шоссе   ЮАО  Район Орехово-Борисово Северное\n",
       "45       11    кировоградская улица   ЮАО      Район Чертаново Центральное\n",
       "46       11    кировоградская улица   ЮАО         Район Чертаново Северное\n",
       "47       11    кировоградская улица   ЮАО            Район Чертаново Южное"
      ]
     },
     "metadata": {},
     "output_type": "display_data"
    }
   ],
   "source": [
    "streets_area_top_10 = top_10.merge(moscow_streets, on='street', how='left')\n",
    "streets_area_top_10 = streets_area_top_10.drop(['index','areaid', 'object_name'],1)\n",
    "                                            \n",
    "                                            \n",
    "#объеденим два датафрейма по столбцу street.\n",
    "display(streets_area_top_10)"
   ]
  },
  {
   "cell_type": "markdown",
   "metadata": {},
   "source": [
    "**Вывод** \n",
    "\n",
    "Мы получили наиболее популярные улицы для расположения кафе. Как мы видим это разные районы Москвы. Думаю есть смысл нашим менеджерам изучить стоимость аренды и проходимость, чтобы встроить эту информацию в наш бизнес план."
   ]
  },
  {
   "cell_type": "markdown",
   "metadata": {},
   "source": [
    "### Найдем число улиц с одним объектом общественного питания. Воспользуемся внешней информацией и ответем на вопрос — в каких районах Москвы находятся эти улицы?"
   ]
  },
  {
   "cell_type": "markdown",
   "metadata": {},
   "source": [
    "Найдем число улиц с одним объектом. Для этого создадим сводную таблицу one_object"
   ]
  },
  {
   "cell_type": "code",
   "execution_count": 155,
   "metadata": {},
   "outputs": [
    {
     "data": {
      "text/html": [
       "<div>\n",
       "<style scoped>\n",
       "    .dataframe tbody tr th:only-of-type {\n",
       "        vertical-align: middle;\n",
       "    }\n",
       "\n",
       "    .dataframe tbody tr th {\n",
       "        vertical-align: top;\n",
       "    }\n",
       "\n",
       "    .dataframe thead th {\n",
       "        text-align: right;\n",
       "    }\n",
       "</style>\n",
       "<table border=\"1\" class=\"dataframe\">\n",
       "  <thead>\n",
       "    <tr style=\"text-align: right;\">\n",
       "      <th></th>\n",
       "      <th>street</th>\n",
       "    </tr>\n",
       "  </thead>\n",
       "  <tbody>\n",
       "    <tr>\n",
       "      <th>0</th>\n",
       "      <td>барабанный переулок</td>\n",
       "    </tr>\n",
       "    <tr>\n",
       "      <th>1</th>\n",
       "      <td>улица недорубова</td>\n",
       "    </tr>\n",
       "    <tr>\n",
       "      <th>2</th>\n",
       "      <td>базовая улица</td>\n",
       "    </tr>\n",
       "    <tr>\n",
       "      <th>3</th>\n",
       "      <td>улица линии октябрьской железной дороги</td>\n",
       "    </tr>\n",
       "    <tr>\n",
       "      <th>4</th>\n",
       "      <td>улица лапина</td>\n",
       "    </tr>\n",
       "  </tbody>\n",
       "</table>\n",
       "</div>"
      ],
      "text/plain": [
       "                                     street\n",
       "0                       барабанный переулок\n",
       "1                          улица недорубова\n",
       "2                             базовая улица\n",
       "3   улица линии октябрьской железной дороги\n",
       "4                              улица лапина"
      ]
     },
     "metadata": {},
     "output_type": "display_data"
    }
   ],
   "source": [
    "one_object = data.groupby('street').agg({'object_name': 'count'}).sort_values(by = 'object_name', ascending = False)\n",
    "one_object = one_object.query('object_name == 1')\n",
    "one_object =one_object.reset_index()\n",
    "one_object['street'] = one_object['street'].str.lower()\n",
    "one_object= one_object.drop('object_name',1)\n",
    "display(one_object.head())\n"
   ]
  },
  {
   "cell_type": "code",
   "execution_count": 156,
   "metadata": {},
   "outputs": [
    {
     "data": {
      "text/html": [
       "<div>\n",
       "<style scoped>\n",
       "    .dataframe tbody tr th:only-of-type {\n",
       "        vertical-align: middle;\n",
       "    }\n",
       "\n",
       "    .dataframe tbody tr th {\n",
       "        vertical-align: top;\n",
       "    }\n",
       "\n",
       "    .dataframe thead th {\n",
       "        text-align: right;\n",
       "    }\n",
       "</style>\n",
       "<table border=\"1\" class=\"dataframe\">\n",
       "  <thead>\n",
       "    <tr style=\"text-align: right;\">\n",
       "      <th></th>\n",
       "      <th>street</th>\n",
       "      <th>areaid</th>\n",
       "      <th>okrug</th>\n",
       "      <th>area</th>\n",
       "    </tr>\n",
       "  </thead>\n",
       "  <tbody>\n",
       "    <tr>\n",
       "      <th>0</th>\n",
       "      <td>выставочный переулок</td>\n",
       "      <td>17</td>\n",
       "      <td>ЦАО</td>\n",
       "      <td>Пресненский район</td>\n",
       "    </tr>\n",
       "    <tr>\n",
       "      <th>1</th>\n",
       "      <td>улица гашека</td>\n",
       "      <td>17</td>\n",
       "      <td>ЦАО</td>\n",
       "      <td>Пресненский район</td>\n",
       "    </tr>\n",
       "    <tr>\n",
       "      <th>2</th>\n",
       "      <td>большая никитская улица</td>\n",
       "      <td>17</td>\n",
       "      <td>ЦАО</td>\n",
       "      <td>Пресненский район</td>\n",
       "    </tr>\n",
       "    <tr>\n",
       "      <th>3</th>\n",
       "      <td>глубокий переулок</td>\n",
       "      <td>17</td>\n",
       "      <td>ЦАО</td>\n",
       "      <td>Пресненский район</td>\n",
       "    </tr>\n",
       "    <tr>\n",
       "      <th>4</th>\n",
       "      <td>большой гнездниковский переулок</td>\n",
       "      <td>17</td>\n",
       "      <td>ЦАО</td>\n",
       "      <td>Пресненский район</td>\n",
       "    </tr>\n",
       "    <tr>\n",
       "      <th>...</th>\n",
       "      <td>...</td>\n",
       "      <td>...</td>\n",
       "      <td>...</td>\n",
       "      <td>...</td>\n",
       "    </tr>\n",
       "    <tr>\n",
       "      <th>4393</th>\n",
       "      <td>вознесенский проезд</td>\n",
       "      <td>17</td>\n",
       "      <td>ЦАО</td>\n",
       "      <td>Пресненский район</td>\n",
       "    </tr>\n",
       "    <tr>\n",
       "      <th>4394</th>\n",
       "      <td>волков переулок</td>\n",
       "      <td>17</td>\n",
       "      <td>ЦАО</td>\n",
       "      <td>Пресненский район</td>\n",
       "    </tr>\n",
       "    <tr>\n",
       "      <th>4395</th>\n",
       "      <td>поварская улица</td>\n",
       "      <td>17</td>\n",
       "      <td>ЦАО</td>\n",
       "      <td>Пресненский район</td>\n",
       "    </tr>\n",
       "    <tr>\n",
       "      <th>4396</th>\n",
       "      <td>кудринская площадь</td>\n",
       "      <td>17</td>\n",
       "      <td>ЦАО</td>\n",
       "      <td>Пресненский район</td>\n",
       "    </tr>\n",
       "    <tr>\n",
       "      <th>4397</th>\n",
       "      <td>вспольный переулок</td>\n",
       "      <td>17</td>\n",
       "      <td>ЦАО</td>\n",
       "      <td>Пресненский район</td>\n",
       "    </tr>\n",
       "  </tbody>\n",
       "</table>\n",
       "<p>4398 rows × 4 columns</p>\n",
       "</div>"
      ],
      "text/plain": [
       "                               street  areaid okrug               area\n",
       "0                выставочный переулок      17   ЦАО  Пресненский район\n",
       "1                        улица гашека      17   ЦАО  Пресненский район\n",
       "2             большая никитская улица      17   ЦАО  Пресненский район\n",
       "3                   глубокий переулок      17   ЦАО  Пресненский район\n",
       "4     большой гнездниковский переулок      17   ЦАО  Пресненский район\n",
       "...                               ...     ...   ...                ...\n",
       "4393              вознесенский проезд      17   ЦАО  Пресненский район\n",
       "4394                  волков переулок      17   ЦАО  Пресненский район\n",
       "4395                  поварская улица      17   ЦАО  Пресненский район\n",
       "4396               кудринская площадь      17   ЦАО  Пресненский район\n",
       "4397               вспольный переулок      17   ЦАО  Пресненский район\n",
       "\n",
       "[4398 rows x 4 columns]"
      ]
     },
     "metadata": {},
     "output_type": "display_data"
    }
   ],
   "source": [
    "display(moscow_streets)"
   ]
  },
  {
   "cell_type": "markdown",
   "metadata": {},
   "source": [
    "Итого 579 улиц всего с одним объектом."
   ]
  },
  {
   "cell_type": "code",
   "execution_count": 157,
   "metadata": {},
   "outputs": [
    {
     "data": {
      "text/html": [
       "<div>\n",
       "<style scoped>\n",
       "    .dataframe tbody tr th:only-of-type {\n",
       "        vertical-align: middle;\n",
       "    }\n",
       "\n",
       "    .dataframe tbody tr th {\n",
       "        vertical-align: top;\n",
       "    }\n",
       "\n",
       "    .dataframe thead th {\n",
       "        text-align: right;\n",
       "    }\n",
       "</style>\n",
       "<table border=\"1\" class=\"dataframe\">\n",
       "  <thead>\n",
       "    <tr style=\"text-align: right;\">\n",
       "      <th></th>\n",
       "      <th>street</th>\n",
       "      <th>okrug</th>\n",
       "      <th>area</th>\n",
       "    </tr>\n",
       "  </thead>\n",
       "  <tbody>\n",
       "    <tr>\n",
       "      <th>0</th>\n",
       "      <td>барабанный переулок</td>\n",
       "      <td>ВАО</td>\n",
       "      <td>Район Соколиная Гора</td>\n",
       "    </tr>\n",
       "    <tr>\n",
       "      <th>1</th>\n",
       "      <td>улица недорубова</td>\n",
       "      <td>NaN</td>\n",
       "      <td>NaN</td>\n",
       "    </tr>\n",
       "    <tr>\n",
       "      <th>2</th>\n",
       "      <td>базовая улица</td>\n",
       "      <td>ЗАО</td>\n",
       "      <td>Район Внуково</td>\n",
       "    </tr>\n",
       "    <tr>\n",
       "      <th>3</th>\n",
       "      <td>улица линии октябрьской железной дороги</td>\n",
       "      <td>САО</td>\n",
       "      <td>Тимирязевский Район</td>\n",
       "    </tr>\n",
       "    <tr>\n",
       "      <th>4</th>\n",
       "      <td>улица лапина</td>\n",
       "      <td>ЮВАО</td>\n",
       "      <td>Район Лефортово</td>\n",
       "    </tr>\n",
       "  </tbody>\n",
       "</table>\n",
       "</div>"
      ],
      "text/plain": [
       "                                    street okrug                  area\n",
       "0                      барабанный переулок   ВАО  Район Соколиная Гора\n",
       "1                         улица недорубова   NaN                   NaN\n",
       "2                            базовая улица   ЗАО         Район Внуково\n",
       "3  улица линии октябрьской железной дороги   САО   Тимирязевский Район\n",
       "4                             улица лапина  ЮВАО       Район Лефортово"
      ]
     },
     "metadata": {},
     "output_type": "display_data"
    }
   ],
   "source": [
    "one_object['street'] = one_object['street'].str.strip().str.lower()\n",
    "one_object_area = one_object.merge(moscow_streets, on='street', how='left')\n",
    "one_object_area = one_object_area.drop(['areaid'],1)\n",
    "one_object_area.drop_duplicates()\n",
    "\n",
    "display(one_object_area.head())\n"
   ]
  },
  {
   "cell_type": "code",
   "execution_count": 158,
   "metadata": {},
   "outputs": [
    {
     "data": {
      "text/plain": [
       "0"
      ]
     },
     "metadata": {},
     "output_type": "display_data"
    }
   ],
   "source": [
    "check_street = streets_area_top_10['area'].isnull().sum()\n",
    "display(check_street)"
   ]
  },
  {
   "cell_type": "code",
   "execution_count": 159,
   "metadata": {},
   "outputs": [
    {
     "data": {
      "text/plain": [
       "62"
      ]
     },
     "metadata": {},
     "output_type": "display_data"
    }
   ],
   "source": [
    "check_street2 = one_object_area['area'].isnull().sum()\n",
    "display(check_street2)"
   ]
  },
  {
   "cell_type": "code",
   "execution_count": 160,
   "metadata": {},
   "outputs": [
    {
     "name": "stdout",
     "output_type": "stream",
     "text": [
      "<class 'pandas.core.frame.DataFrame'>\n",
      "Int64Index: 622 entries, 0 to 621\n",
      "Data columns (total 3 columns):\n",
      " #   Column  Non-Null Count  Dtype \n",
      "---  ------  --------------  ----- \n",
      " 0   street  622 non-null    object\n",
      " 1   okrug   560 non-null    object\n",
      " 2   area    560 non-null    object\n",
      "dtypes: object(3)\n",
      "memory usage: 19.4+ KB\n"
     ]
    }
   ],
   "source": [
    "one_object_area.info()"
   ]
  },
  {
   "cell_type": "markdown",
   "metadata": {},
   "source": [
    "**Вывод**\n",
    "622 улицы которые находятся в 560 районах г. Москва имеют всего одно заведение. Тоже интересный вариант, меньше конкурентов больше посетителей.\n"
   ]
  },
  {
   "cell_type": "markdown",
   "metadata": {},
   "source": [
    "### Посмотрим на распределение количества посадочных мест для улиц с большим количеством объектов общественного питания. "
   ]
  },
  {
   "cell_type": "code",
   "execution_count": 161,
   "metadata": {},
   "outputs": [
    {
     "data": {
      "text/plain": [
       "count    1500.000000\n",
       "mean       58.020667\n",
       "std        90.058384\n",
       "min         0.000000\n",
       "25%        12.000000\n",
       "50%        40.000000\n",
       "75%        75.000000\n",
       "max      1700.000000\n",
       "Name: number, dtype: float64"
      ]
     },
     "execution_count": 161,
     "metadata": {},
     "output_type": "execute_result"
    }
   ],
   "source": [
    "data['street']= data['street'].str.strip().str.lower()\n",
    "distribution_number_seats = data[data['street'].isin(streets_area_top_10.reset_index()['street'])]\n",
    "distribution_number_seats.head()\n",
    "distribution_number_seats['number'].describe()"
   ]
  },
  {
   "cell_type": "code",
   "execution_count": 162,
   "metadata": {},
   "outputs": [
    {
     "data": {
      "image/png": "[encoded data removed]",
      "text/plain": [
       "<Figure size 1080x720 with 1 Axes>"
      ]
     },
     "metadata": {
      "needs_background": "light"
     },
     "output_type": "display_data"
    }
   ],
   "source": [
    "plt.figure(figsize=(15, 10))\n",
    "\n",
    "ax = sns.distplot(distribution_number_seats['number'],bins=30)\n",
    "ax.set_xlim(-10,350)\n",
    "\n",
    "ax.set_title('Распределение количества посадочных мест для улиц с большим количеством объектов общественного питания.')\n",
    "ax.set_xlabel('Количество мест')\n",
    "\n",
    "plt.show()\n",
    "\n",
    "\n"
   ]
  },
  {
   "cell_type": "code",
   "execution_count": 163,
   "metadata": {},
   "outputs": [
    {
     "data": {
      "image/png": "[encoded data removed]",
      "text/plain": [
       "<Figure size 1080x720 with 1 Axes>"
      ]
     },
     "metadata": {
      "needs_background": "light"
     },
     "output_type": "display_data"
    }
   ],
   "source": [
    "plt.figure(figsize=(15, 10))\n",
    "\n",
    "ax = sns.boxplot(x=distribution_number_seats['number'])\n",
    "ax.set_title('Медианное количество посадочных мест в объектах общественного питания в Москве')\n",
    "ax.set_xlim(-10,200)\n",
    "plt.show()"
   ]
  },
  {
   "cell_type": "code",
   "execution_count": 164,
   "metadata": {},
   "outputs": [
    {
     "data": {
      "image/png": "[encoded data removed]",
      "text/plain": [
       "<Figure size 1080x720 with 1 Axes>"
      ]
     },
     "metadata": {
      "needs_background": "light"
     },
     "output_type": "display_data"
    }
   ],
   "source": [
    "plt.figure(figsize=(15, 10))\n",
    "\n",
    "ax=sns.boxplot(x='street', y='number', data= distribution_number_seats)\n",
    "ax.set_ylim(-10,250)\n",
    "ax.set_title('Медианное количество посадочных мест в объектах общественного питания в Москве для наибилее популярных улицах')\n",
    "ax.set_xlabel('Название улицы') \n",
    "ax.set_ylabel('Количество мест')\n",
    "plt.xticks(rotation = -45)\n",
    "\n",
    "plt.show()"
   ]
  },
  {
   "cell_type": "markdown",
   "metadata": {},
   "source": [
    "**Вывод**\n",
    "\n",
    "Среднее значение посадочных мест для заведений которые находятся на популярных улицах г. Москва: 54 места. Нормальным считается распределение от 15 до 70.  При этом медианное значение 35. Предлагаю ориентироваться на медианное значение в нашем бизнес плане. Также мы видим, что кол-во посадочных мест на популярных улицах в целом небольшое. Значит можем предположить, что аренды тут высокие."
   ]
  },
  {
   "cell_type": "markdown",
   "metadata": {},
   "source": [
    "<div class=\"alert alert-success\">\n",
    "<b>✅ Комментарий ревьюера:</b> \n",
    "\n",
    "Да, все корректно. Молодец, что применяешь построение гистограмм для определения распределения выборки.\n",
    "</div>"
   ]
  },
  {
   "cell_type": "markdown",
   "metadata": {},
   "source": [
    "## Общий вывод"
   ]
  },
  {
   "cell_type": "markdown",
   "metadata": {},
   "source": [
    "По результату исследований можно сделать следующие выводы:\n",
    "\n",
    "- Наиболее популярные форматы заведений: Кафе, Cтоловая, Ресторан, Фастфуд.\n",
    "\n",
    "- Преобладают в основном несетевые заведения. \n",
    "\n",
    "- Сетевыми заведениями в основном являются фастфуд, кулинария и рестораны. На 4 месте Кафе.\n",
    "\n",
    "- Для Кафе в целом характерно 30 посадочных мест в г. Москва.\n",
    " \n",
    "- Мы получили топ 10 популярных улиц, где больше всего заведений общепита.  Они находятся в разных районах. Есть смысл изучить проходимость и стоимость аренды.\n",
    "\n",
    "- Мы нашли улицы где есть только одно заведение, есть смысл рассмотреть проходимость, арендую стоимость, возможно будут какие либо крупные застройки в этих районах.\n",
    "\n",
    "- Наибольее оптимальное кол-во посадочных мест 35 мест.\n"
   ]
  },
  {
   "cell_type": "markdown",
   "metadata": {},
   "source": [
    "Предлагаю:\n",
    "\n",
    "- Ориентироваться на популярные улицы.\n",
    "\n",
    "- Изучить арендную стоимость на этих улицах. \n",
    "\n",
    "- Изучить средний чек и проходимость на популярных улицах.\n",
    "\n",
    "- Рассмотреть туристические места. \n",
    "\n",
    "- Обратить внимания на близость новых объектов или бизнес центров.\n",
    "\n",
    "- Помещения искать исходя из возможности разместить 35 гостей.\n",
    "\n",
    "- Рассмотреть вариант размещения кафе на улицах где только одно заведения общественного питания."
   ]
  },
  {
   "cell_type": "markdown",
   "metadata": {},
   "source": [
    "Презентация: https://drive.google.com/file/d/1uoOhKx_htiJrVMkbpg3WaqDFYyOtu_AS/view?usp=sharing\n"
   ]
  },
  {
   "cell_type": "code",
   "execution_count": null,
   "metadata": {},
   "outputs": [],
   "source": []
  }
 ],
 "metadata": {
  "ExecuteTimeLog": [
   {
    "duration": 147,
    "start_time": "2022-03-20T08:47:17.095Z"
   },
   {
    "duration": 75,
    "start_time": "2022-03-20T18:50:48.351Z"
   },
   {
    "duration": 453,
    "start_time": "2022-03-20T18:56:14.133Z"
   },
   {
    "duration": 4,
    "start_time": "2022-03-20T18:56:15.778Z"
   },
   {
    "duration": 84,
    "start_time": "2022-03-20T18:56:15.785Z"
   },
   {
    "duration": 25,
    "start_time": "2022-03-20T18:56:52.223Z"
   },
   {
    "duration": 13,
    "start_time": "2022-03-20T18:56:53.810Z"
   },
   {
    "duration": 67,
    "start_time": "2022-03-20T18:56:53.826Z"
   },
   {
    "duration": 18,
    "start_time": "2022-03-20T18:56:53.895Z"
   },
   {
    "duration": 41,
    "start_time": "2022-03-20T19:03:42.717Z"
   },
   {
    "duration": 23,
    "start_time": "2022-03-20T19:05:41.666Z"
   },
   {
    "duration": 151,
    "start_time": "2022-03-20T19:10:40.271Z"
   },
   {
    "duration": 15,
    "start_time": "2022-03-20T19:19:14.344Z"
   },
   {
    "duration": 46,
    "start_time": "2022-03-20T20:15:25.008Z"
   },
   {
    "duration": 1207,
    "start_time": "2022-03-20T20:15:58.172Z"
   },
   {
    "duration": 15,
    "start_time": "2022-03-20T20:15:59.382Z"
   },
   {
    "duration": 67,
    "start_time": "2022-03-20T20:15:59.400Z"
   },
   {
    "duration": 28,
    "start_time": "2022-03-20T20:15:59.469Z"
   },
   {
    "duration": 24,
    "start_time": "2022-03-20T20:15:59.499Z"
   },
   {
    "duration": 837,
    "start_time": "2022-03-20T20:15:59.525Z"
   },
   {
    "duration": 6,
    "start_time": "2022-03-20T20:22:35.476Z"
   },
   {
    "duration": 773,
    "start_time": "2022-03-20T20:22:56.141Z"
   },
   {
    "duration": 19,
    "start_time": "2022-03-20T20:23:45.027Z"
   },
   {
    "duration": 12,
    "start_time": "2022-03-20T20:24:20.324Z"
   },
   {
    "duration": 788,
    "start_time": "2022-03-20T20:24:30.082Z"
   },
   {
    "duration": 789,
    "start_time": "2022-03-20T20:33:41.607Z"
   },
   {
    "duration": 828,
    "start_time": "2022-03-20T20:33:50.966Z"
   },
   {
    "duration": 859,
    "start_time": "2022-03-20T20:34:00.694Z"
   },
   {
    "duration": 834,
    "start_time": "2022-03-20T20:35:08.542Z"
   },
   {
    "duration": 992,
    "start_time": "2022-03-20T20:36:46.363Z"
   },
   {
    "duration": 1049,
    "start_time": "2022-03-20T20:37:05.836Z"
   },
   {
    "duration": 962,
    "start_time": "2022-03-20T20:37:16.986Z"
   },
   {
    "duration": 1157,
    "start_time": "2022-03-20T20:37:35.485Z"
   },
   {
    "duration": 18,
    "start_time": "2022-03-20T20:41:25.018Z"
   },
   {
    "duration": 17,
    "start_time": "2022-03-20T20:41:34.309Z"
   },
   {
    "duration": 869,
    "start_time": "2022-03-20T20:41:44.518Z"
   },
   {
    "duration": 900,
    "start_time": "2022-03-20T20:42:02.516Z"
   },
   {
    "duration": 857,
    "start_time": "2022-03-20T20:42:17.219Z"
   },
   {
    "duration": 900,
    "start_time": "2022-03-20T20:42:27.385Z"
   },
   {
    "duration": 653,
    "start_time": "2022-03-20T20:42:59.154Z"
   },
   {
    "duration": 888,
    "start_time": "2022-03-20T20:43:19.594Z"
   },
   {
    "duration": 427,
    "start_time": "2022-03-20T20:44:50.944Z"
   },
   {
    "duration": 342,
    "start_time": "2022-03-20T20:45:09.257Z"
   },
   {
    "duration": 24,
    "start_time": "2022-03-20T20:45:23.877Z"
   },
   {
    "duration": 31,
    "start_time": "2022-03-20T20:48:03.362Z"
   },
   {
    "duration": 237,
    "start_time": "2022-03-20T20:48:34.052Z"
   },
   {
    "duration": 226,
    "start_time": "2022-03-20T20:48:46.826Z"
   },
   {
    "duration": 484,
    "start_time": "2022-03-20T20:49:15.452Z"
   },
   {
    "duration": 18,
    "start_time": "2022-03-20T20:49:35.839Z"
   },
   {
    "duration": 348,
    "start_time": "2022-03-20T20:52:55.551Z"
   },
   {
    "duration": 276,
    "start_time": "2022-03-20T20:53:12.050Z"
   },
   {
    "duration": 340,
    "start_time": "2022-03-20T20:53:25.223Z"
   },
   {
    "duration": 25,
    "start_time": "2022-03-20T20:54:21.397Z"
   },
   {
    "duration": 26,
    "start_time": "2022-03-20T20:55:27.260Z"
   },
   {
    "duration": 333,
    "start_time": "2022-03-20T20:55:38.594Z"
   },
   {
    "duration": 352,
    "start_time": "2022-03-20T20:58:03.702Z"
   },
   {
    "duration": 30,
    "start_time": "2022-03-20T20:58:37.808Z"
   },
   {
    "duration": 446,
    "start_time": "2022-03-20T20:59:29.313Z"
   },
   {
    "duration": 452,
    "start_time": "2022-03-20T20:59:38.365Z"
   },
   {
    "duration": 15,
    "start_time": "2022-03-20T20:59:54.513Z"
   },
   {
    "duration": 150,
    "start_time": "2022-03-20T21:00:00.893Z"
   },
   {
    "duration": 631,
    "start_time": "2022-03-20T21:00:16.583Z"
   },
   {
    "duration": 497,
    "start_time": "2022-03-20T21:00:34.796Z"
   },
   {
    "duration": 47,
    "start_time": "2022-03-21T07:50:23.285Z"
   },
   {
    "duration": 1279,
    "start_time": "2022-03-21T07:50:24.644Z"
   },
   {
    "duration": 59,
    "start_time": "2022-03-21T07:50:25.925Z"
   },
   {
    "duration": 0,
    "start_time": "2022-03-21T07:50:25.986Z"
   },
   {
    "duration": 0,
    "start_time": "2022-03-21T07:50:25.987Z"
   },
   {
    "duration": 0,
    "start_time": "2022-03-21T07:50:25.988Z"
   },
   {
    "duration": 0,
    "start_time": "2022-03-21T07:50:25.990Z"
   },
   {
    "duration": 8,
    "start_time": "2022-03-21T07:51:22.801Z"
   },
   {
    "duration": 7,
    "start_time": "2022-03-21T07:51:24.135Z"
   },
   {
    "duration": 59,
    "start_time": "2022-03-21T07:51:36.025Z"
   },
   {
    "duration": 3,
    "start_time": "2022-03-21T07:51:37.291Z"
   },
   {
    "duration": 53,
    "start_time": "2022-03-21T07:51:37.296Z"
   },
   {
    "duration": 12,
    "start_time": "2022-03-21T07:51:37.351Z"
   },
   {
    "duration": 13,
    "start_time": "2022-03-21T07:51:37.365Z"
   },
   {
    "duration": 17,
    "start_time": "2022-03-21T07:51:37.380Z"
   },
   {
    "duration": 506,
    "start_time": "2022-03-21T07:51:37.398Z"
   },
   {
    "duration": 502,
    "start_time": "2022-03-21T07:52:29.261Z"
   },
   {
    "duration": 517,
    "start_time": "2022-03-21T07:53:31.917Z"
   },
   {
    "duration": 110,
    "start_time": "2022-03-21T07:53:46.315Z"
   },
   {
    "duration": 491,
    "start_time": "2022-03-21T07:53:55.988Z"
   },
   {
    "duration": 50,
    "start_time": "2022-03-21T07:54:27.077Z"
   },
   {
    "duration": 517,
    "start_time": "2022-03-21T07:54:41.790Z"
   },
   {
    "duration": 212,
    "start_time": "2022-03-21T07:56:27.419Z"
   },
   {
    "duration": 213,
    "start_time": "2022-03-21T07:57:04.828Z"
   },
   {
    "duration": 244,
    "start_time": "2022-03-21T07:57:21.451Z"
   },
   {
    "duration": 219,
    "start_time": "2022-03-21T07:58:01.980Z"
   },
   {
    "duration": 12,
    "start_time": "2022-03-21T07:59:50.065Z"
   },
   {
    "duration": 276,
    "start_time": "2022-03-21T07:59:53.615Z"
   },
   {
    "duration": 3,
    "start_time": "2022-03-21T07:59:55.377Z"
   },
   {
    "duration": 59,
    "start_time": "2022-03-21T07:59:55.382Z"
   },
   {
    "duration": 9,
    "start_time": "2022-03-21T07:59:55.443Z"
   },
   {
    "duration": 19,
    "start_time": "2022-03-21T07:59:55.453Z"
   },
   {
    "duration": 22,
    "start_time": "2022-03-21T07:59:55.474Z"
   },
   {
    "duration": 16,
    "start_time": "2022-03-21T07:59:55.498Z"
   },
   {
    "duration": 203,
    "start_time": "2022-03-21T07:59:55.516Z"
   },
   {
    "duration": 10,
    "start_time": "2022-03-21T08:57:37.268Z"
   },
   {
    "duration": 11,
    "start_time": "2022-03-21T08:57:43.153Z"
   },
   {
    "duration": 5,
    "start_time": "2022-03-21T08:57:48.401Z"
   },
   {
    "duration": 6,
    "start_time": "2022-03-21T08:58:09.778Z"
   },
   {
    "duration": 7,
    "start_time": "2022-03-21T08:58:23.554Z"
   },
   {
    "duration": 122,
    "start_time": "2022-03-21T08:59:03.996Z"
   },
   {
    "duration": 9,
    "start_time": "2022-03-21T08:59:11.785Z"
   },
   {
    "duration": 9,
    "start_time": "2022-03-21T08:59:20.074Z"
   },
   {
    "duration": 14,
    "start_time": "2022-03-21T08:59:45.617Z"
   },
   {
    "duration": 2853,
    "start_time": "2022-03-21T09:00:00.565Z"
   },
   {
    "duration": 10,
    "start_time": "2022-03-21T09:06:04.029Z"
   },
   {
    "duration": 6,
    "start_time": "2022-03-21T09:06:51.992Z"
   },
   {
    "duration": 10,
    "start_time": "2022-03-21T09:07:03.549Z"
   },
   {
    "duration": 5,
    "start_time": "2022-03-21T09:07:32.904Z"
   },
   {
    "duration": 7,
    "start_time": "2022-03-21T09:08:09.647Z"
   },
   {
    "duration": 6,
    "start_time": "2022-03-21T09:08:19.053Z"
   },
   {
    "duration": 2637,
    "start_time": "2022-03-21T09:34:43.748Z"
   },
   {
    "duration": 576,
    "start_time": "2022-03-21T09:35:13.421Z"
   },
   {
    "duration": 7,
    "start_time": "2022-03-21T09:35:25.267Z"
   },
   {
    "duration": 13,
    "start_time": "2022-03-21T09:35:52.185Z"
   },
   {
    "duration": 174,
    "start_time": "2022-03-21T09:36:29.341Z"
   },
   {
    "duration": 15,
    "start_time": "2022-03-21T09:36:47.153Z"
   },
   {
    "duration": 12,
    "start_time": "2022-03-21T09:37:11.236Z"
   },
   {
    "duration": 14,
    "start_time": "2022-03-21T09:37:37.932Z"
   },
   {
    "duration": 11,
    "start_time": "2022-03-21T09:47:34.853Z"
   },
   {
    "duration": 3,
    "start_time": "2022-03-21T09:47:46.523Z"
   },
   {
    "duration": 76,
    "start_time": "2022-03-21T09:47:46.528Z"
   },
   {
    "duration": 9,
    "start_time": "2022-03-21T09:47:46.607Z"
   },
   {
    "duration": 28,
    "start_time": "2022-03-21T09:47:46.617Z"
   },
   {
    "duration": 17,
    "start_time": "2022-03-21T09:47:46.647Z"
   },
   {
    "duration": 11,
    "start_time": "2022-03-21T09:47:46.666Z"
   },
   {
    "duration": 207,
    "start_time": "2022-03-21T09:47:46.678Z"
   },
   {
    "duration": 12,
    "start_time": "2022-03-21T09:47:46.886Z"
   },
   {
    "duration": 24,
    "start_time": "2022-03-21T09:47:46.899Z"
   },
   {
    "duration": 7,
    "start_time": "2022-03-21T09:48:15.299Z"
   },
   {
    "duration": 133,
    "start_time": "2022-03-21T09:57:41.424Z"
   },
   {
    "duration": 12,
    "start_time": "2022-03-21T09:57:47.320Z"
   },
   {
    "duration": 6,
    "start_time": "2022-03-21T09:57:54.475Z"
   },
   {
    "duration": 3,
    "start_time": "2022-03-21T09:57:55.981Z"
   },
   {
    "duration": 61,
    "start_time": "2022-03-21T09:57:55.987Z"
   },
   {
    "duration": 11,
    "start_time": "2022-03-21T09:57:56.050Z"
   },
   {
    "duration": 16,
    "start_time": "2022-03-21T09:57:56.063Z"
   },
   {
    "duration": 17,
    "start_time": "2022-03-21T09:57:56.081Z"
   },
   {
    "duration": 10,
    "start_time": "2022-03-21T09:57:56.099Z"
   },
   {
    "duration": 223,
    "start_time": "2022-03-21T09:57:56.111Z"
   },
   {
    "duration": 13,
    "start_time": "2022-03-21T09:57:56.335Z"
   },
   {
    "duration": 10,
    "start_time": "2022-03-21T09:57:56.350Z"
   },
   {
    "duration": 8,
    "start_time": "2022-03-21T10:39:10.774Z"
   },
   {
    "duration": 5,
    "start_time": "2022-03-21T10:39:37.269Z"
   },
   {
    "duration": 3,
    "start_time": "2022-03-21T10:39:39.509Z"
   },
   {
    "duration": 58,
    "start_time": "2022-03-21T10:39:39.514Z"
   },
   {
    "duration": 8,
    "start_time": "2022-03-21T10:39:39.574Z"
   },
   {
    "duration": 14,
    "start_time": "2022-03-21T10:39:39.584Z"
   },
   {
    "duration": 18,
    "start_time": "2022-03-21T10:39:39.600Z"
   },
   {
    "duration": 27,
    "start_time": "2022-03-21T10:39:39.620Z"
   },
   {
    "duration": 213,
    "start_time": "2022-03-21T10:39:39.648Z"
   },
   {
    "duration": 13,
    "start_time": "2022-03-21T10:39:39.863Z"
   },
   {
    "duration": 9,
    "start_time": "2022-03-21T10:39:39.877Z"
   },
   {
    "duration": 18,
    "start_time": "2022-03-21T10:39:39.887Z"
   },
   {
    "duration": 16,
    "start_time": "2022-03-21T10:39:59.376Z"
   },
   {
    "duration": 8,
    "start_time": "2022-03-21T10:42:55.257Z"
   },
   {
    "duration": 73,
    "start_time": "2022-03-21T10:43:12.884Z"
   },
   {
    "duration": 56,
    "start_time": "2022-03-21T10:43:15.178Z"
   },
   {
    "duration": 3,
    "start_time": "2022-03-21T10:43:16.779Z"
   },
   {
    "duration": 57,
    "start_time": "2022-03-21T10:43:16.786Z"
   },
   {
    "duration": 10,
    "start_time": "2022-03-21T10:43:16.845Z"
   },
   {
    "duration": 21,
    "start_time": "2022-03-21T10:43:16.857Z"
   },
   {
    "duration": 28,
    "start_time": "2022-03-21T10:43:16.881Z"
   },
   {
    "duration": 38,
    "start_time": "2022-03-21T10:43:16.911Z"
   },
   {
    "duration": 226,
    "start_time": "2022-03-21T10:43:16.951Z"
   },
   {
    "duration": 13,
    "start_time": "2022-03-21T10:43:17.178Z"
   },
   {
    "duration": 28,
    "start_time": "2022-03-21T10:43:17.193Z"
   },
   {
    "duration": 1200,
    "start_time": "2022-03-21T10:44:37.808Z"
   },
   {
    "duration": 54,
    "start_time": "2022-03-21T10:44:39.012Z"
   },
   {
    "duration": 12,
    "start_time": "2022-03-21T10:44:39.068Z"
   },
   {
    "duration": 25,
    "start_time": "2022-03-21T10:44:39.082Z"
   },
   {
    "duration": 30,
    "start_time": "2022-03-21T10:44:39.109Z"
   },
   {
    "duration": 19,
    "start_time": "2022-03-21T10:44:39.141Z"
   },
   {
    "duration": 206,
    "start_time": "2022-03-21T10:44:39.162Z"
   },
   {
    "duration": 12,
    "start_time": "2022-03-21T10:44:39.369Z"
   },
   {
    "duration": 31,
    "start_time": "2022-03-21T10:44:39.382Z"
   },
   {
    "duration": 539,
    "start_time": "2022-03-21T10:44:39.415Z"
   },
   {
    "duration": 801,
    "start_time": "2022-03-21T10:46:12.963Z"
   },
   {
    "duration": 4,
    "start_time": "2022-03-21T10:46:35.596Z"
   },
   {
    "duration": 71,
    "start_time": "2022-03-21T10:46:35.603Z"
   },
   {
    "duration": 11,
    "start_time": "2022-03-21T10:46:35.676Z"
   },
   {
    "duration": 31,
    "start_time": "2022-03-21T10:46:35.688Z"
   },
   {
    "duration": 40,
    "start_time": "2022-03-21T10:46:35.722Z"
   },
   {
    "duration": 14,
    "start_time": "2022-03-21T10:46:35.764Z"
   },
   {
    "duration": 211,
    "start_time": "2022-03-21T10:46:35.780Z"
   },
   {
    "duration": 14,
    "start_time": "2022-03-21T10:46:35.993Z"
   },
   {
    "duration": 24,
    "start_time": "2022-03-21T10:46:36.010Z"
   },
   {
    "duration": 520,
    "start_time": "2022-03-21T10:51:02.703Z"
   },
   {
    "duration": 15,
    "start_time": "2022-03-21T11:10:36.053Z"
   },
   {
    "duration": 22,
    "start_time": "2022-03-21T11:10:44.889Z"
   },
   {
    "duration": 174,
    "start_time": "2022-03-21T11:11:40.562Z"
   },
   {
    "duration": 225,
    "start_time": "2022-03-21T11:13:03.587Z"
   },
   {
    "duration": 134,
    "start_time": "2022-03-21T11:13:29.746Z"
   },
   {
    "duration": 120,
    "start_time": "2022-03-21T11:14:01.211Z"
   },
   {
    "duration": 3,
    "start_time": "2022-03-21T11:14:07.290Z"
   },
   {
    "duration": 62,
    "start_time": "2022-03-21T11:14:07.296Z"
   },
   {
    "duration": 10,
    "start_time": "2022-03-21T11:14:07.361Z"
   },
   {
    "duration": 15,
    "start_time": "2022-03-21T11:14:07.372Z"
   },
   {
    "duration": 18,
    "start_time": "2022-03-21T11:14:07.389Z"
   },
   {
    "duration": 32,
    "start_time": "2022-03-21T11:14:07.409Z"
   },
   {
    "duration": 205,
    "start_time": "2022-03-21T11:14:07.443Z"
   },
   {
    "duration": 12,
    "start_time": "2022-03-21T11:14:07.650Z"
   },
   {
    "duration": 12,
    "start_time": "2022-03-21T11:14:07.664Z"
   },
   {
    "duration": 118,
    "start_time": "2022-03-21T11:14:07.677Z"
   },
   {
    "duration": 115,
    "start_time": "2022-03-21T11:14:29.047Z"
   },
   {
    "duration": 110,
    "start_time": "2022-03-21T11:14:43.032Z"
   },
   {
    "duration": 117,
    "start_time": "2022-03-21T11:14:51.449Z"
   },
   {
    "duration": 11,
    "start_time": "2022-03-21T11:15:20.103Z"
   },
   {
    "duration": 74,
    "start_time": "2022-03-21T11:15:26.155Z"
   },
   {
    "duration": 89,
    "start_time": "2022-03-21T11:15:48.487Z"
   },
   {
    "duration": 88,
    "start_time": "2022-03-21T11:16:00.338Z"
   },
   {
    "duration": 19,
    "start_time": "2022-03-21T11:16:16.172Z"
   },
   {
    "duration": 18,
    "start_time": "2022-03-21T11:16:28.877Z"
   },
   {
    "duration": 135,
    "start_time": "2022-03-21T11:29:16.296Z"
   },
   {
    "duration": 15,
    "start_time": "2022-03-21T11:30:05.171Z"
   },
   {
    "duration": 5,
    "start_time": "2022-03-21T11:30:19.898Z"
   },
   {
    "duration": 48,
    "start_time": "2022-03-21T11:30:40.463Z"
   },
   {
    "duration": 1293,
    "start_time": "2022-03-21T11:30:44.533Z"
   },
   {
    "duration": 53,
    "start_time": "2022-03-21T11:30:45.828Z"
   },
   {
    "duration": 13,
    "start_time": "2022-03-21T11:30:45.883Z"
   },
   {
    "duration": 13,
    "start_time": "2022-03-21T11:30:45.898Z"
   },
   {
    "duration": 39,
    "start_time": "2022-03-21T11:30:45.913Z"
   },
   {
    "duration": 11,
    "start_time": "2022-03-21T11:30:45.953Z"
   },
   {
    "duration": 225,
    "start_time": "2022-03-21T11:30:45.966Z"
   },
   {
    "duration": 12,
    "start_time": "2022-03-21T11:30:46.193Z"
   },
   {
    "duration": 7,
    "start_time": "2022-03-21T11:30:46.206Z"
   },
   {
    "duration": 348,
    "start_time": "2022-03-21T11:30:46.215Z"
   },
   {
    "duration": 18,
    "start_time": "2022-03-21T11:37:29.880Z"
   },
   {
    "duration": 8,
    "start_time": "2022-03-21T11:38:10.480Z"
   },
   {
    "duration": 136,
    "start_time": "2022-03-21T11:38:30.698Z"
   },
   {
    "duration": 13,
    "start_time": "2022-03-21T11:38:36.295Z"
   },
   {
    "duration": 12,
    "start_time": "2022-03-21T11:39:05.859Z"
   },
   {
    "duration": 3,
    "start_time": "2022-03-21T11:39:14.183Z"
   },
   {
    "duration": 68,
    "start_time": "2022-03-21T11:39:14.189Z"
   },
   {
    "duration": 9,
    "start_time": "2022-03-21T11:39:14.259Z"
   },
   {
    "duration": 15,
    "start_time": "2022-03-21T11:39:14.270Z"
   },
   {
    "duration": 16,
    "start_time": "2022-03-21T11:39:14.287Z"
   },
   {
    "duration": 10,
    "start_time": "2022-03-21T11:39:14.305Z"
   },
   {
    "duration": 207,
    "start_time": "2022-03-21T11:39:14.337Z"
   },
   {
    "duration": 12,
    "start_time": "2022-03-21T11:39:14.546Z"
   },
   {
    "duration": 10,
    "start_time": "2022-03-21T11:39:14.560Z"
   },
   {
    "duration": 18,
    "start_time": "2022-03-21T11:39:14.572Z"
   },
   {
    "duration": 18,
    "start_time": "2022-03-21T11:48:18.279Z"
   },
   {
    "duration": 12,
    "start_time": "2022-03-21T11:48:37.430Z"
   },
   {
    "duration": 3,
    "start_time": "2022-03-21T11:48:48.650Z"
   },
   {
    "duration": 61,
    "start_time": "2022-03-21T11:48:48.657Z"
   },
   {
    "duration": 9,
    "start_time": "2022-03-21T11:48:48.720Z"
   },
   {
    "duration": 20,
    "start_time": "2022-03-21T11:48:48.731Z"
   },
   {
    "duration": 22,
    "start_time": "2022-03-21T11:48:48.754Z"
   },
   {
    "duration": 11,
    "start_time": "2022-03-21T11:48:48.777Z"
   },
   {
    "duration": 221,
    "start_time": "2022-03-21T11:48:48.790Z"
   },
   {
    "duration": 13,
    "start_time": "2022-03-21T11:48:49.013Z"
   },
   {
    "duration": 10,
    "start_time": "2022-03-21T11:48:49.038Z"
   },
   {
    "duration": 24,
    "start_time": "2022-03-21T11:48:49.050Z"
   },
   {
    "duration": 4,
    "start_time": "2022-03-21T11:50:41.609Z"
   },
   {
    "duration": 13,
    "start_time": "2022-03-21T11:50:54.438Z"
   },
   {
    "duration": 17,
    "start_time": "2022-03-21T12:25:01.692Z"
   },
   {
    "duration": 16,
    "start_time": "2022-03-21T12:25:15.667Z"
   },
   {
    "duration": 14,
    "start_time": "2022-03-21T12:26:06.764Z"
   },
   {
    "duration": 14,
    "start_time": "2022-03-21T12:26:13.858Z"
   },
   {
    "duration": 14,
    "start_time": "2022-03-21T12:29:47.467Z"
   },
   {
    "duration": 133,
    "start_time": "2022-03-21T12:29:51.701Z"
   },
   {
    "duration": 2,
    "start_time": "2022-03-21T12:29:53.231Z"
   },
   {
    "duration": 70,
    "start_time": "2022-03-21T12:29:53.235Z"
   },
   {
    "duration": 8,
    "start_time": "2022-03-21T12:29:53.307Z"
   },
   {
    "duration": 31,
    "start_time": "2022-03-21T12:29:53.316Z"
   },
   {
    "duration": 34,
    "start_time": "2022-03-21T12:29:53.350Z"
   },
   {
    "duration": 10,
    "start_time": "2022-03-21T12:29:53.386Z"
   },
   {
    "duration": 207,
    "start_time": "2022-03-21T12:29:53.397Z"
   },
   {
    "duration": 12,
    "start_time": "2022-03-21T12:29:53.606Z"
   },
   {
    "duration": 25,
    "start_time": "2022-03-21T12:29:53.620Z"
   },
   {
    "duration": 38,
    "start_time": "2022-03-21T12:29:53.647Z"
   },
   {
    "duration": 162,
    "start_time": "2022-03-21T12:29:53.686Z"
   },
   {
    "duration": 0,
    "start_time": "2022-03-21T12:29:53.849Z"
   },
   {
    "duration": 68,
    "start_time": "2022-03-21T12:59:59.589Z"
   },
   {
    "duration": 17,
    "start_time": "2022-03-21T13:00:11.638Z"
   },
   {
    "duration": 24,
    "start_time": "2022-03-21T13:27:02.143Z"
   },
   {
    "duration": 16,
    "start_time": "2022-03-21T13:27:24.287Z"
   },
   {
    "duration": 22,
    "start_time": "2022-03-21T13:27:43.070Z"
   },
   {
    "duration": 22,
    "start_time": "2022-03-21T13:27:53.159Z"
   },
   {
    "duration": 19,
    "start_time": "2022-03-21T13:30:20.976Z"
   },
   {
    "duration": 15,
    "start_time": "2022-03-21T13:33:52.413Z"
   },
   {
    "duration": 12,
    "start_time": "2022-03-21T13:34:12.766Z"
   },
   {
    "duration": 3,
    "start_time": "2022-03-21T13:34:22.637Z"
   },
   {
    "duration": 60,
    "start_time": "2022-03-21T13:34:22.642Z"
   },
   {
    "duration": 9,
    "start_time": "2022-03-21T13:34:22.704Z"
   },
   {
    "duration": 25,
    "start_time": "2022-03-21T13:34:22.715Z"
   },
   {
    "duration": 22,
    "start_time": "2022-03-21T13:34:22.742Z"
   },
   {
    "duration": 10,
    "start_time": "2022-03-21T13:34:22.766Z"
   },
   {
    "duration": 211,
    "start_time": "2022-03-21T13:34:22.778Z"
   },
   {
    "duration": 12,
    "start_time": "2022-03-21T13:34:22.990Z"
   },
   {
    "duration": 11,
    "start_time": "2022-03-21T13:34:23.004Z"
   },
   {
    "duration": 116,
    "start_time": "2022-03-21T13:34:23.017Z"
   },
   {
    "duration": 119,
    "start_time": "2022-03-21T13:34:23.138Z"
   },
   {
    "duration": 0,
    "start_time": "2022-03-21T13:34:23.258Z"
   },
   {
    "duration": 0,
    "start_time": "2022-03-21T13:34:23.260Z"
   },
   {
    "duration": 3,
    "start_time": "2022-03-21T13:34:52.494Z"
   },
   {
    "duration": 67,
    "start_time": "2022-03-21T13:34:52.499Z"
   },
   {
    "duration": 10,
    "start_time": "2022-03-21T13:34:52.568Z"
   },
   {
    "duration": 26,
    "start_time": "2022-03-21T13:34:52.580Z"
   },
   {
    "duration": 40,
    "start_time": "2022-03-21T13:34:52.609Z"
   },
   {
    "duration": 18,
    "start_time": "2022-03-21T13:34:52.650Z"
   },
   {
    "duration": 227,
    "start_time": "2022-03-21T13:34:52.670Z"
   },
   {
    "duration": 13,
    "start_time": "2022-03-21T13:34:52.898Z"
   },
   {
    "duration": 43,
    "start_time": "2022-03-21T13:34:52.912Z"
   },
   {
    "duration": 66,
    "start_time": "2022-03-21T13:34:52.957Z"
   },
   {
    "duration": 37,
    "start_time": "2022-03-21T13:34:53.026Z"
   },
   {
    "duration": 20,
    "start_time": "2022-03-21T13:34:53.065Z"
   },
   {
    "duration": 3,
    "start_time": "2022-03-21T13:35:32.338Z"
   },
   {
    "duration": 63,
    "start_time": "2022-03-21T13:35:32.344Z"
   },
   {
    "duration": 9,
    "start_time": "2022-03-21T13:35:32.409Z"
   },
   {
    "duration": 29,
    "start_time": "2022-03-21T13:35:32.420Z"
   },
   {
    "duration": 19,
    "start_time": "2022-03-21T13:35:32.451Z"
   },
   {
    "duration": 11,
    "start_time": "2022-03-21T13:35:32.472Z"
   },
   {
    "duration": 236,
    "start_time": "2022-03-21T13:35:32.485Z"
   },
   {
    "duration": 17,
    "start_time": "2022-03-21T13:35:32.722Z"
   },
   {
    "duration": 15,
    "start_time": "2022-03-21T13:35:32.741Z"
   },
   {
    "duration": 22,
    "start_time": "2022-03-21T13:35:32.757Z"
   },
   {
    "duration": 24,
    "start_time": "2022-03-21T13:35:32.781Z"
   },
   {
    "duration": 14,
    "start_time": "2022-03-21T13:35:32.807Z"
   },
   {
    "duration": 20,
    "start_time": "2022-03-21T13:35:48.733Z"
   },
   {
    "duration": 14,
    "start_time": "2022-03-21T13:35:59.549Z"
   },
   {
    "duration": 15,
    "start_time": "2022-03-21T13:37:24.284Z"
   },
   {
    "duration": 14,
    "start_time": "2022-03-21T13:38:39.477Z"
   },
   {
    "duration": 3,
    "start_time": "2022-03-21T13:38:46.867Z"
   },
   {
    "duration": 60,
    "start_time": "2022-03-21T13:38:46.874Z"
   },
   {
    "duration": 10,
    "start_time": "2022-03-21T13:38:46.935Z"
   },
   {
    "duration": 15,
    "start_time": "2022-03-21T13:38:46.946Z"
   },
   {
    "duration": 17,
    "start_time": "2022-03-21T13:38:46.963Z"
   },
   {
    "duration": 11,
    "start_time": "2022-03-21T13:38:46.982Z"
   },
   {
    "duration": 218,
    "start_time": "2022-03-21T13:38:46.994Z"
   },
   {
    "duration": 12,
    "start_time": "2022-03-21T13:38:47.213Z"
   },
   {
    "duration": 13,
    "start_time": "2022-03-21T13:38:47.227Z"
   },
   {
    "duration": 18,
    "start_time": "2022-03-21T13:38:47.242Z"
   },
   {
    "duration": 19,
    "start_time": "2022-03-21T13:38:47.262Z"
   },
   {
    "duration": 13,
    "start_time": "2022-03-21T13:38:47.283Z"
   },
   {
    "duration": 10,
    "start_time": "2022-03-21T13:41:34.157Z"
   },
   {
    "duration": 11,
    "start_time": "2022-03-21T13:41:42.288Z"
   },
   {
    "duration": 11,
    "start_time": "2022-03-21T13:44:16.751Z"
   },
   {
    "duration": 4,
    "start_time": "2022-03-21T13:44:40.481Z"
   },
   {
    "duration": 10,
    "start_time": "2022-03-21T13:44:45.223Z"
   },
   {
    "duration": 10,
    "start_time": "2022-03-21T13:44:49.625Z"
   },
   {
    "duration": 116,
    "start_time": "2022-03-21T13:44:53.456Z"
   },
   {
    "duration": 5,
    "start_time": "2022-03-21T13:44:58.790Z"
   },
   {
    "duration": 35,
    "start_time": "2022-03-21T13:45:59.975Z"
   },
   {
    "duration": 5,
    "start_time": "2022-03-21T13:46:06.807Z"
   },
   {
    "duration": 180,
    "start_time": "2022-03-21T13:46:13.180Z"
   },
   {
    "duration": 198,
    "start_time": "2022-03-21T13:47:02.528Z"
   },
   {
    "duration": 206,
    "start_time": "2022-03-21T13:47:20.054Z"
   },
   {
    "duration": 2,
    "start_time": "2022-03-21T13:48:21.953Z"
   },
   {
    "duration": 17,
    "start_time": "2022-03-21T13:56:40.650Z"
   },
   {
    "duration": 4,
    "start_time": "2022-03-21T13:56:47.091Z"
   },
   {
    "duration": 62,
    "start_time": "2022-03-21T13:56:47.097Z"
   },
   {
    "duration": 10,
    "start_time": "2022-03-21T13:56:47.162Z"
   },
   {
    "duration": 27,
    "start_time": "2022-03-21T13:56:47.175Z"
   },
   {
    "duration": 35,
    "start_time": "2022-03-21T13:56:47.204Z"
   },
   {
    "duration": 11,
    "start_time": "2022-03-21T13:56:47.240Z"
   },
   {
    "duration": 206,
    "start_time": "2022-03-21T13:56:47.253Z"
   },
   {
    "duration": 13,
    "start_time": "2022-03-21T13:56:47.461Z"
   },
   {
    "duration": 11,
    "start_time": "2022-03-21T13:56:47.476Z"
   },
   {
    "duration": 16,
    "start_time": "2022-03-21T13:56:47.489Z"
   },
   {
    "duration": 49,
    "start_time": "2022-03-21T13:56:47.508Z"
   },
   {
    "duration": 2,
    "start_time": "2022-03-21T13:56:47.559Z"
   },
   {
    "duration": 219,
    "start_time": "2022-03-21T13:56:47.563Z"
   },
   {
    "duration": 23,
    "start_time": "2022-03-21T13:59:13.674Z"
   },
   {
    "duration": 14,
    "start_time": "2022-03-21T13:59:51.857Z"
   },
   {
    "duration": 191,
    "start_time": "2022-03-21T14:00:09.539Z"
   },
   {
    "duration": 120,
    "start_time": "2022-03-21T14:08:19.769Z"
   },
   {
    "duration": 203,
    "start_time": "2022-03-21T17:46:49.508Z"
   },
   {
    "duration": 3,
    "start_time": "2022-03-21T17:47:03.670Z"
   },
   {
    "duration": 61,
    "start_time": "2022-03-21T17:47:03.675Z"
   },
   {
    "duration": 9,
    "start_time": "2022-03-21T17:47:03.739Z"
   },
   {
    "duration": 15,
    "start_time": "2022-03-21T17:47:03.749Z"
   },
   {
    "duration": 17,
    "start_time": "2022-03-21T17:47:03.765Z"
   },
   {
    "duration": 12,
    "start_time": "2022-03-21T17:47:03.784Z"
   },
   {
    "duration": 220,
    "start_time": "2022-03-21T17:47:03.797Z"
   },
   {
    "duration": 19,
    "start_time": "2022-03-21T17:47:04.018Z"
   },
   {
    "duration": 6,
    "start_time": "2022-03-21T17:47:04.039Z"
   },
   {
    "duration": 15,
    "start_time": "2022-03-21T17:47:04.046Z"
   },
   {
    "duration": 21,
    "start_time": "2022-03-21T17:47:04.063Z"
   },
   {
    "duration": 3,
    "start_time": "2022-03-21T17:47:04.085Z"
   },
   {
    "duration": 228,
    "start_time": "2022-03-21T17:47:04.089Z"
   },
   {
    "duration": 1167,
    "start_time": "2022-03-21T17:48:33.452Z"
   },
   {
    "duration": 52,
    "start_time": "2022-03-21T17:48:34.621Z"
   },
   {
    "duration": 13,
    "start_time": "2022-03-21T17:48:34.675Z"
   },
   {
    "duration": 21,
    "start_time": "2022-03-21T17:48:34.690Z"
   },
   {
    "duration": 34,
    "start_time": "2022-03-21T17:48:34.713Z"
   },
   {
    "duration": 11,
    "start_time": "2022-03-21T17:48:34.748Z"
   },
   {
    "duration": 216,
    "start_time": "2022-03-21T17:48:34.761Z"
   },
   {
    "duration": 13,
    "start_time": "2022-03-21T17:48:34.978Z"
   },
   {
    "duration": 44,
    "start_time": "2022-03-21T17:48:34.993Z"
   },
   {
    "duration": 167,
    "start_time": "2022-03-21T17:48:35.039Z"
   },
   {
    "duration": 44,
    "start_time": "2022-03-21T17:48:35.208Z"
   },
   {
    "duration": 3,
    "start_time": "2022-03-21T17:48:35.253Z"
   },
   {
    "duration": 321,
    "start_time": "2022-03-21T17:48:35.257Z"
   },
   {
    "duration": 117,
    "start_time": "2022-03-21T18:10:40.589Z"
   },
   {
    "duration": 215,
    "start_time": "2022-03-21T18:11:32.034Z"
   },
   {
    "duration": 217,
    "start_time": "2022-03-21T18:11:39.878Z"
   },
   {
    "duration": 331,
    "start_time": "2022-03-21T18:12:05.522Z"
   },
   {
    "duration": 222,
    "start_time": "2022-03-21T18:12:42.075Z"
   },
   {
    "duration": 225,
    "start_time": "2022-03-21T18:12:53.723Z"
   },
   {
    "duration": 259,
    "start_time": "2022-03-21T18:12:59.194Z"
   },
   {
    "duration": 275,
    "start_time": "2022-03-21T18:37:11.339Z"
   },
   {
    "duration": 274,
    "start_time": "2022-03-21T18:43:38.302Z"
   },
   {
    "duration": 372,
    "start_time": "2022-03-21T18:43:54.034Z"
   },
   {
    "duration": 259,
    "start_time": "2022-03-21T18:44:07.698Z"
   },
   {
    "duration": 268,
    "start_time": "2022-03-21T18:44:16.792Z"
   },
   {
    "duration": 278,
    "start_time": "2022-03-21T18:44:30.846Z"
   },
   {
    "duration": 267,
    "start_time": "2022-03-21T18:57:15.677Z"
   },
   {
    "duration": 107,
    "start_time": "2022-03-21T18:57:48.753Z"
   },
   {
    "duration": 413,
    "start_time": "2022-03-21T18:57:59.801Z"
   },
   {
    "duration": 18,
    "start_time": "2022-03-21T18:59:08.175Z"
   },
   {
    "duration": 261,
    "start_time": "2022-03-21T18:59:22.976Z"
   },
   {
    "duration": 17,
    "start_time": "2022-03-21T19:01:24.852Z"
   },
   {
    "duration": 272,
    "start_time": "2022-03-21T19:01:38.513Z"
   },
   {
    "duration": 300,
    "start_time": "2022-03-21T19:02:22.180Z"
   },
   {
    "duration": 377,
    "start_time": "2022-03-21T19:02:52.646Z"
   },
   {
    "duration": 277,
    "start_time": "2022-03-21T19:03:09.977Z"
   },
   {
    "duration": 12,
    "start_time": "2022-03-21T19:26:08.887Z"
   },
   {
    "duration": 32,
    "start_time": "2022-03-21T19:26:21.222Z"
   },
   {
    "duration": 31,
    "start_time": "2022-03-21T19:26:45.158Z"
   },
   {
    "duration": 28,
    "start_time": "2022-03-21T19:27:25.527Z"
   },
   {
    "duration": 31,
    "start_time": "2022-03-21T19:27:39.353Z"
   },
   {
    "duration": 286,
    "start_time": "2022-03-21T19:28:18.989Z"
   },
   {
    "duration": 10,
    "start_time": "2022-03-21T19:38:52.396Z"
   },
   {
    "duration": 16,
    "start_time": "2022-03-21T19:39:02.967Z"
   },
   {
    "duration": 177,
    "start_time": "2022-03-21T19:39:16.960Z"
   },
   {
    "duration": 195,
    "start_time": "2022-03-21T19:39:38.377Z"
   },
   {
    "duration": 216,
    "start_time": "2022-03-21T19:40:20.753Z"
   },
   {
    "duration": 126,
    "start_time": "2022-03-21T19:41:55.954Z"
   },
   {
    "duration": 3,
    "start_time": "2022-03-21T19:43:14.469Z"
   },
   {
    "duration": 65,
    "start_time": "2022-03-21T19:43:14.473Z"
   },
   {
    "duration": 9,
    "start_time": "2022-03-21T19:43:14.540Z"
   },
   {
    "duration": 18,
    "start_time": "2022-03-21T19:43:14.550Z"
   },
   {
    "duration": 16,
    "start_time": "2022-03-21T19:43:14.570Z"
   },
   {
    "duration": 11,
    "start_time": "2022-03-21T19:43:14.587Z"
   },
   {
    "duration": 248,
    "start_time": "2022-03-21T19:43:14.599Z"
   },
   {
    "duration": 19,
    "start_time": "2022-03-21T19:43:14.849Z"
   },
   {
    "duration": 11,
    "start_time": "2022-03-21T19:43:14.870Z"
   },
   {
    "duration": 21,
    "start_time": "2022-03-21T19:43:14.883Z"
   },
   {
    "duration": 52,
    "start_time": "2022-03-21T19:43:14.907Z"
   },
   {
    "duration": 3,
    "start_time": "2022-03-21T19:43:14.960Z"
   },
   {
    "duration": 224,
    "start_time": "2022-03-21T19:43:14.965Z"
   },
   {
    "duration": 47,
    "start_time": "2022-03-21T19:43:15.191Z"
   },
   {
    "duration": 208,
    "start_time": "2022-03-21T19:43:15.239Z"
   },
   {
    "duration": 397,
    "start_time": "2022-03-21T19:43:15.449Z"
   },
   {
    "duration": 200,
    "start_time": "2022-03-21T19:43:53.986Z"
   },
   {
    "duration": 206,
    "start_time": "2022-03-21T19:47:27.346Z"
   },
   {
    "duration": 46,
    "start_time": "2022-03-21T19:55:05.105Z"
   },
   {
    "duration": 227,
    "start_time": "2022-03-22T10:44:31.871Z"
   },
   {
    "duration": 516,
    "start_time": "2022-03-22T10:45:06.981Z"
   },
   {
    "duration": 46,
    "start_time": "2022-03-22T10:47:02.309Z"
   },
   {
    "duration": 57,
    "start_time": "2022-03-22T10:47:13.859Z"
   },
   {
    "duration": 5,
    "start_time": "2022-03-22T10:57:55.892Z"
   },
   {
    "duration": 154,
    "start_time": "2022-03-22T10:58:15.395Z"
   },
   {
    "duration": 16,
    "start_time": "2022-03-22T10:58:18.365Z"
   },
   {
    "duration": 10,
    "start_time": "2022-03-22T10:58:47.304Z"
   },
   {
    "duration": 10,
    "start_time": "2022-03-22T10:58:59.068Z"
   },
   {
    "duration": 13,
    "start_time": "2022-03-22T10:59:05.587Z"
   },
   {
    "duration": 17,
    "start_time": "2022-03-22T10:59:11.965Z"
   },
   {
    "duration": 4,
    "start_time": "2022-03-22T10:59:36.868Z"
   },
   {
    "duration": 54,
    "start_time": "2022-03-22T10:59:36.875Z"
   },
   {
    "duration": 9,
    "start_time": "2022-03-22T10:59:36.932Z"
   },
   {
    "duration": 22,
    "start_time": "2022-03-22T10:59:36.944Z"
   },
   {
    "duration": 21,
    "start_time": "2022-03-22T10:59:36.969Z"
   },
   {
    "duration": 10,
    "start_time": "2022-03-22T10:59:36.992Z"
   },
   {
    "duration": 224,
    "start_time": "2022-03-22T10:59:37.004Z"
   },
   {
    "duration": 17,
    "start_time": "2022-03-22T10:59:37.230Z"
   },
   {
    "duration": 14,
    "start_time": "2022-03-22T10:59:37.248Z"
   },
   {
    "duration": 16,
    "start_time": "2022-03-22T10:59:37.264Z"
   },
   {
    "duration": 21,
    "start_time": "2022-03-22T10:59:37.283Z"
   },
   {
    "duration": 2,
    "start_time": "2022-03-22T10:59:37.306Z"
   },
   {
    "duration": 211,
    "start_time": "2022-03-22T10:59:37.338Z"
   },
   {
    "duration": 34,
    "start_time": "2022-03-22T10:59:37.551Z"
   },
   {
    "duration": 231,
    "start_time": "2022-03-22T10:59:37.587Z"
   },
   {
    "duration": 307,
    "start_time": "2022-03-22T10:59:37.820Z"
   },
   {
    "duration": 47,
    "start_time": "2022-03-22T10:59:38.129Z"
   },
   {
    "duration": 68,
    "start_time": "2022-03-22T10:59:38.178Z"
   },
   {
    "duration": 16,
    "start_time": "2022-03-22T10:59:38.248Z"
   },
   {
    "duration": 0,
    "start_time": "2022-03-22T11:45:38.219Z"
   },
   {
    "duration": 4976,
    "start_time": "2022-03-22T11:46:03.139Z"
   },
   {
    "duration": 0,
    "start_time": "2022-03-22T11:46:17.472Z"
   },
   {
    "duration": 0,
    "start_time": "2022-03-22T11:46:17.474Z"
   },
   {
    "duration": 0,
    "start_time": "2022-03-22T11:46:17.475Z"
   },
   {
    "duration": 0,
    "start_time": "2022-03-22T11:46:17.477Z"
   },
   {
    "duration": 0,
    "start_time": "2022-03-22T11:46:17.478Z"
   },
   {
    "duration": 0,
    "start_time": "2022-03-22T11:46:17.479Z"
   },
   {
    "duration": 0,
    "start_time": "2022-03-22T11:46:17.481Z"
   },
   {
    "duration": 0,
    "start_time": "2022-03-22T11:46:17.482Z"
   },
   {
    "duration": 0,
    "start_time": "2022-03-22T11:46:17.484Z"
   },
   {
    "duration": 1,
    "start_time": "2022-03-22T11:46:17.485Z"
   },
   {
    "duration": 0,
    "start_time": "2022-03-22T11:46:17.487Z"
   },
   {
    "duration": 0,
    "start_time": "2022-03-22T11:46:17.488Z"
   },
   {
    "duration": 0,
    "start_time": "2022-03-22T11:46:17.490Z"
   },
   {
    "duration": 1,
    "start_time": "2022-03-22T11:46:17.491Z"
   },
   {
    "duration": 0,
    "start_time": "2022-03-22T11:46:17.493Z"
   },
   {
    "duration": 0,
    "start_time": "2022-03-22T11:46:17.494Z"
   },
   {
    "duration": 0,
    "start_time": "2022-03-22T11:46:17.496Z"
   },
   {
    "duration": 0,
    "start_time": "2022-03-22T11:46:17.497Z"
   },
   {
    "duration": 0,
    "start_time": "2022-03-22T11:46:17.498Z"
   },
   {
    "duration": 0,
    "start_time": "2022-03-22T11:46:17.499Z"
   },
   {
    "duration": 1260,
    "start_time": "2022-03-22T11:46:48.018Z"
   },
   {
    "duration": 53,
    "start_time": "2022-03-22T11:46:49.280Z"
   },
   {
    "duration": 13,
    "start_time": "2022-03-22T11:46:49.334Z"
   },
   {
    "duration": 32,
    "start_time": "2022-03-22T11:46:49.349Z"
   },
   {
    "duration": 37,
    "start_time": "2022-03-22T11:46:49.382Z"
   },
   {
    "duration": 18,
    "start_time": "2022-03-22T11:46:49.421Z"
   },
   {
    "duration": 227,
    "start_time": "2022-03-22T11:46:49.440Z"
   },
   {
    "duration": 12,
    "start_time": "2022-03-22T11:46:49.668Z"
   },
   {
    "duration": 41,
    "start_time": "2022-03-22T11:46:49.681Z"
   },
   {
    "duration": 249,
    "start_time": "2022-03-22T11:46:49.725Z"
   },
   {
    "duration": 23,
    "start_time": "2022-03-22T11:46:49.976Z"
   },
   {
    "duration": 2,
    "start_time": "2022-03-22T11:46:50.001Z"
   },
   {
    "duration": 258,
    "start_time": "2022-03-22T11:46:50.038Z"
   },
   {
    "duration": 43,
    "start_time": "2022-03-22T11:46:50.297Z"
   },
   {
    "duration": 216,
    "start_time": "2022-03-22T11:46:50.341Z"
   },
   {
    "duration": 295,
    "start_time": "2022-03-22T11:46:50.559Z"
   },
   {
    "duration": 126,
    "start_time": "2022-03-22T11:46:50.856Z"
   },
   {
    "duration": 61,
    "start_time": "2022-03-22T11:46:50.983Z"
   },
   {
    "duration": 21,
    "start_time": "2022-03-22T11:46:51.046Z"
   },
   {
    "duration": 4226,
    "start_time": "2022-03-22T11:46:51.069Z"
   },
   {
    "duration": 3874,
    "start_time": "2022-03-22T12:02:59.336Z"
   },
   {
    "duration": 3898,
    "start_time": "2022-03-22T12:03:08.050Z"
   },
   {
    "duration": 12,
    "start_time": "2022-03-22T12:03:29.496Z"
   },
   {
    "duration": 10,
    "start_time": "2022-03-22T12:06:35.170Z"
   },
   {
    "duration": 3,
    "start_time": "2022-03-22T12:06:59.004Z"
   },
   {
    "duration": 12,
    "start_time": "2022-03-22T12:29:01.399Z"
   },
   {
    "duration": 16,
    "start_time": "2022-03-22T12:29:20.683Z"
   },
   {
    "duration": 17,
    "start_time": "2022-03-22T12:29:26.891Z"
   },
   {
    "duration": 16,
    "start_time": "2022-03-22T12:32:15.883Z"
   },
   {
    "duration": 24,
    "start_time": "2022-03-22T12:51:38.531Z"
   },
   {
    "duration": 3,
    "start_time": "2022-03-22T12:51:48.064Z"
   },
   {
    "duration": 57,
    "start_time": "2022-03-22T12:51:48.070Z"
   },
   {
    "duration": 9,
    "start_time": "2022-03-22T12:51:48.129Z"
   },
   {
    "duration": 15,
    "start_time": "2022-03-22T12:51:48.140Z"
   },
   {
    "duration": 18,
    "start_time": "2022-03-22T12:51:48.157Z"
   },
   {
    "duration": 10,
    "start_time": "2022-03-22T12:51:48.177Z"
   },
   {
    "duration": 234,
    "start_time": "2022-03-22T12:51:48.189Z"
   },
   {
    "duration": 18,
    "start_time": "2022-03-22T12:51:48.425Z"
   },
   {
    "duration": 9,
    "start_time": "2022-03-22T12:51:48.444Z"
   },
   {
    "duration": 17,
    "start_time": "2022-03-22T12:51:48.455Z"
   },
   {
    "duration": 21,
    "start_time": "2022-03-22T12:51:48.475Z"
   },
   {
    "duration": 3,
    "start_time": "2022-03-22T12:51:48.497Z"
   },
   {
    "duration": 222,
    "start_time": "2022-03-22T12:51:48.502Z"
   },
   {
    "duration": 42,
    "start_time": "2022-03-22T12:51:48.726Z"
   },
   {
    "duration": 227,
    "start_time": "2022-03-22T12:51:48.769Z"
   },
   {
    "duration": 288,
    "start_time": "2022-03-22T12:51:48.997Z"
   },
   {
    "duration": 52,
    "start_time": "2022-03-22T12:51:49.286Z"
   },
   {
    "duration": 149,
    "start_time": "2022-03-22T12:51:49.339Z"
   },
   {
    "duration": 15,
    "start_time": "2022-03-22T12:51:49.489Z"
   },
   {
    "duration": 5,
    "start_time": "2022-03-22T12:51:49.505Z"
   },
   {
    "duration": 39,
    "start_time": "2022-03-22T12:51:49.512Z"
   },
   {
    "duration": 25,
    "start_time": "2022-03-22T12:52:32.989Z"
   },
   {
    "duration": 22,
    "start_time": "2022-03-22T12:52:59.353Z"
   },
   {
    "duration": 3,
    "start_time": "2022-03-22T12:53:14.185Z"
   },
   {
    "duration": 59,
    "start_time": "2022-03-22T12:53:14.191Z"
   },
   {
    "duration": 10,
    "start_time": "2022-03-22T12:53:14.252Z"
   },
   {
    "duration": 19,
    "start_time": "2022-03-22T12:53:14.263Z"
   },
   {
    "duration": 19,
    "start_time": "2022-03-22T12:53:14.285Z"
   },
   {
    "duration": 10,
    "start_time": "2022-03-22T12:53:14.305Z"
   },
   {
    "duration": 223,
    "start_time": "2022-03-22T12:53:14.317Z"
   },
   {
    "duration": 13,
    "start_time": "2022-03-22T12:53:14.541Z"
   },
   {
    "duration": 11,
    "start_time": "2022-03-22T12:53:14.555Z"
   },
   {
    "duration": 17,
    "start_time": "2022-03-22T12:53:14.568Z"
   },
   {
    "duration": 51,
    "start_time": "2022-03-22T12:53:14.588Z"
   },
   {
    "duration": 3,
    "start_time": "2022-03-22T12:53:14.641Z"
   },
   {
    "duration": 215,
    "start_time": "2022-03-22T12:53:14.646Z"
   },
   {
    "duration": 33,
    "start_time": "2022-03-22T12:53:14.863Z"
   },
   {
    "duration": 238,
    "start_time": "2022-03-22T12:53:14.899Z"
   },
   {
    "duration": 318,
    "start_time": "2022-03-22T12:53:15.139Z"
   },
   {
    "duration": 47,
    "start_time": "2022-03-22T12:53:15.459Z"
   },
   {
    "duration": 72,
    "start_time": "2022-03-22T12:53:15.508Z"
   },
   {
    "duration": 17,
    "start_time": "2022-03-22T12:53:15.582Z"
   },
   {
    "duration": 8,
    "start_time": "2022-03-22T12:53:15.601Z"
   },
   {
    "duration": 45,
    "start_time": "2022-03-22T12:53:15.610Z"
   },
   {
    "duration": 26,
    "start_time": "2022-03-22T13:12:16.047Z"
   },
   {
    "duration": 384,
    "start_time": "2022-03-22T13:12:38.816Z"
   },
   {
    "duration": 54,
    "start_time": "2022-03-22T18:06:48.560Z"
   },
   {
    "duration": 1496,
    "start_time": "2022-03-22T18:07:28.553Z"
   },
   {
    "duration": 62,
    "start_time": "2022-03-22T18:07:30.051Z"
   },
   {
    "duration": 13,
    "start_time": "2022-03-22T18:07:30.115Z"
   },
   {
    "duration": 27,
    "start_time": "2022-03-22T18:07:30.132Z"
   },
   {
    "duration": 19,
    "start_time": "2022-03-22T18:07:30.161Z"
   },
   {
    "duration": 12,
    "start_time": "2022-03-22T18:07:30.182Z"
   },
   {
    "duration": 242,
    "start_time": "2022-03-22T18:07:30.196Z"
   },
   {
    "duration": 13,
    "start_time": "2022-03-22T18:07:30.440Z"
   },
   {
    "duration": 16,
    "start_time": "2022-03-22T18:07:30.454Z"
   },
   {
    "duration": 235,
    "start_time": "2022-03-22T18:07:30.473Z"
   },
   {
    "duration": 31,
    "start_time": "2022-03-22T18:07:30.710Z"
   },
   {
    "duration": 2,
    "start_time": "2022-03-22T18:07:30.743Z"
   },
   {
    "duration": 302,
    "start_time": "2022-03-22T18:07:30.747Z"
   },
   {
    "duration": 39,
    "start_time": "2022-03-22T18:07:31.051Z"
   },
   {
    "duration": 273,
    "start_time": "2022-03-22T18:07:31.092Z"
   },
   {
    "duration": 324,
    "start_time": "2022-03-22T18:07:31.367Z"
   },
   {
    "duration": 122,
    "start_time": "2022-03-22T18:07:31.693Z"
   },
   {
    "duration": 89,
    "start_time": "2022-03-22T18:07:31.817Z"
   },
   {
    "duration": 25,
    "start_time": "2022-03-22T18:07:31.908Z"
   },
   {
    "duration": 7,
    "start_time": "2022-03-22T18:07:31.935Z"
   },
   {
    "duration": 33,
    "start_time": "2022-03-22T18:07:31.943Z"
   },
   {
    "duration": 87,
    "start_time": "2022-03-22T18:09:00.072Z"
   },
   {
    "duration": 12,
    "start_time": "2022-03-22T18:09:58.370Z"
   },
   {
    "duration": 11,
    "start_time": "2022-03-22T18:10:15.841Z"
   },
   {
    "duration": 11,
    "start_time": "2022-03-22T18:10:28.766Z"
   },
   {
    "duration": 5,
    "start_time": "2022-03-22T18:10:30.648Z"
   },
   {
    "duration": 101,
    "start_time": "2022-03-22T18:10:30.656Z"
   },
   {
    "duration": 11,
    "start_time": "2022-03-22T18:10:30.760Z"
   },
   {
    "duration": 44,
    "start_time": "2022-03-22T18:10:30.772Z"
   },
   {
    "duration": 32,
    "start_time": "2022-03-22T18:10:30.818Z"
   },
   {
    "duration": 19,
    "start_time": "2022-03-22T18:10:30.853Z"
   },
   {
    "duration": 267,
    "start_time": "2022-03-22T18:10:30.875Z"
   },
   {
    "duration": 13,
    "start_time": "2022-03-22T18:10:31.144Z"
   },
   {
    "duration": 17,
    "start_time": "2022-03-22T18:10:31.159Z"
   },
   {
    "duration": 30,
    "start_time": "2022-03-22T18:10:31.178Z"
   },
   {
    "duration": 30,
    "start_time": "2022-03-22T18:10:31.212Z"
   },
   {
    "duration": 3,
    "start_time": "2022-03-22T18:10:31.244Z"
   },
   {
    "duration": 244,
    "start_time": "2022-03-22T18:10:31.248Z"
   },
   {
    "duration": 40,
    "start_time": "2022-03-22T18:10:31.493Z"
   },
   {
    "duration": 247,
    "start_time": "2022-03-22T18:10:31.535Z"
   },
   {
    "duration": 323,
    "start_time": "2022-03-22T18:10:31.784Z"
   },
   {
    "duration": 51,
    "start_time": "2022-03-22T18:10:32.109Z"
   },
   {
    "duration": 146,
    "start_time": "2022-03-22T18:10:32.163Z"
   },
   {
    "duration": 27,
    "start_time": "2022-03-22T18:10:32.311Z"
   },
   {
    "duration": 5,
    "start_time": "2022-03-22T18:10:32.340Z"
   },
   {
    "duration": 15,
    "start_time": "2022-03-22T18:10:32.347Z"
   },
   {
    "duration": 26,
    "start_time": "2022-03-22T18:10:41.590Z"
   },
   {
    "duration": 10,
    "start_time": "2022-03-22T18:21:14.451Z"
   },
   {
    "duration": 27,
    "start_time": "2022-03-22T18:23:49.160Z"
   },
   {
    "duration": 25,
    "start_time": "2022-03-22T18:24:02.082Z"
   },
   {
    "duration": 22,
    "start_time": "2022-03-22T18:29:35.187Z"
   },
   {
    "duration": 26,
    "start_time": "2022-03-22T18:29:58.774Z"
   },
   {
    "duration": 25,
    "start_time": "2022-03-22T18:30:48.858Z"
   },
   {
    "duration": 20,
    "start_time": "2022-03-22T18:47:47.581Z"
   },
   {
    "duration": 217,
    "start_time": "2022-03-22T18:49:03.262Z"
   },
   {
    "duration": 43,
    "start_time": "2022-03-22T18:49:35.643Z"
   },
   {
    "duration": 257,
    "start_time": "2022-03-22T18:49:51.292Z"
   },
   {
    "duration": 259,
    "start_time": "2022-03-22T18:50:02.539Z"
   },
   {
    "duration": 73,
    "start_time": "2022-03-23T07:48:31.824Z"
   },
   {
    "duration": 1886,
    "start_time": "2022-03-23T07:48:42.283Z"
   },
   {
    "duration": 71,
    "start_time": "2022-03-23T07:48:44.171Z"
   },
   {
    "duration": 20,
    "start_time": "2022-03-23T07:48:44.244Z"
   },
   {
    "duration": 21,
    "start_time": "2022-03-23T07:48:44.268Z"
   },
   {
    "duration": 56,
    "start_time": "2022-03-23T07:48:44.291Z"
   },
   {
    "duration": 17,
    "start_time": "2022-03-23T07:48:44.349Z"
   },
   {
    "duration": 368,
    "start_time": "2022-03-23T07:48:44.368Z"
   },
   {
    "duration": 17,
    "start_time": "2022-03-23T07:48:44.738Z"
   },
   {
    "duration": 27,
    "start_time": "2022-03-23T07:48:44.758Z"
   },
   {
    "duration": 235,
    "start_time": "2022-03-23T07:48:44.790Z"
   },
   {
    "duration": 43,
    "start_time": "2022-03-23T07:48:45.027Z"
   },
   {
    "duration": 3,
    "start_time": "2022-03-23T07:48:45.072Z"
   },
   {
    "duration": 441,
    "start_time": "2022-03-23T07:48:45.077Z"
   },
   {
    "duration": 58,
    "start_time": "2022-03-23T07:48:45.521Z"
   },
   {
    "duration": 391,
    "start_time": "2022-03-23T07:48:45.582Z"
   },
   {
    "duration": 499,
    "start_time": "2022-03-23T07:48:45.976Z"
   },
   {
    "duration": 119,
    "start_time": "2022-03-23T07:48:46.477Z"
   },
   {
    "duration": 79,
    "start_time": "2022-03-23T07:48:46.598Z"
   },
   {
    "duration": 22,
    "start_time": "2022-03-23T07:48:46.680Z"
   },
   {
    "duration": 4,
    "start_time": "2022-03-23T07:48:46.704Z"
   },
   {
    "duration": 62,
    "start_time": "2022-03-23T07:48:46.710Z"
   },
   {
    "duration": 371,
    "start_time": "2022-03-23T07:48:46.774Z"
   },
   {
    "duration": 71,
    "start_time": "2022-03-23T07:48:47.147Z"
   },
   {
    "duration": 139,
    "start_time": "2022-03-23T07:48:47.220Z"
   },
   {
    "duration": 6,
    "start_time": "2022-03-23T07:50:25.076Z"
   },
   {
    "duration": 4,
    "start_time": "2022-03-23T07:50:26.527Z"
   },
   {
    "duration": 76,
    "start_time": "2022-03-23T07:50:26.535Z"
   },
   {
    "duration": 14,
    "start_time": "2022-03-23T07:50:26.613Z"
   },
   {
    "duration": 30,
    "start_time": "2022-03-23T07:50:26.629Z"
   },
   {
    "duration": 25,
    "start_time": "2022-03-23T07:50:26.662Z"
   },
   {
    "duration": 18,
    "start_time": "2022-03-23T07:50:26.689Z"
   },
   {
    "duration": 378,
    "start_time": "2022-03-23T07:50:26.710Z"
   },
   {
    "duration": 17,
    "start_time": "2022-03-23T07:50:27.090Z"
   },
   {
    "duration": 13,
    "start_time": "2022-03-23T07:50:27.109Z"
   },
   {
    "duration": 21,
    "start_time": "2022-03-23T07:50:27.143Z"
   },
   {
    "duration": 36,
    "start_time": "2022-03-23T07:50:27.167Z"
   },
   {
    "duration": 4,
    "start_time": "2022-03-23T07:50:27.205Z"
   },
   {
    "duration": 347,
    "start_time": "2022-03-23T07:50:27.245Z"
   },
   {
    "duration": 61,
    "start_time": "2022-03-23T07:50:27.594Z"
   },
   {
    "duration": 394,
    "start_time": "2022-03-23T07:50:27.658Z"
   },
   {
    "duration": 503,
    "start_time": "2022-03-23T07:50:28.055Z"
   },
   {
    "duration": 133,
    "start_time": "2022-03-23T07:50:28.560Z"
   },
   {
    "duration": 83,
    "start_time": "2022-03-23T07:50:28.695Z"
   },
   {
    "duration": 22,
    "start_time": "2022-03-23T07:50:28.780Z"
   },
   {
    "duration": 10,
    "start_time": "2022-03-23T07:50:28.804Z"
   },
   {
    "duration": 58,
    "start_time": "2022-03-23T07:50:28.816Z"
   },
   {
    "duration": 369,
    "start_time": "2022-03-23T07:50:28.877Z"
   },
   {
    "duration": 7,
    "start_time": "2022-03-23T07:50:29.249Z"
   },
   {
    "duration": 15,
    "start_time": "2022-03-23T07:50:29.258Z"
   },
   {
    "duration": 15,
    "start_time": "2022-03-23T07:57:55.204Z"
   },
   {
    "duration": 6,
    "start_time": "2022-03-23T07:58:06.599Z"
   },
   {
    "duration": 79,
    "start_time": "2022-03-23T07:58:06.611Z"
   },
   {
    "duration": 13,
    "start_time": "2022-03-23T07:58:06.692Z"
   },
   {
    "duration": 36,
    "start_time": "2022-03-23T07:58:06.708Z"
   },
   {
    "duration": 26,
    "start_time": "2022-03-23T07:58:06.747Z"
   },
   {
    "duration": 17,
    "start_time": "2022-03-23T07:58:06.775Z"
   },
   {
    "duration": 358,
    "start_time": "2022-03-23T07:58:06.794Z"
   },
   {
    "duration": 16,
    "start_time": "2022-03-23T07:58:07.154Z"
   },
   {
    "duration": 25,
    "start_time": "2022-03-23T07:58:07.172Z"
   },
   {
    "duration": 40,
    "start_time": "2022-03-23T07:58:07.199Z"
   },
   {
    "duration": 34,
    "start_time": "2022-03-23T07:58:07.242Z"
   },
   {
    "duration": 3,
    "start_time": "2022-03-23T07:58:07.278Z"
   },
   {
    "duration": 361,
    "start_time": "2022-03-23T07:58:07.283Z"
   },
   {
    "duration": 49,
    "start_time": "2022-03-23T07:58:07.647Z"
   },
   {
    "duration": 392,
    "start_time": "2022-03-23T07:58:07.698Z"
   },
   {
    "duration": 508,
    "start_time": "2022-03-23T07:58:08.092Z"
   },
   {
    "duration": 154,
    "start_time": "2022-03-23T07:58:08.602Z"
   },
   {
    "duration": 85,
    "start_time": "2022-03-23T07:58:08.758Z"
   },
   {
    "duration": 24,
    "start_time": "2022-03-23T07:58:08.845Z"
   },
   {
    "duration": 18,
    "start_time": "2022-03-23T07:58:08.871Z"
   },
   {
    "duration": 52,
    "start_time": "2022-03-23T07:58:08.891Z"
   },
   {
    "duration": 401,
    "start_time": "2022-03-23T07:58:08.945Z"
   },
   {
    "duration": 14,
    "start_time": "2022-03-23T07:58:09.348Z"
   },
   {
    "duration": 7,
    "start_time": "2022-03-23T08:01:40.454Z"
   },
   {
    "duration": 191,
    "start_time": "2022-03-23T08:09:50.660Z"
   },
   {
    "duration": 4,
    "start_time": "2022-03-23T08:09:52.618Z"
   },
   {
    "duration": 84,
    "start_time": "2022-03-23T08:09:52.625Z"
   },
   {
    "duration": 14,
    "start_time": "2022-03-23T08:09:52.712Z"
   },
   {
    "duration": 31,
    "start_time": "2022-03-23T08:09:52.729Z"
   },
   {
    "duration": 28,
    "start_time": "2022-03-23T08:09:52.765Z"
   },
   {
    "duration": 50,
    "start_time": "2022-03-23T08:09:52.796Z"
   },
   {
    "duration": 349,
    "start_time": "2022-03-23T08:09:52.849Z"
   },
   {
    "duration": 18,
    "start_time": "2022-03-23T08:09:53.201Z"
   },
   {
    "duration": 24,
    "start_time": "2022-03-23T08:09:53.221Z"
   },
   {
    "duration": 20,
    "start_time": "2022-03-23T08:09:53.247Z"
   },
   {
    "duration": 32,
    "start_time": "2022-03-23T08:09:53.270Z"
   },
   {
    "duration": 3,
    "start_time": "2022-03-23T08:09:53.304Z"
   },
   {
    "duration": 457,
    "start_time": "2022-03-23T08:09:53.344Z"
   },
   {
    "duration": 61,
    "start_time": "2022-03-23T08:09:53.804Z"
   },
   {
    "duration": 415,
    "start_time": "2022-03-23T08:09:53.868Z"
   },
   {
    "duration": 499,
    "start_time": "2022-03-23T08:09:54.285Z"
   },
   {
    "duration": 67,
    "start_time": "2022-03-23T08:09:54.786Z"
   },
   {
    "duration": 149,
    "start_time": "2022-03-23T08:09:54.855Z"
   },
   {
    "duration": 41,
    "start_time": "2022-03-23T08:09:55.006Z"
   },
   {
    "duration": 7,
    "start_time": "2022-03-23T08:09:55.048Z"
   },
   {
    "duration": 46,
    "start_time": "2022-03-23T08:09:55.057Z"
   },
   {
    "duration": 376,
    "start_time": "2022-03-23T08:09:55.105Z"
   },
   {
    "duration": 7,
    "start_time": "2022-03-23T08:09:55.485Z"
   },
   {
    "duration": 160,
    "start_time": "2022-03-23T08:09:55.494Z"
   },
   {
    "duration": 7,
    "start_time": "2022-03-23T08:10:17.730Z"
   },
   {
    "duration": 7,
    "start_time": "2022-03-23T08:10:22.044Z"
   },
   {
    "duration": 5,
    "start_time": "2022-03-23T08:10:23.384Z"
   },
   {
    "duration": 73,
    "start_time": "2022-03-23T08:10:23.393Z"
   },
   {
    "duration": 14,
    "start_time": "2022-03-23T08:10:23.469Z"
   },
   {
    "duration": 20,
    "start_time": "2022-03-23T08:10:23.485Z"
   },
   {
    "duration": 55,
    "start_time": "2022-03-23T08:10:23.508Z"
   },
   {
    "duration": 17,
    "start_time": "2022-03-23T08:10:23.565Z"
   },
   {
    "duration": 360,
    "start_time": "2022-03-23T08:10:23.584Z"
   },
   {
    "duration": 18,
    "start_time": "2022-03-23T08:10:23.946Z"
   },
   {
    "duration": 17,
    "start_time": "2022-03-23T08:10:23.967Z"
   },
   {
    "duration": 30,
    "start_time": "2022-03-23T08:10:23.987Z"
   },
   {
    "duration": 31,
    "start_time": "2022-03-23T08:10:24.045Z"
   },
   {
    "duration": 4,
    "start_time": "2022-03-23T08:10:24.078Z"
   },
   {
    "duration": 425,
    "start_time": "2022-03-23T08:10:24.084Z"
   },
   {
    "duration": 61,
    "start_time": "2022-03-23T08:10:24.511Z"
   },
   {
    "duration": 393,
    "start_time": "2022-03-23T08:10:24.575Z"
   },
   {
    "duration": 497,
    "start_time": "2022-03-23T08:10:24.970Z"
   },
   {
    "duration": 53,
    "start_time": "2022-03-23T08:10:25.469Z"
   },
   {
    "duration": 175,
    "start_time": "2022-03-23T08:10:25.525Z"
   },
   {
    "duration": 41,
    "start_time": "2022-03-23T08:10:25.702Z"
   },
   {
    "duration": 3,
    "start_time": "2022-03-23T08:10:25.745Z"
   },
   {
    "duration": 37,
    "start_time": "2022-03-23T08:10:25.751Z"
   },
   {
    "duration": 385,
    "start_time": "2022-03-23T08:10:25.790Z"
   },
   {
    "duration": 6,
    "start_time": "2022-03-23T08:10:26.177Z"
   },
   {
    "duration": 200,
    "start_time": "2022-03-23T08:10:26.185Z"
   },
   {
    "duration": 14,
    "start_time": "2022-03-23T08:11:21.707Z"
   },
   {
    "duration": 1577,
    "start_time": "2022-03-23T08:11:44.378Z"
   },
   {
    "duration": 75,
    "start_time": "2022-03-23T08:11:45.958Z"
   },
   {
    "duration": 23,
    "start_time": "2022-03-23T08:11:46.036Z"
   },
   {
    "duration": 19,
    "start_time": "2022-03-23T08:11:46.064Z"
   },
   {
    "duration": 58,
    "start_time": "2022-03-23T08:11:46.085Z"
   },
   {
    "duration": 16,
    "start_time": "2022-03-23T08:11:46.145Z"
   },
   {
    "duration": 351,
    "start_time": "2022-03-23T08:11:46.164Z"
   },
   {
    "duration": 28,
    "start_time": "2022-03-23T08:11:46.517Z"
   },
   {
    "duration": 10,
    "start_time": "2022-03-23T08:11:46.548Z"
   },
   {
    "duration": 268,
    "start_time": "2022-03-23T08:11:46.564Z"
   },
   {
    "duration": 32,
    "start_time": "2022-03-23T08:11:46.834Z"
   },
   {
    "duration": 3,
    "start_time": "2022-03-23T08:11:46.868Z"
   },
   {
    "duration": 439,
    "start_time": "2022-03-23T08:11:46.874Z"
   },
   {
    "duration": 62,
    "start_time": "2022-03-23T08:11:47.316Z"
   },
   {
    "duration": 384,
    "start_time": "2022-03-23T08:11:47.381Z"
   },
   {
    "duration": 486,
    "start_time": "2022-03-23T08:11:47.767Z"
   },
   {
    "duration": 125,
    "start_time": "2022-03-23T08:11:48.256Z"
   },
   {
    "duration": 92,
    "start_time": "2022-03-23T08:11:48.383Z"
   },
   {
    "duration": 25,
    "start_time": "2022-03-23T08:11:48.478Z"
   },
   {
    "duration": 7,
    "start_time": "2022-03-23T08:11:48.506Z"
   },
   {
    "duration": 58,
    "start_time": "2022-03-23T08:11:48.515Z"
   },
   {
    "duration": 367,
    "start_time": "2022-03-23T08:11:48.576Z"
   },
   {
    "duration": 170,
    "start_time": "2022-03-23T08:11:48.945Z"
   },
   {
    "duration": 410,
    "start_time": "2022-03-23T08:46:08.933Z"
   },
   {
    "duration": 339,
    "start_time": "2022-03-23T08:47:26.453Z"
   },
   {
    "duration": 94,
    "start_time": "2022-03-23T09:01:28.923Z"
   },
   {
    "duration": 167,
    "start_time": "2022-03-23T09:02:08.159Z"
   },
   {
    "duration": 181,
    "start_time": "2022-03-23T09:02:37.381Z"
   },
   {
    "duration": 4,
    "start_time": "2022-03-23T09:02:38.855Z"
   },
   {
    "duration": 100,
    "start_time": "2022-03-23T09:02:38.863Z"
   },
   {
    "duration": 17,
    "start_time": "2022-03-23T09:02:38.966Z"
   },
   {
    "duration": 33,
    "start_time": "2022-03-23T09:02:38.987Z"
   },
   {
    "duration": 45,
    "start_time": "2022-03-23T09:02:39.046Z"
   },
   {
    "duration": 28,
    "start_time": "2022-03-23T09:02:39.094Z"
   },
   {
    "duration": 381,
    "start_time": "2022-03-23T09:02:39.124Z"
   },
   {
    "duration": 44,
    "start_time": "2022-03-23T09:02:39.507Z"
   },
   {
    "duration": 24,
    "start_time": "2022-03-23T09:02:39.559Z"
   },
   {
    "duration": 42,
    "start_time": "2022-03-23T09:02:39.586Z"
   },
   {
    "duration": 42,
    "start_time": "2022-03-23T09:02:39.631Z"
   },
   {
    "duration": 3,
    "start_time": "2022-03-23T09:02:39.676Z"
   },
   {
    "duration": 377,
    "start_time": "2022-03-23T09:02:39.681Z"
   },
   {
    "duration": 50,
    "start_time": "2022-03-23T09:02:40.061Z"
   },
   {
    "duration": 533,
    "start_time": "2022-03-23T09:02:40.113Z"
   },
   {
    "duration": 632,
    "start_time": "2022-03-23T09:02:40.649Z"
   },
   {
    "duration": 179,
    "start_time": "2022-03-23T09:02:41.284Z"
   },
   {
    "duration": 118,
    "start_time": "2022-03-23T09:02:41.466Z"
   },
   {
    "duration": 26,
    "start_time": "2022-03-23T09:02:41.586Z"
   },
   {
    "duration": 28,
    "start_time": "2022-03-23T09:02:41.614Z"
   },
   {
    "duration": 82,
    "start_time": "2022-03-23T09:02:41.645Z"
   },
   {
    "duration": 522,
    "start_time": "2022-03-23T09:02:41.729Z"
   },
   {
    "duration": 12,
    "start_time": "2022-03-23T09:02:42.254Z"
   },
   {
    "duration": 117,
    "start_time": "2022-03-23T09:02:42.271Z"
   },
   {
    "duration": 138,
    "start_time": "2022-03-23T09:02:59.761Z"
   },
   {
    "duration": 155,
    "start_time": "2022-03-23T09:03:14.902Z"
   },
   {
    "duration": 17,
    "start_time": "2022-03-23T09:04:18.904Z"
   },
   {
    "duration": 4,
    "start_time": "2022-03-23T09:04:24.457Z"
   },
   {
    "duration": 89,
    "start_time": "2022-03-23T09:04:24.465Z"
   },
   {
    "duration": 15,
    "start_time": "2022-03-23T09:04:24.556Z"
   },
   {
    "duration": 25,
    "start_time": "2022-03-23T09:04:24.576Z"
   },
   {
    "duration": 76,
    "start_time": "2022-03-23T09:04:24.604Z"
   },
   {
    "duration": 19,
    "start_time": "2022-03-23T09:04:24.683Z"
   },
   {
    "duration": 381,
    "start_time": "2022-03-23T09:04:24.704Z"
   },
   {
    "duration": 20,
    "start_time": "2022-03-23T09:04:25.087Z"
   },
   {
    "duration": 39,
    "start_time": "2022-03-23T09:04:25.113Z"
   },
   {
    "duration": 35,
    "start_time": "2022-03-23T09:04:25.155Z"
   },
   {
    "duration": 61,
    "start_time": "2022-03-23T09:04:25.193Z"
   },
   {
    "duration": 3,
    "start_time": "2022-03-23T09:04:25.258Z"
   },
   {
    "duration": 362,
    "start_time": "2022-03-23T09:04:25.264Z"
   },
   {
    "duration": 63,
    "start_time": "2022-03-23T09:04:25.628Z"
   },
   {
    "duration": 417,
    "start_time": "2022-03-23T09:04:25.693Z"
   },
   {
    "duration": 523,
    "start_time": "2022-03-23T09:04:26.112Z"
   },
   {
    "duration": 181,
    "start_time": "2022-03-23T09:04:26.638Z"
   },
   {
    "duration": 103,
    "start_time": "2022-03-23T09:04:26.821Z"
   },
   {
    "duration": 40,
    "start_time": "2022-03-23T09:04:26.927Z"
   },
   {
    "duration": 3,
    "start_time": "2022-03-23T09:04:26.969Z"
   },
   {
    "duration": 41,
    "start_time": "2022-03-23T09:04:26.975Z"
   },
   {
    "duration": 402,
    "start_time": "2022-03-23T09:04:27.018Z"
   },
   {
    "duration": 6,
    "start_time": "2022-03-23T09:04:27.424Z"
   },
   {
    "duration": 151,
    "start_time": "2022-03-23T09:04:27.445Z"
   },
   {
    "duration": 1,
    "start_time": "2022-03-23T09:04:27.598Z"
   },
   {
    "duration": 106,
    "start_time": "2022-03-23T09:04:44.531Z"
   },
   {
    "duration": 17,
    "start_time": "2022-03-23T09:04:45.477Z"
   },
   {
    "duration": 13,
    "start_time": "2022-03-23T09:05:02.656Z"
   },
   {
    "duration": 6,
    "start_time": "2022-03-23T09:05:03.738Z"
   },
   {
    "duration": 101,
    "start_time": "2022-03-23T09:05:03.747Z"
   },
   {
    "duration": 16,
    "start_time": "2022-03-23T09:05:03.851Z"
   },
   {
    "duration": 26,
    "start_time": "2022-03-23T09:05:03.869Z"
   },
   {
    "duration": 55,
    "start_time": "2022-03-23T09:05:03.898Z"
   },
   {
    "duration": 18,
    "start_time": "2022-03-23T09:05:03.958Z"
   },
   {
    "duration": 350,
    "start_time": "2022-03-23T09:05:03.979Z"
   },
   {
    "duration": 25,
    "start_time": "2022-03-23T09:05:04.332Z"
   },
   {
    "duration": 13,
    "start_time": "2022-03-23T09:05:04.360Z"
   },
   {
    "duration": 22,
    "start_time": "2022-03-23T09:05:04.375Z"
   },
   {
    "duration": 70,
    "start_time": "2022-03-23T09:05:04.402Z"
   },
   {
    "duration": 3,
    "start_time": "2022-03-23T09:05:04.474Z"
   },
   {
    "duration": 368,
    "start_time": "2022-03-23T09:05:04.479Z"
   },
   {
    "duration": 51,
    "start_time": "2022-03-23T09:05:04.854Z"
   },
   {
    "duration": 407,
    "start_time": "2022-03-23T09:05:04.907Z"
   },
   {
    "duration": 534,
    "start_time": "2022-03-23T09:05:05.316Z"
   },
   {
    "duration": 66,
    "start_time": "2022-03-23T09:05:05.853Z"
   },
   {
    "duration": 202,
    "start_time": "2022-03-23T09:05:05.922Z"
   },
   {
    "duration": 42,
    "start_time": "2022-03-23T09:05:06.127Z"
   },
   {
    "duration": 7,
    "start_time": "2022-03-23T09:05:06.172Z"
   },
   {
    "duration": 42,
    "start_time": "2022-03-23T09:05:06.181Z"
   },
   {
    "duration": 376,
    "start_time": "2022-03-23T09:05:06.252Z"
   },
   {
    "duration": 24,
    "start_time": "2022-03-23T09:05:06.631Z"
   },
   {
    "duration": 234,
    "start_time": "2022-03-23T09:05:06.657Z"
   },
   {
    "duration": 15,
    "start_time": "2022-03-23T09:05:06.895Z"
   },
   {
    "duration": 16,
    "start_time": "2022-03-23T09:05:28.292Z"
   },
   {
    "duration": 244,
    "start_time": "2022-03-23T09:05:55.157Z"
   },
   {
    "duration": 199,
    "start_time": "2022-03-23T09:05:56.456Z"
   },
   {
    "duration": 0,
    "start_time": "2022-03-23T09:05:56.659Z"
   },
   {
    "duration": 0,
    "start_time": "2022-03-23T09:05:56.661Z"
   },
   {
    "duration": 0,
    "start_time": "2022-03-23T09:05:56.662Z"
   },
   {
    "duration": 0,
    "start_time": "2022-03-23T09:05:56.664Z"
   },
   {
    "duration": 0,
    "start_time": "2022-03-23T09:05:56.665Z"
   },
   {
    "duration": 0,
    "start_time": "2022-03-23T09:05:56.666Z"
   },
   {
    "duration": 0,
    "start_time": "2022-03-23T09:05:56.669Z"
   },
   {
    "duration": 0,
    "start_time": "2022-03-23T09:05:56.670Z"
   },
   {
    "duration": 0,
    "start_time": "2022-03-23T09:05:56.672Z"
   },
   {
    "duration": 0,
    "start_time": "2022-03-23T09:05:56.674Z"
   },
   {
    "duration": 0,
    "start_time": "2022-03-23T09:05:56.675Z"
   },
   {
    "duration": 0,
    "start_time": "2022-03-23T09:05:56.678Z"
   },
   {
    "duration": 0,
    "start_time": "2022-03-23T09:05:56.679Z"
   },
   {
    "duration": 1,
    "start_time": "2022-03-23T09:05:56.680Z"
   },
   {
    "duration": 0,
    "start_time": "2022-03-23T09:05:56.682Z"
   },
   {
    "duration": 0,
    "start_time": "2022-03-23T09:05:56.684Z"
   },
   {
    "duration": 0,
    "start_time": "2022-03-23T09:05:56.685Z"
   },
   {
    "duration": 0,
    "start_time": "2022-03-23T09:05:56.686Z"
   },
   {
    "duration": 0,
    "start_time": "2022-03-23T09:05:56.687Z"
   },
   {
    "duration": 0,
    "start_time": "2022-03-23T09:05:56.689Z"
   },
   {
    "duration": 0,
    "start_time": "2022-03-23T09:05:56.690Z"
   },
   {
    "duration": 0,
    "start_time": "2022-03-23T09:05:56.691Z"
   },
   {
    "duration": 0,
    "start_time": "2022-03-23T09:05:56.692Z"
   },
   {
    "duration": 0,
    "start_time": "2022-03-23T09:05:56.693Z"
   },
   {
    "duration": 4,
    "start_time": "2022-03-23T09:06:09.899Z"
   },
   {
    "duration": 0,
    "start_time": "2022-03-23T09:26:20.638Z"
   },
   {
    "duration": 5864,
    "start_time": "2022-03-23T09:26:24.972Z"
   },
   {
    "duration": 5,
    "start_time": "2022-03-23T09:26:42.689Z"
   },
   {
    "duration": 97,
    "start_time": "2022-03-23T09:26:42.700Z"
   },
   {
    "duration": 14,
    "start_time": "2022-03-23T09:26:42.799Z"
   },
   {
    "duration": 41,
    "start_time": "2022-03-23T09:26:42.815Z"
   },
   {
    "duration": 32,
    "start_time": "2022-03-23T09:26:42.859Z"
   },
   {
    "duration": 16,
    "start_time": "2022-03-23T09:26:42.893Z"
   },
   {
    "duration": 455,
    "start_time": "2022-03-23T09:26:42.912Z"
   },
   {
    "duration": 17,
    "start_time": "2022-03-23T09:26:43.369Z"
   },
   {
    "duration": 10,
    "start_time": "2022-03-23T09:26:43.388Z"
   },
   {
    "duration": 51,
    "start_time": "2022-03-23T09:26:43.400Z"
   },
   {
    "duration": 37,
    "start_time": "2022-03-23T09:26:43.456Z"
   },
   {
    "duration": 3,
    "start_time": "2022-03-23T09:26:43.496Z"
   },
   {
    "duration": 390,
    "start_time": "2022-03-23T09:26:43.501Z"
   },
   {
    "duration": 68,
    "start_time": "2022-03-23T09:26:43.892Z"
   },
   {
    "duration": 509,
    "start_time": "2022-03-23T09:26:43.963Z"
   },
   {
    "duration": 533,
    "start_time": "2022-03-23T09:26:44.474Z"
   },
   {
    "duration": 75,
    "start_time": "2022-03-23T09:26:45.010Z"
   },
   {
    "duration": 198,
    "start_time": "2022-03-23T09:26:45.087Z"
   },
   {
    "duration": 24,
    "start_time": "2022-03-23T09:26:45.287Z"
   },
   {
    "duration": 30,
    "start_time": "2022-03-23T09:26:45.313Z"
   },
   {
    "duration": 48,
    "start_time": "2022-03-23T09:26:45.347Z"
   },
   {
    "duration": 390,
    "start_time": "2022-03-23T09:26:45.397Z"
   },
   {
    "duration": 7,
    "start_time": "2022-03-23T09:26:45.790Z"
   },
   {
    "duration": 209,
    "start_time": "2022-03-23T09:26:45.799Z"
   },
   {
    "duration": 14,
    "start_time": "2022-03-23T09:26:46.011Z"
   },
   {
    "duration": 0,
    "start_time": "2022-03-23T09:26:46.029Z"
   },
   {
    "duration": 0,
    "start_time": "2022-03-23T09:27:01.368Z"
   },
   {
    "duration": 0,
    "start_time": "2022-03-23T09:27:01.371Z"
   },
   {
    "duration": 0,
    "start_time": "2022-03-23T09:27:01.372Z"
   },
   {
    "duration": 0,
    "start_time": "2022-03-23T09:27:01.373Z"
   },
   {
    "duration": 0,
    "start_time": "2022-03-23T09:27:01.375Z"
   },
   {
    "duration": 0,
    "start_time": "2022-03-23T09:27:01.377Z"
   },
   {
    "duration": 0,
    "start_time": "2022-03-23T09:27:01.378Z"
   },
   {
    "duration": 0,
    "start_time": "2022-03-23T09:27:01.380Z"
   },
   {
    "duration": 0,
    "start_time": "2022-03-23T09:27:01.382Z"
   },
   {
    "duration": 0,
    "start_time": "2022-03-23T09:27:01.383Z"
   },
   {
    "duration": 0,
    "start_time": "2022-03-23T09:27:01.385Z"
   },
   {
    "duration": 0,
    "start_time": "2022-03-23T09:27:01.387Z"
   },
   {
    "duration": 0,
    "start_time": "2022-03-23T09:27:01.388Z"
   },
   {
    "duration": 0,
    "start_time": "2022-03-23T09:27:01.390Z"
   },
   {
    "duration": 1,
    "start_time": "2022-03-23T09:27:01.391Z"
   },
   {
    "duration": 0,
    "start_time": "2022-03-23T09:27:01.394Z"
   },
   {
    "duration": 0,
    "start_time": "2022-03-23T09:27:01.395Z"
   },
   {
    "duration": 0,
    "start_time": "2022-03-23T09:27:01.396Z"
   },
   {
    "duration": 0,
    "start_time": "2022-03-23T09:27:01.397Z"
   },
   {
    "duration": 0,
    "start_time": "2022-03-23T09:27:01.399Z"
   },
   {
    "duration": 0,
    "start_time": "2022-03-23T09:27:01.401Z"
   },
   {
    "duration": 0,
    "start_time": "2022-03-23T09:27:01.444Z"
   },
   {
    "duration": 1,
    "start_time": "2022-03-23T09:27:01.450Z"
   },
   {
    "duration": 0,
    "start_time": "2022-03-23T09:27:01.452Z"
   },
   {
    "duration": 0,
    "start_time": "2022-03-23T09:27:01.455Z"
   },
   {
    "duration": 1775,
    "start_time": "2022-03-23T09:27:31.033Z"
   },
   {
    "duration": 79,
    "start_time": "2022-03-23T09:27:32.810Z"
   },
   {
    "duration": 19,
    "start_time": "2022-03-23T09:27:32.891Z"
   },
   {
    "duration": 43,
    "start_time": "2022-03-23T09:27:32.913Z"
   },
   {
    "duration": 30,
    "start_time": "2022-03-23T09:27:32.959Z"
   },
   {
    "duration": 17,
    "start_time": "2022-03-23T09:27:32.992Z"
   },
   {
    "duration": 405,
    "start_time": "2022-03-23T09:27:33.012Z"
   },
   {
    "duration": 24,
    "start_time": "2022-03-23T09:27:33.420Z"
   },
   {
    "duration": 21,
    "start_time": "2022-03-23T09:27:33.446Z"
   },
   {
    "duration": 282,
    "start_time": "2022-03-23T09:27:33.472Z"
   },
   {
    "duration": 35,
    "start_time": "2022-03-23T09:27:33.757Z"
   },
   {
    "duration": 3,
    "start_time": "2022-03-23T09:27:33.843Z"
   },
   {
    "duration": 444,
    "start_time": "2022-03-23T09:27:33.849Z"
   },
   {
    "duration": 67,
    "start_time": "2022-03-23T09:27:34.295Z"
   },
   {
    "duration": 528,
    "start_time": "2022-03-23T09:27:34.365Z"
   },
   {
    "duration": 539,
    "start_time": "2022-03-23T09:27:34.895Z"
   },
   {
    "duration": 157,
    "start_time": "2022-03-23T09:27:35.436Z"
   },
   {
    "duration": 91,
    "start_time": "2022-03-23T09:27:35.596Z"
   },
   {
    "duration": 24,
    "start_time": "2022-03-23T09:27:35.689Z"
   },
   {
    "duration": 12,
    "start_time": "2022-03-23T09:27:35.715Z"
   },
   {
    "duration": 48,
    "start_time": "2022-03-23T09:27:35.747Z"
   },
   {
    "duration": 419,
    "start_time": "2022-03-23T09:27:35.798Z"
   },
   {
    "duration": 96,
    "start_time": "2022-03-23T09:27:36.220Z"
   },
   {
    "duration": 244,
    "start_time": "2022-03-23T09:27:36.318Z"
   },
   {
    "duration": 5253,
    "start_time": "2022-03-23T09:27:36.564Z"
   },
   {
    "duration": 5714,
    "start_time": "2022-03-23T09:29:49.816Z"
   },
   {
    "duration": 0,
    "start_time": "2022-03-23T09:31:06.874Z"
   },
   {
    "duration": 0,
    "start_time": "2022-03-23T09:31:06.877Z"
   },
   {
    "duration": 0,
    "start_time": "2022-03-23T09:31:06.878Z"
   },
   {
    "duration": 0,
    "start_time": "2022-03-23T09:31:06.879Z"
   },
   {
    "duration": 0,
    "start_time": "2022-03-23T09:31:06.881Z"
   },
   {
    "duration": 0,
    "start_time": "2022-03-23T09:31:06.882Z"
   },
   {
    "duration": 0,
    "start_time": "2022-03-23T09:31:06.883Z"
   },
   {
    "duration": 0,
    "start_time": "2022-03-23T09:31:06.884Z"
   },
   {
    "duration": 0,
    "start_time": "2022-03-23T09:31:06.887Z"
   },
   {
    "duration": 0,
    "start_time": "2022-03-23T09:31:06.889Z"
   },
   {
    "duration": 0,
    "start_time": "2022-03-23T09:31:06.891Z"
   },
   {
    "duration": 0,
    "start_time": "2022-03-23T09:31:06.892Z"
   },
   {
    "duration": 0,
    "start_time": "2022-03-23T09:31:06.893Z"
   },
   {
    "duration": 0,
    "start_time": "2022-03-23T09:31:06.895Z"
   },
   {
    "duration": 0,
    "start_time": "2022-03-23T09:31:06.896Z"
   },
   {
    "duration": 0,
    "start_time": "2022-03-23T09:31:06.897Z"
   },
   {
    "duration": 0,
    "start_time": "2022-03-23T09:31:06.899Z"
   },
   {
    "duration": 0,
    "start_time": "2022-03-23T09:31:06.900Z"
   },
   {
    "duration": 0,
    "start_time": "2022-03-23T09:31:06.901Z"
   },
   {
    "duration": 0,
    "start_time": "2022-03-23T09:31:06.902Z"
   },
   {
    "duration": 0,
    "start_time": "2022-03-23T09:31:06.903Z"
   },
   {
    "duration": 0,
    "start_time": "2022-03-23T09:31:06.905Z"
   },
   {
    "duration": 0,
    "start_time": "2022-03-23T09:31:06.906Z"
   },
   {
    "duration": 0,
    "start_time": "2022-03-23T09:31:06.907Z"
   },
   {
    "duration": 0,
    "start_time": "2022-03-23T09:31:06.909Z"
   },
   {
    "duration": 1704,
    "start_time": "2022-03-23T09:32:07.373Z"
   },
   {
    "duration": 71,
    "start_time": "2022-03-23T09:32:09.081Z"
   },
   {
    "duration": 24,
    "start_time": "2022-03-23T09:32:09.155Z"
   },
   {
    "duration": 28,
    "start_time": "2022-03-23T09:32:09.183Z"
   },
   {
    "duration": 65,
    "start_time": "2022-03-23T09:32:09.214Z"
   },
   {
    "duration": 20,
    "start_time": "2022-03-23T09:32:09.282Z"
   },
   {
    "duration": 364,
    "start_time": "2022-03-23T09:32:09.304Z"
   },
   {
    "duration": 19,
    "start_time": "2022-03-23T09:32:09.670Z"
   },
   {
    "duration": 12,
    "start_time": "2022-03-23T09:32:09.692Z"
   },
   {
    "duration": 247,
    "start_time": "2022-03-23T09:32:09.743Z"
   },
   {
    "duration": 55,
    "start_time": "2022-03-23T09:32:09.992Z"
   },
   {
    "duration": 4,
    "start_time": "2022-03-23T09:32:10.049Z"
   },
   {
    "duration": 479,
    "start_time": "2022-03-23T09:32:10.056Z"
   },
   {
    "duration": 53,
    "start_time": "2022-03-23T09:32:10.542Z"
   },
   {
    "duration": 406,
    "start_time": "2022-03-23T09:32:10.597Z"
   },
   {
    "duration": 493,
    "start_time": "2022-03-23T09:32:11.005Z"
   },
   {
    "duration": 156,
    "start_time": "2022-03-23T09:32:11.500Z"
   },
   {
    "duration": 72,
    "start_time": "2022-03-23T09:32:11.658Z"
   },
   {
    "duration": 24,
    "start_time": "2022-03-23T09:32:11.744Z"
   },
   {
    "duration": 4,
    "start_time": "2022-03-23T09:32:11.771Z"
   },
   {
    "duration": 74,
    "start_time": "2022-03-23T09:32:11.778Z"
   },
   {
    "duration": 378,
    "start_time": "2022-03-23T09:32:11.854Z"
   },
   {
    "duration": 79,
    "start_time": "2022-03-23T09:32:12.235Z"
   },
   {
    "duration": 131,
    "start_time": "2022-03-23T09:32:12.317Z"
   },
   {
    "duration": 5166,
    "start_time": "2022-03-23T09:32:12.451Z"
   },
   {
    "duration": 15,
    "start_time": "2022-03-23T09:39:36.974Z"
   },
   {
    "duration": 5221,
    "start_time": "2022-03-23T09:44:50.290Z"
   },
   {
    "duration": 0,
    "start_time": "2022-03-23T11:00:12.712Z"
   },
   {
    "duration": 0,
    "start_time": "2022-03-23T11:00:12.714Z"
   },
   {
    "duration": 0,
    "start_time": "2022-03-23T11:00:12.716Z"
   },
   {
    "duration": 0,
    "start_time": "2022-03-23T11:00:12.718Z"
   },
   {
    "duration": 0,
    "start_time": "2022-03-23T11:00:12.720Z"
   },
   {
    "duration": 0,
    "start_time": "2022-03-23T11:00:12.721Z"
   },
   {
    "duration": 0,
    "start_time": "2022-03-23T11:00:12.723Z"
   },
   {
    "duration": 0,
    "start_time": "2022-03-23T11:00:12.726Z"
   },
   {
    "duration": 0,
    "start_time": "2022-03-23T11:00:12.727Z"
   },
   {
    "duration": 0,
    "start_time": "2022-03-23T11:00:12.729Z"
   },
   {
    "duration": 0,
    "start_time": "2022-03-23T11:00:12.732Z"
   },
   {
    "duration": 0,
    "start_time": "2022-03-23T11:00:12.734Z"
   },
   {
    "duration": 0,
    "start_time": "2022-03-23T11:00:12.736Z"
   },
   {
    "duration": 1,
    "start_time": "2022-03-23T11:00:12.737Z"
   },
   {
    "duration": 0,
    "start_time": "2022-03-23T11:00:12.739Z"
   },
   {
    "duration": 0,
    "start_time": "2022-03-23T11:00:12.741Z"
   },
   {
    "duration": 0,
    "start_time": "2022-03-23T11:00:12.742Z"
   },
   {
    "duration": 0,
    "start_time": "2022-03-23T11:00:12.743Z"
   },
   {
    "duration": 0,
    "start_time": "2022-03-23T11:00:12.744Z"
   },
   {
    "duration": 0,
    "start_time": "2022-03-23T11:00:12.745Z"
   },
   {
    "duration": 0,
    "start_time": "2022-03-23T11:00:12.747Z"
   },
   {
    "duration": 0,
    "start_time": "2022-03-23T11:00:12.749Z"
   },
   {
    "duration": 0,
    "start_time": "2022-03-23T11:00:12.751Z"
   },
   {
    "duration": 0,
    "start_time": "2022-03-23T11:00:12.752Z"
   },
   {
    "duration": 1,
    "start_time": "2022-03-23T11:00:12.753Z"
   },
   {
    "duration": 0,
    "start_time": "2022-03-23T11:00:12.755Z"
   },
   {
    "duration": 331,
    "start_time": "2022-03-23T11:35:24.466Z"
   },
   {
    "duration": 4,
    "start_time": "2022-03-23T11:35:33.439Z"
   },
   {
    "duration": 79,
    "start_time": "2022-03-23T11:35:33.447Z"
   },
   {
    "duration": 22,
    "start_time": "2022-03-23T11:35:33.528Z"
   },
   {
    "duration": 20,
    "start_time": "2022-03-23T11:35:33.552Z"
   },
   {
    "duration": 25,
    "start_time": "2022-03-23T11:35:33.575Z"
   },
   {
    "duration": 49,
    "start_time": "2022-03-23T11:35:33.602Z"
   },
   {
    "duration": 344,
    "start_time": "2022-03-23T11:35:33.653Z"
   },
   {
    "duration": 18,
    "start_time": "2022-03-23T11:35:34.000Z"
   },
   {
    "duration": 28,
    "start_time": "2022-03-23T11:35:34.021Z"
   },
   {
    "duration": 22,
    "start_time": "2022-03-23T11:35:34.052Z"
   },
   {
    "duration": 68,
    "start_time": "2022-03-23T11:35:34.080Z"
   },
   {
    "duration": 3,
    "start_time": "2022-03-23T11:35:34.152Z"
   },
   {
    "duration": 536,
    "start_time": "2022-03-23T11:35:34.158Z"
   },
   {
    "duration": 92,
    "start_time": "2022-03-23T11:35:34.697Z"
   },
   {
    "duration": 391,
    "start_time": "2022-03-23T11:35:34.791Z"
   },
   {
    "duration": 593,
    "start_time": "2022-03-23T11:35:35.184Z"
   },
   {
    "duration": 69,
    "start_time": "2022-03-23T11:35:35.779Z"
   },
   {
    "duration": 65,
    "start_time": "2022-03-23T11:35:35.850Z"
   },
   {
    "duration": 43,
    "start_time": "2022-03-23T11:35:35.917Z"
   },
   {
    "duration": 4,
    "start_time": "2022-03-23T11:35:35.962Z"
   },
   {
    "duration": 41,
    "start_time": "2022-03-23T11:35:35.968Z"
   },
   {
    "duration": 381,
    "start_time": "2022-03-23T11:35:36.012Z"
   },
   {
    "duration": 7,
    "start_time": "2022-03-23T11:35:36.395Z"
   },
   {
    "duration": 216,
    "start_time": "2022-03-23T11:35:36.405Z"
   },
   {
    "duration": 310,
    "start_time": "2022-03-23T11:35:36.624Z"
   },
   {
    "duration": 0,
    "start_time": "2022-03-23T11:35:36.936Z"
   },
   {
    "duration": 458,
    "start_time": "2022-03-23T13:06:36.121Z"
   },
   {
    "duration": 4629,
    "start_time": "2022-03-23T14:26:12.680Z"
   },
   {
    "duration": 894,
    "start_time": "2022-03-23T14:27:58.458Z"
   },
   {
    "duration": 7,
    "start_time": "2022-03-23T14:28:25.466Z"
   },
   {
    "duration": 539,
    "start_time": "2022-03-23T14:28:42.537Z"
   },
   {
    "duration": 5035,
    "start_time": "2022-03-23T14:30:01.609Z"
   },
   {
    "duration": 791,
    "start_time": "2022-03-23T14:30:29.832Z"
   },
   {
    "duration": 4898,
    "start_time": "2022-03-23T14:30:45.446Z"
   },
   {
    "duration": 175,
    "start_time": "2022-03-23T15:19:51.693Z"
   },
   {
    "duration": 4,
    "start_time": "2022-03-23T15:19:59.794Z"
   },
   {
    "duration": 83,
    "start_time": "2022-03-23T15:19:59.802Z"
   },
   {
    "duration": 13,
    "start_time": "2022-03-23T15:19:59.888Z"
   },
   {
    "duration": 42,
    "start_time": "2022-03-23T15:19:59.903Z"
   },
   {
    "duration": 30,
    "start_time": "2022-03-23T15:19:59.949Z"
   },
   {
    "duration": 18,
    "start_time": "2022-03-23T15:19:59.981Z"
   },
   {
    "duration": 379,
    "start_time": "2022-03-23T15:20:00.001Z"
   },
   {
    "duration": 18,
    "start_time": "2022-03-23T15:20:00.382Z"
   },
   {
    "duration": 16,
    "start_time": "2022-03-23T15:20:00.402Z"
   },
   {
    "duration": 43,
    "start_time": "2022-03-23T15:20:00.420Z"
   },
   {
    "duration": 39,
    "start_time": "2022-03-23T15:20:00.467Z"
   },
   {
    "duration": 4,
    "start_time": "2022-03-23T15:20:00.508Z"
   },
   {
    "duration": 345,
    "start_time": "2022-03-23T15:20:00.543Z"
   },
   {
    "duration": 65,
    "start_time": "2022-03-23T15:20:00.890Z"
   },
   {
    "duration": 412,
    "start_time": "2022-03-23T15:20:00.957Z"
   },
   {
    "duration": 499,
    "start_time": "2022-03-23T15:20:01.371Z"
   },
   {
    "duration": 157,
    "start_time": "2022-03-23T15:20:01.872Z"
   },
   {
    "duration": 85,
    "start_time": "2022-03-23T15:20:02.032Z"
   },
   {
    "duration": 42,
    "start_time": "2022-03-23T15:20:02.120Z"
   },
   {
    "duration": 9,
    "start_time": "2022-03-23T15:20:02.164Z"
   },
   {
    "duration": 40,
    "start_time": "2022-03-23T15:20:02.175Z"
   },
   {
    "duration": 377,
    "start_time": "2022-03-23T15:20:02.217Z"
   },
   {
    "duration": 6,
    "start_time": "2022-03-23T15:20:02.597Z"
   },
   {
    "duration": 252,
    "start_time": "2022-03-23T15:20:02.605Z"
   },
   {
    "duration": 15,
    "start_time": "2022-03-23T15:20:02.859Z"
   },
   {
    "duration": 0,
    "start_time": "2022-03-23T15:20:02.876Z"
   },
   {
    "duration": 115,
    "start_time": "2022-03-23T15:20:34.059Z"
   },
   {
    "duration": 4593,
    "start_time": "2022-03-23T15:23:47.985Z"
   },
   {
    "duration": 4810,
    "start_time": "2022-03-23T15:24:05.663Z"
   },
   {
    "duration": 74,
    "start_time": "2022-03-23T19:11:12.818Z"
   },
   {
    "duration": 1889,
    "start_time": "2022-03-23T19:13:41.034Z"
   },
   {
    "duration": 165,
    "start_time": "2022-03-23T19:13:42.926Z"
   },
   {
    "duration": 20,
    "start_time": "2022-03-23T19:13:43.093Z"
   },
   {
    "duration": 22,
    "start_time": "2022-03-23T19:13:43.116Z"
   },
   {
    "duration": 58,
    "start_time": "2022-03-23T19:13:43.141Z"
   },
   {
    "duration": 24,
    "start_time": "2022-03-23T19:13:43.202Z"
   },
   {
    "duration": 396,
    "start_time": "2022-03-23T19:13:43.228Z"
   },
   {
    "duration": 17,
    "start_time": "2022-03-23T19:13:43.626Z"
   },
   {
    "duration": 9,
    "start_time": "2022-03-23T19:13:43.645Z"
   },
   {
    "duration": 245,
    "start_time": "2022-03-23T19:13:43.675Z"
   },
   {
    "duration": 55,
    "start_time": "2022-03-23T19:13:43.923Z"
   },
   {
    "duration": 4,
    "start_time": "2022-03-23T19:13:43.980Z"
   },
   {
    "duration": 448,
    "start_time": "2022-03-23T19:13:43.985Z"
   },
   {
    "duration": 75,
    "start_time": "2022-03-23T19:13:44.437Z"
   },
   {
    "duration": 413,
    "start_time": "2022-03-23T19:13:44.516Z"
   },
   {
    "duration": 534,
    "start_time": "2022-03-23T19:13:44.931Z"
   },
   {
    "duration": 151,
    "start_time": "2022-03-23T19:13:45.468Z"
   },
   {
    "duration": 88,
    "start_time": "2022-03-23T19:13:45.621Z"
   },
   {
    "duration": 26,
    "start_time": "2022-03-23T19:13:45.711Z"
   },
   {
    "duration": 8,
    "start_time": "2022-03-23T19:13:45.739Z"
   },
   {
    "duration": 57,
    "start_time": "2022-03-23T19:13:45.749Z"
   },
   {
    "duration": 385,
    "start_time": "2022-03-23T19:13:45.808Z"
   },
   {
    "duration": 90,
    "start_time": "2022-03-23T19:13:46.195Z"
   },
   {
    "duration": 183,
    "start_time": "2022-03-23T19:13:46.287Z"
   },
   {
    "duration": 1346,
    "start_time": "2022-03-23T19:13:46.473Z"
   },
   {
    "duration": 4,
    "start_time": "2022-03-23T19:14:43.827Z"
   },
   {
    "duration": 4,
    "start_time": "2022-03-23T19:14:46.197Z"
   },
   {
    "duration": 81,
    "start_time": "2022-03-23T19:14:46.204Z"
   },
   {
    "duration": 14,
    "start_time": "2022-03-23T19:14:46.287Z"
   },
   {
    "duration": 24,
    "start_time": "2022-03-23T19:14:46.304Z"
   },
   {
    "duration": 51,
    "start_time": "2022-03-23T19:14:46.330Z"
   },
   {
    "duration": 17,
    "start_time": "2022-03-23T19:14:46.384Z"
   },
   {
    "duration": 356,
    "start_time": "2022-03-23T19:14:46.403Z"
   },
   {
    "duration": 26,
    "start_time": "2022-03-23T19:14:46.761Z"
   },
   {
    "duration": 22,
    "start_time": "2022-03-23T19:14:46.791Z"
   },
   {
    "duration": 50,
    "start_time": "2022-03-23T19:14:46.815Z"
   },
   {
    "duration": 44,
    "start_time": "2022-03-23T19:14:46.867Z"
   },
   {
    "duration": 23,
    "start_time": "2022-03-23T19:14:46.913Z"
   },
   {
    "duration": 350,
    "start_time": "2022-03-23T19:14:46.939Z"
   },
   {
    "duration": 50,
    "start_time": "2022-03-23T19:14:47.291Z"
   },
   {
    "duration": 413,
    "start_time": "2022-03-23T19:14:47.344Z"
   },
   {
    "duration": 506,
    "start_time": "2022-03-23T19:14:47.759Z"
   },
   {
    "duration": 138,
    "start_time": "2022-03-23T19:14:48.274Z"
   },
   {
    "duration": 81,
    "start_time": "2022-03-23T19:14:48.414Z"
   },
   {
    "duration": 23,
    "start_time": "2022-03-23T19:14:48.497Z"
   },
   {
    "duration": 8,
    "start_time": "2022-03-23T19:14:48.522Z"
   },
   {
    "duration": 61,
    "start_time": "2022-03-23T19:14:48.532Z"
   },
   {
    "duration": 377,
    "start_time": "2022-03-23T19:14:48.596Z"
   },
   {
    "duration": 5,
    "start_time": "2022-03-23T19:14:48.976Z"
   },
   {
    "duration": 209,
    "start_time": "2022-03-23T19:14:48.986Z"
   },
   {
    "duration": 1011,
    "start_time": "2022-03-23T19:14:49.198Z"
   },
   {
    "duration": 1799,
    "start_time": "2022-03-23T19:25:41.960Z"
   },
   {
    "duration": 1743,
    "start_time": "2022-03-23T19:27:19.480Z"
   },
   {
    "duration": 1316,
    "start_time": "2022-03-23T19:32:40.195Z"
   },
   {
    "duration": 986,
    "start_time": "2022-03-23T19:33:04.284Z"
   },
   {
    "duration": 1338,
    "start_time": "2022-03-23T19:55:40.221Z"
   },
   {
    "duration": 1589,
    "start_time": "2022-03-23T19:55:50.758Z"
   },
   {
    "duration": 1360,
    "start_time": "2022-03-23T19:56:00.666Z"
   },
   {
    "duration": 8,
    "start_time": "2022-03-23T19:56:25.243Z"
   },
   {
    "duration": 84,
    "start_time": "2022-03-23T20:06:10.333Z"
   },
   {
    "duration": 22,
    "start_time": "2022-03-23T20:06:27.107Z"
   },
   {
    "duration": 22,
    "start_time": "2022-03-23T20:07:37.204Z"
   },
   {
    "duration": 81,
    "start_time": "2022-03-23T20:08:25.549Z"
   },
   {
    "duration": 91,
    "start_time": "2022-03-23T20:08:42.374Z"
   },
   {
    "duration": 89,
    "start_time": "2022-03-23T20:10:26.119Z"
   },
   {
    "duration": 83,
    "start_time": "2022-03-23T20:10:29.508Z"
   },
   {
    "duration": 5,
    "start_time": "2022-03-23T20:10:31.201Z"
   },
   {
    "duration": 74,
    "start_time": "2022-03-23T20:10:31.210Z"
   },
   {
    "duration": 13,
    "start_time": "2022-03-23T20:10:31.287Z"
   },
   {
    "duration": 41,
    "start_time": "2022-03-23T20:10:31.302Z"
   },
   {
    "duration": 37,
    "start_time": "2022-03-23T20:10:31.347Z"
   },
   {
    "duration": 17,
    "start_time": "2022-03-23T20:10:31.386Z"
   },
   {
    "duration": 347,
    "start_time": "2022-03-23T20:10:31.405Z"
   },
   {
    "duration": 26,
    "start_time": "2022-03-23T20:10:31.755Z"
   },
   {
    "duration": 12,
    "start_time": "2022-03-23T20:10:31.784Z"
   },
   {
    "duration": 25,
    "start_time": "2022-03-23T20:10:31.798Z"
   },
   {
    "duration": 67,
    "start_time": "2022-03-23T20:10:31.826Z"
   },
   {
    "duration": 4,
    "start_time": "2022-03-23T20:10:31.896Z"
   },
   {
    "duration": 353,
    "start_time": "2022-03-23T20:10:31.902Z"
   },
   {
    "duration": 58,
    "start_time": "2022-03-23T20:10:32.259Z"
   },
   {
    "duration": 397,
    "start_time": "2022-03-23T20:10:32.320Z"
   },
   {
    "duration": 506,
    "start_time": "2022-03-23T20:10:32.719Z"
   },
   {
    "duration": 161,
    "start_time": "2022-03-23T20:10:33.228Z"
   },
   {
    "duration": 83,
    "start_time": "2022-03-23T20:10:33.392Z"
   },
   {
    "duration": 25,
    "start_time": "2022-03-23T20:10:33.477Z"
   },
   {
    "duration": 26,
    "start_time": "2022-03-23T20:10:33.505Z"
   },
   {
    "duration": 45,
    "start_time": "2022-03-23T20:10:33.533Z"
   },
   {
    "duration": 367,
    "start_time": "2022-03-23T20:10:33.580Z"
   },
   {
    "duration": 874,
    "start_time": "2022-03-23T20:10:33.949Z"
   },
   {
    "duration": 103,
    "start_time": "2022-03-23T20:10:34.825Z"
   },
   {
    "duration": 0,
    "start_time": "2022-03-23T20:10:34.930Z"
   },
   {
    "duration": 83,
    "start_time": "2022-03-23T20:13:21.214Z"
   },
   {
    "duration": 26,
    "start_time": "2022-03-23T20:13:43.869Z"
   },
   {
    "duration": 12,
    "start_time": "2022-03-23T20:15:02.639Z"
   },
   {
    "duration": 23,
    "start_time": "2022-03-23T20:15:36.313Z"
   },
   {
    "duration": 20,
    "start_time": "2022-03-23T20:15:53.562Z"
   },
   {
    "duration": 89,
    "start_time": "2022-03-23T20:16:00.395Z"
   },
   {
    "duration": 5,
    "start_time": "2022-03-23T20:16:02.019Z"
   },
   {
    "duration": 79,
    "start_time": "2022-03-23T20:16:02.026Z"
   },
   {
    "duration": 14,
    "start_time": "2022-03-23T20:16:02.108Z"
   },
   {
    "duration": 33,
    "start_time": "2022-03-23T20:16:02.124Z"
   },
   {
    "duration": 28,
    "start_time": "2022-03-23T20:16:02.175Z"
   },
   {
    "duration": 17,
    "start_time": "2022-03-23T20:16:02.205Z"
   },
   {
    "duration": 395,
    "start_time": "2022-03-23T20:16:02.225Z"
   },
   {
    "duration": 18,
    "start_time": "2022-03-23T20:16:02.622Z"
   },
   {
    "duration": 36,
    "start_time": "2022-03-23T20:16:02.643Z"
   },
   {
    "duration": 23,
    "start_time": "2022-03-23T20:16:02.681Z"
   },
   {
    "duration": 31,
    "start_time": "2022-03-23T20:16:02.708Z"
   },
   {
    "duration": 4,
    "start_time": "2022-03-23T20:16:02.741Z"
   },
   {
    "duration": 355,
    "start_time": "2022-03-23T20:16:02.774Z"
   },
   {
    "duration": 76,
    "start_time": "2022-03-23T20:16:03.132Z"
   },
   {
    "duration": 423,
    "start_time": "2022-03-23T20:16:03.210Z"
   },
   {
    "duration": 532,
    "start_time": "2022-03-23T20:16:03.635Z"
   },
   {
    "duration": 76,
    "start_time": "2022-03-23T20:16:04.173Z"
   },
   {
    "duration": 198,
    "start_time": "2022-03-23T20:16:04.252Z"
   },
   {
    "duration": 40,
    "start_time": "2022-03-23T20:16:04.453Z"
   },
   {
    "duration": 23,
    "start_time": "2022-03-23T20:16:04.495Z"
   },
   {
    "duration": 46,
    "start_time": "2022-03-23T20:16:04.520Z"
   },
   {
    "duration": 378,
    "start_time": "2022-03-23T20:16:04.574Z"
   },
   {
    "duration": 1086,
    "start_time": "2022-03-23T20:16:04.955Z"
   },
   {
    "duration": 18,
    "start_time": "2022-03-23T20:16:06.043Z"
   },
   {
    "duration": 92,
    "start_time": "2022-03-23T20:16:06.063Z"
   },
   {
    "duration": 80,
    "start_time": "2022-03-23T20:16:32.471Z"
   },
   {
    "duration": 15,
    "start_time": "2022-03-23T20:17:54.203Z"
   },
   {
    "duration": 22,
    "start_time": "2022-03-23T20:18:07.482Z"
   },
   {
    "duration": 33,
    "start_time": "2022-03-23T20:18:30.966Z"
   },
   {
    "duration": 25,
    "start_time": "2022-03-23T20:18:54.672Z"
   },
   {
    "duration": 373,
    "start_time": "2022-03-23T20:19:01.700Z"
   },
   {
    "duration": 5,
    "start_time": "2022-03-23T20:19:04.328Z"
   },
   {
    "duration": 74,
    "start_time": "2022-03-23T20:19:04.335Z"
   },
   {
    "duration": 16,
    "start_time": "2022-03-23T20:19:04.412Z"
   },
   {
    "duration": 55,
    "start_time": "2022-03-23T20:19:04.431Z"
   },
   {
    "duration": 27,
    "start_time": "2022-03-23T20:19:04.489Z"
   },
   {
    "duration": 17,
    "start_time": "2022-03-23T20:19:04.519Z"
   },
   {
    "duration": 372,
    "start_time": "2022-03-23T20:19:04.538Z"
   },
   {
    "duration": 18,
    "start_time": "2022-03-23T20:19:04.913Z"
   },
   {
    "duration": 20,
    "start_time": "2022-03-23T20:19:04.933Z"
   },
   {
    "duration": 41,
    "start_time": "2022-03-23T20:19:04.956Z"
   },
   {
    "duration": 72,
    "start_time": "2022-03-23T20:19:05.002Z"
   },
   {
    "duration": 4,
    "start_time": "2022-03-23T20:19:05.077Z"
   },
   {
    "duration": 417,
    "start_time": "2022-03-23T20:19:05.084Z"
   },
   {
    "duration": 51,
    "start_time": "2022-03-23T20:19:05.504Z"
   },
   {
    "duration": 412,
    "start_time": "2022-03-23T20:19:05.557Z"
   },
   {
    "duration": 492,
    "start_time": "2022-03-23T20:19:05.974Z"
   },
   {
    "duration": 60,
    "start_time": "2022-03-23T20:19:06.468Z"
   },
   {
    "duration": 186,
    "start_time": "2022-03-23T20:19:06.531Z"
   },
   {
    "duration": 25,
    "start_time": "2022-03-23T20:19:06.719Z"
   },
   {
    "duration": 18,
    "start_time": "2022-03-23T20:19:06.746Z"
   },
   {
    "duration": 31,
    "start_time": "2022-03-23T20:19:06.774Z"
   },
   {
    "duration": 370,
    "start_time": "2022-03-23T20:19:06.808Z"
   },
   {
    "duration": 733,
    "start_time": "2022-03-23T20:19:07.180Z"
   },
   {
    "duration": 22,
    "start_time": "2022-03-23T20:19:07.915Z"
   },
   {
    "duration": 82,
    "start_time": "2022-03-23T20:19:07.939Z"
   },
   {
    "duration": 29,
    "start_time": "2022-03-23T20:19:28.380Z"
   },
   {
    "duration": 79,
    "start_time": "2022-03-23T20:19:39.311Z"
   },
   {
    "duration": 87,
    "start_time": "2022-03-23T20:21:49.552Z"
   },
   {
    "duration": 34,
    "start_time": "2022-03-23T20:21:59.364Z"
   },
   {
    "duration": 5,
    "start_time": "2022-03-23T20:24:01.800Z"
   },
   {
    "duration": 24,
    "start_time": "2022-03-23T20:24:29.230Z"
   },
   {
    "duration": 24,
    "start_time": "2022-03-23T20:25:58.960Z"
   },
   {
    "duration": 5,
    "start_time": "2022-03-23T20:26:01.915Z"
   },
   {
    "duration": 79,
    "start_time": "2022-03-23T20:26:01.922Z"
   },
   {
    "duration": 14,
    "start_time": "2022-03-23T20:26:02.004Z"
   },
   {
    "duration": 31,
    "start_time": "2022-03-23T20:26:02.021Z"
   },
   {
    "duration": 47,
    "start_time": "2022-03-23T20:26:02.055Z"
   },
   {
    "duration": 18,
    "start_time": "2022-03-23T20:26:02.104Z"
   },
   {
    "duration": 363,
    "start_time": "2022-03-23T20:26:02.125Z"
   },
   {
    "duration": 17,
    "start_time": "2022-03-23T20:26:02.491Z"
   },
   {
    "duration": 9,
    "start_time": "2022-03-23T20:26:02.511Z"
   },
   {
    "duration": 55,
    "start_time": "2022-03-23T20:26:02.523Z"
   },
   {
    "duration": 31,
    "start_time": "2022-03-23T20:26:02.582Z"
   },
   {
    "duration": 3,
    "start_time": "2022-03-23T20:26:02.616Z"
   },
   {
    "duration": 373,
    "start_time": "2022-03-23T20:26:02.622Z"
   },
   {
    "duration": 51,
    "start_time": "2022-03-23T20:26:02.997Z"
   },
   {
    "duration": 403,
    "start_time": "2022-03-23T20:26:03.050Z"
   },
   {
    "duration": 517,
    "start_time": "2022-03-23T20:26:03.456Z"
   },
   {
    "duration": 60,
    "start_time": "2022-03-23T20:26:03.975Z"
   },
   {
    "duration": 185,
    "start_time": "2022-03-23T20:26:04.037Z"
   },
   {
    "duration": 24,
    "start_time": "2022-03-23T20:26:04.224Z"
   },
   {
    "duration": 25,
    "start_time": "2022-03-23T20:26:04.250Z"
   },
   {
    "duration": 31,
    "start_time": "2022-03-23T20:26:04.277Z"
   },
   {
    "duration": 370,
    "start_time": "2022-03-23T20:26:04.310Z"
   },
   {
    "duration": 907,
    "start_time": "2022-03-23T20:26:04.683Z"
   },
   {
    "duration": 24,
    "start_time": "2022-03-23T20:26:05.592Z"
   },
   {
    "duration": 24,
    "start_time": "2022-03-23T20:26:05.618Z"
   },
   {
    "duration": 39,
    "start_time": "2022-03-23T20:27:20.129Z"
   },
   {
    "duration": 362,
    "start_time": "2022-03-23T20:27:27.732Z"
   },
   {
    "duration": 6,
    "start_time": "2022-03-23T20:27:29.591Z"
   },
   {
    "duration": 100,
    "start_time": "2022-03-23T20:27:29.601Z"
   },
   {
    "duration": 16,
    "start_time": "2022-03-23T20:27:29.705Z"
   },
   {
    "duration": 19,
    "start_time": "2022-03-23T20:27:29.724Z"
   },
   {
    "duration": 54,
    "start_time": "2022-03-23T20:27:29.746Z"
   },
   {
    "duration": 19,
    "start_time": "2022-03-23T20:27:29.803Z"
   },
   {
    "duration": 383,
    "start_time": "2022-03-23T20:27:29.825Z"
   },
   {
    "duration": 19,
    "start_time": "2022-03-23T20:27:30.210Z"
   },
   {
    "duration": 16,
    "start_time": "2022-03-23T20:27:30.231Z"
   },
   {
    "duration": 44,
    "start_time": "2022-03-23T20:27:30.249Z"
   },
   {
    "duration": 33,
    "start_time": "2022-03-23T20:27:30.297Z"
   },
   {
    "duration": 4,
    "start_time": "2022-03-23T20:27:30.333Z"
   },
   {
    "duration": 404,
    "start_time": "2022-03-23T20:27:30.340Z"
   },
   {
    "duration": 62,
    "start_time": "2022-03-23T20:27:30.747Z"
   },
   {
    "duration": 417,
    "start_time": "2022-03-23T20:27:30.812Z"
   },
   {
    "duration": 509,
    "start_time": "2022-03-23T20:27:31.231Z"
   },
   {
    "duration": 71,
    "start_time": "2022-03-23T20:27:31.743Z"
   },
   {
    "duration": 192,
    "start_time": "2022-03-23T20:27:31.817Z"
   },
   {
    "duration": 24,
    "start_time": "2022-03-23T20:27:32.012Z"
   },
   {
    "duration": 5,
    "start_time": "2022-03-23T20:27:32.038Z"
   },
   {
    "duration": 57,
    "start_time": "2022-03-23T20:27:32.045Z"
   },
   {
    "duration": 469,
    "start_time": "2022-03-23T20:27:32.104Z"
   },
   {
    "duration": 671,
    "start_time": "2022-03-23T20:27:32.576Z"
   },
   {
    "duration": 23,
    "start_time": "2022-03-23T20:27:33.250Z"
   },
   {
    "duration": 28,
    "start_time": "2022-03-23T20:27:33.275Z"
   },
   {
    "duration": 31,
    "start_time": "2022-03-23T20:28:14.090Z"
   },
   {
    "duration": 360,
    "start_time": "2022-03-23T20:28:33.541Z"
   },
   {
    "duration": 27,
    "start_time": "2022-03-23T20:28:53.553Z"
   },
   {
    "duration": 76,
    "start_time": "2022-03-24T12:43:44.733Z"
   },
   {
    "duration": 10,
    "start_time": "2022-03-24T12:44:48.106Z"
   },
   {
    "duration": 2059,
    "start_time": "2022-03-24T12:44:50.096Z"
   },
   {
    "duration": 72,
    "start_time": "2022-03-24T12:44:52.158Z"
   },
   {
    "duration": 24,
    "start_time": "2022-03-24T12:44:52.232Z"
   },
   {
    "duration": 22,
    "start_time": "2022-03-24T12:44:52.259Z"
   },
   {
    "duration": 38,
    "start_time": "2022-03-24T12:44:52.283Z"
   },
   {
    "duration": 23,
    "start_time": "2022-03-24T12:44:52.343Z"
   },
   {
    "duration": 365,
    "start_time": "2022-03-24T12:44:52.369Z"
   },
   {
    "duration": 22,
    "start_time": "2022-03-24T12:44:52.737Z"
   },
   {
    "duration": 11,
    "start_time": "2022-03-24T12:44:52.762Z"
   },
   {
    "duration": 278,
    "start_time": "2022-03-24T12:44:52.778Z"
   },
   {
    "duration": 33,
    "start_time": "2022-03-24T12:44:53.058Z"
   },
   {
    "duration": 50,
    "start_time": "2022-03-24T12:44:53.093Z"
   },
   {
    "duration": 414,
    "start_time": "2022-03-24T12:44:53.145Z"
   },
   {
    "duration": 49,
    "start_time": "2022-03-24T12:44:53.562Z"
   },
   {
    "duration": 407,
    "start_time": "2022-03-24T12:44:53.613Z"
   },
   {
    "duration": 532,
    "start_time": "2022-03-24T12:44:54.022Z"
   },
   {
    "duration": 135,
    "start_time": "2022-03-24T12:44:54.557Z"
   },
   {
    "duration": 88,
    "start_time": "2022-03-24T12:44:54.694Z"
   },
   {
    "duration": 25,
    "start_time": "2022-03-24T12:44:54.785Z"
   },
   {
    "duration": 31,
    "start_time": "2022-03-24T12:44:54.812Z"
   },
   {
    "duration": 32,
    "start_time": "2022-03-24T12:44:54.845Z"
   },
   {
    "duration": 380,
    "start_time": "2022-03-24T12:44:54.880Z"
   },
   {
    "duration": 1553,
    "start_time": "2022-03-24T12:44:55.263Z"
   },
   {
    "duration": 24,
    "start_time": "2022-03-24T12:44:56.818Z"
   },
   {
    "duration": 39,
    "start_time": "2022-03-24T12:44:56.845Z"
   },
   {
    "duration": 147,
    "start_time": "2022-03-24T12:44:56.887Z"
   },
   {
    "duration": 28,
    "start_time": "2022-03-24T12:49:31.349Z"
   },
   {
    "duration": 41,
    "start_time": "2022-03-24T12:50:01.207Z"
   },
   {
    "duration": 23,
    "start_time": "2022-03-24T12:50:42.564Z"
   },
   {
    "duration": 25,
    "start_time": "2022-03-24T12:51:13.557Z"
   },
   {
    "duration": 23,
    "start_time": "2022-03-24T12:51:51.188Z"
   },
   {
    "duration": 33,
    "start_time": "2022-03-24T12:57:05.018Z"
   },
   {
    "duration": 30,
    "start_time": "2022-03-24T13:02:39.712Z"
   },
   {
    "duration": 6,
    "start_time": "2022-03-24T13:02:41.526Z"
   },
   {
    "duration": 88,
    "start_time": "2022-03-24T13:02:41.536Z"
   },
   {
    "duration": 14,
    "start_time": "2022-03-24T13:02:41.626Z"
   },
   {
    "duration": 22,
    "start_time": "2022-03-24T13:02:41.643Z"
   },
   {
    "duration": 27,
    "start_time": "2022-03-24T13:02:41.669Z"
   },
   {
    "duration": 57,
    "start_time": "2022-03-24T13:02:41.698Z"
   },
   {
    "duration": 366,
    "start_time": "2022-03-24T13:02:41.757Z"
   },
   {
    "duration": 31,
    "start_time": "2022-03-24T13:02:42.126Z"
   },
   {
    "duration": 10,
    "start_time": "2022-03-24T13:02:42.160Z"
   },
   {
    "duration": 31,
    "start_time": "2022-03-24T13:02:42.173Z"
   },
   {
    "duration": 45,
    "start_time": "2022-03-24T13:02:42.246Z"
   },
   {
    "duration": 3,
    "start_time": "2022-03-24T13:02:42.294Z"
   },
   {
    "duration": 380,
    "start_time": "2022-03-24T13:02:42.299Z"
   },
   {
    "duration": 64,
    "start_time": "2022-03-24T13:02:42.682Z"
   },
   {
    "duration": 398,
    "start_time": "2022-03-24T13:02:42.748Z"
   },
   {
    "duration": 541,
    "start_time": "2022-03-24T13:02:43.148Z"
   },
   {
    "duration": 153,
    "start_time": "2022-03-24T13:02:43.691Z"
   },
   {
    "duration": 75,
    "start_time": "2022-03-24T13:02:43.846Z"
   },
   {
    "duration": 106,
    "start_time": "2022-03-24T13:02:43.924Z"
   },
   {
    "duration": 3,
    "start_time": "2022-03-24T13:02:44.033Z"
   },
   {
    "duration": 44,
    "start_time": "2022-03-24T13:02:44.038Z"
   },
   {
    "duration": 403,
    "start_time": "2022-03-24T13:02:44.084Z"
   },
   {
    "duration": 967,
    "start_time": "2022-03-24T13:02:44.490Z"
   },
   {
    "duration": 26,
    "start_time": "2022-03-24T13:02:45.460Z"
   },
   {
    "duration": 27,
    "start_time": "2022-03-24T13:02:45.488Z"
   },
   {
    "duration": 53,
    "start_time": "2022-03-24T13:02:45.517Z"
   },
   {
    "duration": 236,
    "start_time": "2022-03-24T13:02:58.810Z"
   },
   {
    "duration": 29,
    "start_time": "2022-03-24T13:03:04.341Z"
   },
   {
    "duration": 34,
    "start_time": "2022-03-24T13:03:36.015Z"
   },
   {
    "duration": 211,
    "start_time": "2022-03-24T13:03:50.855Z"
   },
   {
    "duration": 28,
    "start_time": "2022-03-24T13:04:00.613Z"
   },
   {
    "duration": 35,
    "start_time": "2022-03-24T13:04:12.519Z"
   },
   {
    "duration": 0,
    "start_time": "2022-03-24T13:38:01.710Z"
   },
   {
    "duration": 21,
    "start_time": "2022-03-24T13:38:24.721Z"
   },
   {
    "duration": 24,
    "start_time": "2022-03-24T13:38:38.928Z"
   },
   {
    "duration": 4,
    "start_time": "2022-03-24T13:40:51.380Z"
   },
   {
    "duration": 1139,
    "start_time": "2022-03-24T13:40:51.388Z"
   },
   {
    "duration": 17,
    "start_time": "2022-03-24T13:40:52.531Z"
   },
   {
    "duration": 41,
    "start_time": "2022-03-24T13:40:52.551Z"
   },
   {
    "duration": 41,
    "start_time": "2022-03-24T13:40:52.596Z"
   },
   {
    "duration": 24,
    "start_time": "2022-03-24T13:40:52.643Z"
   },
   {
    "duration": 532,
    "start_time": "2022-03-24T13:40:52.671Z"
   },
   {
    "duration": 37,
    "start_time": "2022-03-24T13:40:53.205Z"
   },
   {
    "duration": 13,
    "start_time": "2022-03-24T13:40:53.245Z"
   },
   {
    "duration": 26,
    "start_time": "2022-03-24T13:40:53.260Z"
   },
   {
    "duration": 64,
    "start_time": "2022-03-24T13:40:53.292Z"
   },
   {
    "duration": 398,
    "start_time": "2022-03-24T13:40:53.359Z"
   },
   {
    "duration": 360,
    "start_time": "2022-03-24T13:40:53.760Z"
   },
   {
    "duration": 91,
    "start_time": "2022-03-24T13:40:54.123Z"
   },
   {
    "duration": 431,
    "start_time": "2022-03-24T13:40:54.217Z"
   },
   {
    "duration": 516,
    "start_time": "2022-03-24T13:40:54.651Z"
   },
   {
    "duration": 78,
    "start_time": "2022-03-24T13:40:55.170Z"
   },
   {
    "duration": 158,
    "start_time": "2022-03-24T13:40:55.251Z"
   },
   {
    "duration": 40,
    "start_time": "2022-03-24T13:40:55.412Z"
   },
   {
    "duration": 4,
    "start_time": "2022-03-24T13:40:55.455Z"
   },
   {
    "duration": 33,
    "start_time": "2022-03-24T13:40:55.461Z"
   },
   {
    "duration": 497,
    "start_time": "2022-03-24T13:40:55.497Z"
   },
   {
    "duration": 942,
    "start_time": "2022-03-24T13:40:55.997Z"
   },
   {
    "duration": 22,
    "start_time": "2022-03-24T13:40:56.941Z"
   },
   {
    "duration": 31,
    "start_time": "2022-03-24T13:40:56.965Z"
   },
   {
    "duration": 59,
    "start_time": "2022-03-24T13:40:56.998Z"
   },
   {
    "duration": 22,
    "start_time": "2022-03-24T13:40:57.060Z"
   },
   {
    "duration": 31,
    "start_time": "2022-03-24T13:42:34.152Z"
   },
   {
    "duration": 26,
    "start_time": "2022-03-24T13:42:40.785Z"
   },
   {
    "duration": 19,
    "start_time": "2022-03-24T13:43:05.024Z"
   },
   {
    "duration": 23,
    "start_time": "2022-03-24T13:43:33.965Z"
   },
   {
    "duration": 18,
    "start_time": "2022-03-24T14:05:42.834Z"
   },
   {
    "duration": 5,
    "start_time": "2022-03-24T14:05:51.829Z"
   },
   {
    "duration": 106,
    "start_time": "2022-03-24T14:05:51.837Z"
   },
   {
    "duration": 17,
    "start_time": "2022-03-24T14:05:51.947Z"
   },
   {
    "duration": 30,
    "start_time": "2022-03-24T14:05:51.966Z"
   },
   {
    "duration": 67,
    "start_time": "2022-03-24T14:05:52.000Z"
   },
   {
    "duration": 25,
    "start_time": "2022-03-24T14:05:52.070Z"
   },
   {
    "duration": 498,
    "start_time": "2022-03-24T14:05:52.098Z"
   },
   {
    "duration": 26,
    "start_time": "2022-03-24T14:05:52.599Z"
   },
   {
    "duration": 9,
    "start_time": "2022-03-24T14:05:52.643Z"
   },
   {
    "duration": 23,
    "start_time": "2022-03-24T14:05:52.654Z"
   },
   {
    "duration": 67,
    "start_time": "2022-03-24T14:05:52.681Z"
   },
   {
    "duration": 3,
    "start_time": "2022-03-24T14:05:52.751Z"
   },
   {
    "duration": 353,
    "start_time": "2022-03-24T14:05:52.756Z"
   },
   {
    "duration": 62,
    "start_time": "2022-03-24T14:05:53.111Z"
   },
   {
    "duration": 398,
    "start_time": "2022-03-24T14:05:53.175Z"
   },
   {
    "duration": 525,
    "start_time": "2022-03-24T14:05:53.575Z"
   },
   {
    "duration": 84,
    "start_time": "2022-03-24T14:05:54.103Z"
   },
   {
    "duration": 215,
    "start_time": "2022-03-24T14:05:54.190Z"
   },
   {
    "duration": 36,
    "start_time": "2022-03-24T14:05:54.407Z"
   },
   {
    "duration": 4,
    "start_time": "2022-03-24T14:05:54.445Z"
   },
   {
    "duration": 34,
    "start_time": "2022-03-24T14:05:54.451Z"
   },
   {
    "duration": 392,
    "start_time": "2022-03-24T14:05:54.487Z"
   },
   {
    "duration": 1207,
    "start_time": "2022-03-24T14:05:54.882Z"
   },
   {
    "duration": 23,
    "start_time": "2022-03-24T14:05:56.091Z"
   },
   {
    "duration": 43,
    "start_time": "2022-03-24T14:05:56.116Z"
   },
   {
    "duration": 35,
    "start_time": "2022-03-24T14:05:56.161Z"
   },
   {
    "duration": 45,
    "start_time": "2022-03-24T14:05:56.198Z"
   },
   {
    "duration": 19,
    "start_time": "2022-03-24T14:06:21.333Z"
   },
   {
    "duration": 6,
    "start_time": "2022-03-24T14:06:53.153Z"
   },
   {
    "duration": 71,
    "start_time": "2022-03-24T14:06:53.162Z"
   },
   {
    "duration": 13,
    "start_time": "2022-03-24T14:06:53.235Z"
   },
   {
    "duration": 19,
    "start_time": "2022-03-24T14:06:53.250Z"
   },
   {
    "duration": 74,
    "start_time": "2022-03-24T14:06:53.271Z"
   },
   {
    "duration": 18,
    "start_time": "2022-03-24T14:06:53.347Z"
   },
   {
    "duration": 358,
    "start_time": "2022-03-24T14:06:53.368Z"
   },
   {
    "duration": 33,
    "start_time": "2022-03-24T14:06:53.728Z"
   },
   {
    "duration": 11,
    "start_time": "2022-03-24T14:06:53.764Z"
   },
   {
    "duration": 23,
    "start_time": "2022-03-24T14:06:53.777Z"
   },
   {
    "duration": 78,
    "start_time": "2022-03-24T14:06:53.807Z"
   },
   {
    "duration": 3,
    "start_time": "2022-03-24T14:06:53.888Z"
   },
   {
    "duration": 376,
    "start_time": "2022-03-24T14:06:53.894Z"
   },
   {
    "duration": 50,
    "start_time": "2022-03-24T14:06:54.273Z"
   },
   {
    "duration": 393,
    "start_time": "2022-03-24T14:06:54.343Z"
   },
   {
    "duration": 514,
    "start_time": "2022-03-24T14:06:54.742Z"
   },
   {
    "duration": 112,
    "start_time": "2022-03-24T14:06:55.259Z"
   },
   {
    "duration": 121,
    "start_time": "2022-03-24T14:06:55.374Z"
   },
   {
    "duration": 48,
    "start_time": "2022-03-24T14:06:55.498Z"
   },
   {
    "duration": 22,
    "start_time": "2022-03-24T14:06:55.549Z"
   },
   {
    "duration": 49,
    "start_time": "2022-03-24T14:06:55.574Z"
   },
   {
    "duration": 449,
    "start_time": "2022-03-24T14:06:55.626Z"
   },
   {
    "duration": 752,
    "start_time": "2022-03-24T14:06:56.078Z"
   },
   {
    "duration": 22,
    "start_time": "2022-03-24T14:06:56.832Z"
   },
   {
    "duration": 46,
    "start_time": "2022-03-24T14:06:56.856Z"
   },
   {
    "duration": 46,
    "start_time": "2022-03-24T14:06:56.905Z"
   },
   {
    "duration": 23,
    "start_time": "2022-03-24T14:06:56.953Z"
   },
   {
    "duration": 20,
    "start_time": "2022-03-24T14:07:35.084Z"
   },
   {
    "duration": 36,
    "start_time": "2022-03-24T14:10:02.805Z"
   },
   {
    "duration": 20,
    "start_time": "2022-03-24T14:12:11.724Z"
   },
   {
    "duration": 19,
    "start_time": "2022-03-24T14:12:46.032Z"
   },
   {
    "duration": 198,
    "start_time": "2022-03-24T14:17:11.418Z"
   },
   {
    "duration": 51,
    "start_time": "2022-03-24T14:17:16.831Z"
   },
   {
    "duration": 20,
    "start_time": "2022-03-24T14:18:08.627Z"
   },
   {
    "duration": 36,
    "start_time": "2022-03-24T14:19:31.877Z"
   },
   {
    "duration": 18,
    "start_time": "2022-03-24T14:19:39.876Z"
   },
   {
    "duration": 5,
    "start_time": "2022-03-24T14:19:41.918Z"
   },
   {
    "duration": 112,
    "start_time": "2022-03-24T14:19:41.926Z"
   },
   {
    "duration": 19,
    "start_time": "2022-03-24T14:19:42.043Z"
   },
   {
    "duration": 28,
    "start_time": "2022-03-24T14:19:42.064Z"
   },
   {
    "duration": 71,
    "start_time": "2022-03-24T14:19:42.096Z"
   },
   {
    "duration": 27,
    "start_time": "2022-03-24T14:19:42.170Z"
   },
   {
    "duration": 531,
    "start_time": "2022-03-24T14:19:42.200Z"
   },
   {
    "duration": 27,
    "start_time": "2022-03-24T14:19:42.740Z"
   },
   {
    "duration": 11,
    "start_time": "2022-03-24T14:19:42.770Z"
   },
   {
    "duration": 22,
    "start_time": "2022-03-24T14:19:42.783Z"
   },
   {
    "duration": 31,
    "start_time": "2022-03-24T14:19:42.844Z"
   },
   {
    "duration": 3,
    "start_time": "2022-03-24T14:19:42.878Z"
   },
   {
    "duration": 363,
    "start_time": "2022-03-24T14:19:42.883Z"
   },
   {
    "duration": 50,
    "start_time": "2022-03-24T14:19:43.249Z"
   },
   {
    "duration": 500,
    "start_time": "2022-03-24T14:19:43.302Z"
   },
   {
    "duration": 504,
    "start_time": "2022-03-24T14:19:43.805Z"
   },
   {
    "duration": 76,
    "start_time": "2022-03-24T14:19:44.312Z"
   },
   {
    "duration": 87,
    "start_time": "2022-03-24T14:19:44.390Z"
   },
   {
    "duration": 25,
    "start_time": "2022-03-24T14:19:44.479Z"
   },
   {
    "duration": 4,
    "start_time": "2022-03-24T14:19:44.507Z"
   },
   {
    "duration": 58,
    "start_time": "2022-03-24T14:19:44.514Z"
   },
   {
    "duration": 384,
    "start_time": "2022-03-24T14:19:44.575Z"
   },
   {
    "duration": 1053,
    "start_time": "2022-03-24T14:19:44.962Z"
   },
   {
    "duration": 28,
    "start_time": "2022-03-24T14:19:46.018Z"
   },
   {
    "duration": 27,
    "start_time": "2022-03-24T14:19:46.049Z"
   },
   {
    "duration": 36,
    "start_time": "2022-03-24T14:19:46.078Z"
   },
   {
    "duration": 17,
    "start_time": "2022-03-24T14:19:46.142Z"
   },
   {
    "duration": 21,
    "start_time": "2022-03-24T14:19:46.161Z"
   },
   {
    "duration": 11769,
    "start_time": "2022-03-24T14:20:11.703Z"
   },
   {
    "duration": 1,
    "start_time": "2022-03-24T14:20:23.474Z"
   },
   {
    "duration": 4787,
    "start_time": "2022-03-24T14:20:41.537Z"
   },
   {
    "duration": 0,
    "start_time": "2022-03-24T14:21:04.932Z"
   },
   {
    "duration": 0,
    "start_time": "2022-03-24T14:21:04.933Z"
   },
   {
    "duration": 0,
    "start_time": "2022-03-24T14:21:04.935Z"
   },
   {
    "duration": 0,
    "start_time": "2022-03-24T14:21:04.937Z"
   },
   {
    "duration": 0,
    "start_time": "2022-03-24T14:21:04.939Z"
   },
   {
    "duration": 0,
    "start_time": "2022-03-24T14:21:04.940Z"
   },
   {
    "duration": 0,
    "start_time": "2022-03-24T14:21:04.941Z"
   },
   {
    "duration": 0,
    "start_time": "2022-03-24T14:21:04.943Z"
   },
   {
    "duration": 0,
    "start_time": "2022-03-24T14:21:05.049Z"
   },
   {
    "duration": 0,
    "start_time": "2022-03-24T14:21:05.052Z"
   },
   {
    "duration": 0,
    "start_time": "2022-03-24T14:21:05.054Z"
   },
   {
    "duration": 0,
    "start_time": "2022-03-24T14:21:05.057Z"
   },
   {
    "duration": 1,
    "start_time": "2022-03-24T14:21:05.058Z"
   },
   {
    "duration": 0,
    "start_time": "2022-03-24T14:21:05.061Z"
   },
   {
    "duration": 0,
    "start_time": "2022-03-24T14:21:05.063Z"
   },
   {
    "duration": 0,
    "start_time": "2022-03-24T14:21:05.065Z"
   },
   {
    "duration": 0,
    "start_time": "2022-03-24T14:21:05.068Z"
   },
   {
    "duration": 0,
    "start_time": "2022-03-24T14:21:05.071Z"
   },
   {
    "duration": 0,
    "start_time": "2022-03-24T14:21:05.073Z"
   },
   {
    "duration": 0,
    "start_time": "2022-03-24T14:21:05.075Z"
   },
   {
    "duration": 0,
    "start_time": "2022-03-24T14:21:05.077Z"
   },
   {
    "duration": 0,
    "start_time": "2022-03-24T14:21:05.079Z"
   },
   {
    "duration": 0,
    "start_time": "2022-03-24T14:21:05.082Z"
   },
   {
    "duration": 0,
    "start_time": "2022-03-24T14:21:05.083Z"
   },
   {
    "duration": 0,
    "start_time": "2022-03-24T14:21:05.143Z"
   },
   {
    "duration": 0,
    "start_time": "2022-03-24T14:21:05.145Z"
   },
   {
    "duration": 0,
    "start_time": "2022-03-24T14:21:05.147Z"
   },
   {
    "duration": 1,
    "start_time": "2022-03-24T14:21:05.148Z"
   },
   {
    "duration": 1920,
    "start_time": "2022-03-24T14:21:38.114Z"
   },
   {
    "duration": 72,
    "start_time": "2022-03-24T14:21:40.036Z"
   },
   {
    "duration": 19,
    "start_time": "2022-03-24T14:21:40.110Z"
   },
   {
    "duration": 25,
    "start_time": "2022-03-24T14:21:40.132Z"
   },
   {
    "duration": 27,
    "start_time": "2022-03-24T14:21:40.160Z"
   },
   {
    "duration": 17,
    "start_time": "2022-03-24T14:21:40.189Z"
   },
   {
    "duration": 357,
    "start_time": "2022-03-24T14:21:40.243Z"
   },
   {
    "duration": 17,
    "start_time": "2022-03-24T14:21:40.603Z"
   },
   {
    "duration": 12,
    "start_time": "2022-03-24T14:21:40.642Z"
   },
   {
    "duration": 234,
    "start_time": "2022-03-24T14:21:40.658Z"
   },
   {
    "duration": 57,
    "start_time": "2022-03-24T14:21:40.895Z"
   },
   {
    "duration": 3,
    "start_time": "2022-03-24T14:21:40.955Z"
   },
   {
    "duration": 433,
    "start_time": "2022-03-24T14:21:40.960Z"
   },
   {
    "duration": 61,
    "start_time": "2022-03-24T14:21:41.396Z"
   },
   {
    "duration": 396,
    "start_time": "2022-03-24T14:21:41.459Z"
   },
   {
    "duration": 507,
    "start_time": "2022-03-24T14:21:41.857Z"
   },
   {
    "duration": 135,
    "start_time": "2022-03-24T14:21:42.367Z"
   },
   {
    "duration": 81,
    "start_time": "2022-03-24T14:21:42.505Z"
   },
   {
    "duration": 34,
    "start_time": "2022-03-24T14:21:42.589Z"
   },
   {
    "duration": 3,
    "start_time": "2022-03-24T14:21:42.644Z"
   },
   {
    "duration": 48,
    "start_time": "2022-03-24T14:21:42.650Z"
   },
   {
    "duration": 384,
    "start_time": "2022-03-24T14:21:42.700Z"
   },
   {
    "duration": 1456,
    "start_time": "2022-03-24T14:21:43.087Z"
   },
   {
    "duration": 22,
    "start_time": "2022-03-24T14:21:44.546Z"
   },
   {
    "duration": 39,
    "start_time": "2022-03-24T14:21:44.570Z"
   },
   {
    "duration": 4102,
    "start_time": "2022-03-24T14:21:44.612Z"
   },
   {
    "duration": 0,
    "start_time": "2022-03-24T14:21:48.716Z"
   },
   {
    "duration": 0,
    "start_time": "2022-03-24T14:21:48.718Z"
   },
   {
    "duration": 32,
    "start_time": "2022-03-24T14:22:15.500Z"
   },
   {
    "duration": 3278,
    "start_time": "2022-03-24T14:22:47.495Z"
   },
   {
    "duration": 3339,
    "start_time": "2022-03-24T14:23:25.234Z"
   },
   {
    "duration": 3341,
    "start_time": "2022-03-24T14:23:38.269Z"
   },
   {
    "duration": 18,
    "start_time": "2022-03-24T14:23:44.796Z"
   },
   {
    "duration": 5,
    "start_time": "2022-03-24T14:23:46.103Z"
   },
   {
    "duration": 71,
    "start_time": "2022-03-24T14:23:46.111Z"
   },
   {
    "duration": 14,
    "start_time": "2022-03-24T14:23:46.185Z"
   },
   {
    "duration": 52,
    "start_time": "2022-03-24T14:23:46.202Z"
   },
   {
    "duration": 26,
    "start_time": "2022-03-24T14:23:46.257Z"
   },
   {
    "duration": 17,
    "start_time": "2022-03-24T14:23:46.285Z"
   },
   {
    "duration": 379,
    "start_time": "2022-03-24T14:23:46.305Z"
   },
   {
    "duration": 19,
    "start_time": "2022-03-24T14:23:46.687Z"
   },
   {
    "duration": 36,
    "start_time": "2022-03-24T14:23:46.708Z"
   },
   {
    "duration": 21,
    "start_time": "2022-03-24T14:23:46.747Z"
   },
   {
    "duration": 32,
    "start_time": "2022-03-24T14:23:46.773Z"
   },
   {
    "duration": 36,
    "start_time": "2022-03-24T14:23:46.807Z"
   },
   {
    "duration": 360,
    "start_time": "2022-03-24T14:23:46.845Z"
   },
   {
    "duration": 67,
    "start_time": "2022-03-24T14:23:47.207Z"
   },
   {
    "duration": 419,
    "start_time": "2022-03-24T14:23:47.276Z"
   },
   {
    "duration": 566,
    "start_time": "2022-03-24T14:23:47.698Z"
   },
   {
    "duration": 166,
    "start_time": "2022-03-24T14:23:48.267Z"
   },
   {
    "duration": 74,
    "start_time": "2022-03-24T14:23:48.436Z"
   },
   {
    "duration": 46,
    "start_time": "2022-03-24T14:23:48.512Z"
   },
   {
    "duration": 6,
    "start_time": "2022-03-24T14:23:48.560Z"
   },
   {
    "duration": 34,
    "start_time": "2022-03-24T14:23:48.569Z"
   },
   {
    "duration": 388,
    "start_time": "2022-03-24T14:23:48.605Z"
   },
   {
    "duration": 836,
    "start_time": "2022-03-24T14:23:48.996Z"
   },
   {
    "duration": 26,
    "start_time": "2022-03-24T14:23:49.835Z"
   },
   {
    "duration": 28,
    "start_time": "2022-03-24T14:23:49.863Z"
   },
   {
    "duration": 7055,
    "start_time": "2022-03-24T14:23:49.894Z"
   },
   {
    "duration": 0,
    "start_time": "2022-03-24T14:23:56.952Z"
   },
   {
    "duration": 0,
    "start_time": "2022-03-24T14:23:56.954Z"
   },
   {
    "duration": 55,
    "start_time": "2022-03-24T14:24:47.009Z"
   },
   {
    "duration": 216,
    "start_time": "2022-03-24T14:25:01.005Z"
   },
   {
    "duration": 56,
    "start_time": "2022-03-24T14:25:17.623Z"
   },
   {
    "duration": 18,
    "start_time": "2022-03-24T14:25:42.960Z"
   },
   {
    "duration": 25,
    "start_time": "2022-03-24T14:26:24.579Z"
   },
   {
    "duration": 54,
    "start_time": "2022-03-24T14:26:59.525Z"
   },
   {
    "duration": 37,
    "start_time": "2022-03-24T14:28:11.237Z"
   },
   {
    "duration": 33,
    "start_time": "2022-03-24T14:28:33.669Z"
   },
   {
    "duration": 25,
    "start_time": "2022-03-24T14:28:46.472Z"
   },
   {
    "duration": 28,
    "start_time": "2022-03-24T14:29:50.317Z"
   },
   {
    "duration": 5,
    "start_time": "2022-03-24T14:31:33.725Z"
   },
   {
    "duration": 6,
    "start_time": "2022-03-24T14:32:03.030Z"
   },
   {
    "duration": 22,
    "start_time": "2022-03-24T14:32:19.450Z"
   },
   {
    "duration": 76,
    "start_time": "2022-03-24T17:44:17.794Z"
   },
   {
    "duration": 8,
    "start_time": "2022-03-24T17:44:22.333Z"
   },
   {
    "duration": 2176,
    "start_time": "2022-03-24T17:44:24.449Z"
   },
   {
    "duration": 72,
    "start_time": "2022-03-24T17:44:26.628Z"
   },
   {
    "duration": 19,
    "start_time": "2022-03-24T17:44:26.703Z"
   },
   {
    "duration": 23,
    "start_time": "2022-03-24T17:44:26.727Z"
   },
   {
    "duration": 53,
    "start_time": "2022-03-24T17:44:26.752Z"
   },
   {
    "duration": 17,
    "start_time": "2022-03-24T17:44:26.807Z"
   },
   {
    "duration": 371,
    "start_time": "2022-03-24T17:44:26.827Z"
   },
   {
    "duration": 21,
    "start_time": "2022-03-24T17:44:27.200Z"
   },
   {
    "duration": 14,
    "start_time": "2022-03-24T17:44:27.223Z"
   },
   {
    "duration": 248,
    "start_time": "2022-03-24T17:44:27.242Z"
   },
   {
    "duration": 34,
    "start_time": "2022-03-24T17:44:27.492Z"
   },
   {
    "duration": 57,
    "start_time": "2022-03-24T17:44:27.528Z"
   },
   {
    "duration": 412,
    "start_time": "2022-03-24T17:44:27.587Z"
   },
   {
    "duration": 51,
    "start_time": "2022-03-24T17:44:28.001Z"
   },
   {
    "duration": 410,
    "start_time": "2022-03-24T17:44:28.055Z"
   },
   {
    "duration": 517,
    "start_time": "2022-03-24T17:44:28.468Z"
   },
   {
    "duration": 146,
    "start_time": "2022-03-24T17:44:28.988Z"
   },
   {
    "duration": 93,
    "start_time": "2022-03-24T17:44:29.136Z"
   },
   {
    "duration": 24,
    "start_time": "2022-03-24T17:44:29.232Z"
   },
   {
    "duration": 6,
    "start_time": "2022-03-24T17:44:29.258Z"
   },
   {
    "duration": 33,
    "start_time": "2022-03-24T17:44:29.283Z"
   },
   {
    "duration": 480,
    "start_time": "2022-03-24T17:44:29.319Z"
   },
   {
    "duration": 1197,
    "start_time": "2022-03-24T17:44:29.801Z"
   },
   {
    "duration": 23,
    "start_time": "2022-03-24T17:44:31.001Z"
   },
   {
    "duration": 29,
    "start_time": "2022-03-24T17:44:31.027Z"
   },
   {
    "duration": 27,
    "start_time": "2022-03-24T17:44:31.084Z"
   },
   {
    "duration": 20,
    "start_time": "2022-03-24T17:44:31.113Z"
   },
   {
    "duration": 55,
    "start_time": "2022-03-24T17:44:31.138Z"
   },
   {
    "duration": 5,
    "start_time": "2022-03-24T17:44:31.196Z"
   },
   {
    "duration": 9,
    "start_time": "2022-03-24T17:45:47.403Z"
   },
   {
    "duration": 127,
    "start_time": "2022-03-24T17:46:01.473Z"
   },
   {
    "duration": 21,
    "start_time": "2022-03-24T17:46:40.872Z"
   },
   {
    "duration": 25,
    "start_time": "2022-03-24T17:54:48.640Z"
   },
   {
    "duration": 245,
    "start_time": "2022-03-24T18:09:04.817Z"
   },
   {
    "duration": 1583,
    "start_time": "2022-03-24T18:09:29.703Z"
   },
   {
    "duration": 243,
    "start_time": "2022-03-24T18:09:43.970Z"
   },
   {
    "duration": 3,
    "start_time": "2022-03-24T18:09:58.460Z"
   },
   {
    "duration": 6,
    "start_time": "2022-03-24T18:10:01.037Z"
   },
   {
    "duration": 92,
    "start_time": "2022-03-24T18:10:01.046Z"
   },
   {
    "duration": 15,
    "start_time": "2022-03-24T18:10:01.141Z"
   },
   {
    "duration": 44,
    "start_time": "2022-03-24T18:10:01.158Z"
   },
   {
    "duration": 48,
    "start_time": "2022-03-24T18:10:01.205Z"
   },
   {
    "duration": 43,
    "start_time": "2022-03-24T18:10:01.257Z"
   },
   {
    "duration": 366,
    "start_time": "2022-03-24T18:10:01.303Z"
   },
   {
    "duration": 27,
    "start_time": "2022-03-24T18:10:01.671Z"
   },
   {
    "duration": 18,
    "start_time": "2022-03-24T18:10:01.701Z"
   },
   {
    "duration": 52,
    "start_time": "2022-03-24T18:10:01.722Z"
   },
   {
    "duration": 54,
    "start_time": "2022-03-24T18:10:01.778Z"
   },
   {
    "duration": 70,
    "start_time": "2022-03-24T18:10:01.834Z"
   },
   {
    "duration": 353,
    "start_time": "2022-03-24T18:10:01.907Z"
   },
   {
    "duration": 88,
    "start_time": "2022-03-24T18:10:02.263Z"
   },
   {
    "duration": 500,
    "start_time": "2022-03-24T18:10:02.354Z"
   },
   {
    "duration": 519,
    "start_time": "2022-03-24T18:10:02.857Z"
   },
   {
    "duration": 174,
    "start_time": "2022-03-24T18:10:03.379Z"
   },
   {
    "duration": 110,
    "start_time": "2022-03-24T18:10:03.556Z"
   },
   {
    "duration": 36,
    "start_time": "2022-03-24T18:10:03.669Z"
   },
   {
    "duration": 3,
    "start_time": "2022-03-24T18:10:03.707Z"
   },
   {
    "duration": 37,
    "start_time": "2022-03-24T18:10:03.712Z"
   },
   {
    "duration": 484,
    "start_time": "2022-03-24T18:10:03.752Z"
   },
   {
    "duration": 193,
    "start_time": "2022-03-24T18:10:04.239Z"
   },
   {
    "duration": 4,
    "start_time": "2022-03-24T18:10:04.434Z"
   },
   {
    "duration": 27,
    "start_time": "2022-03-24T18:10:04.440Z"
   },
   {
    "duration": 39,
    "start_time": "2022-03-24T18:10:04.469Z"
   },
   {
    "duration": 36,
    "start_time": "2022-03-24T18:10:04.510Z"
   },
   {
    "duration": 39,
    "start_time": "2022-03-24T18:10:04.549Z"
   },
   {
    "duration": 37,
    "start_time": "2022-03-24T18:10:04.593Z"
   },
   {
    "duration": 31,
    "start_time": "2022-03-24T18:10:04.633Z"
   },
   {
    "duration": 5,
    "start_time": "2022-03-24T18:21:44.319Z"
   },
   {
    "duration": 74,
    "start_time": "2022-03-24T18:21:44.339Z"
   },
   {
    "duration": 13,
    "start_time": "2022-03-24T18:21:44.417Z"
   },
   {
    "duration": 51,
    "start_time": "2022-03-24T18:21:44.433Z"
   },
   {
    "duration": 34,
    "start_time": "2022-03-24T18:21:44.487Z"
   },
   {
    "duration": 18,
    "start_time": "2022-03-24T18:21:44.524Z"
   },
   {
    "duration": 384,
    "start_time": "2022-03-24T18:21:44.544Z"
   },
   {
    "duration": 24,
    "start_time": "2022-03-24T18:21:44.931Z"
   },
   {
    "duration": 29,
    "start_time": "2022-03-24T18:21:44.957Z"
   },
   {
    "duration": 44,
    "start_time": "2022-03-24T18:21:44.989Z"
   },
   {
    "duration": 46,
    "start_time": "2022-03-24T18:21:45.035Z"
   },
   {
    "duration": 5,
    "start_time": "2022-03-24T18:21:45.083Z"
   },
   {
    "duration": 395,
    "start_time": "2022-03-24T18:21:45.090Z"
   },
   {
    "duration": 66,
    "start_time": "2022-03-24T18:21:45.488Z"
   },
   {
    "duration": 415,
    "start_time": "2022-03-24T18:21:45.558Z"
   },
   {
    "duration": 525,
    "start_time": "2022-03-24T18:21:45.975Z"
   },
   {
    "duration": 85,
    "start_time": "2022-03-24T18:21:46.503Z"
   },
   {
    "duration": 166,
    "start_time": "2022-03-24T18:21:46.590Z"
   },
   {
    "duration": 43,
    "start_time": "2022-03-24T18:21:46.759Z"
   },
   {
    "duration": 8,
    "start_time": "2022-03-24T18:21:46.804Z"
   },
   {
    "duration": 74,
    "start_time": "2022-03-24T18:21:46.815Z"
   },
   {
    "duration": 560,
    "start_time": "2022-03-24T18:21:46.893Z"
   },
   {
    "duration": 217,
    "start_time": "2022-03-24T18:21:47.456Z"
   },
   {
    "duration": 26,
    "start_time": "2022-03-24T18:21:47.676Z"
   },
   {
    "duration": 42,
    "start_time": "2022-03-24T18:21:47.705Z"
   },
   {
    "duration": 52,
    "start_time": "2022-03-24T18:21:47.750Z"
   },
   {
    "duration": 24,
    "start_time": "2022-03-24T18:21:47.805Z"
   },
   {
    "duration": 52,
    "start_time": "2022-03-24T18:21:47.833Z"
   },
   {
    "duration": 16,
    "start_time": "2022-03-24T18:21:47.888Z"
   },
   {
    "duration": 358,
    "start_time": "2022-03-24T18:38:56.497Z"
   },
   {
    "duration": 2263,
    "start_time": "2022-03-24T18:39:13.819Z"
   },
   {
    "duration": 16,
    "start_time": "2022-03-24T18:39:27.994Z"
   },
   {
    "duration": 108,
    "start_time": "2022-03-24T18:40:54.791Z"
   },
   {
    "duration": 32,
    "start_time": "2022-03-24T18:41:12.563Z"
   },
   {
    "duration": 5,
    "start_time": "2022-03-24T18:42:14.750Z"
   },
   {
    "duration": 94,
    "start_time": "2022-03-24T18:42:14.758Z"
   },
   {
    "duration": 39,
    "start_time": "2022-03-24T18:42:14.856Z"
   },
   {
    "duration": 25,
    "start_time": "2022-03-24T18:42:14.897Z"
   },
   {
    "duration": 59,
    "start_time": "2022-03-24T18:42:14.925Z"
   },
   {
    "duration": 27,
    "start_time": "2022-03-24T18:42:14.987Z"
   },
   {
    "duration": 488,
    "start_time": "2022-03-24T18:42:15.017Z"
   },
   {
    "duration": 24,
    "start_time": "2022-03-24T18:42:15.508Z"
   },
   {
    "duration": 22,
    "start_time": "2022-03-24T18:42:15.534Z"
   },
   {
    "duration": 40,
    "start_time": "2022-03-24T18:42:15.559Z"
   },
   {
    "duration": 32,
    "start_time": "2022-03-24T18:42:15.602Z"
   },
   {
    "duration": 3,
    "start_time": "2022-03-24T18:42:15.636Z"
   },
   {
    "duration": 370,
    "start_time": "2022-03-24T18:42:15.642Z"
   },
   {
    "duration": 69,
    "start_time": "2022-03-24T18:42:16.015Z"
   },
   {
    "duration": 388,
    "start_time": "2022-03-24T18:42:16.086Z"
   },
   {
    "duration": 501,
    "start_time": "2022-03-24T18:42:16.476Z"
   },
   {
    "duration": 101,
    "start_time": "2022-03-24T18:42:16.983Z"
   },
   {
    "duration": 174,
    "start_time": "2022-03-24T18:42:17.086Z"
   },
   {
    "duration": 41,
    "start_time": "2022-03-24T18:42:17.263Z"
   },
   {
    "duration": 11,
    "start_time": "2022-03-24T18:42:17.307Z"
   },
   {
    "duration": 39,
    "start_time": "2022-03-24T18:42:17.320Z"
   },
   {
    "duration": 379,
    "start_time": "2022-03-24T18:42:17.362Z"
   },
   {
    "duration": 197,
    "start_time": "2022-03-24T18:42:17.744Z"
   },
   {
    "duration": 23,
    "start_time": "2022-03-24T18:42:17.943Z"
   },
   {
    "duration": 28,
    "start_time": "2022-03-24T18:42:17.969Z"
   },
   {
    "duration": 28,
    "start_time": "2022-03-24T18:42:18.000Z"
   },
   {
    "duration": 23,
    "start_time": "2022-03-24T18:42:18.031Z"
   },
   {
    "duration": 50,
    "start_time": "2022-03-24T18:42:18.056Z"
   },
   {
    "duration": 14,
    "start_time": "2022-03-24T18:42:18.110Z"
   },
   {
    "duration": 68,
    "start_time": "2022-03-24T18:42:18.127Z"
   },
   {
    "duration": 44,
    "start_time": "2022-03-24T18:45:35.572Z"
   },
   {
    "duration": 26,
    "start_time": "2022-03-24T18:47:50.778Z"
   },
   {
    "duration": 54,
    "start_time": "2022-03-24T18:48:12.980Z"
   },
   {
    "duration": 35,
    "start_time": "2022-03-24T19:51:50.358Z"
   },
   {
    "duration": 19,
    "start_time": "2022-03-24T19:52:21.489Z"
   },
   {
    "duration": 17,
    "start_time": "2022-03-24T19:52:24.117Z"
   },
   {
    "duration": 7,
    "start_time": "2022-03-24T19:52:29.131Z"
   },
   {
    "duration": 119,
    "start_time": "2022-03-24T19:52:29.141Z"
   },
   {
    "duration": 21,
    "start_time": "2022-03-24T19:52:29.263Z"
   },
   {
    "duration": 26,
    "start_time": "2022-03-24T19:52:29.288Z"
   },
   {
    "duration": 47,
    "start_time": "2022-03-24T19:52:29.317Z"
   },
   {
    "duration": 41,
    "start_time": "2022-03-24T19:52:29.366Z"
   },
   {
    "duration": 395,
    "start_time": "2022-03-24T19:52:29.410Z"
   },
   {
    "duration": 20,
    "start_time": "2022-03-24T19:52:29.808Z"
   },
   {
    "duration": 16,
    "start_time": "2022-03-24T19:52:29.832Z"
   },
   {
    "duration": 53,
    "start_time": "2022-03-24T19:52:29.850Z"
   },
   {
    "duration": 49,
    "start_time": "2022-03-24T19:52:29.908Z"
   },
   {
    "duration": 24,
    "start_time": "2022-03-24T19:52:29.961Z"
   },
   {
    "duration": 536,
    "start_time": "2022-03-24T19:52:29.991Z"
   },
   {
    "duration": 93,
    "start_time": "2022-03-24T19:52:30.530Z"
   },
   {
    "duration": 404,
    "start_time": "2022-03-24T19:52:30.625Z"
   },
   {
    "duration": 729,
    "start_time": "2022-03-24T19:52:31.032Z"
   },
   {
    "duration": 85,
    "start_time": "2022-03-24T19:52:31.763Z"
   },
   {
    "duration": 209,
    "start_time": "2022-03-24T19:52:31.851Z"
   },
   {
    "duration": 51,
    "start_time": "2022-03-24T19:52:32.062Z"
   },
   {
    "duration": 4,
    "start_time": "2022-03-24T19:52:32.115Z"
   },
   {
    "duration": 39,
    "start_time": "2022-03-24T19:52:32.121Z"
   },
   {
    "duration": 393,
    "start_time": "2022-03-24T19:52:32.185Z"
   },
   {
    "duration": 266,
    "start_time": "2022-03-24T19:52:32.581Z"
   },
   {
    "duration": 25,
    "start_time": "2022-03-24T19:52:32.852Z"
   },
   {
    "duration": 47,
    "start_time": "2022-03-24T19:52:32.881Z"
   },
   {
    "duration": 55,
    "start_time": "2022-03-24T19:52:32.932Z"
   },
   {
    "duration": 21,
    "start_time": "2022-03-24T19:52:32.990Z"
   },
   {
    "duration": 24,
    "start_time": "2022-03-24T19:52:33.013Z"
   },
   {
    "duration": 52,
    "start_time": "2022-03-24T19:52:33.040Z"
   },
   {
    "duration": 29,
    "start_time": "2022-03-24T19:52:33.094Z"
   },
   {
    "duration": 24,
    "start_time": "2022-03-24T19:53:12.120Z"
   },
   {
    "duration": 156,
    "start_time": "2022-03-24T19:53:44.193Z"
   },
   {
    "duration": 14,
    "start_time": "2022-03-24T19:53:54.164Z"
   },
   {
    "duration": 31,
    "start_time": "2022-03-24T19:56:03.448Z"
   },
   {
    "duration": 39,
    "start_time": "2022-03-24T19:57:10.767Z"
   },
   {
    "duration": 26,
    "start_time": "2022-03-24T19:57:44.444Z"
   },
   {
    "duration": 5,
    "start_time": "2022-03-24T19:58:02.474Z"
   },
   {
    "duration": 84,
    "start_time": "2022-03-24T19:58:02.482Z"
   },
   {
    "duration": 13,
    "start_time": "2022-03-24T19:58:02.569Z"
   },
   {
    "duration": 24,
    "start_time": "2022-03-24T19:58:02.591Z"
   },
   {
    "duration": 27,
    "start_time": "2022-03-24T19:58:02.618Z"
   },
   {
    "duration": 52,
    "start_time": "2022-03-24T19:58:02.647Z"
   },
   {
    "duration": 354,
    "start_time": "2022-03-24T19:58:02.701Z"
   },
   {
    "duration": 42,
    "start_time": "2022-03-24T19:58:03.058Z"
   },
   {
    "duration": 16,
    "start_time": "2022-03-24T19:58:03.102Z"
   },
   {
    "duration": 24,
    "start_time": "2022-03-24T19:58:03.120Z"
   },
   {
    "duration": 60,
    "start_time": "2022-03-24T19:58:03.146Z"
   },
   {
    "duration": 3,
    "start_time": "2022-03-24T19:58:03.208Z"
   },
   {
    "duration": 476,
    "start_time": "2022-03-24T19:58:03.213Z"
   },
   {
    "duration": 52,
    "start_time": "2022-03-24T19:58:03.694Z"
   },
   {
    "duration": 511,
    "start_time": "2022-03-24T19:58:03.748Z"
   },
   {
    "duration": 540,
    "start_time": "2022-03-24T19:58:04.262Z"
   },
   {
    "duration": 62,
    "start_time": "2022-03-24T19:58:04.805Z"
   },
   {
    "duration": 97,
    "start_time": "2022-03-24T19:58:04.870Z"
   },
   {
    "duration": 42,
    "start_time": "2022-03-24T19:58:04.969Z"
   },
   {
    "duration": 3,
    "start_time": "2022-03-24T19:58:05.013Z"
   },
   {
    "duration": 35,
    "start_time": "2022-03-24T19:58:05.018Z"
   },
   {
    "duration": 477,
    "start_time": "2022-03-24T19:58:05.056Z"
   },
   {
    "duration": 193,
    "start_time": "2022-03-24T19:58:05.536Z"
   },
   {
    "duration": 23,
    "start_time": "2022-03-24T19:58:05.731Z"
   },
   {
    "duration": 33,
    "start_time": "2022-03-24T19:58:05.756Z"
   },
   {
    "duration": 40,
    "start_time": "2022-03-24T19:58:05.791Z"
   },
   {
    "duration": 24,
    "start_time": "2022-03-24T19:58:05.833Z"
   },
   {
    "duration": 27,
    "start_time": "2022-03-24T19:58:05.885Z"
   },
   {
    "duration": 15,
    "start_time": "2022-03-24T19:58:05.914Z"
   },
   {
    "duration": 70,
    "start_time": "2022-03-24T19:58:05.932Z"
   },
   {
    "duration": 63,
    "start_time": "2022-03-24T19:58:17.292Z"
   },
   {
    "duration": 139,
    "start_time": "2022-03-24T19:59:05.581Z"
   },
   {
    "duration": 60,
    "start_time": "2022-03-24T19:59:32.920Z"
   },
   {
    "duration": 361,
    "start_time": "2022-03-24T20:03:19.062Z"
   },
   {
    "duration": 383,
    "start_time": "2022-03-24T20:04:02.006Z"
   },
   {
    "duration": 362,
    "start_time": "2022-03-24T20:06:53.579Z"
   },
   {
    "duration": 498,
    "start_time": "2022-03-24T20:07:14.195Z"
   },
   {
    "duration": 365,
    "start_time": "2022-03-24T20:08:16.392Z"
   },
   {
    "duration": 518,
    "start_time": "2022-03-24T20:09:04.467Z"
   },
   {
    "duration": 490,
    "start_time": "2022-03-24T20:10:18.770Z"
   },
   {
    "duration": 40,
    "start_time": "2022-03-24T20:12:55.616Z"
   },
   {
    "duration": 38,
    "start_time": "2022-03-24T20:13:12.022Z"
   },
   {
    "duration": 384,
    "start_time": "2022-03-24T20:13:12.382Z"
   },
   {
    "duration": 373,
    "start_time": "2022-03-24T20:13:29.047Z"
   },
   {
    "duration": 351,
    "start_time": "2022-03-24T20:13:39.743Z"
   },
   {
    "duration": 445,
    "start_time": "2022-03-24T20:13:49.200Z"
   },
   {
    "duration": 603,
    "start_time": "2022-03-24T20:14:10.048Z"
   },
   {
    "duration": 386,
    "start_time": "2022-03-24T20:14:35.045Z"
   },
   {
    "duration": 423,
    "start_time": "2022-03-24T20:14:45.857Z"
   },
   {
    "duration": 532,
    "start_time": "2022-03-24T20:15:12.413Z"
   },
   {
    "duration": 5,
    "start_time": "2022-03-24T20:15:29.605Z"
   },
   {
    "duration": 96,
    "start_time": "2022-03-24T20:15:29.613Z"
   },
   {
    "duration": 14,
    "start_time": "2022-03-24T20:15:29.712Z"
   },
   {
    "duration": 26,
    "start_time": "2022-03-24T20:15:29.728Z"
   },
   {
    "duration": 55,
    "start_time": "2022-03-24T20:15:29.756Z"
   },
   {
    "duration": 19,
    "start_time": "2022-03-24T20:15:29.813Z"
   },
   {
    "duration": 381,
    "start_time": "2022-03-24T20:15:29.834Z"
   },
   {
    "duration": 17,
    "start_time": "2022-03-24T20:15:30.217Z"
   },
   {
    "duration": 18,
    "start_time": "2022-03-24T20:15:30.237Z"
   },
   {
    "duration": 53,
    "start_time": "2022-03-24T20:15:30.258Z"
   },
   {
    "duration": 39,
    "start_time": "2022-03-24T20:15:30.314Z"
   },
   {
    "duration": 4,
    "start_time": "2022-03-24T20:15:30.355Z"
   },
   {
    "duration": 382,
    "start_time": "2022-03-24T20:15:30.361Z"
   },
   {
    "duration": 68,
    "start_time": "2022-03-24T20:15:30.745Z"
   },
   {
    "duration": 420,
    "start_time": "2022-03-24T20:15:30.815Z"
   },
   {
    "duration": 574,
    "start_time": "2022-03-24T20:15:31.238Z"
   },
   {
    "duration": 82,
    "start_time": "2022-03-24T20:15:31.814Z"
   },
   {
    "duration": 204,
    "start_time": "2022-03-24T20:15:31.899Z"
   },
   {
    "duration": 23,
    "start_time": "2022-03-24T20:15:32.105Z"
   },
   {
    "duration": 7,
    "start_time": "2022-03-24T20:15:32.130Z"
   },
   {
    "duration": 67,
    "start_time": "2022-03-24T20:15:32.139Z"
   },
   {
    "duration": 394,
    "start_time": "2022-03-24T20:15:32.209Z"
   },
   {
    "duration": 197,
    "start_time": "2022-03-24T20:15:32.605Z"
   },
   {
    "duration": 22,
    "start_time": "2022-03-24T20:15:32.807Z"
   },
   {
    "duration": 31,
    "start_time": "2022-03-24T20:15:32.831Z"
   },
   {
    "duration": 32,
    "start_time": "2022-03-24T20:15:32.885Z"
   },
   {
    "duration": 23,
    "start_time": "2022-03-24T20:15:32.920Z"
   },
   {
    "duration": 62,
    "start_time": "2022-03-24T20:15:32.945Z"
   },
   {
    "duration": 16,
    "start_time": "2022-03-24T20:15:33.009Z"
   },
   {
    "duration": 68,
    "start_time": "2022-03-24T20:15:33.027Z"
   },
   {
    "duration": 537,
    "start_time": "2022-03-24T20:15:33.098Z"
   },
   {
    "duration": 484,
    "start_time": "2022-03-24T20:16:15.807Z"
   },
   {
    "duration": 521,
    "start_time": "2022-03-24T20:16:41.817Z"
   },
   {
    "duration": 501,
    "start_time": "2022-03-24T20:16:57.030Z"
   },
   {
    "duration": 663,
    "start_time": "2022-03-24T20:17:22.589Z"
   },
   {
    "duration": 461,
    "start_time": "2022-03-24T20:17:58.369Z"
   },
   {
    "duration": 289,
    "start_time": "2022-03-24T20:18:54.836Z"
   },
   {
    "duration": 18,
    "start_time": "2022-03-24T20:19:19.192Z"
   },
   {
    "duration": 587,
    "start_time": "2022-03-24T20:19:32.064Z"
   },
   {
    "duration": 473,
    "start_time": "2022-03-24T20:19:48.569Z"
   },
   {
    "duration": 502,
    "start_time": "2022-03-24T20:20:08.214Z"
   },
   {
    "duration": 21,
    "start_time": "2022-03-24T20:21:53.534Z"
   },
   {
    "duration": 488,
    "start_time": "2022-03-24T20:22:32.601Z"
   },
   {
    "duration": 5,
    "start_time": "2022-03-24T20:22:40.971Z"
   },
   {
    "duration": 62,
    "start_time": "2022-03-24T20:22:40.981Z"
   },
   {
    "duration": 14,
    "start_time": "2022-03-24T20:22:41.045Z"
   },
   {
    "duration": 39,
    "start_time": "2022-03-24T20:22:41.062Z"
   },
   {
    "duration": 28,
    "start_time": "2022-03-24T20:22:41.104Z"
   },
   {
    "duration": 53,
    "start_time": "2022-03-24T20:22:41.135Z"
   },
   {
    "duration": 338,
    "start_time": "2022-03-24T20:22:41.190Z"
   },
   {
    "duration": 24,
    "start_time": "2022-03-24T20:22:41.531Z"
   },
   {
    "duration": 30,
    "start_time": "2022-03-24T20:22:41.561Z"
   },
   {
    "duration": 31,
    "start_time": "2022-03-24T20:22:41.594Z"
   },
   {
    "duration": 57,
    "start_time": "2022-03-24T20:22:41.628Z"
   },
   {
    "duration": 3,
    "start_time": "2022-03-24T20:22:41.688Z"
   },
   {
    "duration": 356,
    "start_time": "2022-03-24T20:22:41.693Z"
   },
   {
    "duration": 62,
    "start_time": "2022-03-24T20:22:42.052Z"
   },
   {
    "duration": 395,
    "start_time": "2022-03-24T20:22:42.116Z"
   },
   {
    "duration": 512,
    "start_time": "2022-03-24T20:22:42.513Z"
   },
   {
    "duration": 186,
    "start_time": "2022-03-24T20:22:43.028Z"
   },
   {
    "duration": 102,
    "start_time": "2022-03-24T20:22:43.216Z"
   },
   {
    "duration": 25,
    "start_time": "2022-03-24T20:22:43.321Z"
   },
   {
    "duration": 9,
    "start_time": "2022-03-24T20:22:43.349Z"
   },
   {
    "duration": 33,
    "start_time": "2022-03-24T20:22:43.385Z"
   },
   {
    "duration": 378,
    "start_time": "2022-03-24T20:22:43.420Z"
   },
   {
    "duration": 197,
    "start_time": "2022-03-24T20:22:43.801Z"
   },
   {
    "duration": 34,
    "start_time": "2022-03-24T20:22:44.004Z"
   },
   {
    "duration": 45,
    "start_time": "2022-03-24T20:22:44.040Z"
   },
   {
    "duration": 28,
    "start_time": "2022-03-24T20:22:44.088Z"
   },
   {
    "duration": 21,
    "start_time": "2022-03-24T20:22:44.119Z"
   },
   {
    "duration": 63,
    "start_time": "2022-03-24T20:22:44.143Z"
   },
   {
    "duration": 15,
    "start_time": "2022-03-24T20:22:44.208Z"
   },
   {
    "duration": 73,
    "start_time": "2022-03-24T20:22:44.225Z"
   },
   {
    "duration": 491,
    "start_time": "2022-03-24T20:22:44.301Z"
   },
   {
    "duration": 443,
    "start_time": "2022-03-24T20:23:32.450Z"
   },
   {
    "duration": 427,
    "start_time": "2022-03-24T20:23:37.985Z"
   },
   {
    "duration": 549,
    "start_time": "2022-03-24T20:23:50.797Z"
   },
   {
    "duration": 49,
    "start_time": "2022-03-24T20:24:05.842Z"
   },
   {
    "duration": 461,
    "start_time": "2022-03-24T20:24:10.497Z"
   },
   {
    "duration": 6,
    "start_time": "2022-03-24T20:24:18.488Z"
   },
   {
    "duration": 94,
    "start_time": "2022-03-24T20:24:18.497Z"
   },
   {
    "duration": 19,
    "start_time": "2022-03-24T20:24:18.593Z"
   },
   {
    "duration": 23,
    "start_time": "2022-03-24T20:24:18.615Z"
   },
   {
    "duration": 76,
    "start_time": "2022-03-24T20:24:18.642Z"
   },
   {
    "duration": 26,
    "start_time": "2022-03-24T20:24:18.722Z"
   },
   {
    "duration": 548,
    "start_time": "2022-03-24T20:24:18.753Z"
   },
   {
    "duration": 19,
    "start_time": "2022-03-24T20:24:19.304Z"
   },
   {
    "duration": 13,
    "start_time": "2022-03-24T20:24:19.326Z"
   },
   {
    "duration": 51,
    "start_time": "2022-03-24T20:24:19.341Z"
   },
   {
    "duration": 34,
    "start_time": "2022-03-24T20:24:19.394Z"
   },
   {
    "duration": 3,
    "start_time": "2022-03-24T20:24:19.430Z"
   },
   {
    "duration": 363,
    "start_time": "2022-03-24T20:24:19.437Z"
   },
   {
    "duration": 50,
    "start_time": "2022-03-24T20:24:19.802Z"
   },
   {
    "duration": 524,
    "start_time": "2022-03-24T20:24:19.855Z"
   },
   {
    "duration": 525,
    "start_time": "2022-03-24T20:24:20.382Z"
   },
   {
    "duration": 85,
    "start_time": "2022-03-24T20:24:20.910Z"
   },
   {
    "duration": 97,
    "start_time": "2022-03-24T20:24:20.998Z"
   },
   {
    "duration": 25,
    "start_time": "2022-03-24T20:24:21.097Z"
   },
   {
    "duration": 17,
    "start_time": "2022-03-24T20:24:21.126Z"
   },
   {
    "duration": 55,
    "start_time": "2022-03-24T20:24:21.146Z"
   },
   {
    "duration": 376,
    "start_time": "2022-03-24T20:24:21.203Z"
   },
   {
    "duration": 190,
    "start_time": "2022-03-24T20:24:21.584Z"
   },
   {
    "duration": 24,
    "start_time": "2022-03-24T20:24:21.776Z"
   },
   {
    "duration": 40,
    "start_time": "2022-03-24T20:24:21.802Z"
   },
   {
    "duration": 48,
    "start_time": "2022-03-24T20:24:21.845Z"
   },
   {
    "duration": 18,
    "start_time": "2022-03-24T20:24:21.895Z"
   },
   {
    "duration": 45,
    "start_time": "2022-03-24T20:24:21.917Z"
   },
   {
    "duration": 34,
    "start_time": "2022-03-24T20:24:21.964Z"
   },
   {
    "duration": 92,
    "start_time": "2022-03-24T20:24:22.001Z"
   },
   {
    "duration": 477,
    "start_time": "2022-03-24T20:24:22.099Z"
   },
   {
    "duration": 473,
    "start_time": "2022-03-24T20:24:44.565Z"
   },
   {
    "duration": 447,
    "start_time": "2022-03-24T20:24:53.396Z"
   },
   {
    "duration": 547,
    "start_time": "2022-03-24T20:25:00.322Z"
   },
   {
    "duration": 430,
    "start_time": "2022-03-24T20:25:29.157Z"
   },
   {
    "duration": 455,
    "start_time": "2022-03-24T20:25:44.305Z"
   },
   {
    "duration": 246,
    "start_time": "2022-03-24T20:27:22.835Z"
   },
   {
    "duration": 295,
    "start_time": "2022-03-24T20:29:02.518Z"
   },
   {
    "duration": 827,
    "start_time": "2022-03-24T20:29:16.957Z"
   },
   {
    "duration": 771,
    "start_time": "2022-03-24T20:29:28.634Z"
   },
   {
    "duration": 6,
    "start_time": "2022-03-24T20:30:27.592Z"
   },
   {
    "duration": 834,
    "start_time": "2022-03-24T20:31:04.300Z"
   },
   {
    "duration": 31,
    "start_time": "2022-03-24T20:31:37.336Z"
   },
   {
    "duration": 422,
    "start_time": "2022-03-24T20:31:48.883Z"
   },
   {
    "duration": 276,
    "start_time": "2022-03-24T20:32:06.586Z"
   },
   {
    "duration": 276,
    "start_time": "2022-03-24T20:32:29.785Z"
   },
   {
    "duration": 272,
    "start_time": "2022-03-24T20:32:43.269Z"
   },
   {
    "duration": 763,
    "start_time": "2022-03-24T20:32:53.538Z"
   },
   {
    "duration": 435,
    "start_time": "2022-03-24T20:33:07.752Z"
   },
   {
    "duration": 402,
    "start_time": "2022-03-24T20:34:10.460Z"
   },
   {
    "duration": 401,
    "start_time": "2022-03-24T20:34:20.094Z"
   },
   {
    "duration": 559,
    "start_time": "2022-03-24T20:34:52.878Z"
   },
   {
    "duration": 498,
    "start_time": "2022-03-24T20:35:04.089Z"
   },
   {
    "duration": 612,
    "start_time": "2022-03-24T20:35:14.546Z"
   },
   {
    "duration": 407,
    "start_time": "2022-03-24T20:35:24.372Z"
   },
   {
    "duration": 413,
    "start_time": "2022-03-24T20:35:35.164Z"
   },
   {
    "duration": 39,
    "start_time": "2022-03-24T20:38:42.543Z"
   },
   {
    "duration": 5,
    "start_time": "2022-03-24T20:38:46.631Z"
   },
   {
    "duration": 82,
    "start_time": "2022-03-24T20:38:46.640Z"
   },
   {
    "duration": 16,
    "start_time": "2022-03-24T20:38:46.724Z"
   },
   {
    "duration": 50,
    "start_time": "2022-03-24T20:38:46.742Z"
   },
   {
    "duration": 33,
    "start_time": "2022-03-24T20:38:46.794Z"
   },
   {
    "duration": 19,
    "start_time": "2022-03-24T20:38:46.830Z"
   },
   {
    "duration": 374,
    "start_time": "2022-03-24T20:38:46.851Z"
   },
   {
    "duration": 19,
    "start_time": "2022-03-24T20:38:47.227Z"
   },
   {
    "duration": 36,
    "start_time": "2022-03-24T20:38:47.250Z"
   },
   {
    "duration": 28,
    "start_time": "2022-03-24T20:38:47.288Z"
   },
   {
    "duration": 33,
    "start_time": "2022-03-24T20:38:47.319Z"
   },
   {
    "duration": 30,
    "start_time": "2022-03-24T20:38:47.355Z"
   },
   {
    "duration": 362,
    "start_time": "2022-03-24T20:38:47.388Z"
   },
   {
    "duration": 68,
    "start_time": "2022-03-24T20:38:47.752Z"
   },
   {
    "duration": 397,
    "start_time": "2022-03-24T20:38:47.823Z"
   },
   {
    "duration": 533,
    "start_time": "2022-03-24T20:38:48.222Z"
   },
   {
    "duration": 208,
    "start_time": "2022-03-24T20:38:48.757Z"
   },
   {
    "duration": 87,
    "start_time": "2022-03-24T20:38:48.968Z"
   },
   {
    "duration": 36,
    "start_time": "2022-03-24T20:38:49.058Z"
   },
   {
    "duration": 4,
    "start_time": "2022-03-24T20:38:49.096Z"
   },
   {
    "duration": 34,
    "start_time": "2022-03-24T20:38:49.102Z"
   },
   {
    "duration": 392,
    "start_time": "2022-03-24T20:38:49.138Z"
   },
   {
    "duration": 201,
    "start_time": "2022-03-24T20:38:49.533Z"
   },
   {
    "duration": 23,
    "start_time": "2022-03-24T20:38:49.739Z"
   },
   {
    "duration": 28,
    "start_time": "2022-03-24T20:38:49.764Z"
   },
   {
    "duration": 26,
    "start_time": "2022-03-24T20:38:49.794Z"
   },
   {
    "duration": 16,
    "start_time": "2022-03-24T20:38:49.822Z"
   },
   {
    "duration": 61,
    "start_time": "2022-03-24T20:38:49.840Z"
   },
   {
    "duration": 14,
    "start_time": "2022-03-24T20:38:49.903Z"
   },
   {
    "duration": 47,
    "start_time": "2022-03-24T20:38:49.919Z"
   },
   {
    "duration": 435,
    "start_time": "2022-03-24T20:38:49.985Z"
   },
   {
    "duration": 479,
    "start_time": "2022-03-24T20:40:32.763Z"
   },
   {
    "duration": 481,
    "start_time": "2022-03-24T20:41:00.727Z"
   },
   {
    "duration": 274,
    "start_time": "2022-03-24T20:43:01.238Z"
   },
   {
    "duration": 270,
    "start_time": "2022-03-24T20:43:48.138Z"
   },
   {
    "duration": 358,
    "start_time": "2022-03-24T20:44:07.162Z"
   },
   {
    "duration": 265,
    "start_time": "2022-03-24T20:44:33.984Z"
   },
   {
    "duration": 4680,
    "start_time": "2022-03-24T20:45:58.868Z"
   },
   {
    "duration": 490,
    "start_time": "2022-03-24T20:46:20.847Z"
   },
   {
    "duration": 5,
    "start_time": "2022-03-24T20:46:34.648Z"
   },
   {
    "duration": 76,
    "start_time": "2022-03-24T20:46:34.656Z"
   },
   {
    "duration": 15,
    "start_time": "2022-03-24T20:46:34.734Z"
   },
   {
    "duration": 20,
    "start_time": "2022-03-24T20:46:34.784Z"
   },
   {
    "duration": 32,
    "start_time": "2022-03-24T20:46:34.807Z"
   },
   {
    "duration": 44,
    "start_time": "2022-03-24T20:46:34.841Z"
   },
   {
    "duration": 527,
    "start_time": "2022-03-24T20:46:34.888Z"
   },
   {
    "duration": 27,
    "start_time": "2022-03-24T20:46:35.417Z"
   },
   {
    "duration": 10,
    "start_time": "2022-03-24T20:46:35.448Z"
   },
   {
    "duration": 21,
    "start_time": "2022-03-24T20:46:35.483Z"
   },
   {
    "duration": 34,
    "start_time": "2022-03-24T20:46:35.506Z"
   },
   {
    "duration": 3,
    "start_time": "2022-03-24T20:46:35.542Z"
   },
   {
    "duration": 470,
    "start_time": "2022-03-24T20:46:35.548Z"
   },
   {
    "duration": 68,
    "start_time": "2022-03-24T20:46:36.021Z"
   },
   {
    "duration": 408,
    "start_time": "2022-03-24T20:46:36.092Z"
   },
   {
    "duration": 612,
    "start_time": "2022-03-24T20:46:36.504Z"
   },
   {
    "duration": 256,
    "start_time": "2022-03-24T20:46:37.119Z"
   },
   {
    "duration": 84,
    "start_time": "2022-03-24T20:46:37.384Z"
   },
   {
    "duration": 24,
    "start_time": "2022-03-24T20:46:37.483Z"
   },
   {
    "duration": 6,
    "start_time": "2022-03-24T20:46:37.509Z"
   },
   {
    "duration": 35,
    "start_time": "2022-03-24T20:46:37.517Z"
   },
   {
    "duration": 357,
    "start_time": "2022-03-24T20:46:37.584Z"
   },
   {
    "duration": 220,
    "start_time": "2022-03-24T20:46:37.943Z"
   },
   {
    "duration": 24,
    "start_time": "2022-03-24T20:46:38.168Z"
   },
   {
    "duration": 26,
    "start_time": "2022-03-24T20:46:38.195Z"
   },
   {
    "duration": 30,
    "start_time": "2022-03-24T20:46:38.223Z"
   },
   {
    "duration": 18,
    "start_time": "2022-03-24T20:46:38.284Z"
   },
   {
    "duration": 24,
    "start_time": "2022-03-24T20:46:38.304Z"
   },
   {
    "duration": 15,
    "start_time": "2022-03-24T20:46:38.330Z"
   },
   {
    "duration": 80,
    "start_time": "2022-03-24T20:46:38.347Z"
   },
   {
    "duration": 436,
    "start_time": "2022-03-24T20:46:38.429Z"
   },
   {
    "duration": 492,
    "start_time": "2022-03-24T20:46:38.867Z"
   },
   {
    "duration": 492,
    "start_time": "2022-03-24T20:47:02.603Z"
   },
   {
    "duration": 154,
    "start_time": "2022-03-24T20:49:11.702Z"
   },
   {
    "duration": 47,
    "start_time": "2022-03-25T08:37:30.955Z"
   },
   {
    "duration": 1372,
    "start_time": "2022-03-25T08:37:32.591Z"
   },
   {
    "duration": 57,
    "start_time": "2022-03-25T08:37:33.965Z"
   },
   {
    "duration": 12,
    "start_time": "2022-03-25T08:37:34.024Z"
   },
   {
    "duration": 15,
    "start_time": "2022-03-25T08:37:34.038Z"
   },
   {
    "duration": 18,
    "start_time": "2022-03-25T08:37:34.055Z"
   },
   {
    "duration": 35,
    "start_time": "2022-03-25T08:37:34.075Z"
   },
   {
    "duration": 217,
    "start_time": "2022-03-25T08:37:34.112Z"
   },
   {
    "duration": 13,
    "start_time": "2022-03-25T08:37:34.330Z"
   },
   {
    "duration": 7,
    "start_time": "2022-03-25T08:37:34.345Z"
   },
   {
    "duration": 202,
    "start_time": "2022-03-25T08:37:34.354Z"
   },
   {
    "duration": 22,
    "start_time": "2022-03-25T08:37:34.558Z"
   },
   {
    "duration": 3,
    "start_time": "2022-03-25T08:37:34.582Z"
   },
   {
    "duration": 267,
    "start_time": "2022-03-25T08:37:34.586Z"
   },
   {
    "duration": 34,
    "start_time": "2022-03-25T08:37:34.855Z"
   },
   {
    "duration": 230,
    "start_time": "2022-03-25T08:37:34.890Z"
   },
   {
    "duration": 283,
    "start_time": "2022-03-25T08:37:35.122Z"
   },
   {
    "duration": 108,
    "start_time": "2022-03-25T08:37:35.408Z"
   },
   {
    "duration": 46,
    "start_time": "2022-03-25T08:37:35.518Z"
   },
   {
    "duration": 16,
    "start_time": "2022-03-25T08:37:35.565Z"
   },
   {
    "duration": 12,
    "start_time": "2022-03-25T08:37:35.582Z"
   },
   {
    "duration": 33,
    "start_time": "2022-03-25T08:37:35.595Z"
   },
   {
    "duration": 224,
    "start_time": "2022-03-25T08:37:35.630Z"
   },
   {
    "duration": 205,
    "start_time": "2022-03-25T08:37:35.856Z"
   },
   {
    "duration": 13,
    "start_time": "2022-03-25T08:37:36.064Z"
   },
   {
    "duration": 16,
    "start_time": "2022-03-25T08:37:36.078Z"
   },
   {
    "duration": 19,
    "start_time": "2022-03-25T08:37:36.096Z"
   },
   {
    "duration": 10,
    "start_time": "2022-03-25T08:37:36.117Z"
   },
   {
    "duration": 15,
    "start_time": "2022-03-25T08:37:36.130Z"
   },
   {
    "duration": 8,
    "start_time": "2022-03-25T08:37:36.147Z"
   },
   {
    "duration": 53,
    "start_time": "2022-03-25T08:37:36.156Z"
   },
   {
    "duration": 239,
    "start_time": "2022-03-25T08:37:36.211Z"
   },
   {
    "duration": 287,
    "start_time": "2022-03-25T08:37:36.452Z"
   },
   {
    "duration": 138,
    "start_time": "2022-03-25T08:37:36.740Z"
   },
   {
    "duration": 3,
    "start_time": "2022-03-25T08:42:01.635Z"
   },
   {
    "duration": 3,
    "start_time": "2022-03-25T08:42:03.068Z"
   },
   {
    "duration": 59,
    "start_time": "2022-03-25T08:42:03.075Z"
   },
   {
    "duration": 8,
    "start_time": "2022-03-25T08:42:03.136Z"
   },
   {
    "duration": 15,
    "start_time": "2022-03-25T08:42:03.145Z"
   },
   {
    "duration": 20,
    "start_time": "2022-03-25T08:42:03.162Z"
   },
   {
    "duration": 33,
    "start_time": "2022-03-25T08:42:03.183Z"
   },
   {
    "duration": 216,
    "start_time": "2022-03-25T08:42:03.217Z"
   },
   {
    "duration": 11,
    "start_time": "2022-03-25T08:42:03.434Z"
   },
   {
    "duration": 8,
    "start_time": "2022-03-25T08:42:03.447Z"
   },
   {
    "duration": 12,
    "start_time": "2022-03-25T08:42:03.457Z"
   },
   {
    "duration": 52,
    "start_time": "2022-03-25T08:42:03.470Z"
   },
   {
    "duration": 2,
    "start_time": "2022-03-25T08:42:03.523Z"
   },
   {
    "duration": 218,
    "start_time": "2022-03-25T08:42:03.527Z"
   },
   {
    "duration": 36,
    "start_time": "2022-03-25T08:42:03.746Z"
   },
   {
    "duration": 310,
    "start_time": "2022-03-25T08:42:03.783Z"
   },
   {
    "duration": 308,
    "start_time": "2022-03-25T08:42:04.094Z"
   },
   {
    "duration": 41,
    "start_time": "2022-03-25T08:42:04.404Z"
   },
   {
    "duration": 67,
    "start_time": "2022-03-25T08:42:04.447Z"
   },
   {
    "duration": 17,
    "start_time": "2022-03-25T08:42:04.517Z"
   },
   {
    "duration": 3,
    "start_time": "2022-03-25T08:42:04.535Z"
   },
   {
    "duration": 22,
    "start_time": "2022-03-25T08:42:04.541Z"
   },
   {
    "duration": 260,
    "start_time": "2022-03-25T08:42:04.565Z"
   },
   {
    "duration": 188,
    "start_time": "2022-03-25T08:42:04.827Z"
   },
   {
    "duration": 14,
    "start_time": "2022-03-25T08:42:05.019Z"
   },
   {
    "duration": 22,
    "start_time": "2022-03-25T08:42:05.035Z"
   },
   {
    "duration": 18,
    "start_time": "2022-03-25T08:42:05.058Z"
   },
   {
    "duration": 10,
    "start_time": "2022-03-25T08:42:05.078Z"
   },
   {
    "duration": 17,
    "start_time": "2022-03-25T08:42:05.109Z"
   },
   {
    "duration": 9,
    "start_time": "2022-03-25T08:42:05.127Z"
   },
   {
    "duration": 33,
    "start_time": "2022-03-25T08:42:05.138Z"
   },
   {
    "duration": 269,
    "start_time": "2022-03-25T08:42:05.172Z"
   },
   {
    "duration": 2,
    "start_time": "2022-03-25T08:42:05.442Z"
   },
   {
    "duration": 142,
    "start_time": "2022-03-25T08:42:05.446Z"
   },
   {
    "duration": 380,
    "start_time": "2022-03-25T09:00:20.500Z"
   },
   {
    "duration": 65,
    "start_time": "2022-03-25T09:04:13.756Z"
   },
   {
    "duration": 26,
    "start_time": "2022-03-25T09:05:07.438Z"
   },
   {
    "duration": 285,
    "start_time": "2022-03-25T09:06:43.494Z"
   },
   {
    "duration": 144,
    "start_time": "2022-03-25T10:57:21.917Z"
   },
   {
    "duration": 75,
    "start_time": "2022-03-25T10:58:04.674Z"
   },
   {
    "duration": 298,
    "start_time": "2022-03-25T10:58:13.457Z"
   },
   {
    "duration": 3,
    "start_time": "2022-03-25T10:58:28.091Z"
   },
   {
    "duration": 171,
    "start_time": "2022-03-25T10:58:28.098Z"
   },
   {
    "duration": 9,
    "start_time": "2022-03-25T10:58:28.271Z"
   },
   {
    "duration": 15,
    "start_time": "2022-03-25T10:58:28.282Z"
   },
   {
    "duration": 19,
    "start_time": "2022-03-25T10:58:28.309Z"
   },
   {
    "duration": 13,
    "start_time": "2022-03-25T10:58:28.329Z"
   },
   {
    "duration": 217,
    "start_time": "2022-03-25T10:58:28.343Z"
   },
   {
    "duration": 12,
    "start_time": "2022-03-25T10:58:28.562Z"
   },
   {
    "duration": 10,
    "start_time": "2022-03-25T10:58:28.576Z"
   },
   {
    "duration": 32,
    "start_time": "2022-03-25T10:58:28.588Z"
   },
   {
    "duration": 22,
    "start_time": "2022-03-25T10:58:28.623Z"
   },
   {
    "duration": 2,
    "start_time": "2022-03-25T10:58:28.647Z"
   },
   {
    "duration": 222,
    "start_time": "2022-03-25T10:58:28.651Z"
   },
   {
    "duration": 42,
    "start_time": "2022-03-25T10:58:28.875Z"
   },
   {
    "duration": 222,
    "start_time": "2022-03-25T10:58:28.919Z"
   },
   {
    "duration": 288,
    "start_time": "2022-03-25T10:58:29.142Z"
   },
   {
    "duration": 123,
    "start_time": "2022-03-25T10:58:29.432Z"
   },
   {
    "duration": 58,
    "start_time": "2022-03-25T10:58:29.556Z"
   },
   {
    "duration": 15,
    "start_time": "2022-03-25T10:58:29.616Z"
   },
   {
    "duration": 4,
    "start_time": "2022-03-25T10:58:29.632Z"
   },
   {
    "duration": 21,
    "start_time": "2022-03-25T10:58:29.638Z"
   },
   {
    "duration": 235,
    "start_time": "2022-03-25T10:58:29.661Z"
   },
   {
    "duration": 203,
    "start_time": "2022-03-25T10:58:29.898Z"
   },
   {
    "duration": 16,
    "start_time": "2022-03-25T10:58:30.102Z"
   },
   {
    "duration": 20,
    "start_time": "2022-03-25T10:58:30.119Z"
   },
   {
    "duration": 20,
    "start_time": "2022-03-25T10:58:30.141Z"
   },
   {
    "duration": 11,
    "start_time": "2022-03-25T10:58:30.163Z"
   },
   {
    "duration": 37,
    "start_time": "2022-03-25T10:58:30.175Z"
   },
   {
    "duration": 9,
    "start_time": "2022-03-25T10:58:30.215Z"
   },
   {
    "duration": 45,
    "start_time": "2022-03-25T10:58:30.225Z"
   },
   {
    "duration": 279,
    "start_time": "2022-03-25T10:58:30.271Z"
   },
   {
    "duration": 148,
    "start_time": "2022-03-25T10:58:30.552Z"
   },
   {
    "duration": 292,
    "start_time": "2022-03-25T10:58:30.708Z"
   },
   {
    "duration": 145,
    "start_time": "2022-03-25T10:58:47.377Z"
   },
   {
    "duration": 138,
    "start_time": "2022-03-25T10:58:53.056Z"
   },
   {
    "duration": 378,
    "start_time": "2022-03-25T10:59:02.829Z"
   },
   {
    "duration": 300,
    "start_time": "2022-03-25T10:59:16.688Z"
   },
   {
    "duration": 297,
    "start_time": "2022-03-25T10:59:25.502Z"
   },
   {
    "duration": 150,
    "start_time": "2022-03-25T11:03:03.022Z"
   },
   {
    "duration": 73,
    "start_time": "2022-03-25T11:12:08.756Z"
   },
   {
    "duration": 80,
    "start_time": "2022-03-26T10:29:58.567Z"
   },
   {
    "duration": 2542,
    "start_time": "2022-03-26T10:30:05.090Z"
   },
   {
    "duration": 76,
    "start_time": "2022-03-26T10:30:07.636Z"
   },
   {
    "duration": 18,
    "start_time": "2022-03-26T10:30:07.714Z"
   },
   {
    "duration": 41,
    "start_time": "2022-03-26T10:30:07.735Z"
   },
   {
    "duration": 25,
    "start_time": "2022-03-26T10:30:07.778Z"
   },
   {
    "duration": 17,
    "start_time": "2022-03-26T10:30:07.805Z"
   },
   {
    "duration": 424,
    "start_time": "2022-03-26T10:30:07.824Z"
   },
   {
    "duration": 26,
    "start_time": "2022-03-26T10:30:08.250Z"
   },
   {
    "duration": 10,
    "start_time": "2022-03-26T10:30:08.278Z"
   },
   {
    "duration": 243,
    "start_time": "2022-03-26T10:30:08.292Z"
   },
   {
    "duration": 42,
    "start_time": "2022-03-26T10:30:08.538Z"
   },
   {
    "duration": 2,
    "start_time": "2022-03-26T10:30:08.583Z"
   },
   {
    "duration": 417,
    "start_time": "2022-03-26T10:30:08.587Z"
   },
   {
    "duration": 48,
    "start_time": "2022-03-26T10:30:09.006Z"
   },
   {
    "duration": 406,
    "start_time": "2022-03-26T10:30:09.056Z"
   },
   {
    "duration": 520,
    "start_time": "2022-03-26T10:30:09.473Z"
   },
   {
    "duration": 139,
    "start_time": "2022-03-26T10:30:09.995Z"
   },
   {
    "duration": 115,
    "start_time": "2022-03-26T10:30:10.136Z"
   },
   {
    "duration": 40,
    "start_time": "2022-03-26T10:30:10.254Z"
   },
   {
    "duration": 4,
    "start_time": "2022-03-26T10:30:10.297Z"
   },
   {
    "duration": 71,
    "start_time": "2022-03-26T10:30:10.303Z"
   },
   {
    "duration": 528,
    "start_time": "2022-03-26T10:30:10.377Z"
   },
   {
    "duration": 243,
    "start_time": "2022-03-26T10:30:10.908Z"
   },
   {
    "duration": 21,
    "start_time": "2022-03-26T10:30:11.153Z"
   },
   {
    "duration": 29,
    "start_time": "2022-03-26T10:30:11.177Z"
   },
   {
    "duration": 24,
    "start_time": "2022-03-26T10:30:11.208Z"
   },
   {
    "duration": 46,
    "start_time": "2022-03-26T10:30:11.234Z"
   },
   {
    "duration": 24,
    "start_time": "2022-03-26T10:30:11.284Z"
   },
   {
    "duration": 13,
    "start_time": "2022-03-26T10:30:11.310Z"
   },
   {
    "duration": 72,
    "start_time": "2022-03-26T10:30:11.325Z"
   },
   {
    "duration": 431,
    "start_time": "2022-03-26T10:30:11.399Z"
   },
   {
    "duration": 284,
    "start_time": "2022-03-26T10:30:11.833Z"
   },
   {
    "duration": 500,
    "start_time": "2022-03-26T10:30:12.120Z"
   },
   {
    "duration": 457,
    "start_time": "2022-03-26T10:36:12.998Z"
   },
   {
    "duration": 29,
    "start_time": "2022-03-26T10:38:28.241Z"
   },
   {
    "duration": 537,
    "start_time": "2022-03-26T10:38:48.279Z"
   },
   {
    "duration": 4,
    "start_time": "2022-03-26T10:38:50.775Z"
   },
   {
    "duration": 101,
    "start_time": "2022-03-26T10:38:50.782Z"
   },
   {
    "duration": 15,
    "start_time": "2022-03-26T10:38:50.885Z"
   },
   {
    "duration": 18,
    "start_time": "2022-03-26T10:38:50.903Z"
   },
   {
    "duration": 59,
    "start_time": "2022-03-26T10:38:50.923Z"
   },
   {
    "duration": 49,
    "start_time": "2022-03-26T10:38:50.985Z"
   },
   {
    "duration": 608,
    "start_time": "2022-03-26T10:38:51.037Z"
   },
   {
    "duration": 28,
    "start_time": "2022-03-26T10:38:51.647Z"
   },
   {
    "duration": 12,
    "start_time": "2022-03-26T10:38:51.678Z"
   },
   {
    "duration": 29,
    "start_time": "2022-03-26T10:38:51.695Z"
   },
   {
    "duration": 69,
    "start_time": "2022-03-26T10:38:51.726Z"
   },
   {
    "duration": 3,
    "start_time": "2022-03-26T10:38:51.798Z"
   },
   {
    "duration": 363,
    "start_time": "2022-03-26T10:38:51.803Z"
   },
   {
    "duration": 79,
    "start_time": "2022-03-26T10:38:52.175Z"
   },
   {
    "duration": 575,
    "start_time": "2022-03-26T10:38:52.273Z"
   },
   {
    "duration": 768,
    "start_time": "2022-03-26T10:38:52.852Z"
   },
   {
    "duration": 66,
    "start_time": "2022-03-26T10:38:53.623Z"
   },
   {
    "duration": 86,
    "start_time": "2022-03-26T10:38:53.691Z"
   },
   {
    "duration": 24,
    "start_time": "2022-03-26T10:38:53.780Z"
   },
   {
    "duration": 29,
    "start_time": "2022-03-26T10:38:53.807Z"
   },
   {
    "duration": 65,
    "start_time": "2022-03-26T10:38:53.839Z"
   },
   {
    "duration": 485,
    "start_time": "2022-03-26T10:38:53.907Z"
   },
   {
    "duration": 241,
    "start_time": "2022-03-26T10:38:54.395Z"
   },
   {
    "duration": 34,
    "start_time": "2022-03-26T10:38:54.639Z"
   },
   {
    "duration": 43,
    "start_time": "2022-03-26T10:38:54.676Z"
   },
   {
    "duration": 56,
    "start_time": "2022-03-26T10:38:54.725Z"
   },
   {
    "duration": 25,
    "start_time": "2022-03-26T10:38:54.784Z"
   },
   {
    "duration": 27,
    "start_time": "2022-03-26T10:38:54.815Z"
   },
   {
    "duration": 43,
    "start_time": "2022-03-26T10:38:54.845Z"
   },
   {
    "duration": 67,
    "start_time": "2022-03-26T10:38:54.891Z"
   },
   {
    "duration": 436,
    "start_time": "2022-03-26T10:38:54.975Z"
   },
   {
    "duration": 427,
    "start_time": "2022-03-26T10:38:55.414Z"
   },
   {
    "duration": 517,
    "start_time": "2022-03-26T10:38:55.844Z"
   },
   {
    "duration": 31,
    "start_time": "2022-03-26T10:39:49.140Z"
   },
   {
    "duration": 5,
    "start_time": "2022-03-26T10:39:54.317Z"
   },
   {
    "duration": 100,
    "start_time": "2022-03-26T10:39:54.326Z"
   },
   {
    "duration": 19,
    "start_time": "2022-03-26T10:39:54.429Z"
   },
   {
    "duration": 44,
    "start_time": "2022-03-26T10:39:54.452Z"
   },
   {
    "duration": 37,
    "start_time": "2022-03-26T10:39:54.499Z"
   },
   {
    "duration": 72,
    "start_time": "2022-03-26T10:39:54.539Z"
   },
   {
    "duration": 470,
    "start_time": "2022-03-26T10:39:54.614Z"
   },
   {
    "duration": 24,
    "start_time": "2022-03-26T10:39:55.087Z"
   },
   {
    "duration": 12,
    "start_time": "2022-03-26T10:39:55.115Z"
   },
   {
    "duration": 54,
    "start_time": "2022-03-26T10:39:55.129Z"
   },
   {
    "duration": 32,
    "start_time": "2022-03-26T10:39:55.185Z"
   },
   {
    "duration": 3,
    "start_time": "2022-03-26T10:39:55.219Z"
   },
   {
    "duration": 499,
    "start_time": "2022-03-26T10:39:55.225Z"
   },
   {
    "duration": 77,
    "start_time": "2022-03-26T10:39:55.727Z"
   },
   {
    "duration": 550,
    "start_time": "2022-03-26T10:39:55.807Z"
   },
   {
    "duration": 522,
    "start_time": "2022-03-26T10:39:56.359Z"
   },
   {
    "duration": 107,
    "start_time": "2022-03-26T10:39:56.883Z"
   },
   {
    "duration": 218,
    "start_time": "2022-03-26T10:39:56.994Z"
   },
   {
    "duration": 30,
    "start_time": "2022-03-26T10:39:57.215Z"
   },
   {
    "duration": 30,
    "start_time": "2022-03-26T10:39:57.247Z"
   },
   {
    "duration": 34,
    "start_time": "2022-03-26T10:39:57.280Z"
   },
   {
    "duration": 557,
    "start_time": "2022-03-26T10:39:57.316Z"
   },
   {
    "duration": 263,
    "start_time": "2022-03-26T10:39:57.877Z"
   },
   {
    "duration": 35,
    "start_time": "2022-03-26T10:39:58.146Z"
   },
   {
    "duration": 37,
    "start_time": "2022-03-26T10:39:58.185Z"
   },
   {
    "duration": 59,
    "start_time": "2022-03-26T10:39:58.225Z"
   },
   {
    "duration": 23,
    "start_time": "2022-03-26T10:39:58.287Z"
   },
   {
    "duration": 47,
    "start_time": "2022-03-26T10:39:58.313Z"
   },
   {
    "duration": 22,
    "start_time": "2022-03-26T10:39:58.362Z"
   },
   {
    "duration": 39,
    "start_time": "2022-03-26T10:39:58.387Z"
   },
   {
    "duration": 555,
    "start_time": "2022-03-26T10:39:58.429Z"
   },
   {
    "duration": 289,
    "start_time": "2022-03-26T10:39:58.987Z"
   },
   {
    "duration": 619,
    "start_time": "2022-03-26T10:39:59.279Z"
   },
   {
    "duration": 32,
    "start_time": "2022-03-26T10:40:23.541Z"
   },
   {
    "duration": 7,
    "start_time": "2022-03-26T10:40:26.003Z"
   },
   {
    "duration": 71,
    "start_time": "2022-03-26T10:40:26.012Z"
   },
   {
    "duration": 14,
    "start_time": "2022-03-26T10:40:26.085Z"
   },
   {
    "duration": 21,
    "start_time": "2022-03-26T10:40:26.102Z"
   },
   {
    "duration": 58,
    "start_time": "2022-03-26T10:40:26.125Z"
   },
   {
    "duration": 33,
    "start_time": "2022-03-26T10:40:26.185Z"
   },
   {
    "duration": 411,
    "start_time": "2022-03-26T10:40:26.221Z"
   },
   {
    "duration": 17,
    "start_time": "2022-03-26T10:40:26.635Z"
   },
   {
    "duration": 9,
    "start_time": "2022-03-26T10:40:26.673Z"
   },
   {
    "duration": 27,
    "start_time": "2022-03-26T10:40:26.685Z"
   },
   {
    "duration": 65,
    "start_time": "2022-03-26T10:40:26.715Z"
   },
   {
    "duration": 3,
    "start_time": "2022-03-26T10:40:26.783Z"
   },
   {
    "duration": 466,
    "start_time": "2022-03-26T10:40:26.789Z"
   },
   {
    "duration": 86,
    "start_time": "2022-03-26T10:40:27.258Z"
   },
   {
    "duration": 550,
    "start_time": "2022-03-26T10:40:27.347Z"
   },
   {
    "duration": 682,
    "start_time": "2022-03-26T10:40:27.900Z"
   },
   {
    "duration": 156,
    "start_time": "2022-03-26T10:40:28.585Z"
   },
   {
    "duration": 84,
    "start_time": "2022-03-26T10:40:28.743Z"
   },
   {
    "duration": 46,
    "start_time": "2022-03-26T10:40:28.829Z"
   },
   {
    "duration": 9,
    "start_time": "2022-03-26T10:40:28.877Z"
   },
   {
    "duration": 34,
    "start_time": "2022-03-26T10:40:28.888Z"
   },
   {
    "duration": 400,
    "start_time": "2022-03-26T10:40:28.925Z"
   },
   {
    "duration": 210,
    "start_time": "2022-03-26T10:40:29.328Z"
   },
   {
    "duration": 22,
    "start_time": "2022-03-26T10:40:29.543Z"
   },
   {
    "duration": 35,
    "start_time": "2022-03-26T10:40:29.568Z"
   },
   {
    "duration": 26,
    "start_time": "2022-03-26T10:40:29.605Z"
   },
   {
    "duration": 41,
    "start_time": "2022-03-26T10:40:29.634Z"
   },
   {
    "duration": 24,
    "start_time": "2022-03-26T10:40:29.678Z"
   },
   {
    "duration": 14,
    "start_time": "2022-03-26T10:40:29.704Z"
   },
   {
    "duration": 94,
    "start_time": "2022-03-26T10:40:29.720Z"
   },
   {
    "duration": 569,
    "start_time": "2022-03-26T10:40:29.817Z"
   },
   {
    "duration": 296,
    "start_time": "2022-03-26T10:40:30.389Z"
   },
   {
    "duration": 538,
    "start_time": "2022-03-26T10:40:30.687Z"
   },
   {
    "duration": 76,
    "start_time": "2022-03-26T10:41:55.885Z"
   },
   {
    "duration": 7,
    "start_time": "2022-03-26T10:42:04.724Z"
   },
   {
    "duration": 91,
    "start_time": "2022-03-26T10:42:04.734Z"
   },
   {
    "duration": 16,
    "start_time": "2022-03-26T10:42:04.827Z"
   },
   {
    "duration": 48,
    "start_time": "2022-03-26T10:42:04.847Z"
   },
   {
    "duration": 35,
    "start_time": "2022-03-26T10:42:04.900Z"
   },
   {
    "duration": 94,
    "start_time": "2022-03-26T10:42:04.938Z"
   },
   {
    "duration": 496,
    "start_time": "2022-03-26T10:42:05.035Z"
   },
   {
    "duration": 22,
    "start_time": "2022-03-26T10:42:05.535Z"
   },
   {
    "duration": 12,
    "start_time": "2022-03-26T10:42:05.574Z"
   },
   {
    "duration": 22,
    "start_time": "2022-03-26T10:42:05.588Z"
   },
   {
    "duration": 70,
    "start_time": "2022-03-26T10:42:05.612Z"
   },
   {
    "duration": 4,
    "start_time": "2022-03-26T10:42:05.685Z"
   },
   {
    "duration": 354,
    "start_time": "2022-03-26T10:42:05.695Z"
   },
   {
    "duration": 87,
    "start_time": "2022-03-26T10:42:06.052Z"
   },
   {
    "duration": 472,
    "start_time": "2022-03-26T10:42:06.142Z"
   },
   {
    "duration": 651,
    "start_time": "2022-03-26T10:42:06.617Z"
   },
   {
    "duration": 87,
    "start_time": "2022-03-26T10:42:07.274Z"
   },
   {
    "duration": 112,
    "start_time": "2022-03-26T10:42:07.374Z"
   },
   {
    "duration": 30,
    "start_time": "2022-03-26T10:42:07.488Z"
   },
   {
    "duration": 4,
    "start_time": "2022-03-26T10:42:07.521Z"
   },
   {
    "duration": 64,
    "start_time": "2022-03-26T10:42:07.527Z"
   },
   {
    "duration": 366,
    "start_time": "2022-03-26T10:42:07.593Z"
   },
   {
    "duration": 200,
    "start_time": "2022-03-26T10:42:07.973Z"
   },
   {
    "duration": 28,
    "start_time": "2022-03-26T10:42:08.176Z"
   },
   {
    "duration": 26,
    "start_time": "2022-03-26T10:42:08.206Z"
   },
   {
    "duration": 58,
    "start_time": "2022-03-26T10:42:08.234Z"
   },
   {
    "duration": 18,
    "start_time": "2022-03-26T10:42:08.294Z"
   },
   {
    "duration": 32,
    "start_time": "2022-03-26T10:42:08.317Z"
   },
   {
    "duration": 32,
    "start_time": "2022-03-26T10:42:08.352Z"
   },
   {
    "duration": 40,
    "start_time": "2022-03-26T10:42:08.388Z"
   },
   {
    "duration": 435,
    "start_time": "2022-03-26T10:42:08.430Z"
   },
   {
    "duration": 280,
    "start_time": "2022-03-26T10:42:08.868Z"
   },
   {
    "duration": 623,
    "start_time": "2022-03-26T10:42:09.151Z"
   },
   {
    "duration": 48,
    "start_time": "2022-03-26T10:42:41.230Z"
   },
   {
    "duration": 6,
    "start_time": "2022-03-26T10:42:44.669Z"
   },
   {
    "duration": 92,
    "start_time": "2022-03-26T10:42:44.682Z"
   },
   {
    "duration": 13,
    "start_time": "2022-03-26T10:42:44.776Z"
   },
   {
    "duration": 26,
    "start_time": "2022-03-26T10:42:44.791Z"
   },
   {
    "duration": 54,
    "start_time": "2022-03-26T10:42:44.821Z"
   },
   {
    "duration": 53,
    "start_time": "2022-03-26T10:42:44.878Z"
   },
   {
    "duration": 389,
    "start_time": "2022-03-26T10:42:44.934Z"
   },
   {
    "duration": 19,
    "start_time": "2022-03-26T10:42:45.325Z"
   },
   {
    "duration": 32,
    "start_time": "2022-03-26T10:42:45.346Z"
   },
   {
    "duration": 34,
    "start_time": "2022-03-26T10:42:45.380Z"
   },
   {
    "duration": 34,
    "start_time": "2022-03-26T10:42:45.417Z"
   },
   {
    "duration": 22,
    "start_time": "2022-03-26T10:42:45.454Z"
   },
   {
    "duration": 454,
    "start_time": "2022-03-26T10:42:45.479Z"
   },
   {
    "duration": 91,
    "start_time": "2022-03-26T10:42:45.938Z"
   },
   {
    "duration": 574,
    "start_time": "2022-03-26T10:42:46.032Z"
   },
   {
    "duration": 722,
    "start_time": "2022-03-26T10:42:46.609Z"
   },
   {
    "duration": 86,
    "start_time": "2022-03-26T10:42:47.334Z"
   },
   {
    "duration": 126,
    "start_time": "2022-03-26T10:42:47.423Z"
   },
   {
    "duration": 44,
    "start_time": "2022-03-26T10:42:47.552Z"
   },
   {
    "duration": 3,
    "start_time": "2022-03-26T10:42:47.599Z"
   },
   {
    "duration": 74,
    "start_time": "2022-03-26T10:42:47.606Z"
   },
   {
    "duration": 528,
    "start_time": "2022-03-26T10:42:47.684Z"
   },
   {
    "duration": 259,
    "start_time": "2022-03-26T10:42:48.215Z"
   },
   {
    "duration": 23,
    "start_time": "2022-03-26T10:42:48.476Z"
   },
   {
    "duration": 25,
    "start_time": "2022-03-26T10:42:48.501Z"
   },
   {
    "duration": 54,
    "start_time": "2022-03-26T10:42:48.528Z"
   },
   {
    "duration": 16,
    "start_time": "2022-03-26T10:42:48.585Z"
   },
   {
    "duration": 37,
    "start_time": "2022-03-26T10:42:48.604Z"
   },
   {
    "duration": 33,
    "start_time": "2022-03-26T10:42:48.643Z"
   },
   {
    "duration": 49,
    "start_time": "2022-03-26T10:42:48.678Z"
   },
   {
    "duration": 520,
    "start_time": "2022-03-26T10:42:48.729Z"
   },
   {
    "duration": 365,
    "start_time": "2022-03-26T10:42:49.252Z"
   },
   {
    "duration": 516,
    "start_time": "2022-03-26T10:42:49.620Z"
   },
   {
    "duration": 56,
    "start_time": "2022-03-26T10:43:11.726Z"
   },
   {
    "duration": 1418,
    "start_time": "2022-03-26T18:49:34.141Z"
   },
   {
    "duration": 57,
    "start_time": "2022-03-26T18:49:35.561Z"
   },
   {
    "duration": 13,
    "start_time": "2022-03-26T18:49:35.620Z"
   },
   {
    "duration": 17,
    "start_time": "2022-03-26T18:49:35.636Z"
   },
   {
    "duration": 19,
    "start_time": "2022-03-26T18:49:35.655Z"
   },
   {
    "duration": 54,
    "start_time": "2022-03-26T18:49:35.676Z"
   },
   {
    "duration": 241,
    "start_time": "2022-03-26T18:49:35.731Z"
   },
   {
    "duration": 13,
    "start_time": "2022-03-26T18:49:35.974Z"
   },
   {
    "duration": 21,
    "start_time": "2022-03-26T18:49:35.989Z"
   },
   {
    "duration": 160,
    "start_time": "2022-03-26T18:49:36.013Z"
   },
   {
    "duration": 35,
    "start_time": "2022-03-26T18:49:36.175Z"
   },
   {
    "duration": 2,
    "start_time": "2022-03-26T18:49:36.212Z"
   },
   {
    "duration": 311,
    "start_time": "2022-03-26T18:49:36.216Z"
   },
   {
    "duration": 37,
    "start_time": "2022-03-26T18:49:36.529Z"
   },
   {
    "duration": 243,
    "start_time": "2022-03-26T18:49:36.568Z"
   },
   {
    "duration": 314,
    "start_time": "2022-03-26T18:49:36.813Z"
   },
   {
    "duration": 111,
    "start_time": "2022-03-26T18:49:37.129Z"
   },
   {
    "duration": 47,
    "start_time": "2022-03-26T18:49:37.242Z"
   },
   {
    "duration": 30,
    "start_time": "2022-03-26T18:49:37.291Z"
   },
   {
    "duration": 2,
    "start_time": "2022-03-26T18:49:37.323Z"
   },
   {
    "duration": 23,
    "start_time": "2022-03-26T18:49:37.327Z"
   },
   {
    "duration": 237,
    "start_time": "2022-03-26T18:49:37.352Z"
   },
   {
    "duration": 216,
    "start_time": "2022-03-26T18:49:37.591Z"
   },
   {
    "duration": 17,
    "start_time": "2022-03-26T18:49:37.809Z"
   },
   {
    "duration": 19,
    "start_time": "2022-03-26T18:49:37.828Z"
   },
   {
    "duration": 18,
    "start_time": "2022-03-26T18:49:37.850Z"
   },
   {
    "duration": 11,
    "start_time": "2022-03-26T18:49:37.870Z"
   },
   {
    "duration": 18,
    "start_time": "2022-03-26T18:49:37.911Z"
   },
   {
    "duration": 10,
    "start_time": "2022-03-26T18:49:37.931Z"
   },
   {
    "duration": 29,
    "start_time": "2022-03-26T18:49:37.942Z"
   },
   {
    "duration": 284,
    "start_time": "2022-03-26T18:49:37.973Z"
   },
   {
    "duration": 170,
    "start_time": "2022-03-26T18:49:38.259Z"
   },
   {
    "duration": 310,
    "start_time": "2022-03-26T18:49:38.430Z"
   },
   {
    "duration": 308,
    "start_time": "2022-03-26T18:56:44.174Z"
   },
   {
    "duration": 387,
    "start_time": "2022-03-26T18:56:50.588Z"
   },
   {
    "duration": 282,
    "start_time": "2022-03-26T21:42:06.477Z"
   },
   {
    "duration": 309,
    "start_time": "2022-03-26T21:42:14.033Z"
   },
   {
    "duration": 301,
    "start_time": "2022-03-26T21:42:25.698Z"
   },
   {
    "duration": 29,
    "start_time": "2022-03-26T21:44:26.589Z"
   },
   {
    "duration": 51,
    "start_time": "2022-03-27T13:26:44.845Z"
   },
   {
    "duration": 1670,
    "start_time": "2022-03-27T13:26:48.902Z"
   },
   {
    "duration": 60,
    "start_time": "2022-03-27T13:26:50.575Z"
   },
   {
    "duration": 14,
    "start_time": "2022-03-27T13:26:50.636Z"
   },
   {
    "duration": 17,
    "start_time": "2022-03-27T13:26:50.652Z"
   },
   {
    "duration": 44,
    "start_time": "2022-03-27T13:26:50.671Z"
   },
   {
    "duration": 17,
    "start_time": "2022-03-27T13:26:50.717Z"
   },
   {
    "duration": 27,
    "start_time": "2022-03-27T13:26:50.736Z"
   },
   {
    "duration": 256,
    "start_time": "2022-03-27T13:26:50.765Z"
   },
   {
    "duration": 14,
    "start_time": "2022-03-27T13:26:51.023Z"
   },
   {
    "duration": 9,
    "start_time": "2022-03-27T13:26:51.041Z"
   },
   {
    "duration": 210,
    "start_time": "2022-03-27T13:26:51.052Z"
   },
   {
    "duration": 47,
    "start_time": "2022-03-27T13:26:51.264Z"
   },
   {
    "duration": 2,
    "start_time": "2022-03-27T13:26:51.313Z"
   },
   {
    "duration": 273,
    "start_time": "2022-03-27T13:26:51.317Z"
   },
   {
    "duration": 43,
    "start_time": "2022-03-27T13:26:51.591Z"
   },
   {
    "duration": 247,
    "start_time": "2022-03-27T13:26:51.636Z"
   },
   {
    "duration": 364,
    "start_time": "2022-03-27T13:26:51.885Z"
   },
   {
    "duration": 56,
    "start_time": "2022-03-27T13:26:52.251Z"
   },
   {
    "duration": 61,
    "start_time": "2022-03-27T13:26:52.309Z"
   },
   {
    "duration": 41,
    "start_time": "2022-03-27T13:26:52.372Z"
   },
   {
    "duration": 4,
    "start_time": "2022-03-27T13:26:52.416Z"
   },
   {
    "duration": 36,
    "start_time": "2022-03-27T13:26:52.424Z"
   },
   {
    "duration": 233,
    "start_time": "2022-03-27T13:26:52.462Z"
   },
   {
    "duration": 246,
    "start_time": "2022-03-27T13:26:52.700Z"
   },
   {
    "duration": 22,
    "start_time": "2022-03-27T13:26:52.948Z"
   },
   {
    "duration": 23,
    "start_time": "2022-03-27T13:26:52.971Z"
   },
   {
    "duration": 32,
    "start_time": "2022-03-27T13:26:52.997Z"
   },
   {
    "duration": 15,
    "start_time": "2022-03-27T13:26:53.032Z"
   },
   {
    "duration": 28,
    "start_time": "2022-03-27T13:26:53.049Z"
   },
   {
    "duration": 30,
    "start_time": "2022-03-27T13:26:53.079Z"
   },
   {
    "duration": 32,
    "start_time": "2022-03-27T13:26:53.111Z"
   },
   {
    "duration": 275,
    "start_time": "2022-03-27T13:26:53.146Z"
   },
   {
    "duration": 171,
    "start_time": "2022-03-27T13:26:53.423Z"
   },
   {
    "duration": 473,
    "start_time": "2022-03-27T13:26:53.596Z"
   },
   {
    "duration": 30,
    "start_time": "2022-03-27T13:28:08.843Z"
   },
   {
    "duration": 46,
    "start_time": "2022-03-27T13:28:55.500Z"
   },
   {
    "duration": 4,
    "start_time": "2022-03-27T13:29:00.906Z"
   },
   {
    "duration": 71,
    "start_time": "2022-03-27T13:29:00.913Z"
   },
   {
    "duration": 15,
    "start_time": "2022-03-27T13:29:00.986Z"
   },
   {
    "duration": 17,
    "start_time": "2022-03-27T13:29:01.004Z"
   },
   {
    "duration": 26,
    "start_time": "2022-03-27T13:29:01.023Z"
   },
   {
    "duration": 81,
    "start_time": "2022-03-27T13:29:01.052Z"
   },
   {
    "duration": 28,
    "start_time": "2022-03-27T13:29:01.136Z"
   },
   {
    "duration": 248,
    "start_time": "2022-03-27T13:29:01.167Z"
   },
   {
    "duration": 14,
    "start_time": "2022-03-27T13:29:01.417Z"
   },
   {
    "duration": 11,
    "start_time": "2022-03-27T13:29:01.434Z"
   },
   {
    "duration": 123,
    "start_time": "2022-03-27T13:29:01.449Z"
   },
   {
    "duration": 39,
    "start_time": "2022-03-27T13:29:01.575Z"
   },
   {
    "duration": 3,
    "start_time": "2022-03-27T13:29:01.616Z"
   },
   {
    "duration": 214,
    "start_time": "2022-03-27T13:29:01.621Z"
   },
   {
    "duration": 68,
    "start_time": "2022-03-27T13:29:01.838Z"
   },
   {
    "duration": 244,
    "start_time": "2022-03-27T13:29:01.908Z"
   },
   {
    "duration": 293,
    "start_time": "2022-03-27T13:29:02.154Z"
   },
   {
    "duration": 55,
    "start_time": "2022-03-27T13:29:02.449Z"
   },
   {
    "duration": 57,
    "start_time": "2022-03-27T13:29:02.506Z"
   },
   {
    "duration": 36,
    "start_time": "2022-03-27T13:29:02.565Z"
   },
   {
    "duration": 3,
    "start_time": "2022-03-27T13:29:02.603Z"
   },
   {
    "duration": 100,
    "start_time": "2022-03-27T13:29:02.607Z"
   },
   {
    "duration": 244,
    "start_time": "2022-03-27T13:29:02.709Z"
   },
   {
    "duration": 275,
    "start_time": "2022-03-27T13:29:02.955Z"
   },
   {
    "duration": 17,
    "start_time": "2022-03-27T13:29:03.233Z"
   },
   {
    "duration": 29,
    "start_time": "2022-03-27T13:29:03.252Z"
   },
   {
    "duration": 37,
    "start_time": "2022-03-27T13:29:03.284Z"
   },
   {
    "duration": 13,
    "start_time": "2022-03-27T13:29:03.324Z"
   },
   {
    "duration": 25,
    "start_time": "2022-03-27T13:29:03.339Z"
   },
   {
    "duration": 37,
    "start_time": "2022-03-27T13:29:03.366Z"
   },
   {
    "duration": 39,
    "start_time": "2022-03-27T13:29:03.405Z"
   },
   {
    "duration": 265,
    "start_time": "2022-03-27T13:29:03.446Z"
   },
   {
    "duration": 165,
    "start_time": "2022-03-27T13:29:03.713Z"
   },
   {
    "duration": 403,
    "start_time": "2022-03-27T13:29:03.880Z"
   },
   {
    "duration": 61,
    "start_time": "2022-03-27T13:30:24.051Z"
   },
   {
    "duration": 92,
    "start_time": "2022-03-27T13:36:18.956Z"
   },
   {
    "duration": 13,
    "start_time": "2022-03-27T13:36:28.661Z"
   },
   {
    "duration": 12,
    "start_time": "2022-03-27T13:45:33.637Z"
   },
   {
    "duration": 14,
    "start_time": "2022-03-27T13:46:37.298Z"
   },
   {
    "duration": 12,
    "start_time": "2022-03-27T13:48:06.144Z"
   },
   {
    "duration": 9,
    "start_time": "2022-03-27T13:48:16.514Z"
   },
   {
    "duration": 70,
    "start_time": "2022-03-27T14:38:34.361Z"
   },
   {
    "duration": 1948,
    "start_time": "2022-03-27T14:38:38.516Z"
   },
   {
    "duration": 74,
    "start_time": "2022-03-27T14:38:40.466Z"
   },
   {
    "duration": 18,
    "start_time": "2022-03-27T14:38:40.542Z"
   },
   {
    "duration": 28,
    "start_time": "2022-03-27T14:38:40.562Z"
   },
   {
    "duration": 25,
    "start_time": "2022-03-27T14:38:40.594Z"
   },
   {
    "duration": 99,
    "start_time": "2022-03-27T14:38:40.621Z"
   },
   {
    "duration": 13,
    "start_time": "2022-03-27T14:38:40.723Z"
   },
   {
    "duration": 40,
    "start_time": "2022-03-27T14:38:40.738Z"
   },
   {
    "duration": 37,
    "start_time": "2022-03-27T14:38:40.781Z"
   },
   {
    "duration": 390,
    "start_time": "2022-03-27T14:38:40.821Z"
   },
   {
    "duration": 19,
    "start_time": "2022-03-27T14:38:41.213Z"
   },
   {
    "duration": 11,
    "start_time": "2022-03-27T14:38:41.235Z"
   },
   {
    "duration": 248,
    "start_time": "2022-03-27T14:38:41.248Z"
   },
   {
    "duration": 35,
    "start_time": "2022-03-27T14:38:41.500Z"
   },
   {
    "duration": 3,
    "start_time": "2022-03-27T14:38:41.574Z"
   },
   {
    "duration": 404,
    "start_time": "2022-03-27T14:38:41.580Z"
   },
   {
    "duration": 56,
    "start_time": "2022-03-27T14:38:41.986Z"
   },
   {
    "duration": 405,
    "start_time": "2022-03-27T14:38:42.044Z"
   },
   {
    "duration": 522,
    "start_time": "2022-03-27T14:38:42.452Z"
   },
   {
    "duration": 616,
    "start_time": "2022-03-27T14:38:42.977Z"
   },
   {
    "duration": 55,
    "start_time": "2022-03-27T14:38:43.595Z"
   },
   {
    "duration": 87,
    "start_time": "2022-03-27T14:38:43.652Z"
   },
   {
    "duration": 42,
    "start_time": "2022-03-27T14:38:43.742Z"
   },
   {
    "duration": 3,
    "start_time": "2022-03-27T14:38:43.786Z"
   },
   {
    "duration": 38,
    "start_time": "2022-03-27T14:38:43.791Z"
   },
   {
    "duration": 377,
    "start_time": "2022-03-27T14:38:43.831Z"
   },
   {
    "duration": 214,
    "start_time": "2022-03-27T14:38:44.211Z"
   },
   {
    "duration": 32,
    "start_time": "2022-03-27T14:38:44.428Z"
   },
   {
    "duration": 40,
    "start_time": "2022-03-27T14:38:44.463Z"
   },
   {
    "duration": 39,
    "start_time": "2022-03-27T14:38:44.505Z"
   },
   {
    "duration": 46,
    "start_time": "2022-03-27T14:38:44.547Z"
   },
   {
    "duration": 33,
    "start_time": "2022-03-27T14:38:44.596Z"
   },
   {
    "duration": 44,
    "start_time": "2022-03-27T14:38:44.632Z"
   },
   {
    "duration": 58,
    "start_time": "2022-03-27T14:38:44.679Z"
   },
   {
    "duration": 522,
    "start_time": "2022-03-27T14:38:44.740Z"
   },
   {
    "duration": 276,
    "start_time": "2022-03-27T14:38:45.264Z"
   },
   {
    "duration": 578,
    "start_time": "2022-03-27T14:38:45.542Z"
   },
   {
    "duration": 32,
    "start_time": "2022-03-27T14:58:12.786Z"
   },
   {
    "duration": 7,
    "start_time": "2022-03-27T14:58:25.296Z"
   },
   {
    "duration": 104,
    "start_time": "2022-03-27T14:58:25.306Z"
   },
   {
    "duration": 18,
    "start_time": "2022-03-27T14:58:25.414Z"
   },
   {
    "duration": 55,
    "start_time": "2022-03-27T14:58:25.435Z"
   },
   {
    "duration": 43,
    "start_time": "2022-03-27T14:58:25.494Z"
   },
   {
    "duration": 155,
    "start_time": "2022-03-27T14:58:25.540Z"
   },
   {
    "duration": 14,
    "start_time": "2022-03-27T14:58:25.698Z"
   },
   {
    "duration": 10,
    "start_time": "2022-03-27T14:58:25.716Z"
   },
   {
    "duration": 72,
    "start_time": "2022-03-27T14:58:25.729Z"
   },
   {
    "duration": 373,
    "start_time": "2022-03-27T14:58:25.804Z"
   },
   {
    "duration": 20,
    "start_time": "2022-03-27T14:58:26.181Z"
   },
   {
    "duration": 19,
    "start_time": "2022-03-27T14:58:26.204Z"
   },
   {
    "duration": 54,
    "start_time": "2022-03-27T14:58:26.226Z"
   },
   {
    "duration": 46,
    "start_time": "2022-03-27T14:58:26.284Z"
   },
   {
    "duration": 3,
    "start_time": "2022-03-27T14:58:26.332Z"
   },
   {
    "duration": 390,
    "start_time": "2022-03-27T14:58:26.338Z"
   },
   {
    "duration": 63,
    "start_time": "2022-03-27T14:58:26.730Z"
   },
   {
    "duration": 398,
    "start_time": "2022-03-27T14:58:26.795Z"
   },
   {
    "duration": 457,
    "start_time": "2022-03-27T14:58:27.196Z"
   },
   {
    "duration": 599,
    "start_time": "2022-03-27T14:58:27.656Z"
   },
   {
    "duration": 91,
    "start_time": "2022-03-27T14:58:28.258Z"
   },
   {
    "duration": 262,
    "start_time": "2022-03-27T14:58:28.352Z"
   },
   {
    "duration": 34,
    "start_time": "2022-03-27T14:58:28.617Z"
   },
   {
    "duration": 7,
    "start_time": "2022-03-27T14:58:28.674Z"
   },
   {
    "duration": 50,
    "start_time": "2022-03-27T14:58:28.684Z"
   },
   {
    "duration": 524,
    "start_time": "2022-03-27T14:58:28.737Z"
   },
   {
    "duration": 222,
    "start_time": "2022-03-27T14:58:29.264Z"
   },
   {
    "duration": 33,
    "start_time": "2022-03-27T14:58:29.489Z"
   },
   {
    "duration": 52,
    "start_time": "2022-03-27T14:58:29.528Z"
   },
   {
    "duration": 28,
    "start_time": "2022-03-27T14:58:29.582Z"
   },
   {
    "duration": 18,
    "start_time": "2022-03-27T14:58:29.613Z"
   },
   {
    "duration": 59,
    "start_time": "2022-03-27T14:58:29.633Z"
   },
   {
    "duration": 13,
    "start_time": "2022-03-27T14:58:29.695Z"
   },
   {
    "duration": 69,
    "start_time": "2022-03-27T14:58:29.711Z"
   },
   {
    "duration": 423,
    "start_time": "2022-03-27T14:58:29.782Z"
   },
   {
    "duration": 377,
    "start_time": "2022-03-27T14:58:30.208Z"
   },
   {
    "duration": 692,
    "start_time": "2022-03-27T14:58:30.588Z"
   },
   {
    "duration": 32,
    "start_time": "2022-03-27T15:00:08.945Z"
   },
   {
    "duration": 5,
    "start_time": "2022-03-27T15:00:21.083Z"
   },
   {
    "duration": 88,
    "start_time": "2022-03-27T15:00:21.092Z"
   },
   {
    "duration": 14,
    "start_time": "2022-03-27T15:00:21.184Z"
   },
   {
    "duration": 21,
    "start_time": "2022-03-27T15:00:21.201Z"
   },
   {
    "duration": 64,
    "start_time": "2022-03-27T15:00:21.225Z"
   },
   {
    "duration": 93,
    "start_time": "2022-03-27T15:00:21.291Z"
   },
   {
    "duration": 12,
    "start_time": "2022-03-27T15:00:21.387Z"
   },
   {
    "duration": 7,
    "start_time": "2022-03-27T15:00:21.402Z"
   },
   {
    "duration": 68,
    "start_time": "2022-03-27T15:00:21.411Z"
   },
   {
    "duration": 362,
    "start_time": "2022-03-27T15:00:21.482Z"
   },
   {
    "duration": 27,
    "start_time": "2022-03-27T15:00:21.849Z"
   },
   {
    "duration": 11,
    "start_time": "2022-03-27T15:00:21.878Z"
   },
   {
    "duration": 24,
    "start_time": "2022-03-27T15:00:21.891Z"
   },
   {
    "duration": 63,
    "start_time": "2022-03-27T15:00:21.917Z"
   },
   {
    "duration": 4,
    "start_time": "2022-03-27T15:00:21.982Z"
   },
   {
    "duration": 357,
    "start_time": "2022-03-27T15:00:21.988Z"
   },
   {
    "duration": 63,
    "start_time": "2022-03-27T15:00:22.347Z"
   },
   {
    "duration": 522,
    "start_time": "2022-03-27T15:00:22.413Z"
   },
   {
    "duration": 444,
    "start_time": "2022-03-27T15:00:22.937Z"
   },
   {
    "duration": 484,
    "start_time": "2022-03-27T15:00:23.383Z"
   },
   {
    "duration": 60,
    "start_time": "2022-03-27T15:00:23.873Z"
   },
   {
    "duration": 88,
    "start_time": "2022-03-27T15:00:23.935Z"
   },
   {
    "duration": 23,
    "start_time": "2022-03-27T15:00:24.026Z"
   },
   {
    "duration": 3,
    "start_time": "2022-03-27T15:00:24.075Z"
   },
   {
    "duration": 34,
    "start_time": "2022-03-27T15:00:24.080Z"
   },
   {
    "duration": 362,
    "start_time": "2022-03-27T15:00:24.116Z"
   },
   {
    "duration": 185,
    "start_time": "2022-03-27T15:00:24.480Z"
   },
   {
    "duration": 22,
    "start_time": "2022-03-27T15:00:24.667Z"
   },
   {
    "duration": 29,
    "start_time": "2022-03-27T15:00:24.694Z"
   },
   {
    "duration": 25,
    "start_time": "2022-03-27T15:00:24.725Z"
   },
   {
    "duration": 15,
    "start_time": "2022-03-27T15:00:24.773Z"
   },
   {
    "duration": 32,
    "start_time": "2022-03-27T15:00:24.791Z"
   },
   {
    "duration": 19,
    "start_time": "2022-03-27T15:00:24.826Z"
   },
   {
    "duration": 55,
    "start_time": "2022-03-27T15:00:24.848Z"
   },
   {
    "duration": 402,
    "start_time": "2022-03-27T15:00:24.905Z"
   },
   {
    "duration": 266,
    "start_time": "2022-03-27T15:00:25.310Z"
   },
   {
    "duration": 469,
    "start_time": "2022-03-27T15:00:25.579Z"
   },
   {
    "duration": 31,
    "start_time": "2022-03-27T15:01:36.608Z"
   },
   {
    "duration": 30,
    "start_time": "2022-03-27T15:01:48.739Z"
   },
   {
    "duration": 29,
    "start_time": "2022-03-27T15:02:09.139Z"
   },
   {
    "duration": 27,
    "start_time": "2022-03-27T15:02:34.736Z"
   },
   {
    "duration": 30,
    "start_time": "2022-03-27T15:02:39.644Z"
   },
   {
    "duration": 30,
    "start_time": "2022-03-27T15:02:49.775Z"
   },
   {
    "duration": 31,
    "start_time": "2022-03-27T15:02:55.476Z"
   },
   {
    "duration": 29,
    "start_time": "2022-03-27T15:03:32.228Z"
   },
   {
    "duration": 1679,
    "start_time": "2022-03-27T15:03:50.687Z"
   },
   {
    "duration": 67,
    "start_time": "2022-03-27T15:03:52.369Z"
   },
   {
    "duration": 20,
    "start_time": "2022-03-27T15:03:52.439Z"
   },
   {
    "duration": 24,
    "start_time": "2022-03-27T15:03:52.475Z"
   },
   {
    "duration": 32,
    "start_time": "2022-03-27T15:03:52.502Z"
   },
   {
    "duration": 97,
    "start_time": "2022-03-27T15:03:52.536Z"
   },
   {
    "duration": 13,
    "start_time": "2022-03-27T15:03:52.635Z"
   },
   {
    "duration": 30,
    "start_time": "2022-03-27T15:03:52.650Z"
   },
   {
    "duration": 36,
    "start_time": "2022-03-27T15:03:52.683Z"
   },
   {
    "duration": 405,
    "start_time": "2022-03-27T15:03:52.727Z"
   },
   {
    "duration": 23,
    "start_time": "2022-03-27T15:03:53.134Z"
   },
   {
    "duration": 10,
    "start_time": "2022-03-27T15:03:53.174Z"
   },
   {
    "duration": 270,
    "start_time": "2022-03-27T15:03:53.187Z"
   },
   {
    "duration": 49,
    "start_time": "2022-03-27T15:03:53.459Z"
   },
   {
    "duration": 4,
    "start_time": "2022-03-27T15:03:53.511Z"
   },
   {
    "duration": 519,
    "start_time": "2022-03-27T15:03:53.517Z"
   },
   {
    "duration": 63,
    "start_time": "2022-03-27T15:03:54.038Z"
   },
   {
    "duration": 391,
    "start_time": "2022-03-27T15:03:54.103Z"
   },
   {
    "duration": 549,
    "start_time": "2022-03-27T15:03:54.496Z"
   },
   {
    "duration": 402,
    "start_time": "2022-03-27T15:03:55.048Z"
   },
   {
    "duration": 64,
    "start_time": "2022-03-27T15:03:55.453Z"
   },
   {
    "duration": 91,
    "start_time": "2022-03-27T15:03:55.519Z"
   },
   {
    "duration": 24,
    "start_time": "2022-03-27T15:03:55.612Z"
   },
   {
    "duration": 6,
    "start_time": "2022-03-27T15:03:55.638Z"
   },
   {
    "duration": 34,
    "start_time": "2022-03-27T15:03:55.675Z"
   },
   {
    "duration": 356,
    "start_time": "2022-03-27T15:03:55.711Z"
   },
   {
    "duration": 252,
    "start_time": "2022-03-27T15:03:56.074Z"
   },
   {
    "duration": 25,
    "start_time": "2022-03-27T15:03:56.332Z"
   },
   {
    "duration": 30,
    "start_time": "2022-03-27T15:03:56.359Z"
   },
   {
    "duration": 28,
    "start_time": "2022-03-27T15:03:56.392Z"
   },
   {
    "duration": 19,
    "start_time": "2022-03-27T15:03:56.423Z"
   },
   {
    "duration": 54,
    "start_time": "2022-03-27T15:03:56.444Z"
   },
   {
    "duration": 15,
    "start_time": "2022-03-27T15:03:56.501Z"
   },
   {
    "duration": 79,
    "start_time": "2022-03-27T15:03:56.519Z"
   },
   {
    "duration": 414,
    "start_time": "2022-03-27T15:03:56.601Z"
   },
   {
    "duration": 276,
    "start_time": "2022-03-27T15:03:57.017Z"
   },
   {
    "duration": 487,
    "start_time": "2022-03-27T15:03:57.295Z"
   },
   {
    "duration": 32,
    "start_time": "2022-03-27T15:05:01.966Z"
   },
   {
    "duration": 5,
    "start_time": "2022-03-27T15:05:10.763Z"
   },
   {
    "duration": 80,
    "start_time": "2022-03-27T15:05:10.770Z"
   },
   {
    "duration": 14,
    "start_time": "2022-03-27T15:05:10.853Z"
   },
   {
    "duration": 18,
    "start_time": "2022-03-27T15:05:10.873Z"
   },
   {
    "duration": 29,
    "start_time": "2022-03-27T15:05:10.895Z"
   },
   {
    "duration": 217,
    "start_time": "2022-03-27T15:05:10.927Z"
   },
   {
    "duration": 27,
    "start_time": "2022-03-27T15:05:11.146Z"
   },
   {
    "duration": 17,
    "start_time": "2022-03-27T15:05:11.177Z"
   },
   {
    "duration": 42,
    "start_time": "2022-03-27T15:05:11.197Z"
   },
   {
    "duration": 386,
    "start_time": "2022-03-27T15:05:11.241Z"
   },
   {
    "duration": 19,
    "start_time": "2022-03-27T15:05:11.631Z"
   },
   {
    "duration": 26,
    "start_time": "2022-03-27T15:05:11.652Z"
   },
   {
    "duration": 40,
    "start_time": "2022-03-27T15:05:11.680Z"
   },
   {
    "duration": 60,
    "start_time": "2022-03-27T15:05:11.722Z"
   },
   {
    "duration": 3,
    "start_time": "2022-03-27T15:05:11.784Z"
   },
   {
    "duration": 353,
    "start_time": "2022-03-27T15:05:11.789Z"
   },
   {
    "duration": 63,
    "start_time": "2022-03-27T15:05:12.144Z"
   },
   {
    "duration": 392,
    "start_time": "2022-03-27T15:05:12.209Z"
   },
   {
    "duration": 452,
    "start_time": "2022-03-27T15:05:12.603Z"
   },
   {
    "duration": 472,
    "start_time": "2022-03-27T15:05:13.057Z"
   },
   {
    "duration": 67,
    "start_time": "2022-03-27T15:05:13.532Z"
   },
   {
    "duration": 87,
    "start_time": "2022-03-27T15:05:13.602Z"
   },
   {
    "duration": 37,
    "start_time": "2022-03-27T15:05:13.692Z"
   },
   {
    "duration": 25,
    "start_time": "2022-03-27T15:05:13.731Z"
   },
   {
    "duration": 68,
    "start_time": "2022-03-27T15:05:13.759Z"
   },
   {
    "duration": 514,
    "start_time": "2022-03-27T15:05:13.829Z"
   },
   {
    "duration": 209,
    "start_time": "2022-03-27T15:05:14.346Z"
   },
   {
    "duration": 23,
    "start_time": "2022-03-27T15:05:14.558Z"
   },
   {
    "duration": 39,
    "start_time": "2022-03-27T15:05:14.587Z"
   },
   {
    "duration": 55,
    "start_time": "2022-03-27T15:05:14.629Z"
   },
   {
    "duration": 17,
    "start_time": "2022-03-27T15:05:14.687Z"
   },
   {
    "duration": 38,
    "start_time": "2022-03-27T15:05:14.706Z"
   },
   {
    "duration": 34,
    "start_time": "2022-03-27T15:05:14.746Z"
   },
   {
    "duration": 54,
    "start_time": "2022-03-27T15:05:14.782Z"
   },
   {
    "duration": 472,
    "start_time": "2022-03-27T15:05:14.838Z"
   },
   {
    "duration": 281,
    "start_time": "2022-03-27T15:05:15.314Z"
   },
   {
    "duration": 544,
    "start_time": "2022-03-27T15:05:15.598Z"
   },
   {
    "duration": 11,
    "start_time": "2022-03-27T15:12:26.527Z"
   },
   {
    "duration": 185,
    "start_time": "2022-03-27T15:14:23.180Z"
   },
   {
    "duration": 10,
    "start_time": "2022-03-27T15:14:33.854Z"
   },
   {
    "duration": 5,
    "start_time": "2022-03-27T15:14:40.592Z"
   },
   {
    "duration": 69,
    "start_time": "2022-03-27T15:14:40.599Z"
   },
   {
    "duration": 14,
    "start_time": "2022-03-27T15:14:40.674Z"
   },
   {
    "duration": 27,
    "start_time": "2022-03-27T15:14:40.692Z"
   },
   {
    "duration": 78,
    "start_time": "2022-03-27T15:14:40.722Z"
   },
   {
    "duration": 131,
    "start_time": "2022-03-27T15:14:40.803Z"
   },
   {
    "duration": 10,
    "start_time": "2022-03-27T15:14:40.937Z"
   },
   {
    "duration": 26,
    "start_time": "2022-03-27T15:14:40.949Z"
   },
   {
    "duration": 32,
    "start_time": "2022-03-27T15:14:40.978Z"
   },
   {
    "duration": 369,
    "start_time": "2022-03-27T15:14:41.012Z"
   },
   {
    "duration": 18,
    "start_time": "2022-03-27T15:14:41.383Z"
   },
   {
    "duration": 10,
    "start_time": "2022-03-27T15:14:41.403Z"
   },
   {
    "duration": 22,
    "start_time": "2022-03-27T15:14:41.415Z"
   },
   {
    "duration": 60,
    "start_time": "2022-03-27T15:14:41.439Z"
   },
   {
    "duration": 3,
    "start_time": "2022-03-27T15:14:41.501Z"
   },
   {
    "duration": 354,
    "start_time": "2022-03-27T15:14:41.506Z"
   },
   {
    "duration": 57,
    "start_time": "2022-03-27T15:14:41.862Z"
   },
   {
    "duration": 395,
    "start_time": "2022-03-27T15:14:41.921Z"
   },
   {
    "duration": 429,
    "start_time": "2022-03-27T15:14:42.318Z"
   },
   {
    "duration": 385,
    "start_time": "2022-03-27T15:14:42.749Z"
   },
   {
    "duration": 178,
    "start_time": "2022-03-27T15:14:43.136Z"
   },
   {
    "duration": 118,
    "start_time": "2022-03-27T15:14:43.316Z"
   },
   {
    "duration": 42,
    "start_time": "2022-03-27T15:14:43.437Z"
   },
   {
    "duration": 3,
    "start_time": "2022-03-27T15:14:43.487Z"
   },
   {
    "duration": 32,
    "start_time": "2022-03-27T15:14:43.493Z"
   },
   {
    "duration": 406,
    "start_time": "2022-03-27T15:14:43.528Z"
   },
   {
    "duration": 205,
    "start_time": "2022-03-27T15:14:43.937Z"
   },
   {
    "duration": 34,
    "start_time": "2022-03-27T15:14:44.145Z"
   },
   {
    "duration": 29,
    "start_time": "2022-03-27T15:14:44.183Z"
   },
   {
    "duration": 67,
    "start_time": "2022-03-27T15:14:44.215Z"
   },
   {
    "duration": 16,
    "start_time": "2022-03-27T15:14:44.284Z"
   },
   {
    "duration": 24,
    "start_time": "2022-03-27T15:14:44.303Z"
   },
   {
    "duration": 10,
    "start_time": "2022-03-27T15:14:44.329Z"
   },
   {
    "duration": 44,
    "start_time": "2022-03-27T15:14:44.341Z"
   },
   {
    "duration": 45,
    "start_time": "2022-03-27T15:14:44.387Z"
   },
   {
    "duration": 439,
    "start_time": "2022-03-27T15:14:44.434Z"
   },
   {
    "duration": 285,
    "start_time": "2022-03-27T15:14:44.875Z"
   },
   {
    "duration": 768,
    "start_time": "2022-03-27T15:14:45.163Z"
   },
   {
    "duration": 13,
    "start_time": "2022-03-27T15:17:02.231Z"
   },
   {
    "duration": 82,
    "start_time": "2022-03-27T15:18:23.909Z"
   },
   {
    "duration": 12,
    "start_time": "2022-03-27T15:19:51.844Z"
   },
   {
    "duration": 11,
    "start_time": "2022-03-27T15:20:13.035Z"
   },
   {
    "duration": 1441,
    "start_time": "2022-03-27T15:23:53.918Z"
   },
   {
    "duration": 7,
    "start_time": "2022-03-27T15:24:17.061Z"
   },
   {
    "duration": 6,
    "start_time": "2022-03-27T15:24:31.439Z"
   },
   {
    "duration": 7,
    "start_time": "2022-03-27T15:25:34.612Z"
   },
   {
    "duration": 7,
    "start_time": "2022-03-27T15:25:38.142Z"
   },
   {
    "duration": 7,
    "start_time": "2022-03-27T15:47:47.486Z"
   },
   {
    "duration": 95,
    "start_time": "2022-03-27T15:47:47.496Z"
   },
   {
    "duration": 13,
    "start_time": "2022-03-27T15:47:47.594Z"
   },
   {
    "duration": 43,
    "start_time": "2022-03-27T15:47:47.612Z"
   },
   {
    "duration": 40,
    "start_time": "2022-03-27T15:47:47.658Z"
   },
   {
    "duration": 97,
    "start_time": "2022-03-27T15:47:47.701Z"
   },
   {
    "duration": 14,
    "start_time": "2022-03-27T15:47:47.801Z"
   },
   {
    "duration": 10,
    "start_time": "2022-03-27T15:47:47.818Z"
   },
   {
    "duration": 35,
    "start_time": "2022-03-27T15:47:47.874Z"
   },
   {
    "duration": 382,
    "start_time": "2022-03-27T15:47:47.915Z"
   },
   {
    "duration": 21,
    "start_time": "2022-03-27T15:47:48.300Z"
   },
   {
    "duration": 28,
    "start_time": "2022-03-27T15:47:48.324Z"
   },
   {
    "duration": 23,
    "start_time": "2022-03-27T15:47:48.374Z"
   },
   {
    "duration": 36,
    "start_time": "2022-03-27T15:47:48.399Z"
   },
   {
    "duration": 37,
    "start_time": "2022-03-27T15:47:48.438Z"
   },
   {
    "duration": 357,
    "start_time": "2022-03-27T15:47:48.478Z"
   },
   {
    "duration": 71,
    "start_time": "2022-03-27T15:47:48.838Z"
   },
   {
    "duration": 506,
    "start_time": "2022-03-27T15:47:48.911Z"
   },
   {
    "duration": 537,
    "start_time": "2022-03-27T15:47:49.419Z"
   },
   {
    "duration": 402,
    "start_time": "2022-03-27T15:47:49.958Z"
   },
   {
    "duration": 64,
    "start_time": "2022-03-27T15:47:50.362Z"
   },
   {
    "duration": 96,
    "start_time": "2022-03-27T15:47:50.428Z"
   },
   {
    "duration": 49,
    "start_time": "2022-03-27T15:47:50.527Z"
   },
   {
    "duration": 7,
    "start_time": "2022-03-27T15:47:50.578Z"
   },
   {
    "duration": 38,
    "start_time": "2022-03-27T15:47:50.587Z"
   },
   {
    "duration": 407,
    "start_time": "2022-03-27T15:47:50.627Z"
   },
   {
    "duration": 218,
    "start_time": "2022-03-27T15:47:51.036Z"
   },
   {
    "duration": 23,
    "start_time": "2022-03-27T15:47:51.259Z"
   },
   {
    "duration": 28,
    "start_time": "2022-03-27T15:47:51.284Z"
   },
   {
    "duration": 64,
    "start_time": "2022-03-27T15:47:51.314Z"
   },
   {
    "duration": 18,
    "start_time": "2022-03-27T15:47:51.381Z"
   },
   {
    "duration": 24,
    "start_time": "2022-03-27T15:47:51.401Z"
   },
   {
    "duration": 6,
    "start_time": "2022-03-27T15:47:51.427Z"
   },
   {
    "duration": 7,
    "start_time": "2022-03-27T15:47:51.475Z"
   },
   {
    "duration": 13,
    "start_time": "2022-03-27T15:47:51.484Z"
   },
   {
    "duration": 86,
    "start_time": "2022-03-27T15:47:51.500Z"
   },
   {
    "duration": 441,
    "start_time": "2022-03-27T15:47:51.589Z"
   },
   {
    "duration": 374,
    "start_time": "2022-03-27T15:47:52.032Z"
   },
   {
    "duration": 527,
    "start_time": "2022-03-27T15:47:52.409Z"
   },
   {
    "duration": 62,
    "start_time": "2022-07-20T20:03:36.477Z"
   },
   {
    "duration": 48,
    "start_time": "2022-07-20T20:20:57.417Z"
   },
   {
    "duration": 3,
    "start_time": "2022-07-20T20:21:07.643Z"
   }
  ],
  "kernelspec": {
   "display_name": "Python 3 (ipykernel)",
   "language": "python",
   "name": "python3"
  },
  "language_info": {
   "codemirror_mode": {
    "name": "ipython",
    "version": 3
   },
   "file_extension": ".py",
   "mimetype": "text/x-python",
   "name": "python",
   "nbconvert_exporter": "python",
   "pygments_lexer": "ipython3",
   "version": "3.9.5"
  },
  "toc": {
   "base_numbering": 1,
   "nav_menu": {},
   "number_sections": true,
   "sideBar": true,
   "skip_h1_title": true,
   "title_cell": "Table of Contents",
   "title_sidebar": "Contents",
   "toc_cell": false,
   "toc_position": {
    "height": "calc(100% - 180px)",
    "left": "10px",
    "top": "150px",
    "width": "302.331px"
   },
   "toc_section_display": true,
   "toc_window_display": true
  }
 },
 "nbformat": 4,
 "nbformat_minor": 2
}
