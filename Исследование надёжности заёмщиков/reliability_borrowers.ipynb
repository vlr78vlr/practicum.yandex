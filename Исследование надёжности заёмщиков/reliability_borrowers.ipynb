{
 "cells": [
  {
   "cell_type": "markdown",
   "metadata": {},
   "source": [
    "# Исследование надёжности заёмщиков\n",
    "\n",
    "Заказчик — кредитный отдел банка. Нужно разобраться, влияет ли семейное положение и количество детей клиента на факт погашения кредита в срок. Входные данные от банка — статистика о платёжеспособности клиентов.\n",
    "\n",
    "Результаты исследования будут учтены при построении модели **кредитного скоринга** — специальной системы, которая оценивает способность потенциального заёмщика вернуть кредит банку."
   ]
  },
  {
   "cell_type": "markdown",
   "metadata": {},
   "source": [
    "# Описание данных\n",
    "\n",
    "children — количество детей в семье\n",
    "\n",
    "days_employed — общий трудовой стаж в днях\n",
    "\n",
    "dob_years — возраст клиента в годах\n",
    "\n",
    "education — уровень образования клиента\n",
    "\n",
    "education_id — идентификатор уровня образования\n",
    "\n",
    "family_status — семейное положение\n",
    "\n",
    "family_status_id — идентификатор семейного положения\n",
    "\n",
    "gender — пол клиента\n",
    "\n",
    "income_type — тип занятости\n",
    "\n",
    "debt — имел ли задолженность по возврату кредитов\n",
    "\n",
    "total_income — ежемесячный доход\n",
    "\n",
    "purpose — цель получения кредита"
   ]
  },
  {
   "cell_type": "markdown",
   "metadata": {},
   "source": [
    "## Шаг 1. Откройте файл с данными и изучите общую информацию"
   ]
  },
  {
   "cell_type": "code",
   "execution_count": 1,
   "metadata": {
    "scrolled": false
   },
   "outputs": [
    {
     "data": {
      "text/html": [
       "<div>\n",
       "<style scoped>\n",
       "    .dataframe tbody tr th:only-of-type {\n",
       "        vertical-align: middle;\n",
       "    }\n",
       "\n",
       "    .dataframe tbody tr th {\n",
       "        vertical-align: top;\n",
       "    }\n",
       "\n",
       "    .dataframe thead th {\n",
       "        text-align: right;\n",
       "    }\n",
       "</style>\n",
       "<table border=\"1\" class=\"dataframe\">\n",
       "  <thead>\n",
       "    <tr style=\"text-align: right;\">\n",
       "      <th></th>\n",
       "      <th>children</th>\n",
       "      <th>days_employed</th>\n",
       "      <th>dob_years</th>\n",
       "      <th>education</th>\n",
       "      <th>education_id</th>\n",
       "      <th>family_status</th>\n",
       "      <th>family_status_id</th>\n",
       "      <th>gender</th>\n",
       "      <th>income_type</th>\n",
       "      <th>debt</th>\n",
       "      <th>total_income</th>\n",
       "      <th>purpose</th>\n",
       "    </tr>\n",
       "  </thead>\n",
       "  <tbody>\n",
       "    <tr>\n",
       "      <th>0</th>\n",
       "      <td>1</td>\n",
       "      <td>-8437.673028</td>\n",
       "      <td>42</td>\n",
       "      <td>высшее</td>\n",
       "      <td>0</td>\n",
       "      <td>женат / замужем</td>\n",
       "      <td>0</td>\n",
       "      <td>F</td>\n",
       "      <td>сотрудник</td>\n",
       "      <td>0</td>\n",
       "      <td>253875.639453</td>\n",
       "      <td>покупка жилья</td>\n",
       "    </tr>\n",
       "    <tr>\n",
       "      <th>1</th>\n",
       "      <td>1</td>\n",
       "      <td>-4024.803754</td>\n",
       "      <td>36</td>\n",
       "      <td>среднее</td>\n",
       "      <td>1</td>\n",
       "      <td>женат / замужем</td>\n",
       "      <td>0</td>\n",
       "      <td>F</td>\n",
       "      <td>сотрудник</td>\n",
       "      <td>0</td>\n",
       "      <td>112080.014102</td>\n",
       "      <td>приобретение автомобиля</td>\n",
       "    </tr>\n",
       "    <tr>\n",
       "      <th>2</th>\n",
       "      <td>0</td>\n",
       "      <td>-5623.422610</td>\n",
       "      <td>33</td>\n",
       "      <td>Среднее</td>\n",
       "      <td>1</td>\n",
       "      <td>женат / замужем</td>\n",
       "      <td>0</td>\n",
       "      <td>M</td>\n",
       "      <td>сотрудник</td>\n",
       "      <td>0</td>\n",
       "      <td>145885.952297</td>\n",
       "      <td>покупка жилья</td>\n",
       "    </tr>\n",
       "    <tr>\n",
       "      <th>3</th>\n",
       "      <td>3</td>\n",
       "      <td>-4124.747207</td>\n",
       "      <td>32</td>\n",
       "      <td>среднее</td>\n",
       "      <td>1</td>\n",
       "      <td>женат / замужем</td>\n",
       "      <td>0</td>\n",
       "      <td>M</td>\n",
       "      <td>сотрудник</td>\n",
       "      <td>0</td>\n",
       "      <td>267628.550329</td>\n",
       "      <td>дополнительное образование</td>\n",
       "    </tr>\n",
       "    <tr>\n",
       "      <th>4</th>\n",
       "      <td>0</td>\n",
       "      <td>340266.072047</td>\n",
       "      <td>53</td>\n",
       "      <td>среднее</td>\n",
       "      <td>1</td>\n",
       "      <td>гражданский брак</td>\n",
       "      <td>1</td>\n",
       "      <td>F</td>\n",
       "      <td>пенсионер</td>\n",
       "      <td>0</td>\n",
       "      <td>158616.077870</td>\n",
       "      <td>сыграть свадьбу</td>\n",
       "    </tr>\n",
       "    <tr>\n",
       "      <th>5</th>\n",
       "      <td>0</td>\n",
       "      <td>-926.185831</td>\n",
       "      <td>27</td>\n",
       "      <td>высшее</td>\n",
       "      <td>0</td>\n",
       "      <td>гражданский брак</td>\n",
       "      <td>1</td>\n",
       "      <td>M</td>\n",
       "      <td>компаньон</td>\n",
       "      <td>0</td>\n",
       "      <td>255763.565419</td>\n",
       "      <td>покупка жилья</td>\n",
       "    </tr>\n",
       "    <tr>\n",
       "      <th>6</th>\n",
       "      <td>0</td>\n",
       "      <td>-2879.202052</td>\n",
       "      <td>43</td>\n",
       "      <td>высшее</td>\n",
       "      <td>0</td>\n",
       "      <td>женат / замужем</td>\n",
       "      <td>0</td>\n",
       "      <td>F</td>\n",
       "      <td>компаньон</td>\n",
       "      <td>0</td>\n",
       "      <td>240525.971920</td>\n",
       "      <td>операции с жильем</td>\n",
       "    </tr>\n",
       "    <tr>\n",
       "      <th>7</th>\n",
       "      <td>0</td>\n",
       "      <td>-152.779569</td>\n",
       "      <td>50</td>\n",
       "      <td>СРЕДНЕЕ</td>\n",
       "      <td>1</td>\n",
       "      <td>женат / замужем</td>\n",
       "      <td>0</td>\n",
       "      <td>M</td>\n",
       "      <td>сотрудник</td>\n",
       "      <td>0</td>\n",
       "      <td>135823.934197</td>\n",
       "      <td>образование</td>\n",
       "    </tr>\n",
       "    <tr>\n",
       "      <th>8</th>\n",
       "      <td>2</td>\n",
       "      <td>-6929.865299</td>\n",
       "      <td>35</td>\n",
       "      <td>ВЫСШЕЕ</td>\n",
       "      <td>0</td>\n",
       "      <td>гражданский брак</td>\n",
       "      <td>1</td>\n",
       "      <td>F</td>\n",
       "      <td>сотрудник</td>\n",
       "      <td>0</td>\n",
       "      <td>95856.832424</td>\n",
       "      <td>на проведение свадьбы</td>\n",
       "    </tr>\n",
       "    <tr>\n",
       "      <th>9</th>\n",
       "      <td>0</td>\n",
       "      <td>-2188.756445</td>\n",
       "      <td>41</td>\n",
       "      <td>среднее</td>\n",
       "      <td>1</td>\n",
       "      <td>женат / замужем</td>\n",
       "      <td>0</td>\n",
       "      <td>M</td>\n",
       "      <td>сотрудник</td>\n",
       "      <td>0</td>\n",
       "      <td>144425.938277</td>\n",
       "      <td>покупка жилья для семьи</td>\n",
       "    </tr>\n",
       "  </tbody>\n",
       "</table>\n",
       "</div>"
      ],
      "text/plain": [
       "   children  days_employed  dob_years education  education_id  \\\n",
       "0         1   -8437.673028         42    высшее             0   \n",
       "1         1   -4024.803754         36   среднее             1   \n",
       "2         0   -5623.422610         33   Среднее             1   \n",
       "3         3   -4124.747207         32   среднее             1   \n",
       "4         0  340266.072047         53   среднее             1   \n",
       "5         0    -926.185831         27    высшее             0   \n",
       "6         0   -2879.202052         43    высшее             0   \n",
       "7         0    -152.779569         50   СРЕДНЕЕ             1   \n",
       "8         2   -6929.865299         35    ВЫСШЕЕ             0   \n",
       "9         0   -2188.756445         41   среднее             1   \n",
       "\n",
       "      family_status  family_status_id gender income_type  debt   total_income  \\\n",
       "0   женат / замужем                 0      F   сотрудник     0  253875.639453   \n",
       "1   женат / замужем                 0      F   сотрудник     0  112080.014102   \n",
       "2   женат / замужем                 0      M   сотрудник     0  145885.952297   \n",
       "3   женат / замужем                 0      M   сотрудник     0  267628.550329   \n",
       "4  гражданский брак                 1      F   пенсионер     0  158616.077870   \n",
       "5  гражданский брак                 1      M   компаньон     0  255763.565419   \n",
       "6   женат / замужем                 0      F   компаньон     0  240525.971920   \n",
       "7   женат / замужем                 0      M   сотрудник     0  135823.934197   \n",
       "8  гражданский брак                 1      F   сотрудник     0   95856.832424   \n",
       "9   женат / замужем                 0      M   сотрудник     0  144425.938277   \n",
       "\n",
       "                      purpose  \n",
       "0               покупка жилья  \n",
       "1     приобретение автомобиля  \n",
       "2               покупка жилья  \n",
       "3  дополнительное образование  \n",
       "4             сыграть свадьбу  \n",
       "5               покупка жилья  \n",
       "6           операции с жильем  \n",
       "7                 образование  \n",
       "8       на проведение свадьбы  \n",
       "9     покупка жилья для семьи  "
      ]
     },
     "execution_count": 1,
     "metadata": {},
     "output_type": "execute_result"
    }
   ],
   "source": [
    "import pandas as pd\n",
    "from pymystem3 import Mystem\n",
    "\n",
    "data = pd.read_csv('/datasets/data.csv')\n",
    "data.head(10)\n",
    "\n"
   ]
  },
  {
   "cell_type": "markdown",
   "metadata": {},
   "source": [
    "**Вывод** :\n",
    "1. Общий трудовой стаж (**days_employed**) есть данные с отрицательными значениями. Предположительно это \"тире\". Просто перенеслось при копировании.\n",
    "2. Стаж (**days_employed**) с индексом 4 нереалистичный. 340266 дней / 365 дней = 934 полных лет. Даже для сотрудника Росгвардии на пенсии это многовато. Скорей всего не там поставлена точка. \n",
    "3. Графа образование (**education**) имеет разный регистр. Скорей всего данные вводились разными сотрудниками, без определенного шаблона ввода данных.\n",
    "**Предложение**, чтобы не было ошибок в дальнейшем разработать шаблон заполнения, и обучить сотрудников банка.\n"
   ]
  },
  {
   "cell_type": "markdown",
   "metadata": {},
   "source": [
    "###   Для корректного решения задачи было бы удобно разделить Клиентов банка на несколько категория в зависимости от кол-ва детей."
   ]
  },
  {
   "cell_type": "code",
   "execution_count": 2,
   "metadata": {},
   "outputs": [
    {
     "data": {
      "text/plain": [
       " 0     14149\n",
       " 1      4818\n",
       " 2      2055\n",
       " 3       330\n",
       " 20       76\n",
       "-1        47\n",
       " 4        41\n",
       " 5         9\n",
       "Name: children, dtype: int64"
      ]
     },
     "execution_count": 2,
     "metadata": {},
     "output_type": "execute_result"
    }
   ],
   "source": [
    "data['children'].value_counts()"
   ]
  },
  {
   "cell_type": "markdown",
   "metadata": {},
   "source": [
    "**Вывод**:\n",
    "\n",
    "Еще одна \"аномалия\" количество детей имеет отрицательное значение. Скорей всего ошибка такая же как и в п.1(см.выше) и \n",
    "76 человек имеют по 20 детей. Скорей всего это тоже ошибка и верное значение 2. В дальнейшем исправим эти ошибки."
   ]
  },
  {
   "cell_type": "markdown",
   "metadata": {},
   "source": [
    "###  Проверим какие регистры встретятся в столбце **education**"
   ]
  },
  {
   "cell_type": "code",
   "execution_count": 3,
   "metadata": {
    "scrolled": true
   },
   "outputs": [
    {
     "data": {
      "text/plain": [
       "среднее                13750\n",
       "высшее                  4718\n",
       "СРЕДНЕЕ                  772\n",
       "Среднее                  711\n",
       "неоконченное высшее      668\n",
       "ВЫСШЕЕ                   274\n",
       "Высшее                   268\n",
       "начальное                250\n",
       "Неоконченное высшее       47\n",
       "НЕОКОНЧЕННОЕ ВЫСШЕЕ       29\n",
       "НАЧАЛЬНОЕ                 17\n",
       "Начальное                 15\n",
       "ученая степень             4\n",
       "УЧЕНАЯ СТЕПЕНЬ             1\n",
       "Ученая степень             1\n",
       "Name: education, dtype: int64"
      ]
     },
     "execution_count": 3,
     "metadata": {},
     "output_type": "execute_result"
    }
   ],
   "source": [
    "data['education'].value_counts()"
   ]
  },
  {
   "cell_type": "markdown",
   "metadata": {},
   "source": [
    "**Вывод**: \n",
    "\n",
    "Среднее,неоконченное высшее, высшее, начальное, ученая степень. Все остальное нужно привести к единому регистру."
   ]
  },
  {
   "cell_type": "markdown",
   "metadata": {},
   "source": [
    "### Проверим графу **education_id**"
   ]
  },
  {
   "cell_type": "code",
   "execution_count": 4,
   "metadata": {},
   "outputs": [
    {
     "data": {
      "text/plain": [
       "array([0, 1, 2, 3, 4])"
      ]
     },
     "execution_count": 4,
     "metadata": {},
     "output_type": "execute_result"
    }
   ],
   "source": [
    "data['education_id'].unique()"
   ]
  },
  {
   "cell_type": "markdown",
   "metadata": {},
   "source": [
    "**Вывод**: \n",
    "\n",
    "Замечаний не выявленно."
   ]
  },
  {
   "cell_type": "markdown",
   "metadata": {},
   "source": [
    "### Проверим столбец **family_status**"
   ]
  },
  {
   "cell_type": "code",
   "execution_count": 5,
   "metadata": {},
   "outputs": [
    {
     "data": {
      "text/plain": [
       "array(['женат / замужем', 'гражданский брак', 'вдовец / вдова',\n",
       "       'в разводе', 'Не женат / не замужем'], dtype=object)"
      ]
     },
     "execution_count": 5,
     "metadata": {},
     "output_type": "execute_result"
    }
   ],
   "source": [
    "data['family_status'].unique()"
   ]
  },
  {
   "cell_type": "markdown",
   "metadata": {},
   "source": [
    "**Вывод**:\n",
    "\n",
    "Замечаний не выявленно."
   ]
  },
  {
   "cell_type": "markdown",
   "metadata": {},
   "source": [
    "### Проверим столбец **family_status_id**"
   ]
  },
  {
   "cell_type": "code",
   "execution_count": 6,
   "metadata": {},
   "outputs": [
    {
     "data": {
      "text/plain": [
       "array([0, 1, 2, 3, 4])"
      ]
     },
     "execution_count": 6,
     "metadata": {},
     "output_type": "execute_result"
    }
   ],
   "source": [
    "data['family_status_id'].unique()"
   ]
  },
  {
   "cell_type": "markdown",
   "metadata": {},
   "source": [
    "**Вывод**: \n",
    "\n",
    "Замечаний не выявленно."
   ]
  },
  {
   "cell_type": "markdown",
   "metadata": {},
   "source": [
    "### Проверим столбец **gender**"
   ]
  },
  {
   "cell_type": "code",
   "execution_count": 7,
   "metadata": {},
   "outputs": [
    {
     "data": {
      "text/plain": [
       "F      14236\n",
       "M       7288\n",
       "XNA        1\n",
       "Name: gender, dtype: int64"
      ]
     },
     "execution_count": 7,
     "metadata": {},
     "output_type": "execute_result"
    }
   ],
   "source": [
    "data['gender'].value_counts()"
   ]
  },
  {
   "cell_type": "markdown",
   "metadata": {},
   "source": [
    "**Вывод**:\n",
    "\n",
    "Присутствует единичный  случай ошибки. Гендер XNA встречается один раз.  Есть смысл удалить из выборки это не должно повлиять на результат. "
   ]
  },
  {
   "cell_type": "markdown",
   "metadata": {},
   "source": [
    "### Проверим столбец **purpose**"
   ]
  },
  {
   "cell_type": "code",
   "execution_count": 8,
   "metadata": {},
   "outputs": [
    {
     "data": {
      "text/plain": [
       "array(['покупка жилья', 'приобретение автомобиля',\n",
       "       'дополнительное образование', 'сыграть свадьбу',\n",
       "       'операции с жильем', 'образование', 'на проведение свадьбы',\n",
       "       'покупка жилья для семьи', 'покупка недвижимости',\n",
       "       'покупка коммерческой недвижимости', 'покупка жилой недвижимости',\n",
       "       'строительство собственной недвижимости', 'недвижимость',\n",
       "       'строительство недвижимости', 'на покупку подержанного автомобиля',\n",
       "       'на покупку своего автомобиля',\n",
       "       'операции с коммерческой недвижимостью',\n",
       "       'строительство жилой недвижимости', 'жилье',\n",
       "       'операции со своей недвижимостью', 'автомобили',\n",
       "       'заняться образованием', 'сделка с подержанным автомобилем',\n",
       "       'получение образования', 'автомобиль', 'свадьба',\n",
       "       'получение дополнительного образования', 'покупка своего жилья',\n",
       "       'операции с недвижимостью', 'получение высшего образования',\n",
       "       'свой автомобиль', 'сделка с автомобилем',\n",
       "       'профильное образование', 'высшее образование',\n",
       "       'покупка жилья для сдачи', 'на покупку автомобиля', 'ремонт жилью',\n",
       "       'заняться высшим образованием'], dtype=object)"
      ]
     },
     "execution_count": 8,
     "metadata": {},
     "output_type": "execute_result"
    }
   ],
   "source": [
    "data['purpose'].unique()"
   ]
  },
  {
   "cell_type": "markdown",
   "metadata": {},
   "source": [
    "**Вывод**:\n",
    "\n",
    "Видно, что часть целей для получения кредита схожи. Необходимо провести лемматизацию."
   ]
  },
  {
   "cell_type": "markdown",
   "metadata": {},
   "source": [
    "Проверим значения в столбце **dob_years**"
   ]
  },
  {
   "cell_type": "code",
   "execution_count": 9,
   "metadata": {},
   "outputs": [
    {
     "data": {
      "text/plain": [
       "array([42, 36, 33, 32, 53, 27, 43, 50, 35, 41, 40, 65, 54, 56, 26, 48, 24,\n",
       "       21, 57, 67, 28, 63, 62, 47, 34, 68, 25, 31, 30, 20, 49, 37, 45, 61,\n",
       "       64, 44, 52, 46, 23, 38, 39, 51,  0, 59, 29, 60, 55, 58, 71, 22, 73,\n",
       "       66, 69, 19, 72, 70, 74, 75])"
      ]
     },
     "execution_count": 9,
     "metadata": {},
     "output_type": "execute_result"
    }
   ],
   "source": [
    "data['dob_years'].unique()"
   ]
  },
  {
   "cell_type": "markdown",
   "metadata": {},
   "source": [
    "**Вывод:**\n",
    "\n",
    "Присутствуют 'нулевые' значения . Предлагаю заменить на медианные значения.\n",
    "    "
   ]
  },
  {
   "cell_type": "markdown",
   "metadata": {},
   "source": [
    "## Шаг 2. Предобработка данных"
   ]
  },
  {
   "cell_type": "markdown",
   "metadata": {},
   "source": [
    "### Обработка пропусков"
   ]
  },
  {
   "cell_type": "code",
   "execution_count": 10,
   "metadata": {},
   "outputs": [
    {
     "name": "stdout",
     "output_type": "stream",
     "text": [
      "<class 'pandas.core.frame.DataFrame'>\n",
      "RangeIndex: 21525 entries, 0 to 21524\n",
      "Data columns (total 12 columns):\n",
      " #   Column            Non-Null Count  Dtype  \n",
      "---  ------            --------------  -----  \n",
      " 0   children          21525 non-null  int64  \n",
      " 1   days_employed     19351 non-null  float64\n",
      " 2   dob_years         21525 non-null  int64  \n",
      " 3   education         21525 non-null  object \n",
      " 4   education_id      21525 non-null  int64  \n",
      " 5   family_status     21525 non-null  object \n",
      " 6   family_status_id  21525 non-null  int64  \n",
      " 7   gender            21525 non-null  object \n",
      " 8   income_type       21525 non-null  object \n",
      " 9   debt              21525 non-null  int64  \n",
      " 10  total_income      19351 non-null  float64\n",
      " 11  purpose           21525 non-null  object \n",
      "dtypes: float64(2), int64(5), object(5)\n",
      "memory usage: 2.0+ MB\n"
     ]
    }
   ],
   "source": [
    "data.info()"
   ]
  },
  {
   "cell_type": "markdown",
   "metadata": {},
   "source": [
    "**Вывод**:\n",
    "\n",
    "Значения отсутствуют только в столбцах days_employed и total_income. Количество пропусков в этих столбцах одинаково. Можно предположить, что пропуски здесь не случайные. Отсутствуют данные по трудовому стажу и ежемесячному доходу. Т.е. почти 10% данных в этих столбцах отсутствуют. Предлагаю уточнить у коллег, почему тут пропущены данные. Уверен это какие то технические неполадки. Но т.к. в рамках данной задачи это осуществить невозможно. Трудовой стаж (days_employed) трогать не будем. Займемся графой total_income."
   ]
  },
  {
   "cell_type": "code",
   "execution_count": 11,
   "metadata": {},
   "outputs": [
    {
     "name": "stdout",
     "output_type": "stream",
     "text": [
      "children            2174\n",
      "days_employed          0\n",
      "dob_years           2174\n",
      "education           2174\n",
      "education_id        2174\n",
      "family_status       2174\n",
      "family_status_id    2174\n",
      "gender              2174\n",
      "income_type         2174\n",
      "debt                2174\n",
      "total_income           0\n",
      "purpose             2174\n",
      "dtype: int64\n"
     ]
    }
   ],
   "source": [
    "print (data[data['days_employed'].isna()].count())"
   ]
  },
  {
   "cell_type": "code",
   "execution_count": 12,
   "metadata": {},
   "outputs": [
    {
     "name": "stdout",
     "output_type": "stream",
     "text": [
      "Распределение типов занятости при пропущенных значениях:\n"
     ]
    },
    {
     "data": {
      "text/plain": [
       "сотрудник          1105\n",
       "компаньон           508\n",
       "пенсионер           413\n",
       "госслужащий         147\n",
       "предприниматель       1\n",
       "Name: income_type, dtype: int64"
      ]
     },
     "metadata": {},
     "output_type": "display_data"
    },
    {
     "name": "stdout",
     "output_type": "stream",
     "text": [
      "Распределение типов занятости без пропусков:\n"
     ]
    },
    {
     "data": {
      "text/plain": [
       "сотрудник          10014\n",
       "компаньон           4577\n",
       "пенсионер           3443\n",
       "госслужащий         1312\n",
       "безработный            2\n",
       "в декрете              1\n",
       "студент                1\n",
       "предприниматель        1\n",
       "Name: income_type, dtype: int64"
      ]
     },
     "metadata": {},
     "output_type": "display_data"
    }
   ],
   "source": [
    "print('Распределение типов занятости при пропущенных значениях:')\n",
    "display(data[data.total_income.isna()]['income_type'].value_counts())\n",
    "\n",
    "print('Распределение типов занятости без пропусков:')\n",
    "display(data[~data.total_income.isna()]['income_type'].value_counts())"
   ]
  },
  {
   "cell_type": "code",
   "execution_count": 33,
   "metadata": {},
   "outputs": [
    {
     "name": "stdout",
     "output_type": "stream",
     "text": [
      "Нормированное распределение типов занятости при пропущенных значениях:\n"
     ]
    },
    {
     "data": {
      "text/plain": [
       "Series([], Name: income_type, dtype: float64)"
      ]
     },
     "metadata": {},
     "output_type": "display_data"
    },
    {
     "name": "stdout",
     "output_type": "stream",
     "text": [
      "Нормированное распределение типов занятости без пропусков:\n"
     ]
    },
    {
     "data": {
      "text/plain": [
       "сотрудник          0.516586\n",
       "компаньон          0.236201\n",
       "пенсионер          0.179149\n",
       "госслужащий        0.067785\n",
       "безработный        0.000093\n",
       "предприниматель    0.000093\n",
       "в декрете          0.000046\n",
       "студент            0.000046\n",
       "Name: income_type, dtype: float64"
      ]
     },
     "metadata": {},
     "output_type": "display_data"
    }
   ],
   "source": [
    "print('Нормированное распределение типов занятости при пропущенных значениях:')\n",
    "display(data[data.total_income.isna()]['income_type'].value_counts(normalize=True))\n",
    "\n",
    "print('Нормированное распределение типов занятости без пропусков:')\n",
    "display(data[~data.total_income.isna()]['income_type'].value_counts(normalize=True))"
   ]
  },
  {
   "cell_type": "code",
   "execution_count": 35,
   "metadata": {},
   "outputs": [
    {
     "name": "stdout",
     "output_type": "stream",
     "text": [
      "<class 'pandas.core.frame.DataFrame'>\n",
      "Int64Index: 2174 entries, 12 to 21510\n",
      "Data columns (total 16 columns):\n",
      " #   Column              Non-Null Count  Dtype  \n",
      "---  ------              --------------  -----  \n",
      " 0   children            2174 non-null   int64  \n",
      " 1   days_employed       0 non-null      float64\n",
      " 2   dob_years           2174 non-null   int64  \n",
      " 3   education           2174 non-null   object \n",
      " 4   education_id        2174 non-null   int64  \n",
      " 5   family_status       2174 non-null   object \n",
      " 6   family_status_id    2174 non-null   int64  \n",
      " 7   gender              2174 non-null   object \n",
      " 8   income_type         2174 non-null   object \n",
      " 9   debt                2174 non-null   int64  \n",
      " 10  total_income        2174 non-null   int64  \n",
      " 11  purpose             2174 non-null   object \n",
      " 12  sort_age            2174 non-null   object \n",
      " 13  lemma_purpose       2174 non-null   object \n",
      " 14  children_group      2174 non-null   object \n",
      " 15  total_income_group  2174 non-null   object \n",
      "dtypes: float64(1), int64(6), object(9)\n",
      "memory usage: 288.7+ KB\n"
     ]
    },
    {
     "data": {
      "text/plain": [
       "None"
      ]
     },
     "metadata": {},
     "output_type": "display_data"
    }
   ],
   "source": [
    "display (data[data['days_employed'].isna()].info()) \n"
   ]
  },
  {
   "cell_type": "markdown",
   "metadata": {},
   "source": [
    "### Замена типа данных"
   ]
  },
  {
   "cell_type": "markdown",
   "metadata": {},
   "source": [
    "В столбце **total_income** округлим до целых значений. Заменим пробелы в этой графе на медианное значение в разрезе возраста. Где люди до 35 лет - \"молодежь\", 35-55 лет \"средний \" возраст. 55 и выше -\"пенсионный\"."
   ]
  },
  {
   "cell_type": "code",
   "execution_count": 34,
   "metadata": {},
   "outputs": [
    {
     "data": {
      "text/html": [
       "<div>\n",
       "<style scoped>\n",
       "    .dataframe tbody tr th:only-of-type {\n",
       "        vertical-align: middle;\n",
       "    }\n",
       "\n",
       "    .dataframe tbody tr th {\n",
       "        vertical-align: top;\n",
       "    }\n",
       "\n",
       "    .dataframe thead th {\n",
       "        text-align: right;\n",
       "    }\n",
       "</style>\n",
       "<table border=\"1\" class=\"dataframe\">\n",
       "  <thead>\n",
       "    <tr style=\"text-align: right;\">\n",
       "      <th></th>\n",
       "      <th>children</th>\n",
       "      <th>days_employed</th>\n",
       "      <th>dob_years</th>\n",
       "      <th>education</th>\n",
       "      <th>education_id</th>\n",
       "      <th>family_status</th>\n",
       "      <th>family_status_id</th>\n",
       "      <th>gender</th>\n",
       "      <th>income_type</th>\n",
       "      <th>debt</th>\n",
       "      <th>total_income</th>\n",
       "      <th>purpose</th>\n",
       "      <th>sort_age</th>\n",
       "      <th>lemma_purpose</th>\n",
       "      <th>children_group</th>\n",
       "      <th>total_income_group</th>\n",
       "    </tr>\n",
       "  </thead>\n",
       "  <tbody>\n",
       "    <tr>\n",
       "      <th>10762</th>\n",
       "      <td>2</td>\n",
       "      <td>NaN</td>\n",
       "      <td>31</td>\n",
       "      <td>среднее</td>\n",
       "      <td>1</td>\n",
       "      <td>женат / замужем</td>\n",
       "      <td>0</td>\n",
       "      <td>F</td>\n",
       "      <td>сотрудник</td>\n",
       "      <td>0</td>\n",
       "      <td>147055</td>\n",
       "      <td>на покупку подержанного автомобиля</td>\n",
       "      <td>молодежь</td>\n",
       "      <td>автомобиль</td>\n",
       "      <td>есть дети</td>\n",
       "      <td>до двести тысяч</td>\n",
       "    </tr>\n",
       "    <tr>\n",
       "      <th>11753</th>\n",
       "      <td>0</td>\n",
       "      <td>-316.061820</td>\n",
       "      <td>24</td>\n",
       "      <td>среднее</td>\n",
       "      <td>1</td>\n",
       "      <td>Не женат / не замужем</td>\n",
       "      <td>4</td>\n",
       "      <td>M</td>\n",
       "      <td>сотрудник</td>\n",
       "      <td>0</td>\n",
       "      <td>138426</td>\n",
       "      <td>образование</td>\n",
       "      <td>молодежь</td>\n",
       "      <td>образование</td>\n",
       "      <td>бездетные</td>\n",
       "      <td>до двести тысяч</td>\n",
       "    </tr>\n",
       "    <tr>\n",
       "      <th>5745</th>\n",
       "      <td>1</td>\n",
       "      <td>-4937.699003</td>\n",
       "      <td>31</td>\n",
       "      <td>среднее</td>\n",
       "      <td>1</td>\n",
       "      <td>вдовец / вдова</td>\n",
       "      <td>2</td>\n",
       "      <td>F</td>\n",
       "      <td>сотрудник</td>\n",
       "      <td>0</td>\n",
       "      <td>103905</td>\n",
       "      <td>заняться образованием</td>\n",
       "      <td>молодежь</td>\n",
       "      <td>образование</td>\n",
       "      <td>есть дети</td>\n",
       "      <td>до двести тысяч</td>\n",
       "    </tr>\n",
       "    <tr>\n",
       "      <th>17071</th>\n",
       "      <td>1</td>\n",
       "      <td>-180.566873</td>\n",
       "      <td>34</td>\n",
       "      <td>среднее</td>\n",
       "      <td>1</td>\n",
       "      <td>женат / замужем</td>\n",
       "      <td>0</td>\n",
       "      <td>F</td>\n",
       "      <td>компаньон</td>\n",
       "      <td>0</td>\n",
       "      <td>93782</td>\n",
       "      <td>сделка с автомобилем</td>\n",
       "      <td>молодежь</td>\n",
       "      <td>автомобиль</td>\n",
       "      <td>есть дети</td>\n",
       "      <td>до ста тысяч</td>\n",
       "    </tr>\n",
       "    <tr>\n",
       "      <th>5742</th>\n",
       "      <td>2</td>\n",
       "      <td>-2299.426029</td>\n",
       "      <td>31</td>\n",
       "      <td>высшее</td>\n",
       "      <td>0</td>\n",
       "      <td>женат / замужем</td>\n",
       "      <td>0</td>\n",
       "      <td>F</td>\n",
       "      <td>госслужащий</td>\n",
       "      <td>0</td>\n",
       "      <td>217618</td>\n",
       "      <td>на покупку подержанного автомобиля</td>\n",
       "      <td>молодежь</td>\n",
       "      <td>автомобиль</td>\n",
       "      <td>есть дети</td>\n",
       "      <td>до триста тысяч</td>\n",
       "    </tr>\n",
       "    <tr>\n",
       "      <th>...</th>\n",
       "      <td>...</td>\n",
       "      <td>...</td>\n",
       "      <td>...</td>\n",
       "      <td>...</td>\n",
       "      <td>...</td>\n",
       "      <td>...</td>\n",
       "      <td>...</td>\n",
       "      <td>...</td>\n",
       "      <td>...</td>\n",
       "      <td>...</td>\n",
       "      <td>...</td>\n",
       "      <td>...</td>\n",
       "      <td>...</td>\n",
       "      <td>...</td>\n",
       "      <td>...</td>\n",
       "      <td>...</td>\n",
       "    </tr>\n",
       "    <tr>\n",
       "      <th>10378</th>\n",
       "      <td>0</td>\n",
       "      <td>-1534.371510</td>\n",
       "      <td>48</td>\n",
       "      <td>высшее</td>\n",
       "      <td>0</td>\n",
       "      <td>женат / замужем</td>\n",
       "      <td>0</td>\n",
       "      <td>F</td>\n",
       "      <td>сотрудник</td>\n",
       "      <td>0</td>\n",
       "      <td>156332</td>\n",
       "      <td>строительство недвижимости</td>\n",
       "      <td>средний</td>\n",
       "      <td>недвижимость</td>\n",
       "      <td>бездетные</td>\n",
       "      <td>до двести тысяч</td>\n",
       "    </tr>\n",
       "    <tr>\n",
       "      <th>10380</th>\n",
       "      <td>0</td>\n",
       "      <td>-1568.552914</td>\n",
       "      <td>41</td>\n",
       "      <td>среднее</td>\n",
       "      <td>1</td>\n",
       "      <td>женат / замужем</td>\n",
       "      <td>0</td>\n",
       "      <td>F</td>\n",
       "      <td>сотрудник</td>\n",
       "      <td>0</td>\n",
       "      <td>80813</td>\n",
       "      <td>покупка жилья для сдачи</td>\n",
       "      <td>средний</td>\n",
       "      <td>недвижимость</td>\n",
       "      <td>бездетные</td>\n",
       "      <td>до ста тысяч</td>\n",
       "    </tr>\n",
       "    <tr>\n",
       "      <th>10381</th>\n",
       "      <td>0</td>\n",
       "      <td>-1800.781254</td>\n",
       "      <td>44</td>\n",
       "      <td>высшее</td>\n",
       "      <td>0</td>\n",
       "      <td>женат / замужем</td>\n",
       "      <td>0</td>\n",
       "      <td>F</td>\n",
       "      <td>компаньон</td>\n",
       "      <td>0</td>\n",
       "      <td>181221</td>\n",
       "      <td>на покупку подержанного автомобиля</td>\n",
       "      <td>средний</td>\n",
       "      <td>автомобиль</td>\n",
       "      <td>бездетные</td>\n",
       "      <td>до двести тысяч</td>\n",
       "    </tr>\n",
       "    <tr>\n",
       "      <th>10359</th>\n",
       "      <td>0</td>\n",
       "      <td>-1146.291085</td>\n",
       "      <td>37</td>\n",
       "      <td>среднее</td>\n",
       "      <td>1</td>\n",
       "      <td>Не женат / не замужем</td>\n",
       "      <td>4</td>\n",
       "      <td>F</td>\n",
       "      <td>сотрудник</td>\n",
       "      <td>0</td>\n",
       "      <td>233800</td>\n",
       "      <td>ремонт жилью</td>\n",
       "      <td>средний</td>\n",
       "      <td>недвижимость</td>\n",
       "      <td>бездетные</td>\n",
       "      <td>до триста тысяч</td>\n",
       "    </tr>\n",
       "    <tr>\n",
       "      <th>21524</th>\n",
       "      <td>2</td>\n",
       "      <td>-1984.507589</td>\n",
       "      <td>40</td>\n",
       "      <td>среднее</td>\n",
       "      <td>1</td>\n",
       "      <td>женат / замужем</td>\n",
       "      <td>0</td>\n",
       "      <td>F</td>\n",
       "      <td>сотрудник</td>\n",
       "      <td>0</td>\n",
       "      <td>82047</td>\n",
       "      <td>на покупку автомобиля</td>\n",
       "      <td>средний</td>\n",
       "      <td>автомобиль</td>\n",
       "      <td>есть дети</td>\n",
       "      <td>до ста тысяч</td>\n",
       "    </tr>\n",
       "  </tbody>\n",
       "</table>\n",
       "<p>21524 rows × 16 columns</p>\n",
       "</div>"
      ],
      "text/plain": [
       "       children  days_employed  dob_years education  education_id  \\\n",
       "10762         2            NaN         31   среднее             1   \n",
       "11753         0    -316.061820         24   среднее             1   \n",
       "5745          1   -4937.699003         31   среднее             1   \n",
       "17071         1    -180.566873         34   среднее             1   \n",
       "5742          2   -2299.426029         31    высшее             0   \n",
       "...         ...            ...        ...       ...           ...   \n",
       "10378         0   -1534.371510         48    высшее             0   \n",
       "10380         0   -1568.552914         41   среднее             1   \n",
       "10381         0   -1800.781254         44    высшее             0   \n",
       "10359         0   -1146.291085         37   среднее             1   \n",
       "21524         2   -1984.507589         40   среднее             1   \n",
       "\n",
       "               family_status  family_status_id gender  income_type  debt  \\\n",
       "10762        женат / замужем                 0      F    сотрудник     0   \n",
       "11753  Не женат / не замужем                 4      M    сотрудник     0   \n",
       "5745          вдовец / вдова                 2      F    сотрудник     0   \n",
       "17071        женат / замужем                 0      F    компаньон     0   \n",
       "5742         женат / замужем                 0      F  госслужащий     0   \n",
       "...                      ...               ...    ...          ...   ...   \n",
       "10378        женат / замужем                 0      F    сотрудник     0   \n",
       "10380        женат / замужем                 0      F    сотрудник     0   \n",
       "10381        женат / замужем                 0      F    компаньон     0   \n",
       "10359  Не женат / не замужем                 4      F    сотрудник     0   \n",
       "21524        женат / замужем                 0      F    сотрудник     0   \n",
       "\n",
       "       total_income                             purpose  sort_age  \\\n",
       "10762        147055  на покупку подержанного автомобиля  молодежь   \n",
       "11753        138426                         образование  молодежь   \n",
       "5745         103905               заняться образованием  молодежь   \n",
       "17071         93782                сделка с автомобилем  молодежь   \n",
       "5742         217618  на покупку подержанного автомобиля  молодежь   \n",
       "...             ...                                 ...       ...   \n",
       "10378        156332          строительство недвижимости   средний   \n",
       "10380         80813             покупка жилья для сдачи   средний   \n",
       "10381        181221  на покупку подержанного автомобиля   средний   \n",
       "10359        233800                        ремонт жилью   средний   \n",
       "21524         82047               на покупку автомобиля   средний   \n",
       "\n",
       "      lemma_purpose children_group total_income_group  \n",
       "10762    автомобиль      есть дети    до двести тысяч  \n",
       "11753   образование      бездетные    до двести тысяч  \n",
       "5745    образование      есть дети    до двести тысяч  \n",
       "17071    автомобиль      есть дети       до ста тысяч  \n",
       "5742     автомобиль      есть дети    до триста тысяч  \n",
       "...             ...            ...                ...  \n",
       "10378  недвижимость      бездетные    до двести тысяч  \n",
       "10380  недвижимость      бездетные       до ста тысяч  \n",
       "10381    автомобиль      бездетные    до двести тысяч  \n",
       "10359  недвижимость      бездетные    до триста тысяч  \n",
       "21524    автомобиль      есть дети       до ста тысяч  \n",
       "\n",
       "[21524 rows x 16 columns]"
      ]
     },
     "metadata": {},
     "output_type": "display_data"
    },
    {
     "name": "stdout",
     "output_type": "stream",
     "text": [
      "<class 'pandas.core.frame.DataFrame'>\n",
      "Int64Index: 21524 entries, 0 to 21524\n",
      "Data columns (total 16 columns):\n",
      " #   Column              Non-Null Count  Dtype  \n",
      "---  ------              --------------  -----  \n",
      " 0   children            21524 non-null  int64  \n",
      " 1   days_employed       19350 non-null  float64\n",
      " 2   dob_years           21524 non-null  int64  \n",
      " 3   education           21524 non-null  object \n",
      " 4   education_id        21524 non-null  int64  \n",
      " 5   family_status       21524 non-null  object \n",
      " 6   family_status_id    21524 non-null  int64  \n",
      " 7   gender              21524 non-null  object \n",
      " 8   income_type         21524 non-null  object \n",
      " 9   debt                21524 non-null  int64  \n",
      " 10  total_income        21524 non-null  int64  \n",
      " 11  purpose             21524 non-null  object \n",
      " 12  sort_age            21524 non-null  object \n",
      " 13  lemma_purpose       21524 non-null  object \n",
      " 14  children_group      21524 non-null  object \n",
      " 15  total_income_group  21524 non-null  object \n",
      "dtypes: float64(1), int64(6), object(9)\n",
      "memory usage: 2.8+ MB\n"
     ]
    }
   ],
   "source": [
    "\n",
    "def age_group(age):  # создаем функция для определения возрастной группы.\n",
    "    if age <= 35:\n",
    "        return 'молодежь'\n",
    "    if age <= 50 :\n",
    "        return 'средний'\n",
    "    return 'пенсионный'\n",
    " \n",
    "data['sort_age'] = data['dob_years'].apply(age_group) #создаем столбец sort_age и приминяем ф-ция age_group\n",
    "#print(data.head())\n",
    "\n",
    "data['total_income'] = data['total_income'].fillna(data.groupby('sort_age')['total_income'].transform('median'))\n",
    " \n",
    "data['total_income']=data['total_income'].astype('int64') #округлили до целых значений.\n",
    "\n",
    "display(data.sort_values(by = 'sort_age'))\n",
    "data.info()\n"
   ]
  },
  {
   "cell_type": "markdown",
   "metadata": {},
   "source": [
    "**Вывод**: Пустые значения в столбце заполнили. значения сделали целыми"
   ]
  },
  {
   "cell_type": "markdown",
   "metadata": {},
   "source": []
  },
  {
   "cell_type": "markdown",
   "metadata": {},
   "source": [
    "### Обработка дубликатов"
   ]
  },
  {
   "cell_type": "markdown",
   "metadata": {},
   "source": [
    "Разберемся со столбцом **education** . Приведем все к одному виду."
   ]
  },
  {
   "cell_type": "code",
   "execution_count": 16,
   "metadata": {},
   "outputs": [
    {
     "data": {
      "text/plain": [
       "21510"
      ]
     },
     "execution_count": 16,
     "metadata": {},
     "output_type": "execute_result"
    }
   ],
   "source": [
    "data.duplicated('education').sum() #считаем кол-во дубликатов в столбце\n"
   ]
  },
  {
   "cell_type": "code",
   "execution_count": 17,
   "metadata": {},
   "outputs": [
    {
     "data": {
      "text/plain": [
       "среднее                13750\n",
       "высшее                  4718\n",
       "СРЕДНЕЕ                  772\n",
       "Среднее                  711\n",
       "неоконченное высшее      668\n",
       "ВЫСШЕЕ                   274\n",
       "Высшее                   268\n",
       "начальное                250\n",
       "Неоконченное высшее       47\n",
       "НЕОКОНЧЕННОЕ ВЫСШЕЕ       29\n",
       "НАЧАЛЬНОЕ                 17\n",
       "Начальное                 15\n",
       "ученая степень             4\n",
       "УЧЕНАЯ СТЕПЕНЬ             1\n",
       "Ученая степень             1\n",
       "Name: education, dtype: int64"
      ]
     },
     "execution_count": 17,
     "metadata": {},
     "output_type": "execute_result"
    }
   ],
   "source": [
    "data['education'].value_counts()#смотрим какие значение присутствуют"
   ]
  },
  {
   "cell_type": "code",
   "execution_count": 18,
   "metadata": {},
   "outputs": [
    {
     "data": {
      "text/plain": [
       "среднее                15233\n",
       "высшее                  5260\n",
       "неоконченное высшее      744\n",
       "начальное                282\n",
       "ученая степень             6\n",
       "Name: education, dtype: int64"
      ]
     },
     "execution_count": 18,
     "metadata": {},
     "output_type": "execute_result"
    }
   ],
   "source": [
    "data['education']= data['education'].str.lower() #приводим все к одному регистру. \n",
    "data['education'].value_counts()"
   ]
  },
  {
   "cell_type": "markdown",
   "metadata": {},
   "source": [
    "**Вывод**: \n",
    "\n",
    "Все значения привели к нижнему регистру. "
   ]
  },
  {
   "cell_type": "markdown",
   "metadata": {},
   "source": []
  },
  {
   "cell_type": "markdown",
   "metadata": {},
   "source": [
    "### Исключим из стобца gender значение с XNA"
   ]
  },
  {
   "cell_type": "code",
   "execution_count": 19,
   "metadata": {},
   "outputs": [],
   "source": [
    "data = data[data['gender']!='XNA']"
   ]
  },
  {
   "cell_type": "code",
   "execution_count": 20,
   "metadata": {},
   "outputs": [
    {
     "data": {
      "text/plain": [
       "F    14236\n",
       "M     7288\n",
       "Name: gender, dtype: int64"
      ]
     },
     "execution_count": 20,
     "metadata": {},
     "output_type": "execute_result"
    }
   ],
   "source": [
    "data['gender'].value_counts()"
   ]
  },
  {
   "cell_type": "markdown",
   "metadata": {},
   "source": [
    "**Вывод**: \n",
    "        \n",
    "Строка удалена из выборки."
   ]
  },
  {
   "cell_type": "markdown",
   "metadata": {},
   "source": [
    "### Лемматизация"
   ]
  },
  {
   "cell_type": "raw",
   "metadata": {},
   "source": [
    "Посмотрим как мы можем оптимизировать столбец **purpose**. На какикие цели люди берут деньги. Используем метод лемматизации и посмотрим какие самые популярные цели взятия кредита."
   ]
  },
  {
   "cell_type": "code",
   "execution_count": 21,
   "metadata": {},
   "outputs": [
    {
     "name": "stdout",
     "output_type": "stream",
     "text": [
      "Counter({'автомобиль': 2, 'покупка жилье': 1, 'приобретение автомобиль': 1, 'дополнительный образование': 1, 'сыграть свадьба': 1, 'операция с жилье': 1, 'образование': 1, 'на проведение свадьба': 1, 'покупка жилье для семья': 1, 'покупка недвижимость': 1, 'покупка коммерческий недвижимость': 1, 'покупка жилой недвижимость': 1, 'строительство собственный недвижимость': 1, 'недвижимость': 1, 'строительство недвижимость': 1, 'на покупка подержать автомобиль': 1, 'на покупка свой автомобиль': 1, 'операция с коммерческий недвижимость': 1, 'строительство жилой недвижимость': 1, 'жилье': 1, 'операция со свой недвижимость': 1, 'заниматься образование': 1, 'сделка с подержанный автомобиль': 1, 'получение образование': 1, 'свадьба': 1, 'получение дополнительный образование': 1, 'покупка свой жилье': 1, 'операция с недвижимость': 1, 'получение высокий образование': 1, 'свой автомобиль': 1, 'сделка с автомобиль': 1, 'профильный образование': 1, 'высокий образование': 1, 'покупка жилье для сдача': 1, 'на покупка автомобиль': 1, 'ремонт жилье': 1, 'заниматься высокий образование': 1})\n"
     ]
    }
   ],
   "source": [
    "unique_purpose = data['purpose'].unique() #посмотрим унмкальные слова в столбце\n",
    "#print(purpose_list)\n",
    "m = Mystem()\n",
    "from collections import Counter\n",
    "lemmas_list = [] # создаем пустой список\n",
    "m = Mystem()\n",
    "for purpose in unique_purpose:\n",
    "    lemmas = ''.join(m.lemmatize(purpose)).strip()\n",
    "    lemmas_list.append(lemmas)\n",
    "print(Counter(lemmas_list))"
   ]
  },
  {
   "cell_type": "markdown",
   "metadata": {},
   "source": []
  },
  {
   "cell_type": "markdown",
   "metadata": {},
   "source": [
    "Создадим несколько групп на какие цели берут кредит. Как видно это : 'автомобиль','образование','свадьба','жилье' и 'другое'"
   ]
  },
  {
   "cell_type": "code",
   "execution_count": 36,
   "metadata": {},
   "outputs": [
    {
     "data": {
      "text/html": [
       "<div>\n",
       "<style scoped>\n",
       "    .dataframe tbody tr th:only-of-type {\n",
       "        vertical-align: middle;\n",
       "    }\n",
       "\n",
       "    .dataframe tbody tr th {\n",
       "        vertical-align: top;\n",
       "    }\n",
       "\n",
       "    .dataframe thead th {\n",
       "        text-align: right;\n",
       "    }\n",
       "</style>\n",
       "<table border=\"1\" class=\"dataframe\">\n",
       "  <thead>\n",
       "    <tr style=\"text-align: right;\">\n",
       "      <th></th>\n",
       "      <th>children</th>\n",
       "      <th>days_employed</th>\n",
       "      <th>dob_years</th>\n",
       "      <th>education</th>\n",
       "      <th>education_id</th>\n",
       "      <th>family_status</th>\n",
       "      <th>family_status_id</th>\n",
       "      <th>gender</th>\n",
       "      <th>income_type</th>\n",
       "      <th>debt</th>\n",
       "      <th>total_income</th>\n",
       "      <th>purpose</th>\n",
       "      <th>sort_age</th>\n",
       "      <th>lemma_purpose</th>\n",
       "      <th>children_group</th>\n",
       "      <th>total_income_group</th>\n",
       "    </tr>\n",
       "  </thead>\n",
       "  <tbody>\n",
       "    <tr>\n",
       "      <th>0</th>\n",
       "      <td>1</td>\n",
       "      <td>-8437.673028</td>\n",
       "      <td>42</td>\n",
       "      <td>высшее</td>\n",
       "      <td>0</td>\n",
       "      <td>женат / замужем</td>\n",
       "      <td>0</td>\n",
       "      <td>F</td>\n",
       "      <td>сотрудник</td>\n",
       "      <td>0</td>\n",
       "      <td>253875</td>\n",
       "      <td>покупка жилья</td>\n",
       "      <td>средний</td>\n",
       "      <td>недвижимость</td>\n",
       "      <td>есть дети</td>\n",
       "      <td>до триста тысяч</td>\n",
       "    </tr>\n",
       "    <tr>\n",
       "      <th>1</th>\n",
       "      <td>1</td>\n",
       "      <td>-4024.803754</td>\n",
       "      <td>36</td>\n",
       "      <td>среднее</td>\n",
       "      <td>1</td>\n",
       "      <td>женат / замужем</td>\n",
       "      <td>0</td>\n",
       "      <td>F</td>\n",
       "      <td>сотрудник</td>\n",
       "      <td>0</td>\n",
       "      <td>112080</td>\n",
       "      <td>приобретение автомобиля</td>\n",
       "      <td>средний</td>\n",
       "      <td>автомобиль</td>\n",
       "      <td>есть дети</td>\n",
       "      <td>до двести тысяч</td>\n",
       "    </tr>\n",
       "    <tr>\n",
       "      <th>2</th>\n",
       "      <td>0</td>\n",
       "      <td>-5623.422610</td>\n",
       "      <td>33</td>\n",
       "      <td>среднее</td>\n",
       "      <td>1</td>\n",
       "      <td>женат / замужем</td>\n",
       "      <td>0</td>\n",
       "      <td>M</td>\n",
       "      <td>сотрудник</td>\n",
       "      <td>0</td>\n",
       "      <td>145885</td>\n",
       "      <td>покупка жилья</td>\n",
       "      <td>молодежь</td>\n",
       "      <td>недвижимость</td>\n",
       "      <td>бездетные</td>\n",
       "      <td>до двести тысяч</td>\n",
       "    </tr>\n",
       "    <tr>\n",
       "      <th>3</th>\n",
       "      <td>3</td>\n",
       "      <td>-4124.747207</td>\n",
       "      <td>32</td>\n",
       "      <td>среднее</td>\n",
       "      <td>1</td>\n",
       "      <td>женат / замужем</td>\n",
       "      <td>0</td>\n",
       "      <td>M</td>\n",
       "      <td>сотрудник</td>\n",
       "      <td>0</td>\n",
       "      <td>267628</td>\n",
       "      <td>дополнительное образование</td>\n",
       "      <td>молодежь</td>\n",
       "      <td>образование</td>\n",
       "      <td>многодетные</td>\n",
       "      <td>до триста тысяч</td>\n",
       "    </tr>\n",
       "    <tr>\n",
       "      <th>4</th>\n",
       "      <td>0</td>\n",
       "      <td>340266.072047</td>\n",
       "      <td>53</td>\n",
       "      <td>среднее</td>\n",
       "      <td>1</td>\n",
       "      <td>гражданский брак</td>\n",
       "      <td>1</td>\n",
       "      <td>F</td>\n",
       "      <td>пенсионер</td>\n",
       "      <td>0</td>\n",
       "      <td>158616</td>\n",
       "      <td>сыграть свадьбу</td>\n",
       "      <td>пенсионный</td>\n",
       "      <td>свадьба</td>\n",
       "      <td>бездетные</td>\n",
       "      <td>до двести тысяч</td>\n",
       "    </tr>\n",
       "    <tr>\n",
       "      <th>5</th>\n",
       "      <td>0</td>\n",
       "      <td>-926.185831</td>\n",
       "      <td>27</td>\n",
       "      <td>высшее</td>\n",
       "      <td>0</td>\n",
       "      <td>гражданский брак</td>\n",
       "      <td>1</td>\n",
       "      <td>M</td>\n",
       "      <td>компаньон</td>\n",
       "      <td>0</td>\n",
       "      <td>255763</td>\n",
       "      <td>покупка жилья</td>\n",
       "      <td>молодежь</td>\n",
       "      <td>недвижимость</td>\n",
       "      <td>бездетные</td>\n",
       "      <td>до триста тысяч</td>\n",
       "    </tr>\n",
       "    <tr>\n",
       "      <th>6</th>\n",
       "      <td>0</td>\n",
       "      <td>-2879.202052</td>\n",
       "      <td>43</td>\n",
       "      <td>высшее</td>\n",
       "      <td>0</td>\n",
       "      <td>женат / замужем</td>\n",
       "      <td>0</td>\n",
       "      <td>F</td>\n",
       "      <td>компаньон</td>\n",
       "      <td>0</td>\n",
       "      <td>240525</td>\n",
       "      <td>операции с жильем</td>\n",
       "      <td>средний</td>\n",
       "      <td>недвижимость</td>\n",
       "      <td>бездетные</td>\n",
       "      <td>до триста тысяч</td>\n",
       "    </tr>\n",
       "    <tr>\n",
       "      <th>7</th>\n",
       "      <td>0</td>\n",
       "      <td>-152.779569</td>\n",
       "      <td>50</td>\n",
       "      <td>среднее</td>\n",
       "      <td>1</td>\n",
       "      <td>женат / замужем</td>\n",
       "      <td>0</td>\n",
       "      <td>M</td>\n",
       "      <td>сотрудник</td>\n",
       "      <td>0</td>\n",
       "      <td>135823</td>\n",
       "      <td>образование</td>\n",
       "      <td>средний</td>\n",
       "      <td>образование</td>\n",
       "      <td>бездетные</td>\n",
       "      <td>до двести тысяч</td>\n",
       "    </tr>\n",
       "    <tr>\n",
       "      <th>8</th>\n",
       "      <td>2</td>\n",
       "      <td>-6929.865299</td>\n",
       "      <td>35</td>\n",
       "      <td>высшее</td>\n",
       "      <td>0</td>\n",
       "      <td>гражданский брак</td>\n",
       "      <td>1</td>\n",
       "      <td>F</td>\n",
       "      <td>сотрудник</td>\n",
       "      <td>0</td>\n",
       "      <td>95856</td>\n",
       "      <td>на проведение свадьбы</td>\n",
       "      <td>молодежь</td>\n",
       "      <td>свадьба</td>\n",
       "      <td>есть дети</td>\n",
       "      <td>до ста тысяч</td>\n",
       "    </tr>\n",
       "    <tr>\n",
       "      <th>9</th>\n",
       "      <td>0</td>\n",
       "      <td>-2188.756445</td>\n",
       "      <td>41</td>\n",
       "      <td>среднее</td>\n",
       "      <td>1</td>\n",
       "      <td>женат / замужем</td>\n",
       "      <td>0</td>\n",
       "      <td>M</td>\n",
       "      <td>сотрудник</td>\n",
       "      <td>0</td>\n",
       "      <td>144425</td>\n",
       "      <td>покупка жилья для семьи</td>\n",
       "      <td>средний</td>\n",
       "      <td>недвижимость</td>\n",
       "      <td>бездетные</td>\n",
       "      <td>до двести тысяч</td>\n",
       "    </tr>\n",
       "  </tbody>\n",
       "</table>\n",
       "</div>"
      ],
      "text/plain": [
       "   children  days_employed  dob_years education  education_id  \\\n",
       "0         1   -8437.673028         42    высшее             0   \n",
       "1         1   -4024.803754         36   среднее             1   \n",
       "2         0   -5623.422610         33   среднее             1   \n",
       "3         3   -4124.747207         32   среднее             1   \n",
       "4         0  340266.072047         53   среднее             1   \n",
       "5         0    -926.185831         27    высшее             0   \n",
       "6         0   -2879.202052         43    высшее             0   \n",
       "7         0    -152.779569         50   среднее             1   \n",
       "8         2   -6929.865299         35    высшее             0   \n",
       "9         0   -2188.756445         41   среднее             1   \n",
       "\n",
       "      family_status  family_status_id gender income_type  debt  total_income  \\\n",
       "0   женат / замужем                 0      F   сотрудник     0        253875   \n",
       "1   женат / замужем                 0      F   сотрудник     0        112080   \n",
       "2   женат / замужем                 0      M   сотрудник     0        145885   \n",
       "3   женат / замужем                 0      M   сотрудник     0        267628   \n",
       "4  гражданский брак                 1      F   пенсионер     0        158616   \n",
       "5  гражданский брак                 1      M   компаньон     0        255763   \n",
       "6   женат / замужем                 0      F   компаньон     0        240525   \n",
       "7   женат / замужем                 0      M   сотрудник     0        135823   \n",
       "8  гражданский брак                 1      F   сотрудник     0         95856   \n",
       "9   женат / замужем                 0      M   сотрудник     0        144425   \n",
       "\n",
       "                      purpose    sort_age lemma_purpose children_group  \\\n",
       "0               покупка жилья     средний  недвижимость      есть дети   \n",
       "1     приобретение автомобиля     средний    автомобиль      есть дети   \n",
       "2               покупка жилья    молодежь  недвижимость      бездетные   \n",
       "3  дополнительное образование    молодежь   образование    многодетные   \n",
       "4             сыграть свадьбу  пенсионный       свадьба      бездетные   \n",
       "5               покупка жилья    молодежь  недвижимость      бездетные   \n",
       "6           операции с жильем     средний  недвижимость      бездетные   \n",
       "7                 образование     средний   образование      бездетные   \n",
       "8       на проведение свадьбы    молодежь       свадьба      есть дети   \n",
       "9     покупка жилья для семьи     средний  недвижимость      бездетные   \n",
       "\n",
       "  total_income_group  \n",
       "0    до триста тысяч  \n",
       "1    до двести тысяч  \n",
       "2    до двести тысяч  \n",
       "3    до триста тысяч  \n",
       "4    до двести тысяч  \n",
       "5    до триста тысяч  \n",
       "6    до триста тысяч  \n",
       "7    до двести тысяч  \n",
       "8       до ста тысяч  \n",
       "9    до двести тысяч  "
      ]
     },
     "metadata": {},
     "output_type": "display_data"
    }
   ],
   "source": [
    "def category_purpose(row):\n",
    "    lem_purpose = m.lemmatize(row['purpose'])\n",
    "    if 'автомобиль' in lem_purpose:\n",
    "        return 'автомобиль'\n",
    "    if 'образование' in lem_purpose:\n",
    "        return 'образование'\n",
    "    if 'свадьба' in lem_purpose:\n",
    "        return 'свадьба'\n",
    "    if ('жилье' in lem_purpose) or ('недвижимость' in lem_purpose ):\n",
    "        return 'недвижимость'\n",
    "    else:\n",
    "        return 'другое'\n",
    "    \n",
    "data['lemma_purpose'] = data.apply(category_purpose,axis=1)\n",
    "display(data.head(10))\n",
    "    "
   ]
  },
  {
   "cell_type": "markdown",
   "metadata": {},
   "source": [
    "### Вернемся к количеству детей. Заменем отрицательные знчения, и исправим опечатки."
   ]
  },
  {
   "cell_type": "code",
   "execution_count": 23,
   "metadata": {},
   "outputs": [
    {
     "data": {
      "text/plain": [
       "0    14148\n",
       "1     4865\n",
       "2     2131\n",
       "3      330\n",
       "4       41\n",
       "5        9\n",
       "Name: children, dtype: int64"
      ]
     },
     "execution_count": 23,
     "metadata": {},
     "output_type": "execute_result"
    }
   ],
   "source": [
    "data['children'] = data['children'].replace(20, 2)\n",
    "data['children'] = data['children'].replace(-1, 1)\n",
    "data['children'].value_counts()"
   ]
  },
  {
   "cell_type": "markdown",
   "metadata": {},
   "source": [
    "Создадим три группы людей. бездетные, есть дети, многодетные"
   ]
  },
  {
   "cell_type": "code",
   "execution_count": 24,
   "metadata": {},
   "outputs": [
    {
     "name": "stdout",
     "output_type": "stream",
     "text": [
      "бездетные      14148\n",
      "есть дети       6996\n",
      "многодетные      380\n",
      "Name: children_group, dtype: int64\n"
     ]
    }
   ],
   "source": [
    "def children_group(child):\n",
    "    if child==0:\n",
    "        return 'бездетные'\n",
    "    if child<=2:\n",
    "        return 'есть дети'\n",
    "    else:\n",
    "        return 'многодетные'\n",
    "data['children_group'] = data['children'].apply(children_group)\n",
    "print (data['children_group'].value_counts())"
   ]
  },
  {
   "cell_type": "markdown",
   "metadata": {},
   "source": [
    "**Вывод**:\n",
    "\n",
    "Большинство заемщиков бездетные. Провериим как это влияет на выплату кредитного долга"
   ]
  },
  {
   "cell_type": "markdown",
   "metadata": {},
   "source": [
    "### Рассмотрим столбец доход total_income. Разделим людей по уровню дохода на 4 группы, средний , высокий, зажиточный,олигарх."
   ]
  },
  {
   "cell_type": "code",
   "execution_count": 25,
   "metadata": {},
   "outputs": [
    {
     "name": "stdout",
     "output_type": "stream",
     "text": [
      "до двести тысяч       11996\n",
      "до ста тысяч           4091\n",
      "до триста тысяч        3583\n",
      "до четыреста тысяч      954\n",
      "средний                 372\n",
      "до пятиста тысяч        306\n",
      "зажиточный              197\n",
      "миллионер                25\n",
      "Name: total_income_group, dtype: int64\n"
     ]
    }
   ],
   "source": [
    "def total_income_group(total_income):\n",
    "    \n",
    "    if total_income<= 50000:\n",
    "        return 'средний'\n",
    "    \n",
    "    if total_income<= 100000:\n",
    "        return 'до ста тысяч' \n",
    "    \n",
    "    if total_income<=200000:\n",
    "        return 'до двести тысяч'\n",
    "    \n",
    "    if total_income<=300000:\n",
    "        return 'до триста тысяч'\n",
    "    \n",
    "    if total_income<=400000:\n",
    "        return 'до четыреста тысяч' \n",
    "    if total_income<=500000:\n",
    "        return 'до пятиста тысяч'\n",
    "    \n",
    "    if total_income<1000000:\n",
    "        return 'зажиточный'  \n",
    "    else:\n",
    "        return 'миллионер'\n",
    "data['total_income_group'] = data['total_income'].apply(total_income_group)\n",
    "#print (data)\n",
    "print (data['total_income_group'].value_counts())"
   ]
  },
  {
   "cell_type": "markdown",
   "metadata": {},
   "source": [
    "**Вывод:**\n",
    "\n",
    "Преобладают люди с высоким доходом и даже миллионеры присутствуют."
   ]
  },
  {
   "cell_type": "markdown",
   "metadata": {},
   "source": [
    "### Категоризация данных"
   ]
  },
  {
   "cell_type": "code",
   "execution_count": 26,
   "metadata": {},
   "outputs": [
    {
     "name": "stdout",
     "output_type": "stream",
     "text": [
      "debt                0     1\n",
      "children_group             \n",
      "бездетные       13085  1063\n",
      "есть дети        6349   647\n",
      "многодетные       349    31\n"
     ]
    }
   ],
   "source": [
    "credit_children = data.pivot_table(index='children_group', columns= 'debt', values='dob_years', aggfunc='count')\n",
    "print (credit_children)"
   ]
  },
  {
   "cell_type": "code",
   "execution_count": 27,
   "metadata": {},
   "outputs": [],
   "source": [
    "credit_children['percent_1'] = credit_children[1] / (credit_children[1] + credit_children[0]) * 100"
   ]
  },
  {
   "cell_type": "code",
   "execution_count": 28,
   "metadata": {
    "scrolled": true
   },
   "outputs": [
    {
     "name": "stdout",
     "output_type": "stream",
     "text": [
      "children_group\n",
      "бездетные      7.513429\n",
      "многодетные    8.157895\n",
      "есть дети      9.248142\n",
      "Name: percent_1, dtype: float64\n"
     ]
    }
   ],
   "source": [
    "print (credit_children['percent_1'].sort_values())"
   ]
  },
  {
   "cell_type": "markdown",
   "metadata": {},
   "source": [
    "## Шаг 3. Ответьте на вопросы"
   ]
  },
  {
   "cell_type": "markdown",
   "metadata": {},
   "source": [
    "- Есть ли зависимость между наличием детей и возвратом кредита в срок?"
   ]
  },
  {
   "cell_type": "markdown",
   "metadata": {},
   "source": [
    "**Вывод**:\n",
    "\n",
    "Многодетные кредиторы лучше исполняют взятые на себя обязательства по возвращению кредитных средств. Но бездетные не далеко ушли. И клиентов без детей как мы уже обратили внимание, больше."
   ]
  },
  {
   "cell_type": "markdown",
   "metadata": {},
   "source": [
    "**Вывод**"
   ]
  },
  {
   "cell_type": "markdown",
   "metadata": {},
   "source": []
  },
  {
   "cell_type": "markdown",
   "metadata": {},
   "source": [
    "- Есть ли зависимость между семейным положением и возвратом кредита в срок?"
   ]
  },
  {
   "cell_type": "code",
   "execution_count": 29,
   "metadata": {},
   "outputs": [
    {
     "name": "stdout",
     "output_type": "stream",
     "text": [
      "debt                       0    1\n",
      "family_status                    \n",
      "Не женат / не замужем   2539  274\n",
      "в разводе               1110   85\n",
      "вдовец / вдова           897   63\n",
      "гражданский брак        3788  388\n",
      "женат / замужем        11449  931\n"
     ]
    }
   ],
   "source": [
    "family_status = data.pivot_table(index='family_status', columns= 'debt', values='dob_years', aggfunc='count')\n",
    "print (family_status)"
   ]
  },
  {
   "cell_type": "code",
   "execution_count": 30,
   "metadata": {},
   "outputs": [
    {
     "name": "stdout",
     "output_type": "stream",
     "text": [
      "family_status\n",
      "вдовец / вдова           6.562500\n",
      "в разводе                7.112971\n",
      "женат / замужем          7.520194\n",
      "гражданский брак         9.291188\n",
      "Не женат / не замужем    9.740491\n",
      "Name: percent_1, dtype: float64\n"
     ]
    }
   ],
   "source": [
    "family_status['percent_1'] = family_status[1] / (family_status[1] + family_status[0]) * 100\n",
    "print (family_status['percent_1'].sort_values())"
   ]
  },
  {
   "cell_type": "markdown",
   "metadata": {},
   "source": [
    "**Вывод**: \n",
    "\n",
    "Люди не вступившие еще в брак, хуже справляются с кредитами. Вдовцы и вдовы меньше замечены в просрочки кредитов. Но их в целом не так много. Думаю есть смысл сосредоточиться на семейных парах. Также думаю есть смысл СБ банка более тщательно проверять неженатых / незамужних."
   ]
  },
  {
   "cell_type": "markdown",
   "metadata": {},
   "source": []
  },
  {
   "cell_type": "markdown",
   "metadata": {},
   "source": [
    "- Есть ли зависимость между уровнем дохода и возвратом кредита в срок?"
   ]
  },
  {
   "cell_type": "code",
   "execution_count": 31,
   "metadata": {},
   "outputs": [
    {
     "name": "stdout",
     "output_type": "stream",
     "text": [
      "debt                    0     1\n",
      "total_income_group             \n",
      "до двести тысяч     10967  1029\n",
      "до пятиста тысяч      289    17\n",
      "до ста тысяч         3760   331\n",
      "до триста тысяч      3331   252\n",
      "до четыреста тысяч    879    75\n",
      "зажиточный            185    12\n",
      "миллионер              23     2\n",
      "средний               349    23\n",
      "\n",
      "total_income_group\n",
      "до пятиста тысяч      5.555556\n",
      "зажиточный            6.091371\n",
      "средний               6.182796\n",
      "до триста тысяч       7.033212\n",
      "до четыреста тысяч    7.861635\n",
      "миллионер             8.000000\n",
      "до ста тысяч          8.090931\n",
      "до двести тысяч       8.577859\n",
      "Name: percent_1, dtype: float64\n"
     ]
    }
   ],
   "source": [
    "total_income_group = data.pivot_table(index='total_income_group', columns= 'debt', values='dob_years', aggfunc='count')\n",
    "print (total_income_group)\n",
    "\n",
    "total_income_group['percent_1'] = total_income_group[1] / (total_income_group[1] + total_income_group[0]) * 100\n",
    "print()\n",
    "print(total_income_group['percent_1'].sort_values())\n",
    "\n"
   ]
  },
  {
   "cell_type": "markdown",
   "metadata": {},
   "source": [
    "**Вывод**:\n",
    "\n",
    "Клиенты со среднем доходом лучше всего справляются с кредитами. Чуть хуже справляются зажиточные, но при этом зажиточных клиентов больше. Тут еще надо понимать какие суммы берут клиенты и как эти суммы зависят от дохода."
   ]
  },
  {
   "cell_type": "markdown",
   "metadata": {},
   "source": []
  },
  {
   "cell_type": "markdown",
   "metadata": {},
   "source": [
    "- Как разные цели кредита влияют на его возврат в срок?"
   ]
  },
  {
   "cell_type": "code",
   "execution_count": 32,
   "metadata": {},
   "outputs": [
    {
     "name": "stdout",
     "output_type": "stream",
     "text": [
      "debt               0    1\n",
      "lemma_purpose            \n",
      "автомобиль      3912  403\n",
      "недвижимость   10057  782\n",
      "образование     3652  370\n",
      "свадьба         2162  186\n",
      "lemma_purpose\n",
      "недвижимость    7.214688\n",
      "свадьба         7.921635\n",
      "образование     9.199403\n",
      "автомобиль      9.339513\n",
      "Name: percent_1, dtype: float64\n"
     ]
    }
   ],
   "source": [
    "total_income_group = data.pivot_table(index='lemma_purpose', columns= 'debt', values='dob_years', aggfunc='count')\n",
    "print (total_income_group)\n",
    "\n",
    "total_income_group['percent_1'] = total_income_group[1] / (total_income_group[1] + total_income_group[0]) * 100\n",
    "\n",
    "print(total_income_group['percent_1'].sort_values())"
   ]
  },
  {
   "cell_type": "markdown",
   "metadata": {},
   "source": [
    "**Вывод**:\n",
    "\n",
    "\n",
    "На недвижимость больше всего берут кредиты и лучше всего возвращают. Есть смысл обратить на эту нишу внимание, привлечь больше клиентов за счет таргетированной рекламы, специальные проекты под эти нужды и.т.д. Тут ду\n",
    "маю есть смысл подумать с отделом маркетинга."
   ]
  },
  {
   "cell_type": "markdown",
   "metadata": {},
   "source": []
  },
  {
   "cell_type": "markdown",
   "metadata": {},
   "source": [
    "## Шаг 4. Общий вывод"
   ]
  },
  {
   "cell_type": "markdown",
   "metadata": {},
   "source": [
    "**Вывод**:\n",
    "\n",
    "\n",
    "Наш идеальные клиенты бездетный, вступившие в брак, зажиточные и мечтающие купить свое жилье. Думаю есть смысл обратить на эту категорию особое внимание. Тут можно таргетировать рекламу на людей с этими интересами. Создать специальную программу кредитования. Наладить сотрудничество с маркет плэйсами по продаже недвижимости. Рассмотреть возможность работы с брокерами. Снять рекламу на ТВ. "
   ]
  },
  {
   "cell_type": "code",
   "execution_count": null,
   "metadata": {},
   "outputs": [],
   "source": []
  },
  {
   "cell_type": "markdown",
   "metadata": {},
   "source": [
    
  }
 ],
 "metadata": {
  "ExecuteTimeLog": [
   {
    "duration": 989,
    "start_time": "2021-12-05T09:37:30.636Z"
   },
   {
    "duration": 97,
    "start_time": "2021-12-05T09:41:09.936Z"
   },
   {
    "duration": 106,
    "start_time": "2021-12-05T10:17:16.366Z"
   },
   {
    "duration": 86,
    "start_time": "2021-12-05T10:23:34.661Z"
   },
   {
    "duration": 396,
    "start_time": "2021-12-05T11:17:05.063Z"
   },
   {
    "duration": 81,
    "start_time": "2021-12-05T11:17:17.205Z"
   },
   {
    "duration": 303,
    "start_time": "2021-12-05T11:17:17.289Z"
   },
   {
    "duration": 273,
    "start_time": "2021-12-05T11:17:59.502Z"
   },
   {
    "duration": 11,
    "start_time": "2021-12-05T11:18:52.395Z"
   },
   {
    "duration": 15,
    "start_time": "2021-12-05T11:31:15.514Z"
   },
   {
    "duration": 123,
    "start_time": "2021-12-05T13:57:33.067Z"
   },
   {
    "duration": 107,
    "start_time": "2021-12-05T13:58:04.225Z"
   },
   {
    "duration": 79,
    "start_time": "2021-12-05T13:58:19.056Z"
   },
   {
    "duration": 12,
    "start_time": "2021-12-05T13:58:19.138Z"
   },
   {
    "duration": 136,
    "start_time": "2021-12-05T13:58:19.153Z"
   },
   {
    "duration": 1162,
    "start_time": "2021-12-05T13:58:18.129Z"
   },
   {
    "duration": 1163,
    "start_time": "2021-12-05T13:58:18.130Z"
   },
   {
    "duration": 78,
    "start_time": "2021-12-05T13:59:07.659Z"
   },
   {
    "duration": 10,
    "start_time": "2021-12-05T13:59:07.741Z"
   },
   {
    "duration": 105,
    "start_time": "2021-12-05T13:59:07.754Z"
   },
   {
    "duration": 1157,
    "start_time": "2021-12-05T13:59:06.705Z"
   },
   {
    "duration": 1157,
    "start_time": "2021-12-05T13:59:06.707Z"
   },
   {
    "duration": 80,
    "start_time": "2021-12-05T14:00:03.897Z"
   },
   {
    "duration": 10,
    "start_time": "2021-12-05T14:00:03.981Z"
   },
   {
    "duration": 35,
    "start_time": "2021-12-05T14:00:03.995Z"
   },
   {
    "duration": 96,
    "start_time": "2021-12-05T14:00:04.033Z"
   },
   {
    "duration": 20,
    "start_time": "2021-12-05T14:02:00.434Z"
   },
   {
    "duration": 112,
    "start_time": "2021-12-05T14:02:17.121Z"
   },
   {
    "duration": 9,
    "start_time": "2021-12-05T14:02:17.237Z"
   },
   {
    "duration": 17,
    "start_time": "2021-12-05T14:02:17.249Z"
   },
   {
    "duration": 13,
    "start_time": "2021-12-05T14:02:17.269Z"
   },
   {
    "duration": 187,
    "start_time": "2021-12-05T14:08:24.986Z"
   },
   {
    "duration": 100,
    "start_time": "2021-12-05T14:08:51.333Z"
   },
   {
    "duration": 99,
    "start_time": "2021-12-05T14:09:09.186Z"
   },
   {
    "duration": 106,
    "start_time": "2021-12-05T14:10:28.382Z"
   },
   {
    "duration": 8,
    "start_time": "2021-12-05T14:10:44.138Z"
   },
   {
    "duration": 316,
    "start_time": "2021-12-05T14:11:03.612Z"
   },
   {
    "duration": 14,
    "start_time": "2021-12-05T14:13:27.005Z"
   },
   {
    "duration": 83,
    "start_time": "2021-12-05T14:43:02.893Z"
   },
   {
    "duration": 78,
    "start_time": "2021-12-05T14:43:21.310Z"
   },
   {
    "duration": 10,
    "start_time": "2021-12-05T14:44:33.600Z"
   },
   {
    "duration": 303,
    "start_time": "2021-12-05T14:57:31.217Z"
   },
   {
    "duration": 288,
    "start_time": "2021-12-05T14:57:45.334Z"
   },
   {
    "duration": 35,
    "start_time": "2021-12-05T14:59:45.810Z"
   },
   {
    "duration": 35,
    "start_time": "2021-12-05T14:59:53.398Z"
   },
   {
    "duration": 32,
    "start_time": "2021-12-05T15:00:04.678Z"
   },
   {
    "duration": 49,
    "start_time": "2021-12-05T15:00:26.861Z"
   },
   {
    "duration": 352,
    "start_time": "2021-12-05T15:01:12.444Z"
   },
   {
    "duration": 329,
    "start_time": "2021-12-05T15:17:14.488Z"
   },
   {
    "duration": 46,
    "start_time": "2021-12-05T15:17:27.692Z"
   },
   {
    "duration": 340,
    "start_time": "2021-12-05T15:28:12.963Z"
   },
   {
    "duration": 11,
    "start_time": "2021-12-05T15:44:33.779Z"
   },
   {
    "duration": 16,
    "start_time": "2021-12-05T15:44:46.504Z"
   },
   {
    "duration": 23,
    "start_time": "2021-12-05T15:45:40.812Z"
   },
   {
    "duration": 296,
    "start_time": "2021-12-05T15:45:58.077Z"
   },
   {
    "duration": 22,
    "start_time": "2021-12-05T15:46:09.537Z"
   },
   {
    "duration": 22,
    "start_time": "2021-12-05T15:46:20.101Z"
   },
   {
    "duration": 363,
    "start_time": "2021-12-05T15:48:50.077Z"
   },
   {
    "duration": 296,
    "start_time": "2021-12-05T15:48:57.600Z"
   },
   {
    "duration": 14,
    "start_time": "2021-12-05T15:50:42.231Z"
   },
   {
    "duration": 851,
    "start_time": "2021-12-05T15:52:10.738Z"
   },
   {
    "duration": 47,
    "start_time": "2021-12-05T15:52:19.927Z"
   },
   {
    "duration": 279,
    "start_time": "2021-12-05T15:53:40.326Z"
   },
   {
    "duration": 10,
    "start_time": "2021-12-05T15:53:49.425Z"
   },
   {
    "duration": 300,
    "start_time": "2021-12-05T15:54:02.349Z"
   },
   {
    "duration": 300,
    "start_time": "2021-12-05T15:54:11.376Z"
   },
   {
    "duration": 426,
    "start_time": "2021-12-05T15:54:22.415Z"
   },
   {
    "duration": 837,
    "start_time": "2021-12-05T15:54:28.672Z"
   },
   {
    "duration": 6,
    "start_time": "2021-12-05T16:30:30.271Z"
   },
   {
    "duration": 6,
    "start_time": "2021-12-05T16:30:56.598Z"
   },
   {
    "duration": 440,
    "start_time": "2021-12-05T16:31:16.876Z"
   },
   {
    "duration": 6,
    "start_time": "2021-12-05T16:31:25.566Z"
   },
   {
    "duration": 7,
    "start_time": "2021-12-05T16:31:38.744Z"
   },
   {
    "duration": 675,
    "start_time": "2021-12-05T16:33:23.352Z"
   },
   {
    "duration": 7,
    "start_time": "2021-12-05T16:33:31.668Z"
   },
   {
    "duration": 10,
    "start_time": "2021-12-05T16:33:48.764Z"
   },
   {
    "duration": 106,
    "start_time": "2021-12-05T16:34:49.454Z"
   },
   {
    "duration": 302,
    "start_time": "2021-12-05T18:07:10.574Z"
   },
   {
    "duration": 296,
    "start_time": "2021-12-05T18:07:15.590Z"
   },
   {
    "duration": 6,
    "start_time": "2021-12-05T18:07:31.688Z"
   },
   {
    "duration": 103,
    "start_time": "2021-12-05T18:07:49.654Z"
   },
   {
    "duration": 4,
    "start_time": "2021-12-05T18:10:13.433Z"
   },
   {
    "duration": 5,
    "start_time": "2021-12-05T18:10:24.801Z"
   },
   {
    "duration": 6,
    "start_time": "2021-12-05T18:14:40.333Z"
   },
   {
    "duration": -107,
    "start_time": "2021-12-05T18:18:39.871Z"
   },
   {
    "duration": -107,
    "start_time": "2021-12-05T18:18:39.873Z"
   },
   {
    "duration": -107,
    "start_time": "2021-12-05T18:18:39.875Z"
   },
   {
    "duration": -106,
    "start_time": "2021-12-05T18:18:39.876Z"
   },
   {
    "duration": -105,
    "start_time": "2021-12-05T18:18:39.877Z"
   },
   {
    "duration": -104,
    "start_time": "2021-12-05T18:18:39.878Z"
   },
   {
    "duration": -104,
    "start_time": "2021-12-05T18:18:39.880Z"
   },
   {
    "duration": -103,
    "start_time": "2021-12-05T18:18:39.881Z"
   },
   {
    "duration": -102,
    "start_time": "2021-12-05T18:18:39.882Z"
   },
   {
    "duration": -102,
    "start_time": "2021-12-05T18:18:39.883Z"
   },
   {
    "duration": 6,
    "start_time": "2021-12-05T18:19:00.944Z"
   },
   {
    "duration": 7313,
    "start_time": "2021-12-05T18:19:03.460Z"
   },
   {
    "duration": 6,
    "start_time": "2021-12-05T18:19:15.794Z"
   },
   {
    "duration": 77,
    "start_time": "2021-12-05T18:25:14.757Z"
   },
   {
    "duration": 7,
    "start_time": "2021-12-05T18:25:14.837Z"
   },
   {
    "duration": 11,
    "start_time": "2021-12-05T18:25:14.847Z"
   },
   {
    "duration": 103,
    "start_time": "2021-12-05T18:25:14.861Z"
   },
   {
    "duration": -108,
    "start_time": "2021-12-05T18:25:15.074Z"
   },
   {
    "duration": -109,
    "start_time": "2021-12-05T18:25:15.077Z"
   },
   {
    "duration": -119,
    "start_time": "2021-12-05T18:25:15.088Z"
   },
   {
    "duration": -118,
    "start_time": "2021-12-05T18:25:15.089Z"
   },
   {
    "duration": -119,
    "start_time": "2021-12-05T18:25:15.091Z"
   },
   {
    "duration": -119,
    "start_time": "2021-12-05T18:25:15.092Z"
   },
   {
    "duration": -118,
    "start_time": "2021-12-05T18:25:15.093Z"
   },
   {
    "duration": 80,
    "start_time": "2021-12-05T18:25:40.303Z"
   },
   {
    "duration": 9,
    "start_time": "2021-12-05T18:25:40.387Z"
   },
   {
    "duration": 35,
    "start_time": "2021-12-05T18:25:40.400Z"
   },
   {
    "duration": 7,
    "start_time": "2021-12-05T18:25:40.439Z"
   },
   {
    "duration": 98,
    "start_time": "2021-12-05T18:25:40.448Z"
   },
   {
    "duration": -103,
    "start_time": "2021-12-05T18:25:40.651Z"
   },
   {
    "duration": -103,
    "start_time": "2021-12-05T18:25:40.652Z"
   },
   {
    "duration": -104,
    "start_time": "2021-12-05T18:25:40.655Z"
   },
   {
    "duration": -105,
    "start_time": "2021-12-05T18:25:40.657Z"
   },
   {
    "duration": -105,
    "start_time": "2021-12-05T18:25:40.658Z"
   },
   {
    "duration": 16,
    "start_time": "2021-12-05T18:26:03.803Z"
   },
   {
    "duration": 13,
    "start_time": "2021-12-05T18:26:05.952Z"
   },
   {
    "duration": 319,
    "start_time": "2021-12-05T18:26:13.275Z"
   },
   {
    "duration": 8,
    "start_time": "2021-12-05T18:26:24.381Z"
   },
   {
    "duration": 6,
    "start_time": "2021-12-05T18:26:43.417Z"
   },
   {
    "duration": 15,
    "start_time": "2021-12-05T18:28:14.515Z"
   },
   {
    "duration": 7,
    "start_time": "2021-12-05T18:28:16.956Z"
   },
   {
    "duration": 157,
    "start_time": "2021-12-05T18:28:39.019Z"
   },
   {
    "duration": 47,
    "start_time": "2021-12-05T18:49:22.285Z"
   },
   {
    "duration": 94,
    "start_time": "2021-12-05T18:51:12.423Z"
   },
   {
    "duration": 351,
    "start_time": "2021-12-05T18:51:21.043Z"
   },
   {
    "duration": 286,
    "start_time": "2021-12-05T18:51:30.985Z"
   },
   {
    "duration": 33,
    "start_time": "2021-12-05T18:52:06.483Z"
   },
   {
    "duration": 7,
    "start_time": "2021-12-05T18:52:47.559Z"
   },
   {
    "duration": 9,
    "start_time": "2021-12-05T18:53:02.469Z"
   },
   {
    "duration": 291,
    "start_time": "2021-12-05T18:53:42.670Z"
   },
   {
    "duration": 282,
    "start_time": "2021-12-05T18:55:10.426Z"
   },
   {
    "duration": 283,
    "start_time": "2021-12-05T18:55:25.190Z"
   },
   {
    "duration": 288,
    "start_time": "2021-12-05T18:56:00.997Z"
   },
   {
    "duration": 8,
    "start_time": "2021-12-05T18:56:12.358Z"
   },
   {
    "duration": 8,
    "start_time": "2021-12-05T18:56:17.574Z"
   },
   {
    "duration": 10,
    "start_time": "2021-12-05T18:56:23.622Z"
   },
   {
    "duration": 285,
    "start_time": "2021-12-05T18:56:55.724Z"
   },
   {
    "duration": 291,
    "start_time": "2021-12-05T18:57:06.685Z"
   },
   {
    "duration": 289,
    "start_time": "2021-12-05T18:57:24.566Z"
   },
   {
    "duration": 10,
    "start_time": "2021-12-05T18:57:37.832Z"
   },
   {
    "duration": 7,
    "start_time": "2021-12-05T18:58:30.286Z"
   },
   {
    "duration": 10,
    "start_time": "2021-12-05T18:58:57.784Z"
   },
   {
    "duration": 10,
    "start_time": "2021-12-05T19:10:29.008Z"
   },
   {
    "duration": 20,
    "start_time": "2021-12-05T19:10:47.043Z"
   },
   {
    "duration": 313,
    "start_time": "2021-12-05T19:11:02.724Z"
   },
   {
    "duration": 284,
    "start_time": "2021-12-05T19:12:09.773Z"
   },
   {
    "duration": 318,
    "start_time": "2021-12-05T19:12:31.967Z"
   },
   {
    "duration": 319,
    "start_time": "2021-12-05T19:13:42.320Z"
   },
   {
    "duration": 297,
    "start_time": "2021-12-05T19:14:14.195Z"
   },
   {
    "duration": 301,
    "start_time": "2021-12-05T19:14:20.622Z"
   },
   {
    "duration": 481,
    "start_time": "2021-12-05T19:14:53.532Z"
   },
   {
    "duration": 287,
    "start_time": "2021-12-05T19:15:19.266Z"
   },
   {
    "duration": 293,
    "start_time": "2021-12-05T19:15:28.039Z"
   },
   {
    "duration": 310,
    "start_time": "2021-12-05T19:16:47.980Z"
   },
   {
    "duration": 309,
    "start_time": "2021-12-05T19:17:15.080Z"
   },
   {
    "duration": 118,
    "start_time": "2021-12-05T19:17:20.236Z"
   },
   {
    "duration": 12,
    "start_time": "2021-12-05T19:17:20.358Z"
   },
   {
    "duration": 11,
    "start_time": "2021-12-05T19:17:20.373Z"
   },
   {
    "duration": 15,
    "start_time": "2021-12-05T19:17:20.386Z"
   },
   {
    "duration": 7,
    "start_time": "2021-12-05T19:17:20.429Z"
   },
   {
    "duration": 10,
    "start_time": "2021-12-05T19:17:20.438Z"
   },
   {
    "duration": 10,
    "start_time": "2021-12-05T19:17:20.450Z"
   },
   {
    "duration": 16,
    "start_time": "2021-12-05T19:17:20.463Z"
   },
   {
    "duration": 48,
    "start_time": "2021-12-05T19:17:20.481Z"
   },
   {
    "duration": 317,
    "start_time": "2021-12-05T19:18:11.818Z"
   },
   {
    "duration": 458,
    "start_time": "2021-12-05T19:18:20.279Z"
   },
   {
    "duration": 289,
    "start_time": "2021-12-05T19:18:42.186Z"
   },
   {
    "duration": 12,
    "start_time": "2021-12-05T19:18:49.175Z"
   },
   {
    "duration": 28,
    "start_time": "2021-12-05T19:20:23.866Z"
   },
   {
    "duration": 14,
    "start_time": "2021-12-05T19:21:23.497Z"
   },
   {
    "duration": 8,
    "start_time": "2021-12-05T19:27:33.386Z"
   },
   {
    "duration": 104,
    "start_time": "2021-12-06T18:21:31.560Z"
   },
   {
    "duration": 390,
    "start_time": "2021-12-06T18:21:58.427Z"
   },
   {
    "duration": 957,
    "start_time": "2021-12-06T18:22:10.377Z"
   },
   {
    "duration": 10,
    "start_time": "2021-12-06T18:22:11.337Z"
   },
   {
    "duration": 12,
    "start_time": "2021-12-06T18:22:11.350Z"
   },
   {
    "duration": 7,
    "start_time": "2021-12-06T18:22:11.366Z"
   },
   {
    "duration": 46,
    "start_time": "2021-12-06T18:22:11.376Z"
   },
   {
    "duration": 8,
    "start_time": "2021-12-06T18:22:11.424Z"
   },
   {
    "duration": 15,
    "start_time": "2021-12-06T18:22:11.436Z"
   },
   {
    "duration": 65,
    "start_time": "2021-12-06T18:22:11.455Z"
   },
   {
    "duration": 12,
    "start_time": "2021-12-06T18:22:11.525Z"
   },
   {
    "duration": 25,
    "start_time": "2021-12-06T18:22:11.541Z"
   },
   {
    "duration": 60,
    "start_time": "2021-12-06T18:22:11.569Z"
   },
   {
    "duration": 8,
    "start_time": "2021-12-06T18:22:34.569Z"
   },
   {
    "duration": 339,
    "start_time": "2021-12-06T18:24:02.090Z"
   },
   {
    "duration": 6,
    "start_time": "2021-12-06T18:24:14.322Z"
   },
   {
    "duration": 387,
    "start_time": "2021-12-06T18:39:38.711Z"
   },
   {
    "duration": 7,
    "start_time": "2021-12-06T18:39:43.725Z"
   },
   {
    "duration": 7,
    "start_time": "2021-12-06T18:39:49.414Z"
   },
   {
    "duration": 7,
    "start_time": "2021-12-06T18:39:59.952Z"
   },
   {
    "duration": 9,
    "start_time": "2021-12-06T18:40:25.422Z"
   },
   {
    "duration": 656,
    "start_time": "2021-12-06T18:40:55.191Z"
   },
   {
    "duration": 749,
    "start_time": "2021-12-06T18:41:07.890Z"
   },
   {
    "duration": 532,
    "start_time": "2021-12-06T18:41:16.515Z"
   },
   {
    "duration": 81,
    "start_time": "2021-12-06T18:41:17.894Z"
   },
   {
    "duration": 10,
    "start_time": "2021-12-06T18:41:17.978Z"
   },
   {
    "duration": 30,
    "start_time": "2021-12-06T18:41:17.993Z"
   },
   {
    "duration": 14,
    "start_time": "2021-12-06T18:41:18.027Z"
   },
   {
    "duration": 13,
    "start_time": "2021-12-06T18:41:18.044Z"
   },
   {
    "duration": 9,
    "start_time": "2021-12-06T18:41:18.061Z"
   },
   {
    "duration": 57,
    "start_time": "2021-12-06T18:41:18.072Z"
   },
   {
    "duration": 15,
    "start_time": "2021-12-06T18:41:18.134Z"
   },
   {
    "duration": 1288,
    "start_time": "2021-12-06T18:41:18.152Z"
   },
   {
    "duration": -78,
    "start_time": "2021-12-06T18:41:19.521Z"
   },
   {
    "duration": -79,
    "start_time": "2021-12-06T18:41:19.524Z"
   },
   {
    "duration": -84,
    "start_time": "2021-12-06T18:41:19.530Z"
   },
   {
    "duration": 8,
    "start_time": "2021-12-06T18:41:31.446Z"
   },
   {
    "duration": 137,
    "start_time": "2021-12-06T18:42:52.475Z"
   },
   {
    "duration": 139,
    "start_time": "2021-12-06T18:42:54.771Z"
   },
   {
    "duration": 23,
    "start_time": "2021-12-06T18:44:06.887Z"
   },
   {
    "duration": 13,
    "start_time": "2021-12-06T18:44:09.778Z"
   },
   {
    "duration": 7,
    "start_time": "2021-12-06T18:59:23.091Z"
   },
   {
    "duration": 193,
    "start_time": "2021-12-06T19:17:42.735Z"
   },
   {
    "duration": 288,
    "start_time": "2021-12-06T19:26:56.192Z"
   },
   {
    "duration": 289,
    "start_time": "2021-12-06T19:27:12.610Z"
   },
   {
    "duration": 326,
    "start_time": "2021-12-06T19:34:59.892Z"
   },
   {
    "duration": 305,
    "start_time": "2021-12-06T19:36:22.290Z"
   },
   {
    "duration": 452,
    "start_time": "2021-12-06T19:38:29.333Z"
   },
   {
    "duration": 972,
    "start_time": "2021-12-06T19:38:45.069Z"
   },
   {
    "duration": 312,
    "start_time": "2021-12-06T19:38:53.975Z"
   },
   {
    "duration": 115,
    "start_time": "2021-12-06T19:38:55.263Z"
   },
   {
    "duration": 11,
    "start_time": "2021-12-06T19:38:55.382Z"
   },
   {
    "duration": 13,
    "start_time": "2021-12-06T19:38:55.417Z"
   },
   {
    "duration": 6,
    "start_time": "2021-12-06T19:38:55.433Z"
   },
   {
    "duration": 10,
    "start_time": "2021-12-06T19:38:55.441Z"
   },
   {
    "duration": 6,
    "start_time": "2021-12-06T19:38:55.454Z"
   },
   {
    "duration": 60,
    "start_time": "2021-12-06T19:38:55.463Z"
   },
   {
    "duration": 10,
    "start_time": "2021-12-06T19:38:55.526Z"
   },
   {
    "duration": 7,
    "start_time": "2021-12-06T19:38:55.539Z"
   },
   {
    "duration": 17,
    "start_time": "2021-12-06T19:38:55.548Z"
   },
   {
    "duration": 60,
    "start_time": "2021-12-06T19:38:55.567Z"
   },
   {
    "duration": 401,
    "start_time": "2021-12-06T19:38:55.629Z"
   },
   {
    "duration": 159,
    "start_time": "2021-12-06T19:57:21.326Z"
   },
   {
    "duration": 384,
    "start_time": "2021-12-06T19:57:36.466Z"
   },
   {
    "duration": 319,
    "start_time": "2021-12-06T19:57:57.146Z"
   },
   {
    "duration": 112,
    "start_time": "2021-12-06T19:58:01.781Z"
   },
   {
    "duration": 21,
    "start_time": "2021-12-06T19:58:01.897Z"
   },
   {
    "duration": 13,
    "start_time": "2021-12-06T19:58:01.923Z"
   },
   {
    "duration": 8,
    "start_time": "2021-12-06T19:58:01.938Z"
   },
   {
    "duration": 9,
    "start_time": "2021-12-06T19:58:01.948Z"
   },
   {
    "duration": 6,
    "start_time": "2021-12-06T19:58:01.959Z"
   },
   {
    "duration": 57,
    "start_time": "2021-12-06T19:58:01.968Z"
   },
   {
    "duration": 9,
    "start_time": "2021-12-06T19:58:02.028Z"
   },
   {
    "duration": 6,
    "start_time": "2021-12-06T19:58:02.039Z"
   },
   {
    "duration": 14,
    "start_time": "2021-12-06T19:58:02.048Z"
   },
   {
    "duration": 62,
    "start_time": "2021-12-06T19:58:02.065Z"
   },
   {
    "duration": 315,
    "start_time": "2021-12-06T19:58:02.130Z"
   },
   {
    "duration": 402,
    "start_time": "2021-12-06T20:01:52.493Z"
   },
   {
    "duration": 9,
    "start_time": "2021-12-06T20:01:59.117Z"
   },
   {
    "duration": 9,
    "start_time": "2021-12-06T20:02:27.784Z"
   },
   {
    "duration": 327,
    "start_time": "2021-12-06T20:03:23.781Z"
   },
   {
    "duration": 13,
    "start_time": "2021-12-06T20:03:33.184Z"
   },
   {
    "duration": 8,
    "start_time": "2021-12-06T20:03:45.994Z"
   },
   {
    "duration": 445,
    "start_time": "2021-12-07T07:49:07.060Z"
   },
   {
    "duration": 368,
    "start_time": "2021-12-07T07:51:30.353Z"
   },
   {
    "duration": 440,
    "start_time": "2021-12-07T07:51:33.131Z"
   },
   {
    "duration": 760,
    "start_time": "2021-12-07T07:51:34.634Z"
   },
   {
    "duration": 5,
    "start_time": "2021-12-07T07:51:35.396Z"
   },
   {
    "duration": 10,
    "start_time": "2021-12-07T07:51:35.404Z"
   },
   {
    "duration": 5,
    "start_time": "2021-12-07T07:51:35.416Z"
   },
   {
    "duration": 5,
    "start_time": "2021-12-07T07:51:35.423Z"
   },
   {
    "duration": 4,
    "start_time": "2021-12-07T07:51:35.430Z"
   },
   {
    "duration": 8,
    "start_time": "2021-12-07T07:51:35.436Z"
   },
   {
    "duration": 6,
    "start_time": "2021-12-07T07:51:35.446Z"
   },
   {
    "duration": 4,
    "start_time": "2021-12-07T07:51:35.458Z"
   },
   {
    "duration": 52,
    "start_time": "2021-12-07T07:51:35.464Z"
   },
   {
    "duration": 20,
    "start_time": "2021-12-07T07:51:35.518Z"
   },
   {
    "duration": 695,
    "start_time": "2021-12-07T07:51:35.540Z"
   },
   {
    "duration": 475,
    "start_time": "2021-12-07T08:16:27.508Z"
   },
   {
    "duration": 445,
    "start_time": "2021-12-07T08:16:44.881Z"
   },
   {
    "duration": 45,
    "start_time": "2021-12-07T08:17:07.957Z"
   },
   {
    "duration": 38,
    "start_time": "2021-12-07T08:18:02.382Z"
   },
   {
    "duration": 17,
    "start_time": "2021-12-07T08:20:19.680Z"
   },
   {
    "duration": 12,
    "start_time": "2021-12-07T08:20:37.182Z"
   },
   {
    "duration": 12,
    "start_time": "2021-12-07T08:21:38.995Z"
   },
   {
    "duration": 20,
    "start_time": "2021-12-07T08:31:41.716Z"
   },
   {
    "duration": 32,
    "start_time": "2021-12-07T08:32:51.779Z"
   },
   {
    "duration": 35,
    "start_time": "2021-12-07T08:36:40.165Z"
   },
   {
    "duration": 43,
    "start_time": "2021-12-07T08:37:20.110Z"
   },
   {
    "duration": 488,
    "start_time": "2021-12-07T08:37:34.604Z"
   },
   {
    "duration": 42,
    "start_time": "2021-12-07T08:37:46.883Z"
   },
   {
    "duration": 39,
    "start_time": "2021-12-07T08:37:56.372Z"
   },
   {
    "duration": 40,
    "start_time": "2021-12-07T08:40:19.275Z"
   },
   {
    "duration": 21,
    "start_time": "2021-12-07T08:42:10.106Z"
   },
   {
    "duration": 15,
    "start_time": "2021-12-07T08:42:37.458Z"
   },
   {
    "duration": 25,
    "start_time": "2021-12-07T08:59:13.403Z"
   },
   {
    "duration": 31,
    "start_time": "2021-12-07T09:00:31.378Z"
   },
   {
    "duration": 34,
    "start_time": "2021-12-07T11:11:39.033Z"
   },
   {
    "duration": 67,
    "start_time": "2021-12-07T11:11:53.151Z"
   },
   {
    "duration": 7,
    "start_time": "2021-12-07T11:11:53.221Z"
   },
   {
    "duration": 9,
    "start_time": "2021-12-07T11:11:53.231Z"
   },
   {
    "duration": 7,
    "start_time": "2021-12-07T11:11:53.243Z"
   },
   {
    "duration": 8,
    "start_time": "2021-12-07T11:11:53.252Z"
   },
   {
    "duration": 4,
    "start_time": "2021-12-07T11:11:53.262Z"
   },
   {
    "duration": 40,
    "start_time": "2021-12-07T11:11:53.268Z"
   },
   {
    "duration": 8,
    "start_time": "2021-12-07T11:11:53.310Z"
   },
   {
    "duration": 4,
    "start_time": "2021-12-07T11:11:53.320Z"
   },
   {
    "duration": 11,
    "start_time": "2021-12-07T11:11:53.326Z"
   },
   {
    "duration": 391,
    "start_time": "2021-12-07T11:11:53.488Z"
   },
   {
    "duration": 361,
    "start_time": "2021-12-07T11:12:09.946Z"
   },
   {
    "duration": 36,
    "start_time": "2021-12-07T11:16:50.798Z"
   },
   {
    "duration": 50,
    "start_time": "2021-12-07T11:18:37.441Z"
   },
   {
    "duration": 361,
    "start_time": "2021-12-07T11:57:42.430Z"
   },
   {
    "duration": 912,
    "start_time": "2021-12-07T11:57:47.230Z"
   },
   {
    "duration": 6,
    "start_time": "2021-12-07T11:57:48.143Z"
   },
   {
    "duration": 9,
    "start_time": "2021-12-07T11:57:48.151Z"
   },
   {
    "duration": 6,
    "start_time": "2021-12-07T11:57:48.161Z"
   },
   {
    "duration": 7,
    "start_time": "2021-12-07T11:57:48.169Z"
   },
   {
    "duration": 5,
    "start_time": "2021-12-07T11:57:48.177Z"
   },
   {
    "duration": 8,
    "start_time": "2021-12-07T11:57:48.206Z"
   },
   {
    "duration": 6,
    "start_time": "2021-12-07T11:57:48.216Z"
   },
   {
    "duration": 4,
    "start_time": "2021-12-07T11:57:48.224Z"
   },
   {
    "duration": 12,
    "start_time": "2021-12-07T11:57:48.230Z"
   },
   {
    "duration": 78,
    "start_time": "2021-12-07T11:57:48.244Z"
   },
   {
    "duration": 343,
    "start_time": "2021-12-07T11:57:48.324Z"
   },
   {
    "duration": 446,
    "start_time": "2021-12-07T11:59:22.954Z"
   },
   {
    "duration": 12,
    "start_time": "2021-12-07T11:59:53.044Z"
   },
   {
    "duration": 15,
    "start_time": "2021-12-07T12:00:03.570Z"
   },
   {
    "duration": 199,
    "start_time": "2021-12-07T12:21:58.271Z"
   },
   {
    "duration": 561,
    "start_time": "2021-12-07T12:22:06.640Z"
   },
   {
    "duration": 454,
    "start_time": "2021-12-07T12:22:13.528Z"
   },
   {
    "duration": 59,
    "start_time": "2021-12-07T12:22:23.761Z"
   },
   {
    "duration": 5,
    "start_time": "2021-12-07T12:22:23.822Z"
   },
   {
    "duration": 13,
    "start_time": "2021-12-07T12:22:23.829Z"
   },
   {
    "duration": 8,
    "start_time": "2021-12-07T12:22:23.844Z"
   },
   {
    "duration": 6,
    "start_time": "2021-12-07T12:22:23.854Z"
   },
   {
    "duration": 5,
    "start_time": "2021-12-07T12:22:23.862Z"
   },
   {
    "duration": 39,
    "start_time": "2021-12-07T12:22:23.868Z"
   },
   {
    "duration": 6,
    "start_time": "2021-12-07T12:22:23.910Z"
   },
   {
    "duration": 5,
    "start_time": "2021-12-07T12:22:23.918Z"
   },
   {
    "duration": 12,
    "start_time": "2021-12-07T12:22:23.925Z"
   },
   {
    "duration": 71,
    "start_time": "2021-12-07T12:22:23.939Z"
   },
   {
    "duration": 468,
    "start_time": "2021-12-07T12:22:24.012Z"
   },
   {
    "duration": 398,
    "start_time": "2021-12-07T12:22:37.992Z"
   },
   {
    "duration": 17,
    "start_time": "2021-12-07T12:24:09.737Z"
   },
   {
    "duration": 167,
    "start_time": "2021-12-07T12:24:18.029Z"
   },
   {
    "duration": 415,
    "start_time": "2021-12-07T12:24:35.690Z"
   },
   {
    "duration": 353,
    "start_time": "2021-12-07T12:24:55.325Z"
   },
   {
    "duration": 19,
    "start_time": "2021-12-07T12:25:39.263Z"
   },
   {
    "duration": 28,
    "start_time": "2021-12-07T12:27:45.494Z"
   },
   {
    "duration": 9,
    "start_time": "2021-12-07T12:27:53.479Z"
   },
   {
    "duration": 23,
    "start_time": "2021-12-07T12:28:01.141Z"
   },
   {
    "duration": 20,
    "start_time": "2021-12-07T12:28:18.510Z"
   },
   {
    "duration": 20,
    "start_time": "2021-12-07T12:29:06.516Z"
   },
   {
    "duration": 10,
    "start_time": "2021-12-07T12:29:29.966Z"
   },
   {
    "duration": 61,
    "start_time": "2021-12-07T12:29:39.278Z"
   },
   {
    "duration": 5,
    "start_time": "2021-12-07T12:29:39.341Z"
   },
   {
    "duration": 10,
    "start_time": "2021-12-07T12:29:39.348Z"
   },
   {
    "duration": 10,
    "start_time": "2021-12-07T12:29:39.360Z"
   },
   {
    "duration": 18,
    "start_time": "2021-12-07T12:29:39.372Z"
   },
   {
    "duration": 18,
    "start_time": "2021-12-07T12:29:39.391Z"
   },
   {
    "duration": 9,
    "start_time": "2021-12-07T12:29:39.411Z"
   },
   {
    "duration": 8,
    "start_time": "2021-12-07T12:29:39.424Z"
   },
   {
    "duration": 5,
    "start_time": "2021-12-07T12:29:39.434Z"
   },
   {
    "duration": 13,
    "start_time": "2021-12-07T12:29:39.441Z"
   },
   {
    "duration": 77,
    "start_time": "2021-12-07T12:29:39.456Z"
   },
   {
    "duration": 6,
    "start_time": "2021-12-07T12:29:39.535Z"
   },
   {
    "duration": 21,
    "start_time": "2021-12-07T12:29:39.543Z"
   },
   {
    "duration": 12,
    "start_time": "2021-12-07T12:29:39.566Z"
   },
   {
    "duration": 8,
    "start_time": "2021-12-07T12:30:29.696Z"
   },
   {
    "duration": 63,
    "start_time": "2021-12-07T12:30:36.563Z"
   },
   {
    "duration": 7,
    "start_time": "2021-12-07T12:30:36.629Z"
   },
   {
    "duration": 10,
    "start_time": "2021-12-07T12:30:36.638Z"
   },
   {
    "duration": 5,
    "start_time": "2021-12-07T12:30:36.651Z"
   },
   {
    "duration": 7,
    "start_time": "2021-12-07T12:30:36.658Z"
   },
   {
    "duration": 6,
    "start_time": "2021-12-07T12:30:36.666Z"
   },
   {
    "duration": 39,
    "start_time": "2021-12-07T12:30:36.674Z"
   },
   {
    "duration": 17,
    "start_time": "2021-12-07T12:30:36.715Z"
   },
   {
    "duration": 4,
    "start_time": "2021-12-07T12:30:36.734Z"
   },
   {
    "duration": 15,
    "start_time": "2021-12-07T12:30:36.740Z"
   },
   {
    "duration": 70,
    "start_time": "2021-12-07T12:30:36.756Z"
   },
   {
    "duration": 6,
    "start_time": "2021-12-07T12:30:36.828Z"
   },
   {
    "duration": 11,
    "start_time": "2021-12-07T12:30:36.835Z"
   },
   {
    "duration": 20,
    "start_time": "2021-12-07T12:30:36.848Z"
   },
   {
    "duration": 10,
    "start_time": "2021-12-07T12:30:36.870Z"
   },
   {
    "duration": 7,
    "start_time": "2021-12-07T13:15:06.776Z"
   },
   {
    "duration": 365,
    "start_time": "2021-12-07T13:25:46.148Z"
   },
   {
    "duration": 7,
    "start_time": "2021-12-07T13:26:21.509Z"
   },
   {
    "duration": 128,
    "start_time": "2021-12-07T13:27:20.622Z"
   },
   {
    "duration": 108,
    "start_time": "2021-12-07T13:27:22.538Z"
   },
   {
    "duration": 121,
    "start_time": "2021-12-07T13:27:26.032Z"
   },
   {
    "duration": 120,
    "start_time": "2021-12-07T13:27:28.400Z"
   },
   {
    "duration": 974,
    "start_time": "2021-12-07T18:54:30.451Z"
   },
   {
    "duration": 1005,
    "start_time": "2021-12-07T19:01:18.212Z"
   },
   {
    "duration": 570,
    "start_time": "2021-12-07T19:02:16.333Z"
   },
   {
    "duration": 5,
    "start_time": "2021-12-07T19:02:25.235Z"
   },
   {
    "duration": 8,
    "start_time": "2021-12-07T19:02:32.178Z"
   },
   {
    "duration": 1141,
    "start_time": "2021-12-07T19:03:43.786Z"
   },
   {
    "duration": 491,
    "start_time": "2021-12-07T19:09:01.884Z"
   },
   {
    "duration": 1106,
    "start_time": "2021-12-07T19:09:21.761Z"
   },
   {
    "duration": 1073,
    "start_time": "2021-12-07T19:09:28.339Z"
   },
   {
    "duration": 1498,
    "start_time": "2021-12-07T19:10:01.151Z"
   },
   {
    "duration": 193,
    "start_time": "2021-12-07T19:16:48.933Z"
   },
   {
    "duration": 119,
    "start_time": "2021-12-07T19:16:55.742Z"
   },
   {
    "duration": 136,
    "start_time": "2021-12-07T19:17:09.759Z"
   },
   {
    "duration": 172,
    "start_time": "2021-12-07T19:17:19.271Z"
   },
   {
    "duration": 152,
    "start_time": "2021-12-07T19:17:24.574Z"
   },
   {
    "duration": 420,
    "start_time": "2021-12-07T19:20:24.410Z"
   },
   {
    "duration": 1284,
    "start_time": "2021-12-07T19:21:40.852Z"
   },
   {
    "duration": 84,
    "start_time": "2021-12-07T19:21:43.095Z"
   },
   {
    "duration": 8,
    "start_time": "2021-12-07T19:21:43.182Z"
   },
   {
    "duration": 18,
    "start_time": "2021-12-07T19:21:43.192Z"
   },
   {
    "duration": 6,
    "start_time": "2021-12-07T19:21:43.213Z"
   },
   {
    "duration": 39,
    "start_time": "2021-12-07T19:21:43.221Z"
   },
   {
    "duration": 7,
    "start_time": "2021-12-07T19:21:43.263Z"
   },
   {
    "duration": 13,
    "start_time": "2021-12-07T19:21:43.274Z"
   },
   {
    "duration": 10,
    "start_time": "2021-12-07T19:21:43.291Z"
   },
   {
    "duration": 6,
    "start_time": "2021-12-07T19:21:43.304Z"
   },
   {
    "duration": 54,
    "start_time": "2021-12-07T19:21:43.313Z"
   },
   {
    "duration": 68,
    "start_time": "2021-12-07T19:21:43.369Z"
   },
   {
    "duration": 8,
    "start_time": "2021-12-07T19:21:43.459Z"
   },
   {
    "duration": 10,
    "start_time": "2021-12-07T19:21:43.470Z"
   },
   {
    "duration": 30,
    "start_time": "2021-12-07T19:21:43.483Z"
   },
   {
    "duration": 10,
    "start_time": "2021-12-07T19:21:43.515Z"
   },
   {
    "duration": 10,
    "start_time": "2021-12-07T19:21:43.559Z"
   },
   {
    "duration": 6203,
    "start_time": "2021-12-07T19:21:43.572Z"
   },
   {
    "duration": 3962,
    "start_time": "2021-12-07T19:22:32.931Z"
   },
   {
    "duration": 11548,
    "start_time": "2021-12-07T19:22:45.049Z"
   },
   {
    "duration": 12301,
    "start_time": "2021-12-07T19:42:25.082Z"
   },
   {
    "duration": 11854,
    "start_time": "2021-12-07T19:55:42.539Z"
   },
   {
    "duration": 13384,
    "start_time": "2021-12-07T20:08:39.572Z"
   },
   {
    "duration": 11917,
    "start_time": "2021-12-07T20:08:55.384Z"
   },
   {
    "duration": 1267,
    "start_time": "2021-12-07T20:12:56.656Z"
   },
   {
    "duration": 4330,
    "start_time": "2021-12-07T20:13:04.246Z"
   },
   {
    "duration": 110,
    "start_time": "2021-12-07T20:13:10.129Z"
   },
   {
    "duration": 7,
    "start_time": "2021-12-07T20:13:10.242Z"
   },
   {
    "duration": 13,
    "start_time": "2021-12-07T20:13:10.253Z"
   },
   {
    "duration": 8,
    "start_time": "2021-12-07T20:13:10.269Z"
   },
   {
    "duration": 9,
    "start_time": "2021-12-07T20:13:10.280Z"
   },
   {
    "duration": 6,
    "start_time": "2021-12-07T20:13:10.292Z"
   },
   {
    "duration": 10,
    "start_time": "2021-12-07T20:13:10.301Z"
   },
   {
    "duration": 9,
    "start_time": "2021-12-07T20:13:10.358Z"
   },
   {
    "duration": 8,
    "start_time": "2021-12-07T20:13:10.370Z"
   },
   {
    "duration": 15,
    "start_time": "2021-12-07T20:13:10.380Z"
   },
   {
    "duration": 102,
    "start_time": "2021-12-07T20:13:10.398Z"
   },
   {
    "duration": 10,
    "start_time": "2021-12-07T20:13:10.502Z"
   },
   {
    "duration": 19,
    "start_time": "2021-12-07T20:13:10.516Z"
   },
   {
    "duration": 48,
    "start_time": "2021-12-07T20:13:10.538Z"
   },
   {
    "duration": 16,
    "start_time": "2021-12-07T20:13:10.589Z"
   },
   {
    "duration": 11,
    "start_time": "2021-12-07T20:13:10.608Z"
   },
   {
    "duration": 5057,
    "start_time": "2021-12-07T20:13:10.622Z"
   },
   {
    "duration": 3898,
    "start_time": "2021-12-07T20:14:23.973Z"
   },
   {
    "duration": 4293,
    "start_time": "2021-12-07T20:15:12.328Z"
   },
   {
    "duration": 4396,
    "start_time": "2021-12-07T20:15:43.514Z"
   },
   {
    "duration": 398,
    "start_time": "2021-12-07T20:18:23.945Z"
   },
   {
    "duration": 403,
    "start_time": "2021-12-07T20:18:42.796Z"
   },
   {
    "duration": 9,
    "start_time": "2021-12-07T20:21:08.833Z"
   },
   {
    "duration": 536,
    "start_time": "2021-12-07T20:23:50.612Z"
   },
   {
    "duration": 713,
    "start_time": "2021-12-07T20:24:01.021Z"
   },
   {
    "duration": 802,
    "start_time": "2021-12-07T20:24:41.781Z"
   },
   {
    "duration": 15,
    "start_time": "2021-12-07T20:24:59.572Z"
   },
   {
    "duration": 459,
    "start_time": "2021-12-08T07:52:45.294Z"
   },
   {
    "duration": 453,
    "start_time": "2021-12-08T07:52:51.824Z"
   },
   {
    "duration": 620,
    "start_time": "2021-12-08T07:55:29.906Z"
   },
   {
    "duration": 1147,
    "start_time": "2021-12-08T07:55:36.905Z"
   },
   {
    "duration": 10,
    "start_time": "2021-12-08T07:55:38.055Z"
   },
   {
    "duration": 24,
    "start_time": "2021-12-08T07:55:38.069Z"
   },
   {
    "duration": 10,
    "start_time": "2021-12-08T07:55:38.096Z"
   },
   {
    "duration": 17,
    "start_time": "2021-12-08T07:55:38.108Z"
   },
   {
    "duration": 9,
    "start_time": "2021-12-08T07:55:38.128Z"
   },
   {
    "duration": 27,
    "start_time": "2021-12-08T07:55:38.139Z"
   },
   {
    "duration": 11,
    "start_time": "2021-12-08T07:55:38.169Z"
   },
   {
    "duration": 5,
    "start_time": "2021-12-08T07:55:38.182Z"
   },
   {
    "duration": 26,
    "start_time": "2021-12-08T07:55:38.189Z"
   },
   {
    "duration": 89,
    "start_time": "2021-12-08T07:55:38.217Z"
   },
   {
    "duration": 8,
    "start_time": "2021-12-08T07:55:38.309Z"
   },
   {
    "duration": 19,
    "start_time": "2021-12-08T07:55:38.319Z"
   },
   {
    "duration": 46,
    "start_time": "2021-12-08T07:55:38.340Z"
   },
   {
    "duration": 27,
    "start_time": "2021-12-08T07:55:38.389Z"
   },
   {
    "duration": 14,
    "start_time": "2021-12-08T07:55:38.419Z"
   },
   {
    "duration": 1000,
    "start_time": "2021-12-08T07:55:38.436Z"
   },
   {
    "duration": 1838,
    "start_time": "2021-12-08T07:55:47.697Z"
   },
   {
    "duration": 822,
    "start_time": "2021-12-08T07:55:52.584Z"
   },
   {
    "duration": 690,
    "start_time": "2021-12-08T07:55:59.974Z"
   },
   {
    "duration": 582,
    "start_time": "2021-12-08T08:02:05.616Z"
   },
   {
    "duration": 18,
    "start_time": "2021-12-08T08:06:26.163Z"
   },
   {
    "duration": 535,
    "start_time": "2021-12-08T08:06:49.486Z"
   },
   {
    "duration": 107,
    "start_time": "2021-12-08T08:07:15.622Z"
   },
   {
    "duration": 79,
    "start_time": "2021-12-08T08:07:36.755Z"
   },
   {
    "duration": 25,
    "start_time": "2021-12-08T08:07:36.836Z"
   },
   {
    "duration": 11,
    "start_time": "2021-12-08T08:07:36.864Z"
   },
   {
    "duration": 6,
    "start_time": "2021-12-08T08:07:36.877Z"
   },
   {
    "duration": 9,
    "start_time": "2021-12-08T08:07:36.886Z"
   },
   {
    "duration": 7,
    "start_time": "2021-12-08T08:07:36.898Z"
   },
   {
    "duration": 56,
    "start_time": "2021-12-08T08:07:36.908Z"
   },
   {
    "duration": 7,
    "start_time": "2021-12-08T08:07:36.970Z"
   },
   {
    "duration": 6,
    "start_time": "2021-12-08T08:07:36.979Z"
   },
   {
    "duration": 15,
    "start_time": "2021-12-08T08:07:36.987Z"
   },
   {
    "duration": 104,
    "start_time": "2021-12-08T08:07:37.005Z"
   },
   {
    "duration": 8,
    "start_time": "2021-12-08T08:07:37.112Z"
   },
   {
    "duration": 37,
    "start_time": "2021-12-08T08:07:37.123Z"
   },
   {
    "duration": 26,
    "start_time": "2021-12-08T08:07:37.163Z"
   },
   {
    "duration": 12,
    "start_time": "2021-12-08T08:07:37.192Z"
   },
   {
    "duration": 10,
    "start_time": "2021-12-08T08:07:37.206Z"
   },
   {
    "duration": 1293,
    "start_time": "2021-12-08T08:07:37.218Z"
   },
   {
    "duration": 18,
    "start_time": "2021-12-08T08:08:14.354Z"
   },
   {
    "duration": 16,
    "start_time": "2021-12-08T08:08:38.287Z"
   },
   {
    "duration": 143,
    "start_time": "2021-12-08T08:08:54.772Z"
   },
   {
    "duration": 135,
    "start_time": "2021-12-08T08:09:15.485Z"
   },
   {
    "duration": 105,
    "start_time": "2021-12-08T08:09:19.287Z"
   },
   {
    "duration": 9,
    "start_time": "2021-12-08T08:09:19.395Z"
   },
   {
    "duration": 13,
    "start_time": "2021-12-08T08:09:19.407Z"
   },
   {
    "duration": 8,
    "start_time": "2021-12-08T08:09:19.423Z"
   },
   {
    "duration": 34,
    "start_time": "2021-12-08T08:09:19.433Z"
   },
   {
    "duration": 7,
    "start_time": "2021-12-08T08:09:19.471Z"
   },
   {
    "duration": 10,
    "start_time": "2021-12-08T08:09:19.481Z"
   },
   {
    "duration": 8,
    "start_time": "2021-12-08T08:09:19.495Z"
   },
   {
    "duration": 8,
    "start_time": "2021-12-08T08:09:19.560Z"
   },
   {
    "duration": 19,
    "start_time": "2021-12-08T08:09:19.571Z"
   },
   {
    "duration": 105,
    "start_time": "2021-12-08T08:09:19.593Z"
   },
   {
    "duration": 10,
    "start_time": "2021-12-08T08:09:19.702Z"
   },
   {
    "duration": 16,
    "start_time": "2021-12-08T08:09:19.715Z"
   },
   {
    "duration": 44,
    "start_time": "2021-12-08T08:09:19.734Z"
   },
   {
    "duration": 11,
    "start_time": "2021-12-08T08:09:19.781Z"
   },
   {
    "duration": 11,
    "start_time": "2021-12-08T08:09:19.795Z"
   },
   {
    "duration": 171,
    "start_time": "2021-12-08T08:09:19.809Z"
   },
   {
    "duration": 123,
    "start_time": "2021-12-08T08:09:43.339Z"
   },
   {
    "duration": 5447,
    "start_time": "2021-12-08T08:10:07.995Z"
   },
   {
    "duration": 4748,
    "start_time": "2021-12-08T08:10:24.760Z"
   },
   {
    "duration": 137,
    "start_time": "2021-12-08T08:10:48.282Z"
   },
   {
    "duration": 525,
    "start_time": "2021-12-08T08:11:29.327Z"
   },
   {
    "duration": 135,
    "start_time": "2021-12-08T08:11:36.822Z"
   },
   {
    "duration": 11,
    "start_time": "2021-12-08T08:11:36.961Z"
   },
   {
    "duration": 14,
    "start_time": "2021-12-08T08:11:36.976Z"
   },
   {
    "duration": 9,
    "start_time": "2021-12-08T08:11:36.993Z"
   },
   {
    "duration": 12,
    "start_time": "2021-12-08T08:11:37.005Z"
   },
   {
    "duration": 46,
    "start_time": "2021-12-08T08:11:37.020Z"
   },
   {
    "duration": 22,
    "start_time": "2021-12-08T08:11:37.069Z"
   },
   {
    "duration": 12,
    "start_time": "2021-12-08T08:11:37.095Z"
   },
   {
    "duration": 13,
    "start_time": "2021-12-08T08:11:37.109Z"
   },
   {
    "duration": 43,
    "start_time": "2021-12-08T08:11:37.124Z"
   },
   {
    "duration": 66,
    "start_time": "2021-12-08T08:11:37.169Z"
   },
   {
    "duration": 25,
    "start_time": "2021-12-08T08:11:37.237Z"
   },
   {
    "duration": 10,
    "start_time": "2021-12-08T08:11:37.264Z"
   },
   {
    "duration": 27,
    "start_time": "2021-12-08T08:11:37.278Z"
   },
   {
    "duration": 11,
    "start_time": "2021-12-08T08:11:37.308Z"
   },
   {
    "duration": 11,
    "start_time": "2021-12-08T08:11:37.360Z"
   },
   {
    "duration": 403,
    "start_time": "2021-12-08T08:11:37.374Z"
   },
   {
    "duration": 918,
    "start_time": "2021-12-08T08:11:50.488Z"
   },
   {
    "duration": 480,
    "start_time": "2021-12-08T08:15:04.298Z"
   },
   {
    "duration": 415,
    "start_time": "2021-12-08T08:24:16.928Z"
   },
   {
    "duration": 367,
    "start_time": "2021-12-08T15:15:52.535Z"
   },
   {
    "duration": 883,
    "start_time": "2021-12-08T15:15:57.486Z"
   },
   {
    "duration": 9,
    "start_time": "2021-12-08T15:15:58.371Z"
   },
   {
    "duration": 11,
    "start_time": "2021-12-08T15:15:58.383Z"
   },
   {
    "duration": 24,
    "start_time": "2021-12-08T15:15:58.398Z"
   },
   {
    "duration": 8,
    "start_time": "2021-12-08T15:15:58.424Z"
   },
   {
    "duration": 6,
    "start_time": "2021-12-08T15:15:58.435Z"
   },
   {
    "duration": 13,
    "start_time": "2021-12-08T15:15:58.444Z"
   },
   {
    "duration": 9,
    "start_time": "2021-12-08T15:15:58.460Z"
   },
   {
    "duration": 46,
    "start_time": "2021-12-08T15:15:58.472Z"
   },
   {
    "duration": 16,
    "start_time": "2021-12-08T15:15:58.521Z"
   },
   {
    "duration": 89,
    "start_time": "2021-12-08T15:15:58.539Z"
   },
   {
    "duration": 8,
    "start_time": "2021-12-08T15:15:58.631Z"
   },
   {
    "duration": 9,
    "start_time": "2021-12-08T15:15:58.642Z"
   },
   {
    "duration": 23,
    "start_time": "2021-12-08T15:15:58.654Z"
   },
   {
    "duration": 43,
    "start_time": "2021-12-08T15:15:58.680Z"
   },
   {
    "duration": 9,
    "start_time": "2021-12-08T15:15:58.725Z"
   },
   {
    "duration": 966,
    "start_time": "2021-12-08T15:15:58.737Z"
   },
   {
    "duration": 17,
    "start_time": "2021-12-08T15:16:22.622Z"
   },
   {
    "duration": 15,
    "start_time": "2021-12-08T15:16:51.459Z"
   },
   {
    "duration": 387,
    "start_time": "2021-12-08T15:20:13.600Z"
   },
   {
    "duration": 385,
    "start_time": "2021-12-08T15:21:07.873Z"
   },
   {
    "duration": 292,
    "start_time": "2021-12-08T15:21:17.023Z"
   },
   {
    "duration": 313,
    "start_time": "2021-12-08T15:21:42.803Z"
   },
   {
    "duration": 4528,
    "start_time": "2021-12-08T15:22:27.037Z"
   },
   {
    "duration": 4495,
    "start_time": "2021-12-08T15:23:17.039Z"
   },
   {
    "duration": 4460,
    "start_time": "2021-12-08T15:24:15.706Z"
   },
   {
    "duration": 99,
    "start_time": "2021-12-08T15:26:23.387Z"
   },
   {
    "duration": 103,
    "start_time": "2021-12-08T15:26:34.149Z"
   },
   {
    "duration": 103,
    "start_time": "2021-12-08T15:27:12.068Z"
   },
   {
    "duration": 7,
    "start_time": "2021-12-08T15:27:12.174Z"
   },
   {
    "duration": 9,
    "start_time": "2021-12-08T15:27:12.184Z"
   },
   {
    "duration": 25,
    "start_time": "2021-12-08T15:27:12.196Z"
   },
   {
    "duration": 7,
    "start_time": "2021-12-08T15:27:12.223Z"
   },
   {
    "duration": 7,
    "start_time": "2021-12-08T15:27:12.232Z"
   },
   {
    "duration": 15,
    "start_time": "2021-12-08T15:27:12.241Z"
   },
   {
    "duration": 7,
    "start_time": "2021-12-08T15:27:12.260Z"
   },
   {
    "duration": 50,
    "start_time": "2021-12-08T15:27:12.271Z"
   },
   {
    "duration": 15,
    "start_time": "2021-12-08T15:27:12.323Z"
   },
   {
    "duration": 89,
    "start_time": "2021-12-08T15:27:12.340Z"
   },
   {
    "duration": 8,
    "start_time": "2021-12-08T15:27:12.431Z"
   },
   {
    "duration": 10,
    "start_time": "2021-12-08T15:27:12.441Z"
   },
   {
    "duration": 62,
    "start_time": "2021-12-08T15:27:12.455Z"
   },
   {
    "duration": 10,
    "start_time": "2021-12-08T15:27:12.519Z"
   },
   {
    "duration": 11,
    "start_time": "2021-12-08T15:27:12.531Z"
   },
   {
    "duration": 118,
    "start_time": "2021-12-08T15:27:12.545Z"
   },
   {
    "duration": 97,
    "start_time": "2021-12-08T15:27:27.618Z"
   },
   {
    "duration": 114,
    "start_time": "2021-12-08T15:27:35.646Z"
   },
   {
    "duration": 100,
    "start_time": "2021-12-08T15:32:09.048Z"
   },
   {
    "duration": 1201,
    "start_time": "2021-12-08T15:33:19.453Z"
   },
   {
    "duration": 79,
    "start_time": "2021-12-08T16:45:23.754Z"
   },
   {
    "duration": 76,
    "start_time": "2021-12-08T16:45:26.145Z"
   },
   {
    "duration": 8,
    "start_time": "2021-12-08T16:45:26.223Z"
   },
   {
    "duration": 10,
    "start_time": "2021-12-08T16:45:26.234Z"
   },
   {
    "duration": 8,
    "start_time": "2021-12-08T16:45:26.246Z"
   },
   {
    "duration": 16,
    "start_time": "2021-12-08T16:45:26.257Z"
   },
   {
    "duration": 7,
    "start_time": "2021-12-08T16:45:26.276Z"
   },
   {
    "duration": 10,
    "start_time": "2021-12-08T16:45:26.318Z"
   },
   {
    "duration": 8,
    "start_time": "2021-12-08T16:45:26.332Z"
   },
   {
    "duration": 7,
    "start_time": "2021-12-08T16:45:26.342Z"
   },
   {
    "duration": 17,
    "start_time": "2021-12-08T16:45:26.351Z"
   },
   {
    "duration": 107,
    "start_time": "2021-12-08T16:45:26.370Z"
   },
   {
    "duration": 8,
    "start_time": "2021-12-08T16:45:26.480Z"
   },
   {
    "duration": 10,
    "start_time": "2021-12-08T16:45:26.517Z"
   },
   {
    "duration": 24,
    "start_time": "2021-12-08T16:45:26.529Z"
   },
   {
    "duration": 9,
    "start_time": "2021-12-08T16:45:26.556Z"
   },
   {
    "duration": 9,
    "start_time": "2021-12-08T16:45:26.568Z"
   },
   {
    "duration": 1022,
    "start_time": "2021-12-08T16:45:26.579Z"
   },
   {
    "duration": 115,
    "start_time": "2021-12-08T16:45:27.604Z"
   },
   {
    "duration": 5,
    "start_time": "2021-12-08T17:03:16.284Z"
   },
   {
    "duration": 1385,
    "start_time": "2021-12-08T17:10:00.361Z"
   },
   {
    "duration": 78,
    "start_time": "2021-12-08T17:11:07.242Z"
   },
   {
    "duration": 8,
    "start_time": "2021-12-08T17:11:07.322Z"
   },
   {
    "duration": 11,
    "start_time": "2021-12-08T17:11:07.333Z"
   },
   {
    "duration": 7,
    "start_time": "2021-12-08T17:11:07.346Z"
   },
   {
    "duration": 13,
    "start_time": "2021-12-08T17:11:07.355Z"
   },
   {
    "duration": 6,
    "start_time": "2021-12-08T17:11:07.371Z"
   },
   {
    "duration": 47,
    "start_time": "2021-12-08T17:11:07.379Z"
   },
   {
    "duration": 12,
    "start_time": "2021-12-08T17:11:07.430Z"
   },
   {
    "duration": 5,
    "start_time": "2021-12-08T17:11:07.445Z"
   },
   {
    "duration": 16,
    "start_time": "2021-12-08T17:11:07.452Z"
   },
   {
    "duration": 104,
    "start_time": "2021-12-08T17:11:07.470Z"
   },
   {
    "duration": 9,
    "start_time": "2021-12-08T17:11:07.577Z"
   },
   {
    "duration": 35,
    "start_time": "2021-12-08T17:11:07.590Z"
   },
   {
    "duration": 25,
    "start_time": "2021-12-08T17:11:07.628Z"
   },
   {
    "duration": 13,
    "start_time": "2021-12-08T17:11:07.655Z"
   },
   {
    "duration": 11,
    "start_time": "2021-12-08T17:11:07.671Z"
   },
   {
    "duration": 1012,
    "start_time": "2021-12-08T17:11:07.685Z"
   },
   {
    "duration": 1420,
    "start_time": "2021-12-08T17:11:08.700Z"
   },
   {
    "duration": 344,
    "start_time": "2021-12-08T17:17:11.280Z"
   },
   {
    "duration": 114,
    "start_time": "2021-12-08T17:18:04.272Z"
   },
   {
    "duration": 4586,
    "start_time": "2021-12-08T17:18:44.311Z"
   },
   {
    "duration": 4865,
    "start_time": "2021-12-08T17:19:03.144Z"
   },
   {
    "duration": 4707,
    "start_time": "2021-12-08T17:19:08.984Z"
   },
   {
    "duration": 4667,
    "start_time": "2021-12-08T17:19:28.109Z"
   },
   {
    "duration": 4737,
    "start_time": "2021-12-08T17:20:08.412Z"
   },
   {
    "duration": 1271,
    "start_time": "2021-12-08T17:22:20.788Z"
   },
   {
    "duration": 1386,
    "start_time": "2021-12-08T17:22:33.683Z"
   },
   {
    "duration": 99,
    "start_time": "2021-12-08T17:23:01.373Z"
   },
   {
    "duration": 105,
    "start_time": "2021-12-08T17:23:10.491Z"
   },
   {
    "duration": 4636,
    "start_time": "2021-12-08T17:23:30.549Z"
   },
   {
    "duration": 4740,
    "start_time": "2021-12-08T17:23:47.231Z"
   },
   {
    "duration": 4606,
    "start_time": "2021-12-08T17:24:42.817Z"
   },
   {
    "duration": 4662,
    "start_time": "2021-12-08T17:24:58.015Z"
   },
   {
    "duration": 108,
    "start_time": "2021-12-08T18:16:29.927Z"
   },
   {
    "duration": 13,
    "start_time": "2021-12-08T18:16:37.521Z"
   },
   {
    "duration": 135,
    "start_time": "2021-12-08T18:45:10.302Z"
   },
   {
    "duration": 22,
    "start_time": "2021-12-08T18:50:56.674Z"
   },
   {
    "duration": 15,
    "start_time": "2021-12-08T18:52:02.911Z"
   },
   {
    "duration": 305,
    "start_time": "2021-12-08T18:52:17.035Z"
   },
   {
    "duration": 16,
    "start_time": "2021-12-08T18:52:48.782Z"
   },
   {
    "duration": 100,
    "start_time": "2021-12-08T18:54:10.030Z"
   },
   {
    "duration": 20,
    "start_time": "2021-12-08T19:38:38.857Z"
   },
   {
    "duration": 123,
    "start_time": "2021-12-08T19:38:51.953Z"
   },
   {
    "duration": 76,
    "start_time": "2021-12-08T19:38:58.495Z"
   },
   {
    "duration": 7,
    "start_time": "2021-12-08T19:38:58.574Z"
   },
   {
    "duration": 10,
    "start_time": "2021-12-08T19:38:58.584Z"
   },
   {
    "duration": 6,
    "start_time": "2021-12-08T19:38:58.617Z"
   },
   {
    "duration": 9,
    "start_time": "2021-12-08T19:38:58.625Z"
   },
   {
    "duration": 6,
    "start_time": "2021-12-08T19:38:58.637Z"
   },
   {
    "duration": 11,
    "start_time": "2021-12-08T19:38:58.645Z"
   },
   {
    "duration": 8,
    "start_time": "2021-12-08T19:38:58.660Z"
   },
   {
    "duration": 49,
    "start_time": "2021-12-08T19:38:58.671Z"
   },
   {
    "duration": 19,
    "start_time": "2021-12-08T19:38:58.723Z"
   },
   {
    "duration": 89,
    "start_time": "2021-12-08T19:38:58.745Z"
   },
   {
    "duration": 8,
    "start_time": "2021-12-08T19:38:58.836Z"
   },
   {
    "duration": 9,
    "start_time": "2021-12-08T19:38:58.847Z"
   },
   {
    "duration": 25,
    "start_time": "2021-12-08T19:38:58.859Z"
   },
   {
    "duration": 39,
    "start_time": "2021-12-08T19:38:58.887Z"
   },
   {
    "duration": 9,
    "start_time": "2021-12-08T19:38:58.929Z"
   },
   {
    "duration": 977,
    "start_time": "2021-12-08T19:38:58.940Z"
   },
   {
    "duration": 4852,
    "start_time": "2021-12-08T19:38:59.920Z"
   },
   {
    "duration": 11,
    "start_time": "2021-12-08T19:39:04.774Z"
   },
   {
    "duration": 109,
    "start_time": "2021-12-08T19:39:04.787Z"
   },
   {
    "duration": -61,
    "start_time": "2021-12-08T19:39:04.960Z"
   },
   {
    "duration": -62,
    "start_time": "2021-12-08T19:39:04.962Z"
   },
   {
    "duration": 162,
    "start_time": "2021-12-08T19:39:11.474Z"
   },
   {
    "duration": 100,
    "start_time": "2021-12-08T19:39:30.588Z"
   },
   {
    "duration": 19,
    "start_time": "2021-12-08T19:39:35.597Z"
   },
   {
    "duration": 105,
    "start_time": "2021-12-08T19:40:19.118Z"
   },
   {
    "duration": 22,
    "start_time": "2021-12-08T19:40:26.480Z"
   },
   {
    "duration": 19,
    "start_time": "2021-12-08T19:41:17.084Z"
   },
   {
    "duration": 32,
    "start_time": "2021-12-08T19:43:31.659Z"
   },
   {
    "duration": 100,
    "start_time": "2021-12-08T19:43:45.138Z"
   },
   {
    "duration": 168,
    "start_time": "2021-12-08T19:43:49.884Z"
   },
   {
    "duration": 357,
    "start_time": "2021-12-08T20:05:57.941Z"
   },
   {
    "duration": 296,
    "start_time": "2021-12-08T20:07:16.330Z"
   },
   {
    "duration": 35,
    "start_time": "2021-12-08T20:07:33.811Z"
   },
   {
    "duration": 579,
    "start_time": "2021-12-08T20:10:17.005Z"
   },
   {
    "duration": 27,
    "start_time": "2021-12-08T20:10:40.884Z"
   },
   {
    "duration": 27,
    "start_time": "2021-12-08T20:12:59.060Z"
   },
   {
    "duration": 154,
    "start_time": "2021-12-09T06:50:48.139Z"
   },
   {
    "duration": 111,
    "start_time": "2021-12-09T06:50:57.229Z"
   },
   {
    "duration": 376,
    "start_time": "2021-12-09T06:51:06.868Z"
   },
   {
    "duration": 410,
    "start_time": "2021-12-09T06:57:22.321Z"
   },
   {
    "duration": 657,
    "start_time": "2021-12-09T06:57:28.850Z"
   },
   {
    "duration": 5,
    "start_time": "2021-12-09T06:57:29.509Z"
   },
   {
    "duration": 8,
    "start_time": "2021-12-09T06:57:29.516Z"
   },
   {
    "duration": 6,
    "start_time": "2021-12-09T06:57:29.526Z"
   },
   {
    "duration": 7,
    "start_time": "2021-12-09T06:57:29.534Z"
   },
   {
    "duration": 4,
    "start_time": "2021-12-09T06:57:29.542Z"
   },
   {
    "duration": 8,
    "start_time": "2021-12-09T06:57:29.547Z"
   },
   {
    "duration": 7,
    "start_time": "2021-12-09T06:57:29.557Z"
   },
   {
    "duration": 4,
    "start_time": "2021-12-09T06:57:29.566Z"
   },
   {
    "duration": 10,
    "start_time": "2021-12-09T06:57:29.572Z"
   },
   {
    "duration": 42,
    "start_time": "2021-12-09T06:57:29.584Z"
   },
   {
    "duration": 6,
    "start_time": "2021-12-09T06:57:29.628Z"
   },
   {
    "duration": 7,
    "start_time": "2021-12-09T06:57:29.635Z"
   },
   {
    "duration": 17,
    "start_time": "2021-12-09T06:57:29.644Z"
   },
   {
    "duration": 6,
    "start_time": "2021-12-09T06:57:29.662Z"
   },
   {
    "duration": 7,
    "start_time": "2021-12-09T06:57:29.670Z"
   },
   {
    "duration": 1058,
    "start_time": "2021-12-09T06:57:29.678Z"
   },
   {
    "duration": 698,
    "start_time": "2021-12-09T06:57:30.040Z"
   },
   {
    "duration": 690,
    "start_time": "2021-12-09T06:57:30.050Z"
   },
   {
    "duration": 689,
    "start_time": "2021-12-09T06:57:30.052Z"
   },
   {
    "duration": 687,
    "start_time": "2021-12-09T06:57:30.055Z"
   },
   {
    "duration": 686,
    "start_time": "2021-12-09T06:57:30.057Z"
   },
   {
    "duration": 685,
    "start_time": "2021-12-09T06:57:30.059Z"
   },
   {
    "duration": 1036,
    "start_time": "2021-12-09T06:58:04.396Z"
   },
   {
    "duration": 695,
    "start_time": "2021-12-09T07:18:35.879Z"
   },
   {
    "duration": 356,
    "start_time": "2021-12-09T07:18:50.472Z"
   },
   {
    "duration": 396,
    "start_time": "2021-12-09T07:19:25.031Z"
   },
   {
    "duration": 347,
    "start_time": "2021-12-09T07:19:49.419Z"
   },
   {
    "duration": 336,
    "start_time": "2021-12-09T10:50:39.328Z"
   },
   {
    "duration": 329,
    "start_time": "2021-12-09T10:52:46.292Z"
   },
   {
    "duration": 11,
    "start_time": "2021-12-09T10:52:59.602Z"
   },
   {
    "duration": 362,
    "start_time": "2021-12-09T10:53:32.475Z"
   },
   {
    "duration": 11,
    "start_time": "2021-12-09T10:56:01.498Z"
   },
   {
    "duration": 367,
    "start_time": "2021-12-09T10:57:06.470Z"
   },
   {
    "duration": 346,
    "start_time": "2021-12-09T10:57:18.128Z"
   },
   {
    "duration": 354,
    "start_time": "2021-12-09T10:59:30.296Z"
   },
   {
    "duration": 333,
    "start_time": "2021-12-09T10:59:42.014Z"
   },
   {
    "duration": 336,
    "start_time": "2021-12-09T11:17:49.687Z"
   },
   {
    "duration": 445,
    "start_time": "2021-12-09T11:18:00.822Z"
   },
   {
    "duration": 626,
    "start_time": "2021-12-09T11:18:13.674Z"
   },
   {
    "duration": 152,
    "start_time": "2021-12-09T11:19:28.362Z"
   },
   {
    "duration": 125,
    "start_time": "2021-12-09T11:19:40.791Z"
   },
   {
    "duration": 404,
    "start_time": "2021-12-09T11:20:00.556Z"
   },
   {
    "duration": 1999,
    "start_time": "2021-12-09T11:20:09.653Z"
   },
   {
    "duration": 374,
    "start_time": "2021-12-09T11:20:36.559Z"
   },
   {
    "duration": 355,
    "start_time": "2021-12-09T11:20:42.935Z"
   },
   {
    "duration": 641,
    "start_time": "2021-12-09T11:21:06.554Z"
   },
   {
    "duration": 62,
    "start_time": "2021-12-09T11:29:09.418Z"
   },
   {
    "duration": 5,
    "start_time": "2021-12-09T11:29:09.482Z"
   },
   {
    "duration": 8,
    "start_time": "2021-12-09T11:29:09.489Z"
   },
   {
    "duration": 8,
    "start_time": "2021-12-09T11:29:09.499Z"
   },
   {
    "duration": 5,
    "start_time": "2021-12-09T11:29:09.509Z"
   },
   {
    "duration": 6,
    "start_time": "2021-12-09T11:29:09.516Z"
   },
   {
    "duration": 8,
    "start_time": "2021-12-09T11:29:09.524Z"
   },
   {
    "duration": 7,
    "start_time": "2021-12-09T11:29:09.534Z"
   },
   {
    "duration": 4,
    "start_time": "2021-12-09T11:29:09.543Z"
   },
   {
    "duration": 11,
    "start_time": "2021-12-09T11:29:09.556Z"
   },
   {
    "duration": 47,
    "start_time": "2021-12-09T11:29:09.608Z"
   },
   {
    "duration": 7,
    "start_time": "2021-12-09T11:29:09.657Z"
   },
   {
    "duration": 9,
    "start_time": "2021-12-09T11:29:09.667Z"
   },
   {
    "duration": 44,
    "start_time": "2021-12-09T11:29:09.678Z"
   },
   {
    "duration": 7,
    "start_time": "2021-12-09T11:29:09.724Z"
   },
   {
    "duration": 7,
    "start_time": "2021-12-09T11:29:09.733Z"
   },
   {
    "duration": 819,
    "start_time": "2021-12-09T11:29:09.742Z"
   },
   {
    "duration": 4051,
    "start_time": "2021-12-09T11:29:10.563Z"
   },
   {
    "duration": 8,
    "start_time": "2021-12-09T11:29:14.616Z"
   },
   {
    "duration": 124,
    "start_time": "2021-12-09T11:29:14.626Z"
   },
   {
    "duration": -965,
    "start_time": "2021-12-09T11:29:15.718Z"
   },
   {
    "duration": -1028,
    "start_time": "2021-12-09T11:29:15.782Z"
   },
   {
    "duration": -1043,
    "start_time": "2021-12-09T11:29:15.798Z"
   },
   {
    "duration": 69,
    "start_time": "2021-12-09T11:29:31.215Z"
   },
   {
    "duration": 5,
    "start_time": "2021-12-09T11:29:31.286Z"
   },
   {
    "duration": 36,
    "start_time": "2021-12-09T11:29:31.294Z"
   },
   {
    "duration": 16,
    "start_time": "2021-12-09T11:29:31.332Z"
   },
   {
    "duration": 18,
    "start_time": "2021-12-09T11:29:31.350Z"
   },
   {
    "duration": 8,
    "start_time": "2021-12-09T11:29:31.370Z"
   },
   {
    "duration": 16,
    "start_time": "2021-12-09T11:29:31.380Z"
   },
   {
    "duration": 26,
    "start_time": "2021-12-09T11:29:31.399Z"
   },
   {
    "duration": 17,
    "start_time": "2021-12-09T11:29:31.428Z"
   },
   {
    "duration": 37,
    "start_time": "2021-12-09T11:29:31.447Z"
   },
   {
    "duration": 48,
    "start_time": "2021-12-09T11:29:31.486Z"
   },
   {
    "duration": 8,
    "start_time": "2021-12-09T11:29:31.536Z"
   },
   {
    "duration": 7,
    "start_time": "2021-12-09T11:29:31.546Z"
   },
   {
    "duration": 18,
    "start_time": "2021-12-09T11:29:31.555Z"
   },
   {
    "duration": 43,
    "start_time": "2021-12-09T11:29:31.575Z"
   },
   {
    "duration": 10,
    "start_time": "2021-12-09T11:29:31.622Z"
   },
   {
    "duration": 718,
    "start_time": "2021-12-09T11:29:31.635Z"
   },
   {
    "duration": 3882,
    "start_time": "2021-12-09T11:29:32.356Z"
   },
   {
    "duration": 10,
    "start_time": "2021-12-09T11:29:36.240Z"
   },
   {
    "duration": 14,
    "start_time": "2021-12-09T11:29:36.253Z"
   },
   {
    "duration": 42,
    "start_time": "2021-12-09T11:29:36.269Z"
   },
   {
    "duration": 20,
    "start_time": "2021-12-09T11:29:36.312Z"
   },
   {
    "duration": 16,
    "start_time": "2021-12-09T11:31:07.738Z"
   },
   {
    "duration": 366,
    "start_time": "2021-12-09T11:32:37.771Z"
   },
   {
    "duration": 11,
    "start_time": "2021-12-09T11:32:48.533Z"
   },
   {
    "duration": 13,
    "start_time": "2021-12-09T11:33:27.024Z"
   },
   {
    "duration": 111,
    "start_time": "2021-12-09T11:41:07.648Z"
   },
   {
    "duration": 391,
    "start_time": "2021-12-09T11:42:33.581Z"
   },
   {
    "duration": 20,
    "start_time": "2021-12-09T11:42:55.700Z"
   },
   {
    "duration": 17,
    "start_time": "2021-12-09T11:43:23.138Z"
   },
   {
    "duration": 396,
    "start_time": "2021-12-09T12:01:48.249Z"
   },
   {
    "duration": 18,
    "start_time": "2021-12-09T12:03:27.458Z"
   },
   {
    "duration": 576,
    "start_time": "2021-12-09T12:03:30.463Z"
   },
   {
    "duration": 4,
    "start_time": "2021-12-09T12:03:39.051Z"
   },
   {
    "duration": 114,
    "start_time": "2021-12-09T12:11:38.778Z"
   },
   {
    "duration": 16,
    "start_time": "2021-12-09T12:27:21.898Z"
   },
   {
    "duration": 4,
    "start_time": "2021-12-09T12:28:10.322Z"
   },
   {
    "duration": 17,
    "start_time": "2021-12-09T12:28:43.415Z"
   },
   {
    "duration": 15,
    "start_time": "2021-12-09T12:28:57.690Z"
   },
   {
    "duration": 21,
    "start_time": "2021-12-09T12:29:34.309Z"
   },
   {
    "duration": 4,
    "start_time": "2021-12-09T12:29:51.431Z"
   },
   {
    "duration": 3,
    "start_time": "2021-12-09T12:30:09.088Z"
   },
   {
    "duration": 8,
    "start_time": "2021-12-09T12:30:16.149Z"
   },
   {
    "duration": 5,
    "start_time": "2021-12-09T12:30:32.529Z"
   },
   {
    "duration": 17,
    "start_time": "2021-12-09T12:32:15.544Z"
   },
   {
    "duration": 19,
    "start_time": "2021-12-09T12:32:37.454Z"
   },
   {
    "duration": 15,
    "start_time": "2021-12-09T12:32:47.727Z"
   },
   {
    "duration": 355,
    "start_time": "2021-12-09T18:54:01.484Z"
   },
   {
    "duration": 391,
    "start_time": "2021-12-09T18:54:09.669Z"
   },
   {
    "duration": 14,
    "start_time": "2021-12-09T18:54:25.411Z"
   },
   {
    "duration": 8,
    "start_time": "2021-12-09T18:54:41.267Z"
   },
   {
    "duration": 8,
    "start_time": "2021-12-09T18:54:52.780Z"
   },
   {
    "duration": 10,
    "start_time": "2021-12-09T18:54:58.256Z"
   },
   {
    "duration": 6,
    "start_time": "2021-12-09T19:00:48.013Z"
   },
   {
    "duration": 8,
    "start_time": "2021-12-09T19:01:10.352Z"
   },
   {
    "duration": 5,
    "start_time": "2021-12-09T19:01:21.276Z"
   },
   {
    "duration": 343,
    "start_time": "2021-12-09T19:02:59.734Z"
   },
   {
    "duration": 328,
    "start_time": "2021-12-09T19:03:14.199Z"
   },
   {
    "duration": 419,
    "start_time": "2021-12-09T19:05:20.264Z"
   },
   {
    "duration": 7,
    "start_time": "2021-12-09T19:05:35.434Z"
   },
   {
    "duration": 6,
    "start_time": "2021-12-09T19:05:48.344Z"
   },
   {
    "duration": 7,
    "start_time": "2021-12-09T19:05:58.028Z"
   },
   {
    "duration": 7,
    "start_time": "2021-12-09T19:06:09.981Z"
   },
   {
    "duration": 7,
    "start_time": "2021-12-09T19:12:49.266Z"
   },
   {
    "duration": 7,
    "start_time": "2021-12-09T19:12:57.142Z"
   },
   {
    "duration": 6,
    "start_time": "2021-12-09T19:13:20.134Z"
   },
   {
    "duration": 8,
    "start_time": "2021-12-09T19:14:48.601Z"
   },
   {
    "duration": 113,
    "start_time": "2021-12-09T19:15:05.073Z"
   },
   {
    "duration": 9,
    "start_time": "2021-12-09T19:15:08.500Z"
   },
   {
    "duration": 135,
    "start_time": "2021-12-09T19:15:18.345Z"
   },
   {
    "duration": 7,
    "start_time": "2021-12-09T19:15:25.123Z"
   },
   {
    "duration": 351,
    "start_time": "2021-12-09T19:17:22.043Z"
   },
   {
    "duration": 346,
    "start_time": "2021-12-09T19:18:04.143Z"
   },
   {
    "duration": 9,
    "start_time": "2021-12-09T19:18:32.912Z"
   },
   {
    "duration": 337,
    "start_time": "2021-12-09T19:19:30.595Z"
   },
   {
    "duration": 9,
    "start_time": "2021-12-09T19:19:42.638Z"
   },
   {
    "duration": 9,
    "start_time": "2021-12-09T19:20:54.330Z"
   },
   {
    "duration": 9,
    "start_time": "2021-12-09T19:25:18.383Z"
   },
   {
    "duration": 120,
    "start_time": "2021-12-09T19:26:05.314Z"
   },
   {
    "duration": 9653,
    "start_time": "2021-12-09T19:27:04.185Z"
   },
   {
    "duration": 9852,
    "start_time": "2021-12-09T19:27:40.105Z"
   },
   {
    "duration": 8573,
    "start_time": "2021-12-09T19:28:02.814Z"
   },
   {
    "duration": 329,
    "start_time": "2021-12-09T19:29:03.651Z"
   },
   {
    "duration": 11,
    "start_time": "2021-12-09T19:29:15.549Z"
   },
   {
    "duration": 9,
    "start_time": "2021-12-09T20:36:43.381Z"
   },
   {
    "duration": 353,
    "start_time": "2021-12-09T20:38:32.608Z"
   },
   {
    "duration": 359,
    "start_time": "2021-12-09T20:40:08.287Z"
   },
   {
    "duration": 353,
    "start_time": "2021-12-09T20:40:21.434Z"
   },
   {
    "duration": 344,
    "start_time": "2021-12-09T20:40:29.327Z"
   },
   {
    "duration": 18,
    "start_time": "2021-12-09T20:41:13.838Z"
   },
   {
    "duration": 10,
    "start_time": "2021-12-09T20:46:10.577Z"
   },
   {
    "duration": 10,
    "start_time": "2021-12-09T20:48:06.585Z"
   },
   {
    "duration": 18,
    "start_time": "2021-12-10T08:31:41.402Z"
   },
   {
    "duration": 18,
    "start_time": "2021-12-10T08:32:42.659Z"
   },
   {
    "duration": 9,
    "start_time": "2021-12-10T13:43:21.261Z"
   },
   {
    "duration": 28,
    "start_time": "2021-12-10T13:46:13.159Z"
   },
   {
    "duration": 672,
    "start_time": "2021-12-11T08:41:43.932Z"
   },
   {
    "duration": 6,
    "start_time": "2021-12-11T08:41:44.606Z"
   },
   {
    "duration": 9,
    "start_time": "2021-12-11T08:41:44.613Z"
   },
   {
    "duration": 8,
    "start_time": "2021-12-11T08:41:44.624Z"
   },
   {
    "duration": 6,
    "start_time": "2021-12-11T08:41:44.634Z"
   },
   {
    "duration": 5,
    "start_time": "2021-12-11T08:41:44.641Z"
   },
   {
    "duration": 6,
    "start_time": "2021-12-11T08:41:44.664Z"
   },
   {
    "duration": 10,
    "start_time": "2021-12-11T08:41:44.672Z"
   },
   {
    "duration": 10,
    "start_time": "2021-12-11T08:41:44.684Z"
   },
   {
    "duration": 15,
    "start_time": "2021-12-11T08:41:44.696Z"
   },
   {
    "duration": 52,
    "start_time": "2021-12-11T08:41:44.713Z"
   },
   {
    "duration": 5,
    "start_time": "2021-12-11T08:41:44.767Z"
   },
   {
    "duration": 8,
    "start_time": "2021-12-11T08:41:44.773Z"
   },
   {
    "duration": 23,
    "start_time": "2021-12-11T08:41:44.782Z"
   },
   {
    "duration": 6,
    "start_time": "2021-12-11T08:41:44.807Z"
   },
   {
    "duration": 10,
    "start_time": "2021-12-11T08:41:44.814Z"
   },
   {
    "duration": 644,
    "start_time": "2021-12-11T08:41:44.825Z"
   },
   {
    "duration": 3600,
    "start_time": "2021-12-11T08:41:45.470Z"
   },
   {
    "duration": 9,
    "start_time": "2021-12-11T08:41:49.072Z"
   },
   {
    "duration": 11,
    "start_time": "2021-12-11T08:41:49.083Z"
   },
   {
    "duration": 24,
    "start_time": "2021-12-11T08:41:49.096Z"
   },
   {
    "duration": 49,
    "start_time": "2021-12-11T08:41:49.122Z"
   },
   {
    "duration": 8,
    "start_time": "2021-12-11T08:41:49.172Z"
   },
   {
    "duration": 8,
    "start_time": "2021-12-11T08:41:49.181Z"
   },
   {
    "duration": 18,
    "start_time": "2021-12-11T08:41:49.191Z"
   },
   {
    "duration": 4,
    "start_time": "2021-12-11T08:41:49.211Z"
   },
   {
    "duration": 25,
    "start_time": "2021-12-11T08:41:49.219Z"
   },
   {
    "duration": 28,
    "start_time": "2021-12-11T08:41:49.245Z"
   },
   {
    "duration": 59,
    "start_time": "2021-12-11T08:42:49.124Z"
   },
   {
    "duration": 5,
    "start_time": "2021-12-11T08:42:49.185Z"
   },
   {
    "duration": 8,
    "start_time": "2021-12-11T08:42:49.192Z"
   },
   {
    "duration": 5,
    "start_time": "2021-12-11T08:42:49.202Z"
   },
   {
    "duration": 7,
    "start_time": "2021-12-11T08:42:49.208Z"
   },
   {
    "duration": 4,
    "start_time": "2021-12-11T08:42:49.217Z"
   },
   {
    "duration": 8,
    "start_time": "2021-12-11T08:42:49.223Z"
   },
   {
    "duration": 34,
    "start_time": "2021-12-11T08:42:49.234Z"
   },
   {
    "duration": 5,
    "start_time": "2021-12-11T08:42:49.270Z"
   },
   {
    "duration": 14,
    "start_time": "2021-12-11T08:42:49.276Z"
   },
   {
    "duration": 41,
    "start_time": "2021-12-11T08:42:49.292Z"
   },
   {
    "duration": 29,
    "start_time": "2021-12-11T08:42:49.335Z"
   },
   {
    "duration": 8,
    "start_time": "2021-12-11T08:42:49.366Z"
   },
   {
    "duration": 21,
    "start_time": "2021-12-11T08:42:49.375Z"
   },
   {
    "duration": 6,
    "start_time": "2021-12-11T08:42:49.398Z"
   },
   {
    "duration": 7,
    "start_time": "2021-12-11T08:42:49.406Z"
   },
   {
    "duration": 675,
    "start_time": "2021-12-11T08:42:49.415Z"
   },
   {
    "duration": 3428,
    "start_time": "2021-12-11T08:42:50.092Z"
   },
   {
    "duration": 6,
    "start_time": "2021-12-11T08:42:53.522Z"
   },
   {
    "duration": 10,
    "start_time": "2021-12-11T08:42:53.530Z"
   },
   {
    "duration": 39,
    "start_time": "2021-12-11T08:42:53.541Z"
   },
   {
    "duration": 22,
    "start_time": "2021-12-11T08:42:53.582Z"
   },
   {
    "duration": 5,
    "start_time": "2021-12-11T08:42:53.606Z"
   },
   {
    "duration": 10,
    "start_time": "2021-12-11T08:42:53.613Z"
   },
   {
    "duration": 41,
    "start_time": "2021-12-11T08:42:53.625Z"
   },
   {
    "duration": 5,
    "start_time": "2021-12-11T08:42:53.668Z"
   },
   {
    "duration": 18,
    "start_time": "2021-12-11T08:42:53.675Z"
   },
   {
    "duration": 17,
    "start_time": "2021-12-11T08:42:53.695Z"
   },
   {
    "duration": 4,
    "start_time": "2021-12-11T10:24:56.703Z"
   },
   {
    "duration": 64,
    "start_time": "2021-12-11T10:25:19.796Z"
   },
   {
    "duration": 7,
    "start_time": "2021-12-11T10:25:19.862Z"
   },
   {
    "duration": 39,
    "start_time": "2021-12-11T10:25:19.871Z"
   },
   {
    "duration": 5,
    "start_time": "2021-12-11T10:25:19.912Z"
   },
   {
    "duration": 7,
    "start_time": "2021-12-11T10:25:19.918Z"
   },
   {
    "duration": 4,
    "start_time": "2021-12-11T10:25:19.926Z"
   },
   {
    "duration": 7,
    "start_time": "2021-12-11T10:25:19.932Z"
   },
   {
    "duration": 6,
    "start_time": "2021-12-11T10:25:19.942Z"
   },
   {
    "duration": 4,
    "start_time": "2021-12-11T10:25:19.950Z"
   },
   {
    "duration": 60,
    "start_time": "2021-12-11T10:25:19.956Z"
   },
   {
    "duration": 49,
    "start_time": "2021-12-11T10:25:20.018Z"
   },
   {
    "duration": 6,
    "start_time": "2021-12-11T10:25:20.069Z"
   },
   {
    "duration": 7,
    "start_time": "2021-12-11T10:25:20.107Z"
   },
   {
    "duration": 18,
    "start_time": "2021-12-11T10:25:20.115Z"
   },
   {
    "duration": 7,
    "start_time": "2021-12-11T10:25:20.135Z"
   },
   {
    "duration": 7,
    "start_time": "2021-12-11T10:25:20.144Z"
   },
   {
    "duration": 712,
    "start_time": "2021-12-11T10:25:20.153Z"
   },
   {
    "duration": 3855,
    "start_time": "2021-12-11T10:25:20.867Z"
   },
   {
    "duration": 9,
    "start_time": "2021-12-11T10:25:24.724Z"
   },
   {
    "duration": 11,
    "start_time": "2021-12-11T10:25:24.734Z"
   },
   {
    "duration": 4,
    "start_time": "2021-12-11T10:25:24.747Z"
   },
   {
    "duration": 1012,
    "start_time": "2021-12-11T10:25:23.741Z"
   },
   {
    "duration": 1011,
    "start_time": "2021-12-11T10:25:23.743Z"
   },
   {
    "duration": 1010,
    "start_time": "2021-12-11T10:25:23.745Z"
   },
   {
    "duration": 1010,
    "start_time": "2021-12-11T10:25:23.746Z"
   },
   {
    "duration": 1010,
    "start_time": "2021-12-11T10:25:23.748Z"
   },
   {
    "duration": 1008,
    "start_time": "2021-12-11T10:25:23.751Z"
   },
   {
    "duration": 1003,
    "start_time": "2021-12-11T10:25:23.757Z"
   },
   {
    "duration": 779,
    "start_time": "2021-12-11T11:12:26.319Z"
   },
   {
    "duration": 177,
    "start_time": "2021-12-11T11:23:01.104Z"
   },
   {
    "duration": 110,
    "start_time": "2021-12-11T11:23:25.802Z"
   },
   {
    "duration": 107,
    "start_time": "2021-12-11T11:23:34.828Z"
   },
   {
    "duration": 123,
    "start_time": "2021-12-11T11:23:42.550Z"
   },
   {
    "duration": 119,
    "start_time": "2021-12-11T11:24:18.056Z"
   },
   {
    "duration": 111,
    "start_time": "2021-12-11T11:25:38.134Z"
   },
   {
    "duration": 133,
    "start_time": "2021-12-11T11:31:25.031Z"
   },
   {
    "duration": 118,
    "start_time": "2021-12-11T11:31:36.629Z"
   },
   {
    "duration": 12,
    "start_time": "2021-12-11T11:31:55.966Z"
   },
   {
    "duration": 416,
    "start_time": "2021-12-11T11:34:45.658Z"
   },
   {
    "duration": 516,
    "start_time": "2021-12-11T11:35:18.301Z"
   },
   {
    "duration": 1598,
    "start_time": "2021-12-11T11:35:19.215Z"
   },
   {
    "duration": 916,
    "start_time": "2021-12-11T11:35:54.918Z"
   },
   {
    "duration": 108,
    "start_time": "2021-12-11T11:41:39.005Z"
   },
   {
    "duration": 11,
    "start_time": "2021-12-11T11:41:48.828Z"
   },
   {
    "duration": 60,
    "start_time": "2021-12-11T11:42:53.114Z"
   },
   {
    "duration": 6,
    "start_time": "2021-12-11T11:42:53.176Z"
   },
   {
    "duration": 22,
    "start_time": "2021-12-11T11:42:53.185Z"
   },
   {
    "duration": 4,
    "start_time": "2021-12-11T11:42:53.209Z"
   },
   {
    "duration": 7,
    "start_time": "2021-12-11T11:42:53.214Z"
   },
   {
    "duration": 5,
    "start_time": "2021-12-11T11:42:53.223Z"
   },
   {
    "duration": 10,
    "start_time": "2021-12-11T11:42:53.229Z"
   },
   {
    "duration": 11,
    "start_time": "2021-12-11T11:42:53.242Z"
   },
   {
    "duration": 51,
    "start_time": "2021-12-11T11:42:53.256Z"
   },
   {
    "duration": 13,
    "start_time": "2021-12-11T11:42:53.309Z"
   },
   {
    "duration": 14,
    "start_time": "2021-12-11T11:42:53.323Z"
   },
   {
    "duration": 67,
    "start_time": "2021-12-11T11:42:53.339Z"
   },
   {
    "duration": 7,
    "start_time": "2021-12-11T11:42:53.408Z"
   },
   {
    "duration": 9,
    "start_time": "2021-12-11T11:42:53.416Z"
   },
   {
    "duration": 19,
    "start_time": "2021-12-11T11:42:53.427Z"
   },
   {
    "duration": 7,
    "start_time": "2021-12-11T11:42:53.448Z"
   },
   {
    "duration": 49,
    "start_time": "2021-12-11T11:42:53.457Z"
   },
   {
    "duration": 712,
    "start_time": "2021-12-11T11:42:53.508Z"
   },
   {
    "duration": 3754,
    "start_time": "2021-12-11T11:42:54.222Z"
   },
   {
    "duration": 8,
    "start_time": "2021-12-11T11:42:57.977Z"
   },
   {
    "duration": 28,
    "start_time": "2021-12-11T11:42:57.987Z"
   },
   {
    "duration": 6,
    "start_time": "2021-12-11T11:42:58.017Z"
   },
   {
    "duration": -202,
    "start_time": "2021-12-11T11:42:58.227Z"
   },
   {
    "duration": -204,
    "start_time": "2021-12-11T11:42:58.230Z"
   },
   {
    "duration": -204,
    "start_time": "2021-12-11T11:42:58.231Z"
   },
   {
    "duration": -205,
    "start_time": "2021-12-11T11:42:58.233Z"
   },
   {
    "duration": -211,
    "start_time": "2021-12-11T11:42:58.240Z"
   },
   {
    "duration": -212,
    "start_time": "2021-12-11T11:42:58.242Z"
   },
   {
    "duration": -212,
    "start_time": "2021-12-11T11:42:58.243Z"
   },
   {
    "duration": 19,
    "start_time": "2021-12-11T11:45:15.119Z"
   },
   {
    "duration": 12,
    "start_time": "2021-12-11T11:45:26.383Z"
   },
   {
    "duration": 11,
    "start_time": "2021-12-11T12:39:27.290Z"
   },
   {
    "duration": 66,
    "start_time": "2021-12-11T12:39:28.606Z"
   },
   {
    "duration": 7,
    "start_time": "2021-12-11T12:39:28.674Z"
   },
   {
    "duration": 10,
    "start_time": "2021-12-11T12:39:28.708Z"
   },
   {
    "duration": 15,
    "start_time": "2021-12-11T12:39:28.720Z"
   },
   {
    "duration": 8,
    "start_time": "2021-12-11T12:39:28.737Z"
   },
   {
    "duration": 3,
    "start_time": "2021-12-11T12:39:28.747Z"
   },
   {
    "duration": 9,
    "start_time": "2021-12-11T12:39:28.752Z"
   },
   {
    "duration": 49,
    "start_time": "2021-12-11T12:39:28.764Z"
   },
   {
    "duration": 5,
    "start_time": "2021-12-11T12:39:28.816Z"
   },
   {
    "duration": 14,
    "start_time": "2021-12-11T12:39:28.824Z"
   },
   {
    "duration": 10,
    "start_time": "2021-12-11T12:39:28.840Z"
   },
   {
    "duration": 94,
    "start_time": "2021-12-11T12:39:28.852Z"
   },
   {
    "duration": 8,
    "start_time": "2021-12-11T12:39:28.949Z"
   },
   {
    "duration": 9,
    "start_time": "2021-12-11T12:39:28.959Z"
   },
   {
    "duration": 54,
    "start_time": "2021-12-11T12:39:28.970Z"
   },
   {
    "duration": 9,
    "start_time": "2021-12-11T12:39:29.026Z"
   },
   {
    "duration": 8,
    "start_time": "2021-12-11T12:39:29.037Z"
   },
   {
    "duration": 729,
    "start_time": "2021-12-11T12:39:29.048Z"
   },
   {
    "duration": 3814,
    "start_time": "2021-12-11T12:39:29.779Z"
   },
   {
    "duration": 7,
    "start_time": "2021-12-11T12:39:33.607Z"
   },
   {
    "duration": 14,
    "start_time": "2021-12-11T12:39:33.616Z"
   },
   {
    "duration": 5,
    "start_time": "2021-12-11T12:39:33.632Z"
   },
   {
    "duration": -225,
    "start_time": "2021-12-11T12:39:33.864Z"
   },
   {
    "duration": -225,
    "start_time": "2021-12-11T12:39:33.865Z"
   },
   {
    "duration": -230,
    "start_time": "2021-12-11T12:39:33.871Z"
   },
   {
    "duration": -231,
    "start_time": "2021-12-11T12:39:33.873Z"
   },
   {
    "duration": -232,
    "start_time": "2021-12-11T12:39:33.875Z"
   },
   {
    "duration": -232,
    "start_time": "2021-12-11T12:39:33.876Z"
   },
   {
    "duration": -233,
    "start_time": "2021-12-11T12:39:33.878Z"
   },
   {
    "duration": 25,
    "start_time": "2021-12-11T13:00:54.518Z"
   },
   {
    "duration": 26,
    "start_time": "2021-12-11T13:02:15.746Z"
   },
   {
    "duration": 13,
    "start_time": "2021-12-11T13:05:00.010Z"
   },
   {
    "duration": 111,
    "start_time": "2021-12-11T13:11:49.792Z"
   },
   {
    "duration": 63,
    "start_time": "2021-12-11T13:15:21.201Z"
   },
   {
    "duration": 6,
    "start_time": "2021-12-11T13:15:21.265Z"
   },
   {
    "duration": 11,
    "start_time": "2021-12-11T13:15:21.273Z"
   },
   {
    "duration": 24,
    "start_time": "2021-12-11T13:15:21.286Z"
   },
   {
    "duration": 8,
    "start_time": "2021-12-11T13:15:21.312Z"
   },
   {
    "duration": 5,
    "start_time": "2021-12-11T13:15:21.322Z"
   },
   {
    "duration": 13,
    "start_time": "2021-12-11T13:15:21.329Z"
   },
   {
    "duration": 19,
    "start_time": "2021-12-11T13:15:21.344Z"
   },
   {
    "duration": 11,
    "start_time": "2021-12-11T13:15:21.365Z"
   },
   {
    "duration": 37,
    "start_time": "2021-12-11T13:15:21.378Z"
   },
   {
    "duration": 23,
    "start_time": "2021-12-11T13:15:21.417Z"
   },
   {
    "duration": 55,
    "start_time": "2021-12-11T13:15:21.442Z"
   },
   {
    "duration": 11,
    "start_time": "2021-12-11T13:15:21.499Z"
   },
   {
    "duration": 17,
    "start_time": "2021-12-11T13:15:21.511Z"
   },
   {
    "duration": 35,
    "start_time": "2021-12-11T13:15:21.529Z"
   },
   {
    "duration": 16,
    "start_time": "2021-12-11T13:15:21.565Z"
   },
   {
    "duration": 15,
    "start_time": "2021-12-11T13:15:21.583Z"
   },
   {
    "duration": 718,
    "start_time": "2021-12-11T13:15:21.600Z"
   },
   {
    "duration": 3942,
    "start_time": "2021-12-11T13:15:22.321Z"
   },
   {
    "duration": 8,
    "start_time": "2021-12-11T13:15:26.265Z"
   },
   {
    "duration": 36,
    "start_time": "2021-12-11T13:15:26.274Z"
   },
   {
    "duration": 23,
    "start_time": "2021-12-11T13:15:26.312Z"
   },
   {
    "duration": 28,
    "start_time": "2021-12-11T13:15:26.339Z"
   },
   {
    "duration": 5,
    "start_time": "2021-12-11T13:15:26.369Z"
   },
   {
    "duration": 10,
    "start_time": "2021-12-11T13:15:26.375Z"
   },
   {
    "duration": 35,
    "start_time": "2021-12-11T13:15:26.386Z"
   },
   {
    "duration": 5,
    "start_time": "2021-12-11T13:15:26.423Z"
   },
   {
    "duration": 31,
    "start_time": "2021-12-11T13:15:26.429Z"
   },
   {
    "duration": 19,
    "start_time": "2021-12-11T13:15:26.462Z"
   },
   {
    "duration": 378,
    "start_time": "2021-12-11T13:18:31.104Z"
   },
   {
    "duration": 359,
    "start_time": "2021-12-11T13:18:49.216Z"
   },
   {
    "duration": 21,
    "start_time": "2021-12-11T13:19:22.541Z"
   },
   {
    "duration": 20,
    "start_time": "2021-12-11T13:19:46.436Z"
   },
   {
    "duration": 19,
    "start_time": "2021-12-11T13:20:00.279Z"
   },
   {
    "duration": 128,
    "start_time": "2021-12-11T13:23:20.344Z"
   },
   {
    "duration": 5,
    "start_time": "2021-12-11T13:25:33.351Z"
   },
   {
    "duration": 6,
    "start_time": "2021-12-11T13:25:46.511Z"
   },
   {
    "duration": 130,
    "start_time": "2021-12-11T13:35:38.827Z"
   },
   {
    "duration": 369,
    "start_time": "2021-12-11T13:36:49.523Z"
   },
   {
    "duration": 465,
    "start_time": "2021-12-11T13:36:56.525Z"
   },
   {
    "duration": 158,
    "start_time": "2021-12-11T13:37:27.763Z"
   },
   {
    "duration": 16,
    "start_time": "2021-12-11T13:37:34.370Z"
   },
   {
    "duration": 21,
    "start_time": "2021-12-11T13:49:46.898Z"
   },
   {
    "duration": 858,
    "start_time": "2021-12-12T10:29:50.055Z"
   },
   {
    "duration": 11,
    "start_time": "2021-12-12T10:29:50.916Z"
   },
   {
    "duration": 13,
    "start_time": "2021-12-12T10:29:50.931Z"
   },
   {
    "duration": 9,
    "start_time": "2021-12-12T10:29:50.947Z"
   },
   {
    "duration": 9,
    "start_time": "2021-12-12T10:29:50.958Z"
   },
   {
    "duration": 47,
    "start_time": "2021-12-12T10:29:50.970Z"
   },
   {
    "duration": 11,
    "start_time": "2021-12-12T10:29:51.020Z"
   },
   {
    "duration": 19,
    "start_time": "2021-12-12T10:29:51.036Z"
   },
   {
    "duration": 8,
    "start_time": "2021-12-12T10:29:51.058Z"
   },
   {
    "duration": 49,
    "start_time": "2021-12-12T10:29:51.068Z"
   },
   {
    "duration": 22,
    "start_time": "2021-12-12T10:29:51.589Z"
   },
   {
    "duration": 30,
    "start_time": "2021-12-12T10:29:58.252Z"
   },
   {
    "duration": 273,
    "start_time": "2021-12-12T10:54:42.453Z"
   },
   {
    "duration": 224,
    "start_time": "2021-12-12T10:55:32.865Z"
   },
   {
    "duration": 240,
    "start_time": "2021-12-12T10:55:49.297Z"
   },
   {
    "duration": 655,
    "start_time": "2021-12-12T10:56:11.256Z"
   },
   {
    "duration": 6,
    "start_time": "2021-12-12T10:56:11.912Z"
   },
   {
    "duration": 11,
    "start_time": "2021-12-12T10:56:11.920Z"
   },
   {
    "duration": 5,
    "start_time": "2021-12-12T10:56:11.932Z"
   },
   {
    "duration": 6,
    "start_time": "2021-12-12T10:56:11.939Z"
   },
   {
    "duration": 4,
    "start_time": "2021-12-12T10:56:11.946Z"
   },
   {
    "duration": 7,
    "start_time": "2021-12-12T10:56:11.951Z"
   },
   {
    "duration": 28,
    "start_time": "2021-12-12T10:56:11.960Z"
   },
   {
    "duration": 3,
    "start_time": "2021-12-12T10:56:11.990Z"
   },
   {
    "duration": 11,
    "start_time": "2021-12-12T10:56:11.994Z"
   },
   {
    "duration": 6,
    "start_time": "2021-12-12T10:56:12.006Z"
   },
   {
    "duration": 15,
    "start_time": "2021-12-12T10:56:12.014Z"
   },
   {
    "duration": 14,
    "start_time": "2021-12-12T10:56:12.030Z"
   },
   {
    "duration": 44,
    "start_time": "2021-12-12T10:56:12.045Z"
   },
   {
    "duration": 36,
    "start_time": "2021-12-12T10:56:12.091Z"
   },
   {
    "duration": 5,
    "start_time": "2021-12-12T10:56:12.129Z"
   },
   {
    "duration": 8,
    "start_time": "2021-12-12T10:56:12.135Z"
   },
   {
    "duration": 16,
    "start_time": "2021-12-12T10:56:12.145Z"
   },
   {
    "duration": 27,
    "start_time": "2021-12-12T10:56:12.163Z"
   },
   {
    "duration": 7,
    "start_time": "2021-12-12T10:56:12.191Z"
   },
   {
    "duration": 644,
    "start_time": "2021-12-12T10:56:12.199Z"
   },
   {
    "duration": 3318,
    "start_time": "2021-12-12T10:56:12.845Z"
   },
   {
    "duration": 6,
    "start_time": "2021-12-12T10:56:16.166Z"
   },
   {
    "duration": 21,
    "start_time": "2021-12-12T10:56:16.174Z"
   },
   {
    "duration": 11,
    "start_time": "2021-12-12T10:56:16.197Z"
   },
   {
    "duration": 17,
    "start_time": "2021-12-12T10:56:16.210Z"
   },
   {
    "duration": 4,
    "start_time": "2021-12-12T10:56:16.228Z"
   },
   {
    "duration": 7,
    "start_time": "2021-12-12T10:56:16.233Z"
   },
   {
    "duration": 19,
    "start_time": "2021-12-12T10:56:16.242Z"
   },
   {
    "duration": 28,
    "start_time": "2021-12-12T10:56:16.262Z"
   },
   {
    "duration": 18,
    "start_time": "2021-12-12T10:56:16.291Z"
   },
   {
    "duration": 15,
    "start_time": "2021-12-12T10:56:16.310Z"
   },
   {
    "duration": 729,
    "start_time": "2022-07-14T12:36:05.218Z"
   },
   {
    "duration": 5,
    "start_time": "2022-07-14T12:36:05.949Z"
   },
   {
    "duration": 10,
    "start_time": "2022-07-14T12:36:05.956Z"
   },
   {
    "duration": 8,
    "start_time": "2022-07-14T12:36:05.968Z"
   },
   {
    "duration": 8,
    "start_time": "2022-07-14T12:36:05.978Z"
   },
   {
    "duration": 6,
    "start_time": "2022-07-14T12:36:05.987Z"
   },
   {
    "duration": 10,
    "start_time": "2022-07-14T12:36:05.994Z"
   },
   {
    "duration": 15,
    "start_time": "2022-07-14T12:36:06.005Z"
   },
   {
    "duration": 27,
    "start_time": "2022-07-14T12:36:06.022Z"
   },
   {
    "duration": 21,
    "start_time": "2022-07-14T12:36:06.052Z"
   },
   {
    "duration": 7,
    "start_time": "2022-07-14T12:36:06.074Z"
   },
   {
    "duration": 15,
    "start_time": "2022-07-14T12:36:06.083Z"
   },
   {
    "duration": 48,
    "start_time": "2022-07-14T12:36:06.099Z"
   },
   {
    "duration": 13,
    "start_time": "2022-07-14T12:36:06.151Z"
   },
   {
    "duration": 43,
    "start_time": "2022-07-14T12:36:06.165Z"
   },
   {
    "duration": 6,
    "start_time": "2022-07-14T12:36:06.210Z"
   },
   {
    "duration": 30,
    "start_time": "2022-07-14T12:36:06.217Z"
   },
   {
    "duration": 23,
    "start_time": "2022-07-14T12:36:06.248Z"
   },
   {
    "duration": 8,
    "start_time": "2022-07-14T12:36:06.273Z"
   },
   {
    "duration": 12,
    "start_time": "2022-07-14T12:36:06.284Z"
   },
   {
    "duration": 704,
    "start_time": "2022-07-14T12:36:06.298Z"
   },
   {
    "duration": 3449,
    "start_time": "2022-07-14T12:36:07.004Z"
   },
   {
    "duration": 7,
    "start_time": "2022-07-14T12:36:10.455Z"
   },
   {
    "duration": 11,
    "start_time": "2022-07-14T12:36:10.463Z"
   },
   {
    "duration": 17,
    "start_time": "2022-07-14T12:36:10.475Z"
   },
   {
    "duration": 23,
    "start_time": "2022-07-14T12:36:10.493Z"
   },
   {
    "duration": 29,
    "start_time": "2022-07-14T12:36:10.518Z"
   },
   {
    "duration": 10,
    "start_time": "2022-07-14T12:36:10.549Z"
   },
   {
    "duration": 22,
    "start_time": "2022-07-14T12:36:10.561Z"
   },
   {
    "duration": 6,
    "start_time": "2022-07-14T12:36:10.585Z"
   },
   {
    "duration": 20,
    "start_time": "2022-07-14T12:36:10.592Z"
   },
   {
    "duration": 35,
    "start_time": "2022-07-14T12:36:10.614Z"
   },
   {
    "duration": 17,
    "start_time": "2022-07-14T12:50:04.470Z"
   },
   {
    "duration": 82,
    "start_time": "2022-07-14T13:02:39.214Z"
   },
   {
    "duration": 15,
    "start_time": "2022-07-14T13:03:25.077Z"
   },
   {
    "duration": 3238,
    "start_time": "2022-07-14T13:11:40.917Z"
   }
  ],
  "kernelspec": {
   "display_name": "Python 3 (ipykernel)",
   "language": "python",
   "name": "python3"
  },
  "language_info": {
   "codemirror_mode": {
    "name": "ipython",
    "version": 3
   },
   "file_extension": ".py",
   "mimetype": "text/x-python",
   "name": "python",
   "nbconvert_exporter": "python",
   "pygments_lexer": "ipython3",
   "version": "3.9.5"
  },
  "toc": {
   "base_numbering": 1,
   "nav_menu": {},
   "number_sections": true,
   "sideBar": true,
   "skip_h1_title": true,
   "title_cell": "Table of Contents",
   "title_sidebar": "Contents",
   "toc_cell": false,
   "toc_position": {
    "height": "calc(100% - 180px)",
    "left": "10px",
    "top": "150px",
    "width": "292px"
   },
   "toc_section_display": true,
   "toc_window_display": true
  }
 },
 "nbformat": 4,
 "nbformat_minor": 2
}
